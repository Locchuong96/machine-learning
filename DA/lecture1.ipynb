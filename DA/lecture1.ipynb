{
 "cells": [
  {
   "cell_type": "markdown",
   "id": "70831a38-10c7-47d7-99d3-0aea4c03e75e",
   "metadata": {},
   "source": [
    "# TOC\n",
    "- First Steps with Python and Jupyter\n",
    "- How to run the code\n",
    "- Performing Arithmetic Operations using Python\n",
    "- Solving multi-step problems using variables\n",
    "- Evaluating conditions using Python\n",
    "- Combining conditions with logical operators\n",
    "- Adding text styles using Markdown\n",
    "- Save and upload your notebook\n",
    "- Further Reading and References\n",
    "- Questions for Revision\n",
    "- Solution for Exercise"
   ]
  },
  {
   "cell_type": "markdown",
   "id": "37da5205-0346-4c45-8ae6-c6b1e2eeaa32",
   "metadata": {},
   "source": [
    "markdown"
   ]
  },
  {
   "cell_type": "markdown",
   "id": "8edfadf8-cb80-40a5-8587-c8d2aa9c0954",
   "metadata": {},
   "source": [
    "# First Steps with Python and Jupyter \n",
    "\n",
    "![s](https://i.imgur.com/gvSnw4A.png)\n",
    "\n"
   ]
  },
  {
   "cell_type": "markdown",
   "id": "b305269d-285e-468f-a15f-4064d695f539",
   "metadata": {},
   "source": [
    "## Performing Arithmetic Operations using Python\n",
    "\n",
    "Let's begin by using Python as a calculator. You can write and execute Python using a code cell within Jupyter. \n",
    "\n",
    "> **Working with cells**: To create a new cell within Jupyter, you can select \"Insert > Insert Cell Below\" from the menu bar or just press the \"+\" button on the toolbar. You can also use the keyboard shortcut `Esc+B` to create a new cell. Once a cell is created, click on it to select it. You can then change the cell type to code or markdown (text) using the \"Cell > Cell Type\" menu option. You can also use the keyboard shortcuts `Esc+Y` and `Esc+M`. Double-click a cell to edit the content within the cell. To apply your changes and run a cell, use the \"Cell > Run Cells\" menu option or click the \"Run\" button on the toolbar or just use the keyboard shortcut `Shift+Enter`. You can see a full list of keyboard shortcuts using the \"Help > Keyboard Shortcuts\" menu option.\n",
    "\n",
    "Run the code cells below to perform calculations and view their result. Try changing the numbers and run the modified cells again to see updated results. Can you guess what the `//`, `%`, and `**` operators are used for?"
   ]
  },
  {
   "cell_type": "code",
   "execution_count": 4,
   "id": "3cb17888-7767-45de-9c85-34593a0e403c",
   "metadata": {},
   "outputs": [
    {
     "data": {
      "text/plain": [
       "14"
      ]
     },
     "execution_count": 4,
     "metadata": {},
     "output_type": "execute_result"
    }
   ],
   "source": [
    "2+3+9"
   ]
  },
  {
   "cell_type": "code",
   "execution_count": 5,
   "id": "955e2c3e-b7db-4523-bba2-7d5a88a588c9",
   "metadata": {},
   "outputs": [
    {
     "data": {
      "text/plain": [
       "26"
      ]
     },
     "execution_count": 5,
     "metadata": {},
     "output_type": "execute_result"
    }
   ],
   "source": [
    "99-73"
   ]
  },
  {
   "cell_type": "code",
   "execution_count": 6,
   "id": "196da984-77d1-488f-8c38-4cbdab0d5300",
   "metadata": {},
   "outputs": [
    {
     "data": {
      "text/plain": [
       "-33709.28"
      ]
     },
     "execution_count": 6,
     "metadata": {},
     "output_type": "execute_result"
    }
   ],
   "source": [
    "23.54*-1432"
   ]
  },
  {
   "cell_type": "code",
   "execution_count": 7,
   "id": "7b75a7a7-68f5-4f32-a630-f93c0587ad37",
   "metadata": {},
   "outputs": [
    {
     "data": {
      "text/plain": [
       "14.285714285714286"
      ]
     },
     "execution_count": 7,
     "metadata": {},
     "output_type": "execute_result"
    }
   ],
   "source": [
    "100/7"
   ]
  },
  {
   "cell_type": "code",
   "execution_count": 8,
   "id": "7303b1d1-2d03-4fdb-8fcb-f652df7f0889",
   "metadata": {},
   "outputs": [
    {
     "data": {
      "text/plain": [
       "14"
      ]
     },
     "execution_count": 8,
     "metadata": {},
     "output_type": "execute_result"
    }
   ],
   "source": [
    "100//7"
   ]
  },
  {
   "cell_type": "code",
   "execution_count": 9,
   "id": "4022088a-485d-449a-8028-a78ce9fff13c",
   "metadata": {},
   "outputs": [
    {
     "data": {
      "text/plain": [
       "2"
      ]
     },
     "execution_count": 9,
     "metadata": {},
     "output_type": "execute_result"
    }
   ],
   "source": [
    "100%7"
   ]
  },
  {
   "cell_type": "code",
   "execution_count": 10,
   "id": "0b095e8a-49d9-417a-84f5-69967ec1b8b4",
   "metadata": {},
   "outputs": [
    {
     "data": {
      "text/plain": [
       "125"
      ]
     },
     "execution_count": 10,
     "metadata": {},
     "output_type": "execute_result"
    }
   ],
   "source": [
    "5**3"
   ]
  },
  {
   "cell_type": "markdown",
   "id": "2964f1d9-b066-4137-87ce-43aac695c430",
   "metadata": {},
   "source": [
    "As you might expect, operators like `/` and `*` take precedence over other operators like `+` and `-` as per mathematical conventions. You can use parentheses, i.e. `(` and `)`, to specify the order in which operations are performed."
   ]
  },
  {
   "cell_type": "code",
   "execution_count": 12,
   "id": "575403a6-d817-40bd-bcca-decbf2eadbda",
   "metadata": {},
   "outputs": [
    {
     "data": {
      "text/plain": [
       "1.53125"
      ]
     },
     "execution_count": 12,
     "metadata": {},
     "output_type": "execute_result"
    }
   ],
   "source": [
    "((2+5) * (17-3)) / (4**3)"
   ]
  },
  {
   "cell_type": "markdown",
   "id": "dc9b0cd9-01b1-4564-a50e-a1b1deda3b1b",
   "metadata": {},
   "source": [
    "Python supports the following arithmetic operators:\n",
    "\n",
    "| Operator   | Purpose           | Example     | Result    |\n",
    "|------------|-------------------|-------------|-----------|\n",
    "| `+`        | Addition          | `2 + 3`     | `5`       |\n",
    "| `-`        | Subtraction       | `3 - 2`     | `1`       |\n",
    "| `*`        | Multiplication    | `8 * 12`    | `96`      |\n",
    "| `/`        | Division          | `100 / 7`   | `14.28..` |\n",
    "| `//`       | Floor Division    | `100 // 7`  | `14`      |    \n",
    "| `%`        | Modulus/Remainder | `100 % 7`   | `2`       |\n",
    "| `**`       | Exponent          | `5 ** 3`    | `125`     |\n",
    "\n",
    "\n",
    "Try solving some simple problems from this page:\n",
    "https://www.math-only-math.com/worksheet-on-word-problems-on-four-operations.html . \n",
    "\n",
    "You can use the empty cells below and add more cells if required."
   ]
  },
  {
   "cell_type": "code",
   "execution_count": 14,
   "id": "bc85fc6a-3ad9-469a-a710-bcaa85b92929",
   "metadata": {},
   "outputs": [
    {
     "data": {
      "text/plain": [
       "117578"
      ]
     },
     "execution_count": 14,
     "metadata": {},
     "output_type": "execute_result"
    }
   ],
   "source": [
    "population = 198568\n",
    "men = 45312\n",
    "women = 35678\n",
    "children = population - (men + women)\n",
    "children"
   ]
  },
  {
   "cell_type": "code",
   "execution_count": 16,
   "id": "3972d476-21ed-42e8-a7f0-da5757c3c13f",
   "metadata": {},
   "outputs": [
    {
     "data": {
      "text/plain": [
       "58200"
      ]
     },
     "execution_count": 16,
     "metadata": {},
     "output_type": "execute_result"
    }
   ],
   "source": [
    "total_pencils = 2425*24\n",
    "total_pencils"
   ]
  },
  {
   "cell_type": "code",
   "execution_count": 17,
   "id": "cf98349e-d738-42dd-bb16-f00d668e8611",
   "metadata": {},
   "outputs": [
    {
     "data": {
      "text/plain": [
       "4564.0"
      ]
     },
     "execution_count": 17,
     "metadata": {},
     "output_type": "execute_result"
    }
   ],
   "source": [
    "const_of_one = 95844/21\n",
    "const_of_one"
   ]
  },
  {
   "cell_type": "code",
   "execution_count": 21,
   "id": "f357669a-f75c-4280-bf25-6ccfee9970e7",
   "metadata": {},
   "outputs": [
    {
     "data": {
      "text/plain": [
       "294384"
      ]
     },
     "execution_count": 21,
     "metadata": {},
     "output_type": "execute_result"
    }
   ],
   "source": [
    "annual_production = 24532*12\n",
    "annual_production"
   ]
  },
  {
   "cell_type": "code",
   "execution_count": 22,
   "id": "8c959ffc-42c0-4a2a-8600-60ec5dbc772a",
   "metadata": {},
   "outputs": [
    {
     "data": {
      "text/plain": [
       "67546"
      ]
     },
     "execution_count": 22,
     "metadata": {},
     "output_type": "execute_result"
    }
   ],
   "source": [
    "total_bag = 450000\n",
    "bag_of_sugar = 145968\n",
    "bag_of_wheat = 236486\n",
    "bag_of_rice = total_bag - bag_of_sugar - bag_of_wheat\n",
    "bag_of_rice"
   ]
  },
  {
   "cell_type": "code",
   "execution_count": 23,
   "id": "c08d0e7e-9677-41e5-ae0c-6cbb100f754a",
   "metadata": {},
   "outputs": [
    {
     "data": {
      "text/plain": [
       "199188"
      ]
     },
     "execution_count": 23,
     "metadata": {},
     "output_type": "execute_result"
    }
   ],
   "source": [
    "product_3th_week = 483685 - 146345 - 138152\n",
    "product_3th_week"
   ]
  },
  {
   "cell_type": "code",
   "execution_count": 25,
   "id": "676e6cdc-2544-446d-9721-c658daab9e6f",
   "metadata": {},
   "outputs": [
    {
     "data": {
      "text/plain": [
       "1162128"
      ]
     },
     "execution_count": 25,
     "metadata": {},
     "output_type": "execute_result"
    }
   ],
   "source": [
    "total_cost = 124 * 9372\n",
    "total_cost"
   ]
  },
  {
   "cell_type": "code",
   "execution_count": 27,
   "id": "ff1167e2-718b-4faf-bf06-b7f30876b4b7",
   "metadata": {},
   "outputs": [
    {
     "data": {
      "text/plain": [
       "51.0"
      ]
     },
     "execution_count": 27,
     "metadata": {},
     "output_type": "execute_result"
    }
   ],
   "source": [
    "student_each_room = 4386/86\n",
    "student_each_room"
   ]
  },
  {
   "cell_type": "code",
   "execution_count": 29,
   "id": "5c9a41a6-22ea-47a3-902f-882332de0705",
   "metadata": {},
   "outputs": [
    {
     "data": {
      "text/plain": [
       "21.0"
      ]
     },
     "execution_count": 29,
     "metadata": {},
     "output_type": "execute_result"
    }
   ],
   "source": [
    "no_bus = 1575/75\n",
    "no_bus"
   ]
  },
  {
   "cell_type": "code",
   "execution_count": 30,
   "id": "5665d234-4702-4244-a0b3-6404c46f425c",
   "metadata": {},
   "outputs": [
    {
     "data": {
      "text/plain": [
       "134249"
      ]
     },
     "execution_count": 30,
     "metadata": {},
     "output_type": "execute_result"
    }
   ],
   "source": [
    "total_vote = 52496 + 44929 + 36824\n",
    "total_vote"
   ]
  },
  {
   "cell_type": "code",
   "execution_count": 32,
   "id": "2b0e72b1-98ce-4c40-bcd4-a023edc20208",
   "metadata": {},
   "outputs": [
    {
     "data": {
      "text/plain": [
       "(135.0, 13975)"
      ]
     },
     "execution_count": 32,
     "metadata": {},
     "output_type": "execute_result"
    }
   ],
   "source": [
    "cost_each_toy = 12960/96\n",
    "total_amount = 1015 + 12960\n",
    "cost_each_toy,total_amount"
   ]
  },
  {
   "cell_type": "markdown",
   "id": "323f820e-f068-450a-835a-a864d0e7842d",
   "metadata": {},
   "source": [
    "## Solving multi-step problems using variables\n",
    "\n",
    "Let's try solving the following word problem using Python: \n",
    "\n",
    "> A grocery store sells a bag of ice for $1.25 and makes a 20% profit. If it sells 500 bags of ice, how much total profit does it make?\n",
    "\n",
    "We can list out the information provided and gradually convert the word problem into a mathematical expression that can be evaluated using Python. \n",
    "\n",
    "*Cost of ice bag ($)* = 1.25\n",
    "\n",
    "*Profit margin* = 20% = .2\n",
    "\n",
    "*Profit per bag ($)* = profit margin * cost of ice bag = .2 * 1.25\n",
    "\n",
    "*No. of bags* = 500\n",
    "\n",
    "*Total profit* = no. of bags * profit per bag = 500 * (.2 * 1.25)"
   ]
  },
  {
   "cell_type": "code",
   "execution_count": 33,
   "id": "f3d86659-bcd2-4edd-909d-43950a19dc1c",
   "metadata": {},
   "outputs": [
    {
     "data": {
      "text/plain": [
       "125.0"
      ]
     },
     "execution_count": 33,
     "metadata": {},
     "output_type": "execute_result"
    }
   ],
   "source": [
    "500 * (.2 * 1.25)"
   ]
  },
  {
   "cell_type": "markdown",
   "id": "8569d654-5617-430e-bf10-d7779cc3ee43",
   "metadata": {},
   "source": [
    "Thus, the grocery store makes a total profit of $125. While this is a reasonable way to solve a problem, it's not entirely clear by looking at the code cell what the numbers represent. We can give names to each of the numbers by creating Python *variables*.\n",
    "\n",
    "> **Variables**: While working with a programming language such as Python, information is stored in *variables*. You can think of variables as containers for storing data. The data stored within a variable is called its *value*."
   ]
  },
  {
   "cell_type": "code",
   "execution_count": 37,
   "id": "8cc8c1df-efc3-41c1-997f-2ba61a2512ee",
   "metadata": {},
   "outputs": [],
   "source": [
    "cost_of_ice_bag = 1.25\n",
    "profit_margin = .2\n",
    "number_of_bags = 500"
   ]
  },
  {
   "cell_type": "markdown",
   "id": "929a144d-7fb7-41df-9834-0b841dcd6906",
   "metadata": {},
   "source": [
    "The variables `cost_of_ice_bag`, `profit_margin`, and `number_of_bags` now contain the information provided in the word problem. We can check the value of a variable by typing its name into a cell. We can combine variables using arithmetic operations to create other variables.\n",
    "\n",
    "> **Code completion**: While typing the name of an existing variable in a code cell within Jupyter, just type the first few characters and press the `Tab` key to autocomplete the variable's name. Try typing `pro` in a code cell below and press `Tab` to autocomplete to `profit_margin`."
   ]
  },
  {
   "cell_type": "code",
   "execution_count": 38,
   "id": "ab59fdbf-f238-4dc4-b615-fc0a1736786c",
   "metadata": {},
   "outputs": [
    {
     "data": {
      "text/plain": [
       "0.25"
      ]
     },
     "execution_count": 38,
     "metadata": {},
     "output_type": "execute_result"
    }
   ],
   "source": [
    "profit_per_bag = cost_of_ice_bag * profit_margin\n",
    "profit_per_bag"
   ]
  },
  {
   "cell_type": "code",
   "execution_count": 39,
   "id": "0bc47d2c-b428-43d2-80d4-bbdabec7172a",
   "metadata": {},
   "outputs": [
    {
     "data": {
      "text/plain": [
       "125.0"
      ]
     },
     "execution_count": 39,
     "metadata": {},
     "output_type": "execute_result"
    }
   ],
   "source": [
    "total_profit = number_of_bags * profit_per_bag\n",
    "total_profit"
   ]
  },
  {
   "cell_type": "markdown",
   "id": "eca03931-c21f-462d-bf84-8560abd57852",
   "metadata": {},
   "source": [
    "If you try to view the value of a variable that has not been *defined*, i.e., given a value using the assignment statement `variable_name = value`, Python shows an error."
   ]
  },
  {
   "cell_type": "code",
   "execution_count": 40,
   "id": "290a0bcd-3580-4241-a5d9-526582faf19e",
   "metadata": {},
   "outputs": [
    {
     "ename": "NameError",
     "evalue": "name 'net_profit' is not defined",
     "output_type": "error",
     "traceback": [
      "\u001b[1;31m---------------------------------------------------------------------------\u001b[0m",
      "\u001b[1;31mNameError\u001b[0m                                 Traceback (most recent call last)",
      "\u001b[1;32m<ipython-input-40-5eb2b296f798>\u001b[0m in \u001b[0;36m<module>\u001b[1;34m\u001b[0m\n\u001b[1;32m----> 1\u001b[1;33m \u001b[0mnet_profit\u001b[0m\u001b[1;33m\u001b[0m\u001b[1;33m\u001b[0m\u001b[0m\n\u001b[0m",
      "\u001b[1;31mNameError\u001b[0m: name 'net_profit' is not defined"
     ]
    }
   ],
   "source": [
    "net_profit"
   ]
  },
  {
   "cell_type": "markdown",
   "id": "294fe593-af45-46c5-85c0-6ddca9f1089d",
   "metadata": {},
   "source": [
    "Storing and manipulating data using appropriately named variables is a great way to explain what your code does.\n",
    "\n",
    "Let's display the result of the word problem using a friendly message. We can do this using the `print` *function*.\n",
    "\n",
    "> **Functions**: A function is a reusable set of instructions. It takes one or more inputs, performs certain operations, and often returns an output. Python provides many in-built functions like `print` and also allows us to define our own functions."
   ]
  },
  {
   "cell_type": "code",
   "execution_count": 41,
   "id": "e4656a04-6da3-4071-8964-b911d56561b5",
   "metadata": {},
   "outputs": [
    {
     "name": "stdout",
     "output_type": "stream",
     "text": [
      "The grocery store makes a total profit of $ 125.0\n"
     ]
    }
   ],
   "source": [
    "print(\"The grocery store makes a total profit of $\", total_profit)"
   ]
  },
  {
   "cell_type": "code",
   "execution_count": 42,
   "id": "2d7ea6a6-746e-44d1-9108-f396a7a478de",
   "metadata": {},
   "outputs": [
    {
     "name": "stdout",
     "output_type": "stream",
     "text": [
      "The grocery store makes a total profit of $ 125.0\n"
     ]
    }
   ],
   "source": [
    "# stor input data in variables\n",
    "cost_of_ice_bag = 1.25\n",
    "profit_margin = .2\n",
    "number_of_bags = 500\n",
    "\n",
    "# perform the required calcualtions\n",
    "profit_per_bag = cost_of_ice_bag * profit_margin\n",
    "total_profit = number_of_bags * profit_per_bag\n",
    "\n",
    "# display the result\n",
    "print(\"The grocery store makes a total profit of $\", total_profit)"
   ]
  },
  {
   "cell_type": "markdown",
   "id": "1c314092-7c10-417b-abb6-55e4250586e5",
   "metadata": {},
   "source": [
    "Note that we're using the `#` character to add *comments* within our code. \n",
    "\n",
    "> **Comments**: Comments and blank lines are ignored during execution, but they are useful for providing information to humans (including yourself) about what the code does. Comments can be inline (at the end of some code), on a separate line, or even span multiple lines. \n",
    "\n",
    "Inline and single-line comments start with `#`, whereas multi-line comments begin and end with three quotes, i.e. `\"\"\"`. Here are some examples of code comments:"
   ]
  },
  {
   "cell_type": "code",
   "execution_count": 43,
   "id": "88c6724f-285d-4881-ad86-74a659632d9e",
   "metadata": {},
   "outputs": [],
   "source": [
    "my_favorite_number = 1 # an inline comment"
   ]
  },
  {
   "cell_type": "code",
   "execution_count": 44,
   "id": "c2936565-3f0d-4c8a-9ad5-f85ddf4a1e9a",
   "metadata": {},
   "outputs": [],
   "source": [
    "# this comment gets its own line\n",
    "my_least_favorite_number = 3"
   ]
  },
  {
   "cell_type": "code",
   "execution_count": 45,
   "id": "bccaae2e-165c-4c11-aedb-15cef92306fa",
   "metadata": {},
   "outputs": [],
   "source": [
    "'''\n",
    "this is a multi-line comment.\n",
    "Write as little or much as you would like\n",
    "Comments are really helpful for people reading\n",
    "your code, but try to keep them short & to-the-point.\n",
    "Also, if you use good variable names, then your code is\n",
    "often self explantory, and you may not even need comment\n",
    "'''\n",
    "a_neutral_number = 5"
   ]
  },
  {
   "cell_type": "markdown",
   "id": "b031fe63-8283-4f44-bdd0-c80263dd5193",
   "metadata": {},
   "source": [
    "\n",
    "\n",
    "> **EXERCISE**: A travel company wants to fly a plane to the Bahamas. Flying the plane costs 5000 dollars. So far, 29 people have signed up for the trip. If the company charges 200 dollars per ticket, what is the profit made by the company? Create variables for each numeric quantity and use appropriate arithmetic operations."
   ]
  },
  {
   "cell_type": "code",
   "execution_count": 47,
   "id": "5441c6cb-8418-4036-94a2-85c710b717b6",
   "metadata": {},
   "outputs": [
    {
     "name": "stdout",
     "output_type": "stream",
     "text": [
      "the profit made by the company:  800\n"
     ]
    }
   ],
   "source": [
    "total_cost = 5000\n",
    "people_number = 29\n",
    "price_per_ticket = 200\n",
    "\n",
    "total_profit = people_number * price_per_ticket - total_cost\n",
    "\n",
    "print(\"the profit made by the company: \",total_profit)"
   ]
  },
  {
   "cell_type": "markdown",
   "id": "d91b6271-0a75-4e62-8d1d-5ff7cdfb33e7",
   "metadata": {},
   "source": [
    "## Evaluating conditions using Python\n",
    "\n",
    "Apart from arithmetic operations, Python also provides several operations for comparing numbers & variables.\n",
    "\n",
    "| Operator    | Description                                                     |\n",
    "|-------------|-----------------------------------------------------------------|\n",
    "| `==`        | Check if operands are equal                                     |\n",
    "| `!=`        | Check if operands are not equal                                 |\n",
    "| `>`         | Check if left operand is greater than right operand             |\n",
    "| `<`         | Check if left operand is less than right operand                |\n",
    "| `>=`        | Check if left operand is greater than or equal to right operand |\n",
    "| `<=`        | Check if left operand is less than or equal to right operand    |\n",
    "\n",
    "The result of a comparison operation is either `True` or `False` (note the uppercase `T` and `F`). These are special keywords in Python. Let's try out some experiments with comparison operators."
   ]
  },
  {
   "cell_type": "code",
   "execution_count": 49,
   "id": "112093f3-d252-4d54-b753-3dbb0c7d0492",
   "metadata": {},
   "outputs": [],
   "source": [
    "my_favorite_number = 1\n",
    "my_least_favorite_number = 5\n",
    "a_neutral_number = 3"
   ]
  },
  {
   "cell_type": "code",
   "execution_count": 50,
   "id": "252faa01-31df-44c6-89e7-c14306c53f6a",
   "metadata": {},
   "outputs": [
    {
     "data": {
      "text/plain": [
       "True"
      ]
     },
     "execution_count": 50,
     "metadata": {},
     "output_type": "execute_result"
    }
   ],
   "source": [
    "# Equality check - True\n",
    "my_favorite_number == 1"
   ]
  },
  {
   "cell_type": "code",
   "execution_count": 51,
   "id": "398727eb-da7f-47bf-9201-fd105237d1ed",
   "metadata": {},
   "outputs": [
    {
     "data": {
      "text/plain": [
       "False"
      ]
     },
     "execution_count": 51,
     "metadata": {},
     "output_type": "execute_result"
    }
   ],
   "source": [
    "# Equality check - False\n",
    "my_favorite_number == my_least_favorite_number"
   ]
  },
  {
   "cell_type": "code",
   "execution_count": 52,
   "id": "89f99824-29dd-40d0-bf1d-ea35415692e8",
   "metadata": {},
   "outputs": [
    {
     "data": {
      "text/plain": [
       "True"
      ]
     },
     "execution_count": 52,
     "metadata": {},
     "output_type": "execute_result"
    }
   ],
   "source": [
    "# Not equal check-True\n",
    "my_favorite_number != a_neutral_number"
   ]
  },
  {
   "cell_type": "code",
   "execution_count": 53,
   "id": "3bf95803-e4ef-4e61-9665-d12a04a82731",
   "metadata": {},
   "outputs": [
    {
     "data": {
      "text/plain": [
       "False"
      ]
     },
     "execution_count": 53,
     "metadata": {},
     "output_type": "execute_result"
    }
   ],
   "source": [
    "# Not equal check-False\n",
    "a_neutral_number !=3"
   ]
  },
  {
   "cell_type": "code",
   "execution_count": 55,
   "id": "72a68d61-1280-4c73-baca-c723a6a04324",
   "metadata": {},
   "outputs": [
    {
     "data": {
      "text/plain": [
       "True"
      ]
     },
     "execution_count": 55,
     "metadata": {},
     "output_type": "execute_result"
    }
   ],
   "source": [
    "# Greater then check - True\n",
    "my_least_favorite_number > a_neutral_number"
   ]
  },
  {
   "cell_type": "code",
   "execution_count": 56,
   "id": "e8be46b5-26c3-4d29-b89c-73f68e14026c",
   "metadata": {},
   "outputs": [
    {
     "data": {
      "text/plain": [
       "False"
      ]
     },
     "execution_count": 56,
     "metadata": {},
     "output_type": "execute_result"
    }
   ],
   "source": [
    "# Greater than check - False\n",
    "my_favorite_number > my_least_favorite_number"
   ]
  },
  {
   "cell_type": "code",
   "execution_count": 57,
   "id": "8f9861a2-33d3-41b0-a3e8-29ca2d6fd276",
   "metadata": {},
   "outputs": [
    {
     "data": {
      "text/plain": [
       "True"
      ]
     },
     "execution_count": 57,
     "metadata": {},
     "output_type": "execute_result"
    }
   ],
   "source": [
    "# Less than check - True\n",
    "my_favorite_number < 10"
   ]
  },
  {
   "cell_type": "code",
   "execution_count": 58,
   "id": "c80e9b0e-fddf-4ab8-8b9f-66b1a40cb749",
   "metadata": {},
   "outputs": [
    {
     "data": {
      "text/plain": [
       "False"
      ]
     },
     "execution_count": 58,
     "metadata": {},
     "output_type": "execute_result"
    }
   ],
   "source": [
    "# Less than  check -False\n",
    "my_least_favorite_number < my_favorite_number"
   ]
  },
  {
   "cell_type": "code",
   "execution_count": 59,
   "id": "c7c17e39-11aa-4c88-b521-289f35db71cb",
   "metadata": {},
   "outputs": [
    {
     "data": {
      "text/plain": [
       "True"
      ]
     },
     "execution_count": 59,
     "metadata": {},
     "output_type": "execute_result"
    }
   ],
   "source": [
    "# Greater than or equal check - True\n",
    "my_favorite_number >=1"
   ]
  },
  {
   "cell_type": "code",
   "execution_count": 60,
   "id": "adf9e6bc-98f7-488c-ba37-e7a413865514",
   "metadata": {},
   "outputs": [
    {
     "data": {
      "text/plain": [
       "False"
      ]
     },
     "execution_count": 60,
     "metadata": {},
     "output_type": "execute_result"
    }
   ],
   "source": [
    "# Greater than or equal check -False\n",
    "my_favorite_number >=3"
   ]
  },
  {
   "cell_type": "code",
   "execution_count": 63,
   "id": "98280df1-ae16-40f5-8aa0-bd3d4960822f",
   "metadata": {},
   "outputs": [
    {
     "data": {
      "text/plain": [
       "True"
      ]
     },
     "execution_count": 63,
     "metadata": {},
     "output_type": "execute_result"
    }
   ],
   "source": [
    "# Less than or equal check-True\n",
    "3+6 <=9"
   ]
  },
  {
   "cell_type": "code",
   "execution_count": 64,
   "id": "9b35709c-a5fe-4f67-b137-642c9c16b8f2",
   "metadata": {},
   "outputs": [
    {
     "data": {
      "text/plain": [
       "False"
      ]
     },
     "execution_count": 64,
     "metadata": {},
     "output_type": "execute_result"
    }
   ],
   "source": [
    "# Less than or equal check-False\n",
    "my_favorite_number + a_neutral_number <=3"
   ]
  },
  {
   "cell_type": "code",
   "execution_count": 65,
   "id": "36cfd727-53c2-4df0-9be9-65c849fdb278",
   "metadata": {},
   "outputs": [
    {
     "name": "stdout",
     "output_type": "stream",
     "text": [
      "Is the ice bag expensive?  False\n"
     ]
    }
   ],
   "source": [
    "const_of_ice_bag = 1.25\n",
    "is_ice_bag_expensive = const_of_ice_bag >=10\n",
    "print(\"Is the ice bag expensive? \" ,is_ice_bag_expensive)"
   ]
  },
  {
   "cell_type": "markdown",
   "id": "f1bd8d70-e247-4fd8-a2cf-9076c6cb44f2",
   "metadata": {},
   "source": [
    "## Combining conditions with logical operators\n",
    "\n",
    "The logical operators `and`, `or` and `not` operate upon conditions and `True` & `False` values (also known as *booleans*). `and` and `or` operate on two conditions, whereas `not` operates on a single condition.\n",
    "\n",
    "The `and` operator returns `True` when both the conditions evaluate to `True`. Otherwise, it returns `False`.\n",
    "\n",
    "| `a`     | `b`    | `a and b` |\n",
    "|---------|--------|-----------|\n",
    "|  `True` | `True` | `True`    |\n",
    "|  `True` | `False`| `False`   |\n",
    "|  `False`| `True` | `False`   |\n",
    "|  `False`| `False`| `False`   |"
   ]
  },
  {
   "cell_type": "code",
   "execution_count": 66,
   "id": "c3ca9b2b-e577-49e5-bf18-44839f0ab86f",
   "metadata": {},
   "outputs": [
    {
     "data": {
      "text/plain": [
       "1"
      ]
     },
     "execution_count": 66,
     "metadata": {},
     "output_type": "execute_result"
    }
   ],
   "source": [
    "my_favorite_number"
   ]
  },
  {
   "cell_type": "code",
   "execution_count": 69,
   "id": "92145161-02a2-4d88-8f3e-140e84e48828",
   "metadata": {},
   "outputs": [
    {
     "data": {
      "text/plain": [
       "True"
      ]
     },
     "execution_count": 69,
     "metadata": {},
     "output_type": "execute_result"
    }
   ],
   "source": [
    "my_favorite_number >0 and my_favorite_number <= 3"
   ]
  },
  {
   "cell_type": "code",
   "execution_count": 70,
   "id": "bfd5ed62-bdeb-44f4-ae8f-68bfcf91a41a",
   "metadata": {},
   "outputs": [
    {
     "data": {
      "text/plain": [
       "False"
      ]
     },
     "execution_count": 70,
     "metadata": {},
     "output_type": "execute_result"
    }
   ],
   "source": [
    "my_favorite_number < 0 and my_favorite_number <=3"
   ]
  },
  {
   "cell_type": "code",
   "execution_count": 71,
   "id": "45b5ae79-29fa-4e7d-a03f-6aadba18dbb6",
   "metadata": {},
   "outputs": [
    {
     "data": {
      "text/plain": [
       "False"
      ]
     },
     "execution_count": 71,
     "metadata": {},
     "output_type": "execute_result"
    }
   ],
   "source": [
    "my_favorite_number > 0 and my_favorite_number >= 3"
   ]
  },
  {
   "cell_type": "code",
   "execution_count": 72,
   "id": "ef11fca4-109c-4f3b-b6ee-01d7e4e59be4",
   "metadata": {},
   "outputs": [
    {
     "data": {
      "text/plain": [
       "False"
      ]
     },
     "execution_count": 72,
     "metadata": {},
     "output_type": "execute_result"
    }
   ],
   "source": [
    "True and False"
   ]
  },
  {
   "cell_type": "code",
   "execution_count": 73,
   "id": "9222f3f5-20a0-40ac-b557-b55e0df27cba",
   "metadata": {},
   "outputs": [
    {
     "data": {
      "text/plain": [
       "True"
      ]
     },
     "execution_count": 73,
     "metadata": {},
     "output_type": "execute_result"
    }
   ],
   "source": [
    "True and True"
   ]
  },
  {
   "cell_type": "markdown",
   "id": "7bc238b5-fe0e-438e-8b3a-ea5f9641b509",
   "metadata": {},
   "source": [
    "The `or` operator returns `True` if at least one of the conditions evaluates to `True`. It returns `False` only if both conditions are `False`.\n",
    "\n",
    "| `a`     | `b`    | `a or b`  |\n",
    "|---------|--------|-----------|\n",
    "|  `True` | `True` | `True`    |\n",
    "|  `True` | `False`| `True`    |\n",
    "|  `False`| `True` | `True`    |\n",
    "|  `False`| `False`| `False`   |\n",
    "\n",
    "\n"
   ]
  },
  {
   "cell_type": "code",
   "execution_count": 77,
   "id": "b9e62cf3-a8c2-4748-bd80-e95d38ddbe57",
   "metadata": {},
   "outputs": [],
   "source": [
    "a_neutral_number =3"
   ]
  },
  {
   "cell_type": "code",
   "execution_count": 78,
   "id": "cc372c8a-98f9-4365-9f4b-7e575ff83e9b",
   "metadata": {},
   "outputs": [
    {
     "data": {
      "text/plain": [
       "True"
      ]
     },
     "execution_count": 78,
     "metadata": {},
     "output_type": "execute_result"
    }
   ],
   "source": [
    "a_neutral_number ==3 or my_favorite_number < 0"
   ]
  },
  {
   "cell_type": "code",
   "execution_count": 80,
   "id": "73f18ba3-9e9a-4284-9541-ea13455e7a76",
   "metadata": {},
   "outputs": [
    {
     "data": {
      "text/plain": [
       "False"
      ]
     },
     "execution_count": 80,
     "metadata": {},
     "output_type": "execute_result"
    }
   ],
   "source": [
    "a_neutral_number !=3 or my_favorite_number < 0"
   ]
  },
  {
   "cell_type": "code",
   "execution_count": 81,
   "id": "da7a44f0-605b-4662-bc59-4eb2949303cf",
   "metadata": {},
   "outputs": [
    {
     "data": {
      "text/plain": [
       "True"
      ]
     },
     "execution_count": 81,
     "metadata": {},
     "output_type": "execute_result"
    }
   ],
   "source": [
    "my_favorite_number < 0 or True"
   ]
  },
  {
   "cell_type": "markdown",
   "id": "c346a05c-ae62-4404-8cce-82f835cada29",
   "metadata": {},
   "source": [
    "The `not` operator returns `False` if a condition is `True` and `True` if the condition is `False`."
   ]
  },
  {
   "cell_type": "code",
   "execution_count": 82,
   "id": "8db95e26-9115-41cd-8ae3-680793b466ab",
   "metadata": {},
   "outputs": [
    {
     "data": {
      "text/plain": [
       "False"
      ]
     },
     "execution_count": 82,
     "metadata": {},
     "output_type": "execute_result"
    }
   ],
   "source": [
    "not a_neutral_number ==3"
   ]
  },
  {
   "cell_type": "code",
   "execution_count": 83,
   "id": "929ced27-4676-484f-b265-e27a946c1e5d",
   "metadata": {},
   "outputs": [
    {
     "data": {
      "text/plain": [
       "True"
      ]
     },
     "execution_count": 83,
     "metadata": {},
     "output_type": "execute_result"
    }
   ],
   "source": [
    "not my_favorite_number < 0"
   ]
  },
  {
   "cell_type": "code",
   "execution_count": 84,
   "id": "4f810203-b850-442c-bf6e-7e3197d3c28e",
   "metadata": {},
   "outputs": [
    {
     "data": {
      "text/plain": [
       "True"
      ]
     },
     "execution_count": 84,
     "metadata": {},
     "output_type": "execute_result"
    }
   ],
   "source": [
    "not False"
   ]
  },
  {
   "cell_type": "code",
   "execution_count": 85,
   "id": "e35486dc-ced1-464f-bb11-4c4d38d228c3",
   "metadata": {},
   "outputs": [
    {
     "data": {
      "text/plain": [
       "False"
      ]
     },
     "execution_count": 85,
     "metadata": {},
     "output_type": "execute_result"
    }
   ],
   "source": [
    "not True"
   ]
  },
  {
   "cell_type": "markdown",
   "id": "a987e1be-997d-4a72-b4d4-69e384c385ed",
   "metadata": {},
   "source": [
    "Logical operators can be combined to form complex conditions. Use round brackets or parentheses `(` and `)` to indicate the order in which logical operators should be applied."
   ]
  },
  {
   "cell_type": "code",
   "execution_count": 86,
   "id": "2649c280-f680-4cee-ad9a-67878894a98f",
   "metadata": {},
   "outputs": [
    {
     "data": {
      "text/plain": [
       "True"
      ]
     },
     "execution_count": 86,
     "metadata": {},
     "output_type": "execute_result"
    }
   ],
   "source": [
    "(2 > 3 and 4 <= 5) or not (my_favorite_number <0 and True)"
   ]
  },
  {
   "cell_type": "code",
   "execution_count": 87,
   "id": "96955127-88d7-4c9f-9b9a-4035b0cbcc37",
   "metadata": {},
   "outputs": [
    {
     "data": {
      "text/plain": [
       "False"
      ]
     },
     "execution_count": 87,
     "metadata": {},
     "output_type": "execute_result"
    }
   ],
   "source": [
    "not (True and 0 <1) or (False and True)"
   ]
  },
  {
   "cell_type": "markdown",
   "id": "48e28579-c61a-40f4-9555-ecd2cc5a8273",
   "metadata": {},
   "source": [
    "If parentheses are not used, logical operators are applied from left to right."
   ]
  },
  {
   "cell_type": "code",
   "execution_count": 88,
   "id": "c7e343e7-190c-4b84-a9d4-4097b4d2f69d",
   "metadata": {},
   "outputs": [
    {
     "data": {
      "text/plain": [
       "False"
      ]
     },
     "execution_count": 88,
     "metadata": {},
     "output_type": "execute_result"
    }
   ],
   "source": [
    "not True and 0 < 1 or False and True"
   ]
  },
  {
   "cell_type": "markdown",
   "id": "85b985a6-16eb-4bb3-8f2c-c33b64e2a362",
   "metadata": {},
   "source": [
    "Experiment with arithmetic, conditional and logical operators in Python using the interactive nature of Jupyter notebooks. We will learn more about variables and functions in future tutorials.\n",
    "\n",
    "There is also a ternary operator in Python. Learn about it here: https://data-flair.training/blogs/python-ternary-operator/"
   ]
  },
  {
   "cell_type": "markdown",
   "id": "9ef105e9-a599-45fa-892d-6cab6d70e2bc",
   "metadata": {},
   "source": [
    "## Adding text styles using Markdown\n",
    "\n",
    "Adding explanations using text cells (like this one) is a great way to make your notebook informative for other readers. It is also useful if you need to refer back to it in the future. You can double click on a text cell within Jupyter to edit it. In the edit mode, you'll notice that the text looks slightly different (for instance, the heading has a `##` prefix. This text is written using Markdown, a simple way to add styles to your text. Execute this cell to see the output without the special characters. You can switch back and forth between the source and the output to apply a specific style.\n",
    "\n",
    "For instance, you can use one or more `#` characters at the start of a line to create headers of different sizes:\n",
    "\n",
    "# Header 1\n",
    "\n",
    "## Header 2\n",
    "\n",
    "### Header 3\n",
    "\n",
    "#### Header 4\n",
    "\n",
    "To create a bulleted or numbered list, simply start a line with `*` or `1.`.\n",
    "\n",
    "A bulleted list:\n",
    "\n",
    "* Item 1\n",
    "* Item 2\n",
    "* Item 3\n",
    "\n",
    "A numbered list:\n",
    "\n",
    "1. Apple\n",
    "2. Banana\n",
    "3. Pineapple\n",
    "\n",
    "You can make some text bold using `**`, e.g., **some bold text**, or make it italic using `*`, e.g., *some italic text.* You can also create links, e.g., [a link](https://jovian.ai). Images are easily embedded too:\n",
    "\n",
    "![](https://i.imgur.com/3gjZMYK.png)\n",
    "\n",
    "Another really nice feature of Markdown is the ability to include blocks of code. Note that code blocks inside Markdown cells cannot be executed.\n",
    "\n",
    "```\n",
    "# Perform the required calculations\n",
    "profit_per_bag = cost_of_ice_bag * profit_margin\n",
    "total_profit = number_of_bags * profit_per_bag\n",
    "\n",
    "# Display the result\n",
    "print(\"The grocery store makes a total profit of $\", total_profit)\n",
    "\n",
    "```\n",
    "\n",
    "You can learn the full syntax of Markdown here: https://learnxinyminutes.com/docs/markdown/"
   ]
  }
 ],
 "metadata": {
  "kernelspec": {
   "display_name": "Python 3",
   "language": "python",
   "name": "python3"
  },
  "language_info": {
   "codemirror_mode": {
    "name": "ipython",
    "version": 3
   },
   "file_extension": ".py",
   "mimetype": "text/x-python",
   "name": "python",
   "nbconvert_exporter": "python",
   "pygments_lexer": "ipython3",
   "version": "3.8.8"
  }
 },
 "nbformat": 4,
 "nbformat_minor": 5
}
