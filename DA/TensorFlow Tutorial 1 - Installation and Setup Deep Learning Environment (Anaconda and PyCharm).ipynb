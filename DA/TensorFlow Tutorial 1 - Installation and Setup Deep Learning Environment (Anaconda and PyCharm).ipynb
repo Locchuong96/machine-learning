{
 "cells": [
  {
   "cell_type": "markdown",
   "id": "b2b73ebc",
   "metadata": {},
   "source": [
    "[Install Conda](https://www.anaconda.com/products/distribution)\n",
    "\n",
    "[Check GPU Compute Capability (TF needs 3.5 or higher)](https://developer.nvidia.com/cuda-gpus)\n",
    "\n",
    "[Download NVIDIA Drivers](https://www.nvidia.com/Download/index.aspx)"
   ]
  },
  {
   "cell_type": "code",
   "execution_count": 7,
   "id": "030359aa",
   "metadata": {},
   "outputs": [],
   "source": [
    "import tensorflow as tf"
   ]
  },
  {
   "cell_type": "code",
   "execution_count": 8,
   "id": "cce79661",
   "metadata": {},
   "outputs": [
    {
     "data": {
      "text/plain": [
       "'2.6.0'"
      ]
     },
     "execution_count": 8,
     "metadata": {},
     "output_type": "execute_result"
    }
   ],
   "source": [
    "tf.__version__"
   ]
  }
 ],
 "metadata": {
  "kernelspec": {
   "display_name": "Python 3",
   "language": "python",
   "name": "python3"
  },
  "language_info": {
   "codemirror_mode": {
    "name": "ipython",
    "version": 3
   },
   "file_extension": ".py",
   "mimetype": "text/x-python",
   "name": "python",
   "nbconvert_exporter": "python",
   "pygments_lexer": "ipython3",
   "version": "3.8.8"
  }
 },
 "nbformat": 4,
 "nbformat_minor": 5
}
