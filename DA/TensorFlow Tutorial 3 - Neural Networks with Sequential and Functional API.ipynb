{
 "cells": [
  {
   "cell_type": "code",
   "execution_count": 1,
   "id": "c236f7a1",
   "metadata": {},
   "outputs": [
    {
     "data": {
      "text/plain": [
       "'2.6.0'"
      ]
     },
     "execution_count": 1,
     "metadata": {},
     "output_type": "execute_result"
    }
   ],
   "source": [
    "import tensorflow as tf\n",
    "import os\n",
    "os.environ['TF_CPP_MIN_LOG_LEVEL'] = '2' # ignore the GPU warning\n",
    "tf.__version__"
   ]
  },
  {
   "cell_type": "code",
   "execution_count": 2,
   "id": "fdfbfa6c",
   "metadata": {},
   "outputs": [
    {
     "name": "stdout",
     "output_type": "stream",
     "text": [
      "Downloading data from https://storage.googleapis.com/tensorflow/tf-keras-datasets/mnist.npz\n",
      "11493376/11490434 [==============================] - 2s 0us/step\n",
      "11501568/11490434 [==============================] - 2s 0us/step\n",
      "(60000, 28, 28)\n",
      "(60000,)\n"
     ]
    }
   ],
   "source": [
    "(x_train,y_train),(x_test,y_test) = tf.keras.datasets.mnist.load_data()\n",
    "print(x_train.shape)\n",
    "print(y_train.shape)"
   ]
  },
  {
   "cell_type": "code",
   "execution_count": 3,
   "id": "81defc34",
   "metadata": {},
   "outputs": [
    {
     "name": "stdout",
     "output_type": "stream",
     "text": [
      "(10000, 28, 28)\n",
      "(10000,)\n"
     ]
    }
   ],
   "source": [
    "print(x_test.shape)\n",
    "print(y_test.shape)"
   ]
  },
  {
   "cell_type": "code",
   "execution_count": 4,
   "id": "26aefb8c",
   "metadata": {},
   "outputs": [
    {
     "data": {
      "text/plain": [
       "(60000, 784)"
      ]
     },
     "execution_count": 4,
     "metadata": {},
     "output_type": "execute_result"
    }
   ],
   "source": [
    "# reshape x_train to vector\n",
    "x_train = x_train.reshape(-1,28*28)\n",
    "x_train.shape"
   ]
  },
  {
   "cell_type": "code",
   "execution_count": 7,
   "id": "19b7fcd8",
   "metadata": {},
   "outputs": [],
   "source": [
    "# minius the computation\n",
    "x_train = x_train.astype(\"float32\")"
   ]
  },
  {
   "cell_type": "code",
   "execution_count": 9,
   "id": "1250dae9",
   "metadata": {},
   "outputs": [],
   "source": [
    "# normalize\n",
    "x_train = x_train/255.0"
   ]
  },
  {
   "cell_type": "code",
   "execution_count": 11,
   "id": "8e88decd",
   "metadata": {},
   "outputs": [],
   "source": [
    "# do the same for x test\n",
    "x_test = x_test.reshape(-1,28*28).astype(\"float32\") / 255.0"
   ]
  },
  {
   "cell_type": "code",
   "execution_count": null,
   "id": "d5bfff01",
   "metadata": {},
   "outputs": [],
   "source": [
    "# tensorflow convert dataset automaticly to tensor\n",
    "# x_train = tf.convert_to_tensor(x_train)\n",
    "# x_test = tf.convert_to_tensor(x_test)"
   ]
  },
  {
   "cell_type": "code",
   "execution_count": 13,
   "id": "203a9203",
   "metadata": {},
   "outputs": [],
   "source": [
    "# Sequential API (very convenient, not very flexible, 1-1, not 1-many)\n",
    "model = tf.keras.Sequential([\n",
    "    tf.keras.layers.Dense(512,activation='relu'),\n",
    "    tf.keras.layers.Dense(256,activation='relu'),\n",
    "    tf.keras.layers.Dense(10), # no need activation for the output layers\n",
    "])"
   ]
  },
  {
   "cell_type": "code",
   "execution_count": 17,
   "id": "50504f68",
   "metadata": {},
   "outputs": [],
   "source": [
    "# from_logit = True as softmax activation\n",
    "# if you dont use SparseCategorialCrossentrophy you need one-hot endcoding\n",
    "model.compile(loss= tf.keras.losses.SparseCategoricalCrossentropy(from_logits= True),\n",
    "              optimizer = tf.keras.optimizers.Adam(lr=0.001),\n",
    "              metrics=[\"accuracy\"],\n",
    "             )"
   ]
  },
  {
   "cell_type": "code",
   "execution_count": 19,
   "id": "92003ce1",
   "metadata": {},
   "outputs": [
    {
     "name": "stdout",
     "output_type": "stream",
     "text": [
      "Epoch 1/5\n",
      "1875/1875 - 16s - loss: 0.1843 - accuracy: 0.9429\n",
      "Epoch 2/5\n",
      "1875/1875 - 12s - loss: 0.0799 - accuracy: 0.9747\n",
      "Epoch 3/5\n",
      "1875/1875 - 11s - loss: 0.0542 - accuracy: 0.9826\n",
      "Epoch 4/5\n",
      "1875/1875 - 13s - loss: 0.0392 - accuracy: 0.9875\n",
      "Epoch 5/5\n",
      "1875/1875 - 12s - loss: 0.0332 - accuracy: 0.9892\n"
     ]
    },
    {
     "data": {
      "text/plain": [
       "<keras.callbacks.History at 0x3f707d90>"
      ]
     },
     "execution_count": 19,
     "metadata": {},
     "output_type": "execute_result"
    }
   ],
   "source": [
    "model.fit(x_train,y_train,batch_size=32,epochs= 5,verbose=2)"
   ]
  },
  {
   "cell_type": "code",
   "execution_count": 20,
   "id": "c67b5e8d",
   "metadata": {},
   "outputs": [
    {
     "name": "stdout",
     "output_type": "stream",
     "text": [
      "313/313 - 1s - loss: 0.0725 - accuracy: 0.9799\n"
     ]
    },
    {
     "data": {
      "text/plain": [
       "[0.07251319289207458, 0.9799000024795532]"
      ]
     },
     "execution_count": 20,
     "metadata": {},
     "output_type": "execute_result"
    }
   ],
   "source": [
    "model.evaluate(x_test,y_test,batch_size=32,verbose=2)"
   ]
  },
  {
   "cell_type": "code",
   "execution_count": 21,
   "id": "ec07e2e1",
   "metadata": {},
   "outputs": [
    {
     "name": "stdout",
     "output_type": "stream",
     "text": [
      "Model: \"sequential_1\"\n",
      "_________________________________________________________________\n",
      "Layer (type)                 Output Shape              Param #   \n",
      "=================================================================\n",
      "dense (Dense)                (None, 512)               401920    \n",
      "_________________________________________________________________\n",
      "dense_1 (Dense)              (None, 256)               131328    \n",
      "_________________________________________________________________\n",
      "dense_2 (Dense)              (None, 10)                2570      \n",
      "=================================================================\n",
      "Total params: 535,818\n",
      "Trainable params: 535,818\n",
      "Non-trainable params: 0\n",
      "_________________________________________________________________\n"
     ]
    }
   ],
   "source": [
    "model1 = tf.keras.Sequential([\n",
    "    tf.keras.layers.Input(shape=(28*28)),\n",
    "    tf.keras.layers.Dense(512,activation='relu'),\n",
    "    tf.keras.layers.Dense(256,activation='relu'),\n",
    "    tf.keras.layers.Dense(10), # no need activation for the output layers\n",
    "])\n",
    "\n",
    "model.summary()"
   ]
  },
  {
   "cell_type": "code",
   "execution_count": 22,
   "id": "498bca70",
   "metadata": {},
   "outputs": [
    {
     "name": "stdout",
     "output_type": "stream",
     "text": [
      "Model: \"sequential_3\"\n",
      "_________________________________________________________________\n",
      "Layer (type)                 Output Shape              Param #   \n",
      "=================================================================\n",
      "dense_6 (Dense)              (None, 512)               401920    \n",
      "_________________________________________________________________\n",
      "dense_7 (Dense)              (None, 256)               131328    \n",
      "_________________________________________________________________\n",
      "dense_8 (Dense)              (None, 10)                2570      \n",
      "=================================================================\n",
      "Total params: 535,818\n",
      "Trainable params: 535,818\n",
      "Non-trainable params: 0\n",
      "_________________________________________________________________\n"
     ]
    }
   ],
   "source": [
    "model2 = tf.keras.Sequential()\n",
    "model2.add(tf.keras.layers.Input(shape=(28*28)))\n",
    "model2.add(tf.keras.layers.Dense(512,activation='relu'))\n",
    "model2.add(tf.keras.layers.Dense(256,activation='relu'))\n",
    "model2.add(tf.keras.layers.Dense(10))\n",
    "\n",
    "model2.summary()"
   ]
  },
  {
   "cell_type": "markdown",
   "id": "cfc6649c",
   "metadata": {},
   "source": [
    "## Functional API"
   ]
  },
  {
   "cell_type": "code",
   "execution_count": 23,
   "id": "bd3529ca",
   "metadata": {},
   "outputs": [
    {
     "name": "stdout",
     "output_type": "stream",
     "text": [
      "Model: \"model\"\n",
      "_________________________________________________________________\n",
      "Layer (type)                 Output Shape              Param #   \n",
      "=================================================================\n",
      "input_3 (InputLayer)         [(None, 784)]             0         \n",
      "_________________________________________________________________\n",
      "dense_9 (Dense)              (None, 512)               401920    \n",
      "_________________________________________________________________\n",
      "dense_10 (Dense)             (None, 256)               131328    \n",
      "_________________________________________________________________\n",
      "dense_11 (Dense)             (None, 10)                2570      \n",
      "=================================================================\n",
      "Total params: 535,818\n",
      "Trainable params: 535,818\n",
      "Non-trainable params: 0\n",
      "_________________________________________________________________\n"
     ]
    }
   ],
   "source": [
    "inputs = tf.keras.Input(shape=(784))\n",
    "x= tf.keras.layers.Dense(512,activation='relu')(inputs)\n",
    "x= tf.keras.layers.Dense(256,activation='relu')(x)\n",
    "outputs= tf.keras.layers.Dense(10,activation='softmax')(x)\n",
    "\n",
    "model4 = tf.keras.Model(inputs=inputs,outputs= outputs)\n",
    "model4.summary()"
   ]
  },
  {
   "cell_type": "code",
   "execution_count": 24,
   "id": "59b11fdd",
   "metadata": {},
   "outputs": [],
   "source": [
    "model4.compile(loss= tf.keras.losses.SparseCategoricalCrossentropy(from_logits= False),\n",
    "              optimizer = tf.keras.optimizers.Adam(lr=0.001),\n",
    "              metrics=[\"accuracy\"],\n",
    "             )"
   ]
  },
  {
   "cell_type": "code",
   "execution_count": 25,
   "id": "73a328ff",
   "metadata": {},
   "outputs": [
    {
     "name": "stdout",
     "output_type": "stream",
     "text": [
      "Epoch 1/5\n",
      "1875/1875 - 12s - loss: 0.1850 - accuracy: 0.9440\n",
      "Epoch 2/5\n",
      "1875/1875 - 15s - loss: 0.0782 - accuracy: 0.9752\n",
      "Epoch 3/5\n",
      "1875/1875 - 18s - loss: 0.0549 - accuracy: 0.9830\n",
      "Epoch 4/5\n",
      "1875/1875 - 15s - loss: 0.0405 - accuracy: 0.9874\n",
      "Epoch 5/5\n",
      "1875/1875 - 14s - loss: 0.0329 - accuracy: 0.9893\n"
     ]
    },
    {
     "data": {
      "text/plain": [
       "<keras.callbacks.History at 0x3f788dc0>"
      ]
     },
     "execution_count": 25,
     "metadata": {},
     "output_type": "execute_result"
    }
   ],
   "source": [
    "model4.fit(x_train,y_train,batch_size=32,epochs= 5,verbose=2)"
   ]
  },
  {
   "cell_type": "code",
   "execution_count": 26,
   "id": "e1a5467b",
   "metadata": {},
   "outputs": [
    {
     "name": "stdout",
     "output_type": "stream",
     "text": [
      "313/313 - 1s - loss: 0.0762 - accuracy: 0.9795\n"
     ]
    },
    {
     "data": {
      "text/plain": [
       "[0.07623835653066635, 0.9794999957084656]"
      ]
     },
     "execution_count": 26,
     "metadata": {},
     "output_type": "execute_result"
    }
   ],
   "source": [
    "model4.evaluate(x_test,y_test,batch_size=32,verbose=2)"
   ]
  },
  {
   "cell_type": "code",
   "execution_count": 28,
   "id": "c54cd653",
   "metadata": {},
   "outputs": [
    {
     "name": "stdout",
     "output_type": "stream",
     "text": [
      "Model: \"model_1\"\n",
      "_________________________________________________________________\n",
      "Layer (type)                 Output Shape              Param #   \n",
      "=================================================================\n",
      "Input_layer (InputLayer)     [(None, 784)]             0         \n",
      "_________________________________________________________________\n",
      "1th_Dense_layer (Dense)      (None, 512)               401920    \n",
      "_________________________________________________________________\n",
      "2nd_Dense_layer (Dense)      (None, 256)               131328    \n",
      "_________________________________________________________________\n",
      "Output_layer (Dense)         (None, 10)                2570      \n",
      "=================================================================\n",
      "Total params: 535,818\n",
      "Trainable params: 535,818\n",
      "Non-trainable params: 0\n",
      "_________________________________________________________________\n"
     ]
    }
   ],
   "source": [
    "# name your layers\n",
    "inputs = tf.keras.Input(shape=(784),name='Input_layer')\n",
    "x= tf.keras.layers.Dense(512,activation='relu',name='1th_Dense_layer')(inputs)\n",
    "x= tf.keras.layers.Dense(256,activation='relu',name='2nd_Dense_layer')(x)\n",
    "outputs= tf.keras.layers.Dense(10,activation='softmax',name='Output_layer')(x)\n",
    "\n",
    "model5 = tf.keras.Model(inputs=inputs,outputs= outputs)\n",
    "model5.summary()"
   ]
  },
  {
   "cell_type": "markdown",
   "id": "b1ecac17",
   "metadata": {},
   "source": [
    "## Extracting specific layer"
   ]
  },
  {
   "cell_type": "code",
   "execution_count": 32,
   "id": "3fb419a6",
   "metadata": {},
   "outputs": [
    {
     "name": "stdout",
     "output_type": "stream",
     "text": [
      "(60000, 10)\n"
     ]
    }
   ],
   "source": [
    "model4 = tf.keras.Model(inputs = model4.inputs,\n",
    "                       outputs= [model4.layers[-2].output]) # -1 the last, -2\n",
    "features = model.predict(x_train)\n",
    "print(features.shape)"
   ]
  },
  {
   "cell_type": "code",
   "execution_count": 36,
   "id": "1a3c001a",
   "metadata": {},
   "outputs": [],
   "source": [
    "# get output layer by name\n",
    "model6 = tf.keras.Model(inputs = model5.inputs,\n",
    "                       outputs= [model5.get_layer('Output_layer').output]) # -1 the last, -2"
   ]
  },
  {
   "cell_type": "code",
   "execution_count": 39,
   "id": "6819320d",
   "metadata": {},
   "outputs": [],
   "source": [
    "# get all features from each layer\n",
    "model7 = tf.keras.Model(inputs = model5.inputs,\n",
    "                       outputs= [layer.output for layer in model5.layers]) # -1 the last, -2\n",
    "features = model.predict(x_train)"
   ]
  },
  {
   "cell_type": "code",
   "execution_count": 41,
   "id": "db51f0b1",
   "metadata": {},
   "outputs": [],
   "source": [
    "for feature in features:\n",
    "    print(feature.shape)"
   ]
  }
 ],
 "metadata": {
  "kernelspec": {
   "display_name": "Python 3",
   "language": "python",
   "name": "python3"
  },
  "language_info": {
   "codemirror_mode": {
    "name": "ipython",
    "version": 3
   },
   "file_extension": ".py",
   "mimetype": "text/x-python",
   "name": "python",
   "nbconvert_exporter": "python",
   "pygments_lexer": "ipython3",
   "version": "3.8.8"
  }
 },
 "nbformat": 4,
 "nbformat_minor": 5
}
