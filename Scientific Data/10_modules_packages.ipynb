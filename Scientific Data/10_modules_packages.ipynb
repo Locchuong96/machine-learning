{
 "cells": [
  {
   "cell_type": "markdown",
   "metadata": {},
   "source": [
    "# Modules & Packages\n",
    "\n",
    "*Instructor: Tue Nguyen*"
   ]
  },
  {
   "cell_type": "markdown",
   "metadata": {},
   "source": [
    "## 1. Modules"
   ]
  },
  {
   "cell_type": "markdown",
   "metadata": {},
   "source": [
    "### 1.1. Tại sao dùng module?\n",
    "- Chương trình lớn nên được tách ra thành những phần nhỏ hơn (modules) để dễ quản lý, debug, và maintain *(divide & conquer)*\n",
    "- Nhiều hàm tiện ích có thể dùng đi dùng lại cho nhiều chương trình khác nhau nên được đóng thành một module khi nào cần thì có thể \"import\" để dùng mà không cần copy/paste code *(code reuse)*"
   ]
  },
  {
   "cell_type": "markdown",
   "metadata": {},
   "source": [
    "### 1.2. Tổng quan\n",
    "- Bất kỳ file `.py` hợp lệ nào đều là một Python module.\n",
    "- Tên module là tên file `.py`. VD: `weather.py` thì tên module là `weather`.\n",
    "- Tên module phải tuân theo quy tắc đặt tên biến (chỉ chứa chữ cái, chữ số, `_` và không được bắt đầu bởi chữ số).\n",
    "- Thường module là một collectuon chứa định nghĩa các biến và hàm liên quan đến một tác vụ nào đó.\n",
    "- Module có thể import các module khác."
   ]
  },
  {
   "cell_type": "markdown",
   "metadata": {},
   "source": [
    "### 1.3. Phân loại\n",
    "- Standard Library (built-in): các modules có sẵn khi cài Python. VD: `os, math, random, statistics, ...`\n",
    "- Community: các modules được cộng đồng phát triển. VD: `pandas, numpy, sklearn, ...`\n",
    "- User-define: các modules do lập trình viên tự viết."
   ]
  },
  {
   "cell_type": "markdown",
   "metadata": {},
   "source": [
    "### 1.4. Import built-in và community modules"
   ]
  },
  {
   "cell_type": "markdown",
   "metadata": {},
   "source": [
    "#### Cách 1: import dùng tên module"
   ]
  },
  {
   "cell_type": "code",
   "execution_count": null,
   "metadata": {},
   "outputs": [],
   "source": [
    "import math"
   ]
  },
  {
   "cell_type": "markdown",
   "metadata": {},
   "source": [
    "#### Cách 2: Import module dưới một tên khác"
   ]
  },
  {
   "cell_type": "code",
   "execution_count": null,
   "metadata": {},
   "outputs": [],
   "source": [
    "import numpy as np\n",
    "import pandas as pd"
   ]
  },
  {
   "cell_type": "code",
   "execution_count": null,
   "metadata": {},
   "outputs": [],
   "source": [
    "a = np.array([1, 2, 3, 4])"
   ]
  },
  {
   "cell_type": "code",
   "execution_count": null,
   "metadata": {},
   "outputs": [],
   "source": [
    "np.sqrt(a)"
   ]
  },
  {
   "cell_type": "code",
   "execution_count": null,
   "metadata": {},
   "outputs": [],
   "source": [
    "# Import\n",
    "import numpy as np\n",
    "\n",
    "# Sử dụng\n",
    "a = np.array([1, 2, 5])\n",
    "print(a ** 2)\n",
    "print(np.sqrt(a))\n",
    "\n",
    "# Lưu ý: \n",
    "# Import bằng cách này thì tên numpy không khả dụng \n",
    "# Vì vậy không thể gọi numpy.array hay numpy.sqrt"
   ]
  },
  {
   "cell_type": "markdown",
   "metadata": {},
   "source": [
    "#### Cách 3 (không khuyến khích): import cụ thể biến, hàm trong module\n",
    "- Tăng rủi ro name clashing\n",
    "- Ambigous"
   ]
  },
  {
   "cell_type": "code",
   "execution_count": null,
   "metadata": {},
   "outputs": [],
   "source": [
    "a = array([-1, 2, 3])"
   ]
  },
  {
   "cell_type": "code",
   "execution_count": null,
   "metadata": {},
   "outputs": [],
   "source": [
    "np.abs(a)"
   ]
  },
  {
   "cell_type": "code",
   "execution_count": null,
   "metadata": {},
   "outputs": [],
   "source": [
    "from numpy import array, sqrt, abs"
   ]
  },
  {
   "cell_type": "code",
   "execution_count": null,
   "metadata": {},
   "outputs": [],
   "source": [
    "np.abs"
   ]
  },
  {
   "cell_type": "code",
   "execution_count": null,
   "metadata": {},
   "outputs": [],
   "source": [
    "a = array([1, 2, 3])\n",
    "sqrt(a)"
   ]
  },
  {
   "cell_type": "code",
   "execution_count": null,
   "metadata": {},
   "outputs": [],
   "source": [
    "# Import\n",
    "from numpy import array, sqrt, abs\n",
    "\n",
    "a = array([1, 2, -5])\n",
    "b = abs(a)\n",
    "\n",
    "print(a)\n",
    "print(b)\n",
    "print(sqrt(b))"
   ]
  },
  {
   "cell_type": "markdown",
   "metadata": {},
   "source": [
    "#### Không khuyến khích cách này vì:\n",
    "- Không tường minh\n",
    "    - Người dùng khó keep track được các tên như array, sqrt, abs từ đâu ra\n",
    "    - Nếu dùng dùng np.array, np.sqrt người dùng biết ngay là từ module numpy.\n",
    "\n",
    "- Tăng nguy cơ đụng độ tên (name collision)\n",
    "    - Trong VD trên, tên abs của gói numpy trùng với hàm abs có sẵn của Python. Hoặc trong trường hợp khác, numpy và math đều có hàm tên sqrt.\n",
    "    - Mặc dù Python có thể tự resolve trong một số trường hợp dựa vào context, nhưng có những trường hợp không thể.\n",
    "    - Ngoài ra, điều này cũng làm tăng nguy cơ người dùng sử dụng nhầm."
   ]
  },
  {
   "cell_type": "code",
   "execution_count": null,
   "metadata": {},
   "outputs": [],
   "source": [
    "- Dua vao kinh nghiem\n",
    "- Tu hoc (tu explore) # documentation, help"
   ]
  },
  {
   "cell_type": "markdown",
   "metadata": {},
   "source": [
    "#### Cách 4 (càng không khuyến khích): Import tất cả các tên trong module"
   ]
  },
  {
   "cell_type": "code",
   "execution_count": null,
   "metadata": {},
   "outputs": [],
   "source": [
    "from math import * # Pollute namespace"
   ]
  },
  {
   "cell_type": "code",
   "execution_count": null,
   "metadata": {},
   "outputs": [],
   "source": [
    "# Import\n",
    "from math import *\n",
    "\n",
    "# Sử dụng\n",
    "print(sin(0))\n",
    "print(cos(0))"
   ]
  },
  {
   "cell_type": "code",
   "execution_count": null,
   "metadata": {},
   "outputs": [],
   "source": [
    "import math\n",
    "import math as m\n",
    "\n",
    "from math import sin, cos\n",
    "from math import *"
   ]
  },
  {
   "cell_type": "code",
   "execution_count": null,
   "metadata": {},
   "outputs": [],
   "source": [
    "# Builtin\n",
    "# Community "
   ]
  },
  {
   "cell_type": "code",
   "execution_count": null,
   "metadata": {},
   "outputs": [],
   "source": []
  },
  {
   "cell_type": "code",
   "execution_count": null,
   "metadata": {},
   "outputs": [],
   "source": []
  },
  {
   "cell_type": "code",
   "execution_count": null,
   "metadata": {},
   "outputs": [],
   "source": []
  },
  {
   "cell_type": "markdown",
   "metadata": {},
   "source": [
    "### 1.5. Import user-defined modules\n",
    "- Hoàn toàn tương tự như 1.4\n",
    "- Tên module là tên file `.py` (không kèm đuôi `.py`)\n",
    "- Trước khi import phải insert đường dẫn đến thư mục chứa module vào search path (dùng `sys.path.insert`)"
   ]
  },
  {
   "cell_type": "code",
   "execution_count": 1,
   "metadata": {},
   "outputs": [],
   "source": [
    "import math # \n",
    "# 1. look up thu muc hien tai test_module.py\n",
    "# 2. standard library + community\n",
    "# 3. Error"
   ]
  },
  {
   "cell_type": "code",
   "execution_count": 5,
   "metadata": {},
   "outputs": [],
   "source": [
    "import sys"
   ]
  },
  {
   "cell_type": "code",
   "execution_count": 10,
   "metadata": {},
   "outputs": [],
   "source": [
    "sys.path.insert(0, \"D:/projects/nordic/01_python_course\")"
   ]
  },
  {
   "cell_type": "code",
   "execution_count": 16,
   "metadata": {},
   "outputs": [],
   "source": [
    "import hello as h"
   ]
  },
  {
   "cell_type": "code",
   "execution_count": 19,
   "metadata": {},
   "outputs": [],
   "source": [
    "from hello import greetings"
   ]
  },
  {
   "cell_type": "code",
   "execution_count": 20,
   "metadata": {},
   "outputs": [
    {
     "data": {
      "text/plain": [
       "'Hello user!'"
      ]
     },
     "execution_count": 20,
     "metadata": {},
     "output_type": "execute_result"
    }
   ],
   "source": [
    "greetings"
   ]
  },
  {
   "cell_type": "code",
   "execution_count": 15,
   "metadata": {},
   "outputs": [
    {
     "name": "stdout",
     "output_type": "stream",
     "text": [
      "Hi John\n"
     ]
    }
   ],
   "source": [
    "hello.say_hi(\"John\")"
   ]
  },
  {
   "cell_type": "code",
   "execution_count": null,
   "metadata": {},
   "outputs": [],
   "source": [
    "math.pi"
   ]
  },
  {
   "cell_type": "code",
   "execution_count": null,
   "metadata": {},
   "outputs": [],
   "source": [
    "# Tạo một file hello.py với nội dung như sau\n",
    "# File hello.py nằm trong thư mục: D:/projects/nordic/01_python_course\n",
    "greetings = \"Hello user!\"\n",
    "\n",
    "def say_hi(name):\n",
    "    print(\"Hi {}\".format(name))"
   ]
  },
  {
   "cell_type": "markdown",
   "metadata": {},
   "source": [
    "Để import module `hello`, trước hết phải chèn đường dẫn đến thư mục vào search path"
   ]
  },
  {
   "cell_type": "code",
   "execution_count": null,
   "metadata": {},
   "outputs": [],
   "source": [
    "import sys\n",
    "sys.path.insert(0, \"D:/projects/nordic/01_python_course\")"
   ]
  },
  {
   "cell_type": "code",
   "execution_count": null,
   "metadata": {},
   "outputs": [],
   "source": [
    "# Import (1)\n",
    "import hello"
   ]
  },
  {
   "cell_type": "code",
   "execution_count": null,
   "metadata": {},
   "outputs": [],
   "source": [
    "# Sử dụng\n",
    "print(hello.greetings)\n",
    "hello.say_hi(\"Obama\")"
   ]
  },
  {
   "cell_type": "code",
   "execution_count": null,
   "metadata": {},
   "outputs": [],
   "source": [
    "# Import (2)\n",
    "import hello as hi"
   ]
  },
  {
   "cell_type": "code",
   "execution_count": null,
   "metadata": {},
   "outputs": [],
   "source": [
    "# Sử dụng\n",
    "print(hi.greetings)\n",
    "hi.say_hi(\"Obama\")"
   ]
  },
  {
   "cell_type": "markdown",
   "metadata": {},
   "source": [
    "### 1.6. Reload một module\n",
    "- Mặc định Python chỉ load module 1 lần cho mỗi session ở lần import đầu tiên.\n",
    "- Lý do: hành động import khá costly nên Python ko import lại.\n",
    "- Nếu user sửa code trong file `.py` và run lại câu lệnh import thì sẽ không có tác dụng.\n",
    "- Muốn thay đổi được take effect thì cần reload lại module"
   ]
  },
  {
   "cell_type": "code",
   "execution_count": null,
   "metadata": {},
   "outputs": [],
   "source": [
    "l = [1, 2]\n",
    "l2 = l"
   ]
  },
  {
   "cell_type": "code",
   "execution_count": null,
   "metadata": {},
   "outputs": [],
   "source": [
    "import hello as h"
   ]
  },
  {
   "cell_type": "code",
   "execution_count": 23,
   "metadata": {},
   "outputs": [],
   "source": [
    "import hello"
   ]
  },
  {
   "cell_type": "code",
   "execution_count": 25,
   "metadata": {},
   "outputs": [],
   "source": [
    "import imp"
   ]
  },
  {
   "cell_type": "code",
   "execution_count": 26,
   "metadata": {},
   "outputs": [
    {
     "data": {
      "text/plain": [
       "<module 'hello' from 'D:/projects/nordic/01_python_course\\\\hello.py'>"
      ]
     },
     "execution_count": 26,
     "metadata": {},
     "output_type": "execute_result"
    }
   ],
   "source": [
    "imp.reload(hello)"
   ]
  },
  {
   "cell_type": "code",
   "execution_count": 28,
   "metadata": {},
   "outputs": [
    {
     "data": {
      "text/plain": [
       "12"
      ]
     },
     "execution_count": 28,
     "metadata": {},
     "output_type": "execute_result"
    }
   ],
   "source": [
    "hello.add(10, 2)"
   ]
  },
  {
   "cell_type": "code",
   "execution_count": null,
   "metadata": {},
   "outputs": [],
   "source": [
    "# Sửa lại nội dung file hello.py\n",
    "# Thêm hàm add() như sau\n",
    "def add(a, b):\n",
    "    return a + b"
   ]
  },
  {
   "cell_type": "code",
   "execution_count": null,
   "metadata": {},
   "outputs": [],
   "source": [
    "# Try to reimport\n",
    "import hello"
   ]
  },
  {
   "cell_type": "code",
   "execution_count": null,
   "metadata": {},
   "outputs": [],
   "source": [
    "# Try to use add (error)\n",
    "# hello.add(1, 2)"
   ]
  },
  {
   "cell_type": "code",
   "execution_count": null,
   "metadata": {},
   "outputs": [],
   "source": [
    "# Reload\n",
    "import imp\n",
    "imp.reload(hello)"
   ]
  },
  {
   "cell_type": "code",
   "execution_count": null,
   "metadata": {},
   "outputs": [],
   "source": [
    "# Try to use add (OK)\n",
    "hello.add(1, 2)"
   ]
  },
  {
   "cell_type": "markdown",
   "metadata": {},
   "source": [
    "Notes: \n",
    "\n",
    "1. Reload chỉ áp dụng được những đối tượng được import theo tên, VD:\n",
    "```python\n",
    "import hello\n",
    "import hello as hi\n",
    "import imp\n",
    "imp.reload(hello)\n",
    "imp.reload(hi)\n",
    "```\n",
    "\n",
    "2. Reload không áp dụng được cho trường hợp import *\n",
    "```python\n",
    "from hello import *\n",
    "```"
   ]
  },
  {
   "cell_type": "code",
   "execution_count": 29,
   "metadata": {},
   "outputs": [],
   "source": [
    "from hello import *"
   ]
  },
  {
   "cell_type": "code",
   "execution_count": 32,
   "metadata": {},
   "outputs": [
    {
     "data": {
      "text/plain": [
       "<module 'hello' from 'D:/projects/nordic/01_python_course\\\\hello.py'>"
      ]
     },
     "execution_count": 32,
     "metadata": {},
     "output_type": "execute_result"
    }
   ],
   "source": [
    "imp.reload(hello)"
   ]
  },
  {
   "cell_type": "code",
   "execution_count": 34,
   "metadata": {},
   "outputs": [
    {
     "data": {
      "text/plain": [
       "'Hello AAA!'"
      ]
     },
     "execution_count": 34,
     "metadata": {},
     "output_type": "execute_result"
    }
   ],
   "source": [
    "hello.greetings"
   ]
  },
  {
   "cell_type": "markdown",
   "metadata": {},
   "source": [
    "## 2. Packages"
   ]
  },
  {
   "cell_type": "markdown",
   "metadata": {},
   "source": [
    "### 2.1. Tổng quan\n",
    "- Nhiều file `.py` đặt chung trong một thư mục tạo thành package.\n",
    "- Các file `.py` có thể nằm trong các thư mục con tạo thành subpackages.\n",
    "- Ví dụ về cấu trúc của một package:\n",
    "\n",
    "```\n",
    "sound/                          Top-level package\n",
    "      __init__.py               Initialize the sound package\n",
    "      formats/                  Subpackage for file format conversions\n",
    "              __init__.py\n",
    "              wavread.py\n",
    "              wavwrite.py\n",
    "              aiffread.py\n",
    "              aiffwrite.py\n",
    "              auread.py\n",
    "              auwrite.py\n",
    "              ...\n",
    "      effects/                  Subpackage for sound effects\n",
    "              __init__.py\n",
    "              echo.py\n",
    "              surround.py\n",
    "              reverse.py\n",
    "              ...\n",
    "      filters/                  Subpackage for filters\n",
    "              __init__.py\n",
    "              equalizer.py\n",
    "              vocoder.py\n",
    "              karaoke.py\n",
    "              ...\n",
    "```"
   ]
  },
  {
   "cell_type": "markdown",
   "metadata": {},
   "source": [
    "### 2.1. Import modules trong package"
   ]
  },
  {
   "cell_type": "markdown",
   "metadata": {},
   "source": [
    "#### Cách 1:\n",
    "```python\n",
    "# Import\n",
    "import sound.effects.echo\n",
    "\n",
    "\n",
    "# Sử dụng\n",
    "sound.effects.echo.echofilter(input, output, delay=0.7, atten=4)\n",
    "```\n",
    "\n",
    "#### Cách 2: \n",
    "```python\n",
    "# Import\n",
    "from sound.effects import echo\n",
    "\n",
    "# Sử dụng\n",
    "echo.echofilter(input, output, delay=0.7, atten=4)\n",
    "```\n",
    "\n",
    "#### Cách 3:\n",
    "```python\n",
    "# Import\n",
    "from sound.effects.echo import echofilter\n",
    "\n",
    "# Sử dụng\n",
    "echofilter(input, output, delay=0.7, atten=4)\n",
    "```"
   ]
  }
 ],
 "metadata": {
  "kernelspec": {
   "display_name": "Python 3",
   "language": "python",
   "name": "python3"
  },
  "language_info": {
   "codemirror_mode": {
    "name": "ipython",
    "version": 3
   },
   "file_extension": ".py",
   "mimetype": "text/x-python",
   "name": "python",
   "nbconvert_exporter": "python",
   "pygments_lexer": "ipython3",
   "version": "3.7.3"
  }
 },
 "nbformat": 4,
 "nbformat_minor": 2
}
