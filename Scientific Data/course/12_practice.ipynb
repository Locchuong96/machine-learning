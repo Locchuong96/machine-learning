{
 "cells": [
  {
   "cell_type": "markdown",
   "metadata": {},
   "source": [
    "# Practices"
   ]
  },
  {
   "cell_type": "markdown",
   "metadata": {},
   "source": [
    "Tất cả các bài tập dưới đây được yêu cầu viết dưới dạng hàm"
   ]
  },
  {
   "cell_type": "markdown",
   "metadata": {},
   "source": [
    "#### First name, last name\n",
    "- Yêu cầu người dùng nhập vào first name\n",
    "- Yêu cầu người dùng nhập tiếp last name\n",
    "- In ra string dạng `\"Hello {first_name}{last_name}\"`"
   ]
  },
  {
   "cell_type": "code",
   "execution_count": 87,
   "metadata": {},
   "outputs": [],
   "source": [
    "def greetings():\n",
    "    first_name = input(\"Type your first name: \")\n",
    "    last_name = input(\"Type your last name: \")\n",
    "    \n",
    "    print(\"Hello {} {}\".format(first_name, last_name))\n",
    "    \n",
    "# Test\n",
    "# greetings()"
   ]
  },
  {
   "cell_type": "markdown",
   "metadata": {},
   "source": [
    "#### Add user input numbers\n",
    "- Yêu cầu người dùng nhập vào 2 số (int hoặc float) cách nhau bởi dấu phẩy \n",
    "- Trả về tổng của hai số"
   ]
  },
  {
   "cell_type": "code",
   "execution_count": 13,
   "metadata": {},
   "outputs": [],
   "source": [
    "def add_numbers():\n",
    "    s = input(\"Type 2 numbers separated by comma:\")\n",
    "    a, b = s.split(\",\")\n",
    "    a = float(a)\n",
    "    b = float(b)\n",
    "\n",
    "    return a + b"
   ]
  },
  {
   "cell_type": "code",
   "execution_count": 14,
   "metadata": {},
   "outputs": [
    {
     "name": "stdin",
     "output_type": "stream",
     "text": [
      "Type 2 numbers separated by comma: 3.4,1.8\n"
     ]
    },
    {
     "data": {
      "text/plain": [
       "5.2"
      ]
     },
     "execution_count": 14,
     "metadata": {},
     "output_type": "execute_result"
    }
   ],
   "source": [
    "add_numbers()"
   ]
  },
  {
   "cell_type": "code",
   "execution_count": null,
   "metadata": {},
   "outputs": [],
   "source": []
  },
  {
   "cell_type": "code",
   "execution_count": 91,
   "metadata": {},
   "outputs": [],
   "source": [
    "def add_number():\n",
    "    s = input(\"Type 2 numbers separated by a comma\")\n",
    "    a, b = s.split(\",\")\n",
    "    a, b = float(a), float(b)\n",
    "    return a + b\n",
    "\n",
    "# Test\n",
    "# add_number()"
   ]
  },
  {
   "cell_type": "markdown",
   "metadata": {},
   "source": [
    "#### Viết hàm tính tích 1 list các số"
   ]
  },
  {
   "cell_type": "code",
   "execution_count": 12,
   "metadata": {},
   "outputs": [
    {
     "data": {
      "text/plain": [
       "-30"
      ]
     },
     "execution_count": 12,
     "metadata": {},
     "output_type": "execute_result"
    }
   ],
   "source": [
    "def compute_product(a):\n",
    "    prod = 1\n",
    "    \n",
    "    for x in a:\n",
    "        prod *= x\n",
    "        \n",
    "    return prod\n",
    "\n",
    "# Test\n",
    "compute_product([1, 2, 5, -3])"
   ]
  },
  {
   "cell_type": "markdown",
   "metadata": {},
   "source": [
    "#### Viết hàm nhận vào 1 list/tuple, đếm các số dương, âm, và 0"
   ]
  },
  {
   "cell_type": "code",
   "execution_count": 37,
   "metadata": {},
   "outputs": [],
   "source": [
    "def count_pnz(a):\n",
    "    counts = {\"positive\": 0, \"negative\": 0, \"zero\": 0}\n",
    "\n",
    "    for x in a:\n",
    "        if x > 0:\n",
    "            counts[\"positive\"] += 1\n",
    "        elif x < 0:\n",
    "            counts[\"negative\"] += 1\n",
    "        else:\n",
    "            counts[\"zero\"] += 1\n",
    "        \n",
    "    return counts"
   ]
  },
  {
   "cell_type": "code",
   "execution_count": null,
   "metadata": {},
   "outputs": [],
   "source": []
  },
  {
   "cell_type": "code",
   "execution_count": null,
   "metadata": {},
   "outputs": [],
   "source": []
  },
  {
   "cell_type": "code",
   "execution_count": null,
   "metadata": {},
   "outputs": [],
   "source": []
  },
  {
   "cell_type": "code",
   "execution_count": null,
   "metadata": {},
   "outputs": [],
   "source": []
  },
  {
   "cell_type": "code",
   "execution_count": 14,
   "metadata": {},
   "outputs": [
    {
     "data": {
      "text/plain": [
       "{'positive': 4, 'negative': 3, 'zero': 2}"
      ]
     },
     "execution_count": 14,
     "metadata": {},
     "output_type": "execute_result"
    }
   ],
   "source": [
    "def count_signs(a):\n",
    "    counts = {\"positive\": 0, \"negative\": 0, \"zero\": 0}\n",
    "    \n",
    "    for x in a:\n",
    "        if x > 0:\n",
    "            counts[\"positive\"] += 1\n",
    "        elif x < 0:\n",
    "            counts[\"negative\"] += 1\n",
    "        else:\n",
    "            counts[\"zero\"] += 1\n",
    "            \n",
    "    return counts\n",
    "\n",
    "# Test\n",
    "count_signs([1, 2, 3, -1, -3, 0, -7, 3, 0])"
   ]
  },
  {
   "cell_type": "markdown",
   "metadata": {},
   "source": [
    "#### Viết hàm tính diện tích hình tròn khi biết bán kính"
   ]
  },
  {
   "cell_type": "code",
   "execution_count": 50,
   "metadata": {},
   "outputs": [
    {
     "data": {
      "text/plain": [
       "3.141592653589793"
      ]
     },
     "execution_count": 50,
     "metadata": {},
     "output_type": "execute_result"
    }
   ],
   "source": [
    "math.pi"
   ]
  },
  {
   "cell_type": "code",
   "execution_count": 53,
   "metadata": {},
   "outputs": [
    {
     "data": {
      "text/plain": [
       "<module 'my_math' from 'D:\\\\projects\\\\nordic\\\\01_python_course\\\\teaching_draft\\\\my_math.py'>"
      ]
     },
     "execution_count": 53,
     "metadata": {},
     "output_type": "execute_result"
    }
   ],
   "source": [
    "import my_math\n",
    "import imp\n",
    "imp.reload(my_math)"
   ]
  },
  {
   "cell_type": "code",
   "execution_count": 54,
   "metadata": {},
   "outputs": [
    {
     "data": {
      "text/plain": [
       "314.1592653589793"
      ]
     },
     "execution_count": 54,
     "metadata": {},
     "output_type": "execute_result"
    }
   ],
   "source": [
    "my_math.compute_disc_area2(10)"
   ]
  },
  {
   "cell_type": "code",
   "execution_count": null,
   "metadata": {},
   "outputs": [],
   "source": []
  },
  {
   "cell_type": "code",
   "execution_count": 34,
   "metadata": {},
   "outputs": [
    {
     "name": "stdout",
     "output_type": "stream",
     "text": [
      "12.566370614359172\n"
     ]
    }
   ],
   "source": [
    "def compute_disc_area(r):\n",
    "    import math\n",
    "    \n",
    "    return math.pi * (r ** 2)\n",
    "\n",
    "# Test\n",
    "print(compute_disc_area(2))"
   ]
  },
  {
   "cell_type": "markdown",
   "metadata": {},
   "source": [
    "#### Viết hàm nhận vào 1 list, trả về tổng số lẻ và số chẵn dưới dạng tuple"
   ]
  },
  {
   "cell_type": "code",
   "execution_count": 61,
   "metadata": {},
   "outputs": [],
   "source": [
    "def compute_sum_odd_even(a):\n",
    "    odd_total = 0\n",
    "    even_total = 0\n",
    "\n",
    "    for x in a:\n",
    "        if x % 2 != 0:\n",
    "            odd_total += x\n",
    "        else:\n",
    "            even_total += x\n",
    "\n",
    "    return (odd_total, even_total)"
   ]
  },
  {
   "cell_type": "code",
   "execution_count": 60,
   "metadata": {},
   "outputs": [
    {
     "data": {
      "text/plain": [
       "(2, 3, 4)"
      ]
     },
     "execution_count": 60,
     "metadata": {},
     "output_type": "execute_result"
    }
   ],
   "source": [
    "2, 3, 4"
   ]
  },
  {
   "cell_type": "code",
   "execution_count": null,
   "metadata": {},
   "outputs": [],
   "source": []
  },
  {
   "cell_type": "code",
   "execution_count": null,
   "metadata": {},
   "outputs": [],
   "source": []
  },
  {
   "cell_type": "code",
   "execution_count": null,
   "metadata": {},
   "outputs": [],
   "source": []
  },
  {
   "cell_type": "code",
   "execution_count": null,
   "metadata": {},
   "outputs": [],
   "source": []
  },
  {
   "cell_type": "code",
   "execution_count": 18,
   "metadata": {},
   "outputs": [
    {
     "data": {
      "text/plain": [
       "(16, 12)"
      ]
     },
     "execution_count": 18,
     "metadata": {},
     "output_type": "execute_result"
    }
   ],
   "source": [
    "def compute_sum_odd_even(a):\n",
    "    odd_sum = 0\n",
    "    even_sum = 0\n",
    "    \n",
    "    for x in a:\n",
    "        if x % 2 == 0:\n",
    "            even_sum += x\n",
    "        else:\n",
    "            odd_sum += x\n",
    "            \n",
    "    return (odd_sum, even_sum)\n",
    "\n",
    "# Test\n",
    "compute_sum_odd_even([1, 2, 3, 4, 5, 6, 7])"
   ]
  },
  {
   "cell_type": "markdown",
   "metadata": {},
   "source": [
    "#### Viết hàm nhận vào 1 list các số. Trả về median \n",
    "- Median là giá trị chính giữa của dataset được sắp xếp\n",
    "- Nếu dataset có số lẻ phần tử: median là giá trị chính giữa\n",
    "- Nếu dataset có số chẵn phần tử: median là trung bình cộng của 2 giá trị chính giữa\n",
    "- Có thể check lại kết quả dùng module `numpy` "
   ]
  },
  {
   "cell_type": "code",
   "execution_count": 79,
   "metadata": {},
   "outputs": [],
   "source": [
    "def get_median(a):\n",
    "    a_sorted = sorted(a)\n",
    "    m_index = len(a_sorted) // 2\n",
    "    \n",
    "    if len(a_sorted) % 2 == 0:\n",
    "        return (a_sorted[m_index - 1] + a_sorted[m_index]) / 2\n",
    "    else:\n",
    "        return a_sorted[m_index]\n",
    "    "
   ]
  },
  {
   "cell_type": "code",
   "execution_count": 83,
   "metadata": {},
   "outputs": [
    {
     "data": {
      "text/plain": [
       "5"
      ]
     },
     "execution_count": 83,
     "metadata": {},
     "output_type": "execute_result"
    }
   ],
   "source": [
    "get_median([-3, 5, -7, 8, 10])"
   ]
  },
  {
   "cell_type": "code",
   "execution_count": 84,
   "metadata": {},
   "outputs": [
    {
     "data": {
      "text/plain": [
       "[-7, -3, 5, 8, 10]"
      ]
     },
     "execution_count": 84,
     "metadata": {},
     "output_type": "execute_result"
    }
   ],
   "source": [
    "sorted([-3, 5, -7, 8, 10])"
   ]
  },
  {
   "cell_type": "code",
   "execution_count": null,
   "metadata": {},
   "outputs": [],
   "source": []
  },
  {
   "cell_type": "code",
   "execution_count": 73,
   "metadata": {},
   "outputs": [],
   "source": [
    "if len(a) % 2 == 0:\n",
    "    median_value = (a_sorted[middle_index - 1] + a_sorted[middle_index]) / 2\n",
    "else:\n",
    "    median_value = a_sorted[middle_index]"
   ]
  },
  {
   "cell_type": "code",
   "execution_count": 74,
   "metadata": {},
   "outputs": [
    {
     "data": {
      "text/plain": [
       "5"
      ]
     },
     "execution_count": 74,
     "metadata": {},
     "output_type": "execute_result"
    }
   ],
   "source": [
    "median_value"
   ]
  },
  {
   "cell_type": "code",
   "execution_count": null,
   "metadata": {},
   "outputs": [],
   "source": []
  },
  {
   "cell_type": "code",
   "execution_count": 79,
   "metadata": {},
   "outputs": [
    {
     "data": {
      "text/plain": [
       "3.5"
      ]
     },
     "execution_count": 79,
     "metadata": {},
     "output_type": "execute_result"
    }
   ],
   "source": [
    "def compute_median(a):\n",
    "    a_sorted = sorted(a)\n",
    "    middle_index = len(a) // 2\n",
    "    \n",
    "    if len(a) % 2 != 0:\n",
    "        return a_sorted[middle_index]\n",
    "    \n",
    "    return (a_sorted[middle_index - 1] + a_sorted[middle_index]) / 2\n",
    "\n",
    "# Test\n",
    "compute_median([1, 5, 4, 2, 3])\n",
    "compute_median([1, 5, 4, 2, 3, 19])"
   ]
  },
  {
   "cell_type": "markdown",
   "metadata": {},
   "source": [
    "#### Viết hàm yêu cầu người dùng nhập tên, sau đó yêu cầu người dùng gõ vào 'U' hoặc 'L' để chọn cách in ra tên ở dạng upper hoặc lower, ngoài ra in đúng format như người dùng nhập"
   ]
  },
  {
   "cell_type": "code",
   "execution_count": 97,
   "metadata": {},
   "outputs": [],
   "source": [
    "def print_name():\n",
    "    name = input(\"Type in your name:\")\n",
    "    case = input(\"Type 'U' for uppercase or 'L' for lowercase:\")\n",
    "\n",
    "    if case.upper() == 'U':\n",
    "        name = name.upper()\n",
    "    elif case.upper() == 'L':\n",
    "        name = name.lower()\n",
    "        \n",
    "    return name"
   ]
  },
  {
   "cell_type": "code",
   "execution_count": 99,
   "metadata": {},
   "outputs": [
    {
     "name": "stdin",
     "output_type": "stream",
     "text": [
      "Type in your name: Tue\n",
      "Type 'U' for uppercase or 'L' for lowercase: u\n"
     ]
    },
    {
     "data": {
      "text/plain": [
       "'TUE'"
      ]
     },
     "execution_count": 99,
     "metadata": {},
     "output_type": "execute_result"
    }
   ],
   "source": [
    "print_name()"
   ]
  },
  {
   "cell_type": "code",
   "execution_count": null,
   "metadata": {},
   "outputs": [],
   "source": []
  },
  {
   "cell_type": "code",
   "execution_count": null,
   "metadata": {},
   "outputs": [],
   "source": []
  },
  {
   "cell_type": "code",
   "execution_count": null,
   "metadata": {},
   "outputs": [],
   "source": []
  },
  {
   "cell_type": "code",
   "execution_count": 97,
   "metadata": {},
   "outputs": [],
   "source": [
    "def print_name():\n",
    "    name = input(\"Type your name: \")\n",
    "    case = input(\"\"\"Choose how you want to display your name:\n",
    "    Type U for upercase\n",
    "    Type L for lowercase\n",
    "    Otherwise, leave it unchanged\n",
    "    \"\"\")\n",
    "    \n",
    "    if case.lower() == 'u':\n",
    "        name = name.upper()\n",
    "    elif case.lower() == 'l':\n",
    "        name = name.lower()\n",
    "        \n",
    "    print(name)\n",
    "    \n",
    "# Test\n",
    "# print_name()"
   ]
  },
  {
   "cell_type": "markdown",
   "metadata": {},
   "source": [
    "#### Viết hàm kiểm tra xem một string có phải là palindrome hay ko? \n",
    "- Palindrome: \n",
    "    - Đọc từ trái qua phải giống như từ phải qua trái\n",
    "    - Chỉ quan tâm đến chữ cái và thứ tự của chúng, ko quan tâm đến hoa thường, dấu trắng, và các ký tự đặc biệt\n",
    "- VD: \n",
    "    - madam\n",
    "    - racecar\n",
    "    - Do geese see God"
   ]
  },
  {
   "cell_type": "code",
   "execution_count": 114,
   "metadata": {},
   "outputs": [],
   "source": [
    "s = \"Do geese see God\""
   ]
  },
  {
   "cell_type": "code",
   "execution_count": 131,
   "metadata": {},
   "outputs": [
    {
     "name": "stdout",
     "output_type": "stream",
     "text": [
      "['A', 'b', 'c', 'd', 'e']\n",
      "['e', 'd', 'c', 'b', 'A']\n"
     ]
    }
   ],
   "source": [
    "a = ['A', 'b', 'c', 'd', 'e']\n",
    "print(a)\n",
    "print(list(reversed(a)))"
   ]
  },
  {
   "cell_type": "code",
   "execution_count": 134,
   "metadata": {},
   "outputs": [
    {
     "data": {
      "text/plain": [
       "'e-d-c-b-A'"
      ]
     },
     "execution_count": 134,
     "metadata": {},
     "output_type": "execute_result"
    }
   ],
   "source": [
    "\"-\".join(reversed(a))"
   ]
  },
  {
   "cell_type": "code",
   "execution_count": 133,
   "metadata": {},
   "outputs": [
    {
     "data": {
      "text/plain": [
       "'A-b-c-d-e'"
      ]
     },
     "execution_count": 133,
     "metadata": {},
     "output_type": "execute_result"
    }
   ],
   "source": [
    "\"-\".join(a) # Empty string"
   ]
  },
  {
   "cell_type": "code",
   "execution_count": null,
   "metadata": {},
   "outputs": [],
   "source": []
  },
  {
   "cell_type": "code",
   "execution_count": 116,
   "metadata": {},
   "outputs": [],
   "source": [
    "def check_palindrome(s):\n",
    "    chars = []\n",
    "\n",
    "    for x in s:\n",
    "        if x.isalnum():\n",
    "            chars.append(x.lower())\n",
    "\n",
    "    return \"\".join(chars) == \"\".join(reversed(chars))"
   ]
  },
  {
   "cell_type": "code",
   "execution_count": 121,
   "metadata": {},
   "outputs": [
    {
     "data": {
      "text/plain": [
       "True"
      ]
     },
     "execution_count": 121,
     "metadata": {},
     "output_type": "execute_result"
    }
   ],
   "source": [
    "check_palindrome(\"Aba\")"
   ]
  },
  {
   "cell_type": "code",
   "execution_count": null,
   "metadata": {},
   "outputs": [],
   "source": []
  },
  {
   "cell_type": "code",
   "execution_count": 32,
   "metadata": {},
   "outputs": [
    {
     "name": "stdout",
     "output_type": "stream",
     "text": [
      "True\n",
      "True\n",
      "True\n",
      "False\n",
      "False\n"
     ]
    }
   ],
   "source": [
    "def check_palindrome(s):\n",
    "    chars = []\n",
    "    \n",
    "    for x in s.lower():\n",
    "        if x.isalpha():\n",
    "            chars.append(x)\n",
    "            \n",
    "    if \"\".join(chars) == \"\".join(reversed(chars)):\n",
    "        return True\n",
    "    else:\n",
    "        return False\n",
    "    \n",
    "# Test\n",
    "print(check_palindrome(\"Madam\"))\n",
    "print(check_palindrome(\"racecar\"))\n",
    "print(check_palindrome(\"Do geese see God\"))\n",
    "print(check_palindrome(\"Hello\"))\n",
    "print(check_palindrome(\"ABC\"))"
   ]
  },
  {
   "cell_type": "markdown",
   "metadata": {},
   "source": [
    "#### Viết hàm nhận vào 1 string. Trả về dictionary đếm số chữ cái và chữ số"
   ]
  },
  {
   "cell_type": "code",
   "execution_count": 139,
   "metadata": {},
   "outputs": [],
   "source": [
    "s = \"This This 123@1230!\""
   ]
  },
  {
   "cell_type": "code",
   "execution_count": 141,
   "metadata": {},
   "outputs": [],
   "source": [
    "def count_letters_digits(s):\n",
    "    counts = {\"letters\": 0, \"digits\": 0}\n",
    "\n",
    "    for x in s:\n",
    "        if x.isalpha():\n",
    "            counts[\"letters\"] += 1\n",
    "        elif x.isdigit():\n",
    "            counts[\"digits\"] += 1\n",
    "\n",
    "    return counts"
   ]
  },
  {
   "cell_type": "code",
   "execution_count": null,
   "metadata": {},
   "outputs": [],
   "source": []
  },
  {
   "cell_type": "code",
   "execution_count": null,
   "metadata": {},
   "outputs": [],
   "source": []
  },
  {
   "cell_type": "code",
   "execution_count": 46,
   "metadata": {},
   "outputs": [
    {
     "data": {
      "text/plain": [
       "{'letters': 6, 'digits': 6}"
      ]
     },
     "execution_count": 46,
     "metadata": {},
     "output_type": "execute_result"
    }
   ],
   "source": [
    "def count_letters_digits(s):\n",
    "    counts = {\"letters\": 0, \"digits\": 0}\n",
    "    \n",
    "    for x in s:`\n",
    "        if x.isalpha():\n",
    "            counts[\"letters\"] += 1\n",
    "        elif x.isdigit():\n",
    "            counts[\"digits\"] += 1\n",
    "            \n",
    "    return counts\n",
    "\n",
    "# Test\n",
    "count_letters_digits(\"This is 123@123!\")"
   ]
  },
  {
   "cell_type": "code",
   "execution_count": 45,
   "metadata": {},
   "outputs": [
    {
     "data": {
      "text/plain": [
       "True"
      ]
     },
     "execution_count": 45,
     "metadata": {},
     "output_type": "execute_result"
    }
   ],
   "source": [
    "\"1\".isdigit()"
   ]
  },
  {
   "cell_type": "markdown",
   "metadata": {},
   "source": [
    "#### Viết hàm đếm số lượng từ trong một đoạn text. Trả về kết quả dưới dạng dictionary, key là từ, value là số lượng xuất hiện của từ\n",
    "- Giả sử đoạn text chỉ chứa chữ cái, chữ số, và khoảng trắng"
   ]
  },
  {
   "cell_type": "code",
   "execution_count": 150,
   "metadata": {},
   "outputs": [
    {
     "name": "stdout",
     "output_type": "stream",
     "text": [
      "{'the': 2, 'quick': 1, 'brown': 1, 'fox': 2, 'jumps': 1, 'over': 1, 'dog': 2, 'lazy': 1}\n"
     ]
    }
   ],
   "source": [
    "def count_word_freq(s):\n",
    "    results = {}\n",
    "\n",
    "    for word in s.split():\n",
    "        word = word.lower()\n",
    "\n",
    "        if word not in results.keys():\n",
    "            results[word] = 1\n",
    "        else:\n",
    "            results[word] += 1\n",
    "\n",
    "    return results"
   ]
  },
  {
   "cell_type": "code",
   "execution_count": null,
   "metadata": {},
   "outputs": [],
   "source": []
  },
  {
   "cell_type": "code",
   "execution_count": null,
   "metadata": {},
   "outputs": [],
   "source": []
  },
  {
   "cell_type": "code",
   "execution_count": null,
   "metadata": {},
   "outputs": [],
   "source": []
  },
  {
   "cell_type": "code",
   "execution_count": null,
   "metadata": {},
   "outputs": [],
   "source": []
  },
  {
   "cell_type": "code",
   "execution_count": null,
   "metadata": {},
   "outputs": [],
   "source": []
  },
  {
   "cell_type": "code",
   "execution_count": 57,
   "metadata": {},
   "outputs": [
    {
     "data": {
      "text/plain": [
       "{'the': 2,\n",
       " 'quick': 1,\n",
       " 'brown': 1,\n",
       " 'fox': 1,\n",
       " 'jumps': 1,\n",
       " 'over': 1,\n",
       " 'lazy': 1,\n",
       " 'dog': 1}"
      ]
     },
     "execution_count": 57,
     "metadata": {},
     "output_type": "execute_result"
    }
   ],
   "source": [
    "def count_word_freq(s):\n",
    "    counts = {}\n",
    "    \n",
    "    for word in s.split():\n",
    "        word = word.lower()\n",
    "        \n",
    "        if word not in counts:\n",
    "            counts[word] = 1\n",
    "        else:\n",
    "            counts[word] += 1\n",
    "            \n",
    "    return counts\n",
    "\n",
    "# Test\n",
    "count_word_freq(\"The quick brown fox jumps over the lazy dog\")"
   ]
  },
  {
   "cell_type": "markdown",
   "metadata": {},
   "source": [
    "#### Viết hàm nhận vào 1 list các strings. Trả về string có độ dài dài nhất."
   ]
  },
  {
   "cell_type": "code",
   "execution_count": null,
   "metadata": {},
   "outputs": [],
   "source": [
    "a = [\"abc\", \"hello world\", \"haha\"]"
   ]
  },
  {
   "cell_type": "code",
   "execution_count": 157,
   "metadata": {},
   "outputs": [],
   "source": [
    "def get_longest_str(a):\n",
    "    longest_str = a[0]\n",
    "\n",
    "    for s in a:\n",
    "        if len(s) > len(longest_str):\n",
    "            longest_str = s\n",
    "\n",
    "    return longest_str"
   ]
  },
  {
   "cell_type": "code",
   "execution_count": 160,
   "metadata": {},
   "outputs": [
    {
     "data": {
      "text/plain": [
       "'helldsdsdsdsdsdsdsdsso world'"
      ]
     },
     "execution_count": 160,
     "metadata": {},
     "output_type": "execute_result"
    }
   ],
   "source": [
    "get_longest_str([\"abc helo lsdldslds; dssds\", \"helldsdsdsdsdsdsdsdsso world\", \"haha\", \"a\"])"
   ]
  },
  {
   "cell_type": "code",
   "execution_count": null,
   "metadata": {},
   "outputs": [],
   "source": []
  },
  {
   "cell_type": "code",
   "execution_count": null,
   "metadata": {},
   "outputs": [],
   "source": []
  },
  {
   "cell_type": "code",
   "execution_count": null,
   "metadata": {},
   "outputs": [],
   "source": []
  },
  {
   "cell_type": "code",
   "execution_count": null,
   "metadata": {},
   "outputs": [],
   "source": []
  },
  {
   "cell_type": "code",
   "execution_count": 64,
   "metadata": {},
   "outputs": [
    {
     "data": {
      "text/plain": [
       "'This might be the longest string'"
      ]
     },
     "execution_count": 64,
     "metadata": {},
     "output_type": "execute_result"
    }
   ],
   "source": [
    "def get_longest_str(a):\n",
    "    longest = \"\"\n",
    "    \n",
    "    for s in a:\n",
    "        if len(s) > len(longest):\n",
    "            longest = s\n",
    "        \n",
    "    return longest\n",
    "\n",
    "# Test\n",
    "s_list = [\n",
    "    \"This is a string\",\n",
    "    \"This might be the longest string\",\n",
    "    \"This is another string\",\n",
    "    \"Very short\"\n",
    "]\n",
    "\n",
    "get_longest_str(s_list)"
   ]
  },
  {
   "cell_type": "markdown",
   "metadata": {},
   "source": [
    "#### Viết hàm nhận vào 1 list các số. Trả về vị trí của số âm đầu tiên trong list (đếm từ 1). Nếu không có số âm nào, trả về None"
   ]
  },
  {
   "cell_type": "code",
   "execution_count": 167,
   "metadata": {},
   "outputs": [],
   "source": [
    "def get_position_of_1st_neg(a):\n",
    "    for i, x in enumerate(a):\n",
    "        if x < 0:\n",
    "            return i + 1\n",
    "        \n",
    "    return None"
   ]
  },
  {
   "cell_type": "code",
   "execution_count": 169,
   "metadata": {},
   "outputs": [
    {
     "name": "stdout",
     "output_type": "stream",
     "text": [
      "None\n"
     ]
    }
   ],
   "source": [
    "print(get_position_of_1st_neg([1, 2, 3, 1, 4, 5, 2]))"
   ]
  },
  {
   "cell_type": "code",
   "execution_count": null,
   "metadata": {},
   "outputs": [],
   "source": []
  },
  {
   "cell_type": "code",
   "execution_count": 67,
   "metadata": {},
   "outputs": [
    {
     "name": "stdout",
     "output_type": "stream",
     "text": [
      "4\n",
      "None\n"
     ]
    }
   ],
   "source": [
    "def get_first_neg_position(a):\n",
    "    for i, x in enumerate(a):\n",
    "        if x < 0:\n",
    "            return i + 1\n",
    "        \n",
    "    return None\n",
    "\n",
    "print(get_first_neg_position([1, 2, 3, -1]))\n",
    "print(get_first_neg_position([1, 2, 3, 3]))"
   ]
  },
  {
   "cell_type": "markdown",
   "metadata": {},
   "source": [
    "#### Viết hàm nhận vào địa chỉ email và trả về domain của email. VD: username@example.com sẽ trả về example.com"
   ]
  },
  {
   "cell_type": "code",
   "execution_count": 174,
   "metadata": {},
   "outputs": [
    {
     "data": {
      "text/plain": [
       "['tue', 'gmail.com']"
      ]
     },
     "execution_count": 174,
     "metadata": {},
     "output_type": "execute_result"
    }
   ],
   "source": [
    "\"tue@gmail.com\".split(\"@\")"
   ]
  },
  {
   "cell_type": "code",
   "execution_count": 175,
   "metadata": {},
   "outputs": [],
   "source": [
    "def get_email_domain(email):\n",
    "    return email.split(\"@\")[-1]"
   ]
  },
  {
   "cell_type": "code",
   "execution_count": 177,
   "metadata": {},
   "outputs": [
    {
     "data": {
      "text/plain": [
       "'yahoo.com'"
      ]
     },
     "execution_count": 177,
     "metadata": {},
     "output_type": "execute_result"
    }
   ],
   "source": [
    "get_email_domain(\"obama@yahoo.com\")"
   ]
  },
  {
   "cell_type": "code",
   "execution_count": null,
   "metadata": {},
   "outputs": [],
   "source": []
  },
  {
   "cell_type": "code",
   "execution_count": 85,
   "metadata": {},
   "outputs": [
    {
     "data": {
      "text/plain": [
       "'example.com'"
      ]
     },
     "execution_count": 85,
     "metadata": {},
     "output_type": "execute_result"
    }
   ],
   "source": [
    "def get_email_domain(email):\n",
    "    return email.split(\"@\")[-1]\n",
    "\n",
    "# Test\n",
    "get_email_domain(\"username@example.com\")"
   ]
  },
  {
   "cell_type": "markdown",
   "metadata": {},
   "source": [
    "#### Viết hàm yêu cầu người dùng nhập vào 1 số. Sau đó hiện ra dòng \"Again?\" để hỏi người dùng muốn nhập tiếp không. Nếu người dùng gõ \"Y\" thì cho người dùng nhập tiếp. Nếu gõ bất kỳ ký tự gì khác thì dừng và in ra tổng các số người dùng đã nhập. (ko phân biệt hoa thường)"
   ]
  },
  {
   "cell_type": "code",
   "execution_count": 181,
   "metadata": {},
   "outputs": [],
   "source": [
    "def add_numbers_until_stop():\n",
    "    total = 0\n",
    "\n",
    "    while True:\n",
    "        number = input(\"Nhap vao 1 so:\")\n",
    "        total += float(number)\n",
    "\n",
    "        again = input(\"Again?:\")\n",
    "\n",
    "        if again.upper() != \"Y\":\n",
    "            return total"
   ]
  },
  {
   "cell_type": "code",
   "execution_count": 182,
   "metadata": {},
   "outputs": [
    {
     "name": "stdin",
     "output_type": "stream",
     "text": [
      "Nhap vao 1 so: 10\n",
      "Again?: y\n",
      "Nhap vao 1 so: 9\n",
      "Again?: ldkdsldsl\n"
     ]
    },
    {
     "data": {
      "text/plain": [
       "19.0"
      ]
     },
     "execution_count": 182,
     "metadata": {},
     "output_type": "execute_result"
    }
   ],
   "source": [
    "add_numbers_until_stop()"
   ]
  },
  {
   "cell_type": "code",
   "execution_count": null,
   "metadata": {},
   "outputs": [],
   "source": []
  },
  {
   "cell_type": "code",
   "execution_count": null,
   "metadata": {},
   "outputs": [],
   "source": []
  },
  {
   "cell_type": "code",
   "execution_count": null,
   "metadata": {},
   "outputs": [],
   "source": []
  },
  {
   "cell_type": "code",
   "execution_count": 178,
   "metadata": {},
   "outputs": [],
   "source": [
    "def add_numbers_until_stop():\n",
    "    total = 0\n",
    "    again = \"Y\"\n",
    "\n",
    "    while again == \"Y\":\n",
    "        n = input(\"Type a number: \")\n",
    "        total += float(n)\n",
    "\n",
    "        again = input(\"Again?: \").upper()\n",
    "\n",
    "    return total\n",
    "\n",
    "# Test\n",
    "# add_numbers_until_stop()"
   ]
  },
  {
   "cell_type": "code",
   "execution_count": 179,
   "metadata": {},
   "outputs": [
    {
     "name": "stdin",
     "output_type": "stream",
     "text": [
      "Type a number:  10\n",
      "Again?:  y\n",
      "Type a number:  10.5\n",
      "Again?:  20.5\n"
     ]
    },
    {
     "data": {
      "text/plain": [
       "20.5"
      ]
     },
     "execution_count": 179,
     "metadata": {},
     "output_type": "execute_result"
    }
   ],
   "source": [
    "add_numbers_until_stop()"
   ]
  },
  {
   "cell_type": "code",
   "execution_count": null,
   "metadata": {},
   "outputs": [],
   "source": []
  },
  {
   "cell_type": "code",
   "execution_count": null,
   "metadata": {},
   "outputs": [],
   "source": []
  },
  {
   "cell_type": "markdown",
   "metadata": {},
   "source": [
    "#### Viết hàm nhận vào 1 list các string và tên filename với extension .txt. Ghi mỗi phần tử của string vào 1 dòng trong file và lưu xuống đĩa. Lưu ý dòng cuối không có ký tự xuống dòng"
   ]
  },
  {
   "cell_type": "code",
   "execution_count": 193,
   "metadata": {},
   "outputs": [],
   "source": [
    "a = [\n",
    "    \"Line 1\",\n",
    "    \"Line 2\",\n",
    "    \"Line 3\",\n",
    "    \"Line 4\"\n",
    "]"
   ]
  },
  {
   "cell_type": "code",
   "execution_count": 192,
   "metadata": {},
   "outputs": [],
   "source": [
    "def write_files(a, filename):\n",
    "    a2 = [s + \"\\n\" for s in a]\n",
    "    a2[-1] = a[-1]\n",
    "\n",
    "    with open(filename, \"w\") as f:\n",
    "        f.writelines(a2)"
   ]
  },
  {
   "cell_type": "code",
   "execution_count": 194,
   "metadata": {},
   "outputs": [],
   "source": [
    "write_files(a, \"test_file2.txt\")"
   ]
  },
  {
   "cell_type": "code",
   "execution_count": null,
   "metadata": {},
   "outputs": [],
   "source": []
  },
  {
   "cell_type": "code",
   "execution_count": null,
   "metadata": {},
   "outputs": [],
   "source": []
  },
  {
   "cell_type": "code",
   "execution_count": 110,
   "metadata": {},
   "outputs": [],
   "source": [
    "def write_text(a, filename):\n",
    "    contents = [x + \"\\n\" for x in a]\n",
    "    contents[-1] = contents[-1].replace(\"\\n\", \"\")\n",
    "    \n",
    "    with open(filename, \"w\") as f:\n",
    "        f.writelines(contents)\n",
    "        \n",
    "# Test\n",
    "s_list = [\n",
    "    \"Line 1\",\n",
    "    \"Line 2\",\n",
    "    \"Line 3\"\n",
    "]\n",
    "\n",
    "write_text(s_list, \"lines.txt\")"
   ]
  },
  {
   "cell_type": "markdown",
   "metadata": {},
   "source": [
    "#### Viết hàm tính ước số chung lớn nhất của 2 số nguyên\n",
    "- Là số nguyên nhỏ nhất mà cả 2 số đều chia hết"
   ]
  },
  {
   "cell_type": "code",
   "execution_count": 201,
   "metadata": {},
   "outputs": [],
   "source": [
    "a = 6\n",
    "b = 10"
   ]
  },
  {
   "cell_type": "code",
   "execution_count": 203,
   "metadata": {},
   "outputs": [
    {
     "data": {
      "text/plain": [
       "6"
      ]
     },
     "execution_count": 203,
     "metadata": {},
     "output_type": "execute_result"
    }
   ],
   "source": [
    "gcd"
   ]
  },
  {
   "cell_type": "code",
   "execution_count": 209,
   "metadata": {},
   "outputs": [],
   "source": [
    "def get_gcd(a, b):\n",
    "    gcd = min(a, b)\n",
    "\n",
    "    while True:\n",
    "        if (a % gcd == 0) and (b % gcd == 0):\n",
    "            return gcd\n",
    "        else:\n",
    "            gcd -= 1"
   ]
  },
  {
   "cell_type": "code",
   "execution_count": 212,
   "metadata": {},
   "outputs": [
    {
     "data": {
      "text/plain": [
       "4"
      ]
     },
     "execution_count": 212,
     "metadata": {},
     "output_type": "execute_result"
    }
   ],
   "source": [
    "get_gcd(12, 8)"
   ]
  },
  {
   "cell_type": "code",
   "execution_count": null,
   "metadata": {},
   "outputs": [],
   "source": []
  },
  {
   "cell_type": "code",
   "execution_count": 130,
   "metadata": {},
   "outputs": [
    {
     "name": "stdout",
     "output_type": "stream",
     "text": [
      "5\n",
      "1\n"
     ]
    }
   ],
   "source": [
    "def get_gcd(a, b):\n",
    "    d = min(a, b)\n",
    "    \n",
    "    while (a % d != 0) or (b % d != 0):\n",
    "        d -= 1\n",
    "        \n",
    "    return d\n",
    "\n",
    "# Test\n",
    "print(get_gcd(5, 10))\n",
    "print(get_gcd(3, 10))"
   ]
  },
  {
   "cell_type": "markdown",
   "metadata": {},
   "source": [
    "#### Viết hàm tính tiền giá grab\n",
    "- Base price: 12000 VND\n",
    "- Cộng thêm 5000VND cho mỗi km kể từ km thứ 2"
   ]
  },
  {
   "cell_type": "code",
   "execution_count": 214,
   "metadata": {},
   "outputs": [],
   "source": [
    "def get_grab_fare(km):\n",
    "\n",
    "    base_price = 12000\n",
    "    fee_per_km = 5000\n",
    "\n",
    "    additional_km = km - 1\n",
    "\n",
    "    if additional_km <= 0:\n",
    "        return base_price\n",
    "    else: \n",
    "        return base_price + (additional_km * fee_per_km)"
   ]
  },
  {
   "cell_type": "code",
   "execution_count": 219,
   "metadata": {},
   "outputs": [
    {
     "data": {
      "text/plain": [
       "17000"
      ]
     },
     "execution_count": 219,
     "metadata": {},
     "output_type": "execute_result"
    }
   ],
   "source": [
    "get_grab_fare(2)"
   ]
  },
  {
   "cell_type": "code",
   "execution_count": null,
   "metadata": {},
   "outputs": [],
   "source": []
  },
  {
   "cell_type": "code",
   "execution_count": null,
   "metadata": {},
   "outputs": [],
   "source": []
  },
  {
   "cell_type": "code",
   "execution_count": 134,
   "metadata": {},
   "outputs": [
    {
     "name": "stdout",
     "output_type": "stream",
     "text": [
      "12000\n",
      "12000\n",
      "17000\n"
     ]
    }
   ],
   "source": [
    "def compute_grab_fare(km):\n",
    "    base_price = 12000\n",
    "    fee_per_km = 5000\n",
    "    additional_km = km - 1\n",
    "    \n",
    "    if additional_km < 0:\n",
    "        additional_km = 0\n",
    "    \n",
    "    return base_price + (additional_km * fee_per_km)\n",
    "\n",
    "# Test\n",
    "print(compute_grab_fare(1))\n",
    "print(compute_grab_fare(0.5))\n",
    "print(compute_grab_fare(2))"
   ]
  },
  {
   "cell_type": "markdown",
   "metadata": {},
   "source": [
    "#### Viết hàm nhận vào 1 list, trả về list không có phần tử trùng"
   ]
  },
  {
   "cell_type": "code",
   "execution_count": 222,
   "metadata": {},
   "outputs": [
    {
     "data": {
      "text/plain": [
       "[1, 2, 3, 5]"
      ]
     },
     "execution_count": 222,
     "metadata": {},
     "output_type": "execute_result"
    }
   ],
   "source": [
    "list(set([1, 2, 1, 3, 5]))"
   ]
  },
  {
   "cell_type": "code",
   "execution_count": 223,
   "metadata": {},
   "outputs": [
    {
     "name": "stdout",
     "output_type": "stream",
     "text": [
      "[1, 2, 3, 5]\n",
      "[0, 9]\n"
     ]
    }
   ],
   "source": [
    "def dedup_list(l):\n",
    "    return list(set(l)) #inside out\n",
    "\n",
    "# Test\n",
    "print(dedup_list([1, 2, 1, 3, 5]))\n",
    "print(dedup_list([0, 0, 0, 9, 9, 9]))"
   ]
  },
  {
   "cell_type": "markdown",
   "metadata": {},
   "source": [
    "#### Viết hàm nhận vào 1 list các số. In ra trung bình, các số nhỏ hơn trung bình, và các số lớn hơn (hoặc bằng) trung bình theo format sau:\n",
    "```\n",
    "1. Average: 4.153846153846154\n",
    "--------------------\n",
    "2. < Average: [1, 3, 4, -2, 0, 1, 2, 3, 4]\n",
    "--------------------\n",
    "3. >= Average: [7, 15, 9, 7]\n",
    "```\n"
   ]
  },
  {
   "cell_type": "code",
   "execution_count": 224,
   "metadata": {},
   "outputs": [],
   "source": [
    "a = [1, 3, 4, -2, 0, 1, 7, 15, 2, 3, 9, 4, 7]"
   ]
  },
  {
   "cell_type": "code",
   "execution_count": 232,
   "metadata": {},
   "outputs": [],
   "source": [
    "def partition_numbers(a):\n",
    "    avg = sum(a) / len(a)\n",
    "    lt_avg = [x for x in a if x < avg]\n",
    "    geq_avg = [x for x in a if x >= avg]\n",
    "\n",
    "    print(\"1. Average: {}\".format(avg))\n",
    "    print(\"-\" * 30)\n",
    "    print(\"2. < Average: {}\".format(lt_avg))\n",
    "    print(\"-\" * 30)\n",
    "    print(\"2. >= Average: {}\".format(geq_avg))"
   ]
  },
  {
   "cell_type": "code",
   "execution_count": 234,
   "metadata": {},
   "outputs": [
    {
     "name": "stdout",
     "output_type": "stream",
     "text": [
      "1. Average: 3.8333333333333335\n",
      "------------------------------\n",
      "2. < Average: [1, 2, 3, 3]\n",
      "------------------------------\n",
      "2. >= Average: [6, 8]\n"
     ]
    }
   ],
   "source": [
    "partition_numbers([1, 2, 3, 6, 8, 3])"
   ]
  },
  {
   "cell_type": "code",
   "execution_count": null,
   "metadata": {},
   "outputs": [],
   "source": []
  },
  {
   "cell_type": "code",
   "execution_count": null,
   "metadata": {},
   "outputs": [],
   "source": []
  },
  {
   "cell_type": "code",
   "execution_count": null,
   "metadata": {},
   "outputs": [],
   "source": []
  },
  {
   "cell_type": "code",
   "execution_count": 140,
   "metadata": {},
   "outputs": [
    {
     "name": "stdout",
     "output_type": "stream",
     "text": [
      "1. Average: 4.153846153846154\n",
      "--------------------\n",
      "2. < Average: [1, 3, 4, -2, 0, 1, 2, 3, 4]\n",
      "--------------------\n",
      "3. >= Average: [7, 15, 9, 7]\n"
     ]
    }
   ],
   "source": [
    "def partition_numbers(a):\n",
    "    avg = sum(a) / len(a)\n",
    "    lt_avg = [x for x in a if x < avg]\n",
    "    geq_avg = [x for x in a if x >= avg]\n",
    "    \n",
    "    print(\"1. Average: {}\".format(avg))\n",
    "    print(\"-\" * 20)\n",
    "    print(\"2. < Average: {}\".format(lt_avg))\n",
    "    print(\"-\" * 20)\n",
    "    print(\"3. >= Average: {}\".format(geq_avg))\n",
    "    \n",
    "# Test\n",
    "numbers = [1, 3, 4, -2, 0, 1, 7, 15, 2, 3, 9, 4, 7]\n",
    "partition_numbers(numbers)"
   ]
  },
  {
   "cell_type": "markdown",
   "metadata": {},
   "source": [
    "#### Viết hàm nhận vào 1 số float, trả về phần nguyên và phần thập phân\n",
    "- Ví dụ: 123.315 --> return (123, 0.315)"
   ]
  },
  {
   "cell_type": "code",
   "execution_count": 238,
   "metadata": {},
   "outputs": [],
   "source": [
    "def split_float(x):\n",
    "    a = int(x)\n",
    "    b = x - a"
   ]
  },
  {
   "cell_type": "code",
   "execution_count": 239,
   "metadata": {},
   "outputs": [
    {
     "data": {
      "text/plain": [
       "0.5"
      ]
     },
     "execution_count": 239,
     "metadata": {},
     "output_type": "execute_result"
    }
   ],
   "source": [
    "b"
   ]
  },
  {
   "cell_type": "code",
   "execution_count": null,
   "metadata": {},
   "outputs": [],
   "source": []
  },
  {
   "cell_type": "code",
   "execution_count": 141,
   "metadata": {},
   "outputs": [
    {
     "name": "stdout",
     "output_type": "stream",
     "text": [
      "(123, 0.3149999999999977)\n"
     ]
    }
   ],
   "source": [
    "def split_float(x):\n",
    "    int_part = int(x)\n",
    "    decimal_part = x - int_part\n",
    "    return (int_part, decimal_part)\n",
    "\n",
    "# Test \n",
    "print(split_float(123.315))"
   ]
  },
  {
   "cell_type": "code",
   "execution_count": 142,
   "metadata": {},
   "outputs": [
    {
     "name": "stdout",
     "output_type": "stream",
     "text": [
      "(123, 0.315)\n"
     ]
    }
   ],
   "source": [
    "def split_float(x):\n",
    "    int_part = int(str(x).split(\".\")[0])\n",
    "    decimal_part = float(\"0.\" + str(x).split(\".\")[-1])\n",
    "    return (int_part, decimal_part)\n",
    "\n",
    "# Test \n",
    "print(split_float(123.315))"
   ]
  },
  {
   "cell_type": "code",
   "execution_count": null,
   "metadata": {},
   "outputs": [],
   "source": []
  }
 ],
 "metadata": {
  "kernelspec": {
   "display_name": "Python 3",
   "language": "python",
   "name": "python3"
  },
  "language_info": {
   "codemirror_mode": {
    "name": "ipython",
    "version": 3
   },
   "file_extension": ".py",
   "mimetype": "text/x-python",
   "name": "python",
   "nbconvert_exporter": "python",
   "pygments_lexer": "ipython3",
   "version": "3.7.3"
  }
 },
 "nbformat": 4,
 "nbformat_minor": 2
}
