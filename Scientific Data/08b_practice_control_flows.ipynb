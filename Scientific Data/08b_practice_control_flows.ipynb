{
 "cells": [
  {
   "cell_type": "markdown",
   "metadata": {},
   "source": [
    "# Practice: Control flows\n",
    "\n",
    "- Branching: `if, if else, if elif else`\n",
    "- Loop: `for, while`\n",
    "- Comprehensions: \n",
    "    - List comprehensions\n",
    "    - Dict comprehensions"
   ]
  },
  {
   "cell_type": "markdown",
   "metadata": {},
   "source": [
    "## 1. Branching"
   ]
  },
  {
   "cell_type": "markdown",
   "metadata": {},
   "source": [
    "Bài 1:\n",
    "\n",
    "1. Khởi tạo biến `age` với giá trị 12\n",
    "1. Viết code kiểm tra nếu tuổi nhỏ hơn 50 thì in ra `Young`, ngược lại in ra `Old`\n",
    "1. Test lại với `age` bằng `75, 50, ...`"
   ]
  },
  {
   "cell_type": "code",
   "execution_count": 3,
   "metadata": {},
   "outputs": [
    {
     "name": "stdout",
     "output_type": "stream",
     "text": [
      "Old\n"
     ]
    }
   ],
   "source": [
    "age = 50\n",
    "\n",
    "if age < 50:\n",
    "    print(\"Young\")\n",
    "else:\n",
    "    print(\"Old\")"
   ]
  },
  {
   "cell_type": "markdown",
   "metadata": {},
   "source": [
    "Bài 2:\n",
    "\n",
    "1. Khởi tạo biến `age` với giá trị `12`\n",
    "1. Viết code kiểm tra nếu tuổi nằm trong:\n",
    "    - Nhỏ hơn `0`, in ra `Invalid`\n",
    "    - `[0, 10)`, in ra `Kid`\n",
    "    - `[10, 18)`, in ra `Teen`\n",
    "    - `[18, 40)`, in ra `Young Adult`\n",
    "    - `[40, 60)`, in ra `Middle Age`\n",
    "    - Từ `60` trở lên, in ra `Old`\n",
    "    \n",
    "1. Test lại với `age` bằng `15, 35, 52, 70, 102, -70, ...`"
   ]
  },
  {
   "cell_type": "code",
   "execution_count": 5,
   "metadata": {},
   "outputs": [
    {
     "name": "stdout",
     "output_type": "stream",
     "text": [
      "Old\n"
     ]
    }
   ],
   "source": [
    "# Your solutions\n",
    "age = 102\n",
    "\n",
    "if age < 0: \n",
    "    print(\"Invalid\")\n",
    "elif age < 10: # Age >= 0\n",
    "    print(\"Kid\")\n",
    "elif age < 18:\n",
    "    print(\"Teen\")\n",
    "elif age < 40:\n",
    "    print(\"Young Adult\")\n",
    "elif age < 60:\n",
    "    print(\"Middle Age\")\n",
    "else:\n",
    "    print(\"Old\")"
   ]
  },
  {
   "cell_type": "markdown",
   "metadata": {},
   "source": [
    "## 2. Looping"
   ]
  },
  {
   "cell_type": "markdown",
   "metadata": {},
   "source": [
    "Bài 1: Lọc ra các số chẵn trong 101 số nguyên đầu tiên (i.e. `0, 1, 2, 3, ..., 100`)"
   ]
  },
  {
   "cell_type": "code",
   "execution_count": 6,
   "metadata": {
    "scrolled": true
   },
   "outputs": [
    {
     "name": "stdout",
     "output_type": "stream",
     "text": [
      "[0, 2, 4, 6, 8, 10, 12, 14, 16, 18, 20, 22, 24, 26, 28, 30, 32, 34, 36, 38, 40, 42, 44, 46, 48, 50, 52, 54, 56, 58, 60, 62, 64, 66, 68, 70, 72, 74, 76, 78, 80, 82, 84, 86, 88, 90, 92, 94, 96, 98, 100]\n"
     ]
    }
   ],
   "source": [
    "# Sample solution\n",
    "results = []\n",
    "\n",
    "for x in range(101):\n",
    "    if x % 2 == 0:\n",
    "        results.append(x)\n",
    "        \n",
    "# Print results\n",
    "print(results)"
   ]
  },
  {
   "cell_type": "code",
   "execution_count": 22,
   "metadata": {
    "scrolled": true
   },
   "outputs": [],
   "source": [
    "# Your solutions\n",
    "# [x for x in range(101) if x % 2 == 0]"
   ]
  },
  {
   "cell_type": "markdown",
   "metadata": {},
   "source": [
    "Bài 2: Tính tổng tích lũy của 20 số lẻ đầu tiên.\n",
    "\n",
    "Đáp án `400`"
   ]
  },
  {
   "cell_type": "code",
   "execution_count": 7,
   "metadata": {},
   "outputs": [],
   "source": [
    "# Your solutions\n",
    "total = 0\n",
    "\n",
    "for x in range(1, 40, 2):\n",
    "    total += x"
   ]
  },
  {
   "cell_type": "code",
   "execution_count": 8,
   "metadata": {},
   "outputs": [
    {
     "data": {
      "text/plain": [
       "400"
      ]
     },
     "execution_count": 8,
     "metadata": {},
     "output_type": "execute_result"
    }
   ],
   "source": [
    "total"
   ]
  },
  {
   "cell_type": "markdown",
   "metadata": {},
   "source": [
    "Bài 3: Viết đoạn chương trình nhập vào một số nguyên `n`. Tính tổng các số nguyên từ `1` đến `n` (n included)"
   ]
  },
  {
   "cell_type": "code",
   "execution_count": 11,
   "metadata": {},
   "outputs": [
    {
     "name": "stdin",
     "output_type": "stream",
     "text": [
      "Nhap vao so nguyen:  4\n"
     ]
    },
    {
     "name": "stdout",
     "output_type": "stream",
     "text": [
      "Tong cua 4 so nguyen dau tien la 10\n"
     ]
    }
   ],
   "source": [
    "# Your solutions\n",
    "n = input(\"Nhap vao so nguyen: \")\n",
    "n = int(n)\n",
    "\n",
    "total = 0\n",
    "\n",
    "for x in range(1, n + 1):\n",
    "    total += x\n",
    "    \n",
    "print(\"Tong cua {} so nguyen dau tien la {}\".format(n, total))"
   ]
  },
  {
   "cell_type": "code",
   "execution_count": null,
   "metadata": {},
   "outputs": [],
   "source": []
  },
  {
   "cell_type": "code",
   "execution_count": null,
   "metadata": {},
   "outputs": [],
   "source": []
  },
  {
   "cell_type": "markdown",
   "metadata": {},
   "source": [
    "Bài 4: \n",
    "\n",
    "1. Tạo một list `l = [12, 15, 32, 0, 13, -42, 55, -75, 122, -132, 150, 180, 200]`\n",
    "2. In ra các phần tử của list đến khi gặp số âm đầu tiên thì dừng:\n",
    "    - Trường hợp 1: In cả số âm đầu tiên\n",
    "    - Trường hợp 2: Không in số âm đầu tiên"
   ]
  },
  {
   "cell_type": "code",
   "execution_count": 12,
   "metadata": {},
   "outputs": [],
   "source": [
    "# Your solutions\n",
    "l = [12, 15, 32, 0, 13, -42, 55, -75, 122, -132, 150, 180, 200]"
   ]
  },
  {
   "cell_type": "code",
   "execution_count": 15,
   "metadata": {},
   "outputs": [
    {
     "name": "stdout",
     "output_type": "stream",
     "text": [
      "12\n",
      "15\n",
      "32\n",
      "0\n",
      "13\n"
     ]
    }
   ],
   "source": [
    "for x in l:\n",
    "    if x < 0:\n",
    "        break\n",
    "        \n",
    "    print(x)"
   ]
  },
  {
   "cell_type": "markdown",
   "metadata": {},
   "source": [
    "Bài 5: \n",
    "\n",
    "1. Tạo biến `num = 12345`\n",
    "1. Đếm số chữ số trong num dùng vòng while\n",
    "1. Có cách nào làm phần trên đơn giản hơn không (không cần dùng loop)? (Hint: ép kiểu string)\n",
    "1. Thử code với các giá trị khác của `num` (vd: `12303`, `20200304`)"
   ]
  },
  {
   "cell_type": "code",
   "execution_count": 21,
   "metadata": {},
   "outputs": [],
   "source": [
    "num = 12345"
   ]
  },
  {
   "cell_type": "code",
   "execution_count": 22,
   "metadata": {},
   "outputs": [
    {
     "name": "stdout",
     "output_type": "stream",
     "text": [
      "5\n"
     ]
    }
   ],
   "source": [
    "total = 0\n",
    "\n",
    "while num > 0:\n",
    "    total += 1\n",
    "    num = num // 10\n",
    "    \n",
    "print(total)"
   ]
  },
  {
   "cell_type": "markdown",
   "metadata": {},
   "source": [
    "Bài 6: \n",
    "\n",
    "1. Tạo một list `l = [12, 15, 32, 0, 13, -42, 55, -75, 0, 122, -132, 150, 180, 200]`\n",
    "1. Tạo một dict với keys `'odd'` và `'even'`, values là số số lẻ và số số chẵn trong `l`\n",
    "1. Tạo một dict với keys `'positive'`,  `'negative'` và `zero`, values là số số dương, âm, và `0` trong `l`"
   ]
  },
  {
   "cell_type": "code",
   "execution_count": 23,
   "metadata": {},
   "outputs": [],
   "source": [
    "# Your solutions\n",
    "l = [12, 15, 32, 0, 13, -42, 55, -75, 0, 122, -132, 150, 180, 200]"
   ]
  },
  {
   "cell_type": "code",
   "execution_count": 24,
   "metadata": {},
   "outputs": [
    {
     "data": {
      "text/plain": [
       "{'odd': 4, 'even': 10}"
      ]
     },
     "execution_count": 24,
     "metadata": {},
     "output_type": "execute_result"
    }
   ],
   "source": [
    "d = {\"odd\": 0, \"even\": 0}\n",
    "\n",
    "for x in l:\n",
    "    if x % 2 == 0:\n",
    "        d[\"even\"] += 1\n",
    "    else:\n",
    "        d[\"odd\"] += 1\n",
    "        \n",
    "d"
   ]
  },
  {
   "cell_type": "code",
   "execution_count": 25,
   "metadata": {},
   "outputs": [
    {
     "name": "stdout",
     "output_type": "stream",
     "text": [
      "{'positive': 9, 'negative': 3, 'zero': 2}\n"
     ]
    }
   ],
   "source": [
    "d = {\"positive\": 0, \"negative\": 0, \"zero\": 0}\n",
    "\n",
    "for x in l:\n",
    "    if x > 0:\n",
    "        d[\"positive\"] += 1\n",
    "    elif x < 0:\n",
    "        d[\"negative\"] += 1\n",
    "    else:\n",
    "        d[\"zero\"] += 1\n",
    "        \n",
    "print(d)"
   ]
  },
  {
   "cell_type": "markdown",
   "metadata": {},
   "source": [
    "Bài 7: In ra các số từ `0` đến `20`, trừ các số sau 3, 6, 15, 17"
   ]
  },
  {
   "cell_type": "code",
   "execution_count": 26,
   "metadata": {},
   "outputs": [
    {
     "name": "stdout",
     "output_type": "stream",
     "text": [
      "0\n",
      "1\n",
      "2\n",
      "4\n",
      "5\n",
      "7\n",
      "8\n",
      "9\n",
      "10\n",
      "11\n",
      "12\n",
      "13\n",
      "14\n",
      "16\n",
      "18\n",
      "19\n",
      "20\n"
     ]
    }
   ],
   "source": [
    "# Your solutions\n",
    "for x in range(21):\n",
    "    if x not in (3, 6, 15, 17):\n",
    "        print(x)"
   ]
  },
  {
   "cell_type": "markdown",
   "metadata": {},
   "source": [
    "Bài 8: Viết đoạn code cho người dùng nhập vào một ký tự trong 26 ký tự tiếng Anh (chấp nhận hoa thường). In ra `'consonant'` nếu ký tự là phụ âm, và in ra `'vowel'` nếu ký tự là nguyên âm."
   ]
  },
  {
   "cell_type": "code",
   "execution_count": 31,
   "metadata": {},
   "outputs": [
    {
     "name": "stdin",
     "output_type": "stream",
     "text": [
      "Nhap vao 1 ky tu t\n"
     ]
    },
    {
     "name": "stdout",
     "output_type": "stream",
     "text": [
      "Consonant\n"
     ]
    }
   ],
   "source": [
    "# Your solutions\n",
    "# Vowel: u, e, o, i, a\n",
    "s = input(\"Nhap vao 1 ky tu\")\n",
    "\n",
    "if s.lower() in \"ueoia\":\n",
    "    print(\"Vowel\")\n",
    "else:\n",
    "    print(\"Consonant\")"
   ]
  },
  {
   "cell_type": "markdown",
   "metadata": {},
   "source": [
    "Bài 9: \n",
    "\n",
    "1. Tạo biến `n = 5`.\n",
    "1. Viết chương trình vẽ bảng cửu chương cho `n = 5` như hình dưới\n",
    "```\n",
    "5 x 1 is 5\n",
    "5 x 2 is 10\n",
    "5 x 3 is 15\n",
    "5 x 4 is 20\n",
    "5 x 5 is 25\n",
    "5 x 6 is 30\n",
    "5 x 7 is 35\n",
    "5 x 8 is 40\n",
    "5 x 9 is 45\n",
    "5 x 10 is 50\n",
    "```\n",
    "1. Test với các giá trị khác của `n`, vd: `4, 6, 7, 8`"
   ]
  },
  {
   "cell_type": "code",
   "execution_count": 38,
   "metadata": {},
   "outputs": [
    {
     "name": "stdout",
     "output_type": "stream",
     "text": [
      "9 x 1 is 9\n",
      "9 x 2 is 18\n",
      "9 x 3 is 27\n",
      "9 x 4 is 36\n",
      "9 x 5 is 45\n",
      "9 x 6 is 54\n",
      "9 x 7 is 63\n",
      "9 x 8 is 72\n",
      "9 x 9 is 81\n",
      "9 x 10 is 90\n"
     ]
    }
   ],
   "source": [
    "# Your solutions\n",
    "n = 9\n",
    "\n",
    "for x in range(1, 11):\n",
    "    print(\"{} x {} is {}\".format(n, x, n * x))"
   ]
  },
  {
   "cell_type": "markdown",
   "metadata": {},
   "source": [
    "Bài 10: (Nâng cao)\n",
    "\n",
    "Giả sử xúc xắc có sáu mặt đánh số từ 1 đến 6. Tung xúc xắc hai lần. Tạo một dict với key là tổng của 2 lần tung và values là một list các tuples dạng `(x, y)` với `x` là kết quả lần tung thứ nhất và `y` là kết quả của lần tung thứ 2 sao tổng `x + y` chính là key.\n",
    "\n",
    "Kết quả kỳ vọng như sau\n",
    "```python\n",
    "{\n",
    "    2: [(1, 1)],\n",
    "    3: [(1, 2), (2, 1)],\n",
    "    4: [(1, 3), (2, 2), (3, 1)],\n",
    "    5: [(1, 4), (2, 3), (3, 2), (4, 1)],\n",
    "    6: [(1, 5), (2, 4), (3, 3), (4, 2), (5, 1)],\n",
    "    7: [(1, 6), (2, 5), (3, 4), (4, 3), (5, 2), (6, 1)],\n",
    "    8: [(2, 6), (3, 5), (4, 4), (5, 3), (6, 2)],\n",
    "    9: [(3, 6), (4, 5), (5, 4), (6, 3)],\n",
    "    10: [(4, 6), (5, 5), (6, 4)],\n",
    "    11: [(5, 6), (6, 5)],\n",
    "    12: [(6, 6)]\n",
    "}\n",
    "```\n",
    "\n",
    "Hint: dùng nested loop"
   ]
  },
  {
   "cell_type": "code",
   "execution_count": null,
   "metadata": {},
   "outputs": [],
   "source": [
    "1, 2 - 2, 1"
   ]
  },
  {
   "cell_type": "code",
   "execution_count": 48,
   "metadata": {},
   "outputs": [],
   "source": [
    "d = {}\n",
    "\n",
    "for x in range(1, 7): # 2\n",
    "    for y in range(1, 7): # 2\n",
    "        if x + y not in d.keys():\n",
    "            d[x + y] = [(x, y)]\n",
    "        else:\n",
    "            d[x + y].append((x, y))"
   ]
  },
  {
   "cell_type": "code",
   "execution_count": 49,
   "metadata": {},
   "outputs": [
    {
     "data": {
      "text/plain": [
       "{2: [(1, 1)],\n",
       " 3: [(1, 2), (2, 1)],\n",
       " 4: [(1, 3), (2, 2), (3, 1)],\n",
       " 5: [(1, 4), (2, 3), (3, 2), (4, 1)],\n",
       " 6: [(1, 5), (2, 4), (3, 3), (4, 2), (5, 1)],\n",
       " 7: [(1, 6), (2, 5), (3, 4), (4, 3), (5, 2), (6, 1)],\n",
       " 8: [(2, 6), (3, 5), (4, 4), (5, 3), (6, 2)],\n",
       " 9: [(3, 6), (4, 5), (5, 4), (6, 3)],\n",
       " 10: [(4, 6), (5, 5), (6, 4)],\n",
       " 11: [(5, 6), (6, 5)],\n",
       " 12: [(6, 6)]}"
      ]
     },
     "execution_count": 49,
     "metadata": {},
     "output_type": "execute_result"
    }
   ],
   "source": [
    "d"
   ]
  },
  {
   "cell_type": "markdown",
   "metadata": {},
   "source": [
    "## 3. Comprehensions\n"
   ]
  },
  {
   "cell_type": "markdown",
   "metadata": {},
   "source": [
    "### 3.1. List comprehensions"
   ]
  },
  {
   "cell_type": "markdown",
   "metadata": {},
   "source": [
    "Bài 1:\n",
    "\n",
    "1. Tạo list `l1` chứa các phần tử `34.6, -203.4, 44.9, 68.3, -12.2, 44.6, 12.7`\n",
    "1. Tạo list `l2` có các phần tử là phần nguyên của `l1`\n",
    "1. Tạo list `l3` có các phần tử là số dương `l1`\n",
    "1. Tạo list `l4` có các phần tử là lập phương của các số chẵn của `l2`"
   ]
  },
  {
   "cell_type": "code",
   "execution_count": 50,
   "metadata": {},
   "outputs": [],
   "source": [
    "l1 = [34.6, -203.4, 44.9, 68.3, -12.2, 44.6, 12.7]"
   ]
  },
  {
   "cell_type": "code",
   "execution_count": 53,
   "metadata": {},
   "outputs": [
    {
     "data": {
      "text/plain": [
       "[34, -203, 44, 68, -12, 44, 12]"
      ]
     },
     "execution_count": 53,
     "metadata": {},
     "output_type": "execute_result"
    }
   ],
   "source": [
    "l2 = [int(x) for x in l1]\n",
    "l2"
   ]
  },
  {
   "cell_type": "code",
   "execution_count": 55,
   "metadata": {},
   "outputs": [
    {
     "data": {
      "text/plain": [
       "[34.6, 44.9, 68.3, 44.6, 12.7]"
      ]
     },
     "execution_count": 55,
     "metadata": {},
     "output_type": "execute_result"
    }
   ],
   "source": [
    "l3 = [x for x in l1 if x > 0]\n",
    "l3"
   ]
  },
  {
   "cell_type": "code",
   "execution_count": 58,
   "metadata": {},
   "outputs": [
    {
     "data": {
      "text/plain": [
       "[39304, 85184, 314432, -1728, 85184, 1728]"
      ]
     },
     "execution_count": 58,
     "metadata": {},
     "output_type": "execute_result"
    }
   ],
   "source": [
    "[x**3 for x in l2 if x % 2 == 0]"
   ]
  },
  {
   "cell_type": "code",
   "execution_count": null,
   "metadata": {},
   "outputs": [],
   "source": []
  },
  {
   "cell_type": "markdown",
   "metadata": {},
   "source": [
    "Bài 2:\n",
    "1. Tạo list `l1` chứa các số tu nhien chia hết cho `7` mà nhỏ hơn `1000`. In ra số lượng phần tử của `l1`\n",
    "1. Tạo list `l2` chứa các số nhỏ hơn `1000` mà có chứa chữ số `2`, in ra số lượng phần tử của `l2`"
   ]
  },
  {
   "cell_type": "code",
   "execution_count": 61,
   "metadata": {},
   "outputs": [
    {
     "name": "stdout",
     "output_type": "stream",
     "text": [
      "143\n"
     ]
    }
   ],
   "source": [
    "l1 = [x for x in range(1000) if x % 7 == 0]\n",
    "print(len(l1))"
   ]
  },
  {
   "cell_type": "code",
   "execution_count": 68,
   "metadata": {},
   "outputs": [
    {
     "name": "stdout",
     "output_type": "stream",
     "text": [
      "271\n"
     ]
    }
   ],
   "source": [
    "l2 = [x for x in range(1000) if \"2\" in str(x)]\n",
    "print(len(l2))"
   ]
  },
  {
   "cell_type": "markdown",
   "metadata": {},
   "source": [
    "Bài 3: Tạo một string bất kỳ. Dùng list comprehension tạo một list mới với nguyên âm bị loại đi."
   ]
  },
  {
   "cell_type": "code",
   "execution_count": 69,
   "metadata": {},
   "outputs": [
    {
     "data": {
      "text/plain": [
       "['T', 'h', 's', ' ', 's', ' ', ' ', 's', 't', 'r', 'n', 'g']"
      ]
     },
     "execution_count": 69,
     "metadata": {},
     "output_type": "execute_result"
    }
   ],
   "source": [
    "s = \"This is a string\"\n",
    "\n",
    "[x for x in s if x not in \"ueoai\"]"
   ]
  },
  {
   "cell_type": "code",
   "execution_count": 70,
   "metadata": {},
   "outputs": [
    {
     "data": {
      "text/plain": [
       "'Ths s  strng'"
      ]
     },
     "execution_count": 70,
     "metadata": {},
     "output_type": "execute_result"
    }
   ],
   "source": [
    "\"\".join([x for x in s if x not in \"ueoai\"])"
   ]
  },
  {
   "cell_type": "code",
   "execution_count": null,
   "metadata": {},
   "outputs": [],
   "source": []
  },
  {
   "cell_type": "markdown",
   "metadata": {},
   "source": [
    "Bài 4:\n",
    "\n",
    "1. Tạo list `l =  [\"Isaac Newton\", \"Albert Einstein\", \"Niels Bohr\", \"Marie Curie\", \"Charles Darwin\", \"Louis Pasteur\", \"Galileo Galilei\", \"Margaret Mead\"]`\n",
    "\n",
    "1. Tạo `l2` từ `l` mà các phần tử được đảo lại dạng `LastName FirstName`"
   ]
  },
  {
   "cell_type": "code",
   "execution_count": 71,
   "metadata": {},
   "outputs": [],
   "source": [
    "l = [\"Isaac Newton\", \n",
    "     \"Albert Einstein\", \"Niels Bohr\", \"Marie Curie\", \n",
    "     \"Charles Darwin\", \"Louis Pasteur\", \"Galileo Galilei\", \"Margaret Mead\"]"
   ]
  },
  {
   "cell_type": "code",
   "execution_count": 72,
   "metadata": {},
   "outputs": [
    {
     "data": {
      "text/plain": [
       "['Isaac', 'Newton']"
      ]
     },
     "execution_count": 72,
     "metadata": {},
     "output_type": "execute_result"
    }
   ],
   "source": [
    "\"Isaac Newton\".split()"
   ]
  },
  {
   "cell_type": "code",
   "execution_count": 76,
   "metadata": {},
   "outputs": [
    {
     "data": {
      "text/plain": [
       "['Newton Isaac',\n",
       " 'Einstein Albert',\n",
       " 'Bohr Niels',\n",
       " 'Curie Marie',\n",
       " 'Darwin Charles',\n",
       " 'Pasteur Louis',\n",
       " 'Galilei Galileo',\n",
       " 'Mead Margaret']"
      ]
     },
     "execution_count": 76,
     "metadata": {},
     "output_type": "execute_result"
    }
   ],
   "source": [
    "[\"{} {}\".format(x.split()[-1], x.split()[0]) for x in l]"
   ]
  },
  {
   "cell_type": "markdown",
   "metadata": {},
   "source": [
    "### 3.2. Dict comprehensions "
   ]
  },
  {
   "cell_type": "markdown",
   "metadata": {},
   "source": [
    "Bài 1:\n",
    "1. Tạo biến `s` lưu string: `'The quick brown fox jumped over the lazy dog'`\n",
    "1. Từ string `s`, tạo dict dạng key là từ, value là số ký tự của từ\n",
    "1. Từ string `s`, tạo dict dạng key là dạng viết thường của từ, value dạng viết hoa của từ"
   ]
  },
  {
   "cell_type": "code",
   "execution_count": 77,
   "metadata": {},
   "outputs": [],
   "source": [
    "s = 'The quick brown fox jumped over the lazy dog'"
   ]
  },
  {
   "cell_type": "code",
   "execution_count": 78,
   "metadata": {},
   "outputs": [
    {
     "data": {
      "text/plain": [
       "{'The': 3,\n",
       " 'quick': 5,\n",
       " 'brown': 5,\n",
       " 'fox': 3,\n",
       " 'jumped': 6,\n",
       " 'over': 4,\n",
       " 'the': 3,\n",
       " 'lazy': 4,\n",
       " 'dog': 3}"
      ]
     },
     "execution_count": 78,
     "metadata": {},
     "output_type": "execute_result"
    }
   ],
   "source": [
    "{x: len(x) for x in s.split()}"
   ]
  },
  {
   "cell_type": "code",
   "execution_count": 79,
   "metadata": {},
   "outputs": [
    {
     "data": {
      "text/plain": [
       "{'the': 'THE',\n",
       " 'quick': 'QUICK',\n",
       " 'brown': 'BROWN',\n",
       " 'fox': 'FOX',\n",
       " 'jumped': 'JUMPED',\n",
       " 'over': 'OVER',\n",
       " 'lazy': 'LAZY',\n",
       " 'dog': 'DOG'}"
      ]
     },
     "execution_count": 79,
     "metadata": {},
     "output_type": "execute_result"
    }
   ],
   "source": [
    "{x.lower(): x.upper() for x in s.split()}"
   ]
  },
  {
   "cell_type": "markdown",
   "metadata": {},
   "source": [
    "Bài 2:\n",
    "\n",
    "1. Tạo `l = [\"A\", \"B\", \"C\", \"D\"]`\n",
    "1. Dùng dict comprehension tạo: `{'A': 'AAAAA', 'B': 'BBBBB', 'C': 'CCCCC', 'D': 'DDDDD'}`"
   ]
  },
  {
   "cell_type": "code",
   "execution_count": 81,
   "metadata": {},
   "outputs": [],
   "source": [
    "l = [\"A\", \"B\", \"C\", \"D\"]"
   ]
  },
  {
   "cell_type": "code",
   "execution_count": 82,
   "metadata": {},
   "outputs": [
    {
     "data": {
      "text/plain": [
       "{'A': 'AAAAA', 'B': 'BBBBB', 'C': 'CCCCC', 'D': 'DDDDD'}"
      ]
     },
     "execution_count": 82,
     "metadata": {},
     "output_type": "execute_result"
    }
   ],
   "source": [
    "{x: x*5 for x in l}"
   ]
  }
 ],
 "metadata": {
  "kernelspec": {
   "display_name": "Python 3",
   "language": "python",
   "name": "python3"
  },
  "language_info": {
   "codemirror_mode": {
    "name": "ipython",
    "version": 3
   },
   "file_extension": ".py",
   "mimetype": "text/x-python",
   "name": "python",
   "nbconvert_exporter": "python",
   "pygments_lexer": "ipython3",
   "version": "3.7.6"
  }
 },
 "nbformat": 4,
 "nbformat_minor": 4
}
