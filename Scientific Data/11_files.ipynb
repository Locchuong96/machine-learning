{
 "cells": [
  {
   "cell_type": "markdown",
   "metadata": {},
   "source": [
    "# Files\n",
    "\n",
    "*Instructor: Tue Nguyen*"
   ]
  },
  {
   "cell_type": "markdown",
   "metadata": {},
   "source": [
    "## 1. Setup\n",
    "Chuẩn bị 3 files sau đặt ở thư mục chứa notebook.\n",
    "\n",
    "\n",
    "`info.csv`\n",
    "```\n",
    "NAME,ADDRESS,EMAIL\n",
    "ABC,CITY A,abc@xyz.com\n",
    "LMN,CITY B,lmn@xyz.com\n",
    "PQR,CITY C,pqr@xyz.com\n",
    "```\n",
    "\n",
    "`info.txt`\n",
    "```\n",
    "NAME||ADDRESS||EMAIL\n",
    "ABC||CITY A||abc@xyz.com\n",
    "LMN||CITY B||lmn@xyz.com\n",
    "PQR||CITY C||pqr@xyz.com\n",
    "```"
   ]
  },
  {
   "cell_type": "markdown",
   "metadata": {},
   "source": [
    "## 2. Giới thiệu về files\n",
    "### 2.1. File\n",
    "- Một file là một tập hợp các bytes liên tiếp lưu trữ dữ liệu. Dữ liệu này được tổ chức theo một format nhất định vd csv, txt, png, jpg, mp3, mp4, ...\n",
    "- Files gồm 3 phần chính: \n",
    "    - Header: metadata về nội dung file (name, size, type, ...)\n",
    "    - Data: contents of the file.\n",
    "    - End of file (EOF): ký tự đặc biệt cho biết kết thúc file.\n",
    "    \n",
    "### 2.2. File path\n",
    "- Để truy cập một file trên một hệ điều hành, ta cần biết file path (địa chỉ của file)\n",
    "- File part gồm 3 phần chính:\n",
    "    - Folder path: đường dẫn đến thư mục chứa file.\n",
    "    - File name: tên file.\n",
    "    - Extension: phần mở rộng (vd: `.csv`, `.txt`, `.json`, ...)\n",
    "    \n",
    "- Ví dụ:\n",
    "```\n",
    "/\n",
    "│\n",
    "├── path/\n",
    "|   │\n",
    "│   ├── to/\n",
    "│   │   └── songs.csv\n",
    "│   │\n",
    "│   └── picture.png\n",
    "|\n",
    "└── list.txt\n",
    "```\n",
    "\n",
    "- Trong VD trên, để truy cập đến `songs.csv`\n",
    "    - Folder name: `path/to/`\n",
    "    - File name: `songs`\n",
    "    - Extension: `.csv`"
   ]
  },
  {
   "cell_type": "code",
   "execution_count": null,
   "metadata": {},
   "outputs": [],
   "source": []
  },
  {
   "cell_type": "markdown",
   "metadata": {},
   "source": [
    "## 3. Thao tác với files"
   ]
  },
  {
   "cell_type": "markdown",
   "metadata": {},
   "source": [
    "### 3.1. Mở / đóng file"
   ]
  },
  {
   "cell_type": "markdown",
   "metadata": {},
   "source": [
    "| Character | Function                                                     |\n",
    "| --------- | ------------------------------------------------------------ |\n",
    "| r         | Open file for reading only. Starts reading from beginning of file. This default mode. |\n",
    "| rb        | Open a file for reading only in binary format. Starts reading from beginning of file. |\n",
    "| r+        | Open file for reading and writing. File pointer placed at beginning of the file. |\n",
    "| w         | Open file for writing only. File pointer placed at beginning of the file. Overwrites existing file and creates a new one if it does not exists. |\n",
    "| wb        | Same as **w** but opens in binary mode.                      |\n",
    "| w+        | Same as **w** but also alows to read from file.              |\n",
    "| wb+       | Same as **wb** but also alows to read from file.             |\n",
    "| a         | Open a file for appending. Starts writing at the end of file. Creates a new file if file does not exist. |\n",
    "| ab        | Same as **a** but in binary format. Creates a new file if file does not exist. |\n",
    "| a+        | Same a **a** but also open for reading.                      |\n",
    "| ab+       | Same a **ab** but also open for reading.                     |"
   ]
  },
  {
   "cell_type": "markdown",
   "metadata": {},
   "source": [
    "#### Mở file dùng đường dẫn tương đối (relative path)"
   ]
  },
  {
   "cell_type": "code",
   "execution_count": 13,
   "metadata": {},
   "outputs": [
    {
     "name": "stdout",
     "output_type": "stream",
     "text": [
      "/d/projects/nordic/01_python_course/teaching_draft\n"
     ]
    }
   ],
   "source": [
    "!pwd"
   ]
  },
  {
   "cell_type": "code",
   "execution_count": 12,
   "metadata": {},
   "outputs": [
    {
     "name": "stdout",
     "output_type": "stream",
     "text": [
      "NAME,ADDRESS,EMAIL\n",
      "ABC,CITY A,abc@xyz.com\n",
      "LMN,CITY B,lmn@xyz.com\n",
      "PQR,CITY C,pqr@xyz.com\n"
     ]
    }
   ],
   "source": [
    "!cat info.csv"
   ]
  },
  {
   "cell_type": "code",
   "execution_count": 10,
   "metadata": {},
   "outputs": [],
   "source": [
    "# Open connection\n",
    "f = open(\"info.csv\", \"r\")"
   ]
  },
  {
   "cell_type": "code",
   "execution_count": 14,
   "metadata": {},
   "outputs": [],
   "source": [
    "contents = f.readlines()"
   ]
  },
  {
   "cell_type": "code",
   "execution_count": 21,
   "metadata": {},
   "outputs": [],
   "source": [
    "# Close\n",
    "f.close() # IO"
   ]
  },
  {
   "cell_type": "code",
   "execution_count": 20,
   "metadata": {},
   "outputs": [
    {
     "data": {
      "text/plain": [
       "[]"
      ]
     },
     "execution_count": 20,
     "metadata": {},
     "output_type": "execute_result"
    }
   ],
   "source": [
    "a"
   ]
  },
  {
   "cell_type": "markdown",
   "metadata": {},
   "source": []
  },
  {
   "cell_type": "code",
   "execution_count": null,
   "metadata": {},
   "outputs": [],
   "source": []
  },
  {
   "cell_type": "code",
   "execution_count": null,
   "metadata": {},
   "outputs": [],
   "source": []
  },
  {
   "cell_type": "code",
   "execution_count": 23,
   "metadata": {},
   "outputs": [],
   "source": [
    "# Open connection\n",
    "f = open(\"info.csv\", \"r\")\n",
    "\n",
    "# Read all lines\n",
    "contents = f.readlines()\n",
    "\n",
    "# Close file (important)\n",
    "f.close()"
   ]
  },
  {
   "cell_type": "code",
   "execution_count": 22,
   "metadata": {},
   "outputs": [
    {
     "data": {
      "text/plain": [
       "['NAME,ADDRESS,EMAIL\\n',\n",
       " 'ABC,CITY A,abc@xyz.com\\n',\n",
       " 'LMN,CITY B,lmn@xyz.com\\n',\n",
       " 'PQR,CITY C,pqr@xyz.com']"
      ]
     },
     "execution_count": 22,
     "metadata": {},
     "output_type": "execute_result"
    }
   ],
   "source": [
    "# View contents\n",
    "contents"
   ]
  },
  {
   "cell_type": "markdown",
   "metadata": {},
   "source": [
    "#### Mở file dùng đường dẫn tuyệt đối (absolute path)"
   ]
  },
  {
   "cell_type": "code",
   "execution_count": 24,
   "metadata": {},
   "outputs": [],
   "source": [
    "import os"
   ]
  },
  {
   "cell_type": "code",
   "execution_count": 29,
   "metadata": {},
   "outputs": [
    {
     "data": {
      "text/plain": [
       "'D:\\\\projects\\\\nordic\\\\01_python_course\\\\teaching_draft'"
      ]
     },
     "execution_count": 29,
     "metadata": {},
     "output_type": "execute_result"
    }
   ],
   "source": [
    "current_dir = os.getcwd()\n",
    "current_dir"
   ]
  },
  {
   "cell_type": "code",
   "execution_count": 31,
   "metadata": {},
   "outputs": [],
   "source": [
    "abs_path = os.path.join(current_dir, \"info.csv\")"
   ]
  },
  {
   "cell_type": "code",
   "execution_count": 32,
   "metadata": {},
   "outputs": [
    {
     "name": "stdout",
     "output_type": "stream",
     "text": [
      "D:\\projects\\nordic\\01_python_course\\teaching_draft\\info.csv\n"
     ]
    }
   ],
   "source": [
    "import os\n",
    "current_dir = os.getcwd()\n",
    "abs_path = os.path.join(current_dir, \"info.csv\")\n",
    "\n",
    "print(abs_path)"
   ]
  },
  {
   "cell_type": "code",
   "execution_count": 33,
   "metadata": {},
   "outputs": [
    {
     "name": "stdout",
     "output_type": "stream",
     "text": [
      "['NAME,ADDRESS,EMAIL\\n', 'ABC,CITY A,abc@xyz.com\\n', 'LMN,CITY B,lmn@xyz.com\\n', 'PQR,CITY C,pqr@xyz.com']\n"
     ]
    }
   ],
   "source": [
    "# Mở read-only file connection\n",
    "f = open(abs_path)\n",
    "\n",
    "# Read all lines\n",
    "contents = f.readlines()\n",
    "\n",
    "# Print contents\n",
    "print(contents)\n",
    "\n",
    "# Close files\n",
    "f.close()"
   ]
  },
  {
   "cell_type": "code",
   "execution_count": 36,
   "metadata": {},
   "outputs": [
    {
     "data": {
      "text/plain": [
       "['NAME,ADDRESS,EMAIL\\n',\n",
       " 'ABC,CITY A,abc@xyz.com\\n',\n",
       " 'LMN,CITY B,lmn@xyz.com\\n',\n",
       " 'PQR,CITY C,pqr@xyz.com']"
      ]
     },
     "execution_count": 36,
     "metadata": {},
     "output_type": "execute_result"
    }
   ],
   "source": [
    "contents"
   ]
  },
  {
   "cell_type": "markdown",
   "metadata": {},
   "source": [
    "#### Kiểm tra xem file đã đóng chưa"
   ]
  },
  {
   "cell_type": "code",
   "execution_count": 38,
   "metadata": {},
   "outputs": [
    {
     "data": {
      "text/plain": [
       "True"
      ]
     },
     "execution_count": 38,
     "metadata": {},
     "output_type": "execute_result"
    }
   ],
   "source": []
  },
  {
   "cell_type": "markdown",
   "metadata": {},
   "source": [
    "#### Mở và tự động đóng file với context manager"
   ]
  },
  {
   "cell_type": "code",
   "execution_count": 39,
   "metadata": {},
   "outputs": [],
   "source": [
    "with open(\"info.csv\", \"r\") as f:\n",
    "    contents = f.readlines()\n",
    "    \n",
    "# dsdsdsdsdsds"
   ]
  },
  {
   "cell_type": "code",
   "execution_count": 40,
   "metadata": {},
   "outputs": [
    {
     "data": {
      "text/plain": [
       "True"
      ]
     },
     "execution_count": 40,
     "metadata": {},
     "output_type": "execute_result"
    }
   ],
   "source": [
    "f.closed"
   ]
  },
  {
   "cell_type": "code",
   "execution_count": null,
   "metadata": {},
   "outputs": [],
   "source": []
  },
  {
   "cell_type": "code",
   "execution_count": 19,
   "metadata": {},
   "outputs": [],
   "source": [
    "# Dùng context manager để đọc files\n",
    "with open(\"info.csv\", \"r\") as f:\n",
    "    contents = f.readlines()"
   ]
  },
  {
   "cell_type": "code",
   "execution_count": 21,
   "metadata": {},
   "outputs": [
    {
     "data": {
      "text/plain": [
       "['NAME,ADDRESS,EMAIL\\n',\n",
       " 'ABC,CITY A,abc@xyz.com\\n',\n",
       " 'LMN,CITY B,lmn@xyz.com\\n',\n",
       " 'PQR,CITY C,pqr@xyz.com']"
      ]
     },
     "execution_count": 21,
     "metadata": {},
     "output_type": "execute_result"
    }
   ],
   "source": [
    "# Print contents\n",
    "contents"
   ]
  },
  {
   "cell_type": "code",
   "execution_count": 20,
   "metadata": {},
   "outputs": [
    {
     "data": {
      "text/plain": [
       "True"
      ]
     },
     "execution_count": 20,
     "metadata": {},
     "output_type": "execute_result"
    }
   ],
   "source": [
    "# Kiểm tra xem connection đã đóng chưa\n",
    "f.closed"
   ]
  },
  {
   "cell_type": "markdown",
   "metadata": {},
   "source": [
    "### 3.2. Đọc file\n",
    "- Có 3 methods để đọc file từ một file connection (lưu ý: `n` là số bytes to read, thông thường 1 ký tự là 1 byte):\n",
    "    - `.read(n)`\n",
    "    - `.readline(n)`\n",
    "    - `.readlines()`"
   ]
  },
  {
   "cell_type": "markdown",
   "metadata": {},
   "source": [
    "#### Phương thức 1: `.read(n)`\n",
    "- Đọc n bytes từ vị trí con trỏ hiện tại. Dịch con trỏ sẽ trỏ n bytes.\n",
    "- Nếu không chỉ định n, đọc hết nội dung từ con trỏ hiện tại đến hết file. Dịch con trỏ sẽ trỏ đến EOF."
   ]
  },
  {
   "cell_type": "markdown",
   "metadata": {},
   "source": [
    "VD 1"
   ]
  },
  {
   "cell_type": "code",
   "execution_count": 41,
   "metadata": {},
   "outputs": [],
   "source": [
    "# Open file\n",
    "f = open(\"info.csv\", \"r\")"
   ]
  },
  {
   "cell_type": "code",
   "execution_count": 42,
   "metadata": {},
   "outputs": [],
   "source": [
    "# Ko chỉ định N, đọc hết\n",
    "# Để ý ký tự \\n ở kết quả\n",
    "x = f.read()"
   ]
  },
  {
   "cell_type": "code",
   "execution_count": 45,
   "metadata": {},
   "outputs": [],
   "source": [
    "y = f.read()"
   ]
  },
  {
   "cell_type": "code",
   "execution_count": 47,
   "metadata": {},
   "outputs": [],
   "source": [
    "# Đóng file\n",
    "f.close()"
   ]
  },
  {
   "cell_type": "markdown",
   "metadata": {},
   "source": [
    "VD 2"
   ]
  },
  {
   "cell_type": "code",
   "execution_count": 58,
   "metadata": {},
   "outputs": [],
   "source": [
    "# Open file\n",
    "f = open(\"info.csv\", \"r\")"
   ]
  },
  {
   "cell_type": "code",
   "execution_count": 50,
   "metadata": {},
   "outputs": [
    {
     "name": "stdout",
     "output_type": "stream",
     "text": [
      "NAM\n"
     ]
    }
   ],
   "source": [
    "print(f.read(3)) # Đọc 3 ký tự"
   ]
  },
  {
   "cell_type": "code",
   "execution_count": 99,
   "metadata": {},
   "outputs": [
    {
     "data": {
      "text/plain": [
       "''"
      ]
     },
     "execution_count": 99,
     "metadata": {},
     "output_type": "execute_result"
    }
   ],
   "source": [
    "f.read(3)"
   ]
  },
  {
   "cell_type": "code",
   "execution_count": 54,
   "metadata": {},
   "outputs": [
    {
     "name": "stdout",
     "output_type": "stream",
     "text": [
      ",EM\n",
      "AIL\n",
      "\n",
      "AB\n"
     ]
    }
   ],
   "source": [
    "print(f.read(3)) # Đọc 3 ký tự\n",
    "print(f.read(3)) # Đọc 3 ký tự tiếp\n",
    "print(f.read(3)) # Đọc 3 ký tự tiếp"
   ]
  },
  {
   "cell_type": "code",
   "execution_count": 57,
   "metadata": {},
   "outputs": [],
   "source": [
    "# Đóng file\n",
    "f.close()"
   ]
  },
  {
   "cell_type": "markdown",
   "metadata": {},
   "source": [
    "VD 3"
   ]
  },
  {
   "cell_type": "code",
   "execution_count": 100,
   "metadata": {},
   "outputs": [],
   "source": [
    "# Mở file \n",
    "f = open(\"info.csv\", \"r\")"
   ]
  },
  {
   "cell_type": "code",
   "execution_count": 101,
   "metadata": {},
   "outputs": [
    {
     "name": "stdout",
     "output_type": "stream",
     "text": [
      "NAME,ADDRESS,EMAIL\n",
      "ABC,CITY A,abc@xyz.com\n",
      "LMN,CITY B,lmn@xyz.com\n",
      "PQR,CITY C,pqr@xyz.com\n"
     ]
    }
   ],
   "source": [
    "# Đọc hết nội dung file\n",
    "print(f.read())"
   ]
  },
  {
   "cell_type": "code",
   "execution_count": 102,
   "metadata": {},
   "outputs": [
    {
     "name": "stdout",
     "output_type": "stream",
     "text": [
      "\n"
     ]
    }
   ],
   "source": [
    "# Nếu gọi f.read() lần nữa sẽ chỉ trả về chuỗi rỗng\n",
    "print(f.read())"
   ]
  },
  {
   "cell_type": "code",
   "execution_count": 103,
   "metadata": {},
   "outputs": [
    {
     "name": "stdout",
     "output_type": "stream",
     "text": [
      "True\n"
     ]
    }
   ],
   "source": [
    "# Check\n",
    "print(f.read() == \"\")"
   ]
  },
  {
   "cell_type": "code",
   "execution_count": 104,
   "metadata": {},
   "outputs": [],
   "source": [
    "# Đóng file\n",
    "f.close()"
   ]
  },
  {
   "cell_type": "markdown",
   "metadata": {},
   "source": [
    "#### Phương thức 2: `.readline(n)`\n",
    "- Đọc tối đa n bytes từ vị trí con trỏ hiện tại. Dịch con trỏ n bytes.\n",
    "- Nếu không chỉ định n, đọc toàn nội dung từ vị trí con trỏ hiện tại đến hết dòng. Dịch con trỏ đến EOL."
   ]
  },
  {
   "cell_type": "markdown",
   "metadata": {},
   "source": [
    "VD 1"
   ]
  },
  {
   "cell_type": "markdown",
   "metadata": {},
   "source": [
    "Dùng `.readline(n)`"
   ]
  },
  {
   "cell_type": "code",
   "execution_count": 105,
   "metadata": {},
   "outputs": [],
   "source": [
    "# Mở file \n",
    "f = open(\"info.csv\", \"r\")"
   ]
  },
  {
   "cell_type": "code",
   "execution_count": 106,
   "metadata": {},
   "outputs": [
    {
     "name": "stdout",
     "output_type": "stream",
     "text": [
      "1 NAM\n"
     ]
    }
   ],
   "source": [
    "print(1, f.readline(3)) # Đọc 3 ký tự dòng 1"
   ]
  },
  {
   "cell_type": "code",
   "execution_count": 111,
   "metadata": {},
   "outputs": [
    {
     "data": {
      "text/plain": [
       "''"
      ]
     },
     "execution_count": 111,
     "metadata": {},
     "output_type": "execute_result"
    }
   ],
   "source": [
    "f.readline()"
   ]
  },
  {
   "cell_type": "code",
   "execution_count": null,
   "metadata": {},
   "outputs": [],
   "source": []
  },
  {
   "cell_type": "code",
   "execution_count": 64,
   "metadata": {},
   "outputs": [
    {
     "name": "stdout",
     "output_type": "stream",
     "text": [
      "1 NAM\n",
      "2 E,ADDRESS,EMAIL\n",
      "\n",
      "3 ABC,CITY A,abc@xyz.com\n",
      "\n"
     ]
    }
   ],
   "source": [
    "# Mở file \n",
    "f = open(\"info.csv\", \"r\")\n",
    "\n",
    "# .readline(3) x 3 lần\n",
    "print(1, f.readline(3)) # Đọc 3 ký tự dòng 1\n",
    "print(2, f.readline()) # Đọc từ ký tự thứ 3 của dòng 1 đến hết dòng 1\n",
    "print(3, f.readline()) # Đọc hết dòng thứ 2\n",
    "\n",
    "# Đóng file\n",
    "f.close()"
   ]
  },
  {
   "cell_type": "markdown",
   "metadata": {},
   "source": [
    "So sánh với dùng `.read(n)`"
   ]
  },
  {
   "cell_type": "code",
   "execution_count": 112,
   "metadata": {},
   "outputs": [
    {
     "name": "stdout",
     "output_type": "stream",
     "text": [
      "1 NAM\n",
      "2 E,ADDRESS,EMAIL\n",
      "ABC,CITY A,abc@xyz.com\n",
      "LMN,CITY B,lmn@xyz.com\n",
      "PQR,CITY C,pqr@xyz.com\n",
      "3 \n"
     ]
    }
   ],
   "source": [
    "# Mở file \n",
    "f = open(\"info.csv\", \"r\")\n",
    "\n",
    "# .readline(3) x 3 lần\n",
    "print(1, f.read(3)) # Đọc 3 ký tự dòng 1\n",
    "print(2, f.read()) # Đọc từ ký tự thứ 3 của dòng 1 hết file\n",
    "print(3, f.read()) # Ko còn gì để đọc\n",
    "\n",
    "# Đóng file\n",
    "f.close()"
   ]
  },
  {
   "cell_type": "markdown",
   "metadata": {},
   "source": [
    "#### Phương thức 2: `.readlines()`\n",
    "- Đọc hết nội dung từ con trỏ hiện tại đến EOF. \n",
    "- Trả về kết quả là một list với mỗi dòng là một phần tử của list."
   ]
  },
  {
   "cell_type": "code",
   "execution_count": 113,
   "metadata": {},
   "outputs": [],
   "source": [
    "# Mở file \n",
    "f = open(\"info.csv\", \"r\")"
   ]
  },
  {
   "cell_type": "code",
   "execution_count": 115,
   "metadata": {},
   "outputs": [
    {
     "data": {
      "text/plain": [
       "[]"
      ]
     },
     "execution_count": 115,
     "metadata": {},
     "output_type": "execute_result"
    }
   ],
   "source": [
    "f.readlines()"
   ]
  },
  {
   "cell_type": "code",
   "execution_count": null,
   "metadata": {},
   "outputs": [],
   "source": []
  },
  {
   "cell_type": "code",
   "execution_count": 10,
   "metadata": {},
   "outputs": [
    {
     "name": "stdout",
     "output_type": "stream",
     "text": [
      "['NAME,ADDRESS,EMAIL\\n', 'ABC,CITY A,abc@xyz.com\\n', 'LMN,CITY B,lmn@xyz.com\\n', 'PQR,CITY C,pqr@xyz.com']\n",
      "[]\n"
     ]
    }
   ],
   "source": [
    "# Mở file \n",
    "f = open(\"info.csv\", \"r\")\n",
    "\n",
    "print(f.readlines()) # Đọc hết nội file, trả về 1 list các lines\n",
    "print(f.readlines()) # Không còn gì để đọc, trả về list rỗng\n",
    "\n",
    "# Đóng file\n",
    "f.close()"
   ]
  },
  {
   "cell_type": "code",
   "execution_count": null,
   "metadata": {},
   "outputs": [],
   "source": []
  },
  {
   "cell_type": "code",
   "execution_count": 125,
   "metadata": {},
   "outputs": [],
   "source": [
    "with open(\"info.csv\") as f:\n",
    "    contents = f.readlines()"
   ]
  },
  {
   "cell_type": "code",
   "execution_count": 128,
   "metadata": {},
   "outputs": [
    {
     "data": {
      "text/plain": [
       "['NAME,ADDRESS,EMAIL\\n',\n",
       " 'ABC,CITY A,abc@xyz.com\\n',\n",
       " 'LMN,CITY B,lmn@xyz.com\\n',\n",
       " 'PQR,CITY C,pqr@xyz.com']"
      ]
     },
     "execution_count": 128,
     "metadata": {},
     "output_type": "execute_result"
    }
   ],
   "source": [
    "contents"
   ]
  },
  {
   "cell_type": "code",
   "execution_count": 116,
   "metadata": {},
   "outputs": [],
   "source": [
    "import pandas as pd"
   ]
  },
  {
   "cell_type": "code",
   "execution_count": 117,
   "metadata": {},
   "outputs": [],
   "source": [
    "df = pd.read_csv(\"info.csv\")"
   ]
  },
  {
   "cell_type": "markdown",
   "metadata": {},
   "source": [
    "### Take away\n",
    "- Thông thường dùng `.readlines()` và lưu kết quả ra list nếu file không quá lớn.\n",
    "- Nếu file quá lớn thì có thể dùng `.readline()` để đọc từng dòng và làm với từng dòng.\n",
    "- Hiếm khi dùng `.read()`"
   ]
  },
  {
   "cell_type": "markdown",
   "metadata": {},
   "source": [
    "VD: Đọc files lớn, đếm tổng số ký tự"
   ]
  },
  {
   "cell_type": "code",
   "execution_count": 7,
   "metadata": {},
   "outputs": [
    {
     "name": "stdout",
     "output_type": "stream",
     "text": [
      "18\n",
      "40\n",
      "62\n",
      "83\n"
     ]
    }
   ],
   "source": [
    "# Open file\n",
    "f = open(\"info.csv\", \"r\")\n",
    "\n",
    "# Initiate counting variable\n",
    "num_chars = 0\n",
    "\n",
    "while True:\n",
    "    line = f.readline()\n",
    "    \n",
    "    if line == \"\":\n",
    "        break\n",
    "        \n",
    "    num_chars += len(line) - 1 # Why - 1???\n",
    "    print(num_chars) # Print cumulative count at each step (line)\n",
    "\n",
    "# Close file\n",
    "f.close()"
   ]
  },
  {
   "cell_type": "markdown",
   "metadata": {},
   "source": [
    "### 3.3. Duyệt qua từng dòng của file"
   ]
  },
  {
   "cell_type": "code",
   "execution_count": 135,
   "metadata": {},
   "outputs": [],
   "source": []
  },
  {
   "cell_type": "code",
   "execution_count": 154,
   "metadata": {},
   "outputs": [
    {
     "name": "stdout",
     "output_type": "stream",
     "text": [
      "18\n",
      "40\n",
      "62\n",
      "84\n"
     ]
    }
   ],
   "source": [
    "num_chars = 0\n",
    "\n",
    "with open(\"info.csv\") as f: # Context manager\n",
    "    while True:\n",
    "        line = f.readline().strip()\n",
    "        \n",
    "        if line == \"\":\n",
    "            break\n",
    "        \n",
    "        num_chars += len(line)\n",
    "        print(num_chars)"
   ]
  },
  {
   "cell_type": "code",
   "execution_count": null,
   "metadata": {},
   "outputs": [],
   "source": []
  },
  {
   "cell_type": "code",
   "execution_count": 12,
   "metadata": {},
   "outputs": [
    {
     "name": "stdout",
     "output_type": "stream",
     "text": [
      "NAME,ADDRESS,EMAIL\n",
      "\n",
      "ABC,CITY A,abc@xyz.com\n",
      "\n",
      "LMN,CITY B,lmn@xyz.com\n",
      "\n",
      "PQR,CITY C,pqr@xyz.com\n"
     ]
    }
   ],
   "source": [
    "# Cách 1:\n",
    "with open(\"info.csv\", \"r\") as f:\n",
    "    while True:\n",
    "        l = f.readline()\n",
    "        if l == \"\":\n",
    "            break\n",
    "            \n",
    "        print(l)"
   ]
  },
  {
   "cell_type": "code",
   "execution_count": 13,
   "metadata": {},
   "outputs": [
    {
     "name": "stdout",
     "output_type": "stream",
     "text": [
      "NAME,ADDRESS,EMAIL\n",
      "\n",
      "ABC,CITY A,abc@xyz.com\n",
      "\n",
      "LMN,CITY B,lmn@xyz.com\n",
      "\n",
      "PQR,CITY C,pqr@xyz.com\n"
     ]
    }
   ],
   "source": [
    "# Cách 2\n",
    "with open(\"info.csv\", \"r\") as f:\n",
    "    for l in f.readlines():\n",
    "        print(l)"
   ]
  },
  {
   "cell_type": "code",
   "execution_count": 15,
   "metadata": {},
   "outputs": [
    {
     "name": "stdout",
     "output_type": "stream",
     "text": [
      "NAME,ADDRESS,EMAIL\n",
      "\n",
      "ABC,CITY A,abc@xyz.com\n",
      "\n",
      "LMN,CITY B,lmn@xyz.com\n",
      "\n",
      "PQR,CITY C,pqr@xyz.com\n"
     ]
    }
   ],
   "source": [
    "# Cách 3: (pythonic, clean, fast, and memory efficient)\n",
    "# In Python for over f means iterate over each line\n",
    "with open(\"info.csv\", \"r\") as f:\n",
    "    for l in f:\n",
    "        print(l)"
   ]
  },
  {
   "cell_type": "markdown",
   "metadata": {},
   "source": [
    "### 3.4. Ghi file\n",
    "- `.write(s)` # Write từng dòng\n",
    "- `.writelines(s)` # Write một lần nhiều dòng"
   ]
  },
  {
   "cell_type": "markdown",
   "metadata": {},
   "source": [
    "#### Write mỗi lần 1 dòng: `.write(l)`"
   ]
  },
  {
   "cell_type": "code",
   "execution_count": 155,
   "metadata": {},
   "outputs": [
    {
     "data": {
      "text/plain": [
       "['NAME,ADDRESS,EMAIL\\n',\n",
       " 'ABC,CITY A,abc@xyz.com\\n',\n",
       " 'LMN,CITY B,lmn@xyz.com\\n',\n",
       " 'PQR,CITY C,pqr@xyz.com']"
      ]
     },
     "execution_count": 155,
     "metadata": {},
     "output_type": "execute_result"
    }
   ],
   "source": [
    "# Đọc nội dung file info.csv\n",
    "# lưu ra list\n",
    "with open(\"info.csv\") as f:\n",
    "    contents = f.readlines()\n",
    "    \n",
    "contents"
   ]
  },
  {
   "cell_type": "code",
   "execution_count": 157,
   "metadata": {},
   "outputs": [
    {
     "name": "stdout",
     "output_type": "stream",
     "text": [
      "PQR,CITY C,pqr@xyz.com\n",
      "LMN,CITY B,lmn@xyz.com\n",
      "\n",
      "ABC,CITY A,abc@xyz.com\n",
      "\n",
      "NAME,ADDRESS,EMAIL\n",
      "\n"
     ]
    }
   ],
   "source": [
    "for x in reversed(contents):\n",
    "    print(x)"
   ]
  },
  {
   "cell_type": "code",
   "execution_count": 159,
   "metadata": {},
   "outputs": [],
   "source": [
    "# Lưu contents the thứ tự dòng đảo ngược\n",
    "with open(\"info_reversed.csv\", \"w\") as f:\n",
    "    for l in reversed(contents):\n",
    "        line = l.strip() + \"\\n\"\n",
    "        f.write(line)"
   ]
  },
  {
   "cell_type": "code",
   "execution_count": 160,
   "metadata": {},
   "outputs": [
    {
     "name": "stdout",
     "output_type": "stream",
     "text": [
      "['PQR,CITY C,pqr@xyz.com\\n', 'LMN,CITY B,lmn@xyz.com\\n', 'ABC,CITY A,abc@xyz.com\\n', 'NAME,ADDRESS,EMAIL\\n']\n"
     ]
    }
   ],
   "source": [
    "# Đọc lại nội dung file vừa ghi (double check)\n",
    "with open(\"info_reversed.csv\", \"r\") as f:\n",
    "    print(f.readlines())"
   ]
  },
  {
   "cell_type": "markdown",
   "metadata": {},
   "source": [
    "#### Write một lần một list các dòng: `.writelines(l)`"
   ]
  },
  {
   "cell_type": "code",
   "execution_count": 163,
   "metadata": {},
   "outputs": [],
   "source": [
    "# Ghi\n",
    "with open(\"info_reversed.csv\", \"w\") as f:\n",
    "    contents2 = [x.strip() + \"\\n\" for x in contents]\n",
    "    f.writelines(reversed(contents2))"
   ]
  },
  {
   "cell_type": "code",
   "execution_count": 24,
   "metadata": {},
   "outputs": [
    {
     "name": "stdout",
     "output_type": "stream",
     "text": [
      "['PQR,CITY C,pqr@xyz.comLMN,CITY B,lmn@xyz.com\\n', 'ABC,CITY A,abc@xyz.com\\n', 'NAME,ADDRESS,EMAIL\\n']\n"
     ]
    }
   ],
   "source": [
    "# Double check\n",
    "with open(\"info_reversed.csv\", \"r\") as f:\n",
    "    print(f.readlines())"
   ]
  },
  {
   "cell_type": "markdown",
   "metadata": {},
   "source": [
    "#### Append lines "
   ]
  },
  {
   "cell_type": "code",
   "execution_count": 165,
   "metadata": {},
   "outputs": [],
   "source": [
    "data1 = [\n",
    "    \"First sentence\\n\",\n",
    "    \"Second sentence\\n\"\n",
    "]\n",
    "\n",
    "data2 = [\n",
    "    \"Third sentence\\n\",\n",
    "    \"Fourth sentence\\n\"\n",
    "]"
   ]
  },
  {
   "cell_type": "code",
   "execution_count": 166,
   "metadata": {},
   "outputs": [],
   "source": [
    "# Mở file ở mode append\n",
    "# Vì chưa có file tên new_file.csv, một file mới sẽ được tạo\n",
    "with open(\"new_file.csv\", \"a\") as f:\n",
    "    f.writelines(data1)"
   ]
  },
  {
   "cell_type": "code",
   "execution_count": 169,
   "metadata": {},
   "outputs": [],
   "source": [
    "# Mở và append new data\n",
    "with open(\"new_file.csv\", \"a\") as f:\n",
    "    f.writelines(data2)"
   ]
  },
  {
   "cell_type": "markdown",
   "metadata": {},
   "source": [
    "### 3.5. Làm việc với 2 files cùng một lúc"
   ]
  },
  {
   "cell_type": "code",
   "execution_count": 171,
   "metadata": {},
   "outputs": [],
   "source": [
    "input_path = \"info.csv\"\n",
    "output_path = \"info_reversed.csv\"\n",
    "\n",
    "with open(input_path, \"r\") as reader, open(output_path, \"w\") as writer:\n",
    "    contents = reader.readlines()\n",
    "    writer.writelines(reversed(contents))\n"
   ]
  },
  {
   "cell_type": "code",
   "execution_count": 172,
   "metadata": {},
   "outputs": [
    {
     "name": "stdout",
     "output_type": "stream",
     "text": [
      "['PQR,CITY C,pqr@xyz.comLMN,CITY B,lmn@xyz.com\\n', 'ABC,CITY A,abc@xyz.com\\n', 'NAME,ADDRESS,EMAIL\\n']\n"
     ]
    }
   ],
   "source": [
    "# Kiểm tra\n",
    "with open(output_path, \"r\") as f:\n",
    "    print(f.readlines())"
   ]
  },
  {
   "cell_type": "code",
   "execution_count": null,
   "metadata": {},
   "outputs": [],
   "source": []
  }
 ],
 "metadata": {
  "kernelspec": {
   "display_name": "Python 3",
   "language": "python",
   "name": "python3"
  },
  "language_info": {
   "codemirror_mode": {
    "name": "ipython",
    "version": 3
   },
   "file_extension": ".py",
   "mimetype": "text/x-python",
   "name": "python",
   "nbconvert_exporter": "python",
   "pygments_lexer": "ipython3",
   "version": "3.7.3"
  }
 },
 "nbformat": 4,
 "nbformat_minor": 2
}
