{
 "cells": [
  {
   "cell_type": "markdown",
   "id": "0ee5825f",
   "metadata": {},
   "source": [
    "# references\n",
    "\n",
    "[decision tree](https://betterdatascience.com/mml-decision-trees/)\n",
    "\n",
    "[decision tree and xgboost](https://mljar.com/machine-learning/decision-tree-vs-xgboost/)\n",
    "\n",
    "[xgboost](https://www.nvidia.com/en-us/glossary/data-science/xgboost/)"
   ]
  }
 ],
 "metadata": {
  "kernelspec": {
   "display_name": "Python 3",
   "language": "python",
   "name": "python3"
  },
  "language_info": {
   "codemirror_mode": {
    "name": "ipython",
    "version": 3
   },
   "file_extension": ".py",
   "mimetype": "text/x-python",
   "name": "python",
   "nbconvert_exporter": "python",
   "pygments_lexer": "ipython3",
   "version": "3.8.8"
  }
 },
 "nbformat": 4,
 "nbformat_minor": 5
}
