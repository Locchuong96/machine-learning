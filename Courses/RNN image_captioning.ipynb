{
 "cells": [
  {
   "cell_type": "markdown",
   "id": "f88fb936",
   "metadata": {},
   "source": [
    "### image captioning\n",
    "\n",
    "This notebook base on [nttuan8 blog](https://nttuan8.com/).\n",
    "\n",
    "We build model to convert content in the image to text, this is called `image_captioning`, follow this processing: `image` -> `text` -> `voice`\n",
    "\n",
    "**Usages**:\n",
    "\n",
    "- For helping elders who have weak eyes can understand what is going on around them.\n",
    "\n",
    "- search image follow the caption\n",
    "\n",
    "We can download the dataset [here](https://academictorrents.com/details/9dea07ba660a722ae1008c4c8afdd303b6f6e53b), they have `8000` samples.\n",
    "\n",
    "- `6000` for training set meaning `75%`\n",
    "\n",
    "- `1000` for validation set `12.5%`\n",
    "\n",
    "- `1000` for testing set `12.5%`\n",
    "\n",
    "Your `Flickr8k` download will contain 2 floder: \n",
    "\n",
    "- floder `Images`: contain the images\n",
    "\n",
    "- text file `captions`: contain the captions"
   ]
  },
  {
   "cell_type": "markdown",
   "id": "c34fce2d",
   "metadata": {},
   "source": [
    "### references\n",
    "\n",
    "[image-caption-using-tensor-flow](https://www.kaggle.com/code/priyankasharma251997/image-caption-using-tensor-flow)"
   ]
  }
 ],
 "metadata": {
  "kernelspec": {
   "display_name": "Python 3",
   "language": "python",
   "name": "python3"
  },
  "language_info": {
   "codemirror_mode": {
    "name": "ipython",
    "version": 3
   },
   "file_extension": ".py",
   "mimetype": "text/x-python",
   "name": "python",
   "nbconvert_exporter": "python",
   "pygments_lexer": "ipython3",
   "version": "3.8.8"
  }
 },
 "nbformat": 4,
 "nbformat_minor": 5
}
