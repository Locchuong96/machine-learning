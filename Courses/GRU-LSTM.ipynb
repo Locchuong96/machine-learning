{
 "cells": [
  {
   "cell_type": "markdown",
   "id": "f8a68afe",
   "metadata": {},
   "source": [
    "Author: [Chuong Hoa Loc](https://github.com/Locchuong96)\n",
    "[email](locchuong123@gmail.com)\n",
    "\n",
    "### RNN application on sequence data\n",
    "\n",
    "![models](models.png)\n",
    "\n",
    "**RNN**\n",
    "\n",
    "|   |   |   |\n",
    "|---|---|---|\n",
    "|$m$| sequence lenght||\n",
    "|$n$| hidden node||\n",
    "|$x_{t}$| input vector |`(mx1)`|\n",
    "|$h_{t}$| hidden layer vector |`(nx1)`|\n",
    "|$o_{t}$| output vector |`(nx1)`|\n",
    "|$y_{t}$| output vector |`(nx1)`|\n",
    "|$b_{h}$| bias vector |`(nx1)`|\n",
    "|$b_{y}$| bias vector |`(1xn)`|\n",
    "|$U$| x-matrix |`(n,m)`|\n",
    "|$W$| h-matrix |`(n,n)`|\n",
    "|$V$| y-matrix |`(1,n)`|\n",
    "\n",
    "![RNN](RNN2.png)\n",
    "\n",
    "$h_{t} = tanh{(z_{t})} = tanh{(U.x_{t} + W.h_{t-1} + b_{h})}$\n",
    "\n",
    "$o_{t} = y_{t} = sigmoid(V.h_{t}+b_{y})$\n",
    "\n",
    "**GRU**\n",
    "\n",
    "*Note*: in `GRU` memory_state = hidden_state $c_{t} = a_{t} (h_{t})$\n",
    "\n",
    "|   |   |   |\n",
    "|---|---|---|\n",
    "|$x_{t}$| input vector ||\n",
    "|$h_{t}$| hidden layer vector ||\n",
    "|$b_{u}$| bias vector ||\n",
    "|$b_{r}$| bias vector ||\n",
    "|$b_{h}$| bias vector ||\n",
    "|$W_{u}$| parameter matrix ||\n",
    "|$W_{r}$| parameter matrix ||\n",
    "|$W_{h}$| parameter matrix ||\n",
    "\n",
    "Update gate:\n",
    "\n",
    "It help to decide which information from the previous time $h_{t-1}$ step can be take forward to the next time step $h_{t}$\n",
    "\n",
    "$u_{t} = \\sigma{(W_{u}.[h_{t-1},x_{t}] + b_{u})}$\n",
    "\n",
    "Reset gate: \n",
    "\n",
    "It help to decide how to add the new information to the memory i.e how much of the past information can be forget\n",
    "$r_{t} = \\sigma{(W_{r}.[h_{t-1},x_{t}] + b_{r})}$\n",
    "\n",
    "Candidate state: \n",
    "\n",
    "candidate state is created to holding the new information\n",
    "\n",
    "$\\tilde{h}_{t} = \\tanh{(W_{h}.[r_{t} \\odot h_{t-1},x_{t}] + b_{h})}$\n",
    "\n",
    "Hidden state: $h_{t} = (1-u_{t})\\odot h_{t-1}+u_{t}\\odot\\tilde{h}_{t}$\n",
    "\n",
    "Output value: $y_{t}  = V.h_{t} + b_{y}$\n",
    "\n",
    "![GRU](GRU_1.png)\n",
    "\n",
    "**LSTM**\n",
    "\n",
    "|   |   |   |\n",
    "|---|---|---|\n",
    "|$x_{t}$| input vector ||\n",
    "|$h_{t}$| hidden layer vector ||\n",
    "|$c_{t}$| hidden layer vector ||\n",
    "|$b_{f}$| bias vector ||\n",
    "|$b_{i}$| bias vector ||\n",
    "|$b_{c}$| bias vector ||\n",
    "|$b_{o}$| bias vector ||\n",
    "|$W_{f}$| parameter matrix ||\n",
    "|$W_{i}$| parameter matrix ||\n",
    "|$W_{c}$| parameter matrix ||\n",
    "|$W_{o}$| parameter matrix ||\n",
    "\n",
    "![LSTM](LSTM_1.png)\n",
    "\n",
    "Forget gate: $f_{t} = \\sigma{(W_{f}.[h_{t-1},x_{t}] + b_{f})}$\n",
    "\n",
    "Input gate: $i_{t} = \\sigma{(W_{i}.[h_{t-1},x_{t}] + b_{i})}$\n",
    "\n",
    "Output gate: $o_{t} = \\sigma{(W_{o}.[h_{t-1},x_{t}] + b_{o})}$\n",
    "\n",
    "Candidate: $\\tilde{C}_{t} = \\tanh{(W_{c}.[h_{t-1},x_{t}] + b_{c})} $\n",
    "\n",
    "New cell state: $C_{t} = f_{t} \\odot C_{t-1} + i_{t} \\odot \\tilde{C}_{t}$\n",
    "\n",
    "Hidden state: $h_{t} = o_{t} \\odot \\tanh{C_{t}}$\n",
    "\n",
    "**Overview**\n",
    "\n",
    "![rnn_models](rnn_models_1.png)\n"
   ]
  },
  {
   "cell_type": "markdown",
   "id": "4d079132",
   "metadata": {},
   "source": [
    "### build GRU (Gated Recurrent Units) from scratch\n",
    "\n",
    "**forward pass**\n",
    "\n",
    "![gru_forward](gru_forward.png)\n",
    "\n",
    "Update gate: $u_{t} = \\sigma{(W_{u}.[h_{t-1},x_{t}] + b_{u})}$\n",
    "\n",
    "Relevant gate: $r_{t} = \\sigma{(W_{r}.[h_{t-1},x_{t}] + b_{r})}$\n",
    "\n",
    "Content state: $\\tilde{h}_{t} = \\tanh{(W_{h}.[r_{t} \\odot h_{t-1},x_{t}] + b_{h})}$\n",
    "\n",
    "Hidden state: $h_{t} = (1-u_{t})\\odot h_{t-1}+u_{t}\\odot\\tilde{h}_{t}$\n",
    "\n",
    "Output value: $y_{t}  = V.h_{t} + b_{y}$\n",
    "\n",
    "**loss function**\n",
    "\n",
    "this demo use *mean square error* to calculate how wrong between your prediction and the ground-truth\n",
    "\n",
    "$$ L = \\sum_{k}^{m}L_{k} = \\frac{1}{2m} * \\sum_{k}^{m} (y_{k} - \\hat{y}_{k})^{2}$$\n",
    "\n",
    "**backward pass (backpropagation though time)**\n",
    "\n",
    "![gru_backward](gru_backward.png)\n",
    "\n",
    "$$ \\frac{\\partial{h_{t}}}{\\partial{h_{t-1}}} \\space -> \\space \\frac{\\partial{h_{t+1}}}{\\partial{h_{t}}} \\space -> \\space \\frac{\\partial{h_{t+2}}}{\\partial{h_{t+1}}}$$\n",
    "\n",
    "We need to find:\n",
    "\n",
    "$$\\frac{\\partial{L}}{\\partial{U_{u}}}, \\frac{\\partial{L}}{\\partial{W_{u}}}, \\frac{\\partial{L}}{\\partial{b_{u}}}$$\n",
    "\n",
    "$$\\frac{\\partial{L}}{\\partial{U_{r}}}, \\frac{\\partial{L}}{\\partial{W_{r}}}, \\frac{\\partial{L}}{\\partial{b_{r}}}$$\n",
    "\n",
    "$$\\frac{\\partial{L}}{\\partial{U_{h}}}, \\frac{\\partial{L}}{\\partial{W_{h}}}, \\frac{\\partial{L}}{\\partial{b_{h}}}$$\n",
    "\n",
    "$$\\frac{\\partial{L}}{\\partial{V}}, \\frac{\\partial{L}}{\\partial{b_{y}}}$$\n",
    "\n",
    "then we do `gradient descent`:\n",
    "\n",
    "$$U_{u} = U_{u} - lr * \\frac{\\partial{L}}{\\partial{U_{u}}}, W_{u} = W_{u} - lr * \\frac{\\partial{L}}{\\partial{W_{u}}}, b_{u} = b_{u} - lr * \\frac{\\partial{L}}{\\partial{b_{u}}}$$\n",
    "\n",
    "$$U_{r} = U_{r} - lr *  \\frac{\\partial{L}}{\\partial{U_{r}}}, W_{r} = W_{r} - lr * \\frac{\\partial{L}}{\\partial{W_{r}}}, b_{r} = b_{r} - lr * \\frac{\\partial{L}}{\\partial{b_{r}}}$$\n",
    "\n",
    "$$U_{h} = U_{h} - lr *  \\frac{\\partial{L}}{\\partial{U_{h}}}, W_{h} = W_{h} - lr * \\frac{\\partial{L}}{\\partial{W_{h}}}, b_{h} = b_{h} - lr *  \\frac{\\partial{L}}{\\partial{b_{h}}}$$\n",
    "\n",
    "$$V = V - lr * \\frac{\\partial{L}}{\\partial{V}},b_{y} = b_{y} - lr * \\frac{\\partial{L}}{\\partial{b_{y}}}$$\n",
    "\n",
    "Let follow these step:  \n",
    "`chain rule: [term] -> [implicit and explicit] -> [right shape]` -> `references: [blog] [video] [github]` -> `bptt a part`\n",
    "\n",
    "$$ (explicit) \\space \\frac{\\partial{L}}{\\partial{\\hat{y}}} = y - \\hat{y} \\space [1]$$\n",
    "\n",
    "Calculate `hidden state`\n",
    "\n",
    "$$(explicit) \\space \\frac{\\partial{L}}{\\partial{V}} = \\frac{\\partial{L}}{\\partial{\\hat{y}}} \\frac{\\partial{\\hat{y}}}{\\partial{V}} = \\frac{\\partial{L}}{\\partial{\\hat{y}}} .h_{t} \\space [2]$$\n",
    "\n",
    "Calculate `content state`,`reset state`,`update state` $\\frac{\\partial{L}}{\\partial{\\tilde{h_{t}}}} , \\frac{\\partial{L}}{\\partial{r_{t}}} , \\frac{\\partial{L}}{\\partial{u_{t}}}$\n",
    "\n",
    "$$\\frac{\\partial{L}}{\\partial{\\tilde{h_{t}}}} = \\frac{\\partial{L}}{\\partial{h_{t}}} \\frac{\\partial{h_{t}}}{\\partial{\\tilde{h_{t}}}} = \\frac{\\partial{L}}{\\partial{h_{t}}}.u_{t} \\space [3]$$\n",
    "\n",
    "$$\\frac{\\partial{L}}{\\partial{r_{t}}} = \\frac{\\partial{L}}{\\partial{\\tilde{h_{t}}}} \\frac{\\partial{\\tilde{h_{t}}}}{\\partial{r_{t}}} = \\frac{\\partial{L}}{\\partial{\\tilde{h_{t}}}}.(1-\\tilde{h_{t}}^{2})(W_{h}.h_{t-1}) \\space [4]$$\n",
    "\n",
    "$$\\frac{\\partial{L}}{\\partial{u_{t}}} = \\frac{\\partial{L}}{\\partial{h_{t}}}.(-h_{t-1} + \\tilde{h_{t}}) \\space [5]$$\n",
    "\n",
    "Calculate $\\frac{\\partial{L}}{\\partial{V}}, \\frac{\\partial{L}}{\\partial{b_{y}}}$\n",
    "\n",
    "$$\\frac{\\partial{L}}{\\partial{V}} = \\frac{\\partial{L}}{\\partial{\\hat{y}}} \\frac{\\partial{\\hat{y}}}{\\partial{V}} =  \\frac{\\partial{L}}{\\partial{\\hat{y}}}.h_{t}\\space [6]$$\n",
    "\n",
    "$$\\frac{\\partial{L}}{\\partial{b_{y}}} = \\frac{\\partial{\\hat{y}}}{\\partial{b_{y}}} =  \\frac{\\partial{L}}{\\partial{\\hat{y}}}.1 \\space [7]$$\n",
    "\n",
    "Calculate $\\frac{\\partial{L}}{\\partial{U_{h}}}, \\frac{\\partial{L}}{\\partial{W_{h}}}, \\frac{\\partial{L}}{\\partial{b_{h}}}$\n",
    "\n",
    "$$\\frac{\\partial{L}}{\\partial{U_{h}}} = \\frac{\\partial{L}}{\\partial{\\tilde{h_{t}}}} \\frac{\\partial{\\tilde{h_{t}}}}{\\partial{U_{h}}} = \\frac{\\partial{L}}{\\partial{\\tilde{h_{t}}}} .(1- \\tilde{h_{t}}^{2}).x_{t} \\space [8]$$\n",
    "\n",
    "$$\\frac{\\partial{L}}{\\partial{W_{h}}} = \\frac{\\partial{L}}{\\partial{\\tilde{h_{t}}}} \\frac{\\partial{\\tilde{h_{t}}}}{\\partial{W_{h}}} = \\frac{\\partial{L}}{\\partial{\\tilde{h_{t}}}} .(1- \\tilde{h_{t}}^{2}).h_{t-1} \\space [9]$$\n",
    "\n",
    "$$\\frac{\\partial{L}}{\\partial{b_{h}}} = \\frac{\\partial{L}}{\\partial{\\tilde{h_{t}}}} \\frac{\\partial{\\tilde{h_{t}}}}{\\partial{b_{h}}} = \\frac{\\partial{L}}{\\partial{\\tilde{h_{t}}}} .(1- \\tilde{h_{t}}^{2}).1 \\space [10]$$\n",
    "\n",
    "Calculate $\\frac{\\partial{L}}{\\partial{U_{u}}}, \\frac{\\partial{L}}{\\partial{W_{u}}}, \\frac{\\partial{L}}{\\partial{b_{u}}}$\n",
    "\n",
    "$$\\frac{\\partial{L}}{\\partial{U_{u}}} = \\frac{\\partial{L}}{\\partial{u_{t}}} \\frac{\\partial{u_{t}}}{\\partial{U_{u}}} = \\frac{\\partial{L}}{\\partial{u_{t}}}.x_{t} \\space [11]$$ \n",
    "\n",
    "$$\\frac{\\partial{L}}{\\partial{W_{u}}} = \\frac{\\partial{L}}{\\partial{u_{t}}} \\frac{\\partial{u_{t}}}{\\partial{W_{u}}} = \\frac{\\partial{L}}{\\partial{u_{t}}}.h_{t-1} \\space [12]$$ \n",
    "\n",
    "$$\\frac{\\partial{L}}{\\partial{b_{u}}} = \\frac{\\partial{L}}{\\partial{u_{t}}} \\frac{\\partial{u_{t}}}{\\partial{b_{u}}} = \\frac{\\partial{L}}{\\partial{u_{t}}}.1 \\space [13]$$ \n",
    "\n",
    "\n",
    "Calculate $\\frac{\\partial{L}}{\\partial{U_{r}}}, \\frac{\\partial{L}}{\\partial{W_{r}}}, \\frac{\\partial{L}}{\\partial{b_{r}}}$\n",
    "\n",
    "$$\\frac{\\partial{L}}{\\partial{U_{r}}} = \\frac{\\partial{L}}{\\partial{r_{t}}} \\frac{\\partial{r_{t}}}{\\partial{U_{r}}} = \\frac{\\partial{L}}{\\partial{u_{t}}}.x_{t} \\space [14]$$ \n",
    "\n",
    "$$\\frac{\\partial{L}}{\\partial{W_{r}}} = \\frac{\\partial{L}}{\\partial{r_{t}}} \\frac{\\partial{r_{t}}}{\\partial{W_{r}}} = \\frac{\\partial{L}}{\\partial{u_{t}}}.h_{t-1} \\space [15]$$ \n",
    "\n",
    "$$\\frac{\\partial{L}}{\\partial{b_{r}}} = \\frac{\\partial{L}}{\\partial{r_{t}}} \\frac{\\partial{r_{t}}}{\\partial{b_{r}}} = \\frac{\\partial{L}}{\\partial{u_{t}}}.1 \\space [16]$$ \n",
    "\n",
    "We should define min and max value for updating gradient descent, if you don't your gradients may be exploring or vanishing, and your loss does not reduce anymore"
   ]
  },
  {
   "cell_type": "code",
   "execution_count": 49,
   "id": "7c108c0f",
   "metadata": {},
   "outputs": [],
   "source": [
    "# import the libraries\n",
    "import tqdm\n",
    "import math \n",
    "import numpy as np\n",
    "import matplotlib.pyplot as plt"
   ]
  },
  {
   "cell_type": "code",
   "execution_count": 50,
   "id": "48ce2983",
   "metadata": {},
   "outputs": [],
   "source": [
    "# define activation functions\n",
    "\n",
    "# sigmoid function get value from 0~1\n",
    "def sigmoid(x):\n",
    "    return 1/(1+np.exp(-x))\n",
    "\n",
    "# tanh function get value from -1~1\n",
    "def tanh(x):\n",
    "    return (np.exp(x)-np.exp(-x))/(np.exp(x)+np.exp(-x))"
   ]
  },
  {
   "cell_type": "code",
   "execution_count": 51,
   "id": "23bf9f8e",
   "metadata": {},
   "outputs": [
    {
     "name": "stdout",
     "output_type": "stream",
     "text": [
      "200\n"
     ]
    },
    {
     "data": {
      "text/plain": [
       "Text(0.5, 1.0, 'sequence data')"
      ]
     },
     "execution_count": 51,
     "metadata": {},
     "output_type": "execute_result"
    },
    {
     "data": {
      "image/png": "[encoded data removed]",
      "text/plain": [
       "<Figure size 864x360 with 1 Axes>"
      ]
     },
     "metadata": {
      "needs_background": "light"
     },
     "output_type": "display_data"
    }
   ],
   "source": [
    "# make dataset\n",
    "f = 30\n",
    "seq_data = np.array([(0.5*math.sin(1*f*2*np.pi*x) + 0.5*math.sin(2*f*2*np.pi*x)) for x in np.arange(0,0.4,0.002)]) \n",
    "print(len(seq_data))\n",
    "# visualize the seq_wave\n",
    "fig = plt.figure(figsize = (12,5))\n",
    "plt.plot(seq_data)\n",
    "plt.title('sequence data')"
   ]
  },
  {
   "cell_type": "code",
   "execution_count": 52,
   "id": "fdfe8fee",
   "metadata": {},
   "outputs": [
    {
     "name": "stdout",
     "output_type": "stream",
     "text": [
      "seq_len: 50\n",
      "num_records: 150\n",
      "X.shape: (150, 50, 1)\n",
      "Y.shape: (150, 1)\n"
     ]
    }
   ],
   "source": [
    "# training dataset\n",
    "X = []\n",
    "Y = []\n",
    "seq_len = 50\n",
    "num_records = len(seq_data) - seq_len\n",
    "\n",
    "print(f'seq_len: {seq_len}')\n",
    "print(f'num_records: {num_records}')\n",
    "\n",
    "for i in range(num_records):\n",
    "    X.append(seq_data[i:i+seq_len])\n",
    "    Y.append(seq_data[i+seq_len])\n",
    "\n",
    "X = np.array(X)\n",
    "Y = np.array(Y)\n",
    "X = np.expand_dims(X,2) # reshape to (training_sample,seq_len,1)\n",
    "Y = np.expand_dims(Y,1) # (training_sample,1)\n",
    "\n",
    "print(f'X.shape: {X.shape}')\n",
    "print(f'Y.shape: {Y.shape}')"
   ]
  },
  {
   "cell_type": "code",
   "execution_count": 53,
   "id": "b6613b28",
   "metadata": {},
   "outputs": [
    {
     "name": "stdout",
     "output_type": "stream",
     "text": [
      "X_val.shape: (50, 50, 1)\n",
      "Y_val.shape: (50, 1)\n"
     ]
    }
   ],
   "source": [
    "# testing dataset\n",
    "X_val = []\n",
    "Y_val = []\n",
    "seq_len = 50\n",
    "num_records = len(seq_data) - seq_len\n",
    "\n",
    "for i in range(num_records-seq_len,num_records):\n",
    "    X_val.append(seq_data[i:i+seq_len])\n",
    "    Y_val.append(seq_data[i+seq_len])\n",
    "\n",
    "X_val = np.array(X_val)\n",
    "Y_val = np.array(Y_val)\n",
    "X_val = np.expand_dims(X_val,2) # reshape to (training_sample,seq_len,1)\n",
    "Y_val = np.expand_dims(Y_val,1) # (training_sample,1)\n",
    "\n",
    "print(f'X_val.shape: {X_val.shape}')\n",
    "print(f'Y_val.shape: {Y_val.shape}')"
   ]
  },
  {
   "cell_type": "markdown",
   "id": "624dfb57",
   "metadata": {},
   "source": [
    "How to implement a gru model:\n",
    "- init all matrix and bias\n",
    "- build forward pass function\n",
    "- build calculate loss function\n",
    "- build backward propagation though time function\n",
    "- build train function (init-> forward -> backward -> gradient descent -> loop over sample)"
   ]
  },
  {
   "cell_type": "code",
   "execution_count": 54,
   "id": "ed342a31",
   "metadata": {},
   "outputs": [
    {
     "name": "stdout",
     "output_type": "stream",
     "text": [
      "hidden_dim: 100\n",
      "h_prev shape: (100, 1)\n",
      "x_t shape: (50, 1)\n",
      "y shape: (1,)\n",
      "U_u shape: (100, 50)\n",
      "W_u shape: (100, 100)\n",
      "b_u shape: (100, 1)\n",
      "U_r shape: (100, 50)\n",
      "W_r shape: (100, 100)\n",
      "b_r shape: (100, 1)\n",
      "U_h shape: (100, 50)\n",
      "W_h shape: (100, 100)\n",
      "b_h shape: (100, 1)\n",
      "V shape: (1, 100)\n",
      "b_y shape: (1, 1)\n"
     ]
    }
   ],
   "source": [
    "# init matrices\n",
    "hidden_dim = 100\n",
    "input_dim = 1\n",
    "output_dim = 1\n",
    "h_prev = np.zeros((hidden_dim,1))\n",
    "print(f'hidden_dim: {hidden_dim}')\n",
    "print(f'h_prev shape: {h_prev.shape}')\n",
    "print(f'x_t shape: {X[0].shape}')\n",
    "print(f'y shape: {Y[0].shape}')\n",
    "# for update gates\n",
    "U_u = np.random.rand(hidden_dim,seq_len)\n",
    "W_u = np.random.rand(hidden_dim,hidden_dim)\n",
    "b_u = np.random.rand(hidden_dim,1)\n",
    "print(f'U_u shape: {U_u.shape}')\n",
    "print(f'W_u shape: {W_u.shape}')\n",
    "print(f'b_u shape: {b_u.shape}')\n",
    "# for relevant gates\n",
    "U_r = np.random.rand(hidden_dim,seq_len)\n",
    "W_r = np.random.rand(hidden_dim,hidden_dim)\n",
    "b_r = np.random.rand(hidden_dim,1)\n",
    "print(f'U_r shape: {U_r.shape}')\n",
    "print(f'W_r shape: {W_r.shape}')\n",
    "print(f'b_r shape: {b_r.shape}')\n",
    "# for tilde h\n",
    "U_h = np.random.rand(hidden_dim,seq_len)\n",
    "W_h = np.random.rand(hidden_dim,hidden_dim)\n",
    "b_h = np.random.rand(hidden_dim,1)\n",
    "print(f'U_h shape: {U_h.shape}')\n",
    "print(f'W_h shape: {W_h.shape}')\n",
    "print(f'b_h shape: {b_h.shape}')\n",
    "# for output value\n",
    "V = np.random.rand(output_dim,hidden_dim)\n",
    "b_y = np.random.rand(output_dim,1)\n",
    "print(f'V shape: {V.shape}')\n",
    "print(f'b_y shape: {b_y.shape}')    "
   ]
  },
  {
   "cell_type": "code",
   "execution_count": 55,
   "id": "a398d3dd",
   "metadata": {},
   "outputs": [],
   "source": [
    "def init_matrices(hidden_dim,input_dim,output_dim):\n",
    "    h_prev = np.zeros((hidden_dim,1))\n",
    "    # for update gates\n",
    "    U_u = np.random.rand(hidden_dim,seq_len)\n",
    "    W_u = np.random.rand(hidden_dim,hidden_dim)\n",
    "    b_u = np.random.rand(hidden_dim,1)\n",
    "    # for relevant gates\n",
    "    U_r = np.random.rand(hidden_dim,seq_len)\n",
    "    W_r = np.random.rand(hidden_dim,hidden_dim)\n",
    "    b_r = np.random.rand(hidden_dim,1)\n",
    "    # for tilde h\n",
    "    U_h = np.random.rand(hidden_dim,seq_len)\n",
    "    W_h = np.random.rand(hidden_dim,hidden_dim)\n",
    "    b_h = np.random.rand(hidden_dim,1)\n",
    "    # for output value\n",
    "    V = np.random.rand(output_dim,hidden_dim)\n",
    "    b_y = np.random.rand(output_dim,1)\n",
    "    return U_u,W_u,b_u,U_r,W_r,b_r,U_h,W_h,b_h,V,b_y"
   ]
  },
  {
   "cell_type": "code",
   "execution_count": 56,
   "id": "c8081d31",
   "metadata": {},
   "outputs": [
    {
     "name": "stdout",
     "output_type": "stream",
     "text": [
      "(50, 1)\n",
      "[[5.09822971]] [-1.10218212e-15]\n"
     ]
    }
   ],
   "source": [
    "# forward pass\n",
    "layers = []\n",
    "x = X[0]\n",
    "print(x.shape)\n",
    "h_prev = np.zeros((hidden_dim,1))\n",
    "for t in range(seq_len):\n",
    "    #print(t)\n",
    "    new_input = np.zeros((seq_len,input_dim))\n",
    "    new_input[t] = x[t]\n",
    "    # updated gate\n",
    "    u_t = sigmoid(U_u @ new_input + W_u @ h_prev + b_u)\n",
    "    # revelant gate\n",
    "    r_t = sigmoid(U_r @ new_input + W_r @ h_prev + b_r)\n",
    "    # tilde h\n",
    "    h_til = tanh(U_h @ new_input + W_h @ (r_t * h_prev) + b_h)\n",
    "    # h\n",
    "    h = (1-u_t)* h_prev + u_t * h_til\n",
    "    # output value\n",
    "    y_hat = V@h + b_y\n",
    "    # collect h_prev,h_til,h,u,r\n",
    "    layers.append({'h_prev': h_prev,'h_til': h_til,'h':h,'u':u_t,'r':r_t})\n",
    "    # update h\n",
    "    prev_h = h\n",
    "\n",
    "# print out the value\n",
    "print(y_hat,Y[0])"
   ]
  },
  {
   "cell_type": "code",
   "execution_count": 57,
   "id": "78ceec39",
   "metadata": {},
   "outputs": [
    {
     "name": "stdout",
     "output_type": "stream",
     "text": [
      "[[5.09822971]] [-1.10218212e-15]\n"
     ]
    }
   ],
   "source": [
    "# wrap forward pass into a function\n",
    "def forward_pass(x):\n",
    "    # forward pass\n",
    "    layers = []\n",
    "    x = X[0]\n",
    "    h_prev = np.zeros((hidden_dim,1))\n",
    "    for t in range(seq_len):\n",
    "        #print(t)\n",
    "        new_input = np.zeros((seq_len,input_dim))\n",
    "        new_input[t] = x[t]\n",
    "        # updated gate\n",
    "        u_t = sigmoid(U_u @ new_input + W_u @ h_prev + b_u)\n",
    "        # revelant gate\n",
    "        r_t = sigmoid(U_r @ new_input + W_r @ h_prev + b_r)\n",
    "        # tilde h\n",
    "        h_til = tanh(U_h @ new_input + W_h @ (r_t * h_prev) + b_h)\n",
    "        # h\n",
    "        h = (1-u_t)* h_prev + u_t * h_til\n",
    "        # output value\n",
    "        y_hat = V@h + b_y\n",
    "        # collect h_prev,h_til,h,u,r\n",
    "        layers.append({'h_prev': h_prev,'h_til': h_til,'h':h,'u':u_t,'r':r_t})\n",
    "        # update h\n",
    "        prev_h = h\n",
    "    return layers,y_hat\n",
    "\n",
    "layers,y_hat = forward_pass(x)\n",
    "# print out the value\n",
    "print(y_hat,Y[0])"
   ]
  },
  {
   "cell_type": "code",
   "execution_count": 58,
   "id": "f2945245",
   "metadata": {},
   "outputs": [
    {
     "name": "stdout",
     "output_type": "stream",
     "text": [
      "begin loss 13.120973096219636\n"
     ]
    }
   ],
   "source": [
    "def calc_loss(X,Y):\n",
    "    loss = 0.0\n",
    "    n_samples = Y.shape[0] # number of sample\n",
    "    for i in range(n_samples):\n",
    "        x,y = X[i],Y[i]\n",
    "        _,y_hat = layers,y_hat = forward_pass(x)\n",
    "        loss += (y - y_hat)**2\n",
    "    loss = 1/(2*n_samples)*np.float(loss)\n",
    "    return loss\n",
    "\n",
    "print(f'begin loss {calc_loss(X,Y)}')"
   ]
  },
  {
   "cell_type": "code",
   "execution_count": 59,
   "id": "9ed61f1d",
   "metadata": {},
   "outputs": [
    {
     "name": "stdout",
     "output_type": "stream",
     "text": [
      "begin loss 17.558357010384338\n"
     ]
    }
   ],
   "source": [
    "# init matrices\n",
    "U_u,W_u,b_u,U_r,W_r,b_r,U_h,W_h,b_h,V,b_y = init_matrices(hidden_dim,input_dim,output_dim)\n",
    "\n",
    "print(f'begin loss {calc_loss(X,Y)}')"
   ]
  },
  {
   "cell_type": "code",
   "execution_count": 60,
   "id": "4b11036a",
   "metadata": {},
   "outputs": [
    {
     "data": {
      "image/png": "[encoded data removed]",
      "text/plain": [
       "<Figure size 432x288 with 1 Axes>"
      ]
     },
     "metadata": {
      "needs_background": "light"
     },
     "output_type": "display_data"
    }
   ],
   "source": [
    "def predict(X):\n",
    "    preds= []\n",
    "    n_samples = Y.shape[0] # number of sample\n",
    "    for i in range(n_samples):\n",
    "        x,y = X[i],Y[i]\n",
    "        _,y_hat = layers,y_hat = forward_pass(x)\n",
    "        preds.append(y_hat)\n",
    "    # convert to numpy array\n",
    "    preds = np.array(preds)\n",
    "    preds = np.squeeze(preds)\n",
    "    return preds\n",
    "\n",
    "preds = predict(X)\n",
    "plt.plot(preds,label = 'pred')\n",
    "plt.plot(Y,label = 'ground-truth')\n",
    "plt.legend()\n",
    "plt.title('ater training')\n",
    "plt.show()"
   ]
  },
  {
   "cell_type": "markdown",
   "id": "49a7d6df",
   "metadata": {},
   "source": [
    "**backpropagation**"
   ]
  },
  {
   "cell_type": "code",
   "execution_count": 61,
   "id": "14a6b73d",
   "metadata": {},
   "outputs": [
    {
     "name": "stdout",
     "output_type": "stream",
     "text": [
      "dU_u = U_u shape: (100, 50)\n",
      "dW_u = W_u shape: (100, 100)\n",
      "db_u = b_u shape: (100, 1)\n",
      "dU_r = U_r shape: (100, 50)\n",
      "dW_r = W_r shape: (100, 100)\n",
      "db_r = b_r shape: (100, 1)\n",
      "dU_h = U_h shape: (100, 50)\n",
      "dW_h = W_h shape: (100, 100)\n",
      "db_h = b_h shape: (100, 1)\n",
      "dV = V shape: (1, 100)\n",
      "db_y = b_y shape: (1, 1)\n"
     ]
    }
   ],
   "source": [
    "# backward though time\n",
    "dU_u = np.zeros(U_u.shape)\n",
    "dW_u = np.zeros(W_u.shape)\n",
    "db_u = np.zeros(b_u.shape)\n",
    "dU_r = np.zeros(U_r.shape)\n",
    "dW_r = np.zeros(W_r.shape)\n",
    "db_r = np.zeros(b_r.shape)\n",
    "dU_h = np.zeros(U_h.shape)\n",
    "dW_h = np.zeros(W_h.shape)\n",
    "db_h = np.zeros(b_h.shape)\n",
    "dV = np.zeros(V.shape)\n",
    "db_y = np.zeros(b_y.shape)\n",
    "\n",
    "print(f'dU_u = U_u shape: {dU_u.shape}')\n",
    "print(f'dW_u = W_u shape: {dW_u.shape}')\n",
    "print(f'db_u = b_u shape: {db_u.shape}')\n",
    "\n",
    "print(f'dU_r = U_r shape: {dU_r.shape}')\n",
    "print(f'dW_r = W_r shape: {dW_r.shape}')\n",
    "print(f'db_r = b_r shape: {db_r.shape}')\n",
    "\n",
    "print(f'dU_h = U_h shape: {dU_h.shape}')\n",
    "print(f'dW_h = W_h shape: {dW_h.shape}')\n",
    "print(f'db_h = b_h shape: {db_h.shape}')\n",
    "\n",
    "print(f'dV = V shape: {dV.shape}')\n",
    "print(f'db_y = b_y shape: {db_y.shape}')"
   ]
  },
  {
   "cell_type": "code",
   "execution_count": 62,
   "id": "7c7e0d27",
   "metadata": {},
   "outputs": [],
   "source": [
    "class GRU():\n",
    "    def __init__(self,hidden_dim=100,seq_len=50,input_dim = 1,output_dim = 1):\n",
    "        self.hidden_dim = hidden_dim \n",
    "        self.seq_len = seq_len \n",
    "        self.input_dim = input_dim \n",
    "        self.output_dim = output_dim  \n",
    "        # for update gates\n",
    "        self.U_u = np.random.rand(hidden_dim,seq_len)\n",
    "        self.W_u = np.random.rand(hidden_dim,hidden_dim)\n",
    "        self.b_u = np.random.rand(hidden_dim,1)\n",
    "        # for relevant gates\n",
    "        self.U_r = np.random.rand(hidden_dim,seq_len)\n",
    "        self.W_r = np.random.rand(hidden_dim,hidden_dim)\n",
    "        self.b_r = np.random.rand(hidden_dim,1)\n",
    "        # for current value\n",
    "        self.U_h = np.random.rand(hidden_dim,seq_len)\n",
    "        self.W_h = np.random.rand(hidden_dim,hidden_dim)\n",
    "        self.b_h = np.random.rand(hidden_dim,1)\n",
    "        # for output dim\n",
    "        self.V = np.random.rand(output_dim,hidden_dim)\n",
    "        self.b_y = np.random.rand(output_dim,1)\n",
    "       \n",
    "    def forward_pass(self,x):\n",
    "        layers = [] \n",
    "        h_prev = np.zeros((self.hidden_dim,1))\n",
    "        seq_len = x.shape[0]\n",
    "        for t in range(seq_len):\n",
    "            new_input = np.zeros((seq_len,self.input_dim))\n",
    "            new_input[t] = x[t]\n",
    "            # updated gate\n",
    "            u_t = sigmoid(self.U_u @ new_input + self.W_u @ h_prev + self.b_u)\n",
    "            # revelant gate\n",
    "            r_t = sigmoid(self.U_r @ new_input + self.W_r @ h_prev + self.b_r)\n",
    "            # tilde h\n",
    "            h_til = tanh(self.U_h @ new_input + self.W_h @ (r_t * h_prev) + self.b_h)\n",
    "            # h\n",
    "            h = (1-u_t)* h_prev + u_t * h_til\n",
    "            # output value\n",
    "            y_hat = self.V@h + self.b_y\n",
    "            # collect h_prev,h_til,h,u,r\n",
    "            layers.append({'h_prev': h_prev,'h_til': h_til,'h':h,'u':u_t,'r':r_t})\n",
    "            # update h\n",
    "            prev_h = h\n",
    "        return layers,y_hat\n",
    "    \n",
    "    def calc_loss(self,X,Y):\n",
    "        loss = 0.0\n",
    "        n_samples = Y.shape[0] # number of sample\n",
    "        for i in range(n_samples):\n",
    "        \ty = Y[i]\n",
    "        \t_,y_hat = self.forward_pass(X[i])\n",
    "        \tloss += (y - y_hat)**2\n",
    "        loss = 1/(2*n_samples)*np.float(loss)\n",
    "        return loss\n",
    "    \n",
    "    def predict(self,X):\n",
    "        preds= []\n",
    "        n_samples = X.shape[0] # number of sample\n",
    "        for i in range(n_samples):\n",
    "            x = X[i]\n",
    "            _,y_hat = layers,y_hat = self.forward_pass(x)\n",
    "            preds.append(y_hat)\n",
    "        # convert to numpy array\n",
    "        preds = np.array(preds)\n",
    "        preds = np.squeeze(preds)\n",
    "        return preds\n",
    "    \n",
    "    def bptt(self,x,y,layers,y_hat,min_val = -10,max_val =10):\n",
    "        T= x.shape[0]\n",
    "        # init matrices h_til = u_t = r_t = (100,1) = (hidden_dim,1)\n",
    "        dU_u = np.zeros(self.U_u.shape) # (100,50) = (hidden_dim,seq_len)\n",
    "        dW_u = np.zeros(self.W_u.shape) # (100,100) = (hidden_dim,hidden_dim)\n",
    "        db_u = np.zeros(self.b_u.shape) # (100,1) = (hidden_dim,1)\n",
    "        dU_r = np.zeros(self.U_r.shape) # (100,50) = (hidden_dim,seq_len)\n",
    "        dW_r = np.zeros(self.W_r.shape) # (100,100) = (hidden_dim,hidden_dim)\n",
    "        db_r = np.zeros(self.b_r.shape) # (100,1) = (hidden_dim,1)\n",
    "        dU_h = np.zeros(self.U_h.shape) # (100,50) = (hidden_dim,seq_len)\n",
    "        dW_h = np.zeros(self.W_h.shape) # (100,100) = (hidden_dim,hidden_dim)\n",
    "        db_h = np.zeros(self.b_h.shape) # (100,1) = (hidden_dim,1)\n",
    "        dV = np.zeros(self.V.shape)     # (1,100) = (output_dim,hidden_dim)\n",
    "        db_y = np.zeros(self.b_y.shape) # (1,1) = (1,output_dim)\n",
    "        \n",
    "        # dLdy\n",
    "        dLdy = y - y_hat # (1,1)\n",
    "        # dLdh\n",
    "        dLdh = self.V.T @ dLdy  # (100,1)x(1,1) = (100,1)\n",
    "        # seq_lenght\n",
    "        for t in range(T):\n",
    "            # get current timestep input\n",
    "            new_input = np.zeros(x.shape)\n",
    "            new_input[t] = x[t]\n",
    "            # dV\n",
    "            dV += dLdy @ np.transpose(layers[t]['h']) # (1,1)x(1,100) = (1,100)\n",
    "            # db_y\n",
    "            db_y += dLdy # (1,1)\n",
    "            # dLdh_til - content-state\n",
    "            dLdh_til = dLdh*layers[t]['u'] # (100,1)*(100,1)\n",
    "            # dLdr - reset gate\n",
    "            dLdr = (1-layers[t]['h_til']**2)*(self.W_r@layers[t]['h_prev']) # (100,1)*[(100,100)x(100,1)]\n",
    "            #print(f'dLdr {dLdr.shape}')\n",
    "            # dLdu - update gate\n",
    "            dLdu = dLdh*(-layers[t]['h_prev'] + layers[t]['h_til'])\n",
    "            #print(f'dLdu {dLdu.shape}')\n",
    "            # dldU_u\n",
    "            dU_h += dLdh_til @ new_input.T # (100,1)x(1,50)\n",
    "            # dLdW_u\n",
    "            dW_h += dLdh_til @ layers[t]['h_prev'].T # (100,1)x(1,100)\n",
    "            # dLdb_u\n",
    "            db_h += dLdh_til\n",
    "            # dldU_u\n",
    "            dU_u += dLdu @ new_input.T # (100,1)x(1,50)\n",
    "            # dLdW_u\n",
    "            dW_u += dLdu @ layers[t]['h_prev'].T # (100,1)x(1,100)\n",
    "            # dLdb_u\n",
    "            db_u += dLdu\n",
    "            # dldU_r\n",
    "            dU_r += dLdr @ new_input.T # (100,1)x(1,50)\n",
    "            # dLdW_r\n",
    "            dW_r += dLdr @ layers[t]['h_prev'].T # (100,1)x(1,100)\n",
    "            # dLdb_r\n",
    "            db_r += dLdr\n",
    "            \n",
    "            #take care for exploding gradients\n",
    "            if dV.max() > max_val:\n",
    "                dV[dV > max_val] = max_val\n",
    "            if dV.min() < min_val:\n",
    "                dV[dV < min_val] = min_val\n",
    "\n",
    "            if db_y.max() > max_val:\n",
    "                db_y[db_y > max_val] = max_val\n",
    "            if db_y.min() < min_val:\n",
    "                db_y[db_y < min_val] = min_val\n",
    "\n",
    "            if dU_h.max() > max_val:\n",
    "                dU_h[dU_h > max_val] = max_val\n",
    "            if dU_h.min() < min_val:\n",
    "                dU_h[dU_h < min_val] = min_val\n",
    "\n",
    "            if dW_h.max() > max_val:\n",
    "                dW_h[dW_h > max_val] = max_val\n",
    "            if dW_h.min() < min_val:\n",
    "                dW_h[dW_h < min_val] = min_val\n",
    "\n",
    "            if db_h.max() > max_val:\n",
    "                db_h[db_h > max_val] = max_val\n",
    "            if db_h.min() < min_val:\n",
    "                db_h[db_h < min_val] = min_val\n",
    "\n",
    "            if dU_u.max() > max_val:\n",
    "                dU_u[dU_u > max_val] = max_val\n",
    "            if dU_u.min() < min_val:\n",
    "                dU_u[dU_u < min_val] = min_val\n",
    "\n",
    "            if dW_u.max() > max_val:\n",
    "                dW_u[dW_u > max_val] = max_val\n",
    "            if dW_u.min() < min_val:\n",
    "                dW_u[dW_u < min_val] = min_val\n",
    "\n",
    "            if db_u.max() > max_val:\n",
    "                db_u[db_u > max_val] = max_val\n",
    "            if db_u.min() < min_val:\n",
    "                db_u[db_u < min_val] = min_val\n",
    "\n",
    "            if dU_r.max() > max_val:\n",
    "                dU_r[dU_r > max_val] = max_val\n",
    "            if dU_r.min() < min_val:\n",
    "                dU_r[dU_r < min_val] = min_val\n",
    "\n",
    "            if dW_r.max() > max_val:\n",
    "                dW_r[dW_r > max_val] = max_val\n",
    "            if dW_r.min() < min_val:\n",
    "                dW_r[dW_r < min_val] = min_val\n",
    "\n",
    "            if db_r.max() > max_val:\n",
    "                db_r[db_r > max_val] = max_val\n",
    "            if db_r.min() < min_val:\n",
    "                db_r[db_r < min_val] = min_val\n",
    "            \n",
    "        db_y = db_y/t\n",
    "        db_h = db_h/t\n",
    "        db_u = db_u/t\n",
    "        db_r = db_r/t\n",
    "        \n",
    "        return dU_u,dW_u,db_u,dU_r,dW_r,db_r,dU_h,dW_h,db_h,dV,db_y\n",
    "    \n",
    "    def train(self,X,Y,epochs,learning_rate,min_val,max_val,predict = True,verbose = True):\n",
    "        # storge loss\n",
    "        losses = []\n",
    "        for epoch in range(epochs):\n",
    "            \n",
    "            loss = self.calc_loss(X,Y)\n",
    "            losses.append(loss)\n",
    "            title = f'epoch: {epoch} loss: {loss}' \n",
    "            if verbose: print(title)\n",
    "            \n",
    "            for i in tqdm.tqdm(range(X.shape[0])):\n",
    "                x = X[i]\n",
    "                y = Y[i]\n",
    "                # forward pass\n",
    "                layers,y_hat = self.forward_pass(x)\n",
    "                # backward pass\n",
    "                dU_u,dW_u,db_u,dU_r,dW_r,db_r,dU_h,dW_h,db_h,dV,db_y = self.bptt(x,y,layers,y_hat,min_val = min_val,max_val = max_val)\n",
    "                # gradient descent\n",
    "                self.U_u += dU_u*learning_rate\n",
    "                self.W_u += dW_u*learning_rate\n",
    "                self.b_u += db_u*learning_rate\n",
    "                self.U_r += dU_r*learning_rate\n",
    "                self.W_r += dW_r*learning_rate\n",
    "                self.b_r += db_r*learning_rate\n",
    "                self.U_h += dU_h*learning_rate\n",
    "                self.W_h += dW_h*learning_rate\n",
    "                self.b_h += db_h*learning_rate\n",
    "                self.V += dV*learning_rate\n",
    "                self.b_y += db_y*learning_rate\n",
    "                \n",
    "            if predict:\n",
    "                preds = self.predict(X)\n",
    "                plt.plot(preds,label = 'pred')\n",
    "                plt.plot(Y,label = 'ground-truth')\n",
    "                plt.title(title)\n",
    "                plt.legend()\n",
    "                plt.show()\n",
    "                    \n",
    "        return losses"
   ]
  },
  {
   "cell_type": "code",
   "execution_count": 64,
   "id": "a5b256bb",
   "metadata": {},
   "outputs": [
    {
     "name": "stdout",
     "output_type": "stream",
     "text": [
      "layers len 50\n",
      "y_hat [[6.97000522]]\n",
      "loss 124.21770541633242\n"
     ]
    },
    {
     "name": "stderr",
     "output_type": "stream",
     "text": [
      "  2%|▏         | 3/150 [00:00<00:05, 26.55it/s]"
     ]
    },
    {
     "name": "stdout",
     "output_type": "stream",
     "text": [
      "epoch: 0 loss: 124.21770541633242\n"
     ]
    },
    {
     "name": "stderr",
     "output_type": "stream",
     "text": [
      "100%|██████████| 150/150 [00:05<00:00, 26.67it/s]\n",
      "  2%|▏         | 3/150 [00:00<00:06, 23.62it/s]"
     ]
    },
    {
     "name": "stdout",
     "output_type": "stream",
     "text": [
      "epoch: 1 loss: 22.374149118129964\n"
     ]
    },
    {
     "name": "stderr",
     "output_type": "stream",
     "text": [
      "100%|██████████| 150/150 [00:07<00:00, 19.87it/s]\n",
      "  2%|▏         | 3/150 [00:00<00:05, 25.42it/s]"
     ]
    },
    {
     "name": "stdout",
     "output_type": "stream",
     "text": [
      "epoch: 2 loss: 0.05512793179201231\n"
     ]
    },
    {
     "name": "stderr",
     "output_type": "stream",
     "text": [
      "100%|██████████| 150/150 [00:05<00:00, 27.44it/s]\n",
      "  2%|▏         | 3/150 [00:00<00:05, 26.78it/s]"
     ]
    },
    {
     "name": "stdout",
     "output_type": "stream",
     "text": [
      "epoch: 3 loss: 0.04529201740547482\n"
     ]
    },
    {
     "name": "stderr",
     "output_type": "stream",
     "text": [
      "100%|██████████| 150/150 [00:05<00:00, 29.85it/s]\n",
      "  2%|▏         | 3/150 [00:00<00:05, 27.03it/s]"
     ]
    },
    {
     "name": "stdout",
     "output_type": "stream",
     "text": [
      "epoch: 4 loss: 0.0450985848841132\n"
     ]
    },
    {
     "name": "stderr",
     "output_type": "stream",
     "text": [
      "100%|██████████| 150/150 [00:05<00:00, 29.51it/s]\n",
      "  1%|▏         | 2/150 [00:00<00:07, 18.52it/s]"
     ]
    },
    {
     "name": "stdout",
     "output_type": "stream",
     "text": [
      "epoch: 5 loss: 0.04491490706609676\n"
     ]
    },
    {
     "name": "stderr",
     "output_type": "stream",
     "text": [
      "100%|██████████| 150/150 [00:04<00:00, 30.08it/s]\n"
     ]
    },
    {
     "data": {
      "image/png": "[encoded data removed]",
      "text/plain": [
       "<Figure size 432x288 with 1 Axes>"
      ]
     },
     "metadata": {
      "needs_background": "light"
     },
     "output_type": "display_data"
    },
    {
     "data": {
      "image/png": "[encoded data removed]",
      "text/plain": [
       "<Figure size 432x288 with 1 Axes>"
      ]
     },
     "metadata": {
      "needs_background": "light"
     },
     "output_type": "display_data"
    }
   ],
   "source": [
    "# hyperparameter\n",
    "epochs = 6\n",
    "learning_rate = 1e-4\n",
    "min_val = -20\n",
    "max_val = 20\n",
    "\n",
    "node = GRU()\n",
    "\n",
    "# forward pass\n",
    "x = X[0]\n",
    "y = Y[0]\n",
    "layers,y_hat = node.forward_pass(x)\n",
    "print(f'layers len {len(layers)}')\n",
    "print(f'y_hat {y_hat}')\n",
    "\n",
    "# calculate loss\n",
    "loss = node.calc_loss(X,Y)\n",
    "print(f'loss {loss}')\n",
    "\n",
    "# train\n",
    "losses = node.train(X,Y,epochs=epochs,learning_rate=1e-4,min_val = min_val,max_val = max_val,predict = False)\n",
    "\n",
    "# predict\n",
    "preds = node.predict(X)\n",
    "plt.plot(preds,label = 'pred')\n",
    "plt.plot(Y,label = 'ground-truth')\n",
    "plt.title('GRU training')\n",
    "plt.legend()\n",
    "\n",
    "#plt.savefig('predict.png')\n",
    "plt.figure()\n",
    "plt.plot(losses,label = 'losses')\n",
    "plt.title('loss-curve')\n",
    "\n",
    "plt.show()"
   ]
  },
  {
   "cell_type": "markdown",
   "id": "62ab6f60",
   "metadata": {},
   "source": [
    "Let compare this with the RNN basic model"
   ]
  },
  {
   "cell_type": "code",
   "execution_count": 65,
   "id": "b5b2d743",
   "metadata": {},
   "outputs": [],
   "source": [
    "class RNN():\n",
    "    def __init__(self,hidden_dim=100,seq_len=50,input_dim = 1,output_dim = 1,seed = 3454):\n",
    "        self.hidden_dim = hidden_dim\n",
    "        self.seq_len = seq_len\n",
    "        self.input_dim = input_dim\n",
    "        self.output_dim  = output_dim\n",
    "        self.U = np.random.uniform(0,1,(hidden_dim,seq_len)) # (100,50)\n",
    "        self.W = np.random.uniform(0,1,(hidden_dim,hidden_dim)) # (100,100)\n",
    "        self.V = np.random.uniform(0,1,(output_dim,hidden_dim)) # (1,100)\n",
    "        self.bh = np.random.uniform(0,1,(hidden_dim,1))\n",
    "        self.by = np.random.uniform(0,1,(output_dim,1))\n",
    "        \n",
    "    def forward_pass(self,x):\n",
    "        # init a list of dict to storage\n",
    "        layers = []\n",
    "        h_prev = np.zeros((hidden_dim,1))\n",
    "        for t in range(x.shape[0]):\n",
    "            new_input = np.zeros(x.shape)\n",
    "            new_input[t] = x[t]\n",
    "            z = self.U @ new_input + self.W @ h_prev + self.bh\n",
    "            h = tanh(z)\n",
    "            y_hat = V @ h + self.by\n",
    "            layers.append({'h':h,'h_prev':h_prev})\n",
    "            h_prev = h\n",
    "        return layers,y_hat\n",
    "        \n",
    "    def calc_loss(self,X,Y):\n",
    "        loss = 0.0\n",
    "        m = Y.shape[0]\n",
    "        for i in range(m):\n",
    "            x,y = X[i],Y[i]\n",
    "            _,y_hat = self.forward_pass(x)\n",
    "            loss += (y-y_hat)**2\n",
    "        loss = 1/(2*m) * np.float(loss)\n",
    "        return loss\n",
    "\n",
    "    def predict(self,X):\n",
    "        preds = []\n",
    "        m = X.shape[0] # number of samples\n",
    "        for i in range(m):\n",
    "            x = X[i]\n",
    "            _,y_hat = self.forward_pass(x)\n",
    "            preds.append(y_hat)\n",
    "        # convert to numpy array\n",
    "        preds = np.array(preds)\n",
    "        preds = np.squeeze(preds)\n",
    "        return preds\n",
    "    \n",
    "    def calc_prev_d(self,h,d,W):\n",
    "        '''\n",
    "        Calculate the next previous term d after the first term, this function support for bptt function\n",
    "        Ex: d2 = d3*W*(1-h**2)\n",
    "        '''\n",
    "        d_sum = (1-h**2)*d\n",
    "        return W.T @ d_sum\n",
    "    \n",
    "    def bptt(self,x,y,layers,y_hat,bptt_truncate,min_val=-10,max_val=10):\n",
    "        # differentials at current prediction\n",
    "        dW = np.zeros(self.W.shape)\n",
    "        dU = np.zeros(self.U.shape)\n",
    "        dV = np.zeros(self.V.shape)\n",
    "        db_h = np.zeros(self.bh.shape)\n",
    "        db_y = np.zeros(self.by.shape)\n",
    "        # differentials each timestep\n",
    "        dW_t = np.zeros(self.W.shape)\n",
    "        dU_t = np.zeros(self.U.shape)\n",
    "        dV_t = np.zeros(self.V.shape)\n",
    "        # differentials each backpropagation truncate\n",
    "        dW_i = np.zeros(self.W.shape)\n",
    "        dU_i = np.zeros(self.U.shape)\n",
    "        dV_i = np.zeros(self.V.shape)\n",
    "        # dLdy\n",
    "        dLdy = y - y_hat\n",
    "        # dLdh\n",
    "        dLdh = self.V.T @ dLdy\n",
    "        # dLdby\n",
    "        db_y = dLdy\n",
    "        for t in range(x.shape[0]):\n",
    "            # dLdV\n",
    "            dV_t = dLdy @ np.transpose(layers[t]['h'])\n",
    "            # first term d = (y-y_hat)V\n",
    "            d_t = dLdh * (1 - layers[t]['h']**2)\n",
    "            # dLdbh\n",
    "            db_h += d_t\n",
    "            for _ in range(t,max(-1,bptt_truncate-1),-1):\n",
    "                new_input = np.zeros(x.shape)\n",
    "                new_input[_] = x[_]\n",
    "                dU_i = d_t @ new_input.T\n",
    "                dW_i = d_t @ layers[_]['h_prev'].T\n",
    "                dU_t += dU_i\n",
    "                dW_t += dW_i\n",
    "                # update term d\n",
    "                d_t = self.calc_prev_d(layers[_]['h_prev'],d_t,self.W)\n",
    "            dV += dV_t\n",
    "            dU += dU_t\n",
    "            dW += dW_t\n",
    "            # take care of possible exploding gradients\n",
    "            if dU.max() > max_val:\n",
    "                dU[dU > max_val] = max_val\n",
    "            if dV.max() > max_val:\n",
    "                dV[dV > max_val] = max_val\n",
    "            if dW.max() > max_val:\n",
    "                dW[dW > max_val] = max_val\n",
    "\n",
    "            if dU.min() < min_val:\n",
    "                dU[dU < min_val] = min_val\n",
    "            if dV.min() < min_val:\n",
    "                dV[dV < min_val] = min_val\n",
    "            if dW.min() < min_val:\n",
    "                dW[dW < min_val] = min_val\n",
    "        return dU,dV,dW,db_h,db_y\n",
    "            \n",
    "    def train(self,X,Y,epochs,learning_rate,bptt_truncate,min_val,max_val,predict = True,verbose = True):\n",
    "        # storage lost\n",
    "        losses = []\n",
    "        for epoch in range(epochs):\n",
    "            loss = self.calc_loss(X,Y)\n",
    "            losses.append(loss)\n",
    "            title = f'epoch: {epoch} loss: {loss}'\n",
    "            if verbose: print(title)\n",
    "            \n",
    "            for i in tqdm.tqdm(range(X.shape[0])):\n",
    "                x,y = X[i],Y[i]\n",
    "                # forward pass\n",
    "                layers,y_hat = self.forward_pass(x)\n",
    "                dU,dV,dW,db_h,db_y = self.bptt(x,y,layers,y_hat,bptt_truncate,min_val,max_val)\n",
    "                # SGD\n",
    "                self.U += learning_rate * dU\n",
    "                self.W += learning_rate * dW\n",
    "                self.V += learning_rate * dV\n",
    "                self.bh += learning_rate * db_h\n",
    "                self.by += learning_rate * db_y\n",
    "                \n",
    "            if predict:\n",
    "                preds = self.predict(X)\n",
    "                plt.plot(preds,label = 'pred')\n",
    "                plt.plot(Y,label = 'ground-truth')\n",
    "                plt.title(title)\n",
    "                plt.legend()\n",
    "                plt.show()\n",
    "                    \n",
    "        return losses"
   ]
  },
  {
   "cell_type": "code",
   "execution_count": 66,
   "id": "34226cbe",
   "metadata": {},
   "outputs": [
    {
     "name": "stdout",
     "output_type": "stream",
     "text": [
      "layers len 50\n",
      "y_hat [[50.07664165]]\n",
      "loss 1253.9600196878393\n"
     ]
    },
    {
     "name": "stderr",
     "output_type": "stream",
     "text": [
      "  1%|          | 1/150 [00:00<00:16,  9.01it/s]"
     ]
    },
    {
     "name": "stdout",
     "output_type": "stream",
     "text": [
      "epoch: 0 loss: 1253.9600196878393\n"
     ]
    },
    {
     "name": "stderr",
     "output_type": "stream",
     "text": [
      "100%|██████████| 150/150 [00:14<00:00, 10.61it/s]\n",
      "  1%|          | 1/150 [00:00<00:16,  8.77it/s]"
     ]
    },
    {
     "name": "stdout",
     "output_type": "stream",
     "text": [
      "epoch: 1 loss: 1216.9016267261638\n"
     ]
    },
    {
     "name": "stderr",
     "output_type": "stream",
     "text": [
      "100%|██████████| 150/150 [00:13<00:00, 10.86it/s]\n",
      "  1%|          | 1/150 [00:00<00:16,  9.09it/s]"
     ]
    },
    {
     "name": "stdout",
     "output_type": "stream",
     "text": [
      "epoch: 2 loss: 1180.9385308681758\n"
     ]
    },
    {
     "name": "stderr",
     "output_type": "stream",
     "text": [
      "100%|██████████| 150/150 [00:13<00:00, 10.79it/s]\n",
      "  1%|          | 1/150 [00:00<00:16,  9.17it/s]"
     ]
    },
    {
     "name": "stdout",
     "output_type": "stream",
     "text": [
      "epoch: 3 loss: 1146.0383595662531\n"
     ]
    },
    {
     "name": "stderr",
     "output_type": "stream",
     "text": [
      "100%|██████████| 150/150 [00:13<00:00, 10.91it/s]\n",
      "  1%|          | 1/150 [00:00<00:23,  6.37it/s]"
     ]
    },
    {
     "name": "stdout",
     "output_type": "stream",
     "text": [
      "epoch: 4 loss: 1112.1696970737453\n"
     ]
    },
    {
     "name": "stderr",
     "output_type": "stream",
     "text": [
      "100%|██████████| 150/150 [00:13<00:00, 10.90it/s]\n",
      "  1%|          | 1/150 [00:00<00:20,  7.41it/s]"
     ]
    },
    {
     "name": "stdout",
     "output_type": "stream",
     "text": [
      "epoch: 5 loss: 1079.3020561658298\n"
     ]
    },
    {
     "name": "stderr",
     "output_type": "stream",
     "text": [
      "100%|██████████| 150/150 [00:13<00:00, 10.72it/s]\n",
      "  1%|          | 1/150 [00:00<00:15,  9.35it/s]"
     ]
    },
    {
     "name": "stdout",
     "output_type": "stream",
     "text": [
      "epoch: 6 loss: 1047.4058506961837\n"
     ]
    },
    {
     "name": "stderr",
     "output_type": "stream",
     "text": [
      "100%|██████████| 150/150 [00:13<00:00, 10.86it/s]\n",
      "  1%|          | 1/150 [00:00<00:16,  9.26it/s]"
     ]
    },
    {
     "name": "stdout",
     "output_type": "stream",
     "text": [
      "epoch: 7 loss: 1016.452368964778\n"
     ]
    },
    {
     "name": "stderr",
     "output_type": "stream",
     "text": [
      "100%|██████████| 150/150 [00:15<00:00,  9.69it/s]\n",
      "  1%|          | 1/150 [00:00<00:16,  8.85it/s]"
     ]
    },
    {
     "name": "stdout",
     "output_type": "stream",
     "text": [
      "epoch: 8 loss: 986.4137478727953\n"
     ]
    },
    {
     "name": "stderr",
     "output_type": "stream",
     "text": [
      "100%|██████████| 150/150 [00:14<00:00, 10.41it/s]\n",
      "  1%|          | 1/150 [00:00<00:15,  9.35it/s]"
     ]
    },
    {
     "name": "stdout",
     "output_type": "stream",
     "text": [
      "epoch: 9 loss: 957.26294784144\n"
     ]
    },
    {
     "name": "stderr",
     "output_type": "stream",
     "text": [
      "100%|██████████| 150/150 [00:14<00:00, 10.63it/s]\n",
      "  1%|          | 1/150 [00:00<00:16,  9.26it/s]"
     ]
    },
    {
     "name": "stdout",
     "output_type": "stream",
     "text": [
      "epoch: 10 loss: 928.9737284720319\n"
     ]
    },
    {
     "name": "stderr",
     "output_type": "stream",
     "text": [
      "100%|██████████| 150/150 [00:14<00:00, 10.47it/s]\n",
      "  1%|          | 1/150 [00:00<00:16,  9.01it/s]"
     ]
    },
    {
     "name": "stdout",
     "output_type": "stream",
     "text": [
      "epoch: 11 loss: 901.520624925499\n"
     ]
    },
    {
     "name": "stderr",
     "output_type": "stream",
     "text": [
      "100%|██████████| 150/150 [00:13<00:00, 10.82it/s]\n",
      "  1%|          | 1/150 [00:00<00:16,  9.01it/s]"
     ]
    },
    {
     "name": "stdout",
     "output_type": "stream",
     "text": [
      "epoch: 12 loss: 874.8789249999865\n"
     ]
    },
    {
     "name": "stderr",
     "output_type": "stream",
     "text": [
      "100%|██████████| 150/150 [00:14<00:00, 10.65it/s]\n",
      "  1%|          | 1/150 [00:00<00:16,  9.26it/s]"
     ]
    },
    {
     "name": "stdout",
     "output_type": "stream",
     "text": [
      "epoch: 13 loss: 849.0246468859707\n"
     ]
    },
    {
     "name": "stderr",
     "output_type": "stream",
     "text": [
      "100%|██████████| 150/150 [00:13<00:00, 10.79it/s]\n",
      "  1%|          | 1/150 [00:00<00:16,  8.93it/s]"
     ]
    },
    {
     "name": "stdout",
     "output_type": "stream",
     "text": [
      "epoch: 14 loss: 823.9345175788278\n"
     ]
    },
    {
     "name": "stderr",
     "output_type": "stream",
     "text": [
      "100%|██████████| 150/150 [00:14<00:00, 10.52it/s]\n"
     ]
    },
    {
     "data": {
      "image/png": "[encoded data removed]",
      "text/plain": [
       "<Figure size 432x288 with 1 Axes>"
      ]
     },
     "metadata": {
      "needs_background": "light"
     },
     "output_type": "display_data"
    },
    {
     "data": {
      "image/png": "[encoded data removed]",
      "text/plain": [
       "<Figure size 432x288 with 1 Axes>"
      ]
     },
     "metadata": {
      "needs_background": "light"
     },
     "output_type": "display_data"
    }
   ],
   "source": [
    "# hyperparameter\n",
    "epochs = 15\n",
    "learning_rate = 1e-4\n",
    "min_val = -200\n",
    "max_val = 200\n",
    "\n",
    "node = RNN()\n",
    "\n",
    "# forward pass\n",
    "x = X[0]\n",
    "y = Y[0]\n",
    "layers,y_hat = node.forward_pass(x)\n",
    "print(f'layers len {len(layers)}')\n",
    "print(f'y_hat {y_hat}')\n",
    "\n",
    "# calculate loss\n",
    "loss = node.calc_loss(X,Y)\n",
    "print(f'loss {loss}')\n",
    "\n",
    "# train\n",
    "losses = node.train(X,Y,epochs=epochs,learning_rate=1e-4,bptt_truncate = 10,min_val = min_val,max_val = max_val,predict = False)\n",
    "\n",
    "# predict\n",
    "preds = node.predict(X)\n",
    "plt.plot(preds,label = 'pred')\n",
    "plt.plot(Y,label = 'ground-truth')\n",
    "plt.title('RNN training')\n",
    "plt.legend()\n",
    "\n",
    "#plt.savefig('predict.png')\n",
    "plt.figure()\n",
    "plt.plot(losses,label = 'losses')\n",
    "plt.title('loss-curve')\n",
    "\n",
    "plt.show()"
   ]
  },
  {
   "cell_type": "markdown",
   "id": "a00200f2",
   "metadata": {},
   "source": [
    "### comment\n",
    "\n",
    "Even you don't update for `W_u,U_u,b_u`, `W_r,U_r,b_r`, `W_r,U_r,b_r`, It seem like your model stil work fine sometime\n",
    "\n",
    "![predicts](predict.png)"
   ]
  },
  {
   "cell_type": "markdown",
   "id": "51d7ff5b",
   "metadata": {},
   "source": [
    "### try with other dataset"
   ]
  },
  {
   "cell_type": "code",
   "execution_count": 70,
   "id": "f88f6982",
   "metadata": {},
   "outputs": [
    {
     "name": "stdout",
     "output_type": "stream",
     "text": [
      "data lenght: 200\n",
      "seq_len: 50\n",
      "num_records: 150\n",
      "X shape (150, 50, 1)\n",
      "Y shape (150, 1)\n",
      "X_val shape (50, 50, 1)\n",
      "Y_val shape (50, 1)\n"
     ]
    },
    {
     "name": "stderr",
     "output_type": "stream",
     "text": [
      "  2%|▏         | 3/150 [00:00<00:05, 25.42it/s]"
     ]
    },
    {
     "name": "stdout",
     "output_type": "stream",
     "text": [
      "epoch: 0 loss: 118.79946212617381\n"
     ]
    },
    {
     "name": "stderr",
     "output_type": "stream",
     "text": [
      "100%|██████████| 150/150 [00:06<00:00, 24.31it/s]\n",
      "  2%|▏         | 3/150 [00:00<00:05, 26.78it/s]"
     ]
    },
    {
     "name": "stdout",
     "output_type": "stream",
     "text": [
      "epoch: 1 loss: 16.684978846827114\n"
     ]
    },
    {
     "name": "stderr",
     "output_type": "stream",
     "text": [
      "100%|██████████| 150/150 [00:04<00:00, 30.19it/s]\n",
      "  2%|▏         | 3/150 [00:00<00:05, 26.55it/s]"
     ]
    },
    {
     "name": "stdout",
     "output_type": "stream",
     "text": [
      "epoch: 2 loss: 0.04659795579049704\n"
     ]
    },
    {
     "name": "stderr",
     "output_type": "stream",
     "text": [
      "100%|██████████| 150/150 [00:04<00:00, 30.86it/s]\n",
      "  2%|▏         | 3/150 [00:00<00:05, 27.03it/s]"
     ]
    },
    {
     "name": "stdout",
     "output_type": "stream",
     "text": [
      "epoch: 3 loss: 0.04866989191608355\n"
     ]
    },
    {
     "name": "stderr",
     "output_type": "stream",
     "text": [
      "100%|██████████| 150/150 [00:04<00:00, 30.96it/s]\n",
      "  2%|▏         | 3/150 [00:00<00:06, 24.39it/s]"
     ]
    },
    {
     "name": "stdout",
     "output_type": "stream",
     "text": [
      "epoch: 4 loss: 0.04842998656970449\n"
     ]
    },
    {
     "name": "stderr",
     "output_type": "stream",
     "text": [
      "100%|██████████| 150/150 [00:04<00:00, 30.39it/s]\n",
      "  2%|▏         | 3/150 [00:00<00:05, 26.78it/s]"
     ]
    },
    {
     "name": "stdout",
     "output_type": "stream",
     "text": [
      "epoch: 5 loss: 0.04819442785754397\n"
     ]
    },
    {
     "name": "stderr",
     "output_type": "stream",
     "text": [
      "100%|██████████| 150/150 [00:04<00:00, 30.55it/s]\n",
      "  2%|▏         | 3/150 [00:00<00:05, 28.04it/s]"
     ]
    },
    {
     "name": "stdout",
     "output_type": "stream",
     "text": [
      "epoch: 6 loss: 0.047963963045875996\n"
     ]
    },
    {
     "name": "stderr",
     "output_type": "stream",
     "text": [
      "100%|██████████| 150/150 [00:04<00:00, 30.60it/s]\n",
      "  2%|▏         | 3/150 [00:00<00:05, 25.64it/s]"
     ]
    },
    {
     "name": "stdout",
     "output_type": "stream",
     "text": [
      "epoch: 7 loss: 0.04773850215336388\n"
     ]
    },
    {
     "name": "stderr",
     "output_type": "stream",
     "text": [
      "100%|██████████| 150/150 [00:04<00:00, 30.92it/s]\n",
      "  2%|▏         | 3/150 [00:00<00:05, 27.52it/s]"
     ]
    },
    {
     "name": "stdout",
     "output_type": "stream",
     "text": [
      "epoch: 8 loss: 0.0475179396142752\n"
     ]
    },
    {
     "name": "stderr",
     "output_type": "stream",
     "text": [
      "100%|██████████| 150/150 [00:04<00:00, 30.99it/s]\n",
      "  2%|▏         | 3/150 [00:00<00:05, 27.78it/s]"
     ]
    },
    {
     "name": "stdout",
     "output_type": "stream",
     "text": [
      "epoch: 9 loss: 0.04730216233831642\n"
     ]
    },
    {
     "name": "stderr",
     "output_type": "stream",
     "text": [
      "100%|██████████| 150/150 [00:04<00:00, 30.52it/s]\n"
     ]
    },
    {
     "data": {
      "image/png": "[encoded data removed]",
      "text/plain": [
       "<Figure size 432x288 with 1 Axes>"
      ]
     },
     "metadata": {
      "needs_background": "light"
     },
     "output_type": "display_data"
    },
    {
     "data": {
      "image/png": "[encoded data removed]",
      "text/plain": [
       "<Figure size 432x288 with 1 Axes>"
      ]
     },
     "metadata": {
      "needs_background": "light"
     },
     "output_type": "display_data"
    }
   ],
   "source": [
    "def gen_data(f,seq_len):\n",
    "    '''\n",
    "    Generate custom dataset and return all-dataset,x-training,y-training,x-testing,y-testing\n",
    "    '''\n",
    "    X = []\n",
    "    Y = []\n",
    "    X_val = []\n",
    "    Y_val = []\n",
    "    seq_data =  np.array([(0.5*math.sin(1*f*2*np.pi*x) + 0.5*math.sin(2*f*2*np.pi*x)) for x in np.arange(0,0.4,0.002)])\n",
    "    # training dataset\n",
    "    num_records = len(seq_data) - seq_len\n",
    "    for i in range(num_records):\n",
    "        X.append(seq_data[i:i+seq_len])\n",
    "        Y.append(seq_data[i+seq_len])\n",
    "    # testing dataset\n",
    "    for i in range(num_records - seq_len,num_records):\n",
    "        X_val.append(seq_data[i:i+seq_len])\n",
    "        Y_val.append(seq_data[i+seq_len])\n",
    "    # convert to numpy array\n",
    "    X = np.array(X)\n",
    "    Y = np.array(Y)\n",
    "    X_val = np.array(X_val)\n",
    "    Y_val = np.array(Y_val)\n",
    "    # reshape training and testing dataset\n",
    "    X = np.expand_dims(X,2)\n",
    "    X_val = np.expand_dims(X_val,2)\n",
    "    Y = np.expand_dims(Y,1)\n",
    "    Y_val = np.expand_dims(Y_val,1)\n",
    "    print(f'data lenght: {len(seq_data)}')\n",
    "    print(f'seq_len: {seq_len}')\n",
    "    print(f'num_records: {num_records}')\n",
    "    print(f'X shape {X.shape}')\n",
    "    print(f'Y shape {Y.shape}')\n",
    "    print(f'X_val shape {X_val.shape}')\n",
    "    print(f'Y_val shape {Y_val.shape}')\n",
    "    return seq_data,X,Y,X_val,Y_val\n",
    "\n",
    "# hyperparameter\n",
    "epochs = 10\n",
    "learning_rate = 1e-4\n",
    "min_val = -20\n",
    "max_val = 20\n",
    "f = 30\n",
    "seq_len = 50\n",
    "seq_data,X,Y,X_val,Y_val = gen_data(f,seq_len)\n",
    "\n",
    "node = GRU()\n",
    "\n",
    "# train\n",
    "losses = node.train(X,Y,epochs=epochs,learning_rate=1e-4,min_val = min_val,max_val = max_val,predict = False)\n",
    "\n",
    "# predict\n",
    "preds = node.predict(X)\n",
    "plt.plot(preds,label = 'pred')\n",
    "plt.plot(Y,label = 'ground-truth')\n",
    "plt.title('GRU training')\n",
    "plt.legend()\n",
    "\n",
    "#plt.savefig('predict.png')\n",
    "plt.figure()\n",
    "plt.plot(losses,label = 'losses')\n",
    "plt.title('loss-curve')\n",
    "\n",
    "plt.show()"
   ]
  },
  {
   "cell_type": "markdown",
   "id": "1be0e3af",
   "metadata": {},
   "source": [
    "### GRU Keras"
   ]
  },
  {
   "cell_type": "markdown",
   "id": "6bdf7d29",
   "metadata": {},
   "source": [
    "### build LSTM form scratch\n",
    "\n",
    "![LSTM](LSTM_1.png)\n",
    "\n",
    "**Forget State** decide how many we need to take from previous `cell_state`\n",
    "\n",
    "**Input State** decide how many `input` of the `state` and `hidden layer` of `layer` we need to take from previous\n",
    "\n",
    "**Output State** decide how many we need to take from previous `cell state` to become `output` of the `hidden state` and for calculating `output` $y_{t}$ for `state` t\n",
    "\n",
    "**Forward pass**\n",
    "\n",
    "![LSTM2](LSTM2.png)\n",
    "\n",
    "**Backward propagation though time**\n",
    "\n",
    "![LSTM6](LSTM6.png)\n",
    "\n",
    "In `LSTM` we do care about $\\frac{\\partial{c_{t}}}{\\partial{c_{t-1}}} = f_{t}$ because $ 0 < f_{t} < 1$ so basiclly `LSTM` still have vanishing gradient but it does not effect more as RNN because when we carry information on `cell_state` we don't have to forget the information value in previous cell state so $f_{t} \\simeq 1$ so we can avoid vanishing gradient\n",
    "\n",
    "**Forward pass**\n",
    "\n",
    "- Forget gate: $f_{t} = \\sigma(W_{f}*h_{t-1} + U_{f}*x_{t} + b_{f})$\n",
    "    + forget gate decided which information hase been retained or dropped\n",
    "\n",
    "\n",
    "- Input gate: $i_{t} = \\sigma(W_{i}*h_{t-1} + U_{i}*x_{t} + b_{i})$\n",
    "    + input gate decided which information should be saved in cell or dropped\n",
    "\n",
    "\n",
    "- Output gate: $o_{t} = \\sigma(W_{o}*h_{t-1} + U_{o}*x_{t} + b_{o})$\n",
    "    + ouput gate decided which information should be highlight for the next cell\n",
    "\n",
    "\n",
    "- Intermediate cell state: $\\tilde{C_{t}} = tanh(W_{c}*h_{t-1} + U_{c}*x_{t} + b_{c})$\n",
    "\n",
    "\n",
    "- Cell state: $C_{t} = i_{t}*\\tilde{C_{t}} + f_{t}*C_{t-1}$\n",
    "\n",
    "\n",
    "- New hidden state: $h_{t} = o_{t} * tanh(C_{t})$\n",
    "\n",
    "- Predict: $y_{t} = V*h_{t} + b_{y}$\n",
    "\n",
    "**Backward pass**\n",
    "\n",
    "We need to update:\n",
    "\n",
    "$\\frac{\\partial{L}}{\\partial{W_{f}}},\\frac{\\partial{L}}{\\partial{U_{f}}},\\frac{\\partial{L}}{\\partial{b_{f}}}$\n",
    "\n",
    "$$ W_{f} = W_{f} + lr * \\frac{\\partial{L}}{\\partial{W_{f}}}  $$\n",
    "$$ U_{f} = U_{f} + lr * \\frac{\\partial{L}}{\\partial{U_{f}}}  $$\n",
    "$$ b_{f} = b_{f} + lr * \\frac{\\partial{L}}{\\partial{b_{f}}}  $$\n",
    "\n",
    "$\\frac{\\partial{L}}{\\partial{W_{i}}},\\frac{\\partial{L}}{\\partial{U_{i}}},\\frac{\\partial{L}}{\\partial{b_{i}}}$\n",
    "\n",
    "$$ W_{i} = W_{i} + lr * \\frac{\\partial{L}}{\\partial{W_{i}}}  $$\n",
    "$$ U_{i} = U_{i} + lr * \\frac{\\partial{L}}{\\partial{U_{i}}}  $$\n",
    "$$ b_{i} = b_{i} + lr * \\frac{\\partial{L}}{\\partial{b_{i}}}  $$\n",
    "\n",
    "$\\frac{\\partial{L}}{\\partial{W_{o}}},\\frac{\\partial{L}}{\\partial{U_{o}}},\\frac{\\partial{L}}{\\partial{b_{o}}}$\n",
    "\n",
    "$$ W_{o} = W_{o} + lr * \\frac{\\partial{L}}{\\partial{W_{o}}}  $$\n",
    "$$ U_{o} = U_{o} + lr * \\frac{\\partial{L}}{\\partial{U_{o}}}  $$\n",
    "$$ b_{o} = b_{o} + lr * \\frac{\\partial{L}}{\\partial{b_{o}}}  $$\n",
    "\n",
    "$\\frac{\\partial{L}}{\\partial{W_{c}}},\\frac{\\partial{L}}{\\partial{U_{c}}},\\frac{\\partial{L}}{\\partial{b_{c}}}$\n",
    "\n",
    "$$ W_{c} = W_{c} + lr * \\frac{\\partial{L}}{\\partial{W_{c}}}  $$\n",
    "$$ U_{c} = U_{c} + lr * \\frac{\\partial{L}}{\\partial{U_{c}}}  $$\n",
    "$$ b_{c} = b_{c} + lr * \\frac{\\partial{L}}{\\partial{b_{c}}}  $$\n",
    "\n",
    "$\\frac{\\partial{L}}{\\partial{V}},\\frac{\\partial{L}}{\\partial{b_{y}}}$\n",
    "\n",
    "$$V = V + lr * \\frac{\\partial{L}}{\\partial{V}}$$\n",
    "$$b_{y} = b_{y} + lr * \\frac{\\partial{L}}{\\partial{b_{y}}}$$\n",
    "\n",
    "- first let calculate term $\\frac{\\partial{L}}{\\partial{\\hat{y}}}$\n",
    "\n",
    "$$\\frac{\\partial{L}}{\\partial{{\\hat{y}}}} = (y-\\hat{y}) \\space [1]$$\n",
    "\n",
    "- So then you can calculate: $\\frac{\\partial{L}}{\\partial{V}},\\frac{\\partial{L}}{\\partial{b_{y}}}$\n",
    "\n",
    "$$\\frac{\\partial{L}}{\\partial{V}} = \\frac{\\partial{L}}{\\partial{\\hat{y}}} \\frac{\\partial{\\hat{y}}}{\\partial{V}} = \\frac{\\partial{L}}{\\partial{\\hat{y}}} . h_{t} \\space [2]$$\n",
    "\n",
    "$$\\frac{\\partial{L}}{\\partial{b_{y}}} = \\frac{\\partial{L}}{\\partial{\\hat{y}}} \\frac{\\partial{\\hat{y}}}{\\partial{b_{y}}} = \\frac{\\partial{L}}{\\partial{\\hat{y}}} \\space [3]$$\n",
    "\n",
    "- let calculate $\\frac{\\partial{L}}{\\partial{\\tilde{C}_{t}}}$ ,$\\frac{\\partial{L}}{\\partial{f_{t}}}$ ,$\\frac{\\partial{L}}{\\partial{i_{t}}}$ ,$\\frac{\\partial{L}}{\\partial{o_{t}}}$\n",
    "\n",
    "$$ \\frac{\\partial{L}}{\\partial{h_{t}}} = \\frac{\\partial{L}}{\\partial{\\hat{y}}} \\frac{\\partial{\\hat{y}}}{\\partial{h_{t}}} = \\frac{\\partial{L}}{\\partial{\\hat{y}}}.V \\space [4] $$\n",
    "\n",
    "$$ \\frac{\\partial{L}}{\\partial{C_{t}}} = \\frac{\\partial{L}}{\\partial{h_{t}}} \\frac{\\partial{h_{t}}}{\\partial{C_{t}}} = \\frac{\\partial{L}}{\\partial{h_{t}}}. o_{t} . (1-tanh(C_{t})^{2}) \\space [5] $$\n",
    "\n",
    "$$ \\frac{\\partial{L}}{\\partial{\\tilde{C}_{t}}} = \\frac{\\partial{L}}{\\partial{C_{t}}} \\frac{\\partial{C_{t}}}{\\partial{\\tilde{C}_{t}}} = \\frac{\\partial{L}}{\\partial{C_{t}}} * i_{t} \\space [6]$$\n",
    "\n",
    "$$ \\frac{\\partial{L}}{\\partial{o_{t}}} = \\frac{\\partial{L}}{\\partial{h_{t}}} \\frac{\\partial{h_{t}}}{\\partial{o_{t}}} = \\frac{\\partial{L}}{\\partial{h_{t}}} tanh(C_{t}) \\space [7]$$\n",
    "\n",
    "$$ \\frac{\\partial{L}}{\\partial{f_{t}}} = \\frac{\\partial{L}}{\\partial{C_{t}}} \\frac{\\partial{C_{t}}}{\\partial{f_{t}}} = \\frac{\\partial{L}}{\\partial{C_{t}}} C_{t-1} \\space [8]$$\n",
    "\n",
    "$$ \\frac{\\partial{L}}{\\partial{i_{t}}} = \\frac{\\partial{L}}{\\partial{C_{t}}} \\frac{\\partial{C_{t}}}{\\partial{i_{t}}} = \\frac{\\partial{L}}{\\partial{C_{t}}} \\tilde{C}_{t} \\space [9]$$\n",
    "\n",
    "- After calculate these term then we start to calculate the main differentials\n",
    "\n",
    "$$\\frac{\\partial{L}}{\\partial{W_{c}}} = \\frac{\\partial{L}}{\\partial{\\tilde{C_{t}}}} \\frac{\\partial{\\tilde{C_{t}}}}{\\partial{W_{c}}} = \\frac{\\partial{L}}{\\partial{\\tilde{C_{t}}}} (1-\\tilde{C_{t}}^{2}).h_{t-1} \\space [10]$$\n",
    "\n",
    "$$\\frac{\\partial{L}}{\\partial{U_{c}}} = \\frac{\\partial{L}}{\\partial{\\tilde{C_{t}}}} \\frac{\\partial{\\tilde{C}_{t}}}{\\partial{U_{c}}} = \\frac{\\partial{L}}{\\partial{\\tilde{C_{t}}}} (1-\\tilde{C_{t}}^{2}).x_{t} \\space [11]$$\n",
    "\n",
    "$$\\frac{\\partial{L}}{\\partial{b_{c}}} = \\frac{\\partial{L}}{\\partial{\\tilde{C_{t}}}} \\frac{\\partial{\\tilde{C}_{t}}}{\\partial{b_{c}}} = \\frac{\\partial{L}}{\\partial{\\tilde{C_{t}}}} (1-\\tilde{C_{t}}^{2}) \\space [12]$$\n",
    "\n",
    "- Output gate\n",
    "\n",
    "$$\\frac{\\partial{L}}{\\partial{W_{o}}} = \\frac{\\partial{L}}{\\partial{o_{t}}} \\frac{\\partial{o_{t}}}{\\partial{W_{o}}} = \\frac{\\partial{L}}{\\partial{o_{t}}}.(1-o_{t}).h_{t-1} \\space [13]$$\n",
    "\n",
    "$$\\frac{\\partial{L}}{\\partial{U_{o}}} = \\frac{\\partial{L}}{\\partial{o_{t}}} \\frac{\\partial{o_{t}}}{\\partial{U_{o}}} = \\frac{\\partial{L}}{\\partial{o_{t}}}.(1-o_{t}).x_{t} \\space [14]$$\n",
    "\n",
    "$$\\frac{\\partial{L}}{\\partial{b_{o}}} = \\frac{\\partial{L}}{\\partial{o_{t}}} \\frac{\\partial{o_{t}}}{\\partial{b_{o}}} = \\frac{\\partial{L}}{\\partial{o_{t}}}.(1-o_{t}) \\space [15]$$\n",
    "\n",
    "- Input gate\n",
    "\n",
    "$$\\frac{\\partial{L}}{\\partial{W_{i}}} = \\frac{\\partial{L}}{\\partial{i_{t}}} \\frac{\\partial{i_{t}}}{\\partial{W_{i}}} = \\frac{\\partial{L}}{\\partial{i_{t}}}.(1-i_{t}).h_{t-1} \\space [16]$$\n",
    "\n",
    "$$\\frac{\\partial{L}}{\\partial{U_{i}}} = \\frac{\\partial{L}}{\\partial{i_{t}}} \\frac{\\partial{i_{t}}}{\\partial{U_{i}}} = \\frac{\\partial{L}}{\\partial{i_{t}}}.(1-i_{t}).x_{t} \\space [17]$$\n",
    "\n",
    "$$\\frac{\\partial{L}}{\\partial{b_{i}}} = \\frac{\\partial{L}}{\\partial{i_{t}}} \\frac{\\partial{i_{t}}}{\\partial{b_{i}}} = \\frac{\\partial{L}}{\\partial{i_{t}}}.(1-i_{t}) \\space [18]$$\n",
    "\n",
    "- Forget gate\n",
    "\n",
    "$$\\frac{\\partial{L}}{\\partial{W_{f}}} = \\frac{\\partial{L}}{\\partial{f_{t}}} \\frac{\\partial{f_{t}}}{\\partial{W_{f}}} = \\frac{\\partial{L}}{\\partial{f_{t}}}.(1-f_{t}).h_{t-1} \\space [19]$$\n",
    "\n",
    "$$\\frac{\\partial{L}}{\\partial{U_{f}}} = \\frac{\\partial{L}}{\\partial{f_{t}}} \\frac{\\partial{f_{t}}}{\\partial{U_{f}}} = \\frac{\\partial{L}}{\\partial{f_{t}}}.(1-f_{t}).x_{t} \\space [20]$$\n",
    "\n",
    "$$\\frac{\\partial{L}}{\\partial{b_{f}}} = \\frac{\\partial{L}}{\\partial{f_{t}}} \\frac{\\partial{f_{t}}}{\\partial{b_{f}}} = \\frac{\\partial{L}}{\\partial{f_{t}}}.(1-f_{t}) \\space [21]$$\n",
    "\n",
    "[link1](https://github.com/mukul-rathi/deep-learning-tutorials/blob/master/RecurrentNeuralNet/LSTM.ipynb) [(*)link2](https://github.com/CaptainE/RNN-LSTM-in-numpy/blob/master/RNN_LSTM_from_scratch.ipynb) [()link3](https://github.com/gstechgeek/LSTM_from_scratch/blob/main/lstm_archs.py) [link4](https://github.com/nicodjimenez/lstm/blob/master/lstm.py) [link5](https://github.com/PNilay/LSTM-Network-from-Scratch/blob/main/Text%20Generation/Text_Generation_LSTM_V2.ipynb)"
   ]
  },
  {
   "cell_type": "code",
   "execution_count": 71,
   "id": "cb5ebb72",
   "metadata": {},
   "outputs": [],
   "source": [
    "# import the libraries\n",
    "import tqdm\n",
    "import math \n",
    "import numpy as np\n",
    "import matplotlib.pyplot as plt"
   ]
  },
  {
   "cell_type": "code",
   "execution_count": 72,
   "id": "9646a2a4",
   "metadata": {},
   "outputs": [],
   "source": [
    "# define activation functions\n",
    "\n",
    "# sigmoid function get value from 0~1\n",
    "def sigmoid(x):\n",
    "    return 1/(1+np.exp(-x))\n",
    "\n",
    "# tanh function get value from -1~1\n",
    "def tanh(x):\n",
    "    return (np.exp(x)-np.exp(-x))/(np.exp(x)+np.exp(-x))"
   ]
  },
  {
   "cell_type": "code",
   "execution_count": 73,
   "id": "974818ef",
   "metadata": {},
   "outputs": [
    {
     "name": "stdout",
     "output_type": "stream",
     "text": [
      "data lenght: 200\n",
      "seq_len: 50\n",
      "num_records: 150\n",
      "X shape (150, 50, 1)\n",
      "Y shape (150, 1)\n",
      "X_val shape (50, 50, 1)\n",
      "Y_val shape (50, 1)\n"
     ]
    },
    {
     "data": {
      "text/plain": [
       "Text(0.5, 1.0, 'sequence data')"
      ]
     },
     "execution_count": 73,
     "metadata": {},
     "output_type": "execute_result"
    },
    {
     "data": {
      "image/png": "[encoded data removed]",
      "text/plain": [
       "<Figure size 864x360 with 1 Axes>"
      ]
     },
     "metadata": {
      "needs_background": "light"
     },
     "output_type": "display_data"
    }
   ],
   "source": [
    "# generate dataset\n",
    "def gen_data(f,seq_len):\n",
    "    '''\n",
    "    Generate custom dataset and return all-dataset,x-training,y-training,x-testing,y-testing\n",
    "    '''\n",
    "    X = []\n",
    "    Y = []\n",
    "    X_val = []\n",
    "    Y_val = []\n",
    "    seq_data =  np.array([(0.5*math.sin(1*f*2*np.pi*x) + 0.5*math.sin(2*f*2*np.pi*x)) for x in np.arange(0,0.4,0.002)])\n",
    "    # training dataset\n",
    "    num_records = len(seq_data) - seq_len\n",
    "    for i in range(num_records):\n",
    "        X.append(seq_data[i:i+seq_len])\n",
    "        Y.append(seq_data[i+seq_len])\n",
    "    # testing dataset\n",
    "    for i in range(num_records - seq_len,num_records):\n",
    "        X_val.append(seq_data[i:i+seq_len])\n",
    "        Y_val.append(seq_data[i+seq_len])\n",
    "    # convert to numpy array\n",
    "    X = np.array(X)\n",
    "    Y = np.array(Y)\n",
    "    X_val = np.array(X_val)\n",
    "    Y_val = np.array(Y_val)\n",
    "    # reshape training and testing dataset\n",
    "    X = np.expand_dims(X,2)\n",
    "    X_val = np.expand_dims(X_val,2)\n",
    "    Y = np.expand_dims(Y,1)\n",
    "    Y_val = np.expand_dims(Y_val,1)\n",
    "    print(f'data lenght: {len(seq_data)}')\n",
    "    print(f'seq_len: {seq_len}')\n",
    "    print(f'num_records: {num_records}')\n",
    "    print(f'X shape {X.shape}')\n",
    "    print(f'Y shape {Y.shape}')\n",
    "    print(f'X_val shape {X_val.shape}')\n",
    "    print(f'Y_val shape {Y_val.shape}')\n",
    "    return seq_data,X,Y,X_val,Y_val\n",
    "\n",
    "f = 15\n",
    "seq_len = 50\n",
    "seq_data,X,Y,X_val,Y_val = gen_data(f,seq_len)\n",
    "# visualize the seq_wave\n",
    "fig = plt.figure(figsize = (12,5))\n",
    "plt.plot(seq_data)\n",
    "plt.title('sequence data')"
   ]
  },
  {
   "cell_type": "code",
   "execution_count": 74,
   "id": "5fdbbee8",
   "metadata": {},
   "outputs": [],
   "source": [
    "class LSTM():\n",
    "    def __init__(self,hidden_dim = 100,seq_len = 50,input_dim = 1,output_dim = 1,seed = 3456):\n",
    "        np.random.seed(seed)\n",
    "        self.hidden_dim = hidden_dim\n",
    "        self.seq_len = seq_len\n",
    "        self.input_dim = input_dim\n",
    "        self.output_dim = 1\n",
    "        # init matrices \n",
    "        self.W_f = np.random.uniform(0,1,(hidden_dim,hidden_dim))\n",
    "        self.U_f = np.random.uniform(0,1,(hidden_dim,seq_len))\n",
    "        self.bf = np.random.uniform(0,1,(hidden_dim,1))\n",
    "        self.W_i = np.random.uniform(0,1,(hidden_dim,hidden_dim))\n",
    "        self.U_i = np.random.uniform(0,1,(hidden_dim,seq_len))\n",
    "        self.bi = np.random.uniform(0,1,(hidden_dim,1))\n",
    "        self.W_o = np.random.uniform(0,1,(hidden_dim,hidden_dim))\n",
    "        self.U_o = np.random.uniform(0,1,(hidden_dim,seq_len))\n",
    "        self.bo = np.random.uniform(0,1,(hidden_dim,1))\n",
    "        self.W_c = np.random.uniform(0,1,(hidden_dim,hidden_dim))\n",
    "        self.U_c = np.random.uniform(0,1,(hidden_dim,seq_len))\n",
    "        self.bc = np.random.uniform(0,1,(hidden_dim,1))\n",
    "        self.V = np.random.uniform(0,1,(output_dim,hidden_dim))\n",
    "        self.by = np.random.uniform(0,1,(output_dim,1))\n",
    "    \n",
    "    def forward_pass(self,x):\n",
    "        # init a list of dict storage calculation from each step\n",
    "        layers = []\n",
    "        # init the first candidate cell state and hidden_state\n",
    "        h_prev = c_prev = np.zeros((self.hidden_dim,1))\n",
    "        for t in range(x.shape[0]):\n",
    "            # get the input at current timestep\n",
    "            new_input = np.zeros(x.shape)\n",
    "            new_input[t] = x[t]\n",
    "            # forget gate\n",
    "            f_t = sigmoid(self.U_f @ new_input + self.W_f @ h_prev + self.bf)\n",
    "            # input gate\n",
    "            i_t = sigmoid(self.U_i @ new_input + self.W_i @ h_prev + self.bi)\n",
    "            # output gate\n",
    "            o_t = sigmoid(self.U_o @ new_input + self.W_o @ h_prev + self.bf)\n",
    "            # candidate cell state\n",
    "            c_til = tanh(self.U_c @ new_input + self.W_c @ h_prev + self.bc)\n",
    "            # cell state\n",
    "            c = i_t * c_til + f_t * c_prev\n",
    "            # hidden state\n",
    "            h = o_t * tanh(c)\n",
    "            # predict\n",
    "            y_hat = self.V @ h + self.by\n",
    "            # storage the calculation\n",
    "            layers.append({'h':h,'h_prev':h_prev,'c':c,'c_prev':c_prev,'f':f_t,'i':i_t,'o':o_t})\n",
    "            # update cell and hidden state\n",
    "            c_prev = c\n",
    "            h_prev = h\n",
    "        return layers,y_hat\n",
    "    \n",
    "    def calc_loss(self,X,Y):\n",
    "        loss = 0.0\n",
    "        m = Y.shape[0]\n",
    "        for i in range(m):\n",
    "            x,y = X[i],Y[i]\n",
    "            _,y_hat = self.forward_pass(x)\n",
    "            loss += (y-y_hat)**2\n",
    "        loss = 1/(2*m) * np.float(loss)\n",
    "        return loss\n",
    "\n",
    "    def predict(self,X):\n",
    "        preds = []\n",
    "        m = X.shape[0] # number of samples\n",
    "        for i in range(m):\n",
    "            x = X[i]\n",
    "            _,y_hat = self.forward_pass(x)\n",
    "            preds.append(y_hat)\n",
    "        # convert to numpy array\n",
    "        preds = np.array(preds)\n",
    "        preds = np.squeeze(preds)\n",
    "        return preds\n",
    "    \n",
    "    def bptt(self,x,y,layers,y_hat,bptt_truncate= 4,min_val=-10,max_val=10):\n",
    "        T = x.shape[0]\n",
    "        # forget gate\n",
    "        dW_f = np.zeros(self.W_f.shape)\n",
    "        dU_f = np.zeros(self.U_f.shape)\n",
    "        db_f = np.zeros(self.bf.shape)\n",
    "        # input gate\n",
    "        dW_i = np.zeros(self.W_i.shape)\n",
    "        dU_i = np.zeros(self.U_i.shape)\n",
    "        db_i = np.zeros(self.bi.shape)\n",
    "        # output gate\n",
    "        dW_o = np.zeros(self.W_o.shape)\n",
    "        dU_o = np.zeros(self.U_o.shape)\n",
    "        db_o = np.zeros(self.bo.shape)\n",
    "        # candidate cell state\n",
    "        dW_c = np.zeros(self.W_c.shape)\n",
    "        dU_c = np.zeros(self.U_c.shape)\n",
    "        db_c = np.zeros(self.bc.shape)\n",
    "        # output\n",
    "        dV = np.zeros(self.V.shape)\n",
    "        db_y = np.zeros(self.by.shape)\n",
    "        # dLdy\n",
    "        dLdy = y - y_hat\n",
    "        # dLdh\n",
    "        dLdh = self.V.T @ dLdy\n",
    "        for t in range(T):\n",
    "            # dV\n",
    "            dV += dLdy @ np.transpose(layers[t]['h'])\n",
    "            # db_y\n",
    "            db_y += dLdy\n",
    "        db_y = db_y/T\n",
    "        return dW_f,dU_f,db_f,dW_i,dU_i,db_i,dW_o,dU_o,db_o,dW_c,dU_c,db_c,dV,db_y\n",
    "    \n",
    "    def train(self,X,Y,epochs,learning_rate,min_val=-10,max_val=10,verbose = True):\n",
    "        # storge loss\n",
    "        losses = []\n",
    "        for epoch in range(epochs):\n",
    "            \n",
    "            loss = self.calc_loss(X,Y)\n",
    "            losses.append(loss)\n",
    "            title = f'epoch: {epoch} loss: {loss}' \n",
    "            if verbose: print(title)\n",
    "            \n",
    "            for i in tqdm.tqdm(range(X.shape[0])):\n",
    "                x = X[i]\n",
    "                y = Y[i]\n",
    "                # forward pass\n",
    "                layers,y_hat = self.forward_pass(x)\n",
    "                # backward pass\n",
    "                dW_f,dU_f,db_f,dW_i,dU_i,db_i,dW_o,dU_o,db_o,dW_c,dU_c,db_c,dV,db_y = self.bptt(x,y,layers,y_hat,min_val = min_val,max_val = max_val)\n",
    "                # gradient descent\n",
    "                self.W_f += learning_rate * dW_f\n",
    "                self.U_f += learning_rate * dU_f\n",
    "                self.bf += learning_rate * db_f\n",
    "                self.W_i += learning_rate * dW_i\n",
    "                self.U_i += learning_rate * dU_i\n",
    "                self.bi += learning_rate * db_i\n",
    "                self.W_o += learning_rate * dW_o\n",
    "                self.U_o += learning_rate * dU_o\n",
    "                self.bo += learning_rate * db_o\n",
    "                self.W_c += learning_rate * dW_c\n",
    "                self.U_c += learning_rate * dU_c\n",
    "                self.bc += learning_rate * db_c\n",
    "                self.V += learning_rate * dV\n",
    "                self.by += learning_rate * db_y    \n",
    "        return losses\n",
    "            "
   ]
  },
  {
   "cell_type": "code",
   "execution_count": 75,
   "id": "2b34be0c",
   "metadata": {},
   "outputs": [
    {
     "name": "stderr",
     "output_type": "stream",
     "text": [
      "  6%|▌         | 9/150 [00:00<00:01, 84.11it/s]"
     ]
    },
    {
     "name": "stdout",
     "output_type": "stream",
     "text": [
      "epoch: 0 loss: 1279.3317585833402\n"
     ]
    },
    {
     "name": "stderr",
     "output_type": "stream",
     "text": [
      "100%|██████████| 150/150 [00:01<00:00, 86.15it/s]\n",
      "  5%|▌         | 8/150 [00:00<00:01, 78.43it/s]"
     ]
    },
    {
     "name": "stdout",
     "output_type": "stream",
     "text": [
      "epoch: 1 loss: 0.21769592388926115\n"
     ]
    },
    {
     "name": "stderr",
     "output_type": "stream",
     "text": [
      "100%|██████████| 150/150 [00:01<00:00, 84.84it/s]\n",
      "  5%|▌         | 8/150 [00:00<00:01, 76.19it/s]"
     ]
    },
    {
     "name": "stdout",
     "output_type": "stream",
     "text": [
      "epoch: 2 loss: 0.21769592388926093\n"
     ]
    },
    {
     "name": "stderr",
     "output_type": "stream",
     "text": [
      "100%|██████████| 150/150 [00:01<00:00, 83.84it/s]\n",
      "  6%|▌         | 9/150 [00:00<00:01, 84.90it/s]"
     ]
    },
    {
     "name": "stdout",
     "output_type": "stream",
     "text": [
      "epoch: 3 loss: 0.21769592388926076\n"
     ]
    },
    {
     "name": "stderr",
     "output_type": "stream",
     "text": [
      "100%|██████████| 150/150 [00:01<00:00, 87.31it/s]\n",
      "  6%|▌         | 9/150 [00:00<00:01, 83.33it/s]"
     ]
    },
    {
     "name": "stdout",
     "output_type": "stream",
     "text": [
      "epoch: 4 loss: 0.21769592388926087\n"
     ]
    },
    {
     "name": "stderr",
     "output_type": "stream",
     "text": [
      "100%|██████████| 150/150 [00:01<00:00, 76.68it/s]\n",
      "  5%|▌         | 8/150 [00:00<00:01, 76.92it/s]"
     ]
    },
    {
     "name": "stdout",
     "output_type": "stream",
     "text": [
      "epoch: 5 loss: 0.21769592388926076\n"
     ]
    },
    {
     "name": "stderr",
     "output_type": "stream",
     "text": [
      "100%|██████████| 150/150 [00:01<00:00, 86.60it/s]\n"
     ]
    },
    {
     "data": {
      "image/png": "[encoded data removed]",
      "text/plain": [
       "<Figure size 432x288 with 1 Axes>"
      ]
     },
     "metadata": {
      "needs_background": "light"
     },
     "output_type": "display_data"
    }
   ],
   "source": [
    "# hyperparameter\n",
    "epochs = 6\n",
    "learning_rate = 1e-4\n",
    "min_val = -20\n",
    "max_val = 20\n",
    "\n",
    "node = LSTM()\n",
    "\n",
    "# loss = node.calc_loss(X,Y)\n",
    "# print(f'loss: {loss}')\n",
    "\n",
    "node.train(X,Y,epochs,learning_rate,min_val = min_val,max_val = max_val,verbose = True)\n",
    "\n",
    "preds = node.predict(X)\n",
    "plt.plot(preds,label = 'predict')\n",
    "plt.plot(Y,label = 'ground-truth')\n",
    "plt.legend()\n",
    "plt.show()"
   ]
  },
  {
   "cell_type": "markdown",
   "id": "28e35e7a",
   "metadata": {},
   "source": [
    "### LSTM Keras"
   ]
  },
  {
   "cell_type": "markdown",
   "id": "2f871175",
   "metadata": {},
   "source": [
    "### References\n",
    "\n",
    "[coursera](https://www.coursera.org/lecture/nlp-sequence-models/longshort-term-memory-lstm-KXoay)\n",
    "\n",
    "[Deep Learning 71: Back-propagation in Gated Recurrent Unit (GRU) Architecture](https://www.youtube.com/watch?v=P0W3iHKYOHc)\n",
    "\n",
    "[GRU and LSTM](http://dprogrammer.org/rnn-lstm-gru)\n",
    "\n",
    "[GRU keras](https://pythonalgos.com/build-a-gru-rnn-in-keras/)\n",
    "\n",
    "[LateX math sympol](https://oeis.org/wiki/List_of_LaTeX_mathematical_symbols)\n",
    "\n",
    "[RNN-LSTM-in-numpy](https://github.com/CaptainE/RNN-LSTM-in-numpy)\n",
    "\n",
    "[lstm-gru-scartch](https://github.com/gstechgeek/LSTM_from_scratch)\n",
    "\n",
    "[lstm-scratch](https://github.com/nicodjimenez/lstm)\n",
    "\n",
    "[RecurrentNeuralNet](https://github.com/mukul-rathi/deep-learning-tutorials/tree/master/RecurrentNeuralNet)\n",
    "\n",
    "[lstm_from_scratch](https://github.com/Aidandos/lstm_from_scratch)\n",
    "\n",
    "[lstm-scratch2](https://github.com/PNilay/LSTM-Network-from-Scratch)\n",
    "\n",
    "[LSTM tensorflow](https://github.com/mayuri0192/LSTM-Implementation-from-Scratch)\n",
    "\n",
    "[LSTM Image-Captioning](https://github.com/divyanshj16/Image-Captioning)\n",
    "\n",
    "[LSTM-Human-Activity-Recognition](https://github.com/guillaume-chevalier/LSTM-Human-Activity-Recognition)\n",
    "\n",
    "[LSTM-C++](https://github.com/abstractguy/LSTM)\n",
    "\n",
    "[lstm-models-for-time-series-forecasting](https://machinelearningmastery.com/how-to-develop-lstm-models-for-time-series-forecasting/)\n",
    "\n",
    "[MIT 6.S191 (2021): Recurrent Neural Networks](https://www.youtube.com/watch?v=qjrad0V0uJE&t=3061s)\n",
    "\n",
    "[Stock Price Prediction Using Python & Machine Learning](https://www.youtube.com/watch?v=QIUxPv5PJOY)\n",
    "\n",
    "[Python: Real-time Automated Long Short Term Memory (LSTM) Short-term Load Forecasting & Plotting](https://www.youtube.com/watch?v=aQxPRsba23Y)\n"
   ]
  }
 ],
 "metadata": {
  "kernelspec": {
   "display_name": "Python 3",
   "language": "python",
   "name": "python3"
  },
  "language_info": {
   "codemirror_mode": {
    "name": "ipython",
    "version": 3
   },
   "file_extension": ".py",
   "mimetype": "text/x-python",
   "name": "python",
   "nbconvert_exporter": "python",
   "pygments_lexer": "ipython3",
   "version": "3.8.8"
  }
 },
 "nbformat": 4,
 "nbformat_minor": 5
}
