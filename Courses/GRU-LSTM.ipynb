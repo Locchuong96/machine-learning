{
 "cells": [
  {
   "cell_type": "markdown",
   "id": "f8a68afe",
   "metadata": {},
   "source": [
    "Author: [Chuong Hoa Loc](https://github.com/Locchuong96)\n",
    "[email](locchuong123@gmail.com)\n",
    "\n",
    "### RNN application on sequence data\n",
    "\n",
    "![models](models.png)\n",
    "\n",
    "(*) is the equation connect from the previous state to current state\n",
    "\n",
    "**RNN (recurrent neural network)**\n",
    "\n",
    "![RNN](RNN2.png)\n",
    "\n",
    "|   |   |   |\n",
    "|---|---|---|\n",
    "|$m$| sequence lenght||\n",
    "|$n$| hidden node||\n",
    "|$x_{t}$| input vector |`(mx1)`|\n",
    "|$h_{t}$| hidden layer vector |`(nx1)`|\n",
    "|$o_{t}$| output vector |`(nx1)`|\n",
    "|$y_{t}$| output vector |`(nx1)`|\n",
    "|$b_{h}$| bias vector |`(nx1)`|\n",
    "|$b_{y}$| bias vector |`(1xn)`|\n",
    "|$U$| x-matrix |`(n,m)`|\n",
    "|$W$| h-matrix |`(n,n)`|\n",
    "|$V$| y-matrix |`(1,n)`|\n",
    "\n",
    "$h_{t} = tanh{(z_{t})} = tanh{(U.x_{t} + W.h_{t-1} + b_{h})}$ (*)\n",
    "\n",
    "$o_{t} = y_{t} = sigmoid(V.h_{t}+b_{y})$\n",
    "\n",
    "**GRU (Gated Recurrent Unit)**\n",
    "\n",
    "*Note*: in `GRU` memory_state = hidden_state $c_{t} = a_{t} (h_{t})$\n",
    "\n",
    "![GRU](GRU_1.png)\n",
    "\n",
    "|   |   |   |\n",
    "|---|---|---|\n",
    "|$x_{t}$| input vector ||\n",
    "|$h_{t}$| hidden layer vector ||\n",
    "|$b_{u}$| bias vector ||\n",
    "|$b_{r}$| bias vector ||\n",
    "|$b_{h}$| bias vector ||\n",
    "|$W_{u}$| parameter matrix ||\n",
    "|$W_{r}$| parameter matrix ||\n",
    "|$W_{h}$| parameter matrix ||\n",
    "\n",
    "Update gate:\n",
    "\n",
    "It help to decide which information from the previous time $h_{t-1}$ step can be take forward to the next time step $h_{t}$\n",
    "\n",
    "$u_{t} = \\sigma{(W_{u}.[h_{t-1},x_{t}] + b_{u})}$\n",
    "\n",
    "Reset gate: \n",
    "\n",
    "It help to decide how to add the new information to the memory i.e how much of the past information can be forget\n",
    "$r_{t} = \\sigma{(W_{r}.[h_{t-1},x_{t}] + b_{r})}$\n",
    "\n",
    "Candidate state: \n",
    "\n",
    "candidate state is created to holding the new information\n",
    "\n",
    "$\\tilde{h}_{t} = \\tanh{(W_{h}.[r_{t} \\odot h_{t-1},x_{t}] + b_{h})}$\n",
    "\n",
    "Hidden state: $h_{t} = (1-u_{t})\\odot h_{t-1}+u_{t}\\odot\\tilde{h}_{t}$ (*)\n",
    "\n",
    "Output value: $y_{t}  = V.h_{t} + b_{y}$\n",
    "\n",
    "**LSTM (Long Short Term memory)**\n",
    "\n",
    "![LSTM](LSTM_1.png)\n",
    "\n",
    "|   |   |   |\n",
    "|---|---|---|\n",
    "|$x_{t}$| input vector ||\n",
    "|$h_{t}$| hidden layer vector ||\n",
    "|$c_{t}$| hidden layer vector ||\n",
    "|$b_{f}$| bias vector ||\n",
    "|$b_{i}$| bias vector ||\n",
    "|$b_{c}$| bias vector ||\n",
    "|$b_{o}$| bias vector ||\n",
    "|$W_{f}$| parameter matrix ||\n",
    "|$W_{i}$| parameter matrix ||\n",
    "|$W_{c}$| parameter matrix ||\n",
    "|$W_{o}$| parameter matrix ||\n",
    "\n",
    "\n",
    "Forget gate: $f_{t} = \\sigma{(W_{f}.[h_{t-1},x_{t}] + b_{f})}$\n",
    "\n",
    "Input gate: $i_{t} = \\sigma{(W_{i}.[h_{t-1},x_{t}] + b_{i})}$\n",
    "\n",
    "Output gate: $o_{t} = \\sigma{(W_{o}.[h_{t-1},x_{t}] + b_{o})}$\n",
    "\n",
    "Candidate call state: $\\tilde{C}_{t} = \\tanh{(W_{c}.[h_{t-1},x_{t}] + b_{c})} $\n",
    "\n",
    "New cell state: $C_{t} = f_{t} \\odot C_{t-1} + i_{t} \\odot \\tilde{C}_{t}$ (*)\n",
    "\n",
    "Hidden state: $h_{t} = o_{t} \\odot \\tanh{C_{t}}$ \n",
    "\n",
    "**Overview**\n",
    "\n",
    "![rnn_models](rnn_models_1.png)"
   ]
  },
  {
   "cell_type": "markdown",
   "id": "4d079132",
   "metadata": {},
   "source": [
    "### build GRU (Gated Recurrent Units) from scratch\n",
    "\n",
    "Gated Recurrent Unit (GRU) (Cho et al. 2014)\n",
    "\n",
    "**forward pass**\n",
    "\n",
    "![gru_forward](gru_forward.png)\n",
    "\n",
    "Update gate: $u_{t} = \\sigma{(W_{u}.[h_{t-1},x_{t}] + b_{u})}$\n",
    "\n",
    "Relevant gate: $r_{t} = \\sigma{(W_{r}.[h_{t-1},x_{t}] + b_{r})}$\n",
    "\n",
    "Content state: $\\tilde{h}_{t} = \\tanh{(W_{h}.[r_{t} \\odot h_{t-1},x_{t}] + b_{h})}$\n",
    "\n",
    "Hidden state: $h_{t} = (1-u_{t})\\odot h_{t-1}+u_{t}\\odot\\tilde{h}_{t}$\n",
    "\n",
    "Output value: $y_{t}  = V.h_{t} + b_{y}$\n",
    "\n",
    "**loss function**\n",
    "\n",
    "this demo use *mean square error* to calculate how wrong between your prediction and the ground-truth\n",
    "\n",
    "$$ L = \\sum_{k}^{m}L_{k} = \\frac{1}{2m} * \\sum_{k}^{m} (y_{k} - \\hat{y}_{k})^{2}$$\n",
    "\n",
    "**backward pass (backpropagation though time)**\n",
    "\n",
    "![gru_backward](gru_backward.png)\n",
    "\n",
    "$$ \\frac{\\partial{h_{t}}}{\\partial{h_{t-1}}} \\space -> \\space \\frac{\\partial{h_{t+1}}}{\\partial{h_{t}}} \\space -> \\space \\frac{\\partial{h_{t+2}}}{\\partial{h_{t+1}}}$$\n",
    "\n",
    "We need to find:\n",
    "\n",
    "$$\\frac{\\partial{L}}{\\partial{U_{u}}}, \\frac{\\partial{L}}{\\partial{W_{u}}}, \\frac{\\partial{L}}{\\partial{b_{u}}}$$\n",
    "\n",
    "$$\\frac{\\partial{L}}{\\partial{U_{r}}}, \\frac{\\partial{L}}{\\partial{W_{r}}}, \\frac{\\partial{L}}{\\partial{b_{r}}}$$\n",
    "\n",
    "$$\\frac{\\partial{L}}{\\partial{U_{h}}}, \\frac{\\partial{L}}{\\partial{W_{h}}}, \\frac{\\partial{L}}{\\partial{b_{h}}}$$\n",
    "\n",
    "$$\\frac{\\partial{L}}{\\partial{V}}, \\frac{\\partial{L}}{\\partial{b_{y}}}$$\n",
    "\n",
    "then we do `gradient descent`:\n",
    "\n",
    "$$U_{u} = U_{u} - lr * \\frac{\\partial{L}}{\\partial{U_{u}}}, W_{u} = W_{u} - lr * \\frac{\\partial{L}}{\\partial{W_{u}}}, b_{u} = b_{u} - lr * \\frac{\\partial{L}}{\\partial{b_{u}}}$$\n",
    "\n",
    "$$U_{r} = U_{r} - lr *  \\frac{\\partial{L}}{\\partial{U_{r}}}, W_{r} = W_{r} - lr * \\frac{\\partial{L}}{\\partial{W_{r}}}, b_{r} = b_{r} - lr * \\frac{\\partial{L}}{\\partial{b_{r}}}$$\n",
    "\n",
    "$$U_{h} = U_{h} - lr *  \\frac{\\partial{L}}{\\partial{U_{h}}}, W_{h} = W_{h} - lr * \\frac{\\partial{L}}{\\partial{W_{h}}}, b_{h} = b_{h} - lr *  \\frac{\\partial{L}}{\\partial{b_{h}}}$$\n",
    "\n",
    "$$V = V - lr * \\frac{\\partial{L}}{\\partial{V}},b_{y} = b_{y} - lr * \\frac{\\partial{L}}{\\partial{b_{y}}}$$\n",
    "\n",
    "Let follow these step:  \n",
    "`chain rule: [term] -> [implicit and explicit] -> [right shape]` -> `references: [blog] [video] [github]` -> `bptt a part`\n",
    "\n",
    "$$ (explicit) \\space \\frac{\\partial{L}}{\\partial{\\hat{y}}} = y - \\hat{y} \\space [1]$$\n",
    "\n",
    "Calculate `content state`,`reset state`,`update state` $\\frac{\\partial{L}}{\\partial{\\tilde{h_{t}}}} , \\frac{\\partial{L}}{\\partial{r_{t}}} , \\frac{\\partial{L}}{\\partial{u_{t}}}$\n",
    "\n",
    "$$\\frac{\\partial{L}}{\\partial{\\tilde{h_{t}}}} = \\frac{\\partial{L}}{\\partial{h_{t}}} \\frac{\\partial{h_{t}}}{\\partial{\\tilde{h_{t}}}} = \\frac{\\partial{L}}{\\partial{h_{t}}}.u_{t} \\space [2]$$\n",
    "\n",
    "$$\\frac{\\partial{L}}{\\partial{r_{t}}} = \\frac{\\partial{L}}{\\partial{\\tilde{h_{t}}}} \\frac{\\partial{\\tilde{h_{t}}}}{\\partial{r_{t}}} = \\frac{\\partial{L}}{\\partial{\\tilde{h_{t}}}}.(1-\\tilde{h_{t}}^{2})(W_{h}.h_{t-1}) \\space [3]$$\n",
    "\n",
    "$$\\frac{\\partial{L}}{\\partial{u_{t}}} = \\frac{\\partial{L}}{\\partial{h_{t}}}.(-h_{t-1} + \\tilde{h_{t}}) \\space [4]$$\n",
    "\n",
    "Calculate $\\frac{\\partial{L}}{\\partial{V}}, \\frac{\\partial{L}}{\\partial{b_{y}}}$\n",
    "\n",
    "$$\\frac{\\partial{L}}{\\partial{V}} = \\frac{\\partial{L}}{\\partial{\\hat{y}}} \\frac{\\partial{\\hat{y}}}{\\partial{V}} =  \\frac{\\partial{L}}{\\partial{\\hat{y}}}.h_{t}\\space [5]$$\n",
    "\n",
    "$$\\frac{\\partial{L}}{\\partial{b_{y}}} = \\frac{\\partial{\\hat{y}}}{\\partial{b_{y}}} =  \\frac{\\partial{L}}{\\partial{\\hat{y}}}.1 \\space [6]$$\n",
    "\n",
    "Calculate $\\frac{\\partial{L}}{\\partial{U_{h}}}, \\frac{\\partial{L}}{\\partial{W_{h}}}, \\frac{\\partial{L}}{\\partial{b_{h}}}$\n",
    "\n",
    "$$\\frac{\\partial{L}}{\\partial{U_{h}}} = \\frac{\\partial{L}}{\\partial{\\tilde{h_{t}}}} \\frac{\\partial{\\tilde{h_{t}}}}{\\partial{U_{h}}} = \\frac{\\partial{L}}{\\partial{\\tilde{h_{t}}}} .(1- \\tilde{h_{t}}^{2}).x_{t} \\space [7]$$\n",
    "\n",
    "$$\\frac{\\partial{L}}{\\partial{W_{h}}} = \\frac{\\partial{L}}{\\partial{\\tilde{h_{t}}}} \\frac{\\partial{\\tilde{h_{t}}}}{\\partial{W_{h}}} = \\frac{\\partial{L}}{\\partial{\\tilde{h_{t}}}} .(1- \\tilde{h_{t}}^{2}).h_{t-1} \\space [8]$$\n",
    "\n",
    "$$\\frac{\\partial{L}}{\\partial{b_{h}}} = \\frac{\\partial{L}}{\\partial{\\tilde{h_{t}}}} \\frac{\\partial{\\tilde{h_{t}}}}{\\partial{b_{h}}} = \\frac{\\partial{L}}{\\partial{\\tilde{h_{t}}}} .(1- \\tilde{h_{t}}^{2}).1 \\space [9]$$\n",
    "\n",
    "Calculate $\\frac{\\partial{L}}{\\partial{U_{u}}}, \\frac{\\partial{L}}{\\partial{W_{u}}}, \\frac{\\partial{L}}{\\partial{b_{u}}}$\n",
    "\n",
    "$$\\frac{\\partial{L}}{\\partial{U_{u}}} = \\frac{\\partial{L}}{\\partial{u_{t}}}\\frac{\\partial{u_{t}}}{\\partial{U_{u}}} = \\frac{\\partial{L}}{\\partial{u_{t}}}.u_{t}.(1-u_{t}).x_{t} \\space [10]$$ \n",
    "\n",
    "$$\\frac{\\partial{L}}{\\partial{W_{u}}} = \\frac{\\partial{L}}{\\partial{u_{t}}} \\frac{\\partial{u_{t}}}{\\partial{W_{u}}} = \\frac{\\partial{L}}{\\partial{u_{t}}}.u_{t}.(1-u_{t}).h_{t-1} \\space [11]$$ \n",
    "\n",
    "$$\\frac{\\partial{L}}{\\partial{b_{u}}} = \\frac{\\partial{L}}{\\partial{u_{t}}} \\frac{\\partial{u_{t}}}{\\partial{b_{u}}} = \\frac{\\partial{L}}{\\partial{u_{t}}}.u_{t}.(1-u_{t}).1 \\space [12]$$ \n",
    "\n",
    "\n",
    "Calculate $\\frac{\\partial{L}}{\\partial{U_{r}}}, \\frac{\\partial{L}}{\\partial{W_{r}}}, \\frac{\\partial{L}}{\\partial{b_{r}}}$\n",
    "\n",
    "$$\\frac{\\partial{L}}{\\partial{U_{r}}} = \\frac{\\partial{L}}{\\partial{r_{t}}} \\frac{\\partial{r_{t}}}{\\partial{U_{r}}} = \\frac{\\partial{L}}{\\partial{u_{t}}}.r_{t}.(1-r_{t}).x_{t} \\space [13]$$ \n",
    "\n",
    "$$\\frac{\\partial{L}}{\\partial{W_{r}}} = \\frac{\\partial{L}}{\\partial{r_{t}}} \\frac{\\partial{r_{t}}}{\\partial{W_{r}}} = \\frac{\\partial{L}}{\\partial{u_{t}}}.r_{t}.(1-r_{t}).h_{t-1} \\space [14]$$ \n",
    "\n",
    "$$\\frac{\\partial{L}}{\\partial{b_{r}}} = \\frac{\\partial{L}}{\\partial{r_{t}}} \\frac{\\partial{r_{t}}}{\\partial{b_{r}}} = \\frac{\\partial{L}}{\\partial{u_{t}}}.r_{t}.(1-r_{t}).1 \\space [15]$$ \n",
    "\n",
    "We should define min and max value for updating gradient descent, if you don't your gradients may be exploring or vanishing, and your loss does not reduce anymore"
   ]
  },
  {
   "cell_type": "code",
   "execution_count": 47,
   "id": "7c108c0f",
   "metadata": {},
   "outputs": [],
   "source": [
    "# import the libraries\n",
    "import tqdm\n",
    "import math \n",
    "import numpy as np\n",
    "import matplotlib.pyplot as plt"
   ]
  },
  {
   "cell_type": "code",
   "execution_count": 48,
   "id": "48ce2983",
   "metadata": {},
   "outputs": [],
   "source": [
    "# define activation functions\n",
    "\n",
    "# sigmoid function get value from 0~1\n",
    "def sigmoid(x):\n",
    "    return 1/(1+np.exp(-x))\n",
    "\n",
    "# tanh function get value from -1~1\n",
    "def tanh(x):\n",
    "    return (np.exp(x)-np.exp(-x))/(np.exp(x)+np.exp(-x))"
   ]
  },
  {
   "cell_type": "code",
   "execution_count": 49,
   "id": "23bf9f8e",
   "metadata": {},
   "outputs": [
    {
     "name": "stdout",
     "output_type": "stream",
     "text": [
      "200\n"
     ]
    },
    {
     "data": {
      "text/plain": [
       "Text(0.5, 1.0, 'sequence data')"
      ]
     },
     "execution_count": 49,
     "metadata": {},
     "output_type": "execute_result"
    },
    {
     "data": {
      "image/png": "[encoded data removed]",
      "text/plain": [
       "<Figure size 864x360 with 1 Axes>"
      ]
     },
     "metadata": {
      "needs_background": "light"
     },
     "output_type": "display_data"
    }
   ],
   "source": [
    "# make dataset\n",
    "f = 30\n",
    "seq_data = np.array([(0.5*math.sin(1*f*2*np.pi*x) + 0.5*math.sin(2*f*2*np.pi*x)) for x in np.arange(0,0.4,0.002)]) \n",
    "print(len(seq_data))\n",
    "# visualize the seq_wave\n",
    "fig = plt.figure(figsize = (12,5))\n",
    "plt.plot(seq_data)\n",
    "plt.title('sequence data')"
   ]
  },
  {
   "cell_type": "code",
   "execution_count": 50,
   "id": "fdfe8fee",
   "metadata": {},
   "outputs": [
    {
     "name": "stdout",
     "output_type": "stream",
     "text": [
      "seq_len: 50\n",
      "num_records: 150\n",
      "X.shape: (150, 50, 1)\n",
      "Y.shape: (150, 1)\n"
     ]
    }
   ],
   "source": [
    "# training dataset\n",
    "X = []\n",
    "Y = []\n",
    "seq_len = 50\n",
    "num_records = len(seq_data) - seq_len\n",
    "\n",
    "print(f'seq_len: {seq_len}')\n",
    "print(f'num_records: {num_records}')\n",
    "\n",
    "for i in range(num_records):\n",
    "    X.append(seq_data[i:i+seq_len])\n",
    "    Y.append(seq_data[i+seq_len])\n",
    "\n",
    "X = np.array(X)\n",
    "Y = np.array(Y)\n",
    "X = np.expand_dims(X,2) # reshape to (training_sample,seq_len,1)\n",
    "Y = np.expand_dims(Y,1) # (training_sample,1)\n",
    "\n",
    "print(f'X.shape: {X.shape}')\n",
    "print(f'Y.shape: {Y.shape}')"
   ]
  },
  {
   "cell_type": "code",
   "execution_count": 51,
   "id": "b6613b28",
   "metadata": {},
   "outputs": [
    {
     "name": "stdout",
     "output_type": "stream",
     "text": [
      "X_val.shape: (50, 50, 1)\n",
      "Y_val.shape: (50, 1)\n"
     ]
    }
   ],
   "source": [
    "# testing dataset\n",
    "X_val = []\n",
    "Y_val = []\n",
    "seq_len = 50\n",
    "num_records = len(seq_data) - seq_len\n",
    "\n",
    "for i in range(num_records-seq_len,num_records):\n",
    "    X_val.append(seq_data[i:i+seq_len])\n",
    "    Y_val.append(seq_data[i+seq_len])\n",
    "\n",
    "X_val = np.array(X_val)\n",
    "Y_val = np.array(Y_val)\n",
    "X_val = np.expand_dims(X_val,2) # reshape to (training_sample,seq_len,1)\n",
    "Y_val = np.expand_dims(Y_val,1) # (training_sample,1)\n",
    "\n",
    "print(f'X_val.shape: {X_val.shape}')\n",
    "print(f'Y_val.shape: {Y_val.shape}')"
   ]
  },
  {
   "cell_type": "markdown",
   "id": "624dfb57",
   "metadata": {},
   "source": [
    "How to implement a gru model:\n",
    "- init all matrix and bias\n",
    "- build forward pass function\n",
    "- build calculate loss function\n",
    "- build backward propagation though time function\n",
    "- build train function (init-> forward -> backward -> gradient descent -> loop over sample)"
   ]
  },
  {
   "cell_type": "code",
   "execution_count": 52,
   "id": "ed342a31",
   "metadata": {},
   "outputs": [
    {
     "name": "stdout",
     "output_type": "stream",
     "text": [
      "hidden_dim: 100\n",
      "h_prev shape: (100, 1)\n",
      "x_t shape: (50, 1)\n",
      "y shape: (1,)\n",
      "U_u shape: (100, 50)\n",
      "W_u shape: (100, 100)\n",
      "b_u shape: (100, 1)\n",
      "U_r shape: (100, 50)\n",
      "W_r shape: (100, 100)\n",
      "b_r shape: (100, 1)\n",
      "U_h shape: (100, 50)\n",
      "W_h shape: (100, 100)\n",
      "b_h shape: (100, 1)\n",
      "V shape: (1, 100)\n",
      "b_y shape: (1, 1)\n"
     ]
    }
   ],
   "source": [
    "# init matrices\n",
    "hidden_dim = 100\n",
    "input_dim = 1\n",
    "output_dim = 1\n",
    "h_prev = np.zeros((hidden_dim,1))\n",
    "print(f'hidden_dim: {hidden_dim}')\n",
    "print(f'h_prev shape: {h_prev.shape}')\n",
    "print(f'x_t shape: {X[0].shape}')\n",
    "print(f'y shape: {Y[0].shape}')\n",
    "# for update gates\n",
    "U_u = np.random.rand(hidden_dim,seq_len)\n",
    "W_u = np.random.rand(hidden_dim,hidden_dim)\n",
    "b_u = np.random.rand(hidden_dim,1)\n",
    "print(f'U_u shape: {U_u.shape}')\n",
    "print(f'W_u shape: {W_u.shape}')\n",
    "print(f'b_u shape: {b_u.shape}')\n",
    "# for relevant gates\n",
    "U_r = np.random.rand(hidden_dim,seq_len)\n",
    "W_r = np.random.rand(hidden_dim,hidden_dim)\n",
    "b_r = np.random.rand(hidden_dim,1)\n",
    "print(f'U_r shape: {U_r.shape}')\n",
    "print(f'W_r shape: {W_r.shape}')\n",
    "print(f'b_r shape: {b_r.shape}')\n",
    "# for tilde h\n",
    "U_h = np.random.rand(hidden_dim,seq_len)\n",
    "W_h = np.random.rand(hidden_dim,hidden_dim)\n",
    "b_h = np.random.rand(hidden_dim,1)\n",
    "print(f'U_h shape: {U_h.shape}')\n",
    "print(f'W_h shape: {W_h.shape}')\n",
    "print(f'b_h shape: {b_h.shape}')\n",
    "# for output value\n",
    "V = np.random.rand(output_dim,hidden_dim)\n",
    "b_y = np.random.rand(output_dim,1)\n",
    "print(f'V shape: {V.shape}')\n",
    "print(f'b_y shape: {b_y.shape}')    "
   ]
  },
  {
   "cell_type": "code",
   "execution_count": 53,
   "id": "a398d3dd",
   "metadata": {},
   "outputs": [],
   "source": [
    "def init_matrices(hidden_dim,input_dim,output_dim):\n",
    "    h_prev = np.zeros((hidden_dim,1))\n",
    "    # for update gates\n",
    "    U_u = np.random.rand(hidden_dim,seq_len)\n",
    "    W_u = np.random.rand(hidden_dim,hidden_dim)\n",
    "    b_u = np.random.rand(hidden_dim,1)\n",
    "    # for relevant gates\n",
    "    U_r = np.random.rand(hidden_dim,seq_len)\n",
    "    W_r = np.random.rand(hidden_dim,hidden_dim)\n",
    "    b_r = np.random.rand(hidden_dim,1)\n",
    "    # for tilde h\n",
    "    U_h = np.random.rand(hidden_dim,seq_len)\n",
    "    W_h = np.random.rand(hidden_dim,hidden_dim)\n",
    "    b_h = np.random.rand(hidden_dim,1)\n",
    "    # for output value\n",
    "    V = np.random.rand(output_dim,hidden_dim)\n",
    "    b_y = np.random.rand(output_dim,1)\n",
    "    return U_u,W_u,b_u,U_r,W_r,b_r,U_h,W_h,b_h,V,b_y"
   ]
  },
  {
   "cell_type": "code",
   "execution_count": 54,
   "id": "c8081d31",
   "metadata": {},
   "outputs": [
    {
     "name": "stdout",
     "output_type": "stream",
     "text": [
      "(50, 1)\n",
      "[[5.58885821]] [-1.10218212e-15]\n"
     ]
    }
   ],
   "source": [
    "# forward pass\n",
    "layers = []\n",
    "x = X[0]\n",
    "print(x.shape)\n",
    "h_prev = np.zeros((hidden_dim,1))\n",
    "for t in range(seq_len):\n",
    "    #print(t)\n",
    "    new_input = np.zeros((seq_len,input_dim))\n",
    "    new_input[t] = x[t]\n",
    "    # updated gate\n",
    "    u_t = sigmoid(U_u @ new_input + W_u @ h_prev + b_u)\n",
    "    # revelant gate\n",
    "    r_t = sigmoid(U_r @ new_input + W_r @ h_prev + b_r)\n",
    "    # tilde h\n",
    "    h_til = tanh(U_h @ new_input + W_h @ (r_t * h_prev) + b_h)\n",
    "    # h\n",
    "    h = (1-u_t)* h_prev + u_t * h_til\n",
    "    # output value\n",
    "    y_hat = V@h + b_y\n",
    "    # collect h_prev,h_til,h,u,r\n",
    "    layers.append({'h_prev': h_prev,'h_til': h_til,'h':h,'u':u_t,'r':r_t})\n",
    "    # update h\n",
    "    prev_h = h\n",
    "\n",
    "# print out the value\n",
    "print(y_hat,Y[0])"
   ]
  },
  {
   "cell_type": "code",
   "execution_count": 9,
   "id": "78ceec39",
   "metadata": {},
   "outputs": [
    {
     "name": "stdout",
     "output_type": "stream",
     "text": [
      "[[6.11262891]] [-1.10218212e-15]\n"
     ]
    }
   ],
   "source": [
    "# wrap forward pass into a function\n",
    "def forward_pass(x):\n",
    "    # forward pass\n",
    "    layers = []\n",
    "    x = X[0]\n",
    "    h_prev = np.zeros((hidden_dim,1))\n",
    "    for t in range(seq_len):\n",
    "        #print(t)\n",
    "        new_input = np.zeros((seq_len,input_dim))\n",
    "        new_input[t] = x[t]\n",
    "        # updated gate\n",
    "        u_t = sigmoid(U_u @ new_input + W_u @ h_prev + b_u)\n",
    "        # revelant gate\n",
    "        r_t = sigmoid(U_r @ new_input + W_r @ h_prev + b_r)\n",
    "        # tilde h\n",
    "        h_til = tanh(U_h @ new_input + W_h @ (r_t * h_prev) + b_h)\n",
    "        # h\n",
    "        h = (1-u_t)* h_prev + u_t * h_til\n",
    "        # output value\n",
    "        y_hat = V@h + b_y\n",
    "        # collect h_prev,h_til,h,u,r\n",
    "        layers.append({'h_prev': h_prev,'h_til': h_til,'h':h,'u':u_t,'r':r_t})\n",
    "        # update h\n",
    "        prev_h = h\n",
    "    return layers,y_hat\n",
    "\n",
    "layers,y_hat = forward_pass(x)\n",
    "# print out the value\n",
    "print(y_hat,Y[0])"
   ]
  },
  {
   "cell_type": "code",
   "execution_count": 55,
   "id": "f2945245",
   "metadata": {},
   "outputs": [
    {
     "name": "stdout",
     "output_type": "stream",
     "text": [
      "begin loss 15.742668070542324\n"
     ]
    }
   ],
   "source": [
    "def calc_loss(X,Y):\n",
    "    loss = 0.0\n",
    "    n_samples = Y.shape[0] # number of sample\n",
    "    for i in range(n_samples):\n",
    "        x,y = X[i],Y[i]\n",
    "        _,y_hat = layers,y_hat = forward_pass(x)\n",
    "        loss += (y - y_hat)**2\n",
    "    loss = 1/(2*n_samples)*np.float(loss)\n",
    "    return loss\n",
    "\n",
    "print(f'begin loss {calc_loss(X,Y)}')"
   ]
  },
  {
   "cell_type": "code",
   "execution_count": 56,
   "id": "9ed61f1d",
   "metadata": {},
   "outputs": [
    {
     "name": "stdout",
     "output_type": "stream",
     "text": [
      "begin loss 15.664800974330465\n"
     ]
    }
   ],
   "source": [
    "# init matrices\n",
    "U_u,W_u,b_u,U_r,W_r,b_r,U_h,W_h,b_h,V,b_y = init_matrices(hidden_dim,input_dim,output_dim)\n",
    "\n",
    "print(f'begin loss {calc_loss(X,Y)}')"
   ]
  },
  {
   "cell_type": "code",
   "execution_count": 57,
   "id": "4b11036a",
   "metadata": {},
   "outputs": [
    {
     "data": {
      "image/png": "[encoded data removed]",
      "text/plain": [
       "<Figure size 432x288 with 1 Axes>"
      ]
     },
     "metadata": {
      "needs_background": "light"
     },
     "output_type": "display_data"
    }
   ],
   "source": [
    "def predict(X):\n",
    "    preds= []\n",
    "    n_samples = Y.shape[0] # number of sample\n",
    "    for i in range(n_samples):\n",
    "        x,y = X[i],Y[i]\n",
    "        _,y_hat = layers,y_hat = forward_pass(x)\n",
    "        preds.append(y_hat)\n",
    "    # convert to numpy array\n",
    "    preds = np.array(preds)\n",
    "    preds = np.squeeze(preds)\n",
    "    return preds\n",
    "\n",
    "preds = predict(X)\n",
    "plt.plot(preds,label = 'pred')\n",
    "plt.plot(Y,label = 'ground-truth')\n",
    "plt.legend()\n",
    "plt.title('ater training')\n",
    "plt.show()"
   ]
  },
  {
   "cell_type": "markdown",
   "id": "49a7d6df",
   "metadata": {},
   "source": [
    "**backpropagation**"
   ]
  },
  {
   "cell_type": "code",
   "execution_count": 58,
   "id": "14a6b73d",
   "metadata": {},
   "outputs": [
    {
     "name": "stdout",
     "output_type": "stream",
     "text": [
      "dU_u = U_u shape: (100, 50)\n",
      "dW_u = W_u shape: (100, 100)\n",
      "db_u = b_u shape: (100, 1)\n",
      "dU_r = U_r shape: (100, 50)\n",
      "dW_r = W_r shape: (100, 100)\n",
      "db_r = b_r shape: (100, 1)\n",
      "dU_h = U_h shape: (100, 50)\n",
      "dW_h = W_h shape: (100, 100)\n",
      "db_h = b_h shape: (100, 1)\n",
      "dV = V shape: (1, 100)\n",
      "db_y = b_y shape: (1, 1)\n"
     ]
    }
   ],
   "source": [
    "# backward though time\n",
    "dU_u = np.zeros(U_u.shape)\n",
    "dW_u = np.zeros(W_u.shape)\n",
    "db_u = np.zeros(b_u.shape)\n",
    "dU_r = np.zeros(U_r.shape)\n",
    "dW_r = np.zeros(W_r.shape)\n",
    "db_r = np.zeros(b_r.shape)\n",
    "dU_h = np.zeros(U_h.shape)\n",
    "dW_h = np.zeros(W_h.shape)\n",
    "db_h = np.zeros(b_h.shape)\n",
    "dV = np.zeros(V.shape)\n",
    "db_y = np.zeros(b_y.shape)\n",
    "\n",
    "print(f'dU_u = U_u shape: {dU_u.shape}')\n",
    "print(f'dW_u = W_u shape: {dW_u.shape}')\n",
    "print(f'db_u = b_u shape: {db_u.shape}')\n",
    "\n",
    "print(f'dU_r = U_r shape: {dU_r.shape}')\n",
    "print(f'dW_r = W_r shape: {dW_r.shape}')\n",
    "print(f'db_r = b_r shape: {db_r.shape}')\n",
    "\n",
    "print(f'dU_h = U_h shape: {dU_h.shape}')\n",
    "print(f'dW_h = W_h shape: {dW_h.shape}')\n",
    "print(f'db_h = b_h shape: {db_h.shape}')\n",
    "\n",
    "print(f'dV = V shape: {dV.shape}')\n",
    "print(f'db_y = b_y shape: {db_y.shape}')"
   ]
  },
  {
   "cell_type": "code",
   "execution_count": 67,
   "id": "7c7e0d27",
   "metadata": {},
   "outputs": [],
   "source": [
    "class GRU():\n",
    "    def __init__(self,hidden_dim=100,seq_len=50,input_dim = 1,output_dim = 1):\n",
    "        self.hidden_dim = hidden_dim \n",
    "        self.seq_len = seq_len \n",
    "        self.input_dim = input_dim \n",
    "        self.output_dim = output_dim  \n",
    "        # for update gates\n",
    "        self.U_u = np.random.rand(hidden_dim,seq_len)\n",
    "        self.W_u = np.random.rand(hidden_dim,hidden_dim)\n",
    "        self.b_u = np.random.rand(hidden_dim,1)\n",
    "        # for relevant gates\n",
    "        self.U_r = np.random.rand(hidden_dim,seq_len)\n",
    "        self.W_r = np.random.rand(hidden_dim,hidden_dim)\n",
    "        self.b_r = np.random.rand(hidden_dim,1)\n",
    "        # for current value\n",
    "        self.U_h = np.random.rand(hidden_dim,seq_len)\n",
    "        self.W_h = np.random.rand(hidden_dim,hidden_dim)\n",
    "        self.b_h = np.random.rand(hidden_dim,1)\n",
    "        # for output dim\n",
    "        self.V = np.random.rand(output_dim,hidden_dim)\n",
    "        self.b_y = np.random.rand(output_dim,1)\n",
    "       \n",
    "    def forward_pass(self,x):\n",
    "        layers = [] \n",
    "        h_prev = np.zeros((self.hidden_dim,1))\n",
    "        seq_len = x.shape[0]\n",
    "        for t in range(seq_len):\n",
    "            new_input = np.zeros((seq_len,self.input_dim))\n",
    "            new_input[t] = x[t]\n",
    "            # updated gate\n",
    "            u_t = sigmoid(self.U_u @ new_input + self.W_u @ h_prev + self.b_u)\n",
    "            # revelant gate\n",
    "            r_t = sigmoid(self.U_r @ new_input + self.W_r @ h_prev + self.b_r)\n",
    "            # tilde h\n",
    "            h_til = tanh(self.U_h @ new_input + self.W_h @ (r_t * h_prev) + self.b_h)\n",
    "            # h\n",
    "            h = (1-u_t)* h_prev + u_t * h_til\n",
    "            # output value\n",
    "            y_hat = self.V@h + self.b_y\n",
    "            # collect h_prev,h_til,h,u,r\n",
    "            layers.append({'h_prev': h_prev,'h_til': h_til,'h':h,'u':u_t,'r':r_t})\n",
    "            # update h\n",
    "            prev_h = h\n",
    "        return layers,y_hat\n",
    "    \n",
    "    def calc_loss(self,X,Y):\n",
    "        loss = 0.0\n",
    "        n_samples = Y.shape[0] # number of sample\n",
    "        for i in range(n_samples):\n",
    "        \ty = Y[i]\n",
    "        \t_,y_hat = self.forward_pass(X[i])\n",
    "        \tloss += (y - y_hat)**2\n",
    "        loss = 1/(2*n_samples)*np.float(loss)\n",
    "        return loss\n",
    "    \n",
    "    def predict(self,X):\n",
    "        preds= []\n",
    "        n_samples = X.shape[0] # number of sample\n",
    "        for i in range(n_samples):\n",
    "            x = X[i]\n",
    "            _,y_hat = layers,y_hat = self.forward_pass(x)\n",
    "            preds.append(y_hat)\n",
    "        # convert to numpy array\n",
    "        preds = np.array(preds)\n",
    "        preds = np.squeeze(preds)\n",
    "        return preds\n",
    "    \n",
    "    def bptt(self,x,y,layers,y_hat,min_val = -10,max_val =10):\n",
    "        T= x.shape[0]\n",
    "        # init matrices h_til = u_t = r_t = (100,1) = (hidden_dim,1)\n",
    "        dU_u = np.zeros(self.U_u.shape) # (100,50) = (hidden_dim,seq_len)\n",
    "        dW_u = np.zeros(self.W_u.shape) # (100,100) = (hidden_dim,hidden_dim)\n",
    "        db_u = np.zeros(self.b_u.shape) # (100,1) = (hidden_dim,1)\n",
    "        dU_r = np.zeros(self.U_r.shape) # (100,50) = (hidden_dim,seq_len)\n",
    "        dW_r = np.zeros(self.W_r.shape) # (100,100) = (hidden_dim,hidden_dim)\n",
    "        db_r = np.zeros(self.b_r.shape) # (100,1) = (hidden_dim,1)\n",
    "        dU_h = np.zeros(self.U_h.shape) # (100,50) = (hidden_dim,seq_len)\n",
    "        dW_h = np.zeros(self.W_h.shape) # (100,100) = (hidden_dim,hidden_dim)\n",
    "        db_h = np.zeros(self.b_h.shape) # (100,1) = (hidden_dim,1)\n",
    "        dV = np.zeros(self.V.shape)     # (1,100) = (output_dim,hidden_dim)\n",
    "        db_y = np.zeros(self.b_y.shape) # (1,1) = (1,output_dim)\n",
    "        \n",
    "        # dLdy\n",
    "        dLdy = y - y_hat # (1,1)\n",
    "        # dLdh\n",
    "        dLdh = self.V.T @ dLdy  # (100,1)x(1,1) = (100,1)\n",
    "        # seq_lenght\n",
    "        for t in range(T):\n",
    "            # get current timestep input\n",
    "            new_input = np.zeros(x.shape)\n",
    "            new_input[t] = x[t]\n",
    "            # dV\n",
    "            dV += dLdy @ np.transpose(layers[t]['h']) # (1,1)x(1,100) = (1,100)\n",
    "            # db_y\n",
    "            db_y += dLdy # (1,1)\n",
    "            # dLdh_til - content-state\n",
    "            dLdh_til = dLdh*layers[t]['u'] # (100,1)*(100,1)\n",
    "            # dLdr - reset gate\n",
    "            dLdr = (1-layers[t]['h_til']**2)*(self.W_r@layers[t]['h_prev']) # (100,1)*[(100,100)x(100,1)]\n",
    "            #print(f'dLdr {dLdr.shape}')\n",
    "            # dLdu - update gate\n",
    "            dLdu = dLdh*(-layers[t]['h_prev'] + layers[t]['h_til']) # (100,1)\n",
    "            #print(f'dLdu {dLdu.shape}')\n",
    "            # dldU_u\n",
    "            dU_h += dLdh_til @ new_input.T # (100,1)x(1,50)\n",
    "            # dLdW_u\n",
    "            dW_h += dLdh_til @ layers[t]['h_prev'].T # (100,1)x(1,100)\n",
    "            # dLdb_u\n",
    "            db_h += dLdh_til # (100,1)\n",
    "            # dldU_u\n",
    "            dU_u += dLdu * (layers[t]['u']*(1-layers[t]['u']) @ new_input.T) # (100,1)x(1,50)\n",
    "            # dLdW_u\n",
    "            dW_u += dLdu * (layers[t]['u']*(1-layers[t]['u']) @ layers[t]['h_prev'].T) # (100,1)x(1,100)\n",
    "            # dLdb_u\n",
    "            db_u += dLdu * (layers[t]['u']*(1-layers[t]['u'])) # (100,1)\n",
    "            # dldU_r\n",
    "            dU_r += dLdr * (layers[t]['r']*(1-layers[t]['r']) @ new_input.T) # (100,1)x(1,50)\n",
    "            # dLdW_r\n",
    "            dW_r += dLdr * (layers[t]['r']*(1-layers[t]['r']) @ layers[t]['h_prev'].T) # (100,1)x(1,100)\n",
    "            # dLdb_r\n",
    "            db_r += dLdr * (layers[t]['r']*(1-layers[t]['r'])) # (100,1)\n",
    "            \n",
    "            #take care for exploding gradients\n",
    "            if dV.max() > max_val:\n",
    "                dV[dV > max_val] = max_val\n",
    "            if dV.min() < min_val:\n",
    "                dV[dV < min_val] = min_val\n",
    "\n",
    "            if db_y.max() > max_val:\n",
    "                db_y[db_y > max_val] = max_val\n",
    "            if db_y.min() < min_val:\n",
    "                db_y[db_y < min_val] = min_val\n",
    "\n",
    "            if dU_h.max() > max_val:\n",
    "                dU_h[dU_h > max_val] = max_val\n",
    "            if dU_h.min() < min_val:\n",
    "                dU_h[dU_h < min_val] = min_val\n",
    "\n",
    "            if dW_h.max() > max_val:\n",
    "                dW_h[dW_h > max_val] = max_val\n",
    "            if dW_h.min() < min_val:\n",
    "                dW_h[dW_h < min_val] = min_val\n",
    "\n",
    "            if db_h.max() > max_val:\n",
    "                db_h[db_h > max_val] = max_val\n",
    "            if db_h.min() < min_val:\n",
    "                db_h[db_h < min_val] = min_val\n",
    "\n",
    "            if dU_u.max() > max_val:\n",
    "                dU_u[dU_u > max_val] = max_val\n",
    "            if dU_u.min() < min_val:\n",
    "                dU_u[dU_u < min_val] = min_val\n",
    "\n",
    "            if dW_u.max() > max_val:\n",
    "                dW_u[dW_u > max_val] = max_val\n",
    "            if dW_u.min() < min_val:\n",
    "                dW_u[dW_u < min_val] = min_val\n",
    "\n",
    "            if db_u.max() > max_val:\n",
    "                db_u[db_u > max_val] = max_val\n",
    "            if db_u.min() < min_val:\n",
    "                db_u[db_u < min_val] = min_val\n",
    "\n",
    "            if dU_r.max() > max_val:\n",
    "                dU_r[dU_r > max_val] = max_val\n",
    "            if dU_r.min() < min_val:\n",
    "                dU_r[dU_r < min_val] = min_val\n",
    "\n",
    "            if dW_r.max() > max_val:\n",
    "                dW_r[dW_r > max_val] = max_val\n",
    "            if dW_r.min() < min_val:\n",
    "                dW_r[dW_r < min_val] = min_val\n",
    "\n",
    "            if db_r.max() > max_val:\n",
    "                db_r[db_r > max_val] = max_val\n",
    "            if db_r.min() < min_val:\n",
    "                db_r[db_r < min_val] = min_val\n",
    "            \n",
    "        db_y = db_y/t\n",
    "        db_h = db_h/t\n",
    "        db_u = db_u/t\n",
    "        db_r = db_r/t\n",
    "        \n",
    "        return dU_u,dW_u,db_u,dU_r,dW_r,db_r,dU_h,dW_h,db_h,dV,db_y\n",
    "    \n",
    "    def train(self,X,Y,epochs,learning_rate,min_val,max_val,predict = True,verbose = True):\n",
    "        # storge loss\n",
    "        losses = []\n",
    "        for epoch in range(epochs):\n",
    "            \n",
    "            loss = self.calc_loss(X,Y)\n",
    "            losses.append(loss)\n",
    "            title = f'epoch: {epoch} loss: {loss}' \n",
    "            if verbose: print(title)\n",
    "            \n",
    "            for i in tqdm.tqdm(range(X.shape[0])):\n",
    "                x = X[i]\n",
    "                y = Y[i]\n",
    "                # forward pass\n",
    "                layers,y_hat = self.forward_pass(x)\n",
    "                # backward pass\n",
    "                dU_u,dW_u,db_u,dU_r,dW_r,db_r,dU_h,dW_h,db_h,dV,db_y = self.bptt(x,y,layers,y_hat,min_val = min_val,max_val = max_val)\n",
    "                # gradient descent\n",
    "                self.U_u += dU_u*learning_rate\n",
    "                self.W_u += dW_u*learning_rate\n",
    "                self.b_u += db_u*learning_rate\n",
    "                self.U_r += dU_r*learning_rate\n",
    "                self.W_r += dW_r*learning_rate\n",
    "                self.b_r += db_r*learning_rate\n",
    "                self.U_h += dU_h*learning_rate\n",
    "                self.W_h += dW_h*learning_rate\n",
    "                self.b_h += db_h*learning_rate\n",
    "                self.V += dV*learning_rate\n",
    "                self.b_y += db_y*learning_rate\n",
    "                \n",
    "            if predict:\n",
    "                preds = self.predict(X)\n",
    "                plt.plot(preds,label = 'pred')\n",
    "                plt.plot(Y,label = 'ground-truth')\n",
    "                plt.title(title)\n",
    "                plt.legend()\n",
    "                plt.show()\n",
    "                    \n",
    "        return losses"
   ]
  },
  {
   "cell_type": "code",
   "execution_count": 69,
   "id": "a5b256bb",
   "metadata": {},
   "outputs": [
    {
     "name": "stdout",
     "output_type": "stream",
     "text": [
      "layers len 50\n",
      "y_hat [[6.3939842]]\n",
      "loss 115.22753992669894\n"
     ]
    },
    {
     "name": "stderr",
     "output_type": "stream",
     "text": [
      "  1%|▏         | 2/150 [00:00<00:10, 14.49it/s]"
     ]
    },
    {
     "name": "stdout",
     "output_type": "stream",
     "text": [
      "epoch: 0 loss: 115.22753992669894\n"
     ]
    },
    {
     "name": "stderr",
     "output_type": "stream",
     "text": [
      "100%|██████████| 150/150 [00:06<00:00, 22.41it/s]\n",
      "  1%|▏         | 2/150 [00:00<00:07, 18.52it/s]"
     ]
    },
    {
     "name": "stdout",
     "output_type": "stream",
     "text": [
      "epoch: 1 loss: 0.1734200762974632\n"
     ]
    },
    {
     "name": "stderr",
     "output_type": "stream",
     "text": [
      "100%|██████████| 150/150 [00:06<00:00, 23.42it/s]\n",
      "  1%|▏         | 2/150 [00:00<00:07, 19.23it/s]"
     ]
    },
    {
     "name": "stdout",
     "output_type": "stream",
     "text": [
      "epoch: 2 loss: 0.1634208462556309\n"
     ]
    },
    {
     "name": "stderr",
     "output_type": "stream",
     "text": [
      "100%|██████████| 150/150 [00:06<00:00, 23.13it/s]\n",
      "  1%|▏         | 2/150 [00:00<00:08, 17.86it/s]"
     ]
    },
    {
     "name": "stdout",
     "output_type": "stream",
     "text": [
      "epoch: 3 loss: 0.15728842622744713\n"
     ]
    },
    {
     "name": "stderr",
     "output_type": "stream",
     "text": [
      "100%|██████████| 150/150 [00:08<00:00, 17.91it/s]\n",
      "  0%|          | 0/150 [00:00<?, ?it/s]"
     ]
    },
    {
     "name": "stdout",
     "output_type": "stream",
     "text": [
      "epoch: 4 loss: 0.15151215676662566\n"
     ]
    },
    {
     "name": "stderr",
     "output_type": "stream",
     "text": [
      "100%|██████████| 150/150 [00:08<00:00, 17.04it/s]\n",
      "  1%|▏         | 2/150 [00:00<00:09, 15.04it/s]"
     ]
    },
    {
     "name": "stdout",
     "output_type": "stream",
     "text": [
      "epoch: 5 loss: 0.14606721669928804\n"
     ]
    },
    {
     "name": "stderr",
     "output_type": "stream",
     "text": [
      "100%|██████████| 150/150 [00:09<00:00, 15.05it/s]\n"
     ]
    },
    {
     "data": {
      "image/png": "[encoded data removed]",
      "text/plain": [
       "<Figure size 432x288 with 1 Axes>"
      ]
     },
     "metadata": {
      "needs_background": "light"
     },
     "output_type": "display_data"
    },
    {
     "data": {
      "image/png": "[encoded data removed]",
      "text/plain": [
       "<Figure size 432x288 with 1 Axes>"
      ]
     },
     "metadata": {
      "needs_background": "light"
     },
     "output_type": "display_data"
    }
   ],
   "source": [
    "# hyperparameter\n",
    "epochs = 6\n",
    "learning_rate = 1e-4\n",
    "min_val = -200\n",
    "max_val = 200\n",
    "\n",
    "node = GRU()\n",
    "\n",
    "# forward pass\n",
    "x = X[0]\n",
    "y = Y[0]\n",
    "layers,y_hat = node.forward_pass(x)\n",
    "print(f'layers len {len(layers)}')\n",
    "print(f'y_hat {y_hat}')\n",
    "\n",
    "# calculate loss\n",
    "loss = node.calc_loss(X,Y)\n",
    "print(f'loss {loss}')\n",
    "\n",
    "# train\n",
    "losses = node.train(X,Y,epochs=epochs,learning_rate=1e-4,min_val = min_val,max_val = max_val,predict = False)\n",
    "\n",
    "# predict\n",
    "preds = node.predict(X)\n",
    "plt.plot(preds,label = 'pred')\n",
    "plt.plot(Y,label = 'ground-truth')\n",
    "plt.title('GRU training')\n",
    "plt.legend()\n",
    "\n",
    "#plt.savefig('predict.png')\n",
    "plt.figure()\n",
    "plt.plot(losses,label = 'losses')\n",
    "plt.title('loss-curve')\n",
    "\n",
    "plt.show()"
   ]
  },
  {
   "cell_type": "markdown",
   "id": "62ab6f60",
   "metadata": {},
   "source": [
    "Let compare this with the RNN basic model"
   ]
  },
  {
   "cell_type": "code",
   "execution_count": 70,
   "id": "b5b2d743",
   "metadata": {},
   "outputs": [],
   "source": [
    "class RNN():\n",
    "    def __init__(self,hidden_dim=100,seq_len=50,input_dim = 1,output_dim = 1,seed = 3454):\n",
    "        self.hidden_dim = hidden_dim\n",
    "        self.seq_len = seq_len\n",
    "        self.input_dim = input_dim\n",
    "        self.output_dim  = output_dim\n",
    "        self.U = np.random.uniform(0,1,(hidden_dim,seq_len)) # (100,50)\n",
    "        self.W = np.random.uniform(0,1,(hidden_dim,hidden_dim)) # (100,100)\n",
    "        self.V = np.random.uniform(0,1,(output_dim,hidden_dim)) # (1,100)\n",
    "        self.bh = np.random.uniform(0,1,(hidden_dim,1))\n",
    "        self.by = np.random.uniform(0,1,(output_dim,1))\n",
    "        \n",
    "    def forward_pass(self,x):\n",
    "        # init a list of dict to storage\n",
    "        layers = []\n",
    "        h_prev = np.zeros((hidden_dim,1))\n",
    "        for t in range(x.shape[0]):\n",
    "            new_input = np.zeros(x.shape)\n",
    "            new_input[t] = x[t]\n",
    "            z = self.U @ new_input + self.W @ h_prev + self.bh\n",
    "            h = tanh(z)\n",
    "            y_hat = V @ h + self.by\n",
    "            layers.append({'h':h,'h_prev':h_prev})\n",
    "            h_prev = h\n",
    "        return layers,y_hat\n",
    "        \n",
    "    def calc_loss(self,X,Y):\n",
    "        loss = 0.0\n",
    "        m = Y.shape[0]\n",
    "        for i in range(m):\n",
    "            x,y = X[i],Y[i]\n",
    "            _,y_hat = self.forward_pass(x)\n",
    "            loss += (y-y_hat)**2\n",
    "        loss = 1/(2*m) * np.float(loss)\n",
    "        return loss\n",
    "\n",
    "    def predict(self,X):\n",
    "        preds = []\n",
    "        m = X.shape[0] # number of samples\n",
    "        for i in range(m):\n",
    "            x = X[i]\n",
    "            _,y_hat = self.forward_pass(x)\n",
    "            preds.append(y_hat)\n",
    "        # convert to numpy array\n",
    "        preds = np.array(preds)\n",
    "        preds = np.squeeze(preds)\n",
    "        return preds\n",
    "    \n",
    "    def calc_prev_d(self,h,d,W):\n",
    "        '''\n",
    "        Calculate the next previous term d after the first term, this function support for bptt function\n",
    "        Ex: d2 = d3*W*(1-h**2)\n",
    "        '''\n",
    "        d_sum = (1-h**2)*d\n",
    "        return W.T @ d_sum\n",
    "    \n",
    "    def bptt(self,x,y,layers,y_hat,bptt_truncate,min_val=-10,max_val=10):\n",
    "        # differentials at current prediction\n",
    "        dW = np.zeros(self.W.shape)\n",
    "        dU = np.zeros(self.U.shape)\n",
    "        dV = np.zeros(self.V.shape)\n",
    "        db_h = np.zeros(self.bh.shape)\n",
    "        db_y = np.zeros(self.by.shape)\n",
    "        # differentials each timestep\n",
    "        dW_t = np.zeros(self.W.shape)\n",
    "        dU_t = np.zeros(self.U.shape)\n",
    "        dV_t = np.zeros(self.V.shape)\n",
    "        # differentials each backpropagation truncate\n",
    "        dW_i = np.zeros(self.W.shape)\n",
    "        dU_i = np.zeros(self.U.shape)\n",
    "        dV_i = np.zeros(self.V.shape)\n",
    "        # dLdy\n",
    "        dLdy = y - y_hat\n",
    "        # dLdh\n",
    "        dLdh = self.V.T @ dLdy\n",
    "        # dLdby\n",
    "        db_y = dLdy\n",
    "        for t in range(x.shape[0]):\n",
    "            # dLdV\n",
    "            dV_t = dLdy @ np.transpose(layers[t]['h'])\n",
    "            # first term d = (y-y_hat)V\n",
    "            d_t = dLdh * (1 - layers[t]['h']**2)\n",
    "            # dLdbh\n",
    "            db_h += d_t\n",
    "            for _ in range(t,max(-1,bptt_truncate-1),-1):\n",
    "                new_input = np.zeros(x.shape)\n",
    "                new_input[_] = x[_]\n",
    "                dU_i = d_t @ new_input.T\n",
    "                dW_i = d_t @ layers[_]['h_prev'].T\n",
    "                dU_t += dU_i\n",
    "                dW_t += dW_i\n",
    "                # update term d\n",
    "                d_t = self.calc_prev_d(layers[_]['h_prev'],d_t,self.W)\n",
    "            dV += dV_t\n",
    "            dU += dU_t\n",
    "            dW += dW_t\n",
    "            # take care of possible exploding gradients\n",
    "            if dU.max() > max_val:\n",
    "                dU[dU > max_val] = max_val\n",
    "            if dV.max() > max_val:\n",
    "                dV[dV > max_val] = max_val\n",
    "            if dW.max() > max_val:\n",
    "                dW[dW > max_val] = max_val\n",
    "\n",
    "            if dU.min() < min_val:\n",
    "                dU[dU < min_val] = min_val\n",
    "            if dV.min() < min_val:\n",
    "                dV[dV < min_val] = min_val\n",
    "            if dW.min() < min_val:\n",
    "                dW[dW < min_val] = min_val\n",
    "        return dU,dV,dW,db_h,db_y\n",
    "            \n",
    "    def train(self,X,Y,epochs,learning_rate,bptt_truncate,min_val,max_val,predict = True,verbose = True):\n",
    "        # storage lost\n",
    "        losses = []\n",
    "        for epoch in range(epochs):\n",
    "            loss = self.calc_loss(X,Y)\n",
    "            losses.append(loss)\n",
    "            title = f'epoch: {epoch} loss: {loss}'\n",
    "            if verbose: print(title)\n",
    "            \n",
    "            for i in tqdm.tqdm(range(X.shape[0])):\n",
    "                x,y = X[i],Y[i]\n",
    "                # forward pass\n",
    "                layers,y_hat = self.forward_pass(x)\n",
    "                dU,dV,dW,db_h,db_y = self.bptt(x,y,layers,y_hat,bptt_truncate,min_val,max_val)\n",
    "                # SGD\n",
    "                self.U += learning_rate * dU\n",
    "                self.W += learning_rate * dW\n",
    "                self.V += learning_rate * dV\n",
    "                self.bh += learning_rate * db_h\n",
    "                self.by += learning_rate * db_y\n",
    "                \n",
    "            if predict:\n",
    "                preds = self.predict(X)\n",
    "                plt.plot(preds,label = 'pred')\n",
    "                plt.plot(Y,label = 'ground-truth')\n",
    "                plt.title(title)\n",
    "                plt.legend()\n",
    "                plt.show()\n",
    "                    \n",
    "        return losses"
   ]
  },
  {
   "cell_type": "code",
   "execution_count": 66,
   "id": "34226cbe",
   "metadata": {},
   "outputs": [
    {
     "name": "stdout",
     "output_type": "stream",
     "text": [
      "layers len 50\n",
      "y_hat [[50.07664165]]\n",
      "loss 1253.9600196878393\n"
     ]
    },
    {
     "name": "stderr",
     "output_type": "stream",
     "text": [
      "  1%|          | 1/150 [00:00<00:16,  9.01it/s]"
     ]
    },
    {
     "name": "stdout",
     "output_type": "stream",
     "text": [
      "epoch: 0 loss: 1253.9600196878393\n"
     ]
    },
    {
     "name": "stderr",
     "output_type": "stream",
     "text": [
      "100%|██████████| 150/150 [00:14<00:00, 10.61it/s]\n",
      "  1%|          | 1/150 [00:00<00:16,  8.77it/s]"
     ]
    },
    {
     "name": "stdout",
     "output_type": "stream",
     "text": [
      "epoch: 1 loss: 1216.9016267261638\n"
     ]
    },
    {
     "name": "stderr",
     "output_type": "stream",
     "text": [
      "100%|██████████| 150/150 [00:13<00:00, 10.86it/s]\n",
      "  1%|          | 1/150 [00:00<00:16,  9.09it/s]"
     ]
    },
    {
     "name": "stdout",
     "output_type": "stream",
     "text": [
      "epoch: 2 loss: 1180.9385308681758\n"
     ]
    },
    {
     "name": "stderr",
     "output_type": "stream",
     "text": [
      "100%|██████████| 150/150 [00:13<00:00, 10.79it/s]\n",
      "  1%|          | 1/150 [00:00<00:16,  9.17it/s]"
     ]
    },
    {
     "name": "stdout",
     "output_type": "stream",
     "text": [
      "epoch: 3 loss: 1146.0383595662531\n"
     ]
    },
    {
     "name": "stderr",
     "output_type": "stream",
     "text": [
      "100%|██████████| 150/150 [00:13<00:00, 10.91it/s]\n",
      "  1%|          | 1/150 [00:00<00:23,  6.37it/s]"
     ]
    },
    {
     "name": "stdout",
     "output_type": "stream",
     "text": [
      "epoch: 4 loss: 1112.1696970737453\n"
     ]
    },
    {
     "name": "stderr",
     "output_type": "stream",
     "text": [
      "100%|██████████| 150/150 [00:13<00:00, 10.90it/s]\n",
      "  1%|          | 1/150 [00:00<00:20,  7.41it/s]"
     ]
    },
    {
     "name": "stdout",
     "output_type": "stream",
     "text": [
      "epoch: 5 loss: 1079.3020561658298\n"
     ]
    },
    {
     "name": "stderr",
     "output_type": "stream",
     "text": [
      "100%|██████████| 150/150 [00:13<00:00, 10.72it/s]\n",
      "  1%|          | 1/150 [00:00<00:15,  9.35it/s]"
     ]
    },
    {
     "name": "stdout",
     "output_type": "stream",
     "text": [
      "epoch: 6 loss: 1047.4058506961837\n"
     ]
    },
    {
     "name": "stderr",
     "output_type": "stream",
     "text": [
      "100%|██████████| 150/150 [00:13<00:00, 10.86it/s]\n",
      "  1%|          | 1/150 [00:00<00:16,  9.26it/s]"
     ]
    },
    {
     "name": "stdout",
     "output_type": "stream",
     "text": [
      "epoch: 7 loss: 1016.452368964778\n"
     ]
    },
    {
     "name": "stderr",
     "output_type": "stream",
     "text": [
      "100%|██████████| 150/150 [00:15<00:00,  9.69it/s]\n",
      "  1%|          | 1/150 [00:00<00:16,  8.85it/s]"
     ]
    },
    {
     "name": "stdout",
     "output_type": "stream",
     "text": [
      "epoch: 8 loss: 986.4137478727953\n"
     ]
    },
    {
     "name": "stderr",
     "output_type": "stream",
     "text": [
      "100%|██████████| 150/150 [00:14<00:00, 10.41it/s]\n",
      "  1%|          | 1/150 [00:00<00:15,  9.35it/s]"
     ]
    },
    {
     "name": "stdout",
     "output_type": "stream",
     "text": [
      "epoch: 9 loss: 957.26294784144\n"
     ]
    },
    {
     "name": "stderr",
     "output_type": "stream",
     "text": [
      "100%|██████████| 150/150 [00:14<00:00, 10.63it/s]\n",
      "  1%|          | 1/150 [00:00<00:16,  9.26it/s]"
     ]
    },
    {
     "name": "stdout",
     "output_type": "stream",
     "text": [
      "epoch: 10 loss: 928.9737284720319\n"
     ]
    },
    {
     "name": "stderr",
     "output_type": "stream",
     "text": [
      "100%|██████████| 150/150 [00:14<00:00, 10.47it/s]\n",
      "  1%|          | 1/150 [00:00<00:16,  9.01it/s]"
     ]
    },
    {
     "name": "stdout",
     "output_type": "stream",
     "text": [
      "epoch: 11 loss: 901.520624925499\n"
     ]
    },
    {
     "name": "stderr",
     "output_type": "stream",
     "text": [
      "100%|██████████| 150/150 [00:13<00:00, 10.82it/s]\n",
      "  1%|          | 1/150 [00:00<00:16,  9.01it/s]"
     ]
    },
    {
     "name": "stdout",
     "output_type": "stream",
     "text": [
      "epoch: 12 loss: 874.8789249999865\n"
     ]
    },
    {
     "name": "stderr",
     "output_type": "stream",
     "text": [
      "100%|██████████| 150/150 [00:14<00:00, 10.65it/s]\n",
      "  1%|          | 1/150 [00:00<00:16,  9.26it/s]"
     ]
    },
    {
     "name": "stdout",
     "output_type": "stream",
     "text": [
      "epoch: 13 loss: 849.0246468859707\n"
     ]
    },
    {
     "name": "stderr",
     "output_type": "stream",
     "text": [
      "100%|██████████| 150/150 [00:13<00:00, 10.79it/s]\n",
      "  1%|          | 1/150 [00:00<00:16,  8.93it/s]"
     ]
    },
    {
     "name": "stdout",
     "output_type": "stream",
     "text": [
      "epoch: 14 loss: 823.9345175788278\n"
     ]
    },
    {
     "name": "stderr",
     "output_type": "stream",
     "text": [
      "100%|██████████| 150/150 [00:14<00:00, 10.52it/s]\n"
     ]
    },
    {
     "data": {
      "image/png": "[encoded data removed]",
      "text/plain": [
       "<Figure size 432x288 with 1 Axes>"
      ]
     },
     "metadata": {
      "needs_background": "light"
     },
     "output_type": "display_data"
    },
    {
     "data": {
      "image/png": "[encoded data removed]",
      "text/plain": [
       "<Figure size 432x288 with 1 Axes>"
      ]
     },
     "metadata": {
      "needs_background": "light"
     },
     "output_type": "display_data"
    }
   ],
   "source": [
    "# hyperparameter\n",
    "epochs = 15\n",
    "learning_rate = 1e-4\n",
    "min_val = -200\n",
    "max_val = 200\n",
    "\n",
    "node = RNN()\n",
    "\n",
    "# forward pass\n",
    "x = X[0]\n",
    "y = Y[0]\n",
    "layers,y_hat = node.forward_pass(x)\n",
    "print(f'layers len {len(layers)}')\n",
    "print(f'y_hat {y_hat}')\n",
    "\n",
    "# calculate loss\n",
    "loss = node.calc_loss(X,Y)\n",
    "print(f'loss {loss}')\n",
    "\n",
    "# train\n",
    "losses = node.train(X,Y,epochs=epochs,learning_rate=1e-4,bptt_truncate = 10,min_val = min_val,max_val = max_val,predict = False)\n",
    "\n",
    "# predict\n",
    "preds = node.predict(X)\n",
    "plt.plot(preds,label = 'pred')\n",
    "plt.plot(Y,label = 'ground-truth')\n",
    "plt.title('RNN training')\n",
    "plt.legend()\n",
    "\n",
    "#plt.savefig('predict.png')\n",
    "plt.figure()\n",
    "plt.plot(losses,label = 'losses')\n",
    "plt.title('loss-curve')\n",
    "\n",
    "plt.show()"
   ]
  },
  {
   "cell_type": "markdown",
   "id": "a00200f2",
   "metadata": {},
   "source": [
    "### comment\n",
    "\n",
    "Even you don't update for `W_u,U_u,b_u`, `W_r,U_r,b_r`, `W_r,U_r,b_r`, It seem like your model stil work fine sometime\n",
    "\n",
    "![predicts](predict.png)"
   ]
  },
  {
   "cell_type": "markdown",
   "id": "51d7ff5b",
   "metadata": {},
   "source": [
    "### try with other dataset"
   ]
  },
  {
   "cell_type": "code",
   "execution_count": 75,
   "id": "f88f6982",
   "metadata": {},
   "outputs": [
    {
     "name": "stdout",
     "output_type": "stream",
     "text": [
      "data lenght: 200\n",
      "seq_len: 50\n",
      "num_records: 150\n",
      "X shape (150, 50, 1)\n",
      "Y shape (150, 1)\n",
      "X_val shape (50, 50, 1)\n",
      "Y_val shape (50, 1)\n"
     ]
    },
    {
     "name": "stderr",
     "output_type": "stream",
     "text": [
      "  1%|▏         | 2/150 [00:00<00:08, 18.35it/s]"
     ]
    },
    {
     "name": "stdout",
     "output_type": "stream",
     "text": [
      "epoch: 0 loss: 149.05503001795455\n"
     ]
    },
    {
     "name": "stderr",
     "output_type": "stream",
     "text": [
      "100%|██████████| 150/150 [00:07<00:00, 19.70it/s]\n",
      "  1%|▏         | 2/150 [00:00<00:11, 13.16it/s]"
     ]
    },
    {
     "name": "stdout",
     "output_type": "stream",
     "text": [
      "epoch: 1 loss: 0.16729587851544842\n"
     ]
    },
    {
     "name": "stderr",
     "output_type": "stream",
     "text": [
      "100%|██████████| 150/150 [00:06<00:00, 21.83it/s]\n",
      "  2%|▏         | 3/150 [00:00<00:05, 25.00it/s]"
     ]
    },
    {
     "name": "stdout",
     "output_type": "stream",
     "text": [
      "epoch: 2 loss: 0.15639162685997912\n"
     ]
    },
    {
     "name": "stderr",
     "output_type": "stream",
     "text": [
      "100%|██████████| 150/150 [00:06<00:00, 23.28it/s]\n",
      "  1%|▏         | 2/150 [00:00<00:08, 18.35it/s]"
     ]
    },
    {
     "name": "stdout",
     "output_type": "stream",
     "text": [
      "epoch: 3 loss: 0.14938573377569336\n"
     ]
    },
    {
     "name": "stderr",
     "output_type": "stream",
     "text": [
      "100%|██████████| 150/150 [00:06<00:00, 23.11it/s]\n",
      "  1%|▏         | 2/150 [00:00<00:08, 17.39it/s]"
     ]
    },
    {
     "name": "stdout",
     "output_type": "stream",
     "text": [
      "epoch: 4 loss: 0.14278279191603976\n"
     ]
    },
    {
     "name": "stderr",
     "output_type": "stream",
     "text": [
      "100%|██████████| 150/150 [00:06<00:00, 23.37it/s]\n",
      "  1%|▏         | 2/150 [00:00<00:09, 15.75it/s]"
     ]
    },
    {
     "name": "stdout",
     "output_type": "stream",
     "text": [
      "epoch: 5 loss: 0.1365556584963667\n"
     ]
    },
    {
     "name": "stderr",
     "output_type": "stream",
     "text": [
      "100%|██████████| 150/150 [00:06<00:00, 23.08it/s]\n",
      "  1%|▏         | 2/150 [00:00<00:07, 18.69it/s]"
     ]
    },
    {
     "name": "stdout",
     "output_type": "stream",
     "text": [
      "epoch: 6 loss: 0.1306809305291694\n"
     ]
    },
    {
     "name": "stderr",
     "output_type": "stream",
     "text": [
      "100%|██████████| 150/150 [00:06<00:00, 23.24it/s]\n",
      "  1%|▏         | 2/150 [00:00<00:08, 18.18it/s]"
     ]
    },
    {
     "name": "stdout",
     "output_type": "stream",
     "text": [
      "epoch: 7 loss: 0.12513693035350604\n"
     ]
    },
    {
     "name": "stderr",
     "output_type": "stream",
     "text": [
      "100%|██████████| 150/150 [00:06<00:00, 23.11it/s]\n",
      "  1%|▏         | 2/150 [00:00<00:07, 18.52it/s]"
     ]
    },
    {
     "name": "stdout",
     "output_type": "stream",
     "text": [
      "epoch: 8 loss: 0.11990355219188256\n"
     ]
    },
    {
     "name": "stderr",
     "output_type": "stream",
     "text": [
      "100%|██████████| 150/150 [00:06<00:00, 23.21it/s]\n",
      "  1%|▏         | 2/150 [00:00<00:08, 18.02it/s]"
     ]
    },
    {
     "name": "stdout",
     "output_type": "stream",
     "text": [
      "epoch: 9 loss: 0.11496212538205608\n"
     ]
    },
    {
     "name": "stderr",
     "output_type": "stream",
     "text": [
      "100%|██████████| 150/150 [00:06<00:00, 23.41it/s]\n",
      "  1%|▏         | 2/150 [00:00<00:07, 18.69it/s]"
     ]
    },
    {
     "name": "stdout",
     "output_type": "stream",
     "text": [
      "epoch: 10 loss: 0.11029529146794216\n"
     ]
    },
    {
     "name": "stderr",
     "output_type": "stream",
     "text": [
      "100%|██████████| 150/150 [00:06<00:00, 22.43it/s]\n",
      "  1%|▏         | 2/150 [00:00<00:08, 16.81it/s]"
     ]
    },
    {
     "name": "stdout",
     "output_type": "stream",
     "text": [
      "epoch: 11 loss: 0.10588689356804629\n"
     ]
    },
    {
     "name": "stderr",
     "output_type": "stream",
     "text": [
      "100%|██████████| 150/150 [00:06<00:00, 23.18it/s]\n",
      "  1%|▏         | 2/150 [00:00<00:08, 18.35it/s]"
     ]
    },
    {
     "name": "stdout",
     "output_type": "stream",
     "text": [
      "epoch: 12 loss: 0.10172187663963361\n"
     ]
    },
    {
     "name": "stderr",
     "output_type": "stream",
     "text": [
      "100%|██████████| 150/150 [00:06<00:00, 22.70it/s]\n",
      "  2%|▏         | 3/150 [00:00<00:05, 26.55it/s]"
     ]
    },
    {
     "name": "stdout",
     "output_type": "stream",
     "text": [
      "epoch: 13 loss: 0.09778619742862554\n"
     ]
    },
    {
     "name": "stderr",
     "output_type": "stream",
     "text": [
      "100%|██████████| 150/150 [00:05<00:00, 25.35it/s]\n",
      "  2%|▏         | 3/150 [00:00<00:05, 27.03it/s]"
     ]
    },
    {
     "name": "stdout",
     "output_type": "stream",
     "text": [
      "epoch: 14 loss: 0.09406674304362857\n"
     ]
    },
    {
     "name": "stderr",
     "output_type": "stream",
     "text": [
      "100%|██████████| 150/150 [00:05<00:00, 25.28it/s]\n",
      "  2%|▏         | 3/150 [00:00<00:05, 25.00it/s]"
     ]
    },
    {
     "name": "stdout",
     "output_type": "stream",
     "text": [
      "epoch: 15 loss: 0.09055125722103682\n"
     ]
    },
    {
     "name": "stderr",
     "output_type": "stream",
     "text": [
      "100%|██████████| 150/150 [00:06<00:00, 24.79it/s]\n",
      "  2%|▏         | 3/150 [00:00<00:05, 25.86it/s]"
     ]
    },
    {
     "name": "stdout",
     "output_type": "stream",
     "text": [
      "epoch: 16 loss: 0.08722827345962754\n"
     ]
    },
    {
     "name": "stderr",
     "output_type": "stream",
     "text": [
      "100%|██████████| 150/150 [00:06<00:00, 23.79it/s]\n",
      "  2%|▏         | 3/150 [00:00<00:05, 26.09it/s]"
     ]
    },
    {
     "name": "stdout",
     "output_type": "stream",
     "text": [
      "epoch: 17 loss: 0.08408705430003992\n"
     ]
    },
    {
     "name": "stderr",
     "output_type": "stream",
     "text": [
      "100%|██████████| 150/150 [00:06<00:00, 23.09it/s]\n",
      "  2%|▏         | 3/150 [00:00<00:05, 26.09it/s]"
     ]
    },
    {
     "name": "stdout",
     "output_type": "stream",
     "text": [
      "epoch: 18 loss: 0.08111753610893921\n"
     ]
    },
    {
     "name": "stderr",
     "output_type": "stream",
     "text": [
      "100%|██████████| 150/150 [00:05<00:00, 25.04it/s]\n",
      "  2%|▏         | 3/150 [00:00<00:05, 26.09it/s]"
     ]
    },
    {
     "name": "stdout",
     "output_type": "stream",
     "text": [
      "epoch: 19 loss: 0.07831027880137857\n"
     ]
    },
    {
     "name": "stderr",
     "output_type": "stream",
     "text": [
      "100%|██████████| 150/150 [00:06<00:00, 24.83it/s]\n"
     ]
    },
    {
     "data": {
      "image/png": "[encoded data removed]",
      "text/plain": [
       "<Figure size 432x288 with 1 Axes>"
      ]
     },
     "metadata": {
      "needs_background": "light"
     },
     "output_type": "display_data"
    },
    {
     "data": {
      "image/png": "[encoded data removed]",
      "text/plain": [
       "<Figure size 432x288 with 1 Axes>"
      ]
     },
     "metadata": {
      "needs_background": "light"
     },
     "output_type": "display_data"
    }
   ],
   "source": [
    "def gen_data(f,seq_len):\n",
    "    '''\n",
    "    Generate custom dataset and return all-dataset,x-training,y-training,x-testing,y-testing\n",
    "    '''\n",
    "    X = []\n",
    "    Y = []\n",
    "    X_val = []\n",
    "    Y_val = []\n",
    "    seq_data =  np.array([(0.5*math.sin(1*f*2*np.pi*x) + 0.5*math.sin(2*f*2*np.pi*x)) for x in np.arange(0,0.4,0.002)])\n",
    "    # training dataset\n",
    "    num_records = len(seq_data) - seq_len\n",
    "    for i in range(num_records):\n",
    "        X.append(seq_data[i:i+seq_len])\n",
    "        Y.append(seq_data[i+seq_len])\n",
    "    # testing dataset\n",
    "    for i in range(num_records - seq_len,num_records):\n",
    "        X_val.append(seq_data[i:i+seq_len])\n",
    "        Y_val.append(seq_data[i+seq_len])\n",
    "    # convert to numpy array\n",
    "    X = np.array(X)\n",
    "    Y = np.array(Y)\n",
    "    X_val = np.array(X_val)\n",
    "    Y_val = np.array(Y_val)\n",
    "    # reshape training and testing dataset\n",
    "    X = np.expand_dims(X,2)\n",
    "    X_val = np.expand_dims(X_val,2)\n",
    "    Y = np.expand_dims(Y,1)\n",
    "    Y_val = np.expand_dims(Y_val,1)\n",
    "    print(f'data lenght: {len(seq_data)}')\n",
    "    print(f'seq_len: {seq_len}')\n",
    "    print(f'num_records: {num_records}')\n",
    "    print(f'X shape {X.shape}')\n",
    "    print(f'Y shape {Y.shape}')\n",
    "    print(f'X_val shape {X_val.shape}')\n",
    "    print(f'Y_val shape {Y_val.shape}')\n",
    "    return seq_data,X,Y,X_val,Y_val\n",
    "\n",
    "# hyperparameter\n",
    "epochs = 20\n",
    "learning_rate = 1e-4\n",
    "min_val = -200\n",
    "max_val = 200\n",
    "f = 20\n",
    "seq_len = 50\n",
    "seq_data,X,Y,X_val,Y_val = gen_data(f,seq_len)\n",
    "\n",
    "node = GRU()\n",
    "\n",
    "# train\n",
    "losses = node.train(X,Y,epochs=epochs,learning_rate=1e-4,min_val = min_val,max_val = max_val,predict = False)\n",
    "\n",
    "# predict\n",
    "preds = node.predict(X)\n",
    "plt.plot(preds,label = 'pred')\n",
    "plt.plot(Y,label = 'ground-truth')\n",
    "plt.title('GRU training')\n",
    "plt.legend()\n",
    "\n",
    "#plt.savefig('predict.png')\n",
    "plt.figure()\n",
    "plt.plot(losses,label = 'losses')\n",
    "plt.title('loss-curve')\n",
    "\n",
    "plt.show()"
   ]
  },
  {
   "cell_type": "markdown",
   "id": "1be0e3af",
   "metadata": {},
   "source": [
    "### GRU Keras\n",
    "\n",
    "[kaggle](https://www.kaggle.com/datasets/mczielinski/bitcoin-historical-data)\n",
    "\n",
    "Use RNN model to predict bitcoin price\n",
    "\n",
    "[LSTM : Can we predict the Bitcoin price ?](https://www.kaggle.com/code/jeongbinpark/lstm-can-we-predict-the-bitcoin-price)\n",
    "\n",
    "[Predicting BTC Price Using RNN](https://www.kaggle.com/code/microtang/predicting-btc-price-using-rnn)\n",
    "\n",
    "[LSTM in bitcoin](https://www.kaggle.com/code/surprise2333333/lstm-in-bitcoin)\n",
    "\n",
    "[RNN vs LSTM on Bitcoin dataset](https://www.kaggle.com/code/etatbak/rnn-vs-lstm-on-bitcoin-dataset)\n",
    "\n",
    "Other references\n",
    "\n",
    "[Time Series Analysis](https://www.kaggle.com/code/kanberburak/time-series-analysis)\n",
    "\n",
    "[Bitcoin Trading Strategy Simulation](https://www.kaggle.com/code/smitad/bitcoin-trading-strategy-simulation)\n",
    "\n",
    "[Building an Asset Trading Strategy](https://www.kaggle.com/code/shtrausslearning/building-an-asset-trading-strategy)\n"
   ]
  },
  {
   "cell_type": "code",
   "execution_count": 132,
   "id": "a46922cd",
   "metadata": {},
   "outputs": [],
   "source": [
    "# import dependencies\n",
    "import numpy as np\n",
    "import pandas as pd\n",
    "import matplotlib.pyplot as plt \n",
    "import datetime \n",
    "from sklearn.preprocessing import MinMaxScaler\n",
    "from sklearn.model_selection import train_test_split\n",
    "from keras import models,layers"
   ]
  },
  {
   "cell_type": "markdown",
   "id": "45c07021",
   "metadata": {},
   "source": [
    "Load dataset\n",
    "\n",
    "**Features**\n",
    "\n",
    "- Timestamp - Start time of time window (60s window), in Unix time\n",
    "- High - High price within time window\n",
    "- Low - Low price within time window"
   ]
  },
  {
   "cell_type": "code",
   "execution_count": 146,
   "id": "baea31c5",
   "metadata": {},
   "outputs": [
    {
     "name": "stdout",
     "output_type": "stream",
     "text": [
      "(4857377, 8)\n"
     ]
    },
    {
     "data": {
      "text/html": [
       "<div>\n",
       "<style scoped>\n",
       "    .dataframe tbody tr th:only-of-type {\n",
       "        vertical-align: middle;\n",
       "    }\n",
       "\n",
       "    .dataframe tbody tr th {\n",
       "        vertical-align: top;\n",
       "    }\n",
       "\n",
       "    .dataframe thead th {\n",
       "        text-align: right;\n",
       "    }\n",
       "</style>\n",
       "<table border=\"1\" class=\"dataframe\">\n",
       "  <thead>\n",
       "    <tr style=\"text-align: right;\">\n",
       "      <th></th>\n",
       "      <th>Timestamp</th>\n",
       "      <th>Open</th>\n",
       "      <th>High</th>\n",
       "      <th>Low</th>\n",
       "      <th>Close</th>\n",
       "      <th>Volume_(BTC)</th>\n",
       "      <th>Volume_(Currency)</th>\n",
       "      <th>Weighted_Price</th>\n",
       "    </tr>\n",
       "  </thead>\n",
       "  <tbody>\n",
       "    <tr>\n",
       "      <th>0</th>\n",
       "      <td>1325317920</td>\n",
       "      <td>4.39</td>\n",
       "      <td>4.39</td>\n",
       "      <td>4.39</td>\n",
       "      <td>4.39</td>\n",
       "      <td>0.455581</td>\n",
       "      <td>2.0</td>\n",
       "      <td>4.39</td>\n",
       "    </tr>\n",
       "    <tr>\n",
       "      <th>1</th>\n",
       "      <td>1325317980</td>\n",
       "      <td>NaN</td>\n",
       "      <td>NaN</td>\n",
       "      <td>NaN</td>\n",
       "      <td>NaN</td>\n",
       "      <td>NaN</td>\n",
       "      <td>NaN</td>\n",
       "      <td>NaN</td>\n",
       "    </tr>\n",
       "    <tr>\n",
       "      <th>2</th>\n",
       "      <td>1325318040</td>\n",
       "      <td>NaN</td>\n",
       "      <td>NaN</td>\n",
       "      <td>NaN</td>\n",
       "      <td>NaN</td>\n",
       "      <td>NaN</td>\n",
       "      <td>NaN</td>\n",
       "      <td>NaN</td>\n",
       "    </tr>\n",
       "    <tr>\n",
       "      <th>3</th>\n",
       "      <td>1325318100</td>\n",
       "      <td>NaN</td>\n",
       "      <td>NaN</td>\n",
       "      <td>NaN</td>\n",
       "      <td>NaN</td>\n",
       "      <td>NaN</td>\n",
       "      <td>NaN</td>\n",
       "      <td>NaN</td>\n",
       "    </tr>\n",
       "    <tr>\n",
       "      <th>4</th>\n",
       "      <td>1325318160</td>\n",
       "      <td>NaN</td>\n",
       "      <td>NaN</td>\n",
       "      <td>NaN</td>\n",
       "      <td>NaN</td>\n",
       "      <td>NaN</td>\n",
       "      <td>NaN</td>\n",
       "      <td>NaN</td>\n",
       "    </tr>\n",
       "  </tbody>\n",
       "</table>\n",
       "</div>"
      ],
      "text/plain": [
       "    Timestamp  Open  High   Low  Close  Volume_(BTC)  Volume_(Currency)  \\\n",
       "0  1325317920  4.39  4.39  4.39   4.39      0.455581                2.0   \n",
       "1  1325317980   NaN   NaN   NaN    NaN           NaN                NaN   \n",
       "2  1325318040   NaN   NaN   NaN    NaN           NaN                NaN   \n",
       "3  1325318100   NaN   NaN   NaN    NaN           NaN                NaN   \n",
       "4  1325318160   NaN   NaN   NaN    NaN           NaN                NaN   \n",
       "\n",
       "   Weighted_Price  \n",
       "0            4.39  \n",
       "1             NaN  \n",
       "2             NaN  \n",
       "3             NaN  \n",
       "4             NaN  "
      ]
     },
     "execution_count": 146,
     "metadata": {},
     "output_type": "execute_result"
    }
   ],
   "source": [
    "# load dataset\n",
    "df =pd.read_csv('./bitstampUSD_1-min_data_2012-01-01_to_2021-03-31.csv')\n",
    "print(df.shape)\n",
    "# view your dataframe\n",
    "df.head()"
   ]
  },
  {
   "cell_type": "code",
   "execution_count": 147,
   "id": "33e7cb49",
   "metadata": {},
   "outputs": [
    {
     "name": "stdout",
     "output_type": "stream",
     "text": [
      "(3613769, 8)\n"
     ]
    }
   ],
   "source": [
    "# drop nall \n",
    "df = df.dropna()\n",
    "print(df.shape)"
   ]
  },
  {
   "cell_type": "code",
   "execution_count": 148,
   "id": "d591e52e",
   "metadata": {},
   "outputs": [
    {
     "data": {
      "text/plain": [
       "<AxesSubplot:>"
      ]
     },
     "execution_count": 148,
     "metadata": {},
     "output_type": "execute_result"
    },
    {
     "data": {
      "image/png": "[encoded data removed]",
      "text/plain": [
       "<Figure size 432x288 with 1 Axes>"
      ]
     },
     "metadata": {
      "needs_background": "light"
     },
     "output_type": "display_data"
    }
   ],
   "source": [
    "df['price'] = (df['High'] + df['Low'])/2 \n",
    "df['price'].plot()"
   ]
  },
  {
   "cell_type": "code",
   "execution_count": 149,
   "id": "620f88d4",
   "metadata": {},
   "outputs": [
    {
     "data": {
      "text/plain": [
       "0         2011-12-31 07:52:00\n",
       "478       2011-12-31 15:50:00\n",
       "547       2011-12-31 16:59:00\n",
       "548       2011-12-31 17:00:00\n",
       "1224      2012-01-01 04:16:00\n",
       "                  ...        \n",
       "4857372   2021-03-30 23:56:00\n",
       "4857373   2021-03-30 23:57:00\n",
       "4857374   2021-03-30 23:58:00\n",
       "4857375   2021-03-30 23:59:00\n",
       "4857376   2021-03-31 00:00:00\n",
       "Name: Timestamp, Length: 3613769, dtype: datetime64[ns]"
      ]
     },
     "execution_count": 149,
     "metadata": {},
     "output_type": "execute_result"
    }
   ],
   "source": [
    "df['Timestamp'] = pd.to_datetime(df['Timestamp'],unit = 's')\n",
    "df['Timestamp']"
   ]
  },
  {
   "cell_type": "code",
   "execution_count": 150,
   "id": "3bc97734",
   "metadata": {},
   "outputs": [
    {
     "data": {
      "text/html": [
       "<div>\n",
       "<style scoped>\n",
       "    .dataframe tbody tr th:only-of-type {\n",
       "        vertical-align: middle;\n",
       "    }\n",
       "\n",
       "    .dataframe tbody tr th {\n",
       "        vertical-align: top;\n",
       "    }\n",
       "\n",
       "    .dataframe thead th {\n",
       "        text-align: right;\n",
       "    }\n",
       "</style>\n",
       "<table border=\"1\" class=\"dataframe\">\n",
       "  <thead>\n",
       "    <tr style=\"text-align: right;\">\n",
       "      <th></th>\n",
       "      <th>Timestamp</th>\n",
       "      <th>price</th>\n",
       "    </tr>\n",
       "  </thead>\n",
       "  <tbody>\n",
       "    <tr>\n",
       "      <th>0</th>\n",
       "      <td>2011-12-31 07:52:00</td>\n",
       "      <td>4.390</td>\n",
       "    </tr>\n",
       "    <tr>\n",
       "      <th>478</th>\n",
       "      <td>2011-12-31 15:50:00</td>\n",
       "      <td>4.390</td>\n",
       "    </tr>\n",
       "    <tr>\n",
       "      <th>547</th>\n",
       "      <td>2011-12-31 16:59:00</td>\n",
       "      <td>4.535</td>\n",
       "    </tr>\n",
       "    <tr>\n",
       "      <th>548</th>\n",
       "      <td>2011-12-31 17:00:00</td>\n",
       "      <td>4.580</td>\n",
       "    </tr>\n",
       "    <tr>\n",
       "      <th>1224</th>\n",
       "      <td>2012-01-01 04:16:00</td>\n",
       "      <td>4.580</td>\n",
       "    </tr>\n",
       "  </tbody>\n",
       "</table>\n",
       "</div>"
      ],
      "text/plain": [
       "               Timestamp  price\n",
       "0    2011-12-31 07:52:00  4.390\n",
       "478  2011-12-31 15:50:00  4.390\n",
       "547  2011-12-31 16:59:00  4.535\n",
       "548  2011-12-31 17:00:00  4.580\n",
       "1224 2012-01-01 04:16:00  4.580"
      ]
     },
     "execution_count": 150,
     "metadata": {},
     "output_type": "execute_result"
    }
   ],
   "source": [
    "# drop non-use column\n",
    "df.drop(['Open', 'High', 'Low', 'Close', 'Volume_(BTC)','Volume_(Currency)', 'Weighted_Price'],axis =1, inplace = True)\n",
    "df.head()"
   ]
  },
  {
   "cell_type": "code",
   "execution_count": 151,
   "id": "5d3b6677",
   "metadata": {},
   "outputs": [
    {
     "data": {
      "text/html": [
       "<div>\n",
       "<style scoped>\n",
       "    .dataframe tbody tr th:only-of-type {\n",
       "        vertical-align: middle;\n",
       "    }\n",
       "\n",
       "    .dataframe tbody tr th {\n",
       "        vertical-align: top;\n",
       "    }\n",
       "\n",
       "    .dataframe thead th {\n",
       "        text-align: right;\n",
       "    }\n",
       "</style>\n",
       "<table border=\"1\" class=\"dataframe\">\n",
       "  <thead>\n",
       "    <tr style=\"text-align: right;\">\n",
       "      <th></th>\n",
       "      <th>price</th>\n",
       "    </tr>\n",
       "    <tr>\n",
       "      <th>Timestamp</th>\n",
       "      <th></th>\n",
       "    </tr>\n",
       "  </thead>\n",
       "  <tbody>\n",
       "    <tr>\n",
       "      <th>2011-12-31 07:52:00</th>\n",
       "      <td>4.390</td>\n",
       "    </tr>\n",
       "    <tr>\n",
       "      <th>2011-12-31 15:50:00</th>\n",
       "      <td>4.390</td>\n",
       "    </tr>\n",
       "    <tr>\n",
       "      <th>2011-12-31 16:59:00</th>\n",
       "      <td>4.535</td>\n",
       "    </tr>\n",
       "    <tr>\n",
       "      <th>2011-12-31 17:00:00</th>\n",
       "      <td>4.580</td>\n",
       "    </tr>\n",
       "    <tr>\n",
       "      <th>2012-01-01 04:16:00</th>\n",
       "      <td>4.580</td>\n",
       "    </tr>\n",
       "  </tbody>\n",
       "</table>\n",
       "</div>"
      ],
      "text/plain": [
       "                     price\n",
       "Timestamp                 \n",
       "2011-12-31 07:52:00  4.390\n",
       "2011-12-31 15:50:00  4.390\n",
       "2011-12-31 16:59:00  4.535\n",
       "2011-12-31 17:00:00  4.580\n",
       "2012-01-01 04:16:00  4.580"
      ]
     },
     "execution_count": 151,
     "metadata": {},
     "output_type": "execute_result"
    }
   ],
   "source": [
    "# set timestamp as index\n",
    "df = df.set_index('Timestamp')\n",
    "df.head()"
   ]
  },
  {
   "cell_type": "code",
   "execution_count": 152,
   "id": "b62f7289",
   "metadata": {},
   "outputs": [
    {
     "data": {
      "text/html": [
       "<div>\n",
       "<style scoped>\n",
       "    .dataframe tbody tr th:only-of-type {\n",
       "        vertical-align: middle;\n",
       "    }\n",
       "\n",
       "    .dataframe tbody tr th {\n",
       "        vertical-align: top;\n",
       "    }\n",
       "\n",
       "    .dataframe thead th {\n",
       "        text-align: right;\n",
       "    }\n",
       "</style>\n",
       "<table border=\"1\" class=\"dataframe\">\n",
       "  <thead>\n",
       "    <tr style=\"text-align: right;\">\n",
       "      <th></th>\n",
       "      <th>price</th>\n",
       "    </tr>\n",
       "    <tr>\n",
       "      <th>Timestamp</th>\n",
       "      <th></th>\n",
       "    </tr>\n",
       "  </thead>\n",
       "  <tbody>\n",
       "    <tr>\n",
       "      <th>2011-12-31 06:00:00</th>\n",
       "      <td>4.390000</td>\n",
       "    </tr>\n",
       "    <tr>\n",
       "      <th>2011-12-31 12:00:00</th>\n",
       "      <td>4.501667</td>\n",
       "    </tr>\n",
       "    <tr>\n",
       "      <th>2011-12-31 18:00:00</th>\n",
       "      <td>NaN</td>\n",
       "    </tr>\n",
       "    <tr>\n",
       "      <th>2012-01-01 00:00:00</th>\n",
       "      <td>4.580000</td>\n",
       "    </tr>\n",
       "    <tr>\n",
       "      <th>2012-01-01 06:00:00</th>\n",
       "      <td>NaN</td>\n",
       "    </tr>\n",
       "  </tbody>\n",
       "</table>\n",
       "</div>"
      ],
      "text/plain": [
       "                        price\n",
       "Timestamp                    \n",
       "2011-12-31 06:00:00  4.390000\n",
       "2011-12-31 12:00:00  4.501667\n",
       "2011-12-31 18:00:00       NaN\n",
       "2012-01-01 00:00:00  4.580000\n",
       "2012-01-01 06:00:00       NaN"
      ]
     },
     "execution_count": 152,
     "metadata": {},
     "output_type": "execute_result"
    }
   ],
   "source": [
    "df = df.resample('6H').mean()\n",
    "df.head()"
   ]
  },
  {
   "cell_type": "code",
   "execution_count": 153,
   "id": "0f79950b",
   "metadata": {},
   "outputs": [
    {
     "name": "stdout",
     "output_type": "stream",
     "text": [
      "(13376, 1)\n"
     ]
    },
    {
     "data": {
      "text/html": [
       "<div>\n",
       "<style scoped>\n",
       "    .dataframe tbody tr th:only-of-type {\n",
       "        vertical-align: middle;\n",
       "    }\n",
       "\n",
       "    .dataframe tbody tr th {\n",
       "        vertical-align: top;\n",
       "    }\n",
       "\n",
       "    .dataframe thead th {\n",
       "        text-align: right;\n",
       "    }\n",
       "</style>\n",
       "<table border=\"1\" class=\"dataframe\">\n",
       "  <thead>\n",
       "    <tr style=\"text-align: right;\">\n",
       "      <th></th>\n",
       "      <th>price</th>\n",
       "    </tr>\n",
       "    <tr>\n",
       "      <th>Timestamp</th>\n",
       "      <th></th>\n",
       "    </tr>\n",
       "  </thead>\n",
       "  <tbody>\n",
       "    <tr>\n",
       "      <th>2011-12-31 06:00:00</th>\n",
       "      <td>4.390000</td>\n",
       "    </tr>\n",
       "    <tr>\n",
       "      <th>2011-12-31 12:00:00</th>\n",
       "      <td>4.501667</td>\n",
       "    </tr>\n",
       "    <tr>\n",
       "      <th>2012-01-01 00:00:00</th>\n",
       "      <td>4.580000</td>\n",
       "    </tr>\n",
       "    <tr>\n",
       "      <th>2012-01-01 12:00:00</th>\n",
       "      <td>4.840000</td>\n",
       "    </tr>\n",
       "    <tr>\n",
       "      <th>2012-01-01 18:00:00</th>\n",
       "      <td>5.000000</td>\n",
       "    </tr>\n",
       "  </tbody>\n",
       "</table>\n",
       "</div>"
      ],
      "text/plain": [
       "                        price\n",
       "Timestamp                    \n",
       "2011-12-31 06:00:00  4.390000\n",
       "2011-12-31 12:00:00  4.501667\n",
       "2012-01-01 00:00:00  4.580000\n",
       "2012-01-01 12:00:00  4.840000\n",
       "2012-01-01 18:00:00  5.000000"
      ]
     },
     "execution_count": 153,
     "metadata": {},
     "output_type": "execute_result"
    }
   ],
   "source": [
    "df = df.dropna()\n",
    "print(df.shape)\n",
    "df.head()"
   ]
  },
  {
   "cell_type": "code",
   "execution_count": 154,
   "id": "c8c284be",
   "metadata": {},
   "outputs": [
    {
     "data": {
      "image/png": "[encoded data removed]",
      "text/plain": [
       "<Figure size 1440x720 with 1 Axes>"
      ]
     },
     "metadata": {
      "needs_background": "light"
     },
     "output_type": "display_data"
    }
   ],
   "source": [
    "plt.figure(figsize = (20,10))\n",
    "plt.plot(df)\n",
    "plt.title('Bitcoin price',fontsize = 20)\n",
    "plt.xlabel('year',fontsize = 15)\n",
    "plt.ylabel('price',fontsize = 15)\n",
    "plt.show()"
   ]
  },
  {
   "cell_type": "code",
   "execution_count": 155,
   "id": "08dd8c1e",
   "metadata": {},
   "outputs": [],
   "source": [
    "# scale price to 0-1 for sigmoid activation function\n",
    "scaler = MinMaxScaler()\n",
    "price = scaler.fit_transform(np.array(df['price']).reshape(-1,1))\n",
    "df['price'] = price"
   ]
  },
  {
   "cell_type": "code",
   "execution_count": 156,
   "id": "91c18bea",
   "metadata": {},
   "outputs": [
    {
     "data": {
      "text/plain": [
       "<bound method NDFrame.describe of Timestamp\n",
       "2011-12-31 06:00:00    0.000002\n",
       "2011-12-31 12:00:00    0.000004\n",
       "2012-01-01 00:00:00    0.000005\n",
       "2012-01-01 12:00:00    0.000009\n",
       "2012-01-01 18:00:00    0.000012\n",
       "                         ...   \n",
       "2021-03-30 00:00:00    0.938112\n",
       "2021-03-30 06:00:00    0.954359\n",
       "2021-03-30 12:00:00    0.962672\n",
       "2021-03-30 18:00:00    0.961146\n",
       "2021-03-31 00:00:00    0.960927\n",
       "Name: price, Length: 13376, dtype: float64>"
      ]
     },
     "execution_count": 156,
     "metadata": {},
     "output_type": "execute_result"
    }
   ],
   "source": [
    "df['price'].describe"
   ]
  },
  {
   "cell_type": "code",
   "execution_count": 157,
   "id": "9641237d",
   "metadata": {},
   "outputs": [
    {
     "name": "stdout",
     "output_type": "stream",
     "text": [
      "X: (13326, 50, 1)\n",
      "y: (13326, 1)\n"
     ]
    }
   ],
   "source": [
    "X = [] \n",
    "y = []\n",
    "m = len(df)\n",
    "seq_len = 50\n",
    "\n",
    "for i in range(m-seq_len):\n",
    "    X.append(df.iloc[i:i+seq_len])\n",
    "    y.append(df.iloc[i+seq_len])\n",
    "\n",
    "X = np.array(X)\n",
    "y = np.array(y)\n",
    "\n",
    "print(f'X: {X.shape}')\n",
    "print(f'y: {y.shape}')"
   ]
  },
  {
   "cell_type": "code",
   "execution_count": 158,
   "id": "675e2012",
   "metadata": {},
   "outputs": [
    {
     "name": "stdout",
     "output_type": "stream",
     "text": [
      "X_train: (10660, 50, 1)\n",
      "y_train: (10660, 1)\n",
      "X_test: (2666, 50, 1)\n",
      "y_test: (2666, 1)\n"
     ]
    }
   ],
   "source": [
    "# split train-test\n",
    "X_train,X_test,y_train,y_test = train_test_split(X,y,test_size = 0.2,random_state = 100)\n",
    "print(f'X_train: {X_train.shape}')\n",
    "print(f'y_train: {y_train.shape}')\n",
    "print(f'X_test: {X_test.shape}')\n",
    "print(f'y_test: {y_test.shape}')"
   ]
  },
  {
   "cell_type": "code",
   "execution_count": 159,
   "id": "175710e5",
   "metadata": {},
   "outputs": [
    {
     "name": "stdout",
     "output_type": "stream",
     "text": [
      "Model: \"model_11\"\n",
      "_________________________________________________________________\n",
      "Layer (type)                 Output Shape              Param #   \n",
      "=================================================================\n",
      "input_12 (InputLayer)        [(None, 50, 1)]           0         \n",
      "_________________________________________________________________\n",
      "gru (GRU)                    (None, 100)               30900     \n",
      "_________________________________________________________________\n",
      "dense_11 (Dense)             (None, 1)                 101       \n",
      "=================================================================\n",
      "Total params: 31,001\n",
      "Trainable params: 31,001\n",
      "Non-trainable params: 0\n",
      "_________________________________________________________________\n"
     ]
    }
   ],
   "source": [
    "# build model\n",
    "m_x = layers.Input(shape = X_train.shape[1:])\n",
    "m_h = layers.GRU(100)(m_x)\n",
    "m_y = layers.Dense(1)(m_h)\n",
    "model = models.Model(m_x,m_y)\n",
    "model.compile('adam','mse',['accuracy'])\n",
    "model.summary()"
   ]
  },
  {
   "cell_type": "code",
   "execution_count": 160,
   "id": "83eb066c",
   "metadata": {},
   "outputs": [
    {
     "name": "stdout",
     "output_type": "stream",
     "text": [
      "Epoch 1/5\n",
      "334/334 [==============================] - 17s 45ms/step - loss: 7.1553e-04 - accuracy: 1.8762e-04 - val_loss: 3.9366e-05 - val_accuracy: 0.0000e+00\n",
      "Epoch 2/5\n",
      "334/334 [==============================] - 16s 47ms/step - loss: 3.2497e-05 - accuracy: 1.8762e-04 - val_loss: 4.0709e-05 - val_accuracy: 0.0000e+00\n",
      "Epoch 3/5\n",
      "334/334 [==============================] - 17s 49ms/step - loss: 2.9754e-05 - accuracy: 1.8762e-04 - val_loss: 2.5891e-05 - val_accuracy: 0.0000e+00\n",
      "Epoch 4/5\n",
      "334/334 [==============================] - 18s 55ms/step - loss: 2.3410e-05 - accuracy: 1.8762e-04 - val_loss: 3.6681e-05 - val_accuracy: 0.0000e+00\n",
      "Epoch 5/5\n",
      "334/334 [==============================] - 17s 52ms/step - loss: 2.3985e-05 - accuracy: 1.8762e-04 - val_loss: 2.9072e-05 - val_accuracy: 0.0000e+00\n"
     ]
    }
   ],
   "source": [
    "# fit and train your model\n",
    "epochs = 5\n",
    "history = model.fit(X_train,y_train,validation_data = (X_test,y_test),epochs =epochs,verbose = True)"
   ]
  },
  {
   "cell_type": "code",
   "execution_count": 161,
   "id": "9139ab1e",
   "metadata": {},
   "outputs": [
    {
     "data": {
      "image/png": "[encoded data removed]",
      "text/plain": [
       "<Figure size 1080x360 with 1 Axes>"
      ]
     },
     "metadata": {
      "needs_background": "light"
     },
     "output_type": "display_data"
    }
   ],
   "source": [
    "plt.figure(figsize = (15,5))\n",
    "plt.plot(history.history['loss'],label = 'loss')\n",
    "plt.plot(history.history['val_loss'],label = 'val_loss')\n",
    "plt.plot(history.history['accuracy'],label = 'accuracy')\n",
    "plt.plot(history.history['val_accuracy'],label = 'val_accuracy')\n",
    "plt.legend()\n",
    "plt.title(\"the model's evaluation\",fontsize = 14)\n",
    "plt.xlabel('Epoch')\n",
    "# plt.xlim(2,5)\n",
    "plt.ylabel('Loss')\n",
    "plt.show()"
   ]
  },
  {
   "cell_type": "code",
   "execution_count": 166,
   "id": "84cb0892",
   "metadata": {},
   "outputs": [
    {
     "name": "stdout",
     "output_type": "stream",
     "text": [
      "(13376, 1)\n",
      "                        price\n",
      "Timestamp                    \n",
      "2011-12-31 06:00:00  0.000002\n",
      "2011-12-31 12:00:00  0.000004\n",
      "2012-01-01 00:00:00  0.000005\n",
      "2012-01-01 12:00:00  0.000009\n",
      "2012-01-01 18:00:00  0.000012\n"
     ]
    },
    {
     "data": {
      "text/plain": [
       "array([[2.07473989e-06],\n",
       "       [3.90078354e-06],\n",
       "       [5.18173954e-06],\n",
       "       [9.43342326e-06],\n",
       "       [1.20498440e-05],\n",
       "       [1.20498440e-05],\n",
       "       [1.72826855e-05],\n",
       "       [1.60211969e-05],\n",
       "       [1.09051599e-05],\n",
       "       [1.68271480e-05],\n",
       "       [2.40690268e-05],\n",
       "       [3.15258260e-05],\n",
       "       [3.54341045e-05],\n",
       "       [3.73691657e-05],\n",
       "       [3.95222619e-05],\n",
       "       [3.76689639e-05],\n",
       "       [3.22180873e-05],\n",
       "       [4.14845775e-05],\n",
       "       [4.31198404e-05],\n",
       "       [4.47551034e-05],\n",
       "       [4.38557088e-05],\n",
       "       [3.83176182e-05],\n",
       "       [3.44529467e-05],\n",
       "       [3.27631750e-05],\n",
       "       [3.78267524e-05],\n",
       "       [4.65211874e-05],\n",
       "       [4.53001911e-05],\n",
       "       [4.79014705e-05],\n",
       "       [4.47551034e-05],\n",
       "       [4.39374719e-05],\n",
       "       [4.96608923e-05],\n",
       "       [4.65538927e-05],\n",
       "       [3.67423149e-05],\n",
       "       [4.06669460e-05],\n",
       "       [4.36610346e-05],\n",
       "       [4.60269746e-05],\n",
       "       [3.64425166e-05],\n",
       "       [3.33082626e-05],\n",
       "       [4.72079979e-05],\n",
       "       [4.00829235e-05],\n",
       "       [3.98493145e-05],\n",
       "       [2.90156973e-05],\n",
       "       [2.85024064e-05],\n",
       "       [3.65787886e-05],\n",
       "       [3.43984379e-05],\n",
       "       [3.16402944e-05],\n",
       "       [4.47551034e-05],\n",
       "       [3.07940458e-05],\n",
       "       [4.29835685e-05],\n",
       "       [4.06669460e-05]])"
      ]
     },
     "execution_count": 166,
     "metadata": {},
     "output_type": "execute_result"
    }
   ],
   "source": [
    "print(df.shape)\n",
    "print(df.head())\n",
    "np.array(df[:50])"
   ]
  },
  {
   "cell_type": "code",
   "execution_count": 195,
   "id": "1a1785f9",
   "metadata": {},
   "outputs": [
    {
     "data": {
      "image/png": "[encoded data removed]",
      "text/plain": [
       "<Figure size 1440x720 with 1 Axes>"
      ]
     },
     "metadata": {
      "needs_background": "light"
     },
     "output_type": "display_data"
    }
   ],
   "source": [
    "preds = []\n",
    "step = 1000\n",
    "start = np.random.randint(len(df)-step-seq_len)\n",
    "for i in range(start,start + step):\n",
    "    pred = model.predict(np.array(df[i:i+seq_len]))\n",
    "    preds.append(pred[-1])\n",
    "\n",
    "preds = np.array(preds)\n",
    "\n",
    "plt.figure(figsize = (20,10))\n",
    "plt.plot(preds,label = 'predict')\n",
    "plt.plot(np.array(df[start:start + step]),label = 'ground-truth')\n",
    "plt.legend()\n",
    "plt.show()"
   ]
  },
  {
   "cell_type": "markdown",
   "id": "6bdf7d29",
   "metadata": {},
   "source": [
    "### build LSTM form scratch\n",
    "\n",
    "Long Short-Term Memory (LSTM) (Hochreiter and Schmidhuber, 1997)\n",
    "\n",
    "![LSTM](LSTM_1.png)\n",
    "\n",
    "**Forget State** decide how many we need to take from previous `cell_state`\n",
    "\n",
    "**Input State** decide how many `input` of the `state` and `hidden layer` of `layer` we need to take from previous\n",
    "\n",
    "**Output State** decide how many we need to take from previous `cell state` to become `output` of the `hidden state` and for calculating `output` $y_{t}$ for `state` t\n",
    "\n",
    "**Forward pass**\n",
    "\n",
    "![LSTM2](LSTM2.png)\n",
    "\n",
    "**Backward propagation though time**\n",
    "\n",
    "![LSTM6](LSTM6.png)\n",
    "\n",
    "In `LSTM` we do care about $\\frac{\\partial{c_{t}}}{\\partial{c_{t-1}}} = f_{t}$ because $ 0 < f_{t} < 1$ so basiclly `LSTM` still have vanishing gradient but it does not effect more as RNN because when we carry information on `cell_state` we don't have to forget the information value in previous cell state so $f_{t} \\simeq 1$ so we can avoid vanishing gradient\n",
    "\n",
    "**Forward pass**\n",
    "\n",
    "We concate `hidden_state` and `x` become `z` as this equation:\n",
    "\n",
    "$$ z_{t} = [h_{t-1},x_{t}] $$\n",
    "\n",
    "By doing this `W` = `(hidden_dim,hidden_dim)` and `U` = `(hidden_dim,seq_len)` in every equation will become one `W` = `(hidden_dim,hidden_dim + seq_len)`\n",
    "\n",
    "- Forget gate: $f_{t} = \\sigma(W_{f}*[h_{t-1},x_{t}] + b_{f})$\n",
    "    + forget gate decided which information hase been retained or dropped\n",
    "\n",
    "\n",
    "- Input gate: $i_{t} = \\sigma(W_{i}*[h_{t-1},x_{t}] + b_{i})$\n",
    "    + input gate decided which information should be saved in cell or dropped\n",
    "\n",
    "\n",
    "- Output gate: $o_{t} = \\sigma(W_{o}*[h_{t-1},x_{t}] + b_{o})$\n",
    "    + ouput gate decided which information should be highlight for the next cell\n",
    "\n",
    "\n",
    "- Candidate cell state: $\\tilde{C_{t}} = tanh(W_{c}*[h_{t-1},x_{t}] + b_{c})$\n",
    "\n",
    "\n",
    "- Cell state: $C_{t} = i_{t}*\\tilde{C_{t}} + f_{t}*C_{t-1}$\n",
    "\n",
    "\n",
    "- New hidden state: $h_{t} = o_{t} * tanh(C_{t})$\n",
    "\n",
    "- Predict: $\\hat{y_{t}} = V*h_{t} + b_{y}$\n",
    "\n",
    "\n",
    "[link1](https://github.com/mukul-rathi/deep-learning-tutorials/blob/master/RecurrentNeuralNet/LSTM.ipynb)  [*link2](https://github.com/CaptainE/RNN-LSTM-in-numpy/blob/master/RNN_LSTM_from_scratch.ipynb)  [*link3](https://github.com/gstechgeek/LSTM_from_scratch/blob/main/lstm_archs.py)  [link4](https://github.com/nicodjimenez/lstm/blob/master/lstm.py)  [link5](https://github.com/PNilay/LSTM-Network-from-Scratch/blob/main/Text%20Generation/Text_Generation_LSTM_V2.ipynb)  [*link6](https://github.com/waynemystir/lstm-numpy/blob/master/nl.py)  [link7](https://github.com/zhenpingli/numpy-lstm-/blob/master/numpy_lstm.ipynb)  [link8](https://github.com/jiexunsee/Numpy-LSTM/blob/master/basiclstm.py)  [*link9](https://github.com/StevenElsworth/LSTM_using_numpy/blob/master/LSTM.py)  [link10](https://github.com/EternalFeather/Numpy-based-Model/blob/master/LSTM.py)  [*link11](https://blog.varunajayasiri.com/numpy_lstm.html)"
   ]
  },
  {
   "cell_type": "code",
   "execution_count": 196,
   "id": "cb5ebb72",
   "metadata": {},
   "outputs": [],
   "source": [
    "# import the libraries\n",
    "import tqdm\n",
    "import math \n",
    "import numpy as np\n",
    "import matplotlib.pyplot as plt"
   ]
  },
  {
   "cell_type": "code",
   "execution_count": 197,
   "id": "9646a2a4",
   "metadata": {},
   "outputs": [],
   "source": [
    "# define activation functions\n",
    "\n",
    "# sigmoid function get value from 0~1\n",
    "def sigmoid(x):\n",
    "    return 1/(1+np.exp(-x))\n",
    "\n",
    "# tanh function get value from -1~1\n",
    "def tanh(x):\n",
    "    return (np.exp(x)-np.exp(-x))/(np.exp(x)+np.exp(-x))"
   ]
  },
  {
   "cell_type": "code",
   "execution_count": 198,
   "id": "974818ef",
   "metadata": {},
   "outputs": [
    {
     "name": "stdout",
     "output_type": "stream",
     "text": [
      "data lenght: 200\n",
      "seq_len: 50\n",
      "num_records: 150\n",
      "X shape (150, 50, 1)\n",
      "Y shape (150, 1)\n",
      "X_val shape (50, 50, 1)\n",
      "Y_val shape (50, 1)\n"
     ]
    },
    {
     "data": {
      "text/plain": [
       "Text(0.5, 1.0, 'sequence data')"
      ]
     },
     "execution_count": 198,
     "metadata": {},
     "output_type": "execute_result"
    },
    {
     "data": {
      "image/png": "[encoded data removed]",
      "text/plain": [
       "<Figure size 864x360 with 1 Axes>"
      ]
     },
     "metadata": {
      "needs_background": "light"
     },
     "output_type": "display_data"
    }
   ],
   "source": [
    "# generate dataset\n",
    "def gen_data(f,seq_len):\n",
    "    '''\n",
    "    Generate custom dataset and return all-dataset,x-training,y-training,x-testing,y-testing\n",
    "    '''\n",
    "    X = []\n",
    "    Y = []\n",
    "    X_val = []\n",
    "    Y_val = []\n",
    "    seq_data =  np.array([(0.5*math.sin(1*f*2*np.pi*x) + 0.5*math.sin(2*f*2*np.pi*x)) for x in np.arange(0,0.4,0.002)])\n",
    "    # training dataset\n",
    "    num_records = len(seq_data) - seq_len\n",
    "    for i in range(num_records):\n",
    "        X.append(seq_data[i:i+seq_len])\n",
    "        Y.append(seq_data[i+seq_len])\n",
    "    # testing dataset\n",
    "    for i in range(num_records - seq_len,num_records):\n",
    "        X_val.append(seq_data[i:i+seq_len])\n",
    "        Y_val.append(seq_data[i+seq_len])\n",
    "    # convert to numpy array\n",
    "    X = np.array(X)\n",
    "    Y = np.array(Y)\n",
    "    X_val = np.array(X_val)\n",
    "    Y_val = np.array(Y_val)\n",
    "    # reshape training and testing dataset\n",
    "    X = np.expand_dims(X,2)\n",
    "    X_val = np.expand_dims(X_val,2)\n",
    "    Y = np.expand_dims(Y,1)\n",
    "    Y_val = np.expand_dims(Y_val,1)\n",
    "    print(f'data lenght: {len(seq_data)}')\n",
    "    print(f'seq_len: {seq_len}')\n",
    "    print(f'num_records: {num_records}')\n",
    "    print(f'X shape {X.shape}')\n",
    "    print(f'Y shape {Y.shape}')\n",
    "    print(f'X_val shape {X_val.shape}')\n",
    "    print(f'Y_val shape {Y_val.shape}')\n",
    "    return seq_data,X,Y,X_val,Y_val\n",
    "\n",
    "# hyperparameter\n",
    "seq_len = 50\n",
    "hidden_dim = 100\n",
    "input_dim = 1\n",
    "output_dim = 1\n",
    "epochs = 6\n",
    "f = 15\n",
    "seq_len = 50\n",
    "seq_data,X,Y,X_val,Y_val = gen_data(f,seq_len)\n",
    "# visualize the seq_wave\n",
    "fig = plt.figure(figsize = (12,5))\n",
    "plt.plot(seq_data)\n",
    "plt.title('sequence data')"
   ]
  },
  {
   "cell_type": "code",
   "execution_count": 199,
   "id": "7913def1",
   "metadata": {},
   "outputs": [
    {
     "name": "stdout",
     "output_type": "stream",
     "text": [
      "hidden_dim: 100\n",
      "hidden_dim + seq_len: 150\n",
      "x: (50, 1)\n",
      "y: (1,)\n",
      "z: (150, 1)\n",
      "W_i: (100, 150) b_i: (100, 1)\n",
      "W_f: (100, 150) b_f: (100, 1)\n",
      "W_o: (100, 150) b_o: (100, 1)\n",
      "W_c: (100, 150) b_c: (100, 1)\n",
      "V: (1, 100) b_y: (1, 1)\n"
     ]
    }
   ],
   "source": [
    "# init matrices we concate hidden_dim and seg_len\n",
    "# get the example in X and Y\n",
    "x = X[0]\n",
    "y = Y[0]\n",
    "h_prev = np.zeros((hidden_dim,1))\n",
    "C_prev = np.zeros((hidden_dim,1))\n",
    "z = np.row_stack((h_prev,x)) # h_t-1,x\n",
    "print(f'hidden_dim: {hidden_dim}')\n",
    "print(f'hidden_dim + seq_len: {hidden_dim + seq_len}')\n",
    "print(f'x: {x.shape}')\n",
    "print(f'y: {y.shape}')\n",
    "print(f'z: {z.shape}')\n",
    "# input gate\n",
    "W_i = np.zeros((hidden_dim,hidden_dim + seq_len))\n",
    "b_i = np.zeros((hidden_dim,1))\n",
    "print(f'W_i: {W_i.shape} b_i: {b_i.shape}')\n",
    "# forget gate\n",
    "W_f = np.zeros((hidden_dim,hidden_dim + seq_len))\n",
    "b_f = np.zeros((hidden_dim,1))\n",
    "print(f'W_f: {W_f.shape} b_f: {b_f.shape}')\n",
    "# output gate\n",
    "W_o = np.zeros((hidden_dim,hidden_dim + seq_len))\n",
    "b_o = np.zeros((hidden_dim,1))\n",
    "print(f'W_o: {W_o.shape} b_o: {b_o.shape}')\n",
    "# candidate cell state\n",
    "W_c = np.zeros((hidden_dim,hidden_dim + seq_len))\n",
    "b_c = np.zeros((hidden_dim,1))\n",
    "print(f'W_c: {W_c.shape} b_c: {b_c.shape}')\n",
    "# predict state\n",
    "V = np.zeros((output_dim,hidden_dim))\n",
    "b_y = np.zeros((1,1))\n",
    "print(f'V: {V.shape} b_y: {b_y.shape}')\n",
    "# wrap all your matrices into a dictionary\n",
    "params = {'W_f':W_f,'b_f':b_f,'W_i':W_i,'b_i':b_i,'W_o':W_o,'b_o':b_o,'W_c':W_c,'b_c':b_c,'V':V,'b_y':b_y}"
   ]
  },
  {
   "cell_type": "code",
   "execution_count": 200,
   "id": "1d5acaa4",
   "metadata": {},
   "outputs": [],
   "source": [
    "def init_params(seq_len = 50,hidden_dim = 100,input_dim = 1,output_dim = 1):\n",
    "    W_i = np.zeros((hidden_dim,hidden_dim + seq_len))\n",
    "    b_i = np.zeros((hidden_dim,1))\n",
    "    # forget gate\n",
    "    W_f = np.zeros((hidden_dim,hidden_dim + seq_len))\n",
    "    b_f = np.zeros((hidden_dim,1))\n",
    "    # output gate\n",
    "    W_o = np.zeros((hidden_dim,hidden_dim + seq_len))\n",
    "    b_o = np.zeros((hidden_dim,1))\n",
    "    # candidate cell state\n",
    "    W_c = np.zeros((hidden_dim,hidden_dim + seq_len))\n",
    "    b_c = np.zeros((hidden_dim,1))\n",
    "    # predict state\n",
    "    V = np.zeros((output_dim,hidden_dim))\n",
    "    b_y = np.zeros((1,1))\n",
    "    # wrap all your matrices into a dictionary\n",
    "    params = {'W_f':W_f,'b_f':b_f,'W_i':W_i,'b_i':b_i,'W_o':W_o,'b_o':b_o,'W_c':W_c,'b_c':b_c,'V':V,'b_y':b_y}\n",
    "    return params "
   ]
  },
  {
   "cell_type": "code",
   "execution_count": 201,
   "id": "3c8a30b9",
   "metadata": {},
   "outputs": [
    {
     "name": "stdout",
     "output_type": "stream",
     "text": [
      "f_t: (100, 1)\n",
      "i_t: (100, 1)\n",
      "o_t: (100, 1)\n",
      "C_til: (100, 1)\n",
      "C_t: (100, 1)\n",
      "h_t: (100, 1)\n",
      "y_hat: (1, 1)\n"
     ]
    }
   ],
   "source": [
    "# forward pass\n",
    "# forget state\n",
    "f_t = sigmoid(W_f @ z + b_f)\n",
    "print(f'f_t: {f_t.shape}')\n",
    "# input state\n",
    "i_t = sigmoid(W_i @ z + b_i)\n",
    "print(f'i_t: {i_t.shape}')\n",
    "# output state\n",
    "o_t = sigmoid(W_o @ z + b_o)\n",
    "print(f'o_t: {o_t.shape}')\n",
    "# candidate cell state\n",
    "C_til = tanh(W_c @ z + b_c)\n",
    "print(f'C_til: {C_til.shape}')\n",
    "# cell state\n",
    "C_t = f_t * C_prev + i_t * C_til\n",
    "print(f'C_t: {C_til.shape}')\n",
    "# hidden state\n",
    "h_t = o_t * tanh(C_t)\n",
    "print(f'h_t: {h_t.shape}')\n",
    "# predict output\n",
    "y_hat = V @ h_t + b_y\n",
    "print(f'y_hat: {y_hat.shape}')"
   ]
  },
  {
   "cell_type": "code",
   "execution_count": 202,
   "id": "4e544ed0",
   "metadata": {},
   "outputs": [],
   "source": [
    "def forward_pass(h_prev,C_prev,x,params):\n",
    "    # row-stack h_prev and x\n",
    "    z = np.row_stack((h_prev,x))\n",
    "    # forget state\n",
    "    f_t = sigmoid(params['W_f'] @ z + params['b_f'])\n",
    "    # input state\n",
    "    i_t = sigmoid(params['W_i'] @ z + params['b_i'])\n",
    "    # output state\n",
    "    o_t = sigmoid(params['W_o'] @ z + params['b_o'])\n",
    "    # candidate cell state\n",
    "    C_til = tanh(params['W_c'] @ z + params['b_c'])\n",
    "    # cell state\n",
    "    C_t = f_t * C_prev + i_t * C_til #trying to make a change in hopless\n",
    "    # hidden state\n",
    "    h_t = o_t * tanh(C_t)\n",
    "    # predict output\n",
    "    y_hat = params['V'] @ h_t + params['b_y']\n",
    "    return h_prev,C_prev,f_t,i_t,o_t,C_til,C_t,h_t,y_hat"
   ]
  },
  {
   "cell_type": "code",
   "execution_count": 203,
   "id": "85279391",
   "metadata": {},
   "outputs": [
    {
     "data": {
      "image/png": "[encoded data removed]",
      "text/plain": [
       "<Figure size 432x288 with 1 Axes>"
      ]
     },
     "metadata": {
      "needs_background": "light"
     },
     "output_type": "display_data"
    }
   ],
   "source": [
    "# init params\n",
    "params = init_params()\n",
    "\n",
    "# init previous state\n",
    "h_prev = np.zeros((hidden_dim,1))\n",
    "C_prev = np.zeros((hidden_dim,1))\n",
    "\n",
    "# preds \n",
    "preds = []\n",
    "\n",
    "for i in range(Y.shape[0]):\n",
    "    x,y = X[i],Y[i]\n",
    "    # feed forward\n",
    "    h_prev,C_prev,f_t,i_t,o_t,C_til,C_t,h_t,y_hat = forward_pass(h_prev,C_prev,x,params)\n",
    "    preds.append(y_hat)\n",
    "\n",
    "preds = np.array(preds)\n",
    "preds = np.squeeze(preds)\n",
    "\n",
    "# predict\n",
    "plt.plot(preds,label = 'pred')\n",
    "plt.plot(Y,label = 'ground-truth')\n",
    "plt.title('LSTM training')\n",
    "plt.legend()\n",
    "plt.show()"
   ]
  },
  {
   "cell_type": "code",
   "execution_count": 204,
   "id": "2a8e2cc4",
   "metadata": {},
   "outputs": [
    {
     "name": "stdout",
     "output_type": "stream",
     "text": [
      "Loss at the first step: [[0.07714669]]\n"
     ]
    }
   ],
   "source": [
    "# calculate loss\n",
    "L_t  = (y - y_hat)**2\n",
    "print(f'Loss at the first step: {L_t}')"
   ]
  },
  {
   "cell_type": "code",
   "execution_count": 205,
   "id": "2f8172ca",
   "metadata": {},
   "outputs": [],
   "source": [
    "def pred_loss(X,Y,params):\n",
    "    \n",
    "    m = X.shape[0] # the number of sample\n",
    "    \n",
    "    # storage predict\n",
    "    preds = []\n",
    "    \n",
    "    # init previous state\n",
    "    h_prev = np.zeros((hidden_dim,1))\n",
    "    C_prev = np.zeros((hidden_dim,1))\n",
    "    \n",
    "    for i in range(Y.shape[0]):\n",
    "        # init\n",
    "        x,y  = X[i],Y[i]\n",
    "        # forward pass\n",
    "        h_prev,C_prev,f_t,i_t,o_t,C_til,C_t,h_t,y_hat = forward_pass(h_prev,C_prev,x,params)\n",
    "        # preds\n",
    "        preds.append(y_hat)\n",
    "        \n",
    "    # convert your predict list into numpy array   \n",
    "    preds = np.array(preds)\n",
    "    preds = np.squeeze(preds)\n",
    "    \n",
    "    # calculate the loss\n",
    "    loss = 1/(2*m)*np.sum((preds - np.squeeze(Y)**2))\n",
    "    \n",
    "    return preds,loss"
   ]
  },
  {
   "cell_type": "code",
   "execution_count": 206,
   "id": "21b07b4e",
   "metadata": {},
   "outputs": [
    {
     "name": "stdout",
     "output_type": "stream",
     "text": [
      "(150,)\n",
      "loss: -0.125\n"
     ]
    }
   ],
   "source": [
    "# init params\n",
    "params = init_params()\n",
    "\n",
    "preds,loss = pred_loss(X,Y,params)\n",
    "\n",
    "print(preds.shape)\n",
    "\n",
    "print(f'loss: {loss}')"
   ]
  },
  {
   "cell_type": "markdown",
   "id": "860969f5",
   "metadata": {},
   "source": [
    "**Backpropagation pass**\n",
    "\n",
    "this backpropagation implement follow this [blog](https://blog.varunajayasiri.com/numpy_lstm.html), in backward pass you have to the calculatation from the end to the top, meaning the `next differentials` is calculated from the previous timestep \n",
    "\n",
    "*Note:*\n",
    "\n",
    "- differential at current timestep of `hidden_state` : $\\frac{\\partial{L}}{\\partial{h_{t}}} = \\frac{\\partial{L_{t}}}{\\partial{h_{t}}}$\n",
    "\n",
    "- differential at current timestep of `cell state` : $\\frac{\\partial{L}}{\\partial{C_{t}}} = \\frac{\\partial{L_{t}}}{\\partial{C_{t}}}$\n",
    "\n",
    "$$ \\frac{\\partial{L}}{\\partial{\\hat{y_{t}}}} = y_{t} - \\hat{y_{t}} \\space [1]$$\n",
    "\n",
    "$$ \\frac{\\partial{L}}{\\partial{h_{t}}}  =  \\frac{\\partial{L_{t+1}}}{\\partial{h_{t}}} + \\frac{\\partial{L}}{\\partial{\\hat{y}_{t}}} \\frac{\\partial{\\hat{y_{t}}}}{\\partial{h_{t}}} = \\frac{\\partial{L_{t+1}}}{\\partial{h_{t}}} + V^{T} *\\frac{\\partial{L}}{\\partial{\\hat{y}_{t}}} \\space [2]$$\n",
    "\n",
    "$$ \\frac{\\partial{L}}{\\partial{C_{t}}} = \\frac{\\partial{L_{t+1}}}{\\partial{C_{t}}} + \\frac{\\partial{L}}{\\partial{h_{t}}} \\frac{\\partial{h_{t}}}{\\partial{C_{t}}} = \\frac{\\partial{L_{t+1}}}{\\partial{C_{t}}} + \\frac{\\partial{L}}{\\partial{h_{t}}}* o_{t}*(1-tanh(C_{t})^{2}) \\space [3]$$\n",
    "\n",
    "$$ \\frac{\\partial{L}}{\\partial{\\tilde{C_{t}}}} = \\frac{\\partial{L}}{\\partial{C_{t}}}\\frac{\\partial{C_{t}}}{\\partial{\\tilde{C_{t}}}} =  \\frac{\\partial{L}}{\\partial{C_{t}}} * i_{t} \\space [4] $$\n",
    "\n",
    "$$ \\frac{\\partial{L}}{\\partial{o_{t}}} = \\frac{\\partial{L}}{\\partial{h_{t}}}\\frac{\\partial{h_{t}}}{\\partial{o_{t}}} =  \\frac{\\partial{L}}{\\partial{h_{t}}} * tanh(C_{t}) \\space [5]$$\n",
    "\n",
    "$$ \\frac{\\partial{L}}{\\partial{i_{t}}} = \\frac{\\partial{L}}{\\partial{C_{t}}}\\frac{\\partial{C_{t}}}{\\partial{i_{t}}} = \\frac{\\partial{L}}{\\partial{C_{t}}} * \\tilde{C_{t}} \\space [6] $$\n",
    "\n",
    "$$ \\frac{\\partial{L}}{\\partial{f_{t}}} = \\frac{\\partial{L}}{\\partial{C_{t}}}\\frac{\\partial{C_{t}}}{\\partial{f_{t}}} = \\frac{\\partial{L}}{\\partial{C_{t}}} * C_{t-1} \\space [7] $$\n",
    "\n",
    "Because $ z_{t} = [h_{t-1},x_{t}] $ so $ \\frac{\\partial{L}}{\\partial{z_{t}}} = [\\frac{\\partial{L}}{\\partial{h_{t-1}}},\\frac{\\partial{L}}{\\partial{x_{t}}}] = [\\frac{\\partial{L_{t}}}{\\partial{h_{t-1}}},\\frac{\\partial{L}}{\\partial{x_{t}}}]$ We will forcus on $\\frac{\\partial{L_{t}}}{\\partial{h_{t-1}}}$ we will use this term to the next calculation as `next differentials` of `hidden_state`\n",
    "\n",
    "$$ \\frac{\\partial{L}}{\\partial{z_{t}}} = \\frac{\\partial{L}}{\\partial{f_{t}}}\\frac{\\partial{f_{t}}}{\\partial{z_{t}}} + \\frac{\\partial{L}}{\\partial{i_{t}}}\\frac{\\partial{i_{t}}}{\\partial{z_{t}}} + \\frac{\\partial{L}}{\\partial{C_{t}}}\\frac{\\partial{C_{t}}}{\\partial{z_{t}}} + \\frac{\\partial{L}}{\\partial{o_{t}}}\\frac{\\partial{o_{t}}}{\\partial{z_{t}}} $$\n",
    "\n",
    "$$ \\frac{\\partial{L}}{\\partial{z_{t}}} = W_f^{T}*f_{t}*(1-f_{t})*\\frac{\\partial{L}}{\\partial{f_{t}}} +  W_i^{T}*i_{t}*(1-i_{t})*\\frac{\\partial{L}}{\\partial{i_{t}}} + W_C^{T}*(1-\\tilde{C_{t}}^{2})*\\frac{\\partial{L}}{\\partial{C_{t}}} +  W_o^{T}*o_{t}*(1-o_{t})*\\frac{\\partial{L}}{\\partial{o_{t}}} \\space [8]$$\n",
    "\n",
    "$$ \\frac{\\partial{L_{t}}}{\\partial{{C_{t-1}}}} = \\frac{\\partial{L}}{\\partial{{C_{t}}}} \\frac{\\partial{C_{t}}}{\\partial{C_{t-1}}} = f_{t} * \\frac{\\partial{L}}{\\partial{C_{t}}} \\space [9] $$ \n",
    "\n",
    "we will use this term to the next calculation as `next differentials` of `cell_state`\n",
    "\n",
    "Model parameter gradient\n",
    "\n",
    "$$ \\frac{\\partial{L}}{\\partial{V}} = \\frac{\\partial{L}}{\\partial{\\hat{y_{t}}}} \\frac{\\partial{\\hat{y_{t}}}}{\\partial{V}} = \\frac{\\partial{L}}{\\partial{\\hat{y_{t}}}} . h_{t}^{T} \\space [10] $$\n",
    "\n",
    "$$ \\frac{\\partial{L}}{\\partial{b_{y}}} = \\frac{\\partial{L}}{\\partial{\\hat{y_{t}}}} \\space [11] $$\n",
    "\n",
    "$$ \\frac{\\partial{L}}{\\partial{W_c}} = \\frac{\\partial{L}}{\\partial{\\tilde{C_{t}}}} \\frac{\\partial{\\tilde{C_{t}}}}{\\partial{W_{c}}} = \\frac{\\partial{L}}{\\partial{\\tilde{C_{t}}}} * (1-\\tilde{C_{t}}^{2}) . z_{t}^{T} \\space [12]$$\n",
    "\n",
    "$$ \\frac{\\partial{L}}{\\partial{b_c}} = \\frac{\\partial{L}}{\\partial{\\tilde{C_{t}}}} \\frac{\\partial{\\tilde{C_{t}}}}{\\partial{b_{c}}} = \\frac{\\partial{L}}{\\partial{\\tilde{C_{t}}}} * (1-\\tilde{C_{t}}^{2}).1 \\space [13]$$\n",
    "\n",
    "$$ \\frac{\\partial{L}}{\\partial{W_o}} = \\frac{\\partial{L}}{\\partial{o_{t}}} \\frac{\\partial{o_{t}}}{\\partial{W_{o}}} = \\frac{\\partial{L}}{\\partial{o_{t}}}*o_{t}*(1-o_{t}).z_{t}^{T} \\space [14]$$\n",
    "\n",
    "$$ \\frac{\\partial{L}}{\\partial{b_o}} = \\frac{\\partial{L}}{\\partial{f_{o}}} \\frac{\\partial{f_{o}}}{\\partial{b_{o}}} = \\frac{\\partial{L}}{\\partial{f_{o}}}*o_{t}*(1-o_{t}).1 \\space [15]$$\n",
    "\n",
    "$$ \\frac{\\partial{L}}{\\partial{W_i}} = \\frac{\\partial{L}}{\\partial{i_{t}}} \\frac{\\partial{i_{t}}}{\\partial{W_{i}}} = \\frac{\\partial{L}}{\\partial{i_{t}}}*i_{t}*(1-i_{t}).z_{t}^{T} \\space [16]$$\n",
    "\n",
    "$$ \\frac{\\partial{L}}{\\partial{b_i}} = \\frac{\\partial{L}}{\\partial{i_{t}}} \\frac{\\partial{i_{t}}}{\\partial{b_{i}}} = \\frac{\\partial{L}}{\\partial{i_{t}}}*i_{t}*(1-i_{t}).1 \\space [17]$$\n",
    "\n",
    "$$ \\frac{\\partial{L}}{\\partial{W_f}} = \\frac{\\partial{L}}{\\partial{f_{t}}} \\frac{\\partial{f_{t}}}{\\partial{W_{f}}} = \\frac{\\partial{L}}{\\partial{f_{t}}}*f_{t}*(1-f_{t}).z_{t}^{T} \\space [18]$$\n",
    "\n",
    "$$ \\frac{\\partial{L}}{\\partial{b_f}} = \\frac{\\partial{L}}{\\partial{f_{t}}} \\frac{\\partial{f_{t}}}{\\partial{b_{f}}} = \\frac{\\partial{L}}{\\partial{f_{t}}}*f_{t}*(1-f_{t}).1 \\space [19]$$\n",
    "\n",
    "After that we will do the gradient descent\n",
    "$$ V += lr * \\frac{\\partial{L}}{\\partial{V}} \\space;\\space b_y += lr * \\frac{\\partial{L}}{\\partial{b_y}}$$\n",
    "$$ W_c += lr * \\frac{\\partial{L}}{\\partial{W_c}} \\space;\\space b_c  += lr * \\frac{\\partial{L}}{\\partial{b_c}}$$\n",
    "\n",
    "$$ W_o += lr * \\frac{\\partial{L}}{\\partial{W_o}} \\space;\\space b_o  += lr * \\frac{\\partial{L}}{\\partial{b_o}}$$\n",
    "\n",
    "$$ W_i += lr * \\frac{\\partial{L}}{\\partial{W_i}} \\space;\\space b_i  += lr * \\frac{\\partial{L}}{\\partial{b_i}}$$\n",
    "\n",
    "$$ W_f  += lr * \\frac{\\partial{L}}{\\partial{W_f}} \\space;\\space b_f  += lr * \\frac{\\partial{L}}{\\partial{b_f}}$$\n"
   ]
  },
  {
   "cell_type": "code",
   "execution_count": 207,
   "id": "c768f464",
   "metadata": {},
   "outputs": [
    {
     "name": "stdout",
     "output_type": "stream",
     "text": [
      "dLdy: (1, 1)\n",
      "dLdh: (100, 1)\n",
      "dLdC: (100, 1)\n",
      "dLdC_til: (100, 1)\n",
      "dLdo: (100, 1)\n",
      "dLdi: (100, 1)\n",
      "dLdf: (100, 1)\n",
      "dLdz: (150, 1)\n",
      "dLdC_next: (100, 1)\n",
      "dLdh_next: (100, 1)\n",
      "dLdV: (1, 100)\n",
      "dLdb_y: (1, 1)\n",
      "dLdW_c: (100, 150)\n",
      "dLdb_c: (100, 1)\n",
      "dLdW_o: (100, 150)\n",
      "dLdb_o: (100, 1)\n",
      "dLdW_i: (100, 150)\n",
      "dLdb_i: (100, 1)\n",
      "dLdW_f: (100, 150)\n",
      "dLdb_f: (100, 1)\n"
     ]
    }
   ],
   "source": [
    "# backward pass\n",
    "# in the begining we have to init dLdC_next and dLdh_next as zero\n",
    "dLdC_next = np.zeros((hidden_dim,1))\n",
    "dLdh_next = np.zeros((hidden_dim,1))\n",
    "# [1] dLdy\n",
    "dLdy = y - y_hat\n",
    "print(f'dLdy: {dLdy.shape}')\n",
    "# [2] dLdh\n",
    "dLdh = dLdh_next + V.T @ dLdy # (100,1) + (100,1)x(1,1)\n",
    "print(f'dLdh: {dLdh.shape}')\n",
    "# [3] dLdC\n",
    "dLdC = dLdC_next + dLdh * o_t * (1-tanh(C_t)**2)\n",
    "print(f'dLdC: {dLdC.shape}')\n",
    "# [4] dLdC_til\n",
    "dLdC_til = dLdC * i_t\n",
    "print(f'dLdC_til: {dLdC_til.shape}')\n",
    "# [5] dLdo\n",
    "dLdo = dLdh * tanh(C_t)\n",
    "print(f'dLdo: {dLdo.shape}')\n",
    "# [6] dLdi\n",
    "dLdi = dLdC * C_til\n",
    "print(f'dLdi: {dLdi.shape}')\n",
    "# [7] dLdi\n",
    "dLdf = dLdC * C_prev\n",
    "print(f'dLdf: {dLdf.shape}')\n",
    "# [8] dLdz\n",
    "dLdz = W_f.T @ (f_t*(1-f_t)*dLdf) + W_i.T @ (i_t*(1-i_t)*dLdi) + W_c.T @ ((1-C_til**2)*dLdC_til) + W_o.T @ (o_t*(1-o_t)*dLdo)\n",
    "print(f'dLdz: {dLdz.shape}')\n",
    "# update dLdC_next and dLdh_next\n",
    "dLdC_next = f_t * dLdC\n",
    "print(f'dLdC_next: {dLdC_next.shape}')\n",
    "dLdh_next = dLdz[:100]\n",
    "print(f'dLdh_next: {dLdh_next.shape}')\n",
    "# calculate model parameter gradient\n",
    "dLdV = dLdy @ h_t.T\n",
    "dLdb_y = dLdy\n",
    "print(f'dLdV: {dLdV.shape}')\n",
    "print(f'dLdb_y: {dLdb_y.shape}')\n",
    "dLdW_c = dLdC_til @ z.T\n",
    "dLdb_c = dLdC_til\n",
    "print(f'dLdW_c: {dLdW_c.shape}')\n",
    "print(f'dLdb_c: {dLdb_c.shape}')\n",
    "dLdW_o = dLdo @ z.T\n",
    "dLdb_o = dLdo\n",
    "print(f'dLdW_o: {dLdW_o.shape}')\n",
    "print(f'dLdb_o: {dLdb_o.shape}')\n",
    "dLdW_i = dLdi @ z.T\n",
    "dLdb_i = dLdi\n",
    "print(f'dLdW_i: {dLdW_i.shape}')\n",
    "print(f'dLdb_i: {dLdb_i.shape}')\n",
    "dLdW_f = dLdf @ z.T\n",
    "dLdb_f = dLdf\n",
    "print(f'dLdW_f: {dLdW_f.shape}')\n",
    "print(f'dLdb_f: {dLdb_f.shape}')"
   ]
  },
  {
   "cell_type": "code",
   "execution_count": 208,
   "id": "fafc1771",
   "metadata": {},
   "outputs": [],
   "source": [
    "def backward_pass(x,y,z,t,layers,params,dLdh_next,dLdC_next):\n",
    "    # [1] dLdy\n",
    "    dLdy = y - layers[t]['y_hat']\n",
    "    # [2] dLdh\n",
    "    dLdh = dLdh_next + params['V'].T @ dLdy \n",
    "    # [3] dLdC\n",
    "    dLdC = dLdC_next + dLdh * layers[t]['o'] * (1-tanh(layers[t]['c'])**2)\n",
    "    # [4] dLdC_til\n",
    "    dLdC_til = dLdC * layers[t]['i']\n",
    "    # [5] dLdo\n",
    "    dLdo = dLdh * tanh(layers[t]['c'])\n",
    "    # [6] dLdi\n",
    "    dLdi = dLdC * layers[t]['c_til']\n",
    "    # [7] dLdi\n",
    "    dLdf = dLdC * layers[t]['c_prev']\n",
    "    # [8] dLdz\n",
    "    dLdz =params['W_f'].T @ (layers[t]['f']*(1-layers[t]['f'])*dLdf) + \\\n",
    "    params['W_i'].T @ (layers[t]['i']*(1-layers[t]['i'])*dLdi) + \\\n",
    "    params['W_c'].T @ ((1-layers[t]['c_til']**2)*dLdC_til) + \\\n",
    "    params['W_o'].T @ (layers[t]['o']*(1-layers[t]['o'])*dLdo)\n",
    "    # update dLdC_next and dLdh_next\n",
    "    dLdC_next = layers[t]['f'] * dLdC\n",
    "    dLdh_next = dLdz[:100]\n",
    "    # calculate model parameter gradient\n",
    "    dLdV = dLdy @ layers[t]['h'].T\n",
    "    dLdb_y = dLdy\n",
    "    dLdW_c = dLdC_til @ z.T\n",
    "    dLdb_c = dLdC_til\n",
    "    dLdW_o = dLdo @ z.T\n",
    "    dLdb_o = dLdo\n",
    "    dLdW_i = dLdi @ z.T\n",
    "    dLdb_i = dLdi\n",
    "    dLdW_f = dLdf @ z.T\n",
    "    dLdb_f = dLdf\n",
    "    \n",
    "    return dLdC_next,dLdh_next,dLdV,dLdb_y,dLdW_c,dLdb_c,dLdW_o,dLdb_o,dLdW_i,dLdb_i,dLdW_f,dLdb_f"
   ]
  },
  {
   "cell_type": "code",
   "execution_count": 209,
   "id": "d9285763",
   "metadata": {},
   "outputs": [],
   "source": [
    "def init_grads(params):\n",
    "    # for backward\n",
    "    dLdV = np.zeros(params['V'].shape)\n",
    "    dLdb_y = np.zeros(params['b_y'].shape)\n",
    "    dLdW_c = np.zeros(params['W_c'].shape)\n",
    "    dLdb_c = np.zeros(params['b_c'].shape)\n",
    "    dLdW_o = np.zeros(params['W_o'].shape)\n",
    "    dLdb_o = np.zeros(params['b_o'].shape)\n",
    "    dLdW_i = np.zeros(params['W_i'].shape)\n",
    "    dLdb_i = np.zeros(params['b_i'].shape)\n",
    "    dLdW_f = np.zeros(params['W_f'].shape)\n",
    "    dLdb_f = np.zeros(params['b_f'].shape)\n",
    "\n",
    "    grads = {'dLdV':dLdV,'dLdb_y':dLdb_y,\n",
    "             'dLdW_c':dLdW_c,'dLdb_c':dLdb_c,\n",
    "             'dLdW_o':dLdW_o,'dLdb_o':dLdb_o,\n",
    "             'dLdW_i':dLdW_i,'dLdb_i':dLdb_i,\n",
    "             'dLdW_f':dLdW_f,'dLdb_f':dLdb_f}\n",
    "    \n",
    "    return grads"
   ]
  },
  {
   "cell_type": "code",
   "execution_count": 210,
   "id": "21344ccd",
   "metadata": {},
   "outputs": [],
   "source": [
    "# init params\n",
    "params = init_params()\n",
    "\n",
    "layers = []\n",
    "\n",
    "# for backward\n",
    "grads = init_grads(params)\n",
    "\n",
    "# FORWARD PASS\n",
    "# init previous state\n",
    "h_prev = np.zeros((hidden_dim,1))\n",
    "C_prev = np.zeros((hidden_dim,1))\n",
    "\n",
    "for t in range(Y.shape[0]):\n",
    "    x,y = X[t],Y[t]\n",
    "    # feed forward\n",
    "    h_prev,C_prev,f_t,i_t,o_t,c_til,c_t,h_t,y_hat = forward_pass(h_prev,C_prev,x,params) # i do a litle trick here\n",
    "    layers.append({'h_prev':h_prev,'c_prev':C_prev,'f':f_t,'i':i_t,'o':o_t,'c_til':c_til,'c':c_t,'h':h_t,'y_hat':y_hat})\n",
    "    \n",
    "# BACKWARD PASS\n",
    "dLdC_next = np.zeros((hidden_dim,1))\n",
    "dLdh_next = np.zeros((hidden_dim,1))\n",
    "\n",
    "for t in reversed(range(Y.shape[0])):\n",
    "    x,y = X[t],Y[t]\n",
    "    z = np.concatenate((layers[t]['h'],x))\n",
    "    dLdC_next,dLdh_next,dLdV,dLdb_y,dLdW_c,dLdb_c,dLdW_o,dLdb_o,dLdW_i,dLdb_i,dLdW_f,dLdb_f = backward_pass(x,y,z,t,layers,params,dLdh_next,dLdC_next)\n",
    "    # accumlate the differential\n",
    "    grads['dLdV'] += dLdV\n",
    "    grads['dLdb_y'] += dLdb_y\n",
    "    grads['dLdW_c'] += dLdW_c\n",
    "    grads['dLdb_c'] += dLdb_c\n",
    "    grads['dLdW_o'] += dLdW_o\n",
    "    grads['dLdb_o'] += dLdb_o\n",
    "    grads['dLdW_i'] += dLdW_i\n",
    "    grads['dLdb_i'] += dLdb_i\n",
    "    grads['dLdW_f'] += dLdW_f\n",
    "    grads['dLdb_f'] += dLdb_f"
   ]
  },
  {
   "cell_type": "code",
   "execution_count": 211,
   "id": "f1f35e98",
   "metadata": {},
   "outputs": [],
   "source": [
    "def train(hidden_dim,X,Y,params,grads):\n",
    "    \n",
    "    layers = [] # layers storage params in forward pass\n",
    "    \n",
    "    # FORWARD PASS\n",
    "    # init previous state\n",
    "    h_prev = np.zeros((hidden_dim,1))\n",
    "    C_prev = np.zeros((hidden_dim,1))\n",
    "\n",
    "    for t in range(Y.shape[0]):\n",
    "        x,y = X[t],Y[t]\n",
    "        # feed forward\n",
    "        h_prev,C_prev,f_t,i_t,o_t,c_til,c_t,h_t,y_hat = forward_pass(h_prev,C_prev,x,params) # i do a litle trick here\n",
    "        layers.append({'h_prev':h_prev,\n",
    "                       'c_prev':C_prev,\n",
    "                       'f':f_t,\n",
    "                       'i':i_t,\n",
    "                       'o':o_t,\n",
    "                       'c_til':c_til,\n",
    "                       'c':c_t,\n",
    "                       'h':h_t,\n",
    "                       'y_hat':y_hat}\n",
    "                     )\n",
    "\n",
    "    # BACKWARD PASS\n",
    "    dLdC_next = np.zeros((hidden_dim,1))\n",
    "    dLdh_next = np.zeros((hidden_dim,1))\n",
    "\n",
    "    for t in reversed(range(Y.shape[0])): # change reversed\n",
    "        x,y = X[t],Y[t]\n",
    "        z = np.concatenate((layers[t]['h'],x))\n",
    "        dLdC_next,dLdh_next,dLdV,dLdb_y,dLdW_c,dLdb_c,dLdW_o,dLdb_o,dLdW_i,dLdb_i,dLdW_f,dLdb_f = backward_pass(x,y,z,t,layers,params,dLdh_next,dLdC_next)\n",
    "        # accumlate the differential\n",
    "        grads['dLdV'] += dLdV\n",
    "        grads['dLdb_y'] += dLdb_y\n",
    "        grads['dLdW_c'] += dLdW_c\n",
    "        grads['dLdb_c'] += dLdb_c\n",
    "        grads['dLdW_o'] += dLdW_o\n",
    "        grads['dLdb_o'] += dLdb_o\n",
    "        grads['dLdW_i'] += dLdW_i\n",
    "        grads['dLdb_i'] += dLdb_i\n",
    "        grads['dLdW_f'] += dLdW_f\n",
    "        grads['dLdb_f'] += dLdb_f\n",
    "        \n",
    "    return grads"
   ]
  },
  {
   "cell_type": "code",
   "execution_count": 212,
   "id": "f1ce0e1f",
   "metadata": {},
   "outputs": [
    {
     "name": "stdout",
     "output_type": "stream",
     "text": [
      "epoch: 0 loss: -0.125\n",
      "epoch: 1 loss: -0.12235527625164859\n",
      "epoch: 2 loss: -0.11931384394104451\n",
      "epoch: 3 loss: -0.1158161967838498\n",
      "epoch: 4 loss: -0.11179390255307586\n",
      "epoch: 5 loss: -0.10716826418768587\n",
      "epoch: 6 loss: -0.10184878006748734\n",
      "epoch: 7 loss: -0.09573137332925906\n",
      "epoch: 8 loss: -0.08869635558029652\n",
      "epoch: 9 loss: -0.0806060851689896\n",
      "epoch: 10 loss: -0.07130227419598667\n",
      "epoch: 11 loss: -0.060602891577033274\n",
      "epoch: 12 loss: -0.048298601565236875\n",
      "epoch: 13 loss: -0.034148668051671015\n",
      "epoch: 14 loss: -0.017876244511070272\n",
      "epoch: 15 loss: 0.0008370425606205689\n",
      "epoch: 15 STOP TRAINING!\n"
     ]
    }
   ],
   "source": [
    "# hyperparameter\n",
    "seq_len = 20\n",
    "hidden_dim = 100\n",
    "output_dim = 1\n",
    "epochs = 50\n",
    "seq_len = 50\n",
    "learning_rate = 1e-3\n",
    "stopping_loss = 0.002\n",
    "\n",
    "# init params\n",
    "params = init_params()\n",
    "\n",
    "for epoch in range(epochs):\n",
    "    \n",
    "    # calculate the loss\n",
    "    preds,loss = pred_loss(X,Y,params)\n",
    "    print(f'epoch: {epoch} loss: {loss}')\n",
    "    \n",
    "    if abs(loss) < stopping_loss:\n",
    "        print(f'epoch: {epoch} STOP TRAINING!')\n",
    "        break\n",
    "    \n",
    "    # init gradients\n",
    "    grads = init_grads(params)\n",
    "    \n",
    "    # get gradients\n",
    "    grads = train(hidden_dim,X,Y,params,grads)\n",
    "    \n",
    "    # update gradient descent\n",
    "    params['V'] -= learning_rate * grads['dLdV']\n",
    "    params['b_y'] -= learning_rate * grads['dLdb_y']\n",
    "    params['W_o'] -= learning_rate * grads['dLdW_o']\n",
    "    params['b_o'] -= learning_rate * grads['dLdb_o']\n",
    "    params['W_c'] -= learning_rate * grads['dLdW_c']\n",
    "    params['b_c'] -= learning_rate * grads['dLdb_c']\n",
    "    params['W_i'] -= learning_rate * grads['dLdW_i']\n",
    "    params['b_i'] -= learning_rate * grads['dLdb_i']\n",
    "    params['W_f'] -= learning_rate * grads['dLdW_f']\n",
    "    params['b_f'] -= learning_rate * grads['dLdb_f']\n",
    "    "
   ]
  },
  {
   "cell_type": "code",
   "execution_count": 213,
   "id": "d8766b99",
   "metadata": {},
   "outputs": [
    {
     "data": {
      "image/png": "[encoded data removed]",
      "text/plain": [
       "<Figure size 432x288 with 1 Axes>"
      ]
     },
     "metadata": {
      "needs_background": "light"
     },
     "output_type": "display_data"
    }
   ],
   "source": [
    "plt.plot(preds,label = 'pred')\n",
    "plt.plot(Y,label = 'ground-truth')\n",
    "plt.title('LSTM training')\n",
    "plt.legend()\n",
    "plt.show()"
   ]
  },
  {
   "cell_type": "code",
   "execution_count": 88,
   "id": "32b92705",
   "metadata": {},
   "outputs": [],
   "source": [
    "class LSTM():\n",
    "    def __init__(self,seq_len = 50,hidden_dim = 100,input_dim = 1,output_dim = 1):\n",
    "        self.seq_len = seq_len\n",
    "        self.hidden_dim = hidden_dim\n",
    "        self.input_dim = input_dim\n",
    "        self.output_dim = output_dim\n",
    "        # init matrices\n",
    "        # input gate\n",
    "        self.W_i = np.zeros((hidden_dim,hidden_dim + seq_len))\n",
    "        self.b_i = np.zeros((hidden_dim,1))\n",
    "        # forget gate\n",
    "        self.W_f = np.zeros((hidden_dim,hidden_dim + seq_len))\n",
    "        self.b_f = np.zeros((hidden_dim,1))\n",
    "        # output gate\n",
    "        self.W_o = np.zeros((hidden_dim,hidden_dim + seq_len))\n",
    "        self.b_o = np.zeros((hidden_dim,1))\n",
    "        # candidate cell state\n",
    "        self.W_c = np.zeros((hidden_dim,hidden_dim + seq_len))\n",
    "        self.b_c = np.zeros((hidden_dim,1))\n",
    "        # predict state\n",
    "        self.V = np.zeros((output_dim,hidden_dim))\n",
    "        self.b_y = np.zeros((1,1))\n",
    "        \n",
    "    def forward_pass(self,x):\n",
    "        layers = []\n",
    "        # init matrices\n",
    "        h_prev = np.zeros((self.hidden_dim,1))\n",
    "        C_prev = np.zeros((self.hidden_dim,1))\n",
    "        for t in range(x.shape[0]):\n",
    "            # new_input\n",
    "            x_t = np.zeros(x.shape)\n",
    "            x_t[t] = x[t]\n",
    "            # z\n",
    "            z = np.row_stack((h_prev,x_t))\n",
    "            # forget state\n",
    "            f_t = sigmoid(self.W_f @ z + self.b_f)\n",
    "            # input state\n",
    "            i_t = sigmoid(self.W_i @ z + self.b_i)\n",
    "            # output state\n",
    "            o_t = sigmoid(self.W_o @ z + self.b_o)\n",
    "            # candidate cell state\n",
    "            C_til = tanh(self.W_c @ z + self.b_c)\n",
    "            # cell state\n",
    "            C_t = f_t * C_prev + i_t * C_til\n",
    "            # hidden state\n",
    "            h_t = o_t * tanh(C_t)\n",
    "            # predict output\n",
    "            y_hat = self.V @ h_t + self.b_y\n",
    "            layers.append({'z':z,'h_prev':h_prev,'h':h_t,'C_prev':C_prev,'C_til':C_til,'C':C_t,'o':o_t,'i':i_t,'f':f_t})\n",
    "            # update previous cell state and hidden state\n",
    "            h_prev = h_t\n",
    "            C_prev = C_t\n",
    "        return layers,y_hat\n",
    "    \n",
    "    def calc_loss(self,X,Y):\n",
    "        loss = 0.0\n",
    "        m = Y.shape[0]\n",
    "        for i in range(m):\n",
    "            x,y = X[i],Y[i]\n",
    "            _,y_hat = self.forward_pass(x)\n",
    "            loss += (y-y_hat)**2\n",
    "        loss = 1/(2*m) * np.float(loss)\n",
    "        return loss\n",
    "\n",
    "    def predict(self,X):\n",
    "        preds = []\n",
    "        m = X.shape[0] # number of samples\n",
    "        for i in range(m):\n",
    "            x = X[i]\n",
    "            _,y_hat = self.forward_pass(x)\n",
    "            preds.append(y_hat)\n",
    "        # convert to numpy array\n",
    "        preds = np.array(preds)\n",
    "        preds = np.squeeze(preds)\n",
    "        return preds\n",
    "    \n",
    "    def bptt(self,x,y,layers,y_hat,dLdh_next,dLdC_next,min_val=-10,max_val=10):\n",
    "        # backward pass\n",
    "        # in the begining matrices\n",
    "        dLdV = np.zeros(self.V.shape)\n",
    "        dLdb_y = np.zeros(self.b_y.shape)\n",
    "        dLdW_c = np.zeros(self.W_c.shape)\n",
    "        dLdb_c = np.zeros(self.b_c.shape)\n",
    "        dLdW_o = np.zeros(self.W_o.shape)\n",
    "        dLdb_o = np.zeros(self.b_o.shape)\n",
    "        dLdW_i = np.zeros(self.W_i.shape)\n",
    "        dLdb_i = np.zeros(self.b_i.shape)\n",
    "        dLdW_f = np.zeros(self.W_f.shape)\n",
    "        dLdb_f = np.zeros(self.b_f.shape)\n",
    "        # [1] dLdy\n",
    "        dLdy = y - y_hat\n",
    "        for t in reversed(range(x.shape[0])):\n",
    "            # [2] dLdh\n",
    "            dLdh = dLdh_next + self.V.T @ dLdy # (100,1) + (100,1)x(1,1)\n",
    "            # [3] dLdC\n",
    "            dLdC = dLdC_next + dLdh * layers[t]['o'] * (1-tanh(layers[t]['C'])**2)\n",
    "            # [4] dLdC_til\n",
    "            dLdC_til = dLdC * layers[t]['i']\n",
    "            # [5] dLdo\n",
    "            dLdo = dLdh * tanh(layers[t]['C'])\n",
    "            # [6] dLdi\n",
    "            dLdi = dLdC * C_til\n",
    "            # [7] dLdi\n",
    "            dLdf = dLdC * C_prev\n",
    "            # [8] dLdz\n",
    "            dLdz = W_f.T @ (layers[t]['f']*(1-layers[t]['f'])*dLdf) + W_i.T @ (layers[t]['i']*(1-layers[t]['i'])*dLdi) +\\\n",
    "            W_c.T @ ((1-C_til**2)*dLdC_til) + W_o.T @ (layers[t]['o']*(1-layers[t]['o'])*dLdo)\n",
    "            # update dLdC_next and dLdh_next\n",
    "            dLdC_next = layers[t]['f'] * dLdC\n",
    "            dLdh_next = dLdz[:100]\n",
    "            # calculate model parameter gradient\n",
    "            dLdV += dLdy @ layers[t]['h'].T\n",
    "            dLdb_y += dLdy\n",
    "            dLdW_c += dLdC_til @ z.T\n",
    "            dLdb_c += dLdC_til\n",
    "            dLdW_o += dLdo @ layers[t]['z'].T\n",
    "            dLdb_o += dLdo\n",
    "            dLdW_i += dLdi @ layers[t]['z'].T\n",
    "            dLdb_i += dLdi\n",
    "            dLdW_f += dLdf @ layers[t]['z'].T\n",
    "            dLdb_f += dLdf\n",
    "        \n",
    "        return dLdC_next, dLdh_next,dLdV,dLdb_y,dLdW_c, dLdb_c, dLdW_o, dLdb_o, dLdW_i, dLdb_i, dLdW_f,dLdb_f\n",
    "    \n",
    "    def train (self,X,Y,epochs,learning_rate,min_val,max_val,verbose = True):\n",
    "        # storage lost\n",
    "        losses = []\n",
    "        for epoch in range(epochs):\n",
    "            loss = self.calc_loss(X,Y)\n",
    "            losses.append(loss)\n",
    "            title = f'epoch: {epoch} loss: {loss}'\n",
    "            if verbose: print(title)\n",
    "                \n",
    "            dLdC_next = np.zeros((hidden_dim,1))\n",
    "            dLdh_next = np.zeros((hidden_dim,1))\n",
    "            \n",
    "            for i in tqdm.tqdm(range(X.shape[0])):\n",
    "                x,y = X[i],Y[i]\n",
    "                # forward pass\n",
    "                layers,y_hat = self.forward_pass(x)\n",
    "                # backward pass\n",
    "                dLdC_next, dLdh_next,dLdV,dLdb_y,dLdW_c, dLdb_c, dLdW_o, dLdb_o, dLdW_i, dLdb_i, dLdW_f,dLdb_f = self.bptt(x,y,layers,y_hat,dLdh_next,dLdC_next,min_val=min_val,max_val=max_val)\n",
    "                # gradient descent\n",
    "                self.V -= learning_rate * dLdV\n",
    "                self.b_y -= learning_rate * dLdb_y\n",
    "                self.W_c -= learning_rate * dLdW_c\n",
    "                self.b_c -= learning_rate * dLdb_c\n",
    "                self.W_o -= learning_rate * dLdW_o\n",
    "                self.b_o -= learning_rate * dLdb_o\n",
    "                self.W_i -= learning_rate * dLdW_i\n",
    "                self.b_i -= learning_rate * dLdb_i\n",
    "                self.W_f -= learning_rate * dLdW_f\n",
    "                self.b_f -= learning_rate * dLdb_f\n",
    "        \n",
    "        return losses\n",
    "        "
   ]
  },
  {
   "cell_type": "code",
   "execution_count": 90,
   "id": "3c394cdb",
   "metadata": {},
   "outputs": [
    {
     "name": "stdout",
     "output_type": "stream",
     "text": [
      "y_hat: [[0.]]\n",
      "loss: 0.125\n"
     ]
    }
   ],
   "source": [
    "node = LSTM()\n",
    "\n",
    "layers,y_hat = node.forward_pass(x)\n",
    "print(f'y_hat: {y_hat}')\n",
    "\n",
    "loss = node.calc_loss(X,Y)\n",
    "print(f'loss: {loss}')"
   ]
  },
  {
   "cell_type": "code",
   "execution_count": 91,
   "id": "cdfb41fb",
   "metadata": {},
   "outputs": [
    {
     "name": "stderr",
     "output_type": "stream",
     "text": [
      "  2%|▏         | 3/150 [00:00<00:05, 27.03it/s]"
     ]
    },
    {
     "name": "stdout",
     "output_type": "stream",
     "text": [
      "epoch: 0 loss: 0.125\n"
     ]
    },
    {
     "name": "stderr",
     "output_type": "stream",
     "text": [
      "100%|██████████| 150/150 [00:05<00:00, 28.40it/s]\n",
      "  2%|▏         | 3/150 [00:00<00:05, 25.42it/s]"
     ]
    },
    {
     "name": "stdout",
     "output_type": "stream",
     "text": [
      "epoch: 1 loss: 3666.2370108048976\n"
     ]
    },
    {
     "name": "stderr",
     "output_type": "stream",
     "text": [
      "100%|██████████| 150/150 [00:05<00:00, 26.52it/s]\n",
      "  2%|▏         | 3/150 [00:00<00:05, 26.31it/s]"
     ]
    },
    {
     "name": "stdout",
     "output_type": "stream",
     "text": [
      "epoch: 2 loss: 8340916929.209294\n"
     ]
    },
    {
     "name": "stderr",
     "output_type": "stream",
     "text": [
      "100%|██████████| 150/150 [00:05<00:00, 28.46it/s]\n",
      "  2%|▏         | 3/150 [00:00<00:05, 25.00it/s]"
     ]
    },
    {
     "name": "stdout",
     "output_type": "stream",
     "text": [
      "epoch: 3 loss: 1.8967219126455024e+16\n"
     ]
    },
    {
     "name": "stderr",
     "output_type": "stream",
     "text": [
      "100%|██████████| 150/150 [00:05<00:00, 27.87it/s]\n",
      "  2%|▏         | 3/150 [00:00<00:05, 27.52it/s]"
     ]
    },
    {
     "name": "stdout",
     "output_type": "stream",
     "text": [
      "epoch: 4 loss: 4.3131382873443545e+22\n"
     ]
    },
    {
     "name": "stderr",
     "output_type": "stream",
     "text": [
      "100%|██████████| 150/150 [00:05<00:00, 28.25it/s]\n",
      "  2%|▏         | 3/150 [00:00<00:05, 25.42it/s]"
     ]
    },
    {
     "name": "stdout",
     "output_type": "stream",
     "text": [
      "epoch: 5 loss: 9.80805976754925e+28\n"
     ]
    },
    {
     "name": "stderr",
     "output_type": "stream",
     "text": [
      "100%|██████████| 150/150 [00:05<00:00, 28.54it/s]\n"
     ]
    },
    {
     "data": {
      "image/png": "[encoded data removed]",
      "text/plain": [
       "<Figure size 432x288 with 1 Axes>"
      ]
     },
     "metadata": {
      "needs_background": "light"
     },
     "output_type": "display_data"
    }
   ],
   "source": [
    "# hyperparameter\n",
    "epochs = 6\n",
    "learning_rate = 1e-3\n",
    "min_val = -200\n",
    "max_val = 200\n",
    "\n",
    "node = LSTM()\n",
    "\n",
    "losses = node.train(X,Y,epochs,learning_rate,min_val,max_val)\n",
    "\n",
    "plt.plot(losses)\n",
    "plt.title('loss curve')\n",
    "plt.show()"
   ]
  },
  {
   "cell_type": "code",
   "execution_count": 92,
   "id": "862a315a",
   "metadata": {},
   "outputs": [
    {
     "data": {
      "image/png": "[encoded data removed]",
      "text/plain": [
       "<Figure size 432x288 with 1 Axes>"
      ]
     },
     "metadata": {
      "needs_background": "light"
     },
     "output_type": "display_data"
    }
   ],
   "source": [
    "# predict\n",
    "preds = node.predict(X)\n",
    "plt.plot(preds,label = 'pred')\n",
    "plt.plot(Y,label = 'ground-truth')\n",
    "plt.title('GRU training')\n",
    "plt.legend()\n",
    "plt.show()"
   ]
  },
  {
   "cell_type": "markdown",
   "id": "d4d29ece",
   "metadata": {},
   "source": [
    "** Use keras API for solving my problem **"
   ]
  },
  {
   "cell_type": "code",
   "execution_count": 101,
   "id": "2e68364b",
   "metadata": {},
   "outputs": [],
   "source": [
    "import tensorflow as tf\n",
    "import numpy as np\n",
    "import math\n",
    "import matplotlib.pyplot as plt\n",
    "from keras.layers.embeddings import Embedding\n",
    "from keras.preprocessing import sequence"
   ]
  },
  {
   "cell_type": "code",
   "execution_count": 102,
   "id": "5e9c0db9",
   "metadata": {},
   "outputs": [
    {
     "name": "stdout",
     "output_type": "stream",
     "text": [
      "data lenght: 200\n",
      "seq_len: 50\n",
      "num_records: 150\n",
      "X shape (150, 50, 1)\n",
      "Y shape (150, 1)\n",
      "X_val shape (50, 50, 1)\n",
      "Y_val shape (50, 1)\n"
     ]
    },
    {
     "data": {
      "text/plain": [
       "Text(0.5, 1.0, 'sequence data')"
      ]
     },
     "execution_count": 102,
     "metadata": {},
     "output_type": "execute_result"
    },
    {
     "data": {
      "image/png": "[encoded data removed]",
      "text/plain": [
       "<Figure size 864x360 with 1 Axes>"
      ]
     },
     "metadata": {
      "needs_background": "light"
     },
     "output_type": "display_data"
    }
   ],
   "source": [
    "# hyperparameter\n",
    "seq_len = 50\n",
    "hidden_dim = 100\n",
    "input_dim = 1\n",
    "output_dim = 1\n",
    "epochs = 6\n",
    "f = 15\n",
    "seq_len = 50\n",
    "\n",
    "# generate dataset\n",
    "seq_data,X,Y,X_val,Y_val = gen_data(f,seq_len)\n",
    "\n",
    "# visualize the seq_wave\n",
    "fig = plt.figure(figsize = (12,5))\n",
    "plt.plot(seq_data)\n",
    "plt.title('sequence data')"
   ]
  },
  {
   "cell_type": "code",
   "execution_count": 106,
   "id": "a096061d",
   "metadata": {},
   "outputs": [
    {
     "name": "stdout",
     "output_type": "stream",
     "text": [
      "Model: \"sequential_36\"\n",
      "_________________________________________________________________\n",
      "Layer (type)                 Output Shape              Param #   \n",
      "=================================================================\n",
      "embedding_21 (Embedding)     (None, 50, 32)            1600      \n",
      "_________________________________________________________________\n",
      "gru_3 (GRU)                  (None, 100)               40200     \n",
      "_________________________________________________________________\n",
      "dense_25 (Dense)             (None, 1)                 101       \n",
      "=================================================================\n",
      "Total params: 41,901\n",
      "Trainable params: 41,901\n",
      "Non-trainable params: 0\n",
      "_________________________________________________________________\n",
      "None\n"
     ]
    }
   ],
   "source": [
    "# build model\n",
    "#define input sequence data\n",
    "embedding_vecor_length = 32\n",
    "\n",
    "# create a sequenctial model\n",
    "model = tf.keras.models.Sequential()\n",
    "\n",
    "# transform input sequence into word embedding representation\n",
    "model.add(keras.layers.embeddings.Embedding(50,embedding_vecor_length,input_length = 50))\n",
    "\n",
    "# generate a 100 dimension output\n",
    "model.add(tf.keras.layers.GRU(hidden_dim))\n",
    "\n",
    "# fully connected layer weight the 100-dimension output to one node for prediction\n",
    "model.add(Dense(output_dim,activation = 'sigmoid'))\n",
    "\n",
    "# compile model\n",
    "model.compile(loss= keras.losses.binary_crossentropy,optimizer = 'adam',metrics = ['accuracy'])\n",
    "\n",
    "# summary model\n",
    "print(model.summary())\n"
   ]
  },
  {
   "cell_type": "code",
   "execution_count": 107,
   "id": "b46ab924",
   "metadata": {},
   "outputs": [
    {
     "name": "stdout",
     "output_type": "stream",
     "text": [
      "Epoch 1/6\n",
      "3/3 [==============================] - 3s 325ms/step - loss: 0.6946 - accuracy: 0.0000e+00 - val_loss: 0.6475 - val_accuracy: 0.0000e+00\n",
      "Epoch 2/6\n",
      "3/3 [==============================] - 0s 95ms/step - loss: 0.6392 - accuracy: 0.0000e+00 - val_loss: 0.5843 - val_accuracy: 0.0000e+00\n",
      "Epoch 3/6\n",
      "3/3 [==============================] - 0s 93ms/step - loss: 0.5832 - accuracy: 0.0000e+00 - val_loss: 0.5089 - val_accuracy: 0.0000e+00\n",
      "Epoch 4/6\n",
      "3/3 [==============================] - 0s 90ms/step - loss: 0.5117 - accuracy: 0.0000e+00 - val_loss: 0.4080 - val_accuracy: 0.0000e+00\n",
      "Epoch 5/6\n",
      "3/3 [==============================] - 0s 104ms/step - loss: 0.4183 - accuracy: 0.0000e+00 - val_loss: 0.2608 - val_accuracy: 0.0000e+00\n",
      "Epoch 6/6\n",
      "3/3 [==============================] - 0s 91ms/step - loss: 0.2923 - accuracy: 0.0000e+00 - val_loss: 0.0309 - val_accuracy: 0.0000e+00\n"
     ]
    }
   ],
   "source": [
    "history = model.fit(X,Y,epochs = 6,validation_data = (X_val,Y_val),batch_size = 64,verbose = True)"
   ]
  },
  {
   "cell_type": "markdown",
   "id": "28e35e7a",
   "metadata": {},
   "source": [
    "### LSTM Keras"
   ]
  },
  {
   "cell_type": "code",
   "execution_count": 24,
   "id": "dec204c8",
   "metadata": {},
   "outputs": [],
   "source": [
    "import numpy as np\n",
    "import keras\n",
    "from keras.datasets import imdb \n",
    "from keras.models import Sequential\n",
    "from keras.layers import Dense,LSTM\n",
    "from keras.layers.embeddings import Embedding\n",
    "from keras.preprocessing import sequence\n",
    "from tensorflow.keras.utils import plot_model"
   ]
  },
  {
   "cell_type": "code",
   "execution_count": 9,
   "id": "0ce0094f",
   "metadata": {},
   "outputs": [],
   "source": [
    "# fix random seed for reproducibility\n",
    "np.random.seed(7)"
   ]
  },
  {
   "cell_type": "code",
   "execution_count": 10,
   "id": "91d382de",
   "metadata": {},
   "outputs": [
    {
     "name": "stdout",
     "output_type": "stream",
     "text": [
      "X_train: (25000,)\n",
      "y_train: (25000,)\n",
      "X_test: (25000,)\n",
      "y_test: (25000,)\n"
     ]
    }
   ],
   "source": [
    "# load dataset but keep the n top words, zero the rest // data preprocessing\n",
    "top_words = 5000\n",
    "(X_train,y_train),(X_test,y_test) = imdb.load_data(num_words = top_words)\n",
    "print(f'X_train: {X_train.shape}')\n",
    "print(f'y_train: {y_train.shape}')\n",
    "print(f'X_test: {X_test.shape}')\n",
    "print(f'y_test: {y_test.shape}')"
   ]
  },
  {
   "cell_type": "code",
   "execution_count": 111,
   "id": "5195b23d",
   "metadata": {},
   "outputs": [
    {
     "name": "stdout",
     "output_type": "stream",
     "text": [
      "(500,)\n",
      "[0 0 0 0 0 0 0 0 0 0 0 0 0 0 0 0 0 0 0 0]\n"
     ]
    }
   ],
   "source": [
    "print(X_train[0].shape)\n",
    "print(X_train[0][:20])"
   ]
  },
  {
   "cell_type": "code",
   "execution_count": 15,
   "id": "13c12aec",
   "metadata": {},
   "outputs": [
    {
     "data": {
      "text/plain": [
       "1"
      ]
     },
     "execution_count": 15,
     "metadata": {},
     "output_type": "execute_result"
    }
   ],
   "source": [
    "y_train[0]"
   ]
  },
  {
   "cell_type": "code",
   "execution_count": 16,
   "id": "9864169d",
   "metadata": {},
   "outputs": [],
   "source": [
    "max_review_length = 500\n",
    "X_train = sequence.pad_sequences(X_train,maxlen = max_review_length)\n",
    "X_test = sequence.pad_sequences(X_test,maxlen = max_review_length)"
   ]
  },
  {
   "cell_type": "code",
   "execution_count": 19,
   "id": "e88edc4c",
   "metadata": {},
   "outputs": [
    {
     "name": "stdout",
     "output_type": "stream",
     "text": [
      "(25000, 500)\n"
     ]
    },
    {
     "data": {
      "text/plain": [
       "array([   0,    0,    0,    0,    0,    0,    0,    0,    0,    0,    0,\n",
       "          0,    0,    0,    0,    0,    0,    0,    0,    0,    0,    0,\n",
       "          0,    0,    0,    0,    0,    0,    0,    0,    0,    0,    0,\n",
       "          0,    0,    0,    0,    0,    0,    0,    0,    0,    0,    0,\n",
       "          0,    0,    0,    0,    0,    0,    0,    0,    0,    0,    0,\n",
       "          0,    0,    0,    0,    0,    0,    0,    0,    0,    0,    0,\n",
       "          0,    0,    0,    0,    0,    0,    0,    0,    0,    0,    0,\n",
       "          0,    0,    0,    0,    0,    0,    0,    0,    0,    0,    0,\n",
       "          0,    0,    0,    0,    0,    0,    0,    0,    0,    0,    0,\n",
       "          0,    0,    0,    0,    0,    0,    0,    0,    0,    0,    0,\n",
       "          0,    0,    0,    0,    0,    0,    0,    0,    0,    0,    0,\n",
       "          0,    0,    0,    0,    0,    0,    0,    0,    0,    0,    0,\n",
       "          0,    0,    0,    0,    0,    0,    0,    0,    0,    0,    0,\n",
       "          0,    0,    0,    0,    0,    0,    0,    0,    0,    0,    0,\n",
       "          0,    0,    0,    0,    0,    0,    0,    0,    0,    0,    0,\n",
       "          0,    0,    0,    0,    0,    0,    0,    0,    0,    0,    0,\n",
       "          0,    0,    0,    0,    0,    0,    0,    0,    0,    0,    0,\n",
       "          0,    0,    0,    0,    0,    0,    0,    0,    0,    0,    0,\n",
       "          0,    0,    0,    0,    0,    0,    0,    0,    0,    0,    0,\n",
       "          0,    0,    0,    0,    0,    0,    0,    0,    0,    0,    0,\n",
       "          0,    0,    0,    0,    0,    0,    0,    0,    0,    0,    0,\n",
       "          0,    0,    0,    0,    0,    0,    0,    0,    0,    0,    0,\n",
       "          0,    0,    0,    0,    0,    0,    0,    0,    0,    0,    0,\n",
       "          0,    0,    0,    0,    0,    0,    0,    0,    0,    0,    0,\n",
       "          0,    0,    0,    0,    0,    0,    0,    0,    0,    0,    0,\n",
       "          0,    0,    0,    0,    0,    0,    0,    1,   14,   22,   16,\n",
       "         43,  530,  973, 1622, 1385,   65,  458, 4468,   66, 3941,    4,\n",
       "        173,   36,  256,    5,   25,  100,   43,  838,  112,   50,  670,\n",
       "          2,    9,   35,  480,  284,    5,  150,    4,  172,  112,  167,\n",
       "          2,  336,  385,   39,    4,  172, 4536, 1111,   17,  546,   38,\n",
       "         13,  447,    4,  192,   50,   16,    6,  147, 2025,   19,   14,\n",
       "         22,    4, 1920, 4613,  469,    4,   22,   71,   87,   12,   16,\n",
       "         43,  530,   38,   76,   15,   13, 1247,    4,   22,   17,  515,\n",
       "         17,   12,   16,  626,   18,    2,    5,   62,  386,   12,    8,\n",
       "        316,    8,  106,    5,    4, 2223,    2,   16,  480,   66, 3785,\n",
       "         33,    4,  130,   12,   16,   38,  619,    5,   25,  124,   51,\n",
       "         36,  135,   48,   25, 1415,   33,    6,   22,   12,  215,   28,\n",
       "         77,   52,    5,   14,  407,   16,   82,    2,    8,    4,  107,\n",
       "        117,    2,   15,  256,    4,    2,    7, 3766,    5,  723,   36,\n",
       "         71,   43,  530,  476,   26,  400,  317,   46,    7,    4,    2,\n",
       "       1029,   13,  104,   88,    4,  381,   15,  297,   98,   32, 2071,\n",
       "         56,   26,  141,    6,  194,    2,   18,    4,  226,   22,   21,\n",
       "        134,  476,   26,  480,    5,  144,   30,    2,   18,   51,   36,\n",
       "         28,  224,   92,   25,  104,    4,  226,   65,   16,   38, 1334,\n",
       "         88,   12,   16,  283,    5,   16, 4472,  113,  103,   32,   15,\n",
       "         16,    2,   19,  178,   32])"
      ]
     },
     "execution_count": 19,
     "metadata": {},
     "output_type": "execute_result"
    }
   ],
   "source": [
    "print(X_train.shape)\n",
    "X_train[0]"
   ]
  },
  {
   "cell_type": "code",
   "execution_count": 35,
   "id": "ed7e75c6",
   "metadata": {},
   "outputs": [
    {
     "name": "stdout",
     "output_type": "stream",
     "text": [
      "Model: \"sequential_12\"\n",
      "_________________________________________________________________\n",
      "Layer (type)                 Output Shape              Param #   \n",
      "=================================================================\n",
      "embedding_11 (Embedding)     (None, 500, 32)           160000    \n",
      "_________________________________________________________________\n",
      "lstm_11 (LSTM)               (None, 100)               53200     \n",
      "_________________________________________________________________\n",
      "dense_11 (Dense)             (None, 1)                 101       \n",
      "=================================================================\n",
      "Total params: 213,301\n",
      "Trainable params: 213,301\n",
      "Non-trainable params: 0\n",
      "_________________________________________________________________\n",
      "None\n"
     ]
    },
    {
     "data": {
      "image/png": "[encoded data removed]",
      "text/plain": [
       "<IPython.core.display.Image object>"
      ]
     },
     "execution_count": 35,
     "metadata": {},
     "output_type": "execute_result"
    }
   ],
   "source": [
    "# define word embedding size\n",
    "embedding_vecor_length = 32\n",
    "\n",
    "# create a sequential model\n",
    "model = Sequential()\n",
    "\n",
    "# transform input sequence into word embedding representation\n",
    "model.add(Embedding(top_words,embedding_vecor_length,input_length = max_review_length))\n",
    "\n",
    "# generate a 100-dimension output, can be replaced by GRU or SimpleRNN recurrent cells\n",
    "model.add(LSTM(100))\n",
    "\n",
    "# a fully connected layer weight the 100-dimension output to one node for prediction\n",
    "model.add(Dense(1,activation = 'sigmoid'))\n",
    "\n",
    "# use binary-crossentropy as the loss function for the classification\n",
    "model.compile(loss = keras.losses.binary_crossentropy, optimizer = 'adam',metrics = ['accuracy'])\n",
    "\n",
    "# summary model\n",
    "print(model.summary())\n",
    "\n",
    "# plot the model\n",
    "plot_model(model)"
   ]
  },
  {
   "cell_type": "code",
   "execution_count": 36,
   "id": "9799366d",
   "metadata": {},
   "outputs": [
    {
     "name": "stdout",
     "output_type": "stream",
     "text": [
      "Epoch 1/3\n",
      "391/391 [==============================] - 518s 1s/step - loss: 0.4649 - accuracy: 0.7806 - val_loss: 0.3406 - val_accuracy: 0.8624\n",
      "Epoch 2/3\n",
      "391/391 [==============================] - 590s 2s/step - loss: 0.3062 - accuracy: 0.8798 - val_loss: 0.3326 - val_accuracy: 0.8640\n",
      "Epoch 3/3\n",
      "391/391 [==============================] - 541s 1s/step - loss: 0.3272 - accuracy: 0.8733 - val_loss: 0.3556 - val_accuracy: 0.8537\n"
     ]
    },
    {
     "data": {
      "text/plain": [
       "<keras.callbacks.History at 0x450a7ee0>"
      ]
     },
     "execution_count": 36,
     "metadata": {},
     "output_type": "execute_result"
    }
   ],
   "source": [
    "# train the model\n",
    "model.fit(X_train,y_train,validation_data = (X_test,y_test),epochs =3, batch_size = 64,verbose = True)"
   ]
  },
  {
   "cell_type": "code",
   "execution_count": 37,
   "id": "cb220502",
   "metadata": {},
   "outputs": [
    {
     "name": "stdout",
     "output_type": "stream",
     "text": [
      "782/782 [==============================] - 161s 206ms/step - loss: 0.3556 - accuracy: 0.8537\n"
     ]
    }
   ],
   "source": [
    "# Final evaluation of the model\n",
    "scores =model.evaluate(X_test,y_test)"
   ]
  },
  {
   "cell_type": "markdown",
   "id": "3e1f81ff",
   "metadata": {},
   "source": [
    "**Note**\n",
    "\n",
    "![exploding_vanishing](exploding_vanishing.png)\n",
    "\n",
    "- *Exploding gradients*: if we start almost exactly on the boundary(cliff), tiny changes can make a huge differences\n",
    "\n",
    "- *Vanishing gradients*: if we start a tracejetory within an attractor (plane,flat surface) small changes in where we start make not much difference to where we end up\n",
    "\n",
    "\n",
    "Both case hinder the learning process"
   ]
  },
  {
   "cell_type": "markdown",
   "id": "2f871175",
   "metadata": {},
   "source": [
    "### References\n",
    "\n",
    "[coursera](https://www.coursera.org/lecture/nlp-sequence-models/longshort-term-memory-lstm-KXoay)\n",
    "\n",
    "[Deep Learning 71: Back-propagation in Gated Recurrent Unit (GRU) Architecture](https://www.youtube.com/watch?v=P0W3iHKYOHc)\n",
    "\n",
    "[GRU and LSTM](http://dprogrammer.org/rnn-lstm-gru)\n",
    "\n",
    "[GRU keras](https://pythonalgos.com/build-a-gru-rnn-in-keras/)\n",
    "\n",
    "[LateX math sympol](https://oeis.org/wiki/List_of_LaTeX_mathematical_symbols)\n",
    "\n",
    "[RNN-LSTM-in-numpy](https://github.com/CaptainE/RNN-LSTM-in-numpy)\n",
    "\n",
    "[lstm-gru-scartch](https://github.com/gstechgeek/LSTM_from_scratch)\n",
    "\n",
    "[lstm-scratch](https://github.com/nicodjimenez/lstm)\n",
    "\n",
    "[RecurrentNeuralNet](https://github.com/mukul-rathi/deep-learning-tutorials/tree/master/RecurrentNeuralNet)\n",
    "\n",
    "[lstm_from_scratch](https://github.com/Aidandos/lstm_from_scratch)\n",
    "\n",
    "[lstm-scratch2](https://github.com/PNilay/LSTM-Network-from-Scratch)\n",
    "\n",
    "[LSTM tensorflow](https://github.com/mayuri0192/LSTM-Implementation-from-Scratch)\n",
    "\n",
    "[LSTM Image-Captioning](https://github.com/divyanshj16/Image-Captioning)\n",
    "\n",
    "[LSTM-Human-Activity-Recognition](https://github.com/guillaume-chevalier/LSTM-Human-Activity-Recognition)\n",
    "\n",
    "[LSTM-C++](https://github.com/abstractguy/LSTM)\n",
    "\n",
    "[lstm-models-for-time-series-forecasting](https://machinelearningmastery.com/how-to-develop-lstm-models-for-time-series-forecasting/)\n",
    "\n",
    "[MIT 6.S191 (2021): Recurrent Neural Networks](https://www.youtube.com/watch?v=qjrad0V0uJE&t=3061s)\n",
    "\n",
    "[Stock Price Prediction Using Python & Machine Learning](https://www.youtube.com/watch?v=QIUxPv5PJOY)\n",
    "\n",
    "[Python: Real-time Automated Long Short Term Memory (LSTM) Short-term Load Forecasting & Plotting](https://www.youtube.com/watch?v=aQxPRsba23Y)\n",
    "\n",
    "[LSTM-derivation-bptt](https://www.geeksforgeeks.org/lstm-derivation-of-back-propagation-through-time/)\n",
    "\n",
    "[uderstand_LSTM](https://colah.github.io/posts/2015-08-Understanding-LSTMs/)\n",
    "\n",
    "[cryptoNet](https://github.com/Spartee/LSTM-RNN/blob/master/model.py)\n",
    "\n",
    "[Eminem lyrics](https://github.com/Modestas96/LSTM_numpy)\n",
    "\n",
    "[chatbot](https://github.com/adi2381/ai-chatbot)\n",
    "\n",
    "[chatbot-adv](https://github.com/chaoming0625/NumpyDL)\n",
    "\n",
    "[Stock-Price-Predictor](https://github.com/Rajat-dhyani/Stock-Price-Predictor)\n",
    "\n",
    "[](https://github.com/Kulbear/deep-learning-coursera/blob/master/Sequence%20Models/Dinosaurus%20Island%20--%20Character%20level%20language%20model%20final%20-%20v3.ipynb)"
   ]
  }
 ],
 "metadata": {
  "kernelspec": {
   "display_name": "Python 3",
   "language": "python",
   "name": "python3"
  },
  "language_info": {
   "codemirror_mode": {
    "name": "ipython",
    "version": 3
   },
   "file_extension": ".py",
   "mimetype": "text/x-python",
   "name": "python",
   "nbconvert_exporter": "python",
   "pygments_lexer": "ipython3",
   "version": "3.8.8"
  }
 },
 "nbformat": 4,
 "nbformat_minor": 5
}
