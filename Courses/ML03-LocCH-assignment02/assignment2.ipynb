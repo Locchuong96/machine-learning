{
  "nbformat": 4,
  "nbformat_minor": 0,
  "metadata": {
    "kernelspec": {
      "display_name": "Python 2",
      "language": "python",
      "name": "python2"
    },
    "language_info": {
      "codemirror_mode": {
        "name": "ipython",
        "version": 2
      },
      "file_extension": ".py",
      "mimetype": "text/x-python",
      "name": "python",
      "nbconvert_exporter": "python",
      "pygments_lexer": "ipython2",
      "version": "2.7.12"
    },
    "colab": {
      "name": "assignment2.ipynb",
      "provenance": []
    }
  },
  "cells": [
    {
      "cell_type": "markdown",
      "metadata": {
        "deletable": true,
        "editable": true,
        "id": "FFUKyobT2wK3"
      },
      "source": [
        "#### This simple tutorial is aimed to demostrate the idea of applying the Gradient Descent algorithm to solve Polynomial Curve Fitting problem"
      ]
    },
    {
      "cell_type": "code",
      "metadata": {
        "collapsed": true,
        "deletable": true,
        "editable": true,
        "id": "ORVzF5-X2wK6"
      },
      "source": [
        "import numpy as np\n",
        "import matplotlib.pyplot as plt"
      ],
      "execution_count": null,
      "outputs": []
    },
    {
      "cell_type": "markdown",
      "metadata": {
        "deletable": true,
        "editable": true,
        "id": "DDeqgl7B2wK7"
      },
      "source": [
        "In general, a $N^{th}$ degree polynomial function has the form\n",
        "$$f_\\theta(x)=\\theta_0+\\theta_1x+\\theta_2x^2+\\theta_3x^3+\\theta_4x^4... = \\sum_{i=0}^N \\theta_ix^i  \\label{eq1} \\tag{1}$$ "
      ]
    },
    {
      "cell_type": "code",
      "metadata": {
        "collapsed": true,
        "deletable": true,
        "editable": true,
        "id": "b0z2niES2wK8"
      },
      "source": [
        "'''\n",
        "Compute the value of a Nth-degree polynomial function\n",
        "    theta: The parameters, length N\n",
        "'''\n",
        "def polynomial(theta, x):\n",
        "    t_x = map(lambda i: np.power(x,i), range(len(theta)))\n",
        "    return np.dot(theta.T, t_x)[0]"
      ],
      "execution_count": null,
      "outputs": []
    },
    {
      "cell_type": "markdown",
      "metadata": {
        "deletable": true,
        "editable": true,
        "id": "xUSQYtTy2wK9"
      },
      "source": [
        "## 1. Play with the data"
      ]
    },
    {
      "cell_type": "markdown",
      "metadata": {
        "deletable": true,
        "editable": true,
        "id": "QcQo2tu_2wK9"
      },
      "source": [
        "##### For a given $4^{th}$ degree function $f(x)=4x^4+2x^3-5x^2+x-3$,   \n",
        "$f(x_0=2)=59$"
      ]
    },
    {
      "cell_type": "code",
      "metadata": {
        "deletable": true,
        "editable": true,
        "id": "ZoUaJ8Ho2wK9",
        "outputId": "2d7ef05c-0747-47f9-c2ee-a7c3edabfbb7"
      },
      "source": [
        "theta = np.flip(np.array([4, 2, -5, 1, -3]), axis = 0).reshape((-1,1))\n",
        "print(\"f(x=2)= %.4f\" %polynomial(theta, 2))"
      ],
      "execution_count": null,
      "outputs": [
        {
          "output_type": "stream",
          "text": [
            "f(x=2)= 59.0000\n"
          ],
          "name": "stdout"
        }
      ]
    },
    {
      "cell_type": "markdown",
      "metadata": {
        "deletable": true,
        "editable": true,
        "id": "7g7g0K4N2wK_"
      },
      "source": [
        "#### Consider a synthesized dataset, which is generated from a $3^{rd}$ degree polynomial function $f(x)=x^3+2x^2-4x+5$"
      ]
    },
    {
      "cell_type": "code",
      "metadata": {
        "deletable": true,
        "editable": true,
        "id": "HhOmr0Ql2wLA"
      },
      "source": [
        "np.random.seed(0)\n",
        "X = np.linspace(-3.5, 3.5, 100)\n",
        "\n",
        "theta = np.flip(np.array([1, 2, -4, 5]), axis = 0).reshape((-1,1))\n",
        "Y = map(lambda x: polynomial(theta, x), X)\n",
        "#We add a Gaussian noise N(0,2) to each Y[i]\n",
        "noise = np.random.normal(0, 2, len(Y))\n",
        "Y_noise = Y+noise"
      ],
      "execution_count": null,
      "outputs": []
    },
    {
      "cell_type": "code",
      "metadata": {
        "deletable": true,
        "editable": true,
        "scrolled": true,
        "id": "td43NzmA2wLB",
        "outputId": "8626aada-d70d-44e5-a8fc-512d3aa864a4"
      },
      "source": [
        "print(\"X.shape: \" + str(X.shape))\n",
        "print(\"X[0-9]: \" + str(X[0:10]))"
      ],
      "execution_count": null,
      "outputs": [
        {
          "output_type": "stream",
          "text": [
            "X.shape: (100,)\n",
            "X[0-9]: [-3.5        -3.42929293 -3.35858586 -3.28787879 -3.21717172 -3.14646465\n",
            " -3.07575758 -3.00505051 -2.93434343 -2.86363636]\n"
          ],
          "name": "stdout"
        }
      ]
    },
    {
      "cell_type": "code",
      "metadata": {
        "deletable": true,
        "editable": true,
        "id": "wNtm--m22wLB",
        "outputId": "c3fd9a7b-886a-45c9-9f31-96a1f1e35a5c"
      },
      "source": [
        "plt.close()\n",
        "plt.plot(X,Y, 'b', X, Y_noise, 'r.')\n",
        "plt.show()"
      ],
      "execution_count": null,
      "outputs": [
        {
          "output_type": "display_data",
          "data": {
            "image/png": "[encoded data removed]",
            "text/plain": [
              "<matplotlib.figure.Figure at 0x7f8da64f9a50>"
            ]
          },
          "metadata": {
            "tags": []
          }
        }
      ]
    },
    {
      "cell_type": "markdown",
      "metadata": {
        "collapsed": true,
        "deletable": true,
        "editable": true,
        "id": "hMiMphjV2wLC"
      },
      "source": [
        "## 2. Gradient Descent"
      ]
    },
    {
      "cell_type": "markdown",
      "metadata": {
        "deletable": true,
        "editable": true,
        "id": "_TB94f4M2wLC"
      },
      "source": [
        "In this part, you will fit the polynomial parameters $\\theta$ to our dataset using gradient descent. <br/>\n",
        "From the above figure, it's reasonable to suppose our dataset is generated from a $3^{rd}$ degree polynomial function, i.e our hypothesis function is\n",
        "$$h_\\theta(x)=\\theta_0+\\theta_1x+\\theta_2x^2+\\theta_3x^3  \\label{eq2} \\tag{2}$$"
      ]
    },
    {
      "cell_type": "markdown",
      "metadata": {
        "deletable": true,
        "editable": true,
        "id": "sIGERPSQ2wLD"
      },
      "source": [
        "### 2.1 The cost function"
      ]
    },
    {
      "cell_type": "markdown",
      "metadata": {
        "deletable": true,
        "editable": true,
        "id": "fU32eC7t2wLD"
      },
      "source": [
        "#### The objective of the polynomial regression is to minimize the Mean of Square Error (MSE) function:\n",
        "$$L(x, y,\\theta)=\\frac{1}{2M}\\sum_{i=1}^M{[h_\\theta(x^{(i)})-y^{(i)}]}^2=\\frac{1}{2M}\\sum_{i=1}^M{[\\theta_0+\\theta_1x^{(i)}+\\theta_2{x^{(i)}}^2+\\theta_3{x^{(i)}}^3-y^{(i)}]}^2 \\label{eq3} \\tag{3}$$\n",
        "where M is the number of training samples, and $x^{(i)}$ is the $i^{th}$ sample in the dataset"
      ]
    },
    {
      "cell_type": "code",
      "metadata": {
        "collapsed": true,
        "id": "NFM_r1rQ2wLE"
      },
      "source": [
        "\n",
        "'''\n",
        "ComputeCost Compute cost for linear regression\n",
        "   L = ComputeCost(X, y, theta) computes the cost of using theta as the\n",
        "   parameter for polynomial regression to fit the data points in X and y\n",
        "'''\n",
        "def ComputeCost(X, y, theta):\n",
        "    M = len(X)\n",
        "    L = 0\n",
        "    for i in range(M):     \n",
        "        L += # YOUR CODE HERE\n",
        "    L = np.divide(L, 2*M)\n",
        "    return L"
      ],
      "execution_count": null,
      "outputs": []
    },
    {
      "cell_type": "code",
      "metadata": {
        "deletable": true,
        "editable": true,
        "id": "wXOEr__e2wLE",
        "outputId": "eb8d0651-c48e-4953-c032-d1f1d42ab075"
      },
      "source": [
        "theta_zero = np.array([0, 0, 0, 0]).reshape((-1,1))\n",
        "cost = ComputeCost(X, Y_noise, theta_zero)\n",
        "print('Cost at parameters thetaZero (0,0,0,0): %f \\n(this value should be about 172.8149)' %cost)"
      ],
      "execution_count": null,
      "outputs": [
        {
          "output_type": "stream",
          "text": [
            "Cost at parameters thetaZero (0,0,0,0): 172.814955 \n",
            "(this value should be about 172.8149)\n"
          ],
          "name": "stdout"
        }
      ]
    },
    {
      "cell_type": "markdown",
      "metadata": {
        "deletable": true,
        "editable": true,
        "id": "glkSUw6k2wLE"
      },
      "source": [
        "### 2.2 The Update Equation"
      ]
    },
    {
      "cell_type": "markdown",
      "metadata": {
        "collapsed": true,
        "deletable": true,
        "editable": true,
        "id": "qP1nKOcq2wLE"
      },
      "source": [
        "\n",
        "Pseudo Code for the Algorithm of the Gradient Descent:<br>\n",
        "Initialize $\\theta$ <br>\n",
        "For k=1...N_iteration <br>\n",
        "&nbsp;&nbsp;&nbsp;&nbsp;&nbsp;&nbsp;&nbsp;&nbsp;<strong>Update:&nbsp;&nbsp;</strong>$\\theta = \\theta -\\alpha \\frac {\\partial{L(x,y,\\theta)}}{\\partial{\\theta}}$"
      ]
    },
    {
      "cell_type": "markdown",
      "metadata": {
        "deletable": true,
        "editable": true,
        "id": "awB8UaAs2wLF"
      },
      "source": [
        "In Polynomial curver fitting problem $\\frac {\\partial{L(x,y,\\theta)}}{\\partial{\\theta_j}}=\\frac{1}{M}\\sum_{i=1}^M[h_\\theta(x^{(i)})-y^{(i)}]{x^{(i)}}^j$.<br> For an example:\n",
        "$\\frac {\\partial{L(x,y,\\theta)}}{\\partial{\\theta_0}}=\\frac{1}{M}\\sum_{i=1}^M[h_\\theta(x^{(i)})-y^{(i)}]$,\n",
        "$\\frac {\\partial{L(x,y,\\theta)}}{\\partial{\\theta_2}}=\\frac{1}{M}\\sum_{i=1}^M[h_\\theta(x^{(i)})-y^{(i)}]{x^{(i)}}^2$"
      ]
    },
    {
      "cell_type": "code",
      "metadata": {
        "collapsed": true,
        "deletable": true,
        "editable": true,
        "id": "Dr6JB52i2wLF"
      },
      "source": [
        "'''\n",
        "    curve_fit: fit the polinomial function from the data X, Y and an initialized theta\n",
        "    using Gradient Descent algorithm\n",
        "'''\n",
        "def curve_fit(X, Y, theta, alpha =0.001, n_iter = 100, display_step = 50, verbose = True):\n",
        "    #for each interation, compute the gradient and make an update: theta = theta - alpha*dL\n",
        "    for k in range(n_iter):\n",
        "        if verbose and (k+1) % display_step ==0:\n",
        "            L=ComputeCost(X, Y, theta)\n",
        "            print(\"K=%d L=%.6f\" %(k+1, L), theta) \n",
        "        dL = np.zeros(theta.shape)\n",
        "        L = 0\n",
        "        for i in range(len(X)):\n",
        "            #compute the residual h(x)-y\n",
        "            res = # YOUR CODE HERE\n",
        "            #compute the derivative of theta\n",
        "            dTheta = np.zeros(theta.shape)\n",
        "            for j in range(len(theta)):\n",
        "                #compute the value dTheta_j = [h(x)-y]x^j\n",
        "                dTheta[j] = #YOUR CODE HERE\n",
        "            dL = np.add(dL, dTheta)\n",
        "        dL = np.divide(dL, len(X))\n",
        "        theta = theta - np.multiply(dL, alpha) \n",
        "    return theta"
      ],
      "execution_count": null,
      "outputs": []
    },
    {
      "cell_type": "code",
      "metadata": {
        "deletable": true,
        "editable": true,
        "scrolled": true,
        "id": "Gy1g0zQZ2wLF",
        "outputId": "736c8741-9cfe-44b0-e256-9227dfa33bce"
      },
      "source": [
        "#initialize theta_zero\n",
        "theta_zero = np.zeros(theta.shape)\n",
        "theta_zero = curve_fit(X, Y_noise, theta_zero, 0.001, display_step=100, n_iter=2000)"
      ],
      "execution_count": null,
      "outputs": [
        {
          "output_type": "stream",
          "text": [
            "('K=100 L=10.048743', array([[ 0.51849576],\n",
            "       [-0.203051  ],\n",
            "       [ 2.60104638],\n",
            "       [ 0.5645729 ]]))\n",
            "('K=200 L=8.964726', array([[ 0.69128082],\n",
            "       [-0.45200785],\n",
            "       [ 2.68681282],\n",
            "       [ 0.59253513]]))\n",
            "('K=300 L=8.180384', array([[ 0.84337887],\n",
            "       [-0.68511059],\n",
            "       [ 2.67055031],\n",
            "       [ 0.61871666]]))\n",
            "('K=400 L=7.483754', array([[ 0.98845369],\n",
            "       [-0.90336884],\n",
            "       [ 2.65109659],\n",
            "       [ 0.64323089]]))\n",
            "('K=500 L=6.864521', array([[ 1.12731018],\n",
            "       [-1.10772792],\n",
            "       [ 2.63232041],\n",
            "       [ 0.66618401]]))\n",
            "('K=600 L=6.313851', array([[ 1.26023395],\n",
            "       [-1.29907297],\n",
            "       [ 2.61434028],\n",
            "       [ 0.68767542]]))\n",
            "('K=700 L=5.823943', array([[ 1.38747922],\n",
            "       [-1.47823275],\n",
            "       [ 2.59712801],\n",
            "       [ 0.70779821]]))\n",
            "('K=800 L=5.387901', array([[ 1.50928861],\n",
            "       [-1.64598324],\n",
            "       [ 2.58065104],\n",
            "       [ 0.72663954]]))\n",
            "('K=900 L=4.999629', array([[ 1.62589434],\n",
            "       [-1.80305101],\n",
            "       [ 2.56487796],\n",
            "       [ 0.74428101]]))\n",
            "('K=1000 L=4.653739', array([[ 1.7375187 ],\n",
            "       [-1.95011636],\n",
            "       [ 2.5497787 ],\n",
            "       [ 0.76079903]]))\n",
            "('K=1100 L=4.345464', array([[ 1.8443745 ],\n",
            "       [-2.08781627],\n",
            "       [ 2.53532448],\n",
            "       [ 0.77626515]]))\n",
            "('K=1200 L=4.070588', array([[ 1.94666546],\n",
            "       [-2.21674715],\n",
            "       [ 2.52148774],\n",
            "       [ 0.79074635]]))\n",
            "('K=1300 L=3.825377', array([[ 2.04458657],\n",
            "       [-2.33746743],\n",
            "       [ 2.5082421 ],\n",
            "       [ 0.80430536]]))\n",
            "('K=1400 L=3.606527', array([[ 2.13832452],\n",
            "       [-2.45049997],\n",
            "       [ 2.49556231],\n",
            "       [ 0.8170009 ]]))\n",
            "('K=1500 L=3.411111', array([[ 2.22805802],\n",
            "       [-2.55633436],\n",
            "       [ 2.48342419],\n",
            "       [ 0.82888796]]))\n",
            "('K=1600 L=3.236538', array([[ 2.31395812],\n",
            "       [-2.65542898],\n",
            "       [ 2.47180461],\n",
            "       [ 0.84001803]]))\n",
            "('K=1700 L=3.080509', array([[ 2.3961886 ],\n",
            "       [-2.74821304],\n",
            "       [ 2.46068142],\n",
            "       [ 0.85043931]]))\n",
            "('K=1800 L=2.940986', array([[ 2.47490622],\n",
            "       [-2.8350884 ],\n",
            "       [ 2.45003341],\n",
            "       [ 0.86019694]]))\n",
            "('K=1900 L=2.816164', array([[ 2.55026104],\n",
            "       [-2.91643135],\n",
            "       [ 2.43984028],\n",
            "       [ 0.86933318]]))\n",
            "('K=2000 L=2.704438', array([[ 2.62239673],\n",
            "       [-2.99259421],\n",
            "       [ 2.43008259],\n",
            "       [ 0.87788761]]))\n"
          ],
          "name": "stdout"
        }
      ]
    },
    {
      "cell_type": "code",
      "metadata": {
        "deletable": true,
        "editable": true,
        "id": "CJZml8hh2wLG",
        "outputId": "7f9505ab-59d2-42e6-8045-22168e8c1c99"
      },
      "source": [
        "print(\"theta_zero\", theta_zero)\n",
        "print('You should expect to see the value of theta [[2.623],[-2.993],[2.4299],[0.87797]]')"
      ],
      "execution_count": null,
      "outputs": [
        {
          "output_type": "stream",
          "text": [
            "('theta_zero', array([[ 2.6231023 ],\n",
            "       [-2.99333081],\n",
            "       [ 2.42998715],\n",
            "       [ 0.87797034]]))\n",
            "You should expect to see the value of theta [[2.623],[-2.993],[2.4299],[0.87797]]\n"
          ],
          "name": "stdout"
        }
      ]
    },
    {
      "cell_type": "markdown",
      "metadata": {
        "id": "d_AE7jY22wLH"
      },
      "source": [
        "### 2.3 Visualize the fitted curve"
      ]
    },
    {
      "cell_type": "code",
      "metadata": {
        "deletable": true,
        "editable": true,
        "id": "xHCT4O7U2wLH",
        "outputId": "35f8b04e-a882-4edf-c316-eede7518fd6e"
      },
      "source": [
        "Y_pred = map(lambda x: polynomial(theta_zero, x), X)\n",
        "plt.close()\n",
        "plt.plot(X, Y_noise, 'r.', label='Training Points')\n",
        "plt.plot(X,Y, 'b', label = 'True Theta curve')\n",
        "plt.plot( X, Y_pred, 'g', label = 'Learned Theta curve')\n",
        "plt.legend( loc='upper left', borderaxespad=0.5)\n",
        "plt.show()"
      ],
      "execution_count": null,
      "outputs": [
        {
          "output_type": "display_data",
          "data": {
            "image/png": "[encoded data removed]",
            "text/plain": [
              "<matplotlib.figure.Figure at 0x7f8da3c4d4d0>"
            ]
          },
          "metadata": {
            "tags": []
          }
        }
      ]
    }
  ]
}