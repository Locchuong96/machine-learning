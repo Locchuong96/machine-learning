{
 "cells": [
  {
   "cell_type": "code",
   "execution_count": null,
   "metadata": {
    "collapsed": true,
    "id": "rbUvcKzd241q"
   },
   "outputs": [],
   "source": [
    "import numpy as np\n",
    "import codecs\n",
    "import pickle\n",
    "from collections import Counter\n",
    "import json\n",
    "from __future__ import division"
   ]
  },
  {
   "cell_type": "code",
   "execution_count": null,
   "metadata": {
    "id": "WzYMvAoK241_"
   },
   "outputs": [],
   "source": [
    "from collections import Counter\n",
    "from matplotlib import pyplot as plt\n",
    "import re\n",
    "import itertools"
   ]
  },
  {
   "cell_type": "code",
   "execution_count": null,
   "metadata": {
    "collapsed": true,
    "id": "Jof5vh_Y242B"
   },
   "outputs": [],
   "source": [
    "from sklearn.model_selection import train_test_split\n",
    "from sklearn.preprocessing import StandardScaler\n",
    "from sklearn.datasets import make_moons, make_circles, make_classification\n",
    "from sklearn.neighbors import KNeighborsClassifier\n",
    "from sklearn.neural_network import MLPClassifier\n",
    "from sklearn.svm import SVC\n",
    "from sklearn.tree import DecisionTreeClassifier\n",
    "from sklearn.ensemble import RandomForestClassifier, AdaBoostClassifier\n",
    "from sklearn.linear_model import LogisticRegression\n",
    "from sklearn.metrics import confusion_matrix\n",
    "from sklearn.utils.multiclass import unique_labels\n",
    "from sklearn.metrics.pairwise import euclidean_distances\n",
    "from sklearn.metrics.pairwise import cosine_similarity"
   ]
  },
  {
   "cell_type": "code",
   "execution_count": null,
   "metadata": {
    "collapsed": true,
    "id": "V5YOsF-F242D"
   },
   "outputs": [],
   "source": [
    "from PIL import Image\n",
    "from sklearn.decomposition import PCA\n",
    "from sklearn import preprocessing\n",
    "from sklearn.decomposition import PCA, IncrementalPCA"
   ]
  },
  {
   "cell_type": "code",
   "execution_count": null,
   "metadata": {
    "collapsed": true,
    "id": "Yj_-4SUd242G"
   },
   "outputs": [],
   "source": [
    "def read_text_file(i_file, encoding='utf-8'):\n",
    "    lines = []\n",
    "    with codecs.open( i_file, \"r\", \"utf-8\" ) as f:\n",
    "        lines = f.read().splitlines()\n",
    "    return lines"
   ]
  },
  {
   "cell_type": "code",
   "execution_count": null,
   "metadata": {
    "collapsed": true,
    "id": "XLP4lXcM242I"
   },
   "outputs": [],
   "source": [
    "import glob\n",
    "import os"
   ]
  },
  {
   "cell_type": "code",
   "execution_count": null,
   "metadata": {
    "collapsed": true,
    "id": "W7zx10LV242J"
   },
   "outputs": [],
   "source": [
    "import pandas as pd"
   ]
  },
  {
   "cell_type": "markdown",
   "metadata": {
    "id": "akq4wkjG242M"
   },
   "source": [
    "### 1. Load data"
   ]
  },
  {
   "cell_type": "markdown",
   "metadata": {
    "id": "5nKaYt3Q242O"
   },
   "source": [
    "#### The Yale Face Database B is available at http://vision.ucsd.edu/~iskwak/ExtYaleDatabase/ExtYaleB.html<br> Download the cropped version and extract to a folder such as Your_YaleB_Path"
   ]
  },
  {
   "cell_type": "code",
   "execution_count": null,
   "metadata": {
    "collapsed": true,
    "id": "BmjdmZ_T242P"
   },
   "outputs": [],
   "source": [
    "IMG_PATH = \"Your_YaleB_Path\" + '/CroppedYale'\n",
    "#IMG_PATH = os.path.join(\"/apps4/maonx/\" + '/CroppedYale')"
   ]
  },
  {
   "cell_type": "code",
   "execution_count": null,
   "metadata": {
    "id": "jICWta9y242V",
    "scrolled": false
   },
   "outputs": [],
   "source": [
    "img = Image.open(os.path.join(IMG_PATH, 'yaleB07/yaleB07_P00A-010E-20.pgm') )"
   ]
  },
  {
   "cell_type": "code",
   "execution_count": null,
   "metadata": {
    "id": "nvCoW3vA242W",
    "outputId": "08b980ba-71f1-4e3e-844b-cb4197d43dde",
    "scrolled": true
   },
   "outputs": [
    {
     "data": {
      "image/png": "[encoded data removed]",
      "text/plain": [
       "<PIL.PpmImagePlugin.PpmImageFile image mode=L size=168x192 at 0x7FC281BB7290>"
      ]
     },
     "execution_count": 10,
     "metadata": {
      "tags": []
     },
     "output_type": "execute_result"
    }
   ],
   "source": [
    "img"
   ]
  },
  {
   "cell_type": "code",
   "execution_count": null,
   "metadata": {
    "id": "GZtGNnJV242Y",
    "outputId": "4e788415-e247-4705-d86b-9c66d8499120"
   },
   "outputs": [
    {
     "name": "stdout",
     "output_type": "stream",
     "text": [
      "Image Shape: 192 x 168\n"
     ]
    }
   ],
   "source": [
    "print(\"Image Shape: %d x %d\" %(img.height, img.width))"
   ]
  },
  {
   "cell_type": "code",
   "execution_count": null,
   "metadata": {
    "collapsed": true,
    "id": "by0kmMLx242a"
   },
   "outputs": [],
   "source": [
    "### Remove bad image from list"
   ]
  },
  {
   "cell_type": "code",
   "execution_count": null,
   "metadata": {
    "id": "utEu938p242a",
    "scrolled": false
   },
   "outputs": [],
   "source": [
    "bad_images = read_text_file(os.path.join(IMG_PATH, \"bad.txt\"))"
   ]
  },
  {
   "cell_type": "code",
   "execution_count": null,
   "metadata": {
    "id": "ebmucWot242b"
   },
   "outputs": [],
   "source": [
    "bad_images = map(lambda x: x.split(' ')[0], bad_images)"
   ]
  },
  {
   "cell_type": "code",
   "execution_count": null,
   "metadata": {
    "id": "1k9lNKi0242c",
    "outputId": "c103475b-b239-444c-c7ed-c44ac387f80d"
   },
   "outputs": [
    {
     "data": {
      "text/plain": [
       "[u'yaleB11_P00A+050E-40.pgm',\n",
       " u'yaleB11_P00A+095E+00.pgm',\n",
       " u'yaleB11_P00A-050E-40.pgm',\n",
       " u'yaleB11_P00A-110E+15.pgm',\n",
       " u'yaleB12_P00A+050E-40.pgm',\n",
       " u'yaleB12_P00A+095E+00.pgm',\n",
       " u'yaleB12_P00A-050E-40.pgm',\n",
       " u'yaleB12_P00A-110E+15.pgm',\n",
       " u'yaleB12_P00A-110E-20.pgm',\n",
       " u'yaleB13_P00A+050E-40.pgm',\n",
       " u'yaleB13_P00A+095E+00.pgm',\n",
       " u'yaleB13_P00A-050E-40.pgm',\n",
       " u'yaleB13_P00A-110E+15.pgm',\n",
       " u'yaleB15_P00A-035E+40.pgm',\n",
       " u'yaleB16_P00A+095E+00.pgm',\n",
       " u'yaleB16_P00A-010E+00.pgm',\n",
       " u'yaleB17_P00A-010E+00.pgm',\n",
       " u'yaleB18_P00A-010E+00.pgm']"
      ]
     },
     "execution_count": 13,
     "metadata": {
      "tags": []
     },
     "output_type": "execute_result"
    }
   ],
   "source": [
    "bad_images"
   ]
  },
  {
   "cell_type": "markdown",
   "metadata": {
    "id": "NEZ1vWxO242c"
   },
   "source": [
    "#### Generate the lables Y"
   ]
  },
  {
   "cell_type": "code",
   "execution_count": null,
   "metadata": {
    "id": "WYZ-7AIC242d"
   },
   "outputs": [],
   "source": [
    "Y = []\n",
    "subjects = glob.glob(os.path.join(IMG_PATH, \"*/\"))\n",
    "img_paths = []\n",
    "def check_bad_img(x, bad_images):\n",
    "    for e in bad_images:\n",
    "        if x.find(e) >-1:\n",
    "            return True\n",
    "    return False\n",
    "for i in range(len(subjects)):\n",
    "    l_fn = glob.glob(subjects[i]+'*.pgm')\n",
    "    l_fn = filter(lambda x: not check_bad_img(x, bad_images), l_fn)\n",
    "    img_paths += l_fn\n",
    "    Y += [i]*len(l_fn)\n",
    "Y = np.array(Y)"
   ]
  },
  {
   "cell_type": "code",
   "execution_count": null,
   "metadata": {
    "id": "WF0jteZu242e",
    "outputId": "0fc319e4-ce05-4ebe-c293-38d447a6ff6c"
   },
   "outputs": [
    {
     "name": "stdout",
     "output_type": "stream",
     "text": [
      "Number of images: 2452. Number of subjects: 38\n",
      "('Labels of the first 10 images:', array([0, 0, 0, 0, 0, 0, 0, 0, 0, 0]))\n",
      "('labels of the last 10 images', array([37, 37, 37, 37, 37, 37, 37, 37, 37, 37]))\n"
     ]
    }
   ],
   "source": [
    "print(\"Number of images: %d. Number of subjects: %d\" %(len(img_paths), len(subjects)))\n",
    "print(\"Labels of the first 10 images:\", Y[0:10]) # labels of the first 10 images\n",
    "print(\"labels of the last 10 images\", Y[-10:]) # labels of the last 10 images"
   ]
  },
  {
   "cell_type": "markdown",
   "metadata": {
    "id": "8Y3Sh3fX242f"
   },
   "source": [
    "#### Convert the data from images to numpy matrix"
   ]
  },
  {
   "cell_type": "code",
   "execution_count": null,
   "metadata": {
    "collapsed": true,
    "id": "MWhAkWMj242g"
   },
   "outputs": [],
   "source": [
    "dims = (192, 168)"
   ]
  },
  {
   "cell_type": "code",
   "execution_count": null,
   "metadata": {
    "id": "BFOGlwa-242g",
    "outputId": "08a7310f-f66a-4b48-866d-bf501b070dac",
    "scrolled": true
   },
   "outputs": [
    {
     "name": "stdout",
     "output_type": "stream",
     "text": [
      "X shape: (2452, 32256)\n"
     ]
    }
   ],
   "source": [
    "X = np.zeros((len(img_paths),dims[0]*dims[1]))\n",
    "for i in range(len(img_paths)):\n",
    "    image  = Image.open(img_paths[i])\n",
    "    if not (image.height, image.width) == dims:\n",
    "        image = image.resize(dims)\n",
    "    X[i,:] = image.getdata()\n",
    "    \n",
    "print(\"X shape: \" + str(X.shape))"
   ]
  },
  {
   "cell_type": "markdown",
   "metadata": {
    "id": "oQKQVtQm242h"
   },
   "source": [
    "### 2. Feature Extraction\n",
    "##### In this tutorial, we just apply PCA for the feature engineering task. In practice, some image processing and augmentation techniques would be used to enhance the the performance"
   ]
  },
  {
   "cell_type": "code",
   "execution_count": null,
   "metadata": {
    "id": "ZYi_-OTv242i"
   },
   "outputs": [],
   "source": [
    "pca_model = PCA(copy=False, n_components=100) "
   ]
  },
  {
   "cell_type": "markdown",
   "metadata": {
    "id": "QCQXN1-F242j"
   },
   "source": [
    "#### # We project the data to 100 dimensions associated with 100 eigenvectors corresponding to 100 greatest eigenvalues of the covariance matrix"
   ]
  },
  {
   "cell_type": "code",
   "execution_count": null,
   "metadata": {
    "id": "xX-mXiAk242j",
    "outputId": "077e76e6-3242-4460-ffee-cfb92a504e41"
   },
   "outputs": [
    {
     "data": {
      "text/plain": [
       "(32256,)"
      ]
     },
     "execution_count": 37,
     "metadata": {
      "tags": []
     },
     "output_type": "execute_result"
    }
   ],
   "source": [
    "np.mean(X, axis=0).shape"
   ]
  },
  {
   "cell_type": "code",
   "execution_count": null,
   "metadata": {
    "collapsed": true,
    "id": "JmskkJec242k"
   },
   "outputs": [],
   "source": [
    "?? np.linalg.svd"
   ]
  },
  {
   "cell_type": "code",
   "execution_count": null,
   "metadata": {
    "collapsed": true,
    "id": "dD5bIs6H242k"
   },
   "outputs": [],
   "source": [
    "?? np.linalg.eig"
   ]
  },
  {
   "cell_type": "code",
   "execution_count": null,
   "metadata": {
    "collapsed": true,
    "id": "P5aky1ax242l"
   },
   "outputs": [],
   "source": [
    "X_dash = X-np.mean(X,axis=0)\n",
    "covM = np.matmul(X_dash.T, X_dash)\n",
    "S, U = np.linalg.eig(covM)"
   ]
  },
  {
   "cell_type": "code",
   "execution_count": null,
   "metadata": {
    "id": "JPpo_y8q242l",
    "outputId": "5fa2a534-2822-455c-efe9-964104d7fc07"
   },
   "outputs": [
    {
     "data": {
      "text/plain": [
       "(2452, 32256)"
      ]
     },
     "execution_count": 87,
     "metadata": {
      "tags": []
     },
     "output_type": "execute_result"
    }
   ],
   "source": [
    "X_dash.shape"
   ]
  },
  {
   "cell_type": "code",
   "execution_count": null,
   "metadata": {
    "collapsed": true,
    "id": "OtFsOtzW242m"
   },
   "outputs": [],
   "source": [
    "def MyPCA(X):\n",
    "    meanX = np.mean(X, axis=0)\n",
    "    U, S, V = np.linalg.svd(X-meanX,full_matrices=False)\n",
    "    return U, S, V, meanX\n",
    "\n",
    "#test_proj = MyPCA_Transform(X[0:10,:], V, 100, meanX)\n",
    "def MyPCA_Transform(X, V, n_components, mean=None):\n",
    "    if X.shape[1] != V.shape[1]:\n",
    "        X = X.T\n",
    "    assert n_components <= len(U)\n",
    "    if mean is None:\n",
    "        X = X - mean\n",
    "    return np.matmul(X, V[0:n_components,:].T )"
   ]
  },
  {
   "cell_type": "code",
   "execution_count": null,
   "metadata": {
    "id": "C0GL4xIW242o",
    "outputId": "7640449c-4a10-4058-b0d9-d928539067ec"
   },
   "outputs": [
    {
     "data": {
      "text/plain": [
       "array([[  8.36851058e-05,   1.94254392e-04,   3.71944186e-04, ...,\n",
       "          1.21006788e-03,   1.07284590e-03,   9.85872231e-04],\n",
       "       [  7.93233884e-03,   8.02012895e-03,   8.06054799e-03, ...,\n",
       "         -4.91711422e-03,  -4.75457413e-03,  -4.69440311e-03],\n",
       "       [ -2.50690195e-03,  -2.20834338e-03,  -1.91642615e-03, ...,\n",
       "         -5.97240878e-03,  -5.84784306e-03,  -5.77175488e-03],\n",
       "       ..., \n",
       "       [  1.98787170e-03,   9.60164160e-04,  -1.33676353e-03, ...,\n",
       "         -8.98835018e-03,  -6.44271612e-03,  -4.67652209e-03],\n",
       "       [ -7.31840509e-03,  -7.90592031e-03,  -8.39303341e-03, ...,\n",
       "         -1.28009858e-02,  -1.30422053e-02,  -1.29786620e-02],\n",
       "       [  4.64220951e-03,   5.63968093e-03,   6.43168697e-03, ...,\n",
       "          2.82941760e-02,   2.93508278e-02,   3.10232029e-02]])"
      ]
     },
     "execution_count": 32,
     "metadata": {
      "tags": []
     },
     "output_type": "execute_result"
    }
   ],
   "source": [
    "pca_model.components_"
   ]
  },
  {
   "cell_type": "code",
   "execution_count": null,
   "metadata": {
    "id": "Olm4-Py8242o",
    "outputId": "ae7cc2cf-0107-4cee-990e-4c8f5be53157"
   },
   "outputs": [
    {
     "data": {
      "text/plain": [
       "array([[ -8.36851058e-05,  -1.94254392e-04,  -3.71944186e-04, ...,\n",
       "         -1.21006788e-03,  -1.07284590e-03,  -9.85872231e-04],\n",
       "       [ -7.93233884e-03,  -8.02012895e-03,  -8.06054799e-03, ...,\n",
       "          4.91711422e-03,   4.75457413e-03,   4.69440311e-03],\n",
       "       [ -2.50690195e-03,  -2.20834338e-03,  -1.91642615e-03, ...,\n",
       "         -5.97240878e-03,  -5.84784306e-03,  -5.77175488e-03],\n",
       "       ..., \n",
       "       [ -1.00406042e-03,  -1.00239652e-03,  -2.76683248e-04, ...,\n",
       "          1.34609138e-02,   3.08799937e-03,   3.10085645e-04],\n",
       "       [ -4.14643130e-03,  -2.68563670e-03,  -1.44810034e-03, ...,\n",
       "         -2.61952734e-03,   3.10983275e-04,  -4.48720661e-03],\n",
       "       [ -7.85708641e-03,  -8.71004242e-03,   5.92614117e-03, ...,\n",
       "         -2.88762567e-03,  -1.94061842e-03,  -5.13916456e-03]])"
      ]
     },
     "execution_count": 33,
     "metadata": {
      "tags": []
     },
     "output_type": "execute_result"
    }
   ],
   "source": [
    "V"
   ]
  },
  {
   "cell_type": "code",
   "execution_count": null,
   "metadata": {
    "id": "XBZ9vwhR242p",
    "outputId": "09a2abb8-8b52-473c-cb8d-5b4be0ec06b7",
    "scrolled": true
   },
   "outputs": [
    {
     "data": {
      "text/plain": [
       "array([[  5.54657847e+03,   1.35658179e+03,  -8.13362935e+02,\n",
       "         -8.24413388e+02,  -1.38767292e+03,  -1.32644579e+03,\n",
       "          4.08995384e+01,  -4.32191113e+02,   9.06791228e+02,\n",
       "         -1.47485889e+02,  -5.09595595e+02,   1.27213572e+03,\n",
       "         -5.00421892e+02,  -8.53642953e+01,  -9.90917295e+02,\n",
       "         -8.12345968e+02,  -1.25123171e+03,  -5.62159737e+01,\n",
       "          8.84955515e+02,   7.07457042e+02,  -1.16151431e+02,\n",
       "         -4.34618519e+02,   1.17828372e+02,  -3.27013564e+02,\n",
       "          3.14197511e+02,   6.19583036e+02,   1.32505011e+02,\n",
       "          1.81682934e+02,   6.20158334e+02,   3.65705273e+02,\n",
       "          2.89301428e+02,   4.29737880e+02,  -1.08387895e+02,\n",
       "          8.90691275e+02,   6.27142364e+01,  -2.61365718e+02,\n",
       "          1.94157830e+02,   5.72126261e+01,  -3.33450941e+02,\n",
       "         -9.05998702e+01,  -1.09331604e+02,   2.46504523e+02,\n",
       "         -1.60613778e+02,  -7.23333255e+02,  -5.19202085e+02,\n",
       "          1.65947069e+02,  -2.28093995e+02,   3.92504227e+02,\n",
       "          5.05021343e+01,  -5.76334143e+02,   4.04858746e+02,\n",
       "          3.05173684e+02,  -3.24540370e+02,  -1.85896008e+01,\n",
       "          3.06447465e+02,   4.38843976e+01,  -4.59773522e+02,\n",
       "         -1.37489353e+02,   2.62385121e+02,  -1.36387576e+02,\n",
       "         -9.71450990e+01,   5.83743576e+00,   9.48190538e+01,\n",
       "          8.80813230e+01,  -5.58796689e+01,  -1.34673212e+02,\n",
       "          1.94488633e+02,   9.34113100e+01,  -3.31631051e+02,\n",
       "          2.20898730e+02,  -4.18472219e+02,   8.45614068e+01,\n",
       "         -1.66984992e+02,  -8.83892934e+00,   5.17039156e+01,\n",
       "         -1.73560579e+02,  -3.18944041e+01,  -6.96297220e+01,\n",
       "          4.77214502e+01,   6.76652650e+01,  -3.53389784e+01,\n",
       "         -9.36143573e+01,  -1.59151091e+02,   8.20116092e+01,\n",
       "          1.05425504e+02,   2.35073403e+02,  -3.27100838e+02,\n",
       "          2.52758108e+02,   1.14008234e+02,  -3.22749365e+01,\n",
       "         -9.14526008e+01,  -1.11835123e+02,  -2.03255648e+02,\n",
       "          6.94038979e+01,  -1.74746934e+01,  -2.77829650e+02,\n",
       "         -6.49320356e+01,  -1.12515609e+02,   3.35406367e+01,\n",
       "          9.31094133e+00],\n",
       "       [  6.41957800e+03,   1.80552152e+03,   1.59634502e+03,\n",
       "         -3.13390938e+02,  -1.74081333e+03,  -2.44041250e+03,\n",
       "          1.55192623e+02,  -4.83547949e+02,   9.24808367e+02,\n",
       "         -1.32295449e+02,   3.48322278e+02,   6.85562834e+02,\n",
       "         -5.11474906e+02,  -6.99296499e+02,  -8.91427413e+02,\n",
       "         -4.92994627e+02,  -1.05881877e+03,  -5.56176845e+02,\n",
       "          1.31229736e+03,   7.17249869e+02,  -4.25709512e+02,\n",
       "         -5.37121687e+02,  -3.94137172e+01,  -3.36955223e+02,\n",
       "          1.27736596e+02,   2.09789371e+02,   1.93364992e+00,\n",
       "          4.77267696e+02,   6.32611381e+02,   4.27076798e+02,\n",
       "          2.54600274e+02,   4.94916110e+02,  -9.23226073e+00,\n",
       "          1.02213419e+03,  -9.88961013e+01,  -3.32359009e+02,\n",
       "          4.06749589e+02,   8.67794686e+01,  -3.61184525e+02,\n",
       "          1.38564149e+02,  -2.44177225e+02,   4.57777921e+02,\n",
       "          4.74319448e+01,  -5.36802164e+02,  -4.78147730e+02,\n",
       "          3.73149131e+02,  -1.49333152e+02,   5.27201218e+02,\n",
       "         -1.32310108e+01,  -4.07367468e+02,   6.71691409e+02,\n",
       "          1.46379235e+02,  -1.75501364e+02,   4.17396708e+00,\n",
       "          2.40121992e+02,  -5.98328341e+01,  -3.39420963e+02,\n",
       "         -8.77573505e+01,   5.95839974e+02,   8.55900899e+01,\n",
       "          1.09465557e+02,  -1.98615933e+01,   1.78864299e+02,\n",
       "         -5.29025408e+01,   1.74510682e+01,  -8.35612424e+00,\n",
       "          2.92613443e+02,   2.47019578e+02,  -1.66135763e+02,\n",
       "          3.06172658e+02,  -5.83881093e+02,  -6.77478676e+01,\n",
       "         -1.99284383e+02,   5.93650975e+00,   7.69745510e+01,\n",
       "         -2.05095981e+02,  -2.92262117e+01,  -8.03075375e+01,\n",
       "          1.70182910e+02,  -1.23910713e+02,  -9.43024880e+01,\n",
       "         -2.70459942e+02,  -1.49579279e+02,  -3.98167461e+01,\n",
       "          1.56334102e+02,   8.63136696e+01,  -2.72948678e+02,\n",
       "          3.99930381e+02,   8.69607321e+01,  -3.00622902e+01,\n",
       "         -5.83173818e+01,   9.33253488e+01,  -2.37731432e+02,\n",
       "          6.56926721e+01,   7.71250771e+01,  -8.69927691e+01,\n",
       "         -1.04709509e+02,  -1.79498291e+02,   1.07673689e+02,\n",
       "          8.03723345e+01],\n",
       "       [  4.51507645e+03,   1.99416468e+03,   3.77727402e+03,\n",
       "         -3.59827411e+01,  -2.11284883e+03,  -3.66584335e+03,\n",
       "          2.20732481e+02,   1.21969132e+02,   2.70146341e+02,\n",
       "          1.21483870e+02,   1.95641374e+03,   8.13244008e+02,\n",
       "         -2.86941901e+02,  -1.42042481e+03,   1.13101399e+02,\n",
       "         -3.27898826e+02,  -8.10550159e+02,  -9.37698117e+02,\n",
       "          2.15260619e+03,  -7.37397143e+02,  -5.01238729e+02,\n",
       "         -7.83340834e+00,   1.09090394e+02,  -3.16017207e+02,\n",
       "         -3.45063023e+02,  -4.36592258e+01,  -3.85212334e+02,\n",
       "          1.09524962e+03,   2.51894499e+02,   1.79864171e+02,\n",
       "         -3.60863420e+02,   6.02531656e+02,  -2.86274347e+02,\n",
       "          5.83239542e+02,  -5.54296612e+02,  -1.87259088e+02,\n",
       "          1.42252973e+02,   7.25595651e+01,   8.55321963e+01,\n",
       "          1.20535888e+03,  -6.48701046e+01,   8.70251249e+02,\n",
       "          1.91837396e+02,  -1.03307804e+02,  -3.70327144e+02,\n",
       "          5.68641797e+02,   8.26312150e+01,  -5.97495676e+01,\n",
       "         -4.06668880e+02,  -2.52977077e+02,   4.21434296e+02,\n",
       "         -2.52078991e+02,   3.51081496e+02,   5.29273060e+01,\n",
       "         -7.14282539e+01,  -4.71199334e+02,  -7.08249486e+01,\n",
       "          3.01694168e+01,   6.12700383e+02,   2.01408589e+02,\n",
       "          8.95828092e+02,  -3.25367049e+01,   3.61549442e+02,\n",
       "         -9.37993758e+01,  -4.98524793e+00,   2.25999861e+02,\n",
       "          4.71872612e+02,   2.37198288e+02,   2.94234094e+02,\n",
       "          1.87746911e+02,  -2.86651580e+02,  -4.71335129e+02,\n",
       "          1.40448630e+02,   6.61161891e+01,   4.61416673e+02,\n",
       "          2.86190813e+01,   3.83631170e+01,  -1.99085734e+02,\n",
       "          9.93086611e+01,  -2.44477467e+02,  -2.03584915e+02,\n",
       "          7.15474113e+01,  -4.33347886e+02,  -2.45231320e+01,\n",
       "         -1.67806549e+02,  -1.06835616e+02,   1.83797852e+02,\n",
       "         -1.29784383e+02,  -1.50113669e+02,   5.57474959e+02,\n",
       "          3.18873789e+02,   1.72306126e+02,  -2.12878652e+02,\n",
       "         -1.14485799e+02,   3.90669750e+02,   1.78294154e+01,\n",
       "         -1.79049237e+02,  -3.72065927e+02,  -2.41084406e+02,\n",
       "         -5.89206407e+01],\n",
       "       [ -6.73702631e+03,  -8.98585401e+01,   4.35537250e+03,\n",
       "         -1.84283661e+03,  -6.76606429e+02,  -4.08034016e+03,\n",
       "         -4.05693727e+02,   5.47570067e+02,  -1.91968262e+03,\n",
       "         -8.92737764e+02,   8.79203273e+02,   6.67005862e+02,\n",
       "         -1.36328044e+02,   1.38799950e+03,   1.69334334e+02,\n",
       "          5.98788703e+02,   2.29285443e+02,  -3.23251023e+02,\n",
       "          8.32466499e+02,  -4.90053976e+02,   3.91055860e+02,\n",
       "          7.05048276e+02,  -7.91951070e+02,  -2.13755671e+02,\n",
       "         -7.48018756e+02,  -3.30101903e+02,   5.45172556e+02,\n",
       "          3.28875757e+02,  -3.15234272e+02,   6.85475389e+02,\n",
       "          4.16731420e+02,   9.12592264e+02,  -7.15204291e+02,\n",
       "         -2.18014993e+02,  -7.32756315e+02,   4.69064216e+02,\n",
       "         -2.18750991e+02,   5.70914014e+02,   9.16429062e+02,\n",
       "          4.39874772e+02,   2.72794462e+02,   7.30434342e+02,\n",
       "         -5.80308748e+02,  -6.79634056e+02,  -3.10650780e+02,\n",
       "          3.34320739e+02,  -1.77568158e+02,   3.17185783e+01,\n",
       "         -6.66178502e+02,  -4.45152370e+01,  -3.01436352e+02,\n",
       "         -1.33250199e+02,   1.14042372e+02,  -2.14963177e+02,\n",
       "          8.24950669e+01,  -9.65988018e+01,   4.36689477e+00,\n",
       "         -2.65407530e+01,  -1.23184102e+01,   3.60403254e+01,\n",
       "          2.20062790e+02,  -2.29691288e+01,   1.55487102e+02,\n",
       "          1.18500208e+02,   3.21354476e+02,   3.46743693e+01,\n",
       "         -4.27424499e+02,  -2.47407065e+00,   7.32449348e+01,\n",
       "         -5.58632501e+01,  -3.36313300e+02,  -3.45974302e+02,\n",
       "          4.29699443e+02,   2.41952139e+02,  -1.03979848e+00,\n",
       "          3.58019625e+02,   1.84958222e+02,  -3.72175955e+02,\n",
       "          7.67080713e+00,   1.70741569e+02,   1.41151141e+02,\n",
       "          3.06331652e+02,  -5.19406215e+01,  -7.67040374e+01,\n",
       "         -1.86064309e+02,  -4.34462494e+01,   1.12444566e+02,\n",
       "         -3.90775974e+02,  -6.03674456e+02,  -8.01388187e+01,\n",
       "          1.72145057e+01,   2.41287739e+02,  -2.14184776e+01,\n",
       "         -1.99408968e+02,   1.28381243e+02,   1.53686926e+02,\n",
       "         -6.62672557e+01,  -1.04140559e+02,   4.66590790e+01,\n",
       "          2.63385376e+02],\n",
       "       [  4.35412349e+03,   8.70823621e+02,  -2.68320337e+03,\n",
       "         -1.38532515e+03,  -1.15640131e+03,  -3.96246328e+02,\n",
       "         -1.57670394e+02,  -8.47404882e+02,   9.27803632e+02,\n",
       "         -2.39615865e+02,  -1.40384719e+03,   1.63797236e+03,\n",
       "         -3.41406284e+02,  -3.74210195e+00,  -1.28601683e+03,\n",
       "         -1.09944207e+03,  -1.57672629e+03,   3.40388720e+02,\n",
       "          5.07946788e+02,   6.50268454e+02,   2.58145820e+02,\n",
       "         -2.85481608e+02,   2.15653186e+02,  -2.47157684e+02,\n",
       "          4.14803755e+02,   8.11394140e+02,   2.62186827e+02,\n",
       "         -6.45197929e+01,   8.42026107e+02,   3.92236828e+02,\n",
       "          1.41043318e+02,   3.86743649e+02,  -3.03872698e+02,\n",
       "          8.94489057e+02,   9.69838736e+01,  -2.99061194e+02,\n",
       "         -6.35557104e+01,   8.07473689e+01,  -3.61821478e+02,\n",
       "         -1.75355736e+02,  -1.86468550e+02,  -8.81765753e+01,\n",
       "         -3.38432479e+02,  -7.94012251e+02,  -6.47909724e+02,\n",
       "          1.21289533e+02,  -2.72827120e+02,   2.54962266e+02,\n",
       "         -4.90740039e+01,  -7.96693194e+02,   1.41092223e+02,\n",
       "          3.87972054e+02,  -2.92900071e+02,  -2.76290522e+01,\n",
       "          1.58387708e+02,  -3.67508333e+01,  -4.59899582e+02,\n",
       "         -7.88356337e+01,   1.10806747e+02,  -1.44987694e+02,\n",
       "         -3.43485252e+02,   4.28327593e+01,   1.26118609e+02,\n",
       "          6.89432991e+01,  -6.04515994e+01,  -4.58962982e+02,\n",
       "          3.29715734e+01,  -2.24402615e+00,  -4.50806284e+02,\n",
       "          6.41659806e+01,  -2.06193179e+02,   2.42805241e+02,\n",
       "         -3.01526839e+02,   8.54661310e+01,  -3.49384347e+01,\n",
       "          4.57986735e+01,  -1.16352421e+02,  -6.16783992e+01,\n",
       "         -8.48851359e-01,   3.60675741e+02,   1.00774612e+02,\n",
       "         -5.44584171e+01,  -7.28884488e+01,   6.11307769e+01,\n",
       "          1.56069238e+02,   2.08661607e+02,  -2.36321318e+02,\n",
       "          2.29043245e+02,   8.82742042e+01,  -8.31996882e+01,\n",
       "         -8.69692930e+00,  -2.89588299e+02,  -1.91810194e+02,\n",
       "         -3.37986637e+01,   4.50657050e+01,  -4.20393962e+02,\n",
       "         -4.91186431e+01,   9.53542972e+01,   2.65391273e+01,\n",
       "         -2.54838263e+01],\n",
       "       [  7.19446188e+01,   3.20498916e+02,  -3.24053967e+03,\n",
       "         -2.19360757e+03,  -1.10798031e+03,   4.26661385e+02,\n",
       "         -1.84738453e+02,  -5.82128813e+02,   6.44853263e+02,\n",
       "         -3.09387693e+02,  -1.53019102e+03,   1.82501651e+03,\n",
       "         -3.54984681e+02,  -7.75690208e+01,  -8.44501790e+02,\n",
       "         -1.09156733e+03,  -1.73415091e+03,   5.47575222e+02,\n",
       "          6.07366457e+02,   2.44337513e+02,   2.29650461e+02,\n",
       "          4.96732454e+01,   5.52441806e+02,  -3.21743734e+02,\n",
       "          4.19633659e+01,   7.11270791e+02,   3.54128884e+02,\n",
       "         -4.10274639e+02,   9.42609083e+02,   5.26287219e+02,\n",
       "         -1.42925640e+02,   2.84895391e+02,  -1.18614034e+02,\n",
       "          4.17330985e+02,   2.44759779e+02,  -1.24197434e+02,\n",
       "         -5.55625685e+02,   1.43765296e+02,  -3.72992889e+02,\n",
       "         -1.66714645e+02,  -9.81066026e+01,  -3.16412488e+02,\n",
       "         -3.17289241e+02,  -7.43776432e+02,  -3.96040081e+02,\n",
       "          2.62222140e+02,  -3.88101208e+02,   2.15927736e+02,\n",
       "          1.65999722e+02,  -5.20921188e+02,  -1.73852360e+02,\n",
       "          2.87525910e+02,  -1.93197534e+02,  -1.51450161e+02,\n",
       "          1.09941806e+02,  -9.92500509e+01,  -3.86392357e+02,\n",
       "         -1.71801705e+01,   5.45559917e+01,  -1.21105813e+02,\n",
       "         -8.19164963e+02,  -2.72882334e+02,   3.52225186e+02,\n",
       "         -2.78429507e+02,   1.11004478e+01,  -4.80637648e+02,\n",
       "         -3.12744110e+02,  -4.91751264e+02,  -3.39627367e+02,\n",
       "         -4.44722379e+00,   1.05341885e+02,   1.33579085e+02,\n",
       "         -3.47496758e+02,   5.39764366e+01,  -1.27680208e+02,\n",
       "          6.22605680e+01,  -6.54121957e+02,   1.99446475e+02,\n",
       "         -1.86273240e+02,   4.50337702e+02,   5.27666660e+01,\n",
       "         -3.82168031e+01,   7.92311765e+01,  -1.57622538e+01,\n",
       "          9.17819315e+01,   1.93501472e+02,  -1.05671372e+02,\n",
       "          1.05041640e+02,  -2.56570021e+01,   5.78659685e+01,\n",
       "         -8.19458497e+01,  -2.97611842e+02,  -3.35879195e+02,\n",
       "          1.50848796e+02,   2.58135061e+00,  -2.08103213e+02,\n",
       "         -1.17848785e+02,   1.44859867e+02,  -1.77920086e+02,\n",
       "         -3.70905216e+01],\n",
       "       [  5.59709972e+03,   3.00877146e+03,   1.13089183e+02,\n",
       "         -4.90792448e+02,  -2.04653320e+03,  -1.37783593e+03,\n",
       "          1.23880928e+02,   1.62902446e+02,   7.54050568e+02,\n",
       "          2.47247402e+02,  -5.12371170e+01,   1.55844779e+03,\n",
       "         -1.96546590e+02,  -1.25998664e+03,  -2.34437264e+02,\n",
       "         -3.27143827e+02,  -1.70992460e+03,  -3.81376355e+02,\n",
       "          1.83632767e+03,  -1.45816452e+02,   1.18879351e+02,\n",
       "         -3.33459368e+02,   4.77734638e+02,  -5.66804557e+02,\n",
       "         -5.66857005e+01,   7.06211276e+02,   1.68709143e+01,\n",
       "          1.55484133e+02,   7.41690558e+02,   1.83079569e+02,\n",
       "          9.48136771e+01,   5.61939557e+02,  -2.82682505e+02,\n",
       "          8.17072588e+02,   1.14637701e+02,  -3.47566768e+02,\n",
       "         -2.91222491e+02,  -1.20027027e+02,  -2.10031958e+02,\n",
       "          4.06333546e+02,  -7.73810880e+01,   3.74286288e+02,\n",
       "         -2.04297032e+02,  -7.02292611e+02,  -1.47014783e+01,\n",
       "          5.38053194e+02,  -3.92823654e+02,   1.75145355e+02,\n",
       "          1.78304162e+02,  -5.91816866e+02,   2.81010709e+02,\n",
       "         -2.50073979e+00,   8.72482751e+01,  -2.74327247e+02,\n",
       "         -3.43875850e+00,  -3.56730036e+02,  -3.85516387e+02,\n",
       "          5.35639203e+01,   4.00924139e+02,   6.89166584e+01,\n",
       "          1.38907928e+02,  -2.46964455e+02,   3.28079198e+02,\n",
       "         -2.92512940e+02,  -1.64856099e+02,  -1.26427979e+02,\n",
       "          1.51368509e+02,  -1.38755281e+02,   1.37417168e+02,\n",
       "          2.76381844e+02,  -2.98634989e+02,  -7.61604619e+01,\n",
       "          3.35464867e+01,   1.54536497e+02,   7.46623373e+01,\n",
       "         -1.57544624e+02,  -3.99195890e+02,   1.94268013e+02,\n",
       "         -5.72951959e+00,   1.13132273e+02,  -4.07664223e+01,\n",
       "         -1.66935740e+02,  -1.72436237e+02,  -1.38951929e+02,\n",
       "         -7.20824153e+01,   1.46771620e+02,   6.29938354e+01,\n",
       "          1.09492926e+02,  -6.30866409e+01,   3.56282612e+02,\n",
       "          3.12487886e+01,  -1.63135998e+01,  -2.33811308e+02,\n",
       "          2.10629875e+02,   7.27520787e+01,   5.47762961e+01,\n",
       "         -2.39740455e+02,  -2.75466555e+02,  -1.69191358e+02,\n",
       "         -8.69942147e+01],\n",
       "       [  4.24271660e+03,   2.86392600e+03,  -1.88875958e+03,\n",
       "         -1.08271998e+03,  -1.79854217e+03,  -3.79660019e+02,\n",
       "         -2.49456328e+01,  -9.80076083e+01,   7.41025320e+02,\n",
       "          7.24181716e+01,  -9.94787890e+02,   1.78852904e+03,\n",
       "         -2.96066590e+02,  -8.24646873e+02,  -5.48010489e+02,\n",
       "         -6.80382769e+02,  -1.84472412e+03,   2.95304033e+02,\n",
       "          1.32737164e+03,   2.58433414e+01,   4.30681009e+02,\n",
       "         -2.09724473e+02,   5.59745379e+02,  -3.52084839e+02,\n",
       "          1.52978973e+02,   8.45621429e+02,   2.58092730e+02,\n",
       "         -1.03223510e+02,   9.77632669e+02,   4.93901105e+02,\n",
       "         -1.35433260e+01,   4.29430046e+02,  -2.35734948e+02,\n",
       "          6.06011769e+02,   2.53608821e+02,  -2.82361808e+02,\n",
       "         -5.04894090e+02,  -1.82466559e+01,  -3.77151425e+02,\n",
       "          2.15284412e+01,   4.49000943e+00,   6.84643312e+01,\n",
       "         -3.45217528e+02,  -8.33959985e+02,  -2.58018608e+02,\n",
       "          3.53620350e+02,  -4.32361583e+02,   1.95656144e+02,\n",
       "          1.26797510e+02,  -5.18270997e+02,   1.08681652e+02,\n",
       "          1.24087494e+02,  -7.92699625e+01,  -2.11214574e+02,\n",
       "          6.94528465e+01,  -2.52668452e+02,  -4.50862830e+02,\n",
       "          1.15426169e+01,   2.89349338e+02,  -3.60259016e+01,\n",
       "         -3.39947608e+02,  -3.02596813e+02,   3.99838381e+02,\n",
       "         -3.62483747e+02,  -1.88869139e+02,  -3.32113982e+02,\n",
       "         -7.68943635e+01,  -2.91642425e+02,  -1.51350566e+02,\n",
       "          1.12340758e+02,  -9.19789773e+01,   9.18381050e+00,\n",
       "         -1.46459970e+02,   1.84274299e+01,   5.80800656e+01,\n",
       "         -1.20919120e+02,  -5.68620478e+02,   2.48029577e+02,\n",
       "         -5.55301734e+01,   2.32983637e+02,   6.45900445e+01,\n",
       "         -3.36246677e+01,  -1.33189470e+02,  -1.35479422e+02,\n",
       "         -1.87387679e+01,   2.14946727e+02,  -4.83437086e+01,\n",
       "          1.12354249e+02,  -3.74880511e+01,   2.45267004e+02,\n",
       "         -3.09892942e+01,  -1.94385578e+02,  -2.94116785e+02,\n",
       "          2.24492330e+02,  -2.43827526e+01,   2.28314013e+01,\n",
       "         -2.55232495e+02,  -2.54747506e+00,  -1.61046648e+02,\n",
       "         -3.60618547e+01],\n",
       "       [  6.16204875e+03,   4.72790565e+03,  -1.11946036e+03,\n",
       "         -5.20568764e+02,  -2.16706082e+03,  -8.32951942e+02,\n",
       "          4.79551310e+01,   7.18996104e+01,   9.42406704e+02,\n",
       "          4.82530390e+02,  -5.24860738e+02,   1.83909449e+03,\n",
       "         -3.63141857e+02,  -1.10936940e+03,  -2.74755628e+02,\n",
       "         -3.84599839e+02,  -2.05395572e+03,   2.77475949e+01,\n",
       "          1.68702875e+03,  -4.10924950e+01,   4.03102129e+02,\n",
       "         -2.96304939e+02,   6.82003116e+02,  -4.51080955e+02,\n",
       "          1.70783147e+02,   8.54200562e+02,   1.42193959e+02,\n",
       "          4.49665569e+01,   9.07954582e+02,   3.89378548e+02,\n",
       "          1.36856217e+02,   4.97547751e+02,  -2.56178280e+02,\n",
       "          6.83151306e+02,   2.41496689e+02,  -2.97394807e+02,\n",
       "         -4.06639693e+02,  -1.06011621e+02,  -3.75985673e+02,\n",
       "          2.17314895e+02,  -2.36535174e+00,   2.44798217e+02,\n",
       "         -2.84357779e+02,  -8.76864753e+02,  -1.44770179e+02,\n",
       "          4.96407019e+02,  -4.30210286e+02,   2.06959707e+02,\n",
       "          1.58169237e+02,  -6.06937761e+02,   2.51902961e+02,\n",
       "          7.17236524e+01,   2.41116774e+01,  -2.52290233e+02,\n",
       "          1.05358549e+02,  -3.07387082e+02,  -4.90307985e+02,\n",
       "         -1.54824431e+01,   3.58232990e+02,  -6.00768059e+00,\n",
       "         -1.88099256e+02,  -3.26543820e+02,   4.34256803e+02,\n",
       "         -4.08858039e+02,  -1.96554693e+02,  -2.66718074e+02,\n",
       "          1.85053196e+01,  -2.79043116e+02,  -3.36435777e+01,\n",
       "          1.74948395e+02,  -2.12564512e+02,  -3.06379347e+01,\n",
       "         -4.59979407e+00,   1.29879097e+01,   8.94282770e+00,\n",
       "         -1.64401652e+02,  -4.79755506e+02,   2.19982786e+02,\n",
       "         -4.45755236e+01,   1.22541641e+02,   3.45258521e+01,\n",
       "         -1.55263831e+02,  -1.79021873e+02,  -1.99579617e+02,\n",
       "         -3.73480602e+01,   2.03915678e+02,   1.55327957e+01,\n",
       "          1.24246232e+02,  -5.75871200e+01,   3.30521248e+02,\n",
       "          8.05248866e+01,  -1.01300344e+02,  -3.10117035e+02,\n",
       "          2.67253851e+02,   5.46966151e+01,   7.85572507e+01,\n",
       "         -3.13205183e+02,  -1.36765160e+02,  -1.86512177e+02,\n",
       "         -8.70304656e+01],\n",
       "       [  2.75009341e+03,   3.34427185e+03,  -2.47365458e+03,\n",
       "         -1.50791049e+03,  -1.23369909e+03,  -2.91771690e+02,\n",
       "         -2.25765756e+02,  -7.10558276e+02,   8.93149417e+02,\n",
       "          3.02637648e+01,  -1.24985503e+03,   1.55604889e+03,\n",
       "         -6.18479033e+02,   3.13902923e+02,  -1.09348177e+03,\n",
       "         -1.05612095e+03,  -1.60420819e+03,   3.34784897e+02,\n",
       "          3.12619476e+02,   7.02961141e+02,   2.02188097e+02,\n",
       "         -3.01521656e+02,   1.33132107e+02,  -2.42988857e+02,\n",
       "          3.79485772e+02,   7.12153152e+02,   3.20612164e+02,\n",
       "          3.73271662e+00,   6.38282358e+02,   5.51055062e+02,\n",
       "          1.52826215e+02,   5.27795984e+02,  -2.60991276e+02,\n",
       "          7.28771540e+02,   7.08477670e+01,  -2.71329679e+02,\n",
       "          4.71370892e+01,   6.04446048e+01,  -2.37509605e+02,\n",
       "         -2.63412894e+02,  -7.10799819e+01,  -7.73552634e+01,\n",
       "         -2.94992975e+02,  -7.61319061e+02,  -6.37771258e+02,\n",
       "          8.42213658e+01,  -3.05435014e+02,   2.55272644e+02,\n",
       "          1.35762152e+01,  -5.97320540e+02,   1.13088099e+02,\n",
       "          3.23227004e+02,  -3.06928047e+02,   2.15383987e+01,\n",
       "          2.48767227e+02,   2.13659713e+01,  -4.81756306e+02,\n",
       "         -1.41883750e+02,   7.91467667e+01,  -2.16637656e+02,\n",
       "         -3.26822703e+02,   5.01407344e+01,   1.45510613e+02,\n",
       "          1.91282593e+02,  -3.84348988e+01,  -2.45767446e+02,\n",
       "          4.24502597e+01,   3.32652738e+01,  -4.28214357e+02,\n",
       "          9.14068327e+01,   9.56400466e+00,   1.70495385e+02,\n",
       "         -1.16604500e+02,  -9.73004844e+01,  -7.26949818e+01,\n",
       "         -1.14232223e+01,   4.90659205e+00,  -3.90334183e+01,\n",
       "          8.71046101e+00,   2.92149590e+02,   3.52512481e+01,\n",
       "          3.09770071e+01,  -4.79905252e+01,   3.29922444e+00,\n",
       "          2.50645671e+02,   2.05320881e+02,  -2.42706959e+02,\n",
       "          1.71874961e+02,   5.81809509e+01,  -9.05632124e+01,\n",
       "         -1.38296904e+01,  -1.73166020e+02,  -1.20988088e+02,\n",
       "          3.93093594e+01,  -3.98096796e+01,  -5.54054006e+02,\n",
       "         -6.76111122e+01,  -7.95987703e+00,  -5.61258194e+01,\n",
       "         -2.18376253e+01]])"
      ]
     },
     "execution_count": 29,
     "metadata": {
      "tags": []
     },
     "output_type": "execute_result"
    }
   ],
   "source": [
    "X_prj[0:10,:]"
   ]
  },
  {
   "cell_type": "code",
   "execution_count": null,
   "metadata": {
    "id": "4CUKVU0n242p"
   },
   "outputs": [],
   "source": [
    "U, S, V, meanX = MyPCA(X)"
   ]
  },
  {
   "cell_type": "code",
   "execution_count": null,
   "metadata": {
    "id": "YCObYAM-242q",
    "outputId": "9f772454-9edf-46ae-a4ae-5db5f3ea944f",
    "scrolled": true
   },
   "outputs": [
    {
     "name": "stdout",
     "output_type": "stream",
     "text": [
      "(2451, 7.3680932908653109e-10)\n"
     ]
    }
   ],
   "source": [
    "for i in range(len(S)):\n",
    "    if S[i] < 1e-6:\n",
    "        print(i, S[i])"
   ]
  },
  {
   "cell_type": "code",
   "execution_count": null,
   "metadata": {
    "id": "-txgQDri242q"
   },
   "outputs": [],
   "source": [
    "for i in range(len(X)):\n",
    "    for j in range(i+1, len(X)):\n",
    "        if np.linalg.norm(X[i]-X[j])<1e-6:\n",
    "            print(i, j)"
   ]
  },
  {
   "cell_type": "code",
   "execution_count": null,
   "metadata": {
    "id": "Qt4BB21s242r",
    "outputId": "628fd2ef-22ed-42de-e6e4-7e7d9ea2c576"
   },
   "outputs": [
    {
     "data": {
      "text/plain": [
       "2.4463707084577678e-09"
      ]
     },
     "execution_count": 75,
     "metadata": {
      "tags": []
     },
     "output_type": "execute_result"
    }
   ],
   "source": [
    "np.linalg.norm(np.matmul(np.matmul(U, np.diag(S)), V) - (X-np.mean(X, axis=0)))"
   ]
  },
  {
   "cell_type": "code",
   "execution_count": null,
   "metadata": {
    "id": "gQB7hrlC242r"
   },
   "outputs": [],
   "source": [
    "test_proj = MyPCA_Transform(X[0:10,:], V, 100, meanX)"
   ]
  },
  {
   "cell_type": "code",
   "execution_count": null,
   "metadata": {
    "id": "Eic8j2Jt242s",
    "outputId": "73996829-8416-4d0d-8b67-c37d2005395d"
   },
   "outputs": [
    {
     "data": {
      "text/plain": [
       "array([[ -5.54657847e+03,  -1.35658179e+03,  -8.13362935e+02,\n",
       "         -8.24413388e+02,   1.38767292e+03,  -1.32644579e+03,\n",
       "          4.08995384e+01,  -4.32191113e+02,   9.06791228e+02,\n",
       "          1.47485889e+02,  -5.09595595e+02,   1.27213572e+03,\n",
       "         -5.00421892e+02,   8.53642952e+01,  -9.90917296e+02,\n",
       "          8.12345968e+02,  -1.25123171e+03,   5.62159738e+01,\n",
       "         -8.84955514e+02,   7.07457042e+02,  -1.16151429e+02,\n",
       "          4.34618522e+02,  -1.17828371e+02,  -3.27013566e+02,\n",
       "          3.14197518e+02,   6.19582994e+02,  -1.32505044e+02,\n",
       "          1.81682969e+02,  -6.20158387e+02,   3.65705233e+02,\n",
       "         -2.89301511e+02,   4.29737656e+02,  -1.08388041e+02,\n",
       "          8.90691190e+02,  -6.27145426e+01,   2.61365152e+02,\n",
       "         -1.94157101e+02,   5.72120444e+01,  -3.33451993e+02,\n",
       "          9.06003214e+01,  -1.09332433e+02,   2.46503660e+02,\n",
       "         -1.60611428e+02,   7.23327837e+02,  -5.19182987e+02,\n",
       "          1.65944145e+02,   2.28089071e+02,  -3.92497372e+02,\n",
       "          5.05168159e+01,   5.76341685e+02,  -4.04789026e+02,\n",
       "         -3.05209192e+02,   3.24564125e+02,   1.86353619e+01,\n",
       "          3.06460346e+02,  -4.39452493e+01,  -4.59764274e+02,\n",
       "          1.37479402e+02,   2.62345283e+02,  -1.36526673e+02,\n",
       "         -9.72945016e+01,  -5.78924698e+00,  -9.45784628e+01,\n",
       "          8.80335023e+01,   5.61730438e+01,   1.34294422e+02,\n",
       "          1.94751633e+02,  -9.20496033e+01,  -3.31807012e+02,\n",
       "          2.21998574e+02,  -4.17449382e+02,   8.54882018e+01,\n",
       "         -1.67183909e+02,   6.73298086e+00,  -5.33513702e+01,\n",
       "          1.72492845e+02,  -3.34523318e+01,   6.95309620e+01,\n",
       "         -4.85198961e+01,   6.56152152e+01,  -3.52227042e+01,\n",
       "          1.00134883e+02,  -1.56771748e+02,   8.68759926e+01,\n",
       "         -1.30954411e+02,   2.33876139e+02,  -2.62233706e+02,\n",
       "          2.85150639e+02,  -1.26290587e+02,   1.01312347e+01,\n",
       "          7.65128962e+01,  -1.40259672e+02,   1.76136887e+02,\n",
       "         -6.62748521e+01,   2.28626517e+02,  -3.00264718e+01,\n",
       "         -4.94428766e+01,   1.68471036e+02,   2.75266216e+01,\n",
       "         -1.27479583e+02],\n",
       "       [ -6.41957800e+03,  -1.80552152e+03,   1.59634502e+03,\n",
       "         -3.13390938e+02,   1.74081333e+03,  -2.44041250e+03,\n",
       "          1.55192623e+02,  -4.83547949e+02,   9.24808367e+02,\n",
       "          1.32295449e+02,   3.48322278e+02,   6.85562834e+02,\n",
       "         -5.11474906e+02,   6.99296499e+02,  -8.91427414e+02,\n",
       "          4.92994626e+02,  -1.05881876e+03,   5.56176846e+02,\n",
       "         -1.31229736e+03,   7.17249871e+02,  -4.25709509e+02,\n",
       "          5.37121698e+02,   3.94137158e+01,  -3.36955226e+02,\n",
       "          1.27736588e+02,   2.09789308e+02,  -1.93369586e+00,\n",
       "          4.77267805e+02,  -6.32611367e+02,   4.27076591e+02,\n",
       "         -2.54600471e+02,   4.94915828e+02,  -9.23257763e+00,\n",
       "          1.02213399e+03,   9.88961551e+01,   3.32359161e+02,\n",
       "         -4.06748830e+02,   8.67790914e+01,  -3.61185913e+02,\n",
       "         -1.38562433e+02,  -2.44177343e+02,   4.57777130e+02,\n",
       "          4.74346991e+01,   5.36793910e+02,  -4.78127714e+02,\n",
       "          3.73143376e+02,   1.49331179e+02,  -5.27191397e+02,\n",
       "         -1.32289568e+01,   4.07368088e+02,  -6.71629794e+02,\n",
       "         -1.46407552e+02,   1.75520617e+02,  -4.12710838e+00,\n",
       "          2.40131791e+02,   5.98079527e+01,  -3.39505583e+02,\n",
       "          8.77330152e+01,   5.95962059e+02,   8.53348933e+01,\n",
       "          1.09244070e+02,   1.99046692e+01,  -1.78970572e+02,\n",
       "         -5.31339999e+01,  -1.75659304e+01,   7.83701079e+00,\n",
       "          2.92776835e+02,  -2.45145265e+02,  -1.66554009e+02,\n",
       "          3.07429030e+02,  -5.82088153e+02,  -6.66025303e+01,\n",
       "         -1.99479951e+02,  -6.64808088e+00,  -8.13564641e+01,\n",
       "          2.03961880e+02,  -3.11302844e+01,   8.12482914e+01,\n",
       "         -1.69051155e+02,  -1.26239480e+02,  -9.47999881e+01,\n",
       "          2.75522128e+02,  -1.53505048e+02,  -4.03550930e+01,\n",
       "         -1.53855032e+02,   6.33434542e+01,  -2.20532932e+02,\n",
       "          4.22094014e+02,  -1.08451275e+02,   1.46316362e+01,\n",
       "          5.75463024e+01,   3.19279442e+01,   2.26029950e+02,\n",
       "         -8.37784258e+01,   5.50331783e+01,  -9.60997966e+01,\n",
       "          7.74977123e+01,   1.67934367e+02,   1.03974473e+02,\n",
       "         -2.64498086e+02],\n",
       "       [ -4.51507645e+03,  -1.99416468e+03,   3.77727402e+03,\n",
       "         -3.59827411e+01,   2.11284883e+03,  -3.66584335e+03,\n",
       "          2.20732481e+02,   1.21969132e+02,   2.70146341e+02,\n",
       "         -1.21483870e+02,   1.95641374e+03,   8.13244008e+02,\n",
       "         -2.86941901e+02,   1.42042481e+03,   1.13101399e+02,\n",
       "          3.27898826e+02,  -8.10550158e+02,   9.37698118e+02,\n",
       "         -2.15260619e+03,  -7.37397139e+02,  -5.01238726e+02,\n",
       "          7.83342609e+00,  -1.09090390e+02,  -3.16017198e+02,\n",
       "         -3.45063030e+02,  -4.36592112e+01,   3.85212329e+02,\n",
       "          1.09524968e+03,  -2.51894391e+02,   1.79863957e+02,\n",
       "          3.60863314e+02,   6.02531607e+02,  -2.86274808e+02,\n",
       "          5.83239390e+02,   5.54296818e+02,   1.87259227e+02,\n",
       "         -1.42252862e+02,   7.25591741e+01,   8.55315760e+01,\n",
       "         -1.20535881e+03,  -6.48693804e+01,   8.70251459e+02,\n",
       "          1.91836970e+02,   1.03306734e+02,  -3.70316273e+02,\n",
       "          5.68638387e+02,  -8.26404371e+01,   5.97467997e+01,\n",
       "         -4.06673766e+02,   2.52971218e+02,  -4.21423467e+02,\n",
       "          2.52078188e+02,  -3.51053093e+02,  -5.28972203e+01,\n",
       "         -7.14417408e+01,   4.71255315e+02,  -7.09463538e+01,\n",
       "         -3.01443088e+01,   6.12878087e+02,   2.01148854e+02,\n",
       "          8.95792904e+02,   3.25444716e+01,  -3.61920429e+02,\n",
       "         -9.40600193e+01,   4.70475878e+00,  -2.26172704e+02,\n",
       "          4.72087705e+02,  -2.36387299e+02,   2.93946985e+02,\n",
       "          1.87454147e+02,  -2.84791025e+02,  -4.69323750e+02,\n",
       "          1.39099377e+02,  -6.46262158e+01,  -4.68871190e+02,\n",
       "         -2.89170852e+01,   3.70734659e+01,   2.00900758e+02,\n",
       "         -9.58362524e+01,  -2.47016125e+02,  -2.02092427e+02,\n",
       "         -6.76072368e+01,  -4.41234552e+02,  -2.26412031e+01,\n",
       "          1.96668353e+02,  -1.07998932e+02,   1.60734483e+02,\n",
       "         -1.42751841e+02,   1.42670734e+02,  -5.46860612e+02,\n",
       "         -2.94597376e+02,   1.27654822e+02,   2.58328889e+02,\n",
       "          1.25355814e+02,  -3.87404484e+01,  -3.43770727e+02,\n",
       "          1.64339220e+02,   2.95137672e+02,  -2.20674796e+02,\n",
       "         -1.11497953e+02],\n",
       "       [  6.73702631e+03,   8.98585401e+01,   4.35537250e+03,\n",
       "         -1.84283661e+03,   6.76606429e+02,  -4.08034016e+03,\n",
       "         -4.05693727e+02,   5.47570067e+02,  -1.91968262e+03,\n",
       "          8.92737764e+02,   8.79203273e+02,   6.67005862e+02,\n",
       "         -1.36328044e+02,  -1.38799950e+03,   1.69334334e+02,\n",
       "         -5.98788702e+02,   2.29285443e+02,   3.23251020e+02,\n",
       "         -8.32466500e+02,  -4.90053980e+02,   3.91055853e+02,\n",
       "         -7.05048303e+02,   7.91951057e+02,  -2.13755672e+02,\n",
       "         -7.48018705e+02,  -3.30101938e+02,  -5.45172457e+02,\n",
       "          3.28875577e+02,   3.15234190e+02,   6.85475675e+02,\n",
       "         -4.16731046e+02,   9.12592449e+02,  -7.15203955e+02,\n",
       "         -2.18015405e+02,   7.32755605e+02,  -4.69064901e+02,\n",
       "          2.18749970e+02,   5.70913987e+02,   9.16430896e+02,\n",
       "         -4.39873936e+02,   2.72795529e+02,   7.30434543e+02,\n",
       "         -5.80304532e+02,   6.79638126e+02,  -3.10678964e+02,\n",
       "          3.34333404e+02,   1.77577557e+02,  -3.17357223e+01,\n",
       "         -6.66182569e+02,   4.45031470e+01,   3.01391341e+02,\n",
       "          1.33315318e+02,  -1.14050422e+02,   2.14933559e+02,\n",
       "          8.24636543e+01,   9.66136108e+01,   4.46296093e+00,\n",
       "          2.64758947e+01,  -1.23958905e+01,   3.62813626e+01,\n",
       "          2.20355311e+02,   2.29645023e+01,  -1.55573111e+02,\n",
       "          1.18721595e+02,  -3.21321867e+02,  -3.42859350e+01,\n",
       "         -4.27872183e+02,   3.77228508e-01,   7.50909784e+01,\n",
       "         -5.52994562e+01,  -3.38998026e+02,  -3.47040877e+02,\n",
       "          4.32026542e+02,  -2.41725371e+02,   6.55479687e+00,\n",
       "         -3.56861522e+02,   1.88195853e+02,   3.68337376e+02,\n",
       "         -8.17556580e+00,   1.78444987e+02,   1.44042283e+02,\n",
       "         -3.10690822e+02,  -4.16762905e+01,  -7.22567335e+01,\n",
       "          1.56837013e+02,   1.04131651e+01,   6.52441923e+01,\n",
       "         -3.87793725e+02,   6.10040102e+02,   6.01259645e+01,\n",
       "          2.98661540e+01,   2.97901614e+02,   2.70110465e+01,\n",
       "          2.30434024e+02,  -1.09796029e+02,  -1.09165066e+02,\n",
       "          1.32622628e+02,   2.25817984e+01,   5.06817007e+01,\n",
       "         -2.64248998e+02],\n",
       "       [ -4.35412349e+03,  -8.70823621e+02,  -2.68320337e+03,\n",
       "         -1.38532515e+03,   1.15640131e+03,  -3.96246328e+02,\n",
       "         -1.57670394e+02,  -8.47404882e+02,   9.27803632e+02,\n",
       "          2.39615865e+02,  -1.40384719e+03,   1.63797236e+03,\n",
       "         -3.41406284e+02,   3.74210189e+00,  -1.28601683e+03,\n",
       "          1.09944207e+03,  -1.57672629e+03,  -3.40388719e+02,\n",
       "         -5.07946786e+02,   6.50268456e+02,   2.58145823e+02,\n",
       "          2.85481621e+02,  -2.15653175e+02,  -2.47157679e+02,\n",
       "          4.14803751e+02,   8.11394170e+02,  -2.62186841e+02,\n",
       "         -6.45197954e+01,  -8.42026150e+02,   3.92236813e+02,\n",
       "         -1.41043379e+02,   3.86743499e+02,  -3.03872924e+02,\n",
       "          8.94489202e+02,  -9.69839688e+01,   2.99060582e+02,\n",
       "          6.35566477e+01,   8.07471242e+01,  -3.61822190e+02,\n",
       "          1.75354023e+02,  -1.86470401e+02,  -8.81771797e+01,\n",
       "         -3.38432608e+02,   7.94013083e+02,  -6.47889429e+02,\n",
       "          1.21285219e+02,   2.72815886e+02,  -2.54954259e+02,\n",
       "         -4.90522134e+01,   7.96711086e+02,  -1.41023978e+02,\n",
       "         -3.88024815e+02,   2.92923736e+02,   2.76758243e+01,\n",
       "          1.58384080e+02,   3.66820593e+01,  -4.59856417e+02,\n",
       "          7.88623046e+01,   1.10724281e+02,  -1.45115980e+02,\n",
       "         -3.43514706e+02,  -4.28263884e+01,  -1.25729229e+02,\n",
       "          6.91089173e+01,   6.08985755e+01,   4.58889227e+02,\n",
       "          3.33859473e+01,   3.39871345e+00,  -4.51181197e+02,\n",
       "          6.45119976e+01,  -2.05210234e+02,   2.43987774e+02,\n",
       "         -3.02211368e+02,  -8.77758380e+01,   3.21300052e+01,\n",
       "         -4.70037410e+01,  -1.17783424e+02,   6.14643074e+01,\n",
       "         -2.03319805e-01,   3.58524055e+02,   9.92601455e+01,\n",
       "          6.24051022e+01,  -7.52817660e+01,   6.40995120e+01,\n",
       "         -1.69186496e+02,   1.84687862e+02,  -1.73636293e+02,\n",
       "          2.63929862e+02,  -8.79419184e+01,   6.30461189e+01,\n",
       "         -5.54692870e+00,  -3.02484736e+02,   1.53916524e+02,\n",
       "          5.15643404e+01,   3.60712969e+02,  -1.15021426e+02,\n",
       "         -1.00326474e+02,   2.01065529e+01,   2.95671439e+01,\n",
       "         -4.78109266e+00],\n",
       "       [ -7.19446188e+01,  -3.20498916e+02,  -3.24053967e+03,\n",
       "         -2.19360757e+03,   1.10798031e+03,   4.26661385e+02,\n",
       "         -1.84738453e+02,  -5.82128813e+02,   6.44853263e+02,\n",
       "          3.09387693e+02,  -1.53019102e+03,   1.82501651e+03,\n",
       "         -3.54984681e+02,   7.75690209e+01,  -8.44501790e+02,\n",
       "          1.09156733e+03,  -1.73415091e+03,  -5.47575221e+02,\n",
       "         -6.07366457e+02,   2.44337514e+02,   2.29650461e+02,\n",
       "         -4.96732445e+01,  -5.52441807e+02,  -3.21743720e+02,\n",
       "          4.19633718e+01,   7.11270876e+02,  -3.54128888e+02,\n",
       "         -4.10274703e+02,  -9.42609124e+02,   5.26287335e+02,\n",
       "          1.42925776e+02,   2.84895624e+02,  -1.18614139e+02,\n",
       "          4.17331294e+02,  -2.44760247e+02,   1.24196583e+02,\n",
       "          5.55625813e+02,   1.43765290e+02,  -3.72992808e+02,\n",
       "          1.66711910e+02,  -9.81069815e+01,  -3.16411887e+02,\n",
       "         -3.17289729e+02,   7.43781618e+02,  -3.96037615e+02,\n",
       "          2.62220422e+02,   3.88088892e+02,  -2.15932758e+02,\n",
       "          1.66015037e+02,   5.20927264e+02,   1.73857473e+02,\n",
       "         -2.87550735e+02,   1.93172927e+02,   1.51461948e+02,\n",
       "          1.09961292e+02,   9.92331333e+01,  -3.86311911e+02,\n",
       "          1.72692904e+01,   5.43666130e+01,  -1.20915317e+02,\n",
       "         -8.19021195e+02,   2.72837164e+02,  -3.51833906e+02,\n",
       "         -2.78128056e+02,  -1.07626348e+01,   4.80717298e+02,\n",
       "         -3.12511537e+02,   4.91378346e+02,  -3.39398192e+02,\n",
       "         -5.15971891e+00,   1.05345217e+02,   1.34570902e+02,\n",
       "         -3.46766644e+02,  -5.66873010e+01,   1.26738528e+02,\n",
       "         -6.20096233e+01,  -6.55132892e+02,  -2.00375320e+02,\n",
       "          1.83427375e+02,   4.49010212e+02,   5.29466959e+01,\n",
       "          3.86053965e+01,   8.14349306e+01,  -1.24463637e+01,\n",
       "         -1.04150060e+02,   1.74005002e+02,  -6.03239078e+01,\n",
       "          1.35535044e+02,   2.27315702e+01,  -6.78065493e+01,\n",
       "          6.11655177e+01,  -3.05229995e+02,   3.07899453e+02,\n",
       "         -1.22726192e+02,   2.68969155e+02,  -6.25960564e+01,\n",
       "          1.87438057e+01,  -3.51051784e+01,  -1.80002949e+02,\n",
       "          1.36038175e+02],\n",
       "       [ -5.59709972e+03,  -3.00877146e+03,   1.13089183e+02,\n",
       "         -4.90792448e+02,   2.04653320e+03,  -1.37783593e+03,\n",
       "          1.23880928e+02,   1.62902446e+02,   7.54050568e+02,\n",
       "         -2.47247402e+02,  -5.12371170e+01,   1.55844779e+03,\n",
       "         -1.96546590e+02,   1.25998664e+03,  -2.34437264e+02,\n",
       "          3.27143826e+02,  -1.70992460e+03,   3.81376353e+02,\n",
       "         -1.83632767e+03,  -1.45816448e+02,   1.18879354e+02,\n",
       "          3.33459363e+02,  -4.77734652e+02,  -5.66804565e+02,\n",
       "         -5.66856884e+01,   7.06211285e+02,  -1.68709349e+01,\n",
       "          1.55484168e+02,  -7.41690502e+02,   1.83079556e+02,\n",
       "         -9.48139375e+01,   5.61939273e+02,  -2.82682827e+02,\n",
       "          8.17072169e+02,  -1.14637324e+02,   3.47565563e+02,\n",
       "          2.91222266e+02,  -1.20027480e+02,  -2.10032113e+02,\n",
       "         -4.06334792e+02,  -7.73778388e+01,   3.74289405e+02,\n",
       "         -2.04296782e+02,   7.02294160e+02,  -1.46959698e+01,\n",
       "          5.38052797e+02,   3.92823050e+02,  -1.75165030e+02,\n",
       "          1.78317438e+02,   5.91768525e+02,  -2.81018240e+02,\n",
       "          2.51118061e+00,  -8.72440906e+01,   2.74342173e+02,\n",
       "         -3.41912084e+00,   3.56738507e+02,  -3.85607685e+02,\n",
       "         -5.35521291e+01,   4.01108317e+02,   6.84504157e+01,\n",
       "          1.39109728e+02,   2.47013121e+02,  -3.28512824e+02,\n",
       "         -2.92417178e+02,   1.64576221e+02,   1.26268149e+02,\n",
       "          1.51195543e+02,   1.38765718e+02,   1.38477008e+02,\n",
       "          2.76031625e+02,  -2.96818716e+02,  -7.33334709e+01,\n",
       "          3.50490979e+01,  -1.55167249e+02,  -8.02399904e+01,\n",
       "          1.57530859e+02,  -4.03126250e+02,  -1.94811163e+02,\n",
       "          9.51661593e-01,   1.13235430e+02,  -3.65547956e+01,\n",
       "          1.69906861e+02,  -1.79149591e+02,  -1.40832021e+02,\n",
       "          6.16463293e+01,   1.31938852e+02,   9.37286163e+01,\n",
       "          1.25262237e+02,   5.84379011e+01,  -3.56297439e+02,\n",
       "         -2.84665477e+01,  -4.33872533e+01,   2.35227489e+02,\n",
       "         -1.76918718e+02,   2.06584186e+01,  -3.70512759e+01,\n",
       "          2.44386079e+02,   2.82501767e+02,  -1.28134628e+02,\n",
       "         -7.46558485e+01],\n",
       "       [ -4.24271660e+03,  -2.86392600e+03,  -1.88875958e+03,\n",
       "         -1.08271998e+03,   1.79854217e+03,  -3.79660019e+02,\n",
       "         -2.49456328e+01,  -9.80076083e+01,   7.41025320e+02,\n",
       "         -7.24181716e+01,  -9.94787890e+02,   1.78852904e+03,\n",
       "         -2.96066590e+02,   8.24646872e+02,  -5.48010489e+02,\n",
       "          6.80382769e+02,  -1.84472412e+03,  -2.95304035e+02,\n",
       "         -1.32737164e+03,   2.58433429e+01,   4.30681013e+02,\n",
       "          2.09724462e+02,  -5.59745398e+02,  -3.52084845e+02,\n",
       "          1.52978991e+02,   8.45621458e+02,  -2.58092744e+02,\n",
       "         -1.03223491e+02,  -9.77632651e+02,   4.93901149e+02,\n",
       "          1.35431201e+01,   4.29429952e+02,  -2.35734978e+02,\n",
       "          6.06011704e+02,  -2.53608861e+02,   2.82361087e+02,\n",
       "          5.04894196e+02,  -1.82469401e+01,  -3.77151210e+02,\n",
       "         -2.15305898e+01,   4.49172410e+00,   6.84653439e+01,\n",
       "         -3.45219347e+02,   8.33964836e+02,  -2.58016949e+02,\n",
       "          3.53618833e+02,   4.32360129e+02,  -1.95673230e+02,\n",
       "          1.26803935e+02,   5.18233092e+02,  -1.08699833e+02,\n",
       "         -1.24078607e+02,   7.92668355e+01,   2.11222888e+02,\n",
       "          6.94535885e+01,   2.52679929e+02,  -4.50903510e+02,\n",
       "         -1.15015692e+01,   2.89419107e+02,  -3.63856913e+01,\n",
       "         -3.39746241e+02,   3.02634910e+02,  -4.00020756e+02,\n",
       "         -3.62376068e+02,   1.88731557e+02,   3.32123154e+02,\n",
       "         -7.70913447e+01,   2.91266828e+02,  -1.50549134e+02,\n",
       "          1.11822676e+02,  -9.10082627e+01,   1.13856947e+01,\n",
       "         -1.45908014e+02,  -1.94176698e+01,  -6.13490878e+01,\n",
       "          1.21171887e+02,  -5.70582421e+02,  -2.47304170e+02,\n",
       "          4.92516299e+01,   2.32195395e+02,   6.84736007e+01,\n",
       "          3.53783564e+01,  -1.37467990e+02,  -1.33375742e+02,\n",
       "         -6.83324837e+00,   2.06603462e+02,  -6.13753059e+00,\n",
       "          1.36020219e+02,   3.77637343e+01,  -2.48789356e+02,\n",
       "          1.87816020e+01,  -2.17355188e+02,   2.75479764e+02,\n",
       "         -1.82891491e+02,   1.23031229e+02,   1.61556202e+01,\n",
       "          2.49553426e+02,   5.96039636e+01,  -1.39445200e+02,\n",
       "          4.29355735e+01],\n",
       "       [ -6.16204875e+03,  -4.72790565e+03,  -1.11946036e+03,\n",
       "         -5.20568764e+02,   2.16706082e+03,  -8.32951942e+02,\n",
       "          4.79551310e+01,   7.18996104e+01,   9.42406704e+02,\n",
       "         -4.82530390e+02,  -5.24860738e+02,   1.83909449e+03,\n",
       "         -3.63141857e+02,   1.10936940e+03,  -2.74755628e+02,\n",
       "          3.84599838e+02,  -2.05395572e+03,  -2.77475962e+01,\n",
       "         -1.68702875e+03,  -4.10924905e+01,   4.03102133e+02,\n",
       "          2.96304937e+02,  -6.82003131e+02,  -4.51080960e+02,\n",
       "          1.70783145e+02,   8.54200613e+02,  -1.42193995e+02,\n",
       "          4.49665815e+01,  -9.07954552e+02,   3.89378564e+02,\n",
       "         -1.36856487e+02,   4.97547565e+02,  -2.56178595e+02,\n",
       "          6.83151069e+02,  -2.41496446e+02,   2.97393663e+02,\n",
       "          4.06639853e+02,  -1.06012040e+02,  -3.75985802e+02,\n",
       "         -2.17317768e+02,  -2.36319231e+00,   2.44801090e+02,\n",
       "         -2.84359108e+02,   8.76868119e+02,  -1.44762469e+02,\n",
       "          4.96405408e+02,   4.30204586e+02,  -2.06975443e+02,\n",
       "          1.58188480e+02,   6.06898112e+02,  -2.51905774e+02,\n",
       "         -7.17309928e+01,  -2.41347926e+01,   2.52312750e+02,\n",
       "          1.05390853e+02,   3.07390704e+02,  -4.90361524e+02,\n",
       "          1.55380958e+01,   3.58339592e+02,  -6.40534010e+00,\n",
       "         -1.87921120e+02,   3.26556463e+02,  -4.34414738e+02,\n",
       "         -4.08579384e+02,   1.96491832e+02,   2.66600649e+02,\n",
       "          1.83523534e+01,   2.79101854e+02,  -3.29481340e+01,\n",
       "          1.74319873e+02,  -2.10767445e+02,  -2.79788955e+01,\n",
       "         -3.78691573e+00,  -1.42383807e+01,  -1.44029573e+01,\n",
       "          1.64605155e+02,  -4.83361276e+02,  -2.18828802e+02,\n",
       "          3.99579467e+01,   1.20528978e+02,   3.87220357e+01,\n",
       "          1.61682399e+02,  -1.87500460e+02,  -2.00288428e+02,\n",
       "          2.79565099e+01,   1.82511641e+02,   6.08547626e+01,\n",
       "          1.50889709e+02,   5.76735330e+01,  -3.34038121e+02,\n",
       "         -9.19262353e+01,  -1.30075706e+02,   3.07308061e+02,\n",
       "         -2.33864842e+02,   4.60156672e+01,  -3.48097619e+01,\n",
       "          3.16575288e+02,   2.13816821e+02,  -1.60020805e+02,\n",
       "          2.11651301e+01],\n",
       "       [ -2.75009341e+03,  -3.34427185e+03,  -2.47365458e+03,\n",
       "         -1.50791049e+03,   1.23369909e+03,  -2.91771690e+02,\n",
       "         -2.25765756e+02,  -7.10558276e+02,   8.93149417e+02,\n",
       "         -3.02637648e+01,  -1.24985503e+03,   1.55604889e+03,\n",
       "         -6.18479033e+02,  -3.13902922e+02,  -1.09348177e+03,\n",
       "          1.05612095e+03,  -1.60420819e+03,  -3.34784896e+02,\n",
       "         -3.12619474e+02,   7.02961141e+02,   2.02188098e+02,\n",
       "          3.01521660e+02,  -1.33132102e+02,  -2.42988840e+02,\n",
       "          3.79485769e+02,   7.12153206e+02,  -3.20612202e+02,\n",
       "          3.73269381e+00,  -6.38282427e+02,   5.51055100e+02,\n",
       "         -1.52826164e+02,   5.27796045e+02,  -2.60991423e+02,\n",
       "          7.28771863e+02,  -7.08480527e+01,   2.71329253e+02,\n",
       "         -4.71363258e+01,   6.04446922e+01,  -2.37510283e+02,\n",
       "          2.63410933e+02,  -7.10826173e+01,  -7.73559096e+01,\n",
       "         -2.94991586e+02,   7.61316500e+02,  -6.37757791e+02,\n",
       "          8.42208981e+01,   3.05423891e+02,  -2.55266750e+02,\n",
       "          1.35972881e+01,   5.97345329e+02,  -1.13041993e+02,\n",
       "         -3.23284606e+02,   3.06917200e+02,  -2.14970602e+01,\n",
       "          2.48756638e+02,  -2.13896516e+01,  -4.81684944e+02,\n",
       "          1.42006276e+02,   7.88962475e+01,  -2.16482721e+02,\n",
       "         -3.26913082e+02,  -5.01778410e+01,  -1.44951742e+02,\n",
       "          1.91620765e+02,   3.89144388e+01,   2.45509027e+02,\n",
       "          4.27745387e+01,  -3.24464658e+01,  -4.28562012e+02,\n",
       "          9.16371623e+01,   1.00561286e+01,   1.71776728e+02,\n",
       "         -1.17072441e+02,   9.50502658e+01,   7.26299869e+01,\n",
       "          1.11853868e+01,   4.08113603e+00,   3.81038149e+01,\n",
       "         -9.80736234e+00,   2.89620494e+02,   3.38720315e+01,\n",
       "         -2.55088549e+01,  -4.79406424e+01,   7.44153605e+00,\n",
       "         -2.60783863e+02,   1.75687533e+02,  -1.80232670e+02,\n",
       "          2.05728812e+02,  -6.35396153e+01,   6.22545777e+01,\n",
       "         -1.25242539e+01,  -1.62753273e+02,   9.61353987e+01,\n",
       "         -4.15315399e+01,   4.53879530e+02,  -4.32681770e+01,\n",
       "         -2.06100552e+02,   1.81769329e+02,  -6.87224835e+01,\n",
       "          3.01852637e+01]])"
      ]
     },
     "execution_count": 38,
     "metadata": {
      "tags": []
     },
     "output_type": "execute_result"
    }
   ],
   "source": [
    "test_proj"
   ]
  },
  {
   "cell_type": "code",
   "execution_count": null,
   "metadata": {
    "collapsed": true,
    "id": "0u6wO1Jn242s"
   },
   "outputs": [],
   "source": [
    "from scipy.spatial.distance import cdist"
   ]
  },
  {
   "cell_type": "code",
   "execution_count": null,
   "metadata": {
    "id": "lkE-EP6j242s",
    "outputId": "b2947ce0-930a-4b34-e6ab-f90777038338"
   },
   "outputs": [
    {
     "data": {
      "text/plain": [
       "array([[     0.        ,   3475.98381029,   7559.43337009, ...,\n",
       "          3603.1219511 ,   4639.844974  ,   4365.40772365],\n",
       "       [  3475.98381029,      0.        ,   5202.75720849, ...,\n",
       "          5948.25891751,   5525.80628533,   7117.47599437],\n",
       "       [  7559.43337009,   5202.75720849,      0.        , ...,\n",
       "          8698.03332956,   8201.97395131,  10007.83388382],\n",
       "       ..., \n",
       "       [ 17526.70586871,  18625.25628661,  18077.65126776, ...,\n",
       "         17441.86528117,  19810.44324504,  16409.16821053],\n",
       "       [ 17278.64051452,  18294.19169027,  17544.90308193, ...,\n",
       "         16987.93555227,  19294.47034399,  15881.7639734 ],\n",
       "       [ 18306.83827044,  19331.42636911,  18375.20268165, ...,\n",
       "         17665.51036048,  19973.716805  ,  16385.3862457 ]])"
      ]
     },
     "execution_count": 55,
     "metadata": {
      "tags": []
     },
     "output_type": "execute_result"
    }
   ],
   "source": [
    "cdist(X_prj, X_prj[0:10,:])"
   ]
  },
  {
   "cell_type": "code",
   "execution_count": null,
   "metadata": {
    "collapsed": true,
    "id": "qt6nan-G242t"
   },
   "outputs": [],
   "source": [
    "centroids = X_prj[0:10,:]"
   ]
  },
  {
   "cell_type": "code",
   "execution_count": null,
   "metadata": {
    "id": "GeJ_k5L9242t",
    "outputId": "aebeaa41-2b87-4146-bbd4-460f0ae0ceb1",
    "scrolled": true
   },
   "outputs": [
    {
     "data": {
      "text/plain": [
       "array([[     0.        ,   3475.98381029,   7559.43337009, ...,\n",
       "          3603.1219511 ,   4639.844974  ,   4365.40772365],\n",
       "       [  3475.98381029,      0.        ,   5202.75720849, ...,\n",
       "          5948.25891751,   5525.80628533,   7117.47599437],\n",
       "       [  7559.43337009,   5202.75720849,      0.        , ...,\n",
       "          8698.03332956,   8201.97395131,  10007.83388382],\n",
       "       ..., \n",
       "       [ 17526.70586871,  18625.25628661,  18077.65126776, ...,\n",
       "         17441.86528117,  19810.44324504,  16409.16821053],\n",
       "       [ 17278.64051452,  18294.19169027,  17544.90308193, ...,\n",
       "         16987.93555227,  19294.47034399,  15881.7639734 ],\n",
       "       [ 18306.83827044,  19331.42636911,  18375.20268165, ...,\n",
       "         17665.51036048,  19973.716805  ,  16385.3862457 ]])"
      ]
     },
     "execution_count": 57,
     "metadata": {
      "tags": []
     },
     "output_type": "execute_result"
    }
   ],
   "source": [
    "cdist(X_prj, centroids)"
   ]
  },
  {
   "cell_type": "code",
   "execution_count": null,
   "metadata": {
    "id": "zwOOZ89r242u",
    "outputId": "ca88fd35-8d10-4ad2-a048-119cd9d9689c",
    "scrolled": true
   },
   "outputs": [
    {
     "data": {
      "text/plain": [
       "(50, 32256)"
      ]
     },
     "execution_count": 65,
     "metadata": {
      "tags": []
     },
     "output_type": "execute_result"
    }
   ],
   "source": [
    "np.repeat(X[0:10,:], 5, axis=0).shape"
   ]
  },
  {
   "cell_type": "code",
   "execution_count": null,
   "metadata": {
    "collapsed": true,
    "id": "fZQbgprO242u"
   },
   "outputs": [],
   "source": [
    "from scipy.spatial.distance import euclidean"
   ]
  },
  {
   "cell_type": "code",
   "execution_count": null,
   "metadata": {
    "collapsed": true,
    "id": "lBuTO-gI242v"
   },
   "outputs": [],
   "source": [
    "?? cdist"
   ]
  },
  {
   "cell_type": "code",
   "execution_count": null,
   "metadata": {
    "id": "uDTc3Htk242v",
    "outputId": "eebb18dd-9ae2-4040-f5a2-8a756f45388d",
    "scrolled": true
   },
   "outputs": [
    {
     "data": {
      "text/plain": [
       "array([[     0.        ,   3475.98381029,   7559.43337009, ...,\n",
       "          3603.1219511 ,   4639.844974  ,   4365.40772365],\n",
       "       [  3475.98381029,      0.        ,   5202.75720849, ...,\n",
       "          5948.25891751,   5525.80628533,   7117.47599437],\n",
       "       [  7559.43337009,   5202.75720849,      0.        , ...,\n",
       "          8698.03332956,   8201.97395131,  10007.83388382],\n",
       "       ..., \n",
       "       [ 17526.70586871,  18625.25628661,  18077.65126776, ...,\n",
       "         17441.86528117,  19810.44324504,  16409.16821053],\n",
       "       [ 17278.64051452,  18294.19169027,  17544.90308193, ...,\n",
       "         16987.93555227,  19294.47034399,  15881.7639734 ],\n",
       "       [ 18306.83827044,  19331.42636911,  18375.20268165, ...,\n",
       "         17665.51036048,  19973.716805  ,  16385.3862457 ]])"
      ]
     },
     "execution_count": 93,
     "metadata": {
      "tags": []
     },
     "output_type": "execute_result"
    }
   ],
   "source": [
    "cdist(X_prj, centroids)"
   ]
  },
  {
   "cell_type": "code",
   "execution_count": null,
   "metadata": {
    "id": "L8ltGp0z242v"
   },
   "outputs": [],
   "source": [
    "def mycdist(X, Y):\n",
    "    '''sX = np.zeros((X.shape[0], 1))\n",
    "    sY = np.zeros((Y.shape[0], 1))\n",
    "    for i in range(len(X)):\n",
    "        sX[i] = np.matmul(X[i,:].T, X[i,:])\n",
    "    for i in range(len(Y)):\n",
    "        sY[i] = np.matmul(Y[i,:].T, Y[i,:])'''\n",
    "    sX = np.square(np.linalg.norm(X, axis=1)).reshape(-1,1)\n",
    "    sY = np.square(np.linalg.norm(Y, axis=1)).reshape(-1,1)\n",
    "    #print(np.repeat(sX, len(Y), axis=1).shape, np.repeat(sY.T, len(X), axis=0).shape)\n",
    "    return np.sqrt(np.repeat(sX, len(Y), axis=1) + np.repeat(sY.T, len(X), axis=0) - 2*np.matmul(X,Y.T))"
   ]
  },
  {
   "cell_type": "code",
   "execution_count": null,
   "metadata": {
    "id": "J_r_PcCJ242w",
    "outputId": "dfb720e8-b6cb-4b24-f092-567aa0b40e07",
    "scrolled": true
   },
   "outputs": [
    {
     "data": {
      "text/plain": [
       "(2452,)"
      ]
     },
     "execution_count": 94,
     "metadata": {
      "tags": []
     },
     "output_type": "execute_result"
    }
   ],
   "source": [
    "np.linalg.norm(X,axis=1).shape"
   ]
  },
  {
   "cell_type": "code",
   "execution_count": null,
   "metadata": {
    "id": "Ui6c90tP242w",
    "outputId": "2189b51c-799f-48d7-98a8-b8d9112acde9"
   },
   "outputs": [
    {
     "data": {
      "text/plain": [
       "()"
      ]
     },
     "execution_count": 101,
     "metadata": {
      "tags": []
     },
     "output_type": "execute_result"
    }
   ],
   "source": [
    "np.linalg.norm(X).shape"
   ]
  },
  {
   "cell_type": "code",
   "execution_count": null,
   "metadata": {
    "id": "QKLwpOpm242x",
    "outputId": "8152d7ef-dd7f-4deb-8fed-710438261144",
    "scrolled": true
   },
   "outputs": [
    {
     "name": "stdout",
     "output_type": "stream",
     "text": [
      "((2452, 10), (2452, 10))\n"
     ]
    },
    {
     "name": "stderr",
     "output_type": "stream",
     "text": [
      "/home/ai4u/build/anaconda2/envs/tf_built/lib/python2.7/site-packages/ipykernel/__main__.py:11: RuntimeWarning: invalid value encountered in sqrt\n"
     ]
    },
    {
     "data": {
      "text/plain": [
       "array([[     0.        ,   3475.98381029,   7559.43337009, ...,\n",
       "          3603.1219511 ,   4639.844974  ,   4365.40772365],\n",
       "       [  3475.98381029,             nan,   5202.75720849, ...,\n",
       "          5948.25891751,   5525.80628533,   7117.47599437],\n",
       "       [  7559.43337009,   5202.75720849,             nan, ...,\n",
       "          8698.03332956,   8201.97395131,  10007.83388382],\n",
       "       ..., \n",
       "       [ 17526.70586871,  18625.25628661,  18077.65126776, ...,\n",
       "         17441.86528117,  19810.44324504,  16409.16821053],\n",
       "       [ 17278.64051452,  18294.19169027,  17544.90308193, ...,\n",
       "         16987.93555227,  19294.47034399,  15881.7639734 ],\n",
       "       [ 18306.83827044,  19331.42636911,  18375.20268165, ...,\n",
       "         17665.51036048,  19973.716805  ,  16385.3862457 ]])"
      ]
     },
     "execution_count": 103,
     "metadata": {
      "tags": []
     },
     "output_type": "execute_result"
    }
   ],
   "source": [
    "mycdist(X_prj, centroids)"
   ]
  },
  {
   "cell_type": "code",
   "execution_count": null,
   "metadata": {
    "id": "qVWc54qD242y",
    "outputId": "ba85ec8b-6fe7-46c5-bd9a-f081ce881d3c",
    "scrolled": false
   },
   "outputs": [
    {
     "data": {
      "text/plain": [
       "(10, 10)"
      ]
     },
     "execution_count": 48,
     "metadata": {
      "tags": []
     },
     "output_type": "execute_result"
    }
   ],
   "source": [
    "cosine_similarity(test_proj[0:10,:], X_prj[0:10,:]).shape"
   ]
  },
  {
   "cell_type": "code",
   "execution_count": null,
   "metadata": {
    "id": "fqRmnlA1242y",
    "outputId": "cbda5a0f-22a1-45b1-b697-dde7dc07c967"
   },
   "outputs": [
    {
     "data": {
      "text/plain": [
       "966190982.5033071"
      ]
     },
     "execution_count": 27,
     "metadata": {
      "tags": []
     },
     "output_type": "execute_result"
    }
   ],
   "source": [
    "np.sum(np.square(test_proj+   X_prj[0:10,:]))"
   ]
  },
  {
   "cell_type": "code",
   "execution_count": null,
   "metadata": {
    "collapsed": true,
    "id": "Yh58z2Id242z"
   },
   "outputs": [],
   "source": [
    "#X_prj = pca_model.fit_transform(X)\n",
    "pca_model.fit(X)\n",
    "X_prj = pca_model.transform(X)"
   ]
  },
  {
   "cell_type": "code",
   "execution_count": null,
   "metadata": {
    "id": "jVClmteo242z",
    "outputId": "135268ef-8cc6-4056-a5d3-b3c4cd0a17b9"
   },
   "outputs": [
    {
     "name": "stdout",
     "output_type": "stream",
     "text": [
      "Projected X shape: (2452, 100)\n"
     ]
    }
   ],
   "source": [
    "print(\"Projected X shape: \" + str(X_prj.shape))"
   ]
  },
  {
   "cell_type": "code",
   "execution_count": null,
   "metadata": {
    "id": "u1DSGmVm2420",
    "outputId": "15d6a25a-1bd2-4e5e-a4db-d1b6a64c09fa"
   },
   "outputs": [
    {
     "name": "stdout",
     "output_type": "stream",
     "text": [
      "100 eigenvectors of the covariance matrix: \n",
      "[[  8.36851058e-05   1.94254392e-04   3.71944186e-04 ...,   1.21006788e-03\n",
      "    1.07284590e-03   9.85872231e-04]\n",
      " [  7.93233884e-03   8.02012895e-03   8.06054799e-03 ...,  -4.91711422e-03\n",
      "   -4.75457413e-03  -4.69440311e-03]\n",
      " [ -2.50690195e-03  -2.20834338e-03  -1.91642615e-03 ...,  -5.97240878e-03\n",
      "   -5.84784306e-03  -5.77175488e-03]\n",
      " ..., \n",
      " [  3.97425800e-03   3.40628486e-03   1.78353956e-03 ...,   7.08667771e-03\n",
      "    1.06614945e-02   1.21099785e-02]\n",
      " [ -5.59667959e-03  -6.22859410e-03  -7.33888335e-03 ...,  -1.58692735e-02\n",
      "   -1.58627740e-02  -1.65366380e-02]\n",
      " [  5.06009346e-03   5.19608507e-03   5.54917852e-03 ...,   2.38249590e-02\n",
      "    2.56697932e-02   2.66405577e-02]]\n"
     ]
    }
   ],
   "source": [
    "print(\"100 eigenvectors of the covariance matrix: \\n\"+ str(pca_model.components_) )"
   ]
  },
  {
   "cell_type": "markdown",
   "metadata": {
    "id": "89pTsNBz2421"
   },
   "source": [
    "#### Basically, the PCA model transform the data by taking the zero-mean at first, and then projecting them on the above eigenvectors. We can check that as the following code"
   ]
  },
  {
   "cell_type": "code",
   "execution_count": null,
   "metadata": {
    "id": "_Ak1v-W22421",
    "outputId": "5bf331d4-2186-4caf-a448-0ef25d902c51"
   },
   "outputs": [
    {
     "name": "stdout",
     "output_type": "stream",
     "text": [
      "The L2 distance: 0.00000\n",
      "('test_proj', array([[  5.54657847e+03,   1.35658179e+03,  -8.13362935e+02,\n",
      "         -8.24413388e+02,  -1.38767292e+03,  -1.32644579e+03,\n",
      "          4.08995384e+01,  -4.32191113e+02,   9.06791228e+02,\n",
      "         -1.47485889e+02,  -5.09595595e+02,   1.27213572e+03,\n",
      "         -5.00421892e+02,  -8.53642953e+01,  -9.90917296e+02,\n",
      "         -8.12345968e+02,  -1.25123171e+03,  -5.62159748e+01,\n",
      "          8.84955512e+02,   7.07457042e+02,  -1.16151429e+02,\n",
      "         -4.34618515e+02,   1.17828362e+02,  -3.27013600e+02,\n",
      "          3.14197502e+02,   6.19583009e+02,   1.32505079e+02,\n",
      "          1.81683015e+02,   6.20158337e+02,   3.65705207e+02,\n",
      "          2.89301436e+02,   4.29737749e+02,  -1.08388409e+02,\n",
      "          8.90691487e+02,   6.27142073e+01,  -2.61365025e+02,\n",
      "          1.94157129e+02,   5.72116019e+01,  -3.33451575e+02,\n",
      "         -9.05998347e+01,  -1.09332849e+02,   2.46501829e+02,\n",
      "         -1.60616084e+02,  -7.23323255e+02,  -5.19179314e+02,\n",
      "          1.65945913e+02,  -2.28083797e+02,   3.92496875e+02,\n",
      "          5.05347301e+01,  -5.76356363e+02,   4.04806416e+02,\n",
      "          3.05206328e+02,  -3.24618583e+02,  -1.86699774e+01,\n",
      "          3.06481018e+02,   4.39047374e+01,  -4.59821016e+02,\n",
      "         -1.37507294e+02,   2.62395135e+02,  -1.36358306e+02,\n",
      "         -9.71333793e+01,   5.87520714e+00,   9.46024729e+01,\n",
      "          8.82349350e+01,  -5.62715313e+01,  -1.34737440e+02,\n",
      "          1.94979493e+02,   9.17235309e+01,  -3.31774995e+02,\n",
      "          2.21045815e+02,  -4.18584085e+02,   8.45723804e+01,\n",
      "         -1.67084369e+02,  -8.33335153e+00,   5.59309796e+01,\n",
      "         -1.71691755e+02,  -3.33185203e+01,  -6.91547103e+01,\n",
      "          4.97864113e+01,   6.86673674e+01,  -3.67470006e+01,\n",
      "         -9.98245970e+01,  -1.58658516e+02,   8.66411749e+01,\n",
      "          1.26303298e+02,   1.98898394e+02,  -2.95270352e+02,\n",
      "          2.84669864e+02,   1.07121450e+02,  -2.44163748e+01,\n",
      "         -7.83593720e+01,  -2.00403226e+01,  -2.47816758e+02,\n",
      "          4.45132355e+00,   2.30430707e+02,  -2.37445912e+01,\n",
      "          1.61567998e+01,  -1.83603292e+02,  -8.13378870e+01,\n",
      "          1.04248574e+02],\n",
      "       [  6.41957800e+03,   1.80552152e+03,   1.59634502e+03,\n",
      "         -3.13390938e+02,  -1.74081333e+03,  -2.44041250e+03,\n",
      "          1.55192623e+02,  -4.83547949e+02,   9.24808367e+02,\n",
      "         -1.32295449e+02,   3.48322278e+02,   6.85562834e+02,\n",
      "         -5.11474906e+02,  -6.99296499e+02,  -8.91427413e+02,\n",
      "         -4.92994626e+02,  -1.05881877e+03,  -5.56176844e+02,\n",
      "          1.31229736e+03,   7.17249874e+02,  -4.25709507e+02,\n",
      "         -5.37121698e+02,  -3.94137135e+01,  -3.36955233e+02,\n",
      "          1.27736553e+02,   2.09789361e+02,   1.93369527e+00,\n",
      "          4.77267719e+02,   6.32611450e+02,   4.27076481e+02,\n",
      "          2.54600254e+02,   4.94915396e+02,  -9.23277181e+00,\n",
      "          1.02213360e+03,  -9.88961440e+01,  -3.32360656e+02,\n",
      "          4.06747942e+02,   8.67790213e+01,  -3.61186643e+02,\n",
      "          1.38561610e+02,  -2.44181240e+02,   4.57777672e+02,\n",
      "          4.74346253e+01,  -5.36795688e+02,  -4.78126873e+02,\n",
      "          3.73151066e+02,  -1.49337664e+02,   5.27187936e+02,\n",
      "         -1.32210558e+01,  -4.07401160e+02,   6.71645466e+02,\n",
      "          1.46458760e+02,  -1.75585343e+02,   4.12005673e+00,\n",
      "          2.40141950e+02,  -5.98051963e+01,  -3.39450701e+02,\n",
      "         -8.78412131e+01,   5.95761757e+02,   8.54971634e+01,\n",
      "          1.09638876e+02,  -2.00284909e+01,   1.78866790e+02,\n",
      "         -5.31307866e+01,   1.76005176e+01,  -7.57677916e+00,\n",
      "          2.93546593e+02,   2.45518415e+02,  -1.65431494e+02,\n",
      "          3.05145061e+02,  -5.82852094e+02,  -6.66230706e+01,\n",
      "         -1.98862648e+02,   8.26433907e+00,   8.24142343e+01,\n",
      "         -2.04947252e+02,  -3.00855219e+01,  -7.78931225e+01,\n",
      "          1.66613584e+02,  -1.27325744e+02,  -1.02813650e+02,\n",
      "         -2.74780478e+02,  -1.49085684e+02,  -3.55962002e+01,\n",
      "          1.61047350e+02,   4.19625614e+01,  -2.36453458e+02,\n",
      "          4.07956202e+02,   8.59814301e+01,  -1.50187427e+01,\n",
      "         -6.24989915e+01,   1.79590408e+02,  -1.69529862e+02,\n",
      "          1.86866894e+01,   1.00541526e+02,   8.13368283e+01,\n",
      "         -1.16014716e+02,  -1.41326775e+02,  -1.11202849e+02,\n",
      "          2.32740252e+02],\n",
      "       [  4.51507645e+03,   1.99416468e+03,   3.77727402e+03,\n",
      "         -3.59827411e+01,  -2.11284883e+03,  -3.66584335e+03,\n",
      "          2.20732481e+02,   1.21969132e+02,   2.70146341e+02,\n",
      "          1.21483870e+02,   1.95641374e+03,   8.13244008e+02,\n",
      "         -2.86941901e+02,  -1.42042481e+03,   1.13101399e+02,\n",
      "         -3.27898826e+02,  -8.10550158e+02,  -9.37698113e+02,\n",
      "          2.15260619e+03,  -7.37397137e+02,  -5.01238718e+02,\n",
      "         -7.83344771e+00,   1.09090367e+02,  -3.16017114e+02,\n",
      "         -3.45063014e+02,  -4.36592191e+01,  -3.85212547e+02,\n",
      "          1.09524940e+03,   2.51894493e+02,   1.79863767e+02,\n",
      "         -3.60863117e+02,   6.02531019e+02,  -2.86273548e+02,\n",
      "          5.83239965e+02,  -5.54295551e+02,  -1.87261127e+02,\n",
      "          1.42253423e+02,   7.25580059e+01,   8.55276020e+01,\n",
      "          1.20535919e+03,  -6.48777799e+01,   8.70256078e+02,\n",
      "          1.91837658e+02,  -1.03321671e+02,  -3.70312838e+02,\n",
      "          5.68662690e+02,   8.26291917e+01,  -5.97922205e+01,\n",
      "         -4.06703426e+02,  -2.52954922e+02,   4.21315934e+02,\n",
      "         -2.52127000e+02,   3.51147692e+02,   5.29538781e+01,\n",
      "         -7.16846162e+01,  -4.71251752e+02,  -7.06980062e+01,\n",
      "          3.02485175e+01,   6.12472097e+02,   2.01214125e+02,\n",
      "          8.96042408e+02,  -3.32094222e+01,   3.61723635e+02,\n",
      "         -9.43598080e+01,  -4.06526674e+00,   2.27925294e+02,\n",
      "          4.72520150e+02,   2.35987245e+02,   2.95933410e+02,\n",
      "          1.83334720e+02,  -2.83597920e+02,  -4.65651933e+02,\n",
      "          1.41664526e+02,   7.18007143e+01,   4.63506318e+02,\n",
      "          2.87318608e+01,   3.74974311e+01,  -2.00526048e+02,\n",
      "          9.32262619e+01,  -2.50741843e+02,  -2.02774110e+02,\n",
      "          6.53086461e+01,  -4.41976697e+02,  -3.55031281e+01,\n",
      "         -1.84247424e+02,  -7.29346863e+01,   1.94286201e+02,\n",
      "         -1.65851290e+02,  -1.12590086e+02,   6.00677737e+02,\n",
      "          1.60557221e+02,   2.68342995e+02,  -9.33325076e+01,\n",
      "         -1.81232855e+02,   6.98393432e+01,   4.06921845e+02,\n",
      "         -1.47285220e+02,  -1.55286855e+02,   7.67355702e+01,\n",
      "          7.34898679e+01],\n",
      "       [ -6.73702631e+03,  -8.98585401e+01,   4.35537250e+03,\n",
      "         -1.84283661e+03,  -6.76606429e+02,  -4.08034016e+03,\n",
      "         -4.05693727e+02,   5.47570067e+02,  -1.91968262e+03,\n",
      "         -8.92737764e+02,   8.79203273e+02,   6.67005863e+02,\n",
      "         -1.36328044e+02,   1.38799950e+03,   1.69334334e+02,\n",
      "          5.98788702e+02,   2.29285442e+02,  -3.23251021e+02,\n",
      "          8.32466498e+02,  -4.90053979e+02,   3.91055852e+02,\n",
      "          7.05048310e+02,  -7.91951021e+02,  -2.13755695e+02,\n",
      "         -7.48018747e+02,  -3.30101885e+02,   5.45172509e+02,\n",
      "          3.28875648e+02,  -3.15234279e+02,   6.85475858e+02,\n",
      "          4.16730898e+02,   9.12592604e+02,  -7.15204643e+02,\n",
      "         -2.18016064e+02,  -7.32755887e+02,   4.69064418e+02,\n",
      "         -2.18751132e+02,   5.70916723e+02,   9.16433973e+02,\n",
      "          4.39873694e+02,   2.72796660e+02,   7.30434660e+02,\n",
      "         -5.80304281e+02,  -6.79641465e+02,  -3.10678744e+02,\n",
      "          3.34329516e+02,  -1.77563856e+02,   3.17513185e+01,\n",
      "         -6.66138345e+02,  -4.44802252e+01,  -3.01312768e+02,\n",
      "         -1.33277427e+02,   1.13981635e+02,  -2.14991986e+02,\n",
      "          8.26085771e+01,  -9.65900135e+01,   4.40542539e+00,\n",
      "         -2.65273422e+01,  -1.23348693e+01,   3.62153487e+01,\n",
      "          2.20182152e+02,  -2.29143757e+01,   1.55604866e+02,\n",
      "          1.18815955e+02,   3.21305936e+02,   3.38816035e+01,\n",
      "         -4.27791879e+02,   3.03766944e-01,   7.46417891e+01,\n",
      "         -5.51343074e+01,  -3.38897649e+02,  -3.48133251e+02,\n",
      "          4.31005140e+02,   2.40038167e+02,  -5.71427724e+00,\n",
      "          3.55907343e+02,   1.87861215e+02,  -3.67466379e+02,\n",
      "          1.00936730e+01,   1.77331083e+02,   1.45932124e+02,\n",
      "          3.14892430e+02,  -3.94100171e+01,  -6.81611326e+01,\n",
      "         -1.80116140e+02,   1.14194737e+01,   8.01830367e+01,\n",
      "         -3.64621566e+02,  -6.12754040e+02,  -5.39487922e+01,\n",
      "         -4.38952282e+00,   2.40446250e+02,   1.14790251e+02,\n",
      "         -2.61887609e+02,  -7.58146193e+01,   1.68767594e+02,\n",
      "         -1.83259473e+02,   1.32345772e+01,  -7.95084606e+01,\n",
      "          2.11034632e+02],\n",
      "       [  4.35412349e+03,   8.70823621e+02,  -2.68320337e+03,\n",
      "         -1.38532515e+03,  -1.15640131e+03,  -3.96246328e+02,\n",
      "         -1.57670394e+02,  -8.47404882e+02,   9.27803632e+02,\n",
      "         -2.39615865e+02,  -1.40384719e+03,   1.63797236e+03,\n",
      "         -3.41406284e+02,  -3.74210195e+00,  -1.28601683e+03,\n",
      "         -1.09944207e+03,  -1.57672629e+03,   3.40388717e+02,\n",
      "          5.07946784e+02,   6.50268456e+02,   2.58145825e+02,\n",
      "         -2.85481614e+02,   2.15653160e+02,  -2.47157707e+02,\n",
      "          4.14803763e+02,   8.11394140e+02,   2.62186845e+02,\n",
      "         -6.45197260e+01,   8.42026042e+02,   3.92236805e+02,\n",
      "          1.41043366e+02,   3.86743822e+02,  -3.03873112e+02,\n",
      "          8.94490066e+02,   9.69836064e+01,  -2.99060065e+02,\n",
      "         -6.35557722e+01,   8.07467766e+01,  -3.61822538e+02,\n",
      "         -1.75353604e+02,  -1.86470164e+02,  -8.81781493e+01,\n",
      "         -3.38439517e+02,  -7.94009978e+02,  -6.47883953e+02,\n",
      "          1.21287248e+02,  -2.72809355e+02,   2.54949801e+02,\n",
      "         -4.90384915e+01,  -7.96736128e+02,   1.41025234e+02,\n",
      "          3.87999015e+02,  -2.92970508e+02,  -2.76999621e+01,\n",
      "          1.58337879e+02,  -3.67284031e+01,  -4.59901612e+02,\n",
      "         -7.88713964e+01,   1.10709160e+02,  -1.45004355e+02,\n",
      "         -3.43392524e+02,   4.30301349e+01,   1.25919654e+02,\n",
      "          6.93928312e+01,  -6.10175166e+01,  -4.59144143e+02,\n",
      "          3.34129377e+01,  -3.72325582e+00,  -4.51216817e+02,\n",
      "          6.41650159e+01,  -2.05816854e+02,   2.42276935e+02,\n",
      "         -3.02363813e+02,   8.54049900e+01,  -3.05783740e+01,\n",
      "          4.74914387e+01,  -1.16312660e+02,  -6.14496694e+01,\n",
      "          5.45944726e-01,   3.61671438e+02,   1.00632781e+02,\n",
      "         -6.58187854e+01,  -7.97537531e+01,   6.12875903e+01,\n",
      "          1.72389864e+02,   1.57279751e+02,  -1.98160684e+02,\n",
      "          2.58613131e+02,   7.79581491e+01,  -5.79330420e+01,\n",
      "         -1.25942533e+01,  -2.11050479e+02,  -3.13523012e+02,\n",
      "         -7.10371465e+01,   3.76618862e+02,  -2.00955427e-01,\n",
      "          7.97829168e+01,  -6.58558056e+01,  -1.22200649e+02,\n",
      "          1.71625295e+01],\n",
      "       [  7.19446188e+01,   3.20498916e+02,  -3.24053967e+03,\n",
      "         -2.19360757e+03,  -1.10798031e+03,   4.26661385e+02,\n",
      "         -1.84738453e+02,  -5.82128813e+02,   6.44853263e+02,\n",
      "         -3.09387693e+02,  -1.53019102e+03,   1.82501651e+03,\n",
      "         -3.54984681e+02,  -7.75690208e+01,  -8.44501790e+02,\n",
      "         -1.09156733e+03,  -1.73415091e+03,   5.47575220e+02,\n",
      "          6.07366457e+02,   2.44337511e+02,   2.29650461e+02,\n",
      "          4.96732445e+01,   5.52441794e+02,  -3.21743727e+02,\n",
      "          4.19633888e+01,   7.11270842e+02,   3.54128868e+02,\n",
      "         -4.10274654e+02,   9.42609009e+02,   5.26287365e+02,\n",
      "         -1.42925555e+02,   2.84896000e+02,  -1.18613974e+02,\n",
      "          4.17332343e+02,   2.44760224e+02,  -1.24195671e+02,\n",
      "         -5.55625081e+02,   1.43764949e+02,  -3.72992859e+02,\n",
      "         -1.66710683e+02,  -9.81067626e+01,  -3.16412354e+02,\n",
      "         -3.17293752e+02,  -7.43779492e+02,  -3.96032944e+02,\n",
      "          2.62219463e+02,  -3.88078209e+02,   2.15926552e+02,\n",
      "          1.66021504e+02,  -5.20914248e+02,  -1.73865765e+02,\n",
      "          2.87497766e+02,  -1.93164082e+02,  -1.51474194e+02,\n",
      "          1.09924815e+02,  -9.92649966e+01,  -3.86326096e+02,\n",
      "         -1.71772572e+01,   5.44590652e+01,  -1.20880415e+02,\n",
      "         -8.19024816e+02,  -2.72851671e+02,   3.51831533e+02,\n",
      "         -2.77957765e+02,   1.08578382e+01,  -4.80731234e+02,\n",
      "         -3.12654718e+02,  -4.91785733e+02,  -3.39322011e+02,\n",
      "         -5.08257569e+00,   1.05630826e+02,   1.34211310e+02,\n",
      "         -3.47158536e+02,   5.53247131e+01,  -1.28466305e+02,\n",
      "          6.29921484e+01,  -6.54087141e+02,   1.98784661e+02,\n",
      "         -1.83874340e+02,   4.52486493e+02,   5.76682112e+01,\n",
      "         -3.91622096e+01,   7.57625387e+01,  -1.98404540e+01,\n",
      "          9.80649334e+01,   1.65239262e+02,  -7.57678993e+01,\n",
      "          1.38558507e+02,  -1.13355903e+01,   5.85775566e+01,\n",
      "         -9.81712470e+01,  -1.09191480e+02,  -4.56776317e+02,\n",
      "          7.92068461e+01,   2.57803424e+02,  -4.85739604e+01,\n",
      "         -5.58958441e+00,   2.56116769e+01,   1.62745059e+02,\n",
      "         -1.27277158e+02],\n",
      "       [  5.59709972e+03,   3.00877146e+03,   1.13089183e+02,\n",
      "         -4.90792448e+02,  -2.04653320e+03,  -1.37783593e+03,\n",
      "          1.23880928e+02,   1.62902446e+02,   7.54050568e+02,\n",
      "          2.47247402e+02,  -5.12371170e+01,   1.55844779e+03,\n",
      "         -1.96546590e+02,  -1.25998664e+03,  -2.34437265e+02,\n",
      "         -3.27143826e+02,  -1.70992460e+03,  -3.81376351e+02,\n",
      "          1.83632767e+03,  -1.45816446e+02,   1.18879359e+02,\n",
      "         -3.33459373e+02,   4.77734631e+02,  -5.66804549e+02,\n",
      "         -5.66857300e+01,   7.06211319e+02,   1.68708378e+01,\n",
      "          1.55484035e+02,   7.41690456e+02,   1.83079417e+02,\n",
      "          9.48141017e+01,   5.61939175e+02,  -2.82682246e+02,\n",
      "          8.17073236e+02,   1.14637993e+02,  -3.47567067e+02,\n",
      "         -2.91222164e+02,  -1.20028086e+02,  -2.10033116e+02,\n",
      "          4.06337236e+02,  -7.73838009e+01,   3.74289913e+02,\n",
      "         -2.04303129e+02,  -7.02297699e+02,  -1.46862755e+01,\n",
      "          5.38071344e+02,  -3.92812216e+02,   1.75136506e+02,\n",
      "          1.78332580e+02,  -5.91751399e+02,   2.80983638e+02,\n",
      "         -2.57264947e+00,   8.72333961e+01,  -2.74341211e+02,\n",
      "         -3.46082716e+00,  -3.56780177e+02,  -3.85535154e+02,\n",
      "          5.36483233e+01,   4.00993412e+02,   6.88000061e+01,\n",
      "          1.39301039e+02,  -2.47619605e+02,   3.28194843e+02,\n",
      "         -2.92485437e+02,  -1.63983654e+02,  -1.25688196e+02,\n",
      "          1.51999816e+02,  -1.39452382e+02,   1.39322553e+02,\n",
      "          2.73694824e+02,  -2.96638852e+02,  -7.19578105e+01,\n",
      "          3.72277673e+01,   1.58256922e+02,   7.89820865e+01,\n",
      "         -1.56624626e+02,  -4.03074800e+02,   1.97097913e+02,\n",
      "         -5.83699179e+00,   1.14146227e+02,  -3.90874385e+01,\n",
      "         -1.65020380e+02,  -1.83982533e+02,  -1.45428605e+02,\n",
      "         -5.02462253e+01,   1.60092859e+02,   8.59633793e+01,\n",
      "          1.24954149e+02,  -5.04494330e+01,   3.59947138e+02,\n",
      "         -5.29185840e+01,   1.58835140e+02,  -2.11151261e+02,\n",
      "          4.88081722e+01,   2.86596322e+01,   5.37596064e+01,\n",
      "         -2.39322747e+02,  -1.90576961e+02,   1.86873274e+01,\n",
      "         -7.13494505e-01],\n",
      "       [  4.24271660e+03,   2.86392600e+03,  -1.88875958e+03,\n",
      "         -1.08271998e+03,  -1.79854217e+03,  -3.79660019e+02,\n",
      "         -2.49456328e+01,  -9.80076083e+01,   7.41025320e+02,\n",
      "          7.24181716e+01,  -9.94787890e+02,   1.78852904e+03,\n",
      "         -2.96066590e+02,  -8.24646872e+02,  -5.48010489e+02,\n",
      "         -6.80382769e+02,  -1.84472412e+03,   2.95304037e+02,\n",
      "          1.32737164e+03,   2.58433429e+01,   4.30681016e+02,\n",
      "         -2.09724472e+02,   5.59745368e+02,  -3.52084826e+02,\n",
      "          1.52978985e+02,   8.45621435e+02,   2.58092645e+02,\n",
      "         -1.03223594e+02,   9.77632660e+02,   4.93901025e+02,\n",
      "         -1.35429046e+01,   4.29429891e+02,  -2.35734321e+02,\n",
      "          6.06012766e+02,   2.53609406e+02,  -2.82361605e+02,\n",
      "         -5.04893564e+02,  -1.82485012e+01,  -3.77153183e+02,\n",
      "          2.15325824e+01,   4.48742058e+00,   6.84664609e+01,\n",
      "         -3.45223831e+02,  -8.33964961e+02,  -2.58011409e+02,\n",
      "          3.53630112e+02,  -4.32358627e+02,   1.95652056e+02,\n",
      "          1.26798862e+02,  -5.18234392e+02,   1.08650480e+02,\n",
      "          1.24026506e+02,  -7.92389686e+01,  -2.11216795e+02,\n",
      "          6.93474444e+01,  -2.52753982e+02,  -4.50805823e+02,\n",
      "          1.15705181e+01,   2.89335330e+02,  -3.61319929e+01,\n",
      "         -3.39562740e+02,  -3.03009121e+02,   3.99775802e+02,\n",
      "         -3.62377451e+02,  -1.88396504e+02,  -3.31569636e+02,\n",
      "         -7.66714913e+01,  -2.91982458e+02,  -1.49641687e+02,\n",
      "          1.10182613e+02,  -9.06126344e+01,   1.21806228e+01,\n",
      "         -1.44875601e+02,   2.17083386e+01,   5.97767919e+01,\n",
      "         -1.20696711e+02,  -5.68932537e+02,   2.46952732e+02,\n",
      "         -5.26167587e+01,   2.34181543e+02,   6.82863850e+01,\n",
      "         -3.41054785e+01,  -1.43230161e+02,  -1.39773755e+02,\n",
      "          1.01262118e+01,   2.10041364e+02,  -1.66173366e+01,\n",
      "          1.31665441e+02,  -2.63171328e+01,   2.51136087e+02,\n",
      "         -9.54303207e+01,   8.62723413e+00,  -3.36945605e+02,\n",
      "          9.07075979e+01,   1.04537922e+02,  -7.64097384e+01,\n",
      "         -2.07851394e+02,  -2.04998350e+01,   9.59645153e+01,\n",
      "         -5.24985084e+01],\n",
      "       [  6.16204875e+03,   4.72790565e+03,  -1.11946036e+03,\n",
      "         -5.20568764e+02,  -2.16706082e+03,  -8.32951942e+02,\n",
      "          4.79551310e+01,   7.18996104e+01,   9.42406704e+02,\n",
      "          4.82530390e+02,  -5.24860738e+02,   1.83909449e+03,\n",
      "         -3.63141857e+02,  -1.10936940e+03,  -2.74755628e+02,\n",
      "         -3.84599838e+02,  -2.05395572e+03,   2.77475981e+01,\n",
      "          1.68702875e+03,  -4.10924897e+01,   4.03102138e+02,\n",
      "         -2.96304948e+02,   6.82003107e+02,  -4.51080945e+02,\n",
      "          1.70783114e+02,   8.54200634e+02,   1.42193889e+02,\n",
      "          4.49664558e+01,   9.07954505e+02,   3.89378439e+02,\n",
      "          1.36856698e+02,   4.97547539e+02,  -2.56178014e+02,\n",
      "          6.83152299e+02,   2.41497080e+02,  -2.97394758e+02,\n",
      "         -4.06639548e+02,  -1.06012804e+02,  -3.75987037e+02,\n",
      "          2.17320158e+02,  -2.36891709e+00,   2.44801799e+02,\n",
      "         -2.84364965e+02,  -8.76871179e+02,  -1.44752558e+02,\n",
      "          4.96421557e+02,  -4.30194753e+02,   2.06949086e+02,\n",
      "          1.58199165e+02,  -6.06883581e+02,   2.51870809e+02,\n",
      "          7.16689603e+01,   2.41267870e+01,  -2.52304367e+02,\n",
      "          1.05334283e+02,  -3.07440548e+02,  -4.90281900e+02,\n",
      "         -1.54436017e+01,   3.58241756e+02,  -6.07535707e+00,\n",
      "         -1.87685453e+02,  -3.27123446e+02,   4.34094262e+02,\n",
      "         -4.08573286e+02,  -1.95942497e+02,  -2.65973750e+02,\n",
      "          1.91242499e+01,  -2.79669930e+02,  -3.18618705e+01,\n",
      "          1.72297448e+02,  -2.10164985e+02,  -2.67036504e+01,\n",
      "         -1.78827578e+00,   1.70949384e+01,   1.28727280e+01,\n",
      "         -1.64234377e+02,  -4.82856932e+02,   2.20226034e+02,\n",
      "         -4.49238449e+01,   1.21527410e+02,   3.67068618e+01,\n",
      "         -1.57682086e+02,  -1.92072119e+02,  -2.06271452e+02,\n",
      "         -1.81457914e+01,   2.04674952e+02,   4.98223561e+01,\n",
      "          1.47845892e+02,  -4.85273135e+01,   3.46564882e+02,\n",
      "          5.57692917e+00,   1.13383634e+02,  -3.29345862e+02,\n",
      "          1.09606356e+02,   4.00342490e+01,   1.58190718e+01,\n",
      "         -2.99095292e+02,  -1.30676279e+02,   9.07724347e+01,\n",
      "         -9.29159249e+01],\n",
      "       [  2.75009341e+03,   3.34427185e+03,  -2.47365458e+03,\n",
      "         -1.50791049e+03,  -1.23369909e+03,  -2.91771690e+02,\n",
      "         -2.25765756e+02,  -7.10558276e+02,   8.93149417e+02,\n",
      "          3.02637648e+01,  -1.24985503e+03,   1.55604889e+03,\n",
      "         -6.18479033e+02,   3.13902922e+02,  -1.09348177e+03,\n",
      "         -1.05612095e+03,  -1.60420819e+03,   3.34784895e+02,\n",
      "          3.12619473e+02,   7.02961140e+02,   2.02188099e+02,\n",
      "         -3.01521655e+02,   1.33132085e+02,  -2.42988861e+02,\n",
      "          3.79485761e+02,   7.12153201e+02,   3.20612183e+02,\n",
      "          3.73272844e+00,   6.38282335e+02,   5.51055129e+02,\n",
      "          1.52826248e+02,   5.27796331e+02,  -2.60991542e+02,\n",
      "          7.28772771e+02,   7.08479088e+01,  -2.71328851e+02,\n",
      "          4.71370398e+01,   6.04445556e+01,  -2.37510241e+02,\n",
      "         -2.63409790e+02,  -7.10834844e+01,  -7.73565657e+01,\n",
      "         -2.94998253e+02,  -7.61315918e+02,  -6.37749629e+02,\n",
      "          8.42246169e+01,  -3.05412041e+02,   2.55257464e+02,\n",
      "          1.36121859e+01,  -5.97350052e+02,   1.13044362e+02,\n",
      "          3.23241719e+02,  -3.06948144e+02,   2.14854867e+01,\n",
      "          2.48730638e+02,   2.13279087e+01,  -4.81718749e+02,\n",
      "         -1.41962632e+02,   7.89672095e+01,  -2.16304200e+02,\n",
      "         -3.26797611e+02,   5.01925057e+01,   1.44911899e+02,\n",
      "          1.91896888e+02,  -3.89093608e+01,  -2.45761263e+02,\n",
      "          4.29721729e+01,   3.18879674e+01,  -4.28365132e+02,\n",
      "          9.18310516e+01,   9.70412078e+00,   1.71113040e+02,\n",
      "         -1.16542481e+02,  -9.64045871e+01,  -7.12798450e+01,\n",
      "         -1.05079255e+01,   4.04514390e+00,  -3.85030446e+01,\n",
      "          1.07444538e+01,   2.93230888e+02,   3.65331731e+01,\n",
      "          2.53407260e+01,  -5.20135198e+01,   3.91650961e-01,\n",
      "          2.60046060e+02,   1.57917029e+02,  -2.13830297e+02,\n",
      "          2.02216421e+02,   4.74020343e+01,  -6.99864085e+01,\n",
      "          1.11024597e+01,  -9.38475055e+01,  -2.09635656e+02,\n",
      "         -1.24561406e+01,   4.50627001e+02,  -6.11165702e+01,\n",
      "          1.96588280e+02,  -2.13492379e+02,   1.80231478e+01,\n",
      "         -2.14513339e+01]]))\n",
      "('X_prj[0:10,:]', array([[  5.54657847e+03,   1.35658179e+03,  -8.13362935e+02,\n",
      "         -8.24413388e+02,  -1.38767292e+03,  -1.32644579e+03,\n",
      "          4.08995384e+01,  -4.32191113e+02,   9.06791228e+02,\n",
      "         -1.47485889e+02,  -5.09595595e+02,   1.27213572e+03,\n",
      "         -5.00421892e+02,  -8.53642953e+01,  -9.90917296e+02,\n",
      "         -8.12345968e+02,  -1.25123171e+03,  -5.62159748e+01,\n",
      "          8.84955512e+02,   7.07457042e+02,  -1.16151429e+02,\n",
      "         -4.34618515e+02,   1.17828362e+02,  -3.27013600e+02,\n",
      "          3.14197502e+02,   6.19583009e+02,   1.32505079e+02,\n",
      "          1.81683015e+02,   6.20158337e+02,   3.65705207e+02,\n",
      "          2.89301436e+02,   4.29737749e+02,  -1.08388409e+02,\n",
      "          8.90691487e+02,   6.27142073e+01,  -2.61365025e+02,\n",
      "          1.94157129e+02,   5.72116019e+01,  -3.33451575e+02,\n",
      "         -9.05998347e+01,  -1.09332849e+02,   2.46501829e+02,\n",
      "         -1.60616084e+02,  -7.23323255e+02,  -5.19179314e+02,\n",
      "          1.65945913e+02,  -2.28083797e+02,   3.92496875e+02,\n",
      "          5.05347301e+01,  -5.76356363e+02,   4.04806416e+02,\n",
      "          3.05206328e+02,  -3.24618583e+02,  -1.86699774e+01,\n",
      "          3.06481018e+02,   4.39047374e+01,  -4.59821016e+02,\n",
      "         -1.37507294e+02,   2.62395135e+02,  -1.36358306e+02,\n",
      "         -9.71333793e+01,   5.87520714e+00,   9.46024729e+01,\n",
      "          8.82349350e+01,  -5.62715313e+01,  -1.34737440e+02,\n",
      "          1.94979493e+02,   9.17235309e+01,  -3.31774995e+02,\n",
      "          2.21045815e+02,  -4.18584085e+02,   8.45723804e+01,\n",
      "         -1.67084369e+02,  -8.33335153e+00,   5.59309796e+01,\n",
      "         -1.71691755e+02,  -3.33185203e+01,  -6.91547103e+01,\n",
      "          4.97864113e+01,   6.86673674e+01,  -3.67470006e+01,\n",
      "         -9.98245970e+01,  -1.58658516e+02,   8.66411749e+01,\n",
      "          1.26303298e+02,   1.98898394e+02,  -2.95270352e+02,\n",
      "          2.84669864e+02,   1.07121450e+02,  -2.44163748e+01,\n",
      "         -7.83593720e+01,  -2.00403226e+01,  -2.47816758e+02,\n",
      "          4.45132355e+00,   2.30430707e+02,  -2.37445912e+01,\n",
      "          1.61567998e+01,  -1.83603292e+02,  -8.13378870e+01,\n",
      "          1.04248574e+02],\n",
      "       [  6.41957800e+03,   1.80552152e+03,   1.59634502e+03,\n",
      "         -3.13390938e+02,  -1.74081333e+03,  -2.44041250e+03,\n",
      "          1.55192623e+02,  -4.83547949e+02,   9.24808367e+02,\n",
      "         -1.32295449e+02,   3.48322278e+02,   6.85562834e+02,\n",
      "         -5.11474906e+02,  -6.99296499e+02,  -8.91427413e+02,\n",
      "         -4.92994626e+02,  -1.05881877e+03,  -5.56176844e+02,\n",
      "          1.31229736e+03,   7.17249874e+02,  -4.25709507e+02,\n",
      "         -5.37121698e+02,  -3.94137135e+01,  -3.36955233e+02,\n",
      "          1.27736553e+02,   2.09789361e+02,   1.93369527e+00,\n",
      "          4.77267719e+02,   6.32611450e+02,   4.27076481e+02,\n",
      "          2.54600254e+02,   4.94915396e+02,  -9.23277181e+00,\n",
      "          1.02213360e+03,  -9.88961440e+01,  -3.32360656e+02,\n",
      "          4.06747942e+02,   8.67790213e+01,  -3.61186643e+02,\n",
      "          1.38561610e+02,  -2.44181240e+02,   4.57777672e+02,\n",
      "          4.74346253e+01,  -5.36795688e+02,  -4.78126873e+02,\n",
      "          3.73151066e+02,  -1.49337664e+02,   5.27187936e+02,\n",
      "         -1.32210558e+01,  -4.07401160e+02,   6.71645466e+02,\n",
      "          1.46458760e+02,  -1.75585343e+02,   4.12005673e+00,\n",
      "          2.40141950e+02,  -5.98051963e+01,  -3.39450701e+02,\n",
      "         -8.78412131e+01,   5.95761757e+02,   8.54971634e+01,\n",
      "          1.09638876e+02,  -2.00284909e+01,   1.78866790e+02,\n",
      "         -5.31307866e+01,   1.76005176e+01,  -7.57677916e+00,\n",
      "          2.93546593e+02,   2.45518415e+02,  -1.65431494e+02,\n",
      "          3.05145061e+02,  -5.82852094e+02,  -6.66230706e+01,\n",
      "         -1.98862648e+02,   8.26433907e+00,   8.24142343e+01,\n",
      "         -2.04947252e+02,  -3.00855219e+01,  -7.78931225e+01,\n",
      "          1.66613584e+02,  -1.27325744e+02,  -1.02813650e+02,\n",
      "         -2.74780478e+02,  -1.49085684e+02,  -3.55962002e+01,\n",
      "          1.61047350e+02,   4.19625614e+01,  -2.36453458e+02,\n",
      "          4.07956202e+02,   8.59814301e+01,  -1.50187427e+01,\n",
      "         -6.24989915e+01,   1.79590408e+02,  -1.69529862e+02,\n",
      "          1.86866894e+01,   1.00541526e+02,   8.13368283e+01,\n",
      "         -1.16014716e+02,  -1.41326775e+02,  -1.11202849e+02,\n",
      "          2.32740252e+02],\n",
      "       [  4.51507645e+03,   1.99416468e+03,   3.77727402e+03,\n",
      "         -3.59827411e+01,  -2.11284883e+03,  -3.66584335e+03,\n",
      "          2.20732481e+02,   1.21969132e+02,   2.70146341e+02,\n",
      "          1.21483870e+02,   1.95641374e+03,   8.13244008e+02,\n",
      "         -2.86941901e+02,  -1.42042481e+03,   1.13101399e+02,\n",
      "         -3.27898826e+02,  -8.10550158e+02,  -9.37698113e+02,\n",
      "          2.15260619e+03,  -7.37397137e+02,  -5.01238718e+02,\n",
      "         -7.83344771e+00,   1.09090367e+02,  -3.16017114e+02,\n",
      "         -3.45063014e+02,  -4.36592191e+01,  -3.85212547e+02,\n",
      "          1.09524940e+03,   2.51894493e+02,   1.79863767e+02,\n",
      "         -3.60863117e+02,   6.02531019e+02,  -2.86273548e+02,\n",
      "          5.83239965e+02,  -5.54295551e+02,  -1.87261127e+02,\n",
      "          1.42253423e+02,   7.25580059e+01,   8.55276020e+01,\n",
      "          1.20535919e+03,  -6.48777799e+01,   8.70256078e+02,\n",
      "          1.91837658e+02,  -1.03321671e+02,  -3.70312838e+02,\n",
      "          5.68662690e+02,   8.26291917e+01,  -5.97922205e+01,\n",
      "         -4.06703426e+02,  -2.52954922e+02,   4.21315934e+02,\n",
      "         -2.52127000e+02,   3.51147692e+02,   5.29538781e+01,\n",
      "         -7.16846162e+01,  -4.71251752e+02,  -7.06980062e+01,\n",
      "          3.02485175e+01,   6.12472097e+02,   2.01214125e+02,\n",
      "          8.96042408e+02,  -3.32094222e+01,   3.61723635e+02,\n",
      "         -9.43598080e+01,  -4.06526674e+00,   2.27925294e+02,\n",
      "          4.72520150e+02,   2.35987245e+02,   2.95933410e+02,\n",
      "          1.83334720e+02,  -2.83597920e+02,  -4.65651933e+02,\n",
      "          1.41664526e+02,   7.18007143e+01,   4.63506318e+02,\n",
      "          2.87318608e+01,   3.74974311e+01,  -2.00526048e+02,\n",
      "          9.32262619e+01,  -2.50741843e+02,  -2.02774110e+02,\n",
      "          6.53086461e+01,  -4.41976697e+02,  -3.55031281e+01,\n",
      "         -1.84247424e+02,  -7.29346863e+01,   1.94286201e+02,\n",
      "         -1.65851290e+02,  -1.12590086e+02,   6.00677737e+02,\n",
      "          1.60557221e+02,   2.68342995e+02,  -9.33325076e+01,\n",
      "         -1.81232855e+02,   6.98393432e+01,   4.06921845e+02,\n",
      "         -1.47285220e+02,  -1.55286855e+02,   7.67355702e+01,\n",
      "          7.34898679e+01],\n",
      "       [ -6.73702631e+03,  -8.98585401e+01,   4.35537250e+03,\n",
      "         -1.84283661e+03,  -6.76606429e+02,  -4.08034016e+03,\n",
      "         -4.05693727e+02,   5.47570067e+02,  -1.91968262e+03,\n",
      "         -8.92737764e+02,   8.79203273e+02,   6.67005863e+02,\n",
      "         -1.36328044e+02,   1.38799950e+03,   1.69334334e+02,\n",
      "          5.98788702e+02,   2.29285442e+02,  -3.23251021e+02,\n",
      "          8.32466498e+02,  -4.90053979e+02,   3.91055852e+02,\n",
      "          7.05048310e+02,  -7.91951021e+02,  -2.13755695e+02,\n",
      "         -7.48018747e+02,  -3.30101885e+02,   5.45172509e+02,\n",
      "          3.28875648e+02,  -3.15234279e+02,   6.85475858e+02,\n",
      "          4.16730898e+02,   9.12592604e+02,  -7.15204643e+02,\n",
      "         -2.18016064e+02,  -7.32755887e+02,   4.69064418e+02,\n",
      "         -2.18751132e+02,   5.70916723e+02,   9.16433973e+02,\n",
      "          4.39873694e+02,   2.72796660e+02,   7.30434660e+02,\n",
      "         -5.80304281e+02,  -6.79641465e+02,  -3.10678744e+02,\n",
      "          3.34329516e+02,  -1.77563856e+02,   3.17513185e+01,\n",
      "         -6.66138345e+02,  -4.44802252e+01,  -3.01312768e+02,\n",
      "         -1.33277427e+02,   1.13981635e+02,  -2.14991986e+02,\n",
      "          8.26085771e+01,  -9.65900135e+01,   4.40542539e+00,\n",
      "         -2.65273422e+01,  -1.23348693e+01,   3.62153487e+01,\n",
      "          2.20182152e+02,  -2.29143757e+01,   1.55604866e+02,\n",
      "          1.18815955e+02,   3.21305936e+02,   3.38816035e+01,\n",
      "         -4.27791879e+02,   3.03766944e-01,   7.46417891e+01,\n",
      "         -5.51343074e+01,  -3.38897649e+02,  -3.48133251e+02,\n",
      "          4.31005140e+02,   2.40038167e+02,  -5.71427724e+00,\n",
      "          3.55907343e+02,   1.87861215e+02,  -3.67466379e+02,\n",
      "          1.00936730e+01,   1.77331083e+02,   1.45932124e+02,\n",
      "          3.14892430e+02,  -3.94100171e+01,  -6.81611326e+01,\n",
      "         -1.80116140e+02,   1.14194737e+01,   8.01830367e+01,\n",
      "         -3.64621566e+02,  -6.12754040e+02,  -5.39487922e+01,\n",
      "         -4.38952282e+00,   2.40446250e+02,   1.14790251e+02,\n",
      "         -2.61887609e+02,  -7.58146193e+01,   1.68767594e+02,\n",
      "         -1.83259473e+02,   1.32345772e+01,  -7.95084606e+01,\n",
      "          2.11034632e+02],\n",
      "       [  4.35412349e+03,   8.70823621e+02,  -2.68320337e+03,\n",
      "         -1.38532515e+03,  -1.15640131e+03,  -3.96246328e+02,\n",
      "         -1.57670394e+02,  -8.47404882e+02,   9.27803632e+02,\n",
      "         -2.39615865e+02,  -1.40384719e+03,   1.63797236e+03,\n",
      "         -3.41406284e+02,  -3.74210195e+00,  -1.28601683e+03,\n",
      "         -1.09944207e+03,  -1.57672629e+03,   3.40388717e+02,\n",
      "          5.07946784e+02,   6.50268456e+02,   2.58145825e+02,\n",
      "         -2.85481614e+02,   2.15653160e+02,  -2.47157707e+02,\n",
      "          4.14803763e+02,   8.11394140e+02,   2.62186845e+02,\n",
      "         -6.45197260e+01,   8.42026042e+02,   3.92236805e+02,\n",
      "          1.41043366e+02,   3.86743822e+02,  -3.03873112e+02,\n",
      "          8.94490066e+02,   9.69836064e+01,  -2.99060065e+02,\n",
      "         -6.35557722e+01,   8.07467766e+01,  -3.61822538e+02,\n",
      "         -1.75353604e+02,  -1.86470164e+02,  -8.81781493e+01,\n",
      "         -3.38439517e+02,  -7.94009978e+02,  -6.47883953e+02,\n",
      "          1.21287248e+02,  -2.72809355e+02,   2.54949801e+02,\n",
      "         -4.90384915e+01,  -7.96736128e+02,   1.41025234e+02,\n",
      "          3.87999015e+02,  -2.92970508e+02,  -2.76999621e+01,\n",
      "          1.58337879e+02,  -3.67284031e+01,  -4.59901612e+02,\n",
      "         -7.88713964e+01,   1.10709160e+02,  -1.45004355e+02,\n",
      "         -3.43392524e+02,   4.30301349e+01,   1.25919654e+02,\n",
      "          6.93928312e+01,  -6.10175166e+01,  -4.59144143e+02,\n",
      "          3.34129377e+01,  -3.72325582e+00,  -4.51216817e+02,\n",
      "          6.41650159e+01,  -2.05816854e+02,   2.42276935e+02,\n",
      "         -3.02363813e+02,   8.54049900e+01,  -3.05783740e+01,\n",
      "          4.74914387e+01,  -1.16312660e+02,  -6.14496694e+01,\n",
      "          5.45944726e-01,   3.61671438e+02,   1.00632781e+02,\n",
      "         -6.58187854e+01,  -7.97537531e+01,   6.12875903e+01,\n",
      "          1.72389864e+02,   1.57279751e+02,  -1.98160684e+02,\n",
      "          2.58613131e+02,   7.79581491e+01,  -5.79330420e+01,\n",
      "         -1.25942533e+01,  -2.11050479e+02,  -3.13523012e+02,\n",
      "         -7.10371465e+01,   3.76618862e+02,  -2.00955427e-01,\n",
      "          7.97829168e+01,  -6.58558056e+01,  -1.22200649e+02,\n",
      "          1.71625295e+01],\n",
      "       [  7.19446188e+01,   3.20498916e+02,  -3.24053967e+03,\n",
      "         -2.19360757e+03,  -1.10798031e+03,   4.26661385e+02,\n",
      "         -1.84738453e+02,  -5.82128813e+02,   6.44853263e+02,\n",
      "         -3.09387693e+02,  -1.53019102e+03,   1.82501651e+03,\n",
      "         -3.54984681e+02,  -7.75690208e+01,  -8.44501790e+02,\n",
      "         -1.09156733e+03,  -1.73415091e+03,   5.47575220e+02,\n",
      "          6.07366457e+02,   2.44337511e+02,   2.29650461e+02,\n",
      "          4.96732445e+01,   5.52441794e+02,  -3.21743727e+02,\n",
      "          4.19633888e+01,   7.11270842e+02,   3.54128868e+02,\n",
      "         -4.10274654e+02,   9.42609009e+02,   5.26287365e+02,\n",
      "         -1.42925555e+02,   2.84896000e+02,  -1.18613974e+02,\n",
      "          4.17332343e+02,   2.44760224e+02,  -1.24195671e+02,\n",
      "         -5.55625081e+02,   1.43764949e+02,  -3.72992859e+02,\n",
      "         -1.66710683e+02,  -9.81067626e+01,  -3.16412354e+02,\n",
      "         -3.17293752e+02,  -7.43779492e+02,  -3.96032944e+02,\n",
      "          2.62219463e+02,  -3.88078209e+02,   2.15926552e+02,\n",
      "          1.66021504e+02,  -5.20914248e+02,  -1.73865765e+02,\n",
      "          2.87497766e+02,  -1.93164082e+02,  -1.51474194e+02,\n",
      "          1.09924815e+02,  -9.92649966e+01,  -3.86326096e+02,\n",
      "         -1.71772572e+01,   5.44590652e+01,  -1.20880415e+02,\n",
      "         -8.19024816e+02,  -2.72851671e+02,   3.51831533e+02,\n",
      "         -2.77957765e+02,   1.08578382e+01,  -4.80731234e+02,\n",
      "         -3.12654718e+02,  -4.91785733e+02,  -3.39322011e+02,\n",
      "         -5.08257569e+00,   1.05630826e+02,   1.34211310e+02,\n",
      "         -3.47158536e+02,   5.53247131e+01,  -1.28466305e+02,\n",
      "          6.29921484e+01,  -6.54087141e+02,   1.98784661e+02,\n",
      "         -1.83874340e+02,   4.52486493e+02,   5.76682112e+01,\n",
      "         -3.91622096e+01,   7.57625387e+01,  -1.98404540e+01,\n",
      "          9.80649334e+01,   1.65239262e+02,  -7.57678993e+01,\n",
      "          1.38558507e+02,  -1.13355903e+01,   5.85775566e+01,\n",
      "         -9.81712470e+01,  -1.09191480e+02,  -4.56776317e+02,\n",
      "          7.92068461e+01,   2.57803424e+02,  -4.85739604e+01,\n",
      "         -5.58958441e+00,   2.56116769e+01,   1.62745059e+02,\n",
      "         -1.27277158e+02],\n",
      "       [  5.59709972e+03,   3.00877146e+03,   1.13089183e+02,\n",
      "         -4.90792448e+02,  -2.04653320e+03,  -1.37783593e+03,\n",
      "          1.23880928e+02,   1.62902446e+02,   7.54050568e+02,\n",
      "          2.47247402e+02,  -5.12371170e+01,   1.55844779e+03,\n",
      "         -1.96546590e+02,  -1.25998664e+03,  -2.34437265e+02,\n",
      "         -3.27143826e+02,  -1.70992460e+03,  -3.81376351e+02,\n",
      "          1.83632767e+03,  -1.45816446e+02,   1.18879359e+02,\n",
      "         -3.33459373e+02,   4.77734631e+02,  -5.66804549e+02,\n",
      "         -5.66857300e+01,   7.06211319e+02,   1.68708378e+01,\n",
      "          1.55484035e+02,   7.41690456e+02,   1.83079417e+02,\n",
      "          9.48141017e+01,   5.61939175e+02,  -2.82682246e+02,\n",
      "          8.17073236e+02,   1.14637993e+02,  -3.47567067e+02,\n",
      "         -2.91222164e+02,  -1.20028086e+02,  -2.10033116e+02,\n",
      "          4.06337236e+02,  -7.73838009e+01,   3.74289913e+02,\n",
      "         -2.04303129e+02,  -7.02297699e+02,  -1.46862755e+01,\n",
      "          5.38071344e+02,  -3.92812216e+02,   1.75136506e+02,\n",
      "          1.78332580e+02,  -5.91751399e+02,   2.80983638e+02,\n",
      "         -2.57264947e+00,   8.72333961e+01,  -2.74341211e+02,\n",
      "         -3.46082716e+00,  -3.56780177e+02,  -3.85535154e+02,\n",
      "          5.36483233e+01,   4.00993412e+02,   6.88000061e+01,\n",
      "          1.39301039e+02,  -2.47619605e+02,   3.28194843e+02,\n",
      "         -2.92485437e+02,  -1.63983654e+02,  -1.25688196e+02,\n",
      "          1.51999816e+02,  -1.39452382e+02,   1.39322553e+02,\n",
      "          2.73694824e+02,  -2.96638852e+02,  -7.19578105e+01,\n",
      "          3.72277673e+01,   1.58256922e+02,   7.89820865e+01,\n",
      "         -1.56624626e+02,  -4.03074800e+02,   1.97097913e+02,\n",
      "         -5.83699179e+00,   1.14146227e+02,  -3.90874385e+01,\n",
      "         -1.65020380e+02,  -1.83982533e+02,  -1.45428605e+02,\n",
      "         -5.02462253e+01,   1.60092859e+02,   8.59633793e+01,\n",
      "          1.24954149e+02,  -5.04494330e+01,   3.59947138e+02,\n",
      "         -5.29185840e+01,   1.58835140e+02,  -2.11151261e+02,\n",
      "          4.88081722e+01,   2.86596322e+01,   5.37596064e+01,\n",
      "         -2.39322747e+02,  -1.90576961e+02,   1.86873274e+01,\n",
      "         -7.13494505e-01],\n",
      "       [  4.24271660e+03,   2.86392600e+03,  -1.88875958e+03,\n",
      "         -1.08271998e+03,  -1.79854217e+03,  -3.79660019e+02,\n",
      "         -2.49456328e+01,  -9.80076083e+01,   7.41025320e+02,\n",
      "          7.24181716e+01,  -9.94787890e+02,   1.78852904e+03,\n",
      "         -2.96066590e+02,  -8.24646872e+02,  -5.48010489e+02,\n",
      "         -6.80382769e+02,  -1.84472412e+03,   2.95304037e+02,\n",
      "          1.32737164e+03,   2.58433429e+01,   4.30681016e+02,\n",
      "         -2.09724472e+02,   5.59745368e+02,  -3.52084826e+02,\n",
      "          1.52978985e+02,   8.45621435e+02,   2.58092645e+02,\n",
      "         -1.03223594e+02,   9.77632660e+02,   4.93901025e+02,\n",
      "         -1.35429046e+01,   4.29429891e+02,  -2.35734321e+02,\n",
      "          6.06012766e+02,   2.53609406e+02,  -2.82361605e+02,\n",
      "         -5.04893564e+02,  -1.82485012e+01,  -3.77153183e+02,\n",
      "          2.15325824e+01,   4.48742058e+00,   6.84664609e+01,\n",
      "         -3.45223831e+02,  -8.33964961e+02,  -2.58011409e+02,\n",
      "          3.53630112e+02,  -4.32358627e+02,   1.95652056e+02,\n",
      "          1.26798862e+02,  -5.18234392e+02,   1.08650480e+02,\n",
      "          1.24026506e+02,  -7.92389686e+01,  -2.11216795e+02,\n",
      "          6.93474444e+01,  -2.52753982e+02,  -4.50805823e+02,\n",
      "          1.15705181e+01,   2.89335330e+02,  -3.61319929e+01,\n",
      "         -3.39562740e+02,  -3.03009121e+02,   3.99775802e+02,\n",
      "         -3.62377451e+02,  -1.88396504e+02,  -3.31569636e+02,\n",
      "         -7.66714913e+01,  -2.91982458e+02,  -1.49641687e+02,\n",
      "          1.10182613e+02,  -9.06126344e+01,   1.21806228e+01,\n",
      "         -1.44875601e+02,   2.17083386e+01,   5.97767919e+01,\n",
      "         -1.20696711e+02,  -5.68932537e+02,   2.46952732e+02,\n",
      "         -5.26167587e+01,   2.34181543e+02,   6.82863850e+01,\n",
      "         -3.41054785e+01,  -1.43230161e+02,  -1.39773755e+02,\n",
      "          1.01262118e+01,   2.10041364e+02,  -1.66173366e+01,\n",
      "          1.31665441e+02,  -2.63171328e+01,   2.51136087e+02,\n",
      "         -9.54303207e+01,   8.62723413e+00,  -3.36945605e+02,\n",
      "          9.07075979e+01,   1.04537922e+02,  -7.64097384e+01,\n",
      "         -2.07851394e+02,  -2.04998350e+01,   9.59645153e+01,\n",
      "         -5.24985084e+01],\n",
      "       [  6.16204875e+03,   4.72790565e+03,  -1.11946036e+03,\n",
      "         -5.20568764e+02,  -2.16706082e+03,  -8.32951942e+02,\n",
      "          4.79551310e+01,   7.18996104e+01,   9.42406704e+02,\n",
      "          4.82530390e+02,  -5.24860738e+02,   1.83909449e+03,\n",
      "         -3.63141857e+02,  -1.10936940e+03,  -2.74755628e+02,\n",
      "         -3.84599838e+02,  -2.05395572e+03,   2.77475981e+01,\n",
      "          1.68702875e+03,  -4.10924897e+01,   4.03102138e+02,\n",
      "         -2.96304948e+02,   6.82003107e+02,  -4.51080945e+02,\n",
      "          1.70783114e+02,   8.54200634e+02,   1.42193889e+02,\n",
      "          4.49664558e+01,   9.07954505e+02,   3.89378439e+02,\n",
      "          1.36856698e+02,   4.97547539e+02,  -2.56178014e+02,\n",
      "          6.83152299e+02,   2.41497080e+02,  -2.97394758e+02,\n",
      "         -4.06639548e+02,  -1.06012804e+02,  -3.75987037e+02,\n",
      "          2.17320158e+02,  -2.36891709e+00,   2.44801799e+02,\n",
      "         -2.84364965e+02,  -8.76871179e+02,  -1.44752558e+02,\n",
      "          4.96421557e+02,  -4.30194753e+02,   2.06949086e+02,\n",
      "          1.58199165e+02,  -6.06883581e+02,   2.51870809e+02,\n",
      "          7.16689603e+01,   2.41267870e+01,  -2.52304367e+02,\n",
      "          1.05334283e+02,  -3.07440548e+02,  -4.90281900e+02,\n",
      "         -1.54436017e+01,   3.58241756e+02,  -6.07535707e+00,\n",
      "         -1.87685453e+02,  -3.27123446e+02,   4.34094262e+02,\n",
      "         -4.08573286e+02,  -1.95942497e+02,  -2.65973750e+02,\n",
      "          1.91242499e+01,  -2.79669930e+02,  -3.18618705e+01,\n",
      "          1.72297448e+02,  -2.10164985e+02,  -2.67036504e+01,\n",
      "         -1.78827578e+00,   1.70949384e+01,   1.28727280e+01,\n",
      "         -1.64234377e+02,  -4.82856932e+02,   2.20226034e+02,\n",
      "         -4.49238449e+01,   1.21527410e+02,   3.67068618e+01,\n",
      "         -1.57682086e+02,  -1.92072119e+02,  -2.06271452e+02,\n",
      "         -1.81457914e+01,   2.04674952e+02,   4.98223561e+01,\n",
      "          1.47845892e+02,  -4.85273135e+01,   3.46564882e+02,\n",
      "          5.57692917e+00,   1.13383634e+02,  -3.29345862e+02,\n",
      "          1.09606356e+02,   4.00342490e+01,   1.58190718e+01,\n",
      "         -2.99095292e+02,  -1.30676279e+02,   9.07724347e+01,\n",
      "         -9.29159249e+01],\n",
      "       [  2.75009341e+03,   3.34427185e+03,  -2.47365458e+03,\n",
      "         -1.50791049e+03,  -1.23369909e+03,  -2.91771690e+02,\n",
      "         -2.25765756e+02,  -7.10558276e+02,   8.93149417e+02,\n",
      "          3.02637648e+01,  -1.24985503e+03,   1.55604889e+03,\n",
      "         -6.18479033e+02,   3.13902922e+02,  -1.09348177e+03,\n",
      "         -1.05612095e+03,  -1.60420819e+03,   3.34784895e+02,\n",
      "          3.12619473e+02,   7.02961140e+02,   2.02188099e+02,\n",
      "         -3.01521655e+02,   1.33132085e+02,  -2.42988861e+02,\n",
      "          3.79485761e+02,   7.12153201e+02,   3.20612183e+02,\n",
      "          3.73272844e+00,   6.38282335e+02,   5.51055129e+02,\n",
      "          1.52826248e+02,   5.27796331e+02,  -2.60991542e+02,\n",
      "          7.28772771e+02,   7.08479088e+01,  -2.71328851e+02,\n",
      "          4.71370398e+01,   6.04445556e+01,  -2.37510241e+02,\n",
      "         -2.63409790e+02,  -7.10834844e+01,  -7.73565657e+01,\n",
      "         -2.94998253e+02,  -7.61315918e+02,  -6.37749629e+02,\n",
      "          8.42246169e+01,  -3.05412041e+02,   2.55257464e+02,\n",
      "          1.36121859e+01,  -5.97350052e+02,   1.13044362e+02,\n",
      "          3.23241719e+02,  -3.06948144e+02,   2.14854867e+01,\n",
      "          2.48730638e+02,   2.13279087e+01,  -4.81718749e+02,\n",
      "         -1.41962632e+02,   7.89672095e+01,  -2.16304200e+02,\n",
      "         -3.26797611e+02,   5.01925057e+01,   1.44911899e+02,\n",
      "          1.91896888e+02,  -3.89093608e+01,  -2.45761263e+02,\n",
      "          4.29721729e+01,   3.18879674e+01,  -4.28365132e+02,\n",
      "          9.18310516e+01,   9.70412078e+00,   1.71113040e+02,\n",
      "         -1.16542481e+02,  -9.64045871e+01,  -7.12798450e+01,\n",
      "         -1.05079255e+01,   4.04514390e+00,  -3.85030446e+01,\n",
      "          1.07444538e+01,   2.93230888e+02,   3.65331731e+01,\n",
      "          2.53407260e+01,  -5.20135198e+01,   3.91650961e-01,\n",
      "          2.60046060e+02,   1.57917029e+02,  -2.13830297e+02,\n",
      "          2.02216421e+02,   4.74020343e+01,  -6.99864085e+01,\n",
      "          1.11024597e+01,  -9.38475055e+01,  -2.09635656e+02,\n",
      "         -1.24561406e+01,   4.50627001e+02,  -6.11165702e+01,\n",
      "          1.96588280e+02,  -2.13492379e+02,   1.80231478e+01,\n",
      "         -2.14513339e+01]]))\n"
     ]
    }
   ],
   "source": [
    "test_proj = np.matmul((X[0:10,:] - np.mean(X, axis=0)), pca_model.components_.T)\n",
    "print(\"The L2 distance: %.5f\" % np.sum(np.square(test_proj-X_prj[0:10,:])))\n",
    "print(\"test_proj\", test_proj)\n",
    "print(\"X_prj[0:10,:]\", X_prj[0:10,:])"
   ]
  },
  {
   "cell_type": "markdown",
   "metadata": {
    "id": "YLt0xHFx2422"
   },
   "source": [
    "## 3. Model Selection"
   ]
  },
  {
   "cell_type": "markdown",
   "metadata": {
    "id": "9hpQavgH2424"
   },
   "source": [
    "### Train-Test splitting."
   ]
  },
  {
   "cell_type": "code",
   "execution_count": null,
   "metadata": {
    "id": "0UqG49tP2425"
   },
   "outputs": [],
   "source": [
    "X_train, X_test, Y_train, Y_test = train_test_split(X_prj, Y, test_size=0.33, random_state=0)"
   ]
  },
  {
   "cell_type": "markdown",
   "metadata": {
    "id": "OFOq5NsA2425"
   },
   "source": [
    "### Logistic Regression"
   ]
  },
  {
   "cell_type": "code",
   "execution_count": null,
   "metadata": {
    "id": "uDoApnjp2426",
    "outputId": "074609f4-3a67-48cf-86d7-7ab72f934571",
    "scrolled": true
   },
   "outputs": [
    {
     "name": "stderr",
     "output_type": "stream",
     "text": [
      "/home/ai4u/build/anaconda2/envs/tf_built/lib/python2.7/site-packages/sklearn/linear_model/logistic.py:433: FutureWarning: Default solver will be changed to 'lbfgs' in 0.22. Specify a solver to silence this warning.\n",
      "  FutureWarning)\n",
      "/home/ai4u/build/anaconda2/envs/tf_built/lib/python2.7/site-packages/sklearn/linear_model/logistic.py:460: FutureWarning: Default multi_class will be changed to 'auto' in 0.22. Specify the multi_class option to silence this warning.\n",
      "  \"this warning.\", FutureWarning)\n"
     ]
    },
    {
     "name": "stdout",
     "output_type": "stream",
     "text": [
      "Accuracy on test set: 0.806173\n"
     ]
    },
    {
     "name": "stderr",
     "output_type": "stream",
     "text": [
      "/home/ai4u/build/anaconda2/envs/tf_built/lib/python2.7/site-packages/sklearn/svm/base.py:931: ConvergenceWarning: Liblinear failed to converge, increase the number of iterations.\n",
      "  \"the number of iterations.\", ConvergenceWarning)\n"
     ]
    }
   ],
   "source": [
    "clf =LogisticRegression()\n",
    "clf.fit(X_train, Y_train)\n",
    "Y_pred = clf.predict(X_test)\n",
    "print(\"Accuracy on test set: %.6f\" %(np.sum(Y_pred == Y_test) / len(Y_pred)))"
   ]
  },
  {
   "cell_type": "markdown",
   "metadata": {
    "id": "tHYRBgCj2426"
   },
   "source": [
    "### Support Vector Machine with Linear Kernel"
   ]
  },
  {
   "cell_type": "code",
   "execution_count": null,
   "metadata": {
    "id": "MfutVwTD2426",
    "outputId": "55bfa753-e9f8-4564-969b-90655b47f021",
    "scrolled": true
   },
   "outputs": [
    {
     "name": "stdout",
     "output_type": "stream",
     "text": [
      "Accuracy on test set: 0.886420\n"
     ]
    }
   ],
   "source": [
    "clf =SVC(kernel='linear', C=1.0)\n",
    "clf.fit(X_train, Y_train)\n",
    "Y_pred = clf.predict(X_test)\n",
    "print(\"Accuracy on test set: %.6f\" %(np.sum(Y_pred == Y_test) / len(Y_pred)))"
   ]
  },
  {
   "cell_type": "markdown",
   "metadata": {
    "id": "Pw0_D1K52427"
   },
   "source": [
    "#### You can change the kernel to 'rbf' and see what happens"
   ]
  },
  {
   "cell_type": "markdown",
   "metadata": {
    "id": "rc_tDvVr2428"
   },
   "source": [
    "### Two hidden layers Neural Networks"
   ]
  },
  {
   "cell_type": "markdown",
   "metadata": {
    "id": "cvIutGu52428"
   },
   "source": [
    "#### Feel free to change the number units of hidden layers and observe how it will affect the performance. <br>Tips: Increase the number of parameters when the model under-fits the data and decrease the number of params when the model over-fits the data"
   ]
  },
  {
   "cell_type": "code",
   "execution_count": null,
   "metadata": {
    "id": "J1D_QDG22429",
    "outputId": "462f10a4-0286-44d7-c993-614e07689932",
    "scrolled": true
   },
   "outputs": [
    {
     "name": "stdout",
     "output_type": "stream",
     "text": [
      "Accuracy on test set: 0.907407\n"
     ]
    }
   ],
   "source": [
    "clf = MLPClassifier(activation = 'logistic', hidden_layer_sizes=(850, 50), random_state=0, max_iter=200)\n",
    "clf.fit(X_train, Y_train)\n",
    "Y_pred = clf.predict(X_test)\n",
    "print(\"Accuracy on test set: %.6f\" %(np.sum(Y_pred == Y_test) / len(Y_pred)))"
   ]
  },
  {
   "cell_type": "markdown",
   "metadata": {
    "id": "xDQfnbpk243B"
   },
   "source": [
    "### A short introduction to Tensorflow"
   ]
  },
  {
   "cell_type": "code",
   "execution_count": null,
   "metadata": {
    "id": "kvifBzHZ243C"
   },
   "outputs": [],
   "source": [
    "import tensorflow as tf\n",
    "from tensorflow.python.framework import ops"
   ]
  },
  {
   "cell_type": "code",
   "execution_count": null,
   "metadata": {
    "collapsed": true,
    "id": "ecy_J2h0243C"
   },
   "outputs": [],
   "source": [
    "# Parameters\n",
    "learning_rate = 0.1\n",
    "num_steps = 300\n",
    "batch_size = 128\n",
    "display_step = 50\n",
    "\n",
    "# Network Parameters\n",
    "n_hidden_1 = 850 # 1st layer number of neurons\n",
    "n_hidden_2 = 50 # 2nd layer number of neurons\n",
    "num_input =  100# MNIST data input (img shape: 28*28)\n",
    "num_classes = len(subjects) # MNIST total classes (0-9 digits)\n"
   ]
  },
  {
   "cell_type": "code",
   "execution_count": null,
   "metadata": {
    "id": "2FiLZOnL243D"
   },
   "outputs": [],
   "source": [
    "tf.reset_default_graph()\n",
    "#del graph\n",
    "graph = tf.Graph()\n",
    "sess = tf.InteractiveSession(graph=graph)\n",
    "\n",
    "with graph.as_default():\n",
    "    # Define the computation graph (your neural networks)\n",
    "    # Store layers weight & bias\n",
    "    weights = {\n",
    "        'h1': tf.Variable(tf.random_normal([num_input, n_hidden_1])),\n",
    "        'h2': tf.Variable(tf.random_normal([n_hidden_1, n_hidden_2])),\n",
    "        'out': tf.Variable(tf.random_normal([n_hidden_2, num_classes]))\n",
    "    }\n",
    "    biases = {\n",
    "        'b1': tf.Variable(tf.random_normal([n_hidden_1])),\n",
    "        'b2': tf.Variable(tf.random_normal([n_hidden_2])),\n",
    "        'out': tf.Variable(tf.random_normal([num_classes]))\n",
    "    }\n",
    "    # tf Graph input\n",
    "    Xp = tf.placeholder(name = \"input\", shape=[None, num_input], dtype = tf.float32)\n",
    "    Yp = tf.placeholder(name='labels', shape=None, dtype=tf.int64)\n",
    "    is_training = tf.placeholder(name='is_training', dtype=tf.bool)\n",
    "    keep_prob = tf.placeholder(tf.float32) # dropout (keep probability)\n",
    "\n",
    "    fc1 = tf.add(tf.matmul(Xp, weights['h1']), biases['b1']) #w1*x+b1\n",
    "    #fc1 = tf.contrib.layers.batch_norm(fc1, is_training=is_training)\n",
    "    #fc1 = tf.nn.relu(fc1)\n",
    "    #fc1 = tf.nn.dropout(fc1, keep_prob)\n",
    "    # Hidden fully connected layer with 256 neurons\n",
    "    fc2 = tf.add(tf.matmul(fc1, weights['h2']), biases['b2']) #w2*fc1 + b2\n",
    "    fc2 = tf.contrib.layers.batch_norm(fc2, is_training=is_training)\n",
    "    fc2 = tf.nn.relu(fc2)\n",
    "    #fc2 = tf.nn.dropout(fc2, keep_prob)\n",
    "    # Output fully connected layer with a neuron for each class\n",
    "    logits = tf.matmul(fc2, weights['out']) + biases['out']# w3*fc2+b3\n",
    "    logits = tf.nn.dropout(logits, keep_prob)\n",
    "    \n",
    "    # Define loss and optimizer\n",
    "    loss_op = tf.reduce_mean(tf.nn.sparse_softmax_cross_entropy_with_logits(\n",
    "        logits=logits, labels=Yp))\n",
    "    optimizer = tf.train.AdamOptimizer(learning_rate=learning_rate)\n",
    "    with tf.control_dependencies(tf.get_collection(tf.GraphKeys.UPDATE_OPS)):\n",
    "        train_op = optimizer.minimize(loss_op)\n",
    "    #train_op = optimizer.minimize(loss_op)\n",
    "\n",
    "    # Evaluate model (with test logits, for dropout to be disabled)\n",
    "    pred = tf.argmax(logits, 1)\n",
    "    correct_pred = tf.equal(tf.argmax(logits, 1), Yp)\n",
    "    accuracy = tf.reduce_mean(tf.cast(correct_pred, tf.float32))\n",
    "\n",
    "    # Initialize the variables (i.e. assign their default value)\n",
    "    init = tf.global_variables_initializer()"
   ]
  },
  {
   "cell_type": "markdown",
   "metadata": {
    "id": "lOAYeRWR243E"
   },
   "source": [
    "#### You could uncomment some lines in the above code for fine-tunning the model. I had used BatchNorm and Dropout layers to make the model more stable. The theory of these techniques can be found at: <br>\n",
    "https://arxiv.org/abs/1502.03167 Batch Normalization: Accelerating Deep Network Training by Reducing Internal Covariate Shift\n",
    "http://jmlr.org/papers/v15/srivastava14a.html Dropout: A Simple Way to Prevent Neural Networks from Overfitting "
   ]
  },
  {
   "cell_type": "code",
   "execution_count": null,
   "metadata": {
    "collapsed": true,
    "id": "GUEZRku0243F"
   },
   "outputs": [],
   "source": [
    "# ??  tf.nn.sparse_softmax_cross_entropy_with_logits"
   ]
  },
  {
   "cell_type": "code",
   "execution_count": null,
   "metadata": {
    "id": "I4_m3v4Q243G",
    "outputId": "3332e2f0-9808-428a-fe5c-b79629c2f49a",
    "scrolled": true
   },
   "outputs": [
    {
     "name": "stdout",
     "output_type": "stream",
     "text": [
      "Step 0, Minibatch Loss= 974.2451, Training Accuracy= 0.031\n",
      "Step 0, Minibatch Loss= 458.8027, Training Accuracy= 0.109\n",
      "Step 0, Minibatch Loss= 273.6662, Training Accuracy= 0.055\n",
      "Step 0, Minibatch Loss= 215.8710, Training Accuracy= 0.086\n",
      "Step 0, Minibatch Loss= 169.6773, Training Accuracy= 0.062\n",
      "Step 0, Minibatch Loss= 144.6219, Training Accuracy= 0.141\n",
      "Step 0, Minibatch Loss= 139.2727, Training Accuracy= 0.047\n",
      "Step 0, Minibatch Loss= 141.0641, Training Accuracy= 0.039\n",
      "Step 0, Minibatch Loss= 108.8144, Training Accuracy= 0.086\n",
      "Step 0, Minibatch Loss= 105.7835, Training Accuracy= 0.062\n",
      "Step 0, Minibatch Loss= 95.0523, Training Accuracy= 0.062\n",
      "Step 0, Minibatch Loss= 78.8532, Training Accuracy= 0.047\n",
      "Step 1, Minibatch Loss= 78.3092, Training Accuracy= 0.031\n",
      "Step 1, Minibatch Loss= 71.7261, Training Accuracy= 0.078\n",
      "Step 1, Minibatch Loss= 70.4906, Training Accuracy= 0.086\n",
      "Step 1, Minibatch Loss= 85.7844, Training Accuracy= 0.055\n",
      "Step 1, Minibatch Loss= 68.5329, Training Accuracy= 0.070\n",
      "Step 1, Minibatch Loss= 58.9395, Training Accuracy= 0.102\n",
      "Step 1, Minibatch Loss= 62.9676, Training Accuracy= 0.047\n",
      "Step 1, Minibatch Loss= 64.6952, Training Accuracy= 0.078\n",
      "Step 1, Minibatch Loss= 61.5699, Training Accuracy= 0.078\n",
      "Step 1, Minibatch Loss= 61.7224, Training Accuracy= 0.094\n",
      "Step 1, Minibatch Loss= 63.1849, Training Accuracy= 0.055\n",
      "Step 1, Minibatch Loss= 54.3176, Training Accuracy= 0.109\n",
      "Step 50, Minibatch Loss= 0.3873, Training Accuracy= 0.914\n",
      "Step 50, Minibatch Loss= 0.2947, Training Accuracy= 0.938\n",
      "Step 50, Minibatch Loss= 0.1412, Training Accuracy= 0.930\n",
      "Step 50, Minibatch Loss= 0.4609, Training Accuracy= 0.883\n",
      "Step 50, Minibatch Loss= 0.5034, Training Accuracy= 0.898\n",
      "Step 50, Minibatch Loss= 0.4360, Training Accuracy= 0.883\n",
      "Step 50, Minibatch Loss= 0.5980, Training Accuracy= 0.852\n",
      "Step 50, Minibatch Loss= 0.5787, Training Accuracy= 0.859\n",
      "Step 50, Minibatch Loss= 0.5581, Training Accuracy= 0.898\n",
      "Step 50, Minibatch Loss= 1.1007, Training Accuracy= 0.805\n",
      "Step 50, Minibatch Loss= 1.0527, Training Accuracy= 0.789\n",
      "Step 50, Minibatch Loss= 0.8636, Training Accuracy= 0.852\n",
      "Step 100, Minibatch Loss= 0.1661, Training Accuracy= 0.961\n",
      "Step 100, Minibatch Loss= 0.1498, Training Accuracy= 0.953\n",
      "Step 100, Minibatch Loss= 0.1252, Training Accuracy= 0.977\n",
      "Step 100, Minibatch Loss= 0.6818, Training Accuracy= 0.883\n",
      "Step 100, Minibatch Loss= 0.4775, Training Accuracy= 0.922\n",
      "Step 100, Minibatch Loss= 0.2461, Training Accuracy= 0.953\n",
      "Step 100, Minibatch Loss= 0.3862, Training Accuracy= 0.906\n",
      "Step 100, Minibatch Loss= 0.4504, Training Accuracy= 0.922\n",
      "Step 100, Minibatch Loss= 0.2298, Training Accuracy= 0.930\n",
      "Step 100, Minibatch Loss= 0.4586, Training Accuracy= 0.906\n",
      "Step 100, Minibatch Loss= 0.3921, Training Accuracy= 0.930\n",
      "Step 100, Minibatch Loss= 0.3630, Training Accuracy= 0.930\n",
      "Step 150, Minibatch Loss= 0.2629, Training Accuracy= 0.961\n",
      "Step 150, Minibatch Loss= 0.1638, Training Accuracy= 0.961\n",
      "Step 150, Minibatch Loss= 0.0874, Training Accuracy= 0.984\n",
      "Step 150, Minibatch Loss= 0.2905, Training Accuracy= 0.953\n",
      "Step 150, Minibatch Loss= 0.1563, Training Accuracy= 0.945\n",
      "Step 150, Minibatch Loss= 0.0559, Training Accuracy= 0.984\n",
      "Step 150, Minibatch Loss= 0.0962, Training Accuracy= 0.977\n",
      "Step 150, Minibatch Loss= 0.0604, Training Accuracy= 0.969\n",
      "Step 150, Minibatch Loss= 0.0411, Training Accuracy= 0.984\n",
      "Step 150, Minibatch Loss= 0.2647, Training Accuracy= 0.938\n",
      "Step 150, Minibatch Loss= 0.0366, Training Accuracy= 0.992\n",
      "Step 150, Minibatch Loss= 0.0934, Training Accuracy= 0.984\n",
      "Step 200, Minibatch Loss= 0.5840, Training Accuracy= 0.922\n",
      "Step 200, Minibatch Loss= 0.7209, Training Accuracy= 0.922\n",
      "Step 200, Minibatch Loss= 0.3274, Training Accuracy= 0.945\n",
      "Step 200, Minibatch Loss= 1.1814, Training Accuracy= 0.875\n",
      "Step 200, Minibatch Loss= 0.8136, Training Accuracy= 0.852\n",
      "Step 200, Minibatch Loss= 0.7508, Training Accuracy= 0.906\n",
      "Step 200, Minibatch Loss= 1.2097, Training Accuracy= 0.836\n",
      "Step 200, Minibatch Loss= 1.0127, Training Accuracy= 0.859\n",
      "Step 200, Minibatch Loss= 1.1354, Training Accuracy= 0.867\n",
      "Step 200, Minibatch Loss= 1.4460, Training Accuracy= 0.859\n",
      "Step 200, Minibatch Loss= 1.5207, Training Accuracy= 0.844\n",
      "Step 200, Minibatch Loss= 1.3695, Training Accuracy= 0.844\n",
      "Step 250, Minibatch Loss= 0.3265, Training Accuracy= 0.953\n",
      "Step 250, Minibatch Loss= 0.0654, Training Accuracy= 0.969\n",
      "Step 250, Minibatch Loss= 0.1871, Training Accuracy= 0.961\n",
      "Step 250, Minibatch Loss= 0.2073, Training Accuracy= 0.961\n",
      "Step 250, Minibatch Loss= 0.2153, Training Accuracy= 0.945\n",
      "Step 250, Minibatch Loss= 0.2022, Training Accuracy= 0.969\n",
      "Step 250, Minibatch Loss= 0.1040, Training Accuracy= 0.969\n",
      "Step 250, Minibatch Loss= 0.2324, Training Accuracy= 0.930\n",
      "Step 250, Minibatch Loss= 0.0437, Training Accuracy= 0.984\n",
      "Step 250, Minibatch Loss= 0.5477, Training Accuracy= 0.945\n",
      "Step 250, Minibatch Loss= 0.2194, Training Accuracy= 0.953\n",
      "Step 250, Minibatch Loss= 0.1348, Training Accuracy= 0.961\n",
      "Optimization Finished!\n"
     ]
    }
   ],
   "source": [
    "with graph.as_default():\n",
    "    sess.run(init)\n",
    "    for step in range(num_steps):\n",
    "        batch_begin = 0\n",
    "        while batch_begin + batch_size<= len(X_train):\n",
    "            batch_x = X_train[batch_begin:batch_begin+batch_size]\n",
    "            batch_y = Y_train[batch_begin:batch_begin+batch_size]\n",
    "            sess.run(train_op, feed_dict={Xp: batch_x, Yp: batch_y.astype(np.int64), keep_prob: 0.5, is_training:True})\n",
    "            if step % display_step == 0 or step == 1:\n",
    "                # Calculate batch loss and accuracy\n",
    "                loss, acc = sess.run([loss_op, accuracy], feed_dict={Xp: batch_x,\n",
    "                                                                     Yp: batch_y.astype(np.int64),\n",
    "                                                                     keep_prob: 1.0, is_training:False})\n",
    "                print(\"Step \" + str(step) + \", Minibatch Loss= \" + \\\n",
    "                      \"{:.4f}\".format(loss) + \", Training Accuracy= \" + \\\n",
    "                      \"{:.3f}\".format(acc))\n",
    "        \n",
    "            batch_begin+=batch_size\n",
    "print(\"Optimization Finished!\")"
   ]
  },
  {
   "cell_type": "code",
   "execution_count": null,
   "metadata": {
    "id": "461zgJDY243H",
    "outputId": "f3c6ade8-a81f-40d0-f929-87e5695ce2fb",
    "scrolled": false
   },
   "outputs": [
    {
     "name": "stdout",
     "output_type": "stream",
     "text": [
      "Accuracy test set : 0.885\n"
     ]
    }
   ],
   "source": [
    "with graph.as_default():\n",
    "    Y_pred, acc = sess.run([pred, accuracy], feed_dict={Xp: X_test,\n",
    "                                                                     Yp: Y_test.astype(np.int64),\n",
    "                                                                     keep_prob: 1.0, is_training:False})\n",
    "    print(\"Accuracy test set : \" + \\\n",
    "                      \"{:.3f}\".format(acc))"
   ]
  },
  {
   "cell_type": "markdown",
   "metadata": {
    "id": "tQGQPSSG243I"
   },
   "source": [
    "### Exercise:\n",
    "#### Split the data to 3 different sets: train, dev and test. Use the train-set for training, dev-set for tunning, and finally evaluate the model performance on test-set"
   ]
  },
  {
   "cell_type": "code",
   "execution_count": null,
   "metadata": {
    "collapsed": true,
    "id": "bO0k0UH6243I"
   },
   "outputs": [],
   "source": []
  }
 ],
 "metadata": {
  "colab": {
   "name": "ModelSelection(updated).ipynb",
   "provenance": []
  },
  "kernelspec": {
   "display_name": "Python 3",
   "language": "python",
   "name": "python3"
  },
  "language_info": {
   "codemirror_mode": {
    "name": "ipython",
    "version": 3
   },
   "file_extension": ".py",
   "mimetype": "text/x-python",
   "name": "python",
   "nbconvert_exporter": "python",
   "pygments_lexer": "ipython3",
   "version": "3.8.8"
  }
 },
 "nbformat": 4,
 "nbformat_minor": 1
}
