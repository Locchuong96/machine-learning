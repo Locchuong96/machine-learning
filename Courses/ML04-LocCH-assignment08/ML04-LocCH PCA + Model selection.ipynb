{
 "cells": [
  {
   "cell_type": "markdown",
   "id": "caed9aa6",
   "metadata": {},
   "source": [
    "### PCA ( Principal Component Analysis )\n",
    "\n",
    "![capture](./Capture.png)\n",
    "![capture2](./Capture2.png)\n",
    "![capture3](./Capture3.png)\n",
    "![capture4](./Capture4.png)\n",
    "![capture5](./Capture5.png)\n",
    "![capture6](./Capture6.png)\n",
    "![capture7](./Capture7.png)\n",
    "![capture8](./Capture8.png)\n",
    "![capture9](./Capture9.png)\n",
    "![capture10](./Capture10.png)\n",
    "![gif](./nagesh-pca-5.gif)\n",
    "![pic10](./nagesh-pca-6.png)"
   ]
  },
  {
   "cell_type": "markdown",
   "id": "23298503",
   "metadata": {},
   "source": [
    "### calculate eigen vector and eigen values of the matrix"
   ]
  },
  {
   "cell_type": "code",
   "execution_count": 77,
   "id": "52e9e437",
   "metadata": {},
   "outputs": [],
   "source": [
    "import numpy as np \n",
    "import matplotlib.pyplot as plt"
   ]
  },
  {
   "cell_type": "code",
   "execution_count": 78,
   "id": "0e8b3c92",
   "metadata": {},
   "outputs": [
    {
     "name": "stdout",
     "output_type": "stream",
     "text": [
      "(3, 2)\n",
      "[[1 2]\n",
      " [3 4]\n",
      " [5 6]]\n"
     ]
    },
    {
     "data": {
      "text/plain": [
       "<matplotlib.collections.PathCollection at 0x2a3c4d60>"
      ]
     },
     "execution_count": 78,
     "metadata": {},
     "output_type": "execute_result"
    },
    {
     "data": {
      "image/png": "[encoded data removed]",
      "text/plain": [
       "<Figure size 432x288 with 1 Axes>"
      ]
     },
     "metadata": {
      "needs_background": "light"
     },
     "output_type": "display_data"
    }
   ],
   "source": [
    "# Let calculate eigenvectors and eigen values of the small dataset\n",
    "A = np.array([[1,2],[3,4],[5,6]])\n",
    "print(A.shape)\n",
    "print(A)\n",
    "plt.scatter(A[:,0],A[:,1])"
   ]
  },
  {
   "cell_type": "code",
   "execution_count": 79,
   "id": "899c4c66",
   "metadata": {},
   "outputs": [
    {
     "data": {
      "text/plain": [
       "array([3., 4.])"
      ]
     },
     "execution_count": 79,
     "metadata": {},
     "output_type": "execute_result"
    }
   ],
   "source": [
    "# Calculate the mean of each column\n",
    "mean = np.mean(A.T,axis = 1)\n",
    "mean"
   ]
  },
  {
   "cell_type": "code",
   "execution_count": 80,
   "id": "ea2d8d23",
   "metadata": {},
   "outputs": [
    {
     "name": "stdout",
     "output_type": "stream",
     "text": [
      "(3, 2)\n",
      "[[-2. -2.]\n",
      " [ 0.  0.]\n",
      " [ 2.  2.]]\n"
     ]
    },
    {
     "data": {
      "text/plain": [
       "<matplotlib.collections.PathCollection at 0x2a3eb2b0>"
      ]
     },
     "execution_count": 80,
     "metadata": {},
     "output_type": "execute_result"
    },
    {
     "data": {
      "image/png": "[encoded data removed]",
      "text/plain": [
       "<Figure size 432x288 with 1 Axes>"
      ]
     },
     "metadata": {
      "needs_background": "light"
     },
     "output_type": "display_data"
    }
   ],
   "source": [
    "# move hold dataset into zero mean\n",
    "C= A - mean\n",
    "print(C.shape)\n",
    "print(C)\n",
    "plt.scatter(C[:,0],C[:,1])"
   ]
  },
  {
   "cell_type": "code",
   "execution_count": 81,
   "id": "fdfcd724",
   "metadata": {},
   "outputs": [
    {
     "name": "stdout",
     "output_type": "stream",
     "text": [
      "(2, 2)\n",
      "[[4. 4.]\n",
      " [4. 4.]]\n"
     ]
    }
   ],
   "source": [
    "# Calculate covariance matrix of new center matrix\n",
    "V = np.cov(C.T)\n",
    "print(V.shape)\n",
    "print(V)"
   ]
  },
  {
   "cell_type": "code",
   "execution_count": 82,
   "id": "48fc8579",
   "metadata": {},
   "outputs": [
    {
     "name": "stdout",
     "output_type": "stream",
     "text": [
      "[8. 0.]\n",
      "[[ 0.70710678 -0.70710678]\n",
      " [ 0.70710678  0.70710678]]\n"
     ]
    }
   ],
   "source": [
    "# Calculate eigen vectors and eigen values\n",
    "values,vectors = np.linalg.eig(V)\n",
    "print(values)\n",
    "print(vectors)"
   ]
  },
  {
   "cell_type": "markdown",
   "id": "77e2c1f1",
   "metadata": {},
   "source": [
    "Large samples"
   ]
  },
  {
   "cell_type": "code",
   "execution_count": 182,
   "id": "201c14c6",
   "metadata": {},
   "outputs": [
    {
     "name": "stdout",
     "output_type": "stream",
     "text": [
      "(300, 2)\n"
     ]
    },
    {
     "data": {
      "text/plain": [
       "<matplotlib.collections.PathCollection at 0x2d846850>"
      ]
     },
     "execution_count": 182,
     "metadata": {},
     "output_type": "execute_result"
    },
    {
     "data": {
      "image/png": "[encoded data removed]",
      "text/plain": [
       "<Figure size 432x288 with 1 Axes>"
      ]
     },
     "metadata": {
      "needs_background": "light"
     },
     "output_type": "display_data"
    }
   ],
   "source": [
    "# create a gaussian 2d \n",
    "mean = [1,2]\n",
    "cov = np.array([[1,0],[0,10]]) # covariance matrix\n",
    "X = np.random.multivariate_normal(mean,cov,size = 300)\n",
    "print(X.shape)\n",
    "plt.scatter(X[:,0],X[:,1])"
   ]
  },
  {
   "cell_type": "code",
   "execution_count": 183,
   "id": "80208832",
   "metadata": {},
   "outputs": [
    {
     "data": {
      "text/plain": [
       "array([1.06489689, 2.03988674])"
      ]
     },
     "execution_count": 183,
     "metadata": {},
     "output_type": "execute_result"
    }
   ],
   "source": [
    "# Calculate the mean of each column\n",
    "mean = np.mean(X,axis = 0)\n",
    "mean"
   ]
  },
  {
   "cell_type": "code",
   "execution_count": 184,
   "id": "3a9acc0b",
   "metadata": {},
   "outputs": [
    {
     "data": {
      "text/plain": [
       "<matplotlib.collections.PathCollection at 0x2d8a1910>"
      ]
     },
     "execution_count": 184,
     "metadata": {},
     "output_type": "execute_result"
    },
    {
     "data": {
      "image/png": "[encoded data removed]",
      "text/plain": [
       "<Figure size 432x288 with 1 Axes>"
      ]
     },
     "metadata": {
      "needs_background": "light"
     },
     "output_type": "display_data"
    }
   ],
   "source": [
    "C = X - mean\n",
    "plt.scatter(C[:,0],C[:,1])"
   ]
  },
  {
   "cell_type": "code",
   "execution_count": 185,
   "id": "3809ef3a",
   "metadata": {},
   "outputs": [
    {
     "name": "stdout",
     "output_type": "stream",
     "text": [
      "(300, 2)\n"
     ]
    }
   ],
   "source": [
    "X_dash = X - mean\n",
    "print(X_dash.shape)"
   ]
  },
  {
   "cell_type": "code",
   "execution_count": 186,
   "id": "305934c3",
   "metadata": {},
   "outputs": [
    {
     "name": "stdout",
     "output_type": "stream",
     "text": [
      "(2, 2)\n",
      "[[ 1.20494385 -0.29339236]\n",
      " [-0.29339236  8.9358651 ]]\n"
     ]
    }
   ],
   "source": [
    "S = 1/len(X_dash) * X_dash.T @ X_dash\n",
    "print(S.shape)\n",
    "print(S)"
   ]
  },
  {
   "cell_type": "code",
   "execution_count": 187,
   "id": "30563558",
   "metadata": {},
   "outputs": [
    {
     "name": "stdout",
     "output_type": "stream",
     "text": [
      "(2, 2)\n",
      "[[ 1.20897376 -0.29437361]\n",
      " [-0.29437361  8.96575094]]\n"
     ]
    }
   ],
   "source": [
    "V = np.cov(C.T)\n",
    "print(V.shape)\n",
    "print(V)"
   ]
  },
  {
   "cell_type": "code",
   "execution_count": 188,
   "id": "617dcac9",
   "metadata": {},
   "outputs": [],
   "source": [
    "lamb,u = np.linalg.eig(S) # eigenvector,eigenvalue calculated by covariance matrix, each eigen vector is column"
   ]
  },
  {
   "cell_type": "code",
   "execution_count": 189,
   "id": "65a105bc",
   "metadata": {},
   "outputs": [
    {
     "data": {
      "text/plain": [
       "array([1.19382545, 8.9469835 ])"
      ]
     },
     "execution_count": 189,
     "metadata": {},
     "output_type": "execute_result"
    }
   ],
   "source": [
    "lamb"
   ]
  },
  {
   "cell_type": "code",
   "execution_count": 190,
   "id": "463f6e76",
   "metadata": {},
   "outputs": [
    {
     "data": {
      "text/plain": [
       "array([[-0.99928272,  0.03786882],\n",
       "       [-0.03786882, -0.99928272]])"
      ]
     },
     "execution_count": 190,
     "metadata": {},
     "output_type": "execute_result"
    }
   ],
   "source": [
    "u"
   ]
  },
  {
   "cell_type": "code",
   "execution_count": 191,
   "id": "2756fdcc",
   "metadata": {},
   "outputs": [
    {
     "data": {
      "text/plain": [
       "1.0000000000000002"
      ]
     },
     "execution_count": 191,
     "metadata": {},
     "output_type": "execute_result"
    }
   ],
   "source": [
    "# othorgonal matrix aka eigenvector u\n",
    "u[:,0].T @ u[:,0]"
   ]
  },
  {
   "cell_type": "code",
   "execution_count": 192,
   "id": "ebc3f1a7",
   "metadata": {},
   "outputs": [
    {
     "data": {
      "text/plain": [
       "array([-1.19296914, -0.04520876])"
      ]
     },
     "execution_count": 192,
     "metadata": {},
     "output_type": "execute_result"
    }
   ],
   "source": [
    "S @ u[:,0]"
   ]
  },
  {
   "cell_type": "code",
   "execution_count": 193,
   "id": "1254ebf1",
   "metadata": {},
   "outputs": [
    {
     "data": {
      "text/plain": [
       "array([-1.19296914, -0.04520876])"
      ]
     },
     "execution_count": 193,
     "metadata": {},
     "output_type": "execute_result"
    }
   ],
   "source": [
    "u[:,0] * lamb[0]"
   ]
  },
  {
   "cell_type": "code",
   "execution_count": 239,
   "id": "adbb3dbb",
   "metadata": {},
   "outputs": [
    {
     "data": {
      "text/plain": [
       "-1.3877787807814457e-17"
      ]
     },
     "execution_count": 239,
     "metadata": {},
     "output_type": "execute_result"
    }
   ],
   "source": [
    "u[:,0]@u[:,1]"
   ]
  },
  {
   "cell_type": "code",
   "execution_count": 241,
   "id": "442dba0e",
   "metadata": {},
   "outputs": [
    {
     "name": "stdout",
     "output_type": "stream",
     "text": [
      "(300,)\n",
      "[-3.02130626  2.52432806  3.76135061  1.80882919 -1.9287647  -2.75942639\n",
      " -0.48696248 -0.67964139  3.15977236 -2.14057222]\n",
      "8.946983501295804\n"
     ]
    },
    {
     "data": {
      "text/plain": [
       "<matplotlib.collections.PathCollection at 0x304c7d90>"
      ]
     },
     "execution_count": 241,
     "metadata": {},
     "output_type": "execute_result"
    },
    {
     "data": {
      "image/png": "[encoded data removed]",
      "text/plain": [
       "<Figure size 432x288 with 1 Axes>"
      ]
     },
     "metadata": {
      "needs_background": "light"
     },
     "output_type": "display_data"
    }
   ],
   "source": [
    "# find a project of dataset into 1 dimension\n",
    "X_projected = X_dash @ u.T[-1]\n",
    "print(X_projected.shape)\n",
    "print(X_projected[:10])\n",
    "print(np.var(X_projected))\n",
    "plt.scatter(X_projected,np.zeros(X_projected.shape))"
   ]
  },
  {
   "cell_type": "code",
   "execution_count": 203,
   "id": "bb24a704",
   "metadata": {},
   "outputs": [
    {
     "data": {
      "text/plain": [
       "array([8.14163551e-17, 1.06433381e-15])"
      ]
     },
     "execution_count": 203,
     "metadata": {},
     "output_type": "execute_result"
    }
   ],
   "source": [
    "mean_xdash = np.mean(X_dash,axis = 0)\n",
    "mean_xdash"
   ]
  },
  {
   "cell_type": "code",
   "execution_count": 238,
   "id": "2a7cae36",
   "metadata": {},
   "outputs": [
    {
     "data": {
      "image/png": "[encoded data removed]",
      "text/plain": [
       "<Figure size 504x504 with 1 Axes>"
      ]
     },
     "metadata": {
      "needs_background": "light"
     },
     "output_type": "display_data"
    }
   ],
   "source": [
    "# mean\n",
    "plt.figure(figsize = (7,7))\n",
    "plt.scatter(X[:,0],X[:,1],alpha = 0.05,label = 'original',c = 'b')\n",
    "plt.scatter(X_dash[:,0],X_dash[:,1],alpha = 0.9,label = 'center',c = 'g')\n",
    "plt.scatter(mean_xdash[0],mean_xdash[1],c = 'r',s = 100,label = 'mean')\n",
    "plt.plot([mean_xdash[0],u[:,0][0]],[mean_xdash[1],u[:,0][1]],'-',c = 'b',linewidth = 4,label = 'eigenvector')\n",
    "plt.plot([mean_xdash[0],u[:,1][0]],[mean_xdash[1],u[:,1][1]],'-',c = 'b',linewidth = 4,label = 'eigenvector')\n",
    "plt.legend(loc ='best')\n",
    "plt.show()"
   ]
  },
  {
   "cell_type": "code",
   "execution_count": 155,
   "id": "58c04cee",
   "metadata": {},
   "outputs": [],
   "source": [
    "from sklearn.decomposition import PCA"
   ]
  },
  {
   "cell_type": "code",
   "execution_count": 240,
   "id": "6fa7fc7a",
   "metadata": {},
   "outputs": [
    {
     "name": "stdout",
     "output_type": "stream",
     "text": [
      "(300, 2)\n",
      "[[-0.03786882  0.99928272]]\n",
      "[8.97690652]\n",
      "(300, 1)\n"
     ]
    }
   ],
   "source": [
    "# define matrix\n",
    "print(X.shape)\n",
    "# create pca instance\n",
    "pca = PCA(n_components =1)\n",
    "# fit data\n",
    "pca.fit(X)\n",
    "# access value and vector\n",
    "print(pca.components_)\n",
    "print(pca.explained_variance_)\n",
    "# transform data\n",
    "X_projected = pca.transform(X)\n",
    "print(X_projected.shape)"
   ]
  },
  {
   "cell_type": "code",
   "execution_count": 243,
   "id": "a68edce9",
   "metadata": {},
   "outputs": [
    {
     "data": {
      "text/plain": [
       "array([[17, 34, 43, 28, 29],\n",
       "       [25, 28, 46, 44, 23],\n",
       "       [37, 17, 13, 14, 47],\n",
       "       [13, 17, 39, 39, 39],\n",
       "       [32, 46, 47, 26, 21],\n",
       "       [48, 31, 33, 13, 18],\n",
       "       [48, 46, 31, 14, 17],\n",
       "       [43, 49, 24, 19, 22],\n",
       "       [37, 33, 40, 43, 36],\n",
       "       [39, 23, 14, 48, 36],\n",
       "       [35, 47, 27, 35, 43],\n",
       "       [31, 21, 36, 47, 49],\n",
       "       [44, 21, 11, 12, 17],\n",
       "       [26, 47, 13, 44, 44],\n",
       "       [35, 29, 34, 20, 48],\n",
       "       [27, 15, 43, 28, 47],\n",
       "       [17, 27, 27, 29, 32],\n",
       "       [17, 32, 15, 37, 28],\n",
       "       [14, 43, 10, 41, 35],\n",
       "       [34, 49, 20, 27, 49]])"
      ]
     },
     "execution_count": 243,
     "metadata": {},
     "output_type": "execute_result"
    }
   ],
   "source": [
    "# generate a dummy dataset\n",
    "X = np.random.randint(10,50,100).reshape(20,5)\n",
    "X"
   ]
  },
  {
   "cell_type": "code",
   "execution_count": 244,
   "id": "cbe7170a",
   "metadata": {},
   "outputs": [
    {
     "data": {
      "text/plain": [
       "array([[-13.95,   1.25,  14.7 ,  -2.4 ,  -5.  ],\n",
       "       [ -5.95,  -4.75,  17.7 ,  13.6 , -11.  ],\n",
       "       [  6.05, -15.75, -15.3 , -16.4 ,  13.  ],\n",
       "       [-17.95, -15.75,  10.7 ,   8.6 ,   5.  ],\n",
       "       [  1.05,  13.25,  18.7 ,  -4.4 , -13.  ],\n",
       "       [ 17.05,  -1.75,   4.7 , -17.4 , -16.  ],\n",
       "       [ 17.05,  13.25,   2.7 , -16.4 , -17.  ],\n",
       "       [ 12.05,  16.25,  -4.3 , -11.4 , -12.  ],\n",
       "       [  6.05,   0.25,  11.7 ,  12.6 ,   2.  ],\n",
       "       [  8.05,  -9.75, -14.3 ,  17.6 ,   2.  ],\n",
       "       [  4.05,  14.25,  -1.3 ,   4.6 ,   9.  ],\n",
       "       [  0.05, -11.75,   7.7 ,  16.6 ,  15.  ],\n",
       "       [ 13.05, -11.75, -17.3 , -18.4 , -17.  ],\n",
       "       [ -4.95,  14.25, -15.3 ,  13.6 ,  10.  ],\n",
       "       [  4.05,  -3.75,   5.7 , -10.4 ,  14.  ],\n",
       "       [ -3.95, -17.75,  14.7 ,  -2.4 ,  13.  ],\n",
       "       [-13.95,  -5.75,  -1.3 ,  -1.4 ,  -2.  ],\n",
       "       [-13.95,  -0.75, -13.3 ,   6.6 ,  -6.  ],\n",
       "       [-16.95,  10.25, -18.3 ,  10.6 ,   1.  ],\n",
       "       [  3.05,  16.25,  -8.3 ,  -3.4 ,  15.  ]])"
      ]
     },
     "execution_count": 244,
     "metadata": {},
     "output_type": "execute_result"
    }
   ],
   "source": [
    "# meaning centering the data\n",
    "X_meaned = X - np.mean(X,axis = 0)\n",
    "X_meaned"
   ]
  },
  {
   "cell_type": "code",
   "execution_count": 247,
   "id": "94c024f3",
   "metadata": {},
   "outputs": [
    {
     "name": "stdout",
     "output_type": "stream",
     "text": [
      "(5, 5)\n"
     ]
    },
    {
     "data": {
      "text/plain": [
       "array([[123.52368421,  20.09210526, -12.98421053, -72.87368421,\n",
       "        -34.57894737],\n",
       "       [ 20.09210526, 139.35526316, -18.76315789,  -6.57894737,\n",
       "        -28.42105263],\n",
       "       [-12.98421053, -18.76315789, 160.11578947,   8.97894737,\n",
       "        -14.52631579],\n",
       "       [-72.87368421,  -6.57894737,   8.97894737, 148.77894737,\n",
       "         52.05263158],\n",
       "       [-34.57894737, -28.42105263, -14.52631579,  52.05263158,\n",
       "        133.26315789]])"
      ]
     },
     "execution_count": 247,
     "metadata": {},
     "output_type": "execute_result"
    }
   ],
   "source": [
    "# calculating the covariance matrix of the mean centered data\n",
    "cov_mat = np.cov(X_meaned,rowvar = False)\n",
    "print(cov_mat.shape)\n",
    "cov_mat"
   ]
  },
  {
   "cell_type": "code",
   "execution_count": 248,
   "id": "78ff6feb",
   "metadata": {},
   "outputs": [],
   "source": [
    "# Calculating eigenvalues, eigenvectors of the convariance matrix\n",
    "eigen_values,eigen_vectors = np.linalg.eig(cov_mat)"
   ]
  },
  {
   "cell_type": "code",
   "execution_count": 249,
   "id": "ab0378a7",
   "metadata": {},
   "outputs": [
    {
     "data": {
      "text/plain": [
       "array([253.71524973,  58.15110067,  86.73513855, 136.67140895,\n",
       "       169.76394421])"
      ]
     },
     "execution_count": 249,
     "metadata": {},
     "output_type": "execute_result"
    }
   ],
   "source": [
    "eigen_values"
   ]
  },
  {
   "cell_type": "code",
   "execution_count": 250,
   "id": "61a2286d",
   "metadata": {},
   "outputs": [
    {
     "data": {
      "text/plain": [
       "array([[ 0.53439827,  0.67167851, -0.47273   ,  0.19866512,  0.0180273 ],\n",
       "       [ 0.26768708, -0.20687638, -0.32798038, -0.82851669,  0.30254712],\n",
       "       [-0.11463271, -0.04563993, -0.32528712, -0.22886898, -0.90916644],\n",
       "       [-0.63423479,  0.66785203,  0.08279208, -0.36477562,  0.10864673],\n",
       "       [-0.47683088, -0.24070895, -0.74584783,  0.2977415 ,  0.26410703]])"
      ]
     },
     "execution_count": 250,
     "metadata": {},
     "output_type": "execute_result"
    }
   ],
   "source": [
    "eigen_vectors"
   ]
  },
  {
   "cell_type": "code",
   "execution_count": 257,
   "id": "381699f8",
   "metadata": {},
   "outputs": [
    {
     "data": {
      "text/plain": [
       "array([0, 4, 3, 2, 1], dtype=int64)"
      ]
     },
     "execution_count": 257,
     "metadata": {},
     "output_type": "execute_result"
    }
   ],
   "source": [
    "# sort eigenvalues and eigenvectors\n",
    "sorted_index = np.argsort(eigen_values)[::-1] # [::-1] revert it into ascending is False\n",
    "sorted_index"
   ]
  },
  {
   "cell_type": "code",
   "execution_count": 258,
   "id": "4f374123",
   "metadata": {},
   "outputs": [
    {
     "data": {
      "text/plain": [
       "array([253.71524973, 169.76394421, 136.67140895,  86.73513855,\n",
       "        58.15110067])"
      ]
     },
     "execution_count": 258,
     "metadata": {},
     "output_type": "execute_result"
    }
   ],
   "source": [
    "sorted_eigen_values = eigen_values[sorted_index]\n",
    "sorted_eigen_values"
   ]
  },
  {
   "cell_type": "code",
   "execution_count": 260,
   "id": "3e2b1eb1",
   "metadata": {},
   "outputs": [
    {
     "data": {
      "text/plain": [
       "array([[ 0.53439827,  0.67167851, -0.47273   ,  0.19866512,  0.0180273 ],\n",
       "       [-0.47683088, -0.24070895, -0.74584783,  0.2977415 ,  0.26410703],\n",
       "       [-0.63423479,  0.66785203,  0.08279208, -0.36477562,  0.10864673],\n",
       "       [-0.11463271, -0.04563993, -0.32528712, -0.22886898, -0.90916644],\n",
       "       [ 0.26768708, -0.20687638, -0.32798038, -0.82851669,  0.30254712]])"
      ]
     },
     "execution_count": 260,
     "metadata": {},
     "output_type": "execute_result"
    }
   ],
   "source": [
    "sorted_eigen_vectors = eigen_vectors[sorted_index]\n",
    "sorted_eigen_vectors"
   ]
  },
  {
   "cell_type": "code",
   "execution_count": 262,
   "id": "c12f71f9",
   "metadata": {},
   "outputs": [
    {
     "data": {
      "text/plain": [
       "array([[ 0.53439827,  0.67167851],\n",
       "       [-0.47683088, -0.24070895],\n",
       "       [-0.63423479,  0.66785203],\n",
       "       [-0.11463271, -0.04563993],\n",
       "       [ 0.26768708, -0.20687638]])"
      ]
     },
     "execution_count": 262,
     "metadata": {},
     "output_type": "execute_result"
    }
   ],
   "source": [
    "# select the first n eigenvectors, n is descired dimension of our final reduced data\n",
    "n_components = 2 \n",
    "eigenvector_subset = sorted_eigen_vectors[:,0:n_components]\n",
    "eigenvector_subset"
   ]
  },
  {
   "cell_type": "code",
   "execution_count": 265,
   "id": "5b93be53",
   "metadata": {},
   "outputs": [
    {
     "data": {
      "text/plain": [
       "<matplotlib.collections.PathCollection at 0x308f7700>"
      ]
     },
     "execution_count": 265,
     "metadata": {},
     "output_type": "execute_result"
    },
    {
     "data": {
      "image/png": "[encoded data removed]",
      "text/plain": [
       "<Figure size 432x288 with 1 Axes>"
      ]
     },
     "metadata": {
      "needs_background": "light"
     },
     "output_type": "display_data"
    }
   ],
   "source": [
    "# transform data\n",
    "X_reduced = X @ eigenvector_subset\n",
    "#X_reduced = np.dot(eigenvector_subset.transpose(),X_meaned.transpose()).transpose()\n",
    "plt.scatter(X_reduced[:,0],X_reduced[:,1])"
   ]
  },
  {
   "cell_type": "markdown",
   "id": "4c42d3f9",
   "metadata": {},
   "source": [
    "### PCA"
   ]
  },
  {
   "cell_type": "code",
   "execution_count": 266,
   "id": "316d82b7",
   "metadata": {},
   "outputs": [],
   "source": [
    "# import required libraries\n",
    "import pandas as pd \n",
    "import numpy as np\n",
    "import matplotlib.pyplot as plt\n",
    "import seaborn as sns"
   ]
  },
  {
   "cell_type": "code",
   "execution_count": 9,
   "id": "0697e5d2",
   "metadata": {},
   "outputs": [
    {
     "data": {
      "text/html": [
       "<div>\n",
       "<style scoped>\n",
       "    .dataframe tbody tr th:only-of-type {\n",
       "        vertical-align: middle;\n",
       "    }\n",
       "\n",
       "    .dataframe tbody tr th {\n",
       "        vertical-align: top;\n",
       "    }\n",
       "\n",
       "    .dataframe thead th {\n",
       "        text-align: right;\n",
       "    }\n",
       "</style>\n",
       "<table border=\"1\" class=\"dataframe\">\n",
       "  <thead>\n",
       "    <tr style=\"text-align: right;\">\n",
       "      <th></th>\n",
       "      <th>Alcohol</th>\n",
       "      <th>Malic_Acid</th>\n",
       "      <th>Ash</th>\n",
       "      <th>Ash_Alcanity</th>\n",
       "      <th>Magnesium</th>\n",
       "      <th>Total_Phenols</th>\n",
       "      <th>Flavanoids</th>\n",
       "      <th>Nonflavanoid_Phenols</th>\n",
       "      <th>Proanthocyanins</th>\n",
       "      <th>Color_Intensity</th>\n",
       "      <th>Hue</th>\n",
       "      <th>OD280</th>\n",
       "      <th>Proline</th>\n",
       "      <th>Customer_Segment</th>\n",
       "    </tr>\n",
       "  </thead>\n",
       "  <tbody>\n",
       "    <tr>\n",
       "      <th>0</th>\n",
       "      <td>14.23</td>\n",
       "      <td>1.71</td>\n",
       "      <td>2.43</td>\n",
       "      <td>15.6</td>\n",
       "      <td>127</td>\n",
       "      <td>2.80</td>\n",
       "      <td>3.06</td>\n",
       "      <td>0.28</td>\n",
       "      <td>2.29</td>\n",
       "      <td>5.64</td>\n",
       "      <td>1.04</td>\n",
       "      <td>3.92</td>\n",
       "      <td>1065</td>\n",
       "      <td>1</td>\n",
       "    </tr>\n",
       "    <tr>\n",
       "      <th>1</th>\n",
       "      <td>13.20</td>\n",
       "      <td>1.78</td>\n",
       "      <td>2.14</td>\n",
       "      <td>11.2</td>\n",
       "      <td>100</td>\n",
       "      <td>2.65</td>\n",
       "      <td>2.76</td>\n",
       "      <td>0.26</td>\n",
       "      <td>1.28</td>\n",
       "      <td>4.38</td>\n",
       "      <td>1.05</td>\n",
       "      <td>3.40</td>\n",
       "      <td>1050</td>\n",
       "      <td>1</td>\n",
       "    </tr>\n",
       "    <tr>\n",
       "      <th>2</th>\n",
       "      <td>13.16</td>\n",
       "      <td>2.36</td>\n",
       "      <td>2.67</td>\n",
       "      <td>18.6</td>\n",
       "      <td>101</td>\n",
       "      <td>2.80</td>\n",
       "      <td>3.24</td>\n",
       "      <td>0.30</td>\n",
       "      <td>2.81</td>\n",
       "      <td>5.68</td>\n",
       "      <td>1.03</td>\n",
       "      <td>3.17</td>\n",
       "      <td>1185</td>\n",
       "      <td>1</td>\n",
       "    </tr>\n",
       "    <tr>\n",
       "      <th>3</th>\n",
       "      <td>14.37</td>\n",
       "      <td>1.95</td>\n",
       "      <td>2.50</td>\n",
       "      <td>16.8</td>\n",
       "      <td>113</td>\n",
       "      <td>3.85</td>\n",
       "      <td>3.49</td>\n",
       "      <td>0.24</td>\n",
       "      <td>2.18</td>\n",
       "      <td>7.80</td>\n",
       "      <td>0.86</td>\n",
       "      <td>3.45</td>\n",
       "      <td>1480</td>\n",
       "      <td>1</td>\n",
       "    </tr>\n",
       "    <tr>\n",
       "      <th>4</th>\n",
       "      <td>13.24</td>\n",
       "      <td>2.59</td>\n",
       "      <td>2.87</td>\n",
       "      <td>21.0</td>\n",
       "      <td>118</td>\n",
       "      <td>2.80</td>\n",
       "      <td>2.69</td>\n",
       "      <td>0.39</td>\n",
       "      <td>1.82</td>\n",
       "      <td>4.32</td>\n",
       "      <td>1.04</td>\n",
       "      <td>2.93</td>\n",
       "      <td>735</td>\n",
       "      <td>1</td>\n",
       "    </tr>\n",
       "  </tbody>\n",
       "</table>\n",
       "</div>"
      ],
      "text/plain": [
       "   Alcohol  Malic_Acid   Ash  Ash_Alcanity  Magnesium  Total_Phenols  \\\n",
       "0    14.23        1.71  2.43          15.6        127           2.80   \n",
       "1    13.20        1.78  2.14          11.2        100           2.65   \n",
       "2    13.16        2.36  2.67          18.6        101           2.80   \n",
       "3    14.37        1.95  2.50          16.8        113           3.85   \n",
       "4    13.24        2.59  2.87          21.0        118           2.80   \n",
       "\n",
       "   Flavanoids  Nonflavanoid_Phenols  Proanthocyanins  Color_Intensity   Hue  \\\n",
       "0        3.06                  0.28             2.29             5.64  1.04   \n",
       "1        2.76                  0.26             1.28             4.38  1.05   \n",
       "2        3.24                  0.30             2.81             5.68  1.03   \n",
       "3        3.49                  0.24             2.18             7.80  0.86   \n",
       "4        2.69                  0.39             1.82             4.32  1.04   \n",
       "\n",
       "   OD280  Proline  Customer_Segment  \n",
       "0   3.92     1065                 1  \n",
       "1   3.40     1050                 1  \n",
       "2   3.17     1185                 1  \n",
       "3   3.45     1480                 1  \n",
       "4   2.93      735                 1  "
      ]
     },
     "execution_count": 9,
     "metadata": {},
     "output_type": "execute_result"
    }
   ],
   "source": [
    "# load dataset \n",
    "dataset = pd.read_csv('./Wine.csv')\n",
    "dataset.head()"
   ]
  },
  {
   "cell_type": "code",
   "execution_count": 21,
   "id": "f9b664d2",
   "metadata": {},
   "outputs": [
    {
     "name": "stdout",
     "output_type": "stream",
     "text": [
      "Alcohol : float64\n",
      "Malic_Acid : float64\n",
      "Ash : float64\n",
      "Ash_Alcanity : float64\n",
      "Magnesium : int64\n",
      "Total_Phenols : float64\n",
      "Flavanoids : float64\n",
      "Nonflavanoid_Phenols : float64\n",
      "Proanthocyanins : float64\n",
      "Color_Intensity : float64\n",
      "Hue : float64\n",
      "OD280 : float64\n",
      "Proline : int64\n",
      "Customer_Segment : int64\n"
     ]
    },
    {
     "data": {
      "text/plain": [
       "<AxesSubplot:>"
      ]
     },
     "execution_count": 21,
     "metadata": {},
     "output_type": "execute_result"
    },
    {
     "data": {
      "image/png": "[encoded data removed]",
      "text/plain": [
       "<Figure size 720x720 with 2 Axes>"
      ]
     },
     "metadata": {
      "needs_background": "light"
     },
     "output_type": "display_data"
    }
   ],
   "source": [
    "# inspect dataset\n",
    "name_type  = zip(dataset.columns,dataset.dtypes)\n",
    "# print out column name and column type\n",
    "for col_name,col_type in name_type:\n",
    "    print(col_name,':',col_type)\n",
    "\n",
    "plt.figure(figsize = (10,10))\n",
    "sns.heatmap(dataset.corr(),annot = True)"
   ]
  },
  {
   "cell_type": "code",
   "execution_count": 24,
   "id": "2efda9d1",
   "metadata": {},
   "outputs": [
    {
     "data": {
      "text/plain": [
       "array([1, 2, 3], dtype=int64)"
      ]
     },
     "execution_count": 24,
     "metadata": {},
     "output_type": "execute_result"
    }
   ],
   "source": [
    "# Check the value of label\n",
    "dataset['Customer_Segment'].unique()"
   ]
  },
  {
   "cell_type": "code",
   "execution_count": 28,
   "id": "5612942a",
   "metadata": {},
   "outputs": [
    {
     "name": "stdout",
     "output_type": "stream",
     "text": [
      "X.shape: (178, 13)\n",
      "[[1.423e+01 1.710e+00 2.430e+00 1.560e+01 1.270e+02 2.800e+00 3.060e+00\n",
      "  2.800e-01 2.290e+00 5.640e+00 1.040e+00 3.920e+00 1.065e+03]\n",
      " [1.320e+01 1.780e+00 2.140e+00 1.120e+01 1.000e+02 2.650e+00 2.760e+00\n",
      "  2.600e-01 1.280e+00 4.380e+00 1.050e+00 3.400e+00 1.050e+03]\n",
      " [1.316e+01 2.360e+00 2.670e+00 1.860e+01 1.010e+02 2.800e+00 3.240e+00\n",
      "  3.000e-01 2.810e+00 5.680e+00 1.030e+00 3.170e+00 1.185e+03]\n",
      " [1.437e+01 1.950e+00 2.500e+00 1.680e+01 1.130e+02 3.850e+00 3.490e+00\n",
      "  2.400e-01 2.180e+00 7.800e+00 8.600e-01 3.450e+00 1.480e+03]]\n",
      "y.shape: (178,)\n",
      "[1 1 1 1]\n"
     ]
    }
   ],
   "source": [
    "# distributing the dataset into two components X and Y\n",
    "X = dataset.iloc[:,0:13].values\n",
    "y = dataset.iloc[:,13].values\n",
    "print(f'X.shape: {X.shape}')\n",
    "print(X[:4])\n",
    "print(f'y.shape: {y.shape}')\n",
    "print(y[:4])"
   ]
  },
  {
   "cell_type": "code",
   "execution_count": 29,
   "id": "719a96b7",
   "metadata": {},
   "outputs": [],
   "source": [
    "from sklearn.model_selection import train_test_split"
   ]
  },
  {
   "cell_type": "code",
   "execution_count": 34,
   "id": "43fa37b0",
   "metadata": {},
   "outputs": [
    {
     "name": "stdout",
     "output_type": "stream",
     "text": [
      "X_train.shape: (142, 13)\n",
      "y_train.shape: (142,)\n",
      "X_test.shape: (36, 13)\n",
      "y_test.shape: (36,)\n",
      "[1.434e+01 1.680e+00 2.700e+00 2.500e+01 9.800e+01 2.800e+00 1.310e+00\n",
      " 5.300e-01 2.700e+00 1.300e+01 5.700e-01 1.960e+00 6.600e+02]\n"
     ]
    }
   ],
   "source": [
    "X_train,X_test,y_train,y_test = train_test_split(X,y,test_size = 0.2,random_state = 32)\n",
    "print(f\"X_train.shape: {X_train.shape}\")\n",
    "print(f\"y_train.shape: {y_train.shape}\")\n",
    "print(f\"X_test.shape: {X_test.shape}\")\n",
    "print(f\"y_test.shape: {y_test.shape}\")\n",
    "print(X_train[0])"
   ]
  },
  {
   "cell_type": "code",
   "execution_count": 33,
   "id": "6ec60c74",
   "metadata": {},
   "outputs": [],
   "source": [
    "# feature scaling, doing the pre-processing part on training and testing set such as fitting the standard scale\n",
    "from sklearn.preprocessing import StandardScaler"
   ]
  },
  {
   "cell_type": "code",
   "execution_count": 35,
   "id": "9feb289a",
   "metadata": {},
   "outputs": [],
   "source": [
    "sc = StandardScaler()\n",
    "\n",
    "X_train = sc.fit_transform(X_train)\n",
    "X_test  = sc.fit_transform(X_test)"
   ]
  },
  {
   "cell_type": "code",
   "execution_count": 36,
   "id": "3cbba597",
   "metadata": {},
   "outputs": [
    {
     "data": {
      "text/plain": [
       "array([ 1.64984766, -0.56561051,  1.15853681,  1.51031151, -0.09137131,\n",
       "        0.81499322, -0.70663084,  1.27586392,  1.93725036,  3.29858567,\n",
       "       -1.70761002, -0.91976247, -0.23846497])"
      ]
     },
     "execution_count": 36,
     "metadata": {},
     "output_type": "execute_result"
    }
   ],
   "source": [
    "X_train[0]"
   ]
  },
  {
   "cell_type": "code",
   "execution_count": 37,
   "id": "a80e9e65",
   "metadata": {},
   "outputs": [],
   "source": [
    "## Apply the PCA function applying PCA function into the training and testing set to analysis\n",
    "from sklearn.decomposition import PCA"
   ]
  },
  {
   "cell_type": "code",
   "execution_count": 38,
   "id": "57c337fa",
   "metadata": {},
   "outputs": [
    {
     "name": "stdout",
     "output_type": "stream",
     "text": [
      "X_train.shape: (142, 2)\n",
      "X_test.shape: (36, 2)\n"
     ]
    },
    {
     "data": {
      "text/plain": [
       "array([0.35703208, 0.19874915])"
      ]
     },
     "execution_count": 38,
     "metadata": {},
     "output_type": "execute_result"
    }
   ],
   "source": [
    "pca = PCA(n_components = 2)\n",
    "\n",
    "X_train = pca.fit_transform(X_train)\n",
    "X_test = pca.transform(X_test)\n",
    "\n",
    "print(f'X_train.shape: {X_train.shape}')\n",
    "print(f'X_test.shape: {X_test.shape}')\n",
    "\n",
    "explained_variance = pca.explained_variance_ratio_\n",
    "explained_variance"
   ]
  },
  {
   "cell_type": "code",
   "execution_count": 39,
   "id": "108ec706",
   "metadata": {},
   "outputs": [
    {
     "data": {
      "text/plain": [
       "Text(0.5, 1.0, '2d training dataset')"
      ]
     },
     "execution_count": 39,
     "metadata": {},
     "output_type": "execute_result"
    },
    {
     "data": {
      "image/png": "[encoded data removed]",
      "text/plain": [
       "<Figure size 432x288 with 1 Axes>"
      ]
     },
     "metadata": {
      "needs_background": "light"
     },
     "output_type": "display_data"
    }
   ],
   "source": [
    "# visualize on training dataset\n",
    "plt.scatter(X_train[:,0],X_train[:,1],c =y_train)\n",
    "plt.title(\"2d training dataset\")"
   ]
  },
  {
   "cell_type": "code",
   "execution_count": 40,
   "id": "d2a4eb0d",
   "metadata": {},
   "outputs": [
    {
     "data": {
      "text/plain": [
       "LogisticRegression(random_state=0)"
      ]
     },
     "execution_count": 40,
     "metadata": {},
     "output_type": "execute_result"
    }
   ],
   "source": [
    "# Fitting Logistic Regression to the training dataset \n",
    "from sklearn.linear_model import LogisticRegression\n",
    "classifier = LogisticRegression(random_state = 0)\n",
    "classifier.fit(X_train,y_train)"
   ]
  },
  {
   "cell_type": "code",
   "execution_count": 41,
   "id": "b29b5b75",
   "metadata": {},
   "outputs": [
    {
     "data": {
      "text/plain": [
       "array([2, 2, 1, 3, 3, 1, 1, 3, 1, 1, 2, 3, 2, 1, 1, 2, 1, 2, 2, 1, 2, 3,\n",
       "       3, 3, 2, 3, 1, 1, 1, 1, 3, 1, 3, 2, 1, 2], dtype=int64)"
      ]
     },
     "execution_count": 41,
     "metadata": {},
     "output_type": "execute_result"
    }
   ],
   "source": [
    "# predicting the test set result\n",
    "# using predict function under LogisticrRegression\n",
    "y_pred = classifier.predict(X_test)\n",
    "y_pred"
   ]
  },
  {
   "cell_type": "code",
   "execution_count": 42,
   "id": "f98a9d55",
   "metadata": {},
   "outputs": [
    {
     "data": {
      "text/plain": [
       "0.8611111111111112"
      ]
     },
     "execution_count": 42,
     "metadata": {},
     "output_type": "execute_result"
    }
   ],
   "source": [
    "# Calculate the accuracy\n",
    "np.sum(y_test == y_pred)/len(y_test)"
   ]
  },
  {
   "cell_type": "code",
   "execution_count": 45,
   "id": "496de861",
   "metadata": {},
   "outputs": [
    {
     "data": {
      "text/plain": [
       "<AxesSubplot:>"
      ]
     },
     "execution_count": 45,
     "metadata": {},
     "output_type": "execute_result"
    },
    {
     "data": {
      "image/png": "[encoded data removed]",
      "text/plain": [
       "<Figure size 432x288 with 2 Axes>"
      ]
     },
     "metadata": {
      "needs_background": "light"
     },
     "output_type": "display_data"
    }
   ],
   "source": [
    "# Making the confusion matrix\n",
    "from sklearn.metrics import confusion_matrix\n",
    "cm = confusion_matrix(y_test,y_pred)\n",
    "sns.heatmap(cm,annot = True)"
   ]
  },
  {
   "cell_type": "code",
   "execution_count": 46,
   "id": "4a46e816",
   "metadata": {},
   "outputs": [],
   "source": [
    "# Predicting the training set \n",
    "#result through scatter plot\n",
    "from matplotlib.colors import ListedColormap"
   ]
  },
  {
   "cell_type": "code",
   "execution_count": 47,
   "id": "91fcb673",
   "metadata": {},
   "outputs": [
    {
     "name": "stderr",
     "output_type": "stream",
     "text": [
      "*c* argument looks like a single numeric RGB or RGBA sequence, which should be avoided as value-mapping will have precedence in case its length matches with *x* & *y*.  Please use the *color* keyword-argument or provide a 2-D array with a single row if you intend to specify the same RGB or RGBA value for all points.\n",
      "*c* argument looks like a single numeric RGB or RGBA sequence, which should be avoided as value-mapping will have precedence in case its length matches with *x* & *y*.  Please use the *color* keyword-argument or provide a 2-D array with a single row if you intend to specify the same RGB or RGBA value for all points.\n",
      "*c* argument looks like a single numeric RGB or RGBA sequence, which should be avoided as value-mapping will have precedence in case its length matches with *x* & *y*.  Please use the *color* keyword-argument or provide a 2-D array with a single row if you intend to specify the same RGB or RGBA value for all points.\n"
     ]
    },
    {
     "name": "stdout",
     "output_type": "stream",
     "text": [
      "(10, 11)\n",
      "(10, 11)\n"
     ]
    },
    {
     "data": {
      "image/png": "[encoded data removed]",
      "text/plain": [
       "<Figure size 432x288 with 1 Axes>"
      ]
     },
     "metadata": {
      "needs_background": "light"
     },
     "output_type": "display_data"
    }
   ],
   "source": [
    "X_set,y_set  = X_train,y_train\n",
    "X1,X2 = np.meshgrid(np.arange(start = X_set[:,0].min()-1,stop = X_set[:,0].max()+1),\n",
    "                   np.arange(start = X_set[:,1].min()-1,stop = X_set[:,1].max()+1)\n",
    "                   )\n",
    "print(X1.shape)\n",
    "print(X2.shape)\n",
    "# predict and draw color\n",
    "plt.contourf(X1,X2,classifier.predict(np.array([X1.ravel(),X2.ravel()]).T).reshape(X1.shape),\n",
    "             alpha = 0.75,\n",
    "             cmap = ListedColormap(('yellow','white','aquamarine'))\n",
    "            )\n",
    "plt.xlim(X1.min(),X1.max())\n",
    "plt.ylim(X2.min(),X2.max())\n",
    "# plot points\n",
    "for i,j in enumerate(np.unique(y_set)):\n",
    "    plt.scatter(X_set[y_set == j,0],X_set[y_set ==j,1],\n",
    "               c = ListedColormap(('red','green','blue'))(i),label = j\n",
    "               )\n",
    "plt.title('logistic Regression (Training set)')\n",
    "plt.xlabel('PC1') # for Xlabel\n",
    "plt.ylabel('PC2') # for Ylabel\n",
    "plt.legend() # to show the legend\n",
    "# show the plot\n",
    "plt.show()"
   ]
  },
  {
   "cell_type": "code",
   "execution_count": 48,
   "id": "a821e462",
   "metadata": {
    "scrolled": true
   },
   "outputs": [
    {
     "name": "stderr",
     "output_type": "stream",
     "text": [
      "*c* argument looks like a single numeric RGB or RGBA sequence, which should be avoided as value-mapping will have precedence in case its length matches with *x* & *y*.  Please use the *color* keyword-argument or provide a 2-D array with a single row if you intend to specify the same RGB or RGBA value for all points.\n",
      "*c* argument looks like a single numeric RGB or RGBA sequence, which should be avoided as value-mapping will have precedence in case its length matches with *x* & *y*.  Please use the *color* keyword-argument or provide a 2-D array with a single row if you intend to specify the same RGB or RGBA value for all points.\n",
      "*c* argument looks like a single numeric RGB or RGBA sequence, which should be avoided as value-mapping will have precedence in case its length matches with *x* & *y*.  Please use the *color* keyword-argument or provide a 2-D array with a single row if you intend to specify the same RGB or RGBA value for all points.\n"
     ]
    },
    {
     "name": "stdout",
     "output_type": "stream",
     "text": [
      "(8, 10)\n",
      "(8, 10)\n"
     ]
    },
    {
     "data": {
      "image/png": "[encoded data removed]",
      "text/plain": [
       "<Figure size 432x288 with 1 Axes>"
      ]
     },
     "metadata": {
      "needs_background": "light"
     },
     "output_type": "display_data"
    }
   ],
   "source": [
    "# Visualie the test set\n",
    "X_set,y_set  = X_test,y_test\n",
    "X1,X2 = np.meshgrid(np.arange(start = X_set[:,0].min()-1,stop = X_set[:,0].max()+1),\n",
    "                   np.arange(start = X_set[:,1].min()-1,stop = X_set[:,1].max()+1)\n",
    "                   )\n",
    "print(X1.shape)\n",
    "print(X2.shape)\n",
    "# predict and draw color\n",
    "plt.contourf(X1,X2,classifier.predict(np.array([X1.ravel(),X2.ravel()]).T).reshape(X1.shape),\n",
    "             alpha = 0.75,\n",
    "             cmap = ListedColormap(('yellow','white','aquamarine'))\n",
    "            )\n",
    "plt.xlim(X1.min(),X1.max())\n",
    "plt.ylim(X2.min(),X2.max())\n",
    "# plot points\n",
    "for i,j in enumerate(np.unique(y_set)):\n",
    "    plt.scatter(X_set[y_set == j,0],X_set[y_set ==j,1],\n",
    "               c = ListedColormap(('red','green','blue'))(i),label = j\n",
    "               )\n",
    "plt.title('logistic Regression (Training set)')\n",
    "plt.xlabel('PC1') # for Xlabel\n",
    "plt.ylabel('PC2') # for Ylabel\n",
    "plt.legend() # to show the legend\n",
    "# show the plot\n",
    "plt.show()"
   ]
  },
  {
   "cell_type": "markdown",
   "id": "efd284a2",
   "metadata": {},
   "source": [
    "Example2"
   ]
  },
  {
   "cell_type": "code",
   "execution_count": 372,
   "id": "a5ec1edd",
   "metadata": {},
   "outputs": [],
   "source": [
    "import pandas as pd"
   ]
  },
  {
   "cell_type": "code",
   "execution_count": 421,
   "id": "b405d58b",
   "metadata": {},
   "outputs": [],
   "source": [
    "def PCA(X,num_components):\n",
    "    '''\n",
    "    Arguments:\n",
    "        X --- (N,D) the original dataset\n",
    "        num_components --- the reduced dimensions\n",
    "    Return:\n",
    "        X_reduced --- projected of X in eigenvectors\n",
    "    \n",
    "    '''\n",
    "    # step1 find mean\n",
    "    mean = np.mean(X,axis = 0)\n",
    "    X_meaned = X -mean\n",
    "    \n",
    "    # step2 find the covariance matrix\n",
    "    cov = 1/len(X) * X_meaned.T @ X_meaned #np.cov(X_meaned,rowvar = False)\n",
    "    \n",
    "    # step3 find the eigen values and eigen vector\n",
    "    values,vectors = np.linalg.eig(cov)\n",
    "    \n",
    "    # sort eigen_values\n",
    "    sorted_index = np.argsort(values)[::-1]\n",
    "    sorted_eigen_values = values[sorted_index]\n",
    "    sorted_eigen_vector = vectors[sorted_index]\n",
    "    \n",
    "    # project X to reduce the dimension\n",
    "    X_reduce = X @ sorted_eigen_vector[:,:n_components]\n",
    "    \n",
    "    return  X_reduce"
   ]
  },
  {
   "cell_type": "code",
   "execution_count": 422,
   "id": "cfd21c00",
   "metadata": {},
   "outputs": [
    {
     "data": {
      "text/html": [
       "<div>\n",
       "<style scoped>\n",
       "    .dataframe tbody tr th:only-of-type {\n",
       "        vertical-align: middle;\n",
       "    }\n",
       "\n",
       "    .dataframe tbody tr th {\n",
       "        vertical-align: top;\n",
       "    }\n",
       "\n",
       "    .dataframe thead th {\n",
       "        text-align: right;\n",
       "    }\n",
       "</style>\n",
       "<table border=\"1\" class=\"dataframe\">\n",
       "  <thead>\n",
       "    <tr style=\"text-align: right;\">\n",
       "      <th></th>\n",
       "      <th>sepal length</th>\n",
       "      <th>sepal width</th>\n",
       "      <th>petal length</th>\n",
       "      <th>petal width</th>\n",
       "      <th>target</th>\n",
       "    </tr>\n",
       "  </thead>\n",
       "  <tbody>\n",
       "    <tr>\n",
       "      <th>0</th>\n",
       "      <td>5.1</td>\n",
       "      <td>3.5</td>\n",
       "      <td>1.4</td>\n",
       "      <td>0.2</td>\n",
       "      <td>Iris-setosa</td>\n",
       "    </tr>\n",
       "    <tr>\n",
       "      <th>1</th>\n",
       "      <td>4.9</td>\n",
       "      <td>3.0</td>\n",
       "      <td>1.4</td>\n",
       "      <td>0.2</td>\n",
       "      <td>Iris-setosa</td>\n",
       "    </tr>\n",
       "    <tr>\n",
       "      <th>2</th>\n",
       "      <td>4.7</td>\n",
       "      <td>3.2</td>\n",
       "      <td>1.3</td>\n",
       "      <td>0.2</td>\n",
       "      <td>Iris-setosa</td>\n",
       "    </tr>\n",
       "    <tr>\n",
       "      <th>3</th>\n",
       "      <td>4.6</td>\n",
       "      <td>3.1</td>\n",
       "      <td>1.5</td>\n",
       "      <td>0.2</td>\n",
       "      <td>Iris-setosa</td>\n",
       "    </tr>\n",
       "    <tr>\n",
       "      <th>4</th>\n",
       "      <td>5.0</td>\n",
       "      <td>3.6</td>\n",
       "      <td>1.4</td>\n",
       "      <td>0.2</td>\n",
       "      <td>Iris-setosa</td>\n",
       "    </tr>\n",
       "  </tbody>\n",
       "</table>\n",
       "</div>"
      ],
      "text/plain": [
       "   sepal length  sepal width  petal length  petal width       target\n",
       "0           5.1          3.5           1.4          0.2  Iris-setosa\n",
       "1           4.9          3.0           1.4          0.2  Iris-setosa\n",
       "2           4.7          3.2           1.3          0.2  Iris-setosa\n",
       "3           4.6          3.1           1.5          0.2  Iris-setosa\n",
       "4           5.0          3.6           1.4          0.2  Iris-setosa"
      ]
     },
     "execution_count": 422,
     "metadata": {},
     "output_type": "execute_result"
    }
   ],
   "source": [
    "# get the url of iris dataset\n",
    "url = \"https://archive.ics.uci.edu/ml/machine-learning-databases/iris/iris.data\"\n",
    "dataset = pd.read_csv(url, names=['sepal length','sepal width','petal length','petal width','target'])\n",
    "dataset.head()"
   ]
  },
  {
   "cell_type": "code",
   "execution_count": 445,
   "id": "45e424b0",
   "metadata": {},
   "outputs": [
    {
     "data": {
      "text/html": [
       "<div>\n",
       "<style scoped>\n",
       "    .dataframe tbody tr th:only-of-type {\n",
       "        vertical-align: middle;\n",
       "    }\n",
       "\n",
       "    .dataframe tbody tr th {\n",
       "        vertical-align: top;\n",
       "    }\n",
       "\n",
       "    .dataframe thead th {\n",
       "        text-align: right;\n",
       "    }\n",
       "</style>\n",
       "<table border=\"1\" class=\"dataframe\">\n",
       "  <thead>\n",
       "    <tr style=\"text-align: right;\">\n",
       "      <th></th>\n",
       "      <th>sepal length</th>\n",
       "      <th>sepal width</th>\n",
       "      <th>petal length</th>\n",
       "      <th>petal width</th>\n",
       "    </tr>\n",
       "  </thead>\n",
       "  <tbody>\n",
       "    <tr>\n",
       "      <th>0</th>\n",
       "      <td>5.1</td>\n",
       "      <td>3.5</td>\n",
       "      <td>1.4</td>\n",
       "      <td>0.2</td>\n",
       "    </tr>\n",
       "    <tr>\n",
       "      <th>1</th>\n",
       "      <td>4.9</td>\n",
       "      <td>3.0</td>\n",
       "      <td>1.4</td>\n",
       "      <td>0.2</td>\n",
       "    </tr>\n",
       "    <tr>\n",
       "      <th>2</th>\n",
       "      <td>4.7</td>\n",
       "      <td>3.2</td>\n",
       "      <td>1.3</td>\n",
       "      <td>0.2</td>\n",
       "    </tr>\n",
       "    <tr>\n",
       "      <th>3</th>\n",
       "      <td>4.6</td>\n",
       "      <td>3.1</td>\n",
       "      <td>1.5</td>\n",
       "      <td>0.2</td>\n",
       "    </tr>\n",
       "    <tr>\n",
       "      <th>4</th>\n",
       "      <td>5.0</td>\n",
       "      <td>3.6</td>\n",
       "      <td>1.4</td>\n",
       "      <td>0.2</td>\n",
       "    </tr>\n",
       "    <tr>\n",
       "      <th>5</th>\n",
       "      <td>5.4</td>\n",
       "      <td>3.9</td>\n",
       "      <td>1.7</td>\n",
       "      <td>0.4</td>\n",
       "    </tr>\n",
       "    <tr>\n",
       "      <th>6</th>\n",
       "      <td>4.6</td>\n",
       "      <td>3.4</td>\n",
       "      <td>1.4</td>\n",
       "      <td>0.3</td>\n",
       "    </tr>\n",
       "    <tr>\n",
       "      <th>7</th>\n",
       "      <td>5.0</td>\n",
       "      <td>3.4</td>\n",
       "      <td>1.5</td>\n",
       "      <td>0.2</td>\n",
       "    </tr>\n",
       "    <tr>\n",
       "      <th>8</th>\n",
       "      <td>4.4</td>\n",
       "      <td>2.9</td>\n",
       "      <td>1.4</td>\n",
       "      <td>0.2</td>\n",
       "    </tr>\n",
       "    <tr>\n",
       "      <th>9</th>\n",
       "      <td>4.9</td>\n",
       "      <td>3.1</td>\n",
       "      <td>1.5</td>\n",
       "      <td>0.1</td>\n",
       "    </tr>\n",
       "  </tbody>\n",
       "</table>\n",
       "</div>"
      ],
      "text/plain": [
       "   sepal length  sepal width  petal length  petal width\n",
       "0           5.1          3.5           1.4          0.2\n",
       "1           4.9          3.0           1.4          0.2\n",
       "2           4.7          3.2           1.3          0.2\n",
       "3           4.6          3.1           1.5          0.2\n",
       "4           5.0          3.6           1.4          0.2\n",
       "5           5.4          3.9           1.7          0.4\n",
       "6           4.6          3.4           1.4          0.3\n",
       "7           5.0          3.4           1.5          0.2\n",
       "8           4.4          2.9           1.4          0.2\n",
       "9           4.9          3.1           1.5          0.1"
      ]
     },
     "execution_count": 445,
     "metadata": {},
     "output_type": "execute_result"
    }
   ],
   "source": [
    "X = dataset.iloc[:,0:4]#dataset.values[:,:4]\n",
    "y = dataset.iloc[:,-1]#dataset.values[:,-1]\n",
    "X[:10]"
   ]
  },
  {
   "cell_type": "code",
   "execution_count": 424,
   "id": "29c73925",
   "metadata": {},
   "outputs": [
    {
     "data": {
      "text/plain": [
       "sepal length    5.843333\n",
       "sepal width     3.054000\n",
       "petal length    3.758667\n",
       "petal width     1.198667\n",
       "dtype: float64"
      ]
     },
     "execution_count": 424,
     "metadata": {},
     "output_type": "execute_result"
    }
   ],
   "source": [
    "mean = np.mean(X,axis = 0)\n",
    "mean"
   ]
  },
  {
   "cell_type": "code",
   "execution_count": 425,
   "id": "fd83d434",
   "metadata": {},
   "outputs": [
    {
     "data": {
      "text/plain": [
       "(150, 4)"
      ]
     },
     "execution_count": 425,
     "metadata": {},
     "output_type": "execute_result"
    }
   ],
   "source": [
    "X_meaned = X -mean\n",
    "X_meaned.shape"
   ]
  },
  {
   "cell_type": "code",
   "execution_count": 426,
   "id": "652b0126",
   "metadata": {},
   "outputs": [
    {
     "name": "stdout",
     "output_type": "stream",
     "text": [
      "(4, 4)\n"
     ]
    },
    {
     "data": {
      "text/html": [
       "<div>\n",
       "<style scoped>\n",
       "    .dataframe tbody tr th:only-of-type {\n",
       "        vertical-align: middle;\n",
       "    }\n",
       "\n",
       "    .dataframe tbody tr th {\n",
       "        vertical-align: top;\n",
       "    }\n",
       "\n",
       "    .dataframe thead th {\n",
       "        text-align: right;\n",
       "    }\n",
       "</style>\n",
       "<table border=\"1\" class=\"dataframe\">\n",
       "  <thead>\n",
       "    <tr style=\"text-align: right;\">\n",
       "      <th></th>\n",
       "      <th>sepal length</th>\n",
       "      <th>sepal width</th>\n",
       "      <th>petal length</th>\n",
       "      <th>petal width</th>\n",
       "    </tr>\n",
       "  </thead>\n",
       "  <tbody>\n",
       "    <tr>\n",
       "      <th>sepal length</th>\n",
       "      <td>0.681122</td>\n",
       "      <td>-0.039007</td>\n",
       "      <td>1.265191</td>\n",
       "      <td>0.513458</td>\n",
       "    </tr>\n",
       "    <tr>\n",
       "      <th>sepal width</th>\n",
       "      <td>-0.039007</td>\n",
       "      <td>0.186751</td>\n",
       "      <td>-0.319568</td>\n",
       "      <td>-0.117195</td>\n",
       "    </tr>\n",
       "    <tr>\n",
       "      <th>petal length</th>\n",
       "      <td>1.265191</td>\n",
       "      <td>-0.319568</td>\n",
       "      <td>3.092425</td>\n",
       "      <td>1.287745</td>\n",
       "    </tr>\n",
       "    <tr>\n",
       "      <th>petal width</th>\n",
       "      <td>0.513458</td>\n",
       "      <td>-0.117195</td>\n",
       "      <td>1.287745</td>\n",
       "      <td>0.578532</td>\n",
       "    </tr>\n",
       "  </tbody>\n",
       "</table>\n",
       "</div>"
      ],
      "text/plain": [
       "              sepal length  sepal width  petal length  petal width\n",
       "sepal length      0.681122    -0.039007      1.265191     0.513458\n",
       "sepal width      -0.039007     0.186751     -0.319568    -0.117195\n",
       "petal length      1.265191    -0.319568      3.092425     1.287745\n",
       "petal width       0.513458    -0.117195      1.287745     0.578532"
      ]
     },
     "execution_count": 426,
     "metadata": {},
     "output_type": "execute_result"
    }
   ],
   "source": [
    "cov = 1/len(X) * X_meaned.T @ X_meaned\n",
    "print(cov.shape)\n",
    "cov"
   ]
  },
  {
   "cell_type": "code",
   "execution_count": 427,
   "id": "19c66216",
   "metadata": {},
   "outputs": [],
   "source": [
    "values,vectors = np.linalg.eig(cov)"
   ]
  },
  {
   "cell_type": "code",
   "execution_count": 428,
   "id": "6de19ac6",
   "metadata": {},
   "outputs": [
    {
     "data": {
      "text/plain": [
       "array([4.19667516, 0.24062861, 0.07800042, 0.02352514])"
      ]
     },
     "execution_count": 428,
     "metadata": {},
     "output_type": "execute_result"
    }
   ],
   "source": [
    "values"
   ]
  },
  {
   "cell_type": "code",
   "execution_count": 429,
   "id": "55f5f138",
   "metadata": {},
   "outputs": [
    {
     "data": {
      "text/plain": [
       "array([[ 0.36158968, -0.65653988, -0.58099728,  0.31725455],\n",
       "       [-0.08226889, -0.72971237,  0.59641809, -0.32409435],\n",
       "       [ 0.85657211,  0.1757674 ,  0.07252408, -0.47971899],\n",
       "       [ 0.35884393,  0.07470647,  0.54906091,  0.75112056]])"
      ]
     },
     "execution_count": 429,
     "metadata": {},
     "output_type": "execute_result"
    }
   ],
   "source": [
    "vectors"
   ]
  },
  {
   "cell_type": "code",
   "execution_count": 430,
   "id": "cc7e7977",
   "metadata": {},
   "outputs": [
    {
     "data": {
      "text/plain": [
       "array([0, 1, 2, 3], dtype=int64)"
      ]
     },
     "execution_count": 430,
     "metadata": {},
     "output_type": "execute_result"
    }
   ],
   "source": [
    "sorted_index = np.argsort(values)[::-1]\n",
    "sorted_index"
   ]
  },
  {
   "cell_type": "code",
   "execution_count": 431,
   "id": "e4e4b12f",
   "metadata": {},
   "outputs": [],
   "source": [
    "sorted_eigen_values = values[sorted_index]\n",
    "sorted_eigen_vector = vectors[sorted_index]"
   ]
  },
  {
   "cell_type": "code",
   "execution_count": 432,
   "id": "75f91c0f",
   "metadata": {},
   "outputs": [
    {
     "data": {
      "text/plain": [
       "array([[ 0.36158968, -0.65653988, -0.58099728,  0.31725455],\n",
       "       [-0.08226889, -0.72971237,  0.59641809, -0.32409435],\n",
       "       [ 0.85657211,  0.1757674 ,  0.07252408, -0.47971899],\n",
       "       [ 0.35884393,  0.07470647,  0.54906091,  0.75112056]])"
      ]
     },
     "execution_count": 432,
     "metadata": {},
     "output_type": "execute_result"
    }
   ],
   "source": [
    "sorted_eigen_vector"
   ]
  },
  {
   "cell_type": "code",
   "execution_count": 433,
   "id": "75858e29",
   "metadata": {},
   "outputs": [
    {
     "data": {
      "text/html": [
       "<div>\n",
       "<style scoped>\n",
       "    .dataframe tbody tr th:only-of-type {\n",
       "        vertical-align: middle;\n",
       "    }\n",
       "\n",
       "    .dataframe tbody tr th {\n",
       "        vertical-align: top;\n",
       "    }\n",
       "\n",
       "    .dataframe thead th {\n",
       "        text-align: right;\n",
       "    }\n",
       "</style>\n",
       "<table border=\"1\" class=\"dataframe\">\n",
       "  <thead>\n",
       "    <tr style=\"text-align: right;\">\n",
       "      <th></th>\n",
       "      <th>0</th>\n",
       "      <th>1</th>\n",
       "    </tr>\n",
       "  </thead>\n",
       "  <tbody>\n",
       "    <tr>\n",
       "      <th>0</th>\n",
       "      <td>2.827136</td>\n",
       "      <td>-5.641331</td>\n",
       "    </tr>\n",
       "    <tr>\n",
       "      <th>1</th>\n",
       "      <td>2.795952</td>\n",
       "      <td>-5.145167</td>\n",
       "    </tr>\n",
       "    <tr>\n",
       "      <th>2</th>\n",
       "      <td>2.621524</td>\n",
       "      <td>-5.177378</td>\n",
       "    </tr>\n",
       "    <tr>\n",
       "      <th>3</th>\n",
       "      <td>2.764906</td>\n",
       "      <td>-5.003599</td>\n",
       "    </tr>\n",
       "    <tr>\n",
       "      <th>4</th>\n",
       "      <td>2.782750</td>\n",
       "      <td>-5.648648</td>\n",
       "    </tr>\n",
       "    <tr>\n",
       "      <th>...</th>\n",
       "      <td>...</td>\n",
       "      <td>...</td>\n",
       "    </tr>\n",
       "    <tr>\n",
       "      <th>145</th>\n",
       "      <td>7.455360</td>\n",
       "      <td>-5.502139</td>\n",
       "    </tr>\n",
       "    <tr>\n",
       "      <th>146</th>\n",
       "      <td>7.037007</td>\n",
       "      <td>-4.939703</td>\n",
       "    </tr>\n",
       "    <tr>\n",
       "      <th>147</th>\n",
       "      <td>7.275389</td>\n",
       "      <td>-5.393243</td>\n",
       "    </tr>\n",
       "    <tr>\n",
       "      <th>148</th>\n",
       "      <td>7.412972</td>\n",
       "      <td>-5.430600</td>\n",
       "    </tr>\n",
       "    <tr>\n",
       "      <th>149</th>\n",
       "      <td>6.901009</td>\n",
       "      <td>-5.031837</td>\n",
       "    </tr>\n",
       "  </tbody>\n",
       "</table>\n",
       "<p>150 rows × 2 columns</p>\n",
       "</div>"
      ],
      "text/plain": [
       "            0         1\n",
       "0    2.827136 -5.641331\n",
       "1    2.795952 -5.145167\n",
       "2    2.621524 -5.177378\n",
       "3    2.764906 -5.003599\n",
       "4    2.782750 -5.648648\n",
       "..        ...       ...\n",
       "145  7.455360 -5.502139\n",
       "146  7.037007 -4.939703\n",
       "147  7.275389 -5.393243\n",
       "148  7.412972 -5.430600\n",
       "149  6.901009 -5.031837\n",
       "\n",
       "[150 rows x 2 columns]"
      ]
     },
     "execution_count": 433,
     "metadata": {},
     "output_type": "execute_result"
    }
   ],
   "source": [
    "X @ sorted_eigen_vector[:,:2]"
   ]
  },
  {
   "cell_type": "code",
   "execution_count": 446,
   "id": "c00c0a81",
   "metadata": {},
   "outputs": [
    {
     "data": {
      "text/html": [
       "<div>\n",
       "<style scoped>\n",
       "    .dataframe tbody tr th:only-of-type {\n",
       "        vertical-align: middle;\n",
       "    }\n",
       "\n",
       "    .dataframe tbody tr th {\n",
       "        vertical-align: top;\n",
       "    }\n",
       "\n",
       "    .dataframe thead th {\n",
       "        text-align: right;\n",
       "    }\n",
       "</style>\n",
       "<table border=\"1\" class=\"dataframe\">\n",
       "  <thead>\n",
       "    <tr style=\"text-align: right;\">\n",
       "      <th></th>\n",
       "      <th>0</th>\n",
       "      <th>1</th>\n",
       "    </tr>\n",
       "  </thead>\n",
       "  <tbody>\n",
       "    <tr>\n",
       "      <th>0</th>\n",
       "      <td>2.827136</td>\n",
       "      <td>-5.641331</td>\n",
       "    </tr>\n",
       "    <tr>\n",
       "      <th>1</th>\n",
       "      <td>2.795952</td>\n",
       "      <td>-5.145167</td>\n",
       "    </tr>\n",
       "    <tr>\n",
       "      <th>2</th>\n",
       "      <td>2.621524</td>\n",
       "      <td>-5.177378</td>\n",
       "    </tr>\n",
       "    <tr>\n",
       "      <th>3</th>\n",
       "      <td>2.764906</td>\n",
       "      <td>-5.003599</td>\n",
       "    </tr>\n",
       "    <tr>\n",
       "      <th>4</th>\n",
       "      <td>2.782750</td>\n",
       "      <td>-5.648648</td>\n",
       "    </tr>\n",
       "    <tr>\n",
       "      <th>...</th>\n",
       "      <td>...</td>\n",
       "      <td>...</td>\n",
       "    </tr>\n",
       "    <tr>\n",
       "      <th>145</th>\n",
       "      <td>7.455360</td>\n",
       "      <td>-5.502139</td>\n",
       "    </tr>\n",
       "    <tr>\n",
       "      <th>146</th>\n",
       "      <td>7.037007</td>\n",
       "      <td>-4.939703</td>\n",
       "    </tr>\n",
       "    <tr>\n",
       "      <th>147</th>\n",
       "      <td>7.275389</td>\n",
       "      <td>-5.393243</td>\n",
       "    </tr>\n",
       "    <tr>\n",
       "      <th>148</th>\n",
       "      <td>7.412972</td>\n",
       "      <td>-5.430600</td>\n",
       "    </tr>\n",
       "    <tr>\n",
       "      <th>149</th>\n",
       "      <td>6.901009</td>\n",
       "      <td>-5.031837</td>\n",
       "    </tr>\n",
       "  </tbody>\n",
       "</table>\n",
       "<p>150 rows × 2 columns</p>\n",
       "</div>"
      ],
      "text/plain": [
       "            0         1\n",
       "0    2.827136 -5.641331\n",
       "1    2.795952 -5.145167\n",
       "2    2.621524 -5.177378\n",
       "3    2.764906 -5.003599\n",
       "4    2.782750 -5.648648\n",
       "..        ...       ...\n",
       "145  7.455360 -5.502139\n",
       "146  7.037007 -4.939703\n",
       "147  7.275389 -5.393243\n",
       "148  7.412972 -5.430600\n",
       "149  6.901009 -5.031837\n",
       "\n",
       "[150 rows x 2 columns]"
      ]
     },
     "execution_count": 446,
     "metadata": {},
     "output_type": "execute_result"
    }
   ],
   "source": [
    "mat_reduced  = PCA(X,2)\n",
    "mat_reduced"
   ]
  },
  {
   "cell_type": "code",
   "execution_count": 449,
   "id": "d71b038f",
   "metadata": {},
   "outputs": [
    {
     "data": {
      "text/html": [
       "<div>\n",
       "<style scoped>\n",
       "    .dataframe tbody tr th:only-of-type {\n",
       "        vertical-align: middle;\n",
       "    }\n",
       "\n",
       "    .dataframe tbody tr th {\n",
       "        vertical-align: top;\n",
       "    }\n",
       "\n",
       "    .dataframe thead th {\n",
       "        text-align: right;\n",
       "    }\n",
       "</style>\n",
       "<table border=\"1\" class=\"dataframe\">\n",
       "  <thead>\n",
       "    <tr style=\"text-align: right;\">\n",
       "      <th></th>\n",
       "      <th>0</th>\n",
       "      <th>1</th>\n",
       "      <th>target</th>\n",
       "    </tr>\n",
       "  </thead>\n",
       "  <tbody>\n",
       "    <tr>\n",
       "      <th>0</th>\n",
       "      <td>2.827136</td>\n",
       "      <td>-5.641331</td>\n",
       "      <td>Iris-setosa</td>\n",
       "    </tr>\n",
       "    <tr>\n",
       "      <th>1</th>\n",
       "      <td>2.795952</td>\n",
       "      <td>-5.145167</td>\n",
       "      <td>Iris-setosa</td>\n",
       "    </tr>\n",
       "    <tr>\n",
       "      <th>2</th>\n",
       "      <td>2.621524</td>\n",
       "      <td>-5.177378</td>\n",
       "      <td>Iris-setosa</td>\n",
       "    </tr>\n",
       "    <tr>\n",
       "      <th>3</th>\n",
       "      <td>2.764906</td>\n",
       "      <td>-5.003599</td>\n",
       "      <td>Iris-setosa</td>\n",
       "    </tr>\n",
       "    <tr>\n",
       "      <th>4</th>\n",
       "      <td>2.782750</td>\n",
       "      <td>-5.648648</td>\n",
       "      <td>Iris-setosa</td>\n",
       "    </tr>\n",
       "    <tr>\n",
       "      <th>...</th>\n",
       "      <td>...</td>\n",
       "      <td>...</td>\n",
       "      <td>...</td>\n",
       "    </tr>\n",
       "    <tr>\n",
       "      <th>145</th>\n",
       "      <td>7.455360</td>\n",
       "      <td>-5.502139</td>\n",
       "      <td>Iris-virginica</td>\n",
       "    </tr>\n",
       "    <tr>\n",
       "      <th>146</th>\n",
       "      <td>7.037007</td>\n",
       "      <td>-4.939703</td>\n",
       "      <td>Iris-virginica</td>\n",
       "    </tr>\n",
       "    <tr>\n",
       "      <th>147</th>\n",
       "      <td>7.275389</td>\n",
       "      <td>-5.393243</td>\n",
       "      <td>Iris-virginica</td>\n",
       "    </tr>\n",
       "    <tr>\n",
       "      <th>148</th>\n",
       "      <td>7.412972</td>\n",
       "      <td>-5.430600</td>\n",
       "      <td>Iris-virginica</td>\n",
       "    </tr>\n",
       "    <tr>\n",
       "      <th>149</th>\n",
       "      <td>6.901009</td>\n",
       "      <td>-5.031837</td>\n",
       "      <td>Iris-virginica</td>\n",
       "    </tr>\n",
       "  </tbody>\n",
       "</table>\n",
       "<p>150 rows × 3 columns</p>\n",
       "</div>"
      ],
      "text/plain": [
       "            0         1          target\n",
       "0    2.827136 -5.641331     Iris-setosa\n",
       "1    2.795952 -5.145167     Iris-setosa\n",
       "2    2.621524 -5.177378     Iris-setosa\n",
       "3    2.764906 -5.003599     Iris-setosa\n",
       "4    2.782750 -5.648648     Iris-setosa\n",
       "..        ...       ...             ...\n",
       "145  7.455360 -5.502139  Iris-virginica\n",
       "146  7.037007 -4.939703  Iris-virginica\n",
       "147  7.275389 -5.393243  Iris-virginica\n",
       "148  7.412972 -5.430600  Iris-virginica\n",
       "149  6.901009 -5.031837  Iris-virginica\n",
       "\n",
       "[150 rows x 3 columns]"
      ]
     },
     "execution_count": 449,
     "metadata": {},
     "output_type": "execute_result"
    }
   ],
   "source": [
    "df = pd.concat([mat_reduced,y],axis = 1)\n",
    "df"
   ]
  },
  {
   "cell_type": "code",
   "execution_count": 453,
   "id": "249b9990",
   "metadata": {},
   "outputs": [
    {
     "data": {
      "text/plain": [
       "<AxesSubplot:xlabel='0', ylabel='1'>"
      ]
     },
     "execution_count": 453,
     "metadata": {},
     "output_type": "execute_result"
    },
    {
     "data": {
      "image/png": "[encoded data removed]",
      "text/plain": [
       "<Figure size 432x432 with 1 Axes>"
      ]
     },
     "metadata": {
      "needs_background": "light"
     },
     "output_type": "display_data"
    }
   ],
   "source": [
    "import seaborn as sns\n",
    "\n",
    "plt.figure(figsize = (6,6))\n",
    "sns.scatterplot(data = df, x = 0,y = 1,hue = 'target',s = 60, palette = 'icefire')"
   ]
  },
  {
   "cell_type": "markdown",
   "id": "00d12f76",
   "metadata": {},
   "source": [
    " use numpy linalg svd"
   ]
  },
  {
   "cell_type": "code",
   "execution_count": 463,
   "id": "f885c6dd",
   "metadata": {},
   "outputs": [],
   "source": [
    "u,s,v = np.linalg.svd(cov)"
   ]
  },
  {
   "cell_type": "code",
   "execution_count": 468,
   "id": "f7501e19",
   "metadata": {},
   "outputs": [
    {
     "data": {
      "text/plain": [
       "array([[ 0.36158968, -0.65653988, -0.58099728,  0.31725455],\n",
       "       [-0.08226889, -0.72971237,  0.59641809, -0.32409435],\n",
       "       [ 0.85657211,  0.1757674 ,  0.07252408, -0.47971899],\n",
       "       [ 0.35884393,  0.07470647,  0.54906091,  0.75112056]])"
      ]
     },
     "execution_count": 468,
     "metadata": {},
     "output_type": "execute_result"
    }
   ],
   "source": [
    "vectors"
   ]
  },
  {
   "cell_type": "code",
   "execution_count": 464,
   "id": "a0a739b3",
   "metadata": {},
   "outputs": [
    {
     "data": {
      "text/plain": [
       "array([[-0.36158968, -0.65653988,  0.58099728,  0.31725455],\n",
       "       [ 0.08226889, -0.72971237, -0.59641809, -0.32409435],\n",
       "       [-0.85657211,  0.1757674 , -0.07252408, -0.47971899],\n",
       "       [-0.35884393,  0.07470647, -0.54906091,  0.75112056]])"
      ]
     },
     "execution_count": 464,
     "metadata": {},
     "output_type": "execute_result"
    }
   ],
   "source": [
    "u"
   ]
  },
  {
   "cell_type": "code",
   "execution_count": 467,
   "id": "48ec073c",
   "metadata": {},
   "outputs": [
    {
     "data": {
      "text/plain": [
       "array([4.19667516, 0.24062861, 0.07800042, 0.02352514])"
      ]
     },
     "execution_count": 467,
     "metadata": {},
     "output_type": "execute_result"
    }
   ],
   "source": [
    "values"
   ]
  },
  {
   "cell_type": "code",
   "execution_count": 465,
   "id": "e8fb51f8",
   "metadata": {},
   "outputs": [
    {
     "data": {
      "text/plain": [
       "array([4.19667516, 0.24062861, 0.07800042, 0.02352514])"
      ]
     },
     "execution_count": 465,
     "metadata": {},
     "output_type": "execute_result"
    }
   ],
   "source": [
    "s"
   ]
  },
  {
   "cell_type": "code",
   "execution_count": 480,
   "id": "1254e01e",
   "metadata": {},
   "outputs": [
    {
     "data": {
      "text/plain": [
       "array([[-0.36158968,  0.08226889, -0.85657211, -0.35884393],\n",
       "       [-0.65653988, -0.72971237,  0.1757674 ,  0.07470647],\n",
       "       [ 0.58099728, -0.59641809, -0.07252408, -0.54906091],\n",
       "       [ 0.31725455, -0.32409435, -0.47971899,  0.75112056]])"
      ]
     },
     "execution_count": 480,
     "metadata": {},
     "output_type": "execute_result"
    }
   ],
   "source": [
    "v"
   ]
  },
  {
   "cell_type": "code",
   "execution_count": 481,
   "id": "8cdb4136",
   "metadata": {},
   "outputs": [],
   "source": [
    "x = dataset.values[:,:4]\n",
    "target = dataset.values[:,-1]"
   ]
  },
  {
   "cell_type": "code",
   "execution_count": 482,
   "id": "18b77387",
   "metadata": {},
   "outputs": [
    {
     "name": "stdout",
     "output_type": "stream",
     "text": [
      "(4, 4)\n"
     ]
    }
   ],
   "source": [
    "x_meaned = x - np.mean(x,axis =0)\n",
    "s = 1/len(x) * x_meaned.T @ x_meaned\n",
    "print(s.shape)"
   ]
  },
  {
   "cell_type": "code",
   "execution_count": 483,
   "id": "84748afa",
   "metadata": {},
   "outputs": [
    {
     "ename": "TypeError",
     "evalue": "No loop matching the specified signature and casting was found for ufunc svd_n_f",
     "output_type": "error",
     "traceback": [
      "\u001b[1;31m---------------------------------------------------------------------------\u001b[0m",
      "\u001b[1;31mTypeError\u001b[0m                                 Traceback (most recent call last)",
      "\u001b[1;32m<ipython-input-483-bdc625c8d62e>\u001b[0m in \u001b[0;36m<module>\u001b[1;34m\u001b[0m\n\u001b[1;32m----> 1\u001b[1;33m \u001b[0mu\u001b[0m\u001b[1;33m,\u001b[0m\u001b[0ms\u001b[0m\u001b[1;33m,\u001b[0m\u001b[0mv\u001b[0m \u001b[1;33m=\u001b[0m \u001b[0mnp\u001b[0m\u001b[1;33m.\u001b[0m\u001b[0mlinalg\u001b[0m\u001b[1;33m.\u001b[0m\u001b[0msvd\u001b[0m\u001b[1;33m(\u001b[0m\u001b[0ms\u001b[0m\u001b[1;33m)\u001b[0m\u001b[1;33m\u001b[0m\u001b[1;33m\u001b[0m\u001b[0m\n\u001b[0m",
      "\u001b[1;32m<__array_function__ internals>\u001b[0m in \u001b[0;36msvd\u001b[1;34m(*args, **kwargs)\u001b[0m\n",
      "\u001b[1;32mC:\\ProgramData\\Anaconda3\\lib\\site-packages\\numpy\\linalg\\linalg.py\u001b[0m in \u001b[0;36msvd\u001b[1;34m(a, full_matrices, compute_uv, hermitian)\u001b[0m\n\u001b[0;32m   1659\u001b[0m \u001b[1;33m\u001b[0m\u001b[0m\n\u001b[0;32m   1660\u001b[0m         \u001b[0msignature\u001b[0m \u001b[1;33m=\u001b[0m \u001b[1;34m'D->DdD'\u001b[0m \u001b[1;32mif\u001b[0m \u001b[0misComplexType\u001b[0m\u001b[1;33m(\u001b[0m\u001b[0mt\u001b[0m\u001b[1;33m)\u001b[0m \u001b[1;32melse\u001b[0m \u001b[1;34m'd->ddd'\u001b[0m\u001b[1;33m\u001b[0m\u001b[1;33m\u001b[0m\u001b[0m\n\u001b[1;32m-> 1661\u001b[1;33m         \u001b[0mu\u001b[0m\u001b[1;33m,\u001b[0m \u001b[0ms\u001b[0m\u001b[1;33m,\u001b[0m \u001b[0mvh\u001b[0m \u001b[1;33m=\u001b[0m \u001b[0mgufunc\u001b[0m\u001b[1;33m(\u001b[0m\u001b[0ma\u001b[0m\u001b[1;33m,\u001b[0m \u001b[0msignature\u001b[0m\u001b[1;33m=\u001b[0m\u001b[0msignature\u001b[0m\u001b[1;33m,\u001b[0m \u001b[0mextobj\u001b[0m\u001b[1;33m=\u001b[0m\u001b[0mextobj\u001b[0m\u001b[1;33m)\u001b[0m\u001b[1;33m\u001b[0m\u001b[1;33m\u001b[0m\u001b[0m\n\u001b[0m\u001b[0;32m   1662\u001b[0m         \u001b[0mu\u001b[0m \u001b[1;33m=\u001b[0m \u001b[0mu\u001b[0m\u001b[1;33m.\u001b[0m\u001b[0mastype\u001b[0m\u001b[1;33m(\u001b[0m\u001b[0mresult_t\u001b[0m\u001b[1;33m,\u001b[0m \u001b[0mcopy\u001b[0m\u001b[1;33m=\u001b[0m\u001b[1;32mFalse\u001b[0m\u001b[1;33m)\u001b[0m\u001b[1;33m\u001b[0m\u001b[1;33m\u001b[0m\u001b[0m\n\u001b[0;32m   1663\u001b[0m         \u001b[0ms\u001b[0m \u001b[1;33m=\u001b[0m \u001b[0ms\u001b[0m\u001b[1;33m.\u001b[0m\u001b[0mastype\u001b[0m\u001b[1;33m(\u001b[0m\u001b[0m_realType\u001b[0m\u001b[1;33m(\u001b[0m\u001b[0mresult_t\u001b[0m\u001b[1;33m)\u001b[0m\u001b[1;33m,\u001b[0m \u001b[0mcopy\u001b[0m\u001b[1;33m=\u001b[0m\u001b[1;32mFalse\u001b[0m\u001b[1;33m)\u001b[0m\u001b[1;33m\u001b[0m\u001b[1;33m\u001b[0m\u001b[0m\n",
      "\u001b[1;31mTypeError\u001b[0m: No loop matching the specified signature and casting was found for ufunc svd_n_f"
     ]
    }
   ],
   "source": [
    "u,s,v = np.linalg.svd(s)"
   ]
  },
  {
   "cell_type": "code",
   "execution_count": 484,
   "id": "d0dec53e",
   "metadata": {},
   "outputs": [],
   "source": [
    "u,s,v = np.linalg.svd(s.astype('float'))"
   ]
  },
  {
   "cell_type": "code",
   "execution_count": 485,
   "id": "d4d63f6c",
   "metadata": {},
   "outputs": [
    {
     "data": {
      "text/plain": [
       "array([[-0.36158968, -0.65653988,  0.58099728,  0.31725455],\n",
       "       [ 0.08226889, -0.72971237, -0.59641809, -0.32409435],\n",
       "       [-0.85657211,  0.1757674 , -0.07252408, -0.47971899],\n",
       "       [-0.35884393,  0.07470647, -0.54906091,  0.75112056]])"
      ]
     },
     "execution_count": 485,
     "metadata": {},
     "output_type": "execute_result"
    }
   ],
   "source": [
    "u"
   ]
  },
  {
   "cell_type": "code",
   "execution_count": 486,
   "id": "1b904b2f",
   "metadata": {},
   "outputs": [
    {
     "data": {
      "text/plain": [
       "array([4.19667516, 0.24062861, 0.07800042, 0.02352514])"
      ]
     },
     "execution_count": 486,
     "metadata": {},
     "output_type": "execute_result"
    }
   ],
   "source": [
    "s"
   ]
  },
  {
   "cell_type": "code",
   "execution_count": 487,
   "id": "8af09d22",
   "metadata": {},
   "outputs": [
    {
     "data": {
      "text/plain": [
       "array([[-0.36158968,  0.08226889, -0.85657211, -0.35884393],\n",
       "       [-0.65653988, -0.72971237,  0.1757674 ,  0.07470647],\n",
       "       [ 0.58099728, -0.59641809, -0.07252408, -0.54906091],\n",
       "       [ 0.31725455, -0.32409435, -0.47971899,  0.75112056]])"
      ]
     },
     "execution_count": 487,
     "metadata": {},
     "output_type": "execute_result"
    }
   ],
   "source": [
    "v"
   ]
  },
  {
   "cell_type": "markdown",
   "id": "f40df768",
   "metadata": {},
   "source": [
    "### eigenfaces\n",
    "\n",
    "#### The Yale Face Database B is available at http://vision.ucsd.edu/~iskwak/ExtYaleDatabase/ExtYaleB.html<br> Download the cropped version and extract to a folder such as Your_YaleB_Path"
   ]
  },
  {
   "cell_type": "code",
   "execution_count": 15,
   "id": "23bae282",
   "metadata": {},
   "outputs": [],
   "source": [
    "import numpy as np \n",
    "import matplotlib.pyplot  as plt\n",
    "from PIL import Image\n",
    "from tqdm import tqdm\n",
    "import os\n",
    "import glob"
   ]
  },
  {
   "cell_type": "code",
   "execution_count": 16,
   "id": "28ea7095",
   "metadata": {},
   "outputs": [],
   "source": [
    "IMG_PATH = './CroppedYale/'"
   ]
  },
  {
   "cell_type": "code",
   "execution_count": 17,
   "id": "5192877d",
   "metadata": {},
   "outputs": [],
   "source": [
    "images = []\n",
    "floders = os.listdir(IMG_PATH)\n",
    "for f in floders:\n",
    "    #print(os.listdir(IMG_PATH + f))\n",
    "    images += os.listdir(IMG_PATH + f)"
   ]
  },
  {
   "cell_type": "code",
   "execution_count": 18,
   "id": "621ac9b0",
   "metadata": {},
   "outputs": [
    {
     "data": {
      "text/plain": [
       "24"
      ]
     },
     "execution_count": 18,
     "metadata": {},
     "output_type": "execute_result"
    }
   ],
   "source": [
    "len('yaleB07_P00A-120E+00.pgm')"
   ]
  },
  {
   "cell_type": "code",
   "execution_count": 19,
   "id": "0e821fe0",
   "metadata": {},
   "outputs": [],
   "source": [
    "images_pgm = []\n",
    "# take all pgm\n",
    "for i in images:\n",
    "    if '.pgm' in i:\n",
    "        images_pgm.append(i)\n",
    "for i in images_pgm:\n",
    "    if '.bad' in i or 'Ambient' in i or len(i) != 24:\n",
    "        images_pgm.remove(i)"
   ]
  },
  {
   "cell_type": "code",
   "execution_count": 20,
   "id": "4cece08e",
   "metadata": {},
   "outputs": [
    {
     "data": {
      "text/plain": [
       "['yaleB01_P00A+000E+00.pgm',\n",
       " 'yaleB01_P00A+000E+20.pgm',\n",
       " 'yaleB01_P00A+000E+45.pgm',\n",
       " 'yaleB01_P00A+000E+90.pgm',\n",
       " 'yaleB01_P00A+000E-20.pgm',\n",
       " 'yaleB01_P00A+000E-35.pgm',\n",
       " 'yaleB01_P00A+005E+10.pgm',\n",
       " 'yaleB01_P00A+005E-10.pgm',\n",
       " 'yaleB01_P00A+010E+00.pgm',\n",
       " 'yaleB01_P00A+010E-20.pgm',\n",
       " 'yaleB01_P00A+015E+20.pgm',\n",
       " 'yaleB01_P00A+020E+10.pgm',\n",
       " 'yaleB01_P00A+020E-10.pgm',\n",
       " 'yaleB01_P00A+020E-40.pgm',\n",
       " 'yaleB01_P00A+025E+00.pgm',\n",
       " 'yaleB01_P00A+035E+15.pgm',\n",
       " 'yaleB01_P00A+035E+40.pgm',\n",
       " 'yaleB01_P00A+035E+65.pgm',\n",
       " 'yaleB01_P00A+035E-20.pgm',\n",
       " 'yaleB01_P00A+050E+00.pgm',\n",
       " 'yaleB01_P00A+050E-40.pgm',\n",
       " 'yaleB01_P00A+060E+20.pgm',\n",
       " 'yaleB01_P00A+060E-20.pgm',\n",
       " 'yaleB01_P00A+070E+00.pgm',\n",
       " 'yaleB01_P00A+070E+45.pgm',\n",
       " 'yaleB01_P00A+070E-35.pgm',\n",
       " 'yaleB01_P00A+085E+20.pgm',\n",
       " 'yaleB01_P00A+085E-20.pgm',\n",
       " 'yaleB01_P00A+095E+00.pgm',\n",
       " 'yaleB01_P00A+110E+15.pgm',\n",
       " 'yaleB01_P00A+110E+40.pgm',\n",
       " 'yaleB01_P00A+110E+65.pgm',\n",
       " 'yaleB01_P00A+110E-20.pgm',\n",
       " 'yaleB01_P00A+120E+00.pgm',\n",
       " 'yaleB01_P00A+130E+20.pgm',\n",
       " 'yaleB01_P00A-005E+10.pgm',\n",
       " 'yaleB01_P00A-005E-10.pgm',\n",
       " 'yaleB01_P00A-010E+00.pgm',\n",
       " 'yaleB01_P00A-010E-20.pgm',\n",
       " 'yaleB01_P00A-015E+20.pgm',\n",
       " 'yaleB01_P00A-020E+10.pgm',\n",
       " 'yaleB01_P00A-020E-10.pgm',\n",
       " 'yaleB01_P00A-020E-40.pgm',\n",
       " 'yaleB01_P00A-025E+00.pgm',\n",
       " 'yaleB01_P00A-035E+15.pgm',\n",
       " 'yaleB01_P00A-035E+40.pgm',\n",
       " 'yaleB01_P00A-035E+65.pgm',\n",
       " 'yaleB01_P00A-035E-20.pgm',\n",
       " 'yaleB01_P00A-050E+00.pgm',\n",
       " 'yaleB01_P00A-050E-40.pgm',\n",
       " 'yaleB01_P00A-060E+20.pgm',\n",
       " 'yaleB01_P00A-060E-20.pgm',\n",
       " 'yaleB01_P00A-070E+00.pgm',\n",
       " 'yaleB01_P00A-070E+45.pgm',\n",
       " 'yaleB01_P00A-070E-35.pgm',\n",
       " 'yaleB01_P00A-085E+20.pgm',\n",
       " 'yaleB01_P00A-085E-20.pgm',\n",
       " 'yaleB01_P00A-095E+00.pgm',\n",
       " 'yaleB01_P00A-110E+15.pgm',\n",
       " 'yaleB01_P00A-110E+40.pgm',\n",
       " 'yaleB01_P00A-110E+65.pgm',\n",
       " 'yaleB01_P00A-110E-20.pgm',\n",
       " 'yaleB01_P00A-120E+00.pgm',\n",
       " 'yaleB01_P00A-130E+20.pgm',\n",
       " 'yaleB02_P00A+000E+00.pgm',\n",
       " 'yaleB02_P00A+000E+20.pgm',\n",
       " 'yaleB02_P00A+000E+45.pgm',\n",
       " 'yaleB02_P00A+000E+90.pgm',\n",
       " 'yaleB02_P00A+000E-20.pgm',\n",
       " 'yaleB02_P00A+000E-35.pgm',\n",
       " 'yaleB02_P00A+005E+10.pgm',\n",
       " 'yaleB02_P00A+005E-10.pgm',\n",
       " 'yaleB02_P00A+010E+00.pgm',\n",
       " 'yaleB02_P00A+010E-20.pgm',\n",
       " 'yaleB02_P00A+015E+20.pgm',\n",
       " 'yaleB02_P00A+020E+10.pgm',\n",
       " 'yaleB02_P00A+020E-10.pgm',\n",
       " 'yaleB02_P00A+020E-40.pgm',\n",
       " 'yaleB02_P00A+025E+00.pgm',\n",
       " 'yaleB02_P00A+035E+15.pgm',\n",
       " 'yaleB02_P00A+035E+40.pgm',\n",
       " 'yaleB02_P00A+035E+65.pgm',\n",
       " 'yaleB02_P00A+035E-20.pgm',\n",
       " 'yaleB02_P00A+050E+00.pgm',\n",
       " 'yaleB02_P00A+050E-40.pgm',\n",
       " 'yaleB02_P00A+060E+20.pgm',\n",
       " 'yaleB02_P00A+060E-20.pgm',\n",
       " 'yaleB02_P00A+070E+00.pgm',\n",
       " 'yaleB02_P00A+070E+45.pgm',\n",
       " 'yaleB02_P00A+070E-35.pgm',\n",
       " 'yaleB02_P00A+085E+20.pgm',\n",
       " 'yaleB02_P00A+085E-20.pgm',\n",
       " 'yaleB02_P00A+095E+00.pgm',\n",
       " 'yaleB02_P00A+110E+15.pgm',\n",
       " 'yaleB02_P00A+110E+40.pgm',\n",
       " 'yaleB02_P00A+110E+65.pgm',\n",
       " 'yaleB02_P00A+110E-20.pgm',\n",
       " 'yaleB02_P00A+120E+00.pgm',\n",
       " 'yaleB02_P00A+130E+20.pgm',\n",
       " 'yaleB02_P00A-005E+10.pgm',\n",
       " 'yaleB02_P00A-005E-10.pgm',\n",
       " 'yaleB02_P00A-010E+00.pgm',\n",
       " 'yaleB02_P00A-010E-20.pgm',\n",
       " 'yaleB02_P00A-015E+20.pgm',\n",
       " 'yaleB02_P00A-020E+10.pgm',\n",
       " 'yaleB02_P00A-020E-10.pgm',\n",
       " 'yaleB02_P00A-020E-40.pgm',\n",
       " 'yaleB02_P00A-025E+00.pgm',\n",
       " 'yaleB02_P00A-035E+15.pgm',\n",
       " 'yaleB02_P00A-035E+40.pgm',\n",
       " 'yaleB02_P00A-035E+65.pgm',\n",
       " 'yaleB02_P00A-035E-20.pgm',\n",
       " 'yaleB02_P00A-050E+00.pgm',\n",
       " 'yaleB02_P00A-050E-40.pgm',\n",
       " 'yaleB02_P00A-060E+20.pgm',\n",
       " 'yaleB02_P00A-060E-20.pgm',\n",
       " 'yaleB02_P00A-070E+00.pgm',\n",
       " 'yaleB02_P00A-070E+45.pgm',\n",
       " 'yaleB02_P00A-070E-35.pgm',\n",
       " 'yaleB02_P00A-085E+20.pgm',\n",
       " 'yaleB02_P00A-085E-20.pgm',\n",
       " 'yaleB02_P00A-095E+00.pgm',\n",
       " 'yaleB02_P00A-110E+15.pgm',\n",
       " 'yaleB02_P00A-110E+40.pgm',\n",
       " 'yaleB02_P00A-110E+65.pgm',\n",
       " 'yaleB02_P00A-110E-20.pgm',\n",
       " 'yaleB02_P00A-120E+00.pgm',\n",
       " 'yaleB02_P00A-130E+20.pgm',\n",
       " 'yaleB03_P00A+000E+00.pgm',\n",
       " 'yaleB03_P00A+000E+20.pgm',\n",
       " 'yaleB03_P00A+000E+45.pgm',\n",
       " 'yaleB03_P00A+000E+90.pgm',\n",
       " 'yaleB03_P00A+000E-20.pgm',\n",
       " 'yaleB03_P00A+000E-35.pgm',\n",
       " 'yaleB03_P00A+005E+10.pgm',\n",
       " 'yaleB03_P00A+005E-10.pgm',\n",
       " 'yaleB03_P00A+010E+00.pgm',\n",
       " 'yaleB03_P00A+010E-20.pgm',\n",
       " 'yaleB03_P00A+015E+20.pgm',\n",
       " 'yaleB03_P00A+020E+10.pgm',\n",
       " 'yaleB03_P00A+020E-10.pgm',\n",
       " 'yaleB03_P00A+020E-40.pgm',\n",
       " 'yaleB03_P00A+025E+00.pgm',\n",
       " 'yaleB03_P00A+035E+15.pgm',\n",
       " 'yaleB03_P00A+035E+40.pgm',\n",
       " 'yaleB03_P00A+035E+65.pgm',\n",
       " 'yaleB03_P00A+035E-20.pgm',\n",
       " 'yaleB03_P00A+050E+00.pgm',\n",
       " 'yaleB03_P00A+050E-40.pgm',\n",
       " 'yaleB03_P00A+060E+20.pgm',\n",
       " 'yaleB03_P00A+060E-20.pgm',\n",
       " 'yaleB03_P00A+070E+00.pgm',\n",
       " 'yaleB03_P00A+070E+45.pgm',\n",
       " 'yaleB03_P00A+070E-35.pgm',\n",
       " 'yaleB03_P00A+085E+20.pgm',\n",
       " 'yaleB03_P00A+085E-20.pgm',\n",
       " 'yaleB03_P00A+095E+00.pgm',\n",
       " 'yaleB03_P00A+110E+15.pgm',\n",
       " 'yaleB03_P00A+110E+40.pgm',\n",
       " 'yaleB03_P00A+110E+65.pgm',\n",
       " 'yaleB03_P00A+110E-20.pgm',\n",
       " 'yaleB03_P00A+120E+00.pgm',\n",
       " 'yaleB03_P00A+130E+20.pgm',\n",
       " 'yaleB03_P00A-005E+10.pgm',\n",
       " 'yaleB03_P00A-005E-10.pgm',\n",
       " 'yaleB03_P00A-010E+00.pgm',\n",
       " 'yaleB03_P00A-010E-20.pgm',\n",
       " 'yaleB03_P00A-015E+20.pgm',\n",
       " 'yaleB03_P00A-020E+10.pgm',\n",
       " 'yaleB03_P00A-020E-10.pgm',\n",
       " 'yaleB03_P00A-020E-40.pgm',\n",
       " 'yaleB03_P00A-025E+00.pgm',\n",
       " 'yaleB03_P00A-035E+15.pgm',\n",
       " 'yaleB03_P00A-035E+40.pgm',\n",
       " 'yaleB03_P00A-035E+65.pgm',\n",
       " 'yaleB03_P00A-035E-20.pgm',\n",
       " 'yaleB03_P00A-050E+00.pgm',\n",
       " 'yaleB03_P00A-050E-40.pgm',\n",
       " 'yaleB03_P00A-060E+20.pgm',\n",
       " 'yaleB03_P00A-060E-20.pgm',\n",
       " 'yaleB03_P00A-070E+00.pgm',\n",
       " 'yaleB03_P00A-070E+45.pgm',\n",
       " 'yaleB03_P00A-070E-35.pgm',\n",
       " 'yaleB03_P00A-085E+20.pgm',\n",
       " 'yaleB03_P00A-085E-20.pgm',\n",
       " 'yaleB03_P00A-095E+00.pgm',\n",
       " 'yaleB03_P00A-110E+15.pgm',\n",
       " 'yaleB03_P00A-110E+40.pgm',\n",
       " 'yaleB03_P00A-110E+65.pgm',\n",
       " 'yaleB03_P00A-110E-20.pgm',\n",
       " 'yaleB03_P00A-120E+00.pgm',\n",
       " 'yaleB03_P00A-130E+20.pgm',\n",
       " 'yaleB04_P00A+000E+00.pgm',\n",
       " 'yaleB04_P00A+000E+20.pgm',\n",
       " 'yaleB04_P00A+000E+45.pgm',\n",
       " 'yaleB04_P00A+000E+90.pgm',\n",
       " 'yaleB04_P00A+000E-20.pgm',\n",
       " 'yaleB04_P00A+000E-35.pgm',\n",
       " 'yaleB04_P00A+005E+10.pgm',\n",
       " 'yaleB04_P00A+005E-10.pgm',\n",
       " 'yaleB04_P00A+010E+00.pgm',\n",
       " 'yaleB04_P00A+010E-20.pgm',\n",
       " 'yaleB04_P00A+015E+20.pgm',\n",
       " 'yaleB04_P00A+020E+10.pgm',\n",
       " 'yaleB04_P00A+020E-10.pgm',\n",
       " 'yaleB04_P00A+020E-40.pgm',\n",
       " 'yaleB04_P00A+025E+00.pgm',\n",
       " 'yaleB04_P00A+035E+15.pgm',\n",
       " 'yaleB04_P00A+035E+40.pgm',\n",
       " 'yaleB04_P00A+035E+65.pgm',\n",
       " 'yaleB04_P00A+035E-20.pgm',\n",
       " 'yaleB04_P00A+050E+00.pgm',\n",
       " 'yaleB04_P00A+050E-40.pgm',\n",
       " 'yaleB04_P00A+060E+20.pgm',\n",
       " 'yaleB04_P00A+060E-20.pgm',\n",
       " 'yaleB04_P00A+070E+00.pgm',\n",
       " 'yaleB04_P00A+070E+45.pgm',\n",
       " 'yaleB04_P00A+070E-35.pgm',\n",
       " 'yaleB04_P00A+085E+20.pgm',\n",
       " 'yaleB04_P00A+085E-20.pgm',\n",
       " 'yaleB04_P00A+095E+00.pgm',\n",
       " 'yaleB04_P00A+110E+15.pgm',\n",
       " 'yaleB04_P00A+110E+40.pgm',\n",
       " 'yaleB04_P00A+110E+65.pgm',\n",
       " 'yaleB04_P00A+110E-20.pgm',\n",
       " 'yaleB04_P00A+120E+00.pgm',\n",
       " 'yaleB04_P00A+130E+20.pgm',\n",
       " 'yaleB04_P00A-005E+10.pgm',\n",
       " 'yaleB04_P00A-005E-10.pgm',\n",
       " 'yaleB04_P00A-010E+00.pgm',\n",
       " 'yaleB04_P00A-010E-20.pgm',\n",
       " 'yaleB04_P00A-015E+20.pgm',\n",
       " 'yaleB04_P00A-020E+10.pgm',\n",
       " 'yaleB04_P00A-020E-10.pgm',\n",
       " 'yaleB04_P00A-020E-40.pgm',\n",
       " 'yaleB04_P00A-025E+00.pgm',\n",
       " 'yaleB04_P00A-035E+15.pgm',\n",
       " 'yaleB04_P00A-035E+40.pgm',\n",
       " 'yaleB04_P00A-035E+65.pgm',\n",
       " 'yaleB04_P00A-035E-20.pgm',\n",
       " 'yaleB04_P00A-050E+00.pgm',\n",
       " 'yaleB04_P00A-050E-40.pgm',\n",
       " 'yaleB04_P00A-060E+20.pgm',\n",
       " 'yaleB04_P00A-060E-20.pgm',\n",
       " 'yaleB04_P00A-070E+00.pgm',\n",
       " 'yaleB04_P00A-070E+45.pgm',\n",
       " 'yaleB04_P00A-070E-35.pgm',\n",
       " 'yaleB04_P00A-085E+20.pgm',\n",
       " 'yaleB04_P00A-085E-20.pgm',\n",
       " 'yaleB04_P00A-095E+00.pgm',\n",
       " 'yaleB04_P00A-110E+15.pgm',\n",
       " 'yaleB04_P00A-110E+40.pgm',\n",
       " 'yaleB04_P00A-110E+65.pgm',\n",
       " 'yaleB04_P00A-110E-20.pgm',\n",
       " 'yaleB04_P00A-120E+00.pgm',\n",
       " 'yaleB04_P00A-130E+20.pgm',\n",
       " 'yaleB05_P00A+000E+00.pgm',\n",
       " 'yaleB05_P00A+000E+20.pgm',\n",
       " 'yaleB05_P00A+000E+45.pgm',\n",
       " 'yaleB05_P00A+000E+90.pgm',\n",
       " 'yaleB05_P00A+000E-20.pgm',\n",
       " 'yaleB05_P00A+000E-35.pgm',\n",
       " 'yaleB05_P00A+005E+10.pgm',\n",
       " 'yaleB05_P00A+005E-10.pgm',\n",
       " 'yaleB05_P00A+010E+00.pgm',\n",
       " 'yaleB05_P00A+010E-20.pgm',\n",
       " 'yaleB05_P00A+015E+20.pgm',\n",
       " 'yaleB05_P00A+020E+10.pgm',\n",
       " 'yaleB05_P00A+020E-10.pgm',\n",
       " 'yaleB05_P00A+020E-40.pgm',\n",
       " 'yaleB05_P00A+025E+00.pgm',\n",
       " 'yaleB05_P00A+035E+15.pgm',\n",
       " 'yaleB05_P00A+035E+40.pgm',\n",
       " 'yaleB05_P00A+035E+65.pgm',\n",
       " 'yaleB05_P00A+035E-20.pgm',\n",
       " 'yaleB05_P00A+050E+00.pgm',\n",
       " 'yaleB05_P00A+050E-40.pgm',\n",
       " 'yaleB05_P00A+060E+20.pgm',\n",
       " 'yaleB05_P00A+060E-20.pgm',\n",
       " 'yaleB05_P00A+070E+00.pgm',\n",
       " 'yaleB05_P00A+070E+45.pgm',\n",
       " 'yaleB05_P00A+070E-35.pgm',\n",
       " 'yaleB05_P00A+085E+20.pgm',\n",
       " 'yaleB05_P00A+085E-20.pgm',\n",
       " 'yaleB05_P00A+095E+00.pgm',\n",
       " 'yaleB05_P00A+110E+15.pgm',\n",
       " 'yaleB05_P00A+110E+40.pgm',\n",
       " 'yaleB05_P00A+110E+65.pgm',\n",
       " 'yaleB05_P00A+110E-20.pgm',\n",
       " 'yaleB05_P00A+120E+00.pgm',\n",
       " 'yaleB05_P00A+130E+20.pgm',\n",
       " 'yaleB05_P00A-005E+10.pgm',\n",
       " 'yaleB05_P00A-005E-10.pgm',\n",
       " 'yaleB05_P00A-010E+00.pgm',\n",
       " 'yaleB05_P00A-010E-20.pgm',\n",
       " 'yaleB05_P00A-015E+20.pgm',\n",
       " 'yaleB05_P00A-020E+10.pgm',\n",
       " 'yaleB05_P00A-020E-10.pgm',\n",
       " 'yaleB05_P00A-020E-40.pgm',\n",
       " 'yaleB05_P00A-025E+00.pgm',\n",
       " 'yaleB05_P00A-035E+15.pgm',\n",
       " 'yaleB05_P00A-035E+40.pgm',\n",
       " 'yaleB05_P00A-035E+65.pgm',\n",
       " 'yaleB05_P00A-035E-20.pgm',\n",
       " 'yaleB05_P00A-050E+00.pgm',\n",
       " 'yaleB05_P00A-050E-40.pgm',\n",
       " 'yaleB05_P00A-060E+20.pgm',\n",
       " 'yaleB05_P00A-060E-20.pgm',\n",
       " 'yaleB05_P00A-070E+00.pgm',\n",
       " 'yaleB05_P00A-070E+45.pgm',\n",
       " 'yaleB05_P00A-070E-35.pgm',\n",
       " 'yaleB05_P00A-085E+20.pgm',\n",
       " 'yaleB05_P00A-085E-20.pgm',\n",
       " 'yaleB05_P00A-095E+00.pgm',\n",
       " 'yaleB05_P00A-110E+15.pgm',\n",
       " 'yaleB05_P00A-110E+40.pgm',\n",
       " 'yaleB05_P00A-110E+65.pgm',\n",
       " 'yaleB05_P00A-110E-20.pgm',\n",
       " 'yaleB05_P00A-120E+00.pgm',\n",
       " 'yaleB05_P00A-130E+20.pgm',\n",
       " 'yaleB06_P00A+000E+00.pgm',\n",
       " 'yaleB06_P00A+000E+20.pgm',\n",
       " 'yaleB06_P00A+000E+45.pgm',\n",
       " 'yaleB06_P00A+000E+90.pgm',\n",
       " 'yaleB06_P00A+000E-20.pgm',\n",
       " 'yaleB06_P00A+000E-35.pgm',\n",
       " 'yaleB06_P00A+005E+10.pgm',\n",
       " 'yaleB06_P00A+005E-10.pgm',\n",
       " 'yaleB06_P00A+010E+00.pgm',\n",
       " 'yaleB06_P00A+010E-20.pgm',\n",
       " 'yaleB06_P00A+015E+20.pgm',\n",
       " 'yaleB06_P00A+020E+10.pgm',\n",
       " 'yaleB06_P00A+020E-10.pgm',\n",
       " 'yaleB06_P00A+020E-40.pgm',\n",
       " 'yaleB06_P00A+025E+00.pgm',\n",
       " 'yaleB06_P00A+035E+15.pgm',\n",
       " 'yaleB06_P00A+035E+40.pgm',\n",
       " 'yaleB06_P00A+035E+65.pgm',\n",
       " 'yaleB06_P00A+035E-20.pgm',\n",
       " 'yaleB06_P00A+050E+00.pgm',\n",
       " 'yaleB06_P00A+050E-40.pgm',\n",
       " 'yaleB06_P00A+060E+20.pgm',\n",
       " 'yaleB06_P00A+060E-20.pgm',\n",
       " 'yaleB06_P00A+070E+00.pgm',\n",
       " 'yaleB06_P00A+070E+45.pgm',\n",
       " 'yaleB06_P00A+070E-35.pgm',\n",
       " 'yaleB06_P00A+085E+20.pgm',\n",
       " 'yaleB06_P00A+085E-20.pgm',\n",
       " 'yaleB06_P00A+095E+00.pgm',\n",
       " 'yaleB06_P00A+110E+15.pgm',\n",
       " 'yaleB06_P00A+110E+40.pgm',\n",
       " 'yaleB06_P00A+110E+65.pgm',\n",
       " 'yaleB06_P00A+110E-20.pgm',\n",
       " 'yaleB06_P00A+120E+00.pgm',\n",
       " 'yaleB06_P00A+130E+20.pgm',\n",
       " 'yaleB06_P00A-005E+10.pgm',\n",
       " 'yaleB06_P00A-005E-10.pgm',\n",
       " 'yaleB06_P00A-010E+00.pgm',\n",
       " 'yaleB06_P00A-010E-20.pgm',\n",
       " 'yaleB06_P00A-015E+20.pgm',\n",
       " 'yaleB06_P00A-020E+10.pgm',\n",
       " 'yaleB06_P00A-020E-10.pgm',\n",
       " 'yaleB06_P00A-020E-40.pgm',\n",
       " 'yaleB06_P00A-025E+00.pgm',\n",
       " 'yaleB06_P00A-035E+15.pgm',\n",
       " 'yaleB06_P00A-035E+40.pgm',\n",
       " 'yaleB06_P00A-035E+65.pgm',\n",
       " 'yaleB06_P00A-035E-20.pgm',\n",
       " 'yaleB06_P00A-050E+00.pgm',\n",
       " 'yaleB06_P00A-050E-40.pgm',\n",
       " 'yaleB06_P00A-060E+20.pgm',\n",
       " 'yaleB06_P00A-060E-20.pgm',\n",
       " 'yaleB06_P00A-070E+00.pgm',\n",
       " 'yaleB06_P00A-070E+45.pgm',\n",
       " 'yaleB06_P00A-070E-35.pgm',\n",
       " 'yaleB06_P00A-085E+20.pgm',\n",
       " 'yaleB06_P00A-085E-20.pgm',\n",
       " 'yaleB06_P00A-095E+00.pgm',\n",
       " 'yaleB06_P00A-110E+15.pgm',\n",
       " 'yaleB06_P00A-110E+40.pgm',\n",
       " 'yaleB06_P00A-110E+65.pgm',\n",
       " 'yaleB06_P00A-110E-20.pgm',\n",
       " 'yaleB06_P00A-120E+00.pgm',\n",
       " 'yaleB06_P00A-130E+20.pgm',\n",
       " 'yaleB07_P00A+000E+00.pgm',\n",
       " 'yaleB07_P00A+000E+20.pgm',\n",
       " 'yaleB07_P00A+000E+45.pgm',\n",
       " 'yaleB07_P00A+000E+90.pgm',\n",
       " 'yaleB07_P00A+000E-20.pgm',\n",
       " 'yaleB07_P00A+000E-35.pgm',\n",
       " 'yaleB07_P00A+005E+10.pgm',\n",
       " 'yaleB07_P00A+005E-10.pgm',\n",
       " 'yaleB07_P00A+010E+00.pgm',\n",
       " 'yaleB07_P00A+010E-20.pgm',\n",
       " 'yaleB07_P00A+015E+20.pgm',\n",
       " 'yaleB07_P00A+020E+10.pgm',\n",
       " 'yaleB07_P00A+020E-10.pgm',\n",
       " 'yaleB07_P00A+020E-40.pgm',\n",
       " 'yaleB07_P00A+025E+00.pgm',\n",
       " 'yaleB07_P00A+035E+15.pgm',\n",
       " 'yaleB07_P00A+035E+40.pgm',\n",
       " 'yaleB07_P00A+035E+65.pgm',\n",
       " 'yaleB07_P00A+035E-20.pgm',\n",
       " 'yaleB07_P00A+050E+00.pgm',\n",
       " 'yaleB07_P00A+050E-40.pgm',\n",
       " 'yaleB07_P00A+060E+20.pgm',\n",
       " 'yaleB07_P00A+060E-20.pgm',\n",
       " 'yaleB07_P00A+070E+00.pgm',\n",
       " 'yaleB07_P00A+070E+45.pgm',\n",
       " 'yaleB07_P00A+070E-35.pgm',\n",
       " 'yaleB07_P00A+085E+20.pgm',\n",
       " 'yaleB07_P00A+085E-20.pgm',\n",
       " 'yaleB07_P00A+095E+00.pgm',\n",
       " 'yaleB07_P00A+110E+15.pgm',\n",
       " 'yaleB07_P00A+110E+40.pgm',\n",
       " 'yaleB07_P00A+110E+65.pgm',\n",
       " 'yaleB07_P00A+110E-20.pgm',\n",
       " 'yaleB07_P00A+120E+00.pgm',\n",
       " 'yaleB07_P00A+130E+20.pgm',\n",
       " 'yaleB07_P00A-005E+10.pgm',\n",
       " 'yaleB07_P00A-005E-10.pgm',\n",
       " 'yaleB07_P00A-010E+00.pgm',\n",
       " 'yaleB07_P00A-010E-20.pgm',\n",
       " 'yaleB07_P00A-015E+20.pgm',\n",
       " 'yaleB07_P00A-020E+10.pgm',\n",
       " 'yaleB07_P00A-020E-10.pgm',\n",
       " 'yaleB07_P00A-020E-40.pgm',\n",
       " 'yaleB07_P00A-025E+00.pgm',\n",
       " 'yaleB07_P00A-035E+15.pgm',\n",
       " 'yaleB07_P00A-035E+40.pgm',\n",
       " 'yaleB07_P00A-035E+65.pgm',\n",
       " 'yaleB07_P00A-035E-20.pgm',\n",
       " 'yaleB07_P00A-050E+00.pgm',\n",
       " 'yaleB07_P00A-050E-40.pgm',\n",
       " 'yaleB07_P00A-060E+20.pgm',\n",
       " 'yaleB07_P00A-060E-20.pgm',\n",
       " 'yaleB07_P00A-070E+00.pgm',\n",
       " 'yaleB07_P00A-070E+45.pgm',\n",
       " 'yaleB07_P00A-070E-35.pgm',\n",
       " 'yaleB07_P00A-085E+20.pgm',\n",
       " 'yaleB07_P00A-085E-20.pgm',\n",
       " 'yaleB07_P00A-095E+00.pgm',\n",
       " 'yaleB07_P00A-110E+15.pgm',\n",
       " 'yaleB07_P00A-110E+40.pgm',\n",
       " 'yaleB07_P00A-110E+65.pgm',\n",
       " 'yaleB07_P00A-110E-20.pgm',\n",
       " 'yaleB07_P00A-120E+00.pgm',\n",
       " 'yaleB07_P00A-130E+20.pgm',\n",
       " 'yaleB08_P00A+000E+00.pgm',\n",
       " 'yaleB08_P00A+000E+20.pgm',\n",
       " 'yaleB08_P00A+000E+45.pgm',\n",
       " 'yaleB08_P00A+000E+90.pgm',\n",
       " 'yaleB08_P00A+000E-20.pgm',\n",
       " 'yaleB08_P00A+000E-35.pgm',\n",
       " 'yaleB08_P00A+005E+10.pgm',\n",
       " 'yaleB08_P00A+005E-10.pgm',\n",
       " 'yaleB08_P00A+010E+00.pgm',\n",
       " 'yaleB08_P00A+010E-20.pgm',\n",
       " 'yaleB08_P00A+015E+20.pgm',\n",
       " 'yaleB08_P00A+020E+10.pgm',\n",
       " 'yaleB08_P00A+020E-10.pgm',\n",
       " 'yaleB08_P00A+020E-40.pgm',\n",
       " 'yaleB08_P00A+025E+00.pgm',\n",
       " 'yaleB08_P00A+035E+15.pgm',\n",
       " 'yaleB08_P00A+035E+40.pgm',\n",
       " 'yaleB08_P00A+035E+65.pgm',\n",
       " 'yaleB08_P00A+035E-20.pgm',\n",
       " 'yaleB08_P00A+050E+00.pgm',\n",
       " 'yaleB08_P00A+050E-40.pgm',\n",
       " 'yaleB08_P00A+060E+20.pgm',\n",
       " 'yaleB08_P00A+060E-20.pgm',\n",
       " 'yaleB08_P00A+070E+00.pgm',\n",
       " 'yaleB08_P00A+070E+45.pgm',\n",
       " 'yaleB08_P00A+070E-35.pgm',\n",
       " 'yaleB08_P00A+085E+20.pgm',\n",
       " 'yaleB08_P00A+085E-20.pgm',\n",
       " 'yaleB08_P00A+095E+00.pgm',\n",
       " 'yaleB08_P00A+110E+15.pgm',\n",
       " 'yaleB08_P00A+110E+40.pgm',\n",
       " 'yaleB08_P00A+110E+65.pgm',\n",
       " 'yaleB08_P00A+110E-20.pgm',\n",
       " 'yaleB08_P00A+120E+00.pgm',\n",
       " 'yaleB08_P00A+130E+20.pgm',\n",
       " 'yaleB08_P00A-005E+10.pgm',\n",
       " 'yaleB08_P00A-005E-10.pgm',\n",
       " 'yaleB08_P00A-010E+00.pgm',\n",
       " 'yaleB08_P00A-010E-20.pgm',\n",
       " 'yaleB08_P00A-015E+20.pgm',\n",
       " 'yaleB08_P00A-020E+10.pgm',\n",
       " 'yaleB08_P00A-020E-10.pgm',\n",
       " 'yaleB08_P00A-020E-40.pgm',\n",
       " 'yaleB08_P00A-025E+00.pgm',\n",
       " 'yaleB08_P00A-035E+15.pgm',\n",
       " 'yaleB08_P00A-035E+40.pgm',\n",
       " 'yaleB08_P00A-035E+65.pgm',\n",
       " 'yaleB08_P00A-035E-20.pgm',\n",
       " 'yaleB08_P00A-050E+00.pgm',\n",
       " 'yaleB08_P00A-050E-40.pgm',\n",
       " 'yaleB08_P00A-060E+20.pgm',\n",
       " 'yaleB08_P00A-060E-20.pgm',\n",
       " 'yaleB08_P00A-070E+00.pgm',\n",
       " 'yaleB08_P00A-070E+45.pgm',\n",
       " 'yaleB08_P00A-070E-35.pgm',\n",
       " 'yaleB08_P00A-085E+20.pgm',\n",
       " 'yaleB08_P00A-085E-20.pgm',\n",
       " 'yaleB08_P00A-095E+00.pgm',\n",
       " 'yaleB08_P00A-110E+15.pgm',\n",
       " 'yaleB08_P00A-110E+40.pgm',\n",
       " 'yaleB08_P00A-110E+65.pgm',\n",
       " 'yaleB08_P00A-110E-20.pgm',\n",
       " 'yaleB08_P00A-120E+00.pgm',\n",
       " 'yaleB08_P00A-130E+20.pgm',\n",
       " 'yaleB09_P00A+000E+00.pgm',\n",
       " 'yaleB09_P00A+000E+20.pgm',\n",
       " 'yaleB09_P00A+000E+45.pgm',\n",
       " 'yaleB09_P00A+000E+90.pgm',\n",
       " 'yaleB09_P00A+000E-20.pgm',\n",
       " 'yaleB09_P00A+000E-35.pgm',\n",
       " 'yaleB09_P00A+005E+10.pgm',\n",
       " 'yaleB09_P00A+005E-10.pgm',\n",
       " 'yaleB09_P00A+010E+00.pgm',\n",
       " 'yaleB09_P00A+010E-20.pgm',\n",
       " 'yaleB09_P00A+015E+20.pgm',\n",
       " 'yaleB09_P00A+020E+10.pgm',\n",
       " 'yaleB09_P00A+020E-10.pgm',\n",
       " 'yaleB09_P00A+020E-40.pgm',\n",
       " 'yaleB09_P00A+025E+00.pgm',\n",
       " 'yaleB09_P00A+035E+15.pgm',\n",
       " 'yaleB09_P00A+035E+40.pgm',\n",
       " 'yaleB09_P00A+035E+65.pgm',\n",
       " 'yaleB09_P00A+035E-20.pgm',\n",
       " 'yaleB09_P00A+050E+00.pgm',\n",
       " 'yaleB09_P00A+050E-40.pgm',\n",
       " 'yaleB09_P00A+060E+20.pgm',\n",
       " 'yaleB09_P00A+060E-20.pgm',\n",
       " 'yaleB09_P00A+070E+00.pgm',\n",
       " 'yaleB09_P00A+070E+45.pgm',\n",
       " 'yaleB09_P00A+070E-35.pgm',\n",
       " 'yaleB09_P00A+085E+20.pgm',\n",
       " 'yaleB09_P00A+085E-20.pgm',\n",
       " 'yaleB09_P00A+095E+00.pgm',\n",
       " 'yaleB09_P00A+110E+15.pgm',\n",
       " 'yaleB09_P00A+110E+40.pgm',\n",
       " 'yaleB09_P00A+110E+65.pgm',\n",
       " 'yaleB09_P00A+110E-20.pgm',\n",
       " 'yaleB09_P00A+120E+00.pgm',\n",
       " 'yaleB09_P00A+130E+20.pgm',\n",
       " 'yaleB09_P00A-005E+10.pgm',\n",
       " 'yaleB09_P00A-005E-10.pgm',\n",
       " 'yaleB09_P00A-010E+00.pgm',\n",
       " 'yaleB09_P00A-010E-20.pgm',\n",
       " 'yaleB09_P00A-015E+20.pgm',\n",
       " 'yaleB09_P00A-020E+10.pgm',\n",
       " 'yaleB09_P00A-020E-10.pgm',\n",
       " 'yaleB09_P00A-020E-40.pgm',\n",
       " 'yaleB09_P00A-025E+00.pgm',\n",
       " 'yaleB09_P00A-035E+15.pgm',\n",
       " 'yaleB09_P00A-035E+40.pgm',\n",
       " 'yaleB09_P00A-035E+65.pgm',\n",
       " 'yaleB09_P00A-035E-20.pgm',\n",
       " 'yaleB09_P00A-050E+00.pgm',\n",
       " 'yaleB09_P00A-050E-40.pgm',\n",
       " 'yaleB09_P00A-060E+20.pgm',\n",
       " 'yaleB09_P00A-060E-20.pgm',\n",
       " 'yaleB09_P00A-070E+00.pgm',\n",
       " 'yaleB09_P00A-070E+45.pgm',\n",
       " 'yaleB09_P00A-070E-35.pgm',\n",
       " 'yaleB09_P00A-085E+20.pgm',\n",
       " 'yaleB09_P00A-085E-20.pgm',\n",
       " 'yaleB09_P00A-095E+00.pgm',\n",
       " 'yaleB09_P00A-110E+15.pgm',\n",
       " 'yaleB09_P00A-110E+40.pgm',\n",
       " 'yaleB09_P00A-110E+65.pgm',\n",
       " 'yaleB09_P00A-110E-20.pgm',\n",
       " 'yaleB09_P00A-120E+00.pgm',\n",
       " 'yaleB09_P00A-130E+20.pgm',\n",
       " 'yaleB10_P00A+000E+00.pgm',\n",
       " 'yaleB10_P00A+000E+20.pgm',\n",
       " 'yaleB10_P00A+000E+45.pgm',\n",
       " 'yaleB10_P00A+000E+90.pgm',\n",
       " 'yaleB10_P00A+000E-20.pgm',\n",
       " 'yaleB10_P00A+000E-35.pgm',\n",
       " 'yaleB10_P00A+005E+10.pgm',\n",
       " 'yaleB10_P00A+005E-10.pgm',\n",
       " 'yaleB10_P00A+010E+00.pgm',\n",
       " 'yaleB10_P00A+010E-20.pgm',\n",
       " 'yaleB10_P00A+015E+20.pgm',\n",
       " 'yaleB10_P00A+020E+10.pgm',\n",
       " 'yaleB10_P00A+020E-10.pgm',\n",
       " 'yaleB10_P00A+020E-40.pgm',\n",
       " 'yaleB10_P00A+025E+00.pgm',\n",
       " 'yaleB10_P00A+035E+15.pgm',\n",
       " 'yaleB10_P00A+035E+40.pgm',\n",
       " 'yaleB10_P00A+035E+65.pgm',\n",
       " 'yaleB10_P00A+035E-20.pgm',\n",
       " 'yaleB10_P00A+050E+00.pgm',\n",
       " 'yaleB10_P00A+050E-40.pgm',\n",
       " 'yaleB10_P00A+060E+20.pgm',\n",
       " 'yaleB10_P00A+060E-20.pgm',\n",
       " 'yaleB10_P00A+070E+00.pgm',\n",
       " 'yaleB10_P00A+070E+45.pgm',\n",
       " 'yaleB10_P00A+070E-35.pgm',\n",
       " 'yaleB10_P00A+085E+20.pgm',\n",
       " 'yaleB10_P00A+085E-20.pgm',\n",
       " 'yaleB10_P00A+095E+00.pgm',\n",
       " 'yaleB10_P00A+110E+15.pgm',\n",
       " 'yaleB10_P00A+110E+40.pgm',\n",
       " 'yaleB10_P00A+110E+65.pgm',\n",
       " 'yaleB10_P00A+110E-20.pgm',\n",
       " 'yaleB10_P00A+120E+00.pgm',\n",
       " 'yaleB10_P00A+130E+20.pgm',\n",
       " 'yaleB10_P00A-005E+10.pgm',\n",
       " 'yaleB10_P00A-005E-10.pgm',\n",
       " 'yaleB10_P00A-010E+00.pgm',\n",
       " 'yaleB10_P00A-010E-20.pgm',\n",
       " 'yaleB10_P00A-015E+20.pgm',\n",
       " 'yaleB10_P00A-020E+10.pgm',\n",
       " 'yaleB10_P00A-020E-10.pgm',\n",
       " 'yaleB10_P00A-020E-40.pgm',\n",
       " 'yaleB10_P00A-025E+00.pgm',\n",
       " 'yaleB10_P00A-035E+15.pgm',\n",
       " 'yaleB10_P00A-035E+40.pgm',\n",
       " 'yaleB10_P00A-035E+65.pgm',\n",
       " 'yaleB10_P00A-035E-20.pgm',\n",
       " 'yaleB10_P00A-050E+00.pgm',\n",
       " 'yaleB10_P00A-050E-40.pgm',\n",
       " 'yaleB10_P00A-060E+20.pgm',\n",
       " 'yaleB10_P00A-060E-20.pgm',\n",
       " 'yaleB10_P00A-070E+00.pgm',\n",
       " 'yaleB10_P00A-070E+45.pgm',\n",
       " 'yaleB10_P00A-070E-35.pgm',\n",
       " 'yaleB10_P00A-085E+20.pgm',\n",
       " 'yaleB10_P00A-085E-20.pgm',\n",
       " 'yaleB10_P00A-095E+00.pgm',\n",
       " 'yaleB10_P00A-110E+15.pgm',\n",
       " 'yaleB10_P00A-110E+40.pgm',\n",
       " 'yaleB10_P00A-110E+65.pgm',\n",
       " 'yaleB10_P00A-110E-20.pgm',\n",
       " 'yaleB10_P00A-120E+00.pgm',\n",
       " 'yaleB10_P00A-130E+20.pgm',\n",
       " 'yaleB11_P00A+000E+00.pgm',\n",
       " 'yaleB11_P00A+000E+20.pgm',\n",
       " 'yaleB11_P00A+000E+45.pgm',\n",
       " 'yaleB11_P00A+000E+90.pgm',\n",
       " 'yaleB11_P00A+000E-20.pgm',\n",
       " 'yaleB11_P00A+000E-35.pgm',\n",
       " 'yaleB11_P00A+005E+10.pgm',\n",
       " 'yaleB11_P00A+005E-10.pgm',\n",
       " 'yaleB11_P00A+010E+00.pgm',\n",
       " 'yaleB11_P00A+010E-20.pgm',\n",
       " 'yaleB11_P00A+015E+20.pgm',\n",
       " 'yaleB11_P00A+020E+10.pgm',\n",
       " 'yaleB11_P00A+020E-10.pgm',\n",
       " 'yaleB11_P00A+020E-40.pgm',\n",
       " 'yaleB11_P00A+025E+00.pgm',\n",
       " 'yaleB11_P00A+035E+15.pgm',\n",
       " 'yaleB11_P00A+035E+40.pgm',\n",
       " 'yaleB11_P00A+035E+65.pgm',\n",
       " 'yaleB11_P00A+035E-20.pgm',\n",
       " 'yaleB11_P00A+050E+00.pgm',\n",
       " 'yaleB11_P00A+060E+20.pgm',\n",
       " 'yaleB11_P00A+060E-20.pgm',\n",
       " 'yaleB11_P00A+070E+00.pgm',\n",
       " 'yaleB11_P00A+070E+45.pgm',\n",
       " 'yaleB11_P00A+070E-35.pgm',\n",
       " 'yaleB11_P00A+085E+20.pgm',\n",
       " 'yaleB11_P00A+085E-20.pgm',\n",
       " 'yaleB11_P00A+110E+15.pgm',\n",
       " 'yaleB11_P00A+110E+40.pgm',\n",
       " 'yaleB11_P00A+110E+65.pgm',\n",
       " 'yaleB11_P00A+110E-20.pgm',\n",
       " 'yaleB11_P00A+120E+00.pgm',\n",
       " 'yaleB11_P00A+130E+20.pgm',\n",
       " 'yaleB11_P00A-005E+10.pgm',\n",
       " 'yaleB11_P00A-005E-10.pgm',\n",
       " 'yaleB11_P00A-010E+00.pgm',\n",
       " 'yaleB11_P00A-010E-20.pgm',\n",
       " 'yaleB11_P00A-015E+20.pgm',\n",
       " 'yaleB11_P00A-020E+10.pgm',\n",
       " 'yaleB11_P00A-020E-10.pgm',\n",
       " 'yaleB11_P00A-020E-40.pgm',\n",
       " 'yaleB11_P00A-025E+00.pgm',\n",
       " 'yaleB11_P00A-035E+15.pgm',\n",
       " 'yaleB11_P00A-035E+40.pgm',\n",
       " 'yaleB11_P00A-035E+65.pgm',\n",
       " 'yaleB11_P00A-035E-20.pgm',\n",
       " 'yaleB11_P00A-050E+00.pgm',\n",
       " 'yaleB11_P00A-060E+20.pgm',\n",
       " 'yaleB11_P00A-060E-20.pgm',\n",
       " 'yaleB11_P00A-070E+00.pgm',\n",
       " 'yaleB11_P00A-070E+45.pgm',\n",
       " 'yaleB11_P00A-070E-35.pgm',\n",
       " 'yaleB11_P00A-085E+20.pgm',\n",
       " 'yaleB11_P00A-085E-20.pgm',\n",
       " 'yaleB11_P00A-095E+00.pgm',\n",
       " 'yaleB11_P00A-110E+40.pgm',\n",
       " 'yaleB11_P00A-110E+65.pgm',\n",
       " 'yaleB11_P00A-110E-20.pgm',\n",
       " 'yaleB11_P00A-120E+00.pgm',\n",
       " 'yaleB11_P00A-130E+20.pgm',\n",
       " 'yaleB12_P00A+000E+00.pgm',\n",
       " 'yaleB12_P00A+000E+20.pgm',\n",
       " 'yaleB12_P00A+000E+45.pgm',\n",
       " 'yaleB12_P00A+000E+90.pgm',\n",
       " 'yaleB12_P00A+000E-20.pgm',\n",
       " 'yaleB12_P00A+000E-35.pgm',\n",
       " 'yaleB12_P00A+005E+10.pgm',\n",
       " 'yaleB12_P00A+005E-10.pgm',\n",
       " 'yaleB12_P00A+010E+00.pgm',\n",
       " 'yaleB12_P00A+010E-20.pgm',\n",
       " 'yaleB12_P00A+015E+20.pgm',\n",
       " 'yaleB12_P00A+020E+10.pgm',\n",
       " 'yaleB12_P00A+020E-10.pgm',\n",
       " 'yaleB12_P00A+020E-40.pgm',\n",
       " 'yaleB12_P00A+025E+00.pgm',\n",
       " 'yaleB12_P00A+035E+15.pgm',\n",
       " 'yaleB12_P00A+035E+40.pgm',\n",
       " 'yaleB12_P00A+035E+65.pgm',\n",
       " 'yaleB12_P00A+035E-20.pgm',\n",
       " 'yaleB12_P00A+050E+00.pgm',\n",
       " 'yaleB12_P00A+060E+20.pgm',\n",
       " 'yaleB12_P00A+060E-20.pgm',\n",
       " 'yaleB12_P00A+070E+00.pgm',\n",
       " 'yaleB12_P00A+070E+45.pgm',\n",
       " 'yaleB12_P00A+070E-35.pgm',\n",
       " 'yaleB12_P00A+085E+20.pgm',\n",
       " 'yaleB12_P00A+085E-20.pgm',\n",
       " 'yaleB12_P00A+110E+15.pgm',\n",
       " 'yaleB12_P00A+110E+40.pgm',\n",
       " 'yaleB12_P00A+110E+65.pgm',\n",
       " 'yaleB12_P00A+110E-20.pgm',\n",
       " 'yaleB12_P00A+120E+00.pgm',\n",
       " 'yaleB12_P00A+130E+20.pgm',\n",
       " 'yaleB12_P00A-005E+10.pgm',\n",
       " 'yaleB12_P00A-005E-10.pgm',\n",
       " 'yaleB12_P00A-010E+00.pgm',\n",
       " 'yaleB12_P00A-010E-20.pgm',\n",
       " 'yaleB12_P00A-015E+20.pgm',\n",
       " 'yaleB12_P00A-020E+10.pgm',\n",
       " 'yaleB12_P00A-020E-10.pgm',\n",
       " 'yaleB12_P00A-020E-40.pgm',\n",
       " 'yaleB12_P00A-025E+00.pgm',\n",
       " 'yaleB12_P00A-035E+15.pgm',\n",
       " 'yaleB12_P00A-035E+40.pgm',\n",
       " 'yaleB12_P00A-035E+65.pgm',\n",
       " 'yaleB12_P00A-035E-20.pgm',\n",
       " 'yaleB12_P00A-050E+00.pgm',\n",
       " 'yaleB12_P00A-060E+20.pgm',\n",
       " 'yaleB12_P00A-060E-20.pgm',\n",
       " 'yaleB12_P00A-070E+00.pgm',\n",
       " 'yaleB12_P00A-070E+45.pgm',\n",
       " 'yaleB12_P00A-070E-35.pgm',\n",
       " 'yaleB12_P00A-085E+20.pgm',\n",
       " 'yaleB12_P00A-085E-20.pgm',\n",
       " 'yaleB12_P00A-095E+00.pgm',\n",
       " 'yaleB12_P00A-110E+40.pgm',\n",
       " 'yaleB12_P00A-110E+65.pgm',\n",
       " 'yaleB12_P00A-120E+00.pgm',\n",
       " 'yaleB12_P00A-130E+20.pgm',\n",
       " 'yaleB13_P00A+000E+00.pgm',\n",
       " 'yaleB13_P00A+000E+20.pgm',\n",
       " 'yaleB13_P00A+000E+45.pgm',\n",
       " 'yaleB13_P00A+000E+90.pgm',\n",
       " 'yaleB13_P00A+000E-20.pgm',\n",
       " 'yaleB13_P00A+000E-35.pgm',\n",
       " 'yaleB13_P00A+005E+10.pgm',\n",
       " 'yaleB13_P00A+005E-10.pgm',\n",
       " 'yaleB13_P00A+010E+00.pgm',\n",
       " 'yaleB13_P00A+010E-20.pgm',\n",
       " 'yaleB13_P00A+015E+20.pgm',\n",
       " 'yaleB13_P00A+020E+10.pgm',\n",
       " 'yaleB13_P00A+020E-10.pgm',\n",
       " 'yaleB13_P00A+020E-40.pgm',\n",
       " 'yaleB13_P00A+025E+00.pgm',\n",
       " 'yaleB13_P00A+035E+15.pgm',\n",
       " 'yaleB13_P00A+035E+40.pgm',\n",
       " 'yaleB13_P00A+035E+65.pgm',\n",
       " 'yaleB13_P00A+035E-20.pgm',\n",
       " 'yaleB13_P00A+050E+00.pgm',\n",
       " 'yaleB13_P00A+060E+20.pgm',\n",
       " 'yaleB13_P00A+060E-20.pgm',\n",
       " 'yaleB13_P00A+070E+00.pgm',\n",
       " 'yaleB13_P00A+070E+45.pgm',\n",
       " 'yaleB13_P00A+070E-35.pgm',\n",
       " 'yaleB13_P00A+085E+20.pgm',\n",
       " 'yaleB13_P00A+085E-20.pgm',\n",
       " 'yaleB13_P00A+110E+15.pgm',\n",
       " 'yaleB13_P00A+110E+40.pgm',\n",
       " 'yaleB13_P00A+110E+65.pgm',\n",
       " 'yaleB13_P00A+110E-20.pgm',\n",
       " 'yaleB13_P00A+120E+00.pgm',\n",
       " 'yaleB13_P00A+130E+20.pgm',\n",
       " 'yaleB13_P00A-005E+10.pgm',\n",
       " 'yaleB13_P00A-005E-10.pgm',\n",
       " 'yaleB13_P00A-010E+00.pgm',\n",
       " 'yaleB13_P00A-010E-20.pgm',\n",
       " 'yaleB13_P00A-015E+20.pgm',\n",
       " 'yaleB13_P00A-020E+10.pgm',\n",
       " 'yaleB13_P00A-020E-10.pgm',\n",
       " 'yaleB13_P00A-020E-40.pgm',\n",
       " 'yaleB13_P00A-025E+00.pgm',\n",
       " 'yaleB13_P00A-035E+15.pgm',\n",
       " 'yaleB13_P00A-035E+40.pgm',\n",
       " 'yaleB13_P00A-035E+65.pgm',\n",
       " 'yaleB13_P00A-035E-20.pgm',\n",
       " 'yaleB13_P00A-050E+00.pgm',\n",
       " 'yaleB13_P00A-060E+20.pgm',\n",
       " 'yaleB13_P00A-060E-20.pgm',\n",
       " 'yaleB13_P00A-070E+00.pgm',\n",
       " 'yaleB13_P00A-070E+45.pgm',\n",
       " 'yaleB13_P00A-070E-35.pgm',\n",
       " 'yaleB13_P00A-085E+20.pgm',\n",
       " 'yaleB13_P00A-085E-20.pgm',\n",
       " 'yaleB13_P00A-095E+00.pgm',\n",
       " 'yaleB13_P00A-110E+40.pgm',\n",
       " 'yaleB13_P00A-110E+65.pgm',\n",
       " 'yaleB13_P00A-110E-20.pgm',\n",
       " 'yaleB13_P00A-120E+00.pgm',\n",
       " 'yaleB13_P00A-130E+20.pgm',\n",
       " 'yaleB15_P00A+000E+00.pgm',\n",
       " 'yaleB15_P00A+000E+20.pgm',\n",
       " 'yaleB15_P00A+000E+45.pgm',\n",
       " 'yaleB15_P00A+000E+90.pgm',\n",
       " 'yaleB15_P00A+000E-20.pgm',\n",
       " 'yaleB15_P00A+000E-35.pgm',\n",
       " 'yaleB15_P00A+005E+10.pgm',\n",
       " 'yaleB15_P00A+005E-10.pgm',\n",
       " 'yaleB15_P00A+010E+00.pgm',\n",
       " 'yaleB15_P00A+010E-20.pgm',\n",
       " 'yaleB15_P00A+015E+20.pgm',\n",
       " 'yaleB15_P00A+020E+10.pgm',\n",
       " 'yaleB15_P00A+020E-10.pgm',\n",
       " 'yaleB15_P00A+020E-40.pgm',\n",
       " 'yaleB15_P00A+025E+00.pgm',\n",
       " 'yaleB15_P00A+035E+15.pgm',\n",
       " 'yaleB15_P00A+035E+40.pgm',\n",
       " 'yaleB15_P00A+035E+65.pgm',\n",
       " 'yaleB15_P00A+035E-20.pgm',\n",
       " 'yaleB15_P00A+050E+00.pgm',\n",
       " 'yaleB15_P00A+050E-40.pgm',\n",
       " 'yaleB15_P00A+060E+20.pgm',\n",
       " 'yaleB15_P00A+060E-20.pgm',\n",
       " 'yaleB15_P00A+070E+00.pgm',\n",
       " 'yaleB15_P00A+070E+45.pgm',\n",
       " 'yaleB15_P00A+070E-35.pgm',\n",
       " 'yaleB15_P00A+085E+20.pgm',\n",
       " 'yaleB15_P00A+085E-20.pgm',\n",
       " 'yaleB15_P00A+095E+00.pgm',\n",
       " 'yaleB15_P00A+110E+15.pgm',\n",
       " 'yaleB15_P00A+110E+40.pgm',\n",
       " 'yaleB15_P00A+110E+65.pgm',\n",
       " 'yaleB15_P00A+110E-20.pgm',\n",
       " 'yaleB15_P00A+120E+00.pgm',\n",
       " 'yaleB15_P00A+130E+20.pgm',\n",
       " 'yaleB15_P00A-005E+10.pgm',\n",
       " 'yaleB15_P00A-005E-10.pgm',\n",
       " 'yaleB15_P00A-010E+00.pgm',\n",
       " 'yaleB15_P00A-010E-20.pgm',\n",
       " 'yaleB15_P00A-015E+20.pgm',\n",
       " 'yaleB15_P00A-020E+10.pgm',\n",
       " 'yaleB15_P00A-020E-10.pgm',\n",
       " 'yaleB15_P00A-020E-40.pgm',\n",
       " 'yaleB15_P00A-025E+00.pgm',\n",
       " 'yaleB15_P00A-035E+15.pgm',\n",
       " 'yaleB15_P00A-035E+65.pgm',\n",
       " 'yaleB15_P00A-035E-20.pgm',\n",
       " 'yaleB15_P00A-050E+00.pgm',\n",
       " 'yaleB15_P00A-050E-40.pgm',\n",
       " 'yaleB15_P00A-060E+20.pgm',\n",
       " 'yaleB15_P00A-060E-20.pgm',\n",
       " 'yaleB15_P00A-070E+00.pgm',\n",
       " 'yaleB15_P00A-070E+45.pgm',\n",
       " 'yaleB15_P00A-070E-35.pgm',\n",
       " 'yaleB15_P00A-085E+20.pgm',\n",
       " 'yaleB15_P00A-085E-20.pgm',\n",
       " 'yaleB15_P00A-095E+00.pgm',\n",
       " 'yaleB15_P00A-110E+15.pgm',\n",
       " 'yaleB15_P00A-110E+40.pgm',\n",
       " 'yaleB15_P00A-110E+65.pgm',\n",
       " 'yaleB15_P00A-110E-20.pgm',\n",
       " 'yaleB15_P00A-120E+00.pgm',\n",
       " 'yaleB15_P00A-130E+20.pgm',\n",
       " 'yaleB16_P00A+000E+00.pgm',\n",
       " 'yaleB16_P00A+000E+20.pgm',\n",
       " 'yaleB16_P00A+000E+45.pgm',\n",
       " 'yaleB16_P00A+000E+90.pgm',\n",
       " 'yaleB16_P00A+000E-20.pgm',\n",
       " 'yaleB16_P00A+000E-35.pgm',\n",
       " 'yaleB16_P00A+005E+10.pgm',\n",
       " 'yaleB16_P00A+005E-10.pgm',\n",
       " 'yaleB16_P00A+010E+00.pgm',\n",
       " 'yaleB16_P00A+010E-20.pgm',\n",
       " 'yaleB16_P00A+015E+20.pgm',\n",
       " 'yaleB16_P00A+020E+10.pgm',\n",
       " 'yaleB16_P00A+020E-10.pgm',\n",
       " 'yaleB16_P00A+020E-40.pgm',\n",
       " 'yaleB16_P00A+025E+00.pgm',\n",
       " 'yaleB16_P00A+035E+15.pgm',\n",
       " 'yaleB16_P00A+035E+40.pgm',\n",
       " 'yaleB16_P00A+035E+65.pgm',\n",
       " 'yaleB16_P00A+035E-20.pgm',\n",
       " 'yaleB16_P00A+050E+00.pgm',\n",
       " 'yaleB16_P00A+050E-40.pgm',\n",
       " 'yaleB16_P00A+060E+20.pgm',\n",
       " 'yaleB16_P00A+060E-20.pgm',\n",
       " 'yaleB16_P00A+070E+00.pgm',\n",
       " 'yaleB16_P00A+070E+45.pgm',\n",
       " 'yaleB16_P00A+070E-35.pgm',\n",
       " 'yaleB16_P00A+085E+20.pgm',\n",
       " 'yaleB16_P00A+085E-20.pgm',\n",
       " 'yaleB16_P00A+110E+15.pgm',\n",
       " 'yaleB16_P00A+110E+40.pgm',\n",
       " 'yaleB16_P00A+110E+65.pgm',\n",
       " 'yaleB16_P00A+110E-20.pgm',\n",
       " 'yaleB16_P00A+120E+00.pgm',\n",
       " 'yaleB16_P00A+130E+20.pgm',\n",
       " 'yaleB16_P00A-005E+10.pgm',\n",
       " 'yaleB16_P00A-005E-10.pgm',\n",
       " 'yaleB16_P00A-010E-20.pgm',\n",
       " 'yaleB16_P00A-015E+20.pgm',\n",
       " 'yaleB16_P00A-020E+10.pgm',\n",
       " 'yaleB16_P00A-020E-10.pgm',\n",
       " 'yaleB16_P00A-020E-40.pgm',\n",
       " 'yaleB16_P00A-025E+00.pgm',\n",
       " 'yaleB16_P00A-035E+15.pgm',\n",
       " 'yaleB16_P00A-035E+40.pgm',\n",
       " 'yaleB16_P00A-035E+65.pgm',\n",
       " 'yaleB16_P00A-035E-20.pgm',\n",
       " 'yaleB16_P00A-050E+00.pgm',\n",
       " 'yaleB16_P00A-050E-40.pgm',\n",
       " 'yaleB16_P00A-060E+20.pgm',\n",
       " 'yaleB16_P00A-060E-20.pgm',\n",
       " 'yaleB16_P00A-070E+00.pgm',\n",
       " 'yaleB16_P00A-070E+45.pgm',\n",
       " 'yaleB16_P00A-070E-35.pgm',\n",
       " 'yaleB16_P00A-085E+20.pgm',\n",
       " 'yaleB16_P00A-085E-20.pgm',\n",
       " 'yaleB16_P00A-095E+00.pgm',\n",
       " 'yaleB16_P00A-110E+15.pgm',\n",
       " 'yaleB16_P00A-110E+40.pgm',\n",
       " 'yaleB16_P00A-110E+65.pgm',\n",
       " 'yaleB16_P00A-110E-20.pgm',\n",
       " 'yaleB16_P00A-120E+00.pgm',\n",
       " 'yaleB16_P00A-130E+20.pgm',\n",
       " 'yaleB17_P00A+000E+00.pgm',\n",
       " 'yaleB17_P00A+000E+20.pgm',\n",
       " 'yaleB17_P00A+000E+45.pgm',\n",
       " 'yaleB17_P00A+000E+90.pgm',\n",
       " 'yaleB17_P00A+000E-20.pgm',\n",
       " 'yaleB17_P00A+000E-35.pgm',\n",
       " 'yaleB17_P00A+005E+10.pgm',\n",
       " 'yaleB17_P00A+005E-10.pgm',\n",
       " 'yaleB17_P00A+010E+00.pgm',\n",
       " 'yaleB17_P00A+010E-20.pgm',\n",
       " 'yaleB17_P00A+015E+20.pgm',\n",
       " 'yaleB17_P00A+020E+10.pgm',\n",
       " 'yaleB17_P00A+020E-10.pgm',\n",
       " 'yaleB17_P00A+020E-40.pgm',\n",
       " 'yaleB17_P00A+025E+00.pgm',\n",
       " 'yaleB17_P00A+035E+15.pgm',\n",
       " 'yaleB17_P00A+035E+40.pgm',\n",
       " 'yaleB17_P00A+035E+65.pgm',\n",
       " 'yaleB17_P00A+035E-20.pgm',\n",
       " 'yaleB17_P00A+050E+00.pgm',\n",
       " 'yaleB17_P00A+050E-40.pgm',\n",
       " 'yaleB17_P00A+060E+20.pgm',\n",
       " 'yaleB17_P00A+060E-20.pgm',\n",
       " 'yaleB17_P00A+070E+00.pgm',\n",
       " 'yaleB17_P00A+070E+45.pgm',\n",
       " 'yaleB17_P00A+070E-35.pgm',\n",
       " 'yaleB17_P00A+085E+20.pgm',\n",
       " 'yaleB17_P00A+085E-20.pgm',\n",
       " 'yaleB17_P00A+095E+00.pgm',\n",
       " 'yaleB17_P00A+110E+15.pgm',\n",
       " 'yaleB17_P00A+110E+40.pgm',\n",
       " 'yaleB17_P00A+110E+65.pgm',\n",
       " 'yaleB17_P00A+110E-20.pgm',\n",
       " 'yaleB17_P00A+120E+00.pgm',\n",
       " 'yaleB17_P00A+130E+20.pgm',\n",
       " 'yaleB17_P00A-005E+10.pgm',\n",
       " 'yaleB17_P00A-005E-10.pgm',\n",
       " 'yaleB17_P00A-010E-20.pgm',\n",
       " 'yaleB17_P00A-015E+20.pgm',\n",
       " 'yaleB17_P00A-020E+10.pgm',\n",
       " 'yaleB17_P00A-020E-10.pgm',\n",
       " 'yaleB17_P00A-020E-40.pgm',\n",
       " 'yaleB17_P00A-025E+00.pgm',\n",
       " 'yaleB17_P00A-035E+15.pgm',\n",
       " 'yaleB17_P00A-035E+40.pgm',\n",
       " 'yaleB17_P00A-035E+65.pgm',\n",
       " 'yaleB17_P00A-035E-20.pgm',\n",
       " 'yaleB17_P00A-050E+00.pgm',\n",
       " 'yaleB17_P00A-050E-40.pgm',\n",
       " 'yaleB17_P00A-060E+20.pgm',\n",
       " 'yaleB17_P00A-060E-20.pgm',\n",
       " 'yaleB17_P00A-070E+00.pgm',\n",
       " 'yaleB17_P00A-070E+45.pgm',\n",
       " 'yaleB17_P00A-070E-35.pgm',\n",
       " 'yaleB17_P00A-085E+20.pgm',\n",
       " 'yaleB17_P00A-085E-20.pgm',\n",
       " ...]"
      ]
     },
     "execution_count": 20,
     "metadata": {},
     "output_type": "execute_result"
    }
   ],
   "source": [
    "images_pgm"
   ]
  },
  {
   "cell_type": "code",
   "execution_count": 21,
   "id": "1c14d24b",
   "metadata": {},
   "outputs": [
    {
     "name": "stdout",
     "output_type": "stream",
     "text": [
      "Image shape: 192 x 168\n"
     ]
    },
    {
     "data": {
      "image/png": "[encoded data removed]",
      "text/plain": [
       "<PIL.PpmImagePlugin.PpmImageFile image mode=L size=168x192 at 0x4DA4550>"
      ]
     },
     "execution_count": 21,
     "metadata": {},
     "output_type": "execute_result"
    }
   ],
   "source": [
    "img = Image.open(IMG_PATH + 'yaleB21/yaleB21_P00A+005E+10.pgm')\n",
    "print('Image shape: %d x %d' % (img.height,img.width))\n",
    "img"
   ]
  },
  {
   "cell_type": "code",
   "execution_count": null,
   "id": "9943207b",
   "metadata": {},
   "outputs": [],
   "source": [
    "img.getdata()"
   ]
  },
  {
   "cell_type": "markdown",
   "id": "467300a1",
   "metadata": {},
   "source": [
    "generate the label y"
   ]
  },
  {
   "cell_type": "code",
   "execution_count": 23,
   "id": "f730dd45",
   "metadata": {},
   "outputs": [
    {
     "name": "stdout",
     "output_type": "stream",
     "text": [
      "2414\n",
      "38\n"
     ]
    }
   ],
   "source": [
    "print(len(images_pgm))\n",
    "subjects = os.listdir(IMG_PATH)\n",
    "print(len(subjects))"
   ]
  },
  {
   "cell_type": "code",
   "execution_count": 36,
   "id": "51652f9e",
   "metadata": {},
   "outputs": [],
   "source": [
    "# create function read a image name and return the value index, also the label of that image\n",
    "def check_index(image,subjects):\n",
    "    a = None\n",
    "    for i in subjects:\n",
    "        if i in image:\n",
    "            a = subjects.index(i)\n",
    "            break\n",
    "        else:\n",
    "            pass\n",
    "    return a"
   ]
  },
  {
   "cell_type": "code",
   "execution_count": 37,
   "id": "2b78b5b3",
   "metadata": {},
   "outputs": [
    {
     "data": {
      "text/plain": [
       "True"
      ]
     },
     "execution_count": 37,
     "metadata": {},
     "output_type": "execute_result"
    }
   ],
   "source": [
    "'yaleB05' in 'yaleB05_P00A+035E+65.pgm'"
   ]
  },
  {
   "cell_type": "code",
   "execution_count": 38,
   "id": "04351a46",
   "metadata": {},
   "outputs": [
    {
     "data": {
      "text/plain": [
       "'yaleB05'"
      ]
     },
     "execution_count": 38,
     "metadata": {},
     "output_type": "execute_result"
    }
   ],
   "source": [
    "e = 'yaleB05_P00A+035E+65.pgm'\n",
    "e.split('_')[0]"
   ]
  },
  {
   "cell_type": "code",
   "execution_count": 39,
   "id": "d0894b37",
   "metadata": {},
   "outputs": [
    {
     "name": "stdout",
     "output_type": "stream",
     "text": [
      "yaleB36_P00A+000E+20.pgm\n",
      "34\n"
     ]
    }
   ],
   "source": [
    "#print(subjects)\n",
    "img = images_pgm[np.random.choice(len(images_pgm))]\n",
    "print(img)\n",
    "a = check_index(img,subjects)\n",
    "print(a)"
   ]
  },
  {
   "cell_type": "code",
   "execution_count": 40,
   "id": "bbf463eb",
   "metadata": {},
   "outputs": [],
   "source": [
    "Y = [check_index(x,subjects) for x in images_pgm]\n",
    "Y = np.array(Y)"
   ]
  },
  {
   "cell_type": "code",
   "execution_count": 41,
   "id": "92ebcc2d",
   "metadata": {},
   "outputs": [
    {
     "data": {
      "text/plain": [
       "'a\\\\b\\\\c'"
      ]
     },
     "execution_count": 41,
     "metadata": {},
     "output_type": "execute_result"
    }
   ],
   "source": [
    "os.path.join('a','b','c')"
   ]
  },
  {
   "cell_type": "markdown",
   "id": "89f4f94c",
   "metadata": {},
   "source": [
    "Convert the data from images to numpy matrix"
   ]
  },
  {
   "cell_type": "code",
   "execution_count": 65,
   "id": "887b3f2c",
   "metadata": {},
   "outputs": [],
   "source": [
    "dims = (192,168)\n",
    "X = np.zeros((len(images_pgm),dims[0]*dims[1])) # ravel image"
   ]
  },
  {
   "cell_type": "code",
   "execution_count": 66,
   "id": "52e7d141",
   "metadata": {},
   "outputs": [
    {
     "data": {
      "text/plain": [
       "array([[0., 0., 0., ..., 0., 0., 0.],\n",
       "       [0., 0., 0., ..., 0., 0., 0.],\n",
       "       [0., 0., 0., ..., 0., 0., 0.],\n",
       "       ...,\n",
       "       [0., 0., 0., ..., 0., 0., 0.],\n",
       "       [0., 0., 0., ..., 0., 0., 0.],\n",
       "       [0., 0., 0., ..., 0., 0., 0.]])"
      ]
     },
     "execution_count": 66,
     "metadata": {},
     "output_type": "execute_result"
    }
   ],
   "source": [
    "X"
   ]
  },
  {
   "cell_type": "code",
   "execution_count": 152,
   "id": "9040a7ac",
   "metadata": {},
   "outputs": [
    {
     "name": "stdout",
     "output_type": "stream",
     "text": [
      "X shape: (2414, 32256)\n"
     ]
    }
   ],
   "source": [
    "for j,i in enumerate(images_pgm):\n",
    "    image = Image.open(IMG_PATH + i.split('_')[0] + '/' + i)\n",
    "    if (image.height,image.width) != dims:\n",
    "        image = image.resize(dims)\n",
    "    X[j] = np.array(image.getdata())\n",
    "    \n",
    "print(\"X shape: \" + str(X.shape))"
   ]
  },
  {
   "cell_type": "code",
   "execution_count": 153,
   "id": "11968324",
   "metadata": {},
   "outputs": [
    {
     "data": {
      "text/plain": [
       "array([80., 80., 84., ..., 12., 12., 11.])"
      ]
     },
     "execution_count": 153,
     "metadata": {},
     "output_type": "execute_result"
    }
   ],
   "source": [
    "X[0]"
   ]
  },
  {
   "cell_type": "code",
   "execution_count": 154,
   "id": "c4d2ef73",
   "metadata": {},
   "outputs": [
    {
     "data": {
      "text/plain": [
       "(32256,)"
      ]
     },
     "execution_count": 154,
     "metadata": {},
     "output_type": "execute_result"
    }
   ],
   "source": [
    "np.array(image.getdata()).shape"
   ]
  },
  {
   "cell_type": "markdown",
   "id": "5fb5c5ba",
   "metadata": {},
   "source": [
    "##### In this tutorial, we just apply PCA for the feature engineering task. In practice, some image processing and augmentation techniques would be used to enhance the the performance"
   ]
  },
  {
   "cell_type": "markdown",
   "id": "3b029e24",
   "metadata": {},
   "source": [
    "#### # We project the data to 100 dimensions associated with 100 eigenvectors corresponding to 100 greatest eigenvalues of the covariance matrix"
   ]
  },
  {
   "cell_type": "code",
   "execution_count": 155,
   "id": "e1748b8c",
   "metadata": {},
   "outputs": [
    {
     "data": {
      "text/plain": [
       "(32256,)"
      ]
     },
     "execution_count": 155,
     "metadata": {},
     "output_type": "execute_result"
    }
   ],
   "source": [
    "mean = np.mean(X,axis = 0)\n",
    "mean.shape"
   ]
  },
  {
   "cell_type": "code",
   "execution_count": 156,
   "id": "90fa42c9",
   "metadata": {},
   "outputs": [],
   "source": [
    "X_dash = X - mean"
   ]
  },
  {
   "cell_type": "code",
   "execution_count": 157,
   "id": "105ecd05",
   "metadata": {},
   "outputs": [],
   "source": [
    "# X_dash = X_dash.astype('float16')\n",
    "# X = X.astype('float16')"
   ]
  },
  {
   "cell_type": "code",
   "execution_count": 158,
   "id": "dbf35fd1",
   "metadata": {},
   "outputs": [],
   "source": [
    "# MemoryError: Unable to allocate 1.94 GiB for an array with shape (32256, 32256) and data type float16\n",
    "#cov = 1/len(X) * X_dash.T @ X #cov = np.cov(X,rowvar = False)"
   ]
  },
  {
   "cell_type": "code",
   "execution_count": 159,
   "id": "365ffe68",
   "metadata": {},
   "outputs": [],
   "source": [
    "def MyPCA(X):\n",
    "    mean = np.mean(X,axis = 0)\n",
    "    U,S,V = np.linalg.svd(X - mean,full_matrices = False)\n",
    "    return U,S,V,mean"
   ]
  },
  {
   "cell_type": "code",
   "execution_count": 160,
   "id": "b7dcc5bd",
   "metadata": {},
   "outputs": [],
   "source": [
    "# array type float16 is unsupported in linalg\n",
    "#U,S,V,mean = MyPCA(X_dash)"
   ]
  },
  {
   "cell_type": "code",
   "execution_count": 161,
   "id": "294b4403",
   "metadata": {},
   "outputs": [],
   "source": [
    "from sklearn.decomposition import PCA\n",
    "pca = PCA(n_components = 100) "
   ]
  },
  {
   "cell_type": "code",
   "execution_count": 162,
   "id": "bdfbdcb5",
   "metadata": {},
   "outputs": [],
   "source": [
    "X_reduced = pca.fit_transform(X)"
   ]
  },
  {
   "cell_type": "code",
   "execution_count": 163,
   "id": "2fb48189",
   "metadata": {},
   "outputs": [
    {
     "data": {
      "text/plain": [
       "(2414, 100)"
      ]
     },
     "execution_count": 163,
     "metadata": {},
     "output_type": "execute_result"
    }
   ],
   "source": [
    "X_reduced.shape"
   ]
  },
  {
   "cell_type": "code",
   "execution_count": 164,
   "id": "85931a20",
   "metadata": {},
   "outputs": [
    {
     "data": {
      "text/plain": [
       "<matplotlib.image.AxesImage at 0x58e28340>"
      ]
     },
     "execution_count": 164,
     "metadata": {},
     "output_type": "execute_result"
    },
    {
     "data": {
      "image/png": "[encoded data removed]",
      "text/plain": [
       "<Figure size 432x288 with 1 Axes>"
      ]
     },
     "metadata": {
      "needs_background": "light"
     },
     "output_type": "display_data"
    }
   ],
   "source": [
    "plt.imshow(X_reduced[np.random.choice(len(X))].reshape(10,10))"
   ]
  },
  {
   "cell_type": "code",
   "execution_count": 241,
   "id": "2434d007",
   "metadata": {},
   "outputs": [
    {
     "data": {
      "text/plain": [
       "(100, 32256)"
      ]
     },
     "execution_count": 241,
     "metadata": {},
     "output_type": "execute_result"
    }
   ],
   "source": [
    "# projection matrix\n",
    "U = pca.components_\n",
    "U.shape"
   ]
  },
  {
   "cell_type": "code",
   "execution_count": 268,
   "id": "6c9b77e3",
   "metadata": {},
   "outputs": [
    {
     "data": {
      "image/png": "[encoded data removed]",
      "text/plain": [
       "<Figure size 432x288 with 1 Axes>"
      ]
     },
     "metadata": {
      "needs_background": "light"
     },
     "output_type": "display_data"
    }
   ],
   "source": [
    "plt.imshow(U[np.random.choice(100)].reshape(192,168))\n",
    "plt.savefig('eigenface.png',pad_inches = 'tight')"
   ]
  },
  {
   "cell_type": "code",
   "execution_count": 246,
   "id": "9c44ae68",
   "metadata": {},
   "outputs": [
    {
     "data": {
      "image/png": "[encoded data removed]",
      "text/plain": [
       "<Figure size 432x288 with 4 Axes>"
      ]
     },
     "metadata": {
      "needs_background": "light"
     },
     "output_type": "display_data"
    }
   ],
   "source": [
    "#plt.figure(figsize = (10,10))\n",
    "plt.subplots(2,2)\n",
    "for i in range(4):\n",
    "    plt.subplot(2,2,i+1)\n",
    "    plt.axis('off')\n",
    "    f1 = plt.imshow(U[i].reshape(192,168),interpolation = 'nearest')\n",
    "    f1.axes.get_xaxis().set_visible(False)\n",
    "    f1.axes.get_yaxis().set_visible(False)\n",
    "    plt.gray()\n",
    "    #fn = 'eigenface' + str(i).zfill(2) + '.png'\n",
    "    #plt.savefig(fn,bbox_inches = 'tight',pad_inches = 0)\n",
    "    #plt.show()"
   ]
  },
  {
   "cell_type": "code",
   "execution_count": 216,
   "id": "facc30cb",
   "metadata": {},
   "outputs": [],
   "source": [
    "from sklearn.neighbors import KNeighborsClassifier\n",
    "from sklearn.neural_network import MLPClassifier\n",
    "from sklearn.svm import SVC\n",
    "from sklearn.tree import DecisionTreeClassifier\n",
    "from sklearn.ensemble import RandomForestClassifier, AdaBoostClassifier\n",
    "from sklearn.linear_model import LogisticRegression\n",
    "from sklearn.metrics import confusion_matrix\n",
    "from sklearn.model_selection import train_test_split\n",
    "from sklearn.preprocessing import StandardScaler"
   ]
  },
  {
   "cell_type": "markdown",
   "id": "06afd2e5",
   "metadata": {},
   "source": [
    "#### Train test split"
   ]
  },
  {
   "cell_type": "code",
   "execution_count": 217,
   "id": "b3c794de",
   "metadata": {},
   "outputs": [],
   "source": [
    "X_train,X_test,y_train,y_test = train_test_split(X_reduced,Y,test_size = 0.33,random_state = 0)"
   ]
  },
  {
   "cell_type": "markdown",
   "id": "77dae0f4",
   "metadata": {},
   "source": [
    "#### Standardize\n",
    "Standardize features by removing the mean and scaling to unit variance.\n",
    "\n",
    "The standard score of a sample x is calculated as:\n",
    "\n",
    "z = (x - u) / s"
   ]
  },
  {
   "cell_type": "code",
   "execution_count": 222,
   "id": "35b4201a",
   "metadata": {},
   "outputs": [],
   "source": [
    "scaler = StandardScaler()"
   ]
  },
  {
   "cell_type": "code",
   "execution_count": 224,
   "id": "290caa5d",
   "metadata": {},
   "outputs": [],
   "source": [
    "X_train = scaler.fit_transform(X_train)"
   ]
  },
  {
   "cell_type": "code",
   "execution_count": 225,
   "id": "62587fb5",
   "metadata": {},
   "outputs": [],
   "source": [
    "X_test = scaler.fit_transform(X_test)"
   ]
  },
  {
   "cell_type": "markdown",
   "id": "ad3c5328",
   "metadata": {},
   "source": [
    "Try with some sklearn model"
   ]
  },
  {
   "cell_type": "markdown",
   "id": "0e845ada",
   "metadata": {},
   "source": [
    "#### Logistic Regression"
   ]
  },
  {
   "cell_type": "code",
   "execution_count": 226,
   "id": "f687ab82",
   "metadata": {},
   "outputs": [
    {
     "name": "stdout",
     "output_type": "stream",
     "text": [
      "Accuaracy on test: 0.954831\n"
     ]
    }
   ],
   "source": [
    "clf = LogisticRegression()\n",
    "clf.fit(X_train,y_train)\n",
    "y_pred = clf.predict(X_test)\n",
    "print(f\"Accuaracy on test: %.6f\" %(np.sum(y_pred == y_test)/len(y_pred)))"
   ]
  },
  {
   "cell_type": "markdown",
   "id": "215b09c4",
   "metadata": {},
   "source": [
    "#### Support Vector Machine"
   ]
  },
  {
   "cell_type": "code",
   "execution_count": 227,
   "id": "bdfc7624",
   "metadata": {},
   "outputs": [],
   "source": [
    "?? SVC"
   ]
  },
  {
   "cell_type": "code",
   "execution_count": 228,
   "id": "0c2f031a",
   "metadata": {},
   "outputs": [
    {
     "name": "stdout",
     "output_type": "stream",
     "text": [
      "Accuaracy on test: 0.929737\n"
     ]
    }
   ],
   "source": [
    "clf = SVC(kernel = 'linear',C = 1.0)\n",
    "clf.fit(X_train,y_train)\n",
    "y_pred = clf.predict(X_test)\n",
    "print(f\"Accuaracy on test: %.6f\" %(np.sum(y_pred == y_test)/len(y_pred)))"
   ]
  },
  {
   "cell_type": "code",
   "execution_count": 229,
   "id": "f3e02d7b",
   "metadata": {},
   "outputs": [
    {
     "name": "stdout",
     "output_type": "stream",
     "text": [
      "Accuaracy on test: 0.932246\n"
     ]
    }
   ],
   "source": [
    "clf = SVC(kernel = 'rbf',C = 1.0)\n",
    "clf.fit(X_train,y_train)\n",
    "y_pred = clf.predict(X_test)\n",
    "print(f\"Accuaracy on test: %.6f\" %(np.sum(y_pred == y_test)/len(y_pred)))"
   ]
  },
  {
   "cell_type": "markdown",
   "id": "28270b91",
   "metadata": {},
   "source": [
    "#### Neural network\n",
    "\n",
    "Two hidden layers neural networks\n",
    "\n",
    "Feel free to change the number units of hidden layers and observe how it will affect the performance.\n",
    "Tips: Increase the number of parameters when the model under-fits the data and decrease the number of params when the model over-fits the data\n"
   ]
  },
  {
   "cell_type": "code",
   "execution_count": 230,
   "id": "a9eeaa7b",
   "metadata": {},
   "outputs": [
    {
     "name": "stdout",
     "output_type": "stream",
     "text": [
      "Accuaracy on test: 0.952321\n"
     ]
    },
    {
     "name": "stderr",
     "output_type": "stream",
     "text": [
      "C:\\ProgramData\\Anaconda3\\lib\\site-packages\\sklearn\\neural_network\\_multilayer_perceptron.py:692: ConvergenceWarning: Stochastic Optimizer: Maximum iterations (200) reached and the optimization hasn't converged yet.\n",
      "  warnings.warn(\n"
     ]
    }
   ],
   "source": [
    "clf = MLPClassifier(activation = 'logistic',hidden_layer_sizes = (850,50),random_state = 23, max_iter  = 200)\n",
    "clf.fit(X_train,y_train)\n",
    "y_pred = clf.predict(X_test)\n",
    "print(f\"Accuaracy on test: %.6f\" %(np.sum(y_pred == y_test)/len(y_pred)))"
   ]
  },
  {
   "cell_type": "markdown",
   "id": "68ff3278",
   "metadata": {},
   "source": [
    "#### Using tensorflow"
   ]
  },
  {
   "cell_type": "code",
   "execution_count": 231,
   "id": "dd5f5710",
   "metadata": {},
   "outputs": [],
   "source": [
    "import tensorflow as tf \n",
    "from tensorflow.python.framework import ops"
   ]
  },
  {
   "cell_type": "code",
   "execution_count": 281,
   "id": "b5c200e8",
   "metadata": {},
   "outputs": [],
   "source": [
    "# hyper parameters\n",
    "learning_rate = 0.001\n",
    "num_steps = 300\n",
    "batch_size = 128\n",
    "display_step = 50\n",
    "\n",
    "# Network parameters\n",
    "n_hidden_1 = 850 # 1st layer number of neurons\n",
    "n_hidden_2 = 50 # 2nd layer number  of neurons\n",
    "num_input = 100 # 100 dimensions\n",
    "num_classes = len(subjects)"
   ]
  },
  {
   "cell_type": "code",
   "execution_count": 282,
   "id": "d2a1994d",
   "metadata": {},
   "outputs": [
    {
     "name": "stdout",
     "output_type": "stream",
     "text": [
      "Model: \"sequential_3\"\n",
      "_________________________________________________________________\n",
      "Layer (type)                 Output Shape              Param #   \n",
      "=================================================================\n",
      "dense_9 (Dense)              (None, 850)               85850     \n",
      "_________________________________________________________________\n",
      "dense_10 (Dense)             (None, 50)                42550     \n",
      "_________________________________________________________________\n",
      "dense_11 (Dense)             (None, 38)                1938      \n",
      "=================================================================\n",
      "Total params: 130,338\n",
      "Trainable params: 130,338\n",
      "Non-trainable params: 0\n",
      "_________________________________________________________________\n"
     ]
    }
   ],
   "source": [
    "model = tf.keras.Sequential([\n",
    "    tf.keras.layers.Input(num_input),\n",
    "    tf.keras.layers.Dense(n_hidden_1,activation = 'relu'),\n",
    "    tf.keras.layers.Dense(n_hidden_2,activation = 'relu'),\n",
    "    tf.keras.layers.Dense(num_classes,activation = 'softmax')\n",
    "])\n",
    "model.summary()"
   ]
  },
  {
   "cell_type": "code",
   "execution_count": 283,
   "id": "619336a2",
   "metadata": {},
   "outputs": [],
   "source": [
    "model.compile(loss = tf.keras.losses.SparseCategoricalCrossentropy(),\n",
    "             optimizer = tf.keras.optimizers.Adam(learning_rate = learning_rate),\n",
    "             metrics  =['accuracy'])"
   ]
  },
  {
   "cell_type": "code",
   "execution_count": 284,
   "id": "8e200def",
   "metadata": {},
   "outputs": [
    {
     "name": "stdout",
     "output_type": "stream",
     "text": [
      "Epoch 1/10\n",
      "51/51 [==============================] - 1s 8ms/step - loss: 2.5648 - accuracy: 0.4762 - val_loss: 1.4552 - val_accuracy: 0.7842\n",
      "Epoch 2/10\n",
      "51/51 [==============================] - 1s 11ms/step - loss: 0.7307 - accuracy: 0.9079 - val_loss: 0.6066 - val_accuracy: 0.8971\n",
      "Epoch 3/10\n",
      "51/51 [==============================] - 0s 6ms/step - loss: 0.2796 - accuracy: 0.9685 - val_loss: 0.4027 - val_accuracy: 0.9197\n",
      "Epoch 4/10\n",
      "51/51 [==============================] - 0s 6ms/step - loss: 0.1498 - accuracy: 0.9864 - val_loss: 0.3239 - val_accuracy: 0.9247\n",
      "Epoch 5/10\n",
      "51/51 [==============================] - 0s 6ms/step - loss: 0.0893 - accuracy: 0.9926 - val_loss: 0.2801 - val_accuracy: 0.9335\n",
      "Epoch 6/10\n",
      "51/51 [==============================] - 0s 6ms/step - loss: 0.0630 - accuracy: 0.9920 - val_loss: 0.2629 - val_accuracy: 0.9335\n",
      "Epoch 7/10\n",
      "51/51 [==============================] - 0s 6ms/step - loss: 0.0481 - accuracy: 0.9951 - val_loss: 0.2370 - val_accuracy: 0.9473\n",
      "Epoch 8/10\n",
      "51/51 [==============================] - 0s 6ms/step - loss: 0.0395 - accuracy: 0.9957 - val_loss: 0.2217 - val_accuracy: 0.9448\n",
      "Epoch 9/10\n",
      "51/51 [==============================] - 0s 6ms/step - loss: 0.0311 - accuracy: 0.9963 - val_loss: 0.2189 - val_accuracy: 0.9373\n",
      "Epoch 10/10\n",
      "51/51 [==============================] - 0s 7ms/step - loss: 0.0269 - accuracy: 0.9975 - val_loss: 0.2052 - val_accuracy: 0.9473\n"
     ]
    }
   ],
   "source": [
    "history = model.fit(X_train,y_train,\n",
    "          validation_data = (X_test,y_test),\n",
    "          epochs = 10,\n",
    "          verbose =True,)"
   ]
  },
  {
   "cell_type": "code",
   "execution_count": 286,
   "id": "16dff76d",
   "metadata": {},
   "outputs": [
    {
     "data": {
      "text/plain": [
       "<AxesSubplot:>"
      ]
     },
     "execution_count": 286,
     "metadata": {},
     "output_type": "execute_result"
    },
    {
     "data": {
      "image/png": "[encoded data removed]",
      "text/plain": [
       "<Figure size 432x288 with 1 Axes>"
      ]
     },
     "metadata": {
      "needs_background": "light"
     },
     "output_type": "display_data"
    }
   ],
   "source": [
    "import pandas as pd\n",
    "pd.DataFrame(history.history).plot()"
   ]
  },
  {
   "cell_type": "markdown",
   "id": "e2ac7f4a",
   "metadata": {},
   "source": [
    "### references\n",
    "\n",
    "https://www.youtube.com/watch?v=Zbr5hyJNGCs\n",
    "\n",
    "https://www.youtube.com/watch?v=cnCzY5M3txk\n",
    "\n",
    "https://www.youtube.com/watch?v=T-B8muDvzu0\n",
    "\n",
    "https://www.youtube.com/watch?v=rng04VJxUt4\n",
    "\n",
    "https://www.youtube.com/watch?v=5aHWplWElcc\n",
    "\n",
    "https://www.youtube.com/watch?v=R8zHEyT2R4E\n",
    "\n",
    "https://www.youtube.com/watch?v=xI9-I-gcwaw\n",
    "\n",
    "https://machinelearningcoban.com/2017/06/15/pca/\n",
    "\n",
    "https://machinelearningcoban.com/2017/06/21/pca2/\n",
    "\n",
    "https://github.com/tiepvupsu/tiepvupsu.github.io/blob/master/assets/28_pca2/python/EigenFaces.ipynb\n",
    "\n",
    "https://viblo.asia/p/gioi-thieu-principal-component-analysis-07LKXpq2KV4\n",
    "\n",
    "https://www.geeksforgeeks.org/principal-component-analysis-with-python/\n",
    "\n",
    "https://www.askpython.com/python/examples/principal-component-analysis\n",
    "\n",
    "https://machinelearningmastery.com/calculate-principal-component-analysis-scratch-python/\n",
    "\n",
    "https://www.kdnuggets.com/2020/05/dimensionality-reduction-principal-component-analysis.html\n"
   ]
  }
 ],
 "metadata": {
  "kernelspec": {
   "display_name": "Python 3",
   "language": "python",
   "name": "python3"
  },
  "language_info": {
   "codemirror_mode": {
    "name": "ipython",
    "version": 3
   },
   "file_extension": ".py",
   "mimetype": "text/x-python",
   "name": "python",
   "nbconvert_exporter": "python",
   "pygments_lexer": "ipython3",
   "version": "3.8.8"
  }
 },
 "nbformat": 4,
 "nbformat_minor": 5
}
