{
 "cells": [
  {
   "cell_type": "code",
   "execution_count": null,
   "metadata": {
    "collapsed": true,
    "id": "hE2FzlSX24R7"
   },
   "outputs": [],
   "source": [
    "import numpy as np\n",
    "import codecs\n",
    "import pickle\n",
    "from collections import Counter\n",
    "import json\n",
    "from __future__ import division"
   ]
  },
  {
   "cell_type": "code",
   "execution_count": null,
   "metadata": {
    "id": "ZBu3_kRB24SC"
   },
   "outputs": [],
   "source": [
    "from collections import Counter\n",
    "from matplotlib import pyplot as plt\n",
    "import re\n",
    "import itertools\n"
   ]
  },
  {
   "cell_type": "code",
   "execution_count": null,
   "metadata": {
    "collapsed": true,
    "id": "YNagatnR24SD"
   },
   "outputs": [],
   "source": [
    "from sklearn.model_selection import train_test_split\n",
    "from sklearn.preprocessing import StandardScaler\n",
    "from sklearn.datasets import make_moons, make_circles, make_classification\n",
    "from sklearn.neighbors import KNeighborsClassifier\n",
    "from sklearn.neural_network import MLPClassifier\n",
    "from sklearn.svm import SVC\n",
    "from sklearn.tree import DecisionTreeClassifier\n",
    "from sklearn.ensemble import RandomForestClassifier, AdaBoostClassifier\n",
    "from sklearn.linear_model import LogisticRegression\n",
    "from sklearn.metrics import confusion_matrix\n",
    "from sklearn.utils.multiclass import unique_labels"
   ]
  },
  {
   "cell_type": "code",
   "execution_count": null,
   "metadata": {
    "collapsed": true,
    "id": "R2UP4jw124SE"
   },
   "outputs": [],
   "source": [
    "from PIL import Image\n",
    "from sklearn.decomposition import PCA\n",
    "from sklearn import preprocessing\n",
    "from sklearn.decomposition import PCA, IncrementalPCA"
   ]
  },
  {
   "cell_type": "code",
   "execution_count": null,
   "metadata": {
    "collapsed": true,
    "id": "EZ5Wfkdl24SF"
   },
   "outputs": [],
   "source": [
    "def read_text_file(i_file, encoding='utf-8'):\n",
    "    lines = []\n",
    "    with codecs.open( i_file, \"r\", \"utf-8\" ) as f:\n",
    "        lines = f.read().splitlines()\n",
    "    return lines"
   ]
  },
  {
   "cell_type": "code",
   "execution_count": null,
   "metadata": {
    "collapsed": true,
    "id": "wATdGVdA24SG"
   },
   "outputs": [],
   "source": [
    "import glob\n",
    "import os"
   ]
  },
  {
   "cell_type": "code",
   "execution_count": null,
   "metadata": {
    "collapsed": true,
    "id": "RK-eVo3v24SH"
   },
   "outputs": [],
   "source": [
    "import pandas as pd"
   ]
  },
  {
   "cell_type": "markdown",
   "metadata": {
    "id": "u_eMJ6dm24SI"
   },
   "source": [
    "### 1. Load data"
   ]
  },
  {
   "cell_type": "markdown",
   "metadata": {
    "id": "DAYR33gQ24SJ"
   },
   "source": [
    "#### The Yale Face Database B is available at http://vision.ucsd.edu/~iskwak/ExtYaleDatabase/ExtYaleB.html<br> Download the cropped version and extract to a folder such as Your_YaleB_Path"
   ]
  },
  {
   "cell_type": "code",
   "execution_count": null,
   "metadata": {
    "collapsed": true,
    "id": "FAkuvLjU24SM"
   },
   "outputs": [],
   "source": [
    "IMG_PATH = \"Your_YaleB_Path\" + '/CroppedYale'\n",
    "#IMG_PATH = os.path.join(\"/apps4/maonx/\" + '/CroppedYale')"
   ]
  },
  {
   "cell_type": "code",
   "execution_count": null,
   "metadata": {
    "id": "jVuKGNRi24SN",
    "scrolled": false
   },
   "outputs": [],
   "source": [
    "img = Image.open(os.path.join(IMG_PATH, 'yaleB07/yaleB07_P00A-010E-20.pgm') )"
   ]
  },
  {
   "cell_type": "code",
   "execution_count": null,
   "metadata": {
    "id": "DcOjvPZ424SN",
    "outputId": "8bc57d80-91a1-47cc-ca17-a67d6577f65b",
    "scrolled": true
   },
   "outputs": [
    {
     "data": {
      "image/png": "[encoded data removed]",
      "text/plain": [
       "<PIL.PpmImagePlugin.PpmImageFile image mode=L size=168x192 at 0x7F669ED72350>"
      ]
     },
     "execution_count": 10,
     "metadata": {
      "tags": []
     },
     "output_type": "execute_result"
    }
   ],
   "source": [
    "img"
   ]
  },
  {
   "cell_type": "code",
   "execution_count": null,
   "metadata": {
    "id": "0Ygb-D1024SP",
    "outputId": "ad42e0fc-17f6-4ee5-9454-e1203f6f9016"
   },
   "outputs": [
    {
     "name": "stdout",
     "output_type": "stream",
     "text": [
      "Image Shape: 192 x 168\n"
     ]
    }
   ],
   "source": [
    "print(\"Image Shape: %d x %d\" %(img.height, img.width))"
   ]
  },
  {
   "cell_type": "code",
   "execution_count": null,
   "metadata": {
    "collapsed": true,
    "id": "ShxupmbE24SS"
   },
   "outputs": [],
   "source": [
    "### Remove bad image from list"
   ]
  },
  {
   "cell_type": "code",
   "execution_count": null,
   "metadata": {
    "id": "4ev3lv2f24ST",
    "scrolled": false
   },
   "outputs": [],
   "source": [
    "bad_images = read_text_file(os.path.join(IMG_PATH, \"bad.txt\"))"
   ]
  },
  {
   "cell_type": "code",
   "execution_count": null,
   "metadata": {
    "id": "5-fPTNut24ST"
   },
   "outputs": [],
   "source": [
    "bad_images = map(lambda x: x.split(' ')[0], bad_images)"
   ]
  },
  {
   "cell_type": "code",
   "execution_count": null,
   "metadata": {
    "id": "ihX3RTU524ST",
    "outputId": "04194a4d-916b-454f-b433-42a05bce425f"
   },
   "outputs": [
    {
     "data": {
      "text/plain": [
       "[u'yaleB11_P00A+050E-40.pgm',\n",
       " u'yaleB11_P00A+095E+00.pgm',\n",
       " u'yaleB11_P00A-050E-40.pgm',\n",
       " u'yaleB11_P00A-110E+15.pgm',\n",
       " u'yaleB12_P00A+050E-40.pgm',\n",
       " u'yaleB12_P00A+095E+00.pgm',\n",
       " u'yaleB12_P00A-050E-40.pgm',\n",
       " u'yaleB12_P00A-110E+15.pgm',\n",
       " u'yaleB12_P00A-110E-20.pgm',\n",
       " u'yaleB13_P00A+050E-40.pgm',\n",
       " u'yaleB13_P00A+095E+00.pgm',\n",
       " u'yaleB13_P00A-050E-40.pgm',\n",
       " u'yaleB13_P00A-110E+15.pgm',\n",
       " u'yaleB15_P00A-035E+40.pgm',\n",
       " u'yaleB16_P00A+095E+00.pgm',\n",
       " u'yaleB16_P00A-010E+00.pgm',\n",
       " u'yaleB17_P00A-010E+00.pgm',\n",
       " u'yaleB18_P00A-010E+00.pgm']"
      ]
     },
     "execution_count": 15,
     "metadata": {
      "tags": []
     },
     "output_type": "execute_result"
    }
   ],
   "source": [
    "bad_images"
   ]
  },
  {
   "cell_type": "markdown",
   "metadata": {
    "id": "9H2mx7o624SU"
   },
   "source": [
    "#### Generate the lables Y"
   ]
  },
  {
   "cell_type": "code",
   "execution_count": null,
   "metadata": {
    "id": "M_sCN7to24SU"
   },
   "outputs": [],
   "source": [
    "Y = []\n",
    "subjects = glob.glob(os.path.join(IMG_PATH, \"*/\"))\n",
    "img_paths = []\n",
    "def check_bad_img(x, bad_images):\n",
    "    for e in bad_images:\n",
    "        if x.find(e) >-1:\n",
    "            return True\n",
    "    return False\n",
    "for i in range(len(subjects)):\n",
    "    l_fn = glob.glob(subjects[i]+'*.pgm')\n",
    "    l_fn = filter(lambda x: not check_bad_img(x, bad_images), l_fn)\n",
    "    img_paths += l_fn\n",
    "    Y += [i]*len(l_fn)\n",
    "Y = np.array(Y)"
   ]
  },
  {
   "cell_type": "code",
   "execution_count": null,
   "metadata": {
    "id": "4nD2Ed6024SU",
    "outputId": "2ccdbf3b-ab1e-485f-831e-a6b8de0ad92e"
   },
   "outputs": [
    {
     "name": "stdout",
     "output_type": "stream",
     "text": [
      "Number of images: 2452. Number of subjects: 38\n",
      "('Labels of the first 10 images:', array([0, 0, 0, 0, 0, 0, 0, 0, 0, 0]))\n",
      "('labels of the last 10 images', array([37, 37, 37, 37, 37, 37, 37, 37, 37, 37]))\n"
     ]
    }
   ],
   "source": [
    "print(\"Number of images: %d. Number of subjects: %d\" %(len(img_paths), len(subjects)))\n",
    "print(\"Labels of the first 10 images:\", Y[0:10]) # labels of the first 10 images\n",
    "print(\"labels of the last 10 images\", Y[-10:]) # labels of the last 10 images"
   ]
  },
  {
   "cell_type": "markdown",
   "metadata": {
    "id": "FWtOFspS24SV"
   },
   "source": [
    "#### Convert the data from images to numpy matrix"
   ]
  },
  {
   "cell_type": "code",
   "execution_count": null,
   "metadata": {
    "collapsed": true,
    "id": "s8KfqCGN24SV"
   },
   "outputs": [],
   "source": [
    "dims = (192, 168)"
   ]
  },
  {
   "cell_type": "code",
   "execution_count": null,
   "metadata": {
    "id": "8pIfABK424SW",
    "outputId": "f13db001-ed00-423f-cb4d-6e14e44a29f7",
    "scrolled": true
   },
   "outputs": [
    {
     "name": "stdout",
     "output_type": "stream",
     "text": [
      "X shape: (2452, 32256)\n"
     ]
    }
   ],
   "source": [
    "X = np.zeros((len(img_paths),dims[0]*dims[1]))\n",
    "for i in range(len(img_paths)):\n",
    "    image  = Image.open(img_paths[i])\n",
    "    if not (image.height, image.width) == dims:\n",
    "        image = image.resize(dims)\n",
    "    X[i,:] = image.getdata()\n",
    "    \n",
    "print(\"X shape: \" + str(X.shape))"
   ]
  },
  {
   "cell_type": "markdown",
   "metadata": {
    "id": "3RxJXa4N24SW"
   },
   "source": [
    "### 2. Feature Extraction\n",
    "##### In this tutorial, we just apply PCA for the feature engineering task. In practice, some image processing and augmentation techniques would be used to enhance the the performance"
   ]
  },
  {
   "cell_type": "code",
   "execution_count": null,
   "metadata": {
    "id": "0MJfJ9SO24SX"
   },
   "outputs": [],
   "source": [
    "pca_model = PCA(copy=False, n_components=100) "
   ]
  },
  {
   "cell_type": "markdown",
   "metadata": {
    "id": "e78-Osua24SY"
   },
   "source": [
    "#### # We project the data to 100 dimensions associated with 100 eigenvectors corresponding to 100 greatest eigenvalues of the covariance matrix"
   ]
  },
  {
   "cell_type": "code",
   "execution_count": null,
   "metadata": {
    "collapsed": true,
    "id": "1Nd_SSqy24SY"
   },
   "outputs": [],
   "source": [
    "pca_model.fit(X)\n",
    "X_prj = pca_model.transform(X)"
   ]
  },
  {
   "cell_type": "code",
   "execution_count": null,
   "metadata": {
    "id": "8WEmVi0o24SY",
    "outputId": "7f8d5536-8a63-43df-fd39-8b9cdfb04fa7"
   },
   "outputs": [
    {
     "name": "stdout",
     "output_type": "stream",
     "text": [
      "Projected X shape: (2452, 100)\n"
     ]
    }
   ],
   "source": [
    "print(\"Projected X shape: \" + str(X_prj.shape))"
   ]
  },
  {
   "cell_type": "code",
   "execution_count": null,
   "metadata": {
    "id": "s3uVV1bb24SZ",
    "outputId": "450840c8-158e-4b5b-9c8c-cc04414ff639"
   },
   "outputs": [
    {
     "name": "stdout",
     "output_type": "stream",
     "text": [
      "100 eigenvectors of the covariance matrix: \n",
      "[[  8.36851058e-05   1.94254392e-04   3.71944186e-04 ...,   1.21006788e-03\n",
      "    1.07284590e-03   9.85872231e-04]\n",
      " [  7.93233884e-03   8.02012895e-03   8.06054799e-03 ...,  -4.91711422e-03\n",
      "   -4.75457413e-03  -4.69440311e-03]\n",
      " [ -2.50690195e-03  -2.20834338e-03  -1.91642615e-03 ...,  -5.97240878e-03\n",
      "   -5.84784306e-03  -5.77175488e-03]\n",
      " ..., \n",
      " [  3.97425800e-03   3.40628486e-03   1.78353956e-03 ...,   7.08667771e-03\n",
      "    1.06614945e-02   1.21099785e-02]\n",
      " [ -5.59667959e-03  -6.22859410e-03  -7.33888335e-03 ...,  -1.58692735e-02\n",
      "   -1.58627740e-02  -1.65366380e-02]\n",
      " [  5.06009346e-03   5.19608507e-03   5.54917852e-03 ...,   2.38249590e-02\n",
      "    2.56697932e-02   2.66405577e-02]]\n"
     ]
    }
   ],
   "source": [
    "print(\"100 eigenvectors of the covariance matrix: \\n\"+ str(pca_model.components_) )"
   ]
  },
  {
   "cell_type": "markdown",
   "metadata": {
    "id": "hlz1DC9x24Sa"
   },
   "source": [
    "#### Basically, the PCA model transform the data by taking the zero-mean at first, and then projecting them on the above eigenvectors. We can check that as the following code"
   ]
  },
  {
   "cell_type": "code",
   "execution_count": null,
   "metadata": {
    "id": "XQtzaba524Sb",
    "outputId": "6e56de88-7e7f-4fb4-b5d9-46ec3d8eb77d"
   },
   "outputs": [
    {
     "name": "stdout",
     "output_type": "stream",
     "text": [
      "The L2 distance: 1588931169.99528\n",
      "('test_proj', array([[  5.54657847e+03,   1.35658179e+03,  -8.13362935e+02,\n",
      "         -8.24413388e+02,  -1.38767292e+03,  -1.32644579e+03,\n",
      "          4.08995384e+01,  -4.32191113e+02,   9.06791228e+02,\n",
      "         -1.47485889e+02,  -5.09595595e+02,   1.27213572e+03,\n",
      "         -5.00421892e+02,  -8.53642953e+01,  -9.90917296e+02,\n",
      "         -8.12345968e+02,  -1.25123171e+03,  -5.62159742e+01,\n",
      "          8.84955513e+02,   7.07457044e+02,  -1.16151430e+02,\n",
      "         -4.34618515e+02,   1.17828375e+02,  -3.27013537e+02,\n",
      "          3.14197551e+02,   6.19582966e+02,   1.32505039e+02,\n",
      "          1.81683005e+02,   6.20158328e+02,   3.65705271e+02,\n",
      "          2.89301328e+02,   4.29737375e+02,  -1.08387861e+02,\n",
      "          8.90690921e+02,   6.27151335e+01,  -2.61365023e+02,\n",
      "          1.94156751e+02,   5.72125973e+01,  -3.33451542e+02,\n",
      "         -9.05999679e+01,  -1.09331830e+02,   2.46502134e+02,\n",
      "         -1.60608699e+02,  -7.23335227e+02,  -5.19180005e+02,\n",
      "          1.65943617e+02,  -2.28096756e+02,   3.92517390e+02,\n",
      "          5.05059591e+01,  -5.76335724e+02,   4.04780477e+02,\n",
      "          3.05188195e+02,  -3.24585605e+02,  -1.86314402e+01,\n",
      "          3.06349618e+02,   4.40161791e+01,  -4.59750016e+02,\n",
      "         -1.37655804e+02,   2.62213640e+02,  -1.36477766e+02,\n",
      "         -9.73529119e+01,   5.64034802e+00,   9.48112548e+01,\n",
      "          8.83074941e+01,  -5.65637946e+01,  -1.34286510e+02,\n",
      "          1.94842198e+02,   9.25978623e+01,  -3.32262112e+02,\n",
      "          2.23235274e+02,  -4.16401751e+02,   8.61062351e+01,\n",
      "         -1.67866741e+02,  -6.13188727e+00,   5.32714111e+01,\n",
      "         -1.71954062e+02,  -3.09663309e+01,  -6.95632999e+01,\n",
      "          4.87580179e+01,   6.79374680e+01,  -4.18192302e+01,\n",
      "         -9.87138807e+01,  -1.58322582e+02,   8.62415811e+01,\n",
      "          1.44497524e+02,   2.57205717e+02,  -2.63023590e+02,\n",
      "          2.39285697e+02,   1.38635947e+02,  -3.57675347e+00,\n",
      "          7.51319541e+01,  -1.65558705e+02,  -1.45009746e+02,\n",
      "          7.32208526e+01,   2.23255107e+02,  -1.07333511e+02,\n",
      "          3.81870457e+01,  -1.96109709e+02,  -3.25226379e+01,\n",
      "          8.86751740e+01],\n",
      "       [  6.41957800e+03,   1.80552152e+03,   1.59634502e+03,\n",
      "         -3.13390938e+02,  -1.74081333e+03,  -2.44041250e+03,\n",
      "          1.55192623e+02,  -4.83547949e+02,   9.24808367e+02,\n",
      "         -1.32295449e+02,   3.48322278e+02,   6.85562834e+02,\n",
      "         -5.11474906e+02,  -6.99296499e+02,  -8.91427414e+02,\n",
      "         -4.92994626e+02,  -1.05881876e+03,  -5.56176846e+02,\n",
      "          1.31229736e+03,   7.17249870e+02,  -4.25709508e+02,\n",
      "         -5.37121706e+02,  -3.94137136e+01,  -3.36955221e+02,\n",
      "          1.27736571e+02,   2.09789304e+02,   1.93362742e+00,\n",
      "          4.77267865e+02,   6.32611355e+02,   4.27076708e+02,\n",
      "          2.54600624e+02,   4.94915708e+02,  -9.23282702e+00,\n",
      "          1.02213415e+03,  -9.88958838e+01,  -3.32358915e+02,\n",
      "          4.06749357e+02,   8.67780399e+01,  -3.61186351e+02,\n",
      "          1.38563685e+02,  -2.44177446e+02,   4.57777475e+02,\n",
      "          4.74343211e+01,  -5.36797373e+02,  -4.78131053e+02,\n",
      "          3.73141147e+02,  -1.49344692e+02,   5.27187218e+02,\n",
      "         -1.32238957e+01,  -4.07367535e+02,   6.71636793e+02,\n",
      "          1.46409942e+02,  -1.75513239e+02,   4.12223949e+00,\n",
      "          2.40093924e+02,  -5.98040168e+01,  -3.39416180e+02,\n",
      "         -8.77809996e+01,   5.95998854e+02,   8.53480205e+01,\n",
      "          1.09465479e+02,  -2.00314025e+01,   1.78998824e+02,\n",
      "         -5.29282111e+01,   1.78818857e+01,  -7.87740520e+00,\n",
      "          2.92465615e+02,   2.45401364e+02,  -1.67456729e+02,\n",
      "          3.09089377e+02,  -5.80803363e+02,  -6.59472564e+01,\n",
      "         -1.99517710e+02,   6.07701895e+00,   8.27161934e+01,\n",
      "         -2.04531147e+02,  -3.18594378e+01,  -8.47142662e+01,\n",
      "          1.71674020e+02,  -1.25612190e+02,  -1.06423504e+02,\n",
      "         -2.68958899e+02,  -1.53457602e+02,  -4.41333548e+01,\n",
      "          1.73736960e+02,   7.58523908e+01,  -2.58347963e+02,\n",
      "          3.80954331e+02,   1.17040378e+02,   1.93545553e+00,\n",
      "          8.17909895e+01,  -1.07724834e+01,  -2.10716435e+02,\n",
      "          9.81075352e+01,   1.16200192e+02,   5.62518547e+01,\n",
      "         -6.40914099e+01,  -2.10873941e+02,  -2.92320900e+00,\n",
      "          2.54591695e+02],\n",
      "       [  4.51507645e+03,   1.99416468e+03,   3.77727402e+03,\n",
      "         -3.59827411e+01,  -2.11284883e+03,  -3.66584335e+03,\n",
      "          2.20732481e+02,   1.21969132e+02,   2.70146341e+02,\n",
      "          1.21483870e+02,   1.95641374e+03,   8.13244008e+02,\n",
      "         -2.86941901e+02,  -1.42042481e+03,   1.13101399e+02,\n",
      "         -3.27898826e+02,  -8.10550158e+02,  -9.37698117e+02,\n",
      "          2.15260618e+03,  -7.37397140e+02,  -5.01238728e+02,\n",
      "         -7.83341577e+00,   1.09090391e+02,  -3.16017190e+02,\n",
      "         -3.45063057e+02,  -4.36592183e+01,  -3.85212313e+02,\n",
      "          1.09524962e+03,   2.51894401e+02,   1.79863932e+02,\n",
      "         -3.60863303e+02,   6.02531660e+02,  -2.86274839e+02,\n",
      "          5.83239590e+02,  -5.54297073e+02,  -1.87259535e+02,\n",
      "          1.42253133e+02,   7.25588774e+01,   8.55310995e+01,\n",
      "          1.20535772e+03,  -6.48676840e+01,   8.70251129e+02,\n",
      "          1.91836403e+02,  -1.03305699e+02,  -3.70316400e+02,\n",
      "          5.68637099e+02,   8.26416021e+01,  -5.97448576e+01,\n",
      "         -4.06666257e+02,  -2.52977794e+02,   4.21418426e+02,\n",
      "         -2.52037639e+02,   3.51041414e+02,   5.28835905e+01,\n",
      "         -7.14458641e+01,  -4.71230488e+02,  -7.08784308e+01,\n",
      "          3.01093981e+01,   6.12915962e+02,   2.01027092e+02,\n",
      "          8.95918206e+02,  -3.28508472e+01,   3.61881691e+02,\n",
      "         -9.35845839e+01,  -4.92671280e+00,   2.26260394e+02,\n",
      "          4.71938651e+02,   2.36467460e+02,   2.93680811e+02,\n",
      "          1.88834698e+02,  -2.83823920e+02,  -4.68209897e+02,\n",
      "          1.39165126e+02,   6.51158413e+01,   4.68703282e+02,\n",
      "          3.20326926e+01,   3.87292198e+01,  -1.98477496e+02,\n",
      "          9.53161581e+01,  -2.46288195e+02,  -1.98850215e+02,\n",
      "          7.63721391e+01,  -4.38775479e+02,  -2.80645995e+01,\n",
      "         -1.86118572e+02,  -1.12869393e+02,   1.84551640e+02,\n",
      "         -1.21794997e+02,  -1.45613381e+02,   5.78146807e+02,\n",
      "         -2.35987120e+02,   1.27528143e+02,  -2.70661120e+02,\n",
      "         -1.10265949e+02,   1.43242483e+02,   3.45828113e+02,\n",
      "         -9.95111997e+01,  -2.28613889e+02,  -3.81810439e+02,\n",
      "          1.38000675e+02],\n",
      "       [ -6.73702631e+03,  -8.98585401e+01,   4.35537250e+03,\n",
      "         -1.84283661e+03,  -6.76606429e+02,  -4.08034016e+03,\n",
      "         -4.05693727e+02,   5.47570067e+02,  -1.91968262e+03,\n",
      "         -8.92737764e+02,   8.79203273e+02,   6.67005862e+02,\n",
      "         -1.36328044e+02,   1.38799950e+03,   1.69334334e+02,\n",
      "          5.98788702e+02,   2.29285443e+02,  -3.23251020e+02,\n",
      "          8.32466502e+02,  -4.90053980e+02,   3.91055855e+02,\n",
      "          7.05048293e+02,  -7.91951055e+02,  -2.13755690e+02,\n",
      "         -7.48018713e+02,  -3.30101922e+02,   5.45172411e+02,\n",
      "          3.28875600e+02,  -3.15234195e+02,   6.85475715e+02,\n",
      "          4.16731252e+02,   9.12592394e+02,  -7.15204061e+02,\n",
      "         -2.18015298e+02,  -7.32755984e+02,   4.69065105e+02,\n",
      "         -2.18749806e+02,   5.70912986e+02,   9.16431251e+02,\n",
      "          4.39874511e+02,   2.72793233e+02,   7.30436505e+02,\n",
      "         -5.80305859e+02,  -6.79637728e+02,  -3.10684160e+02,\n",
      "          3.34330087e+02,  -1.77576568e+02,   3.17245125e+01,\n",
      "         -6.66176405e+02,  -4.45009622e+01,  -3.01387549e+02,\n",
      "         -1.33336312e+02,   1.14071696e+02,  -2.14927489e+02,\n",
      "          8.25209769e+01,  -9.66409703e+01,   4.46256568e+00,\n",
      "         -2.64243092e+01,  -1.24076325e+01,   3.64160976e+01,\n",
      "          2.20417575e+02,  -2.29029839e+01,   1.55478446e+02,\n",
      "          1.18482228e+02,   3.21895881e+02,   3.44192418e+01,\n",
      "         -4.27899733e+02,  -5.94741514e-01,   7.50665491e+01,\n",
      "         -5.45633510e+01,  -3.39564092e+02,  -3.46561352e+02,\n",
      "          4.32278334e+02,   2.41624258e+02,  -7.04040187e+00,\n",
      "          3.55078680e+02,   1.90086155e+02,  -3.68722092e+02,\n",
      "          2.56434520e+00,   1.79545501e+02,   1.57864186e+02,\n",
      "          3.09628017e+02,  -4.31533727e+01,  -7.11727115e+01,\n",
      "         -1.74820519e+02,   1.12593000e+01,   1.01106157e+02,\n",
      "         -3.60908159e+02,  -6.23203070e+02,  -8.61623332e+01,\n",
      "          1.51349525e+01,   3.06285002e+02,  -1.03917021e+02,\n",
      "         -1.90136986e+02,  -1.19093848e+01,   1.70881062e+02,\n",
      "         -9.73108074e+01,  -5.40409369e+01,  -6.28369960e+01,\n",
      "          3.18111420e+02],\n",
      "       [  4.35412349e+03,   8.70823621e+02,  -2.68320337e+03,\n",
      "         -1.38532515e+03,  -1.15640131e+03,  -3.96246328e+02,\n",
      "         -1.57670394e+02,  -8.47404882e+02,   9.27803632e+02,\n",
      "         -2.39615865e+02,  -1.40384719e+03,   1.63797236e+03,\n",
      "         -3.41406284e+02,  -3.74210195e+00,  -1.28601683e+03,\n",
      "         -1.09944207e+03,  -1.57672629e+03,   3.40388718e+02,\n",
      "          5.07946784e+02,   6.50268460e+02,   2.58145820e+02,\n",
      "         -2.85481600e+02,   2.15653185e+02,  -2.47157632e+02,\n",
      "          4.14803800e+02,   8.11394122e+02,   2.62186860e+02,\n",
      "         -6.45198120e+01,   8.42026036e+02,   3.92236809e+02,\n",
      "          1.41043048e+02,   3.86743080e+02,  -3.03872548e+02,\n",
      "          8.94488963e+02,   9.69847209e+01,  -2.99060080e+02,\n",
      "         -6.35578422e+01,   8.07488687e+01,  -3.61821275e+02,\n",
      "         -1.75354969e+02,  -1.86468709e+02,  -8.81794933e+01,\n",
      "         -3.38429186e+02,  -7.94019797e+02,  -6.47881823e+02,\n",
      "          1.21285843e+02,  -2.72824755e+02,   2.54997003e+02,\n",
      "         -4.90698163e+01,  -7.96711233e+02,   1.41006390e+02,\n",
      "          3.88004071e+02,  -2.92960893e+02,  -2.76592347e+01,\n",
      "          1.58242150e+02,  -3.65580486e+01,  -4.59876223e+02,\n",
      "         -7.91846654e+01,   1.10505234e+02,  -1.45013453e+02,\n",
      "         -3.43533841e+02,   4.26348648e+01,   1.26008318e+02,\n",
      "          6.95728469e+01,  -6.16624013e+01,  -4.58940329e+02,\n",
      "          3.34381466e+01,  -2.75018573e+00,  -4.51316637e+02,\n",
      "          6.59720518e+01,  -2.04307031e+02,   2.44355195e+02,\n",
      "         -3.03592806e+02,   8.85746295e+01,  -3.28362960e+01,\n",
      "          4.95289389e+01,  -1.11290447e+02,  -6.08174598e+01,\n",
      "         -4.17983994e+00,   3.63903932e+02,   9.07133755e+01,\n",
      "         -6.87011705e+01,  -7.57289516e+01,   5.57053136e+01,\n",
      "          1.80380446e+02,   2.07296642e+02,  -1.74667233e+02,\n",
      "          2.26622998e+02,   1.03907573e+02,  -5.64091840e+01,\n",
      "         -2.22421888e+01,  -3.07494784e+02,  -1.18451275e+02,\n",
      "         -3.97871121e+01,   3.63006132e+02,  -1.23360484e+02,\n",
      "          9.95581156e+01,  -4.34942507e+01,   4.02262395e+01,\n",
      "         -4.83169509e+01],\n",
      "       [  7.19446188e+01,   3.20498916e+02,  -3.24053967e+03,\n",
      "         -2.19360757e+03,  -1.10798031e+03,   4.26661385e+02,\n",
      "         -1.84738453e+02,  -5.82128813e+02,   6.44853263e+02,\n",
      "         -3.09387693e+02,  -1.53019102e+03,   1.82501651e+03,\n",
      "         -3.54984681e+02,  -7.75690210e+01,  -8.44501790e+02,\n",
      "         -1.09156733e+03,  -1.73415091e+03,   5.47575222e+02,\n",
      "          6.07366456e+02,   2.44337514e+02,   2.29650462e+02,\n",
      "          4.96732522e+01,   5.52441805e+02,  -3.21743713e+02,\n",
      "          4.19633861e+01,   7.11270877e+02,   3.54128888e+02,\n",
      "         -4.10274733e+02,   9.42609147e+02,   5.26287352e+02,\n",
      "         -1.42925751e+02,   2.84895668e+02,  -1.18614099e+02,\n",
      "          4.17331084e+02,   2.44760068e+02,  -1.24196719e+02,\n",
      "         -5.55625826e+02,   1.43765865e+02,  -3.72992504e+02,\n",
      "         -1.66712383e+02,  -9.81063909e+01,  -3.16411569e+02,\n",
      "         -3.17289139e+02,  -7.43782505e+02,  -3.96033813e+02,\n",
      "          2.62219770e+02,  -3.88079460e+02,   2.15937900e+02,\n",
      "          1.66017548e+02,  -5.20924623e+02,  -1.73857597e+02,\n",
      "          2.87537528e+02,  -1.93183723e+02,  -1.51471260e+02,\n",
      "          1.09964647e+02,  -9.92077204e+01,  -3.86355857e+02,\n",
      "         -1.73044260e+01,   5.43310335e+01,  -1.20884820e+02,\n",
      "         -8.19106127e+02,  -2.72772153e+02,   3.51816075e+02,\n",
      "         -2.78243751e+02,   1.05675577e+01,  -4.80859703e+02,\n",
      "         -3.12292870e+02,  -4.91594832e+02,  -3.39458163e+02,\n",
      "         -6.01219496e+00,   1.05801519e+02,   1.33355103e+02,\n",
      "         -3.46454601e+02,   5.70634198e+01,  -1.26827387e+02,\n",
      "          6.50521806e+01,  -6.55625867e+02,   2.00553274e+02,\n",
      "         -1.77399161e+02,   4.47801091e+02,   5.08067214e+01,\n",
      "         -4.26226518e+01,   8.31259604e+01,  -1.16789961e+01,\n",
      "          1.21086702e+02,   1.75651048e+02,  -5.97829820e+01,\n",
      "          1.18027081e+02,  -2.19384734e+01,   8.47351866e+01,\n",
      "          6.51477721e+01,  -3.52026601e+02,  -2.36527461e+02,\n",
      "          1.18975874e+02,   2.70086825e+02,  -5.78648536e+01,\n",
      "         -4.21289785e+00,   8.11787363e+01,  -6.35132763e+01,\n",
      "         -2.28846641e+02],\n",
      "       [  5.59709972e+03,   3.00877146e+03,   1.13089183e+02,\n",
      "         -4.90792448e+02,  -2.04653320e+03,  -1.37783593e+03,\n",
      "          1.23880928e+02,   1.62902446e+02,   7.54050568e+02,\n",
      "          2.47247402e+02,  -5.12371170e+01,   1.55844779e+03,\n",
      "         -1.96546590e+02,  -1.25998664e+03,  -2.34437264e+02,\n",
      "         -3.27143826e+02,  -1.70992460e+03,  -3.81376353e+02,\n",
      "          1.83632767e+03,  -1.45816448e+02,   1.18879352e+02,\n",
      "         -3.33459372e+02,   4.77734642e+02,  -5.66804570e+02,\n",
      "         -5.66856694e+01,   7.06211277e+02,   1.68709766e+01,\n",
      "          1.55484207e+02,   7.41690591e+02,   1.83079636e+02,\n",
      "          9.48139009e+01,   5.61939408e+02,  -2.82682714e+02,\n",
      "          8.17071979e+02,   1.14637329e+02,  -3.47566743e+02,\n",
      "         -2.91222262e+02,  -1.20026943e+02,  -2.10033878e+02,\n",
      "          4.06334338e+02,  -7.73783966e+01,   3.74288504e+02,\n",
      "         -2.04299513e+02,  -7.02289489e+02,  -1.46910924e+01,\n",
      "          5.38059483e+02,  -3.92816207e+02,   1.75155268e+02,\n",
      "          1.78321156e+02,  -5.91780862e+02,   2.81028760e+02,\n",
      "         -2.48613108e+00,   8.72497345e+01,  -2.74359606e+02,\n",
      "         -3.38778890e+00,  -3.56795492e+02,  -3.85575411e+02,\n",
      "          5.36462778e+01,   4.01346301e+02,   6.81096346e+01,\n",
      "          1.38972873e+02,  -2.46850931e+02,   3.28333239e+02,\n",
      "         -2.92443576e+02,  -1.64889523e+02,  -1.26066433e+02,\n",
      "          1.51412843e+02,  -1.38842285e+02,   1.37764676e+02,\n",
      "          2.76642234e+02,  -2.95817043e+02,  -7.46594408e+01,\n",
      "          3.60003410e+01,   1.56917195e+02,   8.28513966e+01,\n",
      "         -1.55639300e+02,  -4.05298851e+02,   1.91134034e+02,\n",
      "          5.70793275e-01,   1.05693851e+02,  -4.34691269e+01,\n",
      "         -1.66846280e+02,  -1.75873552e+02,  -1.34803697e+02,\n",
      "         -3.44270878e+01,   1.22173583e+02,   1.05754882e+02,\n",
      "          1.21528710e+02,  -6.41239069e+01,   3.79530816e+02,\n",
      "         -5.73760473e+00,  -8.57448869e+01,  -1.96017054e+02,\n",
      "          1.63096092e+02,   6.48406911e+01,   7.10687128e+01,\n",
      "         -2.31882405e+02,  -2.44683485e+02,  -2.15523918e+02,\n",
      "          8.44196585e+01],\n",
      "       [  4.24271660e+03,   2.86392600e+03,  -1.88875958e+03,\n",
      "         -1.08271998e+03,  -1.79854217e+03,  -3.79660019e+02,\n",
      "         -2.49456328e+01,  -9.80076083e+01,   7.41025320e+02,\n",
      "          7.24181716e+01,  -9.94787890e+02,   1.78852904e+03,\n",
      "         -2.96066590e+02,  -8.24646872e+02,  -5.48010489e+02,\n",
      "         -6.80382769e+02,  -1.84472412e+03,   2.95304035e+02,\n",
      "          1.32737164e+03,   2.58433423e+01,   4.30681012e+02,\n",
      "         -2.09724465e+02,   5.59745389e+02,  -3.52084850e+02,\n",
      "          1.52978987e+02,   8.45621470e+02,   2.58092755e+02,\n",
      "         -1.03223471e+02,   9.77632712e+02,   4.93901226e+02,\n",
      "         -1.35430959e+01,   4.29430053e+02,  -2.35735100e+02,\n",
      "          6.06011558e+02,   2.53608786e+02,  -2.82361687e+02,\n",
      "         -5.04893837e+02,  -1.82467158e+01,  -3.77152539e+02,\n",
      "          2.15304276e+01,   4.49158005e+00,   6.84656682e+01,\n",
      "         -3.45221396e+02,  -8.33961899e+02,  -2.58012490e+02,\n",
      "          3.53622541e+02,  -4.32354950e+02,   1.95665228e+02,\n",
      "          1.26812268e+02,  -5.18240582e+02,   1.08707378e+02,\n",
      "          1.24094969e+02,  -7.92632572e+01,  -2.11238230e+02,\n",
      "          6.94744049e+01,  -2.52687129e+02,  -4.50870650e+02,\n",
      "          1.15531644e+01,   2.89591423e+02,  -3.66021298e+01,\n",
      "         -3.39736495e+02,  -3.02535493e+02,   3.99901866e+02,\n",
      "         -3.62361449e+02,  -1.88695087e+02,  -3.31982933e+02,\n",
      "         -7.69459944e+01,  -2.91443486e+02,  -1.51040670e+02,\n",
      "          1.11652770e+02,  -9.03730593e+01,   1.04465286e+01,\n",
      "         -1.45287560e+02,   1.98267601e+01,   6.34466661e+01,\n",
      "         -1.18638091e+02,  -5.73155180e+02,   2.43857618e+02,\n",
      "         -4.40039316e+01,   2.28070893e+02,   6.84355235e+01,\n",
      "         -3.73632610e+01,  -1.33621680e+02,  -1.29421402e+02,\n",
      "          3.39808098e+01,   2.00223082e+02,   4.58245029e+00,\n",
      "          1.22695727e+02,  -4.10314889e+01,   2.75028499e+02,\n",
      "          3.99235402e+01,  -2.66503076e+02,  -2.05280626e+02,\n",
      "          1.72241260e+02,   1.30142123e+02,  -3.27230294e+01,\n",
      "         -2.48469524e+02,   4.21434128e+00,  -9.01714615e+01,\n",
      "         -1.01646956e+02],\n",
      "       [  6.16204875e+03,   4.72790565e+03,  -1.11946036e+03,\n",
      "         -5.20568764e+02,  -2.16706082e+03,  -8.32951942e+02,\n",
      "          4.79551310e+01,   7.18996104e+01,   9.42406704e+02,\n",
      "          4.82530390e+02,  -5.24860738e+02,   1.83909449e+03,\n",
      "         -3.63141857e+02,  -1.10936940e+03,  -2.74755628e+02,\n",
      "         -3.84599838e+02,  -2.05395572e+03,   2.77475961e+01,\n",
      "          1.68702875e+03,  -4.10924911e+01,   4.03102132e+02,\n",
      "         -2.96304945e+02,   6.82003118e+02,  -4.51080964e+02,\n",
      "          1.70783153e+02,   8.54200606e+02,   1.42194020e+02,\n",
      "          4.49666152e+01,   9.07954640e+02,   3.89378646e+02,\n",
      "          1.36856479e+02,   4.97547721e+02,  -2.56178654e+02,\n",
      "          6.83150946e+02,   2.41496466e+02,  -2.97394776e+02,\n",
      "         -4.06639642e+02,  -1.06011818e+02,  -3.75987615e+02,\n",
      "          2.17317490e+02,  -2.36321568e+00,   2.44800446e+02,\n",
      "         -2.84360863e+02,  -8.76863982e+02,  -1.44757424e+02,\n",
      "          4.96410667e+02,  -4.30198594e+02,   2.06965454e+02,\n",
      "          1.58191919e+02,  -6.06905896e+02,   2.51918492e+02,\n",
      "          7.17521590e+01,   2.41485807e+01,  -2.52332953e+02,\n",
      "          1.05416230e+02,  -3.07433484e+02,  -4.90316198e+02,\n",
      "         -1.54552694e+01,   3.58577748e+02,  -6.74528013e+00,\n",
      "         -1.88003733e+02,  -3.26413202e+02,   4.34285545e+02,\n",
      "         -4.08571792e+02,  -1.96597705e+02,  -2.66502454e+02,\n",
      "          1.85303792e+01,  -2.79209067e+02,  -3.36657224e+01,\n",
      "          1.74478575e+02,  -2.09925261e+02,  -2.93954792e+01,\n",
      "         -2.82886781e+00,   1.54191306e+01,   1.69903417e+01,\n",
      "         -1.62645334e+02,  -4.85931274e+02,   2.15331365e+02,\n",
      "         -3.59170858e+01,   1.13692067e+02,   3.32739586e+01,\n",
      "         -1.61805392e+02,  -1.83510047e+02,  -1.93050062e+02,\n",
      "          1.02007887e+00,   1.71262044e+02,   7.31728973e+01,\n",
      "          1.46918854e+02,  -5.92227214e+01,   3.69450007e+02,\n",
      "         -6.43857624e+01,  -1.86778282e+02,  -2.48182874e+02,\n",
      "          2.22092079e+02,   8.66406790e+01,   6.48966053e+01,\n",
      "         -3.08239457e+02,  -1.39978033e+02,  -1.70837319e+02,\n",
      "         -5.63836280e+01],\n",
      "       [  2.75009341e+03,   3.34427185e+03,  -2.47365458e+03,\n",
      "         -1.50791049e+03,  -1.23369909e+03,  -2.91771690e+02,\n",
      "         -2.25765756e+02,  -7.10558276e+02,   8.93149417e+02,\n",
      "          3.02637648e+01,  -1.24985503e+03,   1.55604889e+03,\n",
      "         -6.18479033e+02,   3.13902922e+02,  -1.09348177e+03,\n",
      "         -1.05612095e+03,  -1.60420819e+03,   3.34784895e+02,\n",
      "          3.12619473e+02,   7.02961144e+02,   2.02188097e+02,\n",
      "         -3.01521643e+02,   1.33132106e+02,  -2.42988806e+02,\n",
      "          3.79485774e+02,   7.12153181e+02,   3.20612188e+02,\n",
      "          3.73269098e+00,   6.38282349e+02,   5.51055074e+02,\n",
      "          1.52826015e+02,   5.27795728e+02,  -2.60991429e+02,\n",
      "          7.28771757e+02,   7.08485705e+01,  -2.71328701e+02,\n",
      "          4.71358771e+01,   6.04450553e+01,  -2.37509329e+02,\n",
      "         -2.63410852e+02,  -7.10816522e+01,  -7.73565784e+01,\n",
      "         -2.94988701e+02,  -7.61324575e+02,  -6.37755176e+02,\n",
      "          8.42183342e+01,  -3.05431025e+02,   2.55292280e+02,\n",
      "          1.35854649e+01,  -5.97345062e+02,   1.13022223e+02,\n",
      "          3.23268043e+02,  -3.06949256e+02,   2.14987101e+01,\n",
      "          2.48658585e+02,   2.15138579e+01,  -4.81682306e+02,\n",
      "         -1.42255511e+02,   7.87367947e+01,  -2.16342421e+02,\n",
      "         -3.26852785e+02,   4.99792378e+01,   1.45174336e+02,\n",
      "          1.92004913e+02,  -3.92196712e+01,  -2.45585482e+02,\n",
      "          4.28167528e+01,   3.30088615e+01,  -4.28778677e+02,\n",
      "          9.18997434e+01,   1.09237765e+01,   1.72303981e+02,\n",
      "         -1.18159146e+02,  -9.50242271e+01,  -7.32554230e+01,\n",
      "         -1.01210078e+01,   8.32014951e+00,  -3.55467384e+01,\n",
      "          1.06440598e+01,   2.95053548e+02,   3.42352239e+01,\n",
      "          2.09361936e+01,  -4.78742642e+01,   1.62005734e+00,\n",
      "          2.69440775e+02,   1.84057879e+02,  -1.90447061e+02,\n",
      "          1.65528325e+02,   7.45657946e+01,  -6.37542721e+01,\n",
      "         -1.92260977e+01,  -1.71161211e+02,  -6.66439703e+01,\n",
      "          3.81476835e+01,   4.10304261e+02,  -2.45325182e+02,\n",
      "          1.59227288e+02,  -1.88168405e+02,  -9.62993822e+01,\n",
      "         -1.96000432e+02]]))\n",
      "('X_prj[0:10,:]', array([[ -6.38822889e+03,   2.58547701e+02,   4.20256973e+02,\n",
      "         -4.30095676e+03,  -1.01271495e+03,  -1.09159742e+03,\n",
      "          1.19243999e+02,  -3.74927271e+02,   9.63853264e+02,\n",
      "          5.30564690e+02,  -6.59567629e+02,   1.30810346e+03,\n",
      "         -7.21705777e+02,  -2.44196634e+01,  -1.02091369e+03,\n",
      "         -8.99973619e+02,  -1.31693622e+03,  -3.16888389e+02,\n",
      "          8.67179399e+02,   9.62636043e+02,  -5.32727078e+02,\n",
      "         -3.39361798e+02,   2.54390491e+01,  -4.32759593e+02,\n",
      "          1.51293750e+02,   6.24691677e+02,   8.76607958e+01,\n",
      "          2.27160849e+02,   5.62199047e+02,   4.78599688e+02,\n",
      "          1.07060985e+02,   6.41555192e+02,  -3.28242820e+02,\n",
      "          8.87803608e+02,   1.78205481e+02,  -2.63737913e+02,\n",
      "          2.11547784e+02,  -1.55581813e+02,  -1.87320453e+02,\n",
      "         -3.17180324e+02,  -1.82187907e+02,   2.68287611e+02,\n",
      "         -2.73187919e+02,  -6.40442706e+02,  -4.48320010e+02,\n",
      "          1.89308943e+01,  -1.77337974e+02,   4.09537460e+02,\n",
      "         -1.18401690e+02,  -4.51164902e+02,   3.87410018e+02,\n",
      "          3.93887357e+02,  -3.22069046e+02,  -1.05175337e+02,\n",
      "          3.65653333e+02,   1.36038679e+02,  -4.45264040e+02,\n",
      "         -1.79021207e+02,   2.63158060e+02,  -1.46032689e+02,\n",
      "         -1.71385294e+02,   2.89910575e+01,   7.31944620e+01,\n",
      "          4.81988500e+01,   4.71836822e+01,  -9.57994587e+01,\n",
      "          2.68205999e+02,   8.79399677e+01,  -3.59335578e+02,\n",
      "          1.06330952e+02,  -4.54573852e+02,   9.41397989e+01,\n",
      "         -1.73941354e+02,   1.21019934e+02,  -5.14898900e+01,\n",
      "         -2.05157545e+02,  -6.63880322e+01,   1.50851314e+01,\n",
      "          9.08745672e+01,   6.42455856e+00,  -6.42584963e+01,\n",
      "         -8.68589252e+01,  -1.60756556e+02,   1.35025029e+02,\n",
      "          1.63853509e+02,   2.69758826e+02,  -2.62397436e+02,\n",
      "          2.57936253e+02,   7.17242502e+01,   1.25825204e+01,\n",
      "          6.03186115e+01,  -2.13686480e+02,  -1.26142058e+02,\n",
      "          7.92144485e+01,   1.39053692e+02,  -1.52972410e+02,\n",
      "          7.81033446e+01,  -1.96111712e+02,  -4.75355290e+01,\n",
      "          8.57288653e+00],\n",
      "       [ -5.51522935e+03,   7.07487430e+02,   2.82996493e+03,\n",
      "         -3.78993431e+03,  -1.36585535e+03,  -2.20556412e+03,\n",
      "          2.33537083e+02,  -4.26284107e+02,   9.81870402e+02,\n",
      "          5.45755130e+02,   1.98350244e+02,   7.21530567e+02,\n",
      "         -7.32758791e+02,  -6.38351867e+02,  -9.21423809e+02,\n",
      "         -5.80622277e+02,  -1.12452327e+03,  -8.16849261e+02,\n",
      "          1.29452124e+03,   9.72428869e+02,  -8.42285157e+02,\n",
      "         -4.41864988e+02,  -1.31803039e+02,  -4.42701277e+02,\n",
      "         -3.51672298e+01,   2.14898015e+02,  -4.29106161e+01,\n",
      "          5.22745709e+02,   5.74652074e+02,   5.39971124e+02,\n",
      "          7.23602824e+01,   7.06733525e+02,  -2.29087787e+02,\n",
      "          1.01924683e+03,   1.65944640e+01,  -3.34731805e+02,\n",
      "          4.24140391e+02,  -1.26016370e+02,  -2.15055262e+02,\n",
      "         -8.80166713e+01,  -3.17033523e+02,   4.79562952e+02,\n",
      "         -6.51448997e+01,  -4.53904853e+02,  -4.07271059e+02,\n",
      "          2.26128424e+02,  -9.85859100e+01,   5.44207288e+02,\n",
      "         -1.82131545e+02,  -2.82196713e+02,   6.54266334e+02,\n",
      "          2.35109104e+02,  -1.72996680e+02,  -8.24216571e+01,\n",
      "          2.99397639e+02,   3.22184830e+01,  -3.24930204e+02,\n",
      "         -1.29146403e+02,   5.96943273e+02,   7.57930972e+01,\n",
      "          3.54330969e+01,   3.31930695e+00,   1.57382032e+02,\n",
      "         -9.30368552e+01,   1.21629362e+02,   3.06096457e+01,\n",
      "          3.65829416e+02,   2.40743469e+02,  -1.94530195e+02,\n",
      "          1.92185055e+02,  -6.18975465e+02,  -5.79136927e+01,\n",
      "         -2.05592322e+02,   1.33228840e+02,  -2.20451077e+01,\n",
      "         -2.37734631e+02,  -6.72811391e+01,  -6.58348730e-02,\n",
      "          2.13790570e+02,  -1.87125100e+02,  -1.28862770e+02,\n",
      "         -2.57103944e+02,  -1.55891576e+02,   4.65009275e+00,\n",
      "          1.93092945e+02,   8.84055001e+01,  -2.57721809e+02,\n",
      "          3.99604887e+02,   5.01286812e+01,   1.80947294e+01,\n",
      "          6.69776469e+01,  -5.89002588e+01,  -1.91848746e+02,\n",
      "          1.04101131e+02,   3.19987770e+01,   1.06129560e+01,\n",
      "         -2.41751110e+01,  -2.10875944e+02,  -1.79361001e+01,\n",
      "          1.74489407e+02],\n",
      "       [ -7.41973090e+03,   8.96130588e+02,   5.01089392e+03,\n",
      "         -3.51252612e+03,  -1.73789086e+03,  -3.43099498e+03,\n",
      "          2.99076942e+02,   1.79232974e+02,   3.27208377e+02,\n",
      "          7.99534448e+02,   1.80644170e+03,   8.49211740e+02,\n",
      "         -5.08225787e+02,  -1.35948018e+03,   8.31050037e+01,\n",
      "         -4.15526476e+02,  -8.76254667e+02,  -1.19837053e+03,\n",
      "          2.13483007e+03,  -4.82218141e+02,  -9.17814376e+02,\n",
      "          8.74233019e+01,   1.67010655e+01,  -4.21763246e+02,\n",
      "         -5.07966858e+02,  -3.85505076e+01,  -4.30056557e+02,\n",
      "          1.14072746e+03,   1.93935120e+02,   2.92758348e+02,\n",
      "         -5.43103645e+02,   8.14349476e+02,  -5.06129799e+02,\n",
      "          5.80352278e+02,  -4.38806725e+02,  -1.89632425e+02,\n",
      "          1.59644167e+02,  -1.40235533e+02,   2.31662188e+02,\n",
      "          9.78777363e+02,  -1.37723761e+02,   8.92036606e+02,\n",
      "          7.92571823e+01,  -2.04131783e+01,  -2.99456405e+02,\n",
      "          4.21624376e+02,   1.33400384e+02,  -4.27247879e+01,\n",
      "         -5.75573906e+02,  -1.27806972e+02,   4.04047966e+02,\n",
      "         -1.63338476e+02,   3.53557973e+02,  -3.36603061e+01,\n",
      "         -1.21421496e+01,  -3.79207989e+02,  -5.63924550e+01,\n",
      "         -1.12560049e+01,   6.13860382e+02,   1.91472168e+02,\n",
      "          8.21885824e+02,  -9.50013779e+00,   3.40264898e+02,\n",
      "         -1.33693228e+02,   9.88207639e+01,   2.64747445e+02,\n",
      "          5.45302452e+02,   2.31809565e+02,   2.66607345e+02,\n",
      "          7.19303768e+01,  -3.21996021e+02,  -4.60176334e+02,\n",
      "          1.33090513e+02,   1.92267662e+02,   3.63941981e+02,\n",
      "         -1.17079067e+00,   3.30751851e+00,  -1.13829064e+02,\n",
      "          1.37432707e+02,  -3.07801105e+02,  -2.21289481e+02,\n",
      "          8.82270946e+01,  -4.41209453e+02,   2.07188480e+01,\n",
      "         -1.66762588e+02,  -1.00316284e+02,   1.85177794e+02,\n",
      "         -1.03144441e+02,  -2.12525077e+02,   5.94306081e+02,\n",
      "         -2.50800462e+02,   7.94003675e+01,  -2.51793432e+02,\n",
      "         -1.04272353e+02,   5.90410683e+01,   3.00189214e+02,\n",
      "         -5.95949007e+01,  -2.28615892e+02,  -3.96823331e+02,\n",
      "          5.78983873e+01],\n",
      "       [ -1.86718337e+04,  -1.18789263e+03,   5.58899241e+03,\n",
      "         -5.31937999e+03,  -3.01648452e+02,  -3.84549179e+03,\n",
      "         -3.27349266e+02,   6.04833909e+02,  -1.86262059e+03,\n",
      "         -2.14687186e+02,   7.29231239e+02,   7.02973595e+02,\n",
      "         -3.57611930e+02,   1.44894413e+03,   1.39337939e+02,\n",
      "          5.11161051e+02,   1.63580934e+02,  -5.83923435e+02,\n",
      "          8.14690388e+02,  -2.34874981e+02,  -2.55197933e+01,\n",
      "          8.00305011e+02,  -8.84340380e+02,  -3.19501746e+02,\n",
      "         -9.10922514e+02,  -3.24993212e+02,   5.00328167e+02,\n",
      "          3.74353444e+02,  -3.73193476e+02,   7.98370132e+02,\n",
      "          2.34490909e+02,   1.12441021e+03,  -9.35059021e+02,\n",
      "         -2.20902611e+02,  -6.17265636e+02,   4.66692214e+02,\n",
      "         -2.01358772e+02,   3.58118576e+02,   1.06256234e+03,\n",
      "          2.13294154e+02,   1.99937156e+02,   7.52221982e+02,\n",
      "         -6.92885080e+02,  -5.96745207e+02,  -2.39824165e+02,\n",
      "          1.87317365e+02,  -1.26817787e+02,   4.87445822e+01,\n",
      "         -8.35084054e+02,   8.06698601e+01,  -3.18758008e+02,\n",
      "         -4.46371502e+01,   1.16588255e+02,  -3.01471385e+02,\n",
      "          1.41824691e+02,  -4.61847049e+00,   1.89485414e+01,\n",
      "         -6.77897122e+01,  -1.14632129e+01,   2.68611743e+01,\n",
      "          1.46385192e+02,   4.47725590e-01,   1.33861653e+02,\n",
      "          7.83735835e+01,   4.25643358e+02,   7.29062927e+01,\n",
      "         -3.54535932e+02,  -5.25263609e+00,   4.79930834e+01,\n",
      "         -1.71467672e+02,  -3.77736193e+02,  -3.38527788e+02,\n",
      "          4.26203721e+02,   3.68776079e+02,  -1.11801703e+02,\n",
      "          3.21875197e+02,   1.54664453e+02,  -2.84073661e+02,\n",
      "          4.46808945e+01,   1.18032591e+02,   1.35424920e+02,\n",
      "          3.21482973e+02,  -4.55873471e+01,  -2.23892639e+01,\n",
      "         -1.55464534e+02,   2.38124093e+01,   1.01732312e+02,\n",
      "         -3.42257603e+02,  -6.90114766e+02,  -7.00030593e+01,\n",
      "          3.21609925e-01,   2.58157226e+02,  -8.50493332e+01,\n",
      "         -1.84143390e+02,  -9.61107999e+01,   1.25242163e+02,\n",
      "         -5.73945085e+01,  -5.40429394e+01,  -7.78498871e+01,\n",
      "          2.38009132e+02],\n",
      "       [ -7.58068387e+03,  -2.27210469e+02,  -1.44958346e+03,\n",
      "         -4.86186852e+03,  -7.81443337e+02,  -1.61397954e+02,\n",
      "         -7.93259329e+01,  -7.90141040e+02,   9.84865668e+02,\n",
      "          4.38434713e+02,  -1.55381923e+03,   1.67394009e+03,\n",
      "         -5.62690169e+02,   5.72025299e+01,  -1.31601323e+03,\n",
      "         -1.18706972e+03,  -1.64243080e+03,   7.97163034e+01,\n",
      "          4.90170670e+02,   9.05447459e+02,  -1.58429828e+02,\n",
      "         -1.90224882e+02,   1.23263859e+02,  -3.52903689e+02,\n",
      "          2.51900000e+02,   8.16502833e+02,   2.17342616e+02,\n",
      "         -1.90419678e+01,   7.84066755e+02,   5.05131225e+02,\n",
      "         -4.11972945e+01,   5.98560897e+02,  -5.23727507e+02,\n",
      "          8.91601650e+02,   2.12475069e+02,  -3.01432970e+02,\n",
      "         -4.61668083e+01,  -1.32045541e+02,  -2.15690186e+02,\n",
      "         -4.01935326e+02,  -2.59324786e+02,  -6.63940162e+01,\n",
      "         -4.51008406e+02,  -7.11127276e+02,  -5.77021829e+02,\n",
      "         -2.57268797e+01,  -2.22065973e+02,   2.72017073e+02,\n",
      "         -2.17977465e+02,  -6.71540410e+02,   1.23635931e+02,\n",
      "          4.76703233e+02,  -2.90444334e+02,  -1.14203131e+02,\n",
      "          2.17545865e+02,   5.54644512e+01,  -4.45390247e+02,\n",
      "         -1.20550068e+02,   1.11449653e+02,  -1.54568377e+02,\n",
      "         -4.17566224e+02,   6.59855743e+01,   1.04391525e+02,\n",
      "          2.94642028e+01,   4.20850755e+01,  -4.20453278e+02,\n",
      "          1.06801948e+02,  -7.40808030e+00,  -4.78390102e+02,\n",
      "         -5.09322696e+01,  -2.42479132e+02,   2.52388759e+02,\n",
      "         -3.09667419e+02,   2.15726451e+02,  -1.37597597e+02,\n",
      "          1.63254556e+01,  -1.46712149e+02,   2.38309715e+01,\n",
      "          3.79367094e+01,   3.02391022e+02,   6.82741095e+01,\n",
      "         -5.68462150e+01,  -7.81629260e+01,   1.04488761e+02,\n",
      "          1.99736431e+02,   2.19849751e+02,  -1.74041079e+02,\n",
      "          2.45273554e+02,   3.69958768e+01,  -4.02499101e+01,\n",
      "         -3.70555314e+01,  -3.55622559e+02,  -9.95835868e+01,\n",
      "         -3.37935162e+01,   2.78804717e+02,  -1.68999383e+02,\n",
      "          1.39474415e+02,  -4.34962532e+01,   2.52133484e+01,\n",
      "         -1.28419238e+02],\n",
      "       [ -1.18628627e+04,  -7.77535175e+02,  -2.00691976e+03,\n",
      "         -5.67015095e+03,  -7.33022330e+02,   6.61509759e+02,\n",
      "         -1.06393992e+02,  -5.24864970e+02,   7.01915299e+02,\n",
      "          3.68662885e+02,  -1.68016305e+03,   1.86098424e+03,\n",
      "         -5.76268566e+02,  -1.66243891e+01,  -8.74498185e+02,\n",
      "         -1.17919498e+03,  -1.79985542e+03,   2.86902807e+02,\n",
      "          5.89590342e+02,   4.99516513e+02,  -1.86925186e+02,\n",
      "          1.44929970e+02,   4.60052480e+02,  -4.27489769e+02,\n",
      "         -1.20940415e+02,   7.16379588e+02,   3.09284644e+02,\n",
      "         -3.64796889e+02,   8.84649866e+02,   6.39181769e+02,\n",
      "         -3.25166093e+02,   4.96713485e+02,  -3.38469059e+02,\n",
      "          4.14443771e+02,   3.60250416e+02,  -1.26569609e+02,\n",
      "         -5.38234792e+02,  -6.90285450e+01,  -2.26861416e+02,\n",
      "         -3.93292739e+02,  -1.70962468e+02,  -2.94626092e+02,\n",
      "         -4.29868360e+02,  -6.60889984e+02,  -3.25173818e+02,\n",
      "          1.15207047e+02,  -3.37320679e+02,   2.32957970e+02,\n",
      "         -2.89010082e+00,  -3.95753801e+02,  -1.91228056e+02,\n",
      "          3.76236690e+02,  -1.90667164e+02,  -2.38015156e+02,\n",
      "          1.69268362e+02,  -7.18522050e+00,  -3.71869882e+02,\n",
      "         -5.86698290e+01,   5.52754531e+01,  -1.30439743e+02,\n",
      "         -8.93138510e+02,  -2.49421443e+02,   3.30199282e+02,\n",
      "         -3.18352395e+02,   1.14315034e+02,  -4.42372652e+02,\n",
      "         -2.38929069e+02,  -4.96252726e+02,  -3.66531628e+02,\n",
      "         -1.22916516e+02,   6.76294176e+01,   1.41388667e+02,\n",
      "         -3.52529214e+02,   1.84215241e+02,  -2.31588688e+02,\n",
      "          3.18486973e+01,  -6.91047568e+02,   2.85201705e+02,\n",
      "         -1.35282612e+02,   3.86288182e+02,   2.83674554e+01,\n",
      "         -3.07676964e+01,   8.06919860e+01,   3.71044515e+01,\n",
      "          1.40442687e+02,   1.88204158e+02,  -5.91568277e+01,\n",
      "          1.36677637e+02,  -8.88501700e+01,   1.00894460e+02,\n",
      "          5.03344295e+01,  -4.00154376e+02,  -2.17659773e+02,\n",
      "          1.24969470e+02,   1.85885410e+02,  -1.03503752e+02,\n",
      "          3.57034011e+01,   8.11767338e+01,  -7.85261674e+01,\n",
      "         -3.08948928e+02],\n",
      "       [ -6.33770764e+03,   1.91073737e+03,   1.34670909e+03,\n",
      "         -3.96733583e+03,  -1.67157522e+03,  -1.14298755e+03,\n",
      "          2.02225389e+02,   2.20166288e+02,   8.11112604e+02,\n",
      "          9.25297981e+02,  -2.01209151e+02,   1.59441552e+03,\n",
      "         -4.17830475e+02,  -1.19904201e+03,  -2.64433659e+02,\n",
      "         -4.14771477e+02,  -1.77562911e+03,  -6.42048768e+02,\n",
      "          1.81855156e+03,   1.09362551e+02,  -2.97696296e+02,\n",
      "         -2.38202655e+02,   3.85345317e+02,  -6.72550627e+02,\n",
      "         -2.19589470e+02,   7.11319987e+02,  -2.79732669e+01,\n",
      "          2.00962051e+02,   6.83731309e+02,   2.95974052e+02,\n",
      "         -8.74264412e+01,   7.73757225e+02,  -5.02537674e+02,\n",
      "          8.14184666e+02,   2.30127677e+02,  -3.49939633e+02,\n",
      "         -2.73831229e+02,  -3.32821353e+02,  -6.39027897e+01,\n",
      "          1.79753982e+02,  -1.50234474e+02,   3.96073981e+02,\n",
      "         -3.16878734e+02,  -6.19396969e+02,   5.61689021e+01,\n",
      "          3.91046760e+02,  -3.42057425e+02,   1.92175338e+02,\n",
      "          9.41350648e+00,  -4.66610040e+02,   2.63658301e+02,\n",
      "          8.62130312e+01,   8.97662935e+01,  -3.60903503e+02,\n",
      "          5.59159256e+01,  -2.64772992e+02,  -3.71089436e+02,\n",
      "          1.22808748e+01,   4.02290721e+02,   5.85547113e+01,\n",
      "          6.49404901e+01,  -2.23500222e+02,   3.06716446e+02,\n",
      "         -3.32552220e+02,  -6.11420459e+01,  -8.75793816e+01,\n",
      "          2.24776644e+02,  -1.43500179e+02,   1.10691210e+02,\n",
      "          1.59737913e+02,  -3.33989144e+02,  -6.66258770e+01,\n",
      "          2.99257284e+01,   2.84069016e+02,  -2.19099046e+01,\n",
      "         -1.88842783e+02,  -4.40720552e+02,   2.75782466e+02,\n",
      "          4.26873426e+01,   4.41809418e+01,  -6.59083930e+01,\n",
      "         -1.54991324e+02,  -1.78307527e+02,  -8.60202496e+01,\n",
      "         -1.50711033e+01,   1.34726692e+02,   1.06381036e+02,\n",
      "          1.40179267e+02,  -1.31035604e+02,   3.95690090e+02,\n",
      "         -2.05509473e+01,  -1.33872662e+02,  -1.77149366e+02,\n",
      "          1.69089688e+02,  -1.93607240e+01,   2.54298141e+01,\n",
      "         -1.91966106e+02,  -2.44685488e+02,  -2.30536809e+02,\n",
      "          4.31737101e+00],\n",
      "       [ -7.69209076e+03,   1.76589191e+03,  -6.55139672e+02,\n",
      "         -4.55926336e+03,  -1.42358420e+03,  -1.44811644e+02,\n",
      "          5.33988279e+01,  -4.07437663e+01,   7.98087356e+02,\n",
      "          7.50468750e+02,  -1.14475992e+03,   1.82449678e+03,\n",
      "         -5.17350475e+02,  -7.63702240e+02,  -5.78006884e+02,\n",
      "         -7.68010420e+02,  -1.91042863e+03,   3.46316204e+01,\n",
      "          1.30959553e+03,   2.81022341e+02,   1.41053636e+01,\n",
      "         -1.14467748e+02,   4.67356063e+02,  -4.57830907e+02,\n",
      "         -9.92481327e+00,   8.50730181e+02,   2.13248512e+02,\n",
      "         -5.77456263e+01,   9.19673430e+02,   6.06795643e+02,\n",
      "         -1.95783438e+02,   6.41247869e+02,  -4.55590059e+02,\n",
      "          6.03124245e+02,   3.69099133e+02,  -2.84734577e+02,\n",
      "         -4.87502803e+02,  -2.31041126e+02,  -2.31021451e+02,\n",
      "         -2.05049929e+02,  -6.83644970e+01,   9.02511453e+01,\n",
      "         -4.57800616e+02,  -7.51069378e+02,  -1.87152495e+02,\n",
      "          2.06609818e+02,  -3.81596169e+02,   2.12685298e+02,\n",
      "         -4.20953814e+01,  -3.93069760e+02,   9.13369185e+01,\n",
      "          2.12794131e+02,  -7.67466983e+01,  -2.97782126e+02,\n",
      "          1.28778119e+02,  -1.60664629e+02,  -4.36384675e+02,\n",
      "         -2.98122386e+01,   2.90535843e+02,  -4.61570531e+01,\n",
      "         -4.13768878e+02,  -2.79184783e+02,   3.78285074e+02,\n",
      "         -4.02470093e+02,  -8.49476102e+01,  -2.93495882e+02,\n",
      "         -3.58219325e+00,  -2.96101380e+02,  -1.78114135e+02,\n",
      "         -5.25155098e+00,  -1.28545161e+02,   1.84800924e+01,\n",
      "         -1.51362173e+02,   1.46978581e+02,  -4.13146350e+01,\n",
      "         -1.51841574e+02,  -6.08576882e+02,   3.28506050e+02,\n",
      "         -1.88738229e+00,   1.66557984e+02,   4.59962575e+01,\n",
      "         -2.55083055e+01,  -1.36055655e+02,  -8.06379547e+01,\n",
      "          5.33367942e+01,   2.12776192e+02,   5.20860461e+00,\n",
      "          1.41346283e+02,  -1.07943185e+02,   2.91187773e+02,\n",
      "          2.51101976e+01,  -3.14630851e+02,  -1.86412938e+02,\n",
      "          1.78234856e+02,   4.59407074e+01,  -7.83619281e+01,\n",
      "         -2.08553225e+02,   4.21233876e+00,  -1.05184353e+02,\n",
      "         -1.81749244e+02],\n",
      "       [ -5.77275861e+03,   3.62987155e+03,   1.14159550e+02,\n",
      "         -3.99711214e+03,  -1.79210285e+03,  -5.98103568e+02,\n",
      "          1.26299592e+02,   1.29163452e+02,   9.99468739e+02,\n",
      "          1.16058097e+03,  -6.74832772e+02,   1.87506223e+03,\n",
      "         -5.84425742e+02,  -1.04842476e+03,  -3.04752023e+02,\n",
      "         -4.72227489e+02,  -2.11966023e+03,  -2.32924819e+02,\n",
      "          1.66925263e+03,   2.14086508e+02,  -1.34735158e+01,\n",
      "         -2.01048227e+02,   5.89613793e+02,  -5.56827020e+02,\n",
      "          7.87935284e+00,   8.59309316e+02,   9.73497766e+01,\n",
      "          9.04444595e+01,   8.49995358e+02,   5.02273062e+02,\n",
      "         -4.53838636e+01,   7.09365538e+02,  -4.76033613e+02,\n",
      "          6.80263633e+02,   3.56986814e+02,  -2.99767666e+02,\n",
      "         -3.89248608e+02,  -3.18806228e+02,  -2.29856526e+02,\n",
      "         -9.26286637e+00,  -7.52192927e+01,   2.66585923e+02,\n",
      "         -3.96940084e+02,  -7.93971462e+02,  -7.38974298e+01,\n",
      "          3.49397944e+02,  -3.79439812e+02,   2.23985523e+02,\n",
      "         -1.07157301e+01,  -4.81735074e+02,   2.34548032e+02,\n",
      "          1.60451321e+02,   2.66651397e+01,  -3.38876850e+02,\n",
      "          1.64719945e+02,  -2.15410984e+02,  -4.75830222e+02,\n",
      "         -5.68206724e+01,   3.59522168e+02,  -1.63002035e+01,\n",
      "         -2.62036115e+02,  -3.03062493e+02,   4.12668752e+02,\n",
      "         -4.48680436e+02,  -9.28502283e+01,  -2.28015403e+02,\n",
      "          9.18941803e+01,  -2.83866962e+02,  -6.07391881e+01,\n",
      "          5.75742535e+01,  -2.48097362e+02,  -2.13619155e+01,\n",
      "         -8.90348042e+00,   1.42570952e+02,  -8.77709594e+01,\n",
      "         -1.95848817e+02,  -5.21352976e+02,   2.99979797e+02,\n",
      "          6.19946351e+00,   5.21791579e+01,   1.08346925e+01,\n",
      "         -1.49950436e+02,  -1.85944021e+02,  -1.44266614e+02,\n",
      "          2.03760634e+01,   1.83815153e+02,   7.37990516e+01,\n",
      "          1.65569410e+02,  -1.26134418e+02,   3.85609281e+02,\n",
      "         -7.91991050e+01,  -2.34906057e+02,  -2.29315186e+02,\n",
      "          2.28085675e+02,   2.43926396e+00,   1.92577066e+01,\n",
      "         -2.68323158e+02,  -1.39980035e+02,  -1.85850211e+02,\n",
      "         -1.36485916e+02],\n",
      "       [ -9.18471394e+03,   2.24623776e+03,  -1.24003467e+03,\n",
      "         -4.98445387e+03,  -8.58741114e+02,  -5.69233152e+01,\n",
      "         -1.47421295e+02,  -6.53294434e+02,   9.50211453e+02,\n",
      "          7.08314343e+02,  -1.39982707e+03,   1.59201662e+03,\n",
      "         -8.39762918e+02,   3.74847554e+02,  -1.12347817e+03,\n",
      "         -1.14374861e+03,  -1.66991270e+03,   7.41124805e+01,\n",
      "          2.94843360e+02,   9.58140143e+02,  -2.14387551e+02,\n",
      "         -2.06264925e+02,   4.07427802e+01,  -3.48734862e+02,\n",
      "          2.16581973e+02,   7.17261892e+02,   2.75767944e+02,\n",
      "          4.92105352e+01,   5.80323067e+02,   6.63949490e+02,\n",
      "         -2.94143276e+01,   7.39613545e+02,  -4.80846389e+02,\n",
      "          7.25884444e+02,   1.86338918e+02,  -2.73701591e+02,\n",
      "          6.45269110e+01,  -1.52349355e+02,  -9.13782401e+01,\n",
      "         -4.89991209e+02,  -1.43937729e+02,  -5.55711012e+01,\n",
      "         -4.07567922e+02,  -6.78432054e+02,  -5.66895182e+02,\n",
      "         -6.27943886e+01,  -2.54672243e+02,   2.72312350e+02,\n",
      "         -1.55322184e+02,  -4.72174240e+02,   9.56517632e+01,\n",
      "          4.11967206e+02,  -3.04432697e+02,  -6.50451865e+01,\n",
      "          3.07962300e+02,   1.13536358e+02,  -4.67196330e+02,\n",
      "         -1.83620914e+02,   7.96812144e+01,  -2.25897344e+02,\n",
      "         -4.00885167e+02,   7.33299473e+01,   1.23557544e+02,\n",
      "          1.51896269e+02,   6.45278056e+01,  -2.07098431e+02,\n",
      "          1.16180554e+02,   2.83509670e+01,  -4.55852143e+02,\n",
      "         -2.50045780e+01,  -2.72483249e+01,   1.80337545e+02,\n",
      "         -1.24233759e+02,   3.21275940e+01,  -1.78016724e+02,\n",
      "         -4.33244911e+01,  -2.71015518e+01,   4.91016929e+01,\n",
      "          5.27606091e+01,   2.33540638e+02,   1.17959578e+01,\n",
      "          3.27911491e+01,  -5.03082386e+01,   5.04035049e+01,\n",
      "          2.88796759e+02,   1.96610988e+02,  -1.89820906e+02,\n",
      "          1.84178881e+02,   7.65409803e+00,  -4.75949982e+01,\n",
      "         -3.40394403e+01,  -2.19288986e+02,  -4.77762820e+01,\n",
      "          4.41412793e+01,   3.26102846e+02,  -2.90964081e+02,\n",
      "          1.99143587e+02,  -1.88170407e+02,  -1.11312273e+02,\n",
      "         -2.76102720e+02]]))\n"
     ]
    }
   ],
   "source": [
    "test_proj = np.matmul((X[0:10,:] - np.mean(X, axis=0)), pca_model.components_.T)\n",
    "print(\"The L2 distance: %.5f\" % np.sum(np.square(test_proj-X_prj[0:10,:])))\n",
    "print(\"test_proj\", test_proj)\n",
    "print(\"X_prj[0:10,:]\", X_prj[0:10,:])"
   ]
  },
  {
   "cell_type": "markdown",
   "metadata": {
    "id": "UjpmdeUf24Sc"
   },
   "source": [
    "## 3. Model Selection"
   ]
  },
  {
   "cell_type": "markdown",
   "metadata": {
    "id": "1IrEung724Sc"
   },
   "source": [
    "### Train-Test splitting."
   ]
  },
  {
   "cell_type": "code",
   "execution_count": null,
   "metadata": {
    "id": "zcd9q-nd24Sc"
   },
   "outputs": [],
   "source": [
    "X_train, X_test, Y_train, Y_test = train_test_split(X_prj, Y, test_size=0.33, random_state=0)"
   ]
  },
  {
   "cell_type": "markdown",
   "metadata": {
    "id": "lnU2HBcS24Sc"
   },
   "source": [
    "### Logistic Regression"
   ]
  },
  {
   "cell_type": "code",
   "execution_count": null,
   "metadata": {
    "id": "gHFpzdhB24Sd",
    "outputId": "591640c2-454d-4331-a32b-bdf2320758fc",
    "scrolled": true
   },
   "outputs": [
    {
     "name": "stderr",
     "output_type": "stream",
     "text": [
      "/home/ai4u/build/anaconda2/envs/tf_built/lib/python2.7/site-packages/sklearn/linear_model/logistic.py:433: FutureWarning: Default solver will be changed to 'lbfgs' in 0.22. Specify a solver to silence this warning.\n",
      "  FutureWarning)\n",
      "/home/ai4u/build/anaconda2/envs/tf_built/lib/python2.7/site-packages/sklearn/linear_model/logistic.py:460: FutureWarning: Default multi_class will be changed to 'auto' in 0.22. Specify the multi_class option to silence this warning.\n",
      "  \"this warning.\", FutureWarning)\n"
     ]
    },
    {
     "name": "stdout",
     "output_type": "stream",
     "text": [
      "Accuracy on test set: 0.806173\n"
     ]
    },
    {
     "name": "stderr",
     "output_type": "stream",
     "text": [
      "/home/ai4u/build/anaconda2/envs/tf_built/lib/python2.7/site-packages/sklearn/svm/base.py:931: ConvergenceWarning: Liblinear failed to converge, increase the number of iterations.\n",
      "  \"the number of iterations.\", ConvergenceWarning)\n"
     ]
    }
   ],
   "source": [
    "clf =LogisticRegression()\n",
    "clf.fit(X_train, Y_train)\n",
    "Y_pred = clf.predict(X_test)\n",
    "print(\"Accuracy on test set: %.6f\" %(np.sum(Y_pred == Y_test) / len(Y_pred)))"
   ]
  },
  {
   "cell_type": "markdown",
   "metadata": {
    "id": "CGe_wBQS24Sd"
   },
   "source": [
    "### Support Vector Machine with Linear Kernel"
   ]
  },
  {
   "cell_type": "code",
   "execution_count": null,
   "metadata": {
    "id": "tXtyhDUj24Se",
    "outputId": "3d27c2fe-3556-4d45-a504-7fd631dcebc0",
    "scrolled": true
   },
   "outputs": [
    {
     "name": "stdout",
     "output_type": "stream",
     "text": [
      "Accuracy on test set: 0.886420\n"
     ]
    }
   ],
   "source": [
    "clf =SVC(kernel='linear', C=1.0)\n",
    "clf.fit(X_train, Y_train)\n",
    "Y_pred = clf.predict(X_test)\n",
    "print(\"Accuracy on test set: %.6f\" %(np.sum(Y_pred == Y_test) / len(Y_pred)))"
   ]
  },
  {
   "cell_type": "markdown",
   "metadata": {
    "id": "1lmfZXxk24Se"
   },
   "source": [
    "#### You can change the kernel to 'rbf' and see what happens"
   ]
  },
  {
   "cell_type": "markdown",
   "metadata": {
    "id": "t3buQ5IK24Sf"
   },
   "source": [
    "### Two hidden layers Neural Networks"
   ]
  },
  {
   "cell_type": "markdown",
   "metadata": {
    "id": "PzNty9VC24Sf"
   },
   "source": [
    "#### Feel free to change the number units of hidden layers and observe how it will affect the performance. <br>Tips: Increase the number of parameters when the model under-fits the data and decrease the number of params when the model over-fits the data"
   ]
  },
  {
   "cell_type": "code",
   "execution_count": null,
   "metadata": {
    "id": "59uk4xVp24Sf",
    "outputId": "d1a2be42-4782-4b18-908c-05cf52dd583f",
    "scrolled": true
   },
   "outputs": [
    {
     "name": "stdout",
     "output_type": "stream",
     "text": [
      "Accuracy on test set: 0.907407\n"
     ]
    }
   ],
   "source": [
    "clf = MLPClassifier(activation = 'logistic', hidden_layer_sizes=(850, 50), random_state=0, max_iter=200)\n",
    "clf.fit(X_train, Y_train)\n",
    "Y_pred = clf.predict(X_test)\n",
    "print(\"Accuracy on test set: %.6f\" %(np.sum(Y_pred == Y_test) / len(Y_pred)))"
   ]
  },
  {
   "cell_type": "markdown",
   "metadata": {
    "id": "ttM8tz7C24Sg"
   },
   "source": [
    "### A short introduction to Tensorflow"
   ]
  },
  {
   "cell_type": "code",
   "execution_count": null,
   "metadata": {
    "id": "HU3t7jge24Sg"
   },
   "outputs": [],
   "source": [
    "import tensorflow as tf\n",
    "from tensorflow.python.framework import ops"
   ]
  },
  {
   "cell_type": "code",
   "execution_count": null,
   "metadata": {
    "collapsed": true,
    "id": "oWFEr-SO24Sg"
   },
   "outputs": [],
   "source": [
    "# Parameters\n",
    "learning_rate = 0.1\n",
    "num_steps = 300\n",
    "batch_size = 128\n",
    "display_step = 50\n",
    "\n",
    "# Network Parameters\n",
    "n_hidden_1 = 850 # 1st layer number of neurons\n",
    "n_hidden_2 = 50 # 2nd layer number of neurons\n",
    "num_input =  100# MNIST data input (img shape: 28*28)\n",
    "num_classes = len(subjects) # MNIST total classes (0-9 digits)\n"
   ]
  },
  {
   "cell_type": "code",
   "execution_count": null,
   "metadata": {
    "id": "xBec27W524Sg"
   },
   "outputs": [],
   "source": [
    "tf.reset_default_graph()\n",
    "#del graph\n",
    "graph = tf.Graph()\n",
    "sess = tf.InteractiveSession(graph=graph)\n",
    "\n",
    "with graph.as_default():\n",
    "    # Define the computation graph (your neural networks)\n",
    "    # Store layers weight & bias\n",
    "    weights = {\n",
    "        'h1': tf.Variable(tf.random_normal([num_input, n_hidden_1])),\n",
    "        'h2': tf.Variable(tf.random_normal([n_hidden_1, n_hidden_2])),\n",
    "        'out': tf.Variable(tf.random_normal([n_hidden_2, num_classes]))\n",
    "    }\n",
    "    biases = {\n",
    "        'b1': tf.Variable(tf.random_normal([n_hidden_1])),\n",
    "        'b2': tf.Variable(tf.random_normal([n_hidden_2])),\n",
    "        'out': tf.Variable(tf.random_normal([num_classes]))\n",
    "    }\n",
    "    # tf Graph input\n",
    "    Xp = tf.placeholder(name = \"input\", shape=[None, num_input], dtype = tf.float32)\n",
    "    Yp = tf.placeholder(name='labels', shape=None, dtype=tf.int64)\n",
    "    is_training = tf.placeholder(name='is_training', dtype=tf.bool)\n",
    "    keep_prob = tf.placeholder(tf.float32) # dropout (keep probability)\n",
    "\n",
    "    fc1 = tf.add(tf.matmul(Xp, weights['h1']), biases['b1']) #w1*x+b1\n",
    "    #fc1 = tf.contrib.layers.batch_norm(fc1, is_training=is_training)\n",
    "    #fc1 = tf.nn.relu(fc1)\n",
    "    #fc1 = tf.nn.dropout(fc1, keep_prob)\n",
    "    # Hidden fully connected layer with 256 neurons\n",
    "    fc2 = tf.add(tf.matmul(fc1, weights['h2']), biases['b2']) #w2*fc1 + b2\n",
    "    fc2 = tf.contrib.layers.batch_norm(fc2, is_training=is_training)\n",
    "    fc2 = tf.nn.relu(fc2)\n",
    "    #fc2 = tf.nn.dropout(fc2, keep_prob)\n",
    "    # Output fully connected layer with a neuron for each class\n",
    "    logits = tf.matmul(fc2, weights['out']) + biases['out']# w3*fc2+b3\n",
    "    logits = tf.nn.dropout(logits, keep_prob)\n",
    "    \n",
    "    # Define loss and optimizer\n",
    "    loss_op = tf.reduce_mean(tf.nn.sparse_softmax_cross_entropy_with_logits(\n",
    "        logits=logits, labels=Yp))\n",
    "    optimizer = tf.train.AdamOptimizer(learning_rate=learning_rate)\n",
    "    with tf.control_dependencies(tf.get_collection(tf.GraphKeys.UPDATE_OPS)):\n",
    "        train_op = optimizer.minimize(loss_op)\n",
    "    #train_op = optimizer.minimize(loss_op)\n",
    "\n",
    "    # Evaluate model (with test logits, for dropout to be disabled)\n",
    "    pred = tf.argmax(logits, 1)\n",
    "    correct_pred = tf.equal(tf.argmax(logits, 1), Yp)\n",
    "    accuracy = tf.reduce_mean(tf.cast(correct_pred, tf.float32))\n",
    "\n",
    "    # Initialize the variables (i.e. assign their default value)\n",
    "    init = tf.global_variables_initializer()"
   ]
  },
  {
   "cell_type": "markdown",
   "metadata": {
    "id": "IqweUoS624Sh"
   },
   "source": [
    "#### You could uncomment some lines in the above code for fine-tunning the model. I had used BatchNorm and Dropout layers to make the model more stable. The theory of these techniques can be found at: <br>\n",
    "https://arxiv.org/abs/1502.03167 Batch Normalization: Accelerating Deep Network Training by Reducing Internal Covariate Shift\n",
    "http://jmlr.org/papers/v15/srivastava14a.html Dropout: A Simple Way to Prevent Neural Networks from Overfitting "
   ]
  },
  {
   "cell_type": "code",
   "execution_count": null,
   "metadata": {
    "collapsed": true,
    "id": "ipXj_1RB24Sh"
   },
   "outputs": [],
   "source": [
    "# ??  tf.nn.sparse_softmax_cross_entropy_with_logits"
   ]
  },
  {
   "cell_type": "code",
   "execution_count": null,
   "metadata": {
    "id": "Z1-33bqx24Si",
    "outputId": "621e6a23-0008-4962-861e-4fffbb496870",
    "scrolled": true
   },
   "outputs": [
    {
     "name": "stdout",
     "output_type": "stream",
     "text": [
      "Step 0, Minibatch Loss= 974.2451, Training Accuracy= 0.031\n",
      "Step 0, Minibatch Loss= 458.8027, Training Accuracy= 0.109\n",
      "Step 0, Minibatch Loss= 273.6662, Training Accuracy= 0.055\n",
      "Step 0, Minibatch Loss= 215.8710, Training Accuracy= 0.086\n",
      "Step 0, Minibatch Loss= 169.6773, Training Accuracy= 0.062\n",
      "Step 0, Minibatch Loss= 144.6219, Training Accuracy= 0.141\n",
      "Step 0, Minibatch Loss= 139.2727, Training Accuracy= 0.047\n",
      "Step 0, Minibatch Loss= 141.0641, Training Accuracy= 0.039\n",
      "Step 0, Minibatch Loss= 108.8144, Training Accuracy= 0.086\n",
      "Step 0, Minibatch Loss= 105.7835, Training Accuracy= 0.062\n",
      "Step 0, Minibatch Loss= 95.0523, Training Accuracy= 0.062\n",
      "Step 0, Minibatch Loss= 78.8532, Training Accuracy= 0.047\n",
      "Step 1, Minibatch Loss= 78.3092, Training Accuracy= 0.031\n",
      "Step 1, Minibatch Loss= 71.7261, Training Accuracy= 0.078\n",
      "Step 1, Minibatch Loss= 70.4906, Training Accuracy= 0.086\n",
      "Step 1, Minibatch Loss= 85.7844, Training Accuracy= 0.055\n",
      "Step 1, Minibatch Loss= 68.5329, Training Accuracy= 0.070\n",
      "Step 1, Minibatch Loss= 58.9395, Training Accuracy= 0.102\n",
      "Step 1, Minibatch Loss= 62.9676, Training Accuracy= 0.047\n",
      "Step 1, Minibatch Loss= 64.6952, Training Accuracy= 0.078\n",
      "Step 1, Minibatch Loss= 61.5699, Training Accuracy= 0.078\n",
      "Step 1, Minibatch Loss= 61.7224, Training Accuracy= 0.094\n",
      "Step 1, Minibatch Loss= 63.1849, Training Accuracy= 0.055\n",
      "Step 1, Minibatch Loss= 54.3176, Training Accuracy= 0.109\n",
      "Step 50, Minibatch Loss= 0.3873, Training Accuracy= 0.914\n",
      "Step 50, Minibatch Loss= 0.2947, Training Accuracy= 0.938\n",
      "Step 50, Minibatch Loss= 0.1412, Training Accuracy= 0.930\n",
      "Step 50, Minibatch Loss= 0.4609, Training Accuracy= 0.883\n",
      "Step 50, Minibatch Loss= 0.5034, Training Accuracy= 0.898\n",
      "Step 50, Minibatch Loss= 0.4360, Training Accuracy= 0.883\n",
      "Step 50, Minibatch Loss= 0.5980, Training Accuracy= 0.852\n",
      "Step 50, Minibatch Loss= 0.5787, Training Accuracy= 0.859\n",
      "Step 50, Minibatch Loss= 0.5581, Training Accuracy= 0.898\n",
      "Step 50, Minibatch Loss= 1.1007, Training Accuracy= 0.805\n",
      "Step 50, Minibatch Loss= 1.0527, Training Accuracy= 0.789\n",
      "Step 50, Minibatch Loss= 0.8636, Training Accuracy= 0.852\n",
      "Step 100, Minibatch Loss= 0.1661, Training Accuracy= 0.961\n",
      "Step 100, Minibatch Loss= 0.1498, Training Accuracy= 0.953\n",
      "Step 100, Minibatch Loss= 0.1252, Training Accuracy= 0.977\n",
      "Step 100, Minibatch Loss= 0.6818, Training Accuracy= 0.883\n",
      "Step 100, Minibatch Loss= 0.4775, Training Accuracy= 0.922\n",
      "Step 100, Minibatch Loss= 0.2461, Training Accuracy= 0.953\n",
      "Step 100, Minibatch Loss= 0.3862, Training Accuracy= 0.906\n",
      "Step 100, Minibatch Loss= 0.4504, Training Accuracy= 0.922\n",
      "Step 100, Minibatch Loss= 0.2298, Training Accuracy= 0.930\n",
      "Step 100, Minibatch Loss= 0.4586, Training Accuracy= 0.906\n",
      "Step 100, Minibatch Loss= 0.3921, Training Accuracy= 0.930\n",
      "Step 100, Minibatch Loss= 0.3630, Training Accuracy= 0.930\n",
      "Step 150, Minibatch Loss= 0.2629, Training Accuracy= 0.961\n",
      "Step 150, Minibatch Loss= 0.1638, Training Accuracy= 0.961\n",
      "Step 150, Minibatch Loss= 0.0874, Training Accuracy= 0.984\n",
      "Step 150, Minibatch Loss= 0.2905, Training Accuracy= 0.953\n",
      "Step 150, Minibatch Loss= 0.1563, Training Accuracy= 0.945\n",
      "Step 150, Minibatch Loss= 0.0559, Training Accuracy= 0.984\n",
      "Step 150, Minibatch Loss= 0.0962, Training Accuracy= 0.977\n",
      "Step 150, Minibatch Loss= 0.0604, Training Accuracy= 0.969\n",
      "Step 150, Minibatch Loss= 0.0411, Training Accuracy= 0.984\n",
      "Step 150, Minibatch Loss= 0.2647, Training Accuracy= 0.938\n",
      "Step 150, Minibatch Loss= 0.0366, Training Accuracy= 0.992\n",
      "Step 150, Minibatch Loss= 0.0934, Training Accuracy= 0.984\n",
      "Step 200, Minibatch Loss= 0.5840, Training Accuracy= 0.922\n",
      "Step 200, Minibatch Loss= 0.7209, Training Accuracy= 0.922\n",
      "Step 200, Minibatch Loss= 0.3274, Training Accuracy= 0.945\n",
      "Step 200, Minibatch Loss= 1.1814, Training Accuracy= 0.875\n",
      "Step 200, Minibatch Loss= 0.8136, Training Accuracy= 0.852\n",
      "Step 200, Minibatch Loss= 0.7508, Training Accuracy= 0.906\n",
      "Step 200, Minibatch Loss= 1.2097, Training Accuracy= 0.836\n",
      "Step 200, Minibatch Loss= 1.0127, Training Accuracy= 0.859\n",
      "Step 200, Minibatch Loss= 1.1354, Training Accuracy= 0.867\n",
      "Step 200, Minibatch Loss= 1.4460, Training Accuracy= 0.859\n",
      "Step 200, Minibatch Loss= 1.5207, Training Accuracy= 0.844\n",
      "Step 200, Minibatch Loss= 1.3695, Training Accuracy= 0.844\n",
      "Step 250, Minibatch Loss= 0.3265, Training Accuracy= 0.953\n",
      "Step 250, Minibatch Loss= 0.0654, Training Accuracy= 0.969\n",
      "Step 250, Minibatch Loss= 0.1871, Training Accuracy= 0.961\n",
      "Step 250, Minibatch Loss= 0.2073, Training Accuracy= 0.961\n",
      "Step 250, Minibatch Loss= 0.2153, Training Accuracy= 0.945\n",
      "Step 250, Minibatch Loss= 0.2022, Training Accuracy= 0.969\n",
      "Step 250, Minibatch Loss= 0.1040, Training Accuracy= 0.969\n",
      "Step 250, Minibatch Loss= 0.2324, Training Accuracy= 0.930\n",
      "Step 250, Minibatch Loss= 0.0437, Training Accuracy= 0.984\n",
      "Step 250, Minibatch Loss= 0.5477, Training Accuracy= 0.945\n",
      "Step 250, Minibatch Loss= 0.2194, Training Accuracy= 0.953\n",
      "Step 250, Minibatch Loss= 0.1348, Training Accuracy= 0.961\n",
      "Optimization Finished!\n"
     ]
    }
   ],
   "source": [
    "with graph.as_default():\n",
    "    sess.run(init)\n",
    "    for step in range(num_steps):\n",
    "        batch_begin = 0\n",
    "        while batch_begin + batch_size<= len(X_train):\n",
    "            batch_x = X_train[batch_begin:batch_begin+batch_size]\n",
    "            batch_y = Y_train[batch_begin:batch_begin+batch_size]\n",
    "            sess.run(train_op, feed_dict={Xp: batch_x, Yp: batch_y.astype(np.int64), keep_prob: 0.5, is_training:True})\n",
    "            if step % display_step == 0 or step == 1:\n",
    "                # Calculate batch loss and accuracy\n",
    "                loss, acc = sess.run([loss_op, accuracy], feed_dict={Xp: batch_x,\n",
    "                                                                     Yp: batch_y.astype(np.int64),\n",
    "                                                                     keep_prob: 1.0, is_training:False})\n",
    "                print(\"Step \" + str(step) + \", Minibatch Loss= \" + \\\n",
    "                      \"{:.4f}\".format(loss) + \", Training Accuracy= \" + \\\n",
    "                      \"{:.3f}\".format(acc))\n",
    "        \n",
    "            batch_begin+=batch_size\n",
    "print(\"Optimization Finished!\")"
   ]
  },
  {
   "cell_type": "code",
   "execution_count": null,
   "metadata": {
    "id": "EB63XJJv24Si",
    "outputId": "dce74a63-6d2d-4e26-98a7-db588d0bd1ee",
    "scrolled": false
   },
   "outputs": [
    {
     "name": "stdout",
     "output_type": "stream",
     "text": [
      "Accuracy test set : 0.885\n"
     ]
    }
   ],
   "source": [
    "with graph.as_default():\n",
    "    Y_pred, acc = sess.run([pred, accuracy], feed_dict={Xp: X_test,\n",
    "                                                                     Yp: Y_test.astype(np.int64),\n",
    "                                                                     keep_prob: 1.0, is_training:False})\n",
    "    print(\"Accuracy test set : \" + \\\n",
    "                      \"{:.3f}\".format(acc))"
   ]
  },
  {
   "cell_type": "markdown",
   "metadata": {
    "id": "ruavUO0F24Sj"
   },
   "source": [
    "### Exercise:\n",
    "#### Split the data to 3 different sets: train, dev and test. Use the train-set for training, dev-set for tunning, and finally evaluate the model performance on test-set"
   ]
  },
  {
   "cell_type": "code",
   "execution_count": null,
   "metadata": {
    "collapsed": true,
    "id": "52G7s5nr24Sj"
   },
   "outputs": [],
   "source": []
  }
 ],
 "metadata": {
  "colab": {
   "name": "ModelSelection.ipynb",
   "provenance": []
  },
  "kernelspec": {
   "display_name": "Python 3",
   "language": "python",
   "name": "python3"
  },
  "language_info": {
   "codemirror_mode": {
    "name": "ipython",
    "version": 3
   },
   "file_extension": ".py",
   "mimetype": "text/x-python",
   "name": "python",
   "nbconvert_exporter": "python",
   "pygments_lexer": "ipython3",
   "version": "3.8.8"
  }
 },
 "nbformat": 4,
 "nbformat_minor": 1
}
