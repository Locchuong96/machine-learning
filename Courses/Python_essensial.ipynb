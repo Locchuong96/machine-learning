{
  "nbformat": 4,
  "nbformat_minor": 0,
  "metadata": {
    "colab": {
      "name": "Python_essensial.ipynb",
      "provenance": [],
      "collapsed_sections": [
        "dKTqfFOsk6V1",
        "B8McvReDm7la",
        "3r3I7tPLn-pn",
        "5jecdCpzlBPf",
        "8yfr1w9kreep",
        "Wb905tDzr_Bi",
        "OiPp0GjIlJFu",
        "5bjw61tb4zrx"
      ]
    },
    "kernelspec": {
      "name": "python3",
      "display_name": "Python 3"
    },
    "language_info": {
      "name": "python"
    }
  },
  "cells": [
    {
      "cell_type": "markdown",
      "source": [
        "https://www.geeksforgeeks.org/destructors-in-python/?ref=lbp\n",
        "\n",
        "https://www.geeksforgeeks.org/constructors-in-python/?ref=lbp\n",
        "\n",
        "https://www.geeksforgeeks.org/python-classes-and-objects/?ref=lbp\n",
        "\n",
        "https://www.geeksforgeeks.org/inheritance-in-python/\n",
        "\n",
        "https://www.geeksforgeeks.org/python-super/"
      ],
      "metadata": {
        "id": "HrjogoL67tbe"
      }
    },
    {
      "cell_type": "markdown",
      "source": [
        ""
      ],
      "metadata": {
        "id": "_VF_8UcU7rT1"
      }
    },
    {
      "cell_type": "markdown",
      "source": [
        "### Python iter() method\n",
        "\n",
        "python iter() method returns the iterator object, it is used to convert an iterable to the iterator.\n",
        "\n",
        "```\n",
        "  Syntax : iter(obj, sentinel)\n",
        "\n",
        "  Parameters : \n",
        "\n",
        "  - obj : Object which has to be converted to iterable ( usually an iterator ).\n",
        "  - sentinel : value used to represent end of sequence.\n",
        "\n",
        "  Returns : Iterator object\n",
        "```\n",
        "**Properties of Iterators:**\n",
        "\n",
        "Iteration object remembers iteration count via internal count variable.\n",
        "Once the iteration is complete, it raises a StopIteration exception and the iteration count cannot be reassigned to 0.\n",
        "Therefore, it can be used to traverse the container just once."
      ],
      "metadata": {
        "id": "dKTqfFOsk6V1"
      }
    },
    {
      "cell_type": "markdown",
      "source": [
        "### Example iterate list"
      ],
      "metadata": {
        "id": "B8McvReDm7la"
      }
    },
    {
      "cell_type": "code",
      "source": [
        "list1 = [1,2,3,4,5]\n",
        "\n",
        "# Print type of iterator\n",
        "print(\"The list is type of: \" + str(type(list1)))\n",
        "\n",
        "# Converting list using iter()\n",
        "iter1 = iter(list1)\n",
        "\n",
        "# Print type of iterator\n",
        "print(\"The iterator is type of: \" + str(type(iter1)))\n",
        "\n",
        "# Using next() to print iterator values, the internal counter will auto increase"
      ],
      "metadata": {
        "colab": {
          "base_uri": "https://localhost:8080/"
        },
        "id": "wxGgA0WfnBm7",
        "outputId": "fbe78854-9d80-49f2-ba51-b2f859eb3f81"
      },
      "execution_count": null,
      "outputs": [
        {
          "output_type": "stream",
          "name": "stdout",
          "text": [
            "The list is type of: <class 'list'>\n",
            "The iterator is type of: <class 'list_iterator'>\n"
          ]
        }
      ]
    },
    {
      "cell_type": "code",
      "source": [
        "next(iter1)"
      ],
      "metadata": {
        "colab": {
          "base_uri": "https://localhost:8080/"
        },
        "id": "E7d4--NFn3ED",
        "outputId": "f36d7018-b0c0-4679-eca9-76d7e0a12da5"
      },
      "execution_count": null,
      "outputs": [
        {
          "output_type": "execute_result",
          "data": {
            "text/plain": [
              "1"
            ]
          },
          "metadata": {},
          "execution_count": 3
        }
      ]
    },
    {
      "cell_type": "code",
      "source": [
        "next(iter1)"
      ],
      "metadata": {
        "colab": {
          "base_uri": "https://localhost:8080/"
        },
        "id": "QLYrz2X_n8TK",
        "outputId": "63389af6-c3db-4898-80d0-e53c0335a6e6"
      },
      "execution_count": null,
      "outputs": [
        {
          "output_type": "execute_result",
          "data": {
            "text/plain": [
              "2"
            ]
          },
          "metadata": {},
          "execution_count": 4
        }
      ]
    },
    {
      "cell_type": "markdown",
      "source": [
        "### Example2: Python iterate list with index"
      ],
      "metadata": {
        "id": "3r3I7tPLn-pn"
      }
    },
    {
      "cell_type": "code",
      "source": [
        "list2 = [1,2,3,4,5]\n",
        "\n",
        "iter2 = iter(list2) \n",
        "\n",
        "# print this\n",
        "print('Values at 1st iteration: ')\n",
        "for i in range(0,len(list2)):\n",
        "  print(next(iter2))\n",
        "\n",
        "# does not print this\n",
        "print('Values at 2nd iteration: ')\n",
        "for i in range(0,len(list2)):\n",
        "  print(next(iter2))"
      ],
      "metadata": {
        "colab": {
          "base_uri": "https://localhost:8080/",
          "height": 335
        },
        "id": "vSOfj_gnoG24",
        "outputId": "03c6f105-a375-4466-9930-6ce6bba7f89f"
      },
      "execution_count": null,
      "outputs": [
        {
          "output_type": "stream",
          "name": "stdout",
          "text": [
            "Values at 1st iteration: \n",
            "1\n",
            "2\n",
            "3\n",
            "4\n",
            "5\n",
            "Values at 2nd iteration: \n"
          ]
        },
        {
          "output_type": "error",
          "ename": "StopIteration",
          "evalue": "ignored",
          "traceback": [
            "\u001b[0;31m---------------------------------------------------------------------------\u001b[0m",
            "\u001b[0;31mStopIteration\u001b[0m                             Traceback (most recent call last)",
            "\u001b[0;32m<ipython-input-6-098313cc017f>\u001b[0m in \u001b[0;36m<module>\u001b[0;34m()\u001b[0m\n\u001b[1;32m     11\u001b[0m \u001b[0mprint\u001b[0m\u001b[0;34m(\u001b[0m\u001b[0;34m'Values at 2nd iteration: '\u001b[0m\u001b[0;34m)\u001b[0m\u001b[0;34m\u001b[0m\u001b[0;34m\u001b[0m\u001b[0m\n\u001b[1;32m     12\u001b[0m \u001b[0;32mfor\u001b[0m \u001b[0mi\u001b[0m \u001b[0;32min\u001b[0m \u001b[0mrange\u001b[0m\u001b[0;34m(\u001b[0m\u001b[0;36m0\u001b[0m\u001b[0;34m,\u001b[0m\u001b[0mlen\u001b[0m\u001b[0;34m(\u001b[0m\u001b[0mlist2\u001b[0m\u001b[0;34m)\u001b[0m\u001b[0;34m)\u001b[0m\u001b[0;34m:\u001b[0m\u001b[0;34m\u001b[0m\u001b[0;34m\u001b[0m\u001b[0m\n\u001b[0;32m---> 13\u001b[0;31m   \u001b[0mprint\u001b[0m\u001b[0;34m(\u001b[0m\u001b[0mnext\u001b[0m\u001b[0;34m(\u001b[0m\u001b[0miter2\u001b[0m\u001b[0;34m)\u001b[0m\u001b[0;34m)\u001b[0m\u001b[0;34m\u001b[0m\u001b[0;34m\u001b[0m\u001b[0m\n\u001b[0m",
            "\u001b[0;31mStopIteration\u001b[0m: "
          ]
        }
      ]
    },
    {
      "cell_type": "markdown",
      "source": [
        "### Python map() method\n",
        "\n",
        "map() function returns a map object(which is an iterator) of the results after applying the given function to each item of a given iterable (list, tuple etc.)\n",
        "\n",
        "**Syntax** :\n",
        "```\n",
        "map(fun, iter)\n",
        "```\n",
        "**Parameters** :\n",
        "```\n",
        "fun : It is a function to which map passes each element of given iterable.\n",
        "iter : It is a iterable which is to be mapped.\n",
        "```\n",
        "**NOTE** : You can pass one or more iterable to the map() function.\n",
        "\n",
        "**Returns** : Returns a list of the results after applying the given function  \n",
        "to each item of a given iterable (list, tuple etc.) \n",
        " \n",
        "**NOTE** : The returned value from map() (map object) then can be passed to functions like list() (to create a list), set() (to create a set) .\n",
        " "
      ],
      "metadata": {
        "id": "5jecdCpzlBPf"
      }
    },
    {
      "cell_type": "markdown",
      "source": [
        "**CODE1**"
      ],
      "metadata": {
        "id": "XyXlFQalqp3c"
      }
    },
    {
      "cell_type": "code",
      "source": [
        "def addition(n):\n",
        "  '''\n",
        "  The function apply to each element of interator\n",
        "  Arguments:\n",
        "  n --- the number element\n",
        "  Return:\n",
        "  Sum of n and n\n",
        "  '''\n",
        "  return n + n "
      ],
      "metadata": {
        "id": "oB1_yvVuqfeW"
      },
      "execution_count": null,
      "outputs": []
    },
    {
      "cell_type": "code",
      "source": [
        "# We double all number using map()\n",
        "\n",
        "numbers = (1,2,3,4)\n",
        "\n",
        "result = map(addition,numbers)\n",
        "\n",
        "print(list(result))"
      ],
      "metadata": {
        "colab": {
          "base_uri": "https://localhost:8080/"
        },
        "id": "pss00XyjrMvx",
        "outputId": "1805201f-85cd-4797-9cf0-250cb0a2a324"
      },
      "execution_count": null,
      "outputs": [
        {
          "output_type": "stream",
          "name": "stdout",
          "text": [
            "[2, 4, 6, 8]\n"
          ]
        }
      ]
    },
    {
      "cell_type": "markdown",
      "source": [
        "### CODE2 \n",
        "you can also use lambda expressions\n"
      ],
      "metadata": {
        "id": "8yfr1w9kreep"
      }
    },
    {
      "cell_type": "code",
      "source": [
        "numbers = (1,2,3,4)\n",
        "result = map(lambda x: x+x,numbers)\n",
        "\n",
        "print(list(result))"
      ],
      "metadata": {
        "colab": {
          "base_uri": "https://localhost:8080/"
        },
        "id": "AruvjqVord2x",
        "outputId": "e2058a3b-d5ca-461e-bf09-66af31c3bf36"
      },
      "execution_count": null,
      "outputs": [
        {
          "output_type": "stream",
          "name": "stdout",
          "text": [
            "[2, 4, 6, 8]\n"
          ]
        }
      ]
    },
    {
      "cell_type": "markdown",
      "source": [
        "### CODE3"
      ],
      "metadata": {
        "id": "Wb905tDzr_Bi"
      }
    },
    {
      "cell_type": "code",
      "source": [
        "nums1 = [1,2,3,4,5]\n",
        "nums2  = [10,20,30,40,50]\n",
        "\n",
        "result = map(lambda x,y: x+ y,nums1,nums2)\n",
        "\n",
        "print(list(result))"
      ],
      "metadata": {
        "colab": {
          "base_uri": "https://localhost:8080/"
        },
        "id": "hmABbidesCD4",
        "outputId": "a83471c1-402d-480f-83c7-290515087c9f"
      },
      "execution_count": null,
      "outputs": [
        {
          "output_type": "stream",
          "name": "stdout",
          "text": [
            "[11, 22, 33, 44, 55]\n"
          ]
        }
      ]
    },
    {
      "cell_type": "markdown",
      "source": [
        "**CODE4:** listify element in a list"
      ],
      "metadata": {
        "id": "9_jl6T6esaKi"
      }
    },
    {
      "cell_type": "code",
      "source": [
        "l = ['sat','bat','cat','mat']\n",
        "test = list(map(list,l)) # list function list each element in l\n",
        "print(test)"
      ],
      "metadata": {
        "colab": {
          "base_uri": "https://localhost:8080/"
        },
        "id": "isiTwuiLsh1a",
        "outputId": "ef6a126f-690e-40f0-ab67-250f1af3f689"
      },
      "execution_count": null,
      "outputs": [
        {
          "output_type": "stream",
          "name": "stdout",
          "text": [
            "[['s', 'a', 't'], ['b', 'a', 't'], ['c', 'a', 't'], ['m', 'a', 't']]\n"
          ]
        }
      ]
    },
    {
      "cell_type": "markdown",
      "source": [
        "### *args and **kwargs in Python\n",
        "\n",
        "In Python, we can pass a variable number of arguments to a function using special symbols. There are two special symbols\n",
        "\n",
        "![image.png](data:image/png;base64,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)\n",
        "\n",
        "Special Symbols Used for passing arguments:-\n",
        "\n",
        "1.)*args (Non-Keyword Arguments)\n",
        "\n",
        "2.)**kwargs (Keyword Arguments)\n",
        "\n",
        "```\n",
        "Note: “We use the “wildcard” or “*” notation like this – *args OR **kwargs – as our function’s argument when we have doubts about the number of  arguments we should pass in a function.” \n",
        "```\n",
        "\n",
        "1.) *args\n",
        "\n",
        "The special syntax *args in function definitions in python is used to pass a variable number of arguments to a function. It is used to pass a non-key worded, variable-length argument list. \n",
        "\n",
        "The syntax is to use the symbol * to take in a variable number of arguments; by convention, it is often used with the word args.\n",
        "What *args allows you to do is take in more arguments than the number of formal arguments that you previously defined. With *args, any number of extra arguments can be tacked on to your current formal parameters (including zero extra arguments).\n",
        "For example : we want to make a multiply function that takes any number of arguments and able to multiply them all together. It can be done using *args.\n",
        "Using the *, the variable that we associate with the * becomes an iterable meaning you can do things like iterate over it, run some higher-order functions such as map and filter, etc."
      ],
      "metadata": {
        "id": "OiPp0GjIlJFu"
      }
    },
    {
      "cell_type": "code",
      "source": [
        "# Python program to illustrate\n",
        "def myFun(*argv):\n",
        "  for arg in argv:\n",
        "    print(arg)\n",
        "\n",
        "myFun('Hello','Welcome','to','GeekforGeeks')"
      ],
      "metadata": {
        "colab": {
          "base_uri": "https://localhost:8080/"
        },
        "id": "fBnu2oy_vKvP",
        "outputId": "0fd757f5-527e-44f4-e7b9-d7be199374e2"
      },
      "execution_count": null,
      "outputs": [
        {
          "output_type": "stream",
          "name": "stdout",
          "text": [
            "Hello\n",
            "Welcome\n",
            "to\n",
            "GeekforGeeks\n"
          ]
        }
      ]
    },
    {
      "cell_type": "code",
      "source": [
        "# *arg with the first extra\n",
        "def myFun(arg1,*argv):\n",
        "  print('First argument :',arg1)\n",
        "  for arg in argv:\n",
        "    print('Next argment through *argv :', arg) \n",
        "myFun('Hello','Wellcome','To','GeeksforGeeks')"
      ],
      "metadata": {
        "colab": {
          "base_uri": "https://localhost:8080/"
        },
        "id": "99U5yn-Zvhus",
        "outputId": "c8bc5589-7aea-4665-c0e2-99fa9a0e8ae3"
      },
      "execution_count": null,
      "outputs": [
        {
          "output_type": "stream",
          "name": "stdout",
          "text": [
            "First argument : Hello\n",
            "Next argment through *argv : Wellcome\n",
            "Next argment through *argv : To\n",
            "Next argment through *argv : GeeksforGeeks\n"
          ]
        }
      ]
    },
    {
      "cell_type": "markdown",
      "source": [
        "2.)**kwargs\n",
        "\n",
        "The special syntax **kwargs in function definitions in python is used to pass a keyworded, variable-length argument list. We use the name kwargs with the double star. The reason is because the double star allows us to pass through keyword arguments (and any number of them).\n",
        "\n",
        "A keyword argument is where you provide a name to the variable as you pass it into the function.\n",
        "One can think of the kwargs as being a dictionary that maps each keyword to the value that we pass alongside it. That is why when we iterate over the kwargs there doesn’t seem to be any order in which they were printed out."
      ],
      "metadata": {
        "id": "O98lYnagwYJq"
      }
    },
    {
      "cell_type": "code",
      "source": [
        "# Python program to illustate\n",
        "# *kwargs for variable number of keyword arguments\n",
        "\n",
        "def myFun(**kwargs):\n",
        "  for key, value in kwargs.items():\n",
        "    print(\"%s == %s\" %(key,value))\n",
        "\n",
        "# Driver code\n",
        "myFun(fist = 'Geeks',mid = 'for',last = 'Geeks')"
      ],
      "metadata": {
        "colab": {
          "base_uri": "https://localhost:8080/"
        },
        "id": "YEa5Lrhww7Sg",
        "outputId": "82bebe79-d641-4657-a414-a772fe63d5ef"
      },
      "execution_count": null,
      "outputs": [
        {
          "output_type": "stream",
          "name": "stdout",
          "text": [
            "fist == Geeks\n",
            "mid == for\n",
            "last == Geeks\n"
          ]
        }
      ]
    },
    {
      "cell_type": "code",
      "source": [
        "# Using *args and **kwargs to call a function\n",
        "def myFun(arg1,arg2,arg3):\n",
        "  print('arg1:', arg1)\n",
        "  print('arg2:', arg2)\n",
        "  print('arg3:', arg3)\n",
        "\n",
        "# Now we can use *args or **kwargs to\n",
        "# pass arguments to this function :\n",
        "args = ('Geeks','for','Geeks')\n",
        "myFun(*args)\n",
        "\n",
        "kwargs = {'arg1':'Geeks','arg2':'for','arg3':'Geeks'}\n",
        "myFun(**kwargs)"
      ],
      "metadata": {
        "colab": {
          "base_uri": "https://localhost:8080/"
        },
        "id": "eao7_0Glxq-e",
        "outputId": "cfa61045-e4b7-4a0b-9da9-a1aa01e80218"
      },
      "execution_count": null,
      "outputs": [
        {
          "output_type": "stream",
          "name": "stdout",
          "text": [
            "arg1: Geeks\n",
            "arg2: for\n",
            "arg3: Geeks\n",
            "arg1: Geeks\n",
            "arg2: for\n",
            "arg3: Geeks\n"
          ]
        }
      ]
    },
    {
      "cell_type": "code",
      "source": [
        "# Using *args and **kwargs in same line to call a function\n",
        "def myFun(*args,**kwargs):\n",
        "  print(\"args:\",args)\n",
        "  print(\"kwargs:\",kwargs)\n",
        "\n",
        "# Now we can use both *args, **kwargs\n",
        "# to pass arguments to this function\n",
        "myFun('geeks','for','geeks',first= 'Geeks',mid = 'for',last = 'Geeks')"
      ],
      "metadata": {
        "colab": {
          "base_uri": "https://localhost:8080/"
        },
        "id": "_ne8wZzPzPc7",
        "outputId": "dd9718d7-07bb-40d0-ea42-cf92b396f5cd"
      },
      "execution_count": null,
      "outputs": [
        {
          "output_type": "stream",
          "name": "stdout",
          "text": [
            "args: ('geeks', 'for', 'geeks')\n",
            "kwargs: {'first': 'Geeks', 'mid': 'for', 'last': 'Geeks'}\n"
          ]
        }
      ]
    },
    {
      "cell_type": "markdown",
      "source": [
        "### Destructors in Python\n",
        "\n",
        "Constructors in Python\n",
        "Destructors are called when an object gets destroyed. In Python, destructors are not needed as much as in C++ because Python has a garbage collector that handles memory management automatically. \n",
        "The __del__() method is a known as a destructor method in Python. It is called when all references to the object have been deleted i.e when an object is garbage collected. \n",
        "Syntax of destructor declaration : \n",
        "```\n",
        "def __del__(self):\n",
        "  # body of destructor\n",
        "```\n",
        "Note : A reference to objects is also deleted when the object goes out of reference or when the program ends. \n",
        "Example 1 : Here is the simple example of destructor. By using del keyword we deleted the all references of object ‘obj’, therefore destructor invoked automatically."
      ],
      "metadata": {
        "id": "5bjw61tb4zrx"
      }
    },
    {
      "cell_type": "code",
      "source": [
        "class Employee:\n",
        "  # Initializing\n",
        "  def __init__(self):\n",
        "    print('Employee created')\n",
        "  # Deleting Calling destructor\n",
        "  def __del__(self):\n",
        "    print('Destructor called, Employee deleted')"
      ],
      "metadata": {
        "id": "vEJSESoz4-Ew"
      },
      "execution_count": null,
      "outputs": []
    },
    {
      "cell_type": "code",
      "source": [
        "obj = Employee()"
      ],
      "metadata": {
        "colab": {
          "base_uri": "https://localhost:8080/"
        },
        "id": "mLBjYzEV5WYp",
        "outputId": "f6d39570-42e3-4656-b1fa-1ff1acdb66e8"
      },
      "execution_count": null,
      "outputs": [
        {
          "output_type": "stream",
          "name": "stdout",
          "text": [
            "Employee created\n"
          ]
        }
      ]
    },
    {
      "cell_type": "code",
      "source": [
        "obj"
      ],
      "metadata": {
        "colab": {
          "base_uri": "https://localhost:8080/"
        },
        "id": "EAFjCPVu5bXw",
        "outputId": "42eb2621-3f04-4aba-9231-848a9db5d686"
      },
      "execution_count": null,
      "outputs": [
        {
          "output_type": "execute_result",
          "data": {
            "text/plain": [
              "<__main__.Employee at 0x7f92e1768b90>"
            ]
          },
          "metadata": {},
          "execution_count": 29
        }
      ]
    },
    {
      "cell_type": "code",
      "source": [
        "del obj"
      ],
      "metadata": {
        "id": "FZtheVw95deP"
      },
      "execution_count": null,
      "outputs": []
    },
    {
      "cell_type": "code",
      "source": [
        "obj"
      ],
      "metadata": {
        "colab": {
          "base_uri": "https://localhost:8080/",
          "height": 171
        },
        "id": "VPf8NBQI5h4Z",
        "outputId": "ddfb20ee-fae5-4d21-d283-3d42bcea8156"
      },
      "execution_count": null,
      "outputs": [
        {
          "output_type": "error",
          "ename": "NameError",
          "evalue": "ignored",
          "traceback": [
            "\u001b[0;31m---------------------------------------------------------------------------\u001b[0m",
            "\u001b[0;31mNameError\u001b[0m                                 Traceback (most recent call last)",
            "\u001b[0;32m<ipython-input-31-c88944e91e53>\u001b[0m in \u001b[0;36m<module>\u001b[0;34m()\u001b[0m\n\u001b[0;32m----> 1\u001b[0;31m \u001b[0mobj\u001b[0m\u001b[0;34m\u001b[0m\u001b[0;34m\u001b[0m\u001b[0m\n\u001b[0m",
            "\u001b[0;31mNameError\u001b[0m: name 'obj' is not defined"
          ]
        }
      ]
    },
    {
      "cell_type": "markdown",
      "source": [
        "Note : The destructor was called after the program ended or when all the references to object are deleted i.e when the reference count becomes zero, not when object went out of scope.\n",
        "Example 2 :This example gives the explanation of above mentioned note. Here, notice that the destructor is called after the ‘Program End…’ printed."
      ],
      "metadata": {
        "id": "sVdBoftA52MS"
      }
    },
    {
      "cell_type": "code",
      "source": [
        "# Python program to illustrate destructor\n",
        " \n",
        "class Employee:\n",
        " \n",
        "    # Initializing\n",
        "    def __init__(self):\n",
        "        print('Employee created')\n",
        " \n",
        "    # Calling destructor\n",
        "    def __del__(self):\n",
        "        print(\"Destructor called\")\n",
        " \n",
        "def Create_obj():\n",
        "    print('Making Object...')\n",
        "    obj = Employee()\n",
        "    print('function end...')\n",
        "    return obj\n",
        " \n",
        "print('Calling Create_obj() function...')\n",
        "obj = Create_obj()\n",
        "print('Program End...')"
      ],
      "metadata": {
        "colab": {
          "base_uri": "https://localhost:8080/"
        },
        "id": "udPzDvHY5_sw",
        "outputId": "66d3e1f4-6fc8-43e3-e1eb-ff5ea81e1e36"
      },
      "execution_count": null,
      "outputs": [
        {
          "output_type": "stream",
          "name": "stdout",
          "text": [
            "Calling Create_obj() function...\n",
            "Making Object...\n",
            "Employee created\n",
            "function end...\n",
            "Program End...\n"
          ]
        }
      ]
    },
    {
      "cell_type": "code",
      "source": [
        "obj"
      ],
      "metadata": {
        "colab": {
          "base_uri": "https://localhost:8080/"
        },
        "id": "y92HCzVL6hYG",
        "outputId": "97475f24-f50d-4876-aca1-9f53e3758942"
      },
      "execution_count": null,
      "outputs": [
        {
          "output_type": "execute_result",
          "data": {
            "text/plain": [
              "<__main__.Employee at 0x7f92e178c750>"
            ]
          },
          "metadata": {},
          "execution_count": 33
        }
      ]
    },
    {
      "cell_type": "code",
      "source": [
        "class A:\n",
        "  def __init__(self,bb):\n",
        "    self.b = bb \n",
        "\n",
        "class B:\n",
        "  def __init__(self):\n",
        "    self.a = A(self)\n",
        "  def __del__(self):\n",
        "    print('die')\n",
        "\n",
        "def fun():\n",
        "  b = B()\n",
        "\n",
        "fun()"
      ],
      "metadata": {
        "id": "DlRyEZIb7Cft"
      },
      "execution_count": null,
      "outputs": []
    },
    {
      "cell_type": "markdown",
      "source": [
        "Constructors in Python\n",
        "Difficulty Level : Easy\n",
        "Last Updated : 10 Aug, 2021\n",
        "Prerequisites: Object-Oriented Programming in Python, Object-Oriented Programming in Python | Set 2 \n",
        "Constructors are generally used for instantiating an object. The task of constructors is to initialize(assign values) to the data members of the class when an object of the class is created. In Python the __init__() method is called the constructor and is always called when an object is created.\n",
        "Syntax of constructor declaration : \n",
        "\n",
        "def __init__(self):\n",
        "    # body of the constructor\n",
        "Types of constructors : \n",
        "\n",
        "default constructor: The default constructor is a simple constructor which doesn’t accept any arguments. Its definition has only one argument which is a reference to the instance being constructed.\n",
        "parameterized constructor: constructor with parameters is known as parameterized constructor. The parameterized constructor takes its first argument as a reference to the instance being constructed known as self and the rest of the arguments are provided by the programmer.\n",
        "Example of default constructor : "
      ],
      "metadata": {
        "id": "ycxDshwy9U-E"
      }
    },
    {
      "cell_type": "code",
      "source": [
        "class GeekforGeeks:\n",
        " \n",
        "    # default constructor\n",
        "    def __init__(self):\n",
        "        self.geek = \"GeekforGeeks\"\n",
        " \n",
        "    # a method for printing data members\n",
        "    def print_Geek(self):\n",
        "        print(self.geek)\n",
        " \n",
        " \n",
        "# creating object of the class\n",
        "obj = GeekforGeeks()\n",
        " \n",
        "# calling the instance method using the object obj\n",
        "obj.print_Geek()"
      ],
      "metadata": {
        "colab": {
          "base_uri": "https://localhost:8080/"
        },
        "id": "4fj7N1VLw6lg",
        "outputId": "704d0837-f4e1-4b4a-9cee-fa81ac1fa6b2"
      },
      "execution_count": null,
      "outputs": [
        {
          "output_type": "stream",
          "name": "stdout",
          "text": [
            "GeekforGeeks\n",
            "Destructor called\n"
          ]
        }
      ]
    },
    {
      "cell_type": "markdown",
      "source": [
        "Example of the parameterized constructor : "
      ],
      "metadata": {
        "id": "9xxWLmjO9bT8"
      }
    },
    {
      "cell_type": "code",
      "source": [
        "class Addition:\n",
        "    first = 0\n",
        "    second = 0\n",
        "    answer = 0\n",
        "     \n",
        "    # parameterized constructor\n",
        "    def __init__(self, f, s):\n",
        "        self.first = f\n",
        "        self.second = s\n",
        "     \n",
        "    def display(self):\n",
        "        print(\"First number = \" + str(self.first))\n",
        "        print(\"Second number = \" + str(self.second))\n",
        "        print(\"Addition of two numbers = \" + str(self.answer))\n",
        " \n",
        "    def calculate(self):\n",
        "        self.answer = self.first + self.second\n",
        " \n",
        "# creating object of the class\n",
        "# this will invoke parameterized constructor\n",
        "obj = Addition(1000, 2000)\n",
        " \n",
        "# perform Addition\n",
        "obj.calculate()\n",
        " \n",
        "# display result\n",
        "obj.display()"
      ],
      "metadata": {
        "colab": {
          "base_uri": "https://localhost:8080/"
        },
        "id": "kZXc908M9XiU",
        "outputId": "80411067-a1fb-4c57-9769-5e6174c9d5b1"
      },
      "execution_count": null,
      "outputs": [
        {
          "output_type": "stream",
          "name": "stdout",
          "text": [
            "First number = 1000\n",
            "Second number = 2000\n",
            "Addition of two numbers = 3000\n"
          ]
        }
      ]
    },
    {
      "cell_type": "markdown",
      "source": [
        "### Inheritance in Python"
      ],
      "metadata": {
        "id": "j6dMCgqRAHf1"
      }
    },
    {
      "cell_type": "code",
      "source": [
        "# A python program to demonstrate inheritance \n",
        "# Base or Super class. Note object in bracket.\n",
        "# (Generally, object is made ancestor of all classes)\n",
        "# In Python 3.x \"class Person\" is\n",
        "# equivalent to \"class Person(object)\"\n",
        "\n",
        "class Person(object):\n",
        "  # Constructor\n",
        "  def __init__(self,name):\n",
        "    self.name = name \n",
        "  # To get name\n",
        "  def getName(self):\n",
        "    return self.name \n",
        "  # To check if this person is an employee\n",
        "  def isEmployee(self):\n",
        "    return False\n",
        "\n",
        "# Inherited or Subclass (Note person in bracket)\n",
        "class Employee(Person):\n",
        "  # Here is we turn is employee = True\n",
        "  def isEmployee(self):\n",
        "    return True"
      ],
      "metadata": {
        "id": "gGhrHd0WANVO"
      },
      "execution_count": null,
      "outputs": []
    },
    {
      "cell_type": "code",
      "source": [
        "# Drive code\n",
        "emp1 = Person('Greek1') # An object\n",
        "print('emp1 Person name: ',emp1.getName(),'emp1 is employee: ',emp1.isEmployee())\n",
        "emp2 = Employee('Greek2') # An object\n",
        "print('emp2 Person name: ',emp2.getName(),'emp2 is employee: ',emp2.isEmployee())"
      ],
      "metadata": {
        "colab": {
          "base_uri": "https://localhost:8080/"
        },
        "id": "I1OXHFtJ9gJx",
        "outputId": "709f1c66-2268-4304-d7ea-89534552217b"
      },
      "execution_count": null,
      "outputs": [
        {
          "output_type": "stream",
          "name": "stdout",
          "text": [
            "emp1 Person name:  Greek1 emp1 is employee:  False\n",
            "emp2 Person name:  Greek2 emp2 is employee:  True\n"
          ]
        }
      ]
    },
    {
      "cell_type": "markdown",
      "source": [
        "What is object class? \n",
        "Like Java Object class, in Python (from version 3.x), object is root of all classes. \n",
        "\n",
        "In Python 3.x, “class Test(object)” and “class Test” are same. \n",
        "In Python 2.x, “class Test(object)” creates a class with object as parent (called new style class) and “class Test” creates old style class (without object parent). Refer this for more details.\n",
        "\n",
        "Subclassing (Calling constructor of parent class) \n",
        "A child class needs to identify which class is its parent class. This can be done by mentioning the parent class name in the definition of the child class. \n",
        "Eg: class subclass_name (superclass_name): \n",
        "\n",
        "_ _ _ \n",
        "\n",
        "_ _ _ "
      ],
      "metadata": {
        "id": "JYZZ60JWCdNr"
      }
    },
    {
      "cell_type": "code",
      "source": [
        "# Python code to demonstrate how parent constructors\n",
        "# are called\n",
        "\n",
        "# parent Class\n",
        "class Person(object):\n",
        "  # __init__\n",
        "  def __init__(self,name,idnumber):\n",
        "    self.name = name\n",
        "    self.idnumber = idnumber\n",
        "  def display(self):\n",
        "    print(f'Person name {self.name}')\n",
        "    print(f'Person idnumber {self.idnumber}')\n",
        "\n",
        "# child class\n",
        "class Employee(Person):\n",
        "  def __init__(self,name,idnumber,salary,post):\n",
        "    self.salary = salary\n",
        "    self.post = post \n",
        "    # invoking the __init__ of parent class\n",
        "    Person.__init__(self,name,idnumber) \n",
        "\n",
        "# creation of an object variable or an instance\n",
        "a = Employee('Rahul',886012,200000,'Intern')\n",
        "\n",
        "# Calling a function of the class Person using its instance\n",
        "a.display()\n",
        "dir(a)"
      ],
      "metadata": {
        "colab": {
          "base_uri": "https://localhost:8080/"
        },
        "id": "xj23bW8pBnBO",
        "outputId": "dcf8bbe4-57b3-4ef3-c41a-aaf6ef31c552"
      },
      "execution_count": null,
      "outputs": [
        {
          "output_type": "stream",
          "name": "stdout",
          "text": [
            "Person name Rahul\n",
            "Person idnumber 886012\n"
          ]
        },
        {
          "output_type": "execute_result",
          "data": {
            "text/plain": [
              "['__class__',\n",
              " '__delattr__',\n",
              " '__dict__',\n",
              " '__dir__',\n",
              " '__doc__',\n",
              " '__eq__',\n",
              " '__format__',\n",
              " '__ge__',\n",
              " '__getattribute__',\n",
              " '__gt__',\n",
              " '__hash__',\n",
              " '__init__',\n",
              " '__init_subclass__',\n",
              " '__le__',\n",
              " '__lt__',\n",
              " '__module__',\n",
              " '__ne__',\n",
              " '__new__',\n",
              " '__reduce__',\n",
              " '__reduce_ex__',\n",
              " '__repr__',\n",
              " '__setattr__',\n",
              " '__sizeof__',\n",
              " '__str__',\n",
              " '__subclasshook__',\n",
              " '__weakref__',\n",
              " 'display',\n",
              " 'idnumber',\n",
              " 'name',\n",
              " 'post',\n",
              " 'salary']"
            ]
          },
          "metadata": {},
          "execution_count": 47
        }
      ]
    },
    {
      "cell_type": "code",
      "source": [
        "# Python invoke __init__() of the parent\n",
        "class A:\n",
        "  def __init__(self,n = 'Rahul'):\n",
        "    self.name = n \n",
        "\n",
        "class B(A):\n",
        "  def __init__(self,roll):\n",
        "    self.roll = roll \n",
        "\n",
        "object = B(23)\n",
        "print(object.name)"
      ],
      "metadata": {
        "colab": {
          "base_uri": "https://localhost:8080/",
          "height": 208
        },
        "id": "M_rRNdgPEveY",
        "outputId": "4f0d86ac-574c-4eb8-e4b2-de9e8b0b0c54"
      },
      "execution_count": null,
      "outputs": [
        {
          "output_type": "error",
          "ename": "AttributeError",
          "evalue": "ignored",
          "traceback": [
            "\u001b[0;31m---------------------------------------------------------------------------\u001b[0m",
            "\u001b[0;31mAttributeError\u001b[0m                            Traceback (most recent call last)",
            "\u001b[0;32m<ipython-input-48-98b8c709d986>\u001b[0m in \u001b[0;36m<module>\u001b[0;34m()\u001b[0m\n\u001b[1;32m      9\u001b[0m \u001b[0;34m\u001b[0m\u001b[0m\n\u001b[1;32m     10\u001b[0m \u001b[0mobject\u001b[0m \u001b[0;34m=\u001b[0m \u001b[0mB\u001b[0m\u001b[0;34m(\u001b[0m\u001b[0;36m23\u001b[0m\u001b[0;34m)\u001b[0m\u001b[0;34m\u001b[0m\u001b[0;34m\u001b[0m\u001b[0m\n\u001b[0;32m---> 11\u001b[0;31m \u001b[0mprint\u001b[0m\u001b[0;34m(\u001b[0m\u001b[0mobject\u001b[0m\u001b[0;34m.\u001b[0m\u001b[0mname\u001b[0m\u001b[0;34m)\u001b[0m\u001b[0;34m\u001b[0m\u001b[0;34m\u001b[0m\u001b[0m\n\u001b[0m",
            "\u001b[0;31mAttributeError\u001b[0m: 'B' object has no attribute 'name'"
          ]
        }
      ]
    },
    {
      "cell_type": "markdown",
      "source": [
        "Different forms of Inheritance: \n",
        "1. Single inheritance: When a child class inherits from only one parent class, it is called single inheritance. We saw an example above.\n",
        "2. Multiple inheritance: When a child class inherits from multiple parent classes, it is called multiple inheritance. \n",
        "\n",
        "Unlike java, python shows multiple inheritance."
      ],
      "metadata": {
        "id": "8rlm0jVPGIjX"
      }
    },
    {
      "cell_type": "code",
      "source": [
        "# Python example to show the working of multiple\n",
        "# inheritance\n",
        "class Base1(object):\n",
        "  def __init__(self):\n",
        "    self.str1 = 'Geek1'\n",
        "    print('Base1')\n",
        "\n",
        "class Base2(object):\n",
        "  def __init__(self):\n",
        "    self.str2 = 'Geek2'\n",
        "    print('Base2')\n",
        "\n",
        "class Derived(Base1,Base2):\n",
        "  def __init__(self):\n",
        "    # Calling constructors of Base1 and Base2 classes\n",
        "    Base1.__init__(self)\n",
        "    Base2.__init__(self)\n",
        "    print('Derived')\n",
        "  \n",
        "  def printStrs(self):\n",
        "    print(self.str1,self.str2)\n",
        "\n",
        "ob = Derived()\n",
        "ob.printStrs()"
      ],
      "metadata": {
        "colab": {
          "base_uri": "https://localhost:8080/",
          "height": 245
        },
        "id": "-YPzWXcYF96L",
        "outputId": "b64397d0-a5ca-411c-d90b-a0034f517ab5"
      },
      "execution_count": null,
      "outputs": [
        {
          "output_type": "error",
          "ename": "TypeError",
          "evalue": "ignored",
          "traceback": [
            "\u001b[0;31m---------------------------------------------------------------------------\u001b[0m",
            "\u001b[0;31mTypeError\u001b[0m                                 Traceback (most recent call last)",
            "\u001b[0;32m<ipython-input-50-44b82b377ad7>\u001b[0m in \u001b[0;36m<module>\u001b[0;34m()\u001b[0m\n\u001b[1;32m      1\u001b[0m \u001b[0;31m# Python example to show the working of multiple\u001b[0m\u001b[0;34m\u001b[0m\u001b[0;34m\u001b[0m\u001b[0;34m\u001b[0m\u001b[0m\n\u001b[1;32m      2\u001b[0m \u001b[0;31m# inheritance\u001b[0m\u001b[0;34m\u001b[0m\u001b[0;34m\u001b[0m\u001b[0;34m\u001b[0m\u001b[0m\n\u001b[0;32m----> 3\u001b[0;31m \u001b[0;32mclass\u001b[0m \u001b[0mBase1\u001b[0m\u001b[0;34m(\u001b[0m\u001b[0mobject\u001b[0m\u001b[0;34m)\u001b[0m\u001b[0;34m:\u001b[0m\u001b[0;34m\u001b[0m\u001b[0;34m\u001b[0m\u001b[0m\n\u001b[0m\u001b[1;32m      4\u001b[0m   \u001b[0;32mdef\u001b[0m \u001b[0m__init__\u001b[0m\u001b[0;34m(\u001b[0m\u001b[0mself\u001b[0m\u001b[0;34m)\u001b[0m\u001b[0;34m:\u001b[0m\u001b[0;34m\u001b[0m\u001b[0;34m\u001b[0m\u001b[0m\n\u001b[1;32m      5\u001b[0m     \u001b[0mself\u001b[0m\u001b[0;34m.\u001b[0m\u001b[0mstr1\u001b[0m \u001b[0;34m=\u001b[0m \u001b[0;34m'Geek1'\u001b[0m\u001b[0;34m\u001b[0m\u001b[0;34m\u001b[0m\u001b[0m\n",
            "\u001b[0;31mTypeError\u001b[0m: __init__() takes 2 positional arguments but 4 were given"
          ]
        }
      ]
    },
    {
      "cell_type": "code",
      "source": [
        "# Python2\n",
        "# Python example to show the working of multiple\n",
        "# inheritance\n",
        "class Base1(object):\n",
        "\tdef __init__(self):\n",
        "\t\tself.str1 = \"Geek1\"\n",
        "\t\tprint(\"Base1\")\n",
        "\n",
        "class Base2(object):\n",
        "\tdef __init__(self):\n",
        "\t\tself.str2 = \"Geek2\"\t\n",
        "\t\tprint(\"Base2\")\n",
        "\n",
        "class Derived(Base1, Base2):\n",
        "\tdef __init__(self):\n",
        "\t\t\n",
        "\t\t# Calling constructors of Base1\n",
        "\t\t# and Base2 classes\n",
        "\t\tBase1.__init__(self)\n",
        "\t\tBase2.__init__(self)\n",
        "\t\tprint(\"Derived\")\n",
        "\t\t\n",
        "\tdef printStrs(self):\n",
        "\t\tprint(self.str1, self.str2)\n",
        "\t\t\n",
        "ob = Derived()\n",
        "ob.printStrs()"
      ],
      "metadata": {
        "colab": {
          "base_uri": "https://localhost:8080/"
        },
        "id": "CsJAqDxpHvEp",
        "outputId": "327d1970-8a59-46f9-bec1-e598801bff07"
      },
      "execution_count": 4,
      "outputs": [
        {
          "output_type": "stream",
          "name": "stdout",
          "text": [
            "Base1\n",
            "Base2\n",
            "Derived\n",
            "Geek1 Geek2\n"
          ]
        }
      ]
    },
    {
      "cell_type": "code",
      "source": [
        "# Python3\n",
        "class Base(object):\n",
        "  # Constructor\n",
        "  def __init__(self,name):\n",
        "    self.name = name \n",
        "  # To get name\n",
        "  def getName(self):\n",
        "    return self.name \n",
        "\n",
        "# Inheritated or Sub class (Note Person in bracket)\n",
        "class Child(Base):\n",
        "  # Constructor\n",
        "  def __init__(self,name,age):\n",
        "    Base.__init__(self,name)\n",
        "    self.age = age \n",
        "  # To get name\n",
        "  def getAge(self):\n",
        "    return self.age \n",
        "  \n",
        "# Inherited or Sub class (Note Person in bracket)\n",
        "class GrandChild(Child):\n",
        "  # Constructor\n",
        "  def __init__(self,name,age,address):\n",
        "    Child.__init__(self,name,age)\n",
        "    self.address = address\n",
        "  # To get address\n",
        "  def getAdress(self):\n",
        "    return self.address\n",
        "\n",
        "# Driver code\n",
        "g = GrandChild('Geek1',23,'Noida')\n",
        "\n",
        "print(g.getName(),g.getAge(),g.getAdress())"
      ],
      "metadata": {
        "colab": {
          "base_uri": "https://localhost:8080/"
        },
        "id": "2dSMxZLYHHqV",
        "outputId": "7d291d2c-257c-4cdd-fb12-58b72d66254d"
      },
      "execution_count": 2,
      "outputs": [
        {
          "output_type": "stream",
          "name": "stdout",
          "text": [
            "Geek1 23 Noida\n"
          ]
        }
      ]
    },
    {
      "cell_type": "code",
      "source": [
        "# A Python program to demonstrate inheritance\n",
        "\n",
        "# Base or Super class. Note object in bracket.\n",
        "# (Generally, object is made ancestor of all classes)\n",
        "# In Python 3.x \"class Person\" is\n",
        "# equivalent to \"class Person(object)\"\n",
        "class Base(object):\n",
        "\t\n",
        "\t# Constructor\n",
        "\tdef __init__(self, name):\n",
        "\t\tself.name = name\n",
        "\n",
        "\t# To get name\n",
        "\tdef getName(self):\n",
        "\t\treturn self.name\n",
        "\n",
        "# Inherited or Sub class (Note Person in bracket)\n",
        "class Child(Base):\n",
        "\t\n",
        "\t# Constructor\n",
        "\tdef __init__(self, name, age):\n",
        "\t\tBase.__init__(self, name)\n",
        "\t\tself.age = age\n",
        "\n",
        "\t# To get name\n",
        "\tdef getAge(self):\n",
        "\t\treturn self.age\n",
        "\n",
        "# Inherited or Sub class (Note Person in bracket)\n",
        "class GrandChild(Child):\n",
        "\t\n",
        "\t# Constructor\n",
        "\tdef __init__(self, name, age, address):\n",
        "\t\tChild.__init__(self, name, age)\n",
        "\t\tself.address = address\n",
        "\n",
        "\t# To get address\n",
        "\tdef getAddress(self):\n",
        "\t\treturn self.address\t\n",
        "\n",
        "# Driver code\n",
        "g = GrandChild(\"Geek1\", 23, \"Noida\")\n",
        "print(g.getName(), g.getAge(), g.getAddress())\n"
      ],
      "metadata": {
        "colab": {
          "base_uri": "https://localhost:8080/"
        },
        "id": "88zlA4t-KoWz",
        "outputId": "b7996bc5-e4ed-4174-80f4-b19bab213a7c"
      },
      "execution_count": 3,
      "outputs": [
        {
          "output_type": "stream",
          "name": "stdout",
          "text": [
            "Geek1 23 Noida\n"
          ]
        }
      ]
    },
    {
      "cell_type": "markdown",
      "source": [
        "4. Hierarchical inheritance More than one derived classes are created from a single base.\n",
        "5. Hybrid inheritance: This form combines more than one form of inheritance. Basically, it is a blend of more than one type of inheritance.\n",
        "Private members of parent class \n",
        "We don’t always want the instance variables of the parent class to be inherited by the child class i.e. we can make some of the instance variables of the parent class private, which won’t be available to the child class. \n",
        "We can make an instance variable by adding double underscores before its name. For example,"
      ],
      "metadata": {
        "id": "Pe_aMJKMK89q"
      }
    },
    {
      "cell_type": "code",
      "source": [
        "# Python program to demonstrate private members\n",
        "# of the parent class\n",
        "\n",
        "class C(object):\n",
        "  def __init__(self):\n",
        "    self.c = 21 # this is a public instance variable \n",
        "    self.__d = 42 # this is a private instance variable, the \"__\" before name of variable\n",
        "\n",
        "class D(C):\n",
        "  def __init__(self):\n",
        "    self.e = 84\n",
        "    C.__init__(self)\n",
        "\n",
        "object1 = D()\n",
        "#produces an error as d is private instance variable\n",
        "print(object1.d)"
      ],
      "metadata": {
        "id": "uCfzwmS2K1uS",
        "colab": {
          "base_uri": "https://localhost:8080/",
          "height": 208
        },
        "outputId": "337f9e69-41e8-4613-ebe9-ea53b328be1e"
      },
      "execution_count": 5,
      "outputs": [
        {
          "output_type": "error",
          "ename": "AttributeError",
          "evalue": "ignored",
          "traceback": [
            "\u001b[0;31m---------------------------------------------------------------------------\u001b[0m",
            "\u001b[0;31mAttributeError\u001b[0m                            Traceback (most recent call last)",
            "\u001b[0;32m<ipython-input-5-9123b250b987>\u001b[0m in \u001b[0;36m<module>\u001b[0;34m()\u001b[0m\n\u001b[1;32m     14\u001b[0m \u001b[0mobject1\u001b[0m \u001b[0;34m=\u001b[0m \u001b[0mD\u001b[0m\u001b[0;34m(\u001b[0m\u001b[0;34m)\u001b[0m\u001b[0;34m\u001b[0m\u001b[0;34m\u001b[0m\u001b[0m\n\u001b[1;32m     15\u001b[0m \u001b[0;31m#produces an error as d is private instance variable\u001b[0m\u001b[0;34m\u001b[0m\u001b[0;34m\u001b[0m\u001b[0;34m\u001b[0m\u001b[0m\n\u001b[0;32m---> 16\u001b[0;31m \u001b[0mprint\u001b[0m\u001b[0;34m(\u001b[0m\u001b[0mobject1\u001b[0m\u001b[0;34m.\u001b[0m\u001b[0md\u001b[0m\u001b[0;34m)\u001b[0m\u001b[0;34m\u001b[0m\u001b[0;34m\u001b[0m\u001b[0m\n\u001b[0m",
            "\u001b[0;31mAttributeError\u001b[0m: 'D' object has no attribute 'd'"
          ]
        }
      ]
    },
    {
      "cell_type": "markdown",
      "source": [
        "### Python super()\n",
        "\n",
        "Python super()\n",
        "Difficulty Level : Easy\n",
        "Last Updated : 07 Feb, 2022\n",
        "One of the important OOP features is `Inheritance in Python`. When a class inherits some or all of the behaviors from another class is known as Inheritance. In such a case, the inherited class is the subclass and the latter class is the parent class. \n",
        "In an inherited subclass, a parent class can be referred to with the use of the `super()` function. The super function returns a temporary object of the superclass that allows access to all of its methods to its child class.\n",
        "\n",
        "**Note**: For more information, refer to `Inheritance in Python`\n",
        "\n",
        "Furthermore, The benefits of using a super function are:-  \n",
        "\n",
        "- Need not remember or specify the parent class name to access its methods. This function can be used both in single and multiple inheritances.Meaning if your class inheritanced from multi class you don't have to rememeber which parent have the called function\n",
        "\n",
        "- This implements modularity (isolating changes) and code reusability as there is no need to rewrite the entire function.\n",
        "\n",
        "- Super function in Python is called dynamically because Python is a dynamic language unlike other languages.\n",
        "\n",
        "There are 3 constraints to use the super function:-  \n",
        "\n",
        "- The class and its methods which are referred by the super function\n",
        "\n",
        "- The arguments of the super function and the called function should match.\n",
        "\n",
        "- Every occurrence of the method must include super() after you use it.\n",
        "Super function in single inheritance \n",
        "\n",
        "Example: Let’s take an example of animals. Dogs, cats and cows are part of animals. They also share common characteristics like –  \n",
        "\n",
        "They are mammals.\n",
        "They have a tail and four legs.\n",
        "They are domestic animals.\n",
        "So, the classes dogs, cats and horses are subclass of animal class. This is an example of single inheritance because many subclass are inherited from a single parent class."
      ],
      "metadata": {
        "id": "R1jtiKWWgUN1"
      }
    },
    {
      "cell_type": "code",
      "source": [
        "# Python program to demonstrate\n",
        "# super function\n",
        "class Animals:\n",
        "  # Initializing constructor\n",
        "  def __init__(self):\n",
        "    self.legs = 4\n",
        "    self.domestic = True\n",
        "    self.tail = True\n",
        "    self.mammals = True\n",
        "  # Check mammal\n",
        "  def isMammal(self):\n",
        "    if self.mammals:\n",
        "      print('It is a mammal.')\n",
        "  # Check domestic \n",
        "  def isDomestic(self):\n",
        "    if self.domestic:\n",
        "      print('It is a domestic animal.')\n",
        "\n",
        "class Dogs(Animals): # Dogs animal inherits the Animals class\n",
        "  def __init__(self):\n",
        "    super().__init__() # this function can use with single or multiple inheritances\n",
        "  def isMammal(self): # the called function referred by the super function\n",
        "    super().isMammal() \n",
        "\n",
        "class Horses(Animals):\n",
        "  def __init__(self):\n",
        "    super().__init__() \n",
        "  def hasTailandLegs(self):\n",
        "    if self.tail and self.legs == 4:\n",
        "      print('Has legs and tail')\n",
        "\n",
        "# Driver code \n",
        "Tom = Dogs()\n",
        "Tom.isMammal()\n",
        "Bruno = Horses()\n",
        "Bruno.isDomestic()\n",
        "Bruno.hasTailandLegs()"
      ],
      "metadata": {
        "colab": {
          "base_uri": "https://localhost:8080/"
        },
        "id": "MMM6_NRNgQfZ",
        "outputId": "85a8db4c-d1e0-48e3-a34d-455ab7ea4942"
      },
      "execution_count": 8,
      "outputs": [
        {
          "output_type": "stream",
          "name": "stdout",
          "text": [
            "It is a mammal.\n",
            "It is a domestic animal.\n",
            "Has legs and tail\n"
          ]
        }
      ]
    },
    {
      "cell_type": "code",
      "source": [
        "class Mammal():\n",
        "  # Constructor\n",
        "  def __init__(self,name):\n",
        "    print(name,\"Is a mammal\")\n",
        "\n",
        "class canFly(Mammal):\n",
        "  # Constructor \n",
        "  def __init__(self,canFly_name):\n",
        "    print(canFly_name,\"cannot fly\")\n",
        "    # Calling parent class \n",
        "    # Constructor\n",
        "    super().__init__(canFly_name)\n",
        "\n",
        "class canSwim(Mammal):\n",
        "  # Constuctor \n",
        "  def __init__(self,canSwim_name):\n",
        "    print(canSwim_name,'cannot swim')\n",
        "    super().__init__(canSwim_name)\n",
        "\n",
        "class Animal(canFly,canSwim):\n",
        "  def __init__(self,name):\n",
        "    # Calling the constructor\n",
        "    # of both the parent\n",
        "    # class in order of\n",
        "    # their inheritance\n",
        "    super().__init__(name)\n",
        "\n",
        "# Driver Code \n",
        "Carol = Animal(\"Dog\")\n"
      ],
      "metadata": {
        "colab": {
          "base_uri": "https://localhost:8080/"
        },
        "id": "5AimGtm6ojxm",
        "outputId": "a84d461f-23a0-4a4c-efb0-bc823ea017d5"
      },
      "execution_count": 9,
      "outputs": [
        {
          "output_type": "stream",
          "name": "stdout",
          "text": [
            "Dog cannot fly\n",
            "Dog cannot swim\n",
            "Dog Is a mammal\n"
          ]
        }
      ]
    },
    {
      "cell_type": "code",
      "source": [
        ""
      ],
      "metadata": {
        "id": "GbNLYF-4zxoM"
      },
      "execution_count": null,
      "outputs": []
    }
  ]
}