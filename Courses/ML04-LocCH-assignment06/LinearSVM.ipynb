{
 "cells": [
  {
   "cell_type": "code",
   "execution_count": null,
   "metadata": {
    "collapsed": true,
    "id": "-0vwUNVP23DB"
   },
   "outputs": [],
   "source": [
    "%matplotlib inline\n",
    "import matplotlib\n",
    "import matplotlib.pyplot as plt\n",
    "import numpy as np\n",
    "import sklearn, sys\n",
    "import pandas as pd\n",
    "from sklearn.model_selection import train_test_split\n",
    "from sklearn.linear_model import LinearRegression, Lasso, Ridge\n",
    "from sklearn.metrics import mean_squared_error\n",
    "from sklearn.datasets import load_boston\n",
    "from __future__ import division\n",
    "import cvxopt"
   ]
  },
  {
   "cell_type": "code",
   "execution_count": null,
   "metadata": {
    "collapsed": true,
    "id": "zKyZ_MiE23DK"
   },
   "outputs": [],
   "source": [
    "X = np.array([[1,4],[-3,3],[-2.5, 5], [0,1],[2, 0.5], [1, 2]])\n",
    "y=np.ones((len(X), 1))\n",
    "y[3:,0] =-1"
   ]
  },
  {
   "cell_type": "code",
   "execution_count": null,
   "metadata": {
    "id": "uD-fIFtV23DO",
    "outputId": "f4faf775-ed2e-41bb-efb5-09ea565c0c12",
    "scrolled": false
   },
   "outputs": [
    {
     "data": {
      "text/plain": [
       "array([[ 1. ,  4. ],\n",
       "       [-3. ,  3. ],\n",
       "       [-2.5,  5. ],\n",
       "       [ 0. ,  1. ],\n",
       "       [ 2. ,  0.5],\n",
       "       [ 1. ,  2. ]])"
      ]
     },
     "execution_count": 5,
     "metadata": {
      "tags": []
     },
     "output_type": "execute_result"
    }
   ],
   "source": [
    "X"
   ]
  },
  {
   "cell_type": "code",
   "execution_count": null,
   "metadata": {
    "id": "VTShs8V723DT",
    "outputId": "418f2bb2-2450-487e-894b-87aba56d299f",
    "scrolled": true
   },
   "outputs": [
    {
     "data": {
      "text/plain": [
       "array([[ 1.],\n",
       "       [ 1.],\n",
       "       [ 1.],\n",
       "       [-1.],\n",
       "       [-1.],\n",
       "       [-1.]])"
      ]
     },
     "execution_count": 6,
     "metadata": {
      "tags": []
     },
     "output_type": "execute_result"
    }
   ],
   "source": [
    "y"
   ]
  },
  {
   "cell_type": "code",
   "execution_count": null,
   "metadata": {
    "id": "-UWnjDIf23DU",
    "outputId": "be7a4ec2-610e-4172-ebcb-8a66f3ffe61b",
    "scrolled": false
   },
   "outputs": [
    {
     "data": {
      "text/plain": [
       "[<matplotlib.lines.Line2D at 0x7f6c8a49cc90>,\n",
       " <matplotlib.lines.Line2D at 0x7f6c89f480d0>]"
      ]
     },
     "execution_count": 7,
     "metadata": {
      "tags": []
     },
     "output_type": "execute_result"
    },
    {
     "data": {
      "image/png": "[encoded data removed]",
      "text/plain": [
       "<matplotlib.figure.Figure at 0x7f6c8a49ccd0>"
      ]
     },
     "metadata": {
      "tags": []
     },
     "output_type": "display_data"
    }
   ],
   "source": [
    "plt.axis('equal')\n",
    "plt.plot(X[0:3, 0],X[0:3, 1], 'r.', X[3:, 0],X[3:, 1], 'b*')"
   ]
  },
  {
   "cell_type": "code",
   "execution_count": null,
   "metadata": {
    "id": "3BmvtH2H23DW"
   },
   "outputs": [],
   "source": [
    "#Importing with custom names to avoid issues with numpy / sympy matrix\n",
    "from cvxopt import matrix as cvxopt_matrix\n",
    "from cvxopt import solvers as cvxopt_solvers\n",
    "\n",
    "#Initializing values and computing H. Note the 1. to force to float type\n",
    "m,n = X.shape\n",
    "#y = y.reshape(-1,1) * 1.\n",
    "X_dash = y * X\n",
    "H = np.dot(X_dash , X_dash.T) \n",
    "\n",
    "#Converting into cvxopt format\n",
    "'''P = cvxopt_matrix(H)\n",
    "q = cvxopt_matrix(-np.ones((m, 1)))\n",
    "G = cvxopt_matrix(-np.eye(m))\n",
    "h = cvxopt_matrix(np.zeros(m))\n",
    "A = cvxopt_matrix(y.reshape(1, -1))\n",
    "b = cvxopt_matrix(np.zeros(1))'''\n",
    "P = cvxopt_matrix(H)\n",
    "q = cvxopt_matrix(-1*np.ones((m,1)))\n",
    "G = cvxopt_matrix(-np.eye(m))\n",
    "h = cvxopt_matrix(np.zeros((m)))\n",
    "A = cvxopt_matrix(y.T)\n",
    "b = cvxopt_matrix(np.zeros(1))\n",
    "#Setting solver parameters (change default to decrease tolerance) \n",
    "cvxopt_solvers.options['show_progress'] = False\n",
    "cvxopt_solvers.options['abstol'] = 1e-10\n",
    "cvxopt_solvers.options['reltol'] = 1e-10\n",
    "cvxopt_solvers.options['feastol'] = 1e-10\n",
    "\n",
    "#Run solver\n",
    "sol = cvxopt_solvers.qp(P, q, G, h, A, b)\n",
    "alphas = np.array(sol['x'])"
   ]
  },
  {
   "cell_type": "code",
   "execution_count": null,
   "metadata": {
    "id": "i85PtMVV23DX",
    "outputId": "8ba980aa-cd0c-462b-b0c6-6976a5ba6718"
   },
   "outputs": [
    {
     "data": {
      "text/plain": [
       "array([[  4.68750000e-01],\n",
       "       [  6.25000000e-02],\n",
       "       [  1.97861647e-11],\n",
       "       [  1.79322288e-12],\n",
       "       [  4.32814763e-12],\n",
       "       [  5.31250000e-01]])"
      ]
     },
     "execution_count": 9,
     "metadata": {
      "tags": []
     },
     "output_type": "execute_result"
    }
   ],
   "source": [
    "alphas"
   ]
  },
  {
   "cell_type": "code",
   "execution_count": null,
   "metadata": {
    "collapsed": true,
    "id": "5V31o2Bg23DZ"
   },
   "outputs": [],
   "source": [
    "??cvxopt_solvers.qp"
   ]
  },
  {
   "cell_type": "code",
   "execution_count": null,
   "metadata": {
    "id": "B1BP079X23Dc"
   },
   "outputs": [],
   "source": [
    "w = np.sum(alphas * X_dash, axis=0, keepdims=True).T"
   ]
  },
  {
   "cell_type": "code",
   "execution_count": null,
   "metadata": {
    "id": "foHQcHU423Dd",
    "scrolled": false
   },
   "outputs": [],
   "source": [
    "w = np.zeros((n,1))\n",
    "for i in range(len(alphas)):\n",
    "    w += (alphas[i,0]*X[i,:]*y[i,0]).reshape((-1,1))"
   ]
  },
  {
   "cell_type": "code",
   "execution_count": null,
   "metadata": {
    "id": "3iZrWDHi23Dd",
    "outputId": "b5393b02-5877-4fc0-9880-b73dd17f4977"
   },
   "outputs": [
    {
     "data": {
      "text/plain": [
       "array([[  4.68750000e-01],\n",
       "       [  6.25000000e-02],\n",
       "       [  1.97861647e-11],\n",
       "       [  1.79322288e-12],\n",
       "       [  4.32814763e-12],\n",
       "       [  5.31250000e-01]])"
      ]
     },
     "execution_count": 14,
     "metadata": {
      "tags": []
     },
     "output_type": "execute_result"
    }
   ],
   "source": [
    "alphas"
   ]
  },
  {
   "cell_type": "code",
   "execution_count": null,
   "metadata": {
    "id": "7PuJKHBT23De",
    "outputId": "2a5c448e-54b8-4e31-a5c7-9b6bea682ab8",
    "scrolled": false
   },
   "outputs": [
    {
     "name": "stdout",
     "output_type": "stream",
     "text": [
      "('Alphas = ', array([ 0.46875,  0.0625 ,  0.53125]))\n",
      "('w = ', array([-0.25,  1.  ]))\n",
      "('b = ', array([-2.75]))\n"
     ]
    }
   ],
   "source": [
    "#w parameter in vectorized form\n",
    "#w = ((y * alphas).T @ X).reshape(-1,1)\n",
    "\n",
    "#Selecting the set of indices S corresponding to non zero parameters\n",
    "S = (alphas > 1e-4).flatten()\n",
    "\n",
    "#Computing b\n",
    "# y(w'x + b) = 1 => b = 1/y-w'x \n",
    "b = y[S] - np.dot(X[S], w)#\n",
    "\n",
    "#Display results\n",
    "print('Alphas = ',alphas[alphas > 1e-4])\n",
    "print('w = ', w.flatten())\n",
    "bias = b[0]\n",
    "print('b = ',bias)\n"
   ]
  },
  {
   "cell_type": "code",
   "execution_count": null,
   "metadata": {
    "id": "vIdXXBJT23De",
    "outputId": "146086ce-100e-40c7-c963-1f76006b6e82",
    "scrolled": true
   },
   "outputs": [
    {
     "data": {
      "text/plain": [
       "array([[ 1.   ],\n",
       "       [ 1.   ],\n",
       "       [ 2.875],\n",
       "       [-1.75 ],\n",
       "       [-2.75 ],\n",
       "       [-1.   ]])"
      ]
     },
     "execution_count": 19,
     "metadata": {
      "tags": []
     },
     "output_type": "execute_result"
    }
   ],
   "source": [
    "X.dot(w)+bias"
   ]
  },
  {
   "cell_type": "code",
   "execution_count": null,
   "metadata": {
    "id": "aP5R9DuG23Df",
    "scrolled": true
   },
   "outputs": [],
   "source": [
    "x1 = np.linspace(-4,4)\n",
    "#w'[x1 x2] + b =0 => x2 = (-b-w1*x1)w2\n",
    "x2 = (-bias-w[0,0]*x1)/w[1,0]\n",
    "#check np.vstack([x1, x2]).T.dot(w) + bias"
   ]
  },
  {
   "cell_type": "code",
   "execution_count": null,
   "metadata": {
    "id": "jj-ERdGf23Df",
    "outputId": "e019c6a0-bdd7-4674-aa62-17488b39e5ea"
   },
   "outputs": [
    {
     "data": {
      "text/plain": [
       "[<matplotlib.lines.Line2D at 0x7f6c8714fd90>]"
      ]
     },
     "execution_count": 21,
     "metadata": {
      "tags": []
     },
     "output_type": "execute_result"
    },
    {
     "data": {
      "image/png": "[encoded data removed]",
      "text/plain": [
       "<matplotlib.figure.Figure at 0x7f6c89f62290>"
      ]
     },
     "metadata": {
      "tags": []
     },
     "output_type": "display_data"
    }
   ],
   "source": [
    "plt.axis('equal')\n",
    "plt.plot(X[0:3, 0],X[0:3, 1], 'r.', X[3:, 0],X[3:, 1], 'b*')\n",
    "plt.plot(x1, x2, 'b-')"
   ]
  },
  {
   "cell_type": "code",
   "execution_count": null,
   "metadata": {
    "collapsed": true,
    "id": "5BOS7g3Z23Dg"
   },
   "outputs": [],
   "source": []
  }
 ],
 "metadata": {
  "colab": {
   "name": "LinearSVM.ipynb",
   "provenance": []
  },
  "kernelspec": {
   "display_name": "Python 3",
   "language": "python",
   "name": "python3"
  },
  "language_info": {
   "codemirror_mode": {
    "name": "ipython",
    "version": 3
   },
   "file_extension": ".py",
   "mimetype": "text/x-python",
   "name": "python",
   "nbconvert_exporter": "python",
   "pygments_lexer": "ipython3",
   "version": "3.8.8"
  }
 },
 "nbformat": 4,
 "nbformat_minor": 1
}
