{
 "cells": [
  {
   "cell_type": "markdown",
   "id": "de5a6fb2",
   "metadata": {},
   "source": [
    "Author: [Chuong Hoa Loc](https://github.com/Locchuong96)\n",
    "[email](locchuong123@gmail.com)\n",
    "\n",
    "### build bi-RNN from Keras\n",
    "![bi-RNN](bi-RNN.png)\n",
    "\n",
    "$\\hat{y}^{(t)} = g(W_{y}.[\\overrightarrow{a}^{(t)},\\overleftarrow{a}^{(t)}] + b_{y})$"
   ]
  },
  {
   "cell_type": "markdown",
   "id": "3104877f",
   "metadata": {},
   "source": [
    "### build deep-RNN from Keras\n",
    "\n",
    "![deep_RNN_1](deep_RNN.png)\n",
    "\n",
    "$a^{[i](t)} = g(W_{a}^{[i]}.[a^{[i](t-1)},a^{[i-1](t)}] +b^{[i]})$\n",
    "\n",
    "Example:\n",
    "\n",
    "$a^{[2](3)} = g(W_{a}^{[2]}.[a^{[2](2)},a^{[1](3)}] +b^{[2]})$"
   ]
  },
  {
   "cell_type": "markdown",
   "id": "a99fbd98",
   "metadata": {},
   "source": [
    "### references\n",
    "\n",
    "[How to Develop a Bidirectional LSTM For Sequence Classification in Python with Keras](https://machinelearningmastery.com/develop-bidirectional-lstm-sequence-classification-python-keras/)"
   ]
  }
 ],
 "metadata": {
  "kernelspec": {
   "display_name": "Python 3",
   "language": "python",
   "name": "python3"
  },
  "language_info": {
   "codemirror_mode": {
    "name": "ipython",
    "version": 3
   },
   "file_extension": ".py",
   "mimetype": "text/x-python",
   "name": "python",
   "nbconvert_exporter": "python",
   "pygments_lexer": "ipython3",
   "version": "3.8.8"
  }
 },
 "nbformat": 4,
 "nbformat_minor": 5
}
