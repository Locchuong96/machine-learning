{
 "cells": [
  {
   "cell_type": "markdown",
   "id": "a1a6c752",
   "metadata": {},
   "source": [
    "### Content\n",
    "\n",
    "- Seq2seq\n",
    "- Attention"
   ]
  },
  {
   "cell_type": "markdown",
   "id": "dc0cd371",
   "metadata": {},
   "source": [
    "### References\n",
    "\n",
    "[1] [Attention-is-all-you-need](https://github.com/ChuongLoc/Attention-is-all-you-need)\n",
    "\n",
    "[2] [seq2seq and attetion](https://github.com/ChuongLoc/Sequence-to-Sequence-and-Attention-from-scratch-using-Tensorflow/blob/master/Seq2Seq%20and%20Attention.ipynb)"
   ]
  },
  {
   "cell_type": "code",
   "execution_count": null,
   "id": "ade70128",
   "metadata": {},
   "outputs": [],
   "source": []
  }
 ],
 "metadata": {
  "kernelspec": {
   "display_name": "Python 3",
   "language": "python",
   "name": "python3"
  },
  "language_info": {
   "codemirror_mode": {
    "name": "ipython",
    "version": 3
   },
   "file_extension": ".py",
   "mimetype": "text/x-python",
   "name": "python",
   "nbconvert_exporter": "python",
   "pygments_lexer": "ipython3",
   "version": "3.8.8"
  }
 },
 "nbformat": 4,
 "nbformat_minor": 5
}
