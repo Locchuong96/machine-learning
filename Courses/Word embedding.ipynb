{
 "cells": [
  {
   "cell_type": "markdown",
   "id": "fddee1d8",
   "metadata": {},
   "source": [
    "### Content\n",
    "\n",
    "- Word embedding\n",
    "    - One hot encoding\n",
    "    - Co-occurence matrix\n",
    "    - Word to vector (Word2vec)\n",
    "        - CBow\n",
    "        - Skip-Gram"
   ]
  },
  {
   "cell_type": "markdown",
   "id": "b2987584",
   "metadata": {},
   "source": [
    "### References"
   ]
  }
 ],
 "metadata": {
  "kernelspec": {
   "display_name": "Python 3",
   "language": "python",
   "name": "python3"
  },
  "language_info": {
   "codemirror_mode": {
    "name": "ipython",
    "version": 3
   },
   "file_extension": ".py",
   "mimetype": "text/x-python",
   "name": "python",
   "nbconvert_exporter": "python",
   "pygments_lexer": "ipython3",
   "version": "3.8.8"
  }
 },
 "nbformat": 4,
 "nbformat_minor": 5
}
