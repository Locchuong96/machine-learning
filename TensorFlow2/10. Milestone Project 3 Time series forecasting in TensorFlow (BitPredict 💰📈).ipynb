{
 "cells": [
  {
   "cell_type": "markdown",
   "id": "0b9ce583",
   "metadata": {},
   "source": [
    "# 10. Milestone Project 3: Time series forecasting in TensorFlow (BitPredict 💰📈)\n",
    "\n",
    "The goal of this notebook is to get you familiar with working with time series data.\n",
    "\n",
    "We're going to be building a series of models in an attempt to predict the price of Bitcoin. \n",
    "\n",
    "Welcome to Milestone Project 3, BitPredict 💰📈!\n",
    "\n",
    "> 🔑 **Note:** ⚠️ This is not financial advice, as you'll see time series forecasting for stock market prices is actually quite terrible.\n",
    "\n",
    "## What is a time series problem?\n",
    "\n",
    "Time series problems deal with data over time.\n",
    "\n",
    "Such as, the number of staff members in a company over 10-years, sales of computers for the past 5-years, electricity usage for the past 50-years.\n",
    "\n",
    "The timeline can be short (seconds/minutes) or long (years/decades). And the problems you might investigate using can usually be broken down into two categories.\n",
    "\n",
    "![example time series problems](https://raw.githubusercontent.com/mrdbourke/tensorflow-deep-learning/main/images/10-example-time-series-problems.png)\n",
    "\n",
    "| Problem Type | Examples | Output |\n",
    "| ----- | ----- | ----- |\n",
    "| **Classification** | Anomaly detection, time series identification (where did this time series come from?) | Discrete (a label) |\n",
    "| **Forecasting** | Predicting stock market prices, forecasting future demand for a product, stocking inventory requirements | Continuous (a number) |\n",
    "\n",
    "In both cases above, a supervised learning approach is often used. Meaning, you'd have some example data and a label assosciated with that data.\n",
    "\n",
    "For example, in forecasting the price of Bitcoin, your data could be the historical price of Bitcoin for the past month and the label could be today's price (the label can't be tomorrow's price because that's what we'd want to predict).\n",
    "\n",
    "Can you guess what kind of problem BitPredict 💰📈 is?\n",
    "\n",
    "## What we're going to cover\n",
    "\n",
    "Are you ready?\n",
    "\n",
    "We've got a lot to go through. \n",
    "\n",
    "* Get time series data (the historical price of Bitcoin)\n",
    "  * Load in time series data using pandas/Python's CSV module\n",
    "* Format data for a time series problem\n",
    "  * Creating training and test sets (the wrong way)\n",
    "  * Creating training and test sets (the right way)\n",
    "  * Visualizing time series data\n",
    "  * Turning time series data into a supervised learning problem (windowing)\n",
    "  * Preparing univariate and multivariate (more than one variable) data\n",
    "* Evaluating a time series forecasting model\n",
    "* Setting up a series of deep learning modelling experiments\n",
    "  * Dense (fully-connected) networks\n",
    "  * Sequence models (LSTM and 1D CNN)\n",
    "  * Ensembling (combining multiple models together)\n",
    "  * Multivariate models\n",
    "  * Replicating the N-BEATS algorithm using TensorFlow layer subclassing\n",
    "* Creating a modelling checkpoint to save the best performing model during training\n",
    "* Making predictions (forecasts) with a time series model\n",
    "* Creating prediction intervals for time series model forecasts\n",
    "* Discussing two different types of uncertainty in machine learning (data uncertainty and model uncertainty)\n",
    "* Demonstrating why forecasting in an open system is BS (the turkey problem) \n",
    "\n",
    "## How you can use this notebook\n",
    "You can read through the descriptions and the code (it should all run), but there's a better option.\n",
    "\n",
    "Write all of the code yourself.\n",
    "\n",
    "Yes. I'm serious. Create a new notebook, and rewrite each line by yourself. Investigate it, see if you can break it, why does it break?\n",
    "\n",
    "You don't have to write the text descriptions but writing the code yourself is a great way to get hands-on experience.\n",
    "\n",
    "Don't worry if you make mistakes, we all do. The way to get better and make less mistakes is to **write more code**.\n",
    "\n",
    "> 📖 **Resource:** Get all of the materials you need for this notebook on the [course GitHub](https://github.com/mrdbourke/tensorflow-deep-learning).\n",
    "\n",
    "## Get data\n",
    "\n",
    "To build a time series forecasting model, the first thing we're going to need is data.\n",
    "\n",
    "And since we're trying to predict the price of Bitcoin, we'll need Bitcoin data.\n",
    "\n",
    "Specifically, we're going to get the prices of Bitcoin from 01 October 2013 to 18 May 2021.\n",
    "\n",
    "Why these dates?\n",
    "\n",
    "Because 01 October 2013 is when our data source ([Coindesk](https://www.coindesk.com/price/bitcoin)) started recording the price of Bitcoin and 18 May 2021 is when this notebook was created.\n",
    "\n",
    "If you're going through this notebook at a later date, you'll be able to use what you learn to predict on later dates of Bitcoin, you'll just have to adjust the data source.\n",
    "\n",
    "> 📖 **Resource:** To get the Bitcoin historical data, I went to the [Coindesk page for Bitcoin prices](https://www.coindesk.com/price/bitcoin), clicked on \"all\" and then clicked on \"Export data\" and selected \"CSV\". \n",
    "\n",
    "You can find the data we're going to use on [GitHub](https://github.com/mrdbourke/tensorflow-deep-learning/blob/main/extras/BTC_USD_2013-10-01_2021-05-18-CoinDesk.csv).\n",
    "\n",
    "\n"
   ]
  },
  {
   "cell_type": "code",
   "execution_count": 1,
   "id": "8cf17cf3",
   "metadata": {},
   "outputs": [],
   "source": [
    "# Download Bitcoin historical data from GitHub \n",
    "# Note: you'll need to select \"Raw\" to download the data in the correct format\n",
    "#!wget https://raw.githubusercontent.com/mrdbourke/tensorflow-deep-learning/main/extras/BTC_USD_2013-10-01_2021-05-18-CoinDesk.csv "
   ]
  },
  {
   "cell_type": "code",
   "execution_count": 2,
   "id": "73fd4c14",
   "metadata": {},
   "outputs": [],
   "source": [
    "import pandas as pd\n",
    "import numpy as np"
   ]
  },
  {
   "cell_type": "code",
   "execution_count": 3,
   "id": "5c268a18",
   "metadata": {},
   "outputs": [
    {
     "data": {
      "text/html": [
       "<div>\n",
       "<style scoped>\n",
       "    .dataframe tbody tr th:only-of-type {\n",
       "        vertical-align: middle;\n",
       "    }\n",
       "\n",
       "    .dataframe tbody tr th {\n",
       "        vertical-align: top;\n",
       "    }\n",
       "\n",
       "    .dataframe thead th {\n",
       "        text-align: right;\n",
       "    }\n",
       "</style>\n",
       "<table border=\"1\" class=\"dataframe\">\n",
       "  <thead>\n",
       "    <tr style=\"text-align: right;\">\n",
       "      <th></th>\n",
       "      <th>Currency</th>\n",
       "      <th>Closing Price (USD)</th>\n",
       "      <th>24h Open (USD)</th>\n",
       "      <th>24h High (USD)</th>\n",
       "      <th>24h Low (USD)</th>\n",
       "    </tr>\n",
       "    <tr>\n",
       "      <th>Date</th>\n",
       "      <th></th>\n",
       "      <th></th>\n",
       "      <th></th>\n",
       "      <th></th>\n",
       "      <th></th>\n",
       "    </tr>\n",
       "  </thead>\n",
       "  <tbody>\n",
       "    <tr>\n",
       "      <th>2013-10-01</th>\n",
       "      <td>BTC</td>\n",
       "      <td>123.65499</td>\n",
       "      <td>124.30466</td>\n",
       "      <td>124.75166</td>\n",
       "      <td>122.56349</td>\n",
       "    </tr>\n",
       "    <tr>\n",
       "      <th>2013-10-02</th>\n",
       "      <td>BTC</td>\n",
       "      <td>125.45500</td>\n",
       "      <td>123.65499</td>\n",
       "      <td>125.75850</td>\n",
       "      <td>123.63383</td>\n",
       "    </tr>\n",
       "    <tr>\n",
       "      <th>2013-10-03</th>\n",
       "      <td>BTC</td>\n",
       "      <td>108.58483</td>\n",
       "      <td>125.45500</td>\n",
       "      <td>125.66566</td>\n",
       "      <td>83.32833</td>\n",
       "    </tr>\n",
       "    <tr>\n",
       "      <th>2013-10-04</th>\n",
       "      <td>BTC</td>\n",
       "      <td>118.67466</td>\n",
       "      <td>108.58483</td>\n",
       "      <td>118.67500</td>\n",
       "      <td>107.05816</td>\n",
       "    </tr>\n",
       "    <tr>\n",
       "      <th>2013-10-05</th>\n",
       "      <td>BTC</td>\n",
       "      <td>121.33866</td>\n",
       "      <td>118.67466</td>\n",
       "      <td>121.93633</td>\n",
       "      <td>118.00566</td>\n",
       "    </tr>\n",
       "  </tbody>\n",
       "</table>\n",
       "</div>"
      ],
      "text/plain": [
       "           Currency  Closing Price (USD)  24h Open (USD)  24h High (USD)  \\\n",
       "Date                                                                       \n",
       "2013-10-01      BTC            123.65499       124.30466       124.75166   \n",
       "2013-10-02      BTC            125.45500       123.65499       125.75850   \n",
       "2013-10-03      BTC            108.58483       125.45500       125.66566   \n",
       "2013-10-04      BTC            118.67466       108.58483       118.67500   \n",
       "2013-10-05      BTC            121.33866       118.67466       121.93633   \n",
       "\n",
       "            24h Low (USD)  \n",
       "Date                       \n",
       "2013-10-01      122.56349  \n",
       "2013-10-02      123.63383  \n",
       "2013-10-03       83.32833  \n",
       "2013-10-04      107.05816  \n",
       "2013-10-05      118.00566  "
      ]
     },
     "execution_count": 3,
     "metadata": {},
     "output_type": "execute_result"
    }
   ],
   "source": [
    "# parse dates and set date column to index\n",
    "df = pd.read_csv('bitcoin.csv',\n",
    "                parse_dates=['Date'],\n",
    "                index_col=['Date']) # parse the date column (tell pandas column 1 is datetime)\n",
    "df.head()"
   ]
  },
  {
   "cell_type": "code",
   "execution_count": 4,
   "id": "62e78517",
   "metadata": {},
   "outputs": [
    {
     "name": "stdout",
     "output_type": "stream",
     "text": [
      "<class 'pandas.core.frame.DataFrame'>\n",
      "DatetimeIndex: 2787 entries, 2013-10-01 to 2021-05-18\n",
      "Data columns (total 5 columns):\n",
      " #   Column               Non-Null Count  Dtype  \n",
      "---  ------               --------------  -----  \n",
      " 0   Currency             2787 non-null   object \n",
      " 1   Closing Price (USD)  2787 non-null   float64\n",
      " 2   24h Open (USD)       2787 non-null   float64\n",
      " 3   24h High (USD)       2787 non-null   float64\n",
      " 4   24h Low (USD)        2787 non-null   float64\n",
      "dtypes: float64(4), object(1)\n",
      "memory usage: 130.6+ KB\n"
     ]
    }
   ],
   "source": [
    "df.info()"
   ]
  },
  {
   "cell_type": "code",
   "execution_count": 5,
   "id": "ea50bc04",
   "metadata": {},
   "outputs": [
    {
     "data": {
      "text/plain": [
       "2787"
      ]
     },
     "execution_count": 5,
     "metadata": {},
     "output_type": "execute_result"
    }
   ],
   "source": [
    "len(df)"
   ]
  },
  {
   "cell_type": "markdown",
   "id": "96503ad1",
   "metadata": {},
   "source": [
    "We've collected the historical price of Bitcoin for the past ~8 years but there's only 2787 total samples.\n",
    "\n",
    "This is something you'll run into with time series data problems. Often, the number of samples isn't as large as other kinds of data.\n",
    "\n",
    "For example, collecting one sample at different time frames results in:\n",
    "\n",
    "| 1 sample per timeframe | Number of samples per year |\n",
    "| ----- | ----- |\n",
    "| Second | 31,536,000 |\n",
    "| Hour | 8,760 |\n",
    "| Day | 365 |\n",
    "| Week | 52 |\n",
    "| Month | 12 |\n",
    "\n",
    "> 🔑 **Note:** The frequency at which a time series value is collected is often referred to as **seasonality**. This is usually mesaured in number of samples per year. For example, collecting the price of Bitcoin once per day would result in a time series with a seasonality of 365. Time series data collected with different seasonality values often exhibit seasonal patterns (e.g. electricity demand behing higher in Summer months for air conditioning than Winter months). For more on different time series patterns, see [Forecasting: Principles and Practice Chapter 2.3](https://otexts.com/fpp3/tspatterns.html).\n",
    "\n",
    "![different types of time series patterns](https://raw.githubusercontent.com/mrdbourke/tensorflow-deep-learning/main/images/10-types-of-time-series-patterns.png)\n",
    "*Example of different kinds of patterns you'll see in time series data. Notice the bottom right time series (Google stock price changes) has little to no patterns, making it difficult to predict. See [Forecasting: Principles and Practice Chapter 2.3](https://otexts.com/fpp3/tspatterns.html) for full graphic.*\n",
    "\n",
    "Deep learning algorithms usually flourish with lots of data, in the range of thousands to millions of samples.\n",
    "\n",
    "In our case, we've got the daily prices of Bitcoin, a max of 365 samples per year.\n",
    "\n",
    "But that doesn't we can't try them with our data.\n",
    "\n",
    "To simplify, let's remove some of the columns from our data so we're only left with a date index and the closing price."
   ]
  },
  {
   "cell_type": "code",
   "execution_count": 6,
   "id": "12abbbbf",
   "metadata": {},
   "outputs": [
    {
     "data": {
      "text/html": [
       "<div>\n",
       "<style scoped>\n",
       "    .dataframe tbody tr th:only-of-type {\n",
       "        vertical-align: middle;\n",
       "    }\n",
       "\n",
       "    .dataframe tbody tr th {\n",
       "        vertical-align: top;\n",
       "    }\n",
       "\n",
       "    .dataframe thead th {\n",
       "        text-align: right;\n",
       "    }\n",
       "</style>\n",
       "<table border=\"1\" class=\"dataframe\">\n",
       "  <thead>\n",
       "    <tr style=\"text-align: right;\">\n",
       "      <th></th>\n",
       "      <th>Price</th>\n",
       "    </tr>\n",
       "    <tr>\n",
       "      <th>Date</th>\n",
       "      <th></th>\n",
       "    </tr>\n",
       "  </thead>\n",
       "  <tbody>\n",
       "    <tr>\n",
       "      <th>2013-10-01</th>\n",
       "      <td>123.65499</td>\n",
       "    </tr>\n",
       "    <tr>\n",
       "      <th>2013-10-02</th>\n",
       "      <td>125.45500</td>\n",
       "    </tr>\n",
       "    <tr>\n",
       "      <th>2013-10-03</th>\n",
       "      <td>108.58483</td>\n",
       "    </tr>\n",
       "    <tr>\n",
       "      <th>2013-10-04</th>\n",
       "      <td>118.67466</td>\n",
       "    </tr>\n",
       "    <tr>\n",
       "      <th>2013-10-05</th>\n",
       "      <td>121.33866</td>\n",
       "    </tr>\n",
       "  </tbody>\n",
       "</table>\n",
       "</div>"
      ],
      "text/plain": [
       "                Price\n",
       "Date                 \n",
       "2013-10-01  123.65499\n",
       "2013-10-02  125.45500\n",
       "2013-10-03  108.58483\n",
       "2013-10-04  118.67466\n",
       "2013-10-05  121.33866"
      ]
     },
     "execution_count": 6,
     "metadata": {},
     "output_type": "execute_result"
    }
   ],
   "source": [
    "# Only want closing price for each day\n",
    "bitcoin_prices = pd.DataFrame(df['Closing Price (USD)']).rename(columns={'Closing Price (USD)':'Price'})\n",
    "bitcoin_prices.head()"
   ]
  },
  {
   "cell_type": "markdown",
   "id": "50e6c5e2",
   "metadata": {},
   "source": [
    "Much better!\n",
    "\n",
    "But that's only five days worth of Bitcoin prices, let's plot everything we've got."
   ]
  },
  {
   "cell_type": "code",
   "execution_count": 7,
   "id": "6ce1c591",
   "metadata": {},
   "outputs": [
    {
     "data": {
      "text/plain": [
       "<matplotlib.legend.Legend at 0x293aa790>"
      ]
     },
     "execution_count": 7,
     "metadata": {},
     "output_type": "execute_result"
    },
    {
     "data": {
      "image/png": "[encoded data removed]",
      "text/plain": [
       "<Figure size 720x504 with 1 Axes>"
      ]
     },
     "metadata": {
      "needs_background": "light"
     },
     "output_type": "display_data"
    }
   ],
   "source": [
    "import matplotlib.pyplot as plt\n",
    "bitcoin_prices.plot(figsize=(10,7))\n",
    "plt.ylabel('BTC Price')\n",
    "plt.title('Price of Bitcoin from 1 Oct 2013 to 18 May 2021',fontsize=16)\n",
    "plt.legend(fontsize=14)"
   ]
  },
  {
   "cell_type": "markdown",
   "id": "feba4cde",
   "metadata": {},
   "source": [
    "### Importing time series data with Python's CSV module\n",
    "\n",
    "If your time series data comes in CSV form you don't necessarily have to use pandas.\n",
    "\n",
    "You can use Python's [in-built `csv` module](https://docs.python.org/3/library/csv.html). And if you're working with dates, you might also want to use Python's [`datetime`](https://docs.python.org/3/library/datetime.html).\n",
    "\n",
    "Let's see how we can replicate the plot we created before except this time using Python's `csv` and `datetime` modules.\n",
    "\n",
    "> 📖 **Resource:** For a great guide on using Python's `csv` module, check out Real Python's tutorial on [Reading and Writing CSV files in Python](https://realpython.com/python-csv/)."
   ]
  },
  {
   "cell_type": "code",
   "execution_count": 8,
   "id": "1dd1d74e",
   "metadata": {},
   "outputs": [
    {
     "name": "stdout",
     "output_type": "stream",
     "text": [
      "2013-10-01 00:00:00 123.65499\n",
      "2013-10-02 00:00:00 125.455\n",
      "2013-10-03 00:00:00 108.58483\n",
      "2013-10-04 00:00:00 118.67466\n",
      "2013-10-05 00:00:00 121.33866\n",
      "2013-10-06 00:00:00 120.65533\n",
      "2013-10-07 00:00:00 121.795\n",
      "2013-10-08 00:00:00 123.033\n",
      "2013-10-09 00:00:00 124.049\n",
      "2013-10-10 00:00:00 125.96116\n"
     ]
    }
   ],
   "source": [
    "# Importing and formatting historical Bitcoin data with Python\n",
    "import csv\n",
    "from datetime import datetime\n",
    "\n",
    "timesteps = []\n",
    "btc_price = []\n",
    "with open('bitcoin.csv','r') as f:\n",
    "    csv_reader = csv.reader(f,delimiter=',') # read in the target csv\n",
    "    next(csv_reader) # skip first line (this gets rid of the column titles)\n",
    "    for line in csv_reader:\n",
    "        # get the dates as dates (not strings), strptime = string parse time\n",
    "        timesteps.append(datetime.strptime(line[1],'%Y-%m-%d'))\n",
    "        # get the closing price as float\n",
    "        btc_price.append(float(line[2]))\n",
    "\n",
    "# view first 10 of each\n",
    "for t,p in zip(timesteps[:10],btc_price[:10]):\n",
    "    print(t,p)"
   ]
  },
  {
   "cell_type": "code",
   "execution_count": 9,
   "id": "f793afd7",
   "metadata": {},
   "outputs": [
    {
     "data": {
      "text/plain": [
       "Text(0, 0.5, 'BTC Price')"
      ]
     },
     "execution_count": 9,
     "metadata": {},
     "output_type": "execute_result"
    },
    {
     "data": {
      "image/png": "[encoded data removed]",
      "text/plain": [
       "<Figure size 720x504 with 1 Axes>"
      ]
     },
     "metadata": {
      "needs_background": "light"
     },
     "output_type": "display_data"
    }
   ],
   "source": [
    "plt.figure(figsize=(10,7))\n",
    "plt.plot(timesteps,btc_price)\n",
    "plt.title('Price of bitcoin from 1 Oct 2013 to 18 May 2021',fontsize=16)\n",
    "plt.xlabel('Date')\n",
    "plt.ylabel('BTC Price')"
   ]
  },
  {
   "cell_type": "markdown",
   "id": "8de199d3",
   "metadata": {},
   "source": [
    "## Format Data Part 1: Creatining train and test sets for time series data\n",
    "\n",
    "Alrighty. What's next?\n",
    "\n",
    "If you guessed preparing our data for a model, you'd be right.\n",
    "\n",
    "What's the most important first step for preparing any machine learning dataset?\n",
    "\n",
    "Scaling?\n",
    "\n",
    "No...\n",
    "\n",
    "Removing outliers?\n",
    "\n",
    "No...\n",
    "\n",
    "How about creating train and test splits?\n",
    "\n",
    "Yes! \n",
    "\n",
    "Usually, you could create a train and test split using a function like Scikit-Learn's outstanding [`train_test_split()`](https://scikit-learn.org/stable/modules/generated/sklearn.model_selection.train_test_split.html) but as we'll see in a moment, this doesn't really cut it for time series data.\n",
    "\n",
    "But before we do create splits, it's worth talking about what *kind* of data we have.\n",
    "\n",
    "In time series problems, you'll either have **univariate** or **multivariate** data.\n",
    "\n",
    "Can you guess what our data is?\n",
    "\n",
    "* **Univariate** time series data deals with *one* variable, for example, using the price of Bitcoin to predict the price of Bitcoin.\n",
    "* **Multivariate** time series data deals with *more than one* variable, for example, predicting electricity demand using the day of week, time of year and number of houses in a region.\n",
    "\n",
    "![comparison of univariate and multivariate time series data](https://raw.githubusercontent.com/mrdbourke/tensorflow-deep-learning/main/images/10-univariate-and-multivariate-time-series-data.png)\n",
    "*Example of univariate and multivariate time series data. Univariate involves using the target to predict the target. Multivariate inolves using the target as well as another time series to predict the target.*\n",
    "\n",
    "### Create train & test sets for time series (the wrong way)\n",
    "\n",
    "Okay, we've figured out we're dealing with a univariate time series, so we only have to make a split on one variable (for multivariate time series, you will have to split multiple variables). \n",
    "\n",
    "How about we first see the *wrong way* for splitting time series data?\n",
    "\n",
    "Let's turn our DataFrame index and column into NumPy arrays."
   ]
  },
  {
   "cell_type": "code",
   "execution_count": 10,
   "id": "4feb9626",
   "metadata": {},
   "outputs": [
    {
     "data": {
      "text/plain": [
       "(array(['2013-10-01T00:00:00.000000000', '2013-10-02T00:00:00.000000000',\n",
       "        '2013-10-03T00:00:00.000000000', '2013-10-04T00:00:00.000000000',\n",
       "        '2013-10-05T00:00:00.000000000', '2013-10-06T00:00:00.000000000',\n",
       "        '2013-10-07T00:00:00.000000000', '2013-10-08T00:00:00.000000000',\n",
       "        '2013-10-09T00:00:00.000000000', '2013-10-10T00:00:00.000000000'],\n",
       "       dtype='datetime64[ns]'),\n",
       " array([123.65499, 125.455  , 108.58483, 118.67466, 121.33866, 120.65533,\n",
       "        121.795  , 123.033  , 124.049  , 125.96116]))"
      ]
     },
     "execution_count": 10,
     "metadata": {},
     "output_type": "execute_result"
    }
   ],
   "source": [
    "# Get bitcoin date array\n",
    "timesteps = bitcoin_prices.index.to_numpy()\n",
    "prices = bitcoin_prices['Price'].to_numpy()\n",
    "timesteps[:10],prices[:10]"
   ]
  },
  {
   "cell_type": "markdown",
   "id": "5ad94369",
   "metadata": {},
   "source": [
    "And now we'll use the ever faithful `train_test_split` from Scikit-Learn to create our train and test sets."
   ]
  },
  {
   "cell_type": "code",
   "execution_count": 13,
   "id": "c4ef9f72",
   "metadata": {},
   "outputs": [],
   "source": [
    "# Wrong way to make train/test set for time series\n",
    "from sklearn.model_selection import train_test_split"
   ]
  },
  {
   "cell_type": "code",
   "execution_count": 14,
   "id": "6137e773",
   "metadata": {},
   "outputs": [
    {
     "name": "stdout",
     "output_type": "stream",
     "text": [
      "(2229,)\n",
      "(558,)\n",
      "(2229,)\n",
      "(558,)\n"
     ]
    }
   ],
   "source": [
    "X_train,X_test,y_train,y_test= train_test_split(timesteps,prices,test_size= 0.2,random_state=42)\n",
    "print(X_train.shape)\n",
    "print(X_test.shape)\n",
    "print(y_train.shape)\n",
    "print(y_test.shape)"
   ]
  },
  {
   "cell_type": "code",
   "execution_count": 16,
   "id": "2ffd5dc2",
   "metadata": {},
   "outputs": [
    {
     "data": {
      "image/png": "[encoded data removed]",
      "text/plain": [
       "<Figure size 720x504 with 1 Axes>"
      ]
     },
     "metadata": {
      "needs_background": "light"
     },
     "output_type": "display_data"
    }
   ],
   "source": [
    "# Let's plot wrong train and test splits\n",
    "plt.figure(figsize=(10,7))\n",
    "plt.scatter(X_train,y_train,s=5,label='Train data')\n",
    "plt.scatter(X_test,y_test,s=5,label='Test data')\n",
    "plt.xlabel('Date')\n",
    "plt.ylabel('BTC Price')\n",
    "plt.legend(fontsize=14)\n",
    "plt.show()"
   ]
  },
  {
   "cell_type": "markdown",
   "id": "46bb3927",
   "metadata": {},
   "source": [
    "### Create train & test sets for time series (the right way)\n",
    "\n",
    "Of course, there's no way we can actually access data from the future.\n",
    "\n",
    "But we can engineer our test set to be in the future with respect to the training set.\n",
    "\n",
    "To do this, we can create an abitrary point in time to split our data.\n",
    "\n",
    "Everything before the point in time can be considered the training set and everything after the point in time can be considered the test set.\n",
    "\n",
    "![time series train test split](https://raw.githubusercontent.com/mrdbourke/tensorflow-deep-learning/main/images/10-time-series-train-test-split.png)\n",
    "*Demonstration of time series split. Rather than a traditionaly random train/test split, it's best to split the time series data sequentially. Meaning, the test data should be data from the future when compared to the training data.*"
   ]
  },
  {
   "cell_type": "code",
   "execution_count": 17,
   "id": "4d6a5781",
   "metadata": {},
   "outputs": [
    {
     "data": {
      "text/plain": [
       "(2229, 558, 2229, 558)"
      ]
     },
     "execution_count": 17,
     "metadata": {},
     "output_type": "execute_result"
    }
   ],
   "source": [
    "# Create train and test splits the right way for time series data\n",
    "split_size = int(0.8 * len(prices)) # 80% train, 20% test\n",
    "\n",
    "# Create train data splits\n",
    "X_train,y_train = timesteps[:split_size],prices[:split_size]\n",
    "\n",
    "# Create test splits\n",
    "X_test,y_test = timesteps[split_size:],prices[split_size:]\n",
    "\n",
    "len(X_train),len(X_test),len(y_train),len(y_test)"
   ]
  },
  {
   "cell_type": "code",
   "execution_count": 18,
   "id": "c5ae5f81",
   "metadata": {},
   "outputs": [
    {
     "data": {
      "image/png": "[encoded data removed]",
      "text/plain": [
       "<Figure size 720x504 with 1 Axes>"
      ]
     },
     "metadata": {
      "needs_background": "light"
     },
     "output_type": "display_data"
    }
   ],
   "source": [
    "# Let's plot wrong train and test splits\n",
    "plt.figure(figsize=(10,7))\n",
    "plt.scatter(X_train,y_train,s=5,label='Train data')\n",
    "plt.scatter(X_test,y_test,s=5,label='Test data')\n",
    "plt.xlabel('Date')\n",
    "plt.ylabel('BTC Price')\n",
    "plt.legend(fontsize=14)\n",
    "plt.show()"
   ]
  },
  {
   "cell_type": "code",
   "execution_count": 19,
   "id": "fb2f60bb",
   "metadata": {},
   "outputs": [],
   "source": [
    "# Create a function to plot time series data\n",
    "def plot_time_series(timesteps,values,format='.',start=0,end=None,label=None):\n",
    "    '''\n",
    "    Plots a timesteps (a series of points in time) against values (a series of values across timesteps).\n",
    "    Parameters\n",
    "    ---------\n",
    "    timesteps : array of timesteps\n",
    "    values : array of values across time\n",
    "    format : style of plot, default \".\"\n",
    "    start : where to start the plot (setting a value will index from start of timesteps & values)\n",
    "    end : where to end the plot (setting a value will index from end of timesteps & values)\n",
    "    label : label to show on plot of values\n",
    "    '''\n",
    "    # Plot the series\n",
    "    plt.plot(timesteps[start:end],values[start:end],format,label=label)\n",
    "    plt.xlabel('Time')\n",
    "    plt.ylabel('BTC price')\n",
    "    if label:\n",
    "        plt.legend(fontsize=14) # make label bigger\n",
    "    plt.grid(True)"
   ]
  },
  {
   "cell_type": "code",
   "execution_count": 20,
   "id": "ad984300",
   "metadata": {},
   "outputs": [
    {
     "data": {
      "image/png": "[encoded data removed]",
      "text/plain": [
       "<Figure size 720x504 with 1 Axes>"
      ]
     },
     "metadata": {
      "needs_background": "light"
     },
     "output_type": "display_data"
    }
   ],
   "source": [
    "# Try out our plotting function\n",
    "plt.figure(figsize=(10,7))\n",
    "plot_time_series(timesteps=X_train,values=y_train,label='Train data')\n",
    "plot_time_series(timesteps=X_test,values=y_test,label='Train data')"
   ]
  },
  {
   "cell_type": "markdown",
   "id": "abe0a3f9",
   "metadata": {},
   "source": [
    "## Modelling Experiments\n",
    "\n",
    "We can build almost any kind of model for our problem as long as the data inputs and outputs are formatted correctly.\n",
    "\n",
    "However, just because we *can* build *almost any* kind of model, doesn't mean it'll perform well/should be used in a production setting.\n",
    "\n",
    "We'll see what this means as we build and evaluate models throughout.\n",
    "\n",
    "Before we discuss what modelling experiments we're going to run, there are two terms you should be familiar with, **horizon** and **window**. \n",
    "  * **horizon** = number of timesteps to predict into future\n",
    "  * **window** = number of timesteps from past used to predict **horizon**\n",
    "\n",
    "For example, if we wanted to predict the price of Bitcoin for tomorrow (1 day in the future) using the previous week's worth of Bitcoin prices (7 days in the past), the horizon would be 1 and the window would be 7.\n",
    "\n",
    "Now, how about those modelling experiments?\n",
    "\n",
    "| Model Number | Model Type | Horizon size | Window size | Extra data |\n",
    "| ----- | ----- | ----- | ----- | ----- |\n",
    "| 0 | Naïve model (baseline) | NA | NA | NA |\n",
    "| 1 | Dense model | 1 | 7 | NA |\n",
    "| 2 | Same as 1 | 1 | 30 | NA | \n",
    "| 3 | Same as 1 | 7 | 30 | NA |\n",
    "| 4 | Conv1D | 1 | 7 | NA |\n",
    "| 5 | LSTM | 1 | 7 | NA |\n",
    "| 6 | Same as 1 (but with multivariate data) | 1 | 7 | Block reward size |\n",
    "| 7 | [N-BEATs Algorithm](https://arxiv.org/pdf/1905.10437.pdf) | 1 | 7 | NA |\n",
    "| 8 | Ensemble (multiple models optimized on different loss functions) | 1 | 7 | NA | \n",
    "| 9 | Future prediction model (model to predict future values) | 1 | 7 | NA| \n",
    "| 10 | Same as 1 (but with turkey 🦃 data introduced) | 1 | 7 | NA |\n",
    "\n",
    "> 🔑 **Note:** To reiterate, as you can see, we can build many types of models for the data we're working with. But that doesn't mean that they'll perform well. Deep learning is a powerful technique but it doesn't always work. And as always, start with a simple model first and then add complexity as needed. "
   ]
  },
  {
   "cell_type": "markdown",
   "id": "18ffd208",
   "metadata": {},
   "source": [
    "## Model 0: Naïve forecast (baseline)\n",
    "\n",
    "As usual, let's start with a baseline.\n",
    "\n",
    "One of the most common baseline models for time series forecasting, the naïve model (also called the [naïve forecast](https://otexts.com/fpp3/simple-methods.html#na%C3%AFve-method)), requires no training at all.\n",
    "\n",
    "That's because all the naïve model does is use the previous timestep value to predict the next timestep value.\n",
    "\n",
    "The formula looks like this:\n",
    "\n",
    "$$\\hat{y}_{t} = y_{t-1}$$ \n",
    "\n",
    "In English: \n",
    "> The prediction at timestep `t` (y-hat) is equal to the value at timestep `t-1` (the previous timestep).\n",
    "\n",
    "Sound simple?\n",
    "\n",
    "Maybe not.\n",
    "\n",
    "In an open system (like a stock market or crypto market), you'll often find beating the naïve forecast with *any* kind of model is quite hard.\n",
    "\n",
    "> 🔑 **Note:** For the sake of this notebook, an **open system** is a system where inputs and outputs can freely flow, such as a market (stock or crypto). Where as, a **closed system** the inputs and outputs are contained within the system (like a poker game with your buddies, you know the buy in and you know how much the winner can get). Time series forecasting in **open systems** is generally quite poor."
   ]
  },
  {
   "cell_type": "code",
   "execution_count": 21,
   "id": "fc1139bf",
   "metadata": {},
   "outputs": [
    {
     "data": {
      "text/plain": [
       "(array([9226.48582088, 8794.35864452, 8798.04205463, 9081.18687849,\n",
       "        8711.53433917, 8760.89271814, 8749.52059102, 8656.97092235,\n",
       "        8500.64355816, 8469.2608989 ]),\n",
       " array([57107.12067189, 58788.20967893, 58102.19142623, 55715.54665129,\n",
       "        56573.5554719 , 52147.82118698, 49764.1320816 , 50032.69313676,\n",
       "        47885.62525472, 45604.61575361]))"
      ]
     },
     "execution_count": 21,
     "metadata": {},
     "output_type": "execute_result"
    }
   ],
   "source": [
    "# Create a naive forecast\n",
    "naive_forecast = y_test[:-1] # Naive forecast equals every value excluding the last value\n",
    "naive_forecast[:10],naive_forecast[-10:] # View first 10 and last 10"
   ]
  },
  {
   "cell_type": "code",
   "execution_count": 22,
   "id": "d21385b6",
   "metadata": {},
   "outputs": [
    {
     "data": {
      "image/png": "[encoded data removed]",
      "text/plain": [
       "<Figure size 720x504 with 1 Axes>"
      ]
     },
     "metadata": {
      "needs_background": "light"
     },
     "output_type": "display_data"
    }
   ],
   "source": [
    "# Plot naive forecast\n",
    "plt.figure(figsize=(10, 7))\n",
    "plot_time_series(timesteps=X_train, values=y_train, label=\"Train data\")\n",
    "plot_time_series(timesteps=X_test, values=y_test, label=\"Test data\")\n",
    "plot_time_series(timesteps=X_test[1:], values=naive_forecast, format=\"-\", label=\"Naive forecast\");"
   ]
  },
  {
   "cell_type": "markdown",
   "id": "7b6bf098",
   "metadata": {},
   "source": [
    "The naive forecast looks like it's following the data well. \n",
    "\n",
    "Let's zoom in to take a better look.\n",
    "\n",
    "We can do so by creating an offset value and passing it to the `start` parameter of our `plot_time_series()` function."
   ]
  },
  {
   "cell_type": "code",
   "execution_count": 23,
   "id": "852d952b",
   "metadata": {},
   "outputs": [
    {
     "data": {
      "image/png": "[encoded data removed]",
      "text/plain": [
       "<Figure size 720x504 with 1 Axes>"
      ]
     },
     "metadata": {
      "needs_background": "light"
     },
     "output_type": "display_data"
    }
   ],
   "source": [
    "plt.figure(figsize=(10,7))\n",
    "offsets = 300 # offset the values by 300 timesteps\n",
    "plot_time_series(timesteps=X_test,values=y_test,start=offsets,label='Test data')\n",
    "plot_time_series(timesteps=X_test[1:],values=naive_forecast,format='-',start=offsets,label='Naive forecast')"
   ]
  },
  {
   "cell_type": "markdown",
   "id": "3a42df05",
   "metadata": {},
   "source": [
    "## Evaluating a time series model\n",
    "\n",
    "Time series forecasting often involves predicting a number (in our case, the price of Bitcoin).\n",
    "\n",
    "And what kind of problem is predicting a number?\n",
    "\n",
    "Ten points if you said regression.\n",
    "\n",
    "With this known, we can use regression evaluation metrics to evaluate our time series forecasts.\n",
    "\n",
    "The main thing we will be evaluating is: **how do our model's predictions (`y_pred`) compare against the actual values (`y_true` or *ground truth values*)**? \n",
    "\n",
    "> 📖 **Resource:** We're going to be using several metrics to evaluate our different model's time series forecast accuracy. Many of them are sourced and explained mathematically and conceptually in [Forecasting: Principles and Practice chapter 5.8](https://otexts.com/fpp3/accuracy.html), I'd recommend reading through here for a more in-depth overview of what we're going to practice.\n",
    "\n",
    "For all of the following metrics, **lower is better** (for example an MAE of 0 is better than an MAE 100).\n",
    "\n",
    "### Scale-dependent errors\n",
    "\n",
    "These are metrics which can be used to compare time series values and forecasts that are on the same scale.\n",
    "\n",
    "For example, Bitcoin historical prices in USD veresus Bitcoin forecast values in USD.\n",
    "\n",
    "| Metric | Details | Code |\n",
    "| ----- | ----- | ----- |\n",
    "| **MAE** (mean absolute error) | Easy to interpret (a forecast is X amount different from actual amount). Forecast methods which minimises the MAE will lead to forecasts of the median. | [`tf.keras.metrics.mean_absolute_error()`](https://www.tensorflow.org/api_docs/python/tf/keras/metrics/MeanAbsoluteError) |\n",
    "| **RMSE** (root mean square error) | Forecasts which minimise the RMSE lead to forecasts of the mean. | `tf.sqrt(`[`tf.keras.metrics.mean_square_error()`](https://www.tensorflow.org/api_docs/python/tf/keras/metrics/RootMeanSquaredError)`)`|\n",
    "\n",
    "### Percentage errors\n",
    "\n",
    "Percentage errors do not have units, this means they can be used to compare forecasts across different datasets.\n",
    "\n",
    "| **Metric** | **Details** | **Code** |\n",
    "| ----- | ----- | ----- |\n",
    "| **MAPE** (mean absolute percentage error) | Most commonly used percentage error. May explode (not work) if `y=0`. | [`tf.keras.metrics.mean_absolute_percentage_error()`](https://www.tensorflow.org/api_docs/python/tf/keras/losses/MAPE) | \n",
    "| **sMAPE** (symmetric mean absolute percentage error) | Recommended not to be used by [Forecasting: Principles and Practice](https://otexts.com/fpp3/accuracy.html#percentage-errors), though it is used in forecasting competitions. | Custom implementation |\n",
    "\n",
    "### Scaled errors\n",
    "\n",
    "Scaled errors are an alternative to percentage errors when comparing forecast performance across different time series.\n",
    "\n",
    "| **Metric** | **Details** | **Code** |\n",
    "| ----- | ----- | ----- |\n",
    "| **MASE** (mean absolute scaled error). | MASE equals one for the naive forecast (or very close to one). A forecast which performs better than the naïve should get <1 MASE. | See sktime's [`mase_loss()`](https://github.com/alan-turing-institute/sktime/blob/ee7a06843a44f4aaec7582d847e36073a9ab0566/sktime/performance_metrics/forecasting/_functions.py#L16) |\n",
    "\n",
    "> 🤔 **Question:** There are so many metrics... which one should I pay most attention to? It's going to depend on your problem. However, since its ease of interpretation (you can explain it in a sentence to your grandma), MAE is often a very good place to start.\n",
    "\n",
    "Since we're going to be evaluing a lot of models, let's write a function to help us calculate evaluation metrics on their forecasts.\n",
    "\n",
    "First we'll need TensorFlow.\n"
   ]
  },
  {
   "cell_type": "code",
   "execution_count": 25,
   "id": "31a7f92c",
   "metadata": {},
   "outputs": [
    {
     "name": "stdout",
     "output_type": "stream",
     "text": [
      "2.6.0\n"
     ]
    }
   ],
   "source": [
    "# let import tensorflow\n",
    "import tensorflow as tf\n",
    "print(tf.__version__)"
   ]
  },
  {
   "cell_type": "code",
   "execution_count": 35,
   "id": "2f487a22",
   "metadata": {},
   "outputs": [],
   "source": [
    "# MASE implemented courtesy of sktime - https://github.com/alan-turing-institute/sktime/blob/ee7a06843a44f4aaec7582d847e36073a9ab0566/sktime/performance_metrics/forecasting/_functions.py#L16\n",
    "def mean_absolute_scaled_error(y_true,y_pred):\n",
    "    '''\n",
    "    Implement MASE (assuming no seasonality of data)\n",
    "    '''\n",
    "    mae = tf.reduce_mean(tf.abs(y_true-y_pred))\n",
    "    # find MAE of navie forecast (no seasonality)\n",
    "    # our seasonality is 1 day (hence the shifting of 1 day)\n",
    "    mea_naive_no_season = tf.reduce_mean(tf.abs(y_true[1:]-y_true[:-1]))\n",
    "    return mae / mea_naive_no_season"
   ]
  },
  {
   "cell_type": "markdown",
   "id": "9d2af7ae",
   "metadata": {},
   "source": [
    "You'll notice the version of MASE above doesn't take in the training values like sktime's `mae_loss()`. In our case, we're comparing the MAE of our predictions on the test to the MAE of the naïve forecast on the test set.\n",
    "\n",
    "In practice, if we've created the function correctly, the naïve model should achieve an MASE of 1 (or very close to 1). Any model worse than the naïve forecast will achieve an MASE of >1 and any model better than the naïve forecast will achieve an MASE of <1.\n",
    "\n",
    "Let's put each of our different evaluation metrics together into a function."
   ]
  },
  {
   "cell_type": "code",
   "execution_count": 38,
   "id": "f620547c",
   "metadata": {},
   "outputs": [],
   "source": [
    "def evaluate_preds(y_true,y_pred):\n",
    "    # Make sure float32 (for metric calculations)\n",
    "    y_true = tf.cast(y_true,dtype=tf.float32)\n",
    "    y_pred = tf.cast(y_pred,dtype=tf.float32)\n",
    "    # calculate various metrics\n",
    "    mae = tf.keras.metrics.mean_absolute_error(y_true,y_pred)\n",
    "    mse = tf.keras.metrics.mean_squared_error(y_true,y_pred) # puts and emplasis on outliers (all errors get squared)\n",
    "    rmse = tf.sqrt(mse)\n",
    "    mape = tf.keras.metrics.mean_absolute_percentage_error(y_true,y_pred)\n",
    "    mase = mean_absolute_scaled_error(y_true,y_pred)\n",
    "    \n",
    "    metric = {'mae':mae.numpy(),\n",
    "             'mse':mse.numpy(),\n",
    "             'rmse':rmse.numpy(),\n",
    "             'mape':mape.numpy(),\n",
    "             'mase':mase.numpy()}\n",
    "    \n",
    "    return metric"
   ]
  },
  {
   "cell_type": "code",
   "execution_count": 39,
   "id": "a5eb4339",
   "metadata": {},
   "outputs": [
    {
     "data": {
      "text/plain": [
       "{'mae': 567.9802,\n",
       " 'mse': 1147547.0,\n",
       " 'rmse': 1071.2362,\n",
       " 'mape': 2.5165248,\n",
       " 'mase': 0.9995699}"
      ]
     },
     "execution_count": 39,
     "metadata": {},
     "output_type": "execute_result"
    }
   ],
   "source": [
    "# test function on the naive forecast\n",
    "naive_results=  evaluate_preds(y_true=y_test[1:],\n",
    "                              y_pred=naive_forecast)\n",
    "naive_results"
   ]
  },
  {
   "cell_type": "markdown",
   "id": "1477a656",
   "metadata": {},
   "source": [
    "Alright, looks like we've got some baselines to beat.\n",
    "\n",
    "Taking a look at the naïve forecast's MAE, it seems on average each forecast is ~$567 different than the actual Bitcoin price.\n",
    "\n",
    "How does this compare to the average price of Bitcoin in the test dataset?"
   ]
  },
  {
   "cell_type": "code",
   "execution_count": 40,
   "id": "c5a9fed3",
   "metadata": {},
   "outputs": [
    {
     "data": {
      "text/plain": [
       "20056.632963737226"
      ]
     },
     "execution_count": 40,
     "metadata": {},
     "output_type": "execute_result"
    }
   ],
   "source": [
    "# Find average price of bitcoin in test dataset\n",
    "tf.reduce_mean(y_test).numpy()"
   ]
  },
  {
   "cell_type": "markdown",
   "id": "ac8f8d29",
   "metadata": {},
   "source": [
    "## Other kinds of time series forecasting models which can be used for baselines and actual forecasts\n",
    "\n",
    "Since we've got a naïve forecast baseline to work with, it's time we start building models to try and beat it.\n",
    "\n",
    "And because this course is focused on TensorFlow and deep learning, we're going to be using TensorFlow to build deep learning models to try and improve on our naïve forecasting results.\n",
    "\n",
    "That being said, there are many other kinds of models you may want to look into for building baselines/performing forecasts.\n",
    "\n",
    "Some of them may even beat our best performing models in this notebook, however, I'll leave trying them out for extra-curriculum.\n",
    "\n",
    "| **Model/Library Name** | **Resource** |\n",
    "| ----- | ----- |\n",
    "| Moving average | https://machinelearningmastery.com/moving-average-smoothing-for-time-series-forecasting-python/ |\n",
    "| ARIMA (Autoregression Integrated Moving Average) | https://machinelearningmastery.com/arima-for-time-series-forecasting-with-python/ |\n",
    "| sktime (Scikit-Learn for time series) | https://github.com/alan-turing-institute/sktime |\n",
    "| TensorFlow Decision Forests (random forest, gradient boosting trees) | https://www.tensorflow.org/decision_forests |\n",
    "| Facebook Kats (purpose-built forecasting and time series analysis library by Facebook) | https://github.com/facebookresearch/Kats | \n",
    "| LinkedIn Greykite (flexible, intuitive and fast forecasts) | https://github.com/linkedin/greykite |"
   ]
  },
  {
   "cell_type": "markdown",
   "id": "64e07a0b",
   "metadata": {},
   "source": [
    "## Format Data Part 2: Windowing dataset\n",
    "\n",
    "Surely we'd be ready to start building models by now?\n",
    "\n",
    "We're so close! Only one more step (really two) to go.\n",
    "\n",
    "We've got to window our time series.\n",
    "\n",
    "Why do we window?\n",
    "\n",
    "Windowing is a method to turn a time series dataset into **supervised learning problem**. \n",
    "\n",
    "In other words, we want to use windows of the past to predict the future.\n",
    "\n",
    "For example for a univariate time series, windowing for one week (`window=7`) to predict the next single value (`horizon=1`) might look like:\n",
    "\n",
    "```\n",
    "Window for one week (univariate time series)\n",
    "\n",
    "[0, 1, 2, 3, 4, 5, 6] -> [7]\n",
    "[1, 2, 3, 4, 5, 6, 7] -> [8]\n",
    "[2, 3, 4, 5, 6, 7, 8] -> [9]\n",
    "```\n",
    "\n",
    "Or for the price of Bitcoin, it'd look like:\n",
    "\n",
    "```\n",
    "Window for one week with the target of predicting the next day (Bitcoin prices)\n",
    "\n",
    "[123.654, 125.455, 108.584, 118.674, 121.338, 120.655, 121.795] -> [123.033]\n",
    "[125.455, 108.584, 118.674, 121.338, 120.655, 121.795, 123.033] -> [124.049]\n",
    "[108.584, 118.674, 121.338, 120.655, 121.795, 123.033, 124.049] -> [125.961]\n",
    "```\n",
    "\n",
    "![windows and horizons for turning time series data into a supervised learning problem](https://raw.githubusercontent.com/mrdbourke/tensorflow-deep-learning/main/images/10-time-series-windows-and-horizons.png)\n",
    "*Example of windows and horizons for Bitcoin data. Windowing can be used to turn time series data into a supervised learning problem.*\n",
    "\n",
    "Let's build some functions which take in a univariate time series and turn it into windows and horizons of specified sizes.\n",
    "\n",
    "We'll start with the default horizon size of 1 and a window size of 7 (these aren't necessarily the best values to use, I've just picked them)."
   ]
  },
  {
   "cell_type": "code",
   "execution_count": 74,
   "id": "e8332e64",
   "metadata": {},
   "outputs": [],
   "source": [
    "HORIZON = 1 # predict 1 step at time\n",
    "WINDOW_SIZE = 7 # use a week worth of timesteps to predict the horizon"
   ]
  },
  {
   "cell_type": "code",
   "execution_count": 75,
   "id": "fc0218b1",
   "metadata": {},
   "outputs": [],
   "source": [
    "# Create function to label windowed data\n",
    "def get_labelled_windows(x,horizon=1):\n",
    "    '''\n",
    "    Creates labels for windowed dataset.\n",
    "    E.g if horizon=1 (default)\n",
    "    Input: [1, 2, 3, 4, 5, 6] -> Output: ([1, 2, 3, 4, 5], [6])\n",
    "    '''\n",
    "    return(x[:,:-horizon],x[:,-horizon:])"
   ]
  },
  {
   "cell_type": "code",
   "execution_count": 76,
   "id": "476df929",
   "metadata": {},
   "outputs": [
    {
     "data": {
      "text/plain": [
       "<tf.Tensor: shape=(1, 1), dtype=int32, numpy=array([[7]])>"
      ]
     },
     "execution_count": 76,
     "metadata": {},
     "output_type": "execute_result"
    }
   ],
   "source": [
    "data = tf.expand_dims(tf.range(8),axis=0)\n",
    "data[:,-1:]"
   ]
  },
  {
   "cell_type": "code",
   "execution_count": 77,
   "id": "791694bb",
   "metadata": {},
   "outputs": [
    {
     "name": "stdout",
     "output_type": "stream",
     "text": [
      "Window: [1 2 3 4 5 6 7]->Label: 8\n"
     ]
    }
   ],
   "source": [
    "# Test out the window labeling function\n",
    "data = tf.expand_dims(tf.range(8)+1,axis=0)\n",
    "test_window, test_label = get_labelled_windows(data,horizon=HORIZON)\n",
    "print(f'Window: {tf.squeeze(test_window).numpy()}->Label: {tf.squeeze(test_label).numpy()}')"
   ]
  },
  {
   "cell_type": "markdown",
   "id": "14058b25",
   "metadata": {},
   "source": [
    "Oh yeah, that's what I'm talking about!\n",
    "\n",
    "Now we need a way to make windows for an entire time series.\n",
    "\n",
    "We could do this with Python for loops, however, for large time series, that'd be quite slow.\n",
    "\n",
    "To speed things up, we'll leverage [NumPy's array indexing](https://numpy.org/doc/stable/reference/arrays.indexing.html).\n",
    "\n",
    "Let's write a function which:\n",
    "1. Creates a window step of specific window size, for example: `[[0, 1, 2, 3, 4, 5, 6, 7]]`\n",
    "2. Uses NumPy indexing to create a 2D of multiple window steps, for example: \n",
    "```\n",
    "[[0, 1, 2, 3, 4, 5, 6, 7],\n",
    " [1, 2, 3, 4, 5, 6, 7, 8],\n",
    " [2, 3, 4, 5, 6, 7, 8, 9]]\n",
    "```\n",
    "3. Uses the 2D array of multuple window steps to index on a target series\n",
    "4. Uses the `get_labelled_windows()` function we created above to turn the window steps into windows with a specified horizon\n",
    "\n",
    "> 📖 **Resource:** The function created below has been adapted from Syafiq Kamarul Azman's article [*Fast and Robust Sliding Window Vectorization with NumPy*](https://towardsdatascience.com/fast-and-robust-sliding-window-vectorization-with-numpy-3ad950ed62f5)."
   ]
  },
  {
   "cell_type": "code",
   "execution_count": 78,
   "id": "5dfcf875",
   "metadata": {},
   "outputs": [],
   "source": [
    "# Create function to view Numpy arrays as windows\n",
    "def make_windows(x,window_size=7,horizon=1):\n",
    "    '''\n",
    "    Turn a 1D array into a 2D array of sequential windows of window size\n",
    "    '''\n",
    "    # 1.Create a windwo of specific window_size (add the horizon on th end for later labelling)\n",
    "    window_step = np.expand_dims(np.arange(window_size+horizon),axis=0)\n",
    "    # print(f\"Window step:\\n {window_step}\")\n",
    "    # 2.Create a 2D array of multiple window steps (minus 1 to account for 0 indexing)\n",
    "    window_indexes = window_step + np.expand_dims(np.arange(len(x)-(window_size+horizon-1)),axis=0).T# create 2D array of windows of size window_size\n",
    "    # print(f\"Window indexes:\\n {window_indexes[:3], window_indexes[-3:], window_indexes.shape}\")\n",
    "    # 3.Index on the target array (time series) with 2D array of multiple window steps\n",
    "    windowed_array = x[window_indexes]\n",
    "    # 4.Get the labelled windows\n",
    "    windows,labels = get_labelled_windows(windowed_array,horizon=horizon)\n",
    "    return windows,labels"
   ]
  },
  {
   "cell_type": "code",
   "execution_count": 94,
   "id": "fc0dea85",
   "metadata": {},
   "outputs": [
    {
     "data": {
      "text/plain": [
       "(2780, 2780)"
      ]
     },
     "execution_count": 94,
     "metadata": {},
     "output_type": "execute_result"
    }
   ],
   "source": [
    "# wiew the first 3 windows|labels\n",
    "full_windows,full_labels = make_windows(prices,window_size=WINDOW_SIZE,horizon=HORIZON)\n",
    "len(full_windows),len(full_labels)"
   ]
  },
  {
   "cell_type": "code",
   "execution_count": 95,
   "id": "da134357",
   "metadata": {},
   "outputs": [
    {
     "name": "stdout",
     "output_type": "stream",
     "text": [
      "Window: [123.65499 125.455   108.58483 118.67466 121.33866 120.65533 121.795  ] -> Label: [123.033]\n",
      "Window: [125.455   108.58483 118.67466 121.33866 120.65533 121.795   123.033  ] -> Label: [124.049]\n",
      "Window: [108.58483 118.67466 121.33866 120.65533 121.795   123.033   124.049  ] -> Label: [125.96116]\n"
     ]
    }
   ],
   "source": [
    "# View the first 3 windows/labels\n",
    "for i in range(3):\n",
    "  print(f\"Window: {full_windows[i]} -> Label: {full_labels[i]}\")"
   ]
  },
  {
   "cell_type": "markdown",
   "id": "58f35ee3",
   "metadata": {},
   "source": [
    "> 🔑 **Note:** You can find a function which achieves similar results to the ones we implemented above at [`tf.keras.preprocessing.timeseries_dataset_from_array()`](https://www.tensorflow.org/api_docs/python/tf/keras/preprocessing/timeseries_dataset_from_array). Just like ours, it takes in an array and returns a windowed dataset. It has the benefit of returning data in the form of a tf.data.Dataset instance (we'll see how to do this with our own data later).\n",
    "\n",
    "## Turning windows into training and test sets \n",
    "\n",
    "Look how good those windows look! Almost like the stain glass windows on the Sistine Chapel, well, maybe not that good but still.\n",
    "\n",
    "Time to turn our windows into training and test splits.\n",
    "\n",
    "We could've windowed our existing training and test splits, however, with the nature of windowing (windowing often requires an offset at some point in the data), it usually works better to window the data first, then split it into training and test sets.\n",
    "\n",
    "Let's write a function which takes in full sets of windows and their labels and splits them into train and test splits."
   ]
  },
  {
   "cell_type": "code",
   "execution_count": 96,
   "id": "89dd9bf8",
   "metadata": {},
   "outputs": [],
   "source": [
    "# Make the train/test splits\n",
    "def make_train_test_splits(windows,labels,test_split=0.2):\n",
    "    '''\n",
    "    Split mathcing pairs windwos and albesl into train and test splits\n",
    "    '''\n",
    "    split_size = int(len(windows) * (1-test_split)) # number of sample correspond to 80% train and 20%\n",
    "    train_windows = windows[:split_size]\n",
    "    train_labels = labels[:split_size]\n",
    "    test_windows = windows[split_size:]\n",
    "    test_labels = labels[split_size:]\n",
    "    return train_windows,test_windows,train_labels,test_labels"
   ]
  },
  {
   "cell_type": "code",
   "execution_count": 102,
   "id": "f93fb743",
   "metadata": {},
   "outputs": [
    {
     "name": "stdout",
     "output_type": "stream",
     "text": [
      "(2224, 7)\n",
      "(556, 7)\n",
      "(2224, 1)\n",
      "(556, 1)\n"
     ]
    }
   ],
   "source": [
    "train_windows,test_windows,train_labels,test_labels = make_train_test_splits(full_windows,full_labels)\n",
    "len(train_windows),len(test_windows),len(train_labels),len(test_labels)\n",
    "print(train_windows.shape)\n",
    "print(test_windows.shape)\n",
    "print(train_labels.shape)\n",
    "print(test_labels.shape)"
   ]
  },
  {
   "cell_type": "markdown",
   "id": "7b967a9b",
   "metadata": {},
   "source": [
    "Notice the default split of 80% training data and 20% testing data (this split can be adjusted if needed).\n",
    "\n",
    "How do the first 5 samples of the training windows and labels looks?"
   ]
  },
  {
   "cell_type": "code",
   "execution_count": 103,
   "id": "8db755d7",
   "metadata": {},
   "outputs": [
    {
     "data": {
      "text/plain": [
       "array([[123.65499, 125.455  , 108.58483, 118.67466, 121.33866, 120.65533,\n",
       "        121.795  ],\n",
       "       [125.455  , 108.58483, 118.67466, 121.33866, 120.65533, 121.795  ,\n",
       "        123.033  ],\n",
       "       [108.58483, 118.67466, 121.33866, 120.65533, 121.795  , 123.033  ,\n",
       "        124.049  ],\n",
       "       [118.67466, 121.33866, 120.65533, 121.795  , 123.033  , 124.049  ,\n",
       "        125.96116],\n",
       "       [121.33866, 120.65533, 121.795  , 123.033  , 124.049  , 125.96116,\n",
       "        125.27966]])"
      ]
     },
     "execution_count": 103,
     "metadata": {},
     "output_type": "execute_result"
    }
   ],
   "source": [
    "train_windows[:5]"
   ]
  },
  {
   "cell_type": "code",
   "execution_count": 104,
   "id": "a414904c",
   "metadata": {},
   "outputs": [
    {
     "data": {
      "text/plain": [
       "array([[123.033  ],\n",
       "       [124.049  ],\n",
       "       [125.96116],\n",
       "       [125.27966],\n",
       "       [125.9275 ]])"
      ]
     },
     "execution_count": 104,
     "metadata": {},
     "output_type": "execute_result"
    }
   ],
   "source": [
    "train_labels[:5]"
   ]
  },
  {
   "cell_type": "code",
   "execution_count": 105,
   "id": "8d0ee9f7",
   "metadata": {},
   "outputs": [
    {
     "data": {
      "text/plain": [
       "True"
      ]
     },
     "execution_count": 105,
     "metadata": {},
     "output_type": "execute_result"
    }
   ],
   "source": [
    "# Check to see if same (accounting for horizon and window size)\n",
    "np.array_equal(np.squeeze(train_labels[:-HORIZON-1]),y_train[WINDOW_SIZE:])"
   ]
  },
  {
   "cell_type": "markdown",
   "id": "2552082b",
   "metadata": {},
   "source": [
    "## Make a modelling checkpoint\n",
    "\n",
    "We're so close to building models. So so so close.\n",
    "\n",
    "Because our model's performance will fluctuate from experiment to experiment, we'll want to make sure we're comparing apples to apples.\n",
    "\n",
    "What I mean by this is in order for a fair comparison, we want to compare each model's best performance against each model's best performance.\n",
    "\n",
    "For example, if `model_1` performed incredibly well on epoch 55 but its performance fell off toward epoch 100, we want the version of the model from epoch 55 to compare to other models rather than the version of the model from epoch 100.\n",
    "\n",
    "And the same goes for each of our other models: compare the best against the best.\n",
    "\n",
    "To take of this, we'll implement a [`ModelCheckpoint`](https://www.tensorflow.org/api_docs/python/tf/keras/callbacks/ModelCheckpoint) callback.\n",
    "\n",
    "The `ModelCheckpoint` callback will monitor our model's performance during training and save the best model to file by setting `save_best_only=True`.\n",
    "\n",
    "That way when evaluating our model we could restore its best performing configuration from file.\n",
    "\n",
    "> 🔑 **Note:** Because of the size of the dataset (smaller than usual), you'll notice our modelling experiment results fluctuate quite a bit during training (hence the implementation of the `ModelCheckpoint` callback to save the best model).\n",
    "\n",
    "Because we're going to be running multiple experiments, it makes sense to keep track of them by saving models to file under different names.\n",
    "\n",
    "To do this, we'll write a small function to create a `ModelCheckpoint` callback which saves a model to specified filename."
   ]
  },
  {
   "cell_type": "code",
   "execution_count": 107,
   "id": "faa341a3",
   "metadata": {},
   "outputs": [],
   "source": [
    "import os\n",
    "\n",
    "# Create a function to implement a ModelCheckpoint callback with a specific filename\n",
    "def create_model_checkpoint(model_name,save_path='model_exp'):\n",
    "    return tf.keras.callbacks.ModelCheckpoint(filepath=os.path.join(save_path,model_name), # create filepath to save model\n",
    "                                              verbose=0, # only output a limited amount of text\n",
    "                                              save_best_only=True # save only the best model file\n",
    "                                             )"
   ]
  },
  {
   "cell_type": "markdown",
   "id": "23e3d064",
   "metadata": {},
   "source": [
    "## Model 1: Dense model (window = 7, horizon = 1)\n",
    "\n",
    "Finally!\n",
    "\n",
    "Time to build one of our models.\n",
    "\n",
    "If you think we've been through a fair bit of preprocessing before getting here, you're right.\n",
    "\n",
    "Often, preparing data for a model is one of the largest parts of any machine learning project.\n",
    "\n",
    "And once you've got a good model in place, you'll probably notice far more improvements from manipulating the data (e.g. collecting more, improving the quality) than manipulating the model.\n",
    "\n",
    "We're going to start by keeping it simple, `model_1` will have:\n",
    "* A single dense layer with 128 hidden units and ReLU (rectified linear unit) activation\n",
    "* An output layer with linear activation (or no activation)\n",
    "* Adam optimizer and MAE loss function\n",
    "* Batch size of 128\n",
    "* 100 epochs\n",
    "\n",
    "Why these values?\n",
    "\n",
    "I picked them out of experimentation. \n",
    "\n",
    "A batch size of 32 works pretty well too and we could always train for less epochs but since the model runs so fast (you'll see in a second, it's because the number of samples we have isn't massive) we might as well train for more.\n",
    "\n",
    "> 🔑 **Note:** As always, many of the values for machine learning problems are experimental. A reminder that the values you can set yourself in a machine learning algorithm (the hidden units, the batch size, horizon size, window size) are called [**hyperparameters**](https://en.wikipedia.org/wiki/Hyperparameter_(machine_learning). And experimenting to find the best values for hyperparameters is called **hyperparameter tuning**. Where as parameters learned by a model itself (patterns in the data, formally called weights & biases) are referred to as **parameters**.\n",
    "\n",
    "Let's import TensorFlow and build our first deep learning model for time series."
   ]
  },
  {
   "cell_type": "code",
   "execution_count": 111,
   "id": "ea918909",
   "metadata": {},
   "outputs": [
    {
     "name": "stdout",
     "output_type": "stream",
     "text": [
      "Epoch 1/100\n",
      "18/18 [==============================] - 1s 10ms/step - loss: 780.3469 - mae: 780.3469 - val_loss: 2279.5830 - val_mae: 2279.5830\n",
      "INFO:tensorflow:Assets written to: model_exp\\model_1_dense\\assets\n",
      "Epoch 2/100\n",
      "18/18 [==============================] - 0s 4ms/step - loss: 247.6765 - mae: 247.6765 - val_loss: 1005.9865 - val_mae: 1005.9865\n",
      "INFO:tensorflow:Assets written to: model_exp\\model_1_dense\\assets\n",
      "Epoch 3/100\n",
      "18/18 [==============================] - 0s 4ms/step - loss: 188.4107 - mae: 188.4107 - val_loss: 923.2859 - val_mae: 923.2859\n",
      "INFO:tensorflow:Assets written to: model_exp\\model_1_dense\\assets\n",
      "Epoch 4/100\n",
      "18/18 [==============================] - 0s 3ms/step - loss: 169.4334 - mae: 169.4334 - val_loss: 900.5931 - val_mae: 900.5931\n",
      "INFO:tensorflow:Assets written to: model_exp\\model_1_dense\\assets\n",
      "Epoch 5/100\n",
      "18/18 [==============================] - 0s 4ms/step - loss: 165.0899 - mae: 165.0899 - val_loss: 895.2402 - val_mae: 895.2402\n",
      "INFO:tensorflow:Assets written to: model_exp\\model_1_dense\\assets\n",
      "Epoch 6/100\n",
      "18/18 [==============================] - 0s 4ms/step - loss: 158.5206 - mae: 158.5206 - val_loss: 855.1870 - val_mae: 855.1870\n",
      "INFO:tensorflow:Assets written to: model_exp\\model_1_dense\\assets\n",
      "Epoch 7/100\n",
      "18/18 [==============================] - 0s 4ms/step - loss: 151.3568 - mae: 151.3568 - val_loss: 840.9288 - val_mae: 840.9288\n",
      "INFO:tensorflow:Assets written to: model_exp\\model_1_dense\\assets\n",
      "Epoch 8/100\n",
      "18/18 [==============================] - 0s 4ms/step - loss: 145.2560 - mae: 145.2560 - val_loss: 803.6005 - val_mae: 803.6005\n",
      "INFO:tensorflow:Assets written to: model_exp\\model_1_dense\\assets\n",
      "Epoch 9/100\n",
      "18/18 [==============================] - 0s 3ms/step - loss: 144.3546 - mae: 144.3546 - val_loss: 799.5589 - val_mae: 799.5589\n",
      "INFO:tensorflow:Assets written to: model_exp\\model_1_dense\\assets\n",
      "Epoch 10/100\n",
      "18/18 [==============================] - 0s 7ms/step - loss: 141.2944 - mae: 141.2944 - val_loss: 763.5059 - val_mae: 763.5059\n",
      "INFO:tensorflow:Assets written to: model_exp\\model_1_dense\\assets\n",
      "Epoch 11/100\n",
      "18/18 [==============================] - 0s 5ms/step - loss: 135.6591 - mae: 135.6591 - val_loss: 771.3521 - val_mae: 771.3521\n",
      "Epoch 12/100\n",
      "18/18 [==============================] - 0s 5ms/step - loss: 134.1702 - mae: 134.1702 - val_loss: 782.8320 - val_mae: 782.8320\n",
      "Epoch 13/100\n",
      "18/18 [==============================] - 0s 6ms/step - loss: 134.6014 - mae: 134.6014 - val_loss: 784.4721 - val_mae: 784.4721\n",
      "Epoch 14/100\n",
      "18/18 [==============================] - 0s 5ms/step - loss: 130.6125 - mae: 130.6125 - val_loss: 751.3464 - val_mae: 751.3464\n",
      "INFO:tensorflow:Assets written to: model_exp\\model_1_dense\\assets\n",
      "Epoch 15/100\n",
      "18/18 [==============================] - 0s 5ms/step - loss: 128.8352 - mae: 128.8352 - val_loss: 696.5834 - val_mae: 696.5834\n",
      "INFO:tensorflow:Assets written to: model_exp\\model_1_dense\\assets\n",
      "Epoch 16/100\n",
      "18/18 [==============================] - 0s 8ms/step - loss: 124.8667 - mae: 124.8667 - val_loss: 707.2983 - val_mae: 707.2983\n",
      "Epoch 17/100\n",
      "18/18 [==============================] - 0s 12ms/step - loss: 123.6096 - mae: 123.6096 - val_loss: 714.2284 - val_mae: 714.2284\n",
      "Epoch 18/100\n",
      "18/18 [==============================] - 0s 6ms/step - loss: 122.3023 - mae: 122.3023 - val_loss: 669.1412 - val_mae: 669.1412\n",
      "INFO:tensorflow:Assets written to: model_exp\\model_1_dense\\assets\n",
      "Epoch 19/100\n",
      "18/18 [==============================] - 0s 4ms/step - loss: 121.4932 - mae: 121.4932 - val_loss: 721.5445 - val_mae: 721.5445\n",
      "Epoch 20/100\n",
      "18/18 [==============================] - 0s 8ms/step - loss: 119.2384 - mae: 119.2384 - val_loss: 658.0783 - val_mae: 658.0783\n",
      "INFO:tensorflow:Assets written to: model_exp\\model_1_dense\\assets\n",
      "Epoch 21/100\n",
      "18/18 [==============================] - 0s 4ms/step - loss: 121.5293 - mae: 121.5293 - val_loss: 638.3384 - val_mae: 638.3384\n",
      "INFO:tensorflow:Assets written to: model_exp\\model_1_dense\\assets\n",
      "Epoch 22/100\n",
      "18/18 [==============================] - 0s 3ms/step - loss: 119.3422 - mae: 119.3422 - val_loss: 678.8875 - val_mae: 678.8875\n",
      "Epoch 23/100\n",
      "18/18 [==============================] - 0s 5ms/step - loss: 122.8203 - mae: 122.8203 - val_loss: 651.8506 - val_mae: 651.8506\n",
      "Epoch 24/100\n",
      "18/18 [==============================] - 0s 4ms/step - loss: 117.0774 - mae: 117.0774 - val_loss: 623.5612 - val_mae: 623.5612\n",
      "INFO:tensorflow:Assets written to: model_exp\\model_1_dense\\assets\n",
      "Epoch 25/100\n",
      "18/18 [==============================] - 0s 4ms/step - loss: 115.1816 - mae: 115.1816 - val_loss: 618.5576 - val_mae: 618.5576\n",
      "INFO:tensorflow:Assets written to: model_exp\\model_1_dense\\assets\n",
      "Epoch 26/100\n",
      "18/18 [==============================] - 0s 3ms/step - loss: 115.0673 - mae: 115.0673 - val_loss: 616.4916 - val_mae: 616.4916\n",
      "INFO:tensorflow:Assets written to: model_exp\\model_1_dense\\assets\n",
      "Epoch 27/100\n",
      "18/18 [==============================] - 0s 4ms/step - loss: 116.6431 - mae: 116.6431 - val_loss: 619.0469 - val_mae: 619.0469\n",
      "Epoch 28/100\n",
      "18/18 [==============================] - 0s 5ms/step - loss: 114.0328 - mae: 114.0328 - val_loss: 610.3882 - val_mae: 610.3882\n",
      "INFO:tensorflow:Assets written to: model_exp\\model_1_dense\\assets\n",
      "Epoch 29/100\n",
      "18/18 [==============================] - 0s 6ms/step - loss: 113.4892 - mae: 113.4892 - val_loss: 617.2399 - val_mae: 617.2399\n",
      "Epoch 30/100\n",
      "18/18 [==============================] - 0s 6ms/step - loss: 116.4094 - mae: 116.4094 - val_loss: 603.6487 - val_mae: 603.6487\n",
      "INFO:tensorflow:Assets written to: model_exp\\model_1_dense\\assets\n",
      "Epoch 31/100\n",
      "18/18 [==============================] - 0s 6ms/step - loss: 112.3454 - mae: 112.3454 - val_loss: 623.4427 - val_mae: 623.4427\n",
      "Epoch 32/100\n",
      "18/18 [==============================] - 0s 6ms/step - loss: 113.2056 - mae: 113.2056 - val_loss: 600.0259 - val_mae: 600.0259\n",
      "INFO:tensorflow:Assets written to: model_exp\\model_1_dense\\assets\n",
      "Epoch 33/100\n",
      "18/18 [==============================] - 0s 4ms/step - loss: 112.9529 - mae: 112.9529 - val_loss: 653.0593 - val_mae: 653.0593\n",
      "Epoch 34/100\n",
      "18/18 [==============================] - 0s 3ms/step - loss: 112.1156 - mae: 112.1156 - val_loss: 594.7911 - val_mae: 594.7911\n",
      "INFO:tensorflow:Assets written to: model_exp\\model_1_dense\\assets\n",
      "Epoch 35/100\n",
      "18/18 [==============================] - 0s 4ms/step - loss: 110.7447 - mae: 110.7447 - val_loss: 592.7401 - val_mae: 592.7401\n",
      "INFO:tensorflow:Assets written to: model_exp\\model_1_dense\\assets\n",
      "Epoch 36/100\n",
      "18/18 [==============================] - 0s 3ms/step - loss: 116.3300 - mae: 116.3300 - val_loss: 592.4694 - val_mae: 592.4694\n",
      "INFO:tensorflow:Assets written to: model_exp\\model_1_dense\\assets\n",
      "Epoch 37/100\n",
      "18/18 [==============================] - 0s 4ms/step - loss: 110.7676 - mae: 110.7676 - val_loss: 618.5341 - val_mae: 618.5341\n",
      "Epoch 38/100\n",
      "18/18 [==============================] - 0s 6ms/step - loss: 112.5934 - mae: 112.5934 - val_loss: 613.9567 - val_mae: 613.9567\n",
      "Epoch 39/100\n",
      "18/18 [==============================] - 0s 3ms/step - loss: 110.1321 - mae: 110.1321 - val_loss: 586.6888 - val_mae: 586.6888\n",
      "INFO:tensorflow:Assets written to: model_exp\\model_1_dense\\assets\n",
      "Epoch 40/100\n",
      "18/18 [==============================] - 0s 6ms/step - loss: 109.4753 - mae: 109.4753 - val_loss: 593.9158 - val_mae: 593.9158\n",
      "Epoch 41/100\n",
      "18/18 [==============================] - 0s 3ms/step - loss: 110.1777 - mae: 110.1777 - val_loss: 586.4464 - val_mae: 586.4464\n",
      "INFO:tensorflow:Assets written to: model_exp\\model_1_dense\\assets\n",
      "Epoch 42/100\n",
      "18/18 [==============================] - 0s 4ms/step - loss: 111.5192 - mae: 111.5192 - val_loss: 649.3635 - val_mae: 649.3635\n",
      "Epoch 43/100\n",
      "18/18 [==============================] - 0s 4ms/step - loss: 115.8939 - mae: 115.8939 - val_loss: 686.8311 - val_mae: 686.8311\n",
      "Epoch 44/100\n",
      "18/18 [==============================] - 0s 3ms/step - loss: 123.0945 - mae: 123.0945 - val_loss: 661.1320 - val_mae: 661.1320\n",
      "Epoch 45/100\n",
      "18/18 [==============================] - 0s 4ms/step - loss: 113.8169 - mae: 113.8169 - val_loss: 626.8163 - val_mae: 626.8163\n",
      "Epoch 46/100\n",
      "18/18 [==============================] - 0s 3ms/step - loss: 114.0970 - mae: 114.0970 - val_loss: 588.7777 - val_mae: 588.7777\n",
      "Epoch 47/100\n"
     ]
    },
    {
     "name": "stdout",
     "output_type": "stream",
     "text": [
      "18/18 [==============================] - 0s 3ms/step - loss: 108.9936 - mae: 108.9936 - val_loss: 636.0566 - val_mae: 636.0566\n",
      "Epoch 48/100\n",
      "18/18 [==============================] - 0s 4ms/step - loss: 109.2967 - mae: 109.2967 - val_loss: 604.1573 - val_mae: 604.1573\n",
      "Epoch 49/100\n",
      "18/18 [==============================] - 0s 4ms/step - loss: 111.7787 - mae: 111.7787 - val_loss: 591.5085 - val_mae: 591.5085\n",
      "Epoch 50/100\n",
      "18/18 [==============================] - 0s 4ms/step - loss: 111.7319 - mae: 111.7319 - val_loss: 636.4696 - val_mae: 636.4696\n",
      "Epoch 51/100\n",
      "18/18 [==============================] - 0s 3ms/step - loss: 110.7498 - mae: 110.7498 - val_loss: 589.2868 - val_mae: 589.2868\n",
      "Epoch 52/100\n",
      "18/18 [==============================] - 0s 3ms/step - loss: 111.5192 - mae: 111.5192 - val_loss: 609.5305 - val_mae: 609.5305\n",
      "Epoch 53/100\n",
      "18/18 [==============================] - 0s 3ms/step - loss: 113.9869 - mae: 113.9869 - val_loss: 584.7464 - val_mae: 584.7464\n",
      "INFO:tensorflow:Assets written to: model_exp\\model_1_dense\\assets\n",
      "Epoch 54/100\n",
      "18/18 [==============================] - 0s 3ms/step - loss: 110.1075 - mae: 110.1075 - val_loss: 578.7412 - val_mae: 578.7412\n",
      "INFO:tensorflow:Assets written to: model_exp\\model_1_dense\\assets\n",
      "Epoch 55/100\n",
      "18/18 [==============================] - 0s 3ms/step - loss: 110.6423 - mae: 110.6423 - val_loss: 581.5339 - val_mae: 581.5339\n",
      "Epoch 56/100\n",
      "18/18 [==============================] - 0s 3ms/step - loss: 107.6536 - mae: 107.6536 - val_loss: 759.0217 - val_mae: 759.0217\n",
      "Epoch 57/100\n",
      "18/18 [==============================] - 0s 3ms/step - loss: 119.2012 - mae: 119.2012 - val_loss: 603.5969 - val_mae: 603.5969\n",
      "Epoch 58/100\n",
      "18/18 [==============================] - 0s 3ms/step - loss: 116.4418 - mae: 116.4418 - val_loss: 583.7289 - val_mae: 583.7289\n",
      "Epoch 59/100\n",
      "18/18 [==============================] - 0s 4ms/step - loss: 109.9013 - mae: 109.9013 - val_loss: 592.8427 - val_mae: 592.8427\n",
      "Epoch 60/100\n",
      "18/18 [==============================] - 0s 3ms/step - loss: 107.7859 - mae: 107.7859 - val_loss: 593.4957 - val_mae: 593.4957\n",
      "Epoch 61/100\n",
      "18/18 [==============================] - 0s 3ms/step - loss: 107.6960 - mae: 107.6960 - val_loss: 575.5122 - val_mae: 575.5122\n",
      "INFO:tensorflow:Assets written to: model_exp\\model_1_dense\\assets\n",
      "Epoch 62/100\n",
      "18/18 [==============================] - 0s 3ms/step - loss: 107.1258 - mae: 107.1258 - val_loss: 580.2651 - val_mae: 580.2651\n",
      "Epoch 63/100\n",
      "18/18 [==============================] - 0s 3ms/step - loss: 111.8452 - mae: 111.8452 - val_loss: 654.6124 - val_mae: 654.6124\n",
      "Epoch 64/100\n",
      "18/18 [==============================] - 0s 3ms/step - loss: 110.3121 - mae: 110.3121 - val_loss: 610.7798 - val_mae: 610.7798\n",
      "Epoch 65/100\n",
      "18/18 [==============================] - 0s 4ms/step - loss: 109.7098 - mae: 109.7098 - val_loss: 573.9960 - val_mae: 573.9960\n",
      "INFO:tensorflow:Assets written to: model_exp\\model_1_dense\\assets\n",
      "Epoch 66/100\n",
      "18/18 [==============================] - 0s 3ms/step - loss: 106.8139 - mae: 106.8139 - val_loss: 572.9988 - val_mae: 572.9988\n",
      "INFO:tensorflow:Assets written to: model_exp\\model_1_dense\\assets\n",
      "Epoch 67/100\n",
      "18/18 [==============================] - 0s 3ms/step - loss: 106.1393 - mae: 106.1393 - val_loss: 602.1539 - val_mae: 602.1539\n",
      "Epoch 68/100\n",
      "18/18 [==============================] - 0s 3ms/step - loss: 112.9245 - mae: 112.9245 - val_loss: 687.6398 - val_mae: 687.6398\n",
      "Epoch 69/100\n",
      "18/18 [==============================] - 0s 3ms/step - loss: 126.9916 - mae: 126.9916 - val_loss: 664.9492 - val_mae: 664.9492\n",
      "Epoch 70/100\n",
      "18/18 [==============================] - 0s 3ms/step - loss: 124.8734 - mae: 124.8734 - val_loss: 619.6702 - val_mae: 619.6702\n",
      "Epoch 71/100\n",
      "18/18 [==============================] - 0s 3ms/step - loss: 109.8522 - mae: 109.8522 - val_loss: 582.3630 - val_mae: 582.3630\n",
      "Epoch 72/100\n",
      "18/18 [==============================] - 0s 3ms/step - loss: 107.6717 - mae: 107.6717 - val_loss: 573.4948 - val_mae: 573.4948\n",
      "Epoch 73/100\n",
      "18/18 [==============================] - 0s 3ms/step - loss: 109.6036 - mae: 109.6036 - val_loss: 583.9055 - val_mae: 583.9055\n",
      "Epoch 74/100\n",
      "18/18 [==============================] - 0s 3ms/step - loss: 107.7049 - mae: 107.7049 - val_loss: 572.9932 - val_mae: 572.9932\n",
      "INFO:tensorflow:Assets written to: model_exp\\model_1_dense\\assets\n",
      "Epoch 75/100\n",
      "18/18 [==============================] - 0s 3ms/step - loss: 108.1179 - mae: 108.1179 - val_loss: 583.9365 - val_mae: 583.9365\n",
      "Epoch 76/100\n",
      "18/18 [==============================] - 0s 3ms/step - loss: 109.5447 - mae: 109.5447 - val_loss: 592.8248 - val_mae: 592.8248\n",
      "Epoch 77/100\n",
      "18/18 [==============================] - 0s 3ms/step - loss: 108.3639 - mae: 108.3639 - val_loss: 575.4265 - val_mae: 575.4265\n",
      "Epoch 78/100\n",
      "18/18 [==============================] - 0s 3ms/step - loss: 108.0055 - mae: 108.0055 - val_loss: 574.3945 - val_mae: 574.3945\n",
      "Epoch 79/100\n",
      "18/18 [==============================] - 0s 3ms/step - loss: 107.3223 - mae: 107.3223 - val_loss: 597.2490 - val_mae: 597.2490\n",
      "Epoch 80/100\n",
      "18/18 [==============================] - 0s 3ms/step - loss: 108.1452 - mae: 108.1452 - val_loss: 586.6858 - val_mae: 586.6858\n",
      "Epoch 81/100\n",
      "18/18 [==============================] - 0s 3ms/step - loss: 106.1153 - mae: 106.1153 - val_loss: 575.1768 - val_mae: 575.1768\n",
      "Epoch 82/100\n",
      "18/18 [==============================] - 0s 3ms/step - loss: 116.6343 - mae: 116.6343 - val_loss: 575.4345 - val_mae: 575.4345\n",
      "Epoch 83/100\n",
      "18/18 [==============================] - 0s 3ms/step - loss: 110.8731 - mae: 110.8731 - val_loss: 654.5383 - val_mae: 654.5383\n",
      "Epoch 84/100\n",
      "18/18 [==============================] - 0s 3ms/step - loss: 111.9106 - mae: 111.9106 - val_loss: 572.3368 - val_mae: 572.3368\n",
      "INFO:tensorflow:Assets written to: model_exp\\model_1_dense\\assets\n",
      "Epoch 85/100\n",
      "18/18 [==============================] - 0s 4ms/step - loss: 106.6154 - mae: 106.6154 - val_loss: 574.2828 - val_mae: 574.2828\n",
      "Epoch 86/100\n",
      "18/18 [==============================] - 0s 6ms/step - loss: 108.4299 - mae: 108.4299 - val_loss: 583.3523 - val_mae: 583.3523\n",
      "Epoch 87/100\n",
      "18/18 [==============================] - 0s 5ms/step - loss: 105.7481 - mae: 105.7481 - val_loss: 593.0133 - val_mae: 593.0133\n",
      "Epoch 88/100\n",
      "18/18 [==============================] - 0s 4ms/step - loss: 107.2604 - mae: 107.2604 - val_loss: 571.7663 - val_mae: 571.7663\n",
      "INFO:tensorflow:Assets written to: model_exp\\model_1_dense\\assets\n",
      "Epoch 89/100\n",
      "18/18 [==============================] - 0s 5ms/step - loss: 106.7823 - mae: 106.7823 - val_loss: 568.6370 - val_mae: 568.6370\n",
      "INFO:tensorflow:Assets written to: model_exp\\model_1_dense\\assets\n",
      "Epoch 90/100\n",
      "18/18 [==============================] - 0s 3ms/step - loss: 105.8682 - mae: 105.8682 - val_loss: 602.9677 - val_mae: 602.9677\n",
      "Epoch 91/100\n",
      "18/18 [==============================] - 0s 4ms/step - loss: 110.6365 - mae: 110.6365 - val_loss: 605.6959 - val_mae: 605.6959\n",
      "Epoch 92/100\n",
      "18/18 [==============================] - 0s 3ms/step - loss: 109.4668 - mae: 109.4668 - val_loss: 572.4373 - val_mae: 572.4373\n",
      "Epoch 93/100\n",
      "18/18 [==============================] - 0s 3ms/step - loss: 113.0063 - mae: 113.0063 - val_loss: 617.3016 - val_mae: 617.3016\n",
      "Epoch 94/100\n",
      "18/18 [==============================] - 0s 3ms/step - loss: 112.4942 - mae: 112.4942 - val_loss: 600.4763 - val_mae: 600.4763\n",
      "Epoch 95/100\n",
      "18/18 [==============================] - 0s 2ms/step - loss: 107.4180 - mae: 107.4180 - val_loss: 577.3279 - val_mae: 577.3279\n",
      "Epoch 96/100\n",
      "18/18 [==============================] - 0s 3ms/step - loss: 115.5090 - mae: 115.5090 - val_loss: 635.5521 - val_mae: 635.5521\n",
      "Epoch 97/100\n",
      "18/18 [==============================] - 0s 2ms/step - loss: 110.8370 - mae: 110.8370 - val_loss: 627.7017 - val_mae: 627.7017\n",
      "Epoch 98/100\n",
      "18/18 [==============================] - 0s 3ms/step - loss: 111.9214 - mae: 111.9214 - val_loss: 605.0690 - val_mae: 605.0690\n",
      "Epoch 99/100\n",
      "18/18 [==============================] - 0s 3ms/step - loss: 113.6975 - mae: 113.6975 - val_loss: 577.5588 - val_mae: 577.5588\n",
      "Epoch 100/100\n",
      "18/18 [==============================] - 0s 2ms/step - loss: 108.5750 - mae: 108.5750 - val_loss: 633.1996 - val_mae: 633.1996\n"
     ]
    }
   ],
   "source": [
    "import tensorflow as tf\n",
    "from tensorflow.keras import layers\n",
    "\n",
    "# set random for as reproducible results as possible\n",
    "tf.random.set_seed(42)\n",
    "\n",
    "# construct model\n",
    "model_1 = tf.keras.Sequential([\n",
    "    layers.Dense(128,activation='relu'),\n",
    "    layers.Dense(HORIZON,activation='linear') # linear activation is the same as having no activation\n",
    "],name = 'model_1_dense') # give the model a name so we can save it\n",
    "\n",
    "# Compile model\n",
    "model_1.compile(loss=\"mae\",\n",
    "                optimizer=tf.keras.optimizers.Adam(),\n",
    "                metrics=[\"mae\"]) # we don't necessarily need this when the loss function is already MAE\n",
    "\n",
    "# fit model\n",
    "history_1 = model_1.fit(x=train_windows,\n",
    "           y=train_labels,\n",
    "           epochs=100,\n",
    "           verbose=1,\n",
    "           batch_size=128,\n",
    "           validation_data=(test_windows,test_labels),\n",
    "           callbacks=[create_model_checkpoint(model_name=model_1.name)])# create ModelCheckpoint callback to save best model"
   ]
  },
  {
   "cell_type": "code",
   "execution_count": 121,
   "id": "9af872d4",
   "metadata": {},
   "outputs": [
    {
     "data": {
      "text/plain": [
       "[<matplotlib.lines.Line2D at 0x34da5a60>]"
      ]
     },
     "execution_count": 121,
     "metadata": {},
     "output_type": "execute_result"
    },
    {
     "data": {
      "image/png": "[encoded data removed]",
      "text/plain": [
       "<Figure size 432x288 with 1 Axes>"
      ]
     },
     "metadata": {
      "needs_background": "light"
     },
     "output_type": "display_data"
    }
   ],
   "source": [
    "import matplotlib.pyplot as plt\n",
    "\n",
    "plt.plot(np.array(history_1.history['loss']))"
   ]
  },
  {
   "cell_type": "markdown",
   "id": "dfc0bbf7",
   "metadata": {},
   "source": [
    "Because of the small size of our data (less than 3000 total samples), the model trains very fast.\n",
    "\n",
    "Let's evaluate it."
   ]
  },
  {
   "cell_type": "code",
   "execution_count": 122,
   "id": "c6013ddd",
   "metadata": {},
   "outputs": [
    {
     "name": "stdout",
     "output_type": "stream",
     "text": [
      "18/18 [==============================] - 0s 2ms/step - loss: 633.1995 - mae: 633.1995\n"
     ]
    },
    {
     "data": {
      "text/plain": [
       "[633.1995239257812, 633.1995239257812]"
      ]
     },
     "execution_count": 122,
     "metadata": {},
     "output_type": "execute_result"
    }
   ],
   "source": [
    "# evaluate model on test data\n",
    "model_1.evaluate(test_windows,test_labels)"
   ]
  },
  {
   "cell_type": "markdown",
   "id": "cd584bd7",
   "metadata": {},
   "source": [
    "You'll notice the model achieves the same `val_loss` (in this case, this is MAE) as the last epoch.\n",
    "\n",
    "But if we load in the version of `model_1` which was saved to file using the `ModelCheckpoint` callback, we should see an improvement in results."
   ]
  },
  {
   "cell_type": "code",
   "execution_count": 124,
   "id": "1eff1683",
   "metadata": {},
   "outputs": [
    {
     "name": "stdout",
     "output_type": "stream",
     "text": [
      "18/18 [==============================] - 0s 2ms/step - loss: 568.6370 - mae: 568.6370\n"
     ]
    },
    {
     "data": {
      "text/plain": [
       "[568.6370239257812, 568.6370239257812]"
      ]
     },
     "execution_count": 124,
     "metadata": {},
     "output_type": "execute_result"
    }
   ],
   "source": [
    "# load in saved best performing model_1 and evaluate on test data\n",
    "model_1 = tf.keras.models.load_model('model_exp/model_1_dense')\n",
    "model_1.evaluate(test_windows,test_labels)"
   ]
  },
  {
   "cell_type": "markdown",
   "id": "e4472fd3",
   "metadata": {},
   "source": [
    "Much better! Due to the fluctuating performance of the model during training, loading back in the best performing model see's a sizeable improvement in MAE."
   ]
  },
  {
   "cell_type": "markdown",
   "id": "567c5614",
   "metadata": {},
   "source": [
    "## Making forecasts with a model (on the test dataset)\n",
    "\n",
    "We've trained a model and evaluated the it on the test data, but the project we're working on is called BitPredict 💰📈 so how do you think we could use our model to make predictions?\n",
    "\n",
    "Since we're going to be running more modelling experiments, let's write a function which: \n",
    "1. Takes in a trained model (just like `model_1`)\n",
    "2. Takes in some input data (just like the data the model was trained on) \n",
    "3. Passes the input data to the model's `predict()` method\n",
    "4. Returns the predictions\n",
    "\n"
   ]
  },
  {
   "cell_type": "code",
   "execution_count": 125,
   "id": "4ef60270",
   "metadata": {},
   "outputs": [],
   "source": [
    "def make_preds(model,input_data):\n",
    "    '''\n",
    "    Uses model to make predictions on input_data\n",
    "    Params\n",
    "    ---\n",
    "    model: trained_model\n",
    "    input_data: windowed input data (same kind of data model was trained on)\n",
    "    Returns\n",
    "    ---\n",
    "    model predictions on input_data\n",
    "    '''\n",
    "    forecast = model.predict(input_data)\n",
    "    return tf.squeeze(forecast) # return 1D array predictions"
   ]
  },
  {
   "cell_type": "code",
   "execution_count": 127,
   "id": "ea661daa",
   "metadata": {},
   "outputs": [
    {
     "data": {
      "text/plain": [
       "(556,\n",
       " <tf.Tensor: shape=(10,), dtype=float32, numpy=\n",
       " array([8875.922, 8783.567, 9031.465, 8814.604, 8740.123, 8744.625,\n",
       "        8707.005, 8517.839, 8474.502, 8530.751], dtype=float32)>)"
      ]
     },
     "execution_count": 127,
     "metadata": {},
     "output_type": "execute_result"
    }
   ],
   "source": [
    "# Make predictions using model_1 on the test dataset and view the results\n",
    "model_1_preds = make_preds(model_1,test_windows)\n",
    "len(model_1_preds),model_1_preds[:10]"
   ]
  },
  {
   "cell_type": "markdown",
   "id": "ef22ad54",
   "metadata": {},
   "source": [
    "> 🔑 **Note:** With these outputs, our model isn't *forecasting* yet. It's only making predictions on the test dataset. Forecasting would involve a model making predictions into the future, however, the test dataset is only a pseudofuture.\n",
    "\n",
    "Excellent! Now we've got some prediction values, let's use the `evaluate_preds()` we created before to compare them to the ground truth."
   ]
  },
  {
   "cell_type": "code",
   "execution_count": 128,
   "id": "4f27fa4e",
   "metadata": {},
   "outputs": [
    {
     "data": {
      "text/plain": [
       "{'mae': 568.637,\n",
       " 'mse': 1174330.2,\n",
       " 'rmse': 1083.6652,\n",
       " 'mape': 2.5478518,\n",
       " 'mase': 0.9989377}"
      ]
     },
     "execution_count": 128,
     "metadata": {},
     "output_type": "execute_result"
    }
   ],
   "source": [
    "# Evaluate preds\n",
    "model_1_results = evaluate_preds(y_true=tf.squeeze(test_labels), # reduce to right shape\n",
    "                                y_pred=model_1_preds)\n",
    "model_1_results"
   ]
  },
  {
   "cell_type": "code",
   "execution_count": 129,
   "id": "07f1ffc5",
   "metadata": {},
   "outputs": [
    {
     "data": {
      "text/plain": [
       "{'mae': 567.9802,\n",
       " 'mse': 1147547.0,\n",
       " 'rmse': 1071.2362,\n",
       " 'mape': 2.5165248,\n",
       " 'mase': 0.9995699}"
      ]
     },
     "execution_count": 129,
     "metadata": {},
     "output_type": "execute_result"
    }
   ],
   "source": [
    "naive_results"
   ]
  },
  {
   "cell_type": "markdown",
   "id": "8f12fc34",
   "metadata": {},
   "source": [
    "It looks like our naïve model beats our first deep model on nearly every metric.\n",
    "\n",
    "That goes to show the power of the naïve model and the reason for having a baseline for any machine learning project.\n",
    "\n",
    "And of course, no evaluation would be finished without visualizing the results.\n",
    "\n",
    "Let's use the `plot_time_series()` function to plot `model_1_preds` against the test data."
   ]
  },
  {
   "cell_type": "code",
   "execution_count": 130,
   "id": "b5370106",
   "metadata": {},
   "outputs": [
    {
     "data": {
      "image/png": "[encoded data removed]",
      "text/plain": [
       "<Figure size 720x504 with 1 Axes>"
      ]
     },
     "metadata": {
      "needs_background": "light"
     },
     "output_type": "display_data"
    }
   ],
   "source": [
    "offset = 300\n",
    "plt.figure(figsize=(10,7))\n",
    "# Account for the test_window offset and index into test_labels to ensure correct plotting\n",
    "plot_time_series(timesteps=X_test[-len(test_windows):],values=test_labels[:,0],start=offset,label='Test_data')\n",
    "plot_time_series(timesteps=X_test[-len(test_windows):],values=model_1_preds,start=offset,format='-',label='model_1_preds')"
   ]
  },
  {
   "cell_type": "markdown",
   "id": "ed4ebc8c",
   "metadata": {},
   "source": [
    "What's wrong with these predictions?\n",
    "\n",
    "As mentioned before, they're on the test dataset. So they're not actual forecasts.\n",
    "\n",
    "With our current model setup, how do you think we'd make forecasts for the future?\n",
    "\n",
    "Have a think about it for now, we'll cover this later on."
   ]
  },
  {
   "cell_type": "markdown",
   "id": "a4e69f2a",
   "metadata": {},
   "source": [
    "## Model 2: Dense (window = 30, horizon = 1)\n",
    "\n",
    "A naïve model is currently beating our handcrafted deep learning model. \n",
    "\n",
    "We can't let this happen.\n",
    "\n",
    "Let's continue our modelling experiments.\n",
    "\n",
    "We'll keep the previous model architecture but use a window size of 30.\n",
    "\n",
    "In other words, we'll use the previous 30 days of Bitcoin prices to try and predict the next day price.\n",
    "\n",
    "![bitcoin prices windowed for 30 days to predict a horizon of 1 day](https://raw.githubusercontent.com/mrdbourke/tensorflow-deep-learning/main/images/10-bitcoin-price-window-for-one-month.png)\n",
    "*Example of Bitcoin prices windowed for 30 days to predict a horizon of 1.*\n",
    "\n",
    "> 🔑 **Note:** Recall from before, the window size (how many timesteps to use to fuel a forecast) and the horizon (how many timesteps to predict into the future) are **hyperparameters**. This means you can tune them to try and find values will result in better performance.\n",
    "\n",
    "We'll start our second modelling experiment by preparing datasets using the functions we created earlier."
   ]
  },
  {
   "cell_type": "code",
   "execution_count": 134,
   "id": "d252eea7",
   "metadata": {},
   "outputs": [
    {
     "name": "stdout",
     "output_type": "stream",
     "text": [
      "full_windows  (2757, 30)\n",
      "full_labels  (2757, 1)\n",
      "train_windows:  (2205, 30)\n",
      "test_windows:  (552, 30)\n",
      "train_labels:  (2205, 1)\n",
      "test_labels:  (552, 1)\n"
     ]
    }
   ],
   "source": [
    "HORIZON = 1 # predict one step at a time\n",
    "WINDOW_SIZE = 30 # use 30 timesteps in the past\n",
    "\n",
    "# Make windowed data with appropriate horizon and window sizes\n",
    "full_windows, full_labels = make_windows(prices, window_size=WINDOW_SIZE, horizon=HORIZON)\n",
    "print(f'full_windows ',full_windows.shape)\n",
    "print(f'full_labels ',full_labels.shape)\n",
    "\n",
    "# Make train and testing windows\n",
    "train_windows, test_windows, train_labels, test_labels = make_train_test_splits(windows=full_windows, labels=full_labels)\n",
    "print(f'train_windows: ',train_windows.shape)\n",
    "print(f'test_windows: ',test_windows.shape)\n",
    "print(f'train_labels: ',train_labels.shape)\n",
    "print(f'test_labels: ',test_labels.shape)"
   ]
  },
  {
   "cell_type": "code",
   "execution_count": 136,
   "id": "3770e2c1",
   "metadata": {},
   "outputs": [
    {
     "name": "stdout",
     "output_type": "stream",
     "text": [
      "INFO:tensorflow:Assets written to: model_exp\\model_2_dense\\assets\n",
      "INFO:tensorflow:Assets written to: model_exp\\model_2_dense\\assets\n",
      "INFO:tensorflow:Assets written to: model_exp\\model_2_dense\\assets\n",
      "INFO:tensorflow:Assets written to: model_exp\\model_2_dense\\assets\n",
      "INFO:tensorflow:Assets written to: model_exp\\model_2_dense\\assets\n",
      "INFO:tensorflow:Assets written to: model_exp\\model_2_dense\\assets\n",
      "INFO:tensorflow:Assets written to: model_exp\\model_2_dense\\assets\n",
      "INFO:tensorflow:Assets written to: model_exp\\model_2_dense\\assets\n",
      "INFO:tensorflow:Assets written to: model_exp\\model_2_dense\\assets\n",
      "INFO:tensorflow:Assets written to: model_exp\\model_2_dense\\assets\n",
      "INFO:tensorflow:Assets written to: model_exp\\model_2_dense\\assets\n",
      "INFO:tensorflow:Assets written to: model_exp\\model_2_dense\\assets\n",
      "INFO:tensorflow:Assets written to: model_exp\\model_2_dense\\assets\n",
      "INFO:tensorflow:Assets written to: model_exp\\model_2_dense\\assets\n",
      "INFO:tensorflow:Assets written to: model_exp\\model_2_dense\\assets\n",
      "INFO:tensorflow:Assets written to: model_exp\\model_2_dense\\assets\n",
      "INFO:tensorflow:Assets written to: model_exp\\model_2_dense\\assets\n",
      "INFO:tensorflow:Assets written to: model_exp\\model_2_dense\\assets\n",
      "INFO:tensorflow:Assets written to: model_exp\\model_2_dense\\assets\n",
      "INFO:tensorflow:Assets written to: model_exp\\model_2_dense\\assets\n",
      "INFO:tensorflow:Assets written to: model_exp\\model_2_dense\\assets\n",
      "INFO:tensorflow:Assets written to: model_exp\\model_2_dense\\assets\n",
      "INFO:tensorflow:Assets written to: model_exp\\model_2_dense\\assets\n",
      "INFO:tensorflow:Assets written to: model_exp\\model_2_dense\\assets\n",
      "INFO:tensorflow:Assets written to: model_exp\\model_2_dense\\assets\n",
      "INFO:tensorflow:Assets written to: model_exp\\model_2_dense\\assets\n",
      "INFO:tensorflow:Assets written to: model_exp\\model_2_dense\\assets\n",
      "INFO:tensorflow:Assets written to: model_exp\\model_2_dense\\assets\n"
     ]
    }
   ],
   "source": [
    "tf.random.set_seed(42)\n",
    "\n",
    "# Create model (same model as model 1 but data input will be different)\n",
    "model_2 = tf.keras.Sequential([\n",
    "  layers.Dense(128, activation=\"relu\"),\n",
    "  layers.Dense(HORIZON) # need to predict horizon number of steps into the future\n",
    "], name=\"model_2_dense\")\n",
    "\n",
    "model_2.compile(loss=\"mae\",\n",
    "                optimizer=tf.keras.optimizers.Adam())\n",
    "\n",
    "history_2 = model_2.fit(train_windows,\n",
    "            train_labels,\n",
    "            epochs=100,\n",
    "            batch_size=128,\n",
    "            verbose=0,\n",
    "            validation_data=(test_windows, test_labels),\n",
    "            callbacks=[create_model_checkpoint(model_name=model_2.name)])"
   ]
  },
  {
   "cell_type": "code",
   "execution_count": 137,
   "id": "b68c8ff6",
   "metadata": {},
   "outputs": [
    {
     "data": {
      "text/plain": [
       "[<matplotlib.lines.Line2D at 0x3540e2e0>]"
      ]
     },
     "execution_count": 137,
     "metadata": {},
     "output_type": "execute_result"
    },
    {
     "data": {
      "image/png": "[encoded data removed]",
      "text/plain": [
       "<Figure size 432x288 with 1 Axes>"
      ]
     },
     "metadata": {
      "needs_background": "light"
     },
     "output_type": "display_data"
    }
   ],
   "source": [
    "plt.plot(np.array(history_2.history['loss']))"
   ]
  },
  {
   "cell_type": "code",
   "execution_count": 138,
   "id": "39f26ca6",
   "metadata": {},
   "outputs": [
    {
     "name": "stdout",
     "output_type": "stream",
     "text": [
      "18/18 [==============================] - 0s 1ms/step - loss: 603.2652\n"
     ]
    },
    {
     "data": {
      "text/plain": [
       "603.2651977539062"
      ]
     },
     "execution_count": 138,
     "metadata": {},
     "output_type": "execute_result"
    }
   ],
   "source": [
    "# evaluate model on test data\n",
    "model_2.evaluate(test_windows,test_labels)"
   ]
  },
  {
   "cell_type": "code",
   "execution_count": 140,
   "id": "1e6ec32f",
   "metadata": {},
   "outputs": [
    {
     "data": {
      "text/plain": [
       "(552,\n",
       " <tf.Tensor: shape=(10,), dtype=float32, numpy=\n",
       " array([8925.218 , 8946.621 , 8799.93  , 8594.    , 8463.791 , 8365.465 ,\n",
       "        8297.2   , 8174.8975, 8225.046 , 7842.946 ], dtype=float32)>)"
      ]
     },
     "execution_count": 140,
     "metadata": {},
     "output_type": "execute_result"
    }
   ],
   "source": [
    "# Make predictions using model_1 on the test dataset and view the results\n",
    "model_2_preds = make_preds(model_2,test_windows)\n",
    "len(model_2_preds),model_2_preds[:10]"
   ]
  },
  {
   "cell_type": "code",
   "execution_count": 141,
   "id": "3c7cf99e",
   "metadata": {},
   "outputs": [
    {
     "data": {
      "text/plain": [
       "{'mae': 603.2652,\n",
       " 'mse': 1261798.2,\n",
       " 'rmse': 1123.298,\n",
       " 'mape': 2.747478,\n",
       " 'mase': 1.0545135}"
      ]
     },
     "execution_count": 141,
     "metadata": {},
     "output_type": "execute_result"
    }
   ],
   "source": [
    "# Evaluate preds\n",
    "model_2_results = evaluate_preds(y_true=tf.squeeze(test_labels), # reduce to right shape\n",
    "                                y_pred=model_2_preds)\n",
    "model_2_results"
   ]
  },
  {
   "cell_type": "code",
   "execution_count": 147,
   "id": "f5ec50ed",
   "metadata": {},
   "outputs": [
    {
     "data": {
      "image/png": "[encoded data removed]",
      "text/plain": [
       "<Figure size 720x504 with 1 Axes>"
      ]
     },
     "metadata": {
      "needs_background": "light"
     },
     "output_type": "display_data"
    }
   ],
   "source": [
    "offset = 300\n",
    "plt.figure(figsize=(10, 7))\n",
    "# Account for the test_window offset\n",
    "plot_time_series(timesteps=X_test[-len(test_windows):], values=test_labels[:, 0], start=offset, label=\"test_data\")\n",
    "plot_time_series(timesteps=X_test[-len(test_windows):], values=model_2_preds, start=offset, format=\"-\", label=\"model_2_preds\") "
   ]
  },
  {
   "cell_type": "markdown",
   "id": "fc0033e3",
   "metadata": {},
   "source": [
    "## Model 3: Dense (window = 30, horizon = 7)\n",
    "\n",
    "Let's try and predict 7 days ahead given the previous 30 days.\n",
    "\n",
    "First, we'll update the `HORIZON` and `WINDOW_SIZE` variables and create windowed data.\n"
   ]
  },
  {
   "cell_type": "code",
   "execution_count": 148,
   "id": "64f34bcf",
   "metadata": {},
   "outputs": [
    {
     "name": "stdout",
     "output_type": "stream",
     "text": [
      "full_windows  (2751, 30)\n",
      "full_labels  (2751, 7)\n",
      "train_windows:  (2200, 30)\n",
      "test_windows:  (551, 30)\n",
      "train_labels:  (2200, 7)\n",
      "test_labels:  (551, 7)\n"
     ]
    }
   ],
   "source": [
    "HORIZON = 7 # predict 7 step at a time\n",
    "WINDOW_SIZE = 30 # use 30 timesteps in the past\n",
    "\n",
    "# Make windowed data with appropriate horizon and window sizes\n",
    "full_windows, full_labels = make_windows(prices, window_size=WINDOW_SIZE, horizon=HORIZON)\n",
    "print(f'full_windows ',full_windows.shape)\n",
    "print(f'full_labels ',full_labels.shape)\n",
    "\n",
    "# Make train and testing windows\n",
    "train_windows, test_windows, train_labels, test_labels = make_train_test_splits(windows=full_windows, labels=full_labels)\n",
    "print(f'train_windows: ',train_windows.shape)\n",
    "print(f'test_windows: ',test_windows.shape)\n",
    "print(f'train_labels: ',train_labels.shape)\n",
    "print(f'test_labels: ',test_labels.shape)"
   ]
  },
  {
   "cell_type": "code",
   "execution_count": 169,
   "id": "52bd9bf9",
   "metadata": {},
   "outputs": [
    {
     "name": "stdout",
     "output_type": "stream",
     "text": [
      "INFO:tensorflow:Assets written to: model_exp\\model_3_dense\\assets\n",
      "INFO:tensorflow:Assets written to: model_exp\\model_3_dense\\assets\n",
      "INFO:tensorflow:Assets written to: model_exp\\model_3_dense\\assets\n",
      "INFO:tensorflow:Assets written to: model_exp\\model_3_dense\\assets\n",
      "INFO:tensorflow:Assets written to: model_exp\\model_3_dense\\assets\n",
      "INFO:tensorflow:Assets written to: model_exp\\model_3_dense\\assets\n",
      "INFO:tensorflow:Assets written to: model_exp\\model_3_dense\\assets\n",
      "INFO:tensorflow:Assets written to: model_exp\\model_3_dense\\assets\n",
      "INFO:tensorflow:Assets written to: model_exp\\model_3_dense\\assets\n",
      "INFO:tensorflow:Assets written to: model_exp\\model_3_dense\\assets\n",
      "INFO:tensorflow:Assets written to: model_exp\\model_3_dense\\assets\n",
      "INFO:tensorflow:Assets written to: model_exp\\model_3_dense\\assets\n",
      "INFO:tensorflow:Assets written to: model_exp\\model_3_dense\\assets\n",
      "INFO:tensorflow:Assets written to: model_exp\\model_3_dense\\assets\n",
      "INFO:tensorflow:Assets written to: model_exp\\model_3_dense\\assets\n",
      "INFO:tensorflow:Assets written to: model_exp\\model_3_dense\\assets\n",
      "INFO:tensorflow:Assets written to: model_exp\\model_3_dense\\assets\n",
      "INFO:tensorflow:Assets written to: model_exp\\model_3_dense\\assets\n",
      "INFO:tensorflow:Assets written to: model_exp\\model_3_dense\\assets\n",
      "INFO:tensorflow:Assets written to: model_exp\\model_3_dense\\assets\n",
      "INFO:tensorflow:Assets written to: model_exp\\model_3_dense\\assets\n"
     ]
    }
   ],
   "source": [
    "tf.random.set_seed(42)\n",
    "\n",
    "# Create model (same model as model 1 but data input will be different)\n",
    "model_3 = tf.keras.Sequential([\n",
    "  layers.Dense(128, activation=\"relu\"),\n",
    "  layers.Dense(HORIZON) # need to predict horizon number of steps into the future\n",
    "], name=\"model_3_dense\")\n",
    "\n",
    "model_3.compile(loss=\"mae\",\n",
    "                optimizer=tf.keras.optimizers.Adam())\n",
    "\n",
    "history_3 = model_3.fit(train_windows,\n",
    "            train_labels,\n",
    "            epochs=100,\n",
    "            batch_size=128,\n",
    "            verbose=0,\n",
    "            validation_data=(test_windows, test_labels),\n",
    "            callbacks=[create_model_checkpoint(model_name=model_3.name)])"
   ]
  },
  {
   "cell_type": "code",
   "execution_count": 152,
   "id": "29da5b7d",
   "metadata": {},
   "outputs": [
    {
     "data": {
      "text/plain": [
       "[<matplotlib.lines.Line2D at 0x34c3dd00>]"
      ]
     },
     "execution_count": 152,
     "metadata": {},
     "output_type": "execute_result"
    },
    {
     "data": {
      "image/png": "[encoded data removed]",
      "text/plain": [
       "<Figure size 432x288 with 1 Axes>"
      ]
     },
     "metadata": {
      "needs_background": "light"
     },
     "output_type": "display_data"
    }
   ],
   "source": [
    "plt.plot(np.array(history_3.history['loss']))"
   ]
  },
  {
   "cell_type": "code",
   "execution_count": 153,
   "id": "122d6dee",
   "metadata": {},
   "outputs": [
    {
     "name": "stdout",
     "output_type": "stream",
     "text": [
      "18/18 [==============================] - 0s 2ms/step - loss: 1305.8850\n"
     ]
    },
    {
     "data": {
      "text/plain": [
       "1305.885009765625"
      ]
     },
     "execution_count": 153,
     "metadata": {},
     "output_type": "execute_result"
    }
   ],
   "source": [
    "# evaluate model on test data\n",
    "model_3.evaluate(test_windows,test_labels)"
   ]
  },
  {
   "cell_type": "code",
   "execution_count": 155,
   "id": "e9f23136",
   "metadata": {},
   "outputs": [
    {
     "data": {
      "text/plain": [
       "(551,\n",
       " <tf.Tensor: shape=(10, 7), dtype=float32, numpy=\n",
       " array([[9058.554 , 9100.31  , 9044.279 , 9179.509 , 9193.741 , 9182.645 ,\n",
       "         9230.27  ],\n",
       "        [8745.223 , 8846.851 , 8805.262 , 8777.596 , 8792.433 , 8777.62  ,\n",
       "         9003.1875],\n",
       "        [8659.82  , 8786.101 , 8680.18  , 8661.268 , 8725.664 , 8619.935 ,\n",
       "         8901.747 ],\n",
       "        [8863.66  , 8825.429 , 8647.973 , 8857.915 , 8786.457 , 8830.577 ,\n",
       "         8951.352 ],\n",
       "        [8792.389 , 8803.327 , 8535.7   , 8755.818 , 8926.614 , 8885.827 ,\n",
       "         8827.533 ],\n",
       "        [8785.603 , 8860.953 , 8624.993 , 8837.754 , 8848.023 , 8815.292 ,\n",
       "         8835.449 ],\n",
       "        [8624.727 , 8837.495 , 8694.175 , 8704.937 , 8519.078 , 8651.876 ,\n",
       "         8736.725 ],\n",
       "        [8413.869 , 8568.573 , 8495.856 , 8494.844 , 8406.802 , 8313.683 ,\n",
       "         8494.631 ],\n",
       "        [8391.819 , 8321.194 , 8325.949 , 8360.427 , 8307.358 , 8210.894 ,\n",
       "         8330.167 ],\n",
       "        [8477.68  , 8372.811 , 8219.686 , 8411.363 , 8221.149 , 8179.884 ,\n",
       "         8346.523 ]], dtype=float32)>)"
      ]
     },
     "execution_count": 155,
     "metadata": {},
     "output_type": "execute_result"
    }
   ],
   "source": [
    "# Make predictions using model_1 on the test dataset and view the results\n",
    "model_3_preds = make_preds(model_3,test_windows)\n",
    "len(model_3_preds),model_3_preds[:10]"
   ]
  },
  {
   "cell_type": "code",
   "execution_count": 157,
   "id": "c8d50417",
   "metadata": {},
   "outputs": [
    {
     "data": {
      "text/plain": [
       "{'mae': array([ 358.65945 ,  151.95592 ,  183.62416 ,  225.75656 ,  269.9022  ,\n",
       "         338.57666 ,  324.30664 ,  275.09283 ,  364.91315 ,  461.95438 ,\n",
       "         612.8757  ,  555.6326  ,  576.9677  ,  642.523   ,  411.25238 ,\n",
       "         177.62619 ,  221.9126  ,  367.95004 ,  403.66156 ,  435.48502 ,\n",
       "         201.40974 ,  142.28328 ,  116.81445 ,  145.48221 ,  119.091934,\n",
       "         169.73766 ,  208.3651  ,  215.36809 ,  173.90193 ,   72.24421 ,\n",
       "         157.95787 ,  220.57674 ,  137.44748 ,  201.57764 ,  187.86635 ,\n",
       "         203.51695 ,  213.57317 ,  184.01283 ,  234.12424 ,  376.11307 ,\n",
       "         598.2387  ,  301.4504  ,  197.08963 ,  241.7906  ,   88.44622 ,\n",
       "         170.76877 ,  138.2606  ,  123.9421  ,   94.37214 ,  173.41121 ,\n",
       "         131.64139 ,  120.71156 ,  108.51458 ,  141.50488 ,  372.47754 ,\n",
       "         498.8475  ,  707.05817 ,  691.50793 ,  659.66797 ,  675.5074  ,\n",
       "         580.48016 ,  385.4854  ,  356.22928 ,  475.77505 ,  606.64124 ,\n",
       "         622.38605 ,  668.89984 ,  692.66833 ,  294.42633 ,  179.1674  ,\n",
       "         151.13449 ,  238.08789 ,  335.78293 ,  202.4301  ,  136.96834 ,\n",
       "         228.46053 ,  268.0703  ,  474.77484 ,  654.6808  ,  852.2208  ,\n",
       "        1008.9248  ,  818.55164 ,  465.95648 ,  295.68668 ,  165.32129 ,\n",
       "         205.64412 ,  229.27986 ,  413.3591  ,  508.7009  ,  749.8392  ,\n",
       "         627.827   ,  625.17535 ,  555.62317 ,  409.19254 ,  277.1978  ,\n",
       "         364.98535 ,  289.42523 ,  304.2246  ,  422.77036 ,  544.6904  ,\n",
       "         348.96695 ,  122.99261 ,  203.16476 ,  162.52943 ,  266.8436  ,\n",
       "         402.55258 ,  443.38812 ,  496.4153  ,  767.3214  ,  737.4718  ,\n",
       "         653.35547 ,  170.20885 ,  156.18611 ,  351.54184 ,  361.405   ,\n",
       "         536.01904 ,  389.47845 ,  440.87674 ,  563.40234 ,  862.6377  ,\n",
       "        1397.0569  , 1952.3795  , 1732.3691  , 1865.0869  , 2055.428   ,\n",
       "        2411.396   , 1124.7714  ,  559.5902  ,  408.07553 ,  455.0014  ,\n",
       "         571.105   ,  495.6061  ,  593.29944 ,  378.26254 ,  355.8245  ,\n",
       "         355.81125 ,  460.5185  ,  398.9642  ,  164.30008 ,  225.64369 ,\n",
       "         223.25537 ,  325.15414 ,  346.72775 ,  731.38983 ,  805.3009  ,\n",
       "         553.5194  ,  488.81723 ,  244.64914 ,  390.4363  ,  222.10764 ,\n",
       "         320.1978  ,  334.19135 ,  248.07219 ,  375.3522  ,  261.7646  ,\n",
       "         188.52344 ,  252.32213 ,  251.9225  ,  306.68082 ,  255.46707 ,\n",
       "         424.22824 ,  302.11783 ,  254.38449 ,  262.74713 ,  326.70166 ,\n",
       "         486.57736 ,  666.9746  ,  852.2272  ,  663.0717  ,  750.88574 ,\n",
       "         974.8315  , 1028.9381  , 1139.4722  , 1234.4974  ,  665.2525  ,\n",
       "         419.5399  ,  475.78293 ,  443.34946 ,  489.4241  ,  461.41547 ,\n",
       "         525.0534  ,  462.93472 ,  493.70187 ,  772.00684 ,  660.4456  ,\n",
       "         334.24527 ,  717.1465  ,  937.1723  ,  565.7017  ,  154.97949 ,\n",
       "         243.62263 ,  253.25838 ,  302.64047 ,  277.79297 ,  447.19125 ,\n",
       "         425.1734  ,  162.35072 ,  196.26228 ,  271.49973 ,  399.9145  ,\n",
       "         672.3874  ,  938.96234 ,  894.78894 ,  638.97626 ,  448.06375 ,\n",
       "         247.29758 ,  336.29367 ,  150.37318 ,   82.8997  ,  117.77972 ,\n",
       "         166.23326 ,  235.28139 ,  228.76926 ,  255.89998 ,  153.02902 ,\n",
       "         249.55455 ,  326.34738 ,  158.91447 ,  188.29701 ,  108.07506 ,\n",
       "         132.89746 ,  111.3524  ,  129.095   ,  158.39857 ,  174.08008 ,\n",
       "         207.04701 ,  344.82812 ,  240.4502  ,  147.8418  ,  375.47113 ,\n",
       "         112.30985 ,  107.851425,  149.2433  ,  215.45801 ,  204.34082 ,\n",
       "         198.94461 ,  158.79353 ,  165.73451 ,  214.76186 ,  319.83035 ,\n",
       "         254.5201  ,  364.6938  ,  186.1748  ,  160.86551 ,   67.970985,\n",
       "         106.49149 ,   80.75153 ,  140.45605 ,  109.34026 ,   76.1483  ,\n",
       "          79.43248 ,  177.76674 ,  298.07047 ,  343.61133 ,  420.61453 ,\n",
       "         490.3676  ,  795.4185  ,  891.3278  ,  994.4262  , 1084.4674  ,\n",
       "        1318.5192  , 1536.5636  , 1509.0721  ,  721.05176 ,  406.1621  ,\n",
       "         249.125   ,  266.90305 ,  347.01715 ,  193.87402 ,  268.15414 ,\n",
       "         311.01144 ,  439.3538  ,  197.6285  ,  127.667274,  146.06139 ,\n",
       "         119.5293  ,  168.58385 ,  267.14175 ,  454.99203 ,  437.89648 ,\n",
       "         384.88547 ,  259.77707 ,  243.15262 ,  183.33817 ,  212.7539  ,\n",
       "         361.03906 ,  201.7606  ,  155.19754 ,  186.35324 ,  136.75851 ,\n",
       "         162.61858 ,  123.82255 ,  301.62668 ,  370.37445 ,  463.88324 ,\n",
       "         497.7563  ,  617.37823 ,  697.4169  ,  868.3446  , 1236.5128  ,\n",
       "        1135.0402  ,  632.7966  ,  300.54715 ,  322.10184 ,  430.74918 ,\n",
       "         369.74203 ,  531.3966  ,  587.7828  ,  638.79425 ,  637.05914 ,\n",
       "         667.60364 ,  665.06726 ,  482.56766 ,  244.31822 ,  210.399   ,\n",
       "         236.25027 ,  182.84529 ,  267.0081  ,  195.26828 ,  276.5046  ,\n",
       "         343.5731  ,  537.7585  ,  359.17496 ,  170.70647 ,  119.65876 ,\n",
       "         139.38826 ,  106.94573 ,  116.83831 ,  102.59975 ,  149.4382  ,\n",
       "         272.4354  ,  415.98883 ,  478.56223 ,  580.02496 ,  747.9086  ,\n",
       "         878.63617 ,  816.744   ,  714.3839  ,  365.61664 ,  239.12332 ,\n",
       "         168.79478 ,  156.12263 ,  448.5816  ,  675.79285 ,  900.3721  ,\n",
       "        1261.3555  , 1429.7178  , 1420.4574  , 1460.1986  ,  670.78015 ,\n",
       "         279.00992 ,  337.4456  ,  385.8344  ,  496.14203 ,  541.9173  ,\n",
       "         218.70619 ,  358.40054 ,  643.14996 ,  828.6553  ,  875.20703 ,\n",
       "        1032.6553  , 1421.6927  , 1480.8859  , 1481.5042  ,  620.4249  ,\n",
       "         463.32953 ,  624.4694  ,  471.88797 ,  849.9753  , 1152.3065  ,\n",
       "        1121.1241  ,  903.87067 , 1256.8566  , 1570.925   , 2174.167   ,\n",
       "        1876.0956  , 1335.181   ,  854.58984 ,  796.63446 ,  574.49054 ,\n",
       "         721.12335 ,  844.046   ,  826.77625 ,  843.68976 ,  821.89453 ,\n",
       "         964.00696 , 1624.7513  , 1749.1133  , 1676.1445  ,  488.8061  ,\n",
       "         315.09207 ,  326.10324 ,  522.96735 ,  441.58398 ,  354.34988 ,\n",
       "         286.16324 ,  330.78012 ,  421.02148 , 1020.01984 , 1807.3273  ,\n",
       "        2884.6619  , 3120.8035  , 3461.9841  , 3711.4758  , 3922.5708  ,\n",
       "        2768.1875  , 1339.9004  ,  799.1381  ,  740.77203 , 1151.401   ,\n",
       "        1544.748   , 1993.779   , 3061.428   , 3576.9856  , 3523.321   ,\n",
       "        2871.3247  , 2984.7805  , 3260.034   , 4032.5464  , 3812.4573  ,\n",
       "        4502.135   , 5561.058   , 4809.962   , 4609.8203  , 5117.0415  ,\n",
       "        3769.3198  , 2978.0894  , 2280.4363  , 3614.234   , 4866.5903  ,\n",
       "        4348.725   , 1281.8153  , 1467.6395  ,  715.5865  , 2265.2712  ,\n",
       "        2634.4253  , 2654.1033  , 2673.8398  , 2758.718   , 3165.1274  ,\n",
       "        3308.8083  ,  670.14594 , 1130.4062  , 1471.7213  , 1371.9677  ,\n",
       "        1666.3197  , 2779.6562  , 4227.1206  , 3933.702   , 2924.118   ,\n",
       "        3160.7903  , 3790.447   , 5677.211   , 6101.5884  , 5189.3213  ,\n",
       "        5462.9653  , 6637.227   , 6607.6978  , 8792.761   , 5467.4966  ,\n",
       "        1910.3856  , 2413.3633  , 1888.6261  , 2524.9622  , 3056.2495  ,\n",
       "        3860.0894  , 3795.559   , 4449.8696  , 3098.737   , 3388.8872  ,\n",
       "        4920.1987  , 6251.0933  , 9153.837   , 8328.819   , 4003.5178  ,\n",
       "        2115.4978  , 1750.1942  , 1895.0597  , 3096.8672  , 4830.007   ,\n",
       "        3796.092   , 3603.5872  , 3517.6262  , 4802.34    , 6295.3086  ,\n",
       "        7363.8687  , 7257.973   , 6541.168   , 5372.456   , 3088.0457  ,\n",
       "        2048.7283  , 2232.4119  ,  893.5151  , 1925.5881  , 1381.1172  ,\n",
       "        1909.7795  , 2378.789   , 3223.557   , 4338.4614  , 4084.798   ,\n",
       "        3927.077   , 1360.3047  , 2209.4058  , 3765.1484  , 5307.137   ,\n",
       "        5565.6714  , 3202.01    , 3704.5916  , 2711.2366  , 1658.4001  ,\n",
       "         761.01843 ,  931.8482  ,  596.0368  ,  903.9581  ,  791.6786  ,\n",
       "        1355.034   , 2082.323   , 3717.385   , 4461.939   , 4700.3525  ,\n",
       "        3610.5872  , 3434.8125  , 3294.7964  , 3121.3733  , 4489.848   ,\n",
       "        5970.247   , 7352.262   , 6944.058   , 4967.596   , 3543.569   ,\n",
       "        3272.4988  , 1929.635   , 2042.2767  , 3680.3628  , 5079.542   ,\n",
       "        7193.698   , 4803.267   , 2559.009   , 2614.4966  , 3389.6233  ,\n",
       "        2186.1975  , 1053.303   , 1834.7277  , 1636.8314  , 3255.9353  ,\n",
       "        2313.8035  , 2740.5417  , 3086.1785  , 4808.509   , 6007.632   ,\n",
       "        6989.263   ], dtype=float32),\n",
       " 'mse': array([1.55021875e+05, 4.79593164e+04, 5.76294766e+04, 6.59489141e+04,\n",
       "        1.14409625e+05, 1.68027109e+05, 1.44844500e+05, 1.45793547e+05,\n",
       "        2.39754203e+05, 3.50785719e+05, 5.55890500e+05, 4.52282812e+05,\n",
       "        3.90276344e+05, 4.42080531e+05, 1.95397781e+05, 5.85772734e+04,\n",
       "        7.75027656e+04, 1.94607672e+05, 1.99423000e+05, 2.32607250e+05,\n",
       "        6.44138555e+04, 3.52566797e+04, 1.67408633e+04, 3.16462402e+04,\n",
       "        2.06826211e+04, 4.37346875e+04, 7.50121953e+04, 6.28598086e+04,\n",
       "        4.83720898e+04, 6.87582764e+03, 3.36388203e+04, 5.81946250e+04,\n",
       "        4.61375625e+04, 8.80692734e+04, 5.92707812e+04, 6.87138359e+04,\n",
       "        7.77488828e+04, 5.44539062e+04, 8.45400156e+04, 1.47660844e+05,\n",
       "        3.73882531e+05, 9.82825391e+04, 4.73925000e+04, 6.16060430e+04,\n",
       "        1.05167705e+04, 4.10641836e+04, 2.63227949e+04, 3.04995586e+04,\n",
       "        1.39158418e+04, 3.68083906e+04, 2.63556289e+04, 1.78821289e+04,\n",
       "        1.68934531e+04, 3.98368438e+04, 2.07479656e+05, 3.62496000e+05,\n",
       "        5.84683750e+05, 5.68801125e+05, 5.20835844e+05, 4.82223219e+05,\n",
       "        3.47532406e+05, 2.30282875e+05, 2.22040969e+05, 3.40232000e+05,\n",
       "        4.96130906e+05, 4.90114062e+05, 5.27036312e+05, 4.96084344e+05,\n",
       "        1.13939266e+05, 5.01516055e+04, 3.51770586e+04, 8.24366953e+04,\n",
       "        1.44130047e+05, 6.64601484e+04, 2.52702559e+04, 6.65155859e+04,\n",
       "        1.05559164e+05, 3.50318062e+05, 5.88646688e+05, 8.31267000e+05,\n",
       "        1.06396012e+06, 6.91527125e+05, 2.34363656e+05, 1.08337039e+05,\n",
       "        3.72744570e+04, 6.05461484e+04, 7.99842031e+04, 2.28840984e+05,\n",
       "        3.29991219e+05, 5.94028875e+05, 4.57413562e+05, 4.52375688e+05,\n",
       "        3.25303594e+05, 2.21802422e+05, 1.11677711e+05, 1.80161219e+05,\n",
       "        1.06039016e+05, 1.51382609e+05, 2.32693734e+05, 3.30375156e+05,\n",
       "        1.38509172e+05, 2.08293945e+04, 7.87078047e+04, 4.13727852e+04,\n",
       "        1.64441875e+05, 2.45411672e+05, 2.53810922e+05, 3.14779062e+05,\n",
       "        7.40070562e+05, 6.14571688e+05, 4.48819594e+05, 4.56384922e+04,\n",
       "        3.12912461e+04, 1.66476297e+05, 1.63679469e+05, 3.14292938e+05,\n",
       "        2.05414078e+05, 2.38619500e+05, 3.23840688e+05, 1.60460538e+06,\n",
       "        3.25590150e+06, 5.28302900e+06, 4.42636700e+06, 4.77360700e+06,\n",
       "        4.92814850e+06, 5.86979600e+06, 1.36474212e+06, 3.65552812e+05,\n",
       "        2.29939078e+05, 2.60075328e+05, 4.98314344e+05, 3.64961938e+05,\n",
       "        4.18441062e+05, 1.89612484e+05, 1.76500125e+05, 1.63919500e+05,\n",
       "        2.65419969e+05, 1.90518500e+05, 5.68053711e+04, 1.09619141e+05,\n",
       "        1.12621930e+05, 1.62579781e+05, 1.43325281e+05, 6.12899938e+05,\n",
       "        7.16175938e+05, 3.63450312e+05, 2.64886719e+05, 7.47675859e+04,\n",
       "        2.05485469e+05, 6.57792422e+04, 1.28659070e+05, 1.36609453e+05,\n",
       "        7.72207578e+04, 1.67751156e+05, 1.02208922e+05, 4.69838711e+04,\n",
       "        9.21381797e+04, 8.86391875e+04, 1.36975969e+05, 8.83730391e+04,\n",
       "        2.15832531e+05, 1.34958703e+05, 9.43513516e+04, 1.02611875e+05,\n",
       "        1.27932078e+05, 3.02331500e+05, 4.91253938e+05, 9.09494562e+05,\n",
       "        6.96508438e+05, 8.77579812e+05, 1.30557562e+06, 1.35683875e+06,\n",
       "        1.46423875e+06, 1.53396375e+06, 4.97975844e+05, 2.87371250e+05,\n",
       "        3.94337469e+05, 3.36389156e+05, 3.47112000e+05, 3.16098594e+05,\n",
       "        3.75419969e+05, 2.53865422e+05, 3.87809344e+05, 7.23892938e+05,\n",
       "        5.80639500e+05, 1.42412500e+05, 6.02490562e+05, 9.09777875e+05,\n",
       "        3.31162312e+05, 3.53063008e+04, 7.84810859e+04, 8.97694766e+04,\n",
       "        1.16406633e+05, 1.06872305e+05, 2.53313516e+05, 2.03428109e+05,\n",
       "        5.58597148e+04, 8.56703828e+04, 1.15910875e+05, 2.06306219e+05,\n",
       "        6.17183688e+05, 1.03075062e+06, 8.81606688e+05, 4.84732188e+05,\n",
       "        3.46135594e+05, 9.95904844e+04, 1.80737422e+05, 3.56364062e+04,\n",
       "        1.06305020e+04, 1.85834863e+04, 6.00451797e+04, 7.02952344e+04,\n",
       "        7.13430703e+04, 7.98290859e+04, 2.93840742e+04, 7.74505000e+04,\n",
       "        1.27200734e+05, 3.24596562e+04, 4.58963477e+04, 2.22670176e+04,\n",
       "        2.43024980e+04, 1.59046094e+04, 3.45493711e+04, 4.72964883e+04,\n",
       "        5.86531992e+04, 6.66658828e+04, 1.42799016e+05, 8.43325625e+04,\n",
       "        3.03112363e+04, 1.47636688e+05, 1.85870137e+04, 2.16998789e+04,\n",
       "        3.51630117e+04, 5.35943320e+04, 5.87710625e+04, 4.37003398e+04,\n",
       "        3.37106211e+04, 4.06026797e+04, 7.46526328e+04, 1.33539594e+05,\n",
       "        7.43423906e+04, 1.46635109e+05, 3.82487930e+04, 3.76640391e+04,\n",
       "        5.60978662e+03, 1.54988145e+04, 1.05277119e+04, 2.62047441e+04,\n",
       "        1.51735449e+04, 8.24678320e+03, 8.93316602e+03, 4.72404961e+04,\n",
       "        1.18471773e+05, 1.53826859e+05, 2.22247828e+05, 2.90488188e+05,\n",
       "        9.26571312e+05, 1.21957625e+06, 1.52757475e+06, 1.65996588e+06,\n",
       "        2.16532825e+06, 2.62801875e+06, 2.36072450e+06, 5.88302812e+05,\n",
       "        2.13212297e+05, 1.39012516e+05, 1.07057945e+05, 1.61992000e+05,\n",
       "        6.39032305e+04, 9.92782266e+04, 1.12270164e+05, 2.25050609e+05,\n",
       "        5.36026133e+04, 2.71460039e+04, 4.31435898e+04, 2.25100117e+04,\n",
       "        4.44890977e+04, 9.79646016e+04, 2.57677500e+05, 2.70224031e+05,\n",
       "        1.97393891e+05, 1.24252977e+05, 1.01978805e+05, 7.66573047e+04,\n",
       "        5.79380586e+04, 1.50826953e+05, 6.22537930e+04, 5.49969883e+04,\n",
       "        6.50242891e+04, 3.12301660e+04, 5.09111328e+04, 2.36216348e+04,\n",
       "        1.10454945e+05, 2.30770500e+05, 2.65880250e+05, 2.93242031e+05,\n",
       "        4.99687750e+05, 6.68486875e+05, 9.62174438e+05, 1.74391138e+06,\n",
       "        1.33631775e+06, 4.43401344e+05, 1.20254836e+05, 1.26206117e+05,\n",
       "        2.20356750e+05, 1.63429297e+05, 3.31246719e+05, 4.38936062e+05,\n",
       "        4.86261062e+05, 5.14830562e+05, 5.20129750e+05, 4.71410219e+05,\n",
       "        2.63841500e+05, 7.43901953e+04, 7.37477969e+04, 1.02680688e+05,\n",
       "        5.15213633e+04, 1.21712867e+05, 4.71954062e+04, 9.09712656e+04,\n",
       "        1.44254609e+05, 3.11503500e+05, 1.45316516e+05, 4.73965625e+04,\n",
       "        2.49727227e+04, 2.66096289e+04, 1.98256992e+04, 1.89528184e+04,\n",
       "        2.14019824e+04, 3.04595059e+04, 1.06899383e+05, 2.32577453e+05,\n",
       "        3.34688938e+05, 4.96148000e+05, 6.85294000e+05, 8.49489188e+05,\n",
       "        7.08689188e+05, 5.48984812e+05, 1.59094641e+05, 6.86959844e+04,\n",
       "        3.46287617e+04, 4.74393984e+04, 4.64322781e+05, 9.35289000e+05,\n",
       "        1.31948425e+06, 2.04105075e+06, 2.38655525e+06, 2.20604425e+06,\n",
       "        2.18478550e+06, 5.18663688e+05, 1.28833977e+05, 1.55298109e+05,\n",
       "        2.45896234e+05, 3.03815281e+05, 3.27828531e+05, 6.50583477e+04,\n",
       "        1.64144359e+05, 7.25337562e+05, 1.26255612e+06, 1.31552200e+06,\n",
       "        1.59754725e+06, 2.40820675e+06, 2.39645125e+06, 2.24325775e+06,\n",
       "        5.77646375e+05, 3.14685719e+05, 5.16742781e+05, 3.12431156e+05,\n",
       "        8.56931875e+05, 1.64736200e+06, 1.70676688e+06, 1.40441738e+06,\n",
       "        2.12880075e+06, 3.15147250e+06, 5.18231200e+06, 3.69346975e+06,\n",
       "        1.97767825e+06, 8.39583000e+05, 6.88674688e+05, 6.27355000e+05,\n",
       "        8.86856625e+05, 1.10930475e+06, 9.77194438e+05, 1.15967362e+06,\n",
       "        9.47551500e+05, 1.19383188e+06, 3.25215250e+06, 3.24586000e+06,\n",
       "        2.93444625e+06, 3.46731406e+05, 1.14889750e+05, 1.58665250e+05,\n",
       "        3.45085188e+05, 2.59930141e+05, 1.70361391e+05, 1.21428977e+05,\n",
       "        1.27555664e+05, 2.28748234e+05, 1.53282112e+06, 5.46526650e+06,\n",
       "        1.10103130e+07, 1.33421930e+07, 1.54300000e+07, 1.61269440e+07,\n",
       "        1.59365500e+07, 7.92968100e+06, 1.96446262e+06, 9.11742625e+05,\n",
       "        1.27525588e+06, 2.25925725e+06, 3.88601600e+06, 5.82238850e+06,\n",
       "        1.16047290e+07, 1.45486830e+07, 1.38572530e+07, 1.20259710e+07,\n",
       "        1.39189260e+07, 1.45987470e+07, 2.01387420e+07, 2.06194240e+07,\n",
       "        3.04986720e+07, 4.20901320e+07, 3.44314280e+07, 2.62456420e+07,\n",
       "        3.22999660e+07, 2.00709620e+07, 1.08045900e+07, 7.78519200e+06,\n",
       "        1.72403640e+07, 2.65649980e+07, 2.06701180e+07, 2.11285475e+06,\n",
       "        2.97017875e+06, 9.33724938e+05, 7.38857650e+06, 1.06231150e+07,\n",
       "        1.14169210e+07, 1.21307590e+07, 8.82177900e+06, 1.19244720e+07,\n",
       "        1.20676810e+07, 6.58807125e+05, 2.23519350e+06, 3.27473850e+06,\n",
       "        3.02958050e+06, 3.63588575e+06, 9.30400300e+06, 1.99266580e+07,\n",
       "        1.86131560e+07, 1.16774370e+07, 1.35204640e+07, 1.80969120e+07,\n",
       "        3.99793800e+07, 5.18027240e+07, 4.16073960e+07, 4.28161240e+07,\n",
       "        5.72374040e+07, 5.19891720e+07, 7.87192400e+07, 3.19853860e+07,\n",
       "        4.87143750e+06, 7.66962850e+06, 6.12508150e+06, 1.31321290e+07,\n",
       "        1.47307600e+07, 2.22344820e+07, 1.84845920e+07, 2.42791680e+07,\n",
       "        1.17415440e+07, 1.28481100e+07, 3.64658160e+07, 4.99452040e+07,\n",
       "        9.21096400e+07, 7.13106080e+07, 1.95195900e+07, 8.10810250e+06,\n",
       "        4.27675550e+06, 4.34952950e+06, 1.12499110e+07, 2.47363320e+07,\n",
       "        1.71663460e+07, 1.63890960e+07, 2.19519960e+07, 3.29914900e+07,\n",
       "        4.90555520e+07, 6.55732880e+07, 6.34747960e+07, 4.78095160e+07,\n",
       "        3.05620760e+07, 1.31489010e+07, 6.62980850e+06, 6.50193350e+06,\n",
       "        1.43614700e+06, 4.60756400e+06, 4.96365200e+06, 4.89291900e+06,\n",
       "        9.28328700e+06, 1.67878100e+07, 2.45815020e+07, 1.97390300e+07,\n",
       "        1.73299020e+07, 2.14743475e+06, 5.97773350e+06, 1.89088720e+07,\n",
       "        2.99882040e+07, 3.30807100e+07, 1.20362340e+07, 1.42452430e+07,\n",
       "        8.00125300e+06, 3.20823150e+06, 6.88108500e+05, 9.78539125e+05,\n",
       "        6.88296312e+05, 1.07472112e+06, 1.18107275e+06, 2.81985825e+06,\n",
       "        6.15360750e+06, 1.75063940e+07, 2.47919480e+07, 2.57579020e+07,\n",
       "        1.62101970e+07, 1.38552880e+07, 1.18165440e+07, 1.34744660e+07,\n",
       "        3.01998360e+07, 4.53843760e+07, 6.48349080e+07, 5.59263160e+07,\n",
       "        3.32651540e+07, 1.51360020e+07, 1.38847110e+07, 5.27589300e+06,\n",
       "        5.07501950e+06, 1.58855910e+07, 3.13960640e+07, 5.41607440e+07,\n",
       "        2.46844440e+07, 9.49857600e+06, 9.14481600e+06, 1.27245120e+07,\n",
       "        5.49929500e+06, 2.01194675e+06, 4.15560650e+06, 4.82006700e+06,\n",
       "        1.24406970e+07, 7.70455850e+06, 1.05106850e+07, 1.63042510e+07,\n",
       "        3.60950640e+07, 5.19029320e+07, 6.43643640e+07], dtype=float32),\n",
       " 'rmse': array([ 393.72818 ,  218.99614 ,  240.0614  ,  256.8052  ,  338.24493 ,\n",
       "         409.91107 ,  380.5844  ,  381.8292  ,  489.647   ,  592.27167 ,\n",
       "         745.5806  ,  672.5198  ,  624.721   ,  664.8914  ,  442.03824 ,\n",
       "         242.02742 ,  278.39316 ,  441.14362 ,  446.568   ,  482.2937  ,\n",
       "         253.79886 ,  187.76762 ,  129.38649 ,  177.89389 ,  143.81453 ,\n",
       "         209.1284  ,  273.8835  ,  250.71858 ,  219.93655 ,   82.92061 ,\n",
       "         183.40887 ,  241.23561 ,  214.79655 ,  296.76468 ,  243.45592 ,\n",
       "         262.13324 ,  278.83487 ,  233.3536  ,  290.75766 ,  384.26663 ,\n",
       "         611.45935 ,  313.50046 ,  217.69818 ,  248.20566 ,  102.55131 ,\n",
       "         202.64299 ,  162.24301 ,  174.64122 ,  117.965416,  191.85513 ,\n",
       "         162.34416 ,  133.72408 ,  129.97481 ,  199.59169 ,  455.49933 ,\n",
       "         602.0764  ,  764.6462  ,  754.189   ,  721.6896  ,  694.423   ,\n",
       "         589.5188  ,  479.878   ,  471.21222 ,  583.294   ,  704.3656  ,\n",
       "         700.0815  ,  725.97266 ,  704.3325  ,  337.54892 ,  223.94554 ,\n",
       "         187.55548 ,  287.11792 ,  379.64462 ,  257.79865 ,  158.9662  ,\n",
       "         257.90616 ,  324.89868 ,  591.8768  ,  767.23315 ,  911.73846 ,\n",
       "        1031.4844  ,  831.5811  ,  484.11115 ,  329.1459  ,  193.06593 ,\n",
       "         246.06128 ,  282.81476 ,  478.37326 ,  574.4486  ,  770.73267 ,\n",
       "         676.3236  ,  672.5888  ,  570.3539  ,  470.95908 ,  334.18213 ,\n",
       "         424.45404 ,  325.63632 ,  389.0792  ,  482.38336 ,  574.7827  ,\n",
       "         372.16818 ,  144.32393 ,  280.5491  ,  203.40302 ,  405.51434 ,\n",
       "         495.39047 ,  503.79654 ,  561.05176 ,  860.27356 ,  783.94617 ,\n",
       "         669.94    ,  213.63168 ,  176.89333 ,  408.01508 ,  404.57318 ,\n",
       "         560.61835 ,  453.22626 ,  488.48694 ,  569.07    , 1266.7301  ,\n",
       "        1804.4117  , 2298.484   , 2103.8933  , 2184.8586  , 2219.9434  ,\n",
       "        2422.7664  , 1168.2218  ,  604.6096  ,  479.51968 ,  509.9758  ,\n",
       "         705.9138  ,  604.1208  ,  646.8702  ,  435.44513 ,  420.11914 ,\n",
       "         404.86972 ,  515.1893  ,  436.48425 ,  238.33876 ,  331.08783 ,\n",
       "         335.5919  ,  403.21182 ,  378.58325 ,  782.87933 ,  846.2718  ,\n",
       "         602.8684  ,  514.67145 ,  273.4366  ,  453.30502 ,  256.47464 ,\n",
       "         358.69077 ,  369.60715 ,  277.88623 ,  409.57434 ,  319.7013  ,\n",
       "         216.75764 ,  303.54272 ,  297.72336 ,  370.10263 ,  297.27603 ,\n",
       "         464.57776 ,  367.36728 ,  307.16666 ,  320.33087 ,  357.67593 ,\n",
       "         549.84674 ,  700.8951  ,  953.67426 ,  834.57086 ,  936.7923  ,\n",
       "        1142.6179  , 1164.8342  , 1210.0573  , 1238.5328  ,  705.674   ,\n",
       "         536.07025 ,  627.96295 ,  579.9906  ,  589.1621  ,  562.2265  ,\n",
       "         612.7152  ,  503.85056 ,  622.7434  ,  850.819   ,  761.99695 ,\n",
       "         377.37582 ,  776.20264 ,  953.82275 ,  575.46704 ,  187.8997  ,\n",
       "         280.14478 ,  299.61554 ,  341.18417 ,  326.9133  ,  503.30258 ,\n",
       "         451.03003 ,  236.3466  ,  292.69504 ,  340.45688 ,  454.20944 ,\n",
       "         785.6104  , 1015.2589  ,  938.9391  ,  696.2271  ,  588.3328  ,\n",
       "         315.5796  ,  425.1322  ,  188.7761  ,  103.10432 ,  136.32126 ,\n",
       "         245.04117 ,  265.13248 ,  267.10123 ,  282.5404  ,  171.41785 ,\n",
       "         278.2993  ,  356.6521  ,  180.16563 ,  214.23434 ,  149.22137 ,\n",
       "         155.89258 ,  126.11347 ,  185.8746  ,  217.47755 ,  242.18422 ,\n",
       "         258.19736 ,  377.88757 ,  290.4007  ,  174.10123 ,  384.2352  ,\n",
       "         136.3342  ,  147.30878 ,  187.51802 ,  231.5045  ,  242.42746 ,\n",
       "         209.04625 ,  183.60454 ,  201.50105 ,  273.22635 ,  365.43066 ,\n",
       "         272.65802 ,  382.92963 ,  195.573   ,  194.07225 ,   74.898506,\n",
       "         124.49424 ,  102.60463 ,  161.87878 ,  123.18094 ,   90.811806,\n",
       "          94.51543 ,  217.34882 ,  344.19727 ,  392.20764 ,  471.4317  ,\n",
       "         538.96954 ,  962.5857  , 1104.3441  , 1235.9509  , 1288.3966  ,\n",
       "        1471.5054  , 1621.1165  , 1536.465   ,  767.00903 ,  461.74918 ,\n",
       "         372.84378 ,  327.19708 ,  402.48227 ,  252.79088 ,  315.08447 ,\n",
       "         335.0674  ,  474.39496 ,  231.52237 ,  164.76044 ,  207.71036 ,\n",
       "         150.03336 ,  210.9244  ,  312.99298 ,  507.61942 ,  519.8308  ,\n",
       "         444.29034 ,  352.49533 ,  319.3412  ,  276.87054 ,  240.70326 ,\n",
       "         388.36444 ,  249.5071  ,  234.51437 ,  254.99863 ,  176.72058 ,\n",
       "         225.63493 ,  153.69331 ,  332.34763 ,  480.3858  ,  515.63574 ,\n",
       "         541.51825 ,  706.8859  ,  817.6104  ,  980.9049  , 1320.5724  ,\n",
       "        1155.9921  ,  665.88385 ,  346.77777 ,  355.255   ,  469.42172 ,\n",
       "         404.2639  ,  575.54034 ,  662.52246 ,  697.3242  ,  717.51697 ,\n",
       "         721.2002  ,  686.5932  ,  513.655   ,  272.74564 ,  271.56543 ,\n",
       "         320.4383  ,  226.98318 ,  348.8737  ,  217.24504 ,  301.61444 ,\n",
       "         379.80862 ,  558.12494 ,  381.204   ,  217.70752 ,  158.02759 ,\n",
       "         163.12456 ,  140.80377 ,  137.66924 ,  146.29416 ,  174.52652 ,\n",
       "         326.9547  ,  482.2628  ,  578.5231  ,  704.37775 ,  827.8249  ,\n",
       "         921.67737 ,  841.8368  ,  740.9351  ,  398.86667 ,  262.0992  ,\n",
       "         186.08806 ,  217.80586 ,  681.41235 ,  967.10345 , 1148.6881  ,\n",
       "        1428.6534  , 1544.848   , 1485.2759  , 1478.1019  ,  720.1831  ,\n",
       "         358.93445 ,  394.07883 ,  495.87927 ,  551.1944  ,  572.5631  ,\n",
       "         255.06538 ,  405.14734 ,  851.66754 , 1123.6351  , 1146.962   ,\n",
       "        1263.941   , 1551.8397  , 1548.0475  , 1497.7509  ,  760.03046 ,\n",
       "         560.9685  ,  718.8482  ,  558.95544 ,  925.7062  , 1283.496   ,\n",
       "        1306.4327  , 1185.0812  , 1459.041   , 1775.2385  , 2276.4692  ,\n",
       "        1921.8402  , 1406.2996  ,  916.2876  ,  829.8642  ,  792.0575  ,\n",
       "         941.7307  , 1053.2355  ,  988.5315  , 1076.8813  ,  973.42255 ,\n",
       "        1092.6261  , 1803.3726  , 1801.627   , 1713.0225  ,  588.839   ,\n",
       "         338.95392 ,  398.32806 ,  587.4395  ,  509.83347 ,  412.74854 ,\n",
       "         348.4666  ,  357.14935 ,  478.27625 , 1238.0715  , 2337.791   ,\n",
       "        3318.179   , 3652.6965  , 3928.1038  , 4015.8362  , 3992.061   ,\n",
       "        2815.9688  , 1401.593   ,  954.8522  , 1129.2723  , 1503.0825  ,\n",
       "        1971.2982  , 2412.9626  , 3406.5715  , 3814.2737  , 3722.5334  ,\n",
       "        3467.8481  , 3730.8074  , 3820.83    , 4487.6206  , 4540.862   ,\n",
       "        5522.56    , 6487.691   , 5867.83    , 5123.05    , 5683.3057  ,\n",
       "        4480.062   , 3287.0334  , 2790.1958  , 4152.152   , 5154.124   ,\n",
       "        4546.4404  , 1453.566   , 1723.4208  ,  966.2945  , 2718.1936  ,\n",
       "        3259.312   , 3378.8933  , 3482.924   , 2970.1477  , 3453.183   ,\n",
       "        3473.857   ,  811.6693  , 1495.0563  , 1809.6238  , 1740.569   ,\n",
       "        1906.7999  , 3050.2463  , 4463.928   , 4314.2964  , 3417.2263  ,\n",
       "        3677.0186  , 4254.0464  , 6322.925   , 7197.41    , 6450.38    ,\n",
       "        6543.403   , 7565.5405  , 7210.3516  , 8872.387   , 5655.5625  ,\n",
       "        2207.1335  , 2769.4094  , 2474.8904  , 3623.828   , 3838.067   ,\n",
       "        4715.3457  , 4299.371   , 4927.389   , 3426.5938  , 3584.426   ,\n",
       "        6038.6934  , 7067.192   , 9597.377   , 8444.561   , 4418.098   ,\n",
       "        2847.4731  , 2068.0317  , 2085.5525  , 3354.0886  , 4973.563   ,\n",
       "        4143.229   , 4048.345   , 4685.2954  , 5743.822   , 7003.967   ,\n",
       "        8097.734   , 7967.1074  , 6914.442   , 5528.2974  , 3626.1414  ,\n",
       "        2574.8413  , 2549.8887  , 1198.3936  , 2146.5237  , 2227.9255  ,\n",
       "        2211.9944  , 3046.8489  , 4097.293   , 4957.973   , 4442.863   ,\n",
       "        4162.92    , 1465.4127  , 2444.9404  , 4348.433   , 5476.149   ,\n",
       "        5751.5835  , 3469.3271  , 3774.2869  , 2828.6487  , 1791.1538  ,\n",
       "         829.523   ,  989.21136 ,  829.6363  , 1036.6876  , 1086.7717  ,\n",
       "        1679.2433  , 2480.6467  , 4184.0645  , 4979.1514  , 5075.224   ,\n",
       "        4026.1892  , 3722.2693  , 3437.52    , 3670.758   , 5495.4375  ,\n",
       "        6736.7925  , 8052.0127  , 7478.39    , 5767.595   , 3890.5015  ,\n",
       "        3726.2192  , 2296.9312  , 2252.7803  , 3985.6733  , 5603.2188  ,\n",
       "        7359.3984  , 4968.344   , 3081.976   , 3024.0396  , 3567.1433  ,\n",
       "        2345.0576  , 1418.431   , 2038.5304  , 2195.465   , 3527.1375  ,\n",
       "        2775.7085  , 3242.0186  , 4037.8525  , 6007.917   , 7204.369   ,\n",
       "        8022.74    ], dtype=float32),\n",
       " 'mape': array([ 4.1044893 ,  1.7490456 ,  2.1041784 ,  2.6346548 ,  3.2051272 ,\n",
       "         4.0686073 ,  3.9340596 ,  3.470744  ,  4.7620516 ,  6.1514926 ,\n",
       "         8.337138  ,  7.6596103 ,  7.957776  ,  8.856833  ,  5.6888127 ,\n",
       "         2.4616482 ,  2.9713218 ,  4.883052  ,  5.3764606 ,  5.7965584 ,\n",
       "         2.6819787 ,  1.893313  ,  1.5831802 ,  1.9827282 ,  1.5962216 ,\n",
       "         2.2758696 ,  2.7804642 ,  2.8865283 ,  2.330061  ,  0.9805686 ,\n",
       "         2.186016  ,  3.073218  ,  1.9576441 ,  2.9517546 ,  2.7278473 ,\n",
       "         2.9305398 ,  3.093293  ,  2.6417959 ,  3.3403795 ,  5.2456408 ,\n",
       "         8.2534075 ,  4.178237  ,  2.729535  ,  3.348577  ,  1.2252326 ,\n",
       "         2.3495939 ,  1.8992642 ,  1.6979767 ,  1.2942048 ,  2.3975666 ,\n",
       "         1.8097321 ,  1.6669872 ,  1.5187799 ,  1.8965795 ,  4.893641  ,\n",
       "         6.422051  ,  9.098435  ,  8.762232  ,  8.260098  ,  8.418775  ,\n",
       "         7.197649  ,  4.6286798 ,  4.1741943 ,  5.529162  ,  6.9725695 ,\n",
       "         7.079307  ,  7.5960064 ,  7.8741336 ,  3.3327658 ,  2.035847  ,\n",
       "         1.741248  ,  2.7875645 ,  3.9612744 ,  2.3981285 ,  1.6110368 ,\n",
       "         2.6585643 ,  3.003885  ,  5.1659546 ,  7.06558   ,  9.180699  ,\n",
       "        10.818904  ,  8.743005  ,  4.970715  ,  3.1284559 ,  1.7428584 ,\n",
       "         2.1504502 ,  2.3624206 ,  4.208505  ,  5.150845  ,  7.5484023 ,\n",
       "         6.2273164 ,  6.162923  ,  5.453756  ,  3.9910443 ,  2.706339  ,\n",
       "         3.5833757 ,  2.8765485 ,  3.1069045 ,  4.3287015 ,  5.590552  ,\n",
       "         3.5891123 ,  1.2544147 ,  2.042016  ,  1.6946014 ,  2.90118   ,\n",
       "         4.373842  ,  4.884679  ,  5.5617113 ,  8.772161  ,  8.429907  ,\n",
       "         7.483519  ,  1.9599924 ,  1.765983  ,  3.9327033 ,  4.033426  ,\n",
       "         6.035512  ,  4.5183997 ,  5.198183  ,  6.739346  , 12.7901945 ,\n",
       "        21.906918  , 32.226025  , 30.539534  , 34.58028   , 38.113213  ,\n",
       "        44.836044  , 20.934048  , 10.415096  ,  7.16611   ,  7.773096  ,\n",
       "         9.250377  ,  7.8577323 ,  9.242209  ,  5.7876887 ,  5.5917544 ,\n",
       "         5.4431415 ,  6.969138  ,  6.034132  ,  2.6517088 ,  3.6529639 ,\n",
       "         3.6090415 ,  5.149989  ,  5.2869844 , 10.896521  , 11.746072  ,\n",
       "         7.940074  ,  6.9339676 ,  3.4127653 ,  5.413464  ,  3.1227126 ,\n",
       "         4.432726  ,  4.7684646 ,  3.5438669 ,  5.4613914 ,  3.8203437 ,\n",
       "         2.7380557 ,  3.5564113 ,  3.5348973 ,  4.2935705 ,  3.5931523 ,\n",
       "         5.95295   ,  4.159488  ,  3.4613967 ,  3.5564504 ,  4.433081  ,\n",
       "         6.4281807 ,  8.760302  , 10.702626  ,  7.9698095 ,  8.783264  ,\n",
       "        11.227903  , 11.698448  , 12.901897  , 13.904034  ,  7.377346  ,\n",
       "         4.473061  ,  4.9452124 ,  4.574122  ,  5.0898833 ,  4.8453646 ,\n",
       "         5.5043244 ,  5.0159106 ,  5.552835  ,  8.598534  ,  7.394314  ,\n",
       "         3.6652393 ,  7.511711  ,  9.761901  ,  5.8777733 ,  1.6374952 ,\n",
       "         2.5838125 ,  2.660931  ,  3.2658432 ,  3.036378  ,  4.961058  ,\n",
       "         4.7127433 ,  1.8168036 ,  2.1050436 ,  2.8906848 ,  4.2493606 ,\n",
       "         6.9304996 ,  9.696932  ,  9.214519  ,  6.5321436 ,  4.51598   ,\n",
       "         2.5022318 ,  3.3899167 ,  1.5608178 ,  0.8501073 ,  1.2059665 ,\n",
       "         1.7512788 ,  2.4333596 ,  2.3542018 ,  2.6678278 ,  1.609228  ,\n",
       "         2.6435788 ,  3.4720612 ,  1.6823223 ,  1.9953629 ,  1.1437094 ,\n",
       "         1.4141781 ,  1.1783874 ,  1.3483094 ,  1.6593995 ,  1.8246875 ,\n",
       "         2.1835842 ,  3.663696  ,  2.5438168 ,  1.6023986 ,  4.0978713 ,\n",
       "         1.2252225 ,  1.1844256 ,  1.6307918 ,  2.3538368 ,  2.230637  ,\n",
       "         2.1730683 ,  1.7275062 ,  1.7894598 ,  2.3116958 ,  3.4403827 ,\n",
       "         2.7410598 ,  3.9193683 ,  2.0033302 ,  1.7261965 ,  0.7357814 ,\n",
       "         1.1525222 ,  0.8767207 ,  1.5233951 ,  1.188516  ,  0.8288095 ,\n",
       "         0.8613548 ,  1.9059833 ,  3.1676552 ,  3.6291752 ,  4.4061985 ,\n",
       "         5.0782537 ,  7.8121305 ,  8.493104  ,  9.193214  ,  9.890072  ,\n",
       "        11.889819  , 13.657878  , 13.356286  ,  6.3556232 ,  3.5606916 ,\n",
       "         2.146544  ,  2.2962706 ,  2.9847531 ,  1.7147832 ,  2.2971246 ,\n",
       "         2.6564074 ,  3.7467997 ,  1.6890669 ,  1.1060803 ,  1.2600595 ,\n",
       "         1.0308095 ,  1.4404929 ,  2.2525403 ,  3.78705   ,  3.630342  ,\n",
       "         3.1922836 ,  2.1442895 ,  2.0117798 ,  1.5118127 ,  1.8199089 ,\n",
       "         3.107672  ,  1.7406291 ,  1.3563734 ,  1.5993559 ,  1.1901877 ,\n",
       "         1.4253508 ,  1.0752518 ,  2.5862367 ,  3.160202  ,  4.022517  ,\n",
       "         4.398643  ,  5.6479874 ,  6.6205425 ,  8.325106  , 11.995232  ,\n",
       "        11.046144  ,  6.192733  ,  2.9531393 ,  3.119318  ,  4.1592913 ,\n",
       "         3.5492737 ,  5.0485024 ,  5.5024195 ,  5.938107  ,  5.867622  ,\n",
       "         6.1152945 ,  6.086552  ,  4.4141006 ,  2.2381992 ,  1.9857029 ,\n",
       "         2.2561188 ,  1.7345028 ,  2.5510983 ,  1.8513024 ,  2.5961492 ,\n",
       "         3.1999984 ,  4.998791  ,  3.338458  ,  1.5841266 ,  1.1138852 ,\n",
       "         1.3031585 ,  1.0076084 ,  1.0983288 ,  0.96080285,  1.3955457 ,\n",
       "         2.5135164 ,  3.7861412 ,  4.2997336 ,  5.1235566 ,  6.5926023 ,\n",
       "         7.725154  ,  7.146495  ,  6.230739  ,  3.1866498 ,  2.0825038 ,\n",
       "         1.471769  ,  1.3334134 ,  3.618617  ,  5.3092046 ,  7.0347257 ,\n",
       "         9.832239  , 11.064124  , 10.922335  , 11.082831  ,  5.061683  ,\n",
       "         2.0800939 ,  2.5085533 ,  2.8268359 ,  3.6349897 ,  3.9652233 ,\n",
       "         1.5954832 ,  2.5859969 ,  4.4336877 ,  5.538472  ,  5.8177123 ,\n",
       "         6.7885795 ,  9.358316  ,  9.688293  ,  9.604497  ,  3.9338257 ,\n",
       "         2.9404793 ,  3.9025984 ,  2.9369783 ,  5.2379775 ,  6.9268355 ,\n",
       "         6.5708117 ,  5.142026  ,  7.0782156 ,  8.700685  , 11.968188  ,\n",
       "        10.241905  ,  7.193879  ,  4.5743966 ,  4.3136864 ,  3.2720227 ,\n",
       "         4.0988693 ,  4.8179293 ,  4.674285  ,  4.8008738 ,  4.6394706 ,\n",
       "         5.1069746 ,  8.515913  ,  9.163744  ,  8.739607  ,  2.543573  ,\n",
       "         1.648395  ,  1.7265489 ,  2.7949185 ,  2.3782392 ,  1.9103369 ,\n",
       "         1.5460713 ,  1.7783347 ,  2.2347922 ,  5.159392  ,  8.617234  ,\n",
       "        13.495212  , 13.997245  , 15.189783  , 16.121841  , 16.941206  ,\n",
       "        11.85016   ,  5.7063794 ,  3.3439834 ,  2.9549203 ,  4.5357127 ,\n",
       "         5.945725  ,  7.56213   , 11.381474  , 13.030468  , 12.568909  ,\n",
       "         9.692531  ,  9.640663  , 10.442357  , 12.586154  , 11.32188   ,\n",
       "        12.590669  , 14.994939  , 12.413315  , 11.944878  , 13.171418  ,\n",
       "         9.6000595 ,  7.6808033 ,  6.3196616 , 10.075916  , 13.560512  ,\n",
       "        12.170348  ,  3.5349462 ,  3.951409  ,  1.9224396 ,  6.6908135 ,\n",
       "         7.9160132 ,  8.157406  ,  8.357577  ,  8.507235  ,  9.877634  ,\n",
       "        10.456104  ,  2.06766   ,  3.4594975 ,  4.4143343 ,  4.041205  ,\n",
       "         4.9808598 ,  8.097909  , 12.062285  , 10.995878  ,  7.9919972 ,\n",
       "         8.387779  ,  9.93839   , 14.242565  , 14.44397   , 11.806054  ,\n",
       "        12.07347   , 14.378818  , 14.169727  , 18.700287  , 11.47909   ,\n",
       "         3.971342  ,  4.8834968 ,  3.7280004 ,  4.763874  ,  5.716854  ,\n",
       "         7.0600576 ,  6.9289317 ,  8.15262   ,  5.7863755 ,  6.434031  ,\n",
       "        10.206485  , 13.088406  , 19.39888   , 17.665724  ,  8.571411  ,\n",
       "         4.5903273 ,  3.683642  ,  3.8901489 ,  6.3074718 ,  9.766967  ,\n",
       "         7.585784  ,  7.016875  ,  6.5406265 ,  8.772991  , 11.375317  ,\n",
       "        12.928207  , 12.47028   , 11.22681   ,  9.2163105 ,  5.225087  ,\n",
       "         3.4566875 ,  3.7770748 ,  1.5482155 ,  3.353674  ,  2.4732249 ,\n",
       "         3.3593402 ,  4.350731  ,  6.0117793 ,  8.063166  ,  7.5781965 ,\n",
       "         7.293819  ,  2.4752946 ,  3.9701455 ,  6.561604  ,  9.223472  ,\n",
       "         9.578575  ,  5.4793754 ,  6.3393407 ,  4.626384  ,  2.8319006 ,\n",
       "         1.310055  ,  1.6024277 ,  1.0234243 ,  1.5493816 ,  1.3408197 ,\n",
       "         2.3120017 ,  3.4499187 ,  6.0870757 ,  7.2153077 ,  7.5707636 ,\n",
       "         5.795378  ,  5.550387  ,  5.407124  ,  5.3835917 ,  7.9767814 ,\n",
       "        10.830582  , 13.669036  , 13.158391  ,  9.744831  ,  6.927798  ,\n",
       "         6.4308205 ,  3.7823935 ,  3.8747032 ,  6.80502   ,  9.1638565 ,\n",
       "        12.916724  ,  8.533484  ,  4.5033684 ,  4.5825014 ,  5.9581137 ,\n",
       "         3.8653228 ,  1.8647453 ,  3.2299275 ,  2.88892   ,  5.6655817 ,\n",
       "         4.09805   ,  5.0366054 ,  5.978913  ,  9.597456  , 12.377449  ,\n",
       "        14.915039  ], dtype=float32),\n",
       " 'mase': 2.323749}"
      ]
     },
     "execution_count": 157,
     "metadata": {},
     "output_type": "execute_result"
    }
   ],
   "source": [
    "# Calculate model_3 results - these are going to be multi-dimensional because\n",
    "# we're trying to predict more than one step at a time.\n",
    "model_3_results = evaluate_preds(y_true=tf.squeeze(test_labels),\n",
    "                                 y_pred=model_3_preds)\n",
    "model_3_results"
   ]
  },
  {
   "cell_type": "markdown",
   "id": "42f76a70",
   "metadata": {},
   "source": [
    "## Make our evaluation function work for larger horizons\n",
    "\n",
    "You'll notice the outputs for `model_3_results` are multi-dimensional. \n",
    "\n",
    "This is because the predictions are getting evaluated across the `HORIZON` timesteps (7 predictions at a time).\n",
    "\n",
    "To fix this, let's adjust our `evaluate_preds()` function to work with multiple shapes of data."
   ]
  },
  {
   "cell_type": "code",
   "execution_count": 161,
   "id": "8aa71906",
   "metadata": {},
   "outputs": [],
   "source": [
    "def evaluate_preds(y_true,y_pred):\n",
    "    # make sure float32 (for metric calculations)\n",
    "    y_true = tf.cast(y_true, dtype=tf.float32)\n",
    "    y_pred = tf.cast(y_pred, dtype=tf.float32)\n",
    "    \n",
    "    # calculate various metrics\n",
    "    mae = tf.keras.metrics.mean_absolute_error(y_true,y_pred)\n",
    "    mse = tf.keras.metrics.mean_squared_error(y_true,y_pred)\n",
    "    rmse = tf.sqrt(mse)\n",
    "    mape = tf.keras.metrics.mean_absolute_percentage_error(y_true,y_pred)\n",
    "    mase = mean_absolute_scaled_error(y_true,y_pred)\n",
    "    \n",
    "    # account for different sized metrics (for longer horizons, reduce to single number)\n",
    "    # if mae is not already a scalar, reduce it to one by aggregating tensors to mean\n",
    "    if mae.ndim > 0:\n",
    "        mae = tf.reduce_mean(mae)\n",
    "        mse = tf.reduce_mean(mse)\n",
    "        rmse = tf.reduce_mean(rmse)\n",
    "        mape = tf.reduce_mean(mape)\n",
    "        mase = tf.reduce_mean(mase)\n",
    "        \n",
    "    return {\"mae\": mae.numpy(),\n",
    "          \"mse\": mse.numpy(),\n",
    "          \"rmse\": rmse.numpy(),\n",
    "          \"mape\": mape.numpy(),\n",
    "          \"mase\": mase.numpy()}\n",
    "        "
   ]
  },
  {
   "cell_type": "markdown",
   "id": "709c42c6",
   "metadata": {},
   "source": [
    "Now we've updated `evaluate_preds()` to work with multiple shapes, how does it look?"
   ]
  },
  {
   "cell_type": "code",
   "execution_count": 162,
   "id": "0ded6e52",
   "metadata": {},
   "outputs": [
    {
     "data": {
      "text/plain": [
       "{'mae': 1305.8849,\n",
       " 'mse': 5629179.0,\n",
       " 'rmse': 1482.9333,\n",
       " 'mape': 5.7518477,\n",
       " 'mase': 2.323749}"
      ]
     },
     "execution_count": 162,
     "metadata": {},
     "output_type": "execute_result"
    }
   ],
   "source": [
    "model_3_results = evaluate_preds(y_true=tf.squeeze(test_labels),\n",
    "                                 y_pred=model_3_preds)\n",
    "model_3_results"
   ]
  },
  {
   "cell_type": "code",
   "execution_count": 163,
   "id": "46cc09ce",
   "metadata": {},
   "outputs": [
    {
     "data": {
      "image/png": "[encoded data removed]",
      "text/plain": [
       "<Figure size 720x504 with 1 Axes>"
      ]
     },
     "metadata": {
      "needs_background": "light"
     },
     "output_type": "display_data"
    }
   ],
   "source": [
    "offset = 300\n",
    "plt.figure(figsize=(10, 7))\n",
    "plot_time_series(timesteps=X_test[-len(test_windows):], values=test_labels[:, 0], start=offset, label=\"Test_data\")\n",
    "# Checking the shape of model_3_preds results in [n_test_samples, HORIZON] (this will screw up the plot)\n",
    "plot_time_series(timesteps=X_test[-len(test_windows):], values=model_3_preds, start=offset, label=\"model_3_preds\")"
   ]
  },
  {
   "cell_type": "markdown",
   "id": "f2cd0a81",
   "metadata": {},
   "source": [
    "When we try to plot our multi-horizon predicts, we get a funky looking plot.\n",
    "\n",
    "Again, we can fix this by aggregating our model's predictions.\n",
    "\n",
    "> 🔑 **Note:** Aggregating the predictions (e.g. reducing a 7-day horizon to one value such as the mean) loses information from the original prediction. As in, the model predictions were trained to be made for 7-days but by reducing them to one, we gain the ability to plot them visually but we lose the extra information contained across multiple days."
   ]
  },
  {
   "cell_type": "code",
   "execution_count": 167,
   "id": "af54fc5c",
   "metadata": {},
   "outputs": [
    {
     "data": {
      "image/png": "[encoded data removed]",
      "text/plain": [
       "<Figure size 720x504 with 1 Axes>"
      ]
     },
     "metadata": {
      "needs_background": "light"
     },
     "output_type": "display_data"
    }
   ],
   "source": [
    "offset = 300\n",
    "plt.figure(figsize=(10, 7))\n",
    "# Account for the test_window offset\n",
    "plot_time_series(timesteps=X_test[-len(test_windows):], values=test_labels[:, 0], start=offset, label=\"test_data\")\n",
    "plot_time_series(timesteps=X_test[-len(test_windows):], values=tf.reduce_mean(model_3_preds,axis=1), start=offset, format=\"-\", label=\"model_3_preds\") "
   ]
  },
  {
   "cell_type": "markdown",
   "id": "e5cf0df9",
   "metadata": {},
   "source": [
    "## Which of our models is performing best so far?\n",
    "\n",
    "So far, we've trained 3 models which use the same architecture but use different data inputs.\n",
    "\n",
    "Let's compare them with the naïve model to see which model is performing the best so far."
   ]
  },
  {
   "cell_type": "code",
   "execution_count": 168,
   "id": "f0e2c3ef",
   "metadata": {},
   "outputs": [
    {
     "data": {
      "text/plain": [
       "<AxesSubplot:>"
      ]
     },
     "execution_count": 168,
     "metadata": {},
     "output_type": "execute_result"
    },
    {
     "data": {
      "image/png": "[encoded data removed]",
      "text/plain": [
       "<Figure size 720x504 with 1 Axes>"
      ]
     },
     "metadata": {
      "needs_background": "light"
     },
     "output_type": "display_data"
    }
   ],
   "source": [
    "pd.DataFrame({'naive':naive_results['mae'],\n",
    "            'horizon_1_window_7':model_1_results['mae'],\n",
    "             'horizon_1_window_30':model_2_results['mae'],\n",
    "             'horizon_7_window_30':model_3_results['mae']},\n",
    "             index=['mae']\n",
    "            ).plot(figsize=(10,7),kind='bar')"
   ]
  },
  {
   "cell_type": "markdown",
   "id": "1cb6baf2",
   "metadata": {},
   "source": [
    "Woah, our naïve model is performing best (it's very hard to beat a naïve model in open systems) but the dense model with a horizon of 1 and a window size of 7 looks to be performing cloest.\n",
    "\n",
    "Because of this, let's use `HORIZON=1` and `WINDOW_SIZE=7` for our next series of modelling experiments (in other words, we'll use the previous week of Bitcoin prices to try and predict the next day).\n",
    "\n",
    "> 🔑 **Note:** You might be wondering, why are the naïve results so good? One of the reasons could be due the presence of **autocorrelation** in the data. If a time series has **autocorrelation** it means the value at `t+1` (the next timestep) is typically close to the value at `t` (the current timestep). In other words, today's value is probably pretty close to yesterday's value. Of course, this isn't always the case but when it is, a naïve model will often get fairly good results.\n",
    "\n",
    "> 📖 **Resource:** For more on how autocorrelation influences a model's predictions, see the article [*How (not) to use Machine Learning for time series forecasting: Avoiding the pitfalls*](https://towardsdatascience.com/how-not-to-use-machine-learning-for-time-series-forecasting-avoiding-the-pitfalls-19f9d7adf424) by Vegard Flovik"
   ]
  },
  {
   "cell_type": "markdown",
   "id": "dec25e5c",
   "metadata": {},
   "source": [
    "## Model 4: Conv1D\n",
    "\n",
    "Onto the next modelling experiment!\n",
    "\n",
    "This time, we'll be using a Conv1D model. Because as we saw in the sequence modelling notebook, Conv1D models can be used for seq2seq (sequence to sequence) problems.\n",
    "\n",
    "In our case, the input sequence is the previous 7 days of Bitcoin price data and the output is the next day (in seq2seq terms this is called a many to one problem).\n",
    "\n",
    "![bitcoin prediction in seq2seq terms](https://raw.githubusercontent.com/mrdbourke/tensorflow-deep-learning/main/images/10-bitcoin-forecast-in-seq2seq-terms.png)\n",
    "*Framing Bitcoin forecasting in seq2seq (sequence to sequence) terms. Using a window size of 7 and a horizon of one results in a many to one problem. Using a window size of >1 and a horizon of >1 results in a many to many problem. The diagram comes from Andrei Karpathy's [The Unreasonable Effectiveness of Recurrent Neural Networks](http://karpathy.github.io/2015/05/21/rnn-effectiveness/)*.\n",
    "\n",
    "Before we build a Conv1D model, let's recreate our datasets."
   ]
  },
  {
   "cell_type": "code",
   "execution_count": 172,
   "id": "191582ad",
   "metadata": {},
   "outputs": [
    {
     "name": "stdout",
     "output_type": "stream",
     "text": [
      "full_windows  (2780, 7)\n",
      "full_labels  (2780, 1)\n",
      "train_windows:  (2224, 7)\n",
      "test_windows:  (556, 7)\n",
      "train_labels:  (2224, 1)\n",
      "test_labels:  (556, 1)\n"
     ]
    }
   ],
   "source": [
    "HORIZON = 1 # predict step at a time\n",
    "WINDOW_SIZE = 7 # use 30 timesteps in the past\n",
    "\n",
    "# Make windowed data with appropriate horizon and window sizes\n",
    "full_windows, full_labels = make_windows(prices, window_size=WINDOW_SIZE, horizon=HORIZON)\n",
    "print(f'full_windows ',full_windows.shape)\n",
    "print(f'full_labels ',full_labels.shape)\n",
    "\n",
    "# Make train and testing windows\n",
    "train_windows, test_windows, train_labels, test_labels = make_train_test_splits(windows=full_windows, labels=full_labels)\n",
    "print(f'train_windows: ',train_windows.shape)\n",
    "print(f'test_windows: ',test_windows.shape)\n",
    "print(f'train_labels: ',train_labels.shape)\n",
    "print(f'test_labels: ',test_labels.shape)"
   ]
  },
  {
   "cell_type": "markdown",
   "id": "9d676d67",
   "metadata": {},
   "source": [
    "Data windowed!\n",
    "\n",
    "Now, since we're going to be using [Conv1D layers](https://www.tensorflow.org/api_docs/python/tf/keras/layers/Conv1D), we need to make sure our input shapes are correct.\n",
    "\n",
    "The Conv1D layer in TensorFlow takes an input of: `(batch_size, timesteps, input_dim)`.\n",
    "\n",
    "In our case, the `batch_size` (by default this is 32 but we can change it) is handled for us but the other values will be:\n",
    "* `timesteps = WINDOW_SIZE` - the `timesteps` is also often referred to as `features`, our features are the previous `WINDOW_SIZE` values of Bitcoin \n",
    "* `input_dim = HORIZON` - our model views `WINDOW_SIZE` (one week) worth of data at a time to predict `HORIZON` (one day)\n",
    "\n",
    "Right now, our data has the `timesteps` dimension ready but we'll have to adjust it to have the `input_dim` dimension. "
   ]
  },
  {
   "cell_type": "code",
   "execution_count": 173,
   "id": "de7671ec",
   "metadata": {},
   "outputs": [
    {
     "data": {
      "text/plain": [
       "(7,)"
      ]
     },
     "execution_count": 173,
     "metadata": {},
     "output_type": "execute_result"
    }
   ],
   "source": [
    "# Check data sample shapes\n",
    "train_windows[0].shape # return (WINDOW_SIZE,)"
   ]
  },
  {
   "cell_type": "markdown",
   "id": "e95c983c",
   "metadata": {},
   "source": [
    "To fix this, we could adjust the shape of all of our `train_windows` or we could use a [`tf.keras.layers.Lamdba`](https://keras.io/api/layers/core_layers/lambda/) (called a Lambda layer) to do this for us in our model.\n",
    "\n",
    "The Lambda layer wraps a function into a layer which can be used with a model.\n",
    "\n",
    "Let's try it out."
   ]
  },
  {
   "cell_type": "code",
   "execution_count": 175,
   "id": "062759c3",
   "metadata": {},
   "outputs": [
    {
     "name": "stdout",
     "output_type": "stream",
     "text": [
      "Original shape: (7,)\n",
      "Expanded shape: (7, 1)\n",
      "Original values with expanded shape:\n",
      " [[123.65499]\n",
      " [125.455  ]\n",
      " [108.58483]\n",
      " [118.67466]\n",
      " [121.33866]\n",
      " [120.65533]\n",
      " [121.795  ]]\n"
     ]
    }
   ],
   "source": [
    "# Before we pass our data to the Conv1D layer, we have to reshape it in order to make sure it works\n",
    "x = tf.constant(train_windows[0])\n",
    "expand_dims_layer = layers.Lambda(lambda x: tf.expand_dims(x,axis=1)) # add an extra dimension for timesteps\n",
    "print(f'Original shape: {x.shape}') # (WINDOW_SIZE)\n",
    "print(f'Expanded shape: {expand_dims_layer(x).shape}') # (WINDOW_SIZE,input_dim)\n",
    "print(f'Original values with expanded shape:\\n {expand_dims_layer(x)}')"
   ]
  },
  {
   "cell_type": "markdown",
   "id": "ab268b40",
   "metadata": {},
   "source": [
    "Looking good!\n",
    "\n",
    "Now we've got a Lambda layer, let's build, compile, fit and evaluate a Conv1D model on our data.\n",
    "\n",
    "> 🔑 **Note:** If you run the model below without the Lambda layer, you'll get an input shape error (one of the most common errors when building neural networks)."
   ]
  },
  {
   "cell_type": "code",
   "execution_count": 185,
   "id": "a35708b4",
   "metadata": {},
   "outputs": [
    {
     "name": "stdout",
     "output_type": "stream",
     "text": [
      "INFO:tensorflow:Assets written to: model_exp\\model_4_conv1D\\assets\n",
      "INFO:tensorflow:Assets written to: model_exp\\model_4_conv1D\\assets\n",
      "INFO:tensorflow:Assets written to: model_exp\\model_4_conv1D\\assets\n",
      "INFO:tensorflow:Assets written to: model_exp\\model_4_conv1D\\assets\n",
      "INFO:tensorflow:Assets written to: model_exp\\model_4_conv1D\\assets\n",
      "INFO:tensorflow:Assets written to: model_exp\\model_4_conv1D\\assets\n",
      "INFO:tensorflow:Assets written to: model_exp\\model_4_conv1D\\assets\n",
      "INFO:tensorflow:Assets written to: model_exp\\model_4_conv1D\\assets\n",
      "INFO:tensorflow:Assets written to: model_exp\\model_4_conv1D\\assets\n",
      "INFO:tensorflow:Assets written to: model_exp\\model_4_conv1D\\assets\n",
      "INFO:tensorflow:Assets written to: model_exp\\model_4_conv1D\\assets\n",
      "INFO:tensorflow:Assets written to: model_exp\\model_4_conv1D\\assets\n",
      "INFO:tensorflow:Assets written to: model_exp\\model_4_conv1D\\assets\n",
      "INFO:tensorflow:Assets written to: model_exp\\model_4_conv1D\\assets\n",
      "INFO:tensorflow:Assets written to: model_exp\\model_4_conv1D\\assets\n",
      "INFO:tensorflow:Assets written to: model_exp\\model_4_conv1D\\assets\n",
      "INFO:tensorflow:Assets written to: model_exp\\model_4_conv1D\\assets\n",
      "INFO:tensorflow:Assets written to: model_exp\\model_4_conv1D\\assets\n",
      "INFO:tensorflow:Assets written to: model_exp\\model_4_conv1D\\assets\n",
      "INFO:tensorflow:Assets written to: model_exp\\model_4_conv1D\\assets\n",
      "INFO:tensorflow:Assets written to: model_exp\\model_4_conv1D\\assets\n",
      "INFO:tensorflow:Assets written to: model_exp\\model_4_conv1D\\assets\n",
      "INFO:tensorflow:Assets written to: model_exp\\model_4_conv1D\\assets\n",
      "INFO:tensorflow:Assets written to: model_exp\\model_4_conv1D\\assets\n",
      "INFO:tensorflow:Assets written to: model_exp\\model_4_conv1D\\assets\n",
      "INFO:tensorflow:Assets written to: model_exp\\model_4_conv1D\\assets\n",
      "INFO:tensorflow:Assets written to: model_exp\\model_4_conv1D\\assets\n",
      "INFO:tensorflow:Assets written to: model_exp\\model_4_conv1D\\assets\n",
      "INFO:tensorflow:Assets written to: model_exp\\model_4_conv1D\\assets\n",
      "INFO:tensorflow:Assets written to: model_exp\\model_4_conv1D\\assets\n",
      "INFO:tensorflow:Assets written to: model_exp\\model_4_conv1D\\assets\n",
      "INFO:tensorflow:Assets written to: model_exp\\model_4_conv1D\\assets\n",
      "INFO:tensorflow:Assets written to: model_exp\\model_4_conv1D\\assets\n",
      "INFO:tensorflow:Assets written to: model_exp\\model_4_conv1D\\assets\n",
      "INFO:tensorflow:Assets written to: model_exp\\model_4_conv1D\\assets\n",
      "INFO:tensorflow:Assets written to: model_exp\\model_4_conv1D\\assets\n",
      "INFO:tensorflow:Assets written to: model_exp\\model_4_conv1D\\assets\n",
      "INFO:tensorflow:Assets written to: model_exp\\model_4_conv1D\\assets\n",
      "INFO:tensorflow:Assets written to: model_exp\\model_4_conv1D\\assets\n",
      "INFO:tensorflow:Assets written to: model_exp\\model_4_conv1D\\assets\n",
      "Model: \"model_4_conv1D\"\n",
      "_________________________________________________________________\n",
      "Layer (type)                 Output Shape              Param #   \n",
      "=================================================================\n",
      "lambda_8 (Lambda)            (None, 1, 7)              0         \n",
      "_________________________________________________________________\n",
      "conv1d_7 (Conv1D)            (None, 1, 128)            4608      \n",
      "_________________________________________________________________\n",
      "dense_21 (Dense)             (None, 1, 1)              129       \n",
      "=================================================================\n",
      "Total params: 4,737\n",
      "Trainable params: 4,737\n",
      "Non-trainable params: 0\n",
      "_________________________________________________________________\n"
     ]
    }
   ],
   "source": [
    "tf.random.set_seed(42)\n",
    "\n",
    "# create model\n",
    "model_4 = tf.keras.Sequential([\n",
    "    # create Lambda layer to reshape inputs, without this layer the model will error\n",
    "    layers.Lambda(lambda x:tf.expand_dims(x,axis=1)), # resize the inputs to adjust for window size / Conv1D 3D input requirements\n",
    "    layers.Conv1D(filters=128,kernel_size=5,padding='causal',activation='relu'),\n",
    "    layers.Dense(HORIZON)],name='model_4_conv1D')\n",
    "\n",
    "# compile model\n",
    "model_4.compile(loss='mae',\n",
    "               optimizer=tf.keras.optimizers.Adam())\n",
    "\n",
    "# Fit model\n",
    "history_4 = model_4.fit(train_windows,\n",
    "           train_labels,\n",
    "           batch_size=128,\n",
    "           epochs=100,\n",
    "           verbose=0,\n",
    "           validation_data=(test_windows,test_labels),\n",
    "           callbacks=[create_model_checkpoint(model_name=model_4.name)])\n",
    "\n",
    "model_4.summary()"
   ]
  },
  {
   "cell_type": "code",
   "execution_count": 186,
   "id": "9141bb40",
   "metadata": {},
   "outputs": [
    {
     "data": {
      "text/plain": [
       "[<matplotlib.lines.Line2D at 0x3b2e1d60>]"
      ]
     },
     "execution_count": 186,
     "metadata": {},
     "output_type": "execute_result"
    },
    {
     "data": {
      "image/png": "[encoded data removed]",
      "text/plain": [
       "<Figure size 432x288 with 1 Axes>"
      ]
     },
     "metadata": {
      "needs_background": "light"
     },
     "output_type": "display_data"
    }
   ],
   "source": [
    "plt.plot(np.array(history_4.history['loss']))"
   ]
  },
  {
   "cell_type": "code",
   "execution_count": 188,
   "id": "d50dbed4",
   "metadata": {},
   "outputs": [
    {
     "name": "stdout",
     "output_type": "stream",
     "text": [
      "18/18 [==============================] - 0s 2ms/step - loss: 624.1893\n"
     ]
    },
    {
     "data": {
      "text/plain": [
       "624.1892700195312"
      ]
     },
     "execution_count": 188,
     "metadata": {},
     "output_type": "execute_result"
    }
   ],
   "source": [
    "# evaluate model on test data\n",
    "model_4.evaluate(test_windows,test_labels)"
   ]
  },
  {
   "cell_type": "code",
   "execution_count": 195,
   "id": "97967f67",
   "metadata": {},
   "outputs": [
    {
     "data": {
      "text/plain": [
       "(556,\n",
       " <tf.Tensor: shape=(10,), dtype=float32, numpy=\n",
       " array([8757.926, 8672.435, 8909.878, 8677.156, 8626.225, 8629.011,\n",
       "        8571.999, 8412.18 , 8359.45 , 8413.409], dtype=float32)>)"
      ]
     },
     "execution_count": 195,
     "metadata": {},
     "output_type": "execute_result"
    }
   ],
   "source": [
    "# Make predictions using model_1 on the test dataset and view the results\n",
    "model_4_preds = make_preds(model_4,test_windows)\n",
    "len(model_4_preds),model_4_preds[:10]"
   ]
  },
  {
   "cell_type": "code",
   "execution_count": 196,
   "id": "1ee062d1",
   "metadata": {},
   "outputs": [
    {
     "data": {
      "text/plain": [
       "{'mae': 624.1893,\n",
       " 'mse': 1271775.8,\n",
       " 'rmse': 1127.7303,\n",
       " 'mape': 2.8304513,\n",
       " 'mase': 1.0965277}"
      ]
     },
     "execution_count": 196,
     "metadata": {},
     "output_type": "execute_result"
    }
   ],
   "source": [
    "model_4_results = evaluate_preds(y_true=tf.squeeze(test_labels),\n",
    "                                 y_pred=model_4_preds)\n",
    "model_4_results"
   ]
  },
  {
   "cell_type": "code",
   "execution_count": 198,
   "id": "0647e8a6",
   "metadata": {},
   "outputs": [
    {
     "data": {
      "image/png": "[encoded data removed]",
      "text/plain": [
       "<Figure size 720x504 with 1 Axes>"
      ]
     },
     "metadata": {
      "needs_background": "light"
     },
     "output_type": "display_data"
    }
   ],
   "source": [
    "offset = 300\n",
    "plt.figure(figsize=(10, 7))\n",
    "# Account for the test_window offset\n",
    "plot_time_series(timesteps=X_test[-len(test_windows):], values=test_labels[:, 0], start=offset, label=\"test_data\")\n",
    "plot_time_series(timesteps=X_test[-len(test_windows):], values=model_4_preds, start=offset, format=\"-\", label=\"model_4_preds\") "
   ]
  },
  {
   "cell_type": "markdown",
   "id": "557c004a",
   "metadata": {},
   "source": [
    "## Model 5: RNN (LSTM)\n",
    "\n",
    "As you might've guessed, we can also use a recurrent neural network to model our sequential time series data.\n",
    "\n",
    "> 📖 **Resource:** For more on the different types of recurrent neural networks you can use for sequence problems, see the [Recurrent Neural Networks section of notebook 08](https://dev.mrdbourke.com/tensorflow-deep-learning/08_introduction_to_nlp_in_tensorflow/#recurrent-neural-networks-rnns).\n",
    "\n",
    "Let's reuse the same data we used for the Conv1D model, except this time we'll create an [LSTM-cell](https://www.tensorflow.org/api_docs/python/tf/keras/layers/LSTM) powered RNN to model our Bitcoin data. \n",
    "\n",
    "Once again, one of the most important steps for the LSTM model will be getting our data into the right shape.\n",
    "\n",
    "The [`tf.keras.layers.LSTM()`](https://www.tensorflow.org/api_docs/python/tf/keras/layers/LSTM) layer takes a tensor with `[batch, timesteps, feature]` dimensions.\n",
    "\n",
    "As mentioned earlier, the `batch` dimension gets taken care of for us but our data is currently only has the `feature` dimension (`WINDOW_SIZE`).\n",
    "\n",
    "To fix this, just like we did with the `Conv1D` model, we can use a `tf.keras.layers.Lambda()` layer to adjust the shape of our input tensors to the LSTM layer.\n"
   ]
  },
  {
   "cell_type": "code",
   "execution_count": 203,
   "id": "0dd1bd06",
   "metadata": {},
   "outputs": [
    {
     "name": "stdout",
     "output_type": "stream",
     "text": [
      "INFO:tensorflow:Assets written to: model_exp\\model_5_lstm\\assets\n",
      "INFO:tensorflow:Assets written to: model_exp\\model_5_lstm\\assets\n",
      "INFO:tensorflow:Assets written to: model_exp\\model_5_lstm\\assets\n",
      "INFO:tensorflow:Assets written to: model_exp\\model_5_lstm\\assets\n",
      "INFO:tensorflow:Assets written to: model_exp\\model_5_lstm\\assets\n",
      "INFO:tensorflow:Assets written to: model_exp\\model_5_lstm\\assets\n",
      "INFO:tensorflow:Assets written to: model_exp\\model_5_lstm\\assets\n",
      "INFO:tensorflow:Assets written to: model_exp\\model_5_lstm\\assets\n",
      "INFO:tensorflow:Assets written to: model_exp\\model_5_lstm\\assets\n",
      "INFO:tensorflow:Assets written to: model_exp\\model_5_lstm\\assets\n",
      "INFO:tensorflow:Assets written to: model_exp\\model_5_lstm\\assets\n",
      "INFO:tensorflow:Assets written to: model_exp\\model_5_lstm\\assets\n",
      "INFO:tensorflow:Assets written to: model_exp\\model_5_lstm\\assets\n",
      "INFO:tensorflow:Assets written to: model_exp\\model_5_lstm\\assets\n",
      "INFO:tensorflow:Assets written to: model_exp\\model_5_lstm\\assets\n",
      "INFO:tensorflow:Assets written to: model_exp\\model_5_lstm\\assets\n",
      "INFO:tensorflow:Assets written to: model_exp\\model_5_lstm\\assets\n",
      "INFO:tensorflow:Assets written to: model_exp\\model_5_lstm\\assets\n",
      "INFO:tensorflow:Assets written to: model_exp\\model_5_lstm\\assets\n",
      "INFO:tensorflow:Assets written to: model_exp\\model_5_lstm\\assets\n",
      "INFO:tensorflow:Assets written to: model_exp\\model_5_lstm\\assets\n",
      "INFO:tensorflow:Assets written to: model_exp\\model_5_lstm\\assets\n",
      "INFO:tensorflow:Assets written to: model_exp\\model_5_lstm\\assets\n",
      "INFO:tensorflow:Assets written to: model_exp\\model_5_lstm\\assets\n",
      "INFO:tensorflow:Assets written to: model_exp\\model_5_lstm\\assets\n",
      "INFO:tensorflow:Assets written to: model_exp\\model_5_lstm\\assets\n",
      "INFO:tensorflow:Assets written to: model_exp\\model_5_lstm\\assets\n",
      "INFO:tensorflow:Assets written to: model_exp\\model_5_lstm\\assets\n",
      "INFO:tensorflow:Assets written to: model_exp\\model_5_lstm\\assets\n",
      "INFO:tensorflow:Assets written to: model_exp\\model_5_lstm\\assets\n",
      "INFO:tensorflow:Assets written to: model_exp\\model_5_lstm\\assets\n",
      "INFO:tensorflow:Assets written to: model_exp\\model_5_lstm\\assets\n",
      "INFO:tensorflow:Assets written to: model_exp\\model_5_lstm\\assets\n",
      "INFO:tensorflow:Assets written to: model_exp\\model_5_lstm\\assets\n",
      "INFO:tensorflow:Assets written to: model_exp\\model_5_lstm\\assets\n",
      "INFO:tensorflow:Assets written to: model_exp\\model_5_lstm\\assets\n",
      "INFO:tensorflow:Assets written to: model_exp\\model_5_lstm\\assets\n",
      "INFO:tensorflow:Assets written to: model_exp\\model_5_lstm\\assets\n",
      "INFO:tensorflow:Assets written to: model_exp\\model_5_lstm\\assets\n",
      "INFO:tensorflow:Assets written to: model_exp\\model_5_lstm\\assets\n",
      "INFO:tensorflow:Assets written to: model_exp\\model_5_lstm\\assets\n",
      "INFO:tensorflow:Assets written to: model_exp\\model_5_lstm\\assets\n",
      "INFO:tensorflow:Assets written to: model_exp\\model_5_lstm\\assets\n",
      "INFO:tensorflow:Assets written to: model_exp\\model_5_lstm\\assets\n",
      "INFO:tensorflow:Assets written to: model_exp\\model_5_lstm\\assets\n",
      "INFO:tensorflow:Assets written to: model_exp\\model_5_lstm\\assets\n",
      "INFO:tensorflow:Assets written to: model_exp\\model_5_lstm\\assets\n",
      "Model: \"model_5_lstm\"\n",
      "_________________________________________________________________\n",
      "Layer (type)                 Output Shape              Param #   \n",
      "=================================================================\n",
      "input_2 (InputLayer)         [(None, 7)]               0         \n",
      "_________________________________________________________________\n",
      "lambda_10 (Lambda)           (None, 1, 7)              0         \n",
      "_________________________________________________________________\n",
      "lstm_1 (LSTM)                (None, 128)               69632     \n",
      "_________________________________________________________________\n",
      "dense_23 (Dense)             (None, 1)                 129       \n",
      "=================================================================\n",
      "Total params: 69,761\n",
      "Trainable params: 69,761\n",
      "Non-trainable params: 0\n",
      "_________________________________________________________________\n"
     ]
    }
   ],
   "source": [
    "tf.random.set_seed(42)\n",
    "\n",
    "# let build an LSTM model with the functional API\n",
    "inputs = layers.Input(shape=(WINDOW_SIZE))\n",
    "x = layers.Lambda(lambda x:tf.expand_dims(x,axis=1))(inputs)# expand input dimension to be compatible with LSTM\n",
    "x = layers.LSTM(128,activation='relu')(x)\n",
    "output = layers.Dense(HORIZON)(x)\n",
    "model_5 = tf.keras.Model(inputs=inputs,outputs=output,name='model_5_lstm')\n",
    "\n",
    "# compile model\n",
    "model_5.compile(loss='mae',\n",
    "               optimizer=tf.keras.optimizers.Adam())\n",
    "\n",
    "# Seems when saving the model several warnings are appearing: https://github.com/tensorflow/tensorflow/issues/47554 \n",
    "history_5 = model_5.fit(train_windows,\n",
    "            train_labels,\n",
    "            epochs=100,\n",
    "            verbose=0,\n",
    "            batch_size=128,\n",
    "            validation_data=(test_windows, test_labels),\n",
    "            callbacks=[create_model_checkpoint(model_name=model_5.name)])\n",
    "\n",
    "model_5.summary()"
   ]
  },
  {
   "cell_type": "code",
   "execution_count": 207,
   "id": "40ad397e",
   "metadata": {},
   "outputs": [
    {
     "data": {
      "text/plain": [
       "[<matplotlib.lines.Line2D at 0x3b3eadf0>]"
      ]
     },
     "execution_count": 207,
     "metadata": {},
     "output_type": "execute_result"
    },
    {
     "data": {
      "image/png": "[encoded data removed]",
      "text/plain": [
       "<Figure size 432x288 with 1 Axes>"
      ]
     },
     "metadata": {
      "needs_background": "light"
     },
     "output_type": "display_data"
    }
   ],
   "source": [
    "plt.plot(np.array(history_5.history['loss']))"
   ]
  },
  {
   "cell_type": "code",
   "execution_count": 208,
   "id": "30b99729",
   "metadata": {},
   "outputs": [
    {
     "name": "stdout",
     "output_type": "stream",
     "text": [
      "18/18 [==============================] - 0s 3ms/step - loss: 668.3491\n",
      "model evaluate 668.34912109375\n",
      "model result {'mae': 668.34924, 'mse': 1442477.9, 'rmse': 1201.032, 'mape': 3.1153479, 'mase': 1.1741045}\n"
     ]
    },
    {
     "data": {
      "image/png": "[encoded data removed]",
      "text/plain": [
       "<Figure size 720x504 with 1 Axes>"
      ]
     },
     "metadata": {
      "needs_background": "light"
     },
     "output_type": "display_data"
    }
   ],
   "source": [
    "# evaluate model on test data\n",
    "print('model evaluate',model_5.evaluate(test_windows,test_labels))\n",
    "\n",
    "# Make predictions using model_1 on the test dataset and view the results\n",
    "model_5_preds = make_preds(model_5,test_windows)\n",
    "\n",
    "model_5_results = evaluate_preds(y_true=tf.squeeze(test_labels),\n",
    "                                 y_pred=model_5_preds)\n",
    "\n",
    "print(f'model result',model_5_results)\n",
    "\n",
    "offset = 300\n",
    "plt.figure(figsize=(10, 7))\n",
    "# Account for the test_window offset\n",
    "plot_time_series(timesteps=X_test[-len(test_windows):], values=test_labels[:, 0], start=offset, label=\"test_data\")\n",
    "plot_time_series(timesteps=X_test[-len(test_windows):], values=model_5_preds, start=offset, format=\"-\", label=\"model_5_preds\") "
   ]
  },
  {
   "cell_type": "markdown",
   "id": "bad3844b",
   "metadata": {},
   "source": [
    "## Make a multivariate time series \n",
    "\n",
    "So far all of our models have barely kept up with the naïve forecast.\n",
    "\n",
    "And so far all of them have been trained on a single variable (also called univariate time series): the historical price of Bitcoin.\n",
    "\n",
    "If predicting the price of Bitcoin using the price of Bitcoin hasn't worked out very well, maybe giving our model more information may help.\n",
    "\n",
    "More information is a vague term because we could actually feed almost anything to our model(s) and they would still try to find patterns. \n",
    "\n",
    "For example, we could use the historical price of Bitcoin as well as anyone with the name [Daniel Bourke Tweeted](https://twitter.com/mrdbourke) on that day to predict the future price of Bitcoin.\n",
    "\n",
    "But would this help?\n",
    "\n",
    "Porbably not.\n",
    "\n",
    "What would be better is if we passed our model something related to Bitcoin (again, this is quite vauge, since in an open system like a market, you could argue everything is related).\n",
    "\n",
    "This will be different for almost every time series you work on but in our case, we could try to see if the [Bitcoin block reward size](https://www.investopedia.com/terms/b/block-reward.asp) adds any predictive power to our model(s).\n",
    "\n",
    "What is the Bitcoin block reward size?\n",
    "\n",
    "The Bitcoin block reward size is the number of Bitcoin someone receives from mining a Bitcoin block.\n",
    "\n",
    "At its inception, the Bitcoin block reward size was 50.\n",
    "\n",
    "But every four years or so, the Bitcoin block reward halves.\n",
    "\n",
    "For example, the block reward size went from 50 (starting January 2009) to 25 on November 28 2012.\n",
    "\n",
    "Let's encode this information into our time series data and see if it helps a model's performance.\n",
    "\n",
    "> 🔑 **Note:** Adding an extra feature to our dataset such as the Bitcoin block reward size will take our data from **univariate** (only the historical price of Bitcoin) to **multivariate** (the price of Bitcoin as well as the block reward size)."
   ]
  },
  {
   "cell_type": "code",
   "execution_count": 209,
   "id": "91af172e",
   "metadata": {},
   "outputs": [
    {
     "data": {
      "text/html": [
       "<div>\n",
       "<style scoped>\n",
       "    .dataframe tbody tr th:only-of-type {\n",
       "        vertical-align: middle;\n",
       "    }\n",
       "\n",
       "    .dataframe tbody tr th {\n",
       "        vertical-align: top;\n",
       "    }\n",
       "\n",
       "    .dataframe thead th {\n",
       "        text-align: right;\n",
       "    }\n",
       "</style>\n",
       "<table border=\"1\" class=\"dataframe\">\n",
       "  <thead>\n",
       "    <tr style=\"text-align: right;\">\n",
       "      <th></th>\n",
       "      <th>Price</th>\n",
       "    </tr>\n",
       "    <tr>\n",
       "      <th>Date</th>\n",
       "      <th></th>\n",
       "    </tr>\n",
       "  </thead>\n",
       "  <tbody>\n",
       "    <tr>\n",
       "      <th>2013-10-01</th>\n",
       "      <td>123.65499</td>\n",
       "    </tr>\n",
       "    <tr>\n",
       "      <th>2013-10-02</th>\n",
       "      <td>125.45500</td>\n",
       "    </tr>\n",
       "    <tr>\n",
       "      <th>2013-10-03</th>\n",
       "      <td>108.58483</td>\n",
       "    </tr>\n",
       "    <tr>\n",
       "      <th>2013-10-04</th>\n",
       "      <td>118.67466</td>\n",
       "    </tr>\n",
       "    <tr>\n",
       "      <th>2013-10-05</th>\n",
       "      <td>121.33866</td>\n",
       "    </tr>\n",
       "  </tbody>\n",
       "</table>\n",
       "</div>"
      ],
      "text/plain": [
       "                Price\n",
       "Date                 \n",
       "2013-10-01  123.65499\n",
       "2013-10-02  125.45500\n",
       "2013-10-03  108.58483\n",
       "2013-10-04  118.67466\n",
       "2013-10-05  121.33866"
      ]
     },
     "execution_count": 209,
     "metadata": {},
     "output_type": "execute_result"
    }
   ],
   "source": [
    "# let's make multivariate time series\n",
    "bitcoin_prices.head()"
   ]
  },
  {
   "cell_type": "markdown",
   "id": "e8be42aa",
   "metadata": {},
   "source": [
    "Alright, time to add another feature column, the block reward size.\n",
    "\n",
    "First, we'll need to create variables for the different block reward sizes as well as the dates they came into play.\n",
    "\n",
    "The following block rewards and dates were sourced from [cmcmarkets.com](https://www.cmcmarkets.com/en/learn-cryptocurrencies/bitcoin-halving).\n",
    "\n",
    "| Block Reward | Start Date |\n",
    "| ----- | ----- |\n",
    "| 50 | 3 January 2009 (2009-01-03) |\n",
    "| 25 | 28 November 2012 |\n",
    "| 12.5 | 9 July 2016 |\n",
    "| 6.25 | 11 May 2020 |\n",
    "| 3.125 | TBA (expected 2024) |\n",
    "| 1.5625 | TBA (expected 2028) | \n",
    "\n",
    "> 🔑 **Note:** Since our Bitcoin historical data starts from 01 October 2013, none of the timesteps in our multivariate time series will have a block reward of 50.\n",
    "\n",
    "We're going to get the days (indexes) for different block reward values. \n",
    "\n",
    "This is important because if we're going to use multiple variables for our time series, they have to the same frequency as our original variable. For example, if our Bitcoin prices are daily, we need the block reward values to be daily as well.\n",
    "\n",
    "> 🔑 **Note:** For using multiple variables, make sure they're the same frequency as each other. If your variables aren't at the same frequency (e.g. Bitcoin prices are daily but block rewards are weekly), you may need to transform them in a way that they can be used with your model."
   ]
  },
  {
   "cell_type": "code",
   "execution_count": 211,
   "id": "3f6e0409",
   "metadata": {},
   "outputs": [],
   "source": [
    "# Block reward values\n",
    "block_reward_1 = 50\n",
    "block_reward_2 = 25\n",
    "block_reward_3 = 12.5\n",
    "block_reward_4 = 6.25\n",
    "\n",
    "# block reward dates (datetime form of the above date stamps)\n",
    "block_reward_2_datetime = np.datetime64(\"2012-11-28\")\n",
    "block_reward_3_datetime = np.datetime64(\"2016-07-09\")\n",
    "block_reward_4_datetime = np.datetime64(\"2020-05-11\")"
   ]
  },
  {
   "cell_type": "code",
   "execution_count": 214,
   "id": "9ba478fd",
   "metadata": {},
   "outputs": [
    {
     "data": {
      "text/plain": [
       "(1012, 2414)"
      ]
     },
     "execution_count": 214,
     "metadata": {},
     "output_type": "execute_result"
    }
   ],
   "source": [
    "# Get date indexes for when to add fifferent block dates\n",
    "block_reward_2_days = (block_reward_3_datetime - bitcoin_prices.index[0]).days\n",
    "block_reward_3_days = (block_reward_4_datetime - bitcoin_prices.index[0]).days\n",
    "block_reward_2_days, block_reward_3_days"
   ]
  },
  {
   "cell_type": "code",
   "execution_count": 220,
   "id": "802e881a",
   "metadata": {},
   "outputs": [
    {
     "data": {
      "text/html": [
       "<div>\n",
       "<style scoped>\n",
       "    .dataframe tbody tr th:only-of-type {\n",
       "        vertical-align: middle;\n",
       "    }\n",
       "\n",
       "    .dataframe tbody tr th {\n",
       "        vertical-align: top;\n",
       "    }\n",
       "\n",
       "    .dataframe thead th {\n",
       "        text-align: right;\n",
       "    }\n",
       "</style>\n",
       "<table border=\"1\" class=\"dataframe\">\n",
       "  <thead>\n",
       "    <tr style=\"text-align: right;\">\n",
       "      <th></th>\n",
       "      <th>Price</th>\n",
       "      <th>block_reward</th>\n",
       "    </tr>\n",
       "    <tr>\n",
       "      <th>Date</th>\n",
       "      <th></th>\n",
       "      <th></th>\n",
       "    </tr>\n",
       "  </thead>\n",
       "  <tbody>\n",
       "    <tr>\n",
       "      <th>2013-10-01</th>\n",
       "      <td>123.65499</td>\n",
       "      <td>25</td>\n",
       "    </tr>\n",
       "    <tr>\n",
       "      <th>2013-10-02</th>\n",
       "      <td>125.45500</td>\n",
       "      <td>25</td>\n",
       "    </tr>\n",
       "    <tr>\n",
       "      <th>2013-10-03</th>\n",
       "      <td>108.58483</td>\n",
       "      <td>25</td>\n",
       "    </tr>\n",
       "    <tr>\n",
       "      <th>2013-10-04</th>\n",
       "      <td>118.67466</td>\n",
       "      <td>25</td>\n",
       "    </tr>\n",
       "    <tr>\n",
       "      <th>2013-10-05</th>\n",
       "      <td>121.33866</td>\n",
       "      <td>25</td>\n",
       "    </tr>\n",
       "  </tbody>\n",
       "</table>\n",
       "</div>"
      ],
      "text/plain": [
       "                Price block_reward\n",
       "Date                              \n",
       "2013-10-01  123.65499           25\n",
       "2013-10-02  125.45500           25\n",
       "2013-10-03  108.58483           25\n",
       "2013-10-04  118.67466           25\n",
       "2013-10-05  121.33866           25"
      ]
     },
     "execution_count": 220,
     "metadata": {},
     "output_type": "execute_result"
    }
   ],
   "source": [
    "# Add block_reward column\n",
    "bitcoin_prices_block = bitcoin_prices.copy()\n",
    "bitcoin_prices_block['block_reward']= None\n",
    "\n",
    "# Set values of block_reward column (it's the last column hence -1 indexing on iloc)\n",
    "bitcoin_prices_block.iloc[:block_reward_2_days,-1] = block_reward_2\n",
    "bitcoin_prices_block.iloc[block_reward_2_days:block_reward_3_days,-1] = block_reward_3\n",
    "bitcoin_prices_block.iloc[block_reward_3_days:,-1] = block_reward_4\n",
    "bitcoin_prices_block.head()"
   ]
  },
  {
   "cell_type": "code",
   "execution_count": 221,
   "id": "cc8e0f84",
   "metadata": {},
   "outputs": [
    {
     "data": {
      "text/plain": [
       "<AxesSubplot:xlabel='Date'>"
      ]
     },
     "execution_count": 221,
     "metadata": {},
     "output_type": "execute_result"
    },
    {
     "data": {
      "image/png": "[encoded data removed]",
      "text/plain": [
       "<Figure size 720x504 with 1 Axes>"
      ]
     },
     "metadata": {
      "needs_background": "light"
     },
     "output_type": "display_data"
    }
   ],
   "source": [
    "# Plot the block reward/price over time\n",
    "# Note: Because of the different scales of our values we'll scale them to be between 0 and 1.\n",
    "from sklearn.preprocessing import minmax_scale\n",
    "\n",
    "scaled_priced_block_df = pd.DataFrame(minmax_scale(bitcoin_prices_block[['Price','block_reward']]), # we need to scale the data first\n",
    "                                     columns=bitcoin_prices_block.columns,\n",
    "                                      index=bitcoin_prices_block.index)\n",
    "\n",
    "# plot\n",
    "scaled_priced_block_df.plot(figsize=(10,7))"
   ]
  },
  {
   "cell_type": "markdown",
   "id": "f3ff2566",
   "metadata": {},
   "source": [
    "When we scale the block reward and the Bitcoin price, we can see the price goes up as the block reward goes down, perhaps this information will be helpful to our model's performance.\n",
    "\n",
    "## Making a windowed dataset with pandas\n",
    "\n",
    "Previously, we used some custom made functions to window our **univariate** time series.\n",
    "\n",
    "However, since we've just added another variable to our dataset, these functions won't work.\n",
    "\n",
    "Not to worry though. Since our data is in a pandas DataFrame, we can leverage the [`pandas.DataFrame.shift()`](https://pandas.pydata.org/pandas-docs/stable/reference/api/pandas.DataFrame.shift.html) method to create a windowed **multivariate** time series.\n",
    "\n",
    "The `shift()` method offsets an index by a specified number of periods.\n",
    "\n",
    "Let's see it in action."
   ]
  },
  {
   "cell_type": "code",
   "execution_count": 223,
   "id": "e4a62436",
   "metadata": {},
   "outputs": [],
   "source": [
    "# Setup dataset hyperparameters\n",
    "HORIZON = 1\n",
    "WINDOW_SIZE = 7"
   ]
  },
  {
   "cell_type": "code",
   "execution_count": 226,
   "id": "87718df8",
   "metadata": {},
   "outputs": [
    {
     "data": {
      "text/html": [
       "<div>\n",
       "<style scoped>\n",
       "    .dataframe tbody tr th:only-of-type {\n",
       "        vertical-align: middle;\n",
       "    }\n",
       "\n",
       "    .dataframe tbody tr th {\n",
       "        vertical-align: top;\n",
       "    }\n",
       "\n",
       "    .dataframe thead th {\n",
       "        text-align: right;\n",
       "    }\n",
       "</style>\n",
       "<table border=\"1\" class=\"dataframe\">\n",
       "  <thead>\n",
       "    <tr style=\"text-align: right;\">\n",
       "      <th></th>\n",
       "      <th>Price</th>\n",
       "      <th>block_reward</th>\n",
       "      <th>Price+1</th>\n",
       "      <th>Price+2</th>\n",
       "      <th>Price+3</th>\n",
       "      <th>Price+4</th>\n",
       "      <th>Price+5</th>\n",
       "      <th>Price+6</th>\n",
       "      <th>Price+7</th>\n",
       "    </tr>\n",
       "    <tr>\n",
       "      <th>Date</th>\n",
       "      <th></th>\n",
       "      <th></th>\n",
       "      <th></th>\n",
       "      <th></th>\n",
       "      <th></th>\n",
       "      <th></th>\n",
       "      <th></th>\n",
       "      <th></th>\n",
       "      <th></th>\n",
       "    </tr>\n",
       "  </thead>\n",
       "  <tbody>\n",
       "    <tr>\n",
       "      <th>2013-10-01</th>\n",
       "      <td>123.65499</td>\n",
       "      <td>25</td>\n",
       "      <td>NaN</td>\n",
       "      <td>NaN</td>\n",
       "      <td>NaN</td>\n",
       "      <td>NaN</td>\n",
       "      <td>NaN</td>\n",
       "      <td>NaN</td>\n",
       "      <td>NaN</td>\n",
       "    </tr>\n",
       "    <tr>\n",
       "      <th>2013-10-02</th>\n",
       "      <td>125.45500</td>\n",
       "      <td>25</td>\n",
       "      <td>123.65499</td>\n",
       "      <td>NaN</td>\n",
       "      <td>NaN</td>\n",
       "      <td>NaN</td>\n",
       "      <td>NaN</td>\n",
       "      <td>NaN</td>\n",
       "      <td>NaN</td>\n",
       "    </tr>\n",
       "    <tr>\n",
       "      <th>2013-10-03</th>\n",
       "      <td>108.58483</td>\n",
       "      <td>25</td>\n",
       "      <td>125.45500</td>\n",
       "      <td>123.65499</td>\n",
       "      <td>NaN</td>\n",
       "      <td>NaN</td>\n",
       "      <td>NaN</td>\n",
       "      <td>NaN</td>\n",
       "      <td>NaN</td>\n",
       "    </tr>\n",
       "    <tr>\n",
       "      <th>2013-10-04</th>\n",
       "      <td>118.67466</td>\n",
       "      <td>25</td>\n",
       "      <td>108.58483</td>\n",
       "      <td>125.45500</td>\n",
       "      <td>123.65499</td>\n",
       "      <td>NaN</td>\n",
       "      <td>NaN</td>\n",
       "      <td>NaN</td>\n",
       "      <td>NaN</td>\n",
       "    </tr>\n",
       "    <tr>\n",
       "      <th>2013-10-05</th>\n",
       "      <td>121.33866</td>\n",
       "      <td>25</td>\n",
       "      <td>118.67466</td>\n",
       "      <td>108.58483</td>\n",
       "      <td>125.45500</td>\n",
       "      <td>123.65499</td>\n",
       "      <td>NaN</td>\n",
       "      <td>NaN</td>\n",
       "      <td>NaN</td>\n",
       "    </tr>\n",
       "    <tr>\n",
       "      <th>2013-10-06</th>\n",
       "      <td>120.65533</td>\n",
       "      <td>25</td>\n",
       "      <td>121.33866</td>\n",
       "      <td>118.67466</td>\n",
       "      <td>108.58483</td>\n",
       "      <td>125.45500</td>\n",
       "      <td>123.65499</td>\n",
       "      <td>NaN</td>\n",
       "      <td>NaN</td>\n",
       "    </tr>\n",
       "    <tr>\n",
       "      <th>2013-10-07</th>\n",
       "      <td>121.79500</td>\n",
       "      <td>25</td>\n",
       "      <td>120.65533</td>\n",
       "      <td>121.33866</td>\n",
       "      <td>118.67466</td>\n",
       "      <td>108.58483</td>\n",
       "      <td>125.45500</td>\n",
       "      <td>123.65499</td>\n",
       "      <td>NaN</td>\n",
       "    </tr>\n",
       "    <tr>\n",
       "      <th>2013-10-08</th>\n",
       "      <td>123.03300</td>\n",
       "      <td>25</td>\n",
       "      <td>121.79500</td>\n",
       "      <td>120.65533</td>\n",
       "      <td>121.33866</td>\n",
       "      <td>118.67466</td>\n",
       "      <td>108.58483</td>\n",
       "      <td>125.45500</td>\n",
       "      <td>123.65499</td>\n",
       "    </tr>\n",
       "    <tr>\n",
       "      <th>2013-10-09</th>\n",
       "      <td>124.04900</td>\n",
       "      <td>25</td>\n",
       "      <td>123.03300</td>\n",
       "      <td>121.79500</td>\n",
       "      <td>120.65533</td>\n",
       "      <td>121.33866</td>\n",
       "      <td>118.67466</td>\n",
       "      <td>108.58483</td>\n",
       "      <td>125.45500</td>\n",
       "    </tr>\n",
       "    <tr>\n",
       "      <th>2013-10-10</th>\n",
       "      <td>125.96116</td>\n",
       "      <td>25</td>\n",
       "      <td>124.04900</td>\n",
       "      <td>123.03300</td>\n",
       "      <td>121.79500</td>\n",
       "      <td>120.65533</td>\n",
       "      <td>121.33866</td>\n",
       "      <td>118.67466</td>\n",
       "      <td>108.58483</td>\n",
       "    </tr>\n",
       "  </tbody>\n",
       "</table>\n",
       "</div>"
      ],
      "text/plain": [
       "                Price block_reward    Price+1    Price+2    Price+3  \\\n",
       "Date                                                                  \n",
       "2013-10-01  123.65499           25        NaN        NaN        NaN   \n",
       "2013-10-02  125.45500           25  123.65499        NaN        NaN   \n",
       "2013-10-03  108.58483           25  125.45500  123.65499        NaN   \n",
       "2013-10-04  118.67466           25  108.58483  125.45500  123.65499   \n",
       "2013-10-05  121.33866           25  118.67466  108.58483  125.45500   \n",
       "2013-10-06  120.65533           25  121.33866  118.67466  108.58483   \n",
       "2013-10-07  121.79500           25  120.65533  121.33866  118.67466   \n",
       "2013-10-08  123.03300           25  121.79500  120.65533  121.33866   \n",
       "2013-10-09  124.04900           25  123.03300  121.79500  120.65533   \n",
       "2013-10-10  125.96116           25  124.04900  123.03300  121.79500   \n",
       "\n",
       "              Price+4    Price+5    Price+6    Price+7  \n",
       "Date                                                    \n",
       "2013-10-01        NaN        NaN        NaN        NaN  \n",
       "2013-10-02        NaN        NaN        NaN        NaN  \n",
       "2013-10-03        NaN        NaN        NaN        NaN  \n",
       "2013-10-04        NaN        NaN        NaN        NaN  \n",
       "2013-10-05  123.65499        NaN        NaN        NaN  \n",
       "2013-10-06  125.45500  123.65499        NaN        NaN  \n",
       "2013-10-07  108.58483  125.45500  123.65499        NaN  \n",
       "2013-10-08  118.67466  108.58483  125.45500  123.65499  \n",
       "2013-10-09  121.33866  118.67466  108.58483  125.45500  \n",
       "2013-10-10  120.65533  121.33866  118.67466  108.58483  "
      ]
     },
     "execution_count": 226,
     "metadata": {},
     "output_type": "execute_result"
    }
   ],
   "source": [
    "# Make a copy of the Bitcoin historical data with block reward feature\n",
    "bitcoin_prices_windowed = bitcoin_prices_block.copy()\n",
    "\n",
    "# Add windowed columns\n",
    "# Shift values for each step in WINDOW_SIZE\n",
    "for i in range(WINDOW_SIZE):\n",
    "    bitcoin_prices_windowed[f'Price+{i+1}'] = bitcoin_prices_windowed['Price'].shift(periods=i+1)\n",
    "\n",
    "bitcoin_prices_windowed.head(10)"
   ]
  },
  {
   "cell_type": "markdown",
   "id": "f1123edc",
   "metadata": {},
   "source": [
    "Now that we've got a windowed dataset, let's separate features (`X`) from labels (`y`).\n",
    "\n",
    "Remember in our windowed dataset, we're trying to use the previous `WINDOW_SIZE` steps to predict `HORIZON` steps.\n",
    "\n",
    "```\n",
    "Window for a week (7) to predict a horizon of 1 (multivariate time series)\n",
    "WINDOW_SIZE & block_reward -> HORIZON\n",
    "\n",
    "[0, 1, 2, 3, 4, 5, 6, block_reward] -> [7]\n",
    "[1, 2, 3, 4, 5, 6, 7, block_reward] -> [8]\n",
    "[2, 3, 4, 5, 6, 7, 8, block_reward] -> [9]\n",
    "```\n",
    "\n",
    "We'll also remove the `NaN` values using pandas [`dropna()`](https://pandas.pydata.org/pandas-docs/stable/reference/api/pandas.DataFrame.dropna.html) method, this equivalent to starting our windowing function at `sample 0 (the first sample) + WINDOW_SIZE`."
   ]
  },
  {
   "cell_type": "code",
   "execution_count": 250,
   "id": "e394385f",
   "metadata": {},
   "outputs": [
    {
     "data": {
      "text/html": [
       "<div>\n",
       "<style scoped>\n",
       "    .dataframe tbody tr th:only-of-type {\n",
       "        vertical-align: middle;\n",
       "    }\n",
       "\n",
       "    .dataframe tbody tr th {\n",
       "        vertical-align: top;\n",
       "    }\n",
       "\n",
       "    .dataframe thead th {\n",
       "        text-align: right;\n",
       "    }\n",
       "</style>\n",
       "<table border=\"1\" class=\"dataframe\">\n",
       "  <thead>\n",
       "    <tr style=\"text-align: right;\">\n",
       "      <th></th>\n",
       "      <th>block_reward</th>\n",
       "      <th>Price+1</th>\n",
       "      <th>Price+2</th>\n",
       "      <th>Price+3</th>\n",
       "      <th>Price+4</th>\n",
       "      <th>Price+5</th>\n",
       "      <th>Price+6</th>\n",
       "      <th>Price+7</th>\n",
       "    </tr>\n",
       "    <tr>\n",
       "      <th>Date</th>\n",
       "      <th></th>\n",
       "      <th></th>\n",
       "      <th></th>\n",
       "      <th></th>\n",
       "      <th></th>\n",
       "      <th></th>\n",
       "      <th></th>\n",
       "      <th></th>\n",
       "    </tr>\n",
       "  </thead>\n",
       "  <tbody>\n",
       "    <tr>\n",
       "      <th>2013-10-08</th>\n",
       "      <td>25.0</td>\n",
       "      <td>121.794998</td>\n",
       "      <td>120.655327</td>\n",
       "      <td>121.338661</td>\n",
       "      <td>118.674660</td>\n",
       "      <td>108.584831</td>\n",
       "      <td>125.455002</td>\n",
       "      <td>123.654991</td>\n",
       "    </tr>\n",
       "    <tr>\n",
       "      <th>2013-10-09</th>\n",
       "      <td>25.0</td>\n",
       "      <td>123.032997</td>\n",
       "      <td>121.794998</td>\n",
       "      <td>120.655327</td>\n",
       "      <td>121.338661</td>\n",
       "      <td>118.674660</td>\n",
       "      <td>108.584831</td>\n",
       "      <td>125.455002</td>\n",
       "    </tr>\n",
       "    <tr>\n",
       "      <th>2013-10-10</th>\n",
       "      <td>25.0</td>\n",
       "      <td>124.049004</td>\n",
       "      <td>123.032997</td>\n",
       "      <td>121.794998</td>\n",
       "      <td>120.655327</td>\n",
       "      <td>121.338661</td>\n",
       "      <td>118.674660</td>\n",
       "      <td>108.584831</td>\n",
       "    </tr>\n",
       "    <tr>\n",
       "      <th>2013-10-11</th>\n",
       "      <td>25.0</td>\n",
       "      <td>125.961159</td>\n",
       "      <td>124.049004</td>\n",
       "      <td>123.032997</td>\n",
       "      <td>121.794998</td>\n",
       "      <td>120.655327</td>\n",
       "      <td>121.338661</td>\n",
       "      <td>118.674660</td>\n",
       "    </tr>\n",
       "    <tr>\n",
       "      <th>2013-10-12</th>\n",
       "      <td>25.0</td>\n",
       "      <td>125.279663</td>\n",
       "      <td>125.961159</td>\n",
       "      <td>124.049004</td>\n",
       "      <td>123.032997</td>\n",
       "      <td>121.794998</td>\n",
       "      <td>120.655327</td>\n",
       "      <td>121.338661</td>\n",
       "    </tr>\n",
       "  </tbody>\n",
       "</table>\n",
       "</div>"
      ],
      "text/plain": [
       "            block_reward     Price+1     Price+2     Price+3     Price+4  \\\n",
       "Date                                                                       \n",
       "2013-10-08          25.0  121.794998  120.655327  121.338661  118.674660   \n",
       "2013-10-09          25.0  123.032997  121.794998  120.655327  121.338661   \n",
       "2013-10-10          25.0  124.049004  123.032997  121.794998  120.655327   \n",
       "2013-10-11          25.0  125.961159  124.049004  123.032997  121.794998   \n",
       "2013-10-12          25.0  125.279663  125.961159  124.049004  123.032997   \n",
       "\n",
       "               Price+5     Price+6     Price+7  \n",
       "Date                                            \n",
       "2013-10-08  108.584831  125.455002  123.654991  \n",
       "2013-10-09  118.674660  108.584831  125.455002  \n",
       "2013-10-10  121.338661  118.674660  108.584831  \n",
       "2013-10-11  120.655327  121.338661  118.674660  \n",
       "2013-10-12  121.794998  120.655327  121.338661  "
      ]
     },
     "execution_count": 250,
     "metadata": {},
     "output_type": "execute_result"
    }
   ],
   "source": [
    "# Let's create X & y, remove the NaN's and covert to float32 to prevent tensorflow errors\n",
    "X = bitcoin_prices_windowed.dropna().drop(\"Price\",axis=1).astype(np.float32)\n",
    "y = bitcoin_prices_windowed.dropna()[\"Price\"].astype(np.float32)\n",
    "X.head()"
   ]
  },
  {
   "cell_type": "code",
   "execution_count": 251,
   "id": "bc5a5de7",
   "metadata": {},
   "outputs": [
    {
     "data": {
      "text/plain": [
       "Date\n",
       "2013-10-08    123.032997\n",
       "2013-10-09    124.049004\n",
       "2013-10-10    125.961159\n",
       "2013-10-11    125.279663\n",
       "2013-10-12    125.927498\n",
       "Name: Price, dtype: float32"
      ]
     },
     "execution_count": 251,
     "metadata": {},
     "output_type": "execute_result"
    }
   ],
   "source": [
    "# View labels\n",
    "y.head()"
   ]
  },
  {
   "cell_type": "markdown",
   "id": "240b461f",
   "metadata": {},
   "source": [
    "What a good looking dataset, let's split it into train and test sets using an 80/20 split just as we've done before."
   ]
  },
  {
   "cell_type": "code",
   "execution_count": 252,
   "id": "5b413178",
   "metadata": {},
   "outputs": [
    {
     "name": "stdout",
     "output_type": "stream",
     "text": [
      "X_train  (2224, 8)\n",
      "X_test  (556, 8)\n",
      "y_train  (2224,)\n",
      "y_test  (556,)\n"
     ]
    }
   ],
   "source": [
    "# Make train and test sets\n",
    "split_size = int(len(X)*0.8)\n",
    "X_train,y_train = X[:split_size],y[:split_size]\n",
    "X_test,y_test = X[split_size:],y[split_size:]\n",
    "print(f'X_train ',X_train.shape)\n",
    "print(f'X_test ',X_test.shape)\n",
    "print(f'y_train ',y_train.shape)\n",
    "print(f'y_test ',y_test.shape)"
   ]
  },
  {
   "cell_type": "markdown",
   "id": "04b516ce",
   "metadata": {},
   "source": [
    "## Model 6: Dense (multivariate time series)\n",
    "\n",
    "To keep things simple, let's the `model_1` architecture and use it to train and make predictions on our multivariate time series data.\n",
    "\n",
    "By replicating the `model_1` architecture we'll be able to see whether or not adding the block reward feature improves or detracts from model performance."
   ]
  },
  {
   "cell_type": "code",
   "execution_count": 253,
   "id": "4f7d694f",
   "metadata": {},
   "outputs": [
    {
     "name": "stdout",
     "output_type": "stream",
     "text": [
      "INFO:tensorflow:Assets written to: model_exp\\model_6_dense_multivariate\\assets\n",
      "INFO:tensorflow:Assets written to: model_exp\\model_6_dense_multivariate\\assets\n",
      "INFO:tensorflow:Assets written to: model_exp\\model_6_dense_multivariate\\assets\n",
      "INFO:tensorflow:Assets written to: model_exp\\model_6_dense_multivariate\\assets\n",
      "INFO:tensorflow:Assets written to: model_exp\\model_6_dense_multivariate\\assets\n",
      "INFO:tensorflow:Assets written to: model_exp\\model_6_dense_multivariate\\assets\n",
      "INFO:tensorflow:Assets written to: model_exp\\model_6_dense_multivariate\\assets\n",
      "INFO:tensorflow:Assets written to: model_exp\\model_6_dense_multivariate\\assets\n",
      "INFO:tensorflow:Assets written to: model_exp\\model_6_dense_multivariate\\assets\n",
      "INFO:tensorflow:Assets written to: model_exp\\model_6_dense_multivariate\\assets\n",
      "INFO:tensorflow:Assets written to: model_exp\\model_6_dense_multivariate\\assets\n",
      "INFO:tensorflow:Assets written to: model_exp\\model_6_dense_multivariate\\assets\n",
      "INFO:tensorflow:Assets written to: model_exp\\model_6_dense_multivariate\\assets\n",
      "INFO:tensorflow:Assets written to: model_exp\\model_6_dense_multivariate\\assets\n",
      "INFO:tensorflow:Assets written to: model_exp\\model_6_dense_multivariate\\assets\n",
      "INFO:tensorflow:Assets written to: model_exp\\model_6_dense_multivariate\\assets\n",
      "INFO:tensorflow:Assets written to: model_exp\\model_6_dense_multivariate\\assets\n",
      "INFO:tensorflow:Assets written to: model_exp\\model_6_dense_multivariate\\assets\n",
      "INFO:tensorflow:Assets written to: model_exp\\model_6_dense_multivariate\\assets\n",
      "INFO:tensorflow:Assets written to: model_exp\\model_6_dense_multivariate\\assets\n",
      "INFO:tensorflow:Assets written to: model_exp\\model_6_dense_multivariate\\assets\n",
      "INFO:tensorflow:Assets written to: model_exp\\model_6_dense_multivariate\\assets\n",
      "INFO:tensorflow:Assets written to: model_exp\\model_6_dense_multivariate\\assets\n",
      "INFO:tensorflow:Assets written to: model_exp\\model_6_dense_multivariate\\assets\n",
      "INFO:tensorflow:Assets written to: model_exp\\model_6_dense_multivariate\\assets\n",
      "INFO:tensorflow:Assets written to: model_exp\\model_6_dense_multivariate\\assets\n",
      "INFO:tensorflow:Assets written to: model_exp\\model_6_dense_multivariate\\assets\n",
      "INFO:tensorflow:Assets written to: model_exp\\model_6_dense_multivariate\\assets\n",
      "INFO:tensorflow:Assets written to: model_exp\\model_6_dense_multivariate\\assets\n",
      "INFO:tensorflow:Assets written to: model_exp\\model_6_dense_multivariate\\assets\n",
      "INFO:tensorflow:Assets written to: model_exp\\model_6_dense_multivariate\\assets\n",
      "INFO:tensorflow:Assets written to: model_exp\\model_6_dense_multivariate\\assets\n",
      "INFO:tensorflow:Assets written to: model_exp\\model_6_dense_multivariate\\assets\n",
      "INFO:tensorflow:Assets written to: model_exp\\model_6_dense_multivariate\\assets\n",
      "INFO:tensorflow:Assets written to: model_exp\\model_6_dense_multivariate\\assets\n",
      "INFO:tensorflow:Assets written to: model_exp\\model_6_dense_multivariate\\assets\n",
      "INFO:tensorflow:Assets written to: model_exp\\model_6_dense_multivariate\\assets\n",
      "INFO:tensorflow:Assets written to: model_exp\\model_6_dense_multivariate\\assets\n",
      "INFO:tensorflow:Assets written to: model_exp\\model_6_dense_multivariate\\assets\n",
      "INFO:tensorflow:Assets written to: model_exp\\model_6_dense_multivariate\\assets\n",
      "INFO:tensorflow:Assets written to: model_exp\\model_6_dense_multivariate\\assets\n",
      "INFO:tensorflow:Assets written to: model_exp\\model_6_dense_multivariate\\assets\n",
      "Model: \"model_6_dense_multivariate\"\n",
      "_________________________________________________________________\n",
      "Layer (type)                 Output Shape              Param #   \n",
      "=================================================================\n",
      "dense_30 (Dense)             (None, 128)               1152      \n",
      "_________________________________________________________________\n",
      "dense_31 (Dense)             (None, 1)                 129       \n",
      "=================================================================\n",
      "Total params: 1,281\n",
      "Trainable params: 1,281\n",
      "Non-trainable params: 0\n",
      "_________________________________________________________________\n"
     ]
    }
   ],
   "source": [
    "tf.random.set_seed(42)\n",
    "\n",
    "# Make multivariate time\n",
    "model_6 = tf.keras.Sequential([\n",
    "    layers.Dense(128,activation='relu'),\n",
    "    layers.Dense(HORIZON)],name='model_6_dense_multivariate')\n",
    "\n",
    "# compile\n",
    "model_6.compile(loss='mae',optimizer=tf.keras.optimizers.Adam())\n",
    "\n",
    "# fit\n",
    "history_6= model_6.fit(X_train,y_train,\n",
    "           epochs=100,\n",
    "           batch_size=128,\n",
    "           verbose=0,\n",
    "           validation_data=(X_test, y_test),\n",
    "            callbacks=[create_model_checkpoint(model_name=model_6.name)])\n",
    "\n",
    "model_6.summary()"
   ]
  },
  {
   "cell_type": "code",
   "execution_count": 255,
   "id": "cd4e723c",
   "metadata": {},
   "outputs": [
    {
     "data": {
      "text/plain": [
       "[<matplotlib.lines.Line2D at 0x3b514d90>]"
      ]
     },
     "execution_count": 255,
     "metadata": {},
     "output_type": "execute_result"
    },
    {
     "data": {
      "image/png": "[encoded data removed]",
      "text/plain": [
       "<Figure size 432x288 with 1 Axes>"
      ]
     },
     "metadata": {
      "needs_background": "light"
     },
     "output_type": "display_data"
    }
   ],
   "source": [
    "plt.plot(np.array(history_6.history['loss']))"
   ]
  },
  {
   "cell_type": "markdown",
   "id": "14637efd",
   "metadata": {},
   "source": [
    "Multivariate model fit!\n",
    "\n",
    "You might've noticed that the model inferred the input shape of our data automatically (the data now has an extra feature). Often this will be the case, however, if you're running into shape issues, you can always explicitly define the input shape using `input_shape` parameter of the first layer in a model.\n",
    "\n",
    "Time to evaluate our multivariate model."
   ]
  },
  {
   "cell_type": "code",
   "execution_count": 256,
   "id": "7833defa",
   "metadata": {},
   "outputs": [
    {
     "name": "stdout",
     "output_type": "stream",
     "text": [
      "18/18 [==============================] - 0s 2ms/step - loss: 568.4507\n"
     ]
    },
    {
     "data": {
      "text/plain": [
       "568.4507446289062"
      ]
     },
     "execution_count": 256,
     "metadata": {},
     "output_type": "execute_result"
    }
   ],
   "source": [
    "# Make sure best model is loaded and evaluate\n",
    "model_6 = tf.keras.models.load_model('model_exp/model_6_dense_multivariate')\n",
    "model_6.evaluate(X_test,y_test)"
   ]
  },
  {
   "cell_type": "code",
   "execution_count": 257,
   "id": "746269a7",
   "metadata": {},
   "outputs": [
    {
     "data": {
      "text/plain": [
       "<tf.Tensor: shape=(10,), dtype=float32, numpy=\n",
       "array([8854.942, 8783.565, 9061.757, 8759.421, 8737.176, 8784.184,\n",
       "       8680.546, 8514.702, 8481.645, 8540.754], dtype=float32)>"
      ]
     },
     "execution_count": 257,
     "metadata": {},
     "output_type": "execute_result"
    }
   ],
   "source": [
    "# Make predictions on multivariate data\n",
    "model_6_preds = tf.squeeze(model_6.predict(X_test))\n",
    "model_6_preds[:10]"
   ]
  },
  {
   "cell_type": "code",
   "execution_count": 258,
   "id": "ef24ad93",
   "metadata": {},
   "outputs": [
    {
     "data": {
      "text/plain": [
       "Date\n",
       "2019-11-10     8798.041992\n",
       "2019-11-11     9081.186523\n",
       "2019-11-12     8711.534180\n",
       "2019-11-13     8760.892578\n",
       "2019-11-14     8749.520508\n",
       "                  ...     \n",
       "2021-05-14    49764.132812\n",
       "2021-05-15    50032.691406\n",
       "2021-05-16    47885.625000\n",
       "2021-05-17    45604.617188\n",
       "2021-05-18    43144.472656\n",
       "Name: Price, Length: 556, dtype: float32"
      ]
     },
     "execution_count": 258,
     "metadata": {},
     "output_type": "execute_result"
    }
   ],
   "source": [
    "y_test"
   ]
  },
  {
   "cell_type": "code",
   "execution_count": 259,
   "id": "0f8f0fa4",
   "metadata": {},
   "outputs": [
    {
     "data": {
      "text/plain": [
       "{'mae': 568.45074,\n",
       " 'mse': 1166161.5,\n",
       " 'rmse': 1079.8895,\n",
       " 'mape': 2.5497832,\n",
       " 'mase': 0.9986105}"
      ]
     },
     "execution_count": 259,
     "metadata": {},
     "output_type": "execute_result"
    }
   ],
   "source": [
    "# Evaluate preds\n",
    "model_6_results = evaluate_preds(y_true=y_test,\n",
    "                                y_pred=model_6_preds)\n",
    "\n",
    "model_6_results"
   ]
  },
  {
   "cell_type": "markdown",
   "id": "ffaf20af",
   "metadata": {},
   "source": [
    "It looks like the adding in the block reward may have helped our model slightly.\n",
    "\n",
    "But there a few more things we could try.\n",
    "\n",
    "> 📖 **Resource:** For different ideas on how to improve a neural network model (from a model perspective), refer to the [*Improving a model*](https://dev.mrdbourke.com/tensorflow-deep-learning/02_neural_network_classification_in_tensorflow/#improving-a-model) section in notebook 02.\n",
    "\n",
    "\n",
    "> 🛠 **Exercise(s):** \n",
    "> 1. Try adding an extra `tf.keras.layers.Dense()` layer with 128 hidden units to `model_6`, how does this effect model performance?\n",
    "> 2. Is there a better way to create this model? As in, should the `block_reward` feature be bundled in with the Bitcoin historical price feature? Perhaps you could test whether building a multi-input model (e.g. one model input for Bitcoin price history and one model input for `block_reward`)  works better? See [*Model 4: Hybrid embedding*](https://dev.mrdbourke.com/tensorflow-deep-learning/09_SkimLit_nlp_milestone_project_2/#model-4-combining-pretrained-token-embeddings-character-embeddings-hybrid-embedding-layer) section of notebook 09 for an idea on how to create a multi-input model."
   ]
  },
  {
   "cell_type": "markdown",
   "id": "4105c6c5",
   "metadata": {},
   "source": [
    "## Model 7: N-BEATS algorithm\n",
    "\n",
    "Time to step things up a notch.\n",
    "\n",
    "So far we've tried a bunch of smaller models, models with only a couple of layers.\n",
    "\n",
    "But one of the best ways to improve a model's performance is to increase the number of layers in it.\n",
    "\n",
    "That's exactly what the [N-BEATS (Neural Basis Expansion Analysis for Interpretable Time Series Forecasting) algorithm](https://arxiv.org/pdf/1905.10437.pdf) does.\n",
    "\n",
    "The N-BEATS algorithm focuses on univariate time series problems and achieved state-of-the-art performance in the winner of the [M4 competition](https://www.sciencedirect.com/science/article/pii/S0169207019301128) (a forecasting competition).\n",
    "\n",
    "For our next modelling experiment we're going to be replicating the **generic architecture** of the N-BEATS algorithm (see [section 3.3 of the N-BEATS paper](https://arxiv.org/pdf/1905.10437.pdf)).\n",
    "\n",
    "We're not going to go through all of the details in the paper, instead we're going to focus on:\n",
    "1. Replicating the model architecture in [Figure 1 of the N-BEATS paper](https://arxiv.org/pdf/1905.10437.pdf) \n",
    "\n",
    "![figure 1 from N-BBEATS paper, the algorithm we're going to build](https://raw.githubusercontent.com/mrdbourke/tensorflow-deep-learning/main/images/10-figure-1-nbeats-paper-annotated.png)\n",
    "*N-BEATS algorithm we're going to replicate with TensorFlow with window (input) and horizon (output) annotations.*\n",
    "\n",
    "2. Using the same hyperparameters as the paper which can be found in [Appendix D of the N-BEATS paper](https://arxiv.org/pdf/1905.10437.pdf)\n",
    "\n",
    "Doing this will give us an opportunity to practice:\n",
    "* Creating a custom layer for the `NBeatsBlock` by subclassing [`tf.keras.layers.Layer`](https://www.tensorflow.org/api_docs/python/tf/keras/layers/Layer)\n",
    "  * Creating a custom layer is helpful for when TensorFlow doesn't already have an existing implementation of a layer or if you'd like to make a layer configuration repeat a number of times (e.g. like a stack of N-BEATS blocks)\n",
    "* Implementing a custom architecture using the Functional API \n",
    "* Finding a paper related to our problem and seeing how it goes \n",
    "\n",
    "> 🔑 **Note:** As you'll see in the paper, the authors state “N-BEATS is implemented and trained in TensorFlow”, that's what we'll be doing too!\n",
    "\n",
    "### Building and testing an N-BEATS block layer\n",
    "\n",
    "Let's start by building an N-BEATS block layer, we'll write the code first and then discuss what's going on."
   ]
  },
  {
   "cell_type": "code",
   "execution_count": 262,
   "id": "5f487933",
   "metadata": {},
   "outputs": [],
   "source": [
    "# Create NBeatBlock custom layer\n",
    "class NBeatBlock(tf.keras.layers.Layer):\n",
    "    def __init__(self, # the constructor takes all the hyperparameters for the layer\n",
    "                 input_size: int,\n",
    "                 theta_size: int,\n",
    "                 horizon: int,\n",
    "                 n_neurons: int,\n",
    "                 n_layers:int,\n",
    "                 **kwargs # the **kwargs argument takes care of all of the arguments for the parent class (input_shape, trainable, name)\n",
    "                ):\n",
    "        super().__init__(**kwargs)\n",
    "        self.input_size = input_size\n",
    "        self.theta_dize = theta_size\n",
    "        self.horizon = horizon\n",
    "        self.n_neurons = n_neurons\n",
    "        self.n_layers = n_layers\n",
    "        \n",
    "        # block contains stack of 4 fully conntected layers each has relu activation\n",
    "        self.hidden = [tf.keras.layers.Dense(n_neurons,activation='relu') for _ in range(n_layers)]\n",
    "        # output of block is theta layer with linear activation\n",
    "        self.theta_layer = tf.keras.layers.Dense(theta_size,activation='linear',name='theta')\n",
    "    \n",
    "    def call(self,inputs): # the call method is what runs when the layer is called\n",
    "        x = inputs\n",
    "        for layer in self.hidden: # pass inputs through each hidden layer\n",
    "            x = layer(x)\n",
    "        theta = self.theta_layer(x)\n",
    "        # output the backcast and forecast from theta\n",
    "        backcast,forecast = theta[:,:self.input_size],theta[:,-self.horizon:]\n",
    "        return backcast,forecast"
   ]
  },
  {
   "cell_type": "markdown",
   "id": "fef7317f",
   "metadata": {},
   "source": [
    "Setting up the `NBeatsBlock` custom layer we see: \n",
    "* The class inherits from `tf.keras.layers.Layer` (this gives it all of the methods assosciated with `tf.keras.layers.Layer`)\n",
    "* The constructor (`def __init__(...)`) takes all of the layer hyperparameters as well as the `**kwargs` argument\n",
    "  * The `**kwargs` argument takes care of all of the hyperparameters which aren't mentioned in the constructor such as, `input_shape`, `trainable` and `name`\n",
    "* In the constructor, the block architecture layers are created:\n",
    "  * The hidden layers are created as a stack of fully connected with `n_nuerons` hidden units layers with ReLU activation\n",
    "  * The theta layer uses `theta_size` hidden units as well as linear activation\n",
    "* The `call()` method is what is run when the layer is called:\n",
    "  * It first passes the inputs (the historical Bitcoin data) through each of the hidden layers (a stack of fully connected layers with ReLU activation)\n",
    "  * After the inputs have been through each of the fully connected layers, they get passed through the theta layer where the backcast (backwards predictions, shape: `input_size`) and forecast (forward predictions, shape: `horizon`) are returned\n",
    "\n",
    "![code mapping to image of N-BEATS basic block](https://raw.githubusercontent.com/mrdbourke/tensorflow-deep-learning/main/images/10-nbeats-basic-block-replication-with-tensorflow-layer-subclassing.png)\n",
    "*Using TensorFlow layer subclassing to replicate the N-BEATS basic block. See section 3.1 of N-BEATS paper for details.*\n",
    "\n",
    "Let's see our block replica in action by together by creating a toy version of `NBeatsBlock`.\n",
    "\n",
    "> 📖  **Resource:** Much of the creation of the time series materials (the ones you're going through now), including replicating the N-BEATS algorithm were streamed live on Twitch. If you'd like to see replays of how the algorithm was replicated, check out the [*Time series research and TensorFlow course material creation playlist*](https://youtube.com/playlist?list=PL8IpyNZ21vUSCM7nRAuS-hW_E-sgwdmaI) on the Daniel Bourke arXiv YouTube channel."
   ]
  },
  {
   "cell_type": "code",
   "execution_count": 263,
   "id": "b39d210c",
   "metadata": {},
   "outputs": [],
   "source": [
    "# Set up dummy NBeatBlock layer to represent inputs and outputs\n",
    "dummy_nbeats_block_layer = NBeatBlock(input_size=WINDOW_SIZE,\n",
    "                                     theta_size=WINDOW_SIZE+HORIZON, # backcast + forecast\n",
    "                                     horizon=HORIZON,\n",
    "                                      n_neurons = 128,\n",
    "                                      n_layers=4\n",
    "                                     )"
   ]
  },
  {
   "cell_type": "code",
   "execution_count": 264,
   "id": "e8c82f54",
   "metadata": {},
   "outputs": [
    {
     "data": {
      "text/plain": [
       "<tf.Tensor: shape=(1, 7), dtype=int32, numpy=array([[1, 2, 3, 4, 5, 6, 7]])>"
      ]
     },
     "execution_count": 264,
     "metadata": {},
     "output_type": "execute_result"
    }
   ],
   "source": [
    "# Create dummy inputs (have to be same size input size)\n",
    "dummy_inputs = tf.expand_dims(tf.range(WINDOW_SIZE)+1,axis=0) # input shape to the model has to reflect Dense layer input requirements (ndim=2)\n",
    "dummy_inputs"
   ]
  },
  {
   "cell_type": "code",
   "execution_count": 265,
   "id": "3d77ad07",
   "metadata": {},
   "outputs": [
    {
     "name": "stdout",
     "output_type": "stream",
     "text": [
      "Backcast: [ 0.19014972  0.8379835  -0.32870024  0.2515991  -0.47540277 -0.7783665\n",
      " -0.52994466]\n",
      "Forecast: -0.7554213404655457\n"
     ]
    }
   ],
   "source": [
    "# Pass dummy inputs to dummy NBeatBlock layer\n",
    "backcast,forecast = dummy_nbeats_block_layer(dummy_inputs)\n",
    "# These are the activation outputs of the theta layer (they will be random due to no training of the model)\n",
    "print(f'Backcast: {tf.squeeze(backcast.numpy())}')\n",
    "print(f'Forecast: {tf.squeeze(forecast.numpy())}')"
   ]
  },
  {
   "cell_type": "markdown",
   "id": "75d76bdf",
   "metadata": {},
   "source": [
    "### Preparing data for the N-BEATS algorithm using `tf.data`\n",
    "\n",
    "We've got the basic building block for the N-BEATS architecture ready to go.\n",
    "\n",
    "But before we use it to replicate the entire N-BEATS generic architecture, let's create some data.\n",
    "\n",
    "This time, because we're going to be using a larger model architecture, to ensure our model training runs as fast as possible, we'll setup our datasets using the `tf.data` API.\n",
    "\n",
    "And because the N-BEATS algorithm is focused on univariate time series, we'll start by making training and test windowed datasets of Bitcoin prices (just as we've done above).\n"
   ]
  },
  {
   "cell_type": "code",
   "execution_count": 266,
   "id": "c3644e3c",
   "metadata": {},
   "outputs": [
    {
     "data": {
      "text/html": [
       "<div>\n",
       "<style scoped>\n",
       "    .dataframe tbody tr th:only-of-type {\n",
       "        vertical-align: middle;\n",
       "    }\n",
       "\n",
       "    .dataframe tbody tr th {\n",
       "        vertical-align: top;\n",
       "    }\n",
       "\n",
       "    .dataframe thead th {\n",
       "        text-align: right;\n",
       "    }\n",
       "</style>\n",
       "<table border=\"1\" class=\"dataframe\">\n",
       "  <thead>\n",
       "    <tr style=\"text-align: right;\">\n",
       "      <th></th>\n",
       "      <th>Price</th>\n",
       "    </tr>\n",
       "    <tr>\n",
       "      <th>Date</th>\n",
       "      <th></th>\n",
       "    </tr>\n",
       "  </thead>\n",
       "  <tbody>\n",
       "    <tr>\n",
       "      <th>2013-10-01</th>\n",
       "      <td>123.65499</td>\n",
       "    </tr>\n",
       "    <tr>\n",
       "      <th>2013-10-02</th>\n",
       "      <td>125.45500</td>\n",
       "    </tr>\n",
       "    <tr>\n",
       "      <th>2013-10-03</th>\n",
       "      <td>108.58483</td>\n",
       "    </tr>\n",
       "    <tr>\n",
       "      <th>2013-10-04</th>\n",
       "      <td>118.67466</td>\n",
       "    </tr>\n",
       "    <tr>\n",
       "      <th>2013-10-05</th>\n",
       "      <td>121.33866</td>\n",
       "    </tr>\n",
       "  </tbody>\n",
       "</table>\n",
       "</div>"
      ],
      "text/plain": [
       "                Price\n",
       "Date                 \n",
       "2013-10-01  123.65499\n",
       "2013-10-02  125.45500\n",
       "2013-10-03  108.58483\n",
       "2013-10-04  118.67466\n",
       "2013-10-05  121.33866"
      ]
     },
     "execution_count": 266,
     "metadata": {},
     "output_type": "execute_result"
    }
   ],
   "source": [
    "HORIZON = 1 # how far to predict forward\n",
    "WINDOW_SIZE = 7 # how far to lookback\n",
    "\n",
    "# Create NBEATS data inputs (NBEATS works with univariate time series)\n",
    "bitcoin_prices.head()"
   ]
  },
  {
   "cell_type": "code",
   "execution_count": 268,
   "id": "f348f575",
   "metadata": {},
   "outputs": [
    {
     "data": {
      "text/html": [
       "<div>\n",
       "<style scoped>\n",
       "    .dataframe tbody tr th:only-of-type {\n",
       "        vertical-align: middle;\n",
       "    }\n",
       "\n",
       "    .dataframe tbody tr th {\n",
       "        vertical-align: top;\n",
       "    }\n",
       "\n",
       "    .dataframe thead th {\n",
       "        text-align: right;\n",
       "    }\n",
       "</style>\n",
       "<table border=\"1\" class=\"dataframe\">\n",
       "  <thead>\n",
       "    <tr style=\"text-align: right;\">\n",
       "      <th></th>\n",
       "      <th>Price</th>\n",
       "      <th>Price+1</th>\n",
       "      <th>Price+2</th>\n",
       "      <th>Price+3</th>\n",
       "      <th>Price+4</th>\n",
       "      <th>Price+5</th>\n",
       "      <th>Price+6</th>\n",
       "      <th>Price+7</th>\n",
       "    </tr>\n",
       "    <tr>\n",
       "      <th>Date</th>\n",
       "      <th></th>\n",
       "      <th></th>\n",
       "      <th></th>\n",
       "      <th></th>\n",
       "      <th></th>\n",
       "      <th></th>\n",
       "      <th></th>\n",
       "      <th></th>\n",
       "    </tr>\n",
       "  </thead>\n",
       "  <tbody>\n",
       "    <tr>\n",
       "      <th>2013-10-08</th>\n",
       "      <td>123.03300</td>\n",
       "      <td>121.79500</td>\n",
       "      <td>120.65533</td>\n",
       "      <td>121.33866</td>\n",
       "      <td>118.67466</td>\n",
       "      <td>108.58483</td>\n",
       "      <td>125.45500</td>\n",
       "      <td>123.65499</td>\n",
       "    </tr>\n",
       "    <tr>\n",
       "      <th>2013-10-09</th>\n",
       "      <td>124.04900</td>\n",
       "      <td>123.03300</td>\n",
       "      <td>121.79500</td>\n",
       "      <td>120.65533</td>\n",
       "      <td>121.33866</td>\n",
       "      <td>118.67466</td>\n",
       "      <td>108.58483</td>\n",
       "      <td>125.45500</td>\n",
       "    </tr>\n",
       "    <tr>\n",
       "      <th>2013-10-10</th>\n",
       "      <td>125.96116</td>\n",
       "      <td>124.04900</td>\n",
       "      <td>123.03300</td>\n",
       "      <td>121.79500</td>\n",
       "      <td>120.65533</td>\n",
       "      <td>121.33866</td>\n",
       "      <td>118.67466</td>\n",
       "      <td>108.58483</td>\n",
       "    </tr>\n",
       "    <tr>\n",
       "      <th>2013-10-11</th>\n",
       "      <td>125.27966</td>\n",
       "      <td>125.96116</td>\n",
       "      <td>124.04900</td>\n",
       "      <td>123.03300</td>\n",
       "      <td>121.79500</td>\n",
       "      <td>120.65533</td>\n",
       "      <td>121.33866</td>\n",
       "      <td>118.67466</td>\n",
       "    </tr>\n",
       "    <tr>\n",
       "      <th>2013-10-12</th>\n",
       "      <td>125.92750</td>\n",
       "      <td>125.27966</td>\n",
       "      <td>125.96116</td>\n",
       "      <td>124.04900</td>\n",
       "      <td>123.03300</td>\n",
       "      <td>121.79500</td>\n",
       "      <td>120.65533</td>\n",
       "      <td>121.33866</td>\n",
       "    </tr>\n",
       "  </tbody>\n",
       "</table>\n",
       "</div>"
      ],
      "text/plain": [
       "                Price    Price+1    Price+2    Price+3    Price+4    Price+5  \\\n",
       "Date                                                                           \n",
       "2013-10-08  123.03300  121.79500  120.65533  121.33866  118.67466  108.58483   \n",
       "2013-10-09  124.04900  123.03300  121.79500  120.65533  121.33866  118.67466   \n",
       "2013-10-10  125.96116  124.04900  123.03300  121.79500  120.65533  121.33866   \n",
       "2013-10-11  125.27966  125.96116  124.04900  123.03300  121.79500  120.65533   \n",
       "2013-10-12  125.92750  125.27966  125.96116  124.04900  123.03300  121.79500   \n",
       "\n",
       "              Price+6    Price+7  \n",
       "Date                              \n",
       "2013-10-08  125.45500  123.65499  \n",
       "2013-10-09  108.58483  125.45500  \n",
       "2013-10-10  118.67466  108.58483  \n",
       "2013-10-11  121.33866  118.67466  \n",
       "2013-10-12  120.65533  121.33866  "
      ]
     },
     "execution_count": 268,
     "metadata": {},
     "output_type": "execute_result"
    }
   ],
   "source": [
    "# Add windowed columns\n",
    "bitcoin_prices_nbeats = bitcoin_prices.copy()\n",
    "for i in range(WINDOW_SIZE):\n",
    "    bitcoin_prices_nbeats[f\"Price+{i+1}\"] = bitcoin_prices_nbeats[\"Price\"].shift(periods=i+1)\n",
    "bitcoin_prices_nbeats.dropna().head()"
   ]
  },
  {
   "cell_type": "code",
   "execution_count": 269,
   "id": "b99f2617",
   "metadata": {},
   "outputs": [
    {
     "data": {
      "text/plain": [
       "(2224, 2224, 556, 556)"
      ]
     },
     "execution_count": 269,
     "metadata": {},
     "output_type": "execute_result"
    }
   ],
   "source": [
    "# Make features and labels\n",
    "X = bitcoin_prices_nbeats.dropna().drop(\"Price\", axis=1)\n",
    "y = bitcoin_prices_nbeats.dropna()[\"Price\"]\n",
    "\n",
    "# Make train and test sets\n",
    "split_size = int(len(X) * 0.8)\n",
    "X_train, y_train = X[:split_size], y[:split_size]\n",
    "X_test, y_test = X[split_size:], y[split_size:]\n",
    "len(X_train), len(y_train), len(X_test), len(y_test)"
   ]
  },
  {
   "cell_type": "markdown",
   "id": "5d664d51",
   "metadata": {},
   "source": [
    "Train and test sets ready to go!\n",
    "\n",
    "Now let's convert them into TensorFlow `tf.data.Dataset`'s to ensure they run as fast as possible whilst training.\n",
    "\n",
    "We'll do this by:\n",
    "1. Turning the arrays in tensor Datasets using [`tf.data.Dataset.from_tensor_slices()`](https://www.tensorflow.org/api_docs/python/tf/data/Dataset#from_tensor_slices)\n",
    "  * Note: `from_tensor_slices()` works best when your data fits in memory, for extremely large datasets, you'll want to look into using the [`TFRecord` format](https://www.tensorflow.org/tutorials/load_data/tfrecord)\n",
    "2. Combine the labels and features tensors into a Dataset using [`tf.data.Dataset.zip()`](https://www.tensorflow.org/api_docs/python/tf/data/Dataset#zip)\n",
    "3. Batch and prefetch the Datasets using [`batch()`](https://www.tensorflow.org/api_docs/python/tf/data/Dataset#batch) and [`prefetch()`](https://www.tensorflow.org/api_docs/python/tf/data/Dataset#prefetch)\n",
    "  * Batching and prefetching ensures the loading time from CPU (preparing data) to GPU (computing on data) is as small as possible \n",
    "\n",
    "> 📖 **Resource:** For more on building highly performant TensorFlow data pipelines, I'd recommend reading through the [*Better performance with the tf.data API*](https://www.tensorflow.org/guide/data_performance) guide."
   ]
  },
  {
   "cell_type": "code",
   "execution_count": 274,
   "id": "0704c236",
   "metadata": {},
   "outputs": [
    {
     "data": {
      "text/plain": [
       "(<PrefetchDataset shapes: ((None, 7), (None,)), types: (tf.float64, tf.float64)>,\n",
       " <PrefetchDataset shapes: ((None, 7), (None,)), types: (tf.float64, tf.float64)>)"
      ]
     },
     "execution_count": 274,
     "metadata": {},
     "output_type": "execute_result"
    }
   ],
   "source": [
    "# 1 Turn train and test array into tensor Datasets\n",
    "train_features_dataset = tf.data.Dataset.from_tensor_slices(X_train)\n",
    "train_labels_dataset = tf.data.Dataset.from_tensor_slices(y_train)\n",
    "test_features_dataset = tf.data.Dataset.from_tensor_slices(X_test)\n",
    "test_labels_dataset = tf.data.Dataset.from_tensor_slices(y_test)\n",
    "\n",
    "# 2 Combine features & labels\n",
    "train_dataset = tf.data.Dataset.zip((train_features_dataset,train_labels_dataset))\n",
    "test_dataset = tf.data.Dataset.zip((test_features_dataset,test_labels_dataset))\n",
    "\n",
    "# 3 Batch and prefetch for optimal performance\n",
    "BATCH_SIZE = 1024 # taken from Appendiz D in N-BEATs paper\n",
    "train_dataset = train_dataset.batch(BATCH_SIZE).prefetch(tf.data.AUTOTUNE)\n",
    "test_dataset = test_dataset.batch(BATCH_SIZE).prefetch(tf.data.AUTOTUNE)\n",
    "\n",
    "train_dataset, test_dataset"
   ]
  },
  {
   "cell_type": "markdown",
   "id": "ca23fa0b",
   "metadata": {},
   "source": [
    "Data prepared! Notice the input shape for the features `(None, 7)`, the `None` leaves space for the batch size where as the `7` represents the `WINDOW_SIZE`.\n",
    "\n",
    "Time to get create the N-BEATS architecture. "
   ]
  },
  {
   "cell_type": "markdown",
   "id": "c27d97a2",
   "metadata": {},
   "source": [
    "### Setting up hyperparameters for N-BEATS algorithm\n",
    "\n",
    "Ho ho, would you look at that! Datasets ready, model building block ready, what'd you say we put things together?\n",
    "\n",
    "Good idea.\n",
    "\n",
    "Okay.\n",
    "\n",
    "Let's go.\n",
    "\n",
    "To begin, we'll create variables for each of the hyperparameters we'll be using for our N-BEATS replica.\n",
    "\n",
    "> 📖 **Resource:** The following hyperparameters are taken from Figure 1 and Table 18/Appendix D of the [N-BEATS paper](https://arxiv.org/pdf/1905.10437.pdf).\n",
    "\n",
    "![table 18 from N-BEATS paper](https://raw.githubusercontent.com/mrdbourke/tensorflow-deep-learning/main/images/10-nbeats-table-18-hyperparameters.png)\n",
    "*Table 18 from [N-BEATS paper](https://arxiv.org/pdf/1905.10437.pdf) describing the hyperparameters used for the different variants of N-BEATS. We're using N-BEATS-G which stands for the generic version of N-BEATS.*\n",
    "\n",
    "> 🔑 **Note:** If you see variables in a machine learning example in all caps, such as \"`N_EPOCHS = 100`\", these variables are often hyperparameters which are used through the example. You'll usually see them instantiated towards the start of an experiment and then used throughout.\n",
    "\n"
   ]
  },
  {
   "cell_type": "code",
   "execution_count": 276,
   "id": "b0241630",
   "metadata": {},
   "outputs": [
    {
     "data": {
      "text/plain": [
       "(7, 8)"
      ]
     },
     "execution_count": 276,
     "metadata": {},
     "output_type": "execute_result"
    }
   ],
   "source": [
    "# Values from N-BEATS paper figure 1 and table 18/Appendix D\n",
    "N_EPOCHS= 5000 # called \"Iterations\" in table 18\n",
    "N_NEURONS = 512 # called \"Width\" in Table 18\n",
    "N_LAYERS = 4\n",
    "N_STACKS = 30\n",
    "INPUT_SIZE = WINDOW_SIZE * HORIZON # called \"lookback\" in table 18\n",
    "THETA_SIZE = INPUT_SIZE + HORIZON\n",
    "\n",
    "INPUT_SIZE,THETA_SIZE"
   ]
  },
  {
   "cell_type": "markdown",
   "id": "4d97e318",
   "metadata": {},
   "source": [
    "### Getting ready for residual connections\n",
    "\n",
    "Beautiful! Hyperparameters ready, now before we create the N-BEATS model, there are two layers to go through which play a large roll in the architecture.\n",
    "\n",
    "They're what make N-BEATS **double residual stacking** (section 3.2 of the [N-BEATS paper](https://arxiv.org/pdf/1905.10437.pdf)) possible:\n",
    "* [`tf.keras.layers.subtract(inputs)`](https://www.tensorflow.org/api_docs/python/tf/keras/layers/subtract) - subtracts list of input tensors from each other\n",
    "* [`tf.keras.layers.add(inputs)`](https://www.tensorflow.org/api_docs/python/tf/keras/layers/add) - adds list of input tensors to each other\n",
    "\n",
    "Let's try them out."
   ]
  },
  {
   "cell_type": "code",
   "execution_count": 285,
   "id": "05293c1b",
   "metadata": {},
   "outputs": [
    {
     "name": "stdout",
     "output_type": "stream",
     "text": [
      "Input tensors: [10 11 12 13 14 15 16 17 18 19] & [0 1 2 3 4 5 6 7 8 9]\n",
      "Subtracted: [10 10 10 10 10 10 10 10 10 10]\n",
      "Added: [10 12 14 16 18 20 22 24 26 28]\n"
     ]
    }
   ],
   "source": [
    "# Make tensors\n",
    "tensor_1 = tf.range(10)+10\n",
    "tensor_2 = tf.range(10)\n",
    "\n",
    "# Subtract\n",
    "subtracted = layers.subtract([tensor_1,tensor_2])\n",
    "\n",
    "# Add\n",
    "added = layers.add([tensor_1,tensor_2])\n",
    "\n",
    "print(f\"Input tensors: {tensor_1.numpy()} & {tensor_2.numpy()}\")\n",
    "print(f\"Subtracted: {subtracted.numpy()}\")\n",
    "print(f\"Added: {added.numpy()}\")"
   ]
  },
  {
   "cell_type": "markdown",
   "id": "823b85ed",
   "metadata": {},
   "source": [
    "Both of these layer functions are straight-forward, subtract or add together their inputs.\n",
    "\n",
    "And as mentioned before, they're what powers N-BEATS double residual stacking.\n",
    "\n",
    "The power of **residual stacking** or **residual connections** was revealed in [Deep Residual Learning for Image Recognition](https://arxiv.org/abs/1512.03385) where the authors were able to build a deeper but less complex neural network (this is what introduced the popular [ResNet architecture](https://en.wikipedia.org/wiki/Residual_neural_network)) than previous attempts. \n",
    "\n",
    "This deeper neural network led to state of the art results on the ImageNet challenge in 2015 and different versions of residual connections have been present in deep learning ever since.\n",
    "\n",
    "> What is a residual connection?\n",
    "\n",
    "A **residual connection** (also called skip connections) involves a deeper neural network layer receiving the outputs as well as the inputs of a shallower neural network layer.\n",
    "\n",
    "In the case of N-BEATS, the architecture uses residual connections which:\n",
    "* Subtract the backcast outputs from a previous block from the backcast inputs to the current block\n",
    "* Add the forecast outputs from all blocks together in a stack \n",
    "\n",
    "![N-BEATS architecture double residual stacking](https://raw.githubusercontent.com/mrdbourke/tensorflow-deep-learning/main/images/10-nbeats-architecture-double-residual-stacking.png)\n",
    "*Annotated version of Figure 1 from the N-BEATS paper highlighting the double residual stacking (section 3.2) of the architecture. Backcast residuals of each block are subtracted from each other and used as the input to the next block where as the forecasts of each block are added together to become the stack forecast.*\n",
    "\n",
    "> What are the benefits of residual connections?\n",
    "\n",
    "In practice, residual connections have been beneficial for training deeper models (N-BEATS reaches ~150 layers, also see \"These approaches provide clear advantages in improving the trainability of deep architectures\" in section 3.2 of the [N-BEATS paper](https://arxiv.org/pdf/1905.10437.pdf)).  \n",
    "\n",
    "It's thought that they help avoid the problem of [vanishing gradients](https://en.wikipedia.org/wiki/Vanishing_gradient_problem) (patterns learned by a neural network not being passed through to deeper layers).\n",
    "\n"
   ]
  },
  {
   "cell_type": "markdown",
   "id": "234451cb",
   "metadata": {},
   "source": [
    "### Building, compiling and fitting the N-BEATS algorithm \n",
    "\n",
    "Okay, we've finally got all of the pieces of the puzzle ready for building and training the N-BEATS algorithm.\n",
    "\n",
    "We'll do so by going through the following:\n",
    "\n",
    "1. Setup an instance of the N-BEATS block layer using `NBeatsBlock` (this'll be the initial block used for the network, the rest will be created as part of stacks)\n",
    "2. Create an input layer for the N-BEATS stack (we'll be using the [Keras Functional API](https://www.tensorflow.org/guide/keras/functional) for this)\n",
    "3. Make the initial backcast and forecasts for the model with the layer created in (1)\n",
    "4. Use a for loop to create stacks of block layers\n",
    "5. Use the NBeatsBlock class within the for loop created in (4) to create blocks which return backcasts and block-level forecasts\n",
    "6. Create the double residual stacking using subtract and add layers\n",
    "7. Put the model inputs and outputs together using [`tf.keras.Model()`](https://www.tensorflow.org/api_docs/python/tf/keras/Model)\n",
    "8. Compile the model with MAE loss (the paper uses multiple losses but we'll use MAE to keep it inline with our other models) and Adam optimizer with default settings as per section 5.2 of [N-BEATS paper](https://arxiv.org/pdf/1905.10437.pdf))\n",
    "9. Fit the N-BEATS model for 5000 epochs and since it's fitting for so many epochs, we'll use a couple of callbacks:\n",
    "  * [`tf.keras.callbacks.EarlyStopping()`](https://www.tensorflow.org/api_docs/python/tf/keras/callbacks/EarlyStopping) - stop the model from training if it doesn't improve validation loss for 200 epochs and restore the best performing weights using `restore_best_weights=True` (this'll prevent the model from training for loooongggggg period of time without improvement)\n",
    "  * [`tf.keras.callbacks.ReduceLROnPlateau()`](https://www.tensorflow.org/api_docs/python/tf/keras/callbacks/ReduceLROnPlateau) - if the model's validation loss doesn't improve for 100 epochs, reduce the learning rate by 10x to try and help it make incremental improvements (the smaller the learning rate, the smaller updates a model tries to make)\n",
    "\n",
    "Woah. A bunch of steps. But I'm sure you're up to it.\n",
    "\n",
    "Let's do it!"
   ]
  },
  {
   "cell_type": "markdown",
   "id": "53523f2d",
   "metadata": {},
   "source": [
    "### Building, compiling and fitting the N-BEATS algorithm \n",
    "\n",
    "Okay, we've finally got all of the pieces of the puzzle ready for building and training the N-BEATS algorithm.\n",
    "\n",
    "We'll do so by going through the following:\n",
    "\n",
    "1. Setup an instance of the N-BEATS block layer using `NBeatsBlock` (this'll be the initial block used for the network, the rest will be created as part of stacks)\n",
    "2. Create an input layer for the N-BEATS stack (we'll be using the [Keras Functional API](https://www.tensorflow.org/guide/keras/functional) for this)\n",
    "3. Make the initial backcast and forecasts for the model with the layer created in (1)\n",
    "4. Use a for loop to create stacks of block layers\n",
    "5. Use the NBeatsBlock class within the for loop created in (4) to create blocks which return backcasts and block-level forecasts\n",
    "6. Create the double residual stacking using subtract and add layers\n",
    "7. Put the model inputs and outputs together using [`tf.keras.Model()`](https://www.tensorflow.org/api_docs/python/tf/keras/Model)\n",
    "8. Compile the model with MAE loss (the paper uses multiple losses but we'll use MAE to keep it inline with our other models) and Adam optimizer with default settings as per section 5.2 of [N-BEATS paper](https://arxiv.org/pdf/1905.10437.pdf))\n",
    "9. Fit the N-BEATS model for 5000 epochs and since it's fitting for so many epochs, we'll use a couple of callbacks:\n",
    "  * [`tf.keras.callbacks.EarlyStopping()`](https://www.tensorflow.org/api_docs/python/tf/keras/callbacks/EarlyStopping) - stop the model from training if it doesn't improve validation loss for 200 epochs and restore the best performing weights using `restore_best_weights=True` (this'll prevent the model from training for loooongggggg period of time without improvement)\n",
    "  * [`tf.keras.callbacks.ReduceLROnPlateau()`](https://www.tensorflow.org/api_docs/python/tf/keras/callbacks/ReduceLROnPlateau) - if the model's validation loss doesn't improve for 100 epochs, reduce the learning rate by 10x to try and help it make incremental improvements (the smaller the learning rate, the smaller updates a model tries to make)\n",
    "\n",
    "Woah. A bunch of steps. But I'm sure you're up to it.\n",
    "\n",
    "Let's do it!"
   ]
  },
  {
   "cell_type": "code",
   "execution_count": 289,
   "id": "74efa518",
   "metadata": {},
   "outputs": [
    {
     "name": "stdout",
     "output_type": "stream",
     "text": [
      "\n",
      "Epoch 00145: ReduceLROnPlateau reducing learning rate to 0.00010000000474974513.\n",
      "\n",
      "Epoch 00245: ReduceLROnPlateau reducing learning rate to 1.0000000474974514e-05.\n"
     ]
    }
   ],
   "source": [
    "import tensorflow as tf\n",
    "from tensorflow.keras import layers\n",
    "\n",
    "tf.random.set_seed(42)\n",
    "\n",
    "# 1 Setup N-BEATS Block Layer\n",
    "nbeat_block_layer = NBeatBlock(input_size=INPUT_SIZE,\n",
    "                               theta_size=THETA_SIZE,\n",
    "                               horizon=HORIZON,\n",
    "                               n_neurons=N_NEURONS,\n",
    "                               n_layers=N_LAYERS,\n",
    "                               name='InitialBlock')\n",
    "\n",
    "# 2 Create input to stacks\n",
    "stack_input = layers.Input(shape=(INPUT_SIZE),name='stack_input')\n",
    "\n",
    "# 3 create intial backcast and forecast input (backwards predictions are referred to as residuals in the paper)\n",
    "backcast,forecast = nbeat_block_layer(stack_input)\n",
    "\n",
    "# add in subtraction\n",
    "residuals = layers.subtract([stack_input, backcast], name=f\"subtract_00\") \n",
    "\n",
    "# 4 create stacks o blocks\n",
    "# first stack is already created in (3)\n",
    "for i,_ in enumerate(range(N_STACKS-1)):\n",
    "    \n",
    "    # 5 Use the NBeatsBlock to calculate the backcast as well as block forecast\n",
    "    backcast,block_forecast = NBeatBlock(\n",
    "    input_size=INPUT_SIZE,\n",
    "    theta_size=THETA_SIZE,\n",
    "    horizon=HORIZON,\n",
    "    n_neurons=N_NEURONS,\n",
    "    n_layers=N_LAYERS,\n",
    "    name=f'NBeatBlock_{i}'\n",
    "    )(residuals) # pass it in residuals (the backcast)\n",
    "    \n",
    "    # 6 create the double residual stacking\n",
    "    residuals = layers.subtract([residuals,backcast],name=f'substact_{i}')\n",
    "    forecast = layers.add([forecast,block_forecast],name=f'add_{i}')\n",
    "    \n",
    "# 7 Put the stack model together\n",
    "model_7 = tf.keras.Model(inputs=stack_input,\n",
    "                        outputs=forecast,\n",
    "                        name='model_7_N-BEATS')\n",
    "\n",
    "# 8 Compile with MAE loss and Adam optimizer\n",
    "model_7.compile(loss='mae',\n",
    "               optimizer=tf.keras.optimizers.Adam(0.001),\n",
    "               metrics=['mae','mse'])\n",
    "\n",
    "# 9 Fit the model with EarlyStopping and ReduceLROPlateau callbacks\n",
    "history_7 = model_7.fit(train_dataset,\n",
    "           epochs=N_EPOCHS,\n",
    "           validation_data=test_dataset,\n",
    "           verbose=0,\n",
    "           callbacks=[tf.keras.callbacks.EarlyStopping(monitor='val_loss',patience=200,restore_best_weights=True),\n",
    "                     tf.keras.callbacks.ReduceLROnPlateau(monitor='val_loss',patience=100,verbose=1)])"
   ]
  },
  {
   "cell_type": "code",
   "execution_count": 290,
   "id": "1b0e5c13",
   "metadata": {},
   "outputs": [
    {
     "data": {
      "text/plain": [
       "[<matplotlib.lines.Line2D at 0x5875e190>]"
      ]
     },
     "execution_count": 290,
     "metadata": {},
     "output_type": "execute_result"
    },
    {
     "data": {
      "image/png": "[encoded data removed]",
      "text/plain": [
       "<Figure size 432x288 with 1 Axes>"
      ]
     },
     "metadata": {
      "needs_background": "light"
     },
     "output_type": "display_data"
    }
   ],
   "source": [
    "plt.plot(np.array(history_7.history['loss']))"
   ]
  },
  {
   "cell_type": "code",
   "execution_count": 291,
   "id": "ee7adbb4",
   "metadata": {},
   "outputs": [
    {
     "name": "stdout",
     "output_type": "stream",
     "text": [
      "1/1 [==============================] - 1s 740ms/step - loss: 586.3232 - mae: 586.3232 - mse: 1216148.7500\n"
     ]
    },
    {
     "data": {
      "text/plain": [
       "[586.3231811523438, 586.3231811523438, 1216148.75]"
      ]
     },
     "execution_count": 291,
     "metadata": {},
     "output_type": "execute_result"
    }
   ],
   "source": [
    "# Evaluate N-BEATS model on the test dataset\n",
    "model_7.evaluate(test_dataset)"
   ]
  },
  {
   "cell_type": "code",
   "execution_count": 292,
   "id": "e0879f67",
   "metadata": {},
   "outputs": [
    {
     "data": {
      "text/plain": [
       "<tf.Tensor: shape=(10,), dtype=float32, numpy=\n",
       "array([8859.247 , 8764.031 , 8948.9375, 8744.674 , 8671.256 , 8668.797 ,\n",
       "       8655.336 , 8496.341 , 8405.621 , 8469.764 ], dtype=float32)>"
      ]
     },
     "execution_count": 292,
     "metadata": {},
     "output_type": "execute_result"
    }
   ],
   "source": [
    "# Make predictions with N-BEATS model\n",
    "model_7_preds = make_preds(model_7, test_dataset)\n",
    "model_7_preds[:10]"
   ]
  },
  {
   "cell_type": "code",
   "execution_count": 293,
   "id": "7c9e0d31",
   "metadata": {},
   "outputs": [
    {
     "data": {
      "text/plain": [
       "{'mae': 586.3232,\n",
       " 'mse': 1216148.8,\n",
       " 'rmse': 1102.7914,\n",
       " 'mape': 2.6763809,\n",
       " 'mase': 1.0300075}"
      ]
     },
     "execution_count": 293,
     "metadata": {},
     "output_type": "execute_result"
    }
   ],
   "source": [
    "# Evaluate N-BEATS model predictions\n",
    "model_7_results = evaluate_preds(y_true=y_test,\n",
    "                                 y_pred=model_7_preds)\n",
    "model_7_results"
   ]
  },
  {
   "cell_type": "markdown",
   "id": "30c82234",
   "metadata": {},
   "source": [
    "Woah... even with all of those special layers and hand-crafted network, it looks like the N-BEATS model doesn't perform as well as `model_1` or the original naive forecast.\n",
    "\n",
    "This goes to show the power of smaller networks as well as the fact not all larger models are better suited for a certain type of data.\n",
    "\n",
    "### Plotting the N-BEATS architecture we've created\n",
    "\n",
    "You know what would be cool?\n",
    "\n",
    "If we could plot the N-BEATS model we've crafted.\n",
    "\n",
    "Well it turns out we can using [`tensorflow.keras.utils.plot_model()`](https://www.tensorflow.org/api_docs/python/tf/keras/utils/plot_model).\n",
    "\n",
    "Let's see what it looks like."
   ]
  },
  {
   "cell_type": "code",
   "execution_count": 294,
   "id": "642b1ad6",
   "metadata": {},
   "outputs": [
    {
     "name": "stdout",
     "output_type": "stream",
     "text": [
      "('You must install pydot (`pip install pydot`) and install graphviz (see instructions at https://graphviz.gitlab.io/download/) ', 'for plot_model/model_to_dot to work.')\n"
     ]
    }
   ],
   "source": [
    "# Plot the N-BEATS model and inspect the architecture\n",
    "from tensorflow.keras.utils import plot_model\n",
    "plot_model(model_7)"
   ]
  },
  {
   "cell_type": "code",
   "execution_count": 295,
   "id": "28743346",
   "metadata": {},
   "outputs": [
    {
     "name": "stdout",
     "output_type": "stream",
     "text": [
      "Collecting pydot"
     ]
    },
    {
     "name": "stderr",
     "output_type": "stream",
     "text": [
      "\n",
      "[notice] A new release of pip available: 22.3.1 -> 23.1.2\n",
      "[notice] To update, run: python.exe -m pip install --upgrade pip\n"
     ]
    },
    {
     "name": "stdout",
     "output_type": "stream",
     "text": [
      "\n",
      "  Downloading pydot-1.4.2-py2.py3-none-any.whl (21 kB)\n",
      "Requirement already satisfied: pyparsing>=2.1.4 in c:\\programdata\\anaconda3\\lib\\site-packages (from pydot) (2.4.7)\n",
      "Installing collected packages: pydot\n",
      "Successfully installed pydot-1.4.2\n"
     ]
    }
   ],
   "source": [
    "!pip install pydot"
   ]
  },
  {
   "cell_type": "code",
   "execution_count": 299,
   "id": "267769a2",
   "metadata": {},
   "outputs": [
    {
     "name": "stdout",
     "output_type": "stream",
     "text": [
      "('You must install pydot (`pip install pydot`) and install graphviz (see instructions at https://graphviz.gitlab.io/download/) ', 'for plot_model/model_to_dot to work.')\n"
     ]
    }
   ],
   "source": [
    "plot_model(model_7)"
   ]
  },
  {
   "cell_type": "markdown",
   "id": "1f5d25e7",
   "metadata": {},
   "source": [
    "Now that is one good looking model! \n",
    "\n",
    "It even looks similar to the model shown in Figure 1 of the N-BEATS paper. \n",
    "\n",
    "![N-BEATS replica model compared with actual N-BEATS architecture](https://raw.githubusercontent.com/mrdbourke/tensorflow-deep-learning/main/images/10-nbeats-stack-model-vs-nbeats-architecture.png)\n",
    "*Comparison of `model_7` (N-BEATS replica model make with Keras Functional API) versus actual N-BEATS architecture diagram.*\n",
    "\n",
    "Looks like our Functional API usage did the trick! \n",
    "\n",
    "> 🔑 **Note:** Our N-BEATS model replicates the N-BEATS **generic architecture**, the training setups are largely the same, except for the N-BEATS paper used an ensemble of models to make predictions (multiple different loss functions and multiple different lookback windows), see Table 18 of the [N-BEATS paper](https://arxiv.org/pdf/1905.10437.pdf) for more. An extension could be to setup this kind of training regime and see if it improves performance.\n",
    "\n",
    "How about we try and save our version of the N-BEATS model?"
   ]
  },
  {
   "cell_type": "code",
   "execution_count": 300,
   "id": "68695a1e",
   "metadata": {},
   "outputs": [
    {
     "name": "stderr",
     "output_type": "stream",
     "text": [
      "WARNING:absl:Found untraced functions such as theta_layer_call_and_return_conditional_losses, theta_layer_call_fn, theta_layer_call_and_return_conditional_losses, theta_layer_call_fn, theta_layer_call_and_return_conditional_losses while saving (showing 5 of 750). These functions will not be directly callable after loading.\n"
     ]
    },
    {
     "name": "stdout",
     "output_type": "stream",
     "text": [
      "INFO:tensorflow:Assets written to: model_7_N-BEATS\\assets\n"
     ]
    },
    {
     "name": "stderr",
     "output_type": "stream",
     "text": [
      "INFO:tensorflow:Assets written to: model_7_N-BEATS\\assets\n",
      "C:\\ProgramData\\Anaconda3\\lib\\site-packages\\keras\\utils\\generic_utils.py:494: CustomMaskWarning: Custom mask layers require a config and must override get_config. When loading, the custom mask layer must be passed to the custom_objects argument.\n",
      "  warnings.warn('Custom mask layers require a config and must override '\n"
     ]
    }
   ],
   "source": [
    "# This will error out unless a \"get_config()\" method is implemented - this could be extra curriculum\n",
    "model_7.save(model_7.name)"
   ]
  },
  {
   "cell_type": "markdown",
   "id": "47ed1e26",
   "metadata": {},
   "source": [
    "## Model 8: Creating an ensemble (stacking different models together)\n",
    "\n",
    "After all that effort, the N-BEATS algorithm's performance was underwhelming.\n",
    "\n",
    "But again, this is part of the parcel of machine learning. Not everything will work.\n",
    "\n",
    "That's when we refer back to the motto: experiment, experiment, experiment.\n",
    "\n",
    "Our next experiment is creating an [**ensemble** of models](https://en.wikipedia.org/wiki/Ensemble_learning).\n",
    "\n",
    "An **ensemble** involves training and combining multiple different models on the same problem. Ensemble models are often the types of models you'll see winning data science competitions on websites like Kaggle.\n",
    "\n",
    "![high level overview of ensemble model: combining many different models may result in better results than one single model](https://raw.githubusercontent.com/mrdbourke/tensorflow-deep-learning/main/images/10-ensemble-model-example.png)\n",
    "*Example of the power of ensembling. One Daniel model makes a decision with a smart level of 7 but when a Daniel model teams up with multiple different people, together (ensembled) they make a decision with a smart level of 10. The key here is combining the decision power of people with different backgrounds, if you combined multiple Daniel models, you'd end up with an average smart level of 7. Note: smart level is not an actual measurement of decision making, it is for demonstration purposes only.*\n",
    "\n",
    "For example, in the N-BEATS paper, they trained an ensemble of models (180 in total, see [section 3.4](https://arxiv.org/pdf/1905.10437.pdf)) to achieve the results they did using a combination of:\n",
    "  * Different loss functions (sMAPE, MASE and MAPE)\n",
    "  * Different window sizes (2 x horizon, 3 x horizon, 4 x horizon...)\n",
    "\n",
    "The benefit of ensembling models is you get the \"decision of the crowd effect\". Rather than relying on a single model's predictions, you can [take the average or median of many different models](https://en.wikipedia.org/wiki/Ensemble_forecasting).\n",
    "\n",
    "The keyword being: different.\n",
    "\n",
    "It wouldn't make sense to train the same model 10 times on the same data and then average the predictions.\n",
    "\n",
    "Fortunately, due to their random initialization, even deep learning models with the same architecture can produce different results. \n",
    "\n",
    "What I mean by this is each time you create a deep learning model, it starts with random patterns (weights & biases) and then it adjusts these random patterns to better suit the dataset it's being trained on. \n",
    "\n",
    "However, the process it adjusts these patterns is often a form of guided randomness as well (the SGD optimizer stands for stochastic or random gradient descent).\n",
    "\n",
    "To create our ensemble models we're going to be using a combination of: \n",
    "* Different loss functions (MAE, MSE, MAPE)\n",
    "* Randomly initialized models \n",
    "\n",
    "Essentially, we'll be creating a suite of different models all attempting to model the same data.\n",
    "\n",
    "And hopefully the combined predictive power of each model is better than a single model on its own.\n",
    "\n",
    "Let's find out!\n",
    "\n",
    "We'll start by creating a function to produce a list of different models trained with different loss functions. Each layer in the ensemble models will be initialized with a random normal [(Gaussian) distribution](https://en.wikipedia.org/wiki/Normal_distribution) using [He normal initialization](https://www.tensorflow.org/api_docs/python/tf/keras/initializers/HeNormal), this'll help estimating the prediction intervals later on.\n",
    "\n",
    "> 🔑 **Note:** In your machine leanring experiments, you may have already dealt with examples of ensemble models. Algorithms such as the [random forest model](https://towardsdatascience.com/understanding-random-forest-58381e0602d2) are a form of ensemble, it uses a number of randomly created decision trees where each individual tree may perform poorly but when combined gives great results.\n"
   ]
  },
  {
   "cell_type": "code",
   "execution_count": null,
   "id": "592d44e4",
   "metadata": {},
   "outputs": [],
   "source": []
  }
 ],
 "metadata": {
  "kernelspec": {
   "display_name": "Python 3",
   "language": "python",
   "name": "python3"
  },
  "language_info": {
   "codemirror_mode": {
    "name": "ipython",
    "version": 3
   },
   "file_extension": ".py",
   "mimetype": "text/x-python",
   "name": "python",
   "nbconvert_exporter": "python",
   "pygments_lexer": "ipython3",
   "version": "3.8.8"
  }
 },
 "nbformat": 4,
 "nbformat_minor": 5
}
