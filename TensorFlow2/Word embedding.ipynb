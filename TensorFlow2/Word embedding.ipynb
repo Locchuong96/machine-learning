{
 "cells": [
  {
   "cell_type": "markdown",
   "id": "fddee1d8",
   "metadata": {},
   "source": [
    "### Content\n",
    "\n",
    "- Word embedding\n",
    "- One hot encoding\n",
    "- Co-occurence matrix\n",
    "- Word to vector (Word2vec)\n",
    "- CBow\n",
    "- Skip-Gram"
   ]
  },
  {
   "cell_type": "markdown",
   "id": "b2987584",
   "metadata": {},
   "source": [
    "### References\n",
    "\n",
    "[1] [word2vec math](https://leimao.github.io/article/Word2Vec-Classic/)\n",
    "\n",
    "[2] [cbow from scratch](https://www.kdnuggets.com/2018/04/implementing-deep-learning-methods-feature-engineering-text-data-cbow.html)\n",
    "\n",
    "[3] [Word2vec Concept from scratch – part 1](http://mbenhaddou.com/2019/12/14/word2vec-concepts-from-scratch//)\n",
    "\n",
    "[4] [skipgram from scratch](http://mbenhaddou.com/2019/12/14/word2vec-concept-from-scratch-part-2/)\n",
    "\n",
    "[5] [word2vec-numpy](https://nathanrooy.github.io/posts/2018-03-22/word2vec-from-scratch-with-python-and-numpy/)\n",
    "\n",
    "[6] [word2vec](https://github.com/nickvdw/word2vec-from-scratch/blob/master/word2vec.ipynb)"
   ]
  }
 ],
 "metadata": {
  "kernelspec": {
   "display_name": "Python 3",
   "language": "python",
   "name": "python3"
  },
  "language_info": {
   "codemirror_mode": {
    "name": "ipython",
    "version": 3
   },
   "file_extension": ".py",
   "mimetype": "text/x-python",
   "name": "python",
   "nbconvert_exporter": "python",
   "pygments_lexer": "ipython3",
   "version": "3.8.8"
  }
 },
 "nbformat": 4,
 "nbformat_minor": 5
}
