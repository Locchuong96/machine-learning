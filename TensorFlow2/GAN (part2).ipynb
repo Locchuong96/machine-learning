{
 "cells": [
  {
   "cell_type": "markdown",
   "id": "de7e7e9e",
   "metadata": {},
   "source": [
    "### Content"
   ]
  },
  {
   "cell_type": "markdown",
   "id": "e5617d82",
   "metadata": {},
   "source": [
    "### References\n",
    "\n",
    "[Bài 3: Conditional GAN (cGAN)](https://nttuan8.com/bai-3-conditional-gan-cgan/)\n",
    "\n",
    "[Bài 4: Least Squares Generative Adversarial Networks (LSGAN)]()\n",
    "\n",
    "[Bài 5: GAN evaluation](https://nttuan8.com/bai-4-least-squares-generative-adversarial-networks-lsgan/)"
   ]
  }
 ],
 "metadata": {
  "kernelspec": {
   "display_name": "Python 3",
   "language": "python",
   "name": "python3"
  },
  "language_info": {
   "codemirror_mode": {
    "name": "ipython",
    "version": 3
   },
   "file_extension": ".py",
   "mimetype": "text/x-python",
   "name": "python",
   "nbconvert_exporter": "python",
   "pygments_lexer": "ipython3",
   "version": "3.8.8"
  }
 },
 "nbformat": 4,
 "nbformat_minor": 5
}
