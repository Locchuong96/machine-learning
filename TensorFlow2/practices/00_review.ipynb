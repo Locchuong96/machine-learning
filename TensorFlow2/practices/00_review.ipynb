{
 "cells": [
  {
   "cell_type": "code",
   "execution_count": 13,
   "id": "517e2244",
   "metadata": {},
   "outputs": [],
   "source": [
    "import tensorflow as tf \n",
    "import numpy as np"
   ]
  },
  {
   "cell_type": "code",
   "execution_count": 3,
   "id": "0419d995",
   "metadata": {},
   "outputs": [
    {
     "data": {
      "text/plain": [
       "<tf.Tensor: shape=(), dtype=int32, numpy=1>"
      ]
     },
     "execution_count": 3,
     "metadata": {},
     "output_type": "execute_result"
    }
   ],
   "source": [
    "scalar = tf.constant(1)\n",
    "scalar"
   ]
  },
  {
   "cell_type": "code",
   "execution_count": 6,
   "id": "a1143cd2",
   "metadata": {},
   "outputs": [
    {
     "data": {
      "text/plain": [
       "<tf.Tensor: shape=(3,), dtype=float32, numpy=array([1., 2., 3.], dtype=float32)>"
      ]
     },
     "execution_count": 6,
     "metadata": {},
     "output_type": "execute_result"
    }
   ],
   "source": [
    "vector = tf.constant([1.0,2.0,3.0])\n",
    "vector"
   ]
  },
  {
   "cell_type": "code",
   "execution_count": 5,
   "id": "78e5ca17",
   "metadata": {},
   "outputs": [
    {
     "data": {
      "text/plain": [
       "<tf.Tensor: shape=(2, 2), dtype=int32, numpy=\n",
       "array([[1, 2],\n",
       "       [3, 4]])>"
      ]
     },
     "execution_count": 5,
     "metadata": {},
     "output_type": "execute_result"
    }
   ],
   "source": [
    "matrix = tf.constant([[1,2],[3,4]])\n",
    "matrix"
   ]
  },
  {
   "cell_type": "code",
   "execution_count": 7,
   "id": "987b0a5c",
   "metadata": {},
   "outputs": [
    {
     "data": {
      "text/plain": [
       "<tf.Tensor: shape=(2, 2, 2), dtype=int32, numpy=\n",
       "array([[[1, 2],\n",
       "        [3, 4]],\n",
       "\n",
       "       [[5, 6],\n",
       "        [7, 8]]])>"
      ]
     },
     "execution_count": 7,
     "metadata": {},
     "output_type": "execute_result"
    }
   ],
   "source": [
    "tensor = tf.constant([[[1,2],[3,4]],\n",
    "                      [[5,6],[7,8]]])\n",
    "tensor"
   ]
  },
  {
   "cell_type": "code",
   "execution_count": 8,
   "id": "cce82091",
   "metadata": {},
   "outputs": [
    {
     "data": {
      "text/plain": [
       "TensorShape([2, 2, 2])"
      ]
     },
     "execution_count": 8,
     "metadata": {},
     "output_type": "execute_result"
    }
   ],
   "source": [
    "tensor.shape"
   ]
  },
  {
   "cell_type": "code",
   "execution_count": 10,
   "id": "ce569971",
   "metadata": {},
   "outputs": [
    {
     "data": {
      "text/plain": [
       "3"
      ]
     },
     "execution_count": 10,
     "metadata": {},
     "output_type": "execute_result"
    }
   ],
   "source": [
    "tensor.ndim"
   ]
  },
  {
   "cell_type": "code",
   "execution_count": 11,
   "id": "b7547a08",
   "metadata": {},
   "outputs": [
    {
     "data": {
      "text/plain": [
       "<tf.Tensor: shape=(), dtype=int32, numpy=8>"
      ]
     },
     "execution_count": 11,
     "metadata": {},
     "output_type": "execute_result"
    }
   ],
   "source": [
    "tf.size(tensor)"
   ]
  },
  {
   "cell_type": "code",
   "execution_count": 18,
   "id": "906fa55b",
   "metadata": {},
   "outputs": [
    {
     "name": "stdout",
     "output_type": "stream",
     "text": [
      "(5, 300)\n",
      "tf.Tensor(\n",
      "[[0 1 1 ... 0 0 0]\n",
      " [1 0 1 ... 1 1 1]\n",
      " [0 1 0 ... 0 0 1]\n",
      " [0 0 0 ... 0 1 1]\n",
      " [0 1 1 ... 1 1 0]], shape=(5, 300), dtype=int32)\n"
     ]
    }
   ],
   "source": [
    "np1 = np.random.randint(2,size = 5*300)\n",
    "np2 = np.random.randint(2,size = 5*300)\n",
    "\n",
    "t1 = tf.constant(np1,shape = (5,300))\n",
    "t2 = tf.constant(np2,shape = (5,300))\n",
    "\n",
    "print(t1.shape)\n",
    "print(t1)"
   ]
  },
  {
   "cell_type": "code",
   "execution_count": 17,
   "id": "b8ca5490",
   "metadata": {},
   "outputs": [
    {
     "data": {
      "text/plain": [
       "<tf.Tensor: shape=(5, 300), dtype=int32, numpy=\n",
       "array([[0, 0, 1, ..., 0, 0, 0],\n",
       "       [0, 1, 1, ..., 0, 1, 0],\n",
       "       [1, 1, 0, ..., 1, 0, 1],\n",
       "       [0, 1, 0, ..., 0, 1, 0],\n",
       "       [1, 1, 1, ..., 0, 1, 0]])>"
      ]
     },
     "execution_count": 17,
     "metadata": {},
     "output_type": "execute_result"
    }
   ],
   "source": [
    "print(t2.shape)\n",
    "print()"
   ]
  },
  {
   "cell_type": "code",
   "execution_count": 19,
   "id": "39a4be3e",
   "metadata": {},
   "outputs": [
    {
     "data": {
      "text/plain": [
       "<tf.Tensor: shape=(5, 5), dtype=int32, numpy=\n",
       "array([[77, 65, 71, 79, 64],\n",
       "       [65, 62, 70, 88, 66],\n",
       "       [75, 67, 75, 75, 62],\n",
       "       [68, 73, 85, 86, 73],\n",
       "       [73, 67, 79, 83, 78]])>"
      ]
     },
     "execution_count": 19,
     "metadata": {},
     "output_type": "execute_result"
    }
   ],
   "source": [
    "tf.matmul(t1,tf.transpose(t2))"
   ]
  },
  {
   "cell_type": "code",
   "execution_count": 22,
   "id": "bab061e1",
   "metadata": {},
   "outputs": [
    {
     "data": {
      "text/plain": [
       "<tf.Tensor: shape=(5, 5), dtype=int32, numpy=\n",
       "array([[77, 65, 71, 79, 64],\n",
       "       [65, 62, 70, 88, 66],\n",
       "       [75, 67, 75, 75, 62],\n",
       "       [68, 73, 85, 86, 73],\n",
       "       [73, 67, 79, 83, 78]])>"
      ]
     },
     "execution_count": 22,
     "metadata": {},
     "output_type": "execute_result"
    }
   ],
   "source": [
    "tf.tensordot(t1,tf.transpose(t2),axes = 1)"
   ]
  },
  {
   "cell_type": "code",
   "execution_count": 23,
   "id": "73106f9a",
   "metadata": {},
   "outputs": [
    {
     "data": {
      "text/plain": [
       "<tf.Tensor: shape=(5, 5), dtype=bool, numpy=\n",
       "array([[ True,  True,  True,  True,  True],\n",
       "       [ True,  True,  True,  True,  True],\n",
       "       [ True,  True,  True,  True,  True],\n",
       "       [ True,  True,  True,  True,  True],\n",
       "       [ True,  True,  True,  True,  True]])>"
      ]
     },
     "execution_count": 23,
     "metadata": {},
     "output_type": "execute_result"
    }
   ],
   "source": [
    "tf.matmul(t1,tf.transpose(t2)) == tf.tensordot(t1,tf.transpose(t2),axes = 1)"
   ]
  },
  {
   "cell_type": "code",
   "execution_count": 28,
   "id": "d679e62b",
   "metadata": {},
   "outputs": [
    {
     "data": {
      "text/plain": [
       "<tf.Tensor: shape=(244, 244, 3), dtype=float32, numpy=\n",
       "array([[[0.7493447 , 0.73561966, 0.45230794],\n",
       "        [0.49039817, 0.1889317 , 0.52027524],\n",
       "        [0.8736881 , 0.46921718, 0.63932586],\n",
       "        ...,\n",
       "        [0.5262728 , 0.81607926, 0.19863963],\n",
       "        [0.12317097, 0.5962993 , 0.07343638],\n",
       "        [0.18146193, 0.26921892, 0.71201587]],\n",
       "\n",
       "       [[0.31422472, 0.15571809, 0.59350574],\n",
       "        [0.21187031, 0.06828582, 0.6658218 ],\n",
       "        [0.02978647, 0.07853341, 0.4606458 ],\n",
       "        ...,\n",
       "        [0.06088531, 0.46336675, 0.7801064 ],\n",
       "        [0.9507414 , 0.5222603 , 0.3588164 ],\n",
       "        [0.81559753, 0.8372953 , 0.12298954]],\n",
       "\n",
       "       [[0.7429452 , 0.4534787 , 0.17754185],\n",
       "        [0.40219545, 0.45187676, 0.04423535],\n",
       "        [0.03875005, 0.95273983, 0.84132195],\n",
       "        ...,\n",
       "        [0.7266562 , 0.01516867, 0.62724495],\n",
       "        [0.18723834, 0.26536012, 0.63592315],\n",
       "        [0.40533996, 0.5552931 , 0.44928002]],\n",
       "\n",
       "       ...,\n",
       "\n",
       "       [[0.9760084 , 0.2899176 , 0.12237167],\n",
       "        [0.2647997 , 0.9881208 , 0.7136017 ],\n",
       "        [0.88088405, 0.1396563 , 0.02189076],\n",
       "        ...,\n",
       "        [0.33478892, 0.26934338, 0.6283139 ],\n",
       "        [0.00473845, 0.3617512 , 0.15085459],\n",
       "        [0.15258598, 0.7028359 , 0.28134906]],\n",
       "\n",
       "       [[0.55643415, 0.7317904 , 0.79555047],\n",
       "        [0.06482732, 0.27438426, 0.1429267 ],\n",
       "        [0.8335055 , 0.5034218 , 0.35273266],\n",
       "        ...,\n",
       "        [0.10078299, 0.9695635 , 0.8775774 ],\n",
       "        [0.23087442, 0.37443817, 0.418571  ],\n",
       "        [0.76223016, 0.26921868, 0.61302805]],\n",
       "\n",
       "       [[0.64674795, 0.2626307 , 0.35175347],\n",
       "        [0.5849911 , 0.5664408 , 0.9868791 ],\n",
       "        [0.38852143, 0.19884121, 0.05287552],\n",
       "        ...,\n",
       "        [0.29975843, 0.74218476, 0.98649645],\n",
       "        [0.6299349 , 0.42634916, 0.7744427 ],\n",
       "        [0.18645346, 0.29052508, 0.590199  ]]], dtype=float32)>"
      ]
     },
     "execution_count": 28,
     "metadata": {},
     "output_type": "execute_result"
    }
   ],
   "source": [
    "rand = tf.random.Generator.from_seed(42)\n",
    "tensor = rand.uniform(minval=0,maxval=1,shape = (244,244,3))\n",
    "tensor"
   ]
  },
  {
   "cell_type": "code",
   "execution_count": 34,
   "id": "f0361a25",
   "metadata": {},
   "outputs": [
    {
     "data": {
      "text/plain": [
       "<tf.Tensor: shape=(), dtype=float32, numpy=4.053116e-06>"
      ]
     },
     "execution_count": 34,
     "metadata": {},
     "output_type": "execute_result"
    }
   ],
   "source": [
    "min = tf.reduce_min(tensor)\n",
    "min"
   ]
  },
  {
   "cell_type": "code",
   "execution_count": 35,
   "id": "517698f0",
   "metadata": {},
   "outputs": [
    {
     "data": {
      "text/plain": [
       "<tf.Tensor: shape=(), dtype=float32, numpy=0.99999833>"
      ]
     },
     "execution_count": 35,
     "metadata": {},
     "output_type": "execute_result"
    }
   ],
   "source": [
    "max = tf.reduce_max(tensor)\n",
    "max"
   ]
  },
  {
   "cell_type": "code",
   "execution_count": 36,
   "id": "4c079b16",
   "metadata": {},
   "outputs": [
    {
     "data": {
      "text/plain": [
       "<tf.Tensor: shape=(1, 244, 244, 3), dtype=float32, numpy=\n",
       "array([[[[3.3219278e-01, 6.8020511e-01, 4.2162180e-02],\n",
       "         [2.0977151e-01, 9.1281843e-01, 4.0282226e-01],\n",
       "         [4.5684981e-01, 7.4229312e-01, 2.2361851e-01],\n",
       "         ...,\n",
       "         [3.3966148e-01, 4.7186446e-01, 3.1305814e-01],\n",
       "         [7.6618958e-01, 3.6465621e-01, 5.8555245e-01],\n",
       "         [7.6716208e-01, 9.1719747e-01, 8.1051362e-01]],\n",
       "\n",
       "        [[5.9120798e-01, 3.6526978e-01, 7.6255465e-01],\n",
       "         [3.1148553e-01, 8.1861627e-01, 6.5195990e-01],\n",
       "         [7.2803283e-01, 2.3071766e-03, 7.3715246e-01],\n",
       "         ...,\n",
       "         [5.1748085e-01, 8.1386042e-01, 2.3165917e-01],\n",
       "         [8.2224226e-01, 9.1646767e-01, 9.8637402e-01],\n",
       "         [7.1053755e-01, 5.0872862e-01, 5.5825102e-01]],\n",
       "\n",
       "        [[4.9699891e-01, 9.2996514e-01, 6.0753119e-01],\n",
       "         [4.5542395e-01, 4.9289906e-01, 5.6794977e-01],\n",
       "         [3.0968428e-02, 7.3112381e-01, 3.6320806e-01],\n",
       "         ...,\n",
       "         [9.2369354e-01, 9.6986794e-01, 3.1034529e-01],\n",
       "         [7.1693635e-01, 5.6748354e-01, 7.7901220e-01],\n",
       "         [9.9643803e-01, 3.5507810e-01, 7.8327918e-01]],\n",
       "\n",
       "        ...,\n",
       "\n",
       "        [[7.8092384e-01, 4.9844158e-01, 8.5804605e-01],\n",
       "         [8.3483768e-01, 8.8393486e-01, 8.0383658e-01],\n",
       "         [6.4812231e-01, 4.4931626e-01, 4.1122675e-02],\n",
       "         ...,\n",
       "         [7.5371230e-01, 5.8878875e-01, 1.5214503e-01],\n",
       "         [9.7801626e-01, 7.3564053e-04, 1.2933314e-01],\n",
       "         [2.2820711e-01, 2.9678047e-01, 9.5229793e-01]],\n",
       "\n",
       "        [[3.9329839e-01, 1.4832032e-01, 9.6219814e-01],\n",
       "         [9.2485690e-01, 1.4790547e-01, 4.8388517e-01],\n",
       "         [1.8907380e-01, 3.9319146e-01, 3.9195204e-01],\n",
       "         ...,\n",
       "         [9.2060041e-01, 3.7757468e-01, 7.6895237e-02],\n",
       "         [5.0595701e-01, 7.8704059e-01, 8.5112786e-01],\n",
       "         [2.3098636e-01, 2.4577498e-01, 1.4695621e-01]],\n",
       "\n",
       "        [[9.6296680e-01, 6.6002309e-01, 4.2933190e-01],\n",
       "         [1.5787661e-01, 2.1784925e-01, 7.6397705e-01],\n",
       "         [2.2688890e-01, 2.8135896e-02, 3.2214105e-01],\n",
       "         ...,\n",
       "         [4.7245896e-01, 2.3917079e-02, 2.2220433e-01],\n",
       "         [6.5349042e-01, 5.2266777e-01, 4.7417223e-01],\n",
       "         [9.8061645e-01, 4.2534256e-01, 9.3843663e-01]]]], dtype=float32)>"
      ]
     },
     "execution_count": 36,
     "metadata": {},
     "output_type": "execute_result"
    }
   ],
   "source": [
    "tensor = tf.random.uniform(minval = 0, maxval = 1, shape = [1,244,244,3])\n",
    "tensor"
   ]
  },
  {
   "cell_type": "code",
   "execution_count": 39,
   "id": "ce3d1586",
   "metadata": {},
   "outputs": [
    {
     "data": {
      "text/plain": [
       "<tf.Tensor: shape=(244, 244, 3), dtype=float32, numpy=\n",
       "array([[[0.35221994, 0.02371156, 0.76282287],\n",
       "        [0.10944545, 0.04662633, 0.2489177 ],\n",
       "        [0.67171836, 0.6154684 , 0.6925696 ],\n",
       "        ...,\n",
       "        [0.7590625 , 0.03361094, 0.00659776],\n",
       "        [0.26011205, 0.4049698 , 0.34227145],\n",
       "        [0.5369705 , 0.5025617 , 0.10860336]],\n",
       "\n",
       "       [[0.4152869 , 0.7100613 , 0.5092845 ],\n",
       "        [0.50941026, 0.8306656 , 0.2839496 ],\n",
       "        [0.03741431, 0.86522484, 0.30265892],\n",
       "        ...,\n",
       "        [0.8588594 , 0.78787816, 0.0324744 ],\n",
       "        [0.45058262, 0.08392715, 0.3494351 ],\n",
       "        [0.524685  , 0.4765705 , 0.66885364]],\n",
       "\n",
       "       [[0.28073335, 0.81803405, 0.94355977],\n",
       "        [0.5217066 , 0.5765928 , 0.59976935],\n",
       "        [0.8832791 , 0.31919956, 0.7533461 ],\n",
       "        ...,\n",
       "        [0.11536586, 0.09407699, 0.57505476],\n",
       "        [0.22785425, 0.27746284, 0.49264026],\n",
       "        [0.8639293 , 0.9140707 , 0.87452924]],\n",
       "\n",
       "       ...,\n",
       "\n",
       "       [[0.22984695, 0.27711797, 0.17091882],\n",
       "        [0.58054066, 0.604519  , 0.57981634],\n",
       "        [0.75814927, 0.21346724, 0.3992027 ],\n",
       "        ...,\n",
       "        [0.38482082, 0.16969848, 0.01837516],\n",
       "        [0.1317805 , 0.82835126, 0.6225176 ],\n",
       "        [0.5877905 , 0.6980982 , 0.00945115]],\n",
       "\n",
       "       [[0.63922226, 0.6901604 , 0.2034756 ],\n",
       "        [0.2571336 , 0.5103034 , 0.75340915],\n",
       "        [0.31714177, 0.8200501 , 0.9051199 ],\n",
       "        ...,\n",
       "        [0.6808821 , 0.5643692 , 0.37684596],\n",
       "        [0.843593  , 0.1602279 , 0.7466959 ],\n",
       "        [0.04406357, 0.68810904, 0.69849813]],\n",
       "\n",
       "       [[0.8647114 , 0.0627532 , 0.70615494],\n",
       "        [0.46882677, 0.38877666, 0.89603794],\n",
       "        [0.5236058 , 0.01616514, 0.5409734 ],\n",
       "        ...,\n",
       "        [0.63137424, 0.82607746, 0.3963163 ],\n",
       "        [0.68684995, 0.22898805, 0.3923787 ],\n",
       "        [0.39909303, 0.5574317 , 0.5977148 ]]], dtype=float32)>"
      ]
     },
     "execution_count": 39,
     "metadata": {},
     "output_type": "execute_result"
    }
   ],
   "source": [
    "tensor_squeeze = tf.squeeze(tf.random.uniform(minval =0,maxval =1, shape = [1,244,244,3]))\n",
    "tensor_squeeze"
   ]
  },
  {
   "cell_type": "code",
   "execution_count": 44,
   "id": "85f7cb63",
   "metadata": {},
   "outputs": [
    {
     "data": {
      "text/plain": [
       "<tf.Tensor: shape=(10,), dtype=int32, numpy=array([0, 1, 2, 3, 4, 5, 6, 7, 8, 9])>"
      ]
     },
     "execution_count": 44,
     "metadata": {},
     "output_type": "execute_result"
    }
   ],
   "source": [
    "tensor = tf.range(10)\n",
    "tensor"
   ]
  },
  {
   "cell_type": "code",
   "execution_count": 45,
   "id": "c585172f",
   "metadata": {},
   "outputs": [
    {
     "data": {
      "text/plain": [
       "<tf.Tensor: shape=(), dtype=int64, numpy=9>"
      ]
     },
     "execution_count": 45,
     "metadata": {},
     "output_type": "execute_result"
    }
   ],
   "source": [
    "tf.argmax(tensor)"
   ]
  },
  {
   "cell_type": "code",
   "execution_count": 46,
   "id": "920a4900",
   "metadata": {},
   "outputs": [
    {
     "data": {
      "text/plain": [
       "<tf.Tensor: shape=(), dtype=int64, numpy=0>"
      ]
     },
     "execution_count": 46,
     "metadata": {},
     "output_type": "execute_result"
    }
   ],
   "source": [
    "tf.argmin(tensor)"
   ]
  },
  {
   "cell_type": "code",
   "execution_count": 47,
   "id": "6d2c60f6",
   "metadata": {},
   "outputs": [
    {
     "data": {
      "text/plain": [
       "<tf.Tensor: shape=(), dtype=int64, numpy=9>"
      ]
     },
     "execution_count": 47,
     "metadata": {},
     "output_type": "execute_result"
    }
   ],
   "source": [
    "tf.argmax(tensor)"
   ]
  },
  {
   "cell_type": "code",
   "execution_count": 49,
   "id": "8f803e7f",
   "metadata": {},
   "outputs": [
    {
     "data": {
      "text/plain": [
       "<tf.Tensor: shape=(10, 10), dtype=float32, numpy=\n",
       "array([[1., 0., 0., 0., 0., 0., 0., 0., 0., 0.],\n",
       "       [0., 1., 0., 0., 0., 0., 0., 0., 0., 0.],\n",
       "       [0., 0., 1., 0., 0., 0., 0., 0., 0., 0.],\n",
       "       [0., 0., 0., 1., 0., 0., 0., 0., 0., 0.],\n",
       "       [0., 0., 0., 0., 1., 0., 0., 0., 0., 0.],\n",
       "       [0., 0., 0., 0., 0., 1., 0., 0., 0., 0.],\n",
       "       [0., 0., 0., 0., 0., 0., 1., 0., 0., 0.],\n",
       "       [0., 0., 0., 0., 0., 0., 0., 1., 0., 0.],\n",
       "       [0., 0., 0., 0., 0., 0., 0., 0., 1., 0.],\n",
       "       [0., 0., 0., 0., 0., 0., 0., 0., 0., 1.]], dtype=float32)>"
      ]
     },
     "execution_count": 49,
     "metadata": {},
     "output_type": "execute_result"
    }
   ],
   "source": [
    "tf.one_hot(tensor,depth = tf.size(tensor).numpy())"
   ]
  },
  {
   "cell_type": "code",
   "execution_count": 50,
   "id": "876e5689",
   "metadata": {},
   "outputs": [
    {
     "data": {
      "text/plain": [
       "<tf.Tensor: shape=(1, 3), dtype=float32, numpy=array([[0.6, 1. , 1.2]], dtype=float32)>"
      ]
     },
     "execution_count": 50,
     "metadata": {},
     "output_type": "execute_result"
    }
   ],
   "source": [
    "price = tf.constant([0.6,1.0,1.2],shape = (1,3),dtype = tf.float32)\n",
    "price"
   ]
  },
  {
   "cell_type": "code",
   "execution_count": 51,
   "id": "00fd293e",
   "metadata": {},
   "outputs": [],
   "source": [
    "quantity =  tf.constant([10,20,23],shape = (3,1),dtype = tf.float32)"
   ]
  },
  {
   "cell_type": "code",
   "execution_count": 52,
   "id": "1a4af162",
   "metadata": {},
   "outputs": [
    {
     "data": {
      "text/plain": [
       "<tf.Tensor: shape=(1, 1), dtype=float32, numpy=array([[53.6]], dtype=float32)>"
      ]
     },
     "execution_count": 52,
     "metadata": {},
     "output_type": "execute_result"
    }
   ],
   "source": [
    "total_bill = price @ quantity\n",
    "total_bill"
   ]
  },
  {
   "cell_type": "code",
   "execution_count": 55,
   "id": "7aa33737",
   "metadata": {},
   "outputs": [
    {
     "data": {
      "text/plain": [
       "<tf.Tensor: shape=(1, 1), dtype=float32, numpy=array([[53.6]], dtype=float32)>"
      ]
     },
     "execution_count": 55,
     "metadata": {},
     "output_type": "execute_result"
    }
   ],
   "source": [
    "tf.matmul(price,quantity)"
   ]
  },
  {
   "cell_type": "code",
   "execution_count": 56,
   "id": "71a2f539",
   "metadata": {},
   "outputs": [
    {
     "data": {
      "text/plain": [
       "<tf.Tensor: shape=(1, 1), dtype=float32, numpy=array([[53.6]], dtype=float32)>"
      ]
     },
     "execution_count": 56,
     "metadata": {},
     "output_type": "execute_result"
    }
   ],
   "source": [
    "tf.tensordot(price, quantity, axes =1)"
   ]
  },
  {
   "cell_type": "code",
   "execution_count": 74,
   "id": "c5c6e0d6",
   "metadata": {},
   "outputs": [],
   "source": [
    "x1 = tf.Variable([1.0,2.0],dtype = tf.float32)"
   ]
  },
  {
   "cell_type": "code",
   "execution_count": 75,
   "id": "8aa8c4a5",
   "metadata": {},
   "outputs": [
    {
     "data": {
      "text/plain": [
       "<tf.Variable 'UnreadVariable' shape=(2,) dtype=float32, numpy=array([1., 1.], dtype=float32)>"
      ]
     },
     "execution_count": 75,
     "metadata": {},
     "output_type": "execute_result"
    }
   ],
   "source": [
    "x1[1].assign(1)"
   ]
  },
  {
   "cell_type": "code",
   "execution_count": 76,
   "id": "d58c5f30",
   "metadata": {},
   "outputs": [
    {
     "data": {
      "text/plain": [
       "<tf.Variable 'Variable:0' shape=(2,) dtype=float32, numpy=array([1., 1.], dtype=float32)>"
      ]
     },
     "execution_count": 76,
     "metadata": {},
     "output_type": "execute_result"
    }
   ],
   "source": [
    "x1"
   ]
  },
  {
   "cell_type": "code",
   "execution_count": 77,
   "id": "93ba0369",
   "metadata": {},
   "outputs": [],
   "source": [
    "x1 = tf.constant([1,2])"
   ]
  },
  {
   "cell_type": "code",
   "execution_count": 78,
   "id": "5eb661a0",
   "metadata": {},
   "outputs": [
    {
     "data": {
      "text/plain": [
       "<tf.Tensor: shape=(), dtype=int32, numpy=1>"
      ]
     },
     "execution_count": 78,
     "metadata": {},
     "output_type": "execute_result"
    }
   ],
   "source": [
    "x1[0]"
   ]
  },
  {
   "cell_type": "code",
   "execution_count": 79,
   "id": "1a7672dc",
   "metadata": {},
   "outputs": [
    {
     "ename": "AttributeError",
     "evalue": "'tensorflow.python.framework.ops.EagerTensor' object has no attribute 'assign'",
     "output_type": "error",
     "traceback": [
      "\u001b[1;31m---------------------------------------------------------------------------\u001b[0m",
      "\u001b[1;31mAttributeError\u001b[0m                            Traceback (most recent call last)",
      "\u001b[1;32m<ipython-input-79-17c4d3f3925c>\u001b[0m in \u001b[0;36m<module>\u001b[1;34m\u001b[0m\n\u001b[1;32m----> 1\u001b[1;33m \u001b[0mx1\u001b[0m\u001b[1;33m[\u001b[0m\u001b[1;36m0\u001b[0m\u001b[1;33m]\u001b[0m\u001b[1;33m.\u001b[0m\u001b[0massign\u001b[0m\u001b[1;33m(\u001b[0m\u001b[1;36m1\u001b[0m\u001b[1;33m)\u001b[0m\u001b[1;33m\u001b[0m\u001b[1;33m\u001b[0m\u001b[0m\n\u001b[0m",
      "\u001b[1;32mC:\\ProgramData\\Anaconda3\\lib\\site-packages\\tensorflow\\python\\framework\\ops.py\u001b[0m in \u001b[0;36m__getattr__\u001b[1;34m(self, name)\u001b[0m\n\u001b[0;32m    440\u001b[0m         \u001b[1;32mfrom\u001b[0m \u001b[0mtensorflow\u001b[0m\u001b[1;33m.\u001b[0m\u001b[0mpython\u001b[0m\u001b[1;33m.\u001b[0m\u001b[0mops\u001b[0m\u001b[1;33m.\u001b[0m\u001b[0mnumpy_ops\u001b[0m \u001b[1;32mimport\u001b[0m \u001b[0mnp_config\u001b[0m\u001b[1;33m\u001b[0m\u001b[1;33m\u001b[0m\u001b[0m\n\u001b[0;32m    441\u001b[0m         np_config.enable_numpy_behavior()\"\"\".format(type(self).__name__, name))\n\u001b[1;32m--> 442\u001b[1;33m     \u001b[0mself\u001b[0m\u001b[1;33m.\u001b[0m\u001b[0m__getattribute__\u001b[0m\u001b[1;33m(\u001b[0m\u001b[0mname\u001b[0m\u001b[1;33m)\u001b[0m\u001b[1;33m\u001b[0m\u001b[1;33m\u001b[0m\u001b[0m\n\u001b[0m\u001b[0;32m    443\u001b[0m \u001b[1;33m\u001b[0m\u001b[0m\n\u001b[0;32m    444\u001b[0m   \u001b[1;33m@\u001b[0m\u001b[0mstaticmethod\u001b[0m\u001b[1;33m\u001b[0m\u001b[1;33m\u001b[0m\u001b[0m\n",
      "\u001b[1;31mAttributeError\u001b[0m: 'tensorflow.python.framework.ops.EagerTensor' object has no attribute 'assign'"
     ]
    }
   ],
   "source": [
    "x1[0].assign(1)"
   ]
  },
  {
   "cell_type": "code",
   "execution_count": 80,
   "id": "6b902ea1",
   "metadata": {},
   "outputs": [],
   "source": [
    "tf.random.set_seed(1)"
   ]
  },
  {
   "cell_type": "code",
   "execution_count": 81,
   "id": "b646a5b7",
   "metadata": {},
   "outputs": [
    {
     "data": {
      "text/plain": [
       "<tensorflow.python.ops.stateful_random_ops.Generator at 0x30225f40>"
      ]
     },
     "execution_count": 81,
     "metadata": {},
     "output_type": "execute_result"
    }
   ],
   "source": [
    "random = tf.random.Generator.from_seed(213)\n",
    "random"
   ]
  },
  {
   "cell_type": "code",
   "execution_count": 84,
   "id": "61fa37e2",
   "metadata": {},
   "outputs": [
    {
     "data": {
      "text/plain": [
       "<tf.Tensor: shape=(2, 3), dtype=float32, numpy=\n",
       "array([[ 0.5880542 , -1.8660324 , -0.7760061 ],\n",
       "       [ 0.95657086,  0.0774198 ,  0.7541252 ]], dtype=float32)>"
      ]
     },
     "execution_count": 84,
     "metadata": {},
     "output_type": "execute_result"
    }
   ],
   "source": [
    "random.normal(shape=(2,3))"
   ]
  },
  {
   "cell_type": "code",
   "execution_count": 86,
   "id": "5518a7f1",
   "metadata": {},
   "outputs": [
    {
     "data": {
      "text/plain": [
       "<tf.Tensor: shape=(2, 3), dtype=float32, numpy=\n",
       "array([[0.25940275, 0.43592858, 0.72799075],\n",
       "       [0.0105288 , 0.16165519, 0.5381129 ]], dtype=float32)>"
      ]
     },
     "execution_count": 86,
     "metadata": {},
     "output_type": "execute_result"
    }
   ],
   "source": [
    "random.uniform(shape = (2,3))"
   ]
  },
  {
   "cell_type": "code",
   "execution_count": 89,
   "id": "998ffc77",
   "metadata": {},
   "outputs": [
    {
     "data": {
      "text/plain": [
       "<tf.Tensor: shape=(10,), dtype=int32, numpy=array([0, 1, 2, 3, 4, 5, 6, 7, 8, 9])>"
      ]
     },
     "execution_count": 89,
     "metadata": {},
     "output_type": "execute_result"
    }
   ],
   "source": [
    "tensor = tf.range(10)\n",
    "tensor"
   ]
  },
  {
   "cell_type": "code",
   "execution_count": 91,
   "id": "0230810d",
   "metadata": {},
   "outputs": [
    {
     "data": {
      "text/plain": [
       "<tf.Tensor: shape=(10,), dtype=int32, numpy=array([2, 4, 5, 6, 1, 3, 8, 0, 7, 9])>"
      ]
     },
     "execution_count": 91,
     "metadata": {},
     "output_type": "execute_result"
    }
   ],
   "source": [
    "tf.random.shuffle(tensor)"
   ]
  },
  {
   "cell_type": "code",
   "execution_count": 96,
   "id": "34f2eaab",
   "metadata": {},
   "outputs": [
    {
     "data": {
      "text/plain": [
       "<tf.Tensor: shape=(10, 2), dtype=float32, numpy=\n",
       "array([[0., 0.],\n",
       "       [0., 0.],\n",
       "       [0., 0.],\n",
       "       [0., 0.],\n",
       "       [0., 0.],\n",
       "       [0., 0.],\n",
       "       [0., 0.],\n",
       "       [0., 0.],\n",
       "       [0., 0.],\n",
       "       [0., 0.]], dtype=float32)>"
      ]
     },
     "execution_count": 96,
     "metadata": {},
     "output_type": "execute_result"
    }
   ],
   "source": [
    "tf.zeros(shape = (10,2))"
   ]
  },
  {
   "cell_type": "code",
   "execution_count": 97,
   "id": "8a093fa3",
   "metadata": {},
   "outputs": [
    {
     "data": {
      "text/plain": [
       "<tf.Tensor: shape=(10, 2), dtype=float32, numpy=\n",
       "array([[1., 1.],\n",
       "       [1., 1.],\n",
       "       [1., 1.],\n",
       "       [1., 1.],\n",
       "       [1., 1.],\n",
       "       [1., 1.],\n",
       "       [1., 1.],\n",
       "       [1., 1.],\n",
       "       [1., 1.],\n",
       "       [1., 1.]], dtype=float32)>"
      ]
     },
     "execution_count": 97,
     "metadata": {},
     "output_type": "execute_result"
    }
   ],
   "source": [
    "tf.ones(shape = (10,2))"
   ]
  },
  {
   "cell_type": "code",
   "execution_count": 98,
   "id": "08f0b9d8",
   "metadata": {},
   "outputs": [],
   "source": [
    "tensor = tf.ones(shape = (10,2))"
   ]
  },
  {
   "cell_type": "code",
   "execution_count": 102,
   "id": "6c99b35d",
   "metadata": {},
   "outputs": [
    {
     "data": {
      "text/plain": [
       "TensorShape([10, 2, 1])"
      ]
     },
     "execution_count": 102,
     "metadata": {},
     "output_type": "execute_result"
    }
   ],
   "source": [
    "tensor_expand = tensor[...,tf.newaxis]\n",
    "tensor_expand.shape"
   ]
  },
  {
   "cell_type": "code",
   "execution_count": 104,
   "id": "ee8657b9",
   "metadata": {},
   "outputs": [
    {
     "data": {
      "text/plain": [
       "<tf.Tensor: shape=(10, 2, 1), dtype=float32, numpy=\n",
       "array([[[1.],\n",
       "        [1.]],\n",
       "\n",
       "       [[1.],\n",
       "        [1.]],\n",
       "\n",
       "       [[1.],\n",
       "        [1.]],\n",
       "\n",
       "       [[1.],\n",
       "        [1.]],\n",
       "\n",
       "       [[1.],\n",
       "        [1.]],\n",
       "\n",
       "       [[1.],\n",
       "        [1.]],\n",
       "\n",
       "       [[1.],\n",
       "        [1.]],\n",
       "\n",
       "       [[1.],\n",
       "        [1.]],\n",
       "\n",
       "       [[1.],\n",
       "        [1.]],\n",
       "\n",
       "       [[1.],\n",
       "        [1.]]], dtype=float32)>"
      ]
     },
     "execution_count": 104,
     "metadata": {},
     "output_type": "execute_result"
    }
   ],
   "source": [
    "tf.expand_dims(tensor,axis = -1)"
   ]
  },
  {
   "cell_type": "code",
   "execution_count": 108,
   "id": "e851216f",
   "metadata": {},
   "outputs": [
    {
     "data": {
      "text/plain": [
       "TensorShape([10, 2, 1])"
      ]
     },
     "execution_count": 108,
     "metadata": {},
     "output_type": "execute_result"
    }
   ],
   "source": [
    "tensor_expand = tf.expand_dims(tensor,axis = -1)\n",
    "tensor_expand.shape"
   ]
  },
  {
   "cell_type": "code",
   "execution_count": 109,
   "id": "fcbba643",
   "metadata": {},
   "outputs": [
    {
     "data": {
      "text/plain": [
       "<tf.Tensor: shape=(2, 10), dtype=float32, numpy=\n",
       "array([[1., 1., 1., 1., 1., 1., 1., 1., 1., 1.],\n",
       "       [1., 1., 1., 1., 1., 1., 1., 1., 1., 1.]], dtype=float32)>"
      ]
     },
     "execution_count": 109,
     "metadata": {},
     "output_type": "execute_result"
    }
   ],
   "source": [
    "tensor_transpose = tf.transpose(tensor)\n",
    "tensor_transpose"
   ]
  },
  {
   "cell_type": "code",
   "execution_count": 111,
   "id": "54fea2ba",
   "metadata": {},
   "outputs": [
    {
     "data": {
      "text/plain": [
       "<tf.Tensor: shape=(10, 2, 1), dtype=float16, numpy=\n",
       "array([[[1.],\n",
       "        [1.]],\n",
       "\n",
       "       [[1.],\n",
       "        [1.]],\n",
       "\n",
       "       [[1.],\n",
       "        [1.]],\n",
       "\n",
       "       [[1.],\n",
       "        [1.]],\n",
       "\n",
       "       [[1.],\n",
       "        [1.]],\n",
       "\n",
       "       [[1.],\n",
       "        [1.]],\n",
       "\n",
       "       [[1.],\n",
       "        [1.]],\n",
       "\n",
       "       [[1.],\n",
       "        [1.]],\n",
       "\n",
       "       [[1.],\n",
       "        [1.]],\n",
       "\n",
       "       [[1.],\n",
       "        [1.]]], dtype=float16)>"
      ]
     },
     "execution_count": 111,
     "metadata": {},
     "output_type": "execute_result"
    }
   ],
   "source": [
    "tensor_cast = tf.cast(tensor_expand, dtype= tf.float16)\n",
    "tensor_cast"
   ]
  },
  {
   "cell_type": "code",
   "execution_count": 112,
   "id": "7f3f9cdf",
   "metadata": {},
   "outputs": [
    {
     "data": {
      "text/plain": [
       "<tf.Tensor: shape=(10, 2), dtype=float32, numpy=\n",
       "array([[1., 1.],\n",
       "       [1., 1.],\n",
       "       [1., 1.],\n",
       "       [1., 1.],\n",
       "       [1., 1.],\n",
       "       [1., 1.],\n",
       "       [1., 1.],\n",
       "       [1., 1.],\n",
       "       [1., 1.],\n",
       "       [1., 1.]], dtype=float32)>"
      ]
     },
     "execution_count": 112,
     "metadata": {},
     "output_type": "execute_result"
    }
   ],
   "source": [
    "tf.abs(tensor)"
   ]
  },
  {
   "cell_type": "code",
   "execution_count": 113,
   "id": "1af34fa1",
   "metadata": {},
   "outputs": [
    {
     "data": {
      "text/plain": [
       "<tf.Tensor: shape=(), dtype=float32, numpy=1.0>"
      ]
     },
     "execution_count": 113,
     "metadata": {},
     "output_type": "execute_result"
    }
   ],
   "source": [
    "tf.reduce_min(tensor)"
   ]
  },
  {
   "cell_type": "code",
   "execution_count": 114,
   "id": "2a6f0c94",
   "metadata": {},
   "outputs": [
    {
     "data": {
      "text/plain": [
       "<tf.Tensor: shape=(), dtype=float32, numpy=1.0>"
      ]
     },
     "execution_count": 114,
     "metadata": {},
     "output_type": "execute_result"
    }
   ],
   "source": [
    "tf.reduce_max(tensor)"
   ]
  },
  {
   "cell_type": "code",
   "execution_count": 115,
   "id": "88ae36a5",
   "metadata": {},
   "outputs": [
    {
     "data": {
      "text/plain": [
       "<tf.Tensor: shape=(), dtype=float32, numpy=1.0>"
      ]
     },
     "execution_count": 115,
     "metadata": {},
     "output_type": "execute_result"
    }
   ],
   "source": [
    "tf.reduce_mean(tensor)"
   ]
  },
  {
   "cell_type": "code",
   "execution_count": 116,
   "id": "e383da73",
   "metadata": {},
   "outputs": [
    {
     "data": {
      "text/plain": [
       "<tf.Tensor: shape=(), dtype=float32, numpy=20.0>"
      ]
     },
     "execution_count": 116,
     "metadata": {},
     "output_type": "execute_result"
    }
   ],
   "source": [
    "tf.reduce_sum(tensor)"
   ]
  },
  {
   "cell_type": "code",
   "execution_count": 119,
   "id": "c0223024",
   "metadata": {},
   "outputs": [],
   "source": [
    "import tensorflow_probability as tfp"
   ]
  },
  {
   "cell_type": "code",
   "execution_count": 121,
   "id": "4daabbb5",
   "metadata": {},
   "outputs": [
    {
     "data": {
      "text/plain": [
       "<tf.Tensor: shape=(2,), dtype=float32, numpy=array([0., 0.], dtype=float32)>"
      ]
     },
     "execution_count": 121,
     "metadata": {},
     "output_type": "execute_result"
    }
   ],
   "source": [
    "var = tfp.stats.variance(tensor)\n",
    "var"
   ]
  },
  {
   "cell_type": "code",
   "execution_count": 123,
   "id": "5addafdd",
   "metadata": {},
   "outputs": [
    {
     "data": {
      "text/plain": [
       "<tf.Tensor: shape=(), dtype=float32, numpy=0.0>"
      ]
     },
     "execution_count": 123,
     "metadata": {},
     "output_type": "execute_result"
    }
   ],
   "source": [
    "std = tf.math.reduce_std(tensor)\n",
    "std"
   ]
  },
  {
   "cell_type": "code",
   "execution_count": 124,
   "id": "c182c006",
   "metadata": {},
   "outputs": [
    {
     "data": {
      "text/plain": [
       "<tf.Tensor: shape=(2,), dtype=int64, numpy=array([0, 0], dtype=int64)>"
      ]
     },
     "execution_count": 124,
     "metadata": {},
     "output_type": "execute_result"
    }
   ],
   "source": [
    "tf.argmax(tensor)"
   ]
  },
  {
   "cell_type": "code",
   "execution_count": 125,
   "id": "2012a3d6",
   "metadata": {},
   "outputs": [
    {
     "data": {
      "text/plain": [
       "<tf.Tensor: shape=(2,), dtype=int64, numpy=array([0, 0], dtype=int64)>"
      ]
     },
     "execution_count": 125,
     "metadata": {},
     "output_type": "execute_result"
    }
   ],
   "source": [
    "tf.argmin(tensor)"
   ]
  },
  {
   "cell_type": "code",
   "execution_count": 127,
   "id": "85b846b2",
   "metadata": {},
   "outputs": [],
   "source": [
    "tensor = tf.range(5)"
   ]
  },
  {
   "cell_type": "code",
   "execution_count": 128,
   "id": "af6db3de",
   "metadata": {},
   "outputs": [
    {
     "data": {
      "text/plain": [
       "<tf.Tensor: shape=(5, 5), dtype=float32, numpy=\n",
       "array([[1., 0., 0., 0., 0.],\n",
       "       [0., 1., 0., 0., 0.],\n",
       "       [0., 0., 1., 0., 0.],\n",
       "       [0., 0., 0., 1., 0.],\n",
       "       [0., 0., 0., 0., 1.]], dtype=float32)>"
      ]
     },
     "execution_count": 128,
     "metadata": {},
     "output_type": "execute_result"
    }
   ],
   "source": [
    "tf.one_hot(tensor,depth = tf.size(tensor).numpy())"
   ]
  },
  {
   "cell_type": "code",
   "execution_count": 129,
   "id": "26e12910",
   "metadata": {},
   "outputs": [
    {
     "data": {
      "text/plain": [
       "<tf.Tensor: shape=(5, 5), dtype=string, numpy=\n",
       "array([[b'bar', b'foo', b'foo', b'foo', b'foo'],\n",
       "       [b'foo', b'bar', b'foo', b'foo', b'foo'],\n",
       "       [b'foo', b'foo', b'bar', b'foo', b'foo'],\n",
       "       [b'foo', b'foo', b'foo', b'bar', b'foo'],\n",
       "       [b'foo', b'foo', b'foo', b'foo', b'bar']], dtype=object)>"
      ]
     },
     "execution_count": 129,
     "metadata": {},
     "output_type": "execute_result"
    }
   ],
   "source": [
    "tf.one_hot(tensor,depth = tf.size(tensor).numpy(),on_value = 'bar',off_value = 'foo')"
   ]
  },
  {
   "cell_type": "code",
   "execution_count": 130,
   "id": "e72b2f2c",
   "metadata": {},
   "outputs": [],
   "source": [
    "H = tf.range(10)"
   ]
  },
  {
   "cell_type": "code",
   "execution_count": 131,
   "id": "eeccda4f",
   "metadata": {},
   "outputs": [
    {
     "data": {
      "text/plain": [
       "<tf.Tensor: shape=(2, 5), dtype=int32, numpy=\n",
       "array([[0, 1, 2, 3, 4],\n",
       "       [5, 6, 7, 8, 9]])>"
      ]
     },
     "execution_count": 131,
     "metadata": {},
     "output_type": "execute_result"
    }
   ],
   "source": [
    "H = tf.reshape(H,shape = (2,5))\n",
    "H"
   ]
  },
  {
   "cell_type": "code",
   "execution_count": 132,
   "id": "415161a3",
   "metadata": {},
   "outputs": [
    {
     "data": {
      "text/plain": [
       "<tf.Tensor: shape=(2, 5), dtype=float32, numpy=\n",
       "array([[0.        , 0.99999994, 1.4142134 , 1.7320508 , 1.9999999 ],\n",
       "       [2.236068  , 2.4494896 , 2.6457512 , 2.828427  , 3.        ]],\n",
       "      dtype=float32)>"
      ]
     },
     "execution_count": 132,
     "metadata": {},
     "output_type": "execute_result"
    }
   ],
   "source": [
    "tf.sqrt(tf.cast(H,dtype = tf.float32))"
   ]
  },
  {
   "cell_type": "code",
   "execution_count": 133,
   "id": "5483f8b1",
   "metadata": {},
   "outputs": [
    {
     "data": {
      "text/plain": [
       "<tf.Tensor: shape=(2, 5), dtype=int32, numpy=\n",
       "array([[ 0,  1,  4,  9, 16],\n",
       "       [25, 36, 49, 64, 81]])>"
      ]
     },
     "execution_count": 133,
     "metadata": {},
     "output_type": "execute_result"
    }
   ],
   "source": [
    "tf.square(H)"
   ]
  },
  {
   "cell_type": "code",
   "execution_count": 134,
   "id": "ebdbd607",
   "metadata": {},
   "outputs": [
    {
     "data": {
      "text/plain": [
       "<tf.Tensor: shape=(2, 5), dtype=float32, numpy=\n",
       "array([[     -inf, 0.       , 0.6931472, 1.0986123, 1.3862944],\n",
       "       [1.609438 , 1.7917595, 1.9459102, 2.0794415, 2.1972246]],\n",
       "      dtype=float32)>"
      ]
     },
     "execution_count": 134,
     "metadata": {},
     "output_type": "execute_result"
    }
   ],
   "source": [
    "tf.math.log(tf.cast(H,dtype = tf.float32))"
   ]
  },
  {
   "cell_type": "code",
   "execution_count": 136,
   "id": "bd2aaac3",
   "metadata": {},
   "outputs": [
    {
     "data": {
      "text/plain": [
       "array([[0, 1, 2, 3, 4],\n",
       "       [5, 6, 7, 8, 9]])"
      ]
     },
     "execution_count": 136,
     "metadata": {},
     "output_type": "execute_result"
    }
   ],
   "source": [
    "numpy_array = np.array(H)\n",
    "numpy_array"
   ]
  },
  {
   "cell_type": "code",
   "execution_count": 137,
   "id": "e0fc8e8c",
   "metadata": {},
   "outputs": [
    {
     "data": {
      "text/plain": [
       "array([[0, 1, 2, 3, 4],\n",
       "       [5, 6, 7, 8, 9]])"
      ]
     },
     "execution_count": 137,
     "metadata": {},
     "output_type": "execute_result"
    }
   ],
   "source": [
    "H.numpy()"
   ]
  },
  {
   "cell_type": "code",
   "execution_count": 138,
   "id": "10e4f995",
   "metadata": {},
   "outputs": [],
   "source": [
    "import tensorflow as tf"
   ]
  },
  {
   "cell_type": "code",
   "execution_count": 139,
   "id": "dc8d8252",
   "metadata": {},
   "outputs": [
    {
     "name": "stdout",
     "output_type": "stream",
     "text": [
      "Input\n",
      "Model\n",
      "Sequential\n",
      "__builtins__\n",
      "__cached__\n",
      "__doc__\n",
      "__file__\n",
      "__internal__\n",
      "__loader__\n",
      "__name__\n",
      "__package__\n",
      "__path__\n",
      "__spec__\n",
      "__version__\n",
      "_sys\n",
      "activations\n",
      "applications\n",
      "backend\n",
      "callbacks\n",
      "constraints\n",
      "datasets\n",
      "estimator\n",
      "experimental\n",
      "initializers\n",
      "layers\n",
      "losses\n",
      "metrics\n",
      "mixed_precision\n",
      "models\n",
      "optimizers\n",
      "preprocessing\n",
      "regularizers\n",
      "utils\n",
      "wrappers\n"
     ]
    }
   ],
   "source": [
    "for i in dir(tf.keras):\n",
    "    print(i)"
   ]
  },
  {
   "cell_type": "code",
   "execution_count": 261,
   "id": "ac3b2707",
   "metadata": {},
   "outputs": [
    {
     "data": {
      "text/plain": [
       "Text(0.5, 1.0, 'data visualization')"
      ]
     },
     "execution_count": 261,
     "metadata": {},
     "output_type": "execute_result"
    },
    {
     "data": {
      "image/png": "[encoded data removed]",
      "text/plain": [
       "<Figure size 432x288 with 1 Axes>"
      ]
     },
     "metadata": {
      "needs_background": "light"
     },
     "output_type": "display_data"
    }
   ],
   "source": [
    "# creating data to view and fit\n",
    "import numpy as np \n",
    "import matplotlib.pyplot as plt \n",
    "\n",
    "# create features or data, or input \n",
    "X = np.array([-7.0, -4.0, -1.0, 2.0, 5.0, 8.0, 11.0, 14.0])\n",
    "# create label \n",
    "y = np.array([3.0, 6.0, 9.0, 12.0, 15.0, 18.0, 21.0, 24.0])\n",
    "plt.scatter(X,y)\n",
    "plt.plot(X,y)\n",
    "plt.xlabel(\"features\")\n",
    "plt.ylabel(\"label\")\n",
    "plt.title(\"data visualization\")"
   ]
  },
  {
   "cell_type": "code",
   "execution_count": 262,
   "id": "c5428f87",
   "metadata": {},
   "outputs": [
    {
     "data": {
      "text/plain": [
       "array([ True,  True,  True,  True,  True,  True,  True,  True])"
      ]
     },
     "execution_count": 262,
     "metadata": {},
     "output_type": "execute_result"
    }
   ],
   "source": [
    "y == X + 10"
   ]
  },
  {
   "cell_type": "code",
   "execution_count": 263,
   "id": "ad5d0a38",
   "metadata": {},
   "outputs": [
    {
     "data": {
      "text/plain": [
       "(<tf.Tensor: shape=(3,), dtype=string, numpy=array([b'bedroom', b'bathroom', b'garage'], dtype=object)>,\n",
       " <tf.Tensor: shape=(1,), dtype=int32, numpy=array([939700])>)"
      ]
     },
     "execution_count": 263,
     "metadata": {},
     "output_type": "execute_result"
    }
   ],
   "source": [
    "# input and output shape\n",
    "# create a demo tensor for our housing price prediction problem\n",
    "house_info = tf.constant(['bedroom','bathroom','garage'])\n",
    "house_price = tf.constant([939700])\n",
    "house_info,house_price"
   ]
  },
  {
   "cell_type": "code",
   "execution_count": 264,
   "id": "99765469",
   "metadata": {},
   "outputs": [],
   "source": [
    "# turn our numpy arrays into tensors\n",
    "X = tf.cast(tf.constant(X),dtype = tf.float32)\n",
    "y = tf.cast(tf.constant(y),dtype = tf.float32)"
   ]
  },
  {
   "cell_type": "code",
   "execution_count": 265,
   "id": "e3ae9a9a",
   "metadata": {},
   "outputs": [
    {
     "data": {
      "text/plain": [
       "(TensorShape([]), TensorShape([]))"
      ]
     },
     "execution_count": 265,
     "metadata": {},
     "output_type": "execute_result"
    }
   ],
   "source": [
    "input_shape = X[0].shape\n",
    "output_shape = y[0].shape\n",
    "input_shape,output_shape"
   ]
  },
  {
   "cell_type": "code",
   "execution_count": 266,
   "id": "ffa22b42",
   "metadata": {},
   "outputs": [
    {
     "data": {
      "text/plain": [
       "<tf.Tensor: shape=(8, 1), dtype=float32, numpy=\n",
       "array([[-7.],\n",
       "       [-4.],\n",
       "       [-1.],\n",
       "       [ 2.],\n",
       "       [ 5.],\n",
       "       [ 8.],\n",
       "       [11.],\n",
       "       [14.]], dtype=float32)>"
      ]
     },
     "execution_count": 266,
     "metadata": {},
     "output_type": "execute_result"
    }
   ],
   "source": [
    "# expand feature's dim\n",
    "X = tf.expand_dims(X,axis = -1)\n",
    "X"
   ]
  },
  {
   "cell_type": "code",
   "execution_count": 267,
   "id": "51ffa26a",
   "metadata": {},
   "outputs": [
    {
     "data": {
      "text/plain": [
       "TensorShape([1])"
      ]
     },
     "execution_count": 267,
     "metadata": {},
     "output_type": "execute_result"
    }
   ],
   "source": [
    "X[0].shape"
   ]
  },
  {
   "cell_type": "code",
   "execution_count": 268,
   "id": "daaea956",
   "metadata": {},
   "outputs": [
    {
     "name": "stdout",
     "output_type": "stream",
     "text": [
      "BinaryCrossentropy\n",
      "CategoricalCrossentropy\n",
      "CategoricalHinge\n",
      "CosineSimilarity\n",
      "Hinge\n",
      "Huber\n",
      "KLD\n",
      "KLDivergence\n",
      "LogCosh\n",
      "Loss\n",
      "MAE\n",
      "MAPE\n",
      "MSE\n",
      "MSLE\n",
      "MeanAbsoluteError\n",
      "MeanAbsolutePercentageError\n",
      "MeanSquaredError\n",
      "MeanSquaredLogarithmicError\n",
      "Poisson\n",
      "Reduction\n",
      "SparseCategoricalCrossentropy\n",
      "SquaredHinge\n",
      "__builtins__\n",
      "__cached__\n",
      "__doc__\n",
      "__file__\n",
      "__loader__\n",
      "__name__\n",
      "__package__\n",
      "__path__\n",
      "__spec__\n",
      "_sys\n",
      "binary_crossentropy\n",
      "categorical_crossentropy\n",
      "categorical_hinge\n",
      "cosine_similarity\n",
      "deserialize\n",
      "get\n",
      "hinge\n",
      "huber\n",
      "kl_divergence\n",
      "kld\n",
      "kullback_leibler_divergence\n",
      "log_cosh\n",
      "logcosh\n",
      "mae\n",
      "mape\n",
      "mean_absolute_error\n",
      "mean_absolute_percentage_error\n",
      "mean_squared_error\n",
      "mean_squared_logarithmic_error\n",
      "mse\n",
      "msle\n",
      "poisson\n",
      "serialize\n",
      "sparse_categorical_crossentropy\n",
      "squared_hinge\n"
     ]
    }
   ],
   "source": [
    "for i in dir(tf.keras.losses):\n",
    "    print(i)"
   ]
  },
  {
   "cell_type": "code",
   "execution_count": 269,
   "id": "0405cb48",
   "metadata": {},
   "outputs": [
    {
     "name": "stdout",
     "output_type": "stream",
     "text": [
      "Adadelta\n",
      "Adagrad\n",
      "Adam\n",
      "Adamax\n",
      "Ftrl\n",
      "Nadam\n",
      "Optimizer\n",
      "RMSprop\n",
      "SGD\n",
      "__builtins__\n",
      "__cached__\n",
      "__doc__\n",
      "__file__\n",
      "__loader__\n",
      "__name__\n",
      "__package__\n",
      "__path__\n",
      "__spec__\n",
      "_sys\n",
      "deserialize\n",
      "get\n",
      "schedules\n",
      "serialize\n"
     ]
    }
   ],
   "source": [
    "for i in dir(tf.keras.optimizers):\n",
    "    print(i)"
   ]
  },
  {
   "cell_type": "code",
   "execution_count": 270,
   "id": "eb9175a2",
   "metadata": {},
   "outputs": [
    {
     "name": "stdout",
     "output_type": "stream",
     "text": [
      "input_shape (1,),output_shape ()\n",
      "Epoch 1/5\n",
      "1/1 [==============================] - 0s 377ms/step - loss: 11.5048 - mae: 11.5048\n",
      "Epoch 2/5\n",
      "1/1 [==============================] - 0s 12ms/step - loss: 11.3723 - mae: 11.3723\n",
      "Epoch 3/5\n",
      "1/1 [==============================] - 0s 9ms/step - loss: 11.2398 - mae: 11.2398\n",
      "Epoch 4/5\n",
      "1/1 [==============================] - 0s 12ms/step - loss: 11.1073 - mae: 11.1073\n",
      "Epoch 5/5\n",
      "1/1 [==============================] - 0s 14ms/step - loss: 10.9748 - mae: 10.9748\n"
     ]
    },
    {
     "data": {
      "text/plain": [
       "<keras.callbacks.History at 0x35659640>"
      ]
     },
     "execution_count": 270,
     "metadata": {},
     "output_type": "execute_result"
    }
   ],
   "source": [
    "# expand feature's dim\n",
    "#X = tf.expand_dims(X,axis = -1)\n",
    "\n",
    "# set random seed\n",
    "tf.random.set_seed(42)\n",
    "# get input shape and output shape\n",
    "input_shape = X[0].shape # the shape of 1 input sample\n",
    "output_shape = y[0].shape # the shape of 1 output sample\n",
    "\n",
    "print(f'input_shape {input_shape},output_shape {output_shape}')\n",
    "\n",
    "# create a model using Sequential API\n",
    "model = tf.keras.Sequential([tf.keras.layers.Dense(1,input_shape = X[0].shape)]) # input layer with 1 node\n",
    "\n",
    "# compile the model\n",
    "model.compile(\n",
    "        loss = tf.keras.losses.mae,\n",
    "        optimizer = tf.keras.optimizers.SGD(),\n",
    "        metrics = ['mae']\n",
    "        )\n",
    "\n",
    "model.fit(tf.expand_dims(X,axis = -1),y,epochs = 5)"
   ]
  },
  {
   "cell_type": "code",
   "execution_count": 271,
   "id": "2aa2aae2",
   "metadata": {},
   "outputs": [
    {
     "name": "stdout",
     "output_type": "stream",
     "text": [
      "Model: \"sequential_20\"\n",
      "_________________________________________________________________\n",
      " Layer (type)                Output Shape              Param #   \n",
      "=================================================================\n",
      " dense_28 (Dense)            (None, 1)                 2         \n",
      "                                                                 \n",
      "=================================================================\n",
      "Total params: 2\n",
      "Trainable params: 2\n",
      "Non-trainable params: 0\n",
      "_________________________________________________________________\n"
     ]
    }
   ],
   "source": [
    "model.summary()"
   ]
  },
  {
   "cell_type": "code",
   "execution_count": 272,
   "id": "eddd45a7",
   "metadata": {},
   "outputs": [],
   "source": [
    "# model.add(tf.keras.layers.Dense(1,input_shape = input_shape))"
   ]
  },
  {
   "cell_type": "code",
   "execution_count": 273,
   "id": "ede9bdaa",
   "metadata": {},
   "outputs": [],
   "source": [
    "# model.summary()"
   ]
  },
  {
   "cell_type": "code",
   "execution_count": 274,
   "id": "67f3aad9",
   "metadata": {},
   "outputs": [
    {
     "data": {
      "text/plain": [
       "[<keras.layers.core.dense.Dense at 0x355db670>]"
      ]
     },
     "execution_count": 274,
     "metadata": {},
     "output_type": "execute_result"
    }
   ],
   "source": [
    "model.layers"
   ]
  },
  {
   "cell_type": "code",
   "execution_count": 275,
   "id": "3895d431",
   "metadata": {},
   "outputs": [
    {
     "data": {
      "text/plain": [
       "<KerasTensor: shape=(None, 1) dtype=float32 (created by layer 'dense_28_input')>"
      ]
     },
     "execution_count": 275,
     "metadata": {},
     "output_type": "execute_result"
    }
   ],
   "source": [
    "model.input"
   ]
  },
  {
   "cell_type": "code",
   "execution_count": 276,
   "id": "74ce2a29",
   "metadata": {},
   "outputs": [
    {
     "data": {
      "text/plain": [
       "[<KerasTensor: shape=(None, 1) dtype=float32 (created by layer 'dense_28_input')>]"
      ]
     },
     "execution_count": 276,
     "metadata": {},
     "output_type": "execute_result"
    }
   ],
   "source": [
    "model.inputs"
   ]
  },
  {
   "cell_type": "code",
   "execution_count": 277,
   "id": "395088b4",
   "metadata": {},
   "outputs": [
    {
     "data": {
      "text/plain": [
       "<KerasTensor: shape=(None, 1) dtype=float32 (created by layer 'dense_28')>"
      ]
     },
     "execution_count": 277,
     "metadata": {},
     "output_type": "execute_result"
    }
   ],
   "source": [
    "model.output"
   ]
  },
  {
   "cell_type": "code",
   "execution_count": 278,
   "id": "47294e50",
   "metadata": {},
   "outputs": [
    {
     "data": {
      "text/plain": [
       "[<KerasTensor: shape=(None, 1) dtype=float32 (created by layer 'dense_28')>]"
      ]
     },
     "execution_count": 278,
     "metadata": {},
     "output_type": "execute_result"
    }
   ],
   "source": [
    "model.outputs"
   ]
  },
  {
   "cell_type": "code",
   "execution_count": 279,
   "id": "86afb16a",
   "metadata": {},
   "outputs": [
    {
     "data": {
      "text/plain": [
       "[<tf.Variable 'dense_28/kernel:0' shape=(1, 1) dtype=float32, numpy=array([[0.74506]], dtype=float32)>,\n",
       " <tf.Variable 'dense_28/bias:0' shape=(1,) dtype=float32, numpy=array([0.05], dtype=float32)>]"
      ]
     },
     "execution_count": 279,
     "metadata": {},
     "output_type": "execute_result"
    }
   ],
   "source": [
    "model.variables"
   ]
  },
  {
   "cell_type": "code",
   "execution_count": 280,
   "id": "c1094ee3",
   "metadata": {},
   "outputs": [
    {
     "data": {
      "text/plain": [
       "[<tf.Variable 'dense_28/kernel:0' shape=(1, 1) dtype=float32, numpy=array([[0.74506]], dtype=float32)>,\n",
       " <tf.Variable 'dense_28/bias:0' shape=(1,) dtype=float32, numpy=array([0.05], dtype=float32)>]"
      ]
     },
     "execution_count": 280,
     "metadata": {},
     "output_type": "execute_result"
    }
   ],
   "source": [
    "model.weights"
   ]
  },
  {
   "cell_type": "code",
   "execution_count": 284,
   "id": "5fa87aa9",
   "metadata": {},
   "outputs": [
    {
     "name": "stdout",
     "output_type": "stream",
     "text": [
      "1/1 [==============================] - 0s 29ms/step\n"
     ]
    },
    {
     "data": {
      "text/plain": [
       "array([[12.716021]], dtype=float32)"
      ]
     },
     "execution_count": 284,
     "metadata": {},
     "output_type": "execute_result"
    }
   ],
   "source": [
    "model.predict(tf.constant([17.0]),verbose = 1)"
   ]
  },
  {
   "cell_type": "code",
   "execution_count": 285,
   "id": "1d3b2b10",
   "metadata": {},
   "outputs": [
    {
     "name": "stdout",
     "output_type": "stream",
     "text": [
      "1/1 [==============================] - 0s 159ms/step - loss: 15.6861 - mae: 15.6861\n"
     ]
    },
    {
     "data": {
      "text/plain": [
       "[15.686149597167969, 15.686149597167969]"
      ]
     },
     "execution_count": 285,
     "metadata": {},
     "output_type": "execute_result"
    }
   ],
   "source": [
    "X_test = tf.constant([20.,21.,22.,23.,24.,25.])\n",
    "y_test = X_test + 10 \n",
    "model.evaluate(tf.expand_dims(X_test,axis = -1),y_test,verbose=1)"
   ]
  },
  {
   "cell_type": "code",
   "execution_count": 286,
   "id": "509b40c1",
   "metadata": {},
   "outputs": [
    {
     "data": {
      "text/plain": [
       "<function keras.losses.mean_absolute_error(y_true, y_pred)>"
      ]
     },
     "execution_count": 286,
     "metadata": {},
     "output_type": "execute_result"
    }
   ],
   "source": [
    "model.loss"
   ]
  },
  {
   "cell_type": "code",
   "execution_count": 287,
   "id": "c827737e",
   "metadata": {},
   "outputs": [
    {
     "data": {
      "text/plain": [
       "[]"
      ]
     },
     "execution_count": 287,
     "metadata": {},
     "output_type": "execute_result"
    }
   ],
   "source": [
    "model.losses"
   ]
  },
  {
   "cell_type": "code",
   "execution_count": 288,
   "id": "46a670fb",
   "metadata": {},
   "outputs": [
    {
     "data": {
      "text/plain": [
       "[<keras.metrics.Mean at 0x35639160>,\n",
       " <keras.metrics.MeanMetricWrapper at 0x35898550>]"
      ]
     },
     "execution_count": 288,
     "metadata": {},
     "output_type": "execute_result"
    }
   ],
   "source": [
    "model.metrics"
   ]
  },
  {
   "cell_type": "code",
   "execution_count": 289,
   "id": "6387868c",
   "metadata": {},
   "outputs": [
    {
     "data": {
      "text/plain": [
       "'sequential_20'"
      ]
     },
     "execution_count": 289,
     "metadata": {},
     "output_type": "execute_result"
    }
   ],
   "source": [
    "model.name"
   ]
  },
  {
   "cell_type": "code",
   "execution_count": 291,
   "id": "df440abf",
   "metadata": {},
   "outputs": [
    {
     "data": {
      "text/plain": [
       "<keras.optimizer_v2.gradient_descent.SGD at 0x3561d370>"
      ]
     },
     "execution_count": 291,
     "metadata": {},
     "output_type": "execute_result"
    }
   ],
   "source": [
    "model.optimizer"
   ]
  },
  {
   "cell_type": "code",
   "execution_count": 292,
   "id": "da5bb30f",
   "metadata": {},
   "outputs": [
    {
     "data": {
      "text/plain": [
       "<bound method Sequential.pop of <keras.engine.sequential.Sequential object at 0x00000000355DB7C0>>"
      ]
     },
     "execution_count": 292,
     "metadata": {},
     "output_type": "execute_result"
    }
   ],
   "source": [
    "model.pop"
   ]
  },
  {
   "cell_type": "code",
   "execution_count": 293,
   "id": "06d07e5c",
   "metadata": {},
   "outputs": [
    {
     "data": {
      "text/plain": [
       "False"
      ]
     },
     "execution_count": 293,
     "metadata": {},
     "output_type": "execute_result"
    }
   ],
   "source": [
    "model.stateful"
   ]
  },
  {
   "cell_type": "code",
   "execution_count": 294,
   "id": "e50cf45b",
   "metadata": {},
   "outputs": [
    {
     "data": {
      "text/plain": [
       "(<keras.engine.input_layer.InputLayer at 0x3561dbe0>,\n",
       " <keras.layers.core.dense.Dense at 0x355db670>)"
      ]
     },
     "execution_count": 294,
     "metadata": {},
     "output_type": "execute_result"
    }
   ],
   "source": [
    "model.submodules"
   ]
  },
  {
   "cell_type": "code",
   "execution_count": 295,
   "id": "7c03fd55",
   "metadata": {},
   "outputs": [
    {
     "data": {
      "text/plain": [
       "True"
      ]
     },
     "execution_count": 295,
     "metadata": {},
     "output_type": "execute_result"
    }
   ],
   "source": [
    "model.trainable"
   ]
  },
  {
   "cell_type": "code",
   "execution_count": 297,
   "id": "3bdf7403",
   "metadata": {},
   "outputs": [
    {
     "name": "stderr",
     "output_type": "stream",
     "text": [
      "<ipython-input-297-c13b30bff278>:1: UserWarning: `layer.updates` will be removed in a future version. This property should not be used in TensorFlow 2.0, as `updates` are applied automatically.\n",
      "  model.updates\n"
     ]
    },
    {
     "data": {
      "text/plain": [
       "[]"
      ]
     },
     "execution_count": 297,
     "metadata": {},
     "output_type": "execute_result"
    }
   ],
   "source": [
    "model.updates"
   ]
  },
  {
   "cell_type": "code",
   "execution_count": 298,
   "id": "0a0ff2bd",
   "metadata": {},
   "outputs": [
    {
     "data": {
      "text/plain": [
       "<bound method Model.save of <keras.engine.sequential.Sequential object at 0x00000000355DB7C0>>"
      ]
     },
     "execution_count": 298,
     "metadata": {},
     "output_type": "execute_result"
    }
   ],
   "source": [
    "model.save"
   ]
  },
  {
   "cell_type": "code",
   "execution_count": 309,
   "id": "9af1f9c0",
   "metadata": {},
   "outputs": [
    {
     "name": "stdout",
     "output_type": "stream",
     "text": [
      "Epoch 1/100\n",
      "1/1 [==============================] - 0s 385ms/step - loss: 17.3881 - mae: 17.3881\n",
      "Epoch 2/100\n",
      "1/1 [==============================] - 0s 4ms/step - loss: 11.5135 - mae: 11.5135\n",
      "Epoch 3/100\n",
      "1/1 [==============================] - 0s 5ms/step - loss: 13.3794 - mae: 13.3794\n",
      "Epoch 4/100\n",
      "1/1 [==============================] - 0s 10ms/step - loss: 13.2520 - mae: 13.2520\n",
      "Epoch 5/100\n",
      "1/1 [==============================] - 0s 12ms/step - loss: 13.1229 - mae: 13.1229\n",
      "Epoch 6/100\n",
      "1/1 [==============================] - 0s 5ms/step - loss: 12.9896 - mae: 12.9896\n",
      "Epoch 7/100\n",
      "1/1 [==============================] - 0s 12ms/step - loss: 12.8492 - mae: 12.8492\n",
      "Epoch 8/100\n",
      "1/1 [==============================] - 0s 6ms/step - loss: 12.6984 - mae: 12.6984\n",
      "Epoch 9/100\n",
      "1/1 [==============================] - 0s 16ms/step - loss: 12.5323 - mae: 12.5323\n",
      "Epoch 10/100\n",
      "1/1 [==============================] - 0s 11ms/step - loss: 12.3441 - mae: 12.3441\n",
      "Epoch 11/100\n",
      "1/1 [==============================] - 0s 12ms/step - loss: 12.1223 - mae: 12.1223\n",
      "Epoch 12/100\n",
      "1/1 [==============================] - 0s 4ms/step - loss: 11.8471 - mae: 11.8471\n",
      "Epoch 13/100\n",
      "1/1 [==============================] - 0s 10ms/step - loss: 11.4783 - mae: 11.4783\n",
      "Epoch 14/100\n",
      "1/1 [==============================] - 0s 8ms/step - loss: 10.9237 - mae: 10.9237\n",
      "Epoch 15/100\n",
      "1/1 [==============================] - 0s 10ms/step - loss: 9.9239 - mae: 9.9239\n",
      "Epoch 16/100\n",
      "1/1 [==============================] - 0s 8ms/step - loss: 7.5223 - mae: 7.5223\n",
      "Epoch 17/100\n",
      "1/1 [==============================] - 0s 11ms/step - loss: 9.9715 - mae: 9.9715\n",
      "Epoch 18/100\n",
      "1/1 [==============================] - 0s 15ms/step - loss: 10.7287 - mae: 10.7287\n",
      "Epoch 19/100\n",
      "1/1 [==============================] - 0s 9ms/step - loss: 9.6792 - mae: 9.6792\n",
      "Epoch 20/100\n",
      "1/1 [==============================] - 0s 19ms/step - loss: 7.6088 - mae: 7.6088\n",
      "Epoch 21/100\n",
      "1/1 [==============================] - 0s 14ms/step - loss: 5.8069 - mae: 5.8069\n",
      "Epoch 22/100\n",
      "1/1 [==============================] - 0s 8ms/step - loss: 10.5631 - mae: 10.5631\n",
      "Epoch 23/100\n",
      "1/1 [==============================] - 0s 10ms/step - loss: 10.1687 - mae: 10.1687\n",
      "Epoch 24/100\n",
      "1/1 [==============================] - 0s 8ms/step - loss: 9.8050 - mae: 9.8050\n",
      "Epoch 25/100\n",
      "1/1 [==============================] - 0s 6ms/step - loss: 9.3313 - mae: 9.3313\n",
      "Epoch 26/100\n",
      "1/1 [==============================] - 0s 15ms/step - loss: 8.6509 - mae: 8.6509\n",
      "Epoch 27/100\n",
      "1/1 [==============================] - 0s 14ms/step - loss: 7.4561 - mae: 7.4561\n",
      "Epoch 28/100\n",
      "1/1 [==============================] - 0s 6ms/step - loss: 4.3010 - mae: 4.3010\n",
      "Epoch 29/100\n",
      "1/1 [==============================] - 0s 12ms/step - loss: 14.9927 - mae: 14.9927\n",
      "Epoch 30/100\n",
      "1/1 [==============================] - 0s 10ms/step - loss: 10.6118 - mae: 10.6118\n",
      "Epoch 31/100\n",
      "1/1 [==============================] - 0s 9ms/step - loss: 6.4458 - mae: 6.4458\n",
      "Epoch 32/100\n",
      "1/1 [==============================] - 0s 8ms/step - loss: 5.5592 - mae: 5.5592\n",
      "Epoch 33/100\n",
      "1/1 [==============================] - 0s 10ms/step - loss: 9.7957 - mae: 9.7957\n",
      "Epoch 34/100\n",
      "1/1 [==============================] - 0s 12ms/step - loss: 9.4282 - mae: 9.4282\n",
      "Epoch 35/100\n",
      "1/1 [==============================] - 0s 16ms/step - loss: 8.9834 - mae: 8.9834\n",
      "Epoch 36/100\n",
      "1/1 [==============================] - 0s 6ms/step - loss: 8.4386 - mae: 8.4386\n",
      "Epoch 37/100\n",
      "1/1 [==============================] - 0s 8ms/step - loss: 7.9178 - mae: 7.9178\n",
      "Epoch 38/100\n",
      "1/1 [==============================] - 0s 15ms/step - loss: 7.5217 - mae: 7.5217\n",
      "Epoch 39/100\n",
      "1/1 [==============================] - 0s 6ms/step - loss: 7.0047 - mae: 7.0047\n",
      "Epoch 40/100\n",
      "1/1 [==============================] - 0s 14ms/step - loss: 6.3000 - mae: 6.3000\n",
      "Epoch 41/100\n",
      "1/1 [==============================] - 0s 6ms/step - loss: 5.1100 - mae: 5.1100\n",
      "Epoch 42/100\n",
      "1/1 [==============================] - 0s 9ms/step - loss: 2.0706 - mae: 2.0706\n",
      "Epoch 43/100\n",
      "1/1 [==============================] - 0s 10ms/step - loss: 7.4916 - mae: 7.4916\n",
      "Epoch 44/100\n",
      "1/1 [==============================] - 0s 9ms/step - loss: 6.8542 - mae: 6.8542\n",
      "Epoch 45/100\n",
      "1/1 [==============================] - 0s 13ms/step - loss: 5.6408 - mae: 5.6408\n",
      "Epoch 46/100\n",
      "1/1 [==============================] - 0s 8ms/step - loss: 1.9022 - mae: 1.9022\n",
      "Epoch 47/100\n",
      "1/1 [==============================] - 0s 22ms/step - loss: 32.7806 - mae: 32.7806\n",
      "Epoch 48/100\n",
      "1/1 [==============================] - 0s 18ms/step - loss: 20.5193 - mae: 20.5193\n",
      "Epoch 49/100\n",
      "1/1 [==============================] - 0s 17ms/step - loss: 11.7500 - mae: 11.7500\n",
      "Epoch 50/100\n",
      "1/1 [==============================] - 0s 10ms/step - loss: 6.7677 - mae: 6.7677\n",
      "Epoch 51/100\n",
      "1/1 [==============================] - 0s 10ms/step - loss: 31.2786 - mae: 31.2786\n",
      "Epoch 52/100\n",
      "1/1 [==============================] - 0s 11ms/step - loss: 4.4725 - mae: 4.4725\n",
      "Epoch 53/100\n",
      "1/1 [==============================] - 0s 8ms/step - loss: 15.4242 - mae: 15.4242\n",
      "Epoch 54/100\n",
      "1/1 [==============================] - 0s 9ms/step - loss: 10.2218 - mae: 10.2218\n",
      "Epoch 55/100\n",
      "1/1 [==============================] - 0s 9ms/step - loss: 10.0881 - mae: 10.0881\n",
      "Epoch 56/100\n",
      "1/1 [==============================] - 0s 7ms/step - loss: 9.9384 - mae: 9.9384\n",
      "Epoch 57/100\n",
      "1/1 [==============================] - 0s 4ms/step - loss: 9.7578 - mae: 9.7578\n",
      "Epoch 58/100\n",
      "1/1 [==============================] - 0s 16ms/step - loss: 9.5339 - mae: 9.5339\n",
      "Epoch 59/100\n",
      "1/1 [==============================] - 0s 14ms/step - loss: 9.2562 - mae: 9.2562\n",
      "Epoch 60/100\n",
      "1/1 [==============================] - 0s 4ms/step - loss: 8.9162 - mae: 8.9162\n",
      "Epoch 61/100\n",
      "1/1 [==============================] - 0s 7ms/step - loss: 8.5062 - mae: 8.5062\n",
      "Epoch 62/100\n",
      "1/1 [==============================] - 0s 5ms/step - loss: 8.0585 - mae: 8.0585\n",
      "Epoch 63/100\n",
      "1/1 [==============================] - 0s 8ms/step - loss: 7.7755 - mae: 7.7755\n",
      "Epoch 64/100\n",
      "1/1 [==============================] - 0s 12ms/step - loss: 7.4564 - mae: 7.4564\n",
      "Epoch 65/100\n",
      "1/1 [==============================] - 0s 5ms/step - loss: 7.0779 - mae: 7.0779\n",
      "Epoch 66/100\n",
      "1/1 [==============================] - 0s 9ms/step - loss: 6.5491 - mae: 6.5491\n",
      "Epoch 67/100\n",
      "1/1 [==============================] - 0s 4ms/step - loss: 5.4642 - mae: 5.4642\n",
      "Epoch 68/100\n",
      "1/1 [==============================] - 0s 13ms/step - loss: 1.6390 - mae: 1.6390\n",
      "Epoch 69/100\n",
      "1/1 [==============================] - 0s 5ms/step - loss: 12.7586 - mae: 12.7586\n",
      "Epoch 70/100\n",
      "1/1 [==============================] - 0s 9ms/step - loss: 8.2299 - mae: 8.2299\n",
      "Epoch 71/100\n",
      "1/1 [==============================] - 0s 5ms/step - loss: 6.3386 - mae: 6.3386\n",
      "Epoch 72/100\n",
      "1/1 [==============================] - 0s 7ms/step - loss: 6.0625 - mae: 6.0625\n",
      "Epoch 73/100\n",
      "1/1 [==============================] - 0s 3ms/step - loss: 5.8782 - mae: 5.8782\n",
      "Epoch 74/100\n",
      "1/1 [==============================] - 0s 8ms/step - loss: 5.3828 - mae: 5.3828\n",
      "Epoch 75/100\n",
      "1/1 [==============================] - 0s 11ms/step - loss: 2.7676 - mae: 2.7676\n",
      "Epoch 76/100\n",
      "1/1 [==============================] - 0s 6ms/step - loss: 11.7457 - mae: 11.7457\n",
      "Epoch 77/100\n",
      "1/1 [==============================] - 0s 14ms/step - loss: 7.8570 - mae: 7.8570\n",
      "Epoch 78/100\n",
      "1/1 [==============================] - 0s 5ms/step - loss: 6.8757 - mae: 6.8757\n",
      "Epoch 79/100\n",
      "1/1 [==============================] - 0s 9ms/step - loss: 4.5119 - mae: 4.5119\n",
      "Epoch 80/100\n",
      "1/1 [==============================] - 0s 9ms/step - loss: 6.1020 - mae: 6.1020\n",
      "Epoch 81/100\n",
      "1/1 [==============================] - 0s 4ms/step - loss: 8.2614 - mae: 8.2614\n",
      "Epoch 82/100\n",
      "1/1 [==============================] - 0s 7ms/step - loss: 7.7962 - mae: 7.7962\n",
      "Epoch 83/100\n",
      "1/1 [==============================] - 0s 7ms/step - loss: 7.4602 - mae: 7.4602\n",
      "Epoch 84/100\n",
      "1/1 [==============================] - 0s 13ms/step - loss: 7.0962 - mae: 7.0962\n",
      "Epoch 85/100\n",
      "1/1 [==============================] - 0s 11ms/step - loss: 6.7237 - mae: 6.7237\n",
      "Epoch 86/100\n",
      "1/1 [==============================] - 0s 4ms/step - loss: 6.6152 - mae: 6.6152\n",
      "Epoch 87/100\n",
      "1/1 [==============================] - ETA: 0s - loss: 6.5004 - mae: 6.500 - 0s 4ms/step - loss: 6.5004 - mae: 6.5004\n"
     ]
    },
    {
     "name": "stdout",
     "output_type": "stream",
     "text": [
      "Epoch 88/100\n",
      "1/1 [==============================] - 0s 5ms/step - loss: 6.3785 - mae: 6.3785\n",
      "Epoch 89/100\n",
      "1/1 [==============================] - 0s 9ms/step - loss: 6.2484 - mae: 6.2484\n",
      "Epoch 90/100\n",
      "1/1 [==============================] - 0s 8ms/step - loss: 6.1090 - mae: 6.1090\n",
      "Epoch 91/100\n",
      "1/1 [==============================] - 0s 3ms/step - loss: 5.9991 - mae: 5.9991\n",
      "Epoch 92/100\n",
      "1/1 [==============================] - 0s 8ms/step - loss: 5.9977 - mae: 5.9977\n",
      "Epoch 93/100\n",
      "1/1 [==============================] - 0s 4ms/step - loss: 5.9955 - mae: 5.9955\n",
      "Epoch 94/100\n",
      "1/1 [==============================] - 0s 11ms/step - loss: 5.9914 - mae: 5.9914\n",
      "Epoch 95/100\n",
      "1/1 [==============================] - 0s 5ms/step - loss: 5.9835 - mae: 5.9835\n",
      "Epoch 96/100\n",
      "1/1 [==============================] - 0s 4ms/step - loss: 5.9680 - mae: 5.9680\n",
      "Epoch 97/100\n",
      "1/1 [==============================] - 0s 4ms/step - loss: 5.9368 - mae: 5.9368\n",
      "Epoch 98/100\n",
      "1/1 [==============================] - 0s 8ms/step - loss: 5.8702 - mae: 5.8702\n",
      "Epoch 99/100\n",
      "1/1 [==============================] - 0s 7ms/step - loss: 5.7136 - mae: 5.7136\n",
      "Epoch 100/100\n",
      "1/1 [==============================] - 0s 5ms/step - loss: 5.2792 - mae: 5.2792\n"
     ]
    },
    {
     "data": {
      "text/plain": [
       "<keras.callbacks.History at 0x3626d9d0>"
      ]
     },
     "execution_count": 309,
     "metadata": {},
     "output_type": "execute_result"
    }
   ],
   "source": [
    "# let create build your model\n",
    "\n",
    "# 1.create the model\n",
    "model = tf.keras.Sequential([\n",
    "    tf.keras.layers.Dense(1),\n",
    "    tf.keras.layers.Dense(4),\n",
    "    tf.keras.layers.Dense(2),\n",
    "    tf.keras.layers.Dense(1)\n",
    "])\n",
    "\n",
    "# compile the model\n",
    "model.compile(loss = tf.keras.losses.mae,\n",
    "             optimizer = tf.keras.optimizers.SGD(learning_rate = 0.1),\n",
    "             metrics = ['mae'])\n",
    "\n",
    "model.fit(X,y,epochs = 100, verbose = 1)"
   ]
  },
  {
   "cell_type": "code",
   "execution_count": 310,
   "id": "e958cbb3",
   "metadata": {},
   "outputs": [
    {
     "name": "stdout",
     "output_type": "stream",
     "text": [
      "Model: \"sequential_26\"\n",
      "_________________________________________________________________\n",
      " Layer (type)                Output Shape              Param #   \n",
      "=================================================================\n",
      " dense_46 (Dense)            (None, 1)                 2         \n",
      "                                                                 \n",
      " dense_47 (Dense)            (None, 4)                 8         \n",
      "                                                                 \n",
      " dense_48 (Dense)            (None, 2)                 10        \n",
      "                                                                 \n",
      " dense_49 (Dense)            (None, 1)                 3         \n",
      "                                                                 \n",
      "=================================================================\n",
      "Total params: 23\n",
      "Trainable params: 23\n",
      "Non-trainable params: 0\n",
      "_________________________________________________________________\n"
     ]
    }
   ],
   "source": [
    "model.summary()"
   ]
  },
  {
   "cell_type": "code",
   "execution_count": 311,
   "id": "298ac3fa",
   "metadata": {},
   "outputs": [
    {
     "name": "stdout",
     "output_type": "stream",
     "text": [
      "Epoch 1/100\n",
      "1/1 [==============================] - 0s 354ms/step - loss: 14.7834 - mae: 14.7834\n",
      "Epoch 2/100\n",
      "1/1 [==============================] - 0s 5ms/step - loss: 14.1824 - mae: 14.1824\n",
      "Epoch 3/100\n",
      "1/1 [==============================] - 0s 10ms/step - loss: 13.5905 - mae: 13.5905\n",
      "Epoch 4/100\n",
      "1/1 [==============================] - 0s 5ms/step - loss: 13.0055 - mae: 13.0055\n",
      "Epoch 5/100\n",
      "1/1 [==============================] - 0s 4ms/step - loss: 12.4155 - mae: 12.4155\n",
      "Epoch 6/100\n",
      "1/1 [==============================] - 0s 9ms/step - loss: 11.8244 - mae: 11.8244\n",
      "Epoch 7/100\n",
      "1/1 [==============================] - 0s 9ms/step - loss: 11.2205 - mae: 11.2205\n",
      "Epoch 8/100\n",
      "1/1 [==============================] - 0s 11ms/step - loss: 10.5960 - mae: 10.5960\n",
      "Epoch 9/100\n",
      "1/1 [==============================] - 0s 14ms/step - loss: 9.9485 - mae: 9.9485\n",
      "Epoch 10/100\n",
      "1/1 [==============================] - 0s 13ms/step - loss: 9.2836 - mae: 9.2836\n",
      "Epoch 11/100\n",
      "1/1 [==============================] - 0s 9ms/step - loss: 8.5847 - mae: 8.5847\n",
      "Epoch 12/100\n",
      "1/1 [==============================] - 0s 6ms/step - loss: 7.8400 - mae: 7.8400\n",
      "Epoch 13/100\n",
      "1/1 [==============================] - 0s 12ms/step - loss: 7.0425 - mae: 7.0425\n",
      "Epoch 14/100\n",
      "1/1 [==============================] - 0s 8ms/step - loss: 6.1842 - mae: 6.1842\n",
      "Epoch 15/100\n",
      "1/1 [==============================] - 0s 11ms/step - loss: 5.2571 - mae: 5.2571\n",
      "Epoch 16/100\n",
      "1/1 [==============================] - 0s 9ms/step - loss: 4.5702 - mae: 4.5702\n",
      "Epoch 17/100\n",
      "1/1 [==============================] - 0s 13ms/step - loss: 4.4308 - mae: 4.4308\n",
      "Epoch 18/100\n",
      "1/1 [==============================] - 0s 9ms/step - loss: 4.3661 - mae: 4.3661\n",
      "Epoch 19/100\n",
      "1/1 [==============================] - 0s 4ms/step - loss: 4.3241 - mae: 4.3241\n",
      "Epoch 20/100\n",
      "1/1 [==============================] - 0s 6ms/step - loss: 4.2930 - mae: 4.2930\n",
      "Epoch 21/100\n",
      "1/1 [==============================] - 0s 8ms/step - loss: 4.2168 - mae: 4.2168\n",
      "Epoch 22/100\n",
      "1/1 [==============================] - 0s 11ms/step - loss: 4.2196 - mae: 4.2196\n",
      "Epoch 23/100\n",
      "1/1 [==============================] - 0s 12ms/step - loss: 4.1109 - mae: 4.1109\n",
      "Epoch 24/100\n",
      "1/1 [==============================] - 0s 7ms/step - loss: 4.1427 - mae: 4.1427\n",
      "Epoch 25/100\n",
      "1/1 [==============================] - 0s 12ms/step - loss: 4.0362 - mae: 4.0362\n",
      "Epoch 26/100\n",
      "1/1 [==============================] - 0s 5ms/step - loss: 4.0333 - mae: 4.0333\n",
      "Epoch 27/100\n",
      "1/1 [==============================] - 0s 14ms/step - loss: 3.9605 - mae: 3.9605\n",
      "Epoch 28/100\n",
      "1/1 [==============================] - 0s 6ms/step - loss: 3.9227 - mae: 3.9227\n",
      "Epoch 29/100\n",
      "1/1 [==============================] - 0s 4ms/step - loss: 3.8876 - mae: 3.8876\n",
      "Epoch 30/100\n",
      "1/1 [==============================] - 0s 5ms/step - loss: 3.8607 - mae: 3.8607\n",
      "Epoch 31/100\n",
      "1/1 [==============================] - 0s 11ms/step - loss: 3.9025 - mae: 3.9025\n",
      "Epoch 32/100\n",
      "1/1 [==============================] - 0s 14ms/step - loss: 3.8381 - mae: 3.8381\n",
      "Epoch 33/100\n",
      "1/1 [==============================] - 0s 7ms/step - loss: 3.9098 - mae: 3.9098\n",
      "Epoch 34/100\n",
      "1/1 [==============================] - 0s 8ms/step - loss: 3.8415 - mae: 3.8415\n",
      "Epoch 35/100\n",
      "1/1 [==============================] - 0s 10ms/step - loss: 3.8871 - mae: 3.8871\n",
      "Epoch 36/100\n",
      "1/1 [==============================] - 0s 15ms/step - loss: 3.8490 - mae: 3.8490\n",
      "Epoch 37/100\n",
      "1/1 [==============================] - 0s 4ms/step - loss: 3.8612 - mae: 3.8612\n",
      "Epoch 38/100\n",
      "1/1 [==============================] - 0s 13ms/step - loss: 3.8581 - mae: 3.8581\n",
      "Epoch 39/100\n",
      "1/1 [==============================] - 0s 3ms/step - loss: 3.8415 - mae: 3.8415\n",
      "Epoch 40/100\n",
      "1/1 [==============================] - 0s 13ms/step - loss: 3.8717 - mae: 3.8717\n",
      "Epoch 41/100\n",
      "1/1 [==============================] - 0s 5ms/step - loss: 3.8152 - mae: 3.8152\n",
      "Epoch 42/100\n",
      "1/1 [==============================] - 0s 7ms/step - loss: 3.8795 - mae: 3.8795\n",
      "Epoch 43/100\n",
      "1/1 [==============================] - 0s 13ms/step - loss: 3.8116 - mae: 3.8116\n",
      "Epoch 44/100\n",
      "1/1 [==============================] - 0s 8ms/step - loss: 3.8636 - mae: 3.8636\n",
      "Epoch 45/100\n",
      "1/1 [==============================] - 0s 10ms/step - loss: 3.8194 - mae: 3.8194\n",
      "Epoch 46/100\n",
      "1/1 [==============================] - 0s 12ms/step - loss: 3.8373 - mae: 3.8373\n",
      "Epoch 47/100\n",
      "1/1 [==============================] - 0s 6ms/step - loss: 3.8336 - mae: 3.8336\n",
      "Epoch 48/100\n",
      "1/1 [==============================] - 0s 17ms/step - loss: 3.8173 - mae: 3.8173\n",
      "Epoch 49/100\n",
      "1/1 [==============================] - 0s 6ms/step - loss: 3.8425 - mae: 3.8425\n",
      "Epoch 50/100\n",
      "1/1 [==============================] - 0s 14ms/step - loss: 3.7907 - mae: 3.7907\n",
      "Epoch 51/100\n",
      "1/1 [==============================] - 0s 18ms/step - loss: 3.8506 - mae: 3.8506\n",
      "Epoch 52/100\n",
      "1/1 [==============================] - 0s 12ms/step - loss: 3.7830 - mae: 3.7830\n",
      "Epoch 53/100\n",
      "1/1 [==============================] - 0s 12ms/step - loss: 3.8387 - mae: 3.8387\n",
      "Epoch 54/100\n",
      "1/1 [==============================] - 0s 8ms/step - loss: 3.7910 - mae: 3.7910\n",
      "Epoch 55/100\n",
      "1/1 [==============================] - 0s 18ms/step - loss: 3.8166 - mae: 3.8166\n",
      "Epoch 56/100\n",
      "1/1 [==============================] - 0s 8ms/step - loss: 3.8063 - mae: 3.8063\n",
      "Epoch 57/100\n",
      "1/1 [==============================] - 0s 17ms/step - loss: 3.7918 - mae: 3.7918\n",
      "Epoch 58/100\n",
      "1/1 [==============================] - 0s 4ms/step - loss: 3.8144 - mae: 3.8144\n",
      "Epoch 59/100\n",
      "1/1 [==============================] - 0s 13ms/step - loss: 3.7649 - mae: 3.7649\n",
      "Epoch 60/100\n",
      "1/1 [==============================] - 0s 8ms/step - loss: 3.8227 - mae: 3.8227\n",
      "Epoch 61/100\n",
      "1/1 [==============================] - 0s 7ms/step - loss: 3.7555 - mae: 3.7555\n",
      "Epoch 62/100\n",
      "1/1 [==============================] - 0s 10ms/step - loss: 3.8125 - mae: 3.8125\n",
      "Epoch 63/100\n",
      "1/1 [==============================] - 0s 9ms/step - loss: 3.7657 - mae: 3.7657\n",
      "Epoch 64/100\n",
      "1/1 [==============================] - 0s 9ms/step - loss: 3.7920 - mae: 3.7920\n",
      "Epoch 65/100\n",
      "1/1 [==============================] - 0s 5ms/step - loss: 3.7791 - mae: 3.7791\n",
      "Epoch 66/100\n",
      "1/1 [==============================] - 0s 9ms/step - loss: 3.7650 - mae: 3.7650\n",
      "Epoch 67/100\n",
      "1/1 [==============================] - 0s 5ms/step - loss: 3.7875 - mae: 3.7875\n",
      "Epoch 68/100\n",
      "1/1 [==============================] - 0s 6ms/step - loss: 3.7378 - mae: 3.7378\n",
      "Epoch 69/100\n",
      "1/1 [==============================] - 0s 4ms/step - loss: 3.7960 - mae: 3.7960\n",
      "Epoch 70/100\n",
      "1/1 [==============================] - 0s 4ms/step - loss: 3.7290 - mae: 3.7290\n",
      "Epoch 71/100\n",
      "1/1 [==============================] - 0s 5ms/step - loss: 3.7851 - mae: 3.7851\n",
      "Epoch 72/100\n",
      "1/1 [==============================] - 0s 5ms/step - loss: 3.7445 - mae: 3.7445\n",
      "Epoch 73/100\n",
      "1/1 [==============================] - 0s 8ms/step - loss: 3.7642 - mae: 3.7642\n",
      "Epoch 74/100\n",
      "1/1 [==============================] - 0s 4ms/step - loss: 3.7530 - mae: 3.7530\n",
      "Epoch 75/100\n",
      "1/1 [==============================] - 0s 8ms/step - loss: 3.7368 - mae: 3.7368\n",
      "Epoch 76/100\n",
      "1/1 [==============================] - 0s 5ms/step - loss: 3.7616 - mae: 3.7616\n",
      "Epoch 77/100\n",
      "1/1 [==============================] - 0s 6ms/step - loss: 3.7092 - mae: 3.7092\n",
      "Epoch 78/100\n",
      "1/1 [==============================] - 0s 5ms/step - loss: 3.7703 - mae: 3.7703\n",
      "Epoch 79/100\n",
      "1/1 [==============================] - 0s 5ms/step - loss: 3.7036 - mae: 3.7036\n",
      "Epoch 80/100\n",
      "1/1 [==============================] - 0s 8ms/step - loss: 3.7604 - mae: 3.7604\n",
      "Epoch 81/100\n",
      "1/1 [==============================] - 0s 6ms/step - loss: 3.7193 - mae: 3.7193\n",
      "Epoch 82/100\n",
      "1/1 [==============================] - 0s 8ms/step - loss: 3.7350 - mae: 3.7350\n",
      "Epoch 83/100\n",
      "1/1 [==============================] - 0s 5ms/step - loss: 3.7280 - mae: 3.7280\n",
      "Epoch 84/100\n",
      "1/1 [==============================] - 0s 8ms/step - loss: 3.7073 - mae: 3.7073\n",
      "Epoch 85/100\n",
      "1/1 [==============================] - 0s 4ms/step - loss: 3.7368 - mae: 3.7368\n",
      "Epoch 86/100\n",
      "1/1 [==============================] - 0s 6ms/step - loss: 3.6796 - mae: 3.6796\n",
      "Epoch 87/100\n",
      "1/1 [==============================] - 0s 45ms/step - loss: 3.7456 - mae: 3.7456\n",
      "Epoch 88/100\n"
     ]
    },
    {
     "name": "stdout",
     "output_type": "stream",
     "text": [
      "1/1 [==============================] - 0s 7ms/step - loss: 3.6802 - mae: 3.6802\n",
      "Epoch 89/100\n",
      "1/1 [==============================] - ETA: 0s - loss: 3.7327 - mae: 3.732 - 0s 5ms/step - loss: 3.7327 - mae: 3.7327\n",
      "Epoch 90/100\n",
      "1/1 [==============================] - 0s 7ms/step - loss: 3.6949 - mae: 3.6949\n",
      "Epoch 91/100\n",
      "1/1 [==============================] - 0s 5ms/step - loss: 3.7047 - mae: 3.7047\n",
      "Epoch 92/100\n",
      "1/1 [==============================] - 0s 4ms/step - loss: 3.7038 - mae: 3.7038\n",
      "Epoch 93/100\n",
      "1/1 [==============================] - 0s 4ms/step - loss: 3.6767 - mae: 3.6767\n",
      "Epoch 94/100\n",
      "1/1 [==============================] - 0s 9ms/step - loss: 3.7128 - mae: 3.7128\n",
      "Epoch 95/100\n",
      "1/1 [==============================] - 0s 9ms/step - loss: 3.6487 - mae: 3.6487\n",
      "Epoch 96/100\n",
      "1/1 [==============================] - 0s 3ms/step - loss: 3.7219 - mae: 3.7219\n",
      "Epoch 97/100\n",
      "1/1 [==============================] - 0s 7ms/step - loss: 3.6603 - mae: 3.6603\n",
      "Epoch 98/100\n",
      "1/1 [==============================] - 0s 5ms/step - loss: 3.7015 - mae: 3.7015\n",
      "Epoch 99/100\n",
      "1/1 [==============================] - 0s 9ms/step - loss: 3.6715 - mae: 3.6715\n",
      "Epoch 100/100\n",
      "1/1 [==============================] - 0s 4ms/step - loss: 3.6732 - mae: 3.6732\n"
     ]
    },
    {
     "data": {
      "text/plain": [
       "<keras.callbacks.History at 0x367bd8b0>"
      ]
     },
     "execution_count": 311,
     "metadata": {},
     "output_type": "execute_result"
    }
   ],
   "source": [
    "model = tf.keras.Sequential([\n",
    "    tf.keras.layers.Dense(100,activation = 'relu'),\n",
    "    tf.keras.layers.Dense(1)\n",
    "])\n",
    "\n",
    "model.compile(loss = 'mae',\n",
    "             optimizer = tf.keras.optimizers.SGD(),\n",
    "             metrics = ['mae'])\n",
    "\n",
    "model.fit(X,y,epochs = 100)"
   ]
  },
  {
   "cell_type": "code",
   "execution_count": 312,
   "id": "6157e2a7",
   "metadata": {},
   "outputs": [
    {
     "name": "stdout",
     "output_type": "stream",
     "text": [
      "Model: \"sequential_27\"\n",
      "_________________________________________________________________\n",
      " Layer (type)                Output Shape              Param #   \n",
      "=================================================================\n",
      " dense_50 (Dense)            (None, 100)               200       \n",
      "                                                                 \n",
      " dense_51 (Dense)            (None, 1)                 101       \n",
      "                                                                 \n",
      "=================================================================\n",
      "Total params: 301\n",
      "Trainable params: 301\n",
      "Non-trainable params: 0\n",
      "_________________________________________________________________\n"
     ]
    }
   ],
   "source": [
    "model.summary()"
   ]
  },
  {
   "cell_type": "code",
   "execution_count": 313,
   "id": "f70ed542",
   "metadata": {},
   "outputs": [
    {
     "data": {
      "text/plain": [
       "array([[32.5568]], dtype=float32)"
      ]
     },
     "execution_count": 313,
     "metadata": {},
     "output_type": "execute_result"
    }
   ],
   "source": [
    "model.predict(tf.constant([17.0]))"
   ]
  },
  {
   "cell_type": "code",
   "execution_count": 314,
   "id": "872044b3",
   "metadata": {},
   "outputs": [
    {
     "name": "stdout",
     "output_type": "stream",
     "text": [
      "Epoch 1/100\n",
      "1/1 [==============================] - 0s 399ms/step - loss: 14.4067 - mae: 14.4067\n",
      "Epoch 2/100\n",
      "1/1 [==============================] - 0s 5ms/step - loss: 13.8866 - mae: 13.8866\n",
      "Epoch 3/100\n",
      "1/1 [==============================] - 0s 9ms/step - loss: 13.3768 - mae: 13.3768\n",
      "Epoch 4/100\n",
      "1/1 [==============================] - 0s 9ms/step - loss: 12.8724 - mae: 12.8724\n",
      "Epoch 5/100\n",
      "1/1 [==============================] - 0s 6ms/step - loss: 12.3688 - mae: 12.3688\n",
      "Epoch 6/100\n",
      "1/1 [==============================] - 0s 11ms/step - loss: 11.8616 - mae: 11.8616\n",
      "Epoch 7/100\n",
      "1/1 [==============================] - 0s 8ms/step - loss: 11.3602 - mae: 11.3602\n",
      "Epoch 8/100\n",
      "1/1 [==============================] - 0s 7ms/step - loss: 10.8836 - mae: 10.8836\n",
      "Epoch 9/100\n",
      "1/1 [==============================] - 0s 7ms/step - loss: 10.3899 - mae: 10.3899\n",
      "Epoch 10/100\n",
      "1/1 [==============================] - 0s 29ms/step - loss: 9.8806 - mae: 9.8806\n",
      "Epoch 11/100\n",
      "1/1 [==============================] - 0s 4ms/step - loss: 9.3386 - mae: 9.3386\n",
      "Epoch 12/100\n",
      "1/1 [==============================] - 0s 11ms/step - loss: 8.7637 - mae: 8.7637\n",
      "Epoch 13/100\n",
      "1/1 [==============================] - 0s 8ms/step - loss: 8.1517 - mae: 8.1517\n",
      "Epoch 14/100\n",
      "1/1 [==============================] - 0s 5ms/step - loss: 7.5004 - mae: 7.5004\n",
      "Epoch 15/100\n",
      "1/1 [==============================] - 0s 13ms/step - loss: 6.7992 - mae: 6.7992\n",
      "Epoch 16/100\n",
      "1/1 [==============================] - 0s 12ms/step - loss: 6.0410 - mae: 6.0410\n",
      "Epoch 17/100\n",
      "1/1 [==============================] - 0s 11ms/step - loss: 5.2185 - mae: 5.2185\n",
      "Epoch 18/100\n",
      "1/1 [==============================] - 0s 13ms/step - loss: 4.3238 - mae: 4.3238\n",
      "Epoch 19/100\n",
      "1/1 [==============================] - 0s 6ms/step - loss: 3.9309 - mae: 3.9309\n",
      "Epoch 20/100\n",
      "1/1 [==============================] - 0s 4ms/step - loss: 3.9437 - mae: 3.9437\n",
      "Epoch 21/100\n",
      "1/1 [==============================] - 0s 12ms/step - loss: 3.9091 - mae: 3.9091\n",
      "Epoch 22/100\n",
      "1/1 [==============================] - 0s 5ms/step - loss: 3.9505 - mae: 3.9505\n",
      "Epoch 23/100\n",
      "1/1 [==============================] - 0s 13ms/step - loss: 3.8834 - mae: 3.8834\n",
      "Epoch 24/100\n",
      "1/1 [==============================] - 0s 6ms/step - loss: 3.9575 - mae: 3.9575\n",
      "Epoch 25/100\n",
      "1/1 [==============================] - 0s 28ms/step - loss: 3.8897 - mae: 3.8897\n",
      "Epoch 26/100\n",
      "1/1 [==============================] - 0s 5ms/step - loss: 3.9314 - mae: 3.9314\n",
      "Epoch 27/100\n",
      "1/1 [==============================] - 0s 5ms/step - loss: 3.8978 - mae: 3.8978\n",
      "Epoch 28/100\n",
      "1/1 [==============================] - 0s 14ms/step - loss: 3.9133 - mae: 3.9133\n",
      "Epoch 29/100\n",
      "1/1 [==============================] - 0s 9ms/step - loss: 3.9117 - mae: 3.9117\n",
      "Epoch 30/100\n",
      "1/1 [==============================] - 0s 5ms/step - loss: 3.8874 - mae: 3.8874\n",
      "Epoch 31/100\n",
      "1/1 [==============================] - 0s 10ms/step - loss: 3.9187 - mae: 3.9187\n",
      "Epoch 32/100\n",
      "1/1 [==============================] - 0s 4ms/step - loss: 3.8614 - mae: 3.8614\n",
      "Epoch 33/100\n",
      "1/1 [==============================] - 0s 17ms/step - loss: 3.9258 - mae: 3.9258\n",
      "Epoch 34/100\n",
      "1/1 [==============================] - 0s 7ms/step - loss: 3.8585 - mae: 3.8585\n",
      "Epoch 35/100\n",
      "1/1 [==============================] - 0s 6ms/step - loss: 3.9090 - mae: 3.9090\n",
      "Epoch 36/100\n",
      "1/1 [==============================] - 0s 10ms/step - loss: 3.8724 - mae: 3.8724\n",
      "Epoch 37/100\n",
      "1/1 [==============================] - 0s 4ms/step - loss: 3.8906 - mae: 3.8906\n",
      "Epoch 38/100\n",
      "1/1 [==============================] - 0s 9ms/step - loss: 3.8808 - mae: 3.8808\n",
      "Epoch 39/100\n",
      "1/1 [==============================] - 0s 15ms/step - loss: 3.8645 - mae: 3.8645\n",
      "Epoch 40/100\n",
      "1/1 [==============================] - 0s 7ms/step - loss: 3.8881 - mae: 3.8881\n",
      "Epoch 41/100\n",
      "1/1 [==============================] - 0s 4ms/step - loss: 3.8382 - mae: 3.8382\n",
      "Epoch 42/100\n",
      "1/1 [==============================] - 0s 11ms/step - loss: 3.8954 - mae: 3.8954\n",
      "Epoch 43/100\n",
      "1/1 [==============================] - 0s 14ms/step - loss: 3.8285 - mae: 3.8285\n",
      "Epoch 44/100\n",
      "1/1 [==============================] - 0s 6ms/step - loss: 3.8901 - mae: 3.8901\n",
      "Epoch 45/100\n",
      "1/1 [==============================] - 0s 20ms/step - loss: 3.8439 - mae: 3.8439\n",
      "Epoch 46/100\n",
      "1/1 [==============================] - 0s 4ms/step - loss: 3.8667 - mae: 3.8667\n",
      "Epoch 47/100\n",
      "1/1 [==============================] - 0s 17ms/step - loss: 3.8512 - mae: 3.8512\n",
      "Epoch 48/100\n",
      "1/1 [==============================] - 0s 7ms/step - loss: 3.8403 - mae: 3.8403\n",
      "Epoch 49/100\n",
      "1/1 [==============================] - 0s 11ms/step - loss: 3.8586 - mae: 3.8586\n",
      "Epoch 50/100\n",
      "1/1 [==============================] - 0s 4ms/step - loss: 3.8137 - mae: 3.8137\n",
      "Epoch 51/100\n",
      "1/1 [==============================] - 0s 8ms/step - loss: 3.8661 - mae: 3.8661\n",
      "Epoch 52/100\n",
      "1/1 [==============================] - 0s 9ms/step - loss: 3.8016 - mae: 3.8016\n",
      "Epoch 53/100\n",
      "1/1 [==============================] - 0s 3ms/step - loss: 3.8679 - mae: 3.8679\n",
      "Epoch 54/100\n",
      "1/1 [==============================] - 0s 35ms/step - loss: 3.8151 - mae: 3.8151\n",
      "Epoch 55/100\n",
      "1/1 [==============================] - 0s 12ms/step - loss: 3.8414 - mae: 3.8414\n",
      "Epoch 56/100\n",
      "1/1 [==============================] - 0s 6ms/step - loss: 3.8226 - mae: 3.8226\n",
      "Epoch 57/100\n",
      "1/1 [==============================] - 0s 7ms/step - loss: 3.8147 - mae: 3.8147\n",
      "Epoch 58/100\n",
      "1/1 [==============================] - 0s 4ms/step - loss: 3.8302 - mae: 3.8302\n",
      "Epoch 59/100\n",
      "1/1 [==============================] - 0s 4ms/step - loss: 3.7880 - mae: 3.7880\n",
      "Epoch 60/100\n",
      "1/1 [==============================] - 0s 12ms/step - loss: 3.8380 - mae: 3.8380\n",
      "Epoch 61/100\n",
      "1/1 [==============================] - 0s 5ms/step - loss: 3.7788 - mae: 3.7788\n",
      "Epoch 62/100\n",
      "1/1 [==============================] - 0s 5ms/step - loss: 3.8417 - mae: 3.8417\n",
      "Epoch 63/100\n",
      "1/1 [==============================] - 0s 5ms/step - loss: 3.7874 - mae: 3.7874\n",
      "Epoch 64/100\n",
      "1/1 [==============================] - 0s 21ms/step - loss: 3.8149 - mae: 3.8149\n",
      "Epoch 65/100\n",
      "1/1 [==============================] - 0s 9ms/step - loss: 3.7951 - mae: 3.7951\n",
      "Epoch 66/100\n",
      "1/1 [==============================] - 0s 5ms/step - loss: 3.7880 - mae: 3.7880\n",
      "Epoch 67/100\n",
      "1/1 [==============================] - 0s 10ms/step - loss: 3.8030 - mae: 3.8030\n",
      "Epoch 68/100\n",
      "1/1 [==============================] - 0s 4ms/step - loss: 3.7609 - mae: 3.7609\n",
      "Epoch 69/100\n",
      "1/1 [==============================] - 0s 7ms/step - loss: 3.8149 - mae: 3.8149\n",
      "Epoch 70/100\n",
      "1/1 [==============================] - 0s 6ms/step - loss: 3.7531 - mae: 3.7531\n",
      "Epoch 71/100\n",
      "1/1 [==============================] - 0s 21ms/step - loss: 3.8142 - mae: 3.8142\n",
      "Epoch 72/100\n",
      "1/1 [==============================] - 0s 5ms/step - loss: 3.7608 - mae: 3.7608\n",
      "Epoch 73/100\n",
      "1/1 [==============================] - 0s 11ms/step - loss: 3.7871 - mae: 3.7871\n",
      "Epoch 74/100\n",
      "1/1 [==============================] - 0s 5ms/step - loss: 3.7687 - mae: 3.7687\n",
      "Epoch 75/100\n",
      "1/1 [==============================] - 0s 7ms/step - loss: 3.7599 - mae: 3.7599\n",
      "Epoch 76/100\n",
      "1/1 [==============================] - 0s 4ms/step - loss: 3.7768 - mae: 3.7768\n",
      "Epoch 77/100\n",
      "1/1 [==============================] - 0s 24ms/step - loss: 3.7339 - mae: 3.7339\n",
      "Epoch 78/100\n",
      "1/1 [==============================] - 0s 39ms/step - loss: 3.7929 - mae: 3.7929\n",
      "Epoch 79/100\n",
      "1/1 [==============================] - 0s 36ms/step - loss: 3.7272 - mae: 3.7272\n",
      "Epoch 80/100\n",
      "1/1 [==============================] - ETA: 0s - loss: 3.7851 - mae: 3.785 - 0s 13ms/step - loss: 3.7851 - mae: 3.7851\n",
      "Epoch 81/100\n",
      "1/1 [==============================] - 0s 23ms/step - loss: 3.7348 - mae: 3.7348\n",
      "Epoch 82/100\n",
      "1/1 [==============================] - 0s 9ms/step - loss: 3.7573 - mae: 3.7573\n",
      "Epoch 83/100\n",
      "1/1 [==============================] - 0s 4ms/step - loss: 3.7426 - mae: 3.7426\n",
      "Epoch 84/100\n",
      "1/1 [==============================] - 0s 4ms/step - loss: 3.7294 - mae: 3.7294\n",
      "Epoch 85/100\n",
      "1/1 [==============================] - 0s 6ms/step - loss: 3.7509 - mae: 3.7509\n",
      "Epoch 86/100\n",
      "1/1 [==============================] - 0s 4ms/step - loss: 3.7092 - mae: 3.7092\n",
      "Epoch 87/100\n",
      "1/1 [==============================] - 0s 12ms/step - loss: 3.7668 - mae: 3.7668\n",
      "Epoch 88/100\n"
     ]
    },
    {
     "name": "stdout",
     "output_type": "stream",
     "text": [
      "1/1 [==============================] - 0s 5ms/step - loss: 3.7011 - mae: 3.7011\n",
      "Epoch 89/100\n",
      "1/1 [==============================] - 0s 7ms/step - loss: 3.7536 - mae: 3.7536\n",
      "Epoch 90/100\n",
      "1/1 [==============================] - 0s 4ms/step - loss: 3.7088 - mae: 3.7088\n",
      "Epoch 91/100\n",
      "1/1 [==============================] - 0s 9ms/step - loss: 3.7244 - mae: 3.7244\n",
      "Epoch 92/100\n",
      "1/1 [==============================] - 0s 4ms/step - loss: 3.7163 - mae: 3.7163\n",
      "Epoch 93/100\n",
      "1/1 [==============================] - 0s 8ms/step - loss: 3.6953 - mae: 3.6953\n",
      "Epoch 94/100\n",
      "1/1 [==============================] - 0s 17ms/step - loss: 3.7317 - mae: 3.7317\n",
      "Epoch 95/100\n",
      "1/1 [==============================] - 0s 17ms/step - loss: 3.6750 - mae: 3.6750\n",
      "Epoch 96/100\n",
      "1/1 [==============================] - 0s 43ms/step - loss: 3.7410 - mae: 3.7410\n",
      "Epoch 97/100\n",
      "1/1 [==============================] - 0s 11ms/step - loss: 3.6749 - mae: 3.6749\n",
      "Epoch 98/100\n",
      "1/1 [==============================] - 0s 6ms/step - loss: 3.7191 - mae: 3.7191\n",
      "Epoch 99/100\n",
      "1/1 [==============================] - 0s 4ms/step - loss: 3.6852 - mae: 3.6852\n",
      "Epoch 100/100\n",
      "1/1 [==============================] - 0s 7ms/step - loss: 3.6873 - mae: 3.6873\n"
     ]
    },
    {
     "data": {
      "text/plain": [
       "<keras.callbacks.History at 0x36894970>"
      ]
     },
     "execution_count": 314,
     "metadata": {},
     "output_type": "execute_result"
    }
   ],
   "source": [
    "model = tf.keras.Sequential([\n",
    "    tf.keras.layers.Dense(50,activation = 'relu'),\n",
    "    tf.keras.layers.Dense(1)\n",
    "])\n",
    "\n",
    "model.compile(loss= tf.keras.losses.mae,\n",
    "             optimizer = tf.keras.optimizers.SGD(),\n",
    "             metrics = ['mae'])\n",
    "\n",
    "model.fit(X,y,epochs =100)"
   ]
  },
  {
   "cell_type": "code",
   "execution_count": 315,
   "id": "89fdd85c",
   "metadata": {},
   "outputs": [
    {
     "data": {
      "text/plain": [
       "array([[32.59746]], dtype=float32)"
      ]
     },
     "execution_count": 315,
     "metadata": {},
     "output_type": "execute_result"
    }
   ],
   "source": [
    "model.predict([17.0])"
   ]
  },
  {
   "cell_type": "code",
   "execution_count": 316,
   "id": "b8aea03a",
   "metadata": {},
   "outputs": [
    {
     "name": "stdout",
     "output_type": "stream",
     "text": [
      "Model: \"sequential_28\"\n",
      "_________________________________________________________________\n",
      " Layer (type)                Output Shape              Param #   \n",
      "=================================================================\n",
      " dense_52 (Dense)            (None, 50)                100       \n",
      "                                                                 \n",
      " dense_53 (Dense)            (None, 1)                 51        \n",
      "                                                                 \n",
      "=================================================================\n",
      "Total params: 151\n",
      "Trainable params: 151\n",
      "Non-trainable params: 0\n",
      "_________________________________________________________________\n"
     ]
    }
   ],
   "source": [
    "model.summary()"
   ]
  },
  {
   "cell_type": "code",
   "execution_count": 317,
   "id": "d4732ccb",
   "metadata": {},
   "outputs": [
    {
     "data": {
      "text/plain": [
       "[<tf.Variable 'dense_52/kernel:0' shape=(1, 50) dtype=float32, numpy=\n",
       " array([[-0.02918522, -0.2821736 ,  0.38644093, -0.05384338, -0.21919328,\n",
       "         -0.25617057, -0.06741367, -0.21847717, -0.11703168, -0.10791916,\n",
       "          0.03260538, -0.10750287, -0.05926965,  0.25819206,  0.00719155,\n",
       "          0.07114904,  0.27815205, -0.02039278,  0.09655871, -0.11100949,\n",
       "         -0.0237122 ,  0.57399774, -0.02704987, -0.03062742,  0.13546464,\n",
       "          0.16891338,  0.42752653, -0.17591378,  0.11560838, -0.11574598,\n",
       "          0.17056327,  0.39636627, -0.12769775, -0.11104318,  0.44461742,\n",
       "          0.34602553, -0.13683738, -0.04057661,  0.5261012 , -0.26922965,\n",
       "         -0.22575101, -0.32604566,  0.49994245,  0.38305143, -0.07488766,\n",
       "         -0.14384751, -0.00672147,  0.31104055, -0.20976695, -0.3195347 ]],\n",
       "       dtype=float32)>,\n",
       " <tf.Variable 'dense_52/bias:0' shape=(50,) dtype=float32, numpy=\n",
       " array([ 0.0196321 ,  0.03466466,  0.12044018,  0.04136375,  0.02176508,\n",
       "         0.02306641,  0.01250652,  0.04061048,  0.02722081,  0.054076  ,\n",
       "        -0.03778196,  0.02885048,  0.0252133 ,  0.03000529,  0.05808566,\n",
       "        -0.04461485,  0.04802682, -0.01944905, -0.03575715,  0.03133431,\n",
       "        -0.02239386,  0.14649788,  0.04153705,  0.00812112,  0.00735784,\n",
       "        -0.03983952,  0.10132501,  0.05593211, -0.03920201,  0.05280951,\n",
       "        -0.02477184,  0.11637875,  0.05871376,  0.0107774 ,  0.07257315,\n",
       "         0.12764302, -0.02921579, -0.00379898,  0.13055   ,  0.0078424 ,\n",
       "        -0.04705184,  0.01694041,  0.11341806,  0.1119476 , -0.02383493,\n",
       "        -0.03578882, -0.00640446,  0.02107077,  0.04192224, -0.0375963 ],\n",
       "       dtype=float32)>,\n",
       " <tf.Variable 'dense_53/kernel:0' shape=(50, 1) dtype=float32, numpy=\n",
       " array([[ 0.11761323],\n",
       "        [ 0.20339163],\n",
       "        [ 0.44707555],\n",
       "        [ 0.2479465 ],\n",
       "        [ 0.12692484],\n",
       "        [ 0.13407066],\n",
       "        [ 0.07401896],\n",
       "        [ 0.24035819],\n",
       "        [ 0.16165552],\n",
       "        [ 0.32345116],\n",
       "        [-0.11370259],\n",
       "        [ 0.17164038],\n",
       "        [ 0.15064521],\n",
       "        [ 0.13931996],\n",
       "        [ 0.27641732],\n",
       "        [-0.12863232],\n",
       "        [ 0.19968255],\n",
       "        [-0.14217423],\n",
       "        [-0.09627196],\n",
       "        [ 0.18652415],\n",
       "        [-0.18624435],\n",
       "        [ 0.561739  ],\n",
       "        [ 0.24948671],\n",
       "        [ 0.04830824],\n",
       "        [ 0.04661389],\n",
       "        [-0.09668033],\n",
       "        [ 0.39379272],\n",
       "        [ 0.33336043],\n",
       "        [-0.10386491],\n",
       "        [ 0.31568354],\n",
       "        [-0.0488065 ],\n",
       "        [ 0.43596074],\n",
       "        [ 0.3509963 ],\n",
       "        [ 0.06280276],\n",
       "        [ 0.30593315],\n",
       "        [ 0.4628508 ],\n",
       "        [-0.17837282],\n",
       "        [-0.02361689],\n",
       "        [ 0.5031051 ],\n",
       "        [ 0.04220345],\n",
       "        [-0.28736788],\n",
       "        [ 0.09590507],\n",
       "        [ 0.44448256],\n",
       "        [ 0.4196682 ],\n",
       "        [-0.1448388 ],\n",
       "        [-0.21806231],\n",
       "        [-0.0459379 ],\n",
       "        [ 0.12022087],\n",
       "        [ 0.24841458],\n",
       "        [-0.23220049]], dtype=float32)>,\n",
       " <tf.Variable 'dense_53/bias:0' shape=(1,) dtype=float32, numpy=array([0.47499967], dtype=float32)>]"
      ]
     },
     "execution_count": 317,
     "metadata": {},
     "output_type": "execute_result"
    }
   ],
   "source": [
    "model.weights"
   ]
  },
  {
   "cell_type": "code",
   "execution_count": 333,
   "id": "c8cd0dfe",
   "metadata": {},
   "outputs": [
    {
     "data": {
      "text/plain": [
       "<tf.Tensor: shape=(50,), dtype=int32, numpy=\n",
       "array([-100,  -96,  -92,  -88,  -84,  -80,  -76,  -72,  -68,  -64,  -60,\n",
       "        -56,  -52,  -48,  -44,  -40,  -36,  -32,  -28,  -24,  -20,  -16,\n",
       "        -12,   -8,   -4,    0,    4,    8,   12,   16,   20,   24,   28,\n",
       "         32,   36,   40,   44,   48,   52,   56,   60,   64,   68,   72,\n",
       "         76,   80,   84,   88,   92,   96])>"
      ]
     },
     "execution_count": 333,
     "metadata": {},
     "output_type": "execute_result"
    }
   ],
   "source": [
    "X = tf.range(-100,100,4)\n",
    "X"
   ]
  },
  {
   "cell_type": "code",
   "execution_count": 334,
   "id": "d5718c52",
   "metadata": {},
   "outputs": [
    {
     "data": {
      "text/plain": [
       "<tf.Tensor: shape=(50,), dtype=int32, numpy=\n",
       "array([-90, -86, -82, -78, -74, -70, -66, -62, -58, -54, -50, -46, -42,\n",
       "       -38, -34, -30, -26, -22, -18, -14, -10,  -6,  -2,   2,   6,  10,\n",
       "        14,  18,  22,  26,  30,  34,  38,  42,  46,  50,  54,  58,  62,\n",
       "        66,  70,  74,  78,  82,  86,  90,  94,  98, 102, 106])>"
      ]
     },
     "execution_count": 334,
     "metadata": {},
     "output_type": "execute_result"
    }
   ],
   "source": [
    "# make label for dataset\n",
    "y= X + 10\n",
    "y"
   ]
  },
  {
   "cell_type": "code",
   "execution_count": 335,
   "id": "f156460a",
   "metadata": {},
   "outputs": [
    {
     "data": {
      "image/png": "[encoded data removed]",
      "text/plain": [
       "<Figure size 432x288 with 1 Axes>"
      ]
     },
     "metadata": {
      "needs_background": "light"
     },
     "output_type": "display_data"
    }
   ],
   "source": [
    "# visualize data\n",
    "plt.scatter(X,y)\n",
    "plt.xlabel(\"data\")\n",
    "plt.ylabel(\"label\")\n",
    "plt.title(\"visualize\")\n",
    "plt.show()"
   ]
  },
  {
   "cell_type": "code",
   "execution_count": 336,
   "id": "5b594f19",
   "metadata": {},
   "outputs": [
    {
     "data": {
      "text/plain": [
       "50"
      ]
     },
     "execution_count": 336,
     "metadata": {},
     "output_type": "execute_result"
    }
   ],
   "source": [
    "len(X)"
   ]
  },
  {
   "cell_type": "code",
   "execution_count": 337,
   "id": "b200a7af",
   "metadata": {},
   "outputs": [
    {
     "data": {
      "text/plain": [
       "(40, 40)"
      ]
     },
     "execution_count": 337,
     "metadata": {},
     "output_type": "execute_result"
    }
   ],
   "source": [
    "# 80-15-5\n",
    "X_train = X[:40] # first 40 are training samples \n",
    "y_train = y[:40]\n",
    "X_test = X[40:]\n",
    "y_test = y[40:]\n",
    "\n",
    "len(X_train),len(y_train)"
   ]
  },
  {
   "cell_type": "code",
   "execution_count": 338,
   "id": "bc298b7c",
   "metadata": {},
   "outputs": [
    {
     "data": {
      "image/png": "[encoded data removed]",
      "text/plain": [
       "<Figure size 720x504 with 1 Axes>"
      ]
     },
     "metadata": {
      "needs_background": "light"
     },
     "output_type": "display_data"
    }
   ],
   "source": [
    "# visualize train-test\n",
    "plt.figure(figsize = (10,7))\n",
    "plt.scatter(X_train,y_train,c = 'b',label = 'training data')\n",
    "plt.scatter(X_test,y_test,c = 'r',label = 'testing data')\n",
    "plt.title(\"visualize,visualize,visualize\")\n",
    "plt.show()"
   ]
  },
  {
   "cell_type": "code",
   "execution_count": 342,
   "id": "d0123126",
   "metadata": {},
   "outputs": [],
   "source": [
    "model = tf.keras.Sequential([\n",
    "    tf.keras.layers.Dense(1)\n",
    "])\n",
    "\n",
    "model.compile(loss = tf.keras.losses.mae,\n",
    "             optimizer = tf.keras.optimizers.SGD(learning_rate = 0.1),\n",
    "             metrics = ['mae'])\n"
   ]
  },
  {
   "cell_type": "code",
   "execution_count": 343,
   "id": "7093a9ed",
   "metadata": {},
   "outputs": [
    {
     "name": "stdout",
     "output_type": "stream",
     "text": [
      "Epoch 1/100\n",
      "2/2 [==============================] - 0s 3ms/step - loss: 92.5615 - mae: 92.5615\n",
      "Epoch 2/100\n",
      "2/2 [==============================] - 0s 3ms/step - loss: 74.9791 - mae: 74.9791\n",
      "Epoch 3/100\n",
      "2/2 [==============================] - 0s 11ms/step - loss: 87.9424 - mae: 87.9424\n",
      "Epoch 4/100\n",
      "2/2 [==============================] - 0s 6ms/step - loss: 85.8258 - mae: 85.8258\n",
      "Epoch 5/100\n",
      "2/2 [==============================] - 0s 7ms/step - loss: 88.2228 - mae: 88.2228\n",
      "Epoch 6/100\n",
      "2/2 [==============================] - 0s 4ms/step - loss: 64.3537 - mae: 64.3537\n",
      "Epoch 7/100\n",
      "2/2 [==============================] - 0s 8ms/step - loss: 32.7882 - mae: 32.7882\n",
      "Epoch 8/100\n",
      "2/2 [==============================] - 0s 3ms/step - loss: 61.9756 - mae: 61.9756\n",
      "Epoch 9/100\n",
      "2/2 [==============================] - 0s 10ms/step - loss: 114.7453 - mae: 114.7453\n",
      "Epoch 10/100\n",
      "2/2 [==============================] - 0s 4ms/step - loss: 143.9613 - mae: 143.9613\n",
      "Epoch 11/100\n",
      "2/2 [==============================] - 0s 10ms/step - loss: 95.3646 - mae: 95.3646\n",
      "Epoch 12/100\n",
      "2/2 [==============================] - 0s 4ms/step - loss: 124.2144 - mae: 124.2144\n",
      "Epoch 13/100\n",
      "2/2 [==============================] - 0s 19ms/step - loss: 132.8242 - mae: 132.8242\n",
      "Epoch 14/100\n",
      "2/2 [==============================] - 0s 11ms/step - loss: 202.6095 - mae: 202.6095\n",
      "Epoch 15/100\n",
      "2/2 [==============================] - 0s 10ms/step - loss: 131.0646 - mae: 131.0646\n",
      "Epoch 16/100\n",
      "2/2 [==============================] - 0s 14ms/step - loss: 114.2588 - mae: 114.2588\n",
      "Epoch 17/100\n",
      "2/2 [==============================] - 0s 4ms/step - loss: 118.9935 - mae: 118.9935\n",
      "Epoch 18/100\n",
      "2/2 [==============================] - 0s 4ms/step - loss: 139.8219 - mae: 139.8219\n",
      "Epoch 19/100\n",
      "2/2 [==============================] - 0s 10ms/step - loss: 160.8721 - mae: 160.8721\n",
      "Epoch 20/100\n",
      "2/2 [==============================] - 0s 5ms/step - loss: 132.4161 - mae: 132.4161\n",
      "Epoch 21/100\n",
      "2/2 [==============================] - 0s 6ms/step - loss: 129.4851 - mae: 129.4851\n",
      "Epoch 22/100\n",
      "2/2 [==============================] - 0s 8ms/step - loss: 151.4135 - mae: 151.4135\n",
      "Epoch 23/100\n",
      "2/2 [==============================] - 0s 12ms/step - loss: 105.7110 - mae: 105.7110\n",
      "Epoch 24/100\n",
      "2/2 [==============================] - 0s 5ms/step - loss: 71.1916 - mae: 71.1916\n",
      "Epoch 25/100\n",
      "2/2 [==============================] - 0s 7ms/step - loss: 82.5693 - mae: 82.5693\n",
      "Epoch 26/100\n",
      "2/2 [==============================] - 0s 11ms/step - loss: 110.6220 - mae: 110.6220\n",
      "Epoch 27/100\n",
      "2/2 [==============================] - 0s 4ms/step - loss: 109.5402 - mae: 109.5402\n",
      "Epoch 28/100\n",
      "2/2 [==============================] - 0s 10ms/step - loss: 155.9803 - mae: 155.9803\n",
      "Epoch 29/100\n",
      "2/2 [==============================] - 0s 6ms/step - loss: 52.4930 - mae: 52.4930\n",
      "Epoch 30/100\n",
      "2/2 [==============================] - 0s 8ms/step - loss: 99.3753 - mae: 99.3753\n",
      "Epoch 31/100\n",
      "2/2 [==============================] - 0s 4ms/step - loss: 218.2836 - mae: 218.2836\n",
      "Epoch 32/100\n",
      "2/2 [==============================] - 0s 8ms/step - loss: 101.4139 - mae: 101.4139\n",
      "Epoch 33/100\n",
      "2/2 [==============================] - 0s 5ms/step - loss: 101.7911 - mae: 101.7911\n",
      "Epoch 34/100\n",
      "2/2 [==============================] - 0s 11ms/step - loss: 105.7212 - mae: 105.7212\n",
      "Epoch 35/100\n",
      "2/2 [==============================] - 0s 6ms/step - loss: 73.9868 - mae: 73.9868\n",
      "Epoch 36/100\n",
      "2/2 [==============================] - 0s 5ms/step - loss: 91.0852 - mae: 91.0852\n",
      "Epoch 37/100\n",
      "2/2 [==============================] - 0s 8ms/step - loss: 48.6165 - mae: 48.6165\n",
      "Epoch 38/100\n",
      "2/2 [==============================] - 0s 11ms/step - loss: 53.1943 - mae: 53.1943\n",
      "Epoch 39/100\n",
      "2/2 [==============================] - 0s 4ms/step - loss: 52.2308 - mae: 52.2308\n",
      "Epoch 40/100\n",
      "2/2 [==============================] - 0s 9ms/step - loss: 56.3495 - mae: 56.3495\n",
      "Epoch 41/100\n",
      "2/2 [==============================] - 0s 10ms/step - loss: 52.7611 - mae: 52.7611\n",
      "Epoch 42/100\n",
      "2/2 [==============================] - 0s 3ms/step - loss: 43.6646 - mae: 43.6646\n",
      "Epoch 43/100\n",
      "2/2 [==============================] - 0s 5ms/step - loss: 63.4389 - mae: 63.4389\n",
      "Epoch 44/100\n",
      "2/2 [==============================] - 0s 8ms/step - loss: 108.5970 - mae: 108.5970\n",
      "Epoch 45/100\n",
      "2/2 [==============================] - 0s 4ms/step - loss: 106.0636 - mae: 106.0636\n",
      "Epoch 46/100\n",
      "2/2 [==============================] - 0s 4ms/step - loss: 110.2597 - mae: 110.2597\n",
      "Epoch 47/100\n",
      "2/2 [==============================] - 0s 10ms/step - loss: 14.1274 - mae: 14.1274\n",
      "Epoch 48/100\n",
      "2/2 [==============================] - 0s 8ms/step - loss: 108.1740 - mae: 108.1740\n",
      "Epoch 49/100\n",
      "2/2 [==============================] - 0s 4ms/step - loss: 73.7997 - mae: 73.7997\n",
      "Epoch 50/100\n",
      "2/2 [==============================] - 0s 9ms/step - loss: 55.2731 - mae: 55.2731\n",
      "Epoch 51/100\n",
      "2/2 [==============================] - 0s 6ms/step - loss: 9.3246 - mae: 9.3246\n",
      "Epoch 52/100\n",
      "2/2 [==============================] - 0s 4ms/step - loss: 203.5324 - mae: 203.5324\n",
      "Epoch 53/100\n",
      "2/2 [==============================] - 0s 11ms/step - loss: 110.1323 - mae: 110.1323\n",
      "Epoch 54/100\n",
      "2/2 [==============================] - 0s 8ms/step - loss: 194.0142 - mae: 194.0142\n",
      "Epoch 55/100\n",
      "2/2 [==============================] - ETA: 0s - loss: 182.2363 - mae: 182.236 - 0s 6ms/step - loss: 147.9223 - mae: 147.9223\n",
      "Epoch 56/100\n",
      "2/2 [==============================] - 0s 4ms/step - loss: 129.3139 - mae: 129.3139\n",
      "Epoch 57/100\n",
      "2/2 [==============================] - 0s 5ms/step - loss: 132.0415 - mae: 132.0415\n",
      "Epoch 58/100\n",
      "2/2 [==============================] - 0s 3ms/step - loss: 98.5310 - mae: 98.5310\n",
      "Epoch 59/100\n",
      "2/2 [==============================] - 0s 13ms/step - loss: 81.9351 - mae: 81.9351\n",
      "Epoch 60/100\n",
      "2/2 [==============================] - 0s 4ms/step - loss: 63.4511 - mae: 63.4511\n",
      "Epoch 61/100\n",
      "2/2 [==============================] - 0s 3ms/step - loss: 63.5352 - mae: 63.5352\n",
      "Epoch 62/100\n",
      "2/2 [==============================] - 0s 8ms/step - loss: 68.1204 - mae: 68.1204\n",
      "Epoch 63/100\n",
      "2/2 [==============================] - 0s 4ms/step - loss: 56.4586 - mae: 56.4586\n",
      "Epoch 64/100\n",
      "2/2 [==============================] - 0s 7ms/step - loss: 59.1990 - mae: 59.1990\n",
      "Epoch 65/100\n",
      "2/2 [==============================] - 0s 3ms/step - loss: 65.3396 - mae: 65.3396\n",
      "Epoch 66/100\n",
      "2/2 [==============================] - 0s 8ms/step - loss: 76.5543 - mae: 76.5543\n",
      "Epoch 67/100\n",
      "2/2 [==============================] - 0s 3ms/step - loss: 82.7261 - mae: 82.7261\n",
      "Epoch 68/100\n",
      "2/2 [==============================] - 0s 4ms/step - loss: 76.9367 - mae: 76.9367\n",
      "Epoch 69/100\n",
      "2/2 [==============================] - 0s 9ms/step - loss: 75.9584 - mae: 75.9584\n",
      "Epoch 70/100\n",
      "2/2 [==============================] - 0s 4ms/step - loss: 39.0631 - mae: 39.0631\n",
      "Epoch 71/100\n",
      "2/2 [==============================] - 0s 8ms/step - loss: 70.8680 - mae: 70.8680\n",
      "Epoch 72/100\n",
      "2/2 [==============================] - 0s 4ms/step - loss: 73.2441 - mae: 73.2441\n",
      "Epoch 73/100\n",
      "2/2 [==============================] - 0s 9ms/step - loss: 68.6133 - mae: 68.6133\n",
      "Epoch 74/100\n",
      "2/2 [==============================] - 0s 4ms/step - loss: 124.3794 - mae: 124.3794\n",
      "Epoch 75/100\n",
      "2/2 [==============================] - 0s 4ms/step - loss: 103.7840 - mae: 103.7840\n",
      "Epoch 76/100\n",
      "2/2 [==============================] - 0s 4ms/step - loss: 114.9361 - mae: 114.9361\n",
      "Epoch 77/100\n",
      "2/2 [==============================] - 0s 5ms/step - loss: 122.0498 - mae: 122.0498\n",
      "Epoch 78/100\n",
      "2/2 [==============================] - 0s 4ms/step - loss: 116.2147 - mae: 116.2147\n",
      "Epoch 79/100\n",
      "2/2 [==============================] - 0s 6ms/step - loss: 151.8370 - mae: 151.8370\n",
      "Epoch 80/100\n",
      "2/2 [==============================] - 0s 8ms/step - loss: 188.7930 - mae: 188.7930\n",
      "Epoch 81/100\n",
      "2/2 [==============================] - 0s 4ms/step - loss: 141.8052 - mae: 141.8052\n",
      "Epoch 82/100\n",
      "2/2 [==============================] - 0s 4ms/step - loss: 25.2333 - mae: 25.2333\n",
      "Epoch 83/100\n",
      "2/2 [==============================] - 0s 4ms/step - loss: 62.1717 - mae: 62.1717\n",
      "Epoch 84/100\n",
      "2/2 [==============================] - 0s 8ms/step - loss: 61.4952 - mae: 61.4952\n",
      "Epoch 85/100\n"
     ]
    },
    {
     "name": "stdout",
     "output_type": "stream",
     "text": [
      "2/2 [==============================] - 0s 3ms/step - loss: 100.3373 - mae: 100.3373\n",
      "Epoch 86/100\n",
      "2/2 [==============================] - 0s 5ms/step - loss: 117.6217 - mae: 117.6217\n",
      "Epoch 87/100\n",
      "2/2 [==============================] - 0s 4ms/step - loss: 117.2322 - mae: 117.2322\n",
      "Epoch 88/100\n",
      "2/2 [==============================] - 0s 4ms/step - loss: 167.4001 - mae: 167.4001\n",
      "Epoch 89/100\n",
      "2/2 [==============================] - 0s 8ms/step - loss: 118.3865 - mae: 118.3865\n",
      "Epoch 90/100\n",
      "2/2 [==============================] - 0s 4ms/step - loss: 145.2026 - mae: 145.2026\n",
      "Epoch 91/100\n",
      "2/2 [==============================] - 0s 5ms/step - loss: 130.4006 - mae: 130.4006\n",
      "Epoch 92/100\n",
      "2/2 [==============================] - 0s 5ms/step - loss: 182.3870 - mae: 182.3870\n",
      "Epoch 93/100\n",
      "2/2 [==============================] - 0s 7ms/step - loss: 118.0133 - mae: 118.0133\n",
      "Epoch 94/100\n",
      "2/2 [==============================] - 0s 3ms/step - loss: 108.4085 - mae: 108.4085\n",
      "Epoch 95/100\n",
      "2/2 [==============================] - 0s 4ms/step - loss: 131.9575 - mae: 131.9575\n",
      "Epoch 96/100\n",
      "2/2 [==============================] - 0s 6ms/step - loss: 112.4560 - mae: 112.4560\n",
      "Epoch 97/100\n",
      "2/2 [==============================] - 0s 6ms/step - loss: 145.9035 - mae: 145.9035\n",
      "Epoch 98/100\n",
      "2/2 [==============================] - 0s 4ms/step - loss: 114.9355 - mae: 114.9355\n",
      "Epoch 99/100\n",
      "2/2 [==============================] - 0s 3ms/step - loss: 103.7709 - mae: 103.7709\n",
      "Epoch 100/100\n",
      "2/2 [==============================] - 0s 9ms/step - loss: 137.6597 - mae: 137.6597\n"
     ]
    },
    {
     "data": {
      "text/plain": [
       "<keras.callbacks.History at 0x38341f40>"
      ]
     },
     "execution_count": 343,
     "metadata": {},
     "output_type": "execute_result"
    }
   ],
   "source": [
    "model.fit(tf.expand_dims(X_train,axis = -1),y_train,epochs = 100)"
   ]
  },
  {
   "cell_type": "code",
   "execution_count": 344,
   "id": "b93bb80f",
   "metadata": {},
   "outputs": [],
   "source": [
    "model.build()"
   ]
  },
  {
   "cell_type": "code",
   "execution_count": 345,
   "id": "8c41eb03",
   "metadata": {},
   "outputs": [
    {
     "name": "stdout",
     "output_type": "stream",
     "text": [
      "Model: \"sequential_31\"\n",
      "_________________________________________________________________\n",
      " Layer (type)                Output Shape              Param #   \n",
      "=================================================================\n",
      " dense_56 (Dense)            (None, 1)                 2         \n",
      "                                                                 \n",
      "=================================================================\n",
      "Total params: 2\n",
      "Trainable params: 2\n",
      "Non-trainable params: 0\n",
      "_________________________________________________________________\n"
     ]
    }
   ],
   "source": [
    "model.summary()"
   ]
  },
  {
   "cell_type": "code",
   "execution_count": 346,
   "id": "65fbcbb2",
   "metadata": {},
   "outputs": [],
   "source": [
    "import tensorflow as tf"
   ]
  },
  {
   "cell_type": "code",
   "execution_count": 347,
   "id": "fc574fc6",
   "metadata": {},
   "outputs": [
    {
     "data": {
      "text/plain": [
       "<tf.Tensor: shape=(50,), dtype=int32, numpy=\n",
       "array([-100,  -96,  -92,  -88,  -84,  -80,  -76,  -72,  -68,  -64,  -60,\n",
       "        -56,  -52,  -48,  -44,  -40,  -36,  -32,  -28,  -24,  -20,  -16,\n",
       "        -12,   -8,   -4,    0,    4,    8,   12,   16,   20,   24,   28,\n",
       "         32,   36,   40,   44,   48,   52,   56,   60,   64,   68,   72,\n",
       "         76,   80,   84,   88,   92,   96])>"
      ]
     },
     "execution_count": 347,
     "metadata": {},
     "output_type": "execute_result"
    }
   ],
   "source": [
    "X = tf.range(-100,100,4)\n",
    "X"
   ]
  },
  {
   "cell_type": "code",
   "execution_count": 348,
   "id": "6bbde49c",
   "metadata": {},
   "outputs": [
    {
     "data": {
      "text/plain": [
       "<tf.Tensor: shape=(50,), dtype=int32, numpy=\n",
       "array([-90, -86, -82, -78, -74, -70, -66, -62, -58, -54, -50, -46, -42,\n",
       "       -38, -34, -30, -26, -22, -18, -14, -10,  -6,  -2,   2,   6,  10,\n",
       "        14,  18,  22,  26,  30,  34,  38,  42,  46,  50,  54,  58,  62,\n",
       "        66,  70,  74,  78,  82,  86,  90,  94,  98, 102, 106])>"
      ]
     },
     "execution_count": 348,
     "metadata": {},
     "output_type": "execute_result"
    }
   ],
   "source": [
    "y = X + 10\n",
    "y"
   ]
  },
  {
   "cell_type": "code",
   "execution_count": 350,
   "id": "a2af79d2",
   "metadata": {},
   "outputs": [
    {
     "data": {
      "text/plain": [
       "TensorShape([50])"
      ]
     },
     "execution_count": 350,
     "metadata": {},
     "output_type": "execute_result"
    }
   ],
   "source": [
    "X.shape"
   ]
  },
  {
   "cell_type": "code",
   "execution_count": 351,
   "id": "87196380",
   "metadata": {},
   "outputs": [
    {
     "data": {
      "text/plain": [
       "TensorShape([50, 1])"
      ]
     },
     "execution_count": 351,
     "metadata": {},
     "output_type": "execute_result"
    }
   ],
   "source": [
    "X = tf.expand_dims(X,axis =-1)\n",
    "X.shape"
   ]
  },
  {
   "cell_type": "code",
   "execution_count": 353,
   "id": "5fcf469b",
   "metadata": {},
   "outputs": [],
   "source": [
    "X_train = X[:40]\n",
    "y_train = y[:40]\n",
    "\n",
    "X_test = X[40:]\n",
    "y_test = y[40:]"
   ]
  },
  {
   "cell_type": "code",
   "execution_count": 354,
   "id": "df39a293",
   "metadata": {},
   "outputs": [
    {
     "data": {
      "text/plain": [
       "TensorShape([40, 1])"
      ]
     },
     "execution_count": 354,
     "metadata": {},
     "output_type": "execute_result"
    }
   ],
   "source": [
    "X_train.shape"
   ]
  },
  {
   "cell_type": "code",
   "execution_count": 355,
   "id": "4d515d15",
   "metadata": {},
   "outputs": [
    {
     "name": "stdout",
     "output_type": "stream",
     "text": [
      "Epoch 1/100\n",
      "2/2 [==============================] - 0s 3ms/step - loss: 55.8373 - mae: 55.8373\n",
      "Epoch 2/100\n",
      "2/2 [==============================] - 0s 4ms/step - loss: 50.4335 - mae: 50.4335\n",
      "Epoch 3/100\n",
      "2/2 [==============================] - 0s 15ms/step - loss: 45.4215 - mae: 45.4215\n",
      "Epoch 4/100\n",
      "2/2 [==============================] - 0s 5ms/step - loss: 40.4232 - mae: 40.4232\n",
      "Epoch 5/100\n",
      "2/2 [==============================] - 0s 4ms/step - loss: 35.6693 - mae: 35.6693\n",
      "Epoch 6/100\n",
      "2/2 [==============================] - 0s 8ms/step - loss: 31.0529 - mae: 31.0529\n",
      "Epoch 7/100\n",
      "2/2 [==============================] - 0s 13ms/step - loss: 26.4296 - mae: 26.4296\n",
      "Epoch 8/100\n",
      "2/2 [==============================] - 0s 4ms/step - loss: 21.8052 - mae: 21.8052\n",
      "Epoch 9/100\n",
      "2/2 [==============================] - 0s 8ms/step - loss: 17.5644 - mae: 17.5644\n",
      "Epoch 10/100\n",
      "2/2 [==============================] - 0s 7ms/step - loss: 13.5675 - mae: 13.5675\n",
      "Epoch 11/100\n",
      "2/2 [==============================] - 0s 5ms/step - loss: 9.7720 - mae: 9.7720\n",
      "Epoch 12/100\n",
      "2/2 [==============================] - 0s 11ms/step - loss: 8.0548 - mae: 8.0548\n",
      "Epoch 13/100\n",
      "2/2 [==============================] - 0s 5ms/step - loss: 9.5959 - mae: 9.5959\n",
      "Epoch 14/100\n",
      "2/2 [==============================] - 0s 7ms/step - loss: 10.5212 - mae: 10.5212\n",
      "Epoch 15/100\n",
      "2/2 [==============================] - 0s 8ms/step - loss: 10.8594 - mae: 10.8594\n",
      "Epoch 16/100\n",
      "2/2 [==============================] - 0s 3ms/step - loss: 10.7715 - mae: 10.7715\n",
      "Epoch 17/100\n",
      "2/2 [==============================] - 0s 10ms/step - loss: 10.4102 - mae: 10.4102\n",
      "Epoch 18/100\n",
      "2/2 [==============================] - 0s 11ms/step - loss: 9.6262 - mae: 9.6262\n",
      "Epoch 19/100\n",
      "2/2 [==============================] - 0s 5ms/step - loss: 8.7837 - mae: 8.7837\n",
      "Epoch 20/100\n",
      "2/2 [==============================] - 0s 6ms/step - loss: 7.7508 - mae: 7.7508\n",
      "Epoch 21/100\n",
      "2/2 [==============================] - 0s 10ms/step - loss: 7.4083 - mae: 7.4083\n",
      "Epoch 22/100\n",
      "2/2 [==============================] - 0s 3ms/step - loss: 7.8900 - mae: 7.8900\n",
      "Epoch 23/100\n",
      "2/2 [==============================] - 0s 6ms/step - loss: 8.1796 - mae: 8.1796\n",
      "Epoch 24/100\n",
      "2/2 [==============================] - 0s 8ms/step - loss: 8.1144 - mae: 8.1144\n",
      "Epoch 25/100\n",
      "2/2 [==============================] - 0s 4ms/step - loss: 7.7285 - mae: 7.7285\n",
      "Epoch 26/100\n",
      "2/2 [==============================] - 0s 10ms/step - loss: 7.1679 - mae: 7.1679\n",
      "Epoch 27/100\n",
      "2/2 [==============================] - 0s 4ms/step - loss: 7.0116 - mae: 7.0116\n",
      "Epoch 28/100\n",
      "2/2 [==============================] - 0s 8ms/step - loss: 7.2572 - mae: 7.2572\n",
      "Epoch 29/100\n",
      "2/2 [==============================] - 0s 4ms/step - loss: 7.1771 - mae: 7.1771\n",
      "Epoch 30/100\n",
      "2/2 [==============================] - 0s 4ms/step - loss: 6.7566 - mae: 6.7566\n",
      "Epoch 31/100\n",
      "2/2 [==============================] - 0s 4ms/step - loss: 6.6962 - mae: 6.6962\n",
      "Epoch 32/100\n",
      "2/2 [==============================] - 0s 13ms/step - loss: 6.8598 - mae: 6.8598\n",
      "Epoch 33/100\n",
      "2/2 [==============================] - 0s 4ms/step - loss: 6.9841 - mae: 6.9841\n",
      "Epoch 34/100\n",
      "2/2 [==============================] - 0s 8ms/step - loss: 6.8795 - mae: 6.8795\n",
      "Epoch 35/100\n",
      "2/2 [==============================] - 0s 9ms/step - loss: 6.6409 - mae: 6.6409\n",
      "Epoch 36/100\n",
      "2/2 [==============================] - 0s 4ms/step - loss: 6.4585 - mae: 6.4585\n",
      "Epoch 37/100\n",
      "2/2 [==============================] - 0s 12ms/step - loss: 6.3765 - mae: 6.3765\n",
      "Epoch 38/100\n",
      "2/2 [==============================] - 0s 4ms/step - loss: 6.2947 - mae: 6.2947\n",
      "Epoch 39/100\n",
      "2/2 [==============================] - 0s 5ms/step - loss: 6.2347 - mae: 6.2347\n",
      "Epoch 40/100\n",
      "2/2 [==============================] - 0s 5ms/step - loss: 6.1656 - mae: 6.1656\n",
      "Epoch 41/100\n",
      "2/2 [==============================] - 0s 6ms/step - loss: 6.0989 - mae: 6.0989\n",
      "Epoch 42/100\n",
      "2/2 [==============================] - 0s 6ms/step - loss: 6.0364 - mae: 6.0364\n",
      "Epoch 43/100\n",
      "2/2 [==============================] - 0s 7ms/step - loss: 5.9710 - mae: 5.9710\n",
      "Epoch 44/100\n",
      "2/2 [==============================] - 0s 4ms/step - loss: 5.9136 - mae: 5.9136\n",
      "Epoch 45/100\n",
      "2/2 [==============================] - 0s 13ms/step - loss: 5.8269 - mae: 5.8269\n",
      "Epoch 46/100\n",
      "2/2 [==============================] - 0s 7ms/step - loss: 5.8001 - mae: 5.8001\n",
      "Epoch 47/100\n",
      "2/2 [==============================] - 0s 9ms/step - loss: 5.8198 - mae: 5.8198\n",
      "Epoch 48/100\n",
      "2/2 [==============================] - 0s 6ms/step - loss: 5.7803 - mae: 5.7803\n",
      "Epoch 49/100\n",
      "2/2 [==============================] - 0s 11ms/step - loss: 5.6664 - mae: 5.6664\n",
      "Epoch 50/100\n",
      "2/2 [==============================] - 0s 12ms/step - loss: 5.5098 - mae: 5.5098\n",
      "Epoch 51/100\n",
      "2/2 [==============================] - 0s 4ms/step - loss: 5.4065 - mae: 5.4065\n",
      "Epoch 52/100\n",
      "2/2 [==============================] - 0s 10ms/step - loss: 5.4167 - mae: 5.4167\n",
      "Epoch 53/100\n",
      "2/2 [==============================] - 0s 9ms/step - loss: 5.2618 - mae: 5.2618\n",
      "Epoch 54/100\n",
      "2/2 [==============================] - 0s 6ms/step - loss: 5.2461 - mae: 5.2461\n",
      "Epoch 55/100\n",
      "2/2 [==============================] - 0s 7ms/step - loss: 5.2728 - mae: 5.2728\n",
      "Epoch 56/100\n",
      "2/2 [==============================] - 0s 3ms/step - loss: 5.1016 - mae: 5.1016\n",
      "Epoch 57/100\n",
      "2/2 [==============================] - 0s 3ms/step - loss: 4.9850 - mae: 4.9850\n",
      "Epoch 58/100\n",
      "2/2 [==============================] - 0s 10ms/step - loss: 5.2216 - mae: 5.2216\n",
      "Epoch 59/100\n",
      "2/2 [==============================] - 0s 4ms/step - loss: 5.0649 - mae: 5.0649\n",
      "Epoch 60/100\n",
      "2/2 [==============================] - 0s 10ms/step - loss: 4.7622 - mae: 4.7622\n",
      "Epoch 61/100\n",
      "2/2 [==============================] - 0s 5ms/step - loss: 4.7709 - mae: 4.7709\n",
      "Epoch 62/100\n",
      "2/2 [==============================] - 0s 6ms/step - loss: 4.7085 - mae: 4.7085\n",
      "Epoch 63/100\n",
      "2/2 [==============================] - 0s 4ms/step - loss: 4.5667 - mae: 4.5667\n",
      "Epoch 64/100\n",
      "2/2 [==============================] - 0s 9ms/step - loss: 4.4205 - mae: 4.4205\n",
      "Epoch 65/100\n",
      "2/2 [==============================] - 0s 5ms/step - loss: 4.3111 - mae: 4.3111\n",
      "Epoch 66/100\n",
      "2/2 [==============================] - 0s 4ms/step - loss: 4.2589 - mae: 4.2589\n",
      "Epoch 67/100\n",
      "2/2 [==============================] - 0s 8ms/step - loss: 4.1670 - mae: 4.1670\n",
      "Epoch 68/100\n",
      "2/2 [==============================] - 0s 5ms/step - loss: 4.0821 - mae: 4.0821\n",
      "Epoch 69/100\n",
      "2/2 [==============================] - 0s 4ms/step - loss: 4.0288 - mae: 4.0288\n",
      "Epoch 70/100\n",
      "2/2 [==============================] - 0s 5ms/step - loss: 3.8429 - mae: 3.8429\n",
      "Epoch 71/100\n",
      "2/2 [==============================] - 0s 5ms/step - loss: 3.8441 - mae: 3.8441\n",
      "Epoch 72/100\n",
      "2/2 [==============================] - 0s 5ms/step - loss: 3.8410 - mae: 3.8410\n",
      "Epoch 73/100\n",
      "2/2 [==============================] - 0s 4ms/step - loss: 3.6089 - mae: 3.6089\n",
      "Epoch 74/100\n",
      "2/2 [==============================] - 0s 3ms/step - loss: 3.5379 - mae: 3.5379\n",
      "Epoch 75/100\n",
      "2/2 [==============================] - 0s 4ms/step - loss: 3.3649 - mae: 3.3649\n",
      "Epoch 76/100\n",
      "2/2 [==============================] - 0s 3ms/step - loss: 3.2232 - mae: 3.2232\n",
      "Epoch 77/100\n",
      "2/2 [==============================] - 0s 10ms/step - loss: 3.1069 - mae: 3.1069\n",
      "Epoch 78/100\n",
      "2/2 [==============================] - 0s 4ms/step - loss: 2.9803 - mae: 2.9803\n",
      "Epoch 79/100\n",
      "2/2 [==============================] - 0s 13ms/step - loss: 2.9304 - mae: 2.9304\n",
      "Epoch 80/100\n",
      "2/2 [==============================] - 0s 3ms/step - loss: 2.8015 - mae: 2.8015\n",
      "Epoch 81/100\n",
      "2/2 [==============================] - 0s 4ms/step - loss: 2.6034 - mae: 2.6034\n",
      "Epoch 82/100\n",
      "2/2 [==============================] - 0s 7ms/step - loss: 2.6148 - mae: 2.6148\n",
      "Epoch 83/100\n",
      "2/2 [==============================] - 0s 4ms/step - loss: 2.3185 - mae: 2.3185\n",
      "Epoch 84/100\n",
      "2/2 [==============================] - ETA: 0s - loss: 2.2927 - mae: 2.292 - 0s 7ms/step - loss: 2.3932 - mae: 2.3932\n",
      "Epoch 85/100\n",
      "2/2 [==============================] - 0s 7ms/step - loss: 2.1410 - mae: 2.1410\n",
      "Epoch 86/100\n",
      "2/2 [==============================] - 0s 4ms/step - loss: 2.2523 - mae: 2.2523\n",
      "Epoch 87/100\n",
      "2/2 [==============================] - 0s 7ms/step - loss: 1.9461 - mae: 1.9461\n",
      "Epoch 88/100\n"
     ]
    },
    {
     "name": "stdout",
     "output_type": "stream",
     "text": [
      "2/2 [==============================] - 0s 4ms/step - loss: 1.8612 - mae: 1.8612\n",
      "Epoch 89/100\n",
      "2/2 [==============================] - 0s 3ms/step - loss: 1.5139 - mae: 1.5139\n",
      "Epoch 90/100\n",
      "2/2 [==============================] - 0s 3ms/step - loss: 1.3886 - mae: 1.3886\n",
      "Epoch 91/100\n",
      "2/2 [==============================] - 0s 11ms/step - loss: 1.5882 - mae: 1.5882\n",
      "Epoch 92/100\n",
      "2/2 [==============================] - 0s 6ms/step - loss: 1.1742 - mae: 1.1742\n",
      "Epoch 93/100\n",
      "2/2 [==============================] - 0s 6ms/step - loss: 1.3228 - mae: 1.3228\n",
      "Epoch 94/100\n",
      "2/2 [==============================] - 0s 5ms/step - loss: 1.0229 - mae: 1.0229\n",
      "Epoch 95/100\n",
      "2/2 [==============================] - 0s 6ms/step - loss: 0.9214 - mae: 0.9214\n",
      "Epoch 96/100\n",
      "2/2 [==============================] - 0s 5ms/step - loss: 0.5324 - mae: 0.5324\n",
      "Epoch 97/100\n",
      "2/2 [==============================] - 0s 4ms/step - loss: 0.9323 - mae: 0.9323\n",
      "Epoch 98/100\n",
      "2/2 [==============================] - 0s 5ms/step - loss: 0.3153 - mae: 0.3153\n",
      "Epoch 99/100\n",
      "2/2 [==============================] - 0s 6ms/step - loss: 1.2863 - mae: 1.2863\n",
      "Epoch 100/100\n",
      "2/2 [==============================] - 0s 4ms/step - loss: 0.4371 - mae: 0.4371\n"
     ]
    },
    {
     "data": {
      "text/plain": [
       "<keras.callbacks.History at 0x36b4d160>"
      ]
     },
     "execution_count": 355,
     "metadata": {},
     "output_type": "execute_result"
    }
   ],
   "source": [
    "model = tf.keras.Sequential([tf.keras.layers.Dense(10,input_shape = X_train[0].shape,name = 'input_layer'),\n",
    "                           tf.keras.layers.Dense(1,name = \"output_layer\"),\n",
    "                            ],name = 'nerual_network')\n",
    "\n",
    "model.compile(loss = tf.keras.losses.mae,\n",
    "             optimizer = tf.keras.optimizers.Adam(learning_rate = 0.01),\n",
    "             metrics= ['mae'])\n",
    "\n",
    "model.fit(X_train,y_train,epochs = 100)"
   ]
  },
  {
   "cell_type": "code",
   "execution_count": 356,
   "id": "97fd0572",
   "metadata": {},
   "outputs": [
    {
     "name": "stdout",
     "output_type": "stream",
     "text": [
      "Model: \"nerual_network\"\n",
      "_________________________________________________________________\n",
      " Layer (type)                Output Shape              Param #   \n",
      "=================================================================\n",
      " input_layer (Dense)         (None, 10)                20        \n",
      "                                                                 \n",
      " output_layer (Dense)        (None, 1)                 11        \n",
      "                                                                 \n",
      "=================================================================\n",
      "Total params: 31\n",
      "Trainable params: 31\n",
      "Non-trainable params: 0\n",
      "_________________________________________________________________\n"
     ]
    }
   ],
   "source": [
    "model.summary()"
   ]
  },
  {
   "cell_type": "code",
   "execution_count": 357,
   "id": "10977c84",
   "metadata": {},
   "outputs": [
    {
     "data": {
      "image/png": "[encoded data removed]",
      "text/plain": [
       "<IPython.core.display.Image object>"
      ]
     },
     "execution_count": 357,
     "metadata": {},
     "output_type": "execute_result"
    }
   ],
   "source": [
    "from tensorflow.keras.utils import plot_model \n",
    "plot_model(model,show_shapes = True) # give you image of your picture and save it"
   ]
  },
  {
   "cell_type": "code",
   "execution_count": 359,
   "id": "5272db7b",
   "metadata": {},
   "outputs": [
    {
     "data": {
      "text/plain": [
       "array([[ 72.610855],\n",
       "       [ 76.76415 ],\n",
       "       [ 80.917435],\n",
       "       [ 85.070724],\n",
       "       [ 89.22402 ],\n",
       "       [ 93.37732 ],\n",
       "       [ 97.53062 ],\n",
       "       [101.68391 ],\n",
       "       [105.8372  ],\n",
       "       [109.9905  ]], dtype=float32)"
      ]
     },
     "execution_count": 359,
     "metadata": {},
     "output_type": "execute_result"
    }
   ],
   "source": [
    "y_pred = model.predict(tf.expand_dims(X_test,axis = -1))\n",
    "y_pred"
   ]
  },
  {
   "cell_type": "code",
   "execution_count": 361,
   "id": "cc75ec27",
   "metadata": {},
   "outputs": [
    {
     "name": "stdout",
     "output_type": "stream",
     "text": [
      "1/1 [==============================] - 0s 120ms/step - loss: 3.3007 - mae: 3.3007\n"
     ]
    },
    {
     "data": {
      "text/plain": [
       "[3.300673723220825, 3.300673723220825]"
      ]
     },
     "execution_count": 361,
     "metadata": {},
     "output_type": "execute_result"
    }
   ],
   "source": [
    "model.evaluate(X_test,y_test,verbose = 1)"
   ]
  },
  {
   "cell_type": "code",
   "execution_count": 362,
   "id": "e7199749",
   "metadata": {},
   "outputs": [
    {
     "data": {
      "text/plain": [
       "[<tf.Variable 'input_layer/kernel:0' shape=(1, 10) dtype=float32, numpy=\n",
       " array([[ 0.1854691 , -0.00626344, -0.6245547 ,  0.13235658,  0.07141198,\n",
       "         -0.46130648,  0.33715683,  0.01493979,  0.15156494,  0.2517359 ]],\n",
       "       dtype=float32)>,\n",
       " <tf.Variable 'input_layer/bias:0' shape=(10,) dtype=float32, numpy=\n",
       " array([ 2.172443 ,  1.8832097, -1.7090161, -1.755373 ,  1.6904826,\n",
       "        -1.7578102,  1.740471 , -1.8051078,  2.1390107, -1.517382 ],\n",
       "       dtype=float32)>,\n",
       " <tf.Variable 'output_layer/kernel:0' shape=(10, 1) dtype=float32, numpy=\n",
       " array([[ 0.3063827 ],\n",
       "        [ 0.49112862],\n",
       "        [-1.0063926 ],\n",
       "        [-0.45619944],\n",
       "        [ 0.3253529 ],\n",
       "        [-0.34469566],\n",
       "        [ 0.62882304],\n",
       "        [-0.69671756],\n",
       "        [ 0.39274403],\n",
       "        [-0.10711685]], dtype=float32)>,\n",
       " <tf.Variable 'output_layer/bias:0' shape=(1,) dtype=float32, numpy=array([1.6895905], dtype=float32)>]"
      ]
     },
     "execution_count": 362,
     "metadata": {},
     "output_type": "execute_result"
    }
   ],
   "source": [
    "model.weights"
   ]
  },
  {
   "cell_type": "code",
   "execution_count": 363,
   "id": "0d6d8a1d",
   "metadata": {},
   "outputs": [],
   "source": [
    "import matplotlib.pyplot as plt"
   ]
  },
  {
   "cell_type": "code",
   "execution_count": 371,
   "id": "24b59b70",
   "metadata": {},
   "outputs": [],
   "source": [
    "# let create a plotting function\n",
    "def plot_predictions(train_data = X_train,\n",
    "                    train_labels = y_train,\n",
    "                    test_data = X_test,\n",
    "                    test_labels = y_test,\n",
    "                    predictions = y_pred \n",
    "                    ):\n",
    "    '''\n",
    "    plot training data, test data and compares predictions to ground truth labels\n",
    "    '''\n",
    "    plt.figure(figsize = (10,7))\n",
    "    # plot training data in blue\n",
    "    plt.scatter(train_data,train_labels,c='b',label='training data')\n",
    "    # plot testing data in green\n",
    "    plt.scatter(test_data,test_labels,c='g',label='testing data')\n",
    "    # plot mode predictions in red\n",
    "    plt.scatter(X_test,predictions,c='r',label='predictions')\n",
    "    # show the legend\n",
    "    plt.legend()\n",
    "    #title and labels\n",
    "    plt.xlabel(\"data\")\n",
    "    plt.ylabel(\"label\")\n",
    "    plt.title(\"visualize the predictions\")\n",
    "    plt.show()"
   ]
  },
  {
   "cell_type": "code",
   "execution_count": 372,
   "id": "a9b2b788",
   "metadata": {},
   "outputs": [
    {
     "data": {
      "image/png": "[encoded data removed]",
      "text/plain": [
       "<Figure size 720x504 with 1 Axes>"
      ]
     },
     "metadata": {
      "needs_background": "light"
     },
     "output_type": "display_data"
    }
   ],
   "source": [
    "# plot_predictions()\n",
    "plot_predictions(train_data=X_train,\n",
    "                train_labels = y_train,\n",
    "                test_data = X_test,\n",
    "                test_labels = y_test,\n",
    "                predictions = y_pred)"
   ]
  },
  {
   "cell_type": "code",
   "execution_count": 378,
   "id": "4961cdeb",
   "metadata": {},
   "outputs": [
    {
     "name": "stdout",
     "output_type": "stream",
     "text": [
      "1/1 [==============================] - 0s 25ms/step - loss: 3.3007 - mae: 3.3007\n"
     ]
    },
    {
     "data": {
      "text/plain": [
       "[3.300673723220825, 3.300673723220825]"
      ]
     },
     "execution_count": 378,
     "metadata": {},
     "output_type": "execute_result"
    }
   ],
   "source": [
    "model.evaluate(X_test,y_test)"
   ]
  },
  {
   "cell_type": "code",
   "execution_count": 379,
   "id": "394df6c7",
   "metadata": {},
   "outputs": [
    {
     "data": {
      "text/plain": [
       "array([[ 72.610855],\n",
       "       [ 76.76415 ],\n",
       "       [ 80.917435],\n",
       "       [ 85.070724],\n",
       "       [ 89.22402 ],\n",
       "       [ 93.37732 ],\n",
       "       [ 97.53062 ],\n",
       "       [101.68391 ],\n",
       "       [105.8372  ],\n",
       "       [109.9905  ]], dtype=float32)"
      ]
     },
     "execution_count": 379,
     "metadata": {},
     "output_type": "execute_result"
    }
   ],
   "source": [
    "y_pred"
   ]
  },
  {
   "cell_type": "code",
   "execution_count": 380,
   "id": "e5df98ba",
   "metadata": {},
   "outputs": [
    {
     "data": {
      "text/plain": [
       "<tf.Tensor: shape=(10,), dtype=int32, numpy=array([ 70,  74,  78,  82,  86,  90,  94,  98, 102, 106])>"
      ]
     },
     "execution_count": 380,
     "metadata": {},
     "output_type": "execute_result"
    }
   ],
   "source": [
    "y_test"
   ]
  },
  {
   "cell_type": "code",
   "execution_count": 382,
   "id": "14b303fd",
   "metadata": {},
   "outputs": [
    {
     "data": {
      "text/plain": [
       "<tf.Tensor: shape=(), dtype=float32, numpy=3.300673>"
      ]
     },
     "execution_count": 382,
     "metadata": {},
     "output_type": "execute_result"
    }
   ],
   "source": [
    "tf.keras.losses.mean_absolute_error(y_test,tf.squeeze(y_pred))"
   ]
  },
  {
   "cell_type": "code",
   "execution_count": 384,
   "id": "dc88e9aa",
   "metadata": {},
   "outputs": [
    {
     "data": {
      "text/plain": [
       "<tf.Tensor: shape=(), dtype=float32, numpy=11.088308>"
      ]
     },
     "execution_count": 384,
     "metadata": {},
     "output_type": "execute_result"
    }
   ],
   "source": [
    "mse = tf.losses.MSE(y_true= y_test,y_pred = tf.squeeze(y_pred))\n",
    "mse"
   ]
  },
  {
   "cell_type": "code",
   "execution_count": null,
   "id": "7e0dda87",
   "metadata": {},
   "outputs": [],
   "source": []
  }
 ],
 "metadata": {
  "kernelspec": {
   "display_name": "Python 3",
   "language": "python",
   "name": "python3"
  },
  "language_info": {
   "codemirror_mode": {
    "name": "ipython",
    "version": 3
   },
   "file_extension": ".py",
   "mimetype": "text/x-python",
   "name": "python",
   "nbconvert_exporter": "python",
   "pygments_lexer": "ipython3",
   "version": "3.8.8"
  }
 },
 "nbformat": 4,
 "nbformat_minor": 5
}
