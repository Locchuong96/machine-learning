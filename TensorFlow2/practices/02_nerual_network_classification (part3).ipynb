{
 "cells": [
  {
   "cell_type": "markdown",
   "id": "94ab5cf3",
   "metadata": {},
   "source": [
    "## Working with a lager example (multiclass classification)\n",
    "\n",
    "When you have more than two classes as an option, it's known as **multi-class classification**\n",
    "* This means if you have 3 different classes, it's multi-class classification\n",
    "* It also means if you have 100 different classes, it;s multi-class classification\n",
    "\n",
    "To practice multi-class classification, we're going to build a neural network to classify images of different items of clothing."
   ]
  },
  {
   "cell_type": "code",
   "execution_count": 159,
   "id": "ed7ca20e",
   "metadata": {},
   "outputs": [],
   "source": [
    "import tensorflow as tf \n",
    "import matplotlib.pyplot as plt\n",
    "import numpy as np\n",
    "import pandas as pd"
   ]
  },
  {
   "cell_type": "code",
   "execution_count": 3,
   "id": "8b75c5d4",
   "metadata": {},
   "outputs": [
    {
     "data": {
      "text/plain": [
       "['__builtins__',\n",
       " '__cached__',\n",
       " '__doc__',\n",
       " '__file__',\n",
       " '__loader__',\n",
       " '__name__',\n",
       " '__package__',\n",
       " '__path__',\n",
       " '__spec__',\n",
       " '_sys',\n",
       " 'boston_housing',\n",
       " 'cifar10',\n",
       " 'cifar100',\n",
       " 'fashion_mnist',\n",
       " 'imdb',\n",
       " 'mnist',\n",
       " 'reuters']"
      ]
     },
     "execution_count": 3,
     "metadata": {},
     "output_type": "execute_result"
    }
   ],
   "source": [
    "dir(tf.keras.datasets)"
   ]
  },
  {
   "cell_type": "code",
   "execution_count": 4,
   "id": "2b0ecc04",
   "metadata": {},
   "outputs": [],
   "source": [
    "from tensorflow.keras.datasets import fashion_mnist"
   ]
  },
  {
   "cell_type": "code",
   "execution_count": 5,
   "id": "c2f70b34",
   "metadata": {},
   "outputs": [
    {
     "data": {
      "text/plain": [
       "['__builtins__',\n",
       " '__cached__',\n",
       " '__doc__',\n",
       " '__file__',\n",
       " '__loader__',\n",
       " '__name__',\n",
       " '__package__',\n",
       " '__path__',\n",
       " '__spec__',\n",
       " '_sys',\n",
       " 'load_data']"
      ]
     },
     "execution_count": 5,
     "metadata": {},
     "output_type": "execute_result"
    }
   ],
   "source": [
    "dir(fashion_mnist)"
   ]
  },
  {
   "cell_type": "code",
   "execution_count": 6,
   "id": "387d9f65",
   "metadata": {},
   "outputs": [
    {
     "name": "stdout",
     "output_type": "stream",
     "text": [
      "Downloading data from https://storage.googleapis.com/tensorflow/tf-keras-datasets/train-labels-idx1-ubyte.gz\n",
      "32768/29515 [=================================] - 0s 1us/step\n",
      "40960/29515 [=========================================] - 0s 1us/step\n",
      "Downloading data from https://storage.googleapis.com/tensorflow/tf-keras-datasets/train-images-idx3-ubyte.gz\n",
      "26427392/26421880 [==============================] - 5s 0us/step\n",
      "26435584/26421880 [==============================] - 5s 0us/step\n",
      "Downloading data from https://storage.googleapis.com/tensorflow/tf-keras-datasets/t10k-labels-idx1-ubyte.gz\n",
      "16384/5148 [===============================================================================================] - 0s 0s/step\n",
      "Downloading data from https://storage.googleapis.com/tensorflow/tf-keras-datasets/t10k-images-idx3-ubyte.gz\n",
      "4423680/4422102 [==============================] - 1s 0us/step\n",
      "4431872/4422102 [==============================] - 1s 0us/step\n"
     ]
    }
   ],
   "source": [
    "(train_data,train_labels),(test_data,test_labels) = fashion_mnist.load_data()"
   ]
  },
  {
   "cell_type": "code",
   "execution_count": 12,
   "id": "c7bfce7b",
   "metadata": {},
   "outputs": [
    {
     "name": "stdout",
     "output_type": "stream",
     "text": [
      "<class 'numpy.ndarray'>\n",
      "(60000, 28, 28)\n"
     ]
    }
   ],
   "source": [
    "print(type(train_data))\n",
    "print(train_data.shape)"
   ]
  },
  {
   "cell_type": "code",
   "execution_count": 9,
   "id": "345b8f9d",
   "metadata": {},
   "outputs": [
    {
     "name": "stdout",
     "output_type": "stream",
     "text": [
      "Training sample:\n",
      " [[  0   0   0   0   0   0   0   0   0   0   0   0   0   0   0   0   0   0\n",
      "    0   0   0   0   0   0   0   0   0   0]\n",
      " [  0   0   0   0   0   0   0   0   0   0   0   0   0   0   0   0   0   0\n",
      "    0   0   0   0   0   0   0   0   0   0]\n",
      " [  0   0   0   0   0   0   0   0   0   0   0   0   0   0   0   0   0   0\n",
      "    0   0   0   0   0   0   0   0   0   0]\n",
      " [  0   0   0   0   0   0   0   0   0   0   0   0   1   0   0  13  73   0\n",
      "    0   1   4   0   0   0   0   1   1   0]\n",
      " [  0   0   0   0   0   0   0   0   0   0   0   0   3   0  36 136 127  62\n",
      "   54   0   0   0   1   3   4   0   0   3]\n",
      " [  0   0   0   0   0   0   0   0   0   0   0   0   6   0 102 204 176 134\n",
      "  144 123  23   0   0   0   0  12  10   0]\n",
      " [  0   0   0   0   0   0   0   0   0   0   0   0   0   0 155 236 207 178\n",
      "  107 156 161 109  64  23  77 130  72  15]\n",
      " [  0   0   0   0   0   0   0   0   0   0   0   1   0  69 207 223 218 216\n",
      "  216 163 127 121 122 146 141  88 172  66]\n",
      " [  0   0   0   0   0   0   0   0   0   1   1   1   0 200 232 232 233 229\n",
      "  223 223 215 213 164 127 123 196 229   0]\n",
      " [  0   0   0   0   0   0   0   0   0   0   0   0   0 183 225 216 223 228\n",
      "  235 227 224 222 224 221 223 245 173   0]\n",
      " [  0   0   0   0   0   0   0   0   0   0   0   0   0 193 228 218 213 198\n",
      "  180 212 210 211 213 223 220 243 202   0]\n",
      " [  0   0   0   0   0   0   0   0   0   1   3   0  12 219 220 212 218 192\n",
      "  169 227 208 218 224 212 226 197 209  52]\n",
      " [  0   0   0   0   0   0   0   0   0   0   6   0  99 244 222 220 218 203\n",
      "  198 221 215 213 222 220 245 119 167  56]\n",
      " [  0   0   0   0   0   0   0   0   0   4   0   0  55 236 228 230 228 240\n",
      "  232 213 218 223 234 217 217 209  92   0]\n",
      " [  0   0   1   4   6   7   2   0   0   0   0   0 237 226 217 223 222 219\n",
      "  222 221 216 223 229 215 218 255  77   0]\n",
      " [  0   3   0   0   0   0   0   0   0  62 145 204 228 207 213 221 218 208\n",
      "  211 218 224 223 219 215 224 244 159   0]\n",
      " [  0   0   0   0  18  44  82 107 189 228 220 222 217 226 200 205 211 230\n",
      "  224 234 176 188 250 248 233 238 215   0]\n",
      " [  0  57 187 208 224 221 224 208 204 214 208 209 200 159 245 193 206 223\n",
      "  255 255 221 234 221 211 220 232 246   0]\n",
      " [  3 202 228 224 221 211 211 214 205 205 205 220 240  80 150 255 229 221\n",
      "  188 154 191 210 204 209 222 228 225   0]\n",
      " [ 98 233 198 210 222 229 229 234 249 220 194 215 217 241  65  73 106 117\n",
      "  168 219 221 215 217 223 223 224 229  29]\n",
      " [ 75 204 212 204 193 205 211 225 216 185 197 206 198 213 240 195 227 245\n",
      "  239 223 218 212 209 222 220 221 230  67]\n",
      " [ 48 203 183 194 213 197 185 190 194 192 202 214 219 221 220 236 225 216\n",
      "  199 206 186 181 177 172 181 205 206 115]\n",
      " [  0 122 219 193 179 171 183 196 204 210 213 207 211 210 200 196 194 191\n",
      "  195 191 198 192 176 156 167 177 210  92]\n",
      " [  0   0  74 189 212 191 175 172 175 181 185 188 189 188 193 198 204 209\n",
      "  210 210 211 188 188 194 192 216 170   0]\n",
      " [  2   0   0   0  66 200 222 237 239 242 246 243 244 221 220 193 191 179\n",
      "  182 182 181 176 166 168  99  58   0   0]\n",
      " [  0   0   0   0   0   0   0  40  61  44  72  41  35   0   0   0   0   0\n",
      "    0   0   0   0   0   0   0   0   0   0]\n",
      " [  0   0   0   0   0   0   0   0   0   0   0   0   0   0   0   0   0   0\n",
      "    0   0   0   0   0   0   0   0   0   0]\n",
      " [  0   0   0   0   0   0   0   0   0   0   0   0   0   0   0   0   0   0\n",
      "    0   0   0   0   0   0   0   0   0   0]]\n",
      "\n",
      "Training label:\n",
      " 9\n",
      "\n"
     ]
    }
   ],
   "source": [
    "# Show the first training example\n",
    "print(f\"Training sample:\\n {train_data[0]}\\n\")\n",
    "print(f\"Training label:\\n {train_labels[0]}\\n\")"
   ]
  },
  {
   "cell_type": "code",
   "execution_count": 115,
   "id": "cad7f5dd",
   "metadata": {},
   "outputs": [],
   "source": [
    "# create a small list so we can index onto our training labels so they are human readable\n",
    "class_names = [\"t-shirt/top\",\n",
    "              \"trouser\",\n",
    "               \"pullover\",\n",
    "               \"dress\",\n",
    "               \"coat\",\n",
    "               \"sandal\",\n",
    "               \"shirt\",\n",
    "               \"sneaker\",\n",
    "               \"bag\",\n",
    "               \"ankle boot\",\n",
    "              ]"
   ]
  },
  {
   "cell_type": "code",
   "execution_count": 126,
   "id": "d6f7d554",
   "metadata": {},
   "outputs": [
    {
     "data": {
      "text/plain": [
       "Text(0.5, 1.0, 't-shirt/top')"
      ]
     },
     "execution_count": 126,
     "metadata": {},
     "output_type": "execute_result"
    },
    {
     "data": {
      "image/png": "[encoded data removed]",
      "text/plain": [
       "<Figure size 432x288 with 1 Axes>"
      ]
     },
     "metadata": {
      "needs_background": "light"
     },
     "output_type": "display_data"
    }
   ],
   "source": [
    "random_number = np.random.randint(0,60000,1)\n",
    "plt.imshow(train_data[random_number[0]],cmap = plt.cm.binary)\n",
    "plt.title(class_names[train_labels[random_number[0]]])"
   ]
  },
  {
   "cell_type": "code",
   "execution_count": 131,
   "id": "0dba40cd",
   "metadata": {},
   "outputs": [
    {
     "data": {
      "image/png": "[encoded data removed]",
      "text/plain": [
       "<Figure size 504x504 with 4 Axes>"
      ]
     },
     "metadata": {
      "needs_background": "light"
     },
     "output_type": "display_data"
    }
   ],
   "source": [
    "# Plot multiple random images\n",
    "import random\n",
    "plt.figure(figsize = (7,7))\n",
    "for i in range(4):\n",
    "    ax = plt.subplot(2,2,i+1)\n",
    "    random_index = random.choice(range(len(train_data)))\n",
    "    plt.imshow(train_data[random_index],cmap = plt.cm.binary)\n",
    "    plt.title(class_names[train_labels[random_index]])\n",
    "    plt.axis(False) # don't display stick"
   ]
  },
  {
   "cell_type": "markdown",
   "id": "1a376a8a",
   "metadata": {},
   "source": [
    "## Building-multi classification model\n",
    "\n",
    "For our multi-class classification model, we can use a similar architecture to our binary classifiers, However we are going to tweak few things:\n",
    "\n",
    "* Input shpe = 28 x 28 (the shape of one image)\n",
    "\n",
    "* Output shape = 10 (one per class of clothing)\n",
    "\n",
    "* Loss function = tf.keras.CategoricalCrossentropy()\n",
    "    \n",
    "    - If your labels are one-hot encoded, use CategoricalCrossentropy\n",
    "    \n",
    "    - If your labels integer form, use SparseCategorialCrossentropy\n",
    "\n",
    "* Output layer activation = Softmax (not signmoid)"
   ]
  },
  {
   "cell_type": "code",
   "execution_count": 149,
   "id": "fb701c76",
   "metadata": {},
   "outputs": [
    {
     "data": {
      "text/plain": [
       "(None, 784)"
      ]
     },
     "execution_count": 149,
     "metadata": {},
     "output_type": "execute_result"
    }
   ],
   "source": [
    "# our data needs to be flattened (from 28x28 to None,28*28)\n",
    "flatten_model = tf.keras.Sequential([\n",
    "    tf.keras.layers.Flatten(input_shape = (28,28))\n",
    "])\n",
    "flatten_model.output_shape"
   ]
  },
  {
   "cell_type": "code",
   "execution_count": 150,
   "id": "ab03dcee",
   "metadata": {},
   "outputs": [
    {
     "data": {
      "text/plain": [
       "784"
      ]
     },
     "execution_count": 150,
     "metadata": {},
     "output_type": "execute_result"
    }
   ],
   "source": [
    "28*28"
   ]
  },
  {
   "cell_type": "code",
   "execution_count": 161,
   "id": "6761ec08",
   "metadata": {},
   "outputs": [
    {
     "data": {
      "text/plain": [
       "<tf.Tensor: shape=(10, 10), dtype=float32, numpy=\n",
       "array([[0., 0., 0., 0., 0., 0., 0., 0., 0., 1.],\n",
       "       [1., 0., 0., 0., 0., 0., 0., 0., 0., 0.],\n",
       "       [1., 0., 0., 0., 0., 0., 0., 0., 0., 0.],\n",
       "       [0., 0., 0., 1., 0., 0., 0., 0., 0., 0.],\n",
       "       [1., 0., 0., 0., 0., 0., 0., 0., 0., 0.],\n",
       "       [0., 0., 1., 0., 0., 0., 0., 0., 0., 0.],\n",
       "       [0., 0., 0., 0., 0., 0., 0., 1., 0., 0.],\n",
       "       [0., 0., 1., 0., 0., 0., 0., 0., 0., 0.],\n",
       "       [0., 0., 0., 0., 0., 1., 0., 0., 0., 0.],\n",
       "       [0., 0., 0., 0., 0., 1., 0., 0., 0., 0.]], dtype=float32)>"
      ]
     },
     "execution_count": 161,
     "metadata": {},
     "output_type": "execute_result"
    }
   ],
   "source": [
    "tf.one_hot(train_labels[:10],depth = 10)"
   ]
  },
  {
   "cell_type": "code",
   "execution_count": 164,
   "id": "67940ebc",
   "metadata": {},
   "outputs": [
    {
     "name": "stdout",
     "output_type": "stream",
     "text": [
      "Epoch 1/100\n",
      "1875/1875 [==============================] - 5s 2ms/step - loss: 2.1655 - accuracy: 0.1610 - val_loss: 1.7964 - val_accuracy: 0.2112\n",
      "Epoch 2/100\n",
      "1875/1875 [==============================] - 5s 3ms/step - loss: 1.7028 - accuracy: 0.2535 - val_loss: 1.6496 - val_accuracy: 0.2914\n",
      "Epoch 3/100\n",
      "1875/1875 [==============================] - 5s 2ms/step - loss: 1.6321 - accuracy: 0.2844 - val_loss: 1.5998 - val_accuracy: 0.2859\n",
      "Epoch 4/100\n",
      "1875/1875 [==============================] - 4s 2ms/step - loss: 1.6055 - accuracy: 0.2948 - val_loss: 1.6007 - val_accuracy: 0.3142\n",
      "Epoch 5/100\n",
      "1875/1875 [==============================] - 5s 3ms/step - loss: 1.5959 - accuracy: 0.3067 - val_loss: 1.5778 - val_accuracy: 0.3271\n",
      "Epoch 6/100\n",
      "1875/1875 [==============================] - 5s 3ms/step - loss: 1.5823 - accuracy: 0.3209 - val_loss: 1.5779 - val_accuracy: 0.3348\n",
      "Epoch 7/100\n",
      "1875/1875 [==============================] - 5s 3ms/step - loss: 1.5818 - accuracy: 0.3225 - val_loss: 1.5588 - val_accuracy: 0.3353\n",
      "Epoch 8/100\n",
      "1875/1875 [==============================] - 5s 3ms/step - loss: 1.5752 - accuracy: 0.3205 - val_loss: 1.5879 - val_accuracy: 0.3205\n",
      "Epoch 9/100\n",
      "1875/1875 [==============================] - 6s 3ms/step - loss: 1.5794 - accuracy: 0.3168 - val_loss: 1.5598 - val_accuracy: 0.3295\n",
      "Epoch 10/100\n",
      "1875/1875 [==============================] - 5s 3ms/step - loss: 1.5660 - accuracy: 0.3238 - val_loss: 1.5653 - val_accuracy: 0.3152\n",
      "Epoch 11/100\n",
      "1875/1875 [==============================] - 5s 3ms/step - loss: 1.5631 - accuracy: 0.3264 - val_loss: 1.5836 - val_accuracy: 0.3221\n",
      "Epoch 12/100\n",
      "1875/1875 [==============================] - 5s 3ms/step - loss: 1.5650 - accuracy: 0.3283 - val_loss: 1.5552 - val_accuracy: 0.3312\n",
      "Epoch 13/100\n",
      "1875/1875 [==============================] - 5s 3ms/step - loss: 1.5568 - accuracy: 0.3296 - val_loss: 1.5475 - val_accuracy: 0.3434\n",
      "Epoch 14/100\n",
      "1875/1875 [==============================] - 4s 2ms/step - loss: 1.5654 - accuracy: 0.3293 - val_loss: 1.5856 - val_accuracy: 0.3165\n",
      "Epoch 15/100\n",
      "1875/1875 [==============================] - 4s 2ms/step - loss: 1.5685 - accuracy: 0.3260 - val_loss: 1.5591 - val_accuracy: 0.3303\n",
      "Epoch 16/100\n",
      "1875/1875 [==============================] - 4s 2ms/step - loss: 1.5604 - accuracy: 0.3329 - val_loss: 1.5725 - val_accuracy: 0.3272\n",
      "Epoch 17/100\n",
      "1875/1875 [==============================] - 5s 2ms/step - loss: 1.5543 - accuracy: 0.3288 - val_loss: 1.5665 - val_accuracy: 0.3349\n",
      "Epoch 18/100\n",
      "1875/1875 [==============================] - 5s 3ms/step - loss: 1.5546 - accuracy: 0.3323 - val_loss: 1.5680 - val_accuracy: 0.3136\n",
      "Epoch 19/100\n",
      "1875/1875 [==============================] - 5s 3ms/step - loss: 1.5526 - accuracy: 0.3292 - val_loss: 1.5397 - val_accuracy: 0.3330\n",
      "Epoch 20/100\n",
      "1875/1875 [==============================] - 6s 3ms/step - loss: 1.5556 - accuracy: 0.3309 - val_loss: 1.5579 - val_accuracy: 0.3375\n",
      "Epoch 21/100\n",
      "1875/1875 [==============================] - 6s 3ms/step - loss: 1.5601 - accuracy: 0.3309 - val_loss: 1.5635 - val_accuracy: 0.3407\n",
      "Epoch 22/100\n",
      "1875/1875 [==============================] - 5s 3ms/step - loss: 1.5565 - accuracy: 0.3309 - val_loss: 1.5358 - val_accuracy: 0.3397\n",
      "Epoch 23/100\n",
      "1875/1875 [==============================] - 5s 3ms/step - loss: 1.5549 - accuracy: 0.3347 - val_loss: 1.5715 - val_accuracy: 0.3301\n",
      "Epoch 24/100\n",
      "1875/1875 [==============================] - 5s 3ms/step - loss: 1.5565 - accuracy: 0.3303 - val_loss: 1.5534 - val_accuracy: 0.3397\n",
      "Epoch 25/100\n",
      "1875/1875 [==============================] - 5s 3ms/step - loss: 1.5527 - accuracy: 0.3340 - val_loss: 1.5466 - val_accuracy: 0.3355\n",
      "Epoch 26/100\n",
      "1875/1875 [==============================] - 5s 3ms/step - loss: 1.5592 - accuracy: 0.3283 - val_loss: 1.5432 - val_accuracy: 0.3387\n",
      "Epoch 27/100\n",
      "1875/1875 [==============================] - 5s 3ms/step - loss: 1.5549 - accuracy: 0.3294 - val_loss: 1.5990 - val_accuracy: 0.2838\n",
      "Epoch 28/100\n",
      "1875/1875 [==============================] - 5s 3ms/step - loss: 1.5461 - accuracy: 0.3347 - val_loss: 1.5476 - val_accuracy: 0.3402\n",
      "Epoch 29/100\n",
      "1875/1875 [==============================] - 6s 3ms/step - loss: 1.5509 - accuracy: 0.3346 - val_loss: 1.5619 - val_accuracy: 0.3391\n",
      "Epoch 30/100\n",
      "1875/1875 [==============================] - 6s 3ms/step - loss: 1.5550 - accuracy: 0.3350 - val_loss: 1.5915 - val_accuracy: 0.3321\n",
      "Epoch 31/100\n",
      "1875/1875 [==============================] - 5s 3ms/step - loss: 1.5598 - accuracy: 0.3357 - val_loss: 1.5619 - val_accuracy: 0.3362\n",
      "Epoch 32/100\n",
      "1875/1875 [==============================] - 6s 3ms/step - loss: 1.5496 - accuracy: 0.3353 - val_loss: 1.5377 - val_accuracy: 0.3427\n",
      "Epoch 33/100\n",
      "1875/1875 [==============================] - 5s 2ms/step - loss: 1.5529 - accuracy: 0.3372 - val_loss: 1.5549 - val_accuracy: 0.3392\n",
      "Epoch 34/100\n",
      "1875/1875 [==============================] - 5s 3ms/step - loss: 1.5433 - accuracy: 0.3408 - val_loss: 1.5590 - val_accuracy: 0.3380\n",
      "Epoch 35/100\n",
      "1875/1875 [==============================] - 5s 3ms/step - loss: 1.5488 - accuracy: 0.3348 - val_loss: 1.5401 - val_accuracy: 0.3391\n",
      "Epoch 36/100\n",
      "1875/1875 [==============================] - 4s 2ms/step - loss: 1.5513 - accuracy: 0.3356 - val_loss: 1.5346 - val_accuracy: 0.3454\n",
      "Epoch 37/100\n",
      "1875/1875 [==============================] - 4s 2ms/step - loss: 1.5566 - accuracy: 0.3327 - val_loss: 1.5412 - val_accuracy: 0.3414\n",
      "Epoch 38/100\n",
      "1875/1875 [==============================] - 4s 2ms/step - loss: 1.5467 - accuracy: 0.3365 - val_loss: 1.5630 - val_accuracy: 0.3345\n",
      "Epoch 39/100\n",
      "1875/1875 [==============================] - 4s 2ms/step - loss: 1.5527 - accuracy: 0.3357 - val_loss: 1.5480 - val_accuracy: 0.3285\n",
      "Epoch 40/100\n",
      "1875/1875 [==============================] - 3s 2ms/step - loss: 1.5442 - accuracy: 0.3388 - val_loss: 1.5675 - val_accuracy: 0.3362\n",
      "Epoch 41/100\n",
      "1875/1875 [==============================] - 3s 2ms/step - loss: 1.5559 - accuracy: 0.3366 - val_loss: 1.5593 - val_accuracy: 0.3347\n",
      "Epoch 42/100\n",
      "1875/1875 [==============================] - 4s 2ms/step - loss: 1.5481 - accuracy: 0.3383 - val_loss: 1.5390 - val_accuracy: 0.3430\n",
      "Epoch 43/100\n",
      "1875/1875 [==============================] - 4s 2ms/step - loss: 1.5507 - accuracy: 0.3388 - val_loss: 1.5445 - val_accuracy: 0.3457\n",
      "Epoch 44/100\n",
      "1875/1875 [==============================] - 5s 2ms/step - loss: 1.5550 - accuracy: 0.3378 - val_loss: 1.5872 - val_accuracy: 0.3337\n",
      "Epoch 45/100\n",
      "1875/1875 [==============================] - 4s 2ms/step - loss: 1.5570 - accuracy: 0.3365 - val_loss: 1.5523 - val_accuracy: 0.3414\n",
      "Epoch 46/100\n",
      "1875/1875 [==============================] - 4s 2ms/step - loss: 1.5454 - accuracy: 0.3415 - val_loss: 1.5443 - val_accuracy: 0.3455\n",
      "Epoch 47/100\n",
      "1875/1875 [==============================] - 3s 2ms/step - loss: 1.5409 - accuracy: 0.3378 - val_loss: 1.5398 - val_accuracy: 0.3443\n",
      "Epoch 48/100\n",
      "1875/1875 [==============================] - 4s 2ms/step - loss: 1.5486 - accuracy: 0.3340 - val_loss: 1.5584 - val_accuracy: 0.3407\n",
      "Epoch 49/100\n",
      "1875/1875 [==============================] - 4s 2ms/step - loss: 1.5441 - accuracy: 0.3380 - val_loss: 1.5525 - val_accuracy: 0.3373\n",
      "Epoch 50/100\n",
      "1875/1875 [==============================] - 4s 2ms/step - loss: 1.5441 - accuracy: 0.3354 - val_loss: 1.5378 - val_accuracy: 0.3416\n",
      "Epoch 51/100\n",
      "1875/1875 [==============================] - 3s 2ms/step - loss: 1.5431 - accuracy: 0.3412 - val_loss: 1.5782 - val_accuracy: 0.3358\n",
      "Epoch 52/100\n",
      "1875/1875 [==============================] - 4s 2ms/step - loss: 1.5529 - accuracy: 0.3388 - val_loss: 1.5576 - val_accuracy: 0.3421\n",
      "Epoch 53/100\n",
      "1875/1875 [==============================] - 4s 2ms/step - loss: 1.5479 - accuracy: 0.3390 - val_loss: 1.5675 - val_accuracy: 0.3403\n",
      "Epoch 54/100\n",
      "1875/1875 [==============================] - 3s 2ms/step - loss: 1.5831 - accuracy: 0.3318 - val_loss: 1.5453 - val_accuracy: 0.3433\n",
      "Epoch 55/100\n",
      "1875/1875 [==============================] - 4s 2ms/step - loss: 1.5435 - accuracy: 0.3356 - val_loss: 1.5333 - val_accuracy: 0.3413\n",
      "Epoch 56/100\n",
      "1875/1875 [==============================] - 4s 2ms/step - loss: 1.5371 - accuracy: 0.3396 - val_loss: 1.5466 - val_accuracy: 0.3435\n",
      "Epoch 57/100\n"
     ]
    },
    {
     "name": "stdout",
     "output_type": "stream",
     "text": [
      "1875/1875 [==============================] - 3s 2ms/step - loss: 1.5573 - accuracy: 0.3398 - val_loss: 1.5565 - val_accuracy: 0.3401\n",
      "Epoch 58/100\n",
      "1875/1875 [==============================] - 4s 2ms/step - loss: 1.5435 - accuracy: 0.3388 - val_loss: 1.5401 - val_accuracy: 0.3453\n",
      "Epoch 59/100\n",
      "1875/1875 [==============================] - 4s 2ms/step - loss: 1.5400 - accuracy: 0.3414 - val_loss: 1.5433 - val_accuracy: 0.3396\n",
      "Epoch 60/100\n",
      "1875/1875 [==============================] - 4s 2ms/step - loss: 1.5434 - accuracy: 0.3362 - val_loss: 1.5529 - val_accuracy: 0.3363\n",
      "Epoch 61/100\n",
      "1875/1875 [==============================] - 4s 2ms/step - loss: 1.5454 - accuracy: 0.3350 - val_loss: 1.5456 - val_accuracy: 0.3325\n",
      "Epoch 62/100\n",
      "1875/1875 [==============================] - 3s 2ms/step - loss: 1.5504 - accuracy: 0.3359 - val_loss: 1.5445 - val_accuracy: 0.3379\n",
      "Epoch 63/100\n",
      "1875/1875 [==============================] - 4s 2ms/step - loss: 1.5469 - accuracy: 0.3387 - val_loss: 1.5594 - val_accuracy: 0.3374\n",
      "Epoch 64/100\n",
      "1875/1875 [==============================] - 4s 2ms/step - loss: 1.5429 - accuracy: 0.3382 - val_loss: 1.5416 - val_accuracy: 0.3431\n",
      "Epoch 65/100\n",
      "1875/1875 [==============================] - 4s 2ms/step - loss: 1.5541 - accuracy: 0.3373 - val_loss: 1.5816 - val_accuracy: 0.3371\n",
      "Epoch 66/100\n",
      "1875/1875 [==============================] - 4s 2ms/step - loss: 1.5450 - accuracy: 0.3388 - val_loss: 1.5505 - val_accuracy: 0.3441\n",
      "Epoch 67/100\n",
      "1875/1875 [==============================] - 4s 2ms/step - loss: 1.5391 - accuracy: 0.3431 - val_loss: 1.5352 - val_accuracy: 0.3439\n",
      "Epoch 68/100\n",
      "1875/1875 [==============================] - 4s 2ms/step - loss: 1.5454 - accuracy: 0.3424 - val_loss: 1.5404 - val_accuracy: 0.3419\n",
      "Epoch 69/100\n",
      "1875/1875 [==============================] - 4s 2ms/step - loss: 1.5529 - accuracy: 0.3385 - val_loss: 1.5533 - val_accuracy: 0.3428\n",
      "Epoch 70/100\n",
      "1875/1875 [==============================] - 4s 2ms/step - loss: 1.5404 - accuracy: 0.3392 - val_loss: 1.5401 - val_accuracy: 0.3430\n",
      "Epoch 71/100\n",
      "1875/1875 [==============================] - 4s 2ms/step - loss: 1.5464 - accuracy: 0.3372 - val_loss: 1.5620 - val_accuracy: 0.3375\n",
      "Epoch 72/100\n",
      "1875/1875 [==============================] - 3s 2ms/step - loss: 1.5437 - accuracy: 0.3373 - val_loss: 1.5381 - val_accuracy: 0.3427\n",
      "Epoch 73/100\n",
      "1875/1875 [==============================] - 4s 2ms/step - loss: 1.5357 - accuracy: 0.3405 - val_loss: 1.5341 - val_accuracy: 0.3466\n",
      "Epoch 74/100\n",
      "1875/1875 [==============================] - 4s 2ms/step - loss: 1.5390 - accuracy: 0.3415 - val_loss: 1.5386 - val_accuracy: 0.3408\n",
      "Epoch 75/100\n",
      "1875/1875 [==============================] - 4s 2ms/step - loss: 1.5336 - accuracy: 0.3418 - val_loss: 1.5408 - val_accuracy: 0.3457\n",
      "Epoch 76/100\n",
      "1875/1875 [==============================] - 4s 2ms/step - loss: 1.5366 - accuracy: 0.3433 - val_loss: 1.5435 - val_accuracy: 0.3403\n",
      "Epoch 77/100\n",
      "1875/1875 [==============================] - 4s 2ms/step - loss: 1.5430 - accuracy: 0.3402 - val_loss: 1.5683 - val_accuracy: 0.3399\n",
      "Epoch 78/100\n",
      "1875/1875 [==============================] - 4s 2ms/step - loss: 1.5472 - accuracy: 0.3402 - val_loss: 1.5598 - val_accuracy: 0.3407\n",
      "Epoch 79/100\n",
      "1875/1875 [==============================] - 4s 2ms/step - loss: 1.5491 - accuracy: 0.3412 - val_loss: 1.5615 - val_accuracy: 0.3408\n",
      "Epoch 80/100\n",
      "1875/1875 [==============================] - 4s 2ms/step - loss: 1.6091 - accuracy: 0.3264 - val_loss: 1.6201 - val_accuracy: 0.3261\n",
      "Epoch 81/100\n",
      "1875/1875 [==============================] - 4s 2ms/step - loss: 1.5697 - accuracy: 0.3333 - val_loss: 1.5411 - val_accuracy: 0.3442\n",
      "Epoch 82/100\n",
      "1875/1875 [==============================] - 4s 2ms/step - loss: 1.5477 - accuracy: 0.3424 - val_loss: 1.5744 - val_accuracy: 0.3370\n",
      "Epoch 83/100\n",
      "1875/1875 [==============================] - 4s 2ms/step - loss: 1.5604 - accuracy: 0.3383 - val_loss: 1.5576 - val_accuracy: 0.3317\n",
      "Epoch 84/100\n",
      "1875/1875 [==============================] - 4s 2ms/step - loss: 1.5447 - accuracy: 0.3365 - val_loss: 1.5426 - val_accuracy: 0.3429\n",
      "Epoch 85/100\n",
      "1875/1875 [==============================] - 4s 2ms/step - loss: 1.5402 - accuracy: 0.3390 - val_loss: 1.5456 - val_accuracy: 0.3390\n",
      "Epoch 86/100\n",
      "1875/1875 [==============================] - 4s 2ms/step - loss: 1.5364 - accuracy: 0.3405 - val_loss: 1.5440 - val_accuracy: 0.3452\n",
      "Epoch 87/100\n",
      "1875/1875 [==============================] - 4s 2ms/step - loss: 1.5458 - accuracy: 0.3420 - val_loss: 1.5452 - val_accuracy: 0.3434\n",
      "Epoch 88/100\n",
      "1875/1875 [==============================] - 5s 2ms/step - loss: 1.5564 - accuracy: 0.3376 - val_loss: 1.5566 - val_accuracy: 0.3406\n",
      "Epoch 89/100\n",
      "1875/1875 [==============================] - 4s 2ms/step - loss: 1.5871 - accuracy: 0.3301 - val_loss: 1.5866 - val_accuracy: 0.3351\n",
      "Epoch 90/100\n",
      "1875/1875 [==============================] - 4s 2ms/step - loss: 1.5441 - accuracy: 0.3423 - val_loss: 1.5478 - val_accuracy: 0.3428\n",
      "Epoch 91/100\n",
      "1875/1875 [==============================] - 4s 2ms/step - loss: 1.5494 - accuracy: 0.3388 - val_loss: 1.5550 - val_accuracy: 0.3433\n",
      "Epoch 92/100\n",
      "1875/1875 [==============================] - 4s 2ms/step - loss: 1.5576 - accuracy: 0.3399 - val_loss: 1.5645 - val_accuracy: 0.3428\n",
      "Epoch 93/100\n",
      "1875/1875 [==============================] - 4s 2ms/step - loss: 1.5498 - accuracy: 0.3391 - val_loss: 1.5386 - val_accuracy: 0.3442\n",
      "Epoch 94/100\n",
      "1875/1875 [==============================] - 3s 2ms/step - loss: 1.5391 - accuracy: 0.3395 - val_loss: 1.5394 - val_accuracy: 0.3434\n",
      "Epoch 95/100\n",
      "1875/1875 [==============================] - 4s 2ms/step - loss: 1.5764 - accuracy: 0.3335 - val_loss: 1.6281 - val_accuracy: 0.3253\n",
      "Epoch 96/100\n",
      "1875/1875 [==============================] - 4s 2ms/step - loss: 1.5991 - accuracy: 0.3324 - val_loss: 1.5784 - val_accuracy: 0.3405\n",
      "Epoch 97/100\n",
      "1875/1875 [==============================] - 4s 2ms/step - loss: 1.5709 - accuracy: 0.3384 - val_loss: 1.5637 - val_accuracy: 0.3433\n",
      "Epoch 98/100\n",
      "1875/1875 [==============================] - 4s 2ms/step - loss: 1.5564 - accuracy: 0.3419 - val_loss: 1.5536 - val_accuracy: 0.3428\n",
      "Epoch 99/100\n",
      "1875/1875 [==============================] - 4s 2ms/step - loss: 1.5389 - accuracy: 0.3433 - val_loss: 1.5435 - val_accuracy: 0.3448\n",
      "Epoch 100/100\n",
      "1875/1875 [==============================] - 4s 2ms/step - loss: 1.5534 - accuracy: 0.3398 - val_loss: 1.5764 - val_accuracy: 0.3381\n"
     ]
    }
   ],
   "source": [
    "# set the random seed\n",
    "tf.random.set_seed(42)\n",
    "# build the model\n",
    "model = tf.keras.Sequential([\n",
    "    tf.keras.layers.Flatten(input_shape = train_data[0].shape), # pass the image 28x28\n",
    "    tf.keras.layers.Dense(4,activation = 'relu'),\n",
    "    tf.keras.layers.Dense(4,activation = 'relu'),\n",
    "    tf.keras.layers.Dense(10,activation = 'softmax')\n",
    "])\n",
    "# compile the model\n",
    "model.compile(loss = tf.keras.losses.SparseCategoricalCrossentropy(),\n",
    "             optimizer = tf.keras.optimizers.Adam(),\n",
    "             metrics = ['accuracy'])\n",
    "# fit the model\n",
    "non_norm_history = model.fit(train_data,\n",
    "                             train_labels,\n",
    "                             epochs =100,\n",
    "                             verbose =1,\n",
    "                             validation_data = (test_data,test_labels))"
   ]
  },
  {
   "cell_type": "code",
   "execution_count": 166,
   "id": "570569ff",
   "metadata": {},
   "outputs": [
    {
     "data": {
      "text/plain": [
       "<AxesSubplot:>"
      ]
     },
     "execution_count": 166,
     "metadata": {},
     "output_type": "execute_result"
    },
    {
     "data": {
      "image/png": "[encoded data removed]",
      "text/plain": [
       "<Figure size 432x288 with 1 Axes>"
      ]
     },
     "metadata": {
      "needs_background": "light"
     },
     "output_type": "display_data"
    }
   ],
   "source": [
    "pd.DataFrame(non_norm_history.history).plot()"
   ]
  },
  {
   "cell_type": "code",
   "execution_count": 167,
   "id": "a0ae440c",
   "metadata": {},
   "outputs": [
    {
     "name": "stdout",
     "output_type": "stream",
     "text": [
      "Model: \"sequential_19\"\n",
      "_________________________________________________________________\n",
      " Layer (type)                Output Shape              Param #   \n",
      "=================================================================\n",
      " flatten_14 (Flatten)        (None, 784)               0         \n",
      "                                                                 \n",
      " dense_42 (Dense)            (None, 4)                 3140      \n",
      "                                                                 \n",
      " dense_43 (Dense)            (None, 4)                 20        \n",
      "                                                                 \n",
      " dense_44 (Dense)            (None, 10)                50        \n",
      "                                                                 \n",
      "=================================================================\n",
      "Total params: 3,210\n",
      "Trainable params: 3,210\n",
      "Non-trainable params: 0\n",
      "_________________________________________________________________\n"
     ]
    }
   ],
   "source": [
    "model.summary()"
   ]
  },
  {
   "cell_type": "code",
   "execution_count": 168,
   "id": "0d48d4bb",
   "metadata": {},
   "outputs": [
    {
     "name": "stdout",
     "output_type": "stream",
     "text": [
      "Epoch 1/10\n",
      "1875/1875 [==============================] - 4s 2ms/step - loss: 2.1655 - accuracy: 0.1610 - val_loss: 1.7964 - val_accuracy: 0.2112\n",
      "Epoch 2/10\n",
      "1875/1875 [==============================] - 3s 2ms/step - loss: 1.7028 - accuracy: 0.2535 - val_loss: 1.6496 - val_accuracy: 0.2914\n",
      "Epoch 3/10\n",
      "1875/1875 [==============================] - 5s 3ms/step - loss: 1.6321 - accuracy: 0.2844 - val_loss: 1.5998 - val_accuracy: 0.2859\n",
      "Epoch 4/10\n",
      "1875/1875 [==============================] - 4s 2ms/step - loss: 1.6055 - accuracy: 0.2948 - val_loss: 1.6007 - val_accuracy: 0.3142\n",
      "Epoch 5/10\n",
      "1875/1875 [==============================] - 3s 2ms/step - loss: 1.5959 - accuracy: 0.3067 - val_loss: 1.5778 - val_accuracy: 0.3271\n",
      "Epoch 6/10\n",
      "1875/1875 [==============================] - 3s 2ms/step - loss: 1.5823 - accuracy: 0.3209 - val_loss: 1.5779 - val_accuracy: 0.3348\n",
      "Epoch 7/10\n",
      "1875/1875 [==============================] - 4s 2ms/step - loss: 1.5818 - accuracy: 0.3225 - val_loss: 1.5588 - val_accuracy: 0.3353\n",
      "Epoch 8/10\n",
      "1875/1875 [==============================] - 5s 3ms/step - loss: 1.5752 - accuracy: 0.3205 - val_loss: 1.5879 - val_accuracy: 0.3205\n",
      "Epoch 9/10\n",
      "1875/1875 [==============================] - 4s 2ms/step - loss: 1.5794 - accuracy: 0.3168 - val_loss: 1.5598 - val_accuracy: 0.3295\n",
      "Epoch 10/10\n",
      "1875/1875 [==============================] - 4s 2ms/step - loss: 1.5660 - accuracy: 0.3238 - val_loss: 1.5653 - val_accuracy: 0.3152\n"
     ]
    }
   ],
   "source": [
    "# set the random seed\n",
    "tf.random.set_seed(42)\n",
    "# build the model\n",
    "model = tf.keras.Sequential([\n",
    "    tf.keras.layers.Flatten(input_shape = train_data[0].shape), # pass the image 28x28\n",
    "    tf.keras.layers.Dense(4,activation = 'relu'),\n",
    "    tf.keras.layers.Dense(4,activation = 'relu'),\n",
    "    tf.keras.layers.Dense(10,activation = 'softmax')\n",
    "])\n",
    "# compile the model\n",
    "model.compile(loss = tf.keras.losses.CategoricalCrossentropy(),\n",
    "             optimizer = tf.keras.optimizers.Adam(),\n",
    "             metrics = ['accuracy'])\n",
    "# fit the model\n",
    "non_norm_history = model.fit(train_data,\n",
    "                             tf.one_hot(train_labels,depth = 10),\n",
    "                             epochs =10,\n",
    "                             verbose =1,\n",
    "                             validation_data = (test_data,tf.one_hot(test_labels,depth = 10)))"
   ]
  },
  {
   "cell_type": "code",
   "execution_count": 169,
   "id": "4905ff4c",
   "metadata": {},
   "outputs": [
    {
     "data": {
      "text/plain": [
       "<AxesSubplot:>"
      ]
     },
     "execution_count": 169,
     "metadata": {},
     "output_type": "execute_result"
    },
    {
     "data": {
      "image/png": "[encoded data removed]",
      "text/plain": [
       "<Figure size 432x288 with 1 Axes>"
      ]
     },
     "metadata": {
      "needs_background": "light"
     },
     "output_type": "display_data"
    }
   ],
   "source": [
    "pd.DataFrame(non_norm_history.history).plot()"
   ]
  },
  {
   "cell_type": "code",
   "execution_count": 170,
   "id": "e351a4d6",
   "metadata": {},
   "outputs": [
    {
     "name": "stdout",
     "output_type": "stream",
     "text": [
      "Model: \"sequential_20\"\n",
      "_________________________________________________________________\n",
      " Layer (type)                Output Shape              Param #   \n",
      "=================================================================\n",
      " flatten_15 (Flatten)        (None, 784)               0         \n",
      "                                                                 \n",
      " dense_45 (Dense)            (None, 4)                 3140      \n",
      "                                                                 \n",
      " dense_46 (Dense)            (None, 4)                 20        \n",
      "                                                                 \n",
      " dense_47 (Dense)            (None, 10)                50        \n",
      "                                                                 \n",
      "=================================================================\n",
      "Total params: 3,210\n",
      "Trainable params: 3,210\n",
      "Non-trainable params: 0\n",
      "_________________________________________________________________\n"
     ]
    }
   ],
   "source": [
    "model.summary()"
   ]
  },
  {
   "cell_type": "markdown",
   "id": "e00dd8ed",
   "metadata": {},
   "source": [
    "## Normalization\n",
    "\n",
    "Neural networks prefer data to be scaled (or normalized) this means they like to have numbers in the training and testing data\n",
    "in between 0 and 1."
   ]
  },
  {
   "cell_type": "code",
   "execution_count": 173,
   "id": "f51c4c55",
   "metadata": {},
   "outputs": [
    {
     "data": {
      "text/plain": [
       "(0, 255)"
      ]
     },
     "execution_count": 173,
     "metadata": {},
     "output_type": "execute_result"
    }
   ],
   "source": [
    "#Check the min and max values of the training data\n",
    "train_data.min(),train_data.max()"
   ]
  },
  {
   "cell_type": "code",
   "execution_count": 174,
   "id": "51dd170c",
   "metadata": {},
   "outputs": [
    {
     "data": {
      "text/plain": [
       "(0.0, 1.0)"
      ]
     },
     "execution_count": 174,
     "metadata": {},
     "output_type": "execute_result"
    }
   ],
   "source": [
    "train_data_norm = train_data/train_data.max()\n",
    "test_data_norm = test_data/train_data.max()\n",
    "train_data_norm.min(),train_data_norm.max()"
   ]
  },
  {
   "cell_type": "code",
   "execution_count": 192,
   "id": "df25828d",
   "metadata": {},
   "outputs": [
    {
     "data": {
      "image/png": "[encoded data removed]",
      "text/plain": [
       "<Figure size 504x504 with 4 Axes>"
      ]
     },
     "metadata": {
      "needs_background": "light"
     },
     "output_type": "display_data"
    }
   ],
   "source": [
    "#Visualize the normalized data\n",
    "plt.figure(figsize = (7,7))\n",
    "for i in range(4):\n",
    "    ax = plt.subplot(2,2,i+1)\n",
    "    random_index = random.choice(range(len(train_data)))\n",
    "    plt.imshow(train_data_norm[random_index],cmap = plt.cm.binary)\n",
    "    plt.title(class_names[train_labels[random_index]])\n",
    "    plt.axis(False) # don't display stick"
   ]
  },
  {
   "cell_type": "code",
   "execution_count": 193,
   "id": "4e623a44",
   "metadata": {},
   "outputs": [
    {
     "name": "stdout",
     "output_type": "stream",
     "text": [
      "Epoch 1/10\n",
      "1875/1875 [==============================] - 5s 2ms/step - loss: 1.0348 - accuracy: 0.6474 - val_loss: 0.6937 - val_accuracy: 0.7617\n",
      "Epoch 2/10\n",
      "1875/1875 [==============================] - 5s 3ms/step - loss: 0.6376 - accuracy: 0.7757 - val_loss: 0.6400 - val_accuracy: 0.7820\n",
      "Epoch 3/10\n",
      "1875/1875 [==============================] - 5s 2ms/step - loss: 0.5942 - accuracy: 0.7914 - val_loss: 0.6247 - val_accuracy: 0.7783\n",
      "Epoch 4/10\n",
      "1875/1875 [==============================] - 5s 3ms/step - loss: 0.5750 - accuracy: 0.7979 - val_loss: 0.6078 - val_accuracy: 0.7881\n",
      "Epoch 5/10\n",
      "1875/1875 [==============================] - 5s 3ms/step - loss: 0.5641 - accuracy: 0.8006 - val_loss: 0.6169 - val_accuracy: 0.7881\n",
      "Epoch 6/10\n",
      "1875/1875 [==============================] - 5s 3ms/step - loss: 0.5544 - accuracy: 0.8043 - val_loss: 0.5855 - val_accuracy: 0.7951\n",
      "Epoch 7/10\n",
      "1875/1875 [==============================] - 5s 2ms/step - loss: 0.5488 - accuracy: 0.8063 - val_loss: 0.6097 - val_accuracy: 0.7836\n",
      "Epoch 8/10\n",
      "1875/1875 [==============================] - 4s 2ms/step - loss: 0.5428 - accuracy: 0.8077 - val_loss: 0.5787 - val_accuracy: 0.7971\n",
      "Epoch 9/10\n",
      "1875/1875 [==============================] - 4s 2ms/step - loss: 0.5373 - accuracy: 0.8097 - val_loss: 0.5698 - val_accuracy: 0.7977\n",
      "Epoch 10/10\n",
      "1875/1875 [==============================] - 4s 2ms/step - loss: 0.5360 - accuracy: 0.8124 - val_loss: 0.5658 - val_accuracy: 0.8014\n"
     ]
    }
   ],
   "source": [
    "# set the random seed\n",
    "tf.random.set_seed(42)\n",
    "# build the model\n",
    "model = tf.keras.Sequential([\n",
    "    tf.keras.layers.Flatten(input_shape = train_data_norm[0].shape), # pass the image 28x28\n",
    "    tf.keras.layers.Dense(4,activation = 'relu'),\n",
    "    tf.keras.layers.Dense(4,activation = 'relu'),\n",
    "    tf.keras.layers.Dense(10,activation = 'softmax')\n",
    "])\n",
    "# compile the model\n",
    "model.compile(loss = tf.keras.losses.CategoricalCrossentropy(),\n",
    "             optimizer = tf.keras.optimizers.Adam(),\n",
    "             metrics = ['accuracy'])\n",
    "# fit the model\n",
    "norm_history = model.fit(train_data_norm,\n",
    "                             tf.one_hot(train_labels,depth = 10),\n",
    "                             epochs =10,\n",
    "                             verbose =1,\n",
    "                             validation_data = (test_data_norm,tf.one_hot(test_labels,depth = 10)))"
   ]
  },
  {
   "cell_type": "code",
   "execution_count": 194,
   "id": "b1716ab2",
   "metadata": {},
   "outputs": [
    {
     "name": "stdout",
     "output_type": "stream",
     "text": [
      "Model: \"sequential_23\"\n",
      "_________________________________________________________________\n",
      " Layer (type)                Output Shape              Param #   \n",
      "=================================================================\n",
      " flatten_18 (Flatten)        (None, 784)               0         \n",
      "                                                                 \n",
      " dense_54 (Dense)            (None, 4)                 3140      \n",
      "                                                                 \n",
      " dense_55 (Dense)            (None, 4)                 20        \n",
      "                                                                 \n",
      " dense_56 (Dense)            (None, 10)                50        \n",
      "                                                                 \n",
      "=================================================================\n",
      "Total params: 3,210\n",
      "Trainable params: 3,210\n",
      "Non-trainable params: 0\n",
      "_________________________________________________________________\n"
     ]
    }
   ],
   "source": [
    "model.summary()"
   ]
  },
  {
   "cell_type": "code",
   "execution_count": 195,
   "id": "e3a35077",
   "metadata": {},
   "outputs": [
    {
     "data": {
      "text/plain": [
       "<AxesSubplot:>"
      ]
     },
     "execution_count": 195,
     "metadata": {},
     "output_type": "execute_result"
    },
    {
     "data": {
      "image/png": "[encoded data removed]",
      "text/plain": [
       "<Figure size 432x288 with 1 Axes>"
      ]
     },
     "metadata": {
      "needs_background": "light"
     },
     "output_type": "display_data"
    }
   ],
   "source": [
    "pd.DataFrame(norm_history.history).plot()"
   ]
  },
  {
   "cell_type": "code",
   "execution_count": 197,
   "id": "6359d273",
   "metadata": {},
   "outputs": [
    {
     "data": {
      "text/plain": [
       "<AxesSubplot:title={'center':'not normalized data'}>"
      ]
     },
     "execution_count": 197,
     "metadata": {},
     "output_type": "execute_result"
    },
    {
     "data": {
      "image/png": "[encoded data removed]",
      "text/plain": [
       "<Figure size 432x288 with 1 Axes>"
      ]
     },
     "metadata": {
      "needs_background": "light"
     },
     "output_type": "display_data"
    },
    {
     "data": {
      "image/png": "[encoded data removed]",
      "text/plain": [
       "<Figure size 432x288 with 1 Axes>"
      ]
     },
     "metadata": {
      "needs_background": "light"
     },
     "output_type": "display_data"
    }
   ],
   "source": [
    "pd.DataFrame(norm_history.history).plot(title = 'normalized data')\n",
    "pd.DataFrame(non_norm_history.history).plot(title = 'not normalized data')"
   ]
  },
  {
   "cell_type": "markdown",
   "id": "146340f7",
   "metadata": {},
   "source": [
    "**Note:** \n",
    "- Neural networks tend to prefer data in numerical form as well as scaled/normalized (number between 0-1)\n",
    "- The same model with even *slightly* different data can produce  *dramatically* different results, So when you are comparing models, it's important to make sure you are comparing them on the same criteria (e.g same architecture but different data or the same data but different architecture.)"
   ]
  },
  {
   "cell_type": "markdown",
   "id": "0a5a7138",
   "metadata": {},
   "source": [
    "## Finding the ideal learning rate"
   ]
  },
  {
   "cell_type": "code",
   "execution_count": 200,
   "id": "235e316a",
   "metadata": {},
   "outputs": [
    {
     "name": "stdout",
     "output_type": "stream",
     "text": [
      "Epoch 1/40\n",
      "1875/1875 [==============================] - 6s 3ms/step - loss: 1.0348 - accuracy: 0.6474 - val_loss: 0.6937 - val_accuracy: 0.7617 - lr: 0.0010\n",
      "Epoch 2/40\n",
      "1875/1875 [==============================] - 6s 3ms/step - loss: 0.6366 - accuracy: 0.7759 - val_loss: 0.6400 - val_accuracy: 0.7808 - lr: 0.0011\n",
      "Epoch 3/40\n",
      "1875/1875 [==============================] - 7s 3ms/step - loss: 0.5934 - accuracy: 0.7911 - val_loss: 0.6278 - val_accuracy: 0.7770 - lr: 0.0013\n",
      "Epoch 4/40\n",
      "1875/1875 [==============================] - 6s 3ms/step - loss: 0.5749 - accuracy: 0.7969 - val_loss: 0.6122 - val_accuracy: 0.7871 - lr: 0.0014\n",
      "Epoch 5/40\n",
      "1875/1875 [==============================] - 6s 3ms/step - loss: 0.5655 - accuracy: 0.7987 - val_loss: 0.6061 - val_accuracy: 0.7913 - lr: 0.0016\n",
      "Epoch 6/40\n",
      "1875/1875 [==============================] - 7s 4ms/step - loss: 0.5569 - accuracy: 0.8022 - val_loss: 0.5917 - val_accuracy: 0.7940 - lr: 0.0018\n",
      "Epoch 7/40\n",
      "1875/1875 [==============================] - 9s 5ms/step - loss: 0.5542 - accuracy: 0.8036 - val_loss: 0.5898 - val_accuracy: 0.7896 - lr: 0.0020\n",
      "Epoch 8/40\n",
      "1875/1875 [==============================] - 9s 5ms/step - loss: 0.5509 - accuracy: 0.8039 - val_loss: 0.5829 - val_accuracy: 0.7949 - lr: 0.0022\n",
      "Epoch 9/40\n",
      "1875/1875 [==============================] - 4s 2ms/step - loss: 0.5468 - accuracy: 0.8047 - val_loss: 0.6036 - val_accuracy: 0.7833 - lr: 0.0025\n",
      "Epoch 10/40\n",
      "1875/1875 [==============================] - 4s 2ms/step - loss: 0.5478 - accuracy: 0.8058 - val_loss: 0.5736 - val_accuracy: 0.7974 - lr: 0.0028\n",
      "Epoch 11/40\n",
      "1875/1875 [==============================] - 4s 2ms/step - loss: 0.5446 - accuracy: 0.8059 - val_loss: 0.5672 - val_accuracy: 0.8016 - lr: 0.0032\n",
      "Epoch 12/40\n",
      "1875/1875 [==============================] - 4s 2ms/step - loss: 0.5432 - accuracy: 0.8067 - val_loss: 0.5773 - val_accuracy: 0.7950 - lr: 0.0035\n",
      "Epoch 13/40\n",
      "1875/1875 [==============================] - 4s 2ms/step - loss: 0.5425 - accuracy: 0.8056 - val_loss: 0.5775 - val_accuracy: 0.7992 - lr: 0.0040\n",
      "Epoch 14/40\n",
      "1875/1875 [==============================] - 4s 2ms/step - loss: 0.5407 - accuracy: 0.8078 - val_loss: 0.5616 - val_accuracy: 0.8075 - lr: 0.0045\n",
      "Epoch 15/40\n",
      "1875/1875 [==============================] - 4s 2ms/step - loss: 0.5408 - accuracy: 0.8052 - val_loss: 0.5773 - val_accuracy: 0.8039 - lr: 0.0050\n",
      "Epoch 16/40\n",
      "1875/1875 [==============================] - 5s 3ms/step - loss: 0.5437 - accuracy: 0.8058 - val_loss: 0.5682 - val_accuracy: 0.8015 - lr: 0.0056\n",
      "Epoch 17/40\n",
      "1875/1875 [==============================] - 4s 2ms/step - loss: 0.5419 - accuracy: 0.8075 - val_loss: 0.5995 - val_accuracy: 0.7964 - lr: 0.0063\n",
      "Epoch 18/40\n",
      "1875/1875 [==============================] - 4s 2ms/step - loss: 0.5488 - accuracy: 0.8058 - val_loss: 0.5544 - val_accuracy: 0.8087 - lr: 0.0071\n",
      "Epoch 19/40\n",
      "1875/1875 [==============================] - 4s 2ms/step - loss: 0.5506 - accuracy: 0.8042 - val_loss: 0.6068 - val_accuracy: 0.7864 - lr: 0.0079\n",
      "Epoch 20/40\n",
      "1875/1875 [==============================] - 3s 2ms/step - loss: 0.5540 - accuracy: 0.8026 - val_loss: 0.5625 - val_accuracy: 0.8082 - lr: 0.0089\n",
      "Epoch 21/40\n",
      "1875/1875 [==============================] - 4s 2ms/step - loss: 0.5573 - accuracy: 0.8033 - val_loss: 0.5993 - val_accuracy: 0.7935 - lr: 0.0100\n",
      "Epoch 22/40\n",
      "1875/1875 [==============================] - 3s 2ms/step - loss: 0.5603 - accuracy: 0.8017 - val_loss: 0.5866 - val_accuracy: 0.8007 - lr: 0.0112\n",
      "Epoch 23/40\n",
      "1875/1875 [==============================] - 3s 2ms/step - loss: 0.5667 - accuracy: 0.8011 - val_loss: 0.6679 - val_accuracy: 0.7495 - lr: 0.0126\n",
      "Epoch 24/40\n",
      "1875/1875 [==============================] - 4s 2ms/step - loss: 0.5812 - accuracy: 0.7966 - val_loss: 0.6203 - val_accuracy: 0.7909 - lr: 0.0141\n",
      "Epoch 25/40\n",
      "1875/1875 [==============================] - 4s 2ms/step - loss: 0.5831 - accuracy: 0.7958 - val_loss: 0.6277 - val_accuracy: 0.7924 - lr: 0.0158\n",
      "Epoch 26/40\n",
      "1875/1875 [==============================] - 4s 2ms/step - loss: 0.5946 - accuracy: 0.7912 - val_loss: 0.6936 - val_accuracy: 0.7825 - lr: 0.0178\n",
      "Epoch 27/40\n",
      "1875/1875 [==============================] - 4s 2ms/step - loss: 0.6138 - accuracy: 0.7857 - val_loss: 0.6187 - val_accuracy: 0.7890 - lr: 0.0200\n",
      "Epoch 28/40\n",
      "1875/1875 [==============================] - 4s 2ms/step - loss: 0.6160 - accuracy: 0.7834 - val_loss: 0.6428 - val_accuracy: 0.7833 - lr: 0.0224\n",
      "Epoch 29/40\n",
      "1875/1875 [==============================] - 3s 2ms/step - loss: 0.6380 - accuracy: 0.7760 - val_loss: 0.6463 - val_accuracy: 0.7626 - lr: 0.0251\n",
      "Epoch 30/40\n",
      "1875/1875 [==============================] - 4s 2ms/step - loss: 0.6663 - accuracy: 0.7655 - val_loss: 0.7109 - val_accuracy: 0.7545 - lr: 0.0282\n",
      "Epoch 31/40\n",
      "1875/1875 [==============================] - 4s 2ms/step - loss: 0.6755 - accuracy: 0.7645 - val_loss: 0.6865 - val_accuracy: 0.7515 - lr: 0.0316\n",
      "Epoch 32/40\n",
      "1875/1875 [==============================] - 3s 2ms/step - loss: 0.7142 - accuracy: 0.7507 - val_loss: 0.7446 - val_accuracy: 0.7552 - lr: 0.0355\n",
      "Epoch 33/40\n",
      "1875/1875 [==============================] - 4s 2ms/step - loss: 0.7395 - accuracy: 0.7468 - val_loss: 0.8968 - val_accuracy: 0.7549 - lr: 0.0398\n",
      "Epoch 34/40\n",
      "1875/1875 [==============================] - 4s 2ms/step - loss: 0.7852 - accuracy: 0.7375 - val_loss: 0.7339 - val_accuracy: 0.7515 - lr: 0.0447\n",
      "Epoch 35/40\n",
      "1875/1875 [==============================] - 4s 2ms/step - loss: 0.8408 - accuracy: 0.7164 - val_loss: 0.8835 - val_accuracy: 0.6872 - lr: 0.0501\n",
      "Epoch 36/40\n",
      "1875/1875 [==============================] - 4s 2ms/step - loss: 0.8844 - accuracy: 0.6984 - val_loss: 0.8263 - val_accuracy: 0.7189 - lr: 0.0562\n",
      "Epoch 37/40\n",
      "1875/1875 [==============================] - 3s 2ms/step - loss: 0.9529 - accuracy: 0.6701 - val_loss: 0.8360 - val_accuracy: 0.6966 - lr: 0.0631\n",
      "Epoch 38/40\n",
      "1875/1875 [==============================] - 3s 2ms/step - loss: 0.9913 - accuracy: 0.6605 - val_loss: 1.1456 - val_accuracy: 0.5617 - lr: 0.0708\n",
      "Epoch 39/40\n",
      "1875/1875 [==============================] - 3s 2ms/step - loss: 1.1802 - accuracy: 0.5354 - val_loss: 1.1049 - val_accuracy: 0.5589 - lr: 0.0794\n",
      "Epoch 40/40\n",
      "1875/1875 [==============================] - 4s 2ms/step - loss: 1.4350 - accuracy: 0.4229 - val_loss: 1.6114 - val_accuracy: 0.2876 - lr: 0.0891\n"
     ]
    }
   ],
   "source": [
    "# Set the random seed\n",
    "tf.random.set_seed(42)\n",
    "\n",
    "# Create model\n",
    "model_2 = tf.keras.Sequential([\n",
    "    tf.keras.layers.Flatten(input_shape = train_data_norm[0].shape),\n",
    "    tf.keras.layers.Dense(4,activation = 'relu'),\n",
    "    tf.keras.layers.Dense(4,activation = 'relu'),\n",
    "    tf.keras.layers.Dense(10,activation = 'softmax'),\n",
    "])\n",
    "\n",
    "# Compile the model\n",
    "model_2.compile(loss = tf.keras.losses.SparseCategoricalCrossentropy(),\n",
    "               optimizer = tf.keras.optimizers.Adam(),\n",
    "               metrics = ['accuracy'])\n",
    "\n",
    "# Create the learning rate callback\n",
    "lr_scheduler = tf.keras.callbacks.LearningRateScheduler(lambda epoch:1e-3 * 10 ** (epoch/20))\n",
    "\n",
    "# Fit the model\n",
    "find_lr_history = model_2.fit(train_data_norm,\n",
    "                              train_labels,\n",
    "                              epochs = 40,\n",
    "                              validation_data = (test_data_norm,test_labels),\n",
    "                              callbacks = [lr_scheduler])"
   ]
  },
  {
   "cell_type": "code",
   "execution_count": 205,
   "id": "d3d9d901",
   "metadata": {},
   "outputs": [
    {
     "data": {
      "text/plain": [
       "dict_keys(['loss', 'accuracy', 'val_loss', 'val_accuracy', 'lr'])"
      ]
     },
     "execution_count": 205,
     "metadata": {},
     "output_type": "execute_result"
    }
   ],
   "source": [
    "find_lr_history.history.keys()"
   ]
  },
  {
   "cell_type": "code",
   "execution_count": 206,
   "id": "361ce6aa",
   "metadata": {},
   "outputs": [
    {
     "data": {
      "text/plain": [
       "Text(0.5, 1.0, 'Learning rate versus loss')"
      ]
     },
     "execution_count": 206,
     "metadata": {},
     "output_type": "execute_result"
    },
    {
     "data": {
      "image/png": "[encoded data removed]",
      "text/plain": [
       "<Figure size 864x504 with 1 Axes>"
      ]
     },
     "metadata": {
      "needs_background": "light"
     },
     "output_type": "display_data"
    }
   ],
   "source": [
    "lrs = 1e-3 * 10 ** (tf.range(40)/20)\n",
    "plt.figure(figsize = (12,7))\n",
    "plt.semilogx(lrs,find_lr_history.history[\"loss\"])\n",
    "plt.xlabel(\"Learning rate\")\n",
    "plt.ylabel(\"Loss\")\n",
    "plt.title(\"Learning rate versus loss\")"
   ]
  },
  {
   "cell_type": "code",
   "execution_count": 216,
   "id": "c36909b9",
   "metadata": {},
   "outputs": [
    {
     "name": "stdout",
     "output_type": "stream",
     "text": [
      "Epoch 1/20\n",
      "1875/1875 [==============================] - 4s 2ms/step - loss: 0.9032 - accuracy: 0.6842 - val_loss: 0.7058 - val_accuracy: 0.7539\n",
      "Epoch 2/20\n",
      "1875/1875 [==============================] - 3s 2ms/step - loss: 0.6655 - accuracy: 0.7708 - val_loss: 0.6508 - val_accuracy: 0.7773\n",
      "Epoch 3/20\n",
      "1875/1875 [==============================] - 3s 2ms/step - loss: 0.6294 - accuracy: 0.7830 - val_loss: 0.6392 - val_accuracy: 0.7795\n",
      "Epoch 4/20\n",
      "1875/1875 [==============================] - 4s 2ms/step - loss: 0.6064 - accuracy: 0.7908 - val_loss: 0.6454 - val_accuracy: 0.7732\n",
      "Epoch 5/20\n",
      "1875/1875 [==============================] - 4s 2ms/step - loss: 0.5930 - accuracy: 0.7958 - val_loss: 0.6208 - val_accuracy: 0.7801\n",
      "Epoch 6/20\n",
      "1875/1875 [==============================] - 4s 2ms/step - loss: 0.5793 - accuracy: 0.8007 - val_loss: 0.6088 - val_accuracy: 0.7910\n",
      "Epoch 7/20\n",
      "1875/1875 [==============================] - 4s 2ms/step - loss: 0.5681 - accuracy: 0.8047 - val_loss: 0.6082 - val_accuracy: 0.7921\n",
      "Epoch 8/20\n",
      "1875/1875 [==============================] - 3s 2ms/step - loss: 0.5575 - accuracy: 0.8066 - val_loss: 0.5761 - val_accuracy: 0.8051\n",
      "Epoch 9/20\n",
      "1875/1875 [==============================] - 4s 2ms/step - loss: 0.5424 - accuracy: 0.8134 - val_loss: 0.5992 - val_accuracy: 0.7970\n",
      "Epoch 10/20\n",
      "1875/1875 [==============================] - 4s 2ms/step - loss: 0.5311 - accuracy: 0.8171 - val_loss: 0.5729 - val_accuracy: 0.7994\n",
      "Epoch 11/20\n",
      "1875/1875 [==============================] - 4s 2ms/step - loss: 0.5207 - accuracy: 0.8209 - val_loss: 0.5772 - val_accuracy: 0.7931\n",
      "Epoch 12/20\n",
      "1875/1875 [==============================] - 3s 2ms/step - loss: 0.5146 - accuracy: 0.8221 - val_loss: 0.5754 - val_accuracy: 0.8027\n",
      "Epoch 13/20\n",
      "1875/1875 [==============================] - 3s 2ms/step - loss: 0.5084 - accuracy: 0.8228 - val_loss: 0.5435 - val_accuracy: 0.8144\n",
      "Epoch 14/20\n",
      "1875/1875 [==============================] - 3s 2ms/step - loss: 0.5070 - accuracy: 0.8238 - val_loss: 0.5400 - val_accuracy: 0.8130\n",
      "Epoch 15/20\n",
      "1875/1875 [==============================] - 3s 2ms/step - loss: 0.5048 - accuracy: 0.8235 - val_loss: 0.5463 - val_accuracy: 0.8090\n",
      "Epoch 16/20\n",
      "1875/1875 [==============================] - 3s 2ms/step - loss: 0.5001 - accuracy: 0.8264 - val_loss: 0.5438 - val_accuracy: 0.8116\n",
      "Epoch 17/20\n",
      "1875/1875 [==============================] - 4s 2ms/step - loss: 0.4951 - accuracy: 0.8275 - val_loss: 0.5439 - val_accuracy: 0.8135\n",
      "Epoch 18/20\n",
      "1875/1875 [==============================] - 5s 3ms/step - loss: 0.4954 - accuracy: 0.8274 - val_loss: 0.5448 - val_accuracy: 0.8088\n",
      "Epoch 19/20\n",
      "1875/1875 [==============================] - 5s 3ms/step - loss: 0.4913 - accuracy: 0.8281 - val_loss: 0.5401 - val_accuracy: 0.8146\n",
      "Epoch 20/20\n",
      "1875/1875 [==============================] - 5s 3ms/step - loss: 0.4909 - accuracy: 0.8281 - val_loss: 0.5507 - val_accuracy: 0.8094\n"
     ]
    }
   ],
   "source": [
    "# Let prefit the model with th ideal learning rate\n",
    "# Create model\n",
    "model_2 = tf.keras.Sequential([\n",
    "    tf.keras.layers.Flatten(input_shape = train_data_norm[0].shape),\n",
    "    tf.keras.layers.Dense(4,activation = 'relu'),\n",
    "    tf.keras.layers.Dense(4,activation = 'relu'),\n",
    "    tf.keras.layers.Dense(10,activation = 'softmax'),\n",
    "])\n",
    "\n",
    "# Compile the model\n",
    "model_2.compile(loss = tf.keras.losses.SparseCategoricalCrossentropy(),\n",
    "               optimizer = tf.keras.optimizers.Adam(learning_rate =0.003),\n",
    "               metrics = ['accuracy'])\n",
    "\n",
    "# Fit the model\n",
    "history = model_2.fit(train_data_norm,\n",
    "                              train_labels,\n",
    "                              epochs = 20,\n",
    "                              validation_data = (test_data_norm,test_labels)\n",
    "                     )"
   ]
  },
  {
   "cell_type": "code",
   "execution_count": 217,
   "id": "b3937a38",
   "metadata": {},
   "outputs": [
    {
     "data": {
      "text/plain": [
       "<AxesSubplot:>"
      ]
     },
     "execution_count": 217,
     "metadata": {},
     "output_type": "execute_result"
    },
    {
     "data": {
      "image/png": "[encoded data removed]",
      "text/plain": [
       "<Figure size 432x288 with 1 Axes>"
      ]
     },
     "metadata": {
      "needs_background": "light"
     },
     "output_type": "display_data"
    }
   ],
   "source": [
    "pd.DataFrame(history.history).plot()"
   ]
  },
  {
   "cell_type": "markdown",
   "id": "a97e8969",
   "metadata": {},
   "source": [
    "## Evaluating our multi-class classification model\n",
    "\n",
    "To evaluate our multi-class classification model we could:\n",
    "\n",
    "* Evaluate its performance using other classification metrics (such as confusion martix)\n",
    "\n",
    "* Asses some of its predictions (through visualizations)\n",
    "\n",
    "* Improve its results (by training it for longer or changing the architecture)\n",
    "\n",
    "* Save and export it for use in an application"
   ]
  },
  {
   "cell_type": "code",
   "execution_count": 221,
   "id": "c4c67dcd",
   "metadata": {},
   "outputs": [],
   "source": [
    "# Create a confusion matrix\n",
    "from sklearn.metrics import confusion_matrix\n",
    "import itertools"
   ]
  },
  {
   "cell_type": "code",
   "execution_count": 270,
   "id": "e2f91842",
   "metadata": {},
   "outputs": [
    {
     "name": "stdout",
     "output_type": "stream",
     "text": [
      "313/313 [==============================] - 1s 2ms/step\n"
     ]
    },
    {
     "data": {
      "text/plain": [
       "<tf.Tensor: shape=(10000,), dtype=int64, numpy=array([9, 2, 1, ..., 8, 1, 5], dtype=int64)>"
      ]
     },
     "execution_count": 270,
     "metadata": {},
     "output_type": "execute_result"
    }
   ],
   "source": [
    "y_preds = model_2.predict(test_data_norm,verbose =1)\n",
    "tf.math.argmax(y_preds,1)"
   ]
  },
  {
   "cell_type": "code",
   "execution_count": 271,
   "id": "0dd119a3",
   "metadata": {},
   "outputs": [
    {
     "data": {
      "text/plain": [
       "array([9, 2, 1, ..., 8, 1, 5], dtype=int64)"
      ]
     },
     "execution_count": 271,
     "metadata": {},
     "output_type": "execute_result"
    }
   ],
   "source": [
    "y_preds.argmax(axis = 1)"
   ]
  },
  {
   "cell_type": "code",
   "execution_count": 247,
   "id": "d2a52e66",
   "metadata": {},
   "outputs": [
    {
     "data": {
      "text/plain": [
       "array([9, 2, 1, ..., 8, 1, 5], dtype=uint8)"
      ]
     },
     "execution_count": 247,
     "metadata": {},
     "output_type": "execute_result"
    }
   ],
   "source": [
    "predict_labels = []\n",
    "for i in y_preds:\n",
    "    predict_labels.append(i.argmax())\n",
    "predict_labels = np.array(predict_labels).astype('uint8')\n",
    "predict_labels"
   ]
  },
  {
   "cell_type": "code",
   "execution_count": 248,
   "id": "59e67329",
   "metadata": {},
   "outputs": [
    {
     "data": {
      "text/plain": [
       "array([9, 2, 1, ..., 8, 1, 5], dtype=uint8)"
      ]
     },
     "execution_count": 248,
     "metadata": {},
     "output_type": "execute_result"
    }
   ],
   "source": [
    "test_labels"
   ]
  },
  {
   "cell_type": "code",
   "execution_count": 251,
   "id": "a911c10d",
   "metadata": {},
   "outputs": [
    {
     "data": {
      "text/plain": [
       "array([[641,   5,  20, 103,   9,   1, 198,   0,  23,   0],\n",
       "       [  1, 948,  15,  30,   4,   0,   1,   0,   1,   0],\n",
       "       [ 12,   3, 584,  13, 247,   0, 137,   0,   4,   0],\n",
       "       [ 25,  16,   7, 835,  62,   0,  48,   0,   7,   0],\n",
       "       [  0,   1,  68,  17, 839,   0,  70,   0,   5,   0],\n",
       "       [  0,   0,   0,   1,   0, 895,   0,  58,   6,  40],\n",
       "       [ 91,   3,  71,  47, 199,   0, 558,   0,  31,   0],\n",
       "       [  0,   0,   0,   1,   0,  18,   0, 960,   2,  19],\n",
       "       [  2,   0,   2,  14,  17,   4,  42,   3, 916,   0],\n",
       "       [  0,   0,   0,   0,   0,  19,   2,  61,   0, 918]], dtype=int64)"
      ]
     },
     "execution_count": 251,
     "metadata": {},
     "output_type": "execute_result"
    }
   ],
   "source": [
    "cm = confusion_matrix(test_labels,predict_labels)\n",
    "cm"
   ]
  },
  {
   "cell_type": "code",
   "execution_count": 264,
   "id": "6895f1fa",
   "metadata": {},
   "outputs": [
    {
     "data": {
      "image/png": "[encoded data removed]",
      "text/plain": [
       "<Figure size 1080x1080 with 2 Axes>"
      ]
     },
     "metadata": {
      "needs_background": "light"
     },
     "output_type": "display_data"
    }
   ],
   "source": [
    "# pretify the confusion matrix\n",
    "figsize = (15,15)\n",
    "\n",
    "# create the confusion matrix\n",
    "cm = confusion_matrix(test_labels,predict_labels)\n",
    "cm_norm = cm.astype(\"float\") /cm.sum(axis = 1)[:,np.newaxis] # normalize our confusion matrix\n",
    "n_classes = cm.shape[0]\n",
    "\n",
    "# Let prettify it\n",
    "fig,ax = plt.subplots(figsize=figsize)\n",
    "# create a matrix plot\n",
    "cax = ax.matshow(cm,cmap = plt.cm.Blues)\n",
    "fig.colorbar(cax)\n",
    "\n",
    "# create classes\n",
    "classes = class_names\n",
    "\n",
    "if classes:\n",
    "    labels = classes\n",
    "else:\n",
    "    labels = np.arange(cm.shape[0])\n",
    "    \n",
    "# Label the axes\n",
    "ax.set(title = \"Confusion Matrix\",\n",
    "      xlabel = \"Predicted Label\",\n",
    "      ylabel = \"True Label\",\n",
    "      xticks = np.arange(n_classes),\n",
    "      yticks = np.arange(n_classes),\n",
    "      xticklabels = labels,\n",
    "      yticklabels = labels)\n",
    "\n",
    "# Set x-axis labels to bottom\n",
    "ax.xaxis.set_label_position(\"bottom\")\n",
    "ax.xaxis.tick_bottom()\n",
    "\n",
    "# Adjust label size\n",
    "ax.yaxis.label.set_size(20)\n",
    "ax.xaxis.label.set_size(20)\n",
    "ax.title.set_size(20)\n",
    "\n",
    "# Set threshold for different colors\n",
    "threshold = (cm.max() + cm.min())/2\n",
    "\n",
    "# Plot the text on each cell\n",
    "for i,j in itertools.product(range(cm.shape[0]),range(cm.shape[1])):\n",
    "    plt.text(j,i,f\"{cm[i,j]} ({cm_norm[i,j]*100:.1f}%)\",\n",
    "             horizontalalignment = 'center',\n",
    "             color = 'white' if cm[i,j] > threshold else 'black',\n",
    "             size = 10)"
   ]
  },
  {
   "cell_type": "markdown",
   "id": "a91537f5",
   "metadata": {},
   "source": [
    "**Note** Often when working with images and other forms of visual data, it's a good idea to visualize as much as possible to develop a further understanding of the data and the input and outputs of your models\n",
    "\n",
    "Let create a fun little function for:\n",
    "\n",
    "* Plot a random image\n",
    "* Make a predcition on said image\n",
    "* Label the plot with the truth label & predicted label"
   ]
  },
  {
   "cell_type": "code",
   "execution_count": 312,
   "id": "d5552027",
   "metadata": {},
   "outputs": [
    {
     "name": "stdout",
     "output_type": "stream",
     "text": [
      "1/1 [==============================] - 0s 32ms/step\n"
     ]
    },
    {
     "data": {
      "text/plain": [
       "(-0.5, 27.5, 27.5, -0.5)"
      ]
     },
     "execution_count": 312,
     "metadata": {},
     "output_type": "execute_result"
    },
    {
     "data": {
      "image/png": "[encoded data removed]",
      "text/plain": [
       "<Figure size 432x288 with 1 Axes>"
      ]
     },
     "metadata": {
      "needs_background": "light"
     },
     "output_type": "display_data"
    }
   ],
   "source": [
    "import random \n",
    "random_index = random.choice(range(len(test_data_norm)))\n",
    "y_pred = model_2.predict(tf.expand_dims(test_data_norm[random_index],axis= 0),verbose =1)\n",
    "predict = y_pred.argmax(axis = 1)[0]\n",
    "plt.imshow(test_data_norm[random_index],cmap = plt.cm.binary)\n",
    "plt.title(f'ground_truth: {class_names[test_labels[random_index]]} - predicted: {class_names[predict]}')\n",
    "plt.axis(False) # don't display stick"
   ]
  },
  {
   "cell_type": "code",
   "execution_count": 338,
   "id": "121dd77f",
   "metadata": {},
   "outputs": [],
   "source": [
    "def plot_random_image(model,test_images,true_labels,classes):\n",
    "    '''\n",
    "    Pick a random image, plots it and labels it with a prediction and thruth label\n",
    "    '''\n",
    "    # Set random integer\n",
    "    random_index = random.choice(range(len(test_images)))\n",
    "    # Create prediction\n",
    "    y_pred = model.predict(tf.expand_dims(test_images[random_index],axis= 0),verbose =0)\n",
    "    predict = y_pred.argmax(axis = 1)[0]\n",
    "    #Change the color of the titles depending on if prediction is right or wrong\n",
    "    if predict == true_labels[random_index]:\n",
    "        color = \"green\"\n",
    "    else:\n",
    "        color = \"red\"\n",
    "    # Add xlabel information (prediction/true label)\n",
    "    plt.xlabel(\"Pred: {} {:2.0f}% (True: {})\".format(classes[predict],\n",
    "                                                     100 * tf.reduce_max(y_pred),\n",
    "                                                     class_names[true_labels[random_index]]\n",
    "                                                    ),\n",
    "                                              color = color)\n",
    "    \n",
    "    #plt.axis(False) # don't display stick\n",
    "    plt.imshow(test_images[random_index],cmap = plt.cm.binary)"
   ]
  },
  {
   "cell_type": "code",
   "execution_count": 343,
   "id": "a78436f6",
   "metadata": {},
   "outputs": [
    {
     "data": {
      "image/png": "[encoded data removed]",
      "text/plain": [
       "<Figure size 432x288 with 1 Axes>"
      ]
     },
     "metadata": {
      "needs_background": "light"
     },
     "output_type": "display_data"
    }
   ],
   "source": [
    "plot_random_image(model_2,test_data_norm,test_labels,classes)"
   ]
  },
  {
   "cell_type": "code",
   "execution_count": 340,
   "id": "01110d30",
   "metadata": {},
   "outputs": [
    {
     "name": "stdout",
     "output_type": "stream",
     "text": [
      "1/1 [==============================] - 0s 25ms/step\n"
     ]
    },
    {
     "data": {
      "text/plain": [
       "array([9], dtype=int64)"
      ]
     },
     "execution_count": 340,
     "metadata": {},
     "output_type": "execute_result"
    }
   ],
   "source": [
    "y_pred = model_2.predict(tf.expand_dims(test_data_norm[0],axis= 0),verbose =1)\n",
    "y_pred.argmax(axis =1)"
   ]
  },
  {
   "cell_type": "code",
   "execution_count": 288,
   "id": "d711fc02",
   "metadata": {},
   "outputs": [
    {
     "data": {
      "text/plain": [
       "TensorShape([1, 28, 28])"
      ]
     },
     "execution_count": 288,
     "metadata": {},
     "output_type": "execute_result"
    }
   ],
   "source": [
    "tf.expand_dims(test_data_norm[0],axis= 0).shape"
   ]
  },
  {
   "cell_type": "code",
   "execution_count": 325,
   "id": "e5d8d68e",
   "metadata": {},
   "outputs": [
    {
     "data": {
      "text/plain": [
       "(1, 28, 28)"
      ]
     },
     "execution_count": 325,
     "metadata": {},
     "output_type": "execute_result"
    }
   ],
   "source": [
    "images = test_data_norm[0].reshape(1,28,28)\n",
    "images.shape"
   ]
  },
  {
   "cell_type": "markdown",
   "id": "b6752ce6",
   "metadata": {},
   "source": [
    "## What patterns is our model learning\n",
    "- Every neuron has a bias vector, Each of these is paired with a weights matrix.\n",
    "\n",
    "- The bias vector also get initialized as zeros (at least at the case of tensorflow)\n",
    "\n",
    "- The bias vector dictates how much the patterns within the corresponding weights matrix should influence the next layer."
   ]
  },
  {
   "cell_type": "code",
   "execution_count": 345,
   "id": "4b44bb03",
   "metadata": {},
   "outputs": [
    {
     "data": {
      "text/plain": [
       "[<keras.layers.core.flatten.Flatten at 0x3a3af6a0>,\n",
       " <keras.layers.core.dense.Dense at 0x3b244b50>,\n",
       " <keras.layers.core.dense.Dense at 0x3a3afb50>,\n",
       " <keras.layers.core.dense.Dense at 0x3a3af520>]"
      ]
     },
     "execution_count": 345,
     "metadata": {},
     "output_type": "execute_result"
    }
   ],
   "source": [
    "# Find the layers of our most recent model\n",
    "model_2.layers"
   ]
  },
  {
   "cell_type": "code",
   "execution_count": 352,
   "id": "609daab3",
   "metadata": {},
   "outputs": [
    {
     "name": "stdout",
     "output_type": "stream",
     "text": [
      "Model: \"sequential_26\"\n",
      "_________________________________________________________________\n",
      " Layer (type)                Output Shape              Param #   \n",
      "=================================================================\n",
      " flatten_22 (Flatten)        (None, 784)               0         \n",
      "                                                                 \n",
      " dense_66 (Dense)            (None, 4)                 3140      \n",
      "                                                                 \n",
      " dense_67 (Dense)            (None, 4)                 20        \n",
      "                                                                 \n",
      " dense_68 (Dense)            (None, 10)                50        \n",
      "                                                                 \n",
      "=================================================================\n",
      "Total params: 3,210\n",
      "Trainable params: 3,210\n",
      "Non-trainable params: 0\n",
      "_________________________________________________________________\n"
     ]
    }
   ],
   "source": [
    "model_2.summary()"
   ]
  },
  {
   "cell_type": "code",
   "execution_count": 346,
   "id": "e85d81e5",
   "metadata": {},
   "outputs": [
    {
     "data": {
      "image/png": "[encoded data removed]",
      "text/plain": [
       "<IPython.core.display.Image object>"
      ]
     },
     "execution_count": 346,
     "metadata": {},
     "output_type": "execute_result"
    }
   ],
   "source": [
    "from tensorflow.keras.utils import plot_model\n",
    "\n",
    "plot_model(model_2,show_shapes = True)"
   ]
  },
  {
   "cell_type": "code",
   "execution_count": 347,
   "id": "dea34b8b",
   "metadata": {},
   "outputs": [
    {
     "data": {
      "text/plain": [
       "<keras.layers.core.dense.Dense at 0x3b244b50>"
      ]
     },
     "execution_count": 347,
     "metadata": {},
     "output_type": "execute_result"
    }
   ],
   "source": [
    "# Extract a particular layer\n",
    "model_2.layers[1]"
   ]
  },
  {
   "cell_type": "code",
   "execution_count": 350,
   "id": "fb4048f6",
   "metadata": {},
   "outputs": [
    {
     "data": {
      "text/plain": [
       "(array([[ 0.04192482, -0.3687285 ,  0.02105078,  2.036449  ],\n",
       "        [ 0.910957  ,  2.151109  , -3.0016139 ,  0.40988615],\n",
       "        [ 0.09572469,  1.2010555 , -2.0401301 ,  2.6102328 ],\n",
       "        ...,\n",
       "        [ 1.6667167 ,  0.28249556, -0.42222148,  0.49295902],\n",
       "        [ 1.7729613 ,  1.6053892 , -0.1450911 , -0.4347915 ],\n",
       "        [ 0.19141595,  0.28513512, -1.3259608 ,  1.2281882 ]],\n",
       "       dtype=float32),\n",
       " (784, 4))"
      ]
     },
     "execution_count": 350,
     "metadata": {},
     "output_type": "execute_result"
    }
   ],
   "source": [
    "# Get the patterns of a layer in our network\n",
    "weights,biases = model_2.layers[1].get_weights()\n",
    "# Shapes\n",
    "weights,weights.shape"
   ]
  },
  {
   "cell_type": "code",
   "execution_count": 351,
   "id": "e504d402",
   "metadata": {},
   "outputs": [
    {
     "data": {
      "text/plain": [
       "(array([5.1555977, 3.1796722, 3.6756458, 2.7115002], dtype=float32), (4,))"
      ]
     },
     "execution_count": 351,
     "metadata": {},
     "output_type": "execute_result"
    }
   ],
   "source": [
    "biases,biases.shape"
   ]
  },
  {
   "cell_type": "code",
   "execution_count": null,
   "id": "2fdcd23e",
   "metadata": {},
   "outputs": [],
   "source": []
  }
 ],
 "metadata": {
  "kernelspec": {
   "display_name": "Python 3",
   "language": "python",
   "name": "python3"
  },
  "language_info": {
   "codemirror_mode": {
    "name": "ipython",
    "version": 3
   },
   "file_extension": ".py",
   "mimetype": "text/x-python",
   "name": "python",
   "nbconvert_exporter": "python",
   "pygments_lexer": "ipython3",
   "version": "3.8.8"
  }
 },
 "nbformat": 4,
 "nbformat_minor": 5
}
