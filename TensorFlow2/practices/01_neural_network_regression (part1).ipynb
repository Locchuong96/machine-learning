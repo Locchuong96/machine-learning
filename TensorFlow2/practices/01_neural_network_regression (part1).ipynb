{
 "cells": [
  {
   "cell_type": "markdown",
   "id": "11332308",
   "metadata": {},
   "source": [
    "# Concepts\n",
    "\n",
    "In this noteebook, we're going to cover:\n",
    "\n",
    "- Architecture of a neural network regression model\n",
    "- Input shapes and output shapes of a regression model (features and labels)\n",
    "- Creating custom data to view and fit\n",
    "- Step in modelling\n",
    "    * Creating a model,\n",
    "    * compiling a model,\n",
    "    * fitting a model,\n",
    "    * evaluating a model\n",
    "- Different evaluation methods\n",
    "- Saving and loading models"
   ]
  },
  {
   "cell_type": "code",
   "execution_count": 1,
   "id": "d4076cd5",
   "metadata": {},
   "outputs": [],
   "source": [
    "import tensorflow as tf"
   ]
  },
  {
   "cell_type": "code",
   "execution_count": 2,
   "id": "7e0dd4d4",
   "metadata": {},
   "outputs": [
    {
     "data": {
      "text/plain": [
       "<module 'tensorflow' from 'C:\\\\ProgramData\\\\Anaconda3\\\\lib\\\\site-packages\\\\tensorflow\\\\__init__.py'>"
      ]
     },
     "execution_count": 2,
     "metadata": {},
     "output_type": "execute_result"
    }
   ],
   "source": [
    "tf"
   ]
  },
  {
   "cell_type": "markdown",
   "id": "117a7110",
   "metadata": {},
   "source": [
    "## Introduction to Regression with Neural Networks in TensorFlow\n",
    "\n",
    "There are many definations for a regression problem butin our case, we are going to simlify it: predicting a numerical variable based on some other combination of variables, even shorter.... predicting a number"
   ]
  },
  {
   "cell_type": "code",
   "execution_count": 3,
   "id": "f3efce8d",
   "metadata": {},
   "outputs": [
    {
     "name": "stdout",
     "output_type": "stream",
     "text": [
      "2.7.0\n"
     ]
    }
   ],
   "source": [
    "# Import TensorFlow and check out version\n",
    "print(tf.__version__)"
   ]
  },
  {
   "cell_type": "code",
   "execution_count": 4,
   "id": "31e78e11",
   "metadata": {},
   "outputs": [
    {
     "name": "stdout",
     "output_type": "stream",
     "text": [
      "Input\n",
      "Model\n",
      "Sequential\n",
      "activations\n",
      "applications\n",
      "backend\n",
      "callbacks\n",
      "constraints\n",
      "datasets\n",
      "estimator\n",
      "experimental\n",
      "initializers\n",
      "layers\n",
      "losses\n",
      "metrics\n",
      "models\n",
      "optimizers\n",
      "preprocessing\n",
      "regularizers\n",
      "utils\n",
      "wrappers\n"
     ]
    }
   ],
   "source": [
    "for i in dir(tf.keras):\n",
    "    if \"_\" not in i:\n",
    "        print(i)"
   ]
  },
  {
   "cell_type": "markdown",
   "id": "13e8f636",
   "metadata": {},
   "source": [
    "## Creating data to view and fit"
   ]
  },
  {
   "cell_type": "code",
   "execution_count": 169,
   "id": "29fa9dbd",
   "metadata": {},
   "outputs": [
    {
     "data": {
      "text/plain": [
       "Text(0.5, 1.0, 'data visualization')"
      ]
     },
     "execution_count": 169,
     "metadata": {},
     "output_type": "execute_result"
    },
    {
     "data": {
      "image/png": "[encoded data removed]",
      "text/plain": [
       "<Figure size 432x288 with 1 Axes>"
      ]
     },
     "metadata": {
      "needs_background": "light"
     },
     "output_type": "display_data"
    }
   ],
   "source": [
    "import numpy as np \n",
    "import matplotlib.pyplot as plt \n",
    "\n",
    "# Create features or data, or input\n",
    "X = np.array([-7.0,-4.0,-1.0,2.0,5.0,8.0,11.0,14.0])\n",
    "# Create label\n",
    "y = np.array([3.0,6.0,9.0,12.0,15.0,18.0,21.0,24.0])\n",
    "plt.scatter(X,y)\n",
    "plt.plot(X,y)\n",
    "plt.xlabel(\"features\")\n",
    "plt.ylabel(\"label\")\n",
    "plt.title(\"data visualization\")"
   ]
  },
  {
   "cell_type": "code",
   "execution_count": 170,
   "id": "093165a0",
   "metadata": {},
   "outputs": [
    {
     "data": {
      "text/plain": [
       "array([ True,  True,  True,  True,  True,  True,  True,  True])"
      ]
     },
     "execution_count": 170,
     "metadata": {},
     "output_type": "execute_result"
    }
   ],
   "source": [
    "y == X + 10"
   ]
  },
  {
   "cell_type": "markdown",
   "id": "d20c3155",
   "metadata": {},
   "source": [
    "## Input and output shape"
   ]
  },
  {
   "cell_type": "code",
   "execution_count": 171,
   "id": "0f4023db",
   "metadata": {},
   "outputs": [
    {
     "data": {
      "text/plain": [
       "(<tf.Tensor: shape=(3,), dtype=string, numpy=array([b'bedroom', b'bathroom', b'garage'], dtype=object)>,\n",
       " <tf.Tensor: shape=(1,), dtype=int32, numpy=array([939700])>)"
      ]
     },
     "execution_count": 171,
     "metadata": {},
     "output_type": "execute_result"
    }
   ],
   "source": [
    "# Create a demo tensor for our housing price prediction problem\n",
    "house_info = tf.constant([\"bedroom\",\"bathroom\",\"garage\"])\n",
    "house_price = tf.constant([939700])\n",
    "house_info,house_price"
   ]
  },
  {
   "cell_type": "code",
   "execution_count": 210,
   "id": "61df0d05",
   "metadata": {},
   "outputs": [],
   "source": [
    "# Turn our Numpy arrays into tensors\n",
    "X = tf.cast(tf.constant(X),dtype = tf.float32)\n",
    "y = tf.cast(tf.constant(y),dtype = tf.float32)"
   ]
  },
  {
   "cell_type": "code",
   "execution_count": 211,
   "id": "3b2fe3c5",
   "metadata": {},
   "outputs": [
    {
     "data": {
      "text/plain": [
       "(TensorShape([1]), TensorShape([]))"
      ]
     },
     "execution_count": 211,
     "metadata": {},
     "output_type": "execute_result"
    }
   ],
   "source": [
    "input_shape = X[0].shape\n",
    "output_shape = y[0].shape\n",
    "input_shape,output_shape"
   ]
  },
  {
   "cell_type": "markdown",
   "id": "15fbc6ee",
   "metadata": {},
   "source": [
    "## Steps in modeling with TensorFlow\n",
    "\n",
    "1. Creating a model - define the input and output layers,as well as the hidden layers of a deep learning model\n",
    "2. Compiling the model - \n",
    "    - define the loss function (in other words, the function which tells our model how to wrong it is)\n",
    "    - optimizer (tell our model how to improve the patterns its learning) \n",
    "    - evaluation metrics (what we can use to interpret the performance of our model)\n",
    "3. Fitting the model - letting the model try to find patterns between X& y (features and label)\n",
    "4. Evaluating the model - test your model with testing data"
   ]
  },
  {
   "cell_type": "code",
   "execution_count": 174,
   "id": "342cea5b",
   "metadata": {},
   "outputs": [
    {
     "name": "stdout",
     "output_type": "stream",
     "text": [
      "AbstractRNNCell\n",
      "Activation\n",
      "ActivityRegularization\n",
      "Add\n",
      "AdditiveAttention\n",
      "AlphaDropout\n",
      "Attention\n",
      "Average\n",
      "AveragePooling1D\n",
      "AveragePooling2D\n",
      "AveragePooling3D\n",
      "AvgPool1D\n",
      "AvgPool2D\n",
      "AvgPool3D\n",
      "BatchNormalization\n",
      "Bidirectional\n",
      "CategoryEncoding\n",
      "CenterCrop\n",
      "Concatenate\n",
      "Conv1D\n",
      "Conv1DTranspose\n",
      "Conv2D\n",
      "Conv2DTranspose\n",
      "Conv3D\n",
      "Conv3DTranspose\n",
      "ConvLSTM1D\n",
      "ConvLSTM2D\n",
      "ConvLSTM3D\n",
      "Convolution1D\n",
      "Convolution1DTranspose\n",
      "Convolution2D\n",
      "Convolution2DTranspose\n",
      "Convolution3D\n",
      "Convolution3DTranspose\n",
      "Cropping1D\n",
      "Cropping2D\n",
      "Cropping3D\n",
      "Dense\n",
      "DenseFeatures\n",
      "DepthwiseConv1D\n",
      "DepthwiseConv2D\n",
      "Discretization\n",
      "Dot\n",
      "Dropout\n",
      "ELU\n",
      "Embedding\n",
      "Flatten\n",
      "GRU\n",
      "GRUCell\n",
      "GaussianDropout\n",
      "GaussianNoise\n",
      "GlobalAveragePooling1D\n",
      "GlobalAveragePooling2D\n",
      "GlobalAveragePooling3D\n",
      "GlobalAvgPool1D\n",
      "GlobalAvgPool2D\n",
      "GlobalAvgPool3D\n",
      "GlobalMaxPool1D\n",
      "GlobalMaxPool2D\n",
      "GlobalMaxPool3D\n",
      "GlobalMaxPooling1D\n",
      "GlobalMaxPooling2D\n",
      "GlobalMaxPooling3D\n",
      "Hashing\n",
      "Input\n",
      "InputLayer\n",
      "InputSpec\n",
      "IntegerLookup\n",
      "LSTM\n",
      "LSTMCell\n",
      "Lambda\n",
      "Layer\n",
      "LayerNormalization\n",
      "LeakyReLU\n",
      "LocallyConnected1D\n",
      "LocallyConnected2D\n",
      "Masking\n",
      "MaxPool1D\n",
      "MaxPool2D\n",
      "MaxPool3D\n",
      "MaxPooling1D\n",
      "MaxPooling2D\n",
      "MaxPooling3D\n",
      "Maximum\n",
      "Minimum\n",
      "MultiHeadAttention\n",
      "Multiply\n",
      "Normalization\n",
      "PReLU\n",
      "Permute\n",
      "RNN\n",
      "RandomContrast\n",
      "RandomCrop\n",
      "RandomFlip\n",
      "RandomHeight\n",
      "RandomRotation\n",
      "RandomTranslation\n",
      "RandomWidth\n",
      "RandomZoom\n",
      "ReLU\n",
      "RepeatVector\n",
      "Rescaling\n",
      "Reshape\n",
      "Resizing\n",
      "SeparableConv1D\n",
      "SeparableConv2D\n",
      "SeparableConvolution1D\n",
      "SeparableConvolution2D\n",
      "SimpleRNN\n",
      "SimpleRNNCell\n",
      "Softmax\n",
      "SpatialDropout1D\n",
      "SpatialDropout2D\n",
      "SpatialDropout3D\n",
      "StackedRNNCells\n",
      "StringLookup\n",
      "Subtract\n",
      "TextVectorization\n",
      "ThresholdedReLU\n",
      "TimeDistributed\n",
      "UpSampling1D\n",
      "UpSampling2D\n",
      "UpSampling3D\n",
      "Wrapper\n",
      "ZeroPadding1D\n",
      "ZeroPadding2D\n",
      "ZeroPadding3D\n",
      "add\n",
      "average\n",
      "concatenate\n",
      "deserialize\n",
      "dot\n",
      "experimental\n",
      "maximum\n",
      "minimum\n",
      "multiply\n",
      "serialize\n",
      "subtract\n"
     ]
    }
   ],
   "source": [
    "for i in dir(tf.keras.layers):\n",
    "    if \"_\" not in i:\n",
    "        print(i)"
   ]
  },
  {
   "cell_type": "markdown",
   "id": "5c4a898b",
   "metadata": {},
   "source": [
    "**Note**: If you're using TensorFlow 2.7.0+, the fit() function no longer upscales input data to go from (batch_size, ) to (batch_size, 1). To fix this, you'll need to expand the dimension of input data using tf.expand_dims(input_data, axis=-1).\n",
    "\n",
    "In our case, this means instead of using `model.fit(X, y, epochs=5)`, use `model.fit(tf.expand_dims(X, axis=-1), y, epochs=5)`"
   ]
  },
  {
   "cell_type": "code",
   "execution_count": 175,
   "id": "d6863e25",
   "metadata": {},
   "outputs": [],
   "source": [
    "X = tf.expand_dims(X,axis = -1)"
   ]
  },
  {
   "cell_type": "code",
   "execution_count": 177,
   "id": "a68a714b",
   "metadata": {},
   "outputs": [
    {
     "data": {
      "text/plain": [
       "<tf.Tensor: shape=(8, 1), dtype=float32, numpy=\n",
       "array([[-7.],\n",
       "       [-4.],\n",
       "       [-1.],\n",
       "       [ 2.],\n",
       "       [ 5.],\n",
       "       [ 8.],\n",
       "       [11.],\n",
       "       [14.]], dtype=float32)>"
      ]
     },
     "execution_count": 177,
     "metadata": {},
     "output_type": "execute_result"
    }
   ],
   "source": [
    "X"
   ]
  },
  {
   "cell_type": "code",
   "execution_count": 176,
   "id": "dc912db2",
   "metadata": {},
   "outputs": [
    {
     "data": {
      "text/plain": [
       "TensorShape([1])"
      ]
     },
     "execution_count": 176,
     "metadata": {},
     "output_type": "execute_result"
    }
   ],
   "source": [
    "X[0].shape"
   ]
  },
  {
   "cell_type": "code",
   "execution_count": null,
   "id": "2b3d7b6c",
   "metadata": {},
   "outputs": [],
   "source": [
    "model.add()"
   ]
  },
  {
   "cell_type": "code",
   "execution_count": 180,
   "id": "2db12582",
   "metadata": {},
   "outputs": [
    {
     "name": "stdout",
     "output_type": "stream",
     "text": [
      "input_shape (1,), output_shape ()\n",
      "Epoch 1/5\n",
      "1/1 [==============================] - 0s 284ms/step - loss: 11.5048 - mae: 11.5048\n",
      "Epoch 2/5\n",
      "1/1 [==============================] - 0s 4ms/step - loss: 11.3723 - mae: 11.3723\n",
      "Epoch 3/5\n",
      "1/1 [==============================] - 0s 4ms/step - loss: 11.2398 - mae: 11.2398\n",
      "Epoch 4/5\n",
      "1/1 [==============================] - 0s 4ms/step - loss: 11.1073 - mae: 11.1073\n",
      "Epoch 5/5\n",
      "1/1 [==============================] - 0s 13ms/step - loss: 10.9748 - mae: 10.9748\n"
     ]
    },
    {
     "data": {
      "text/plain": [
       "<keras.callbacks.History at 0x36257880>"
      ]
     },
     "execution_count": 180,
     "metadata": {},
     "output_type": "execute_result"
    }
   ],
   "source": [
    "# Set random seed\n",
    "tf.random.set_seed(42)\n",
    "\n",
    "input_shape = X[0].shape # the shape of 1 input sample\n",
    "output_shape = y[0].shape # the shape of 1 output sample\n",
    "\n",
    "print(f\"input_shape {input_shape}, output_shape {output_shape}\")\n",
    "\n",
    "# 1. Create a model using Sequential  API\n",
    "model = tf.keras.Sequential([\n",
    "            tf.keras.layers.Dense(1,input_shape = X[0].shape)#input layer\n",
    "])\n",
    "\n",
    "# 2. Compile the model\n",
    "model.compile(\n",
    "    loss = tf.keras.losses.mae, # mae is short for mean absolute mean error\n",
    "    optimizer = tf.keras.optimizers.SGD(), # or just \"sgd\" sgd is short for stochastis gardient descent\n",
    "    metrics = ['mae']\n",
    ")\n",
    "\n",
    "# 3. Fit the model\n",
    "#model.fit(X,y,epochs = 5)\n",
    "model.fit(tf.expand_dims(X, axis=-1), y, epochs=5)"
   ]
  },
  {
   "cell_type": "code",
   "execution_count": 181,
   "id": "53651a49",
   "metadata": {},
   "outputs": [
    {
     "name": "stdout",
     "output_type": "stream",
     "text": [
      "add\n",
      "apply\n",
      "build\n",
      "built\n",
      "call\n",
      "compile\n",
      "dtype\n",
      "dynamic\n",
      "evaluate\n",
      "fit\n",
      "history\n",
      "input\n",
      "inputs\n",
      "layers\n",
      "loss\n",
      "losses\n",
      "metrics\n",
      "name\n",
      "optimizer\n",
      "output\n",
      "outputs\n",
      "pop\n",
      "predict\n",
      "save\n",
      "stateful\n",
      "submodules\n",
      "summary\n",
      "trainable\n",
      "updates\n",
      "variables\n",
      "weights\n"
     ]
    }
   ],
   "source": [
    "for i in dir(model):\n",
    "    if \"_\" not in i:\n",
    "        print(i)"
   ]
  },
  {
   "cell_type": "code",
   "execution_count": 182,
   "id": "645978ce",
   "metadata": {},
   "outputs": [
    {
     "data": {
      "text/plain": [
       "[<keras.layers.core.dense.Dense at 0x36c19e80>]"
      ]
     },
     "execution_count": 182,
     "metadata": {},
     "output_type": "execute_result"
    }
   ],
   "source": [
    "# the layers of model\n",
    "model.layers"
   ]
  },
  {
   "cell_type": "code",
   "execution_count": 183,
   "id": "93bf1bf3",
   "metadata": {},
   "outputs": [
    {
     "name": "stdout",
     "output_type": "stream",
     "text": [
      "Model: \"sequential_21\"\n",
      "_________________________________________________________________\n",
      " Layer (type)                Output Shape              Param #   \n",
      "=================================================================\n",
      " dense_21 (Dense)            (None, 1)                 2         \n",
      "                                                                 \n",
      "=================================================================\n",
      "Total params: 2\n",
      "Trainable params: 2\n",
      "Non-trainable params: 0\n",
      "_________________________________________________________________\n"
     ]
    }
   ],
   "source": [
    "# summary your model\n",
    "model.summary()"
   ]
  },
  {
   "cell_type": "code",
   "execution_count": 184,
   "id": "cbf1c9ce",
   "metadata": {},
   "outputs": [
    {
     "data": {
      "text/plain": [
       "(<KerasTensor: shape=(None, 1) dtype=float32 (created by layer 'dense_21_input')>,\n",
       " [<KerasTensor: shape=(None, 1) dtype=float32 (created by layer 'dense_21_input')>])"
      ]
     },
     "execution_count": 184,
     "metadata": {},
     "output_type": "execute_result"
    }
   ],
   "source": [
    "# input of the model\n",
    "model.input, model.inputs"
   ]
  },
  {
   "cell_type": "code",
   "execution_count": 185,
   "id": "4c66283e",
   "metadata": {},
   "outputs": [
    {
     "data": {
      "text/plain": [
       "(<KerasTensor: shape=(None, 1) dtype=float32 (created by layer 'dense_21')>,\n",
       " [<KerasTensor: shape=(None, 1) dtype=float32 (created by layer 'dense_21')>])"
      ]
     },
     "execution_count": 185,
     "metadata": {},
     "output_type": "execute_result"
    }
   ],
   "source": [
    "# output of the model\n",
    "model.output,model.outputs"
   ]
  },
  {
   "cell_type": "code",
   "execution_count": 186,
   "id": "a1862b6a",
   "metadata": {},
   "outputs": [
    {
     "data": {
      "text/plain": [
       "[<tf.Variable 'dense_21/kernel:0' shape=(1, 1) dtype=float32, numpy=array([[0.74506]], dtype=float32)>,\n",
       " <tf.Variable 'dense_21/bias:0' shape=(1,) dtype=float32, numpy=array([0.05], dtype=float32)>]"
      ]
     },
     "execution_count": 186,
     "metadata": {},
     "output_type": "execute_result"
    }
   ],
   "source": [
    "# the varibales of the model\n",
    "model.variables"
   ]
  },
  {
   "cell_type": "code",
   "execution_count": 187,
   "id": "62c390b7",
   "metadata": {},
   "outputs": [
    {
     "data": {
      "text/plain": [
       "[<tf.Variable 'dense_21/kernel:0' shape=(1, 1) dtype=float32, numpy=array([[0.74506]], dtype=float32)>,\n",
       " <tf.Variable 'dense_21/bias:0' shape=(1,) dtype=float32, numpy=array([0.05], dtype=float32)>]"
      ]
     },
     "execution_count": 187,
     "metadata": {},
     "output_type": "execute_result"
    }
   ],
   "source": [
    "# weight of the models\n",
    "model.weights"
   ]
  },
  {
   "cell_type": "code",
   "execution_count": 188,
   "id": "4312c2a6",
   "metadata": {},
   "outputs": [
    {
     "name": "stdout",
     "output_type": "stream",
     "text": [
      "1/1 [==============================] - 0s 41ms/step\n"
     ]
    },
    {
     "data": {
      "text/plain": [
       "array([[12.716021]], dtype=float32)"
      ]
     },
     "execution_count": 188,
     "metadata": {},
     "output_type": "execute_result"
    }
   ],
   "source": [
    "# predict new function\n",
    "model.predict(tf.constant([17.0]),verbose = 1)"
   ]
  },
  {
   "cell_type": "code",
   "execution_count": 189,
   "id": "ffda9430",
   "metadata": {},
   "outputs": [
    {
     "name": "stdout",
     "output_type": "stream",
     "text": [
      "1/1 [==============================] - 0s 96ms/step - loss: 15.6219 - mae: 15.6219\n"
     ]
    },
    {
     "data": {
      "text/plain": [
       "[15.621904373168945, 15.621904373168945]"
      ]
     },
     "execution_count": 189,
     "metadata": {},
     "output_type": "execute_result"
    }
   ],
   "source": [
    "X_test = tf.constant([20.,21.,22.,23.24,25.])\n",
    "y_test = X_test + 10\n",
    "#model.evaluate(X_test,y_test,verbose =1)\n",
    "model.evaluate(tf.expand_dims(X_test,axis = -1),y_test,verbose =1)"
   ]
  },
  {
   "cell_type": "code",
   "execution_count": 190,
   "id": "eb3e44ba",
   "metadata": {},
   "outputs": [
    {
     "data": {
      "text/plain": [
       "<function keras.losses.mean_absolute_error(y_true, y_pred)>"
      ]
     },
     "execution_count": 190,
     "metadata": {},
     "output_type": "execute_result"
    }
   ],
   "source": [
    "model.loss"
   ]
  },
  {
   "cell_type": "code",
   "execution_count": 191,
   "id": "0f0e629d",
   "metadata": {},
   "outputs": [
    {
     "data": {
      "text/plain": [
       "[]"
      ]
     },
     "execution_count": 191,
     "metadata": {},
     "output_type": "execute_result"
    }
   ],
   "source": [
    "model.losses"
   ]
  },
  {
   "cell_type": "code",
   "execution_count": 192,
   "id": "086a19d7",
   "metadata": {},
   "outputs": [
    {
     "data": {
      "text/plain": [
       "[<keras.metrics.Mean at 0x34af9580>,\n",
       " <keras.metrics.MeanMetricWrapper at 0x368b6c10>]"
      ]
     },
     "execution_count": 192,
     "metadata": {},
     "output_type": "execute_result"
    }
   ],
   "source": [
    "model.metrics"
   ]
  },
  {
   "cell_type": "code",
   "execution_count": 193,
   "id": "8a1e9f1f",
   "metadata": {},
   "outputs": [
    {
     "data": {
      "text/plain": [
       "'sequential_21'"
      ]
     },
     "execution_count": 193,
     "metadata": {},
     "output_type": "execute_result"
    }
   ],
   "source": [
    "model.name"
   ]
  },
  {
   "cell_type": "code",
   "execution_count": 194,
   "id": "248e45ac",
   "metadata": {},
   "outputs": [
    {
     "data": {
      "text/plain": [
       "<keras.optimizer_v2.gradient_descent.SGD at 0x34af1e50>"
      ]
     },
     "execution_count": 194,
     "metadata": {},
     "output_type": "execute_result"
    }
   ],
   "source": [
    "model.optimizer"
   ]
  },
  {
   "cell_type": "code",
   "execution_count": 195,
   "id": "53b444da",
   "metadata": {},
   "outputs": [
    {
     "data": {
      "text/plain": [
       "<bound method Sequential.pop of <keras.engine.sequential.Sequential object at 0x0000000036C19CD0>>"
      ]
     },
     "execution_count": 195,
     "metadata": {},
     "output_type": "execute_result"
    }
   ],
   "source": [
    "model.pop # model.pop()"
   ]
  },
  {
   "cell_type": "code",
   "execution_count": 196,
   "id": "bd3eeedb",
   "metadata": {},
   "outputs": [
    {
     "data": {
      "text/plain": [
       "False"
      ]
     },
     "execution_count": 196,
     "metadata": {},
     "output_type": "execute_result"
    }
   ],
   "source": [
    "model.stateful"
   ]
  },
  {
   "cell_type": "code",
   "execution_count": 197,
   "id": "af99b816",
   "metadata": {},
   "outputs": [
    {
     "data": {
      "text/plain": [
       "(<keras.engine.input_layer.InputLayer at 0x36c210d0>,\n",
       " <keras.layers.core.dense.Dense at 0x36c19e80>)"
      ]
     },
     "execution_count": 197,
     "metadata": {},
     "output_type": "execute_result"
    }
   ],
   "source": [
    "model.submodules"
   ]
  },
  {
   "cell_type": "code",
   "execution_count": 198,
   "id": "65e5eff6",
   "metadata": {},
   "outputs": [
    {
     "data": {
      "text/plain": [
       "True"
      ]
     },
     "execution_count": 198,
     "metadata": {},
     "output_type": "execute_result"
    }
   ],
   "source": [
    "model.trainable"
   ]
  },
  {
   "cell_type": "code",
   "execution_count": 199,
   "id": "2ba3441b",
   "metadata": {},
   "outputs": [
    {
     "name": "stderr",
     "output_type": "stream",
     "text": [
      "<ipython-input-199-c13b30bff278>:1: UserWarning: `layer.updates` will be removed in a future version. This property should not be used in TensorFlow 2.0, as `updates` are applied automatically.\n",
      "  model.updates\n"
     ]
    },
    {
     "data": {
      "text/plain": [
       "[]"
      ]
     },
     "execution_count": 199,
     "metadata": {},
     "output_type": "execute_result"
    }
   ],
   "source": [
    "model.updates"
   ]
  },
  {
   "cell_type": "code",
   "execution_count": 200,
   "id": "d28c71c7",
   "metadata": {},
   "outputs": [
    {
     "data": {
      "text/plain": [
       "<bound method Model.save of <keras.engine.sequential.Sequential object at 0x0000000036C19CD0>>"
      ]
     },
     "execution_count": 200,
     "metadata": {},
     "output_type": "execute_result"
    }
   ],
   "source": [
    "model.save"
   ]
  },
  {
   "cell_type": "markdown",
   "id": "734bdb6a",
   "metadata": {},
   "source": [
    " ## Improving out model\n",
    " \n",
    " We can improve our model, by alterign the steps we took to create a model\n",
    " \n",
    " 1. **Creating a model** - here we might add more layers, increate the number of hidden units (all called neurons)\n",
    " within  each of the hidden layers, change the activation function of each layers.\n",
    " \n",
    " 2. **Compiling a model** - here we might change the optimization function or perhaps the **learning rate** of the optimization function.\n",
    " \n",
    " 3. **Fitting a model** - here we might fit a model for more **epochs** (leave ti trainning for longer) or on more data (give the model more examples to learn from).\n",
    " "
   ]
  },
  {
   "cell_type": "markdown",
   "id": "1973e52e",
   "metadata": {},
   "source": [
    "### bigger model"
   ]
  },
  {
   "cell_type": "code",
   "execution_count": 246,
   "id": "edfbc4d5",
   "metadata": {},
   "outputs": [
    {
     "name": "stdout",
     "output_type": "stream",
     "text": [
      "Epoch 1/100\n",
      "1/1 [==============================] - 0s 460ms/step - loss: 11.7755 - mae: 11.7755\n",
      "Epoch 2/100\n",
      "1/1 [==============================] - 0s 4ms/step - loss: 8.2694 - mae: 8.2694\n",
      "Epoch 3/100\n",
      "1/1 [==============================] - 0s 10ms/step - loss: 19.5601 - mae: 19.5601\n",
      "Epoch 4/100\n",
      "1/1 [==============================] - 0s 15ms/step - loss: 13.1179 - mae: 13.1179\n",
      "Epoch 5/100\n",
      "1/1 [==============================] - 0s 9ms/step - loss: 12.8872 - mae: 12.8872\n",
      "Epoch 6/100\n",
      "1/1 [==============================] - 0s 6ms/step - loss: 12.5833 - mae: 12.5833\n",
      "Epoch 7/100\n",
      "1/1 [==============================] - 0s 6ms/step - loss: 12.1216 - mae: 12.1216\n",
      "Epoch 8/100\n",
      "1/1 [==============================] - 0s 14ms/step - loss: 11.3016 - mae: 11.3016\n",
      "Epoch 9/100\n",
      "1/1 [==============================] - 0s 15ms/step - loss: 9.5623 - mae: 9.5623\n",
      "Epoch 10/100\n",
      "1/1 [==============================] - 0s 22ms/step - loss: 6.8859 - mae: 6.8859\n",
      "Epoch 11/100\n",
      "1/1 [==============================] - 0s 13ms/step - loss: 10.0112 - mae: 10.0112\n",
      "Epoch 12/100\n",
      "1/1 [==============================] - 0s 15ms/step - loss: 6.7938 - mae: 6.7938\n",
      "Epoch 13/100\n",
      "1/1 [==============================] - 0s 9ms/step - loss: 16.9349 - mae: 16.9349\n",
      "Epoch 14/100\n",
      "1/1 [==============================] - 0s 14ms/step - loss: 12.1353 - mae: 12.1353\n",
      "Epoch 15/100\n",
      "1/1 [==============================] - 0s 14ms/step - loss: 11.9494 - mae: 11.9494\n",
      "Epoch 16/100\n",
      "1/1 [==============================] - 0s 6ms/step - loss: 11.7492 - mae: 11.7492\n",
      "Epoch 17/100\n",
      "1/1 [==============================] - 0s 6ms/step - loss: 11.5309 - mae: 11.5309\n",
      "Epoch 18/100\n",
      "1/1 [==============================] - 0s 10ms/step - loss: 11.2900 - mae: 11.2900\n",
      "Epoch 19/100\n",
      "1/1 [==============================] - 0s 7ms/step - loss: 11.0212 - mae: 11.0212\n",
      "Epoch 20/100\n",
      "1/1 [==============================] - 0s 21ms/step - loss: 10.7177 - mae: 10.7177\n",
      "Epoch 21/100\n",
      "1/1 [==============================] - 0s 19ms/step - loss: 10.3851 - mae: 10.3851\n",
      "Epoch 22/100\n",
      "1/1 [==============================] - 0s 12ms/step - loss: 10.1147 - mae: 10.1147\n",
      "Epoch 23/100\n",
      "1/1 [==============================] - 0s 18ms/step - loss: 9.7245 - mae: 9.7245\n",
      "Epoch 24/100\n",
      "1/1 [==============================] - 0s 14ms/step - loss: 8.9877 - mae: 8.9877\n",
      "Epoch 25/100\n",
      "1/1 [==============================] - 0s 9ms/step - loss: 7.7908 - mae: 7.7908\n",
      "Epoch 26/100\n",
      "1/1 [==============================] - 0s 14ms/step - loss: 5.2236 - mae: 5.2236\n",
      "Epoch 27/100\n",
      "1/1 [==============================] - 0s 9ms/step - loss: 9.9138 - mae: 9.9138\n",
      "Epoch 28/100\n",
      "1/1 [==============================] - 0s 7ms/step - loss: 8.1087 - mae: 8.1087\n",
      "Epoch 29/100\n",
      "1/1 [==============================] - 0s 9ms/step - loss: 5.6810 - mae: 5.6810\n",
      "Epoch 30/100\n",
      "1/1 [==============================] - 0s 4ms/step - loss: 3.8088 - mae: 3.8088\n",
      "Epoch 31/100\n",
      "1/1 [==============================] - 0s 40ms/step - loss: 8.2528 - mae: 8.2528\n",
      "Epoch 32/100\n",
      "1/1 [==============================] - 0s 11ms/step - loss: 7.3353 - mae: 7.3353\n",
      "Epoch 33/100\n",
      "1/1 [==============================] - 0s 12ms/step - loss: 5.0477 - mae: 5.0477\n",
      "Epoch 34/100\n",
      "1/1 [==============================] - 0s 15ms/step - loss: 6.0441 - mae: 6.0441\n",
      "Epoch 35/100\n",
      "1/1 [==============================] - 0s 23ms/step - loss: 6.5426 - mae: 6.5426\n",
      "Epoch 36/100\n",
      "1/1 [==============================] - 0s 27ms/step - loss: 2.4919 - mae: 2.4919\n",
      "Epoch 37/100\n",
      "1/1 [==============================] - 0s 25ms/step - loss: 13.5902 - mae: 13.5902\n",
      "Epoch 38/100\n",
      "1/1 [==============================] - 0s 13ms/step - loss: 6.0580 - mae: 6.0580\n",
      "Epoch 39/100\n",
      "1/1 [==============================] - 0s 13ms/step - loss: 2.2832 - mae: 2.2832\n",
      "Epoch 40/100\n",
      "1/1 [==============================] - 0s 23ms/step - loss: 7.5742 - mae: 7.5742\n",
      "Epoch 41/100\n",
      "1/1 [==============================] - 0s 11ms/step - loss: 6.4218 - mae: 6.4218\n",
      "Epoch 42/100\n",
      "1/1 [==============================] - 0s 14ms/step - loss: 2.6797 - mae: 2.6797\n",
      "Epoch 43/100\n",
      "1/1 [==============================] - 0s 5ms/step - loss: 9.2176 - mae: 9.2176\n",
      "Epoch 44/100\n",
      "1/1 [==============================] - 0s 8ms/step - loss: 5.9096 - mae: 5.9096\n",
      "Epoch 45/100\n",
      "1/1 [==============================] - 0s 11ms/step - loss: 1.0632 - mae: 1.0632\n",
      "Epoch 46/100\n",
      "1/1 [==============================] - 0s 14ms/step - loss: 17.1767 - mae: 17.1767\n",
      "Epoch 47/100\n",
      "1/1 [==============================] - 0s 7ms/step - loss: 5.9693 - mae: 5.9693\n",
      "Epoch 48/100\n",
      "1/1 [==============================] - ETA: 0s - loss: 1.4168 - mae: 1.416 - 0s 5ms/step - loss: 1.4168 - mae: 1.4168\n",
      "Epoch 49/100\n",
      "1/1 [==============================] - 0s 12ms/step - loss: 16.4974 - mae: 16.4974\n",
      "Epoch 50/100\n",
      "1/1 [==============================] - 0s 4ms/step - loss: 6.9058 - mae: 6.9058\n",
      "Epoch 51/100\n",
      "1/1 [==============================] - 0s 13ms/step - loss: 3.7462 - mae: 3.7462\n",
      "Epoch 52/100\n",
      "1/1 [==============================] - 0s 9ms/step - loss: 7.7020 - mae: 7.7020\n",
      "Epoch 53/100\n",
      "1/1 [==============================] - 0s 5ms/step - loss: 7.7445 - mae: 7.7445\n",
      "Epoch 54/100\n",
      "1/1 [==============================] - 0s 16ms/step - loss: 7.0286 - mae: 7.0286\n",
      "Epoch 55/100\n",
      "1/1 [==============================] - 0s 10ms/step - loss: 5.4861 - mae: 5.4861\n",
      "Epoch 56/100\n",
      "1/1 [==============================] - 0s 6ms/step - loss: 0.3409 - mae: 0.3409\n",
      "Epoch 57/100\n",
      "1/1 [==============================] - 0s 12ms/step - loss: 15.3412 - mae: 15.3412\n",
      "Epoch 58/100\n",
      "1/1 [==============================] - 0s 5ms/step - loss: 5.8565 - mae: 5.8565\n",
      "Epoch 59/100\n",
      "1/1 [==============================] - 0s 3ms/step - loss: 1.2888 - mae: 1.2888\n",
      "Epoch 60/100\n",
      "1/1 [==============================] - 0s 6ms/step - loss: 21.3121 - mae: 21.3121\n",
      "Epoch 61/100\n",
      "1/1 [==============================] - 0s 10ms/step - loss: 7.9714 - mae: 7.9714\n",
      "Epoch 62/100\n",
      "1/1 [==============================] - 0s 11ms/step - loss: 5.9602 - mae: 5.9602\n",
      "Epoch 63/100\n",
      "1/1 [==============================] - 0s 14ms/step - loss: 1.4569 - mae: 1.4569\n",
      "Epoch 64/100\n",
      "1/1 [==============================] - 0s 15ms/step - loss: 11.8997 - mae: 11.8997\n",
      "Epoch 65/100\n",
      "1/1 [==============================] - 0s 14ms/step - loss: 7.3385 - mae: 7.3385\n",
      "Epoch 66/100\n",
      "1/1 [==============================] - 0s 8ms/step - loss: 6.2311 - mae: 6.2311\n",
      "Epoch 67/100\n",
      "1/1 [==============================] - 0s 7ms/step - loss: 3.5023 - mae: 3.5023\n",
      "Epoch 68/100\n",
      "1/1 [==============================] - 0s 5ms/step - loss: 7.3798 - mae: 7.3798\n",
      "Epoch 69/100\n",
      "1/1 [==============================] - 0s 8ms/step - loss: 7.8212 - mae: 7.8212\n",
      "Epoch 70/100\n",
      "1/1 [==============================] - 0s 6ms/step - loss: 7.3243 - mae: 7.3243\n",
      "Epoch 71/100\n",
      "1/1 [==============================] - 0s 9ms/step - loss: 6.7584 - mae: 6.7584\n",
      "Epoch 72/100\n",
      "1/1 [==============================] - 0s 5ms/step - loss: 6.1635 - mae: 6.1635\n",
      "Epoch 73/100\n",
      "1/1 [==============================] - 0s 9ms/step - loss: 4.9312 - mae: 4.9312\n",
      "Epoch 74/100\n",
      "1/1 [==============================] - 0s 15ms/step - loss: 1.3206 - mae: 1.3206\n",
      "Epoch 75/100\n",
      "1/1 [==============================] - 0s 6ms/step - loss: 6.4069 - mae: 6.4069\n",
      "Epoch 76/100\n",
      "1/1 [==============================] - 0s 14ms/step - loss: 4.3047 - mae: 4.3047\n",
      "Epoch 77/100\n",
      "1/1 [==============================] - 0s 11ms/step - loss: 3.2545 - mae: 3.2545\n",
      "Epoch 78/100\n",
      "1/1 [==============================] - 0s 9ms/step - loss: 7.5118 - mae: 7.5118\n",
      "Epoch 79/100\n",
      "1/1 [==============================] - 0s 4ms/step - loss: 7.0263 - mae: 7.0263\n",
      "Epoch 80/100\n",
      "1/1 [==============================] - 0s 15ms/step - loss: 6.6330 - mae: 6.6330\n",
      "Epoch 81/100\n",
      "1/1 [==============================] - ETA: 0s - loss: 6.4928 - mae: 6.492 - 0s 9ms/step - loss: 6.4928 - mae: 6.4928\n",
      "Epoch 82/100\n",
      "1/1 [==============================] - 0s 7ms/step - loss: 6.3233 - mae: 6.3233\n",
      "Epoch 83/100\n",
      "1/1 [==============================] - 0s 13ms/step - loss: 6.0414 - mae: 6.0414\n",
      "Epoch 84/100\n",
      "1/1 [==============================] - 0s 7ms/step - loss: 5.2622 - mae: 5.2622\n",
      "Epoch 85/100\n",
      "1/1 [==============================] - 0s 15ms/step - loss: 2.4784 - mae: 2.4784\n",
      "Epoch 86/100\n",
      "1/1 [==============================] - 0s 5ms/step - loss: 8.4141 - mae: 8.4141\n",
      "Epoch 87/100\n"
     ]
    },
    {
     "name": "stdout",
     "output_type": "stream",
     "text": [
      "1/1 [==============================] - 0s 12ms/step - loss: 6.8681 - mae: 6.8681\n",
      "Epoch 88/100\n",
      "1/1 [==============================] - 0s 15ms/step - loss: 5.9672 - mae: 5.9672\n",
      "Epoch 89/100\n",
      "1/1 [==============================] - 0s 12ms/step - loss: 4.0760 - mae: 4.0760\n",
      "Epoch 90/100\n",
      "1/1 [==============================] - 0s 14ms/step - loss: 4.3594 - mae: 4.3594\n",
      "Epoch 91/100\n",
      "1/1 [==============================] - 0s 8ms/step - loss: 7.3324 - mae: 7.3324\n",
      "Epoch 92/100\n",
      "1/1 [==============================] - 0s 5ms/step - loss: 6.6536 - mae: 6.6536\n",
      "Epoch 93/100\n",
      "1/1 [==============================] - 0s 13ms/step - loss: 5.7749 - mae: 5.7749\n",
      "Epoch 94/100\n",
      "1/1 [==============================] - 0s 4ms/step - loss: 3.5203 - mae: 3.5203\n",
      "Epoch 95/100\n",
      "1/1 [==============================] - 0s 6ms/step - loss: 7.0803 - mae: 7.0803\n",
      "Epoch 96/100\n",
      "1/1 [==============================] - 0s 6ms/step - loss: 7.2687 - mae: 7.2687\n",
      "Epoch 97/100\n",
      "1/1 [==============================] - 0s 8ms/step - loss: 6.6592 - mae: 6.6592\n",
      "Epoch 98/100\n",
      "1/1 [==============================] - 0s 4ms/step - loss: 6.0792 - mae: 6.0792\n",
      "Epoch 99/100\n",
      "1/1 [==============================] - 0s 8ms/step - loss: 4.8440 - mae: 4.8440\n",
      "Epoch 100/100\n",
      "1/1 [==============================] - 0s 9ms/step - loss: 1.5122 - mae: 1.5122\n"
     ]
    },
    {
     "data": {
      "text/plain": [
       "<keras.callbacks.History at 0x356a8a60>"
      ]
     },
     "execution_count": 246,
     "metadata": {},
     "output_type": "execute_result"
    }
   ],
   "source": [
    "# Let create build your model\n",
    "\n",
    "# 1.Create the model\n",
    "model = tf.keras.Sequential([\n",
    "    tf.keras.layers.Dense(1),\n",
    "    tf.keras.layers.Dense(4),\n",
    "    tf.keras.layers.Dense(1)\n",
    "])\n",
    "\n",
    "# 2.Compile the model\n",
    "model.compile(\n",
    "loss = tf.keras.losses.mae,\n",
    "    optimizer = tf.keras.optimizers.SGD(learning_rate = 0.1),\n",
    "    metrics = ['mae']\n",
    ")\n",
    "\n",
    "model.fit(X,y,epochs = 100, verbose = 1) "
   ]
  },
  {
   "cell_type": "code",
   "execution_count": 247,
   "id": "75bb01ae",
   "metadata": {},
   "outputs": [
    {
     "name": "stdout",
     "output_type": "stream",
     "text": [
      "Model: \"sequential_41\"\n",
      "_________________________________________________________________\n",
      " Layer (type)                Output Shape              Param #   \n",
      "=================================================================\n",
      " dense_53 (Dense)            (None, 1)                 2         \n",
      "                                                                 \n",
      " dense_54 (Dense)            (None, 4)                 8         \n",
      "                                                                 \n",
      " dense_55 (Dense)            (None, 1)                 5         \n",
      "                                                                 \n",
      "=================================================================\n",
      "Total params: 15\n",
      "Trainable params: 15\n",
      "Non-trainable params: 0\n",
      "_________________________________________________________________\n"
     ]
    }
   ],
   "source": [
    "model.summary()"
   ]
  },
  {
   "cell_type": "markdown",
   "id": "db229442",
   "metadata": {},
   "source": [
    "### learning_rate"
   ]
  },
  {
   "cell_type": "code",
   "execution_count": 241,
   "id": "9075cb1a",
   "metadata": {},
   "outputs": [
    {
     "name": "stdout",
     "output_type": "stream",
     "text": [
      "Epoch 1/100\n",
      "1/1 [==============================] - 0s 312ms/step - loss: 12.4664 - mae: 12.4664\n",
      "Epoch 2/100\n",
      "1/1 [==============================] - 0s 4ms/step - loss: 11.1414 - mae: 11.1414\n",
      "Epoch 3/100\n",
      "1/1 [==============================] - 0s 7ms/step - loss: 9.8164 - mae: 9.8164\n",
      "Epoch 4/100\n",
      "1/1 [==============================] - 0s 22ms/step - loss: 8.4914 - mae: 8.4914\n",
      "Epoch 5/100\n",
      "1/1 [==============================] - 0s 7ms/step - loss: 7.2000 - mae: 7.2000\n",
      "Epoch 6/100\n",
      "1/1 [==============================] - 0s 5ms/step - loss: 7.1438 - mae: 7.1438\n",
      "Epoch 7/100\n",
      "1/1 [==============================] - 0s 3ms/step - loss: 7.0875 - mae: 7.0875\n",
      "Epoch 8/100\n",
      "1/1 [==============================] - 0s 6ms/step - loss: 7.0312 - mae: 7.0312\n",
      "Epoch 9/100\n",
      "1/1 [==============================] - 0s 17ms/step - loss: 6.9750 - mae: 6.9750\n",
      "Epoch 10/100\n",
      "1/1 [==============================] - 0s 22ms/step - loss: 6.9188 - mae: 6.9188\n",
      "Epoch 11/100\n",
      "1/1 [==============================] - 0s 5ms/step - loss: 6.8625 - mae: 6.8625\n",
      "Epoch 12/100\n",
      "1/1 [==============================] - 0s 18ms/step - loss: 6.8063 - mae: 6.8063\n",
      "Epoch 13/100\n",
      "1/1 [==============================] - 0s 13ms/step - loss: 6.7500 - mae: 6.7500\n",
      "Epoch 14/100\n",
      "1/1 [==============================] - 0s 14ms/step - loss: 6.6937 - mae: 6.6937\n",
      "Epoch 15/100\n",
      "1/1 [==============================] - 0s 9ms/step - loss: 6.6375 - mae: 6.6375\n",
      "Epoch 16/100\n",
      "1/1 [==============================] - 0s 8ms/step - loss: 6.5812 - mae: 6.5812\n",
      "Epoch 17/100\n",
      "1/1 [==============================] - 0s 11ms/step - loss: 6.5250 - mae: 6.5250\n",
      "Epoch 18/100\n",
      "1/1 [==============================] - 0s 14ms/step - loss: 6.4688 - mae: 6.4688\n",
      "Epoch 19/100\n",
      "1/1 [==============================] - 0s 21ms/step - loss: 6.4125 - mae: 6.4125\n",
      "Epoch 20/100\n",
      "1/1 [==============================] - 0s 14ms/step - loss: 6.3562 - mae: 6.3562\n",
      "Epoch 21/100\n",
      "1/1 [==============================] - 0s 10ms/step - loss: 6.3000 - mae: 6.3000\n",
      "Epoch 22/100\n",
      "1/1 [==============================] - 0s 18ms/step - loss: 6.2437 - mae: 6.2437\n",
      "Epoch 23/100\n",
      "1/1 [==============================] - 0s 9ms/step - loss: 6.1875 - mae: 6.1875\n",
      "Epoch 24/100\n",
      "1/1 [==============================] - 0s 13ms/step - loss: 6.1312 - mae: 6.1312\n",
      "Epoch 25/100\n",
      "1/1 [==============================] - 0s 14ms/step - loss: 6.0750 - mae: 6.0750\n",
      "Epoch 26/100\n",
      "1/1 [==============================] - 0s 24ms/step - loss: 6.0187 - mae: 6.0187\n",
      "Epoch 27/100\n",
      "1/1 [==============================] - 0s 9ms/step - loss: 5.9625 - mae: 5.9625\n",
      "Epoch 28/100\n",
      "1/1 [==============================] - 0s 11ms/step - loss: 5.9062 - mae: 5.9062\n",
      "Epoch 29/100\n",
      "1/1 [==============================] - 0s 8ms/step - loss: 5.8500 - mae: 5.8500\n",
      "Epoch 30/100\n",
      "1/1 [==============================] - 0s 7ms/step - loss: 5.7937 - mae: 5.7937\n",
      "Epoch 31/100\n",
      "1/1 [==============================] - 0s 9ms/step - loss: 5.7375 - mae: 5.7375\n",
      "Epoch 32/100\n",
      "1/1 [==============================] - 0s 14ms/step - loss: 5.6996 - mae: 5.6996\n",
      "Epoch 33/100\n",
      "1/1 [==============================] - 0s 8ms/step - loss: 6.0539 - mae: 6.0539\n",
      "Epoch 34/100\n",
      "1/1 [==============================] - 0s 7ms/step - loss: 5.8308 - mae: 5.8308\n",
      "Epoch 35/100\n",
      "1/1 [==============================] - 0s 20ms/step - loss: 5.6414 - mae: 5.6414\n",
      "Epoch 36/100\n",
      "1/1 [==============================] - 0s 16ms/step - loss: 5.9621 - mae: 5.9621\n",
      "Epoch 37/100\n",
      "1/1 [==============================] - 0s 7ms/step - loss: 5.4187 - mae: 5.4187\n",
      "Epoch 38/100\n",
      "1/1 [==============================] - 0s 14ms/step - loss: 5.3625 - mae: 5.3625\n",
      "Epoch 39/100\n",
      "1/1 [==============================] - 0s 5ms/step - loss: 5.3062 - mae: 5.3062\n",
      "Epoch 40/100\n",
      "1/1 [==============================] - 0s 5ms/step - loss: 5.2500 - mae: 5.2500\n",
      "Epoch 41/100\n",
      "1/1 [==============================] - 0s 9ms/step - loss: 5.1937 - mae: 5.1937\n",
      "Epoch 42/100\n",
      "1/1 [==============================] - 0s 4ms/step - loss: 5.1375 - mae: 5.1375\n",
      "Epoch 43/100\n",
      "1/1 [==============================] - ETA: 0s - loss: 5.0812 - mae: 5.081 - 0s 11ms/step - loss: 5.0812 - mae: 5.0812\n",
      "Epoch 44/100\n",
      "1/1 [==============================] - 0s 40ms/step - loss: 5.0250 - mae: 5.0250\n",
      "Epoch 45/100\n",
      "1/1 [==============================] - 0s 25ms/step - loss: 4.9687 - mae: 4.9687\n",
      "Epoch 46/100\n",
      "1/1 [==============================] - 0s 9ms/step - loss: 4.9125 - mae: 4.9125\n",
      "Epoch 47/100\n",
      "1/1 [==============================] - 0s 8ms/step - loss: 4.8562 - mae: 4.8562\n",
      "Epoch 48/100\n",
      "1/1 [==============================] - ETA: 0s - loss: 4.8000 - mae: 4.800 - 0s 11ms/step - loss: 4.8000 - mae: 4.8000\n",
      "Epoch 49/100\n",
      "1/1 [==============================] - 0s 35ms/step - loss: 4.7437 - mae: 4.7437\n",
      "Epoch 50/100\n",
      "1/1 [==============================] - 0s 13ms/step - loss: 4.6933 - mae: 4.6933\n",
      "Epoch 51/100\n",
      "1/1 [==============================] - 0s 16ms/step - loss: 5.1664 - mae: 5.1664\n",
      "Epoch 52/100\n",
      "1/1 [==============================] - 0s 12ms/step - loss: 4.8246 - mae: 4.8246\n",
      "Epoch 53/100\n",
      "1/1 [==============================] - 0s 15ms/step - loss: 4.7539 - mae: 4.7539\n",
      "Epoch 54/100\n",
      "1/1 [==============================] - 0s 9ms/step - loss: 4.9558 - mae: 4.9558\n",
      "Epoch 55/100\n",
      "1/1 [==============================] - 0s 13ms/step - loss: 4.4250 - mae: 4.4250\n",
      "Epoch 56/100\n",
      "1/1 [==============================] - 0s 14ms/step - loss: 4.3687 - mae: 4.3687\n",
      "Epoch 57/100\n",
      "1/1 [==============================] - 0s 10ms/step - loss: 4.3125 - mae: 4.3125\n",
      "Epoch 58/100\n",
      "1/1 [==============================] - 0s 5ms/step - loss: 4.2562 - mae: 4.2562\n",
      "Epoch 59/100\n",
      "1/1 [==============================] - 0s 21ms/step - loss: 4.2000 - mae: 4.2000\n",
      "Epoch 60/100\n",
      "1/1 [==============================] - 0s 16ms/step - loss: 4.1438 - mae: 4.1438\n",
      "Epoch 61/100\n",
      "1/1 [==============================] - 0s 12ms/step - loss: 4.0875 - mae: 4.0875\n",
      "Epoch 62/100\n",
      "1/1 [==============================] - 0s 9ms/step - loss: 4.0312 - mae: 4.0312\n",
      "Epoch 63/100\n",
      "1/1 [==============================] - 0s 7ms/step - loss: 3.9750 - mae: 3.9750\n",
      "Epoch 64/100\n",
      "1/1 [==============================] - 0s 15ms/step - loss: 3.9188 - mae: 3.9188\n",
      "Epoch 65/100\n",
      "1/1 [==============================] - 0s 16ms/step - loss: 3.8625 - mae: 3.8625\n",
      "Epoch 66/100\n",
      "1/1 [==============================] - 0s 10ms/step - loss: 3.8063 - mae: 3.8063\n",
      "Epoch 67/100\n",
      "1/1 [==============================] - 0s 9ms/step - loss: 3.7500 - mae: 3.7500\n",
      "Epoch 68/100\n",
      "1/1 [==============================] - 0s 10ms/step - loss: 3.6938 - mae: 3.6938\n",
      "Epoch 69/100\n",
      "1/1 [==============================] - 0s 7ms/step - loss: 3.6496 - mae: 3.6496\n",
      "Epoch 70/100\n",
      "1/1 [==============================] - 0s 4ms/step - loss: 4.2039 - mae: 4.2039\n",
      "Epoch 71/100\n",
      "1/1 [==============================] - 0s 5ms/step - loss: 3.7808 - mae: 3.7808\n",
      "Epoch 72/100\n",
      "1/1 [==============================] - 0s 5ms/step - loss: 3.7914 - mae: 3.7914\n",
      "Epoch 73/100\n",
      "1/1 [==============================] - 0s 7ms/step - loss: 3.9652 - mae: 3.9652\n",
      "Epoch 74/100\n",
      "1/1 [==============================] - 0s 12ms/step - loss: 4.1039 - mae: 4.1039\n",
      "Epoch 75/100\n",
      "1/1 [==============================] - 0s 5ms/step - loss: 3.5058 - mae: 3.5058\n",
      "Epoch 76/100\n",
      "1/1 [==============================] - 0s 5ms/step - loss: 3.6914 - mae: 3.6914\n",
      "Epoch 77/100\n",
      "1/1 [==============================] - 0s 9ms/step - loss: 3.6590 - mae: 3.6590\n",
      "Epoch 78/100\n",
      "1/1 [==============================] - 0s 5ms/step - loss: 4.0039 - mae: 4.0039\n",
      "Epoch 79/100\n",
      "1/1 [==============================] - 0s 4ms/step - loss: 3.2308 - mae: 3.2308\n",
      "Epoch 80/100\n",
      "1/1 [==============================] - 0s 8ms/step - loss: 3.5914 - mae: 3.5914\n",
      "Epoch 81/100\n",
      "1/1 [==============================] - 0s 4ms/step - loss: 3.3621 - mae: 3.3621\n",
      "Epoch 82/100\n",
      "1/1 [==============================] - 0s 9ms/step - loss: 3.1789 - mae: 3.1789\n",
      "Epoch 83/100\n",
      "1/1 [==============================] - ETA: 0s - loss: 3.6715 - mae: 3.671 - 0s 9ms/step - loss: 3.6715 - mae: 3.6715\n",
      "Epoch 84/100\n",
      "1/1 [==============================] - 0s 5ms/step - loss: 3.4914 - mae: 3.4914\n",
      "Epoch 85/100\n",
      "1/1 [==============================] - 0s 5ms/step - loss: 3.0871 - mae: 3.0871\n",
      "Epoch 86/100\n",
      "1/1 [==============================] - 0s 4ms/step - loss: 3.0789 - mae: 3.0789\n",
      "Epoch 87/100\n"
     ]
    },
    {
     "name": "stdout",
     "output_type": "stream",
     "text": [
      "1/1 [==============================] - 0s 10ms/step - loss: 3.3652 - mae: 3.3652\n",
      "Epoch 88/100\n",
      "1/1 [==============================] - 0s 5ms/step - loss: 3.3914 - mae: 3.3914\n",
      "Epoch 89/100\n",
      "1/1 [==============================] - 0s 5ms/step - loss: 2.8121 - mae: 2.8121\n",
      "Epoch 90/100\n",
      "1/1 [==============================] - 0s 5ms/step - loss: 2.9789 - mae: 2.9789\n",
      "Epoch 91/100\n",
      "1/1 [==============================] - 0s 12ms/step - loss: 3.0590 - mae: 3.0590\n",
      "Epoch 92/100\n",
      "1/1 [==============================] - 0s 5ms/step - loss: 3.2914 - mae: 3.2914\n",
      "Epoch 93/100\n",
      "1/1 [==============================] - 0s 6ms/step - loss: 2.5371 - mae: 2.5371\n",
      "Epoch 94/100\n",
      "1/1 [==============================] - 0s 6ms/step - loss: 2.8789 - mae: 2.8789\n",
      "Epoch 95/100\n",
      "1/1 [==============================] - 0s 5ms/step - loss: 2.7527 - mae: 2.7527\n",
      "Epoch 96/100\n",
      "1/1 [==============================] - 0s 5ms/step - loss: 3.1914 - mae: 3.1914\n",
      "Epoch 97/100\n",
      "1/1 [==============================] - 0s 4ms/step - loss: 2.2621 - mae: 2.2621\n",
      "Epoch 98/100\n",
      "1/1 [==============================] - 0s 8ms/step - loss: 2.7789 - mae: 2.7789\n",
      "Epoch 99/100\n",
      "1/1 [==============================] - 0s 5ms/step - loss: 2.4465 - mae: 2.4465\n",
      "Epoch 100/100\n",
      "1/1 [==============================] - 0s 4ms/step - loss: 3.0914 - mae: 3.0914\n"
     ]
    },
    {
     "data": {
      "text/plain": [
       "<keras.callbacks.History at 0x34c37eb0>"
      ]
     },
     "execution_count": 241,
     "metadata": {},
     "output_type": "execute_result"
    }
   ],
   "source": [
    "# Let create build your model\n",
    "\n",
    "# 1.Create the model\n",
    "model = tf.keras.Sequential([\n",
    "    tf.keras.layers.Dense(1),\n",
    "])\n",
    "\n",
    "# 2.Compile the model\n",
    "model.compile(\n",
    "loss = tf.keras.losses.mae,\n",
    "    optimizer = tf.keras.optimizers.SGD(learning_rate = 0.1),\n",
    "    metrics = ['mae']\n",
    ")\n",
    "# 3.Fit the model\n",
    "model.fit(X,y,epochs = 100, verbose = 1)"
   ]
  },
  {
   "cell_type": "code",
   "execution_count": 242,
   "id": "db9fb718",
   "metadata": {},
   "outputs": [
    {
     "name": "stdout",
     "output_type": "stream",
     "text": [
      "1/1 [==============================] - 0s 106ms/step - loss: 2.8326 - mae: 2.8326\n"
     ]
    },
    {
     "data": {
      "text/plain": [
       "[2.8325867652893066, 2.8325867652893066]"
      ]
     },
     "execution_count": 242,
     "metadata": {},
     "output_type": "execute_result"
    }
   ],
   "source": [
    "model.evaluate(X_test,y_test)"
   ]
  },
  {
   "cell_type": "code",
   "execution_count": 243,
   "id": "8c67417f",
   "metadata": {},
   "outputs": [
    {
     "data": {
      "text/plain": [
       "array([[28.545216]], dtype=float32)"
      ]
     },
     "execution_count": 243,
     "metadata": {},
     "output_type": "execute_result"
    }
   ],
   "source": [
    "model.predict([17.0])"
   ]
  },
  {
   "cell_type": "code",
   "execution_count": 248,
   "id": "ee7bbe98",
   "metadata": {},
   "outputs": [
    {
     "name": "stdout",
     "output_type": "stream",
     "text": [
      "Epoch 1/100\n",
      "1/1 [==============================] - 0s 480ms/step - loss: 13.4154 - mae: 13.4154\n",
      "Epoch 2/100\n",
      "1/1 [==============================] - 0s 6ms/step - loss: 12.9840 - mae: 12.9840\n",
      "Epoch 3/100\n",
      "1/1 [==============================] - 0s 24ms/step - loss: 12.5531 - mae: 12.5531\n",
      "Epoch 4/100\n",
      "1/1 [==============================] - 0s 9ms/step - loss: 12.1163 - mae: 12.1163\n",
      "Epoch 5/100\n",
      "1/1 [==============================] - 0s 11ms/step - loss: 11.6708 - mae: 11.6708\n",
      "Epoch 6/100\n",
      "1/1 [==============================] - 0s 8ms/step - loss: 11.2189 - mae: 11.2189\n",
      "Epoch 7/100\n",
      "1/1 [==============================] - 0s 13ms/step - loss: 10.7562 - mae: 10.7562\n",
      "Epoch 8/100\n",
      "1/1 [==============================] - 0s 16ms/step - loss: 10.2776 - mae: 10.2776\n",
      "Epoch 9/100\n",
      "1/1 [==============================] - 0s 17ms/step - loss: 9.7822 - mae: 9.7822\n",
      "Epoch 10/100\n",
      "1/1 [==============================] - 0s 11ms/step - loss: 9.2689 - mae: 9.2689\n",
      "Epoch 11/100\n",
      "1/1 [==============================] - 0s 11ms/step - loss: 8.7753 - mae: 8.7753\n",
      "Epoch 12/100\n",
      "1/1 [==============================] - 0s 11ms/step - loss: 8.2534 - mae: 8.2534\n",
      "Epoch 13/100\n",
      "1/1 [==============================] - 0s 12ms/step - loss: 7.6865 - mae: 7.6865\n",
      "Epoch 14/100\n",
      "1/1 [==============================] - 0s 16ms/step - loss: 7.0740 - mae: 7.0740\n",
      "Epoch 15/100\n",
      "1/1 [==============================] - 0s 15ms/step - loss: 6.4082 - mae: 6.4082\n",
      "Epoch 16/100\n",
      "1/1 [==============================] - 0s 9ms/step - loss: 5.6814 - mae: 5.6814\n",
      "Epoch 17/100\n",
      "1/1 [==============================] - 0s 17ms/step - loss: 4.8864 - mae: 4.8864\n",
      "Epoch 18/100\n",
      "1/1 [==============================] - 0s 14ms/step - loss: 4.1314 - mae: 4.1314\n",
      "Epoch 19/100\n",
      "1/1 [==============================] - 0s 15ms/step - loss: 4.0406 - mae: 4.0406\n",
      "Epoch 20/100\n",
      "1/1 [==============================] - 0s 8ms/step - loss: 3.9513 - mae: 3.9513\n",
      "Epoch 21/100\n",
      "1/1 [==============================] - 0s 10ms/step - loss: 3.9136 - mae: 3.9136\n",
      "Epoch 22/100\n",
      "1/1 [==============================] - 0s 16ms/step - loss: 3.9321 - mae: 3.9321\n",
      "Epoch 23/100\n",
      "1/1 [==============================] - 0s 7ms/step - loss: 3.9189 - mae: 3.9189\n",
      "Epoch 24/100\n",
      "1/1 [==============================] - 0s 15ms/step - loss: 3.9062 - mae: 3.9062\n",
      "Epoch 25/100\n",
      "1/1 [==============================] - 0s 19ms/step - loss: 3.9243 - mae: 3.9243\n",
      "Epoch 26/100\n",
      "1/1 [==============================] - 0s 12ms/step - loss: 3.8801 - mae: 3.8801\n",
      "Epoch 27/100\n",
      "1/1 [==============================] - 0s 12ms/step - loss: 3.9298 - mae: 3.9298\n",
      "Epoch 28/100\n",
      "1/1 [==============================] - 0s 24ms/step - loss: 3.8704 - mae: 3.8704\n",
      "Epoch 29/100\n",
      "1/1 [==============================] - 0s 10ms/step - loss: 3.9343 - mae: 3.9343\n",
      "Epoch 30/100\n",
      "1/1 [==============================] - 0s 18ms/step - loss: 3.8816 - mae: 3.8816\n",
      "Epoch 31/100\n",
      "1/1 [==============================] - 0s 16ms/step - loss: 3.9083 - mae: 3.9083\n",
      "Epoch 32/100\n",
      "1/1 [==============================] - 0s 14ms/step - loss: 3.8870 - mae: 3.8870\n",
      "Epoch 33/100\n",
      "1/1 [==============================] - 0s 31ms/step - loss: 3.8821 - mae: 3.8821\n",
      "Epoch 34/100\n",
      "1/1 [==============================] - 0s 26ms/step - loss: 3.8927 - mae: 3.8927\n",
      "Epoch 35/100\n",
      "1/1 [==============================] - 0s 13ms/step - loss: 3.8559 - mae: 3.8559\n",
      "Epoch 36/100\n",
      "1/1 [==============================] - 0s 6ms/step - loss: 3.9048 - mae: 3.9048\n",
      "Epoch 37/100\n",
      "1/1 [==============================] - 0s 26ms/step - loss: 3.8452 - mae: 3.8452\n",
      "Epoch 38/100\n",
      "1/1 [==============================] - 0s 8ms/step - loss: 3.9096 - mae: 3.9096\n",
      "Epoch 39/100\n",
      "1/1 [==============================] - 0s 5ms/step - loss: 3.8508 - mae: 3.8508\n",
      "Epoch 40/100\n",
      "1/1 [==============================] - 0s 15ms/step - loss: 3.8833 - mae: 3.8833\n",
      "Epoch 41/100\n",
      "1/1 [==============================] - 0s 6ms/step - loss: 3.8564 - mae: 3.8564\n",
      "Epoch 42/100\n",
      "1/1 [==============================] - 0s 23ms/step - loss: 3.8569 - mae: 3.8569\n",
      "Epoch 43/100\n",
      "1/1 [==============================] - 0s 5ms/step - loss: 3.8624 - mae: 3.8624\n",
      "Epoch 44/100\n",
      "1/1 [==============================] - 0s 10ms/step - loss: 3.8380 - mae: 3.8380\n",
      "Epoch 45/100\n",
      "1/1 [==============================] - 0s 6ms/step - loss: 3.8796 - mae: 3.8796\n",
      "Epoch 46/100\n",
      "1/1 [==============================] - 0s 11ms/step - loss: 3.8154 - mae: 3.8154\n",
      "Epoch 47/100\n",
      "1/1 [==============================] - 0s 11ms/step - loss: 3.8836 - mae: 3.8836\n",
      "Epoch 48/100\n",
      "1/1 [==============================] - 0s 15ms/step - loss: 3.8211 - mae: 3.8211\n",
      "Epoch 49/100\n",
      "1/1 [==============================] - 0s 13ms/step - loss: 3.8570 - mae: 3.8570\n",
      "Epoch 50/100\n",
      "1/1 [==============================] - 0s 19ms/step - loss: 3.8270 - mae: 3.8270\n",
      "Epoch 51/100\n",
      "1/1 [==============================] - 0s 8ms/step - loss: 3.8304 - mae: 3.8304\n",
      "Epoch 52/100\n",
      "1/1 [==============================] - 0s 10ms/step - loss: 3.8412 - mae: 3.8412\n",
      "Epoch 53/100\n",
      "1/1 [==============================] - 0s 15ms/step - loss: 3.8143 - mae: 3.8143\n",
      "Epoch 54/100\n",
      "1/1 [==============================] - 0s 10ms/step - loss: 3.8505 - mae: 3.8505\n",
      "Epoch 55/100\n",
      "1/1 [==============================] - 0s 17ms/step - loss: 3.7872 - mae: 3.7872\n",
      "Epoch 56/100\n",
      "1/1 [==============================] - 0s 7ms/step - loss: 3.8567 - mae: 3.8567\n",
      "Epoch 57/100\n",
      "1/1 [==============================] - 0s 9ms/step - loss: 3.7925 - mae: 3.7925\n",
      "Epoch 58/100\n",
      "1/1 [==============================] - 0s 17ms/step - loss: 3.8295 - mae: 3.8295\n",
      "Epoch 59/100\n",
      "1/1 [==============================] - 0s 5ms/step - loss: 3.7987 - mae: 3.7987\n",
      "Epoch 60/100\n",
      "1/1 [==============================] - 0s 17ms/step - loss: 3.8117 - mae: 3.8117\n",
      "Epoch 61/100\n",
      "1/1 [==============================] - 0s 16ms/step - loss: 3.8162 - mae: 3.8162\n",
      "Epoch 62/100\n",
      "1/1 [==============================] - 0s 16ms/step - loss: 3.7861 - mae: 3.7861\n",
      "Epoch 63/100\n",
      "1/1 [==============================] - 0s 25ms/step - loss: 3.8224 - mae: 3.8224\n",
      "Epoch 64/100\n",
      "1/1 [==============================] - 0s 4ms/step - loss: 3.7589 - mae: 3.7589\n",
      "Epoch 65/100\n",
      "1/1 [==============================] - 0s 16ms/step - loss: 3.8277 - mae: 3.8277\n",
      "Epoch 66/100\n",
      "1/1 [==============================] - 0s 4ms/step - loss: 3.7651 - mae: 3.7651\n",
      "Epoch 67/100\n",
      "1/1 [==============================] - 0s 6ms/step - loss: 3.8007 - mae: 3.8007\n",
      "Epoch 68/100\n",
      "1/1 [==============================] - 0s 15ms/step - loss: 3.7810 - mae: 3.7810\n",
      "Epoch 69/100\n",
      "1/1 [==============================] - 0s 15ms/step - loss: 3.7842 - mae: 3.7842\n",
      "Epoch 70/100\n",
      "1/1 [==============================] - 0s 9ms/step - loss: 3.7891 - mae: 3.7891\n",
      "Epoch 71/100\n",
      "1/1 [==============================] - 0s 18ms/step - loss: 3.7566 - mae: 3.7566\n",
      "Epoch 72/100\n",
      "1/1 [==============================] - 0s 9ms/step - loss: 3.7955 - mae: 3.7955\n",
      "Epoch 73/100\n",
      "1/1 [==============================] - 0s 8ms/step - loss: 3.7322 - mae: 3.7322\n",
      "Epoch 74/100\n",
      "1/1 [==============================] - 0s 5ms/step - loss: 3.7979 - mae: 3.7979\n",
      "Epoch 75/100\n",
      "1/1 [==============================] - 0s 9ms/step - loss: 3.7387 - mae: 3.7387\n",
      "Epoch 76/100\n",
      "1/1 [==============================] - 0s 9ms/step - loss: 3.7811 - mae: 3.7811\n",
      "Epoch 77/100\n",
      "1/1 [==============================] - 0s 10ms/step - loss: 3.7565 - mae: 3.7565\n",
      "Epoch 78/100\n",
      "1/1 [==============================] - 0s 15ms/step - loss: 3.7537 - mae: 3.7537\n",
      "Epoch 79/100\n",
      "1/1 [==============================] - 0s 16ms/step - loss: 3.7630 - mae: 3.7630\n",
      "Epoch 80/100\n",
      "1/1 [==============================] - 0s 12ms/step - loss: 3.7258 - mae: 3.7258\n",
      "Epoch 81/100\n",
      "1/1 [==============================] - 0s 5ms/step - loss: 3.7696 - mae: 3.7696\n",
      "Epoch 82/100\n",
      "1/1 [==============================] - 0s 6ms/step - loss: 3.7067 - mae: 3.7067\n",
      "Epoch 83/100\n",
      "1/1 [==============================] - 0s 7ms/step - loss: 3.7674 - mae: 3.7674\n",
      "Epoch 84/100\n",
      "1/1 [==============================] - 0s 15ms/step - loss: 3.7246 - mae: 3.7246\n",
      "Epoch 85/100\n",
      "1/1 [==============================] - 0s 9ms/step - loss: 3.7497 - mae: 3.7497\n",
      "Epoch 86/100\n",
      "1/1 [==============================] - 0s 6ms/step - loss: 3.7312 - mae: 3.7312\n",
      "Epoch 87/100\n",
      "1/1 [==============================] - 0s 8ms/step - loss: 3.7217 - mae: 3.7217\n",
      "Epoch 88/100\n"
     ]
    },
    {
     "name": "stdout",
     "output_type": "stream",
     "text": [
      "1/1 [==============================] - 0s 12ms/step - loss: 3.7378 - mae: 3.7378\n",
      "Epoch 89/100\n",
      "1/1 [==============================] - 0s 6ms/step - loss: 3.6936 - mae: 3.6936\n",
      "Epoch 90/100\n",
      "1/1 [==============================] - 0s 5ms/step - loss: 3.7448 - mae: 3.7448\n",
      "Epoch 91/100\n",
      "1/1 [==============================] - 0s 5ms/step - loss: 3.6832 - mae: 3.6832\n",
      "Epoch 92/100\n",
      "1/1 [==============================] - 0s 14ms/step - loss: 3.7450 - mae: 3.7450\n",
      "Epoch 93/100\n",
      "1/1 [==============================] - 0s 3ms/step - loss: 3.7001 - mae: 3.7001\n",
      "Epoch 94/100\n",
      "1/1 [==============================] - 0s 6ms/step - loss: 3.7168 - mae: 3.7168\n",
      "Epoch 95/100\n",
      "1/1 [==============================] - 0s 7ms/step - loss: 3.7068 - mae: 3.7068\n",
      "Epoch 96/100\n",
      "1/1 [==============================] - 0s 6ms/step - loss: 3.6885 - mae: 3.6885\n",
      "Epoch 97/100\n",
      "1/1 [==============================] - 0s 11ms/step - loss: 3.7138 - mae: 3.7138\n",
      "Epoch 98/100\n",
      "1/1 [==============================] - 0s 7ms/step - loss: 3.6602 - mae: 3.6602\n",
      "Epoch 99/100\n",
      "1/1 [==============================] - 0s 9ms/step - loss: 3.7224 - mae: 3.7224\n",
      "Epoch 100/100\n",
      "1/1 [==============================] - 0s 8ms/step - loss: 3.6697 - mae: 3.6697\n"
     ]
    },
    {
     "data": {
      "text/plain": [
       "<keras.callbacks.History at 0x35ba15b0>"
      ]
     },
     "execution_count": 248,
     "metadata": {},
     "output_type": "execute_result"
    }
   ],
   "source": [
    "# 1.create a model\n",
    "model = tf.keras.Sequential([\n",
    "    tf.keras.layers.Dense(100,activation = 'relu'),\n",
    "    tf.keras.layers.Dense(1)\n",
    "])\n",
    "\n",
    "# 2.compile the model\n",
    "model.compile(loss = \"mae\",\n",
    "             optimizer =tf.keras.optimizers.SGD(),\n",
    "             metrics = ['mae'])\n",
    "\n",
    "# 3.fit the model\n",
    "model.fit(X,y,epochs = 100)"
   ]
  },
  {
   "cell_type": "code",
   "execution_count": 250,
   "id": "3f1b6e25",
   "metadata": {},
   "outputs": [
    {
     "data": {
      "text/plain": [
       "array([[31.290989]], dtype=float32)"
      ]
     },
     "execution_count": 250,
     "metadata": {},
     "output_type": "execute_result"
    }
   ],
   "source": [
    "model.predict([17.0]) # this mean your model get overfitting"
   ]
  },
  {
   "cell_type": "code",
   "execution_count": 259,
   "id": "1e51908f",
   "metadata": {},
   "outputs": [
    {
     "name": "stdout",
     "output_type": "stream",
     "text": [
      "Epoch 1/100\n",
      "1/1 [==============================] - 0s 370ms/step - loss: 12.7394 - mae: 12.7394\n",
      "Epoch 2/100\n",
      "1/1 [==============================] - 0s 6ms/step - loss: 12.1187 - mae: 12.1187\n",
      "Epoch 3/100\n",
      "1/1 [==============================] - 0s 9ms/step - loss: 11.4871 - mae: 11.4871\n",
      "Epoch 4/100\n",
      "1/1 [==============================] - 0s 13ms/step - loss: 10.8530 - mae: 10.8530\n",
      "Epoch 5/100\n",
      "1/1 [==============================] - 0s 12ms/step - loss: 10.2149 - mae: 10.2149\n",
      "Epoch 6/100\n",
      "1/1 [==============================] - 0s 9ms/step - loss: 9.5717 - mae: 9.5717\n",
      "Epoch 7/100\n",
      "1/1 [==============================] - 0s 11ms/step - loss: 8.9225 - mae: 8.9225\n",
      "Epoch 8/100\n",
      "1/1 [==============================] - 0s 9ms/step - loss: 8.3697 - mae: 8.3697\n",
      "Epoch 9/100\n",
      "1/1 [==============================] - 0s 4ms/step - loss: 7.8173 - mae: 7.8173\n",
      "Epoch 10/100\n",
      "1/1 [==============================] - 0s 19ms/step - loss: 7.2520 - mae: 7.2520\n",
      "Epoch 11/100\n",
      "1/1 [==============================] - 0s 14ms/step - loss: 6.6751 - mae: 6.6751\n",
      "Epoch 12/100\n",
      "1/1 [==============================] - 0s 7ms/step - loss: 6.0837 - mae: 6.0837\n",
      "Epoch 13/100\n",
      "1/1 [==============================] - 0s 13ms/step - loss: 5.4737 - mae: 5.4737\n",
      "Epoch 14/100\n",
      "1/1 [==============================] - 0s 14ms/step - loss: 4.8446 - mae: 4.8446\n",
      "Epoch 15/100\n",
      "1/1 [==============================] - 0s 12ms/step - loss: 4.1945 - mae: 4.1945\n",
      "Epoch 16/100\n",
      "1/1 [==============================] - 0s 14ms/step - loss: 3.8516 - mae: 3.8516\n",
      "Epoch 17/100\n",
      "1/1 [==============================] - 0s 13ms/step - loss: 3.7656 - mae: 3.7656\n",
      "Epoch 18/100\n",
      "1/1 [==============================] - 0s 8ms/step - loss: 3.8821 - mae: 3.8821\n",
      "Epoch 19/100\n",
      "1/1 [==============================] - 0s 24ms/step - loss: 3.9810 - mae: 3.9810\n",
      "Epoch 20/100\n",
      "1/1 [==============================] - 0s 11ms/step - loss: 4.1658 - mae: 4.1658\n",
      "Epoch 21/100\n",
      "1/1 [==============================] - 0s 12ms/step - loss: 4.3452 - mae: 4.3452\n",
      "Epoch 22/100\n",
      "1/1 [==============================] - 0s 15ms/step - loss: 4.4534 - mae: 4.4534\n",
      "Epoch 23/100\n",
      "1/1 [==============================] - 0s 8ms/step - loss: 4.4978 - mae: 4.4978\n",
      "Epoch 24/100\n",
      "1/1 [==============================] - 0s 16ms/step - loss: 4.4863 - mae: 4.4863\n",
      "Epoch 25/100\n",
      "1/1 [==============================] - 0s 8ms/step - loss: 4.4252 - mae: 4.4252\n",
      "Epoch 26/100\n",
      "1/1 [==============================] - 0s 17ms/step - loss: 4.3232 - mae: 4.3232\n",
      "Epoch 27/100\n",
      "1/1 [==============================] - 0s 11ms/step - loss: 4.1842 - mae: 4.1842\n",
      "Epoch 28/100\n",
      "1/1 [==============================] - 0s 15ms/step - loss: 4.0142 - mae: 4.0142\n",
      "Epoch 29/100\n",
      "1/1 [==============================] - 0s 7ms/step - loss: 3.8363 - mae: 3.8363\n",
      "Epoch 30/100\n",
      "1/1 [==============================] - 0s 11ms/step - loss: 3.7562 - mae: 3.7562\n",
      "Epoch 31/100\n",
      "1/1 [==============================] - 0s 6ms/step - loss: 3.6757 - mae: 3.6757\n",
      "Epoch 32/100\n",
      "1/1 [==============================] - 0s 7ms/step - loss: 3.5942 - mae: 3.5942\n",
      "Epoch 33/100\n",
      "1/1 [==============================] - 0s 21ms/step - loss: 3.5125 - mae: 3.5125\n",
      "Epoch 34/100\n",
      "1/1 [==============================] - 0s 7ms/step - loss: 3.4302 - mae: 3.4302\n",
      "Epoch 35/100\n",
      "1/1 [==============================] - 0s 14ms/step - loss: 3.4766 - mae: 3.4766\n",
      "Epoch 36/100\n",
      "1/1 [==============================] - 0s 13ms/step - loss: 3.5096 - mae: 3.5096\n",
      "Epoch 37/100\n",
      "1/1 [==============================] - 0s 20ms/step - loss: 3.5180 - mae: 3.5180\n",
      "Epoch 38/100\n",
      "1/1 [==============================] - 0s 16ms/step - loss: 3.5090 - mae: 3.5090\n",
      "Epoch 39/100\n",
      "1/1 [==============================] - 0s 8ms/step - loss: 3.4820 - mae: 3.4820\n",
      "Epoch 40/100\n",
      "1/1 [==============================] - 0s 15ms/step - loss: 3.4384 - mae: 3.4384\n",
      "Epoch 41/100\n",
      "1/1 [==============================] - 0s 10ms/step - loss: 3.3787 - mae: 3.3787\n",
      "Epoch 42/100\n",
      "1/1 [==============================] - 0s 5ms/step - loss: 3.3036 - mae: 3.3036\n",
      "Epoch 43/100\n",
      "1/1 [==============================] - 0s 15ms/step - loss: 3.2126 - mae: 3.2126\n",
      "Epoch 44/100\n",
      "1/1 [==============================] - 0s 12ms/step - loss: 3.1097 - mae: 3.1097\n",
      "Epoch 45/100\n",
      "1/1 [==============================] - 0s 9ms/step - loss: 3.0638 - mae: 3.0638\n",
      "Epoch 46/100\n",
      "1/1 [==============================] - 0s 17ms/step - loss: 3.0940 - mae: 3.0940\n",
      "Epoch 47/100\n",
      "1/1 [==============================] - 0s 11ms/step - loss: 3.0825 - mae: 3.0825\n",
      "Epoch 48/100\n",
      "1/1 [==============================] - 0s 11ms/step - loss: 3.0270 - mae: 3.0270\n",
      "Epoch 49/100\n",
      "1/1 [==============================] - 0s 10ms/step - loss: 2.9917 - mae: 2.9917\n",
      "Epoch 50/100\n",
      "1/1 [==============================] - 0s 11ms/step - loss: 2.9486 - mae: 2.9486\n",
      "Epoch 51/100\n",
      "1/1 [==============================] - 0s 16ms/step - loss: 2.8938 - mae: 2.8938\n",
      "Epoch 52/100\n",
      "1/1 [==============================] - 0s 21ms/step - loss: 2.8348 - mae: 2.8348\n",
      "Epoch 53/100\n",
      "1/1 [==============================] - 0s 8ms/step - loss: 2.7707 - mae: 2.7707\n",
      "Epoch 54/100\n",
      "1/1 [==============================] - 0s 15ms/step - loss: 2.6994 - mae: 2.6994\n",
      "Epoch 55/100\n",
      "1/1 [==============================] - 0s 7ms/step - loss: 2.6187 - mae: 2.6187\n",
      "Epoch 56/100\n",
      "1/1 [==============================] - 0s 11ms/step - loss: 2.5700 - mae: 2.5700\n",
      "Epoch 57/100\n",
      "1/1 [==============================] - 0s 5ms/step - loss: 2.5256 - mae: 2.5256\n",
      "Epoch 58/100\n",
      "1/1 [==============================] - 0s 22ms/step - loss: 2.4545 - mae: 2.4545\n",
      "Epoch 59/100\n",
      "1/1 [==============================] - 0s 5ms/step - loss: 2.3492 - mae: 2.3492\n",
      "Epoch 60/100\n",
      "1/1 [==============================] - 0s 8ms/step - loss: 2.2420 - mae: 2.2420\n",
      "Epoch 61/100\n",
      "1/1 [==============================] - 0s 10ms/step - loss: 2.1743 - mae: 2.1743\n",
      "Epoch 62/100\n",
      "1/1 [==============================] - 0s 10ms/step - loss: 2.1095 - mae: 2.1095\n",
      "Epoch 63/100\n",
      "1/1 [==============================] - 0s 12ms/step - loss: 2.0282 - mae: 2.0282\n",
      "Epoch 64/100\n",
      "1/1 [==============================] - 0s 5ms/step - loss: 1.9350 - mae: 1.9350\n",
      "Epoch 65/100\n",
      "1/1 [==============================] - 0s 8ms/step - loss: 1.8364 - mae: 1.8364\n",
      "Epoch 66/100\n",
      "1/1 [==============================] - 0s 10ms/step - loss: 1.7295 - mae: 1.7295\n",
      "Epoch 67/100\n",
      "1/1 [==============================] - 0s 10ms/step - loss: 1.6130 - mae: 1.6130\n",
      "Epoch 68/100\n",
      "1/1 [==============================] - 0s 15ms/step - loss: 1.4778 - mae: 1.4778\n",
      "Epoch 69/100\n",
      "1/1 [==============================] - 0s 6ms/step - loss: 1.3482 - mae: 1.3482\n",
      "Epoch 70/100\n",
      "1/1 [==============================] - 0s 8ms/step - loss: 1.2254 - mae: 1.2254\n",
      "Epoch 71/100\n",
      "1/1 [==============================] - 0s 10ms/step - loss: 1.0879 - mae: 1.0879\n",
      "Epoch 72/100\n",
      "1/1 [==============================] - 0s 8ms/step - loss: 0.9791 - mae: 0.9791\n",
      "Epoch 73/100\n",
      "1/1 [==============================] - 0s 4ms/step - loss: 0.8748 - mae: 0.8748\n",
      "Epoch 74/100\n",
      "1/1 [==============================] - 0s 6ms/step - loss: 0.7542 - mae: 0.7542\n",
      "Epoch 75/100\n",
      "1/1 [==============================] - 0s 8ms/step - loss: 0.6169 - mae: 0.6169\n",
      "Epoch 76/100\n",
      "1/1 [==============================] - 0s 5ms/step - loss: 0.4816 - mae: 0.4816\n",
      "Epoch 77/100\n",
      "1/1 [==============================] - 0s 7ms/step - loss: 0.3466 - mae: 0.3466\n",
      "Epoch 78/100\n",
      "1/1 [==============================] - 0s 4ms/step - loss: 0.2962 - mae: 0.2962\n",
      "Epoch 79/100\n",
      "1/1 [==============================] - 0s 4ms/step - loss: 0.2314 - mae: 0.2314\n",
      "Epoch 80/100\n",
      "1/1 [==============================] - 0s 8ms/step - loss: 0.2785 - mae: 0.2785\n",
      "Epoch 81/100\n",
      "1/1 [==============================] - 0s 4ms/step - loss: 0.3478 - mae: 0.3478\n",
      "Epoch 82/100\n",
      "1/1 [==============================] - 0s 11ms/step - loss: 0.2976 - mae: 0.2976\n",
      "Epoch 83/100\n",
      "1/1 [==============================] - 0s 13ms/step - loss: 0.3753 - mae: 0.3753\n",
      "Epoch 84/100\n",
      "1/1 [==============================] - 0s 5ms/step - loss: 0.3335 - mae: 0.3335\n",
      "Epoch 85/100\n",
      "1/1 [==============================] - 0s 9ms/step - loss: 0.3628 - mae: 0.3628\n",
      "Epoch 86/100\n",
      "1/1 [==============================] - 0s 5ms/step - loss: 0.3449 - mae: 0.3449\n",
      "Epoch 87/100\n",
      "1/1 [==============================] - 0s 8ms/step - loss: 0.3081 - mae: 0.3081\n",
      "Epoch 88/100\n"
     ]
    },
    {
     "name": "stdout",
     "output_type": "stream",
     "text": [
      "1/1 [==============================] - 0s 11ms/step - loss: 0.2848 - mae: 0.2848\n",
      "Epoch 89/100\n",
      "1/1 [==============================] - 0s 9ms/step - loss: 0.2717 - mae: 0.2717\n",
      "Epoch 90/100\n",
      "1/1 [==============================] - 0s 5ms/step - loss: 0.2668 - mae: 0.2668\n",
      "Epoch 91/100\n",
      "1/1 [==============================] - 0s 8ms/step - loss: 0.2117 - mae: 0.2117\n",
      "Epoch 92/100\n",
      "1/1 [==============================] - 0s 7ms/step - loss: 0.2340 - mae: 0.2340\n",
      "Epoch 93/100\n",
      "1/1 [==============================] - 0s 9ms/step - loss: 0.1688 - mae: 0.1688\n",
      "Epoch 94/100\n",
      "1/1 [==============================] - 0s 4ms/step - loss: 0.1406 - mae: 0.1406\n",
      "Epoch 95/100\n",
      "1/1 [==============================] - 0s 5ms/step - loss: 0.2873 - mae: 0.2873\n",
      "Epoch 96/100\n",
      "1/1 [==============================] - 0s 8ms/step - loss: 0.2195 - mae: 0.2195\n",
      "Epoch 97/100\n",
      "1/1 [==============================] - 0s 5ms/step - loss: 0.2447 - mae: 0.2447\n",
      "Epoch 98/100\n",
      "1/1 [==============================] - 0s 9ms/step - loss: 0.2548 - mae: 0.2548\n",
      "Epoch 99/100\n",
      "1/1 [==============================] - 0s 10ms/step - loss: 0.1926 - mae: 0.1926\n",
      "Epoch 100/100\n",
      "1/1 [==============================] - 0s 4ms/step - loss: 0.1923 - mae: 0.1923\n"
     ]
    },
    {
     "data": {
      "text/plain": [
       "<keras.callbacks.History at 0x36cba670>"
      ]
     },
     "execution_count": 259,
     "metadata": {},
     "output_type": "execute_result"
    }
   ],
   "source": [
    "# 1.create a model\n",
    "model = tf.keras.Sequential([\n",
    "    tf.keras.layers.Dense(50,activation = 'relu'),\n",
    "    tf.keras.layers.Dense(1)\n",
    "])\n",
    "\n",
    "# 2.compile the model\n",
    "model.compile(loss = \"mae\",\n",
    "             optimizer =tf.keras.optimizers.Adam(learning_rate = 0.01),\n",
    "             metrics = ['mae'])\n",
    "\n",
    "# 3.fit the model\n",
    "model.fit(X,y,epochs = 100)"
   ]
  },
  {
   "cell_type": "code",
   "execution_count": 260,
   "id": "df5b3f1a",
   "metadata": {},
   "outputs": [
    {
     "data": {
      "text/plain": [
       "array([[26.805319]], dtype=float32)"
      ]
     },
     "execution_count": 260,
     "metadata": {},
     "output_type": "execute_result"
    }
   ],
   "source": [
    "model.predict([17.0])"
   ]
  },
  {
   "cell_type": "code",
   "execution_count": 261,
   "id": "0f333bae",
   "metadata": {},
   "outputs": [
    {
     "name": "stdout",
     "output_type": "stream",
     "text": [
      "Model: \"sequential_48\"\n",
      "_________________________________________________________________\n",
      " Layer (type)                Output Shape              Param #   \n",
      "=================================================================\n",
      " dense_68 (Dense)            (None, 50)                100       \n",
      "                                                                 \n",
      " dense_69 (Dense)            (None, 1)                 51        \n",
      "                                                                 \n",
      "=================================================================\n",
      "Total params: 151\n",
      "Trainable params: 151\n",
      "Non-trainable params: 0\n",
      "_________________________________________________________________\n"
     ]
    }
   ],
   "source": [
    "model.summary()"
   ]
  },
  {
   "cell_type": "code",
   "execution_count": 262,
   "id": "3b749c4f",
   "metadata": {},
   "outputs": [
    {
     "data": {
      "text/plain": [
       "[<tf.Variable 'dense_68/kernel:0' shape=(1, 50) dtype=float32, numpy=\n",
       " array([[ 0.40940237,  0.1158734 , -0.11742507,  0.0202668 ,  0.06121049,\n",
       "          0.04923779,  0.24481967,  0.02810549,  0.07467724,  0.24582566,\n",
       "         -0.0229346 ,  0.08465689,  0.02267373, -0.3329197 , -0.26158887,\n",
       "          0.0750986 , -0.18727313,  0.33743015,  0.10217839, -0.222123  ,\n",
       "          0.02389804,  0.31678537, -0.03114722,  0.10372727,  0.3747606 ,\n",
       "          0.23437032,  0.2451021 , -0.26397002,  0.3226201 , -0.09567455,\n",
       "          0.00164179, -0.05614321, -0.00311675,  0.01412919, -0.05038559,\n",
       "          0.01315848, -0.04970476,  0.04567488, -0.24667121, -0.30753434,\n",
       "          0.02129273, -0.0181615 ,  0.10866207, -0.03904265, -0.02610854,\n",
       "         -0.24127191, -0.04223955,  0.21578991, -0.01698329, -0.01792624]],\n",
       "       dtype=float32)>,\n",
       " <tf.Variable 'dense_68/bias:0' shape=(50,) dtype=float32, numpy=\n",
       " array([ 0.4944562 ,  0.6383329 , -0.2520675 ,  0.8303946 ,  0.6738124 ,\n",
       "         0.7042203 ,  0.5653157 ,  0.5109521 ,  0.69264   ,  0.607725  ,\n",
       "        -0.23771243, -0.24567398, -0.15520167, -0.36266232, -0.28682712,\n",
       "         0.6567663 , -0.18148953,  0.5248728 , -0.28009787, -0.25442258,\n",
       "         0.83822656,  0.52962816,  0.9690615 ,  0.6618006 ,  0.52678126,\n",
       "         0.5599074 , -0.42437547, -0.2962921 ,  0.5394987 , -0.25366938,\n",
       "        -0.16302994,  0.85727024, -0.12124567,  0.76818013,  0.8974047 ,\n",
       "         0.5283408 , -0.21818033,  0.8219938 ,  0.7490048 , -0.2927515 ,\n",
       "         0.77496177,  0.8285432 ,  0.64019215, -0.17090821, -0.21485843,\n",
       "         0.6847994 ,  0.80986834,  0.5629322 ,  0.93435264,  0.70400316],\n",
       "       dtype=float32)>,\n",
       " <tf.Variable 'dense_69/kernel:0' shape=(50, 1) dtype=float32, numpy=\n",
       " array([[ 0.43442705],\n",
       "        [ 0.31149542],\n",
       "        [-0.17205697],\n",
       "        [ 0.54933006],\n",
       "        [ 0.42499554],\n",
       "        [ 0.3006859 ],\n",
       "        [ 0.34642926],\n",
       "        [ 0.10991846],\n",
       "        [ 0.19317885],\n",
       "        [ 0.13618067],\n",
       "        [ 0.04409596],\n",
       "        [-0.05176343],\n",
       "        [ 0.00933973],\n",
       "        [-0.34564155],\n",
       "        [-0.28464413],\n",
       "        [ 0.43431032],\n",
       "        [-0.588867  ],\n",
       "        [ 0.41845888],\n",
       "        [-0.16892041],\n",
       "        [-0.47931007],\n",
       "        [ 0.4725958 ],\n",
       "        [ 0.44592088],\n",
       "        [ 0.51770437],\n",
       "        [ 0.23427014],\n",
       "        [ 0.30075088],\n",
       "        [ 0.45119086],\n",
       "        [-0.3841399 ],\n",
       "        [-0.366856  ],\n",
       "        [ 0.329243  ],\n",
       "        [-0.10143495],\n",
       "        [ 0.03155478],\n",
       "        [ 0.5953407 ],\n",
       "        [ 0.01115603],\n",
       "        [ 0.5820405 ],\n",
       "        [ 0.67571366],\n",
       "        [ 0.1330823 ],\n",
       "        [-0.01370996],\n",
       "        [ 0.42419863],\n",
       "        [ 0.16292912],\n",
       "        [-0.680156  ],\n",
       "        [ 0.54182696],\n",
       "        [ 0.6308888 ],\n",
       "        [ 0.3334879 ],\n",
       "        [-0.0347638 ],\n",
       "        [ 0.06717502],\n",
       "        [ 0.31363502],\n",
       "        [ 0.7620139 ],\n",
       "        [ 0.4601323 ],\n",
       "        [ 0.731769  ],\n",
       "        [ 0.24364692]], dtype=float32)>,\n",
       " <tf.Variable 'dense_69/bias:0' shape=(1,) dtype=float32, numpy=array([0.5409145], dtype=float32)>]"
      ]
     },
     "execution_count": 262,
     "metadata": {},
     "output_type": "execute_result"
    }
   ],
   "source": [
    "model.weights"
   ]
  },
  {
   "cell_type": "markdown",
   "id": "cb44ea38",
   "metadata": {},
   "source": [
    "## Evaluating model\n",
    "\n",
    "In pratice, a typical workflow you will go throught when building neural networks is:\n",
    "\n",
    "```\n",
    "Build a model -> fit it -> evaluate it -> tweak a model -> fit it -> evaluate it -> tweak a model -> fit it  -> evalue it...\n",
    "```\n",
    "\n",
    "When i come to evaluation... there is 3 words you shoiuld memorize:\n",
    "\n",
    "```Visualize, visualize, visualize```\n",
    "\n",
    "It is a good idea to visualize:\n",
    "\n",
    "* The data - what data are we working with? What does it look like?\n",
    "\n",
    "* The model ifself - what does model look like?\n",
    "\n",
    "* The training of a model - how does a model perform while it learn?\n",
    "\n",
    "* The predictions of model - how do the predictions of a model line up against the ground truth ( the original labels )"
   ]
  },
  {
   "cell_type": "code",
   "execution_count": 264,
   "id": "e90634e7",
   "metadata": {},
   "outputs": [
    {
     "data": {
      "text/plain": [
       "<tf.Tensor: shape=(50,), dtype=int32, numpy=\n",
       "array([-100,  -96,  -92,  -88,  -84,  -80,  -76,  -72,  -68,  -64,  -60,\n",
       "        -56,  -52,  -48,  -44,  -40,  -36,  -32,  -28,  -24,  -20,  -16,\n",
       "        -12,   -8,   -4,    0,    4,    8,   12,   16,   20,   24,   28,\n",
       "         32,   36,   40,   44,   48,   52,   56,   60,   64,   68,   72,\n",
       "         76,   80,   84,   88,   92,   96])>"
      ]
     },
     "execution_count": 264,
     "metadata": {},
     "output_type": "execute_result"
    }
   ],
   "source": [
    "# Make a gibber dataset\n",
    "X = tf.range(-100,100,4)\n",
    "X"
   ]
  },
  {
   "cell_type": "code",
   "execution_count": 267,
   "id": "f5869253",
   "metadata": {},
   "outputs": [
    {
     "data": {
      "text/plain": [
       "<tf.Tensor: shape=(50,), dtype=int32, numpy=\n",
       "array([-90, -86, -82, -78, -74, -70, -66, -62, -58, -54, -50, -46, -42,\n",
       "       -38, -34, -30, -26, -22, -18, -14, -10,  -6,  -2,   2,   6,  10,\n",
       "        14,  18,  22,  26,  30,  34,  38,  42,  46,  50,  54,  58,  62,\n",
       "        66,  70,  74,  78,  82,  86,  90,  94,  98, 102, 106])>"
      ]
     },
     "execution_count": 267,
     "metadata": {},
     "output_type": "execute_result"
    }
   ],
   "source": [
    "# Make label for the dataset\n",
    "y = X + 10\n",
    "y"
   ]
  },
  {
   "cell_type": "code",
   "execution_count": 270,
   "id": "85c39037",
   "metadata": {},
   "outputs": [
    {
     "ename": "TypeError",
     "evalue": "title() missing 1 required positional argument: 'label'",
     "output_type": "error",
     "traceback": [
      "\u001b[1;31m---------------------------------------------------------------------------\u001b[0m",
      "\u001b[1;31mTypeError\u001b[0m                                 Traceback (most recent call last)",
      "\u001b[1;32m<ipython-input-270-7ff6244091a7>\u001b[0m in \u001b[0;36m<module>\u001b[1;34m\u001b[0m\n\u001b[0;32m      3\u001b[0m \u001b[0mplt\u001b[0m\u001b[1;33m.\u001b[0m\u001b[0mxlabel\u001b[0m\u001b[1;33m(\u001b[0m\u001b[1;34m\"\"\u001b[0m\u001b[1;33m)\u001b[0m\u001b[1;33m\u001b[0m\u001b[1;33m\u001b[0m\u001b[0m\n\u001b[0;32m      4\u001b[0m \u001b[0mplt\u001b[0m\u001b[1;33m.\u001b[0m\u001b[0mylabel\u001b[0m\u001b[1;33m(\u001b[0m\u001b[1;34m\"\"\u001b[0m\u001b[1;33m)\u001b[0m\u001b[1;33m\u001b[0m\u001b[1;33m\u001b[0m\u001b[0m\n\u001b[1;32m----> 5\u001b[1;33m \u001b[0mplt\u001b[0m\u001b[1;33m.\u001b[0m\u001b[0mtitle\u001b[0m\u001b[1;33m(\u001b[0m\u001b[1;33m)\u001b[0m\u001b[1;33m\u001b[0m\u001b[1;33m\u001b[0m\u001b[0m\n\u001b[0m",
      "\u001b[1;31mTypeError\u001b[0m: title() missing 1 required positional argument: 'label'"
     ]
    },
    {
     "data": {
      "image/png": "[encoded data removed]",
      "text/plain": [
       "<Figure size 432x288 with 1 Axes>"
      ]
     },
     "metadata": {
      "needs_background": "light"
     },
     "output_type": "display_data"
    }
   ],
   "source": [
    "# Visualize the data\n",
    "plt.scatter(X,y)\n",
    "plt.xlabel(\"\")\n",
    "plt.ylabel(\"\")\n",
    "plt.title(\"\")"
   ]
  },
  {
   "cell_type": "markdown",
   "id": "53b83f5c",
   "metadata": {},
   "source": [
    "## The 3 datasets...\n",
    "\n",
    "* **Training set** - the model learns from this data,which is typycally **70-80%** of the total data you have available.\n",
    "\n",
    "* **Validation set** - the model gets tuned on this data, this is typically **10-15%** of data available.\n",
    "\n",
    "* **Test set** - the model gets evaluated on this data to test what is has learned, this set is typycally **10-15%** of the total data available."
   ]
  },
  {
   "cell_type": "code",
   "execution_count": 271,
   "id": "63464542",
   "metadata": {},
   "outputs": [
    {
     "data": {
      "text/plain": [
       "50"
      ]
     },
     "execution_count": 271,
     "metadata": {},
     "output_type": "execute_result"
    }
   ],
   "source": [
    "# Check the lenght of how many samples we have\n",
    "len(X)"
   ]
  },
  {
   "cell_type": "code",
   "execution_count": 273,
   "id": "95ca65d4",
   "metadata": {},
   "outputs": [
    {
     "data": {
      "text/plain": [
       "(40, 10)"
      ]
     },
     "execution_count": 273,
     "metadata": {},
     "output_type": "execute_result"
    }
   ],
   "source": [
    "# Split the  data into train and test sets\n",
    "X_train = X[:40] # first 40 are training samples (80% of the data)\n",
    "y_train = y[:40]\n",
    "\n",
    "X_test = X[40:] # last 10 are testing samples (20% of the data)\n",
    "y_test = y[40:]\n",
    "\n",
    "len(X_train),len(X_test)"
   ]
  },
  {
   "cell_type": "markdown",
   "id": "3877a738",
   "metadata": {},
   "source": [
    "## Visualing the data\n",
    "Now we've got our data training and test sets... let's visualize it again\n"
   ]
  },
  {
   "cell_type": "code",
   "execution_count": 275,
   "id": "c92a55a0",
   "metadata": {},
   "outputs": [
    {
     "data": {
      "text/plain": [
       "<matplotlib.legend.Legend at 0x3b233ee0>"
      ]
     },
     "execution_count": 275,
     "metadata": {},
     "output_type": "execute_result"
    },
    {
     "data": {
      "image/png": "[encoded data removed]",
      "text/plain": [
       "<Figure size 720x504 with 1 Axes>"
      ]
     },
     "metadata": {
      "needs_background": "light"
     },
     "output_type": "display_data"
    }
   ],
   "source": [
    "plt.figure(figsize = (10,7))\n",
    "# plot training data in blue\n",
    "plt.scatter(X_train,y_train,c = 'b', label = 'Training data') # our model will learn from this data\n",
    "# plor test data in green\n",
    "plt.scatter(X_test,y_test,c = 'g',label = 'Testing data') # want your model to predict this (given X, what is y)\n",
    "# give your plot a name\n",
    "plt.title(\"visualize, visualize, visualize\")\n",
    "# Show a legend\n",
    "plt.legend()"
   ]
  },
  {
   "cell_type": "code",
   "execution_count": null,
   "id": "cd48e6bf",
   "metadata": {},
   "outputs": [],
   "source": [
    "# Let have a look at how to build  a neural network for our data\n",
    "\n",
    "#1./ Create a model\n",
    "model = tf.keras.Sequential([\n",
    "    tf.keras.layers.Dense(1)\n",
    "])\n",
    "\n",
    "#2./ Compile the model\n",
    "model.compile(loss = tf.keras.losses.mae,\n",
    "             optimizer = tf.keras.optimizers.SGD(),\n",
    "             metrics= ['mae'])\n",
    "\n",
    "#3./ Fit the model\n",
    "#model.fit(X_train,y_train,epochs= 100)"
   ]
  },
  {
   "cell_type": "markdown",
   "id": "a53e9eaf",
   "metadata": {},
   "source": [
    "## Visualing the model"
   ]
  },
  {
   "cell_type": "code",
   "execution_count": 276,
   "id": "b075e6e6",
   "metadata": {},
   "outputs": [],
   "source": [
    "# Let build your model first\n",
    "model.build()"
   ]
  },
  {
   "cell_type": "code",
   "execution_count": 277,
   "id": "028e3b65",
   "metadata": {},
   "outputs": [
    {
     "name": "stdout",
     "output_type": "stream",
     "text": [
      "Model: \"sequential_48\"\n",
      "_________________________________________________________________\n",
      " Layer (type)                Output Shape              Param #   \n",
      "=================================================================\n",
      " dense_68 (Dense)            (None, 50)                100       \n",
      "                                                                 \n",
      " dense_69 (Dense)            (None, 1)                 51        \n",
      "                                                                 \n",
      "=================================================================\n",
      "Total params: 151\n",
      "Trainable params: 151\n",
      "Non-trainable params: 0\n",
      "_________________________________________________________________\n"
     ]
    }
   ],
   "source": [
    "model.summary()"
   ]
  },
  {
   "cell_type": "code",
   "execution_count": 286,
   "id": "4ace35e5",
   "metadata": {},
   "outputs": [],
   "source": [
    "# Let's create a model which builds automatically by defining the input_shape argument in the first layer\n",
    "tf.random.set_seed(42)\n",
    "\n",
    "# Create a model (same as above)\n",
    "model = tf.keras.Sequential([\n",
    "    tf.keras.layers.Dense(1,input_shape = [1])\n",
    "])\n",
    "\n",
    "# Compile the model\n",
    "model.compile(loss = tf.keras.losses.mae,\n",
    "             optimizer = tf.keras.optimizers.SGD(),\n",
    "             metrics = ['mae'])\n"
   ]
  },
  {
   "cell_type": "code",
   "execution_count": 287,
   "id": "1df1f134",
   "metadata": {},
   "outputs": [
    {
     "name": "stdout",
     "output_type": "stream",
     "text": [
      "Model: \"sequential_50\"\n",
      "_________________________________________________________________\n",
      " Layer (type)                Output Shape              Param #   \n",
      "=================================================================\n",
      " dense_71 (Dense)            (None, 1)                 2         \n",
      "                                                                 \n",
      "=================================================================\n",
      "Total params: 2\n",
      "Trainable params: 2\n",
      "Non-trainable params: 0\n",
      "_________________________________________________________________\n"
     ]
    }
   ],
   "source": [
    "model.summary()"
   ]
  },
  {
   "cell_type": "markdown",
   "id": "cc411eb3",
   "metadata": {},
   "source": [
    "* Total params - total number of parameters in the model\n",
    "* Trainable parameters -these are parameters (patterns) the model can update as it trains.\n",
    "* Non-trainabke params - these parameters aren't updated during training (this is typical when you bring in already learn patterns or parameters from other models during **transfer learning**)"
   ]
  },
  {
   "cell_type": "code",
   "execution_count": 288,
   "id": "94904255",
   "metadata": {},
   "outputs": [
    {
     "data": {
      "text/plain": [
       "<keras.callbacks.History at 0x3b2b86a0>"
      ]
     },
     "execution_count": 288,
     "metadata": {},
     "output_type": "execute_result"
    }
   ],
   "source": [
    "# Let fit the model into training data\n",
    "model.fit(X_train,y_train,epochs = 100,verbose =0)"
   ]
  },
  {
   "cell_type": "code",
   "execution_count": null,
   "id": "1bef59c4",
   "metadata": {},
   "outputs": [],
   "source": []
  }
 ],
 "metadata": {
  "kernelspec": {
   "display_name": "Python 3",
   "language": "python",
   "name": "python3"
  },
  "language_info": {
   "codemirror_mode": {
    "name": "ipython",
    "version": 3
   },
   "file_extension": ".py",
   "mimetype": "text/x-python",
   "name": "python",
   "nbconvert_exporter": "python",
   "pygments_lexer": "ipython3",
   "version": "3.8.8"
  }
 },
 "nbformat": 4,
 "nbformat_minor": 5
}
