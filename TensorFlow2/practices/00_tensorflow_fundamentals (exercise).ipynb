{
 "cells": [
  {
   "cell_type": "code",
   "execution_count": 20,
   "id": "90e8719c",
   "metadata": {},
   "outputs": [],
   "source": [
    "import tensorflow as tf\n",
    "import numpy as np"
   ]
  },
  {
   "cell_type": "markdown",
   "id": "50c95ef0",
   "metadata": {},
   "source": [
    "1/ Create a vector, scalar, matrix and tensor with values of your choosing using tf.constant()."
   ]
  },
  {
   "cell_type": "code",
   "execution_count": 13,
   "id": "b40dd54c",
   "metadata": {},
   "outputs": [],
   "source": [
    "scalar = tf.constant(1)\n",
    "vector = tf.constant([1,2])\n",
    "matrix = tf.constant([[1,2],[3,4]])\n",
    "tensor = tf.constant([[[1,2],[3,4]],\n",
    "                      [[5,6],[7,8]]])"
   ]
  },
  {
   "cell_type": "markdown",
   "id": "45d4bfad",
   "metadata": {},
   "source": [
    "2/ Find the shape, rank and size of the tensors you created in 1."
   ]
  },
  {
   "cell_type": "code",
   "execution_count": 16,
   "id": "f540f8ed",
   "metadata": {},
   "outputs": [
    {
     "name": "stdout",
     "output_type": "stream",
     "text": [
      "0\n",
      "()\n",
      "tf.Tensor(1, shape=(), dtype=int32)\n"
     ]
    }
   ],
   "source": [
    "print(scalar.ndim)\n",
    "print(scalar.shape)\n",
    "print(tf.size(scalar))"
   ]
  },
  {
   "cell_type": "code",
   "execution_count": 17,
   "id": "0fd0702f",
   "metadata": {},
   "outputs": [
    {
     "name": "stdout",
     "output_type": "stream",
     "text": [
      "1\n",
      "(2,)\n",
      "tf.Tensor(2, shape=(), dtype=int32)\n"
     ]
    }
   ],
   "source": [
    "print(vector.ndim)\n",
    "print(vector.shape)\n",
    "print(tf.size(vector))"
   ]
  },
  {
   "cell_type": "code",
   "execution_count": 18,
   "id": "4d2babd7",
   "metadata": {},
   "outputs": [
    {
     "name": "stdout",
     "output_type": "stream",
     "text": [
      "2\n",
      "(2, 2)\n",
      "tf.Tensor(4, shape=(), dtype=int32)\n"
     ]
    }
   ],
   "source": [
    "print(matrix.ndim)\n",
    "print(matrix.shape)\n",
    "print(tf.size(matrix))"
   ]
  },
  {
   "cell_type": "code",
   "execution_count": 19,
   "id": "521636c1",
   "metadata": {},
   "outputs": [
    {
     "name": "stdout",
     "output_type": "stream",
     "text": [
      "3\n",
      "(2, 2, 2)\n",
      "tf.Tensor(8, shape=(), dtype=int32)\n"
     ]
    }
   ],
   "source": [
    "print(tensor.ndim)\n",
    "print(tensor.shape)\n",
    "print(tf.size(tensor))"
   ]
  },
  {
   "cell_type": "markdown",
   "id": "6c0796d8",
   "metadata": {},
   "source": [
    "3/ Create two tensors containing random values between 0 and 1 with shape [5, 300].\n"
   ]
  },
  {
   "cell_type": "code",
   "execution_count": 25,
   "id": "6ae08601",
   "metadata": {},
   "outputs": [],
   "source": [
    "np1 = np.random.randint(2,size = 1500)\n",
    "np2 = np.random.randint(2,size = 1500)\n",
    "\n",
    "t1 = tf.constant(np1,shape = (5,300))\n",
    "t2 = tf.constant(np2,shape = (5,300))"
   ]
  },
  {
   "cell_type": "code",
   "execution_count": 27,
   "id": "df0f653d",
   "metadata": {},
   "outputs": [
    {
     "data": {
      "text/plain": [
       "<tf.Tensor: shape=(5, 300), dtype=int32, numpy=\n",
       "array([[1, 1, 0, ..., 0, 1, 1],\n",
       "       [0, 0, 0, ..., 0, 0, 0],\n",
       "       [0, 1, 1, ..., 0, 1, 1],\n",
       "       [0, 1, 1, ..., 0, 1, 1],\n",
       "       [1, 0, 0, ..., 0, 1, 1]])>"
      ]
     },
     "execution_count": 27,
     "metadata": {},
     "output_type": "execute_result"
    }
   ],
   "source": [
    "t1"
   ]
  },
  {
   "cell_type": "markdown",
   "id": "3a7864e1",
   "metadata": {},
   "source": [
    "4/ Multiply the two tensors you created in 3 using matrix multiplication."
   ]
  },
  {
   "cell_type": "code",
   "execution_count": 29,
   "id": "72e9ef8f",
   "metadata": {},
   "outputs": [
    {
     "data": {
      "text/plain": [
       "<tf.Tensor: shape=(5, 5), dtype=int32, numpy=\n",
       "array([[72, 65, 75, 69, 75],\n",
       "       [78, 65, 74, 74, 79],\n",
       "       [77, 69, 85, 72, 83],\n",
       "       [74, 63, 71, 65, 83],\n",
       "       [78, 67, 73, 63, 76]])>"
      ]
     },
     "execution_count": 29,
     "metadata": {},
     "output_type": "execute_result"
    }
   ],
   "source": [
    "tf.matmul(t1,tf.transpose(t2))"
   ]
  },
  {
   "cell_type": "markdown",
   "id": "6523fd1d",
   "metadata": {},
   "source": [
    "5/ Multiply the two tensors you created in 3 using dot product."
   ]
  },
  {
   "cell_type": "code",
   "execution_count": 31,
   "id": "a473d11e",
   "metadata": {},
   "outputs": [
    {
     "data": {
      "text/plain": [
       "<tf.Tensor: shape=(5, 5), dtype=int32, numpy=\n",
       "array([[72, 65, 75, 69, 75],\n",
       "       [78, 65, 74, 74, 79],\n",
       "       [77, 69, 85, 72, 83],\n",
       "       [74, 63, 71, 65, 83],\n",
       "       [78, 67, 73, 63, 76]])>"
      ]
     },
     "execution_count": 31,
     "metadata": {},
     "output_type": "execute_result"
    }
   ],
   "source": [
    "tf.tensordot(t1,tf.transpose(t2),axes = 1)"
   ]
  },
  {
   "cell_type": "markdown",
   "id": "296972de",
   "metadata": {},
   "source": [
    "6/ Create a tensor with random values between 0 and 1 with shape [224, 224, 3]."
   ]
  },
  {
   "cell_type": "code",
   "execution_count": 36,
   "id": "8582975d",
   "metadata": {},
   "outputs": [
    {
     "data": {
      "text/plain": [
       "<tf.Tensor: shape=(244, 244, 3), dtype=float32, numpy=\n",
       "array([[[0.7493447 , 0.73561966, 0.45230794],\n",
       "        [0.49039817, 0.1889317 , 0.52027524],\n",
       "        [0.8736881 , 0.46921718, 0.63932586],\n",
       "        ...,\n",
       "        [0.5262728 , 0.81607926, 0.19863963],\n",
       "        [0.12317097, 0.5962993 , 0.07343638],\n",
       "        [0.18146193, 0.26921892, 0.71201587]],\n",
       "\n",
       "       [[0.31422472, 0.15571809, 0.59350574],\n",
       "        [0.21187031, 0.06828582, 0.6658218 ],\n",
       "        [0.02978647, 0.07853341, 0.4606458 ],\n",
       "        ...,\n",
       "        [0.06088531, 0.46336675, 0.7801064 ],\n",
       "        [0.9507414 , 0.5222603 , 0.3588164 ],\n",
       "        [0.81559753, 0.8372953 , 0.12298954]],\n",
       "\n",
       "       [[0.7429452 , 0.4534787 , 0.17754185],\n",
       "        [0.40219545, 0.45187676, 0.04423535],\n",
       "        [0.03875005, 0.95273983, 0.84132195],\n",
       "        ...,\n",
       "        [0.7266562 , 0.01516867, 0.62724495],\n",
       "        [0.18723834, 0.26536012, 0.63592315],\n",
       "        [0.40533996, 0.5552931 , 0.44928002]],\n",
       "\n",
       "       ...,\n",
       "\n",
       "       [[0.9760084 , 0.2899176 , 0.12237167],\n",
       "        [0.2647997 , 0.9881208 , 0.7136017 ],\n",
       "        [0.88088405, 0.1396563 , 0.02189076],\n",
       "        ...,\n",
       "        [0.33478892, 0.26934338, 0.6283139 ],\n",
       "        [0.00473845, 0.3617512 , 0.15085459],\n",
       "        [0.15258598, 0.7028359 , 0.28134906]],\n",
       "\n",
       "       [[0.55643415, 0.7317904 , 0.79555047],\n",
       "        [0.06482732, 0.27438426, 0.1429267 ],\n",
       "        [0.8335055 , 0.5034218 , 0.35273266],\n",
       "        ...,\n",
       "        [0.10078299, 0.9695635 , 0.8775774 ],\n",
       "        [0.23087442, 0.37443817, 0.418571  ],\n",
       "        [0.76223016, 0.26921868, 0.61302805]],\n",
       "\n",
       "       [[0.64674795, 0.2626307 , 0.35175347],\n",
       "        [0.5849911 , 0.5664408 , 0.9868791 ],\n",
       "        [0.38852143, 0.19884121, 0.05287552],\n",
       "        ...,\n",
       "        [0.29975843, 0.74218476, 0.98649645],\n",
       "        [0.6299349 , 0.42634916, 0.7744427 ],\n",
       "        [0.18645346, 0.29052508, 0.590199  ]]], dtype=float32)>"
      ]
     },
     "execution_count": 36,
     "metadata": {},
     "output_type": "execute_result"
    }
   ],
   "source": [
    "rand = tf.random.Generator.from_seed(42)\n",
    "tensor = rand.uniform(minval = 0,maxval = 1, shape = (244,244,3))\n",
    "tensor"
   ]
  },
  {
   "cell_type": "markdown",
   "id": "3efc45ba",
   "metadata": {},
   "source": [
    "7/ Find the min and max values of the tensor you created in 6 along the first axis."
   ]
  },
  {
   "cell_type": "code",
   "execution_count": 37,
   "id": "b8329b78",
   "metadata": {},
   "outputs": [
    {
     "data": {
      "text/plain": [
       "<tf.Tensor: shape=(), dtype=float32, numpy=4.053116e-06>"
      ]
     },
     "execution_count": 37,
     "metadata": {},
     "output_type": "execute_result"
    }
   ],
   "source": [
    "min = tf.reduce_min(tensor)\n",
    "min"
   ]
  },
  {
   "cell_type": "code",
   "execution_count": 38,
   "id": "56b7841c",
   "metadata": {},
   "outputs": [
    {
     "data": {
      "text/plain": [
       "<tf.Tensor: shape=(), dtype=float32, numpy=4.053116e-06>"
      ]
     },
     "execution_count": 38,
     "metadata": {},
     "output_type": "execute_result"
    }
   ],
   "source": [
    "max = tf.reduce_min(tensor)\n",
    "max"
   ]
  },
  {
   "cell_type": "markdown",
   "id": "85345db8",
   "metadata": {},
   "source": [
    "8/ Created a tensor with random values of shape [1, 224, 224, 3] then squeeze it to change the shape to [224, 224, 3]."
   ]
  },
  {
   "cell_type": "code",
   "execution_count": 39,
   "id": "472c6921",
   "metadata": {},
   "outputs": [
    {
     "data": {
      "text/plain": [
       "<tf.Tensor: shape=(1, 244, 244, 3), dtype=float32, numpy=\n",
       "array([[[[0.16513085, 0.9014813 , 0.6309742 ],\n",
       "         [0.4345461 , 0.29193902, 0.64250207],\n",
       "         [0.9757855 , 0.43509948, 0.6601019 ],\n",
       "         ...,\n",
       "         [0.46882296, 0.78068674, 0.253474  ],\n",
       "         [0.03136981, 0.464054  , 0.10266209],\n",
       "         [0.7231915 , 0.05431902, 0.7268468 ]],\n",
       "\n",
       "        [[0.4520818 , 0.38846374, 0.3653822 ],\n",
       "         [0.6141635 , 0.14993382, 0.9539468 ],\n",
       "         [0.4636047 , 0.37832975, 0.7151705 ],\n",
       "         ...,\n",
       "         [0.61517894, 0.28339207, 0.9293091 ],\n",
       "         [0.5006882 , 0.03120244, 0.34679234],\n",
       "         [0.8630954 , 0.25210488, 0.54442596]],\n",
       "\n",
       "        [[0.46761072, 0.1564151 , 0.5438162 ],\n",
       "         [0.34678483, 0.3413955 , 0.13692296],\n",
       "         [0.9267609 , 0.8339577 , 0.45189488],\n",
       "         ...,\n",
       "         [0.7810453 , 0.36938024, 0.28597903],\n",
       "         [0.5209588 , 0.7594497 , 0.23387086],\n",
       "         [0.2120825 , 0.7314757 , 0.11759007]],\n",
       "\n",
       "        ...,\n",
       "\n",
       "        [[0.39344025, 0.86821747, 0.84223247],\n",
       "         [0.8056942 , 0.35435116, 0.9869454 ],\n",
       "         [0.7301693 , 0.61257184, 0.78950524],\n",
       "         ...,\n",
       "         [0.45364892, 0.17159319, 0.92580223],\n",
       "         [0.51986873, 0.02583194, 0.44207406],\n",
       "         [0.7777293 , 0.14581847, 0.03783286]],\n",
       "\n",
       "        [[0.45549858, 0.76036584, 0.01885033],\n",
       "         [0.9727931 , 0.21365952, 0.73159933],\n",
       "         [0.82091904, 0.91282403, 0.8998656 ],\n",
       "         ...,\n",
       "         [0.60819113, 0.07595253, 0.89215946],\n",
       "         [0.40540743, 0.17204797, 0.17671633],\n",
       "         [0.74583817, 0.6848676 , 0.44150746]],\n",
       "\n",
       "        [[0.75566983, 0.63024795, 0.17880654],\n",
       "         [0.26790392, 0.5341171 , 0.47928774],\n",
       "         [0.13052201, 0.28213298, 0.6701132 ],\n",
       "         ...,\n",
       "         [0.28325975, 0.6363523 , 0.32160413],\n",
       "         [0.18288934, 0.7117591 , 0.5069721 ],\n",
       "         [0.33005357, 0.77145433, 0.01182353]]]], dtype=float32)>"
      ]
     },
     "execution_count": 39,
     "metadata": {},
     "output_type": "execute_result"
    }
   ],
   "source": [
    "tensor = tf.random.uniform(minval = 0,maxval = 1, shape = [1,244,244,3])\n",
    "tensor"
   ]
  },
  {
   "cell_type": "code",
   "execution_count": 40,
   "id": "aa711cce",
   "metadata": {},
   "outputs": [
    {
     "data": {
      "text/plain": [
       "<tf.Tensor: shape=(244, 244, 3), dtype=float32, numpy=\n",
       "array([[[0.16513085, 0.9014813 , 0.6309742 ],\n",
       "        [0.4345461 , 0.29193902, 0.64250207],\n",
       "        [0.9757855 , 0.43509948, 0.6601019 ],\n",
       "        ...,\n",
       "        [0.46882296, 0.78068674, 0.253474  ],\n",
       "        [0.03136981, 0.464054  , 0.10266209],\n",
       "        [0.7231915 , 0.05431902, 0.7268468 ]],\n",
       "\n",
       "       [[0.4520818 , 0.38846374, 0.3653822 ],\n",
       "        [0.6141635 , 0.14993382, 0.9539468 ],\n",
       "        [0.4636047 , 0.37832975, 0.7151705 ],\n",
       "        ...,\n",
       "        [0.61517894, 0.28339207, 0.9293091 ],\n",
       "        [0.5006882 , 0.03120244, 0.34679234],\n",
       "        [0.8630954 , 0.25210488, 0.54442596]],\n",
       "\n",
       "       [[0.46761072, 0.1564151 , 0.5438162 ],\n",
       "        [0.34678483, 0.3413955 , 0.13692296],\n",
       "        [0.9267609 , 0.8339577 , 0.45189488],\n",
       "        ...,\n",
       "        [0.7810453 , 0.36938024, 0.28597903],\n",
       "        [0.5209588 , 0.7594497 , 0.23387086],\n",
       "        [0.2120825 , 0.7314757 , 0.11759007]],\n",
       "\n",
       "       ...,\n",
       "\n",
       "       [[0.39344025, 0.86821747, 0.84223247],\n",
       "        [0.8056942 , 0.35435116, 0.9869454 ],\n",
       "        [0.7301693 , 0.61257184, 0.78950524],\n",
       "        ...,\n",
       "        [0.45364892, 0.17159319, 0.92580223],\n",
       "        [0.51986873, 0.02583194, 0.44207406],\n",
       "        [0.7777293 , 0.14581847, 0.03783286]],\n",
       "\n",
       "       [[0.45549858, 0.76036584, 0.01885033],\n",
       "        [0.9727931 , 0.21365952, 0.73159933],\n",
       "        [0.82091904, 0.91282403, 0.8998656 ],\n",
       "        ...,\n",
       "        [0.60819113, 0.07595253, 0.89215946],\n",
       "        [0.40540743, 0.17204797, 0.17671633],\n",
       "        [0.74583817, 0.6848676 , 0.44150746]],\n",
       "\n",
       "       [[0.75566983, 0.63024795, 0.17880654],\n",
       "        [0.26790392, 0.5341171 , 0.47928774],\n",
       "        [0.13052201, 0.28213298, 0.6701132 ],\n",
       "        ...,\n",
       "        [0.28325975, 0.6363523 , 0.32160413],\n",
       "        [0.18288934, 0.7117591 , 0.5069721 ],\n",
       "        [0.33005357, 0.77145433, 0.01182353]]], dtype=float32)>"
      ]
     },
     "execution_count": 40,
     "metadata": {},
     "output_type": "execute_result"
    }
   ],
   "source": [
    "tensor_squeezed = tf.squeeze(tensor)\n",
    "tensor_squeezed"
   ]
  },
  {
   "cell_type": "markdown",
   "id": "b202bc77",
   "metadata": {},
   "source": [
    "9/ Create a tensor with shape [10] using your own choice of values, then find the index which has the maximum value."
   ]
  },
  {
   "cell_type": "code",
   "execution_count": 42,
   "id": "f888905e",
   "metadata": {},
   "outputs": [
    {
     "data": {
      "text/plain": [
       "<tf.Tensor: shape=(10,), dtype=int32, numpy=array([0, 1, 2, 3, 4, 5, 6, 7, 8, 9])>"
      ]
     },
     "execution_count": 42,
     "metadata": {},
     "output_type": "execute_result"
    }
   ],
   "source": [
    "tensor = tf.range(10)\n",
    "tensor"
   ]
  },
  {
   "cell_type": "code",
   "execution_count": 43,
   "id": "8d9e1b5d",
   "metadata": {},
   "outputs": [
    {
     "data": {
      "text/plain": [
       "<tf.Tensor: shape=(), dtype=int64, numpy=9>"
      ]
     },
     "execution_count": 43,
     "metadata": {},
     "output_type": "execute_result"
    }
   ],
   "source": [
    "tf.argmax(tensor)"
   ]
  },
  {
   "cell_type": "markdown",
   "id": "c0848e04",
   "metadata": {},
   "source": [
    "10/ One-hot encode the tensor you created in 9."
   ]
  },
  {
   "cell_type": "code",
   "execution_count": 45,
   "id": "7ef269aa",
   "metadata": {},
   "outputs": [
    {
     "data": {
      "text/plain": [
       "<tf.Tensor: shape=(10, 10), dtype=float32, numpy=\n",
       "array([[1., 0., 0., 0., 0., 0., 0., 0., 0., 0.],\n",
       "       [0., 1., 0., 0., 0., 0., 0., 0., 0., 0.],\n",
       "       [0., 0., 1., 0., 0., 0., 0., 0., 0., 0.],\n",
       "       [0., 0., 0., 1., 0., 0., 0., 0., 0., 0.],\n",
       "       [0., 0., 0., 0., 1., 0., 0., 0., 0., 0.],\n",
       "       [0., 0., 0., 0., 0., 1., 0., 0., 0., 0.],\n",
       "       [0., 0., 0., 0., 0., 0., 1., 0., 0., 0.],\n",
       "       [0., 0., 0., 0., 0., 0., 0., 1., 0., 0.],\n",
       "       [0., 0., 0., 0., 0., 0., 0., 0., 1., 0.],\n",
       "       [0., 0., 0., 0., 0., 0., 0., 0., 0., 1.]], dtype=float32)>"
      ]
     },
     "execution_count": 45,
     "metadata": {},
     "output_type": "execute_result"
    }
   ],
   "source": [
    "one_hot = tf.one_hot(tensor,depth = tf.size(tensor).numpy())\n",
    "one_hot"
   ]
  },
  {
   "cell_type": "markdown",
   "id": "3419aff3",
   "metadata": {},
   "source": [
    "## Extra Curriculum \n",
    "\n",
    "- Try to create a series of tensor functions to calculate your most recent grocery bill (it's okay if you don't use the names of the items, just the price in numerical form).\n",
    "    - How would you calculate your grocery bill for the month and for the year using tensors?"
   ]
  },
  {
   "cell_type": "code",
   "execution_count": 52,
   "id": "29baf9bb",
   "metadata": {},
   "outputs": [
    {
     "data": {
      "text/plain": [
       "<tf.Tensor: shape=(1, 3), dtype=float32, numpy=array([[0.5, 0.2, 1.2]], dtype=float32)>"
      ]
     },
     "execution_count": 52,
     "metadata": {},
     "output_type": "execute_result"
    }
   ],
   "source": [
    "price = tf.constant([0.5, 0.2,1.2],shape = (1,3),dtype = tf.float32)\n",
    "price"
   ]
  },
  {
   "cell_type": "code",
   "execution_count": 53,
   "id": "b0589344",
   "metadata": {},
   "outputs": [
    {
     "data": {
      "text/plain": [
       "<tf.Tensor: shape=(3, 1), dtype=float32, numpy=\n",
       "array([[10.],\n",
       "       [20.],\n",
       "       [23.]], dtype=float32)>"
      ]
     },
     "execution_count": 53,
     "metadata": {},
     "output_type": "execute_result"
    }
   ],
   "source": [
    "quantity = tf.constant([10,20,23],shape = (3,1),dtype = tf.float32)\n",
    "quantity"
   ]
  },
  {
   "cell_type": "code",
   "execution_count": 54,
   "id": "a1033239",
   "metadata": {},
   "outputs": [
    {
     "data": {
      "text/plain": [
       "<tf.Tensor: shape=(1, 1), dtype=float32, numpy=array([[36.6]], dtype=float32)>"
      ]
     },
     "execution_count": 54,
     "metadata": {},
     "output_type": "execute_result"
    }
   ],
   "source": [
    "total = price @ quantity\n",
    "total"
   ]
  },
  {
   "cell_type": "code",
   "execution_count": null,
   "id": "b94cafdf",
   "metadata": {},
   "outputs": [],
   "source": []
  }
 ],
 "metadata": {
  "kernelspec": {
   "display_name": "Python 3",
   "language": "python",
   "name": "python3"
  },
  "language_info": {
   "codemirror_mode": {
    "name": "ipython",
    "version": 3
   },
   "file_extension": ".py",
   "mimetype": "text/x-python",
   "name": "python",
   "nbconvert_exporter": "python",
   "pygments_lexer": "ipython3",
   "version": "3.8.8"
  }
 },
 "nbformat": 4,
 "nbformat_minor": 5
}
