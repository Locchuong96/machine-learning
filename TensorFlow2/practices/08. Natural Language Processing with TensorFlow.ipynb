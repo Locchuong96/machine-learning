{
 "cells": [
  {
   "cell_type": "markdown",
   "id": "f83d9253",
   "metadata": {},
   "source": [
    "# 08. Natural Language Processing with TensorFlow\n",
    "\n",
    "![](https://raw.githubusercontent.com/mrdbourke/tensorflow-deep-learning/main/images/08-example-nlp-problems.png)\n",
    "*A handful of example natural language processing (NLP) and natural language understanding (NLU) problems. These are also often referred to as sequence problems (going from one sequence to another).*\n",
    "\n",
    "## What we're going to cover\n",
    "\n",
    "Let's get specific hey?\n",
    "\n",
    "* Downloading a text dataset\n",
    "* Visualizing text data\n",
    "* Converting text into numbers using tokenization\n",
    "* Turning our tokenized text into an embedding\n",
    "* Modelling a text dataset\n",
    "  * Starting with a baseline (TF-IDF)\n",
    "  * Building several deep learning text models\n",
    "    * Dense, LSTM, GRU, Conv1D, Transfer learning\n",
    "* Comparing the performance of each our models\n",
    "* Combining our models into an ensemble\n",
    "* Saving and loading a trained model\n",
    "* Find the most wrong predictions\n",
    "\n",
    "## How you should approach this notebook\n",
    "\n",
    "You can read through the descriptions and the code (it should all run, except for the cells which error on purpose), but there's a better option.\n",
    "\n",
    "Write all of the code yourself.\n",
    "\n",
    "Yes. I'm serious. Create a new notebook, and rewrite each line by yourself. Investigate it, see if you can break it, why does it break?\n",
    "\n",
    "You don't have to write the text descriptions but writing the code yourself is a great way to get hands-on experience.\n",
    "\n",
    "Don't worry if you make mistakes, we all do. The way to get better and make less mistakes is to write more code.\n",
    "\n",
    "> 📖 **Resource:** See the full set of course materials on GitHub: https://github.com/mrdbourke/tensorflow-deep-learning"
   ]
  },
  {
   "cell_type": "markdown",
   "id": "849db864",
   "metadata": {},
   "source": [
    "### Terms\n",
    "\n",
    "- **NLP**: Natural language processing\n",
    "- **NLU**: Natural language understanding"
   ]
  },
  {
   "cell_type": "code",
   "execution_count": 1,
   "id": "50bc3be0",
   "metadata": {},
   "outputs": [
    {
     "name": "stderr",
     "output_type": "stream",
     "text": [
      "'nvidia-smi' is not recognized as an internal or external command,\n",
      "operable program or batch file.\n"
     ]
    }
   ],
   "source": [
    "# check for GPU\n",
    "!nvidia-smi -L"
   ]
  },
  {
   "cell_type": "code",
   "execution_count": 2,
   "id": "f4d0cf2c",
   "metadata": {},
   "outputs": [],
   "source": [
    "# Import series of helper functions for this notebook\n",
    "from helper_functions import unzip_data,create_tensorboard_callback,plot_loss_curves,compare_historys"
   ]
  },
  {
   "cell_type": "markdown",
   "id": "fa2c39c9",
   "metadata": {},
   "source": [
    "## Download a text dataset\n",
    "\n",
    "Let's start by download a text dataset. We'll be using the [Real or Not?](https://www.kaggle.com/c/nlp-getting-started/data) datset from Kaggle which contains text-based Tweets about natural disasters. \n",
    "\n",
    "The Real Tweets are actually about diasters, for example:\n",
    "\n",
    "```\n",
    "Jetstar and Virgin forced to cancel Bali flights again because of ash from Mount Raung volcano\n",
    "```\n",
    "\n",
    "The Not Real Tweets are Tweets not about diasters (they can be on anything), for example:\n",
    "\n",
    "```\n",
    "'Education is the most powerful weapon which you can use to change the world.' Nelson #Mandela #quote\n",
    "```\n",
    "\n",
    "For convenience, the dataset has been [downloaded from Kaggle](https://www.kaggle.com/c/nlp-getting-started/data) (doing this requires a Kaggle account) and uploaded as a downloadable zip file. \n",
    "\n",
    "> 🔑 **Note:** The original downloaded data has not been altered to how you would download it from Kaggle.\n",
    "\n",
    "Unzipping `nlp_getting_started.zip` gives the following 3 `.csv` files:\n",
    "* `sample_submission.csv` - an example of the file you'd submit to the Kaggle competition of your model's predictions.\n",
    "* `train.csv` - training samples of real and not real diaster Tweets.\n",
    "* `test.csv` - testing samples of real and not real diaster Tweets."
   ]
  },
  {
   "cell_type": "markdown",
   "id": "aced0620",
   "metadata": {},
   "source": [
    "## Visualizing a text dataset\n",
    "\n",
    "Once you've acquired a new dataset to work with, what should you do first?\n",
    "\n",
    "Explore it? Inspect it? Verify it? Become one with it?\n",
    "\n",
    "All correct.\n",
    "\n",
    "Remember the motto: visualize, visualize, visualize.\n",
    "\n",
    "Right now, our text data samples are in the form of `.csv` files. For an easy way to make them visual, let's turn them into pandas DataFrame's.\n",
    "\n",
    "> 📖 **Reading:** You might come across text datasets in many different formats. Aside from CSV files (what we're working with), you'll probably encounter `.txt` files and `.json` files too. For working with these type of files, I'd recommend reading the two following articles by RealPython:\n",
    "* [How to Read and Write Files in Python](https://realpython.com/read-write-files-python/)\n",
    "* [Working with JSON Data in Python](https://realpython.com/python-json/)"
   ]
  },
  {
   "cell_type": "code",
   "execution_count": 3,
   "id": "b9e1e5f2",
   "metadata": {},
   "outputs": [
    {
     "name": "stdout",
     "output_type": "stream",
     "text": [
      "training dataset: 7613 samples\n",
      "testing dataset: 3263 samples\n",
      "total samples: 10876 samples\n"
     ]
    }
   ],
   "source": [
    "import pandas as pd\n",
    "# import dataset\n",
    "train_df = pd.read_csv(\"real_or_not/train.csv\")\n",
    "test_df = pd.read_csv(\"real_or_not/test.csv\")\n",
    "# check out number of dataset\n",
    "print(f\"training dataset: {len(train_df)} samples\")\n",
    "print(f\"testing dataset: {len(test_df)} samples\")\n",
    "print(f\"total samples: {len(train_df)+len(test_df)} samples\")"
   ]
  },
  {
   "cell_type": "code",
   "execution_count": 4,
   "id": "856e61f3",
   "metadata": {},
   "outputs": [
    {
     "data": {
      "text/html": [
       "<div>\n",
       "<style scoped>\n",
       "    .dataframe tbody tr th:only-of-type {\n",
       "        vertical-align: middle;\n",
       "    }\n",
       "\n",
       "    .dataframe tbody tr th {\n",
       "        vertical-align: top;\n",
       "    }\n",
       "\n",
       "    .dataframe thead th {\n",
       "        text-align: right;\n",
       "    }\n",
       "</style>\n",
       "<table border=\"1\" class=\"dataframe\">\n",
       "  <thead>\n",
       "    <tr style=\"text-align: right;\">\n",
       "      <th></th>\n",
       "      <th>id</th>\n",
       "      <th>keyword</th>\n",
       "      <th>location</th>\n",
       "      <th>text</th>\n",
       "      <th>target</th>\n",
       "    </tr>\n",
       "  </thead>\n",
       "  <tbody>\n",
       "    <tr>\n",
       "      <th>0</th>\n",
       "      <td>1</td>\n",
       "      <td>NaN</td>\n",
       "      <td>NaN</td>\n",
       "      <td>Our Deeds are the Reason of this #earthquake M...</td>\n",
       "      <td>1</td>\n",
       "    </tr>\n",
       "    <tr>\n",
       "      <th>1</th>\n",
       "      <td>4</td>\n",
       "      <td>NaN</td>\n",
       "      <td>NaN</td>\n",
       "      <td>Forest fire near La Ronge Sask. Canada</td>\n",
       "      <td>1</td>\n",
       "    </tr>\n",
       "    <tr>\n",
       "      <th>2</th>\n",
       "      <td>5</td>\n",
       "      <td>NaN</td>\n",
       "      <td>NaN</td>\n",
       "      <td>All residents asked to 'shelter in place' are ...</td>\n",
       "      <td>1</td>\n",
       "    </tr>\n",
       "    <tr>\n",
       "      <th>3</th>\n",
       "      <td>6</td>\n",
       "      <td>NaN</td>\n",
       "      <td>NaN</td>\n",
       "      <td>13,000 people receive #wildfires evacuation or...</td>\n",
       "      <td>1</td>\n",
       "    </tr>\n",
       "    <tr>\n",
       "      <th>4</th>\n",
       "      <td>7</td>\n",
       "      <td>NaN</td>\n",
       "      <td>NaN</td>\n",
       "      <td>Just got sent this photo from Ruby #Alaska as ...</td>\n",
       "      <td>1</td>\n",
       "    </tr>\n",
       "  </tbody>\n",
       "</table>\n",
       "</div>"
      ],
      "text/plain": [
       "   id keyword location                                               text  \\\n",
       "0   1     NaN      NaN  Our Deeds are the Reason of this #earthquake M...   \n",
       "1   4     NaN      NaN             Forest fire near La Ronge Sask. Canada   \n",
       "2   5     NaN      NaN  All residents asked to 'shelter in place' are ...   \n",
       "3   6     NaN      NaN  13,000 people receive #wildfires evacuation or...   \n",
       "4   7     NaN      NaN  Just got sent this photo from Ruby #Alaska as ...   \n",
       "\n",
       "   target  \n",
       "0       1  \n",
       "1       1  \n",
       "2       1  \n",
       "3       1  \n",
       "4       1  "
      ]
     },
     "execution_count": 4,
     "metadata": {},
     "output_type": "execute_result"
    }
   ],
   "source": [
    "train_df.head()"
   ]
  },
  {
   "cell_type": "code",
   "execution_count": 5,
   "id": "fa067835",
   "metadata": {},
   "outputs": [
    {
     "data": {
      "text/html": [
       "<div>\n",
       "<style scoped>\n",
       "    .dataframe tbody tr th:only-of-type {\n",
       "        vertical-align: middle;\n",
       "    }\n",
       "\n",
       "    .dataframe tbody tr th {\n",
       "        vertical-align: top;\n",
       "    }\n",
       "\n",
       "    .dataframe thead th {\n",
       "        text-align: right;\n",
       "    }\n",
       "</style>\n",
       "<table border=\"1\" class=\"dataframe\">\n",
       "  <thead>\n",
       "    <tr style=\"text-align: right;\">\n",
       "      <th></th>\n",
       "      <th>id</th>\n",
       "      <th>keyword</th>\n",
       "      <th>location</th>\n",
       "      <th>text</th>\n",
       "    </tr>\n",
       "  </thead>\n",
       "  <tbody>\n",
       "    <tr>\n",
       "      <th>0</th>\n",
       "      <td>0</td>\n",
       "      <td>NaN</td>\n",
       "      <td>NaN</td>\n",
       "      <td>Just happened a terrible car crash</td>\n",
       "    </tr>\n",
       "    <tr>\n",
       "      <th>1</th>\n",
       "      <td>2</td>\n",
       "      <td>NaN</td>\n",
       "      <td>NaN</td>\n",
       "      <td>Heard about #earthquake is different cities, s...</td>\n",
       "    </tr>\n",
       "    <tr>\n",
       "      <th>2</th>\n",
       "      <td>3</td>\n",
       "      <td>NaN</td>\n",
       "      <td>NaN</td>\n",
       "      <td>there is a forest fire at spot pond, geese are...</td>\n",
       "    </tr>\n",
       "    <tr>\n",
       "      <th>3</th>\n",
       "      <td>9</td>\n",
       "      <td>NaN</td>\n",
       "      <td>NaN</td>\n",
       "      <td>Apocalypse lighting. #Spokane #wildfires</td>\n",
       "    </tr>\n",
       "    <tr>\n",
       "      <th>4</th>\n",
       "      <td>11</td>\n",
       "      <td>NaN</td>\n",
       "      <td>NaN</td>\n",
       "      <td>Typhoon Soudelor kills 28 in China and Taiwan</td>\n",
       "    </tr>\n",
       "  </tbody>\n",
       "</table>\n",
       "</div>"
      ],
      "text/plain": [
       "   id keyword location                                               text\n",
       "0   0     NaN      NaN                 Just happened a terrible car crash\n",
       "1   2     NaN      NaN  Heard about #earthquake is different cities, s...\n",
       "2   3     NaN      NaN  there is a forest fire at spot pond, geese are...\n",
       "3   9     NaN      NaN           Apocalypse lighting. #Spokane #wildfires\n",
       "4  11     NaN      NaN      Typhoon Soudelor kills 28 in China and Taiwan"
      ]
     },
     "execution_count": 5,
     "metadata": {},
     "output_type": "execute_result"
    }
   ],
   "source": [
    "test_df.head()"
   ]
  },
  {
   "cell_type": "markdown",
   "id": "8e0c149f",
   "metadata": {},
   "source": [
    "The training data we downloaded is probably shuffled already. But just to be sure, let's shuffle it again."
   ]
  },
  {
   "cell_type": "code",
   "execution_count": 6,
   "id": "b27b94fb",
   "metadata": {},
   "outputs": [
    {
     "data": {
      "text/html": [
       "<div>\n",
       "<style scoped>\n",
       "    .dataframe tbody tr th:only-of-type {\n",
       "        vertical-align: middle;\n",
       "    }\n",
       "\n",
       "    .dataframe tbody tr th {\n",
       "        vertical-align: top;\n",
       "    }\n",
       "\n",
       "    .dataframe thead th {\n",
       "        text-align: right;\n",
       "    }\n",
       "</style>\n",
       "<table border=\"1\" class=\"dataframe\">\n",
       "  <thead>\n",
       "    <tr style=\"text-align: right;\">\n",
       "      <th></th>\n",
       "      <th>id</th>\n",
       "      <th>keyword</th>\n",
       "      <th>location</th>\n",
       "      <th>text</th>\n",
       "      <th>target</th>\n",
       "    </tr>\n",
       "  </thead>\n",
       "  <tbody>\n",
       "    <tr>\n",
       "      <th>2644</th>\n",
       "      <td>3796</td>\n",
       "      <td>destruction</td>\n",
       "      <td>NaN</td>\n",
       "      <td>So you have a new weapon that can cause un-ima...</td>\n",
       "      <td>1</td>\n",
       "    </tr>\n",
       "    <tr>\n",
       "      <th>2227</th>\n",
       "      <td>3185</td>\n",
       "      <td>deluge</td>\n",
       "      <td>NaN</td>\n",
       "      <td>The f$&amp;amp;@ing things I do for #GISHWHES Just...</td>\n",
       "      <td>0</td>\n",
       "    </tr>\n",
       "    <tr>\n",
       "      <th>5448</th>\n",
       "      <td>7769</td>\n",
       "      <td>police</td>\n",
       "      <td>UK</td>\n",
       "      <td>DT @georgegalloway: RT @Galloway4Mayor: ÛÏThe...</td>\n",
       "      <td>1</td>\n",
       "    </tr>\n",
       "    <tr>\n",
       "      <th>132</th>\n",
       "      <td>191</td>\n",
       "      <td>aftershock</td>\n",
       "      <td>NaN</td>\n",
       "      <td>Aftershock back to school kick off was great. ...</td>\n",
       "      <td>0</td>\n",
       "    </tr>\n",
       "    <tr>\n",
       "      <th>6845</th>\n",
       "      <td>9810</td>\n",
       "      <td>trauma</td>\n",
       "      <td>Montgomery County, MD</td>\n",
       "      <td>in response to trauma Children of Addicts deve...</td>\n",
       "      <td>0</td>\n",
       "    </tr>\n",
       "  </tbody>\n",
       "</table>\n",
       "</div>"
      ],
      "text/plain": [
       "        id      keyword               location  \\\n",
       "2644  3796  destruction                    NaN   \n",
       "2227  3185       deluge                    NaN   \n",
       "5448  7769       police                     UK   \n",
       "132    191   aftershock                    NaN   \n",
       "6845  9810       trauma  Montgomery County, MD   \n",
       "\n",
       "                                                   text  target  \n",
       "2644  So you have a new weapon that can cause un-ima...       1  \n",
       "2227  The f$&amp;@ing things I do for #GISHWHES Just...       0  \n",
       "5448  DT @georgegalloway: RT @Galloway4Mayor: ÛÏThe...       1  \n",
       "132   Aftershock back to school kick off was great. ...       0  \n",
       "6845  in response to trauma Children of Addicts deve...       0  "
      ]
     },
     "execution_count": 6,
     "metadata": {},
     "output_type": "execute_result"
    }
   ],
   "source": [
    "# shuffe training dataset\n",
    "train_df = train_df.sample(frac=1,random_state=42) # shuffle with random_state=42 for reproducibility\n",
    "train_df.head()"
   ]
  },
  {
   "cell_type": "markdown",
   "id": "8ed4e815",
   "metadata": {},
   "source": [
    "Notice how the training data has a `\"target\"` column.\n",
    "\n",
    "We're going to be writing code to find patterns (e.g. different combinations of words) in the `\"text\"` column of the training dataset to predict the value of the `\"target\"` column.\n",
    "\n",
    "The test dataset doesn't have a `\"target\"` column.\n",
    "\n",
    "```\n",
    "Inputs (text column) -> Machine Learning Algorithm -> Outputs (target column)\n",
    "```\n",
    "\n",
    "![](https://raw.githubusercontent.com/mrdbourke/tensorflow-deep-learning/main/images/08-text-classification-inputs-and-outputs.png)\n",
    "*Example text classification inputs and outputs for the problem of classifying whether a Tweet is about a diaster or not.*"
   ]
  },
  {
   "cell_type": "code",
   "execution_count": 7,
   "id": "8d57f02f",
   "metadata": {},
   "outputs": [
    {
     "data": {
      "text/plain": [
       "0    4342\n",
       "1    3271\n",
       "Name: target, dtype: int64"
      ]
     },
     "execution_count": 7,
     "metadata": {},
     "output_type": "execute_result"
    }
   ],
   "source": [
    "# check how many examples of each class\n",
    "train_df.target.value_counts()"
   ]
  },
  {
   "cell_type": "markdown",
   "id": "a0a28841",
   "metadata": {},
   "source": [
    "Since we have two target values, we're dealing with a **binary classification** problem.\n",
    "\n",
    "It's fairly balanced too, about 60% negative class (`target = 0`) and 40% positive class (`target = 1`).\n",
    "\n",
    "Where, \n",
    "\n",
    "* `1` = a real disaster Tweet\n",
    "* `0` = not a real disaster Tweet\n",
    "\n",
    "And what about the total number of samples we have?"
   ]
  },
  {
   "cell_type": "markdown",
   "id": "a97daec7",
   "metadata": {},
   "source": [
    "Alright, seems like we've got a decent amount of training and test data. If anything, we've got an abundance of testing examples, usually a split of 90/10 (90% training, 10% testing) or 80/20 is suffice.\n",
    "\n",
    "Okay, time to visualize, let's write some code to visualize random text samples.\n",
    "\n",
    "> 🤔 **Question:** Why visualize random samples? You could visualize samples in order but this could lead to only seeing a certain subset of data. Better to visualize a substantial quantity (100+) of random samples to get an idea of the different kinds of data you're working with. In machine learning, never underestimate the power of randomness."
   ]
  },
  {
   "cell_type": "code",
   "execution_count": 8,
   "id": "abefb3ee",
   "metadata": {},
   "outputs": [],
   "source": [
    "# let visualize some random training examples\n",
    "import random"
   ]
  },
  {
   "cell_type": "code",
   "execution_count": 9,
   "id": "a6baab40",
   "metadata": {},
   "outputs": [
    {
     "name": "stdout",
     "output_type": "stream",
     "text": [
      "Index: 5025, Target: 0 (not real disaster)\n",
      "Text:\n",
      "2 great new recipes; mudslide cake and so sorry stew! #GBBO\n",
      "---\n",
      "\n",
      "Index: 430, Target: 0 (not real disaster)\n",
      "Text:\n",
      "Arsonists being blamed for a blaze at a plastics recycling business in Adelaide | @pcaldicott7 reports. #7NewsAdl http://t.co/r1Xwdnvb0g\n",
      "---\n",
      "\n",
      "Index: 3523, Target: 1 (real_disaster)\n",
      "Text:\n",
      "Read an eyewitness account from #Hiroshima from this day in 1945 http://t.co/QUEDV2xxxX #LIFE\n",
      "---\n",
      "\n",
      "Index: 1808, Target: 1 (real_disaster)\n",
      "Text:\n",
      "Man killed in crash in Barrington Hills: A Hoffman Estates man was killed in a single-car crash Wednesday afte... http://t.co/b6NphxOrZg\n",
      "---\n",
      "\n",
      "Index: 7504, Target: 0 (not real disaster)\n",
      "Text:\n",
      "I'm an emotional wreck watching emmerdale\n",
      "---\n",
      "\n"
     ]
    }
   ],
   "source": [
    "no_idx = 5\n",
    "# create random indexes not higher than total number of samples\n",
    "random_idx = random.randint(0,len(train_df)-no_idx)\n",
    "for row in train_df[[\"text\",\"target\"]][random_idx:random_idx+no_idx].itertuples():\n",
    "    index,text,target = row\n",
    "    print(f\"Index: {index}, Target: {target}\",\"(real_disaster)\" if target >0 else \"(not real disaster)\")\n",
    "    print(f\"Text:\\n{text}\")\n",
    "    print(\"---\\n\")"
   ]
  },
  {
   "cell_type": "markdown",
   "id": "9513caf5",
   "metadata": {},
   "source": [
    "### Split data into training and validation sets\n",
    "\n",
    "Since the test set has no labels and we need a way to evalaute our trained models, we'll split off some of the training data and create a validation set.\n",
    "\n",
    "When our model trains (tries patterns in the Tweet samples), it'll only see data from the training set and we can see how it performs on unseen data using the validation set.\n",
    "\n",
    "We'll convert our splits from pandas Series datatypes to lists of strings (for the text) and lists of ints (for the labels) for ease of use later.\n",
    "\n",
    "To split our training dataset and create a validation dataset, we'll use Scikit-Learn's [`train_test_split()`](https://scikit-learn.org/stable/modules/generated/sklearn.model_selection.train_test_split.html) method and dedicate 10% of the training samples to the validation set."
   ]
  },
  {
   "cell_type": "code",
   "execution_count": 10,
   "id": "1591e04b",
   "metadata": {},
   "outputs": [],
   "source": [
    "from sklearn.model_selection import train_test_split\n",
    "\n",
    "x_train,x_val,y_train,y_val = train_test_split(train_df['text'].to_numpy(),\n",
    "                                              train_df['target'].to_numpy(),\n",
    "                                              test_size=0.1, #dedicate 10% of samples to validation\n",
    "                                              random_state=42 # random state for reproducibility\n",
    "                                              )"
   ]
  },
  {
   "cell_type": "code",
   "execution_count": 11,
   "id": "0794134c",
   "metadata": {},
   "outputs": [
    {
     "name": "stdout",
     "output_type": "stream",
     "text": [
      "x_pred: 3263 samples\n"
     ]
    }
   ],
   "source": [
    "x_pred = test_df['text'].to_numpy()\n",
    "print(f\"x_pred: {len(x_pred)} samples\")"
   ]
  },
  {
   "cell_type": "code",
   "execution_count": 12,
   "id": "f5625e97",
   "metadata": {},
   "outputs": [
    {
     "name": "stdout",
     "output_type": "stream",
     "text": [
      "x_train: 6851 samples\n",
      "x_val: 762 samples\n",
      "y_train: 6851 samples\n",
      "y_val: 762 samples\n"
     ]
    }
   ],
   "source": [
    "# Check the lengths\n",
    "print(f\"x_train: {len(x_train)} samples\")\n",
    "print(f\"x_val: {len(x_val)} samples\")\n",
    "print(f\"y_train: {len(y_train)} samples\")\n",
    "print(f\"y_val: {len(y_val)} samples\")"
   ]
  },
  {
   "cell_type": "code",
   "execution_count": 13,
   "id": "ee11d7eb",
   "metadata": {},
   "outputs": [
    {
     "name": "stdout",
     "output_type": "stream",
     "text": [
      "@mogacola @zamtriossu i screamed after hitting tweet\n",
      "0\n"
     ]
    }
   ],
   "source": [
    "# view a piece of x_train,y_train samples\n",
    "print(x_train[0])\n",
    "print(y_train[0])"
   ]
  },
  {
   "cell_type": "markdown",
   "id": "10b8b6d0",
   "metadata": {},
   "source": [
    "## Converting text into numbers\n",
    "\n",
    "Wonderful! We've got a training set and a validation set containing Tweets and labels.\n",
    "\n",
    "Our labels are in numerical form (`0` and `1`) but our Tweets are in string form.\n",
    "\n",
    "> 🤔 **Question:** What do you think we have to do before we can use a machine learning algorithm with our text data? \n",
    "\n",
    "If you answered something along the lines of \"turn it into numbers\", you're correct. A machine learning algorithm requires its inputs to be in numerical form.\n",
    "\n",
    "In NLP, there are two main concepts for turning text into numbers:\n",
    "* **Tokenization** - A straight mapping from word or character or sub-word to a numerical value. There are three main levels of tokenization:\n",
    "  1. Using **word-level tokenization** with the sentence \"I love TensorFlow\" might result in \"I\" being `0`, \"love\" being `1` and \"TensorFlow\" being `2`. In this case, every word in a sequence considered a single **token**.\n",
    "  2. **Character-level tokenization**, such as converting the letters A-Z to values `1-26`. In this case, every character in a sequence considered a single **token**.\n",
    "  3. **Sub-word tokenization** is in between word-level and character-level tokenization. It involves breaking invidual words into smaller parts and then converting those smaller parts into numbers. For example, \"my favourite food is pineapple pizza\" might become \"my, fav, avour, rite, fo, oo, od, is, pin, ine, app, le, piz, za\". After doing this, these sub-words would then be mapped to a numerical value. In this case, every word could be considered multiple **tokens**.\n",
    "* **Embeddings** - An embedding is a representation of natural language which can be learned. Representation comes in the form of a **feature vector**. For example, the word \"dance\" could be represented by the 5-dimensional vector `[-0.8547, 0.4559, -0.3332, 0.9877, 0.1112]`. It's important to note here, the size of the feature vector is tuneable. There are two ways to use embeddings: \n",
    "  1. **Create your own embedding** - Once your text has been turned into numbers (required for an embedding), you can put them through an embedding layer (such as [`tf.keras.layers.Embedding`](https://www.tensorflow.org/api_docs/python/tf/keras/layers/Embedding)) and an embedding representation will be learned during model training.\n",
    "  2. **Reuse a pre-learned embedding** - Many pre-trained embeddings exist online. These pre-trained embeddings have often been learned on large corpuses of text (such as all of Wikipedia) and thus have a good underlying representation of natural language. You can use a pre-trained embedding to initialize your model and fine-tune it to your own specific task.\n",
    "\n",
    "![](https://raw.githubusercontent.com/mrdbourke/tensorflow-deep-learning/main/images/08-tokenization-vs-embedding.png)\n",
    "*Example of **tokenization** (straight mapping from word to number) and **embedding** (richer representation of relationships between tokens).*\n",
    "\n",
    "> 🤔 **Question:** What level of tokenzation should I use? What embedding should should I choose?\n",
    "\n",
    "It depends on your problem. You could try character-level tokenization/embeddings and word-level tokenization/embeddings and see which perform best. You might even want to try stacking them (e.g. combining the outputs of your embedding layers using [`tf.keras.layers.concatenate`](https://www.tensorflow.org/api_docs/python/tf/keras/layers/concatenate)). \n",
    "\n",
    "If you're looking for pre-trained word embeddings, [Word2vec embeddings](http://jalammar.github.io/illustrated-word2vec/), [GloVe embeddings](https://nlp.stanford.edu/projects/glove/) and many of the options available on [TensorFlow Hub](https://tfhub.dev/s?module-type=text-embedding) are great places to start.\n",
    "\n",
    "> 🔑 **Note:** Much like searching for a pre-trained computer vision model, you can search for pre-trained word embeddings to use for your problem. Try searching for something like \"use pre-trained word embeddings in TensorFlow\"."
   ]
  },
  {
   "cell_type": "markdown",
   "id": "dbaa9200",
   "metadata": {},
   "source": [
    "### Text vectorization (tokenization)\n",
    "\n",
    "Enough talking about tokenization and embeddings, let's create some.\n",
    "\n",
    "We'll practice tokenzation (mapping our words to numbers) first.\n",
    "\n",
    "To tokenize our words, we'll use the helpful preprocessing layer [`tf.keras.layers.experimental.preprocessing.TextVectorization`](https://www.tensorflow.org/api_docs/python/tf/keras/layers/experimental/preprocessing/TextVectorization).\n",
    "\n",
    "The `TextVectorization` layer takes the following parameters:\n",
    "* `max_tokens` - The maximum number of words in your vocabulary (e.g. 20000 or the number of unique words in your text), includes a value for OOV (out of vocabulary) tokens. \n",
    "* `standardize` - Method for standardizing text. Default is `\"lower_and_strip_punctuation\"` which lowers text and removes all punctuation marks.\n",
    "* `split` - How to split text, default is `\"whitespace\"` which splits on spaces.\n",
    "* `ngrams` - How many words to contain per token split, for example, `ngrams=2` splits tokens into continuous sequences of 2.\n",
    "* `output_mode` -  How to output tokens, can be `\"int\"` (integer mapping), `\"binary\"` (one-hot encoding), `\"count\"` or `\"tf-idf\"`. See documentation for more.\n",
    "* `output_sequence_length` - Length of tokenized sequence to output. For example, if `output_sequence_length=150`, all tokenized sequences will be 150 tokens long.\n",
    "* `pad_to_max_tokens` - Defaults to `False`, if `True`, the output feature axis will be padded to `max_tokens` even if the number of unique tokens in the vocabulary is less than `max_tokens`. Only valid in certain modes, see docs for more.\n",
    "\n",
    "Let's see it in action."
   ]
  },
  {
   "cell_type": "code",
   "execution_count": 14,
   "id": "043b583a",
   "metadata": {},
   "outputs": [
    {
     "name": "stdout",
     "output_type": "stream",
     "text": [
      "2.6.0\n"
     ]
    }
   ],
   "source": [
    "import tensorflow as tf\n",
    "\n",
    "print(tf.__version__)"
   ]
  },
  {
   "cell_type": "code",
   "execution_count": 15,
   "id": "6eca2b5d",
   "metadata": {},
   "outputs": [],
   "source": [
    "from tensorflow.keras.layers import TextVectorization\n",
    "# Note: in TensorFlow 2.6+, you no longer need \"layers.experimental.preprocessing\"\n",
    "# you can use: \"tf.keras.layers.TextVectorization\", see https://github.com/tensorflow/tensorflow/releases/tag/v2.6.0 for more"
   ]
  },
  {
   "cell_type": "code",
   "execution_count": 16,
   "id": "04371a4b",
   "metadata": {},
   "outputs": [],
   "source": [
    "#Use the default TextVectorization variables\n",
    "text_vectorizer = TextVectorization(max_tokens=None, # how many words in the vocabulary (all of the different words in your text)\n",
    "                                    standardize=\"lower_and_strip_punctuation\", # how to process text\n",
    "                                    split =\"whitespace\", # how to split tokens\n",
    "                                    ngrams=None, # create groups of n-words?\n",
    "                                    output_mode=\"int\", # how to map tokens to numbers\n",
    "                                    output_sequence_length=None # how long should the output sequence of tokens be\n",
    "                                    # pad_to_max_tokens=True # Not valid if using max_tokens=None\n",
    "                                   )"
   ]
  },
  {
   "cell_type": "markdown",
   "id": "2432eeab",
   "metadata": {},
   "source": [
    "We've initialized a `TextVectorization` object with the default settings but let's customize it a little bit for our own use case.\n",
    "\n",
    "In particular, let's set values for `max_tokens` and `output_sequence_length`.\n",
    "\n",
    "For `max_tokens` (the number of words in the vocabulary), multiples of 10,000 (`10,000`, `20,000`, `30,000`) or the exact number of unique words in your text (e.g. `32,179`) are common values.\n",
    "\n",
    "For our use case, we'll use `10,000`.\n",
    "\n",
    "And for the `output_sequence_length` we'll use the average number of tokens per Tweet in the training set. But first, we'll need to find it."
   ]
  },
  {
   "cell_type": "code",
   "execution_count": 17,
   "id": "4feb716b",
   "metadata": {},
   "outputs": [
    {
     "name": "stdout",
     "output_type": "stream",
     "text": [
      "total_words: 102087\n",
      "no_tokens: 15\n"
     ]
    }
   ],
   "source": [
    "# Find average of tokens (words) in training Tweets\n",
    "total_words = sum([len(i.split()) for i in x_train])\n",
    "no_tokens = round(total_words/len(x_train))\n",
    "print(f\"total_words: {total_words}\")\n",
    "print(f\"no_tokens: {no_tokens}\")"
   ]
  },
  {
   "cell_type": "markdown",
   "id": "fd81349e",
   "metadata": {},
   "source": [
    "Now let's create another `TextVectorization` object using our custom parameters."
   ]
  },
  {
   "cell_type": "code",
   "execution_count": 18,
   "id": "a9d8b00f",
   "metadata": {},
   "outputs": [],
   "source": [
    "# Setup text vectorization with custom variables\n",
    "max_vocab_length = 10000 # max number of words to have in our vocabulary\n",
    "text_vectorizer = TextVectorization(max_tokens = max_vocab_length,\n",
    "                                    output_mode = 'int',\n",
    "                                    output_sequence_length=no_tokens\n",
    "                                   )"
   ]
  },
  {
   "cell_type": "markdown",
   "id": "fa63dbfa",
   "metadata": {},
   "source": [
    "Beautiful!\n",
    "\n",
    "To map our `TextVectorization` instance `text_vectorizer` to our data, we can call the `adapt()` method on it whilst passing it our training text."
   ]
  },
  {
   "cell_type": "code",
   "execution_count": 19,
   "id": "07fc7f03",
   "metadata": {},
   "outputs": [],
   "source": [
    "text_vectorizer.adapt(x_train)"
   ]
  },
  {
   "cell_type": "markdown",
   "id": "464e87a6",
   "metadata": {},
   "source": [
    "Training data mapped! Let's try our `text_vectorizer` on a custom sentence (one similar to what you might see in the training data)."
   ]
  },
  {
   "cell_type": "code",
   "execution_count": 20,
   "id": "8d22d994",
   "metadata": {},
   "outputs": [
    {
     "data": {
      "text/plain": [
       "<tf.Tensor: shape=(1, 15), dtype=int64, numpy=\n",
       "array([[ 74,   9,   3, 232,   4,  13, 698,   0,   0,   0,   0,   0,   0,\n",
       "          0,   0]], dtype=int64)>"
      ]
     },
     "execution_count": 20,
     "metadata": {},
     "output_type": "execute_result"
    }
   ],
   "source": [
    "#Create sample setence and tokenize it\n",
    "sample_sentence= \"There is a flood in my street!\"\n",
    "text_vectorizer([sample_sentence])"
   ]
  },
  {
   "cell_type": "markdown",
   "id": "0fe6cc93",
   "metadata": {},
   "source": [
    "Wonderful, it seems we've got a way to turn our text into numbers (in this case, word-level tokenization). Notice the 0's at the end of the returned tensor, this is because we set `output_sequence_length=15`, meaning no matter the size of the sequence we pass to `text_vectorizer`, it always returns a sequence with a length of 15.\n",
    "\n",
    "How about we try our `text_vectorizer` on a few random sentences?"
   ]
  },
  {
   "cell_type": "code",
   "execution_count": 21,
   "id": "6a05e335",
   "metadata": {},
   "outputs": [
    {
     "name": "stdout",
     "output_type": "stream",
     "text": [
      "Original text:\n",
      "Rt hirochii0: There is no country that making fun of Hiroshima 's tragedy but Korea. http://t.co/And1Btizao #Indonesia #Malaysia #Jamaica #Û_\n",
      "Vectorized:\n",
      "[  96    1   74    9   40  782   16  572  604    6  130  236  360   30\n",
      " 3700]\n"
     ]
    }
   ],
   "source": [
    "# Choose a random setence from the training dataset and tokenize it\n",
    "random_sentence = random.choice(x_train)\n",
    "print(f\"Original text:\\n{random_sentence}\\nVectorized:\\n{text_vectorizer(random_sentence)}\")"
   ]
  },
  {
   "cell_type": "markdown",
   "id": "57a601e7",
   "metadata": {},
   "source": [
    "Looking good!\n",
    "\n",
    "Finally, we can check the unique tokens in our vocabulary using the `get_vocabulary()` method."
   ]
  },
  {
   "cell_type": "code",
   "execution_count": 22,
   "id": "2a132798",
   "metadata": {},
   "outputs": [
    {
     "name": "stdout",
     "output_type": "stream",
     "text": [
      "Number of words in vocab: 10000\n",
      "Top 5 most common words: ['', '[UNK]', 'the', 'a', 'in']\n",
      "Bottom 5 least common words: ['pages', 'paeds', 'pads', 'padres', 'paddytomlinson1']\n"
     ]
    }
   ],
   "source": [
    "# Get the unique words in the vocabulary\n",
    "words_in_vocab = text_vectorizer.get_vocabulary() # order from the most appearance\n",
    "top_words = words_in_vocab[:5] # most common token [UNK] token for \"unknown\" words\n",
    "bottom_words = words_in_vocab[-5:] # least common tokens\n",
    "print(f\"Number of words in vocab: {len(words_in_vocab)}\")\n",
    "print(f\"Top 5 most common words: {top_words}\")\n",
    "print(f\"Bottom 5 least common words: {bottom_words}\")"
   ]
  },
  {
   "cell_type": "markdown",
   "id": "b909b0f4",
   "metadata": {},
   "source": [
    "### Creating an Embedding using an Embedding Layer\n",
    "\n",
    "We've got a way to map our text to numbers. How about we go a step further and turn those numbers into an embedding?\n",
    "\n",
    "The powerful thing about an embedding is it can be learned during training. This means rather than just being static (e.g. `1` = I, `2` = love, `3` = TensorFlow), a word's numeric representation can be improved as a model goes through data samples.\n",
    "\n",
    "We can see what an embedding of a word looks like by using the [`tf.keras.layers.Embedding`](https://www.tensorflow.org/api_docs/python/tf/keras/layers/Embedding) layer. \n",
    "\n",
    "The main parameters we're concerned about here are:\n",
    "* `input_dim` - The size of the vocabulary (e.g. `len(text_vectorizer.get_vocabulary()`).\n",
    "* `output_dim` - The size of the output embedding vector, for example, a value of `100` outputs a  feature vector of size 100 for each word.\n",
    "* `embeddings_initializer` - How to initialize the embeddings matrix, default is `\"uniform\"` which randomly initalizes embedding matrix with uniform distribution. This can be changed for using pre-learned embeddings.\n",
    "* `input_length` - Length of sequences being passed to embedding layer.\n",
    "\n",
    "Knowing these, let's make an embedding layer."
   ]
  },
  {
   "cell_type": "code",
   "execution_count": 23,
   "id": "d9b9f9cf",
   "metadata": {},
   "outputs": [
    {
     "data": {
      "text/plain": [
       "<keras.layers.embeddings.Embedding at 0x33122820>"
      ]
     },
     "execution_count": 23,
     "metadata": {},
     "output_type": "execute_result"
    }
   ],
   "source": [
    "tf.random.set_seed(42)\n",
    "from tensorflow.keras import layers\n",
    "embedding = layers.Embedding(input_dim=max_vocab_length, # set input shape\n",
    "                            output_dim=128, # set size of embedding vector, each number convert to output_dim number\n",
    "                            embeddings_initializer=\"uniform\", # defaut, initialize randomly\n",
    "                            input_length=no_tokens, # how long is each input\n",
    "                            name=\"embedding_1\")\n",
    "embedding"
   ]
  },
  {
   "cell_type": "markdown",
   "id": "51adbe6a",
   "metadata": {},
   "source": [
    "Excellent, notice how `embedding` is a TensoFlow layer? This is important because we can use it as part of a model, meaning its parameters (word representations) can be updated and improved as the model learns.\n",
    "\n",
    "How about we try it out on a sample sentence?"
   ]
  },
  {
   "cell_type": "code",
   "execution_count": 24,
   "id": "01e13631",
   "metadata": {},
   "outputs": [
    {
     "name": "stdout",
     "output_type": "stream",
     "text": [
      "Original text:\n",
      "Rt hirochii0: There is no country that making fun of Hiroshima 's tragedy but Korea. http://t.co/And1Btizao #Indonesia #Malaysia #Jamaica #Û_\n",
      "Embedded (1, 15, 128):\n",
      "[[[-0.04776652 -0.04322071  0.03497444 ... -0.02333785  0.04645089\n",
      "    0.02155567]\n",
      "  [ 0.03977952 -0.03782602 -0.03646283 ...  0.00236253  0.03332629\n",
      "    0.02803668]\n",
      "  [-0.04738555 -0.0471351   0.04524391 ...  0.02124399  0.00585047\n",
      "   -0.04879045]\n",
      "  ...\n",
      "  [-0.0165316  -0.03510038  0.0445965  ... -0.01930827  0.04231616\n",
      "    0.04728869]\n",
      "  [-0.00528122  0.02229692 -0.01471323 ... -0.01874887  0.0084453\n",
      "    0.029084  ]\n",
      "  [-0.02091447  0.03727654 -0.03265884 ...  0.03280319 -0.03501606\n",
      "    0.04589789]]]\n"
     ]
    }
   ],
   "source": [
    "# Get a random sentence from training set\n",
    "random_setence = random.choice(x_train)\n",
    "# Embed the random sentence (turn it into numerical representation)\n",
    "sample_embed = embedding(text_vectorizer([random_sentence]))\n",
    "print(f\"Original text:\\n{random_sentence}\\nEmbedded {sample_embed.shape}:\\n{sample_embed}\")"
   ]
  },
  {
   "cell_type": "markdown",
   "id": "5f28ef88",
   "metadata": {},
   "source": [
    "Each token in the sentence gets turned into a length 128 feature vector."
   ]
  },
  {
   "cell_type": "code",
   "execution_count": 25,
   "id": "f1e13630",
   "metadata": {},
   "outputs": [
    {
     "data": {
      "text/plain": [
       "<tf.Tensor: shape=(128,), dtype=float32, numpy=\n",
       "array([-0.04776652, -0.04322071,  0.03497444, -0.02849153,  0.01001883,\n",
       "        0.03615249, -0.03636273,  0.00181737, -0.03095951,  0.03299289,\n",
       "       -0.01690693,  0.00449812, -0.02110614, -0.0413339 , -0.04701787,\n",
       "        0.03334088,  0.01867853,  0.02049876,  0.01632055,  0.00330683,\n",
       "        0.01552968, -0.02998798,  0.03739282, -0.01968045,  0.02917535,\n",
       "       -0.00200158, -0.045313  , -0.02446351, -0.04088856, -0.03098938,\n",
       "       -0.01291069, -0.00674145, -0.00251269,  0.02630253,  0.02724084,\n",
       "        0.02817651, -0.00933322,  0.04768895, -0.02043082,  0.02713052,\n",
       "        0.00251096, -0.02965219,  0.01193519, -0.01253104, -0.01186951,\n",
       "       -0.00858345,  0.01329798, -0.01616744, -0.00612741, -0.00507989,\n",
       "        0.03780717, -0.01353563,  0.0369866 ,  0.0321689 ,  0.03546727,\n",
       "       -0.00752349,  0.00447839, -0.01659516, -0.0238764 , -0.01298834,\n",
       "        0.03306614, -0.02332057, -0.04947395, -0.03651677,  0.03678372,\n",
       "        0.0364036 ,  0.00816252, -0.01652515,  0.02748528,  0.04740247,\n",
       "        0.04361526, -0.02670505,  0.00460445,  0.02041484,  0.04375588,\n",
       "        0.01519337,  0.02467904,  0.01059008,  0.02044478,  0.02468188,\n",
       "        0.04544717, -0.03996259,  0.01567606,  0.02409856, -0.01842713,\n",
       "        0.04690616, -0.01667383, -0.03113796, -0.03113449, -0.03525109,\n",
       "       -0.0292398 , -0.01052262,  0.01681681, -0.00675578, -0.03311139,\n",
       "        0.00501286,  0.04701788,  0.0492613 ,  0.01434546, -0.00365006,\n",
       "        0.03971944, -0.03064623, -0.02562304,  0.01645153,  0.03401298,\n",
       "       -0.04800045, -0.04291402,  0.04969935,  0.01311241, -0.01685481,\n",
       "        0.01658655, -0.01498947, -0.00383973,  0.04806955, -0.01900555,\n",
       "        0.04614195,  0.03914459,  0.03770527,  0.02802061, -0.0461725 ,\n",
       "        0.02391532,  0.03260814,  0.0461827 , -0.03556468,  0.02717681,\n",
       "       -0.02333785,  0.04645089,  0.02155567], dtype=float32)>"
      ]
     },
     "execution_count": 25,
     "metadata": {},
     "output_type": "execute_result"
    }
   ],
   "source": [
    "# Check out a single token's embedding\n",
    "sample_embed[0][0]"
   ]
  },
  {
   "cell_type": "markdown",
   "id": "ea7ed49d",
   "metadata": {},
   "source": [
    "These values might not mean much to us but they're what our computer sees each word as. When our model looks for patterns in different samples, these values will be updated as necessary.\n",
    "\n",
    "> 🔑 **Note:** The previous two concepts (tokenization and embeddings) are the foundation for many NLP tasks. So if you're not sure about anything, be sure to research and conduct your own experiments to further help your understanding."
   ]
  },
  {
   "cell_type": "markdown",
   "id": "25207886",
   "metadata": {},
   "source": [
    "## Modelling a text dataset\n",
    "\n",
    "![](https://raw.githubusercontent.com/mrdbourke/tensorflow-deep-learning/main/images/08-inputs-and-outputs-with-shapes-and-models-were-going-to-build.png)\n",
    "*Once you've got your inputs and outputs prepared, it's a matter of figuring out which machine learning model to build in between them to bridge the gap.*\n",
    "\n",
    "Now that we've got a way to turn our text data into numbers, we can start to build machine learning models to model it.\n",
    "\n",
    "To get plenty of practice, we're going to build a series of different models, each as its own experiment. We'll then compare the results of each model and see which one performed best.\n",
    "\n",
    "More specifically, we'll be building the following:\n",
    "* **Model 0**: Naive Bayes (baseline)\n",
    "* **Model 1**: Feed-forward neural network (dense model)\n",
    "* **Model 2**: LSTM model\n",
    "* **Model 3**: GRU model\n",
    "* **Model 4**: Bidirectional-LSTM model\n",
    "* **Model 5**: 1D Convolutional Neural Network\n",
    "* **Model 6**: TensorFlow Hub Pretrained Feature Extractor\n",
    "* **Model 7**: Same as model 6 with 10% of training data\n",
    "\n",
    "Model 0 is the simplest to acquire a baseline which we'll expect each other of the other deeper models to beat.\n",
    "\n",
    "Each experiment will go through the following steps:\n",
    "* Construct the model\n",
    "* Train the model\n",
    "* Make predictions with the model\n",
    "* Track prediction evaluation metrics for later comparison\n",
    "\n",
    "Let's get started."
   ]
  },
  {
   "cell_type": "markdown",
   "id": "4eb04a79",
   "metadata": {},
   "source": [
    "### Model 0: Getting a baseline\n",
    "\n",
    "As with all machine learning modelling experiments, it's important to create a baseline model so you've got a benchmark for future experiments to build upon.\n",
    "\n",
    "To create our baseline, we'll create a Scikit-Learn Pipeline using the TF-IDF (term frequency-inverse document frequency) formula to convert our words to numbers and then model them with the [Multinomial Naive Bayes algorithm](https://scikit-learn.org/stable/modules/generated/sklearn.naive_bayes.MultinomialNB.html#sklearn.naive_bayes.MultinomialNB). This was chosen via referring to the [Scikit-Learn machine learning map](https://scikit-learn.org/stable/tutorial/machine_learning_map/index.html).\n",
    "\n",
    "> 📖 **Reading:** The ins and outs of TF-IDF algorithm is beyond the scope of this notebook, however, the curious reader is encouraged to check out the [Scikit-Learn documentation for more](https://scikit-learn.org/stable/modules/feature_extraction.html#tfidf-term-weighting)."
   ]
  },
  {
   "cell_type": "code",
   "execution_count": 26,
   "id": "8114f343",
   "metadata": {},
   "outputs": [
    {
     "data": {
      "text/plain": [
       "Pipeline(steps=[('tfidf', TfidfVectorizer()), ('clf', MultinomialNB())])"
      ]
     },
     "execution_count": 26,
     "metadata": {},
     "output_type": "execute_result"
    }
   ],
   "source": [
    "from sklearn.feature_extraction.text import TfidfVectorizer\n",
    "from sklearn.naive_bayes import MultinomialNB\n",
    "from sklearn.pipeline import Pipeline\n",
    "\n",
    "#Create tokenization and modelling pipeline\n",
    "model_0 = Pipeline([\n",
    "    (\"tfidf\",TfidfVectorizer()), # convert words to numbers using tfidf\n",
    "    (\"clf\",MultinomialNB()) # model the text\n",
    "])\n",
    "\n",
    "model_0"
   ]
  },
  {
   "cell_type": "code",
   "execution_count": 27,
   "id": "47a091be",
   "metadata": {},
   "outputs": [
    {
     "data": {
      "text/plain": [
       "Pipeline(steps=[('tfidf', TfidfVectorizer()), ('clf', MultinomialNB())])"
      ]
     },
     "execution_count": 27,
     "metadata": {},
     "output_type": "execute_result"
    }
   ],
   "source": [
    "# Fit the pipeline to training data\n",
    "model_0.fit(x_train,y_train)"
   ]
  },
  {
   "cell_type": "markdown",
   "id": "0d035937",
   "metadata": {},
   "source": [
    "The benefit of using a shallow model like Multinomial Naive Bayes is that training is very fast.\n",
    "\n",
    "Let's evaluate our model and find our baseline metric."
   ]
  },
  {
   "cell_type": "code",
   "execution_count": 28,
   "id": "78f68e40",
   "metadata": {},
   "outputs": [
    {
     "name": "stdout",
     "output_type": "stream",
     "text": [
      "Our baseline model achives an accuracy of: 79.27%\n"
     ]
    }
   ],
   "source": [
    "baseline_score = model_0.score(x_val,y_val)\n",
    "print(f\"Our baseline model achives an accuracy of: {baseline_score*100:.2f}%\")"
   ]
  },
  {
   "cell_type": "code",
   "execution_count": 29,
   "id": "a9ecebc3",
   "metadata": {},
   "outputs": [
    {
     "data": {
      "text/plain": [
       "array([1, 0, 1, 1, 1, 1, 0, 0, 0, 0, 0, 0, 0, 0, 0, 1, 0, 1, 0, 0],\n",
       "      dtype=int64)"
      ]
     },
     "execution_count": 29,
     "metadata": {},
     "output_type": "execute_result"
    }
   ],
   "source": [
    "# Make predictions\n",
    "baseline_preds = model_0.predict(x_pred)\n",
    "baseline_preds[:20]"
   ]
  },
  {
   "cell_type": "code",
   "execution_count": 30,
   "id": "f3d8f617",
   "metadata": {},
   "outputs": [],
   "source": [
    "# Make prediction from train dataset\n",
    "y_pred = model_0.predict(x_train)"
   ]
  },
  {
   "cell_type": "markdown",
   "id": "b0957e8a",
   "metadata": {},
   "source": [
    "### Creating an evaluation function for our model experiments\n",
    "\n",
    "We could evaluate these as they are but since we're going to be evaluating several models in the same way going forward, let's create a helper function which takes an array of predictions and ground truth labels and computes the following:\n",
    "* Accuracy\n",
    "* Precision\n",
    "* Recall\n",
    "* F1-score\n",
    "\n",
    "> 🔑 **Note:** Since we're dealing with a classification problem, the above metrics are the most appropriate. If we were working with a regression problem, other metrics such as MAE (mean absolute error) would be a better choice."
   ]
  },
  {
   "cell_type": "code",
   "execution_count": 31,
   "id": "6fdab729",
   "metadata": {},
   "outputs": [],
   "source": [
    "# Function to evaluate: accuracy,precision,recall,f1-score\n",
    "from sklearn.metrics import accuracy_score,precision_recall_fscore_support\n",
    "\n",
    "def eval_model(y_true,y_pred):\n",
    "    '''\n",
    "    Calculates model accuracy, precision,recall, and f1 score of a binary classification model.\n",
    "    Args:\n",
    "        y_true: true labels in the form of a 1D array\n",
    "        y_pred: predicted labels in the form of a 1D array\n",
    "    Return:\n",
    "        a dictionary of accuracy,precision,recall,f1-score\n",
    "    '''\n",
    "    # Calculate model accuracy\n",
    "    accuracy = accuracy_score(y_true,y_pred) *100\n",
    "    # Calculate model precision, recall and f1 score using weighted average\n",
    "    precision,recall,f1,_ = precision_recall_fscore_support(y_true,y_pred,average='weighted')\n",
    "    result = {\"accuracy\":accuracy,\n",
    "              \"precision\":precision,\n",
    "              \"recall\":recall,\n",
    "              \"f1\":f1\n",
    "              }\n",
    "    return result"
   ]
  },
  {
   "cell_type": "code",
   "execution_count": 32,
   "id": "fd2ced82",
   "metadata": {},
   "outputs": [
    {
     "data": {
      "text/plain": [
       "{'accuracy': 88.71697562399649,\n",
       " 'precision': 0.8972275432217538,\n",
       " 'recall': 0.887169756239965,\n",
       " 'f1': 0.8847145740998287}"
      ]
     },
     "execution_count": 32,
     "metadata": {},
     "output_type": "execute_result"
    }
   ],
   "source": [
    "# get baseline results\n",
    "baseline_results = eval_model(y_true=y_train,\n",
    "                                    y_pred=y_pred)\n",
    "baseline_results"
   ]
  },
  {
   "cell_type": "markdown",
   "id": "d49de5fd",
   "metadata": {},
   "source": [
    "### Model 1: A simple dense model\n",
    "\n",
    "The first \"deep\" model we're going to build is a single layer dense model. In fact, it's barely going to have a single layer. \n",
    "\n",
    "It'll take our text and labels as input, tokenize the text, create an embedding, find the average of the embedding (using Global Average Pooling) and then pass the average through a fully connected layer with one output unit and a sigmoid activation function.\n",
    "\n",
    "If the previous sentence sounds like a mouthful, it'll make sense when we code it out (remember, if in doubt, code it out).\n",
    "\n",
    "And since we're going to be building a number of TensorFlow deep learning models, we'll import our `create_tensorboard_callback()` function from `helper_functions.py` to keep track of the results of each. "
   ]
  },
  {
   "cell_type": "code",
   "execution_count": 33,
   "id": "45fb5546",
   "metadata": {},
   "outputs": [],
   "source": [
    "#Create tensorboard callback (need to create a new one for each model)\n",
    "from helper_functions import create_tensorboard_callback\n",
    "\n",
    "# create directory to save tensorboard logs\n",
    "SAVE_DIR = \"model_logs\""
   ]
  },
  {
   "cell_type": "code",
   "execution_count": 34,
   "id": "931b1a03",
   "metadata": {},
   "outputs": [],
   "source": [
    "# Build model with functional API\n",
    "from tensorflow.keras import layers\n",
    "inputs = layers.Input(shape=(1,),dtype=\"string\") #inputs are 1-dimensional strings\n",
    "x = text_vectorizer(inputs) # turn the input text into numbers\n",
    "x = embedding(x) # create an embedding of the \n",
    "x = layers.GlobalAveragePooling1D()(x) # lower the dimensionality of the embedding for better accuracy\n",
    "outputs = layers.Dense(1,activation='sigmoid')(x) # create the output layer,want binary outputs so use sigmoid activation\n",
    "model_1 = tf.keras.Model(inputs,outputs,name=\"model_1_dense\") # construct the model"
   ]
  },
  {
   "cell_type": "code",
   "execution_count": 35,
   "id": "56e69c0b",
   "metadata": {},
   "outputs": [
    {
     "name": "stdout",
     "output_type": "stream",
     "text": [
      "Model: \"model_1_dense\"\n",
      "_________________________________________________________________\n",
      "Layer (type)                 Output Shape              Param #   \n",
      "=================================================================\n",
      "input_1 (InputLayer)         [(None, 1)]               0         \n",
      "_________________________________________________________________\n",
      "text_vectorization_1 (TextVe (None, 15)                0         \n",
      "_________________________________________________________________\n",
      "embedding_1 (Embedding)      (None, 15, 128)           1280000   \n",
      "_________________________________________________________________\n",
      "global_average_pooling1d (Gl (None, 128)               0         \n",
      "_________________________________________________________________\n",
      "dense (Dense)                (None, 1)                 129       \n",
      "=================================================================\n",
      "Total params: 1,280,129\n",
      "Trainable params: 1,280,129\n",
      "Non-trainable params: 0\n",
      "_________________________________________________________________\n"
     ]
    }
   ],
   "source": [
    "# Get a summary of the model\n",
    "model_1.summary()"
   ]
  },
  {
   "cell_type": "markdown",
   "id": "f1bc345c",
   "metadata": {},
   "source": [
    "Looking good. Our model takes a 1-dimensional string as input (in our case, a Tweet), it then tokenizes the string using `text_vectorizer` and creates an embedding using `embedding`.\n",
    "\n",
    "We then (optionally) pool the outputs of the embedding layer to reduce the dimensionality of the tensor we pass to the output layer.\n",
    "\n",
    "> 🛠 **Exercise:** Try building `model_1` with and without a `GlobalAveragePooling1D()` layer after the `embedding` layer. What happens? Why do you think this is?\n",
    "\n",
    "Finally, we pass the output of the pooling layer to a dense layer with sigmoid activation (we use sigmoid since our problem is binary classification).\n",
    "\n",
    "Before we can fit our model to the data, we've got to compile it. Since we're working with binary classification, we'll use `\"binary_crossentropy\"` as our loss function and the Adam optimizer."
   ]
  },
  {
   "cell_type": "code",
   "execution_count": 36,
   "id": "ef843b8c",
   "metadata": {},
   "outputs": [],
   "source": [
    "# Compile model\n",
    "model_1.compile(loss=\"binary_crossentropy\",\n",
    "               optimizer=tf.keras.optimizers.Adam(),\n",
    "               metrics=[\"accuracy\"])"
   ]
  },
  {
   "cell_type": "code",
   "execution_count": 37,
   "id": "0e2866c7",
   "metadata": {},
   "outputs": [
    {
     "name": "stdout",
     "output_type": "stream",
     "text": [
      "Saving TensorBoard log files to: model_logs/simple_dense_model/20230102-074601\n",
      "Epoch 1/5\n",
      "215/215 [==============================] - 9s 39ms/step - loss: 0.6094 - accuracy: 0.6916 - val_loss: 0.5357 - val_accuracy: 0.7572\n",
      "Epoch 2/5\n",
      "215/215 [==============================] - 8s 36ms/step - loss: 0.4410 - accuracy: 0.8189 - val_loss: 0.4691 - val_accuracy: 0.7848\n",
      "Epoch 3/5\n",
      "215/215 [==============================] - 7s 34ms/step - loss: 0.3463 - accuracy: 0.8605 - val_loss: 0.4590 - val_accuracy: 0.7900\n",
      "Epoch 4/5\n",
      "215/215 [==============================] - 7s 34ms/step - loss: 0.2848 - accuracy: 0.8923 - val_loss: 0.4641 - val_accuracy: 0.7927\n",
      "Epoch 5/5\n",
      "215/215 [==============================] - 8s 35ms/step - loss: 0.2380 - accuracy: 0.9118 - val_loss: 0.4767 - val_accuracy: 0.7874\n"
     ]
    }
   ],
   "source": [
    "# Fit the model\n",
    "# input sentences can be a list of strings due to text preprocessing layer built-in model\n",
    "model_1_history = model_1.fit(x_train,y_train,epochs=5,validation_data=(x_val,y_val),\n",
    "                             callbacks=[create_tensorboard_callback(dir_name=SAVE_DIR,experiment_name=\"simple_dense_model\")])"
   ]
  },
  {
   "cell_type": "code",
   "execution_count": 38,
   "id": "d795f963",
   "metadata": {},
   "outputs": [
    {
     "name": "stdout",
     "output_type": "stream",
     "text": [
      "24/24 [==============================] - 0s 3ms/step - loss: 0.4767 - accuracy: 0.7874\n"
     ]
    },
    {
     "data": {
      "text/plain": [
       "[0.4766846001148224, 0.787401556968689]"
      ]
     },
     "execution_count": 38,
     "metadata": {},
     "output_type": "execute_result"
    }
   ],
   "source": [
    "# evaluate model\n",
    "model_1.evaluate(x_val,y_val)"
   ]
  },
  {
   "cell_type": "code",
   "execution_count": 39,
   "id": "e434e546",
   "metadata": {},
   "outputs": [
    {
     "data": {
      "text/plain": [
       "[<tf.Variable 'embedding_1/embeddings:0' shape=(10000, 128) dtype=float32, numpy=\n",
       " array([[ 0.00073165,  0.01504797, -0.03425453, ..., -0.0440354 ,\n",
       "         -0.01042278,  0.01876434],\n",
       "        [ 0.04135866, -0.03945084, -0.03811939, ...,  0.00464735,\n",
       "          0.03163555,  0.02928306],\n",
       "        [ 0.00684034,  0.05363132, -0.00241555, ..., -0.07082175,\n",
       "         -0.04750701,  0.01448254],\n",
       "        ...,\n",
       "        [-0.03301444, -0.0052493 , -0.04209725, ...,  0.02028764,\n",
       "          0.00308807,  0.02215792],\n",
       "        [ 0.00692343,  0.05942352, -0.01975194, ..., -0.0619906 ,\n",
       "         -0.01018394,  0.03510419],\n",
       "        [-0.0372346 ,  0.06267187, -0.07451148, ..., -0.02367217,\n",
       "         -0.08643331,  0.01742156]], dtype=float32)>]"
      ]
     },
     "execution_count": 39,
     "metadata": {},
     "output_type": "execute_result"
    }
   ],
   "source": [
    "embedding.weights"
   ]
  },
  {
   "cell_type": "code",
   "execution_count": 40,
   "id": "e1a776ed",
   "metadata": {},
   "outputs": [
    {
     "name": "stdout",
     "output_type": "stream",
     "text": [
      "(10000, 128)\n"
     ]
    }
   ],
   "source": [
    "embed_weights = model_1.get_layer(\"embedding_1\").get_weights()[0]\n",
    "print(embed_weights.shape)"
   ]
  },
  {
   "cell_type": "markdown",
   "id": "7d0580c0",
   "metadata": {},
   "source": [
    "And since we tracked our model's training logs with TensorBoard, how about we visualize them?\n",
    "\n",
    "We can do so by uploading our TensorBoard log files (contained in the `model_logs` directory) to [TensorBoard.dev](https://tensorboard.dev/).\n",
    "\n",
    "> 🔑 **Note:** Remember, whatever you upload to TensorBoard.dev becomes public. If there are training logs you don't want to share, don't upload them."
   ]
  },
  {
   "cell_type": "code",
   "execution_count": 41,
   "id": "23b04c56",
   "metadata": {},
   "outputs": [],
   "source": [
    "# # View tensorboard logs of transfer learning modelling experiments (should be 4 models)\n",
    "# # Upload TensorBoard dev records\n",
    "# !tensorboard dev upload --logdir ./model_logs \\\n",
    "#   --name \"First deep model on text data\" \\\n",
    "#   --description \"Trying a dense model with an embedding layer\" \\\n",
    "#   --one_shot # exits the uploader when upload has finished"
   ]
  },
  {
   "cell_type": "code",
   "execution_count": 42,
   "id": "b15b5ae3",
   "metadata": {},
   "outputs": [],
   "source": [
    "# If you need to remove previous experiments, you can do so using the following command\n",
    "# !tensorboard dev delete --experiment_id EXPERIMENT_ID_TO_DELETE"
   ]
  },
  {
   "cell_type": "markdown",
   "id": "5816083a",
   "metadata": {},
   "source": [
    "The TensorBoard.dev experiment for our first deep model can be viewed here: https://tensorboard.dev/experiment/5d1Xm10aT6m6MgyW3HAGfw/\n",
    "\n",
    "![](https://raw.githubusercontent.com/mrdbourke/tensorflow-deep-learning/main/images/08-tensorboard-dense-model-training-curves.png)\n",
    "\n",
    "*What the training curves of our model look like on TensorBoard. From looking at the curves can you tell if the model is overfitting or underfitting?*\n",
    "\n",
    "Beautiful! Those are some colorful training curves. Would you say the model is overfitting or underfitting?\n",
    "\n",
    "We've built and trained our first deep model, the next step is to make some predictions with it."
   ]
  },
  {
   "cell_type": "code",
   "execution_count": 43,
   "id": "c3eb94e9",
   "metadata": {},
   "outputs": [
    {
     "name": "stdout",
     "output_type": "stream",
     "text": [
      "(3263, 1)\n"
     ]
    },
    {
     "data": {
      "text/plain": [
       "array([[0.74268913],\n",
       "       [0.46518314],\n",
       "       [0.96204746],\n",
       "       [0.52281755],\n",
       "       [0.9871582 ],\n",
       "       [0.83201915],\n",
       "       [0.04111165],\n",
       "       [0.08296731],\n",
       "       [0.03741345],\n",
       "       [0.1755347 ]], dtype=float32)"
      ]
     },
     "execution_count": 43,
     "metadata": {},
     "output_type": "execute_result"
    }
   ],
   "source": [
    "# Make predictions (these come back in the form of probabilities)\n",
    "model_1_preds = model_1.predict(x_pred)\n",
    "print(model_1_preds.shape)\n",
    "model_1_preds[:10]"
   ]
  },
  {
   "cell_type": "markdown",
   "id": "6aa569f1",
   "metadata": {},
   "source": [
    "Since our final layer uses a sigmoid activation function, we get our predictions back in the form of probabilities.\n",
    "\n",
    "To convert them to prediction classes, we'll use `tf.round()`, meaning prediction probabilities below 0.5 will be rounded to 0 and those above 0.5 will be rounded to 1.\n",
    "\n",
    "> 🔑 **Note:** In practice, the output threshold of a sigmoid prediction probability doesn't necessarily have to 0.5. For example, through testing, you may find that a cut off of 0.25 is better for your chosen evaluation metrics. A common example of this threshold cutoff is the [precision-recall tradeoff](https://www.machinelearningaptitude.com/topics/machine-learning/what-is-precision-recall-tradeoff/#:~:text=precision%2Drecall%20tradeoff%20occur%20due,the%20threshold%20of%20the%20classifier.&text=When%20threshold%20is%20decreased%20to,but%20precision%20decreases%20to%200.4.)."
   ]
  },
  {
   "cell_type": "code",
   "execution_count": 44,
   "id": "3ff89c06",
   "metadata": {},
   "outputs": [
    {
     "data": {
      "text/plain": [
       "<tf.Tensor: shape=(20,), dtype=float32, numpy=\n",
       "array([1., 0., 1., 1., 1., 1., 0., 0., 0., 0., 0., 0., 0., 0., 0., 1., 0.,\n",
       "       1., 0., 0.], dtype=float32)>"
      ]
     },
     "execution_count": 44,
     "metadata": {},
     "output_type": "execute_result"
    }
   ],
   "source": [
    "#Turn prediction probabilities into single-dimension tensor of floats\n",
    "model_1_preds = tf.squeeze(tf.round(model_1_preds)) # squeeze removes single dimensions\n",
    "model_1_preds[:20]"
   ]
  },
  {
   "cell_type": "code",
   "execution_count": 45,
   "id": "1b07ca2e",
   "metadata": {},
   "outputs": [],
   "source": [
    "y_pred = model_1.predict(x_val)\n",
    "y_pred = tf.squeeze(tf.round(y_pred))"
   ]
  },
  {
   "cell_type": "code",
   "execution_count": 46,
   "id": "875bf995",
   "metadata": {},
   "outputs": [
    {
     "data": {
      "text/plain": [
       "{'accuracy': 78.74015748031496,\n",
       " 'precision': 0.7914920592553047,\n",
       " 'recall': 0.7874015748031497,\n",
       " 'f1': 0.7846966492209201}"
      ]
     },
     "execution_count": 46,
     "metadata": {},
     "output_type": "execute_result"
    }
   ],
   "source": [
    "# Calculate model_1 metrics\n",
    "model_1_metrics = eval_model(y_true=y_val,y_pred=y_pred)\n",
    "model_1_metrics"
   ]
  },
  {
   "cell_type": "code",
   "execution_count": 47,
   "id": "71217323",
   "metadata": {},
   "outputs": [
    {
     "data": {
      "text/plain": [
       "dict_values([78.74015748031496, 0.7914920592553047, 0.7874015748031497, 0.7846966492209201])"
      ]
     },
     "execution_count": 47,
     "metadata": {},
     "output_type": "execute_result"
    }
   ],
   "source": [
    "model_1_metrics.values()"
   ]
  },
  {
   "cell_type": "code",
   "execution_count": 48,
   "id": "92bd358c",
   "metadata": {},
   "outputs": [
    {
     "data": {
      "text/plain": [
       "dict_values([88.71697562399649, 0.8972275432217538, 0.887169756239965, 0.8847145740998287])"
      ]
     },
     "execution_count": 48,
     "metadata": {},
     "output_type": "execute_result"
    }
   ],
   "source": [
    "baseline_results.values()"
   ]
  },
  {
   "cell_type": "code",
   "execution_count": 49,
   "id": "8a18d7d0",
   "metadata": {},
   "outputs": [
    {
     "data": {
      "text/plain": [
       "array([False, False, False, False])"
      ]
     },
     "execution_count": 49,
     "metadata": {},
     "output_type": "execute_result"
    }
   ],
   "source": [
    "# Compare dense model and bayer model\n",
    "import numpy as np\n",
    "np.array(list(model_1_metrics.values())) > np.array(list(baseline_results.values()))"
   ]
  },
  {
   "cell_type": "code",
   "execution_count": 50,
   "id": "bc46e9d3",
   "metadata": {},
   "outputs": [
    {
     "name": "stdout",
     "output_type": "stream",
     "text": [
      "Model1 accuracy:88.72,\tModel2 accuracy:78.74,\tDifference:-9.98\n",
      "Model1 precision:0.90,\tModel2 precision:0.79,\tDifference:-0.11\n",
      "Model1 recall:0.89,\tModel2 recall:0.79,\tDifference:-0.10\n",
      "Model1 f1:0.88,\tModel2 f1:0.78,\tDifference:-0.10\n"
     ]
    }
   ],
   "source": [
    "# Create a helper function to compare our baseline results to new model results\n",
    "def compare_metrics(metric1,metric2):\n",
    "    '''\n",
    "    Compare metrics of 2 model\n",
    "    Args:\n",
    "        metric1: metric of model1\n",
    "        metric2: metric of model2\n",
    "    Return:\n",
    "        Print out comparision\n",
    "    '''\n",
    "    for key,value in baseline_results.items():\n",
    "        value_1 = metric1[key]\n",
    "        value_2 = metric2[key]\n",
    "        print(f\"Model1 {key}:{value_1:.2f},\\tModel2 {key}:{value_2:.2f},\\tDifference:{value_2-value_1:.2f}\")\n",
    "\n",
    "compare_metrics(baseline_results,model_1_metrics)"
   ]
  },
  {
   "cell_type": "markdown",
   "id": "a0322be4",
   "metadata": {},
   "source": [
    "## Visualizing learned embeddings\n",
    "\n",
    "Our first model (`model_1`) contained an embedding layer (`embedding`) which learned a way of representing words as feature vectors by passing over the training data.\n",
    "\n",
    "Hearing this for the first few times may sound confusing.\n",
    "\n",
    "So to further help understand what a text embedding is, let's visualize the embedding our model learned.\n",
    "\n",
    "To do so, let's remind ourselves of the words in our vocabulary."
   ]
  },
  {
   "cell_type": "code",
   "execution_count": 51,
   "id": "2047cda5",
   "metadata": {},
   "outputs": [
    {
     "data": {
      "text/plain": [
       "(10000, ['', '[UNK]', 'the', 'a', 'in', 'to', 'of', 'and', 'i', 'is'])"
      ]
     },
     "execution_count": 51,
     "metadata": {},
     "output_type": "execute_result"
    }
   ],
   "source": [
    "# Get the vocabulary from text vectorization layer\n",
    "words_in_vocab = text_vectorizer.get_vocabulary()\n",
    "len(words_in_vocab),words_in_vocab[:10]"
   ]
  },
  {
   "cell_type": "code",
   "execution_count": 52,
   "id": "1978fc65",
   "metadata": {},
   "outputs": [
    {
     "name": "stdout",
     "output_type": "stream",
     "text": [
      "(10000, 128)\n"
     ]
    }
   ],
   "source": [
    "# Get the weight matrix of embedding layer\n",
    "# these are the numerical patterns betweeen the text in the training dataset the model has learned\n",
    "embed_weights = model_1.get_layer(\"embedding_1\").get_weights()[0]\n",
    "print(embed_weights.shape) # same size as vocab size and embedding_dim (each word is embedding_dim size vector)"
   ]
  },
  {
   "cell_type": "code",
   "execution_count": 53,
   "id": "f3c7c46a",
   "metadata": {},
   "outputs": [
    {
     "data": {
      "text/plain": [
       "array([ 7.31648994e-04,  1.50479684e-02, -3.42545286e-02,  1.41229685e-02,\n",
       "       -6.55442104e-02, -4.79772658e-04,  5.30462991e-03,  2.19666418e-02,\n",
       "       -9.22617316e-03, -4.55674641e-02, -1.21224485e-03,  7.48404069e-03,\n",
       "       -1.80333238e-02, -1.36849955e-02, -1.04086287e-02,  2.15889122e-02,\n",
       "       -3.48343365e-02,  2.13441718e-02,  3.16999927e-02, -4.96902205e-02,\n",
       "        4.19809632e-02,  2.39376035e-02, -5.70377447e-02, -1.34752819e-03,\n",
       "       -2.74713500e-03, -3.43280882e-02, -6.49535190e-03, -4.77883555e-02,\n",
       "        1.87852345e-02, -2.46752203e-02,  6.48885444e-02, -1.57031752e-02,\n",
       "        1.62483491e-02, -1.53555227e-02, -1.92866568e-02, -4.79918048e-02,\n",
       "        5.23341820e-02,  1.94401704e-02, -3.77332158e-02,  3.65230441e-02,\n",
       "       -1.15618221e-02,  1.30226417e-02,  6.61792681e-02, -2.59836297e-02,\n",
       "        1.11353109e-02,  3.54380757e-02, -1.12592978e-02, -5.35947457e-02,\n",
       "        4.22944427e-02, -3.71337309e-02,  2.89598834e-02,  1.57956928e-02,\n",
       "        6.55973032e-02,  4.97052260e-03,  1.40958116e-03,  1.42306676e-02,\n",
       "       -1.79981403e-02, -5.04350923e-02,  4.38789465e-02, -3.54590230e-02,\n",
       "       -3.72253358e-03, -3.75800841e-02, -7.83139560e-03,  4.41724248e-02,\n",
       "       -1.88867114e-02, -5.15810400e-02, -5.47012538e-02, -3.64419795e-03,\n",
       "        2.96533108e-02, -1.60544948e-03, -3.94240866e-04,  5.71139390e-03,\n",
       "       -2.36301012e-02, -4.95059341e-02, -1.51329171e-02,  1.67968441e-02,\n",
       "        2.32896917e-02, -1.11143134e-04,  3.11226584e-02,  6.63222447e-02,\n",
       "       -2.00336706e-02, -4.01983187e-02,  2.60717068e-02, -5.47191426e-02,\n",
       "       -3.71141620e-02, -4.21383455e-02, -6.45996109e-02,  5.78271672e-02,\n",
       "       -4.11738688e-03, -1.02331229e-02, -1.03060408e-02,  3.99582647e-02,\n",
       "       -3.27634402e-02, -2.98138168e-02, -1.85744390e-02,  1.83457490e-02,\n",
       "        2.57653147e-02, -5.90394996e-02, -2.28395239e-02, -7.09722005e-03,\n",
       "        5.89773804e-03,  1.95106808e-02,  3.01410872e-02,  1.33716529e-02,\n",
       "       -5.08181378e-02, -4.58973274e-02, -6.04345510e-03, -2.30685323e-02,\n",
       "        2.42326818e-02,  6.17343038e-02,  2.91442983e-02, -1.99976135e-02,\n",
       "       -1.72338039e-02, -3.63034010e-02,  5.96316531e-02,  1.04410043e-02,\n",
       "        3.29129025e-02,  3.20874937e-02,  4.00729897e-03,  9.51886084e-03,\n",
       "       -2.23421734e-02, -5.43793328e-02, -1.24650793e-02,  4.98501176e-05,\n",
       "        2.55460432e-03, -4.40354049e-02, -1.04227792e-02,  1.87643450e-02],\n",
       "      dtype=float32)"
      ]
     },
     "execution_count": 53,
     "metadata": {},
     "output_type": "execute_result"
    }
   ],
   "source": [
    "embed_weights[0]"
   ]
  },
  {
   "cell_type": "markdown",
   "id": "061ed27f",
   "metadata": {},
   "source": [
    "Now we've got these two objects, we can use the [Embedding Projector tool](http://projector.tensorflow.org/_) to visualize our embedding. \n",
    "\n",
    "To use the Embedding Projector tool, we need two files:\n",
    "* The embedding vectors (same as embedding weights).\n",
    "* The meta data of the embedding vectors (the words they represent - our vocabulary).\n",
    "\n",
    "Right now, we've got of these files as Python objects. To download them to file, we're going to [use the code example available on the TensorFlow word embeddings tutorial page](https://www.tensorflow.org/tutorials/text/word_embeddings#retrieve_the_trained_word_embeddings_and_save_them_to_disk).\n"
   ]
  },
  {
   "cell_type": "code",
   "execution_count": 54,
   "id": "d0cb9604",
   "metadata": {},
   "outputs": [],
   "source": [
    "# Code below is adapted from: https://www.tensorflow.org/tutorials/text/word_embeddings#retrieve_the_trained_word_embeddings_and_save_them_to_disk\n",
    "import io\n",
    "\n",
    "# Create output writers\n",
    "out_v = io.open(\"embedding_vectors.tsv\", \"w\", encoding=\"utf-8\")\n",
    "out_m = io.open(\"embedding_metadata.tsv\", \"w\", encoding=\"utf-8\")\n",
    "\n",
    "# Write embedding vectors and words to file\n",
    "for num, word in enumerate(words_in_vocab):\n",
    "    if num == 0: \n",
    "        continue # skip padding token\n",
    "    vec = embed_weights[num]\n",
    "    out_m.write(word + \"\\n\") # write words to file\n",
    "    out_v.write(\"\\t\".join([str(x) for x in vec]) + \"\\n\") # write corresponding word vector to file\n",
    "out_v.close()\n",
    "out_m.close()\n",
    "\n",
    "# # Download files locally to upload to Embedding Projector\n",
    "# try:\n",
    "#   from google.colab import files\n",
    "# except ImportError:\n",
    "#   pass\n",
    "# else:\n",
    "#   files.download(\"embedding_vectors.tsv\")\n",
    "#   files.download(\"embedding_metadata.tsv\")"
   ]
  },
  {
   "cell_type": "markdown",
   "id": "0a19fa8c",
   "metadata": {},
   "source": [
    "![](cap.png)\n",
    "Once you've downloaded the embedding vectors and metadata, you can visualize them using Embedding Vector tool:\n",
    "1. Go to  http://projector.tensorflow.org/\n",
    "2. Click on \"Load data\"\n",
    "3. Upload the two files you downloaded (`embedding_vectors.tsv` and `embedding_metadata.tsv`)\n",
    "4. Explore\n",
    "5. Optional: You can share the data you've created by clicking \"Publish\"\n",
    "\n",
    "What do you find?\n",
    "\n",
    "Are words with similar meanings close together?\n",
    "\n",
    "Remember, they might not be. The embeddings we downloaded are how our model interprets words, not necessarily how we interpret them. \n",
    "\n",
    "Also, since the embedding has been learned purely from Tweets, it may contain some strange values as Tweets are a very unique style of natural language.\n",
    "\n",
    "> 🤔 **Question:** Do you have to visualize embeddings every time?\n",
    "\n",
    "No. Although helpful for gaining an intuition of what natural language embeddings are, it's not completely necessary. Especially as the dimensions of your vocabulary and embeddings grow, trying to comprehend them would become an increasingly difficult task."
   ]
  },
  {
   "cell_type": "markdown",
   "id": "73347d40",
   "metadata": {},
   "source": [
    "### Model 2: LSTM\n",
    "\n",
    "With all this talk of what RNN's are and what they're good for, I'm sure you're eager to build one.\n",
    "\n",
    "We're going to start with an LSTM-powered RNN.\n",
    "\n",
    "To harness the power of the LSTM cell (LSTM cell and LSTM layer are often used interchangably) in TensorFlow, we'll use [`tensorflow.keras.layers.LSTM()`](https://www.tensorflow.org/api_docs/python/tf/keras/layers/LSTM).\n",
    "\n",
    "![](https://raw.githubusercontent.com/mrdbourke/tensorflow-deep-learning/main/images/08-RNN-architecture-coloured-block-edition.png)\n",
    "*Coloured block example of the structure of an recurrent neural network.*\n",
    "\n",
    "Our model is going to take on a very similar structure to `model_1`:\n",
    "\n",
    "```\n",
    "Input (text) -> Tokenize -> Embedding -> Layers -> Output (label probability)\n",
    "```\n",
    "\n",
    "The main difference will be that we're going to add an LSTM layer between our embedding and output.\n",
    "\n",
    "And to make sure we're not getting reusing trained embeddings (this would involve data leakage between models, leading to an uneven comparison later on), we'll create another embedding layer (`model_2_embedding`) for our model. The `text_vectorizer` layer can be reused since it doesn't get updated during training.\n",
    "\n",
    "> 🔑 **Note:** The reason we use a new embedding layer for each model is since the embedding layer is a *learned* representation of words (as numbers), if we were to use the same embedding layer (`embedding_1`) for each model, we'd be mixing what one model learned with the next. And because we want to compare our models later on, starting them with their own embedding layer each time is a better idea."
   ]
  },
  {
   "cell_type": "code",
   "execution_count": 55,
   "id": "4e2dcaab",
   "metadata": {},
   "outputs": [
    {
     "name": "stdout",
     "output_type": "stream",
     "text": [
      "(None, 15, 128)\n",
      "(None, 64)\n"
     ]
    }
   ],
   "source": [
    "# Set random seed and create embedding layer (new embedding layer for each model)\n",
    "tf.random.set_seed(42)\n",
    "from tensorflow.keras import layers\n",
    "\n",
    "# create embedding layer\n",
    "model_2_embedding = layers.Embedding(input_dim=max_vocab_length,\n",
    "                                    output_dim=128,\n",
    "                                    embeddings_initializer='uniform',\n",
    "                                    input_length=no_tokens,\n",
    "                                    name ='embedding_2')\n",
    "\n",
    "# create LSTM model\n",
    "inputs = layers.Input(shape=(1,),dtype=\"string\")\n",
    "x = text_vectorizer(inputs)\n",
    "x = model_2_embedding(x)\n",
    "print(x.shape)\n",
    "# x = layers.LSTM(64, return_sequences=True)(x) # return vector for each word in the Tweet (you can stack RNN cells as long as return_sequences=True)\n",
    "x = layers.LSTM(64)(x) # (64 + 128 +1)*64*4\n",
    "print(x.shape)\n",
    "# x = layers.Dense(64, activation=\"relu\")(x) # optional dense layer on top of output of LSTM cell\n",
    "outputs = layers.Dense(1,activation=\"sigmoid\")(x)\n",
    "model_2 = tf.keras.Model(inputs,outputs,name=\"model_2_LSTM\")"
   ]
  },
  {
   "cell_type": "code",
   "execution_count": 56,
   "id": "fa2b91a5",
   "metadata": {},
   "outputs": [
    {
     "name": "stdout",
     "output_type": "stream",
     "text": [
      "Model: \"model_2_LSTM\"\n",
      "_________________________________________________________________\n",
      "Layer (type)                 Output Shape              Param #   \n",
      "=================================================================\n",
      "input_2 (InputLayer)         [(None, 1)]               0         \n",
      "_________________________________________________________________\n",
      "text_vectorization_1 (TextVe (None, 15)                0         \n",
      "_________________________________________________________________\n",
      "embedding_2 (Embedding)      (None, 15, 128)           1280000   \n",
      "_________________________________________________________________\n",
      "lstm (LSTM)                  (None, 64)                49408     \n",
      "_________________________________________________________________\n",
      "dense_1 (Dense)              (None, 1)                 65        \n",
      "=================================================================\n",
      "Total params: 1,329,473\n",
      "Trainable params: 1,329,473\n",
      "Non-trainable params: 0\n",
      "_________________________________________________________________\n"
     ]
    }
   ],
   "source": [
    "# summary model\n",
    "model_2.summary()"
   ]
  },
  {
   "cell_type": "markdown",
   "id": "2c66a838",
   "metadata": {},
   "source": [
    "Looking good! You'll notice a fair few more trainable parameters within our LSTM layer than `model_1`. \n",
    "\n",
    "If you'd like to know where this number comes from, I recommend going through the above resources as well the following on calculating the number of parameters in an LSTM cell:\n",
    "* [Stack Overflow answer to calculate the number of parameters in an LSTM cell](https://stackoverflow.com/questions/38080035/how-to-calculate-the-number-of-parameters-of-an-lstm-network) by Marcin Możejko\n",
    "* [Calculating number of parameters in a LSTM unit and layer](https://medium.com/@priyadarshi.cse/calculating-number-of-parameters-in-a-lstm-unit-layer-7e491978e1e4) by Shridhar Priyadarshi\n",
    "\n",
    "Now our first RNN model's compiled let's fit it to our training data, validating it on the validation data and tracking its training parameters using our TensorBoard callback.\n",
    "\n",
    "![](cap2.png)\n",
    "\n",
    "`num_params = [(num_units + input_dim + 1) * num_units] * 4`\n",
    "\n",
    "num_units + input_dim: concat [h(t-1), x(t)]\n",
    "\n",
    "+ 1: bias\n",
    "\n",
    "* 4: there are 4 neural network layers (yellow box) {W_forget, W_input, W_output, W_cell}\n",
    "\n",
    "`model.add(LSTM(units=256, input_dim=4096, input_length=16))`\n",
    "\n",
    "`[(256 + 4096 + 1) * 256] * 4 = 4457472`\n",
    "\n",
    "PS: num_units = num_hidden_units = output_dims\n",
    "        \n",
    "> 🔑 **Note:** Reading the documentation for the [TensorFlow LSTM layer](https://www.tensorflow.org/api_docs/python/tf/keras/layers/LSTM), you'll find a plethora of parameters. Many of these have been tuned to make sure they compute as fast as possible. The main ones you'll be looking to adjust are `units` (number of hidden units) and `return_sequences` (set this to `True` when stacking LSTM or other recurrent layers).\n",
    "\n",
    "Now we've got our LSTM model built, let's compile it using `\"binary_crossentropy\"` loss and the Adam optimizer."
   ]
  },
  {
   "cell_type": "code",
   "execution_count": 57,
   "id": "6b5a90da",
   "metadata": {},
   "outputs": [],
   "source": [
    "# compile model\n",
    "model_2.compile(loss=\"binary_crossentropy\",\n",
    "               optimizer=tf.keras.optimizers.Adam(),\n",
    "               metrics=[\"accuracy\"])"
   ]
  },
  {
   "cell_type": "code",
   "execution_count": 58,
   "id": "d8c9d2cf",
   "metadata": {},
   "outputs": [
    {
     "name": "stdout",
     "output_type": "stream",
     "text": [
      "Saving TensorBoard log files to: model_logs/LSTM/20230102-074643\n",
      "Epoch 1/5\n",
      "215/215 [==============================] - 12s 48ms/step - loss: 0.5100 - accuracy: 0.7416 - val_loss: 0.4566 - val_accuracy: 0.7822\n",
      "Epoch 2/5\n",
      "215/215 [==============================] - 10s 44ms/step - loss: 0.3176 - accuracy: 0.8717 - val_loss: 0.5138 - val_accuracy: 0.7756\n",
      "Epoch 3/5\n",
      "215/215 [==============================] - 10s 44ms/step - loss: 0.2201 - accuracy: 0.9152 - val_loss: 0.5858 - val_accuracy: 0.7677\n",
      "Epoch 4/5\n",
      "215/215 [==============================] - 10s 45ms/step - loss: 0.1556 - accuracy: 0.9428 - val_loss: 0.6041 - val_accuracy: 0.7743\n",
      "Epoch 5/5\n",
      "215/215 [==============================] - 10s 46ms/step - loss: 0.1076 - accuracy: 0.9594 - val_loss: 0.8746 - val_accuracy: 0.7507\n"
     ]
    }
   ],
   "source": [
    "# fit model\n",
    "model_2_history = model_2.fit(x_train,y_train,epochs=5,validation_data = (x_val,y_val),\n",
    "                             callbacks=[create_tensorboard_callback(SAVE_DIR, \"LSTM\")])"
   ]
  },
  {
   "cell_type": "code",
   "execution_count": 59,
   "id": "b23382a8",
   "metadata": {},
   "outputs": [
    {
     "data": {
      "text/plain": [
       "((762, 1),\n",
       " array([[0.00712609],\n",
       "        [0.7873687 ],\n",
       "        [0.99963766],\n",
       "        [0.05679145],\n",
       "        [0.00258222],\n",
       "        [0.9996237 ],\n",
       "        [0.9217019 ],\n",
       "        [0.9997993 ],\n",
       "        [0.9994954 ],\n",
       "        [0.6645754 ]], dtype=float32))"
      ]
     },
     "execution_count": 59,
     "metadata": {},
     "output_type": "execute_result"
    }
   ],
   "source": [
    "# Make predictions on the validation dataset\n",
    "y_pred = model_2.predict(x_val)\n",
    "y_pred.shape,y_pred[:10]"
   ]
  },
  {
   "cell_type": "code",
   "execution_count": 60,
   "id": "7feeadab",
   "metadata": {},
   "outputs": [
    {
     "data": {
      "text/plain": [
       "<tf.Tensor: shape=(10,), dtype=float32, numpy=array([0., 1., 1., 0., 0., 1., 1., 1., 1., 1.], dtype=float32)>"
      ]
     },
     "execution_count": 60,
     "metadata": {},
     "output_type": "execute_result"
    }
   ],
   "source": [
    "#Round out predictions and reduce to 1-dim array\n",
    "y_pred = tf.squeeze(tf.round(y_pred))\n",
    "y_pred[:10]"
   ]
  },
  {
   "cell_type": "code",
   "execution_count": 61,
   "id": "f1c8b4a9",
   "metadata": {},
   "outputs": [
    {
     "data": {
      "text/plain": [
       "{'accuracy': 75.06561679790026,\n",
       " 'precision': 0.7510077975908164,\n",
       " 'recall': 0.7506561679790026,\n",
       " 'f1': 0.7489268622514025}"
      ]
     },
     "execution_count": 61,
     "metadata": {},
     "output_type": "execute_result"
    }
   ],
   "source": [
    "model_2_metrics = eval_model(y_true=y_val,y_pred=y_pred)\n",
    "model_2_metrics"
   ]
  },
  {
   "cell_type": "code",
   "execution_count": 62,
   "id": "40a394fd",
   "metadata": {},
   "outputs": [
    {
     "name": "stdout",
     "output_type": "stream",
     "text": [
      "Model1 accuracy:88.72,\tModel2 accuracy:75.07,\tDifference:-13.65\n",
      "Model1 precision:0.90,\tModel2 precision:0.75,\tDifference:-0.15\n",
      "Model1 recall:0.89,\tModel2 recall:0.75,\tDifference:-0.14\n",
      "Model1 f1:0.88,\tModel2 f1:0.75,\tDifference:-0.14\n"
     ]
    }
   ],
   "source": [
    "# Compare model 2 to baseline model\n",
    "compare_metrics(baseline_results,model_2_metrics)"
   ]
  },
  {
   "cell_type": "markdown",
   "id": "91cbeb9c",
   "metadata": {},
   "source": [
    "### Model 3: GRU\n",
    "\n",
    "Another popular and effective RNN component is the GRU or gated recurrent unit.\n",
    "\n",
    "The GRU cell has similar features to an LSTM cell but has less parameters.\n",
    "\n",
    "> 📖 **Resource:** A full explanation of the GRU cell is beyond the scope of this noteook but I'd suggest the following resources to learn more:\n",
    "* [Gated Recurrent Unit](https://en.wikipedia.org/wiki/Gated_recurrent_unit) Wikipedia page\n",
    "* [Understanding GRU networks](https://towardsdatascience.com/understanding-gru-networks-2ef37df6c9be) by Simeon Kostadinov\n",
    "\n",
    "To use the GRU cell in TensorFlow, we can call the [`tensorflow.keras.layers.GRU()`](https://www.tensorflow.org/api_docs/python/tf/keras/layers/GRU) class.\n",
    "\n",
    "The architecture of the GRU-powered model will follow the same structure we've been using:\n",
    "\n",
    "```\n",
    "Input (text) -> Tokenize -> Embedding -> Layers -> Output (label probability)\n",
    "```\n",
    "\n",
    "Again, the only difference will be the layer(s) we use between the embedding and the output."
   ]
  },
  {
   "cell_type": "code",
   "execution_count": 63,
   "id": "9d728028",
   "metadata": {},
   "outputs": [],
   "source": [
    "#Set random seed and create embedding layer (new embedding layer for each model)\n",
    "from tensorflow.keras import layers\n",
    "tf.random.set_seed(42)\n",
    "model_3_embedding = layers.Embedding(input_dim=max_vocab_length,\n",
    "                                     output_dim=128,\n",
    "                                     embeddings_initializer=\"uniform\",\n",
    "                                     input_length=no_tokens,\n",
    "                                     name=\"embedding_3\")\n",
    "\n",
    "# build an RNN using the GRU cell\n",
    "inputs = layers.Input(shape=(1,),dtype=\"string\")\n",
    "x = text_vectorizer(inputs)\n",
    "x = model_3_embedding(x)\n",
    "# x = layers.GRU(64, return_sequences=True) # stacking recurrent cells requires return_sequences=True\n",
    "x= layers.GRU(64,activation='relu')(x)\n",
    "outputs = layers.Dense(1,activation=\"sigmoid\")(x)\n",
    "model_3 = tf.keras.Model(inputs,outputs,name=\"model_3_GRU\")"
   ]
  },
  {
   "cell_type": "code",
   "execution_count": 64,
   "id": "79ff7707",
   "metadata": {},
   "outputs": [
    {
     "name": "stdout",
     "output_type": "stream",
     "text": [
      "Model: \"model_3_GRU\"\n",
      "_________________________________________________________________\n",
      "Layer (type)                 Output Shape              Param #   \n",
      "=================================================================\n",
      "input_3 (InputLayer)         [(None, 1)]               0         \n",
      "_________________________________________________________________\n",
      "text_vectorization_1 (TextVe (None, 15)                0         \n",
      "_________________________________________________________________\n",
      "embedding_3 (Embedding)      (None, 15, 128)           1280000   \n",
      "_________________________________________________________________\n",
      "gru (GRU)                    (None, 64)                37248     \n",
      "_________________________________________________________________\n",
      "dense_2 (Dense)              (None, 1)                 65        \n",
      "=================================================================\n",
      "Total params: 1,317,313\n",
      "Trainable params: 1,317,313\n",
      "Non-trainable params: 0\n",
      "_________________________________________________________________\n"
     ]
    }
   ],
   "source": [
    "# summary model\n",
    "model_3.summary()"
   ]
  },
  {
   "cell_type": "code",
   "execution_count": 65,
   "id": "53953437",
   "metadata": {},
   "outputs": [],
   "source": [
    "# compile the model\n",
    "model_3.compile(loss=\"binary_crossentropy\",\n",
    "               optimizer=tf.keras.optimizers.Adam(),\n",
    "               metrics=[\"accuracy\"])"
   ]
  },
  {
   "cell_type": "markdown",
   "id": "31004f06",
   "metadata": {},
   "source": [
    "Notice the difference in number of trainable parameters between `model_2` (LSTM) and `model_3` (GRU). The difference comes from the LSTM cell having more trainable parameters than the GRU cell.\n",
    "\n",
    "We'll fit our model just as we've been doing previously. We'll also track our models results using our `create_tensorboard_callback()` function."
   ]
  },
  {
   "cell_type": "code",
   "execution_count": 66,
   "id": "50f27305",
   "metadata": {},
   "outputs": [
    {
     "name": "stdout",
     "output_type": "stream",
     "text": [
      "Saving TensorBoard log files to: model_logs/GRU/20230102-074736\n",
      "Epoch 1/5\n",
      "215/215 [==============================] - 12s 46ms/step - loss: 0.5585 - accuracy: 0.6999 - val_loss: 0.4518 - val_accuracy: 0.7913\n",
      "Epoch 2/5\n",
      "215/215 [==============================] - 9s 43ms/step - loss: 0.3368 - accuracy: 0.8599 - val_loss: 0.4918 - val_accuracy: 0.7822\n",
      "Epoch 3/5\n",
      "215/215 [==============================] - 9s 43ms/step - loss: 0.2229 - accuracy: 0.9129 - val_loss: 0.5878 - val_accuracy: 0.7874\n",
      "Epoch 4/5\n",
      "215/215 [==============================] - 9s 43ms/step - loss: 0.1514 - accuracy: 0.9407 - val_loss: 0.8036 - val_accuracy: 0.7769\n",
      "Epoch 5/5\n",
      "215/215 [==============================] - 9s 43ms/step - loss: 0.1063 - accuracy: 0.9583 - val_loss: 0.8946 - val_accuracy: 0.7717\n"
     ]
    }
   ],
   "source": [
    "# train model\n",
    "model_3_history = model_3.fit(x_train,y_train,epochs=5,validation_data=(x_val,y_val),\n",
    "                             callbacks=[create_tensorboard_callback(SAVE_DIR,\"GRU\")])"
   ]
  },
  {
   "cell_type": "code",
   "execution_count": 67,
   "id": "982532cd",
   "metadata": {},
   "outputs": [],
   "source": [
    "# predict and convert prediction probabilities to prediction classes\n",
    "y_pred = model_3.predict(x_val)\n",
    "y_pred = tf.squeeze((tf.round(y_pred)))"
   ]
  },
  {
   "cell_type": "code",
   "execution_count": 68,
   "id": "3d710857",
   "metadata": {},
   "outputs": [
    {
     "data": {
      "text/plain": [
       "{'accuracy': 77.16535433070865,\n",
       " 'precision': 0.7715668446582516,\n",
       " 'recall': 0.7716535433070866,\n",
       " 'f1': 0.7706989403422689}"
      ]
     },
     "execution_count": 68,
     "metadata": {},
     "output_type": "execute_result"
    }
   ],
   "source": [
    "# Calculate metric\n",
    "model_3_metrics = eval_model(y_true=y_val,y_pred=y_pred)\n",
    "model_3_metrics"
   ]
  },
  {
   "cell_type": "code",
   "execution_count": 69,
   "id": "ba03aeae",
   "metadata": {},
   "outputs": [
    {
     "name": "stdout",
     "output_type": "stream",
     "text": [
      "Model1 accuracy:88.72,\tModel2 accuracy:77.17,\tDifference:-11.55\n",
      "Model1 precision:0.90,\tModel2 precision:0.77,\tDifference:-0.13\n",
      "Model1 recall:0.89,\tModel2 recall:0.77,\tDifference:-0.12\n",
      "Model1 f1:0.88,\tModel2 f1:0.77,\tDifference:-0.11\n"
     ]
    }
   ],
   "source": [
    "# Compare model 2 to baseline model\n",
    "compare_metrics(baseline_results,model_3_metrics)"
   ]
  },
  {
   "cell_type": "markdown",
   "id": "be73aaf5",
   "metadata": {},
   "source": [
    "### Model 4: Bidirectonal RNN model \n",
    "\n",
    "Look at us go! We've already built two RNN's with GRU and LSTM cells. Now we're going to look into another kind of RNN, the bidirectional RNN.\n",
    "\n",
    "A standard RNN will process a sequence from left to right, where as a bidirectional RNN will process the sequence from left to right and then again from right to left.\n",
    "\n",
    "Intuitively, this can be thought of as if you were reading a sentence for the first time in the normal fashion (left to right) but for some reason it didn't make sense so you traverse back through the words and go back over them again (right to left).\n",
    "\n",
    "In practice, many sequence models often see and improvement in performance when using bidirectional RNN's.\n",
    "\n",
    "However, this improvement in performance often comes at the cost of longer training times and increased model parameters (since the model goes left to right and right to left, the number of trainable parameters doubles).\n",
    "\n",
    "Okay enough talk, let's build a bidirectional RNN.\n",
    "\n",
    "Once again, TensorFlow helps us out by providing the [`tensorflow.keras.layers.Bidirectional`](https://www.tensorflow.org/api_docs/python/tf/keras/layers/Bidirectional) class. We can use the `Bidirectional` class to wrap our existing RNNs, instantly making them bidirectional."
   ]
  },
  {
   "cell_type": "code",
   "execution_count": 70,
   "id": "714d24cf",
   "metadata": {},
   "outputs": [
    {
     "name": "stdout",
     "output_type": "stream",
     "text": [
      "(None, 128)\n"
     ]
    }
   ],
   "source": [
    "# Set random seed and create embedding layer(new embedding layer for each model)\n",
    "from tensorflow.keras import layers\n",
    "tf.random.set_seed(42)\n",
    "model_4_embedding = layers.Embedding(input_dim=max_vocab_length,\n",
    "                                    output_dim=128,\n",
    "                                    embeddings_initializer='uniform',\n",
    "                                    input_length=no_tokens,\n",
    "                                    name=\"embedding_4\")\n",
    "\n",
    "# Build a bidirectional RNN in tensorflow\n",
    "inputs = layers.Input(shape=(1,),dtype=\"string\")\n",
    "x = text_vectorizer(inputs)\n",
    "x = model_4_embedding(x)\n",
    "x = layers.Bidirectional(layers.LSTM(64))(x) # bidirectional goes both ways so has double parameters of regular LSTM layer 64*2\n",
    "print(x.shape)\n",
    "outputs = layers.Dense(1,activation=\"sigmoid\")(x)\n",
    "model_4 = tf.keras.Model(inputs,outputs,name=\"model_4_bidirectional\")"
   ]
  },
  {
   "cell_type": "code",
   "execution_count": 71,
   "id": "6e0e3c09",
   "metadata": {},
   "outputs": [
    {
     "name": "stdout",
     "output_type": "stream",
     "text": [
      "Model: \"model_4_bidirectional\"\n",
      "_________________________________________________________________\n",
      "Layer (type)                 Output Shape              Param #   \n",
      "=================================================================\n",
      "input_4 (InputLayer)         [(None, 1)]               0         \n",
      "_________________________________________________________________\n",
      "text_vectorization_1 (TextVe (None, 15)                0         \n",
      "_________________________________________________________________\n",
      "embedding_4 (Embedding)      (None, 15, 128)           1280000   \n",
      "_________________________________________________________________\n",
      "bidirectional (Bidirectional (None, 128)               98816     \n",
      "_________________________________________________________________\n",
      "dense_3 (Dense)              (None, 1)                 129       \n",
      "=================================================================\n",
      "Total params: 1,378,945\n",
      "Trainable params: 1,378,945\n",
      "Non-trainable params: 0\n",
      "_________________________________________________________________\n"
     ]
    }
   ],
   "source": [
    "# Summary moddel\n",
    "model_4.summary()"
   ]
  },
  {
   "cell_type": "markdown",
   "id": "7432fcf8",
   "metadata": {},
   "source": [
    "> 🔑 **Note:** You can use the `Bidirectional` wrapper on any RNN cell in TensorFlow. For example, `layers.Bidirectional(layers.GRU(64))` creates a bidirectional GRU cell.\n",
    "\n",
    "Our bidirectional model is built, let's compile it."
   ]
  },
  {
   "cell_type": "code",
   "execution_count": 72,
   "id": "cc32a00b",
   "metadata": {},
   "outputs": [],
   "source": [
    "# Compile model\n",
    "model_4.compile(loss=\"binary_crossentropy\",\n",
    "               optimizer=tf.keras.optimizers.Adam(),\n",
    "               metrics=[\"accuracy\"])"
   ]
  },
  {
   "cell_type": "code",
   "execution_count": 73,
   "id": "759a9b24",
   "metadata": {},
   "outputs": [
    {
     "name": "stdout",
     "output_type": "stream",
     "text": [
      "Saving TensorBoard log files to: model_logs/bidirectional_RNN/20230102-074826\n",
      "Epoch 1/5\n",
      "215/215 [==============================] - 18s 66ms/step - loss: 0.5093 - accuracy: 0.7481 - val_loss: 0.4606 - val_accuracy: 0.7795\n",
      "Epoch 2/5\n",
      "215/215 [==============================] - 12s 58ms/step - loss: 0.3135 - accuracy: 0.8708 - val_loss: 0.5144 - val_accuracy: 0.7690\n",
      "Epoch 3/5\n",
      "215/215 [==============================] - 12s 57ms/step - loss: 0.2150 - accuracy: 0.9178 - val_loss: 0.5626 - val_accuracy: 0.7677\n",
      "Epoch 4/5\n",
      "215/215 [==============================] - 13s 59ms/step - loss: 0.1523 - accuracy: 0.9469 - val_loss: 0.6365 - val_accuracy: 0.7769\n",
      "Epoch 5/5\n",
      "215/215 [==============================] - 13s 58ms/step - loss: 0.1083 - accuracy: 0.9639 - val_loss: 0.6509 - val_accuracy: 0.7664\n"
     ]
    },
    {
     "data": {
      "text/plain": [
       "<keras.callbacks.History at 0x34fdf8b0>"
      ]
     },
     "execution_count": 73,
     "metadata": {},
     "output_type": "execute_result"
    }
   ],
   "source": [
    "# Train model\n",
    "model_4.fit(x_train,y_train,validation_data=(x_val,y_val),epochs=5,\n",
    "            callbacks=[create_tensorboard_callback(SAVE_DIR, \"bidirectional_RNN\")]\n",
    "           )"
   ]
  },
  {
   "cell_type": "code",
   "execution_count": 74,
   "id": "c1360b2c",
   "metadata": {},
   "outputs": [
    {
     "data": {
      "text/plain": [
       "<tf.Tensor: shape=(10,), dtype=float32, numpy=array([0., 1., 1., 0., 0., 1., 1., 1., 1., 0.], dtype=float32)>"
      ]
     },
     "execution_count": 74,
     "metadata": {},
     "output_type": "execute_result"
    }
   ],
   "source": [
    "# Make prediction\n",
    "y_pred = model_4.predict(x_val)\n",
    "y_pred = tf.squeeze(tf.round(y_pred))\n",
    "y_pred[:10]"
   ]
  },
  {
   "cell_type": "code",
   "execution_count": 75,
   "id": "4bbe8d63",
   "metadata": {},
   "outputs": [
    {
     "data": {
      "text/plain": [
       "{'accuracy': 76.64041994750657,\n",
       " 'precision': 0.7665895370389821,\n",
       " 'recall': 0.7664041994750657,\n",
       " 'f1': 0.7651213533864446}"
      ]
     },
     "execution_count": 75,
     "metadata": {},
     "output_type": "execute_result"
    }
   ],
   "source": [
    "# Calculate metric\n",
    "model_4_metrics = eval_model(y_true=y_val,y_pred=y_pred)\n",
    "model_4_metrics"
   ]
  },
  {
   "cell_type": "code",
   "execution_count": 76,
   "id": "fbe429ad",
   "metadata": {},
   "outputs": [
    {
     "name": "stdout",
     "output_type": "stream",
     "text": [
      "Model1 accuracy:88.72,\tModel2 accuracy:76.64,\tDifference:-12.08\n",
      "Model1 precision:0.90,\tModel2 precision:0.77,\tDifference:-0.13\n",
      "Model1 recall:0.89,\tModel2 recall:0.77,\tDifference:-0.12\n",
      "Model1 f1:0.88,\tModel2 f1:0.77,\tDifference:-0.12\n"
     ]
    }
   ],
   "source": [
    "# Compare metric\n",
    "compare_metrics(baseline_results,model_4_metrics)"
   ]
  },
  {
   "cell_type": "markdown",
   "id": "6307f8b3",
   "metadata": {},
   "source": [
    "## Convolutional Neural Networks for Text\n",
    "\n",
    "You might've used convolutional neural networks (CNNs) for images before but they can also be used for sequences.\n",
    "\n",
    "The main difference between using CNNs for images and sequences is the shape of the data. Images come in 2-dimensions (height x width) where as sequences are often 1-dimensional (a string of text).\n",
    "\n",
    "So to use CNNs with sequences, we use a 1-dimensional convolution instead of a 2-dimensional convolution.\n",
    "\n",
    "A typical CNN architecture for sequences will look like the following: \n",
    "\n",
    "```\n",
    "Inputs (text) -> Tokenization -> Embedding -> Layers -> Outputs (class probabilities)\n",
    "```\n",
    "\n",
    "You might be thinking \"that just looks like the architecture layout we've been using for the other models...\"\n",
    "\n",
    "And you'd be right.\n",
    "\n",
    "The difference again is in the layers component. Instead of using an LSTM or GRU cell, we're going to use a [`tensorflow.keras.layers.Conv1D()`](https://www.tensorflow.org/api_docs/python/tf/keras/layers/Conv1D) layer followed by a [`tensorflow.keras.layers.GlobablMaxPool1D()`](https://www.tensorflow.org/api_docs/python/tf/keras/layers/GlobalMaxPool1D) layer.\n",
    "\n",
    "> 📖 **Resource:** The intuition here is explained succinctly in the paper [*Understanding Convolutional Neural Networks for Text Classification*](https://www.aclweb.org/anthology/W18-5408.pdf), where they state that CNNs classify text through the following steps:\n",
    "1. 1-dimensional convolving filters are used as ngram detectors, each filter specializing in a closely-related family of ngrams (an ngram is a collection of n-words, for example, an ngram of 5 might result in \"hello, my name is Daniel\").\n",
    "2. Max-pooling over time extracts the relevant ngrams for making a decision.\n",
    "3. The rest of the network classifies the text based on this information.\n",
    "\n",
    "> \n",
    "### Model 5: Conv1D\n",
    "\n",
    "Before we build a full 1-dimensional CNN model, let's see a 1-dimensional convolutional layer (also called a **temporal convolution**) in action.\n",
    "\n",
    "We'll first create an embedding of a sample of text and experiment passing it through a `Conv1D()` layer and `GlobalMaxPool1D()` layer."
   ]
  },
  {
   "cell_type": "code",
   "execution_count": 77,
   "id": "32a94e22",
   "metadata": {},
   "outputs": [
    {
     "name": "stdout",
     "output_type": "stream",
     "text": [
      "(1, 15, 128)\n",
      "(1, 11, 32)\n",
      "(1, 32)\n"
     ]
    }
   ],
   "source": [
    "# Test out the embedding, 1D convolutional and max pooling\n",
    "embedding_test = embedding(text_vectorizer([\"this is a test sentence\"])) # turn target sentence into embedding\n",
    "print(embedding_test.shape)\n",
    "conv_1d = layers.Conv1D(filters=32,kernel_size=5,activation='relu') #convole over target sequence 5 words at a time\n",
    "conv_1d_output = conv_1d(embedding_test) # pass embedding through 1D convolutional layer\n",
    "print(conv_1d_output.shape)\n",
    "max_pool = layers.GlobalMaxPool1D()\n",
    "max_pool_output = max_pool(conv_1d_output) # get the most important features\n",
    "print(max_pool_output.shape)"
   ]
  },
  {
   "cell_type": "markdown",
   "id": "24164bc4",
   "metadata": {},
   "source": [
    "Notice the output shapes of each layer.\n",
    "\n",
    "The embedding has an output shape dimension of the parameters we set it to (`input_length=15` and `output_dim=128`).\n",
    "\n",
    "The 1-dimensional convolutional layer has an output which has been compressed inline with its parameters. And the same goes for the max pooling layer output.\n",
    "\n",
    "Our text starts out as a string but gets converted to a feature vector of length 64 through various transformation steps (from tokenization to embedding to 1-dimensional convolution to max pool).\n",
    "\n",
    "Let's take a peak at what each of these transformations looks like."
   ]
  },
  {
   "cell_type": "code",
   "execution_count": 78,
   "id": "0f4d0408",
   "metadata": {},
   "outputs": [
    {
     "data": {
      "text/plain": [
       "(<tf.Tensor: shape=(1, 15, 128), dtype=float32, numpy=\n",
       " array([[[ 0.02534916, -0.03109056,  0.00285617, ..., -0.00783162,\n",
       "          -0.02685578, -0.04434135],\n",
       "         [-0.0658626 ,  0.09451495, -0.01477604, ..., -0.00657782,\n",
       "          -0.04238792,  0.07777894],\n",
       "         [-0.0480365 , -0.00709754, -0.02330892, ..., -0.01807334,\n",
       "           0.02351035,  0.02676386],\n",
       "         ...,\n",
       "         [ 0.00073165,  0.01504797, -0.03425453, ..., -0.0440354 ,\n",
       "          -0.01042278,  0.01876434],\n",
       "         [ 0.00073165,  0.01504797, -0.03425453, ..., -0.0440354 ,\n",
       "          -0.01042278,  0.01876434],\n",
       "         [ 0.00073165,  0.01504797, -0.03425453, ..., -0.0440354 ,\n",
       "          -0.01042278,  0.01876434]]], dtype=float32)>,\n",
       " <tf.Tensor: shape=(1, 11, 32), dtype=float32, numpy=\n",
       " array([[[0.08324982, 0.00648715, 0.        , 0.0398357 , 0.        ,\n",
       "          0.01144419, 0.0041625 , 0.02288384, 0.        , 0.00900974,\n",
       "          0.        , 0.        , 0.03401771, 0.06408264, 0.08103718,\n",
       "          0.00409012, 0.01579617, 0.        , 0.07930173, 0.        ,\n",
       "          0.        , 0.        , 0.14525083, 0.        , 0.        ,\n",
       "          0.        , 0.03682069, 0.06534284, 0.        , 0.        ,\n",
       "          0.05094635, 0.        ],\n",
       "         [0.        , 0.05387187, 0.        , 0.11491334, 0.        ,\n",
       "          0.        , 0.16237095, 0.        , 0.        , 0.00171236,\n",
       "          0.14336717, 0.        , 0.        , 0.        , 0.        ,\n",
       "          0.01197946, 0.        , 0.        , 0.13551354, 0.00401044,\n",
       "          0.10309846, 0.09445541, 0.08390278, 0.        , 0.04213043,\n",
       "          0.04487599, 0.06560446, 0.        , 0.02272681, 0.        ,\n",
       "          0.        , 0.        ],\n",
       "         [0.03683232, 0.04895754, 0.        , 0.15324758, 0.        ,\n",
       "          0.        , 0.        , 0.        , 0.        , 0.        ,\n",
       "          0.        , 0.04650329, 0.00496453, 0.07349391, 0.01608638,\n",
       "          0.        , 0.02779119, 0.        , 0.08080544, 0.01403155,\n",
       "          0.        , 0.03768804, 0.10382749, 0.        , 0.03361664,\n",
       "          0.        , 0.02577581, 0.00140338, 0.        , 0.        ,\n",
       "          0.03211502, 0.        ],\n",
       "         [0.00887842, 0.10450959, 0.        , 0.06974545, 0.02328694,\n",
       "          0.        , 0.04052219, 0.        , 0.        , 0.02733744,\n",
       "          0.08674353, 0.        , 0.        , 0.06129846, 0.02007271,\n",
       "          0.        , 0.        , 0.        , 0.03364249, 0.        ,\n",
       "          0.04525375, 0.05219692, 0.06375684, 0.        , 0.        ,\n",
       "          0.00774414, 0.0027344 , 0.        , 0.        , 0.0049965 ,\n",
       "          0.        , 0.        ],\n",
       "         [0.        , 0.0236905 , 0.        , 0.05827632, 0.05297654,\n",
       "          0.        , 0.        , 0.        , 0.        , 0.        ,\n",
       "          0.01719731, 0.0293682 , 0.00466114, 0.06879894, 0.01944809,\n",
       "          0.0158555 , 0.01294554, 0.        , 0.06866515, 0.        ,\n",
       "          0.006238  , 0.03514043, 0.02407501, 0.        , 0.0597981 ,\n",
       "          0.        , 0.01170122, 0.        , 0.        , 0.        ,\n",
       "          0.04444925, 0.        ],\n",
       "         [0.03544891, 0.        , 0.        , 0.05054992, 0.06105448,\n",
       "          0.        , 0.0099743 , 0.01403009, 0.        , 0.01680713,\n",
       "          0.03148526, 0.0388938 , 0.        , 0.07710694, 0.00590963,\n",
       "          0.        , 0.00263042, 0.        , 0.08935819, 0.        ,\n",
       "          0.        , 0.05331142, 0.05227913, 0.        , 0.06658377,\n",
       "          0.01881718, 0.02448672, 0.        , 0.        , 0.        ,\n",
       "          0.02008444, 0.        ],\n",
       "         [0.03544891, 0.        , 0.        , 0.05054992, 0.06105448,\n",
       "          0.        , 0.0099743 , 0.01403009, 0.        , 0.01680713,\n",
       "          0.03148526, 0.0388938 , 0.        , 0.07710694, 0.00590963,\n",
       "          0.        , 0.00263042, 0.        , 0.08935819, 0.        ,\n",
       "          0.        , 0.05331142, 0.05227913, 0.        , 0.06658377,\n",
       "          0.01881718, 0.02448672, 0.        , 0.        , 0.        ,\n",
       "          0.02008444, 0.        ],\n",
       "         [0.03544891, 0.        , 0.        , 0.05054992, 0.06105448,\n",
       "          0.        , 0.0099743 , 0.01403009, 0.        , 0.01680713,\n",
       "          0.03148526, 0.0388938 , 0.        , 0.07710694, 0.00590963,\n",
       "          0.        , 0.00263042, 0.        , 0.08935819, 0.        ,\n",
       "          0.        , 0.05331142, 0.05227913, 0.        , 0.06658377,\n",
       "          0.01881718, 0.02448672, 0.        , 0.        , 0.        ,\n",
       "          0.02008444, 0.        ],\n",
       "         [0.03544891, 0.        , 0.        , 0.05054992, 0.06105448,\n",
       "          0.        , 0.0099743 , 0.01403009, 0.        , 0.01680713,\n",
       "          0.03148526, 0.0388938 , 0.        , 0.07710694, 0.00590963,\n",
       "          0.        , 0.00263042, 0.        , 0.08935819, 0.        ,\n",
       "          0.        , 0.05331142, 0.05227913, 0.        , 0.06658377,\n",
       "          0.01881718, 0.02448672, 0.        , 0.        , 0.        ,\n",
       "          0.02008444, 0.        ],\n",
       "         [0.03544891, 0.        , 0.        , 0.05054992, 0.06105448,\n",
       "          0.        , 0.0099743 , 0.01403009, 0.        , 0.01680713,\n",
       "          0.03148526, 0.0388938 , 0.        , 0.07710694, 0.00590963,\n",
       "          0.        , 0.00263042, 0.        , 0.08935819, 0.        ,\n",
       "          0.        , 0.05331142, 0.05227913, 0.        , 0.06658377,\n",
       "          0.01881718, 0.02448672, 0.        , 0.        , 0.        ,\n",
       "          0.02008444, 0.        ],\n",
       "         [0.03544891, 0.        , 0.        , 0.05054992, 0.06105448,\n",
       "          0.        , 0.0099743 , 0.01403009, 0.        , 0.01680713,\n",
       "          0.03148526, 0.0388938 , 0.        , 0.07710694, 0.00590963,\n",
       "          0.        , 0.00263042, 0.        , 0.08935819, 0.        ,\n",
       "          0.        , 0.05331142, 0.05227913, 0.        , 0.06658377,\n",
       "          0.01881718, 0.02448672, 0.        , 0.        , 0.        ,\n",
       "          0.02008444, 0.        ]]], dtype=float32)>,\n",
       " <tf.Tensor: shape=(1, 32), dtype=float32, numpy=\n",
       " array([[0.08324982, 0.10450959, 0.        , 0.15324758, 0.06105448,\n",
       "         0.01144419, 0.16237095, 0.02288384, 0.        , 0.02733744,\n",
       "         0.14336717, 0.04650329, 0.03401771, 0.07710694, 0.08103718,\n",
       "         0.0158555 , 0.02779119, 0.        , 0.13551354, 0.01403155,\n",
       "         0.10309846, 0.09445541, 0.14525083, 0.        , 0.06658377,\n",
       "         0.04487599, 0.06560446, 0.06534284, 0.02272681, 0.0049965 ,\n",
       "         0.05094635, 0.        ]], dtype=float32)>)"
      ]
     },
     "execution_count": 78,
     "metadata": {},
     "output_type": "execute_result"
    }
   ],
   "source": [
    "#See the outputs of each layer\n",
    "embedding_test[:1], conv_1d_output[:1],max_pool_output[:1]"
   ]
  },
  {
   "cell_type": "markdown",
   "id": "df33a2ce",
   "metadata": {},
   "source": [
    "Alright, we've seen the outputs of several components of a CNN for sequences, let's put them together and construct a full model, compile it (just as we've done with our other models) and get a summary. "
   ]
  },
  {
   "cell_type": "code",
   "execution_count": 79,
   "id": "9de25476",
   "metadata": {},
   "outputs": [
    {
     "name": "stdout",
     "output_type": "stream",
     "text": [
      "Model: \"model_5_Conv1D\"\n",
      "_________________________________________________________________\n",
      "Layer (type)                 Output Shape              Param #   \n",
      "=================================================================\n",
      "input_5 (InputLayer)         [(None, 1)]               0         \n",
      "_________________________________________________________________\n",
      "text_vectorization_1 (TextVe (None, 15)                0         \n",
      "_________________________________________________________________\n",
      "embedding_5 (Embedding)      (None, 15, 128)           1280000   \n",
      "_________________________________________________________________\n",
      "conv1d_1 (Conv1D)            (None, 11, 32)            20512     \n",
      "_________________________________________________________________\n",
      "global_max_pooling1d_1 (Glob (None, 32)                0         \n",
      "_________________________________________________________________\n",
      "dense_4 (Dense)              (None, 1)                 33        \n",
      "=================================================================\n",
      "Total params: 1,300,545\n",
      "Trainable params: 1,300,545\n",
      "Non-trainable params: 0\n",
      "_________________________________________________________________\n"
     ]
    }
   ],
   "source": [
    "from tensorflow.keras import layers\n",
    "# set random seed and create embedding layer (new embedding layer for each model)\n",
    "tf.random.set_seed(42)\n",
    "model_5_embedding = layers.Embedding(input_dim=max_vocab_length,\n",
    "                                     output_dim=128,\n",
    "                                     embeddings_initializer=\"uniform\",\n",
    "                                     input_length=no_tokens,\n",
    "                                     name=\"embedding_5\"\n",
    "                                    )\n",
    "\n",
    "# create 1-dimensional convolutional layer to model sequences\n",
    "inputs = layers.Input(shape=(1,),dtype='string')\n",
    "x =  text_vectorizer(inputs)\n",
    "x = model_5_embedding(x)\n",
    "x = layers.Conv1D(filters=32,kernel_size=5,activation='relu')(x)\n",
    "x = layers.GlobalMaxPool1D()(x)\n",
    "outputs = layers.Dense(1,activation='sigmoid')(x)\n",
    "model_5 = tf.keras.Model(inputs,outputs,name='model_5_Conv1D')\n",
    "\n",
    "# compile conv1d model\n",
    "model_5.compile(loss='binary_crossentropy',\n",
    "               optimizer=tf.keras.optimizers.Adam(),\n",
    "               metrics=['accuracy'])\n",
    "\n",
    "model_5.summary()"
   ]
  },
  {
   "cell_type": "code",
   "execution_count": 80,
   "id": "0e3943ed",
   "metadata": {},
   "outputs": [],
   "source": [
    "# Compile model\n",
    "model_5.compile(loss=\"binary_crossentropy\",\n",
    "               optimizer=tf.keras.optimizers.Adam(),\n",
    "               metrics=[\"accuracy\"])"
   ]
  },
  {
   "cell_type": "code",
   "execution_count": 81,
   "id": "902130b0",
   "metadata": {},
   "outputs": [
    {
     "name": "stdout",
     "output_type": "stream",
     "text": [
      "Saving TensorBoard log files to: model_logs/Conv1D/20230102-074936\n",
      "Epoch 1/5\n",
      "215/215 [==============================] - 9s 39ms/step - loss: 0.5652 - accuracy: 0.7141 - val_loss: 0.4733 - val_accuracy: 0.7795\n",
      "Epoch 2/5\n",
      "215/215 [==============================] - 8s 38ms/step - loss: 0.3380 - accuracy: 0.8615 - val_loss: 0.4758 - val_accuracy: 0.7730\n",
      "Epoch 3/5\n",
      "215/215 [==============================] - 8s 38ms/step - loss: 0.2070 - accuracy: 0.9234 - val_loss: 0.5457 - val_accuracy: 0.7730\n",
      "Epoch 4/5\n",
      "215/215 [==============================] - 8s 38ms/step - loss: 0.1314 - accuracy: 0.9578 - val_loss: 0.6163 - val_accuracy: 0.7730\n",
      "Epoch 5/5\n",
      "215/215 [==============================] - 8s 37ms/step - loss: 0.0933 - accuracy: 0.9691 - val_loss: 0.6779 - val_accuracy: 0.7782\n"
     ]
    },
    {
     "data": {
      "text/plain": [
       "<keras.callbacks.History at 0x351844f0>"
      ]
     },
     "execution_count": 81,
     "metadata": {},
     "output_type": "execute_result"
    }
   ],
   "source": [
    "# Train model\n",
    "model_5.fit(x_train,y_train,validation_data=(x_val,y_val),epochs=5,\n",
    "            callbacks=[create_tensorboard_callback(SAVE_DIR, \"Conv1D\")]\n",
    "           )"
   ]
  },
  {
   "cell_type": "code",
   "execution_count": 82,
   "id": "80b391e0",
   "metadata": {},
   "outputs": [
    {
     "data": {
      "text/plain": [
       "<tf.Tensor: shape=(10,), dtype=float32, numpy=array([0., 1., 1., 0., 0., 1., 1., 1., 1., 0.], dtype=float32)>"
      ]
     },
     "execution_count": 82,
     "metadata": {},
     "output_type": "execute_result"
    }
   ],
   "source": [
    "# Make prediction\n",
    "y_pred = model_5.predict(x_val)\n",
    "y_pred = tf.squeeze(tf.round(y_pred))\n",
    "y_pred[:10]"
   ]
  },
  {
   "cell_type": "code",
   "execution_count": 83,
   "id": "146d2852",
   "metadata": {},
   "outputs": [
    {
     "data": {
      "text/plain": [
       "{'accuracy': 77.82152230971128,\n",
       " 'precision': 0.7807522349051432,\n",
       " 'recall': 0.7782152230971129,\n",
       " 'f1': 0.7758810170952618}"
      ]
     },
     "execution_count": 83,
     "metadata": {},
     "output_type": "execute_result"
    }
   ],
   "source": [
    "# Calc metric\n",
    "model_5_metrics = eval_model(y_true=y_val,y_pred=y_pred)\n",
    "model_5_metrics"
   ]
  },
  {
   "cell_type": "code",
   "execution_count": 84,
   "id": "a61a6d89",
   "metadata": {},
   "outputs": [
    {
     "name": "stdout",
     "output_type": "stream",
     "text": [
      "Model1 accuracy:88.72,\tModel2 accuracy:77.82,\tDifference:-10.90\n",
      "Model1 precision:0.90,\tModel2 precision:0.78,\tDifference:-0.12\n",
      "Model1 recall:0.89,\tModel2 recall:0.78,\tDifference:-0.11\n",
      "Model1 f1:0.88,\tModel2 f1:0.78,\tDifference:-0.11\n"
     ]
    }
   ],
   "source": [
    "# Compare metric\n",
    "compare_metrics(baseline_results, model_5_metrics)"
   ]
  },
  {
   "cell_type": "markdown",
   "id": "91017638",
   "metadata": {},
   "source": [
    "## Using Pretrained Embeddings (transfer learning for NLP)\n",
    "\n",
    "For all of the previous deep learning models we've built and trained, we've created and used our own embeddings from scratch each time.\n",
    "\n",
    "However, a common practice is to leverage pretrained embeddings through **transfer learning**. This is one of the main benefits of using deep models: being able to take what one (often larger) model has learned (often on a large amount of data) and adjust it for our own use case.\n",
    "\n",
    "For our next model, instead of using our own embedding layer, we're going to replace it with a pretrained embedding layer.\n",
    "\n",
    "More specifically, we're going to be using the [Universal Sentence Encoder](https://www.aclweb.org/anthology/D18-2029.pdf) from [TensorFlow Hub](https://tfhub.dev/google/universal-sentence-encoder/4) (a great resource containing a plethora of pretrained model resources for a variety of tasks).\n",
    "\n",
    "> 🔑 **Note:** There are many different pretrained text embedding options on TensorFlow Hub, however, some require different levels of text preprocessing than others. Best to experiment with a few and see which best suits your use case.\n",
    "\n",
    "### Model 6: TensorFlow Hub Pretrained Sentence Encoder\n",
    "\n",
    "The main difference between the embedding layer we created and the Universal Sentence Encoder is that rather than create a word-level embedding, the Universal Sentence Encoder, as you might've guessed, creates a whole sentence-level embedding.\n",
    "\n",
    "Our embedding layer also outputs an a 128 dimensional vector for each word, where as, the Universal Sentence Encoder outputs a 512 dimensional vector for each sentence.\n",
    "\n",
    "![](https://raw.githubusercontent.com/mrdbourke/tensorflow-deep-learning/main/images/08-USE-tensorflow-hub-encoder-decoder-model.png)\n",
    "*The feature extractor model we're building through the eyes of an **encoder/decoder** model.*\n",
    "\n",
    "> 🔑 **Note:** An **encoder** is the name for a model which converts raw data such as text into a numerical representation (feature vector), a **decoder** converts the numerical representation to a desired output.\n",
    "\n",
    "As usual, this is best demonstrated with an example.\n",
    "\n",
    "We can load in a TensorFlow Hub module using the [`hub.load()`](https://www.tensorflow.org/hub/api_docs/python/hub/load) method and passing it the target URL of the module we'd like to use, in our case, it's \"https://tfhub.dev/google/universal-sentence-encoder/4\".\n",
    "\n",
    "Let's load the Universal Sentence Encoder model and test it on a couple of sentences."
   ]
  },
  {
   "cell_type": "code",
   "execution_count": 85,
   "id": "74068724",
   "metadata": {},
   "outputs": [],
   "source": [
    "import tensorflow_hub as hub\n",
    "embed = hub.load(\"https://tfhub.dev/google/universal-sentence-encoder/4\") # load Universal Sentence Encoder"
   ]
  },
  {
   "cell_type": "code",
   "execution_count": 86,
   "id": "d3458e3c",
   "metadata": {},
   "outputs": [
    {
     "data": {
      "text/plain": [
       "<tf.Tensor: shape=(2, 512), dtype=float32, numpy=\n",
       "array([[-0.0160283 ,  0.01068852,  0.02425466, ...,  0.00800523,\n",
       "         0.02877093, -0.01427996],\n",
       "       [ 0.03596685, -0.08579469, -0.01152744, ..., -0.03414334,\n",
       "         0.02816026, -0.00878945]], dtype=float32)>"
      ]
     },
     "execution_count": 86,
     "metadata": {},
     "output_type": "execute_result"
    }
   ],
   "source": [
    "embed_samples = embed([sample_sentence,\"When you call the universal sentence encoder on a sentence, it turns it into numbers.\"])\n",
    "embed_samples"
   ]
  },
  {
   "cell_type": "code",
   "execution_count": 87,
   "id": "824a89d6",
   "metadata": {},
   "outputs": [
    {
     "data": {
      "text/plain": [
       "TensorShape([512])"
      ]
     },
     "execution_count": 87,
     "metadata": {},
     "output_type": "execute_result"
    }
   ],
   "source": [
    "embed_samples[0].shape"
   ]
  },
  {
   "cell_type": "markdown",
   "id": "f0234fc8",
   "metadata": {},
   "source": [
    "Passing our sentences to the Universal Sentence Encoder (USE) encodes them from strings to 512 dimensional vectors, which make no sense to us but hopefully make sense to our machine learning models.\n",
    "\n",
    "Speaking of models, let's build one with the USE as our embedding layer.\n",
    "\n",
    "We can convert the TensorFlow Hub USE module into a Keras layer using the [`hub.KerasLayer`](https://www.tensorflow.org/hub/api_docs/python/hub/KerasLayer) class.\n",
    "\n",
    "> 🔑 **Note:** Due to the size of the USE TensorFlow Hub module, it may take a little while to download. Once it's downloaded though, it'll be cached and ready to use. And as with many TensorFlow Hub modules, there is a [\"lite\" version of the USE](https://tfhub.dev/google/universal-sentence-encoder-lite/2) which takes up less space but sacrifices some performance and requires more preprocessing steps. However, depending on your available compute power, the lite version may be better for your application use case."
   ]
  },
  {
   "cell_type": "code",
   "execution_count": 88,
   "id": "cdefe755",
   "metadata": {},
   "outputs": [],
   "source": [
    "sentence_encoder_layer = hub.KerasLayer(\"https://tfhub.dev/google/universal-sentence-encoder/4\",\n",
    "                                       input_shape=[], # shape of inputs coming to our model\n",
    "                                       dtype=tf.string, # data type of inputs comming to our model\n",
    "                                       trainable=False, # keep the pretrained weights (we ll create a feature extractor)\n",
    "                                       name=\"USE\")"
   ]
  },
  {
   "cell_type": "code",
   "execution_count": 89,
   "id": "7bfc9390",
   "metadata": {},
   "outputs": [],
   "source": [
    "# Create model using the sequential API\n",
    "model_6 = tf.keras.Sequential([\n",
    "    sentence_encoder_layer,\n",
    "    layers.Dense(64,activation=\"relu\"),\n",
    "    layers.Dense(1,activation=\"sigmoid\")\n",
    "],name=\"model_6_USE\")"
   ]
  },
  {
   "cell_type": "code",
   "execution_count": 90,
   "id": "e1468cb8",
   "metadata": {},
   "outputs": [],
   "source": [
    "# Summary model\n",
    "model_6.compile(loss=\"binary_crossentropy\",\n",
    "               optimizer=tf.keras.optimizers.Adam(),\n",
    "               metrics=[\"accuracy\"])"
   ]
  },
  {
   "cell_type": "code",
   "execution_count": 91,
   "id": "1d2be4b4",
   "metadata": {},
   "outputs": [
    {
     "name": "stdout",
     "output_type": "stream",
     "text": [
      "Model: \"model_6_USE\"\n",
      "_________________________________________________________________\n",
      "Layer (type)                 Output Shape              Param #   \n",
      "=================================================================\n",
      "USE (KerasLayer)             (None, 512)               256797824 \n",
      "_________________________________________________________________\n",
      "dense_5 (Dense)              (None, 64)                32832     \n",
      "_________________________________________________________________\n",
      "dense_6 (Dense)              (None, 1)                 65        \n",
      "=================================================================\n",
      "Total params: 256,830,721\n",
      "Trainable params: 32,897\n",
      "Non-trainable params: 256,797,824\n",
      "_________________________________________________________________\n"
     ]
    }
   ],
   "source": [
    "# Compile model\n",
    "model_6.summary()"
   ]
  },
  {
   "cell_type": "code",
   "execution_count": 92,
   "id": "d1ff83da",
   "metadata": {},
   "outputs": [
    {
     "name": "stdout",
     "output_type": "stream",
     "text": [
      "Saving TensorBoard log files to: model_logs/Conv1D/20230102-075043\n",
      "Epoch 1/5\n",
      "215/215 [==============================] - 14s 41ms/step - loss: 0.5008 - accuracy: 0.7892 - val_loss: 0.4478 - val_accuracy: 0.7966\n",
      "Epoch 2/5\n",
      "215/215 [==============================] - 3s 13ms/step - loss: 0.4144 - accuracy: 0.8133 - val_loss: 0.4369 - val_accuracy: 0.8058\n",
      "Epoch 3/5\n",
      "215/215 [==============================] - 3s 13ms/step - loss: 0.3998 - accuracy: 0.8212 - val_loss: 0.4329 - val_accuracy: 0.8110\n",
      "Epoch 4/5\n",
      "215/215 [==============================] - 3s 13ms/step - loss: 0.3925 - accuracy: 0.8266 - val_loss: 0.4288 - val_accuracy: 0.8110\n",
      "Epoch 5/5\n",
      "215/215 [==============================] - 3s 14ms/step - loss: 0.3860 - accuracy: 0.8276 - val_loss: 0.4309 - val_accuracy: 0.8123\n"
     ]
    },
    {
     "data": {
      "text/plain": [
       "<keras.callbacks.History at 0x49c1a0a0>"
      ]
     },
     "execution_count": 92,
     "metadata": {},
     "output_type": "execute_result"
    }
   ],
   "source": [
    "# Train model\n",
    "model_6.fit(x_train,y_train,validation_data=(x_val,y_val),epochs=5,\n",
    "            callbacks=[create_tensorboard_callback(SAVE_DIR, \"Conv1D\")]\n",
    "           )"
   ]
  },
  {
   "cell_type": "code",
   "execution_count": 93,
   "id": "08cad1cb",
   "metadata": {},
   "outputs": [
    {
     "data": {
      "text/plain": [
       "<tf.Tensor: shape=(10,), dtype=float32, numpy=array([0., 1., 1., 0., 1., 1., 1., 1., 1., 0.], dtype=float32)>"
      ]
     },
     "execution_count": 93,
     "metadata": {},
     "output_type": "execute_result"
    }
   ],
   "source": [
    "# Make prediction\n",
    "y_pred = model_6.predict(x_val)\n",
    "y_pred = tf.squeeze(tf.round(y_pred))\n",
    "y_pred[:10]"
   ]
  },
  {
   "cell_type": "code",
   "execution_count": 94,
   "id": "c8606e91",
   "metadata": {},
   "outputs": [
    {
     "data": {
      "text/plain": [
       "{'accuracy': 81.23359580052494,\n",
       " 'precision': 0.8148798668657973,\n",
       " 'recall': 0.8123359580052494,\n",
       " 'f1': 0.810686575717776}"
      ]
     },
     "execution_count": 94,
     "metadata": {},
     "output_type": "execute_result"
    }
   ],
   "source": [
    "# Calc metric\n",
    "model_6_metrics = eval_model(y_true=y_val,y_pred=y_pred)\n",
    "model_6_metrics"
   ]
  },
  {
   "cell_type": "code",
   "execution_count": 95,
   "id": "938fe38b",
   "metadata": {},
   "outputs": [
    {
     "name": "stdout",
     "output_type": "stream",
     "text": [
      "Model1 accuracy:88.72,\tModel2 accuracy:81.23,\tDifference:-7.48\n",
      "Model1 precision:0.90,\tModel2 precision:0.81,\tDifference:-0.08\n",
      "Model1 recall:0.89,\tModel2 recall:0.81,\tDifference:-0.07\n",
      "Model1 f1:0.88,\tModel2 f1:0.81,\tDifference:-0.07\n"
     ]
    }
   ],
   "source": [
    "# Compare metric\n",
    "compare_metrics(baseline_results, model_6_metrics)"
   ]
  },
  {
   "cell_type": "markdown",
   "id": "8bf51b70",
   "metadata": {},
   "source": [
    "### Model 7: TensorFlow Hub Pretrained Sentence Encoder 10% of the training data\n",
    "\n",
    "One of the benefits of using transfer learning methods, such as, the pretrained embeddings within the USE is the ability to get great results on a small amount of data (the USE paper even mentions this in the abstract).\n",
    "\n",
    "To put this to the test, we're going to make a small subset of the training data (10%), train a model and evaluate it."
   ]
  },
  {
   "cell_type": "code",
   "execution_count": 96,
   "id": "c21a8a9b",
   "metadata": {},
   "outputs": [],
   "source": [
    "### NOTE: Making splits like this will lead to data leakage ###\n",
    "### (some of the training examples in the validation set) ###\n",
    "\n",
    "### WRONG WAY TO MAKE SPLITS (train_df_shuffled has already been split) ### \n",
    "\n",
    "# # Create subsets of 10% of the training data\n",
    "# train_10_percent = train_df_shuffled[[\"text\", \"target\"]].sample(frac=0.1, random_state=42)\n",
    "# train_sentences_10_percent = train_10_percent[\"text\"].to_list()\n",
    "# train_labels_10_percent = train_10_percent[\"target\"].to_list()\n",
    "# len(train_sentences_10_percent), len(train_labels_10_percent)"
   ]
  },
  {
   "cell_type": "code",
   "execution_count": 97,
   "id": "9f5ac55a",
   "metadata": {},
   "outputs": [],
   "source": [
    "x90_train,x10_train,y90_train,y10_train =train_test_split(x_train,y_train,test_size=0.1,random_state=42)"
   ]
  },
  {
   "cell_type": "code",
   "execution_count": 98,
   "id": "617ba526",
   "metadata": {},
   "outputs": [
    {
     "name": "stdout",
     "output_type": "stream",
     "text": [
      "Total training examples: 6851\n",
      "Length of 10% training examples: 686\n"
     ]
    }
   ],
   "source": [
    "#Check length of 10 percent datasets\n",
    "print(f\"Total training examples: {len(x_train)}\")\n",
    "print(f\"Length of 10% training examples: {len(x10_train)}\")"
   ]
  },
  {
   "cell_type": "markdown",
   "id": "7a2c54da",
   "metadata": {},
   "source": [
    "Because we've selected a random subset of the training samples, the classes should be roughly balanced (as they are in the full training dataset)."
   ]
  },
  {
   "cell_type": "code",
   "execution_count": 102,
   "id": "3f193d86",
   "metadata": {},
   "outputs": [
    {
     "data": {
      "text/plain": [
       "0    415\n",
       "1    271\n",
       "dtype: int64"
      ]
     },
     "execution_count": 102,
     "metadata": {},
     "output_type": "execute_result"
    }
   ],
   "source": [
    "#Check the number of targets in out subset of data\n",
    "# (this should be close to the ditribution of labels in the original train_model)\n",
    "pd.Series(y10_train).value_counts()"
   ]
  },
  {
   "cell_type": "markdown",
   "id": "2c72fb18",
   "metadata": {},
   "source": [
    "To make sure we're making an appropriate comparison between our model's ability to learn from the full training set and 10% subset, we'll clone our USE model (`model_6`) using the [`tf.keras.models.clone_model()`](https://www.tensorflow.org/api_docs/python/tf/keras/models/clone_model) method.\n",
    "\n",
    "Doing this will create the same architecture but reset the learned weights of the clone target (pretrained weights from the USE will remain but all others will be reset)."
   ]
  },
  {
   "cell_type": "code",
   "execution_count": 103,
   "id": "ea1a19b7",
   "metadata": {},
   "outputs": [
    {
     "name": "stdout",
     "output_type": "stream",
     "text": [
      "Model: \"model_6_USE\"\n",
      "_________________________________________________________________\n",
      "Layer (type)                 Output Shape              Param #   \n",
      "=================================================================\n",
      "USE (KerasLayer)             (None, 512)               256797824 \n",
      "_________________________________________________________________\n",
      "dense_5 (Dense)              (None, 64)                32832     \n",
      "_________________________________________________________________\n",
      "dense_6 (Dense)              (None, 1)                 65        \n",
      "=================================================================\n",
      "Total params: 256,830,721\n",
      "Trainable params: 32,897\n",
      "Non-trainable params: 256,797,824\n",
      "_________________________________________________________________\n"
     ]
    }
   ],
   "source": [
    "# Clone model_6 but reset weights\n",
    "model_7 = tf.keras.models.clone_model(model_6)\n",
    "\n",
    "# Compile model\n",
    "model_7.compile(loss=\"binary_crossentropy\",\n",
    "               optimizer=tf.keras.optimizers.Adam(),\n",
    "               metrics=[\"accuracy\"])\n",
    "\n",
    "# Get a summary (will be same as model_6)\n",
    "model_7.summary()"
   ]
  },
  {
   "cell_type": "markdown",
   "id": "358ba52a",
   "metadata": {},
   "source": [
    "Notice the layout of `model_7` is the same as `model_6`. Now let's train the newly created model on our 10% training data subset."
   ]
  },
  {
   "cell_type": "code",
   "execution_count": 104,
   "id": "242be191",
   "metadata": {},
   "outputs": [
    {
     "name": "stdout",
     "output_type": "stream",
     "text": [
      "Saving TensorBoard log files to: model_logs/10_percent_tf_hub_sentence_encoder/20230102-123249\n",
      "Epoch 1/5\n",
      "22/22 [==============================] - 9s 270ms/step - loss: 0.6716 - accuracy: 0.6574 - val_loss: 0.6526 - val_accuracy: 0.6903\n",
      "Epoch 2/5\n",
      "22/22 [==============================] - 1s 29ms/step - loss: 0.5972 - accuracy: 0.8032 - val_loss: 0.5944 - val_accuracy: 0.7362\n",
      "Epoch 3/5\n",
      "22/22 [==============================] - 1s 40ms/step - loss: 0.5178 - accuracy: 0.8149 - val_loss: 0.5398 - val_accuracy: 0.7625\n",
      "Epoch 4/5\n",
      "22/22 [==============================] - 1s 27ms/step - loss: 0.4526 - accuracy: 0.8265 - val_loss: 0.5084 - val_accuracy: 0.7677\n",
      "Epoch 5/5\n",
      "22/22 [==============================] - 1s 34ms/step - loss: 0.4094 - accuracy: 0.8382 - val_loss: 0.4915 - val_accuracy: 0.7703\n"
     ]
    },
    {
     "data": {
      "text/plain": [
       "<keras.callbacks.History at 0x7476cf70>"
      ]
     },
     "execution_count": 104,
     "metadata": {},
     "output_type": "execute_result"
    }
   ],
   "source": [
    "# Train model with 10% data\n",
    "model_7.fit(x10_train,y10_train,validation_data=(x_val,y_val),epochs=5,\n",
    "            callbacks=[create_tensorboard_callback(SAVE_DIR, \"10_percent_tf_hub_sentence_encoder\")]\n",
    "           )"
   ]
  },
  {
   "cell_type": "code",
   "execution_count": 105,
   "id": "feafe8bb",
   "metadata": {},
   "outputs": [
    {
     "data": {
      "text/plain": [
       "<tf.Tensor: shape=(10,), dtype=float32, numpy=array([0., 1., 1., 0., 1., 1., 1., 1., 1., 0.], dtype=float32)>"
      ]
     },
     "execution_count": 105,
     "metadata": {},
     "output_type": "execute_result"
    }
   ],
   "source": [
    "# Make prediction\n",
    "y_pred = model_7.predict(x_val)\n",
    "y_pred = tf.squeeze(tf.round(y_pred))\n",
    "y_pred[:10]"
   ]
  },
  {
   "cell_type": "code",
   "execution_count": 106,
   "id": "6bbb5254",
   "metadata": {},
   "outputs": [
    {
     "data": {
      "text/plain": [
       "{'accuracy': 77.03412073490814,\n",
       " 'precision': 0.7755630249535594,\n",
       " 'recall': 0.7703412073490814,\n",
       " 'f1': 0.7667059443150692}"
      ]
     },
     "execution_count": 106,
     "metadata": {},
     "output_type": "execute_result"
    }
   ],
   "source": [
    "# Calc metric\n",
    "model_7_metrics = eval_model(y_true=y_val,y_pred=y_pred)\n",
    "model_7_metrics"
   ]
  },
  {
   "cell_type": "code",
   "execution_count": 107,
   "id": "ba5b59f7",
   "metadata": {},
   "outputs": [
    {
     "name": "stdout",
     "output_type": "stream",
     "text": [
      "Model1 accuracy:88.72,\tModel2 accuracy:77.03,\tDifference:-11.68\n",
      "Model1 precision:0.90,\tModel2 precision:0.78,\tDifference:-0.12\n",
      "Model1 recall:0.89,\tModel2 recall:0.77,\tDifference:-0.12\n",
      "Model1 f1:0.88,\tModel2 f1:0.77,\tDifference:-0.12\n"
     ]
    }
   ],
   "source": [
    "# Compare metric\n",
    "compare_metrics(baseline_results, model_7_metrics)"
   ]
  },
  {
   "cell_type": "markdown",
   "id": "a74adf4d",
   "metadata": {},
   "source": [
    "## Comparing the performance of each of our models\n",
    "\n",
    "Woah. We've come a long way! From training a baseline to several deep models.\n",
    "\n",
    "Now it's time to compare our model's results.\n",
    "\n",
    "But just before we do, it's worthwhile mentioning, this type of practice is a standard deep learning workflow. Training various different models, then comparing them to see which one performed best and continuing to train it if necessary.\n",
    "\n",
    "The important thing to note is that for all of our modelling experiments we used the same training data (except for `model_7` where we used 10% of the training data).\n",
    "\n",
    "To visualize our model's performances, let's create a pandas DataFrame we our results dictionaries and then plot it."
   ]
  },
  {
   "cell_type": "code",
   "execution_count": 111,
   "id": "8d12cec2",
   "metadata": {},
   "outputs": [],
   "source": [
    "all_metrics = pd.DataFrame({\"base_model\":baseline_results,\n",
    "                            \"simple_dense\":model_1_metrics,\n",
    "                            \"lstm\":model_2_metrics,\n",
    "                            \"gru\":model_3_metrics,\n",
    "                            \"bidirectional\":model_4_metrics,\n",
    "                            \"conv1d\":model_5_metrics,\n",
    "                            \"tf_hub\":model_6_metrics,\n",
    "                            \"tf_hub_10\":model_7_metrics\n",
    "                           })"
   ]
  },
  {
   "cell_type": "code",
   "execution_count": 112,
   "id": "3806b9fb",
   "metadata": {},
   "outputs": [
    {
     "data": {
      "text/html": [
       "<div>\n",
       "<style scoped>\n",
       "    .dataframe tbody tr th:only-of-type {\n",
       "        vertical-align: middle;\n",
       "    }\n",
       "\n",
       "    .dataframe tbody tr th {\n",
       "        vertical-align: top;\n",
       "    }\n",
       "\n",
       "    .dataframe thead th {\n",
       "        text-align: right;\n",
       "    }\n",
       "</style>\n",
       "<table border=\"1\" class=\"dataframe\">\n",
       "  <thead>\n",
       "    <tr style=\"text-align: right;\">\n",
       "      <th></th>\n",
       "      <th>base_model</th>\n",
       "      <th>simple_dense</th>\n",
       "      <th>lstm</th>\n",
       "      <th>gru</th>\n",
       "      <th>bidirectional</th>\n",
       "      <th>conv1d</th>\n",
       "      <th>tf_hub</th>\n",
       "      <th>tf_hub_10</th>\n",
       "    </tr>\n",
       "  </thead>\n",
       "  <tbody>\n",
       "    <tr>\n",
       "      <th>accuracy</th>\n",
       "      <td>88.716976</td>\n",
       "      <td>78.740157</td>\n",
       "      <td>75.065617</td>\n",
       "      <td>77.165354</td>\n",
       "      <td>76.640420</td>\n",
       "      <td>77.821522</td>\n",
       "      <td>81.233596</td>\n",
       "      <td>77.034121</td>\n",
       "    </tr>\n",
       "    <tr>\n",
       "      <th>precision</th>\n",
       "      <td>0.897228</td>\n",
       "      <td>0.791492</td>\n",
       "      <td>0.751008</td>\n",
       "      <td>0.771567</td>\n",
       "      <td>0.766590</td>\n",
       "      <td>0.780752</td>\n",
       "      <td>0.814880</td>\n",
       "      <td>0.775563</td>\n",
       "    </tr>\n",
       "    <tr>\n",
       "      <th>recall</th>\n",
       "      <td>0.887170</td>\n",
       "      <td>0.787402</td>\n",
       "      <td>0.750656</td>\n",
       "      <td>0.771654</td>\n",
       "      <td>0.766404</td>\n",
       "      <td>0.778215</td>\n",
       "      <td>0.812336</td>\n",
       "      <td>0.770341</td>\n",
       "    </tr>\n",
       "    <tr>\n",
       "      <th>f1</th>\n",
       "      <td>0.884715</td>\n",
       "      <td>0.784697</td>\n",
       "      <td>0.748927</td>\n",
       "      <td>0.770699</td>\n",
       "      <td>0.765121</td>\n",
       "      <td>0.775881</td>\n",
       "      <td>0.810687</td>\n",
       "      <td>0.766706</td>\n",
       "    </tr>\n",
       "  </tbody>\n",
       "</table>\n",
       "</div>"
      ],
      "text/plain": [
       "           base_model  simple_dense       lstm        gru  bidirectional  \\\n",
       "accuracy    88.716976     78.740157  75.065617  77.165354      76.640420   \n",
       "precision    0.897228      0.791492   0.751008   0.771567       0.766590   \n",
       "recall       0.887170      0.787402   0.750656   0.771654       0.766404   \n",
       "f1           0.884715      0.784697   0.748927   0.770699       0.765121   \n",
       "\n",
       "              conv1d     tf_hub  tf_hub_10  \n",
       "accuracy   77.821522  81.233596  77.034121  \n",
       "precision   0.780752   0.814880   0.775563  \n",
       "recall      0.778215   0.812336   0.770341  \n",
       "f1          0.775881   0.810687   0.766706  "
      ]
     },
     "execution_count": 112,
     "metadata": {},
     "output_type": "execute_result"
    }
   ],
   "source": [
    "all_metrics"
   ]
  },
  {
   "cell_type": "code",
   "execution_count": 113,
   "id": "1720e4ea",
   "metadata": {},
   "outputs": [
    {
     "data": {
      "text/html": [
       "<div>\n",
       "<style scoped>\n",
       "    .dataframe tbody tr th:only-of-type {\n",
       "        vertical-align: middle;\n",
       "    }\n",
       "\n",
       "    .dataframe tbody tr th {\n",
       "        vertical-align: top;\n",
       "    }\n",
       "\n",
       "    .dataframe thead th {\n",
       "        text-align: right;\n",
       "    }\n",
       "</style>\n",
       "<table border=\"1\" class=\"dataframe\">\n",
       "  <thead>\n",
       "    <tr style=\"text-align: right;\">\n",
       "      <th></th>\n",
       "      <th>accuracy</th>\n",
       "      <th>precision</th>\n",
       "      <th>recall</th>\n",
       "      <th>f1</th>\n",
       "    </tr>\n",
       "  </thead>\n",
       "  <tbody>\n",
       "    <tr>\n",
       "      <th>base_model</th>\n",
       "      <td>88.716976</td>\n",
       "      <td>0.897228</td>\n",
       "      <td>0.887170</td>\n",
       "      <td>0.884715</td>\n",
       "    </tr>\n",
       "    <tr>\n",
       "      <th>simple_dense</th>\n",
       "      <td>78.740157</td>\n",
       "      <td>0.791492</td>\n",
       "      <td>0.787402</td>\n",
       "      <td>0.784697</td>\n",
       "    </tr>\n",
       "    <tr>\n",
       "      <th>lstm</th>\n",
       "      <td>75.065617</td>\n",
       "      <td>0.751008</td>\n",
       "      <td>0.750656</td>\n",
       "      <td>0.748927</td>\n",
       "    </tr>\n",
       "    <tr>\n",
       "      <th>gru</th>\n",
       "      <td>77.165354</td>\n",
       "      <td>0.771567</td>\n",
       "      <td>0.771654</td>\n",
       "      <td>0.770699</td>\n",
       "    </tr>\n",
       "    <tr>\n",
       "      <th>bidirectional</th>\n",
       "      <td>76.640420</td>\n",
       "      <td>0.766590</td>\n",
       "      <td>0.766404</td>\n",
       "      <td>0.765121</td>\n",
       "    </tr>\n",
       "    <tr>\n",
       "      <th>conv1d</th>\n",
       "      <td>77.821522</td>\n",
       "      <td>0.780752</td>\n",
       "      <td>0.778215</td>\n",
       "      <td>0.775881</td>\n",
       "    </tr>\n",
       "    <tr>\n",
       "      <th>tf_hub</th>\n",
       "      <td>81.233596</td>\n",
       "      <td>0.814880</td>\n",
       "      <td>0.812336</td>\n",
       "      <td>0.810687</td>\n",
       "    </tr>\n",
       "    <tr>\n",
       "      <th>tf_hub_10</th>\n",
       "      <td>77.034121</td>\n",
       "      <td>0.775563</td>\n",
       "      <td>0.770341</td>\n",
       "      <td>0.766706</td>\n",
       "    </tr>\n",
       "  </tbody>\n",
       "</table>\n",
       "</div>"
      ],
      "text/plain": [
       "                accuracy  precision    recall        f1\n",
       "base_model     88.716976   0.897228  0.887170  0.884715\n",
       "simple_dense   78.740157   0.791492  0.787402  0.784697\n",
       "lstm           75.065617   0.751008  0.750656  0.748927\n",
       "gru            77.165354   0.771567  0.771654  0.770699\n",
       "bidirectional  76.640420   0.766590  0.766404  0.765121\n",
       "conv1d         77.821522   0.780752  0.778215  0.775881\n",
       "tf_hub         81.233596   0.814880  0.812336  0.810687\n",
       "tf_hub_10      77.034121   0.775563  0.770341  0.766706"
      ]
     },
     "execution_count": 113,
     "metadata": {},
     "output_type": "execute_result"
    }
   ],
   "source": [
    "all_metrics = all_metrics.transpose()\n",
    "all_metrics"
   ]
  },
  {
   "cell_type": "code",
   "execution_count": 115,
   "id": "269b68eb",
   "metadata": {},
   "outputs": [],
   "source": [
    "# Scale the accuracy to same scale as other metric\n",
    "all_metrics['accuracy'] = all_metrics['accuracy']/100"
   ]
  },
  {
   "cell_type": "code",
   "execution_count": 118,
   "id": "4b94a417",
   "metadata": {},
   "outputs": [
    {
     "data": {
      "text/plain": [
       "<matplotlib.legend.Legend at 0xb4b9ffd0>"
      ]
     },
     "execution_count": 118,
     "metadata": {},
     "output_type": "execute_result"
    },
    {
     "data": {
      "image/png": "[encoded data removed]",
      "text/plain": [
       "<Figure size 720x504 with 1 Axes>"
      ]
     },
     "metadata": {
      "needs_background": "light"
     },
     "output_type": "display_data"
    }
   ],
   "source": [
    "# Plot and compare all of the model metrics\n",
    "all_metrics.plot(kind='bar',figsize=(10,7)).legend(bbox_to_anchor=(1.0,1.0))"
   ]
  },
  {
   "cell_type": "markdown",
   "id": "fea99c59",
   "metadata": {},
   "source": [
    "Looks like our pretrained USE TensorFlow Hub models have the best performance, even the one with only 10% of the training data seems to outperform the other models. This goes to show the power of transfer learning.\n",
    "\n",
    "How about we drill down and get the F1-score's of each model?"
   ]
  },
  {
   "cell_type": "code",
   "execution_count": 120,
   "id": "d5fe4143",
   "metadata": {},
   "outputs": [
    {
     "data": {
      "text/plain": [
       "<AxesSubplot:>"
      ]
     },
     "execution_count": 120,
     "metadata": {},
     "output_type": "execute_result"
    },
    {
     "data": {
      "image/png": "[encoded data removed]",
      "text/plain": [
       "<Figure size 720x504 with 1 Axes>"
      ]
     },
     "metadata": {
      "needs_background": "light"
     },
     "output_type": "display_data"
    }
   ],
   "source": [
    "all_metrics.sort_values(\"f1\",ascending=False)['f1'].plot(kind='bar',figsize=(10,7))"
   ]
  },
  {
   "cell_type": "markdown",
   "id": "2f98a55e",
   "metadata": {},
   "source": [
    "Drilling down into a single metric we see our USE TensorFlow Hub models performing  better than all of the other models. Interestingly, the baseline's F1-score isn't too far off the rest of the deeper models.\n",
    "\n",
    "We can also visualize all of our model's training logs using TensorBoard.dev."
   ]
  },
  {
   "cell_type": "markdown",
   "id": "0f01a527",
   "metadata": {},
   "source": [
    "## Combining our models (model ensembling/stacking)\n",
    "\n",
    "Many production systems use an **ensemble** (multiple different models combined) of models to make a prediction.\n",
    "\n",
    "The idea behind model stacking is that if several uncorrelated models agree on a prediction, then the prediction must be more robust than a prediction made by a singular model.\n",
    "\n",
    "The keyword in the sentence above is **uncorrelated**, which is another way of saying, different types of models. For example, in our case, we might combine our baseline, our bidirectional model and our TensorFlow Hub USE model.\n",
    "\n",
    "Although these models are all trained on the same data, they all have a different way of finding patterns.\n",
    "\n",
    "If we were to use three similarly trained models, such as three LSTM models, the predictions they output will likely be very similar.\n",
    "\n",
    "Think of it as trying to decide where to eat with your friends. If you all have similar tastes, you'll probably all pick the same restaurant. But if you've all got different tastes and still end up picking the same restaurant, the restaurant must be good.\n",
    "\n",
    "Since we're working with a classification problem, there are a few of ways we can combine our models:\n",
    "1. **Averaging** - Take the output prediction probabilities of each model for each sample, combine them and then average them.\n",
    "2. **Majority vote (mode)** - Make class predictions with each of your models on all samples, the predicted class is the one in majority. For example, if three different models predict `[1, 0, 1]` respectively, the majority class is `1`, therefore, that would be the predicted label.\n",
    "3. **Model stacking** - Take the outputs of each of your chosen models and use them as inputs to another model.\n",
    "\n",
    "> 📖 **Resource:** The above methods for model stacking/ensembling were adapted from Chapter 6 of the [Machine Learning Engineering Book](http://www.mlebook.com/wiki/doku.php) by Andriy Burkov. If you're looking to enter the field of machine learning engineering, not only building models but production-scale machine learning systems, I'd highly recommend reading it in its entirety.\n",
    "\n",
    "Again, the concept of model stacking is best seen in action.\n",
    "\n",
    "We're going to combine our baseline model (`model_0`), LSTM model (`model_2`) and our USE model trained on the full training data (`model_6`) by averaging the combined prediction probabilities of each."
   ]
  },
  {
   "cell_type": "code",
   "execution_count": 129,
   "id": "3f6a2996",
   "metadata": {},
   "outputs": [
    {
     "data": {
      "text/plain": [
       "<tf.Tensor: shape=(10,), dtype=float32, numpy=array([0., 1., 1., 0., 0., 1., 1., 1., 1., 0.], dtype=float32)>"
      ]
     },
     "execution_count": 129,
     "metadata": {},
     "output_type": "execute_result"
    }
   ],
   "source": [
    "# Get mean pred probs for 3 models\n",
    "base_pred_probs=np.max(model_0.predict_proba(x_val),axis=1) \n",
    "combined_pred_probs = base_pred_probs + tf.squeeze(model_6.predict(x_val),axis=1) + tf.squeeze(model_1.predict(x_val),axis=1)\n",
    "combined_preds = tf.round(combined_pred_probs/3)\n",
    "combined_preds[:10]"
   ]
  },
  {
   "cell_type": "code",
   "execution_count": 143,
   "id": "5563be2d",
   "metadata": {},
   "outputs": [
    {
     "data": {
      "text/plain": [
       "{'accuracy': 81.10236220472441,\n",
       " 'precision': 0.8108054976576626,\n",
       " 'recall': 0.8110236220472441,\n",
       " 'f1': 0.8107737872203897}"
      ]
     },
     "execution_count": 143,
     "metadata": {},
     "output_type": "execute_result"
    }
   ],
   "source": [
    "ensemble_metrics = eval_model(y_true=y_val,y_pred=combined_preds)\n",
    "ensemble_metrics"
   ]
  },
  {
   "cell_type": "code",
   "execution_count": 145,
   "id": "62e4faae",
   "metadata": {},
   "outputs": [],
   "source": [
    "#Add our combined model;s metrics to the results dataframe\n",
    "all_metrics = pd.DataFrame({\"base_model\":baseline_results,\n",
    "                            \"simple_dense\":model_1_metrics,\n",
    "                            \"lstm\":model_2_metrics,\n",
    "                            \"gru\":model_3_metrics,\n",
    "                            \"bidirectional\":model_4_metrics,\n",
    "                            \"conv1d\":model_5_metrics,\n",
    "                            \"tf_hub\":model_6_metrics,\n",
    "                            \"tf_hub_10\":model_7_metrics,\n",
    "                            \"ensemble\":ensemble_metrics\n",
    "                           })"
   ]
  },
  {
   "cell_type": "code",
   "execution_count": 146,
   "id": "8695f109",
   "metadata": {},
   "outputs": [
    {
     "data": {
      "text/html": [
       "<div>\n",
       "<style scoped>\n",
       "    .dataframe tbody tr th:only-of-type {\n",
       "        vertical-align: middle;\n",
       "    }\n",
       "\n",
       "    .dataframe tbody tr th {\n",
       "        vertical-align: top;\n",
       "    }\n",
       "\n",
       "    .dataframe thead th {\n",
       "        text-align: right;\n",
       "    }\n",
       "</style>\n",
       "<table border=\"1\" class=\"dataframe\">\n",
       "  <thead>\n",
       "    <tr style=\"text-align: right;\">\n",
       "      <th></th>\n",
       "      <th>accuracy</th>\n",
       "      <th>precision</th>\n",
       "      <th>recall</th>\n",
       "      <th>f1</th>\n",
       "    </tr>\n",
       "  </thead>\n",
       "  <tbody>\n",
       "    <tr>\n",
       "      <th>base_model</th>\n",
       "      <td>88.716976</td>\n",
       "      <td>0.897228</td>\n",
       "      <td>0.887170</td>\n",
       "      <td>0.884715</td>\n",
       "    </tr>\n",
       "    <tr>\n",
       "      <th>simple_dense</th>\n",
       "      <td>78.740157</td>\n",
       "      <td>0.791492</td>\n",
       "      <td>0.787402</td>\n",
       "      <td>0.784697</td>\n",
       "    </tr>\n",
       "    <tr>\n",
       "      <th>lstm</th>\n",
       "      <td>75.065617</td>\n",
       "      <td>0.751008</td>\n",
       "      <td>0.750656</td>\n",
       "      <td>0.748927</td>\n",
       "    </tr>\n",
       "    <tr>\n",
       "      <th>gru</th>\n",
       "      <td>77.165354</td>\n",
       "      <td>0.771567</td>\n",
       "      <td>0.771654</td>\n",
       "      <td>0.770699</td>\n",
       "    </tr>\n",
       "    <tr>\n",
       "      <th>bidirectional</th>\n",
       "      <td>76.640420</td>\n",
       "      <td>0.766590</td>\n",
       "      <td>0.766404</td>\n",
       "      <td>0.765121</td>\n",
       "    </tr>\n",
       "    <tr>\n",
       "      <th>conv1d</th>\n",
       "      <td>77.821522</td>\n",
       "      <td>0.780752</td>\n",
       "      <td>0.778215</td>\n",
       "      <td>0.775881</td>\n",
       "    </tr>\n",
       "    <tr>\n",
       "      <th>tf_hub</th>\n",
       "      <td>81.233596</td>\n",
       "      <td>0.814880</td>\n",
       "      <td>0.812336</td>\n",
       "      <td>0.810687</td>\n",
       "    </tr>\n",
       "    <tr>\n",
       "      <th>tf_hub_10</th>\n",
       "      <td>77.034121</td>\n",
       "      <td>0.775563</td>\n",
       "      <td>0.770341</td>\n",
       "      <td>0.766706</td>\n",
       "    </tr>\n",
       "    <tr>\n",
       "      <th>ensemble</th>\n",
       "      <td>81.102362</td>\n",
       "      <td>0.810805</td>\n",
       "      <td>0.811024</td>\n",
       "      <td>0.810774</td>\n",
       "    </tr>\n",
       "  </tbody>\n",
       "</table>\n",
       "</div>"
      ],
      "text/plain": [
       "                accuracy  precision    recall        f1\n",
       "base_model     88.716976   0.897228  0.887170  0.884715\n",
       "simple_dense   78.740157   0.791492  0.787402  0.784697\n",
       "lstm           75.065617   0.751008  0.750656  0.748927\n",
       "gru            77.165354   0.771567  0.771654  0.770699\n",
       "bidirectional  76.640420   0.766590  0.766404  0.765121\n",
       "conv1d         77.821522   0.780752  0.778215  0.775881\n",
       "tf_hub         81.233596   0.814880  0.812336  0.810687\n",
       "tf_hub_10      77.034121   0.775563  0.770341  0.766706\n",
       "ensemble       81.102362   0.810805  0.811024  0.810774"
      ]
     },
     "execution_count": 146,
     "metadata": {},
     "output_type": "execute_result"
    }
   ],
   "source": [
    "all_metrics.transpose()"
   ]
  },
  {
   "cell_type": "markdown",
   "id": "60f76a7e",
   "metadata": {},
   "source": [
    "Wonderful! We've got a combined predictions array of different classes, let's evaluate them against the true labels and add our stacked model's results to our `all_model_results` DataFrame."
   ]
  },
  {
   "cell_type": "markdown",
   "id": "4370f3c4",
   "metadata": {},
   "source": [
    "## Saving and loading a trained model\n",
    "\n",
    "Although training time didn't take very long, it's good practice to save your trained models to avoid having to retrain them.\n",
    "\n",
    "Saving your models also enables you to export them for use elsewhere outside of your notebooks, such as in a web application.\n",
    "\n",
    "There are two main ways of [saving a model in TensorFlow](https://www.tensorflow.org/tutorials/keras/save_and_load#save_the_entire_model):\n",
    "1. The `HDF5` format. \n",
    "2. The `SavedModel` format (default).\n",
    "\n",
    "Let's take a look at both."
   ]
  },
  {
   "cell_type": "code",
   "execution_count": 152,
   "id": "e43468a2",
   "metadata": {},
   "outputs": [],
   "source": [
    "# Save tf hub sentence encoder model to hdf5 format\n",
    "model_6.save(\"model_6.h5\")"
   ]
  },
  {
   "cell_type": "code",
   "execution_count": 153,
   "id": "25915966",
   "metadata": {},
   "outputs": [],
   "source": [
    "model_6_loaded = tf.keras.models.load_model(\"model_6.h5\",custom_objects={\"KerasLayer\":hub.KerasLayer})"
   ]
  },
  {
   "cell_type": "code",
   "execution_count": 154,
   "id": "dc184592",
   "metadata": {},
   "outputs": [
    {
     "name": "stdout",
     "output_type": "stream",
     "text": [
      "24/24 [==============================] - 3s 28ms/step - loss: 0.4309 - accuracy: 0.8123\n"
     ]
    },
    {
     "data": {
      "text/plain": [
       "[0.43088313937187195, 0.8123359680175781]"
      ]
     },
     "execution_count": 154,
     "metadata": {},
     "output_type": "execute_result"
    }
   ],
   "source": [
    "# How loaded model perform\n",
    "model_6_loaded.evaluate(x_val,y_val)"
   ]
  },
  {
   "cell_type": "code",
   "execution_count": 155,
   "id": "c01b122c",
   "metadata": {},
   "outputs": [
    {
     "name": "stderr",
     "output_type": "stream",
     "text": [
      "WARNING:absl:Function `_wrapped_model` contains input name(s) USE_input with unsupported characters which will be renamed to use_input in the SavedModel.\n"
     ]
    },
    {
     "name": "stdout",
     "output_type": "stream",
     "text": [
      "INFO:tensorflow:Assets written to: model_hub_SavedModel_format\\assets\n"
     ]
    },
    {
     "name": "stderr",
     "output_type": "stream",
     "text": [
      "INFO:tensorflow:Assets written to: model_hub_SavedModel_format\\assets\n"
     ]
    }
   ],
   "source": [
    "# save tf hub sentence encoder model to SavedModel format (default)\n",
    "model_6.save(\"model_hub_SavedModel_format\")"
   ]
  },
  {
   "cell_type": "markdown",
   "id": "372c42fc",
   "metadata": {},
   "source": [
    "If you use SavedModel format (default), you can reload your model without specifying custom objects using the [`tensorflow.keras.models.load_model()`](https://www.tensorflow.org/tutorials/keras/save_and_load) function."
   ]
  },
  {
   "cell_type": "code",
   "execution_count": 156,
   "id": "2d6ed5a4",
   "metadata": {},
   "outputs": [],
   "source": [
    "loaded_model  = tf.keras.models.load_model(\"model_hub_SavedModel_format\")"
   ]
  },
  {
   "cell_type": "code",
   "execution_count": 157,
   "id": "e9600662",
   "metadata": {},
   "outputs": [
    {
     "name": "stdout",
     "output_type": "stream",
     "text": [
      "24/24 [==============================] - 1s 17ms/step - loss: 0.4309 - accuracy: 0.8123\n"
     ]
    },
    {
     "data": {
      "text/plain": [
       "[0.43088313937187195, 0.8123359680175781]"
      ]
     },
     "execution_count": 157,
     "metadata": {},
     "output_type": "execute_result"
    }
   ],
   "source": [
    "#Evaluate loaded model format\n",
    "loaded_model.evaluate(x_val,y_val)"
   ]
  },
  {
   "cell_type": "markdown",
   "id": "c7d9824a",
   "metadata": {},
   "source": [
    "Calling the `save()` method on our target model and passing it a filepath allows us to save our model in the `SavedModel` format. \n",
    "\n",
    "If you save a model as a `HDF5`, when loading it back in, you need to let [TensorFlow know about any custom objects you've used](https://www.tensorflow.org/tutorials/keras/save_and_load#saving_custom_objects) (e.g. components which aren't built from pure TensorFlow, such as TensorFlow Hub components).\n",
    "\n",
    "As you can see saving and loading our model with either format results in the same performance.\n",
    "\n",
    "> 🤔 **Question:** Should you used the `SavedModel` format or `HDF5` format?\n",
    "\n",
    "For most use cases, the `SavedModel` format will suffice. However, this is a TensorFlow specific standard. If you need a more general-purpose data standard, `HDF5` might be better. For more, check out the [TensorFlow documentation on saving and loading models](https://www.tensorflow.org/tutorials/keras/save_and_load)."
   ]
  },
  {
   "cell_type": "markdown",
   "id": "f1cb971a",
   "metadata": {},
   "source": [
    "## Finding the most wrong examples\n",
    "\n",
    "We mentioned before that if many of our modelling experiments are returning similar results, despite using different kinds of models, it's a good idea to return to the data and inspect why this might be.\n",
    "\n",
    "One of the best ways to inspect your data is to sort your model's predictions and find the samples it got *most* wrong, meaning, what predictions had a high prediction probability but turned out to be wrong.\n",
    "\n",
    "Once again, visualization is your friend. Visualize, visualize, visualize.\n",
    "\n",
    "To make things visual, let's take our best performing model's prediction probabilities and classes along with the validation samples (text and ground truth labels) and combine them in a pandas DataFrame.\n",
    "\n",
    "* If our best model still isn't perfect, what examples is it getting wrong? \n",
    "* Which ones are the *most* wrong?\n",
    "* Are there some labels which are wrong? E.g. the model gets it right but the ground truth label doesn't reflect this"
   ]
  },
  {
   "cell_type": "code",
   "execution_count": 163,
   "id": "751afe91",
   "metadata": {},
   "outputs": [
    {
     "data": {
      "text/html": [
       "<div>\n",
       "<style scoped>\n",
       "    .dataframe tbody tr th:only-of-type {\n",
       "        vertical-align: middle;\n",
       "    }\n",
       "\n",
       "    .dataframe tbody tr th {\n",
       "        vertical-align: top;\n",
       "    }\n",
       "\n",
       "    .dataframe thead th {\n",
       "        text-align: right;\n",
       "    }\n",
       "</style>\n",
       "<table border=\"1\" class=\"dataframe\">\n",
       "  <thead>\n",
       "    <tr style=\"text-align: right;\">\n",
       "      <th></th>\n",
       "      <th>text</th>\n",
       "      <th>target</th>\n",
       "      <th>pred</th>\n",
       "      <th>prob</th>\n",
       "    </tr>\n",
       "  </thead>\n",
       "  <tbody>\n",
       "    <tr>\n",
       "      <th>0</th>\n",
       "      <td>DFR EP016 Monthly Meltdown - On Dnbheaven 2015...</td>\n",
       "      <td>0</td>\n",
       "      <td>0.0</td>\n",
       "      <td>0.144432</td>\n",
       "    </tr>\n",
       "    <tr>\n",
       "      <th>1</th>\n",
       "      <td>FedEx no longer to transport bioterror germs i...</td>\n",
       "      <td>0</td>\n",
       "      <td>1.0</td>\n",
       "      <td>0.727150</td>\n",
       "    </tr>\n",
       "    <tr>\n",
       "      <th>2</th>\n",
       "      <td>Gunmen kill four in El Salvador bus attack: Su...</td>\n",
       "      <td>1</td>\n",
       "      <td>1.0</td>\n",
       "      <td>0.985665</td>\n",
       "    </tr>\n",
       "    <tr>\n",
       "      <th>3</th>\n",
       "      <td>@camilacabello97 Internally and externally scr...</td>\n",
       "      <td>1</td>\n",
       "      <td>0.0</td>\n",
       "      <td>0.197409</td>\n",
       "    </tr>\n",
       "    <tr>\n",
       "      <th>4</th>\n",
       "      <td>Radiation emergency #preparedness starts with ...</td>\n",
       "      <td>1</td>\n",
       "      <td>1.0</td>\n",
       "      <td>0.734170</td>\n",
       "    </tr>\n",
       "    <tr>\n",
       "      <th>...</th>\n",
       "      <td>...</td>\n",
       "      <td>...</td>\n",
       "      <td>...</td>\n",
       "      <td>...</td>\n",
       "    </tr>\n",
       "    <tr>\n",
       "      <th>757</th>\n",
       "      <td>That's the ultimate road to destruction</td>\n",
       "      <td>0</td>\n",
       "      <td>0.0</td>\n",
       "      <td>0.101705</td>\n",
       "    </tr>\n",
       "    <tr>\n",
       "      <th>758</th>\n",
       "      <td>@SetZorah dad why dont you claim me that mean ...</td>\n",
       "      <td>0</td>\n",
       "      <td>0.0</td>\n",
       "      <td>0.107102</td>\n",
       "    </tr>\n",
       "    <tr>\n",
       "      <th>759</th>\n",
       "      <td>FedEx will no longer transport bioterror patho...</td>\n",
       "      <td>0</td>\n",
       "      <td>1.0</td>\n",
       "      <td>0.864676</td>\n",
       "    </tr>\n",
       "    <tr>\n",
       "      <th>760</th>\n",
       "      <td>Crack in the path where I wiped out this morni...</td>\n",
       "      <td>0</td>\n",
       "      <td>0.0</td>\n",
       "      <td>0.702342</td>\n",
       "    </tr>\n",
       "    <tr>\n",
       "      <th>761</th>\n",
       "      <td>I liked a @YouTube video from @dannyonpc http:...</td>\n",
       "      <td>0</td>\n",
       "      <td>0.0</td>\n",
       "      <td>0.081808</td>\n",
       "    </tr>\n",
       "  </tbody>\n",
       "</table>\n",
       "<p>762 rows × 4 columns</p>\n",
       "</div>"
      ],
      "text/plain": [
       "                                                  text  target  pred      prob\n",
       "0    DFR EP016 Monthly Meltdown - On Dnbheaven 2015...       0   0.0  0.144432\n",
       "1    FedEx no longer to transport bioterror germs i...       0   1.0  0.727150\n",
       "2    Gunmen kill four in El Salvador bus attack: Su...       1   1.0  0.985665\n",
       "3    @camilacabello97 Internally and externally scr...       1   0.0  0.197409\n",
       "4    Radiation emergency #preparedness starts with ...       1   1.0  0.734170\n",
       "..                                                 ...     ...   ...       ...\n",
       "757            That's the ultimate road to destruction       0   0.0  0.101705\n",
       "758  @SetZorah dad why dont you claim me that mean ...       0   0.0  0.107102\n",
       "759  FedEx will no longer transport bioterror patho...       0   1.0  0.864676\n",
       "760  Crack in the path where I wiped out this morni...       0   0.0  0.702342\n",
       "761  I liked a @YouTube video from @dannyonpc http:...       0   0.0  0.081808\n",
       "\n",
       "[762 rows x 4 columns]"
      ]
     },
     "execution_count": 163,
     "metadata": {},
     "output_type": "execute_result"
    }
   ],
   "source": [
    "# Create dataframe with validation sentences and best performing model perdictions\n",
    "val_df = pd.DataFrame({\"text\":x_val,\n",
    "                       \"target\":y_val,\n",
    "                       \"pred\":y_pred,\n",
    "                       \"prob\":tf.squeeze(np.max(loaded_model.predict(x_val),axis=1)) \n",
    "                      })\n",
    "\n",
    "val_df"
   ]
  },
  {
   "cell_type": "markdown",
   "id": "4c9cd614",
   "metadata": {},
   "source": [
    "Oh yeah! Now let's find our model's wrong predictions (where `target != pred`) and sort them by their prediction probability (the `pred_prob` column)."
   ]
  },
  {
   "cell_type": "code",
   "execution_count": 167,
   "id": "4d6045d6",
   "metadata": {},
   "outputs": [
    {
     "data": {
      "text/html": [
       "<div>\n",
       "<style scoped>\n",
       "    .dataframe tbody tr th:only-of-type {\n",
       "        vertical-align: middle;\n",
       "    }\n",
       "\n",
       "    .dataframe tbody tr th {\n",
       "        vertical-align: top;\n",
       "    }\n",
       "\n",
       "    .dataframe thead th {\n",
       "        text-align: right;\n",
       "    }\n",
       "</style>\n",
       "<table border=\"1\" class=\"dataframe\">\n",
       "  <thead>\n",
       "    <tr style=\"text-align: right;\">\n",
       "      <th></th>\n",
       "      <th>text</th>\n",
       "      <th>target</th>\n",
       "      <th>pred</th>\n",
       "      <th>prob</th>\n",
       "    </tr>\n",
       "  </thead>\n",
       "  <tbody>\n",
       "    <tr>\n",
       "      <th>362</th>\n",
       "      <td>Just got sent this photo from Ruby #Alaska as ...</td>\n",
       "      <td>1</td>\n",
       "      <td>0.0</td>\n",
       "      <td>0.955130</td>\n",
       "    </tr>\n",
       "    <tr>\n",
       "      <th>403</th>\n",
       "      <td>As a result of heavy rains in #Bangladeshaffec...</td>\n",
       "      <td>1</td>\n",
       "      <td>0.0</td>\n",
       "      <td>0.923787</td>\n",
       "    </tr>\n",
       "    <tr>\n",
       "      <th>31</th>\n",
       "      <td>? High Skies - Burning Buildings ? http://t.co...</td>\n",
       "      <td>0</td>\n",
       "      <td>1.0</td>\n",
       "      <td>0.910481</td>\n",
       "    </tr>\n",
       "    <tr>\n",
       "      <th>740</th>\n",
       "      <td>Refugio oil spill may have been costlier bigge...</td>\n",
       "      <td>1</td>\n",
       "      <td>0.0</td>\n",
       "      <td>0.882159</td>\n",
       "    </tr>\n",
       "    <tr>\n",
       "      <th>499</th>\n",
       "      <td>Another White mass murderer. Thank God I live ...</td>\n",
       "      <td>1</td>\n",
       "      <td>0.0</td>\n",
       "      <td>0.866604</td>\n",
       "    </tr>\n",
       "    <tr>\n",
       "      <th>...</th>\n",
       "      <td>...</td>\n",
       "      <td>...</td>\n",
       "      <td>...</td>\n",
       "      <td>...</td>\n",
       "    </tr>\n",
       "    <tr>\n",
       "      <th>233</th>\n",
       "      <td>I get to smoke my shit in peace</td>\n",
       "      <td>1</td>\n",
       "      <td>0.0</td>\n",
       "      <td>0.041451</td>\n",
       "    </tr>\n",
       "    <tr>\n",
       "      <th>411</th>\n",
       "      <td>@SoonerMagic_ I mean I'm a fan but I don't nee...</td>\n",
       "      <td>1</td>\n",
       "      <td>0.0</td>\n",
       "      <td>0.039261</td>\n",
       "    </tr>\n",
       "    <tr>\n",
       "      <th>38</th>\n",
       "      <td>Why are you deluged with low self-image? Take ...</td>\n",
       "      <td>1</td>\n",
       "      <td>0.0</td>\n",
       "      <td>0.038593</td>\n",
       "    </tr>\n",
       "    <tr>\n",
       "      <th>244</th>\n",
       "      <td>Reddit Will Now QuarantineÛ_ http://t.co/pkUA...</td>\n",
       "      <td>1</td>\n",
       "      <td>0.0</td>\n",
       "      <td>0.036272</td>\n",
       "    </tr>\n",
       "    <tr>\n",
       "      <th>23</th>\n",
       "      <td>Ron &amp;amp; Fez - Dave's High School Crush https...</td>\n",
       "      <td>1</td>\n",
       "      <td>0.0</td>\n",
       "      <td>0.032888</td>\n",
       "    </tr>\n",
       "  </tbody>\n",
       "</table>\n",
       "<p>175 rows × 4 columns</p>\n",
       "</div>"
      ],
      "text/plain": [
       "                                                  text  target  pred      prob\n",
       "362  Just got sent this photo from Ruby #Alaska as ...       1   0.0  0.955130\n",
       "403  As a result of heavy rains in #Bangladeshaffec...       1   0.0  0.923787\n",
       "31   ? High Skies - Burning Buildings ? http://t.co...       0   1.0  0.910481\n",
       "740  Refugio oil spill may have been costlier bigge...       1   0.0  0.882159\n",
       "499  Another White mass murderer. Thank God I live ...       1   0.0  0.866604\n",
       "..                                                 ...     ...   ...       ...\n",
       "233                    I get to smoke my shit in peace       1   0.0  0.041451\n",
       "411  @SoonerMagic_ I mean I'm a fan but I don't nee...       1   0.0  0.039261\n",
       "38   Why are you deluged with low self-image? Take ...       1   0.0  0.038593\n",
       "244  Reddit Will Now QuarantineÛ_ http://t.co/pkUA...       1   0.0  0.036272\n",
       "23   Ron &amp; Fez - Dave's High School Crush https...       1   0.0  0.032888\n",
       "\n",
       "[175 rows x 4 columns]"
      ]
     },
     "execution_count": 167,
     "metadata": {},
     "output_type": "execute_result"
    }
   ],
   "source": [
    "# find the wrong predictions and sort by predictions probabilities\n",
    "most_wrong = val_df[val_df[\"target\"]!=val_df[\"pred\"]].sort_values(\"prob\",ascending=False)\n",
    "most_wrong"
   ]
  },
  {
   "cell_type": "markdown",
   "id": "47d50523",
   "metadata": {},
   "source": [
    "Finally, we can write some code to visualize the sample text, truth label, prediction class and prediction probability. Because we've sorted our samples by prediction probability, viewing samples from the head of our `most_wrong` DataFrame will show us false positives.\n",
    "\n",
    "A reminder:\n",
    "* `0` = Not a real diaster Tweet\n",
    "* `1` = Real diaster Tweet"
   ]
  },
  {
   "cell_type": "code",
   "execution_count": 170,
   "id": "9ed8c095",
   "metadata": {},
   "outputs": [
    {
     "name": "stdout",
     "output_type": "stream",
     "text": [
      "Target: 1, Pred: 0, Prob: 0.9551297426223755\n",
      "Text:\n",
      "Just got sent this photo from Ruby #Alaska as smoke from #wildfires pours into a school \n",
      "\n",
      "Target: 1, Pred: 0, Prob: 0.9237873554229736\n",
      "Text:\n",
      "As a result of heavy rains in #Bangladeshaffected lands are inundated by flood waters-land looks like rivers at high tide #BangladeshFlood\n",
      "\n",
      "Target: 0, Pred: 1, Prob: 0.9104807376861572\n",
      "Text:\n",
      "? High Skies - Burning Buildings ? http://t.co/uVq41i3Kx2 #nowplaying\n",
      "\n",
      "Target: 1, Pred: 0, Prob: 0.8821593523025513\n",
      "Text:\n",
      "Refugio oil spill may have been costlier bigger than projected http://t.co/gtHddzAvhg #LosAngelesTimes #latimes #news\n",
      "\n",
      "Target: 1, Pred: 0, Prob: 0.8666043281555176\n",
      "Text:\n",
      "Another White mass murderer. Thank God I live in California.  https://t.co/4COg0OTiWn\n",
      "\n",
      "Target: 0, Pred: 1, Prob: 0.8646756410598755\n",
      "Text:\n",
      "FedEx will no longer transport bioterror pathogens in wake of anthrax lab mishaps http://t.co/lHpgxc4b8J\n",
      "\n",
      "Target: 1, Pred: 0, Prob: 0.8559896945953369\n",
      "Text:\n",
      "Refugio oil spill may have been costlier bigger than projected http://t.co/7L6bHeXIXv | https://t.co/eMOSrMUvQa\n",
      "\n",
      "Target: 1, Pred: 0, Prob: 0.8554403185844421\n",
      "Text:\n",
      "#BREAKING: there was a deadly motorcycle car accident that happened to #Hagerstown today. I'll have more details at 5 @Your4State. #WHAG\n",
      "\n",
      "Target: 1, Pred: 0, Prob: 0.8506709337234497\n",
      "Text:\n",
      "@gilmanrocks7 wow. Where is this? For the rest of the summer I usually have to worry about forest fires. Calgary is about 8 hours away.\n",
      "\n",
      "Target: 1, Pred: 0, Prob: 0.8504871129989624\n",
      "Text:\n",
      "@Vickie627 Desert Storm was an unqualified victory a treaty was signed.  Under Clinton the situation only got worse and more violent. #tcot\n",
      "\n"
     ]
    }
   ],
   "source": [
    "# Check the false positives (model predicted 1 when should be 0)\n",
    "for row in most_wrong[:10].itertuples():\n",
    "    _,text,target,pred,prob = row\n",
    "    print(f\"Target: {target}, Pred: {int(pred)}, Prob: {prob}\")\n",
    "    print(f\"Text:\\n{text}\\n\")"
   ]
  },
  {
   "cell_type": "markdown",
   "id": "d849f560",
   "metadata": {},
   "source": [
    "We can view the bottom end of our `most_wrong` DataFrame to inspect false negatives (model predicts 0, not a real diaster Tweet, when it should've predicted 1, real diaster Tweet)."
   ]
  },
  {
   "cell_type": "code",
   "execution_count": 171,
   "id": "905a04b1",
   "metadata": {},
   "outputs": [
    {
     "name": "stdout",
     "output_type": "stream",
     "text": [
      "Target: 1, Pred: 0, Prob: 0.06304335594177246\n",
      "Text:\n",
      "@BoyInAHorsemask its a panda trapped in a dogs body\n",
      "\n",
      "Target: 1, Pred: 0, Prob: 0.0627950131893158\n",
      "Text:\n",
      "going to redo my nails and watch behind the scenes of desolation of smaug ayyy\n",
      "\n",
      "Target: 1, Pred: 0, Prob: 0.060608088970184326\n",
      "Text:\n",
      "VICTORINOX SWISS ARMY DATE WOMEN'S RUBBER MOP WATCH 241487 http://t.co/yFy3nkkcoH http://t.co/KNEhVvOHVK\n",
      "\n",
      "Target: 1, Pred: 0, Prob: 0.0573178231716156\n",
      "Text:\n",
      "@willienelson We need help! Horses will die!Please RT &amp; sign petition!Take a stand &amp; be a voice for them! #gilbert23 https://t.co/e8dl1lNCVu\n",
      "\n",
      "Target: 1, Pred: 0, Prob: 0.045355528593063354\n",
      "Text:\n",
      "You can never escape me. Bullets don't harm me. Nothing harms me. But I know pain. I know pain. Sometimes I share it. With someone like you.\n",
      "\n",
      "Target: 1, Pred: 0, Prob: 0.04145139455795288\n",
      "Text:\n",
      "I get to smoke my shit in peace\n",
      "\n",
      "Target: 1, Pred: 0, Prob: 0.03926113247871399\n",
      "Text:\n",
      "@SoonerMagic_ I mean I'm a fan but I don't need a girl sounding off like a damn siren\n",
      "\n",
      "Target: 1, Pred: 0, Prob: 0.03859338164329529\n",
      "Text:\n",
      "Why are you deluged with low self-image? Take the quiz: http://t.co/XsPqdOrIqj http://t.co/CQYvFR4UCy\n",
      "\n",
      "Target: 1, Pred: 0, Prob: 0.036272287368774414\n",
      "Text:\n",
      "Reddit Will Now QuarantineÛ_ http://t.co/pkUAMXw6pm #onlinecommunities #reddit #amageddon #freespeech #Business http://t.co/PAWvNJ4sAP\n",
      "\n",
      "Target: 1, Pred: 0, Prob: 0.03288796544075012\n",
      "Text:\n",
      "Ron &amp; Fez - Dave's High School Crush https://t.co/aN3W16c8F6 via @YouTube\n",
      "\n"
     ]
    }
   ],
   "source": [
    "# Check the false positives (model predicted 1 when should be 0)\n",
    "for row in most_wrong[-10:].itertuples():\n",
    "    _,text,target,pred,prob = row\n",
    "    print(f\"Target: {target}, Pred: {int(pred)}, Prob: {prob}\")\n",
    "    print(f\"Text:\\n{text}\\n\")"
   ]
  },
  {
   "cell_type": "markdown",
   "id": "449e980f",
   "metadata": {},
   "source": [
    "## Making predictions on the test dataset\n",
    "\n",
    "Alright we've seen how our model's perform on the validation set.\n",
    "\n",
    "But how about the test dataset?\n",
    "\n",
    "We don't have labels for the test dataset so we're going to have to make some predictions and inspect them for ourselves.\n",
    "\n",
    "Let's write some code to make predictions on random samples from the test dataset and visualize them."
   ]
  },
  {
   "cell_type": "code",
   "execution_count": 186,
   "id": "6c0152de",
   "metadata": {},
   "outputs": [
    {
     "name": "stdout",
     "output_type": "stream",
     "text": [
      "Pred: 1, Prob: [0.5727566]\n",
      "Text:\n",
      "Ron &amp; Fez - Dave's High School Crush https://t.co/aN3W16c8F6 via @YouTube\n",
      "\n",
      "Pred: 1, Prob: [0.876163]\n",
      "Text:\n",
      "Ron &amp; Fez - Dave's High School Crush https://t.co/aN3W16c8F6 via @YouTube\n",
      "\n",
      "Pred: 1, Prob: [0.8143084]\n",
      "Text:\n",
      "Ron &amp; Fez - Dave's High School Crush https://t.co/aN3W16c8F6 via @YouTube\n",
      "\n",
      "Pred: 1, Prob: [0.92398953]\n",
      "Text:\n",
      "Ron &amp; Fez - Dave's High School Crush https://t.co/aN3W16c8F6 via @YouTube\n",
      "\n",
      "Pred: 1, Prob: [0.9490781]\n",
      "Text:\n",
      "Ron &amp; Fez - Dave's High School Crush https://t.co/aN3W16c8F6 via @YouTube\n",
      "\n",
      "Pred: 1, Prob: [0.59355354]\n",
      "Text:\n",
      "Ron &amp; Fez - Dave's High School Crush https://t.co/aN3W16c8F6 via @YouTube\n",
      "\n",
      "Pred: 0, Prob: [0.06413975]\n",
      "Text:\n",
      "Ron &amp; Fez - Dave's High School Crush https://t.co/aN3W16c8F6 via @YouTube\n",
      "\n",
      "Pred: 0, Prob: [0.04735658]\n",
      "Text:\n",
      "Ron &amp; Fez - Dave's High School Crush https://t.co/aN3W16c8F6 via @YouTube\n",
      "\n",
      "Pred: 0, Prob: [0.04297906]\n",
      "Text:\n",
      "Ron &amp; Fez - Dave's High School Crush https://t.co/aN3W16c8F6 via @YouTube\n",
      "\n",
      "Pred: 0, Prob: [0.0543808]\n",
      "Text:\n",
      "Ron &amp; Fez - Dave's High School Crush https://t.co/aN3W16c8F6 via @YouTube\n",
      "\n"
     ]
    }
   ],
   "source": [
    "# Making predictions on test datastet\n",
    "probs = loaded_model.predict(x_pred)\n",
    "preds = tf.squeeze(tf.round(probs))\n",
    "for i in range(10):\n",
    "    print(f\"Pred: {int(preds[i])}, Prob: {probs[i]}\")\n",
    "    print(f\"Text:\\n{text}\\n\")"
   ]
  },
  {
   "cell_type": "markdown",
   "id": "fa2baeb9",
   "metadata": {},
   "source": [
    "How do our model's predictions look on the test dataset?\n",
    "\n",
    "It's important to do these kind of visualization checks as often as possible to get a glance of how your model performs on unseen data and subsequently how it might perform on the real test: Tweets from the wild."
   ]
  },
  {
   "cell_type": "markdown",
   "id": "bf690328",
   "metadata": {},
   "source": [
    "## Predicting on Tweets from the wild\n",
    "\n",
    "How about we find some Tweets and use our model to predict whether or not they're about a diaster or not?\n",
    "\n",
    "To start, let's take one of my own [Tweets on living life like an ensemble model](https://twitter.com/mrdbourke/status/1313649328351662082). "
   ]
  },
  {
   "cell_type": "code",
   "execution_count": 196,
   "id": "271fb1cc",
   "metadata": {},
   "outputs": [],
   "source": [
    "def predict_on_sentence(model,sentence):\n",
    "    '''\n",
    "    Uses model to make prediction on sentence\n",
    "    Args:\n",
    "        model: model\n",
    "        sentence: input tweet\n",
    "    Return:\n",
    "        Return the senence. the predicted label and the prediction probability\n",
    "    '''\n",
    "    prob = model.predict([sentence])\n",
    "    pred = tf.squeeze(tf.round(prob))\n",
    "    print(f\"Pred: {int(pred)}, Prob: {prob[0][0]}\",\"(real disaster)\" if pred ==1 else \"(not real disaster)\" )\n",
    "    print(f\"Text:\\n{sentence}\\n\")"
   ]
  },
  {
   "cell_type": "code",
   "execution_count": 197,
   "id": "8dc44266",
   "metadata": {},
   "outputs": [
    {
     "name": "stdout",
     "output_type": "stream",
     "text": [
      "Pred: 0, Prob: 0.11744141578674316 (not real disaster)\n",
      "Text:\n",
      "Is this a real disater tweet\n",
      "\n"
     ]
    }
   ],
   "source": [
    "predict_on_sentence(loaded_model,\"Is this a real disater tweet\")"
   ]
  },
  {
   "cell_type": "code",
   "execution_count": 198,
   "id": "e2f33c57",
   "metadata": {},
   "outputs": [
    {
     "name": "stdout",
     "output_type": "stream",
     "text": [
      "Pred: 1, Prob: 0.9625466465950012 (real disaster)\n",
      "Text:\n",
      "Reports that the smoke in Beirut sky contains nitric acid, which is toxic. Please share and refrain from stepping outside unless urgent. #Lebanon\n",
      "\n"
     ]
    }
   ],
   "source": [
    "# Source - https://twitter.com/BeirutCityGuide/status/1290696551376007168\n",
    "beirut_tweet_1 = \"Reports that the smoke in Beirut sky contains nitric acid, which is toxic. Please share and refrain from stepping outside unless urgent. #Lebanon\"\n",
    "predict_on_sentence(loaded_model,beirut_tweet_1)"
   ]
  },
  {
   "cell_type": "code",
   "execution_count": 199,
   "id": "4bd25e81",
   "metadata": {},
   "outputs": [
    {
     "name": "stdout",
     "output_type": "stream",
     "text": [
      "Pred: 1, Prob: 0.96785569190979 (real disaster)\n",
      "Text:\n",
      "#Beirut declared a “devastated city”, two-week state of emergency officially declared. #Lebanon\n",
      "\n"
     ]
    }
   ],
   "source": [
    "# Source - https://twitter.com/BeirutCityGuide/status/1290773498743476224\n",
    "beirut_tweet_2 = \"#Beirut declared a “devastated city”, two-week state of emergency officially declared. #Lebanon\"\n",
    "predict_on_sentence(loaded_model,beirut_tweet_2)"
   ]
  },
  {
   "cell_type": "markdown",
   "id": "9d13bfe1",
   "metadata": {},
   "source": [
    "Looks like our model is performing as expected, predicting both of the diaster Tweets as actual diasters.\n",
    "\n",
    "> 🔑 **Note:** The above examples are cherry-picked and are cases where you'd expect a model to function at high performance. For actual production systems, you'll want to continaully perform tests to see how your model is performing."
   ]
  },
  {
   "cell_type": "markdown",
   "id": "aaac822c",
   "metadata": {},
   "source": [
    "## The speed/score tradeoff\n",
    "\n",
    "One of the final tests we're going to do is to find the speed/score tradeoffs between our best model and baseline model.\n",
    "\n",
    "Why is this important?\n",
    "\n",
    "Although it can be tempting to just choose the best performing model you find through experimentation, this model might not actually work in a production setting.\n",
    "\n",
    "Put it this way, imagine you're Twitter and receive 1 million Tweets per hour (this is a made up number, the actual number is much higher). And you're trying to build a diaster detection system to read Tweets and alert authorities with details about a diaster in close to real-time.\n",
    "\n",
    "Compute power isn't free so you're limited to a single compute machine for the project. On that machine, one of your models makes 10,000 predictions per second at 80% accuracy where as another one of your models (a larger model) makes 100 predictions per second at 85% accuracy.\n",
    "\n",
    "Which model do you choose?\n",
    "\n",
    "Is the second model's performance boost worth missing out on the extra capacity?\n",
    "\n",
    "Of course, there are many options you could try here, such as sending as many Tweets as possible to the first model and then sending the ones which the model is least certain of to the second model. \n",
    "\n",
    "The point here is to illustrate the best model you find through experimentation, might not be the model you end up using in production.\n",
    "\n",
    "To make this more concrete, let's write a function to take a model and a number of samples and time how long the given model takes to make predictions on those samples."
   ]
  },
  {
   "cell_type": "code",
   "execution_count": 205,
   "id": "255c0892",
   "metadata": {},
   "outputs": [],
   "source": [
    "# Calculate the time of predictions\n",
    "import time\n",
    "def pred_timer(model,samples):\n",
    "    '''\n",
    "    Times how long a model takes to make predictions on samples\n",
    "    Args:\n",
    "        model: a trained model\n",
    "        sample: a list of samples\n",
    "    Return:\n",
    "        total_time: total elapsed time for model to make predictions on samples\n",
    "        time_per_pred: time in seconds per single samples\n",
    "    '''\n",
    "    start_time = time.perf_counter() # get start time\n",
    "    model.predict(samples) # make predictions\n",
    "    total_time = time.perf_counter() - start_time # calculate how liong predictions took to make\n",
    "    time_per_pred = total_time/len(samples) # find prediction time per sample\n",
    "    return total_time,time_per_pred"
   ]
  },
  {
   "cell_type": "code",
   "execution_count": 209,
   "id": "247a9e6e",
   "metadata": {},
   "outputs": [
    {
     "name": "stdout",
     "output_type": "stream",
     "text": [
      "Total time: 0.23768991800170625, Time per each prediction: 7.284398345133504e-05\n"
     ]
    }
   ],
   "source": [
    "# Calculate TF hub sentence encoder prediction times\n",
    "total_time1,time_per_pred1=pred_timer(loaded_model,x_pred)\n",
    "print(f\"Total time: {total_time}, Time per each prediction: {time_per_pred}\")"
   ]
  },
  {
   "cell_type": "code",
   "execution_count": 210,
   "id": "d5ebbee0",
   "metadata": {},
   "outputs": [
    {
     "name": "stdout",
     "output_type": "stream",
     "text": [
      "Total time: 0.23768991800170625, Time per each prediction: 7.284398345133504e-05\n"
     ]
    }
   ],
   "source": [
    "# Calculate Naive Bayse prediction times\n",
    "total_time2,time_per_pred2=pred_timer(model_0,x_pred)\n",
    "print(f\"Total time: {total_time}, Time per each prediction: {time_per_pred}\")"
   ]
  },
  {
   "cell_type": "markdown",
   "id": "03d4aece",
   "metadata": {},
   "source": [
    "It seems with our current hardware (in my case, I'm using a Google Colab notebook) our best performing model takes over 10x the time to make predictions as our baseline model.\n",
    "\n",
    "Is that extra prediction time worth it?\n",
    "\n",
    "Let's compare time per prediction versus our model's F1-scores."
   ]
  },
  {
   "cell_type": "code",
   "execution_count": 211,
   "id": "953c6ca8",
   "metadata": {},
   "outputs": [
    {
     "data": {
      "text/plain": [
       "Text(0, 0.5, 'F1-score')"
      ]
     },
     "execution_count": 211,
     "metadata": {},
     "output_type": "execute_result"
    },
    {
     "data": {
      "image/png": "[encoded data removed]",
      "text/plain": [
       "<Figure size 720x504 with 1 Axes>"
      ]
     },
     "metadata": {
      "needs_background": "light"
     },
     "output_type": "display_data"
    }
   ],
   "source": [
    "import matplotlib.pyplot as plt\n",
    "\n",
    "plt.figure(figsize=(10,7))\n",
    "plt.scatter(time_per_pred1,model_6_metrics[\"f1\"],label=\"TF Hub\")\n",
    "plt.scatter(time_per_pred2,model_1_metrics[\"f1\"],label=\"Naive Bayes\")\n",
    "plt.legend()\n",
    "plt.title(\"F1-score veruss time per prediction\")\n",
    "plt.xlabel(\"Time per prediction\")\n",
    "plt.ylabel(\"F1-score\")"
   ]
  },
  {
   "cell_type": "markdown",
   "id": "9eaa1e82",
   "metadata": {},
   "source": [
    "![](https://raw.githubusercontent.com/mrdbourke/tensorflow-deep-learning/main/images/08-ideal-performance-speed-of-pred-tradeoff-highlighted.png)\n",
    "*Ideal position for speed and performance tradeoff model (fast predictions with great results).*\n",
    "\n",
    "Of course, the ideal position for each of these dots is to be in the top left of the plot (low time per prediction, high F1-score). \n",
    "\n",
    "In our case, there's a clear tradeoff for time per prediction and performance. Our best performing model takes an order of magnitude longer per prediction but only results in a few F1-score point increase.\n",
    "\n",
    "This kind of tradeoff is something you'll need to keep in mind when incorporating machine learning models into your own applications."
   ]
  },
  {
   "cell_type": "markdown",
   "id": "770568c2",
   "metadata": {},
   "source": [
    "# Exercises\n",
    "\n",
    "1. Rebuild, compile and train `model_1`, `model_2` and `model_5` using the [Keras Sequential API](https://www.tensorflow.org/api_docs/python/tf/keras/Sequential) instead of the Functional API.\n",
    "2. Retrain the baseline model with 10% of the training data. How does perform compared to the Universal Sentence Encoder model with 10% of the training data?\n",
    "3. Try fine-tuning the TF Hub Universal Sentence Encoder model by setting `training=True` when instantiating it as a Keras layer.\n",
    "\n",
    "```\n",
    "We can use this encoding layer in place of our text_vectorizer and embedding layer\n",
    "\n",
    "sentence_encoder_layer = hub.KerasLayer(\"https://tfhub.dev/google/universal-sentence-encoder/4\",\n",
    "                                        input_shape=[],\n",
    "                                        dtype=tf.string,\n",
    "                                        trainable=True) # turn training on to fine-tune the TensorFlow Hub model\n",
    "```\n",
    "4. Retrain the best model you've got so far on the whole training set (no validation split). Then use this trained model to make predictions on the test dataset and format the predictions into the same format as the `sample_submission.csv` file from Kaggle (see the Files tab in Colab for what the `sample_submission.csv` file looks like). Once you've done this, [make a submission to the Kaggle competition](https://www.kaggle.com/c/nlp-getting-started/data), how did your model perform?\n",
    "5. Combine the ensemble predictions using the majority vote (mode), how does this perform compare to averaging the prediction probabilities of each model?\n",
    "6. Make a confusion matrix with the best performing model's predictions on the validation set and the validation ground truth labels.\n",
    "\n",
    "# Extra-curriculum \n",
    "\n",
    "To practice what you've learned, a good idea would be to spend an hour on 3 of the following (3-hours total, you could through them all if you want) and then write a blog post about what you've learned.\n",
    "\n",
    "* For an overview of the different problems within NLP and how to solve them read through: \n",
    " * [A Simple Introduction to Natural Language Processing](https://becominghuman.ai/a-simple-introduction-to-natural-language-processing-ea66a1747b32)\n",
    " * [How to solve 90% of NLP problems: a step-by-step guide](https://blog.insightdatascience.com/how-to-solve-90-of-nlp-problems-a-step-by-step-guide-fda605278e4e)\n",
    "* Go through [MIT's Recurrent Neural Networks lecture](https://youtu.be/SEnXr6v2ifU). This will be one of the greatest additions to what's happening behind the RNN model's you've been building.\n",
    "* Read through the [word embeddings page on the TensorFlow website](https://www.tensorflow.org/tutorials/text/word_embeddings). Embeddings are such a large part of NLP. We've covered them throughout this notebook but extra practice would be well worth it. A good exercise would be to write out all the code in the guide in a new notebook. \n",
    "* For more on RNN's in TensorFlow, read and reproduce [the TensorFlow RNN guide](https://www.tensorflow.org/guide/keras/rnn). We've covered many of the concepts in this guide, but it's worth writing the code again for yourself.\n",
    "* Text data doesn't always come in a nice package like the data we've downloaded. So if you're after more on preparing different text sources for being with your TensorFlow deep learning models, it's worth checking out the following:\n",
    " * [TensorFlow text loading tutorial](https://www.tensorflow.org/tutorials/load_data/text).\n",
    "  * [Reading text files with Python](https://realpython.com/read-write-files-python/) by Real Python.\n",
    "* This notebook has focused on writing NLP code. For a mathematically rich overview of how NLP with Deep Learning happens, read [Standford's Natural Language Processing with Deep Learning lecture notes Part 1](https://web.stanford.edu/class/cs224n/readings/cs224n-2019-notes01-wordvecs1.pdf).  \n",
    "  * For an even deeper dive, you could even do the whole [CS224n](http://web.stanford.edu/class/cs224n/) (Natural Language Processing with Deep Learning) course. \n",
    "* Great blog posts to read:\n",
    "  * Andrei Karpathy's [The Unreasonable Effectiveness of RNNs](https://karpathy.github.io/2015/05/21/rnn-effectiveness/) dives into generating Shakespeare text with RNNs.\n",
    "  * [Text Classification with NLP: Tf-Idf vs Word2Vec vs BERT](https://towardsdatascience.com/text-classification-with-nlp-tf-idf-vs-word2vec-vs-bert-41ff868d1794) by Mauro Di Pietro. An overview of different techniques for turning text into numbers and then classifying it.\n",
    "  * [What are word embeddings?](https://machinelearningmastery.com/what-are-word-embeddings/) by Machine Learning Mastery.\n",
    "* Other topics worth looking into:\n",
    "  * [Attention mechanisms](https://jalammar.github.io/visualizing-neural-machine-translation-mechanics-of-seq2seq-models-with-attention/). These are a foundational component of the transformer architecture and also often add improvments to deep NLP models.\n",
    "  * [Transformer architectures](http://jalammar.github.io/illustrated-transformer/). This model architecture has recently taken the NLP world by storm, achieving state of the art on many benchmarks. However, it does take a little more processing to get off the ground, the [HuggingFace Models (formerly HuggingFace Transformers) library](https://huggingface.co/models/) is probably your best quick start.\n",
    "    * And now [HuggingFace even have their own course](https://huggingface.co/course/chapter1) on how their library works! I haven't done it but anything HuggingFace makes is world-class.\n",
    "\n"
   ]
  },
  {
   "cell_type": "markdown",
   "id": "55728260",
   "metadata": {},
   "source": [
    "# References\n",
    "\n",
    "[naive-bayes](https://viblo.asia/p/mo-hinh-phan-lop-naive-bayes-vyDZO0A7lwj)"
   ]
  }
 ],
 "metadata": {
  "kernelspec": {
   "display_name": "Python 3",
   "language": "python",
   "name": "python3"
  },
  "language_info": {
   "codemirror_mode": {
    "name": "ipython",
    "version": 3
   },
   "file_extension": ".py",
   "mimetype": "text/x-python",
   "name": "python",
   "nbconvert_exporter": "python",
   "pygments_lexer": "ipython3",
   "version": "3.8.8"
  }
 },
 "nbformat": 4,
 "nbformat_minor": 5
}
