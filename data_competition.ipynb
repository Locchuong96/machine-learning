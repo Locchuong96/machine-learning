{
  "nbformat": 4,
  "nbformat_minor": 0,
  "metadata": {
    "colab": {
      "name": "data-competition.ipynb",
      "provenance": [],
      "collapsed_sections": [],
      "authorship_tag": "ABX9TyMJj78xtwGKOo+s1rSZQY5u",
      "include_colab_link": true
    },
    "kernelspec": {
      "name": "python3",
      "display_name": "Python 3"
    },
    "language_info": {
      "name": "python"
    },
    "accelerator": "GPU"
  },
  "cells": [
    {
      "cell_type": "markdown",
      "metadata": {
        "id": "view-in-github",
        "colab_type": "text"
      },
      "source": [
        "<a href=\"https://colab.research.google.com/github/Locchuong96/Machine-Learning/blob/main/data_competition.ipynb\" target=\"_parent\"><img src=\"https://colab.research.google.com/assets/colab-badge.svg\" alt=\"Open In Colab\"/></a>"
      ]
    },
    {
      "cell_type": "code",
      "source": [
        "rm -rf Data-Competition"
      ],
      "metadata": {
        "id": "AitmU0Jbm9JR"
      },
      "execution_count": null,
      "outputs": []
    },
    {
      "cell_type": "code",
      "execution_count": 1,
      "metadata": {
        "colab": {
          "base_uri": "https://localhost:8080/"
        },
        "id": "tgWGc8LQBc9-",
        "outputId": "db49f076-3e25-47b2-e92a-aa5a5bb74fb1"
      },
      "outputs": [
        {
          "output_type": "stream",
          "name": "stdout",
          "text": [
            "Cloning into 'Data-Competition'...\n",
            "remote: Enumerating objects: 185, done.\u001b[K\n",
            "remote: Counting objects: 100% (185/185), done.\u001b[K\n",
            "remote: Compressing objects: 100% (138/138), done.\u001b[K\n",
            "remote: Total 185 (delta 83), reused 122 (delta 38), pack-reused 0\u001b[K\n",
            "Receiving objects: 100% (185/185), 25.08 MiB | 29.35 MiB/s, done.\n",
            "Resolving deltas: 100% (83/83), done.\n"
          ]
        }
      ],
      "source": [
        "# !git clone https://github.com/ultralytics/yolov5\n",
        "!git clone https://github.com/fsoft-ailab/Data-Competition.git"
      ]
    },
    {
      "cell_type": "code",
      "source": [
        "from google.colab import drive \n",
        "drive.mount('/content/gdrive')"
      ],
      "metadata": {
        "colab": {
          "base_uri": "https://localhost:8080/"
        },
        "id": "ims96NrpETUq",
        "outputId": "ef5e5ade-f2f8-493a-d083-f820ca86a5d7"
      },
      "execution_count": 2,
      "outputs": [
        {
          "output_type": "stream",
          "name": "stdout",
          "text": [
            "Mounted at /content/gdrive\n"
          ]
        }
      ]
    },
    {
      "cell_type": "code",
      "source": [
        "!pwd"
      ],
      "metadata": {
        "colab": {
          "base_uri": "https://localhost:8080/"
        },
        "id": "4vFDLHa7B8E3",
        "outputId": "a29e63bd-87c1-4a8b-f80a-a560c8d3e79f"
      },
      "execution_count": null,
      "outputs": [
        {
          "output_type": "stream",
          "name": "stdout",
          "text": [
            "/content\n"
          ]
        }
      ]
    },
    {
      "cell_type": "code",
      "source": [
        "cd Data-Competition"
      ],
      "metadata": {
        "id": "Goku5-2dCr4F",
        "colab": {
          "base_uri": "https://localhost:8080/"
        },
        "outputId": "99605ef4-f97f-443d-f39a-f5e237966f0f"
      },
      "execution_count": 3,
      "outputs": [
        {
          "output_type": "stream",
          "name": "stdout",
          "text": [
            "/content/Data-Competition\n"
          ]
        }
      ]
    },
    {
      "cell_type": "code",
      "source": [
        "# install requirements\n",
        "!pip install -r requirements.txt"
      ],
      "metadata": {
        "colab": {
          "base_uri": "https://localhost:8080/",
          "height": 1000
        },
        "id": "rXy507pjG5JM",
        "outputId": "cc0d8c19-690f-4251-ffed-66a5c270d2a3"
      },
      "execution_count": 4,
      "outputs": [
        {
          "output_type": "stream",
          "name": "stdout",
          "text": [
            "Requirement already satisfied: matplotlib>=3.2.2 in /usr/local/lib/python3.7/dist-packages (from -r requirements.txt (line 4)) (3.2.2)\n",
            "Requirement already satisfied: numpy>=1.18.5 in /usr/local/lib/python3.7/dist-packages (from -r requirements.txt (line 5)) (1.19.5)\n",
            "Requirement already satisfied: opencv-python>=4.1.2 in /usr/local/lib/python3.7/dist-packages (from -r requirements.txt (line 6)) (4.1.2.30)\n",
            "Collecting Pillow>=8.0.0\n",
            "  Downloading Pillow-8.4.0-cp37-cp37m-manylinux_2_17_x86_64.manylinux2014_x86_64.whl (3.1 MB)\n",
            "\u001b[K     |████████████████████████████████| 3.1 MB 29.8 MB/s \n",
            "\u001b[?25hCollecting PyYAML>=5.3.1\n",
            "  Downloading PyYAML-6.0-cp37-cp37m-manylinux_2_5_x86_64.manylinux1_x86_64.manylinux_2_12_x86_64.manylinux2010_x86_64.whl (596 kB)\n",
            "\u001b[K     |████████████████████████████████| 596 kB 37.0 MB/s \n",
            "\u001b[?25hRequirement already satisfied: scipy>=1.4.1 in /usr/local/lib/python3.7/dist-packages (from -r requirements.txt (line 9)) (1.4.1)\n",
            "Requirement already satisfied: torch>=1.7.0 in /usr/local/lib/python3.7/dist-packages (from -r requirements.txt (line 10)) (1.10.0+cu111)\n",
            "Requirement already satisfied: torchvision>=0.8.1 in /usr/local/lib/python3.7/dist-packages (from -r requirements.txt (line 11)) (0.11.1+cu111)\n",
            "Requirement already satisfied: tqdm>=4.41.0 in /usr/local/lib/python3.7/dist-packages (from -r requirements.txt (line 12)) (4.62.3)\n",
            "Requirement already satisfied: tensorboard>=2.4.1 in /usr/local/lib/python3.7/dist-packages (from -r requirements.txt (line 15)) (2.7.0)\n",
            "Requirement already satisfied: seaborn>=0.11.0 in /usr/local/lib/python3.7/dist-packages (from -r requirements.txt (line 19)) (0.11.2)\n",
            "Requirement already satisfied: pandas in /usr/local/lib/python3.7/dist-packages (from -r requirements.txt (line 20)) (1.1.5)\n",
            "Collecting thop\n",
            "  Downloading thop-0.0.31.post2005241907-py3-none-any.whl (8.7 kB)\n",
            "Requirement already satisfied: pyparsing!=2.0.4,!=2.1.2,!=2.1.6,>=2.0.1 in /usr/local/lib/python3.7/dist-packages (from matplotlib>=3.2.2->-r requirements.txt (line 4)) (3.0.6)\n",
            "Requirement already satisfied: kiwisolver>=1.0.1 in /usr/local/lib/python3.7/dist-packages (from matplotlib>=3.2.2->-r requirements.txt (line 4)) (1.3.2)\n",
            "Requirement already satisfied: python-dateutil>=2.1 in /usr/local/lib/python3.7/dist-packages (from matplotlib>=3.2.2->-r requirements.txt (line 4)) (2.8.2)\n",
            "Requirement already satisfied: cycler>=0.10 in /usr/local/lib/python3.7/dist-packages (from matplotlib>=3.2.2->-r requirements.txt (line 4)) (0.11.0)\n",
            "Requirement already satisfied: typing-extensions in /usr/local/lib/python3.7/dist-packages (from torch>=1.7.0->-r requirements.txt (line 10)) (3.10.0.2)\n",
            "Requirement already satisfied: markdown>=2.6.8 in /usr/local/lib/python3.7/dist-packages (from tensorboard>=2.4.1->-r requirements.txt (line 15)) (3.3.6)\n",
            "Requirement already satisfied: wheel>=0.26 in /usr/local/lib/python3.7/dist-packages (from tensorboard>=2.4.1->-r requirements.txt (line 15)) (0.37.0)\n",
            "Requirement already satisfied: google-auth<3,>=1.6.3 in /usr/local/lib/python3.7/dist-packages (from tensorboard>=2.4.1->-r requirements.txt (line 15)) (1.35.0)\n",
            "Requirement already satisfied: tensorboard-data-server<0.7.0,>=0.6.0 in /usr/local/lib/python3.7/dist-packages (from tensorboard>=2.4.1->-r requirements.txt (line 15)) (0.6.1)\n",
            "Requirement already satisfied: absl-py>=0.4 in /usr/local/lib/python3.7/dist-packages (from tensorboard>=2.4.1->-r requirements.txt (line 15)) (0.12.0)\n",
            "Requirement already satisfied: google-auth-oauthlib<0.5,>=0.4.1 in /usr/local/lib/python3.7/dist-packages (from tensorboard>=2.4.1->-r requirements.txt (line 15)) (0.4.6)\n",
            "Requirement already satisfied: tensorboard-plugin-wit>=1.6.0 in /usr/local/lib/python3.7/dist-packages (from tensorboard>=2.4.1->-r requirements.txt (line 15)) (1.8.0)\n",
            "Requirement already satisfied: werkzeug>=0.11.15 in /usr/local/lib/python3.7/dist-packages (from tensorboard>=2.4.1->-r requirements.txt (line 15)) (1.0.1)\n",
            "Requirement already satisfied: grpcio>=1.24.3 in /usr/local/lib/python3.7/dist-packages (from tensorboard>=2.4.1->-r requirements.txt (line 15)) (1.42.0)\n",
            "Requirement already satisfied: requests<3,>=2.21.0 in /usr/local/lib/python3.7/dist-packages (from tensorboard>=2.4.1->-r requirements.txt (line 15)) (2.23.0)\n",
            "Requirement already satisfied: protobuf>=3.6.0 in /usr/local/lib/python3.7/dist-packages (from tensorboard>=2.4.1->-r requirements.txt (line 15)) (3.17.3)\n",
            "Requirement already satisfied: setuptools>=41.0.0 in /usr/local/lib/python3.7/dist-packages (from tensorboard>=2.4.1->-r requirements.txt (line 15)) (57.4.0)\n",
            "Requirement already satisfied: pytz>=2017.2 in /usr/local/lib/python3.7/dist-packages (from pandas->-r requirements.txt (line 20)) (2018.9)\n",
            "Requirement already satisfied: six in /usr/local/lib/python3.7/dist-packages (from absl-py>=0.4->tensorboard>=2.4.1->-r requirements.txt (line 15)) (1.15.0)\n",
            "Requirement already satisfied: rsa<5,>=3.1.4 in /usr/local/lib/python3.7/dist-packages (from google-auth<3,>=1.6.3->tensorboard>=2.4.1->-r requirements.txt (line 15)) (4.8)\n",
            "Requirement already satisfied: cachetools<5.0,>=2.0.0 in /usr/local/lib/python3.7/dist-packages (from google-auth<3,>=1.6.3->tensorboard>=2.4.1->-r requirements.txt (line 15)) (4.2.4)\n",
            "Requirement already satisfied: pyasn1-modules>=0.2.1 in /usr/local/lib/python3.7/dist-packages (from google-auth<3,>=1.6.3->tensorboard>=2.4.1->-r requirements.txt (line 15)) (0.2.8)\n",
            "Requirement already satisfied: requests-oauthlib>=0.7.0 in /usr/local/lib/python3.7/dist-packages (from google-auth-oauthlib<0.5,>=0.4.1->tensorboard>=2.4.1->-r requirements.txt (line 15)) (1.3.0)\n",
            "Requirement already satisfied: importlib-metadata>=4.4 in /usr/local/lib/python3.7/dist-packages (from markdown>=2.6.8->tensorboard>=2.4.1->-r requirements.txt (line 15)) (4.8.2)\n",
            "Requirement already satisfied: zipp>=0.5 in /usr/local/lib/python3.7/dist-packages (from importlib-metadata>=4.4->markdown>=2.6.8->tensorboard>=2.4.1->-r requirements.txt (line 15)) (3.6.0)\n",
            "Requirement already satisfied: pyasn1<0.5.0,>=0.4.6 in /usr/local/lib/python3.7/dist-packages (from pyasn1-modules>=0.2.1->google-auth<3,>=1.6.3->tensorboard>=2.4.1->-r requirements.txt (line 15)) (0.4.8)\n",
            "Requirement already satisfied: chardet<4,>=3.0.2 in /usr/local/lib/python3.7/dist-packages (from requests<3,>=2.21.0->tensorboard>=2.4.1->-r requirements.txt (line 15)) (3.0.4)\n",
            "Requirement already satisfied: certifi>=2017.4.17 in /usr/local/lib/python3.7/dist-packages (from requests<3,>=2.21.0->tensorboard>=2.4.1->-r requirements.txt (line 15)) (2021.10.8)\n",
            "Requirement already satisfied: urllib3!=1.25.0,!=1.25.1,<1.26,>=1.21.1 in /usr/local/lib/python3.7/dist-packages (from requests<3,>=2.21.0->tensorboard>=2.4.1->-r requirements.txt (line 15)) (1.24.3)\n",
            "Requirement already satisfied: idna<3,>=2.5 in /usr/local/lib/python3.7/dist-packages (from requests<3,>=2.21.0->tensorboard>=2.4.1->-r requirements.txt (line 15)) (2.10)\n",
            "Requirement already satisfied: oauthlib>=3.0.0 in /usr/local/lib/python3.7/dist-packages (from requests-oauthlib>=0.7.0->google-auth-oauthlib<0.5,>=0.4.1->tensorboard>=2.4.1->-r requirements.txt (line 15)) (3.1.1)\n",
            "Installing collected packages: Pillow, thop, PyYAML\n",
            "  Attempting uninstall: Pillow\n",
            "    Found existing installation: Pillow 7.1.2\n",
            "    Uninstalling Pillow-7.1.2:\n",
            "      Successfully uninstalled Pillow-7.1.2\n",
            "  Attempting uninstall: PyYAML\n",
            "    Found existing installation: PyYAML 3.13\n",
            "    Uninstalling PyYAML-3.13:\n",
            "      Successfully uninstalled PyYAML-3.13\n",
            "\u001b[31mERROR: pip's dependency resolver does not currently take into account all the packages that are installed. This behaviour is the source of the following dependency conflicts.\n",
            "albumentations 0.1.12 requires imgaug<0.2.7,>=0.2.5, but you have imgaug 0.2.9 which is incompatible.\u001b[0m\n",
            "Successfully installed Pillow-8.4.0 PyYAML-6.0 thop-0.0.31.post2005241907\n"
          ]
        },
        {
          "output_type": "display_data",
          "data": {
            "application/vnd.colab-display-data+json": {
              "pip_warning": {
                "packages": [
                  "PIL"
                ]
              }
            }
          },
          "metadata": {}
        }
      ]
    },
    {
      "cell_type": "markdown",
      "source": [
        "![Capture.PNG](data:image/png;base64,iVBORw0KGgoAAAANSUhEUgAAAgEAAADCCAYAAADQBRFSAAAAAXNSR0IArs4c6QAAAARnQU1BAACxjwv8YQUAAAAJcEhZcwAADsMAAA7DAcdvqGQAADX2SURBVHhe7Z177G1Hdd8dIH6AHSAxwZiYBEU4bkR0FUCGhjS4CKFICOoW6BXi8hLESMUuBVOQrCIM/l2BxYVwzesipXACBYoDkX4GFfNuoMCPl3ldt1LVSpWQqpBEivqgD7XN6Xxn7zV7zdpr9uP89jlnn3u+f3x+57dnZs+sea21Zvbroic84QlL8NjHPnb5lKc8hRBCCCF7wkVPetKTloBOACGEELJfXHT99dcvAZ0AQgghZL+46MlPfvIS0AkghBBC9ouL8IdOACGEELJ/0AkghBBC9pToBAA6AYQQQsh+QSeAEEJ2hJMnTiz/0W/+5vLv//Zvu/GEjIVOANlJXvRbv7X8veuvd+MIWQWMqWc98YluHNj2mEP5y4suSvzRr/yKm46QMWzMCfjsZz+7/OhHP+rGrYuTJ08uv/SlLy3Pnz+//PCHP+ymWSfPfe5zl1/96leX73znO914zZve9CY3XOiL3yewGoIS/OOrr3bjyX5ynNXxP7nuumRc/9Nll8UxpuPv+PVfT3EwxjpuUzzjSU9afv6Xfmn5vV/4heV/e9CDojzYFfDSEjKU2TgBb3zjG5ff+MY3lq94xSvc+FWA8f32t78d837lK1/pplknQ52AG2+8cfnTn/50+aMf/Wj5jGc8I4vDMcIRj3Q6bl+BsocC/PcPeYgbv0le8fjHu+GWbRkOYdur2HUjq+SxjqG0ixh54U8f+ciUBsZXjC74z5dcsvW2/MNf/dUoC369+CnY9pglm2FtTgCM7te+9rW4CsfvvffeG52AF77whfH/H//4x8sf/vCHy4997GPLg4OD+P/9998fede73rV8xzvesbzvvvvi+XAOXve617nlgJe//OXLz3/+8ynPj3zkI8v3vOc9KT8AQ3z69Onl0dFRyvM73/lOMtAwtpDrnnvuWT71qU+NYZ/4xCeWn/vc55bvfve7W7LAWfnmN78Zy4WR/v73v7/8wAc+sPzKV74S5cAOxM033zx4JwDtYh0B7QAg3p6zz0AR/+8HPKBz+3bdyOrxzp65I+m2tXMBR2Wb5W8CrIhRxz/7xV904z3EcfiXj3pUOl/4zCMekdKJwUW6bz7sYfF/OA06r00jTsu6LglIe7zvMY9x48mFw1qcgGc/+9nRCH7mM5+J/7/5zW+ORhJOAAw2jCrCX/3qV0ej/La3vS3bCYARfvvb3x6N7dOe9rTlxz/+8eWXv/zl5bOe9azesl772tdGY/6qV70qGl8YYazIYZCxK/C+971v+fSnPz3mD4dBG2g4I5AHaV/2spdFeeCMeLK85jWviU4EyoVcCEd+SP+Sl7xk+fWvf325WCwGOwFAOwJY9c/ZAdj2NiSU0zqV4BCGKmJJpw3LJhGFvq3yN4EYdGyVe/EecCBxzl/9/M93OgHIE2G4RCB9qXcKtsG6nQDsfiBve1mEXHisxQm45ZZbojG97bbbUtgnP/nJ5ARgtYxVNYwcgJG0TsC5c+eiUUU6/Iox1+UAryxBOwFnzpyJ6WCgEedt1cOJgGwf+tCHlu9973vjDsYLXvACV5Y3vOENMb877rgjlYX0z3ve8+IxLn986lOfGuUEAHEEfvazn83WAZCV7TZXCVDg2AmAAt/W1uyuOAFyD8UYA1lirlvEcokI1+y9+BJi4LGbg1/Z9pdLTRhbGGcIx/HUfYn2hAOigQH20mrE6Rmz80GIx8adAPxi5Q6D+6IXvSgaTusE4Hys2u+8887oEMAgH9cJQP7I8/Wvf32Mw0of51kDjbKwzY+V/Pvf//6iLHACIC/ytWXh+EJ2ArAtCgW0zVU4gCKGHK+/9lo3ft3sihMAYMRgzI7jMMlqeY5bxDCckE2M9VBkqx8re/zCKYAjgf8RJ3UWY9vXl2NWzvpmRAsuO7zxcY8r9pc4J6DLabDy4NKQdjgwd6Se23KmyXbZ+OUAOAFf+MIXls95znOyLXkYU2yvIwx3wsPwvvWtb10+//nPj9fdS06ALQvb9l/84hfjrzbMuL6O6/2QAwYaDgDKxv0HuEQA4478XvrSl0YnAPFwFMQJsLKswwkQB2DulwOwSoKi2vaqUBQynBIvft3skhMAIwYZoOy9+CHMfYtYxuWY+0Skb6R98AtDKQZWwpFOp/fGnKzO++69kJtJxQHB/S1wPgR9EyJAGPLEboU2+HhSAPHIR8I06GsdL/czlIDzo/Mv3fQqiwBdbimtdTrANu/jIW02cmPgd7/73Wio4QRIOG7Wg3H93ve+F40kjKfcMIjjD37wg9FIwxAifckJAN6Ngc985jNbhhkredwzgHDcM4A4OABwGj796U9HRwFp4FDgpkA5x5NlaidAOwBzvjFQFAsUihe/CWQLFSslyPKTSy8tKqF1sktOgBic4+zeoN230c5DWWVnSPpGDK8YdzF0QK+2u/pc5kZXP0M2SYM88L9nxDG2YeStQ/Djyy9PaWQnofSUjMwPlCVpYejlMUNxLiAH/ke87PJIenvTq9RR8tVp7Q5R107HhXyT6q6xNidgbmBlfffddy/f8pa3xGP8YrUPp0Cnw+WCb33rW+mywSaQRwThVIgDIGhHYA6PCMrKaJUteChSKBUAZeJtP8pqCtf6oRxtGq2ELMcxcKswVyfAW30hDDKg/2zaIdvAWqFvup2HItf1x1yukL4RYDgRrscZDKRN77WB3JeAlb2NE3R5f/rLvxx/EealFSCLOHHSf9JvKAvh3q6c1AHn2B0NizgMUq9SPVGm7EDIeJZ2t2nRDwiXnQ6RVYB8Oj3ZDjvlBGB1rR/7Awjz0lqwosed+7jk8IMf/CD+4mZBmwaOAnYkrDFeN7vwsiAYcZnUshq3dK0UsYrRSsBbDWglCazRggx6JfPXwVlAuvvC/3qb2pOvS7Yh4HzJC3KUFKVF0o1xAlZ98U1p9fWu2ojoVSPqgzA4XNJ2UkfbVlIHnK/bubS1O/aSAdJL2wpj+wvnQMYx7WzHm8gtTw7Y/CR9aSUr9xOU6i/3HgAxisjTS6vBeMM4w7iQemI+fejRj47/e2MQMiAO/Su/JYcP+UM2kVvq6eUrcdIuchkGY0/SiIxd9M0bshn2ZieAHB/ZyvzWQx/amtAab3KLcYLiklWJNfDAKmUAhWLTCVDGSCMrONC1DWm3N4eAFQ22hHU+2KZ998Atdqs0+5CVlbdNLJSMjJQFxQy5BBgPGAHUQ9LCIMh1YhgAe81Yt5VnFGTXBn2qnQFp/6FtLfl4jOkvWYnrlXsfsgIG9qZCWfHqxwH1dr5OK6B9JB7jFqAfMU7F6KMcMcxg7JhEv4nh/bOHPzyV56WVdAD18dJ4eP0tiPOI/KQ9UDftYOgdA/SHjENNaQyTzUIngAxGtvdE8UCRyYpcgGH3JrdsZ2Lya8WL9Fp5aCdADC/O0XlpPGUlYfZ6KvKT1eVQBSSGBXlJ/WRHQ9qhSz4g8gxxAsRBAt4WLxAj6217i7xQ/jZc8tb5yopNVrDSp7YfvXZGv0lbwAigjFLaLiS9Hk9D+t4idYcsXrwH6ohzAOqi4+DYoHzdDtJekFGnFXCOdRg1aGe0P8aChI2poyCO07+rjXxpbMm8A2NuoO3qQ9kRlP7C/0hv040dB2Q70Akgg5GbpT5cr75hKLx0HlAEOAdKCcYDBkxWQ/omQ1EcQBQl0kHx6Pxseq1oJAyrL4QL4gCIEYUsCMNKDPFQ8LYccVhEgWLlIyu6u6+6qlW2h8jT5wSIYkd9u+65kC1lpNMOlCCrP6mv5PuDK66Iv5BH0opRE0rb3F47A5Qv/YR2QfvJONHldCHOJcYB5BFnBY7XUGcNrOIEAJwj5XvxGikDlFbwaHfUAQYSq2E7/oC0J/jzut10Hn3ICvw7tRGWsWXbC/nKPOsbp5pSfwv6sgb6yRuHkgdkQ7962HPI5qETQAYj23uv+43fiIoFK57SNWELlAnO1YYBClUMqoRr5YhzZKUBBe0pGjHSesu2T4FJvLdiQ73gJNi0yAtKXNJBno/Vxu7f9BgPyaPPCejbagaQTcvtOQswToiTNpG2/3Z9GUevCPVKGHi7C6CvTcVwI29xQmRnoAsYAilbg37QOxZDWNUJkDHW1z+C7JqU2qoPzBltRAH6FPl5Y9xD2vjcNdfEX9RZLo3ZPpLxMOayQ19/w7kQGUrtpnf8SoyRiawHOgFkMKL8oGxlm1EblC7EEEG56HBRFKJIRPkAnAOFKcrGcwRklau3cvsUmC4DeSMdEEMGAyQrM50XyoaiFsN7T313N25K1PlbJI8+I9OXTm/tiqzetrQYVrQX5JZzxPDY/LVT0ddmpXgxwHIJBm3opbOgTcW5BDBmcq157IpRZMA49eJLiJHs6x9BLhMMdYA1KEu3938P7SXzCqD9UH+0t64/gMMGJxD9irQYu2g/uSQj53u7J2MdKpmXpf4GmCOYD6VdDMiG87sY4iiS9UIngAwCEx1KQVZZOIaiRxgUBpSUVYqY4AiHopC7+LEa1WmgeBEuqyoxNgBKAmEoSxwBb+Uguwmi/PoMlqy4vTQleby81uUEQMmL4sfuA+SV+sOAiBMi7W+VPs5DuMTDMOAcb9cEyEoYlNpsiFHQ+djr611I3l0MWTGKQ+g5Rl2IczfWUI5FnBQgl0zEWULZ2hnqQ+4tkHMxZuAYTlUHzDmME8+hIBcWdALIIMSwQNFIGAyCVU59wBmAgkF++qYyhCFP7QSIsQOIh6L2Vg6yQraGG0ZXG1NJj7ykDLuTYY2+l5eAywCIm8oJ6DOGWvGD0vav3PMgIF+Ei7GzbYgwSVu6J0BWdV0rN7tT4aXxELmQf4mucgX0CcqGQfTitw2cZDhxcg1dnFftPCMc/YWxAmfGgvEKhwjpdN5zQeYx2R1WcgKuvvXPyQzx+moqxEDpVSQUEY61ktKGHccwBmJ4vJUO0mnDJuXA4A1VdEiHMiSfkjHVq0nZGrerYjkXhkcfdwEnAAZI56MZ6gSgHp7yh+JHHjotnBqRzeaLfMR4dsklwAjJToNtj7FA3inyWQXZ4elr520il3HQL5AT/2tnd5eR3Y0huzZkPnQ6AQgjBFz3a7+2/OdBwT8jGBYvfggnwkrxX1xxxfKbl166/NfByP+zK69spUE57woruWc9+tGtuKGgnHuCUUM5wuce/OBMdqRBOdcH58GeCxklrZeX8B/q7fZ/e/HF8feO4OTovIR/Wiv7PwkOkhc/lpfWTyWgDfEL+bx0Y5D2+DvXXOPGDwX53Pnwh7fadRP84/ryDPrPi58DGCMyFjCf8D/ay0s7N7rm/j+od6X+ywMecCwdQTZPpxPwmDCRCSE+t5qdjdvCKq8r3d3BWHvxY0E5yA+OiPx66faNxwfj84cPfejy74YVqRc/B54YnNv/9XM/l8YMgMxe2jnx4trBem9wXGzcm4MT85MHVTeEHgZn28aTeUMngJAVufnKK5MixwoICt5LN7UT8Lb6XgSUiV9PMZP5AoMqu0n3XnbZrJ0WQcY6HBjIL+FwYBAOsDO2C3UhOdtxAk4tlkdHi+UpL24EpxZHy/Pnj5aLU378OkHZhwc2/NRycdQvz8HheefcaejL28q9zTb0OVgeqrExTVuFPM+fX54/PHDiVudx11wTlSCMfMkBAKJAP3L55W68D8ZSkNmRW68m8fv7V10Vw0ttNZs+9ub9weHIfhk2x3oZXa5H3UfH1GXzm4NtMNYxfjHm4Hz+ztVXpx0pHP+9Rz7SPY/Mn8mdgNtuuy1+ehdfvPPiIxM5AdsDRuVwedAKn7sTUJJ7PkAhHi1OpeN1ttUkYCxHY5I7Lxoo0D+64orVVkkFYwXDDwfkH6pV2U601QXlBOwf2M2C4f+PYdX/lw98YPxfj0Gye0zqBMABOHny5PL06dNFJwCKKq5uFFFx1QpikeJrY4XJmtI2k7/ynlU6EBVyyENWUJnCqbx2bWBWJsiU5ePKWK8+a2J6yKfCIrWMTX2AqpPOW9VHp+/LW8up5fbaEGGHh1WZh4sqz+ocpz7xnDzcr39/fSrQR3XajvpEY1fLhvBKlnpVJmmTgm/k0HWv2mLRyLiqQQhyHiLfOPa680Db+mUW2gqgvbJ8nX4YNK5Uvkiv214f6/7pqc/BYejrhaT35mZTbnHex/qpOdtVppZNqNNnZXbKbcZJpJK91D9efbJ8dHkjx5XXPwibZg7qujb9k6fX4f3AoZV7UQAuZ3jpyO4w+U7Atdde2+kERKwSkrAwKGUl465qXIVolFvKAxNAD/BqQmSGYCVMvrFMrRi8SZXL2bdiq5SRTHpVPwFlpnbIyyznPUy2qJTQN1HhhvBWm+fn6PIauRGuykp5FOojOGV59UFYciC8seTUVcsWifWTND1yFYhtlZRpTUsWm17K0W3otVXhOCOXu9z3tn55+zRtE9Ip+cv5VWT9ADmdumft7vXV6H5wxnGWL+K75Y447VrqH5umNY5sf40eV3m6KAfqE/MK4Y6s+hzdT1o+/J/aQbVRX7/28cyrrlr+Te0EHDzsYW4asjvMywmwYREMdqVks8lgJpnJY5XBjmtb2N4qbnGhDDPpG6WQK6ioJJPsjZyuXMhX1VPyrPLIlV6lrJq0Or5YZyt3oq2AYtlSL6WAvPro8hoFZPoMZHkYJV6TGcMU1q5PqY55u7TbrOmnQKZYHcMyEOQbZcnGgU9Lhki5rSKZnBVeP0i42/d2ngQaWVTdUZaWI+DnV5GXp8oojGU7PyOj+6Gdxuvbvr7w2tXvn0CpPsDmM7o+YB1zEGXrtAFpe+QXjt26DgA3osIB+L8B3JPCmwF3m9k7ARjgabDaCWeVm8mjrBR9YPhlmwvg0RebxuaZKw6jUJMsuZxtuaoJ257IebxM+qKyCpTqXG6LgQqoUB+kbykZ2y8t8vrEsI7+t3K7dYmKWvJT/VDHt9osG0vt9P1IHQzZ+Mzx+62nrTI56+PB40pwykjtHeIkP1tWD3l5kk/VLhKe1dnr49H9MKxv2+1scOrq909HfYDNZ3R9QN4/qQyph+SJX6fvkT6NvxTfX7ac54+ZMn9R3wuwqG8UxOOBXTfGknmzHSegUympsIBWNPg/n7gmH5NHrqSqydylHORub1znwuD+61CHfIKIolNhamJWk6qeeFoZ4H9vktfH+YQtyanSZMogp503cOTWcUMVUKs+kMn0Y6SqQ7dy0XWuyvXSe/VxjZ3ue/y/oZ0A2b0oya/x6tLbVpmc5jj1QxXn5w+c+RY4OAxhIY9Udmw3rz99dD+g7Eou3ZZV3RqZHDlW6IdW/yOPNL572lNw9E25f0r1CWTy2+Nh9VnPHKzaqV2fnPKY8cFTAdCN9198cTzGewFwfN8ll0T9adOT+TOpE3DTTTfFJwMEOANwCry0GKDivcYJ60zKSBzsdTrcJFNPAn1+BOEmj1xZOBO4gAz0/3nddZkyKU2YJEuQodnSxsSWcNz4pCZqVLZ1XC1vVKIxLJy/kJWMyiOgy87r3593p9xCkL+ogAr1aeSukfbXcgS665MrwQynPnm/ClX/SrqF9IORw3XSBitrS3OedynDUuqHIW0Fqjr7/dDKR7WVzqOpcyAZkvo4kPdnd52yvKXfA00e4fw0ltvnxPqs0g9R7jqf+lwtt9vGLdR4qetZ6h+/PoX+GVmftc5BK2MtV6nfhvAH9dsv8bQLjvWNgvjFC5vsOWTeTL4TcKEATxcDu3n+FRO6YKhmzTrlhpLRedvjgYiy8+LIbIExaTtjZLNMNAcHIo8I4t0YEgbDL/pyF95+SHLoBBSQF2GIx0t87EqGxnx/oBMwDzYxB7EYkrcDem/HhCOAN1liF1WHk/lDJ6CA3CT4lUv5XnZCyP6ib5i2rw0muw+dgAIy8HGdy4snhJB9ANf9Zbufi6ILDzoBBcQJGPe+d0IIufCQLzRyu//Cg05AAXi/GPR8EQYhhJALlfk7AelxoAGPDh2LA/9Z+uyRnwJ4NGvkozaD6c3byF2315xu2MIjTCvJs7G+XxX1mFnfGKkp3UxXPeY1g3p6423IHMjofzRuWsb3Q3UX/Zj0hFyYTOoEnDhxYnn27Nn4jgD84thLN571K5X0bK6Nm7kTUJR7Nhz3kaUJ+j70YWwjtOU6lP4IIzn7O+p30gmoGS3nboE79PlCHjI1kzoBeFmQvCkQXxTEsU1jjVZzXHvmNblhKygVTPpJnolF/jofHDeyiGKpVmsSXqW3j+eASsmX6pPn3RgEnb4vb8HIHdsD6VRbRcN3WK968IKR8Fsrea8+OCcPDzj1769PTZBJ0jZ9XcU1xyv0/RiCDFEuJUuJSqbtf+mv3FY6vW0rSzU+FoX8JY/e8RbrV48dhHcZWqQ1ebjzpyuP2H66jZtjT+50XqsfSjT907RfCAttdVjPj+prpt1l5uEBp55N/j3zpAe5Rwk36HV9ux/X7LviCbGs7XIAHADPCchXGiUFb5VAIV1UOEYRrIJRHlCGafIWFAsmekrjrZ4yciXmKe7il+S68nZlM20VjQ+OK8V3eGDbtiLJlZWn0iI8ldWUUaqPTRePs7yP2fcD8Qyb159CpcCl/EaWYv94xxl5fSCPbwBMvUttVeiHPC8B8U19Y90cObM+zMqtQf2SY2n7x8ORq1WfbkOYtVOhfVtjr7Mf2uTno14os5LtaHHgtm06J6uPapNC/7RkHYm+Qx/gIz42DR7dwyN8iMd7Tmw8IR5rcQJwGQCvDPYvBygFYRROrrC1onGUygj6Pm6Rv/IVZamytWKBvEk+5SiYeghufSSPTFlVCqhJq+ILeQP/VbWmrdL5oQz5tbLUdCk3KLFMPjEKbn1qEJeFb77vgbQT6tC3AvOVdUf/AMf4lOqTGbcM1S8Rv62K/ZDO05TGQv2/yqdzLGf1G9If7TStdg15tttZocrM2qwktzlnCLlM0v6QXX5V+9sys3Y65jwZCO7Qx0fNYOjB7191VRavH+PjDc1kKJM7ATD8Z86cWd5www1uPEiTTysCTGBnUlXnDFE8PpgoMjHc62ktpWfKTooFMjTKKFMgrTzq84r1qeNFoXjxgpd3V7htq5QulCG/saxSfRDfKDG3vh5Zfaowz+Btsu9tXYSuevj1tDIZIL9W7h31Ge4E+G3V2w8ZzlhYdSyn+g3pj3aaltyqTj7SHshL2qVDbmD7oYf8fFue1KFUJtI3Y6ookwUy9ozBPvSb+/CWPug1eac/HAHvHEJKTOoEwPDfddddnQ5ARZhAYbLGr5hJmJ7AcaKoOEep+Ona6Pda//R3f3d5/5/cnsVj0uZKWU/6eqInxSkyVGnaCkTyCHTWx6bJFU2Ok3egLbdg2qrTCXDqE2RyFRRktcbBouucyjNpEB7SHLvvB4Pzq/z8nZMcX4lX7eO3dyCrtzk29SkbCa+fC23V1w+JvO3ggFRl6/Cqbo1MjhxZ/fI8S7ScnUzunvasObU4XC4OFsvDJFuX3IFMzn7yvpB6I1/5RVmFMkNZWdnCkP4ZKacFRh/vL4FOE/5rcAjwC2fAO4eQEpM6AbgZUH9FsOsJASiJfCJgEtae9aAvZAUwmVqKs03lCDwqTpK/es7vqDhP8QZgOGN5YfIHJSRb2o0sIbzv62iD6qPKTmVW9Ofdltttq6ITUKqPkrtGlLWWQ2Qv1QfhrpIMTNL3g5H6inL30jQU5Xb7p9RWfn1a+dT1yds1oNqm3VZ+P+j4hspoefn6fV/F6fxjfTKjpY1iB3Fu5uXq/iyNjYzYVnlZvtzlMeti+jLmFe+Z0eOkqefYMr3+0XXv7rPhYJfzX1122fL/1PcB4Jff9SdjWduNgXMDk0OupaW3XgVFNUgZzY01yg1lpfO2x8MYZnDJuhlosMloppknxwNOwF888IHRAfgftSOASwT6C3+E9LE3TgDAFwExUfi5yw5aqyQa892FTsDa2PI8we7mTx70oKjPDh/84OXfDgsb3PeEYwBd594DRYhhr5wATBzcSMM7Zwkhu8y9l10WjT1+dTgeE8RuAOL4mCAZwl45AYQQsuvIE0/YCcDCxsbjcid2ArjYIUOgE0AIITsEtvm5o0mmgk4AIYQQMgD7gibNrr6umU4AIYQQ0oNchvFe2XzzlVfGOLzR0cbNne04AbizdqVnvjUbuvO58DjeoEeCsuerJ6YvbyM35K2ehzbptsaqjxGW+h3h9Z3arXapn+k+Vl9MM97wDHnnM+xbpasNfUr1mc148+bJ6Hk5Td8Ppqgfm3cTtHQP6hTCjzW2tqKXp5ibm0E/Zm7fxyBPZsAZ0OG7wKROAD4YJC8KwrcDrr32Wjfd7jgB5TLm7QRsWGmtwspt01O3tbX5NG06iRMQ6hjHHubROuo6og3n7dQEvLqMHiMbnk89+nFt7yTYGb28PeQxc70bAIcAYXAOdvGxzLXtBJQ+JZy/TatClEi1eqjCmkGOQWXSYhLXxwk1qWMZUyjHlpLN3xJWyZjLV5VrwiL1xMhk15NF563Cdfq+vEVOI3fTrmrlHdN4nxj26lOdY/uuXf8B9Ul55XXUn++Vvs8MTFJQKC+cu5B2MXm3FHzH6gl51nGdbyPsGm+t/qnO0WM5huuyhFUVbihT5kGrTobYhqFtpewmve4fsyPT0YYpj476eOPNGi59rNuquz7oe+/TyN6YNWGReqzE+tVjPqXX5Sh0/wp1+lYf23MVcby3xmw9ltU8iPnUY736nHHAjBPblo2MZi7UaUXGrrbdhF5u483NEBb6eIpPOmfyKDmy9D39ZvF2A3AJAE7A3Q95SCv9LrBWJ+DGG2904xqFbsJShzSTAx3mD14zgRRTOQGZEaoHvZ4YbbkKkzpLo1DxeVkCJkTTTlmajryLeWllH5U4ZK0mov+JYVUfXZ7qP7RDKkuF+zLU2P6Pk1XaDXJU/2d5pHOqfkiy2HYotEu7v5pydLoy3ngLeXj9Y+un6GyXAeD8pMAGKLKYXmTJ+kfVZWAbVuTjpFwfM56yNlFtifBUltfGmrzvozJvyWny8OqCsGy82XFvceRq1ae7X7N+QPnx/4KsyDvOyeZcnfcg3QNSOSqsi6xOKszpH1+GPE07zifPC/2B+lZtuvInnfG/qktqQ6+OI5HdAPziWN7a2HXT4JyZ1AnA9j8uA+ByAJwAL03E6Yg4obVik0mKtDjum+yTkw8ie6wHbi67kslTQPUgT+klPiom463XYZqkDNy8gZVbhbtKWdI38W59dHnp3GqiavkyRReOPUWB/DOFaeoiEzZTflmZqo3tWCq0i+6vSLH9Sjjjra6jppJX2qVtXKxCX4Uxn0b2yzNjEOi2cNoG+TTpm3qV62PGm24/1Wf5WAOmjTPKfe+OWaTx+jkLc/q1RTuNN568sS7k7SRtY/IVucyYtmW1yo60ZRw91uxcChT7B2lxbNt2UHvm5PXRbWPaSMqsiedkMqsxh7ZUaUHVFsgPx3psjkPvBry9/qKjfWnTLrG2nQDsAhQdgcJg65pE0qlNmvGDzQOPdXjXcVryGJlTfByYMqCMTJmyqcDETPk68TLp4oB14hOFuHI7GqWc6hPC5RfxpfrEcJlQUsf+PsjqE8OMHMDURYxcpsSSvKbMFF4fD22XrrZ1ceramwfqGtpLyTdaMWfU+Rn8/q7wy3P6QGPrheNUh/zccn3aZaQ+CPmJzOXx6uH0PeQsjVkce32UhfWPYS+NN56G90NoG28si1xmTNuy/DZryzh6rNm5FOjtH8icjcEh7ZmTlyHjBvnIL/LDb1Of5hykb+ZCqq/X7xn1eaa+Q5HdAAFvavTS7QLbcQIcBRE7ra9DTMeWBjnCuwdAhTzy8f8uuWT5l8/9PRUnA1Cnh8z14I5Kx/FEY7iaAM6k0jKX5EwDPOZn5ahx8vblFkybp/NDuPwiXucby6/qA5lKbd1MYJ9skoc+bKXX/arq3JxXKYBqfIhSqM7N8rZ5KVrpdH+qdF20xpuSVafLydu9LcdYmj7OtvQLtGSOVO3p9WfEtqE+xv+D6mPGm4SFfCb/NHJhzMZzdJyQ1S/Ps0SrHTO5e9ozoM9Hm0n5TTjaq9YHmcxt+fw2d+oxqm2B02dD8sjaszTmyuT1ERlQH/lFvXT98H/d96Fsd/ytMDfHgIXjH9eOwN8E0kfpdpBJnQAY/UFPBwQwUKz3psNE0cQJY8JSPhh8EmcGoT4ugVdu3nvZ34pOQObNmUGdSOUFOdLgqwZkDA+TZZEpZhUniknJHG/YqsvJ6q4mXV7/AXk7cuftGkCapGjCRJDf2L6F+sRJpfJIsuA8Fd5ZH+St61Cj2iSroyoztlXMR9c7kPI2cgTiuCrKHdDlpnw60Onrerr9Y8rMFKKOG1JmC91PZj44oB9chWxkrMZyoQ11+Cw/jVwYs61z6vBsniBepy/Q0/euIVL48yGQ8g0y4MZB5O32TUhrwqU++RgMqPx1uX0yAp1+ar3cwq2PHd9N/zRlVm3VPWZXmJsjwRMCshNw/8UX7+wHm9a2E7BL4EMb6Ej5uuCQFdYcWafcUAR6wtjjQWACekohU8qElBhosGfISvOF9AJDr50be7wuYPDlhsBv1YtIvCuAjwjuKPK2J35iuAPt3YOVVrEFZuIE5CuHhk0oFTIEOgHE0NpN6NpJmg55LBA3BGJHGTsBON7FLzfSCQjAe4MDsMvXdQghhGwGfMERRl8eC5TP1O+iDaETQAghhAwEhh4OAFb/XvyuQSeAEEIIGcgfPOIR0QnY1TcEWugEEEIIIQORe8g+cvnlbvyuQSeAEEIIGQjuIdvV6/8ea3EC8L6As2fPLk+cOOHGE0IIIWT7TO4E4E2Bt99+e3QE6AQQQggh82VSJ+CGG26IDgCMP50AQgghZN5M5gTgFcFi+PX/XlpCCCGEbJ/JnABcBpDvBmgQ7qUnhBBCyHZZy42B3AkghBBC5g+dAEIIIWRPWYsTQAghhJD5QyeAEEII2VPoBBBCCCF7Cp0AQgghZE+hE0AIIYTsKXQCCCGEkD1lZ52AU4uj5fnz5wOHywMnnhBCCCHdTOoE3HTTTdnbAnHspXvMqcXy6PAg/H+wPDxaLE95aRQHhzD2NVn6cD6dAEIIIWQlJncCioZfE5yAw8Up5Qw4aWriir/oKFgn4NRycaQcBpV3s3MwJFznc7RcnJL8UZ4XTgghhOweG3cCMqMrFI08jHGXse3aCVDnwtnwyiiEQ8bDg3Ya7EikcEIIIWTHWdvlgHPnzsVPC3vpkpE9OFweYUfASVPRt93fjs+dDHEgZGVv8/LC9S5AjTgKQV4cd8tMCCGE7AZruzEQXw88ffp0/I6ADm8ZWFC8JAAjP2InAKv2dOztIiB9KK+1+tfh3nk54mhwV4AQQsguszYnALsC+IiQF3dwWBnZbNu9QLwpsNNJME6AGPjoEHjG3JzjhKPMvtU+ZOeOACGEkF1mbZcDvF2AimalLc5AO43GbM+r6/MpDERHQaUN6RaSf3QImrTZ9X4vXHYGhNoJKT+lQAghhOwea9sJIIQQQsi8oRNACCGE7Cl0AgghhJA9hU4AIYQQsqfQCSCEEEL2FDoBhBBCyJ6ys05A82ZA75n/bdH/oqFOspcdqbBjPY54TJkIIYRcsEzuBOBNgfKugOJ3BGDY4rP3B71fEbTvA8hfLlR68c+2oBNACCFkd5jUCSi9KrhFMGxDvyIIJyB/uY82ko4TUL/fP5Lyzl/+o9/0l31rIKVXLx0a8rVAXaZKrx0YKTO+IGnRpM+cGlO/1guRbHoHXZ+qzNoJSGU28mV1l3Jjnyya+isHxMrT5C9hA9qKEELIbJjUCbj11luLHw0ScsNT07HSHecE5DsL2bk6jTZ4TtmQMSuzayWeyaRW3XAMMiekCo+GVPLL0hToK1+D/FppayNdl4O6ea87TuGxPtJuhfoomUa1FSGEkFkxmROA1f/tt9++vOWWW3ovByTDEQyLZ5A0+erTrjSNEwBDldJWiIHK89FGWx/rMEWXYcvq0BhN64BInbPwIUZzhGG1ZVYoQ45ja8xVPZMToMpLebpOwMi2IoQQMismdQJwKUA+GnTixIl4jF+drmU0QMdq2DdsguMEeHkhPBknc04KC3Ikw2adjTL5ynqXnIDKgEv6VI+SE4Dw1GeS37i2IoQQMi/WdjkAv9gZ8O4PGPsVwXIaY9CjobIGPqCdA/zvpVF5ocy+HYqEcjBQHzGQ8f/kkCDvKny0E+A6LQUyZ0focgIkvHIIupyAUl+NaitCCCGzYlInAKv+s2fPxksB586dK9wf0BifIV8RLDkBCPd2EypDLOGSf73Sj+lw01ttVLPVrS5HpQfJmPskWUI6XScto+Sd1WeQE+DnU0KnrYxzyQnQbRXiF/VljYITYNvKbVvQ01aEEELmw6ROALlwyZwX55gQQsjuQSeADCNeRlEr/gE7GIQQQuYNnQBCCCFkT6ETQAghhOwpdAIIIYSQPYVOACGEELKn0AkghBBC9pQ9cQKaZ9n5YpsVUe8X2DTNuw/U+w4Gw74nhJASkzkB8tpg+W4AGPRFwQ2Cl+Ns2xBkLzM6zmN2wSinl/tswjhvywkY+EKlPubQ94QQMjfWthOAzwrLdwQyotFyPlWbGRl5y11YxR0dBqp0i7gi7HuFrn6DXZ62bQjyt901cdVrdCW8eSmOTp+vSuNqdaSRxDkrG6bQXlEucQa8NBHU5XC50G8HjHL7bxJEGx0eVu8EOFxUbwmM+cd41W9ZX9Vhqk3iy4Tq8xHXV89mtW/SZuOijy30PeSTcCVn5uyNHBeEELIp1uIEyBcF3dcG16+frZSrMkSZspfwSvEeHlSK+Whx0KS3+abztOLO6V4NoqzKcJTSRcNWyHtVJ6CUXxfaYPYbmtqo1fFN3VTbI51yAqJjFo1baA/pl3gs6ZtzkT7VQa3ao4zi4PWt5rO+Rz80fT+sjmAbfR/OU/VKaSbavSCEkHWzFieguAsAjIJMijMzBGJkRDnjWH6V4bL0KF9PwecGtTIEMR/P6ERD2L+q7aYyVv1GrZvhH2EybZba2Q9PbRSO5TemT+dV6at+U3UR6vb3jaaPTZvVyZRbZBt9X4dpKrmlXeo8CSFkpkzuBHTuAoA5OQEoM6VvVoNZvFX8AeTTKPxjkNV5KJAzNzyejA2mzVKZfvh4J8Dvj9k7Acj3uH3fK1vdVx1yEULINpncCejcBQAlJ0CFV4p2BScgxpeNj2sIRIlHpW8MgU2jsHmhHoOMlabXiJSQ9kC5Xe0BTJupMhvjWxurEJ7qFdLJb0yfydoYTeRhDWWedz+xv7O8fXm72ULfY8x652U0beXHE0LI9pjUCcCnhM+cOVPeBQAlJ6BW4nFlG29AW8UJCETFXOcjyjcLA5JHbfyA+sRwNEopbaPAo6GXcLO6i3EDjFVXHsOx7eKlEUybtYwfZAnxiyq80wkQuQONsVVtCOq8xzgBQLdLdp6Wt48t9H2evs7blDmmHQghZJOs5Z4AQgghhMyfnXQCslUZV1yEEELISnAngBBCCNlT6AQQQgghewqdAEIIIWRPoRNACCGE7Cl0AqZAPRJmn5nHTYw2rEjMp++Rvz7w6Jt6JLCPLZQZH6szj/01N3uOkJ0QQsixmNQJwHsCzp49m74iiBcHeemi4YlGIBiPlZ+VnxGoT6EebSdAvQ/BGry1GWQp0zGw6yoz5lvX07SN5wRUDHgPBCGEkMmY1AnAmwLF8OOFQbfeemsrTSQYiEMYRhiKnhfBxDfi4UU2tUGRxwC9l7ogzP0CnkmvjXKWj5YlGrGBBglpBzoB2TFehKPPi2VObZDFsBZW62sps+63eFw5IPrxTToBhBAyDyZ1Am666ab0ymD8D2ya3HjXdOwGxG1iiS+8PQ55wrDGvJE2vt0uGDZJnzkbytB0GO/KOA40SF35ZMBYisGtjKN+K916KTgBGwB9OOwdDnQCCCFkk0x+TwAMPy4FeA6AAGMdjUIw0nqV7JEZEG1so5FuHAlxAmJ+km/tBLQdDzE0ExnisU5AdFJQr00avS05AYPbBtAJIISQTTL55QAx/vjf+5BQcz1c4W4NV/hOQGW8JVzvBJScgHis8s2BgQxyDDZWhlFOgC4H9biAdwKiozamfnQCCCFkk0zmBNhPCOMXxwi3aYd/C7/LCRBjUTkEXU5A/O010vUqXY6jARtokAY7AaY+g+Sq6reyg5IY4wRMUCbqNnqHhU4AIYRskkl3AnBToDwZUH46oFH0/Z/BLTkB+t6CkMeiMvpFJ6DOp9l9qI1TNPRNeOaQrMkJSLsBWo4eqrqONagNed0DHTsvwvHKrJ0IXeag9qETQAghm2TyewL2klFOwAoM2jGYmG2USSeAEEI2Cp2AKVA7CnEHwkuzErKiXn0XYDzbKFPvVtAJIISQTUEngBBCCNlT6AQQQgghewqdAEIIIWRPoRNACCGE7Cl0Ago0N6qZG+TiTYCbvWluKOkRSSduKrnRLtPe/BjofLpimpcc+XLXj2sOeGRyVqhHXzfC2P5RN8ruXNsSsmdM6gTgBUHnzp2L7wjA1wTxVUEv3S4Ao+G+yIhOwAXkBOwoc3cChE3LSQgZzWROgPfGQPcrglAoh4vmZTJJudSrsppKYYewo8NAlW4RFHmzMtfplXGD4pHwTHFVj74NNQSDnYBifao8RJbOcmMeoZ5IK3nFfORxvRqlUKuX+eTh2glovezHyr0iuTEt908mX1//QDb9f4hr2r7DyIyg7QQ040eHl75aWcXVcqtwrx+kPlV7gKZNjhaLZtym/iyM5Va4GQ+RjrYpjqsN9Q+dAEJmz9qcAHxD4PTp0+3XBmdKBErNUyBQLFBMlRKsPrQDZX2Q0mdvG0zKRs7TeQkTOQGWUn0yBdihKEHMA/FSX68eKm+tlBWVkQn1Q9lO/PSU+0enS3KV+ifVp6ed1kAjW3UcDb20nerDaDStQcv6oWqDOA6yMdGMpcrwSv2btvDHssovpldkY6uDQeNqjf0zVE5CyNaY9HKAfm0wHAL32wGZ4syNrV5pVcpSlBIUovw2Sq1JG6iVTZXH8Q2JlquTQn3s+VC0xfy0kk3KtlLGleGQekq9KgORrxpVWiXPein1T4iLBkjkbpwvt39S2uP321gaA1gdZ/2W+kXVq04H7LkwevHYjIli+khhLBfyiIxxAmQ8ya+MmdTmFWvpHzoBhMyetd0Y2Hk5QCm3pHShMFK4KKuSkVHKzAXpoLS60nRjjXiRQn3s+TAAxfxKyjoqX6mDZ4iQLtSzLj8amcNgiI5R73GU+qdqf6lv2/iZ/on1ry4rDGrzCbGyZf2W+sVre6deKzsBTn8V8ogc2wnYUP/QCSBk9qzFCcANgbgx0P2AkFFumRMgCgP/RwU0zMj4SFp9vKbLAU59oFgbBYh6tI1IoqSsdd74381D2kgpc7SfkqmLKOfKK/Cu/pE8S+2u0uj6D5TleHI3WAPoOwG2P2uydq7qGc/V/aawZVWo8waFBwr5t9DtKr+pv9bbPxE6AYTMnkmdANwH0P0FwYBRYI3ShYLB6iMQb2KCstJKyygv5CPpA5USU3mksLrcorLzOa4TIP+LLJ15dSrrOo8QvpBrx6bukrc2MpWRRB6qHI86r0F1bVHun6p8yBeO6688FvtHt+FQeY4ld8C0oTgUJSdAxo+k120uYW59FL4TEDCyZPmkcN2XWpZ6TKQ4RZLDjqsN9A+gE0DI7Fnb5YBdZ7ATsPNA8XcYktmyq3LvEXQCCJk9dAIKNKv4AavpgehVo8ZdHW4AkWfXnJ1dlXtdzG1cZTsYdAIImTV0AgghhJA9hU4AIYQQsqfQCSCEEEL2FDoBhBBCyJ5CJ4AQQgjZU1Z2AuQVwbfddlsKwyuC8b0AhONrgvIdAUIIIYTMj5WcADgAMP54OZB2AiRM0rgfECKEEELILDjW5QDtBOBVwTD6+JUdAbw6GMf2PEIIIYRsn8mdgBe/+MXxcsDJkyezTwsTQgghZF5M6gRg5S+XAADiuBNACCGEzJPJnACA/+XDQbwngBBCCJk3KzkB2OLH3f/yxUB5EkB2AxDG+wEIIYSQeXOsnQBCCCGE7C50AgghhJA9hU4AIYQQsqfQCSCEEEL2FDoBhBBCyJ5CJ4AQQgjZU+gEEEIIIXsKnQBCCCFkT1nZCfA+JQxwjHB5cyAhhBBC5slKTgAMPIy999pgfDgIrwumE0AIIYTMm2NdDrBOAJDPCNMJIIQQQuYNnQBCCCFkT6ETQAghhOwpdAIIIYSQPWUlJ6D0KWE4BRIG4AzAKfDyIIQQQsh2OdZOACGEEEJ2FzoBhBBCyJ5CJ4AQQgjZU+gEEEIIIXsKnQBCCCFkT6ETQAghhOwpdAIIIYSQPWVlJwAvA8K7APTLgk6cOLE8e/ZsDMcvjvU5hBBCCJkPKzkBcABg/O0bA3EsbwqUeIkjhBBCyLw41uUA77XBOo5OACGEEDJf1uIE4DIAXhnMywGEEELIfJncCYDhP3PmTPyWgA4nhBBCyLyY1AmA4b/rrrvoABBCCCGz5zHL/w/Cc3/VuottzgAAAABJRU5ErkJggg==)"
      ],
      "metadata": {
        "id": "ag-Xnxwa65xB"
      }
    },
    {
      "cell_type": "markdown",
      "source": [
        "![Capture.PNG](data:image/png;base64,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)"
      ],
      "metadata": {
        "id": "36EInrK17udc"
      }
    },
    {
      "cell_type": "code",
      "source": [
        "# /content/gdrive/MyDrive/dataset/images/train /content/gdrive/MyDrive/dataset\n",
        "!python train.py --name test"
      ],
      "metadata": {
        "colab": {
          "base_uri": "https://localhost:8080/"
        },
        "id": "pLUnSQ1KEMtE",
        "outputId": "2b1b03fd-6cf9-47eb-b54e-5afc59acd9b2"
      },
      "execution_count": null,
      "outputs": [
        {
          "metadata": {
            "tags": null
          },
          "name": "stdout",
          "output_type": "stream",
          "text": [
            "Downloading https://ultralytics.com/assets/Arial.ttf to /root/.config/Ultralytics/Arial.ttf...\n",
            "100% 755k/755k [00:00<00:00, 72.8MB/s]\n",
            "\u001b[34m\u001b[1mTrain: \u001b[0mdata_cfg=config/data_cfg.yaml, batch_size=64, cache=None, device=, workers=8, name=test, weights=pretrains/pretrain.pt, model_cfg=models/yolov5s.yaml, hyp=config/hyps/hyp_finetune.yaml, project=results/train, artifact_alias=latest, epochs=50, img_size=640, rect=False, resume=False, nosave=False, noval=False, noautoanchor=False, evolve=False, bucket=, image_weights=False, multi_scale=False, single_cls=False, adam=False, sync_bn=False, entity=, exist_ok=False, quad=False, label_smoothing=0.0, linear_lr=False, bbox_interval=-1, save_period=-1, patience=100\n",
            "YOLOv5 🚀 63741b6 torch 1.10.0+cu111 CPU\n",
            "\n",
            "cpu\n",
            "\u001b[34m\u001b[1mHyper parameters: \u001b[0mlr0=0.0032, lrf=0.2, momentum=0.937, weight_decay=0.0005, warmup_epochs=3.0, warmup_momentum=0.8, warmup_bias_lr=0.1, box=0.05, cls=0.5, cls_pw=1.0, obj=1.0, obj_pw=1.0, iou_t=0.2, anchor_t=4.0, fl_gamma=0.0, hsv_h=0.0, hsv_s=0.0, hsv_v=0.0, degrees=0.0, translate=0.0, scale=0.0, shear=0.0, perspective=0.0, flipud=0.0, fliplr=0.0, mosaic=0.0, mixup=0.0, copy_paste=0.0\n",
            "\u001b[34m\u001b[1mTensorBoard: \u001b[0mStart with 'tensorboard --logdir results/train', view at http://localhost:6006/\n",
            "Overriding model.yaml nc=80 with nc=3\n",
            "\n",
            "                 from  n    params  module                                  arguments                     \n",
            "  0                -1  1      3520  models.common.Focus                     [3, 32, 3]                    \n",
            "  1                -1  1     18560  models.common.Conv                      [32, 64, 3, 2]                \n",
            "  2                -1  1     18816  models.common.C3                        [64, 64, 1]                   \n",
            "  3                -1  1     73984  models.common.Conv                      [64, 128, 3, 2]               \n",
            "  4                -1  3    156928  models.common.C3                        [128, 128, 3]                 \n",
            "  5                -1  1    295424  models.common.Conv                      [128, 256, 3, 2]              \n",
            "  6                -1  3    625152  models.common.C3                        [256, 256, 3]                 \n",
            "  7                -1  1   1180672  models.common.Conv                      [256, 512, 3, 2]              \n",
            "  8                -1  1    656896  models.common.SPP                       [512, 512, [5, 9, 13]]        \n",
            "  9                -1  1   1182720  models.common.C3                        [512, 512, 1, False]          \n",
            " 10                -1  1    131584  models.common.Conv                      [512, 256, 1, 1]              \n",
            " 11                -1  1         0  torch.nn.modules.upsampling.Upsample    [None, 2, 'nearest']          \n",
            " 12           [-1, 6]  1         0  models.common.Concat                    [1]                           \n",
            " 13                -1  1    361984  models.common.C3                        [512, 256, 1, False]          \n",
            " 14                -1  1     33024  models.common.Conv                      [256, 128, 1, 1]              \n",
            " 15                -1  1         0  torch.nn.modules.upsampling.Upsample    [None, 2, 'nearest']          \n",
            " 16           [-1, 4]  1         0  models.common.Concat                    [1]                           \n",
            " 17                -1  1     90880  models.common.C3                        [256, 128, 1, False]          \n",
            " 18                -1  1    147712  models.common.Conv                      [128, 128, 3, 2]              \n",
            " 19          [-1, 14]  1         0  models.common.Concat                    [1]                           \n",
            " 20                -1  1    296448  models.common.C3                        [256, 256, 1, False]          \n",
            " 21                -1  1    590336  models.common.Conv                      [256, 256, 3, 2]              \n",
            " 22          [-1, 10]  1         0  models.common.Concat                    [1]                           \n",
            " 23                -1  1   1182720  models.common.C3                        [512, 512, 1, False]          \n",
            " 24      [17, 20, 23]  1     21576  models.yolo.Detect                      [3, [[10, 13, 16, 30, 33, 23], [30, 61, 62, 45, 59, 119], [116, 90, 156, 198, 373, 326]], [128, 256, 512]]\n",
            "/usr/local/lib/python3.7/dist-packages/torch/functional.py:445: UserWarning: torch.meshgrid: in an upcoming release, it will be required to pass the indexing argument. (Triggered internally at  ../aten/src/ATen/native/TensorShape.cpp:2157.)\n",
            "  return _VF.meshgrid(tensors, **kwargs)  # type: ignore[attr-defined]\n",
            "Model Summary: 283 layers, 7068936 parameters, 7068936 gradients, 16.4 GFLOPs\n",
            "\n",
            "Transferred 360/362 items from pretrains/pretrain.pt\n",
            "Scaled weight_decay = 0.0005\n",
            "\u001b[34m\u001b[1mOptimizer:\u001b[0m SGD with parameter groups 59 weight, 62 weight (no decay), 62 bias\n",
            "\u001b[34m\u001b[1mTrain: \u001b[0mScanning '/content/gdrive/MyDrive/dataset/labels/train.cache' images and labels... 792 found, 0 missing, 2 empty, 0 corrupted: 100% 792/792 [00:00<?, ?it/s]\n",
            "\u001b[34m\u001b[1mVal: \u001b[0mScanning '/content/gdrive/MyDrive/dataset/labels/val.cache' images and labels... 184 found, 0 missing, 1 empty, 0 corrupted: 100% 184/184 [00:00<?, ?it/s]\n",
            "Plotting labels... \n",
            "\n",
            "\u001b[34m\u001b[1mautoanchor: \u001b[0mAnalyzing anchors... anchors/target = 5.81, Best Possible Recall (BPR) = 1.0000\n",
            "Image sizes 640 train, 640 val\n",
            "Using 2 dataloader workers\n",
            "Logging results to \u001b[1mresults/train/test\u001b[0m\n",
            "Starting training for 50 epochs...\n",
            "\n",
            "     Epoch   gpu_mem       box       obj       cls    labels  img_size\n",
            "  0% 0/13 [00:00<?, ?it/s]/usr/local/lib/python3.7/dist-packages/torch/autocast_mode.py:141: UserWarning: User provided device_type of 'cuda', but CUDA is not available. Disabling\n",
            "  warnings.warn('User provided device_type of \\'cuda\\', but CUDA is not available. Disabling')\n"
          ]
        }
      ]
    },
    {
      "cell_type": "code",
      "source": [
        "# copy trained files to mydrive\n",
        "!cp -r /content/Data-Competition/results/train/test /content/gdrive/MyDrive/yolov5-mask_competition"
      ],
      "metadata": {
        "id": "sbzas6mlCjPf"
      },
      "execution_count": null,
      "outputs": []
    },
    {
      "cell_type": "code",
      "source": [
        "# Remove the evaluate folder\n",
        "!rm -rf /content/Data-Competition/results/evaluate"
      ],
      "metadata": {
        "id": "SQVFww-0G-bv"
      },
      "execution_count": null,
      "outputs": []
    },
    {
      "cell_type": "code",
      "source": [
        "# Evaluation on train dataset\n",
        "!python val.py --weight /content/Data-Competition/results/train/test/weights/best.pt --task train --name train --batch-size 64 --device 0"
      ],
      "metadata": {
        "colab": {
          "base_uri": "https://localhost:8080/"
        },
        "id": "cyG-V29LDP4_",
        "outputId": "d11acbf8-5eb4-4155-a384-8252ade553a6"
      },
      "execution_count": null,
      "outputs": [
        {
          "output_type": "stream",
          "name": "stdout",
          "text": [
            "\u001b[34m\u001b[1mval: \u001b[0mdata=config/data_cfg.yaml, weights=/content/Data-Competition/results/train/test2/weights/best.pt, task=train, name=train, batch_size=64, device=0, img_size=640, conf_threshold=0.001, iou_threshold=0.6, augment=False, exist_ok=False, half=False, project=results/evaluate/train, save_conf=False, save_hybrid=False, save_txt=False, verbose=False, plots=True\n",
            "YOLOv5 🚀 63741b6 torch 1.10.0+cu111 CUDA:0 (Tesla K80, 11441.1875MB)\n",
            "\n",
            "Fusing layers... \n",
            "/usr/local/lib/python3.7/dist-packages/torch/functional.py:445: UserWarning: torch.meshgrid: in an upcoming release, it will be required to pass the indexing argument. (Triggered internally at  ../aten/src/ATen/native/TensorShape.cpp:2157.)\n",
            "  return _VF.meshgrid(tensors, **kwargs)  # type: ignore[attr-defined]\n",
            "Model Summary: 224 layers, 7059304 parameters, 0 gradients, 16.3 GFLOPs\n",
            "\u001b[34m\u001b[1mtrain: \u001b[0mScanning '/content/gdrive/MyDrive/dataset/labels/train.cache' images and labels... 792 found, 0 missing, 2 empty, 0 corrupted: 100% 792/792 [00:00<?, ?it/s]\n",
            "               Class     Images     Labels      Boxes          P          R     wAP@.5     mAP@.5 mAP@.5:.95: 100% 13/13 [00:27<00:00,  2.08s/it]\n",
            "                 all        792       1235      69303      0.837      0.428      0.352      0.461       0.16\n",
            "             no_mask        308        308      28883      0.657      0.584      0.577      0.577      0.189\n",
            "                mask        876        876      34822      0.853        0.7       0.75       0.75      0.272\n",
            "      incorrect_mask         51         51       5598          1          0     0.0571     0.0571     0.0182\n",
            "Speed: 0.2ms pre-process, 12.0ms inference, 3.5ms NMS per image at shape (24, 3, 640, 640)\n",
            "Results saved to \u001b[1mresults/evaluate/train/train2\u001b[0m\n"
          ]
        }
      ]
    },
    {
      "cell_type": "code",
      "source": [
        "# Evaluation on val dataset\n",
        "!python val.py --weight /content/Data-Competition/results/train/test/weights/best.pt --task val --name val --batch-size 64 --device 0"
      ],
      "metadata": {
        "colab": {
          "base_uri": "https://localhost:8080/"
        },
        "id": "25U0WrAmDPf-",
        "outputId": "12ba53cb-31a2-4558-b8fb-c1b4b4db5169"
      },
      "execution_count": null,
      "outputs": [
        {
          "output_type": "stream",
          "name": "stdout",
          "text": [
            "\u001b[34m\u001b[1mval: \u001b[0mdata=config/data_cfg.yaml, weights=/content/Data-Competition/results/train/test2/weights/best.pt, task=val, name=val, batch_size=64, device=0, img_size=640, conf_threshold=0.001, iou_threshold=0.6, augment=False, exist_ok=False, half=False, project=results/evaluate/val, save_conf=False, save_hybrid=False, save_txt=False, verbose=False, plots=True\n",
            "YOLOv5 🚀 63741b6 torch 1.10.0+cu111 CUDA:0 (Tesla K80, 11441.1875MB)\n",
            "\n",
            "Fusing layers... \n",
            "/usr/local/lib/python3.7/dist-packages/torch/functional.py:445: UserWarning: torch.meshgrid: in an upcoming release, it will be required to pass the indexing argument. (Triggered internally at  ../aten/src/ATen/native/TensorShape.cpp:2157.)\n",
            "  return _VF.meshgrid(tensors, **kwargs)  # type: ignore[attr-defined]\n",
            "Model Summary: 224 layers, 7059304 parameters, 0 gradients, 16.3 GFLOPs\n",
            "\u001b[34m\u001b[1mval: \u001b[0mScanning '/content/gdrive/MyDrive/dataset/labels/val.cache' images and labels... 184 found, 0 missing, 1 empty, 0 corrupted: 100% 184/184 [00:00<?, ?it/s]\n",
            "               Class     Images     Labels      Boxes          P          R     wAP@.5     mAP@.5 mAP@.5:.95: 100% 3/3 [00:10<00:00,  3.66s/it]\n",
            "                 all        184        285      18447      0.878      0.441      0.389      0.503      0.208\n",
            "             no_mask         87         87       7657      0.718      0.586      0.584      0.584      0.204\n",
            "                mask        189        189       9389      0.915      0.737      0.829      0.829       0.36\n",
            "      incorrect_mask          9          9       1401          1          0     0.0966     0.0966     0.0592\n",
            "Speed: 2.2ms pre-process, 13.3ms inference, 7.0ms NMS per image at shape (56, 3, 640, 640)\n",
            "Results saved to \u001b[1mresults/evaluate/val/val2\u001b[0m\n"
          ]
        }
      ]
    },
    {
      "cell_type": "code",
      "source": [
        "# Evaluation on puplic_test dataset\n",
        "!python val.py --weight /content/Data-Competition/results/train/test/weights/best.pt --task test --name puplic_test --batch-size 64 --device 0"
      ],
      "metadata": {
        "colab": {
          "base_uri": "https://localhost:8080/"
        },
        "id": "ywOlrVf1D1V3",
        "outputId": "efc166e8-4bc2-4d69-8d5b-0fc8e677f994"
      },
      "execution_count": null,
      "outputs": [
        {
          "output_type": "stream",
          "name": "stdout",
          "text": [
            "\u001b[34m\u001b[1mval: \u001b[0mdata=config/data_cfg.yaml, weights=/content/Data-Competition/results/train/test2/weights/best.pt, task=test, name=puplic_test, batch_size=64, device=0, img_size=640, conf_threshold=0.001, iou_threshold=0.6, augment=False, exist_ok=False, half=False, project=results/evaluate/test, save_conf=False, save_hybrid=False, save_txt=False, verbose=False, plots=True\n",
            "YOLOv5 🚀 63741b6 torch 1.10.0+cu111 CUDA:0 (Tesla K80, 11441.1875MB)\n",
            "\n",
            "Fusing layers... \n",
            "/usr/local/lib/python3.7/dist-packages/torch/functional.py:445: UserWarning: torch.meshgrid: in an upcoming release, it will be required to pass the indexing argument. (Triggered internally at  ../aten/src/ATen/native/TensorShape.cpp:2157.)\n",
            "  return _VF.meshgrid(tensors, **kwargs)  # type: ignore[attr-defined]\n",
            "Model Summary: 224 layers, 7059304 parameters, 0 gradients, 16.3 GFLOPs\n",
            "\u001b[34m\u001b[1mtest: \u001b[0mScanning '/content/gdrive/MyDrive/dataset/labels/public_test.cache' images and labels... 88 found, 0 missing, 0 empty, 0 corrupted: 100% 88/88 [00:00<?, ?it/s]\n",
            "               Class     Images     Labels      Boxes          P          R     wAP@.5     mAP@.5 mAP@.5:.95: 100% 2/2 [00:05<00:00,  2.92s/it]\n",
            "                 all         88        148       7587      0.846      0.404      0.408       0.49      0.232\n",
            "             no_mask         42         42       3227      0.714      0.595      0.574      0.574      0.255\n",
            "                mask         92         92       3780      0.825      0.616      0.708      0.708      0.349\n",
            "      incorrect_mask         14         14        580          1          0      0.188      0.188     0.0908\n",
            "Speed: 4.5ms pre-process, 12.8ms inference, 2.5ms NMS per image at shape (24, 3, 640, 640)\n",
            "Results saved to \u001b[1mresults/evaluate/test/puplic_test\u001b[0m\n"
          ]
        }
      ]
    },
    {
      "cell_type": "code",
      "source": [
        "# copy trained files to mydrive\n",
        "!cp -r /content/Data-Competition/results/evaluate /content/gdrive/MyDrive/yolov5-mask_competition"
      ],
      "metadata": {
        "id": "rhWeHpUrHsT2"
      },
      "execution_count": null,
      "outputs": []
    },
    {
      "cell_type": "code",
      "source": [
        "# Detection\n",
        "!python detect.py --weights /content/Data-Competition/results/train/test/weights/best.pt --source /content/gdrive/MyDrive/dataset/images/public_test --dir /content/gdrive/MyDrive/yolov5-mask_competition/predicted --device 0"
      ],
      "metadata": {
        "id": "JRBTBrgvg7f7",
        "colab": {
          "base_uri": "https://localhost:8080/"
        },
        "outputId": "45faaf39-bbf3-47da-b396-fb1d58e5d5e3"
      },
      "execution_count": null,
      "outputs": [
        {
          "output_type": "stream",
          "name": "stdout",
          "text": [
            "\u001b[34m\u001b[1mdetect: \u001b[0mweights=/content/Data-Competition/results/train/test/weights/best.pt, source=/content/gdrive/MyDrive/dataset/images/public_test, dir=/content/gdrive/MyDrive/files/predicted, conf_threshold=0.25, iou_threshold=0.6, device=0, save_txt=False, save_conf=False, save_crop=False, hide_labels=False, hide_conf=False, half=False, agnostic_nms=False, augment=False, classes=None, exist_ok=False, img_size=[640, 640], nosave=False, view_img=False, visualize=False, max_det=1000, line_thickness=2\n",
            "YOLOv5 🚀 63741b6 torch 1.10.0+cu111 CUDA:0 (Tesla K80, 11441.1875MB)\n",
            "\n",
            "Fusing layers... \n",
            "/usr/local/lib/python3.7/dist-packages/torch/functional.py:445: UserWarning: torch.meshgrid: in an upcoming release, it will be required to pass the indexing argument. (Triggered internally at  ../aten/src/ATen/native/TensorShape.cpp:2157.)\n",
            "  return _VF.meshgrid(tensors, **kwargs)  # type: ignore[attr-defined]\n",
            "Model Summary: 224 layers, 7059304 parameters, 0 gradients, 16.3 GFLOPs\n",
            "image 1/88 /content/gdrive/MyDrive/dataset/images/public_test/1000.jpg: 480x640 1 no_mask, Done. (0.024s)\n",
            "image 2/88 /content/gdrive/MyDrive/dataset/images/public_test/1001.jpg: 448x640 1 mask, Done. (0.023s)\n",
            "image 3/88 /content/gdrive/MyDrive/dataset/images/public_test/1002.jpg: 384x640 1 no_mask, 1 mask, Done. (0.024s)\n",
            "image 4/88 /content/gdrive/MyDrive/dataset/images/public_test/1003.jpg: 384x640 1 no_mask, 3 masks, Done. (0.022s)\n",
            "image 5/88 /content/gdrive/MyDrive/dataset/images/public_test/1004.jpg: 384x640 1 mask, Done. (0.022s)\n",
            "image 6/88 /content/gdrive/MyDrive/dataset/images/public_test/1005.jpg: 384x640 1 mask, Done. (0.022s)\n",
            "image 7/88 /content/gdrive/MyDrive/dataset/images/public_test/1006.jpg: 384x640 1 mask, Done. (0.021s)\n",
            "image 8/88 /content/gdrive/MyDrive/dataset/images/public_test/1007.jpg: 384x640 Done. (0.021s)\n",
            "image 9/88 /content/gdrive/MyDrive/dataset/images/public_test/1008.jpg: 384x640 1 mask, Done. (0.022s)\n",
            "image 10/88 /content/gdrive/MyDrive/dataset/images/public_test/1009.jpg: 384x640 1 mask, Done. (0.022s)\n",
            "image 11/88 /content/gdrive/MyDrive/dataset/images/public_test/1010.jpg: 384x640 1 no_mask, 1 mask, Done. (0.022s)\n",
            "image 12/88 /content/gdrive/MyDrive/dataset/images/public_test/1011.jpg: 384x640 1 no_mask, 1 mask, Done. (0.021s)\n",
            "image 13/88 /content/gdrive/MyDrive/dataset/images/public_test/1012.jpg: 384x640 5 no_masks, 1 mask, Done. (0.022s)\n",
            "image 14/88 /content/gdrive/MyDrive/dataset/images/public_test/1013.jpg: 384x640 Done. (0.021s)\n",
            "image 15/88 /content/gdrive/MyDrive/dataset/images/public_test/1014.jpg: 384x640 Done. (0.021s)\n",
            "image 16/88 /content/gdrive/MyDrive/dataset/images/public_test/1015.jpg: 384x640 2 masks, Done. (0.022s)\n",
            "image 17/88 /content/gdrive/MyDrive/dataset/images/public_test/1016.jpg: 384x640 1 mask, Done. (0.022s)\n",
            "image 18/88 /content/gdrive/MyDrive/dataset/images/public_test/1017.jpg: 384x640 1 mask, Done. (0.022s)\n",
            "image 19/88 /content/gdrive/MyDrive/dataset/images/public_test/1018.jpg: 384x640 1 mask, Done. (0.021s)\n",
            "image 20/88 /content/gdrive/MyDrive/dataset/images/public_test/1019.jpg: 384x640 Done. (0.022s)\n",
            "image 21/88 /content/gdrive/MyDrive/dataset/images/public_test/1020.jpg: 384x640 1 mask, Done. (0.021s)\n",
            "image 22/88 /content/gdrive/MyDrive/dataset/images/public_test/1021.jpg: 384x640 1 mask, Done. (0.021s)\n",
            "image 23/88 /content/gdrive/MyDrive/dataset/images/public_test/1022.jpg: 384x640 1 mask, Done. (0.021s)\n",
            "image 24/88 /content/gdrive/MyDrive/dataset/images/public_test/1023.jpg: 384x640 1 no_mask, 3 masks, Done. (0.021s)\n",
            "image 25/88 /content/gdrive/MyDrive/dataset/images/public_test/1024.jpg: 384x640 2 no_masks, 1 mask, Done. (0.021s)\n",
            "image 26/88 /content/gdrive/MyDrive/dataset/images/public_test/1025.jpg: 384x640 1 mask, Done. (0.021s)\n",
            "image 27/88 /content/gdrive/MyDrive/dataset/images/public_test/1026.jpg: 384x640 1 mask, Done. (0.022s)\n",
            "image 28/88 /content/gdrive/MyDrive/dataset/images/public_test/1027.jpg: 384x640 1 no_mask, 1 mask, Done. (0.021s)\n",
            "image 29/88 /content/gdrive/MyDrive/dataset/images/public_test/1028.jpg: 384x640 1 no_mask, 1 mask, Done. (0.022s)\n",
            "image 30/88 /content/gdrive/MyDrive/dataset/images/public_test/1029.jpg: 384x640 1 no_mask, 2 masks, Done. (0.021s)\n",
            "image 31/88 /content/gdrive/MyDrive/dataset/images/public_test/1030.jpg: 384x640 4 no_masks, Done. (0.021s)\n",
            "image 32/88 /content/gdrive/MyDrive/dataset/images/public_test/1031.jpg: 384x640 1 no_mask, 1 mask, Done. (0.021s)\n",
            "image 33/88 /content/gdrive/MyDrive/dataset/images/public_test/1032.jpg: 384x640 1 no_mask, 2 masks, Done. (0.021s)\n",
            "image 34/88 /content/gdrive/MyDrive/dataset/images/public_test/1033.jpg: 384x640 1 no_mask, Done. (0.021s)\n",
            "image 35/88 /content/gdrive/MyDrive/dataset/images/public_test/1034.jpg: 384x640 1 mask, Done. (0.021s)\n",
            "image 36/88 /content/gdrive/MyDrive/dataset/images/public_test/1035.jpg: 384x640 1 no_mask, 2 masks, Done. (0.022s)\n",
            "image 37/88 /content/gdrive/MyDrive/dataset/images/public_test/1036.jpg: 384x640 1 no_mask, 1 mask, Done. (0.022s)\n",
            "image 38/88 /content/gdrive/MyDrive/dataset/images/public_test/1037.jpg: 384x640 1 no_mask, Done. (0.021s)\n",
            "image 39/88 /content/gdrive/MyDrive/dataset/images/public_test/1038.jpg: 384x640 1 mask, Done. (0.021s)\n",
            "image 40/88 /content/gdrive/MyDrive/dataset/images/public_test/1039.jpg: 384x640 2 no_masks, 1 mask, Done. (0.021s)\n",
            "image 41/88 /content/gdrive/MyDrive/dataset/images/public_test/1040.jpg: 384x640 1 mask, Done. (0.021s)\n",
            "image 42/88 /content/gdrive/MyDrive/dataset/images/public_test/1041.jpg: 384x640 1 no_mask, Done. (0.021s)\n",
            "image 43/88 /content/gdrive/MyDrive/dataset/images/public_test/1042.jpg: 384x640 1 mask, Done. (0.022s)\n",
            "image 44/88 /content/gdrive/MyDrive/dataset/images/public_test/1043.jpg: 384x640 1 mask, Done. (0.022s)\n",
            "image 45/88 /content/gdrive/MyDrive/dataset/images/public_test/1044.jpg: 384x640 1 no_mask, Done. (0.022s)\n",
            "image 46/88 /content/gdrive/MyDrive/dataset/images/public_test/1045.jpg: 384x640 1 no_mask, Done. (0.022s)\n",
            "image 47/88 /content/gdrive/MyDrive/dataset/images/public_test/1046.jpg: 384x640 1 no_mask, Done. (0.022s)\n",
            "image 48/88 /content/gdrive/MyDrive/dataset/images/public_test/1047.jpg: 384x640 1 no_mask, 3 masks, Done. (0.022s)\n",
            "image 49/88 /content/gdrive/MyDrive/dataset/images/public_test/1048.jpg: 384x640 1 mask, Done. (0.022s)\n",
            "image 50/88 /content/gdrive/MyDrive/dataset/images/public_test/1049.jpg: 384x640 1 no_mask, Done. (0.022s)\n",
            "image 51/88 /content/gdrive/MyDrive/dataset/images/public_test/1050.jpg: 384x640 1 no_mask, 1 mask, Done. (0.021s)\n",
            "image 52/88 /content/gdrive/MyDrive/dataset/images/public_test/1051.jpg: 384x640 1 no_mask, Done. (0.022s)\n",
            "image 53/88 /content/gdrive/MyDrive/dataset/images/public_test/1052.jpg: 384x640 1 no_mask, Done. (0.022s)\n",
            "image 54/88 /content/gdrive/MyDrive/dataset/images/public_test/1053.jpg: 384x640 1 no_mask, Done. (0.022s)\n",
            "image 55/88 /content/gdrive/MyDrive/dataset/images/public_test/1054.jpg: 384x640 1 mask, Done. (0.021s)\n",
            "image 56/88 /content/gdrive/MyDrive/dataset/images/public_test/1055.jpg: 384x640 1 no_mask, 1 mask, Done. (0.022s)\n",
            "image 57/88 /content/gdrive/MyDrive/dataset/images/public_test/1056.jpg: 384x640 1 no_mask, Done. (0.022s)\n",
            "image 58/88 /content/gdrive/MyDrive/dataset/images/public_test/1057.jpg: 384x640 1 mask, Done. (0.021s)\n",
            "image 59/88 /content/gdrive/MyDrive/dataset/images/public_test/1058.jpg: 384x640 1 no_mask, 1 mask, Done. (0.021s)\n",
            "image 60/88 /content/gdrive/MyDrive/dataset/images/public_test/1059.jpg: 384x640 1 no_mask, 1 mask, Done. (0.022s)\n",
            "image 61/88 /content/gdrive/MyDrive/dataset/images/public_test/1060.jpg: 384x640 1 mask, Done. (0.022s)\n",
            "image 62/88 /content/gdrive/MyDrive/dataset/images/public_test/1061.jpg: 384x640 1 mask, Done. (0.022s)\n",
            "image 63/88 /content/gdrive/MyDrive/dataset/images/public_test/1062.jpg: 384x640 1 no_mask, Done. (0.022s)\n",
            "image 64/88 /content/gdrive/MyDrive/dataset/images/public_test/1063.jpg: 384x640 1 no_mask, Done. (0.021s)\n",
            "image 65/88 /content/gdrive/MyDrive/dataset/images/public_test/1064.jpg: 384x640 4 masks, Done. (0.022s)\n",
            "image 66/88 /content/gdrive/MyDrive/dataset/images/public_test/977.jpg: 384x640 1 mask, Done. (0.021s)\n",
            "image 67/88 /content/gdrive/MyDrive/dataset/images/public_test/978.jpg: 384x640 2 masks, Done. (0.021s)\n",
            "image 68/88 /content/gdrive/MyDrive/dataset/images/public_test/979.jpg: 384x640 3 masks, Done. (0.021s)\n",
            "image 69/88 /content/gdrive/MyDrive/dataset/images/public_test/980.jpg: 384x640 4 masks, Done. (0.022s)\n",
            "image 70/88 /content/gdrive/MyDrive/dataset/images/public_test/981.jpg: 384x640 Done. (0.022s)\n",
            "image 71/88 /content/gdrive/MyDrive/dataset/images/public_test/982.jpg: 384x640 1 mask, Done. (0.021s)\n",
            "image 72/88 /content/gdrive/MyDrive/dataset/images/public_test/983.jpg: 384x640 Done. (0.022s)\n",
            "image 73/88 /content/gdrive/MyDrive/dataset/images/public_test/984.jpg: 384x640 2 no_masks, 1 mask, Done. (0.022s)\n",
            "image 74/88 /content/gdrive/MyDrive/dataset/images/public_test/985.jpg: 384x640 1 no_mask, 2 masks, Done. (0.022s)\n",
            "image 75/88 /content/gdrive/MyDrive/dataset/images/public_test/986.jpg: 384x640 1 no_mask, Done. (0.021s)\n",
            "image 76/88 /content/gdrive/MyDrive/dataset/images/public_test/987.jpg: 384x640 2 masks, Done. (0.022s)\n",
            "image 77/88 /content/gdrive/MyDrive/dataset/images/public_test/988.jpg: 384x640 2 no_masks, 1 mask, Done. (0.022s)\n",
            "image 78/88 /content/gdrive/MyDrive/dataset/images/public_test/989.jpg: 384x640 2 masks, Done. (0.022s)\n",
            "image 79/88 /content/gdrive/MyDrive/dataset/images/public_test/990.jpg: 384x640 1 no_mask, Done. (0.021s)\n",
            "image 80/88 /content/gdrive/MyDrive/dataset/images/public_test/991.jpg: 384x640 Done. (0.021s)\n",
            "image 81/88 /content/gdrive/MyDrive/dataset/images/public_test/992.jpg: 384x640 Done. (0.021s)\n",
            "image 82/88 /content/gdrive/MyDrive/dataset/images/public_test/993.jpg: 384x640 1 mask, Done. (0.021s)\n",
            "image 83/88 /content/gdrive/MyDrive/dataset/images/public_test/994.jpg: 384x640 1 no_mask, 3 masks, Done. (0.021s)\n",
            "image 84/88 /content/gdrive/MyDrive/dataset/images/public_test/995.jpg: 384x640 4 masks, Done. (0.022s)\n",
            "image 85/88 /content/gdrive/MyDrive/dataset/images/public_test/996.jpg: 384x640 6 masks, Done. (0.022s)\n",
            "image 86/88 /content/gdrive/MyDrive/dataset/images/public_test/997.jpg: 448x640 1 mask, Done. (0.023s)\n",
            "image 87/88 /content/gdrive/MyDrive/dataset/images/public_test/998.jpg: 384x640 1 mask, Done. (0.023s)\n",
            "image 88/88 /content/gdrive/MyDrive/dataset/images/public_test/999.jpg: 384x640 1 mask, Done. (0.022s)\n",
            "Speed: 0.4ms pre-process, 21.6ms inference, 1.3ms NMS per image at shape (1, 3, 640, 640)\n",
            "Results saved to /content/gdrive/MyDrive/files/predicted\n"
          ]
        }
      ]
    },
    {
      "cell_type": "code",
      "source": [
        ""
      ],
      "metadata": {
        "id": "MqC_p06grwrd"
      },
      "execution_count": null,
      "outputs": []
    }
  ]
}