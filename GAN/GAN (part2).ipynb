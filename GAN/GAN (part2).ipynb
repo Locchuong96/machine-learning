{
 "cells": [
  {
   "cell_type": "markdown",
   "id": "04512e5f",
   "metadata": {},
   "source": [
    "# DCGAN\n",
    "\n",
    "[notebook](https://github.com/nttuan8/GAN_Tutorial/blob/master/G2/DCGAN.ipynb)"
   ]
  },
  {
   "cell_type": "code",
   "execution_count": null,
   "id": "580b84b2",
   "metadata": {},
   "outputs": [],
   "source": []
  },
  {
   "cell_type": "code",
   "execution_count": null,
   "id": "8c353c03",
   "metadata": {},
   "outputs": [],
   "source": []
  },
  {
   "cell_type": "markdown",
   "id": "e5617d82",
   "metadata": {},
   "source": [
    "### References\n",
    "\n",
    "[Bài 2: Deep Convolutional Generative Adversarial Network (DCGAN)](https://nttuan8.com/bai-2-deep-convolutional-gan-dcgan/)\n",
    "\n",
    "[Bài 3: Conditional GAN (cGAN)](https://nttuan8.com/bai-3-conditional-gan-cgan/)\n",
    "\n",
    "[Bài 4: Least Squares Generative Adversarial Networks (LSGAN)](https://nttuan8.com/bai-4-least-squares-generative-adversarial-networks-lsgan/)\n",
    "\n",
    "[Bài 5: GAN evaluation](https://nttuan8.com/bai-5-gan-evaluation/)"
   ]
  }
 ],
 "metadata": {
  "kernelspec": {
   "display_name": "Python 3",
   "language": "python",
   "name": "python3"
  },
  "language_info": {
   "codemirror_mode": {
    "name": "ipython",
    "version": 3
   },
   "file_extension": ".py",
   "mimetype": "text/x-python",
   "name": "python",
   "nbconvert_exporter": "python",
   "pygments_lexer": "ipython3",
   "version": "3.8.8"
  }
 },
 "nbformat": 4,
 "nbformat_minor": 5
}
