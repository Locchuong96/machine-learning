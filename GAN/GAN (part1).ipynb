{
 "cells": [
  {
   "cell_type": "markdown",
   "id": "bf2c130c",
   "metadata": {},
   "source": [
    "# Content\n",
    "\n",
    "[GAN](#GAN)\n",
    "\n",
    "[DCGAN](#DCGAN)"
   ]
  },
  {
   "cell_type": "markdown",
   "id": "f3ddc6a2",
   "metadata": {},
   "source": [
    "# GAN\n",
    "\n",
    "[notebook](https://github.com/nttuan8/GAN_Tutorial/blob/master/G1/GAN-MNIST.ipynb)"
   ]
  },
  {
   "cell_type": "code",
   "execution_count": 38,
   "id": "88386fd3",
   "metadata": {},
   "outputs": [],
   "source": [
    "# import library\n",
    "from keras.datasets import mnist\n",
    "from keras.models import Sequential,Model\n",
    "from keras.layers import Input,Dense,Dropout,Activation,Flatten,LeakyReLU\n",
    "from keras.optimizers import adam_v2 #Adam, RMSprop\n",
    "import numpy as np\n",
    "import matplotlib.pyplot as plt\n",
    "import random\n",
    "from tqdm import tqdm,tqdm_notebook"
   ]
  },
  {
   "cell_type": "code",
   "execution_count": 11,
   "id": "2c986d9c",
   "metadata": {},
   "outputs": [
    {
     "name": "stdout",
     "output_type": "stream",
     "text": [
      "X_train:  (60000, 28, 28)\n",
      "y_train:  (60000,)\n",
      "X_test:  (10000, 28, 28)\n",
      "y_test:  (10000,)\n"
     ]
    }
   ],
   "source": [
    "# take MNIST dataset\n",
    "(X_train,y_train),(X_test,y_test) = mnist.load_data()\n",
    "print(\"X_train: \",X_train.shape)\n",
    "print(\"y_train: \",y_train.shape)\n",
    "print(\"X_test: \",X_test.shape)\n",
    "print(\"y_test: \",y_test.shape)"
   ]
  },
  {
   "cell_type": "code",
   "execution_count": 12,
   "id": "501ffa0f",
   "metadata": {},
   "outputs": [
    {
     "name": "stdout",
     "output_type": "stream",
     "text": [
      "X_train:  (60000, 784)\n",
      "X_test:  (10000, 784)\n"
     ]
    }
   ],
   "source": [
    "# preprocess input shape\n",
    "N = 60000\n",
    "M = 10000\n",
    "k = 28*28\n",
    "X_train = X_train.reshape(N,k)\n",
    "X_test = X_test.reshape(M,k)\n",
    "print(\"X_train: \",X_train.shape)\n",
    "print(\"X_test: \",X_test.shape)\n",
    "# normalize input\n",
    "X_train = X_train.astype('float32')/255\n",
    "X_test = X_test.astype('float32')/255"
   ]
  },
  {
   "cell_type": "code",
   "execution_count": 15,
   "id": "3bb4305f",
   "metadata": {},
   "outputs": [],
   "source": [
    "# dimension of noise vector\n",
    "z_dim = 100\n",
    "\n",
    "# hypeparameter\n",
    "lr=0.0002\n",
    "epochs = 200"
   ]
  },
  {
   "cell_type": "code",
   "execution_count": 17,
   "id": "7fd590e9",
   "metadata": {},
   "outputs": [],
   "source": [
    "# optimizer\n",
    "adam = adam_v2.Adam(learning_rate=lr,decay=lr/epochs)"
   ]
  },
  {
   "cell_type": "markdown",
   "id": "5bf0eeb4",
   "metadata": {},
   "source": [
    "**generator**\n",
    "\n",
    "![img](generator.png)"
   ]
  },
  {
   "cell_type": "code",
   "execution_count": 19,
   "id": "bae0d7be",
   "metadata": {},
   "outputs": [],
   "source": [
    "# Generator\n",
    "g = Sequential()\n",
    "g.add(Dense(256,input_dim=z_dim,activation=LeakyReLU(alpha=0.2)))\n",
    "g.add(Dense(512,activation=LeakyReLU(alpha=0.2)))\n",
    "g.add(Dense(1024,activation=LeakyReLU(alpha=0.2)))\n",
    "g.add(Dense(784,activation='sigmoid')) # because we normalized input [0-1] so output of generator must be use sigmoid\n",
    "#compile generator\n",
    "g.compile(loss='binary_crossentropy',optimizer=adam,metrics=['accuracy'])"
   ]
  },
  {
   "cell_type": "code",
   "execution_count": 31,
   "id": "e949e056",
   "metadata": {},
   "outputs": [
    {
     "name": "stdout",
     "output_type": "stream",
     "text": [
      "Model: \"sequential_1\"\n",
      "_________________________________________________________________\n",
      "Layer (type)                 Output Shape              Param #   \n",
      "=================================================================\n",
      "dense (Dense)                (None, 256)               25856     \n",
      "_________________________________________________________________\n",
      "dense_1 (Dense)              (None, 512)               131584    \n",
      "_________________________________________________________________\n",
      "dense_2 (Dense)              (None, 1024)              525312    \n",
      "_________________________________________________________________\n",
      "dense_3 (Dense)              (None, 784)               803600    \n",
      "=================================================================\n",
      "Total params: 1,486,352\n",
      "Trainable params: 1,486,352\n",
      "Non-trainable params: 0\n",
      "_________________________________________________________________\n"
     ]
    }
   ],
   "source": [
    "g.summary()"
   ]
  },
  {
   "cell_type": "markdown",
   "id": "a0607243",
   "metadata": {},
   "source": [
    "**discriminator**\n",
    "\n",
    "![img](discriminator.png)"
   ]
  },
  {
   "cell_type": "code",
   "execution_count": 20,
   "id": "9b57f277",
   "metadata": {},
   "outputs": [],
   "source": [
    "# Discriminator\n",
    "d = Sequential()\n",
    "d.add(Dense(1024,input_dim=784,activation=LeakyReLU(alpha=0.2)))\n",
    "d.add(Dropout(0.3))\n",
    "d.add(Dense(512,activation=LeakyReLU(alpha=0.2)))\n",
    "d.add(Dropout(0.3))\n",
    "d.add(Dense(256,activation=LeakyReLU(alpha=0.2)))\n",
    "d.add(Dropout(0.3))\n",
    "d.add(Dense(1,activation='sigmoid'))\n",
    "# compile discriminator\n",
    "d.compile(loss='binary_crossentropy',optimizer=adam,metrics=['accuracy'])"
   ]
  },
  {
   "cell_type": "code",
   "execution_count": 32,
   "id": "f2974af9",
   "metadata": {},
   "outputs": [
    {
     "name": "stdout",
     "output_type": "stream",
     "text": [
      "Model: \"sequential_2\"\n",
      "_________________________________________________________________\n",
      "Layer (type)                 Output Shape              Param #   \n",
      "=================================================================\n",
      "dense_4 (Dense)              (None, 1024)              803840    \n",
      "_________________________________________________________________\n",
      "dropout (Dropout)            (None, 1024)              0         \n",
      "_________________________________________________________________\n",
      "dense_5 (Dense)              (None, 512)               524800    \n",
      "_________________________________________________________________\n",
      "dropout_1 (Dropout)          (None, 512)               0         \n",
      "_________________________________________________________________\n",
      "dense_6 (Dense)              (None, 256)               131328    \n",
      "_________________________________________________________________\n",
      "dropout_2 (Dropout)          (None, 256)               0         \n",
      "_________________________________________________________________\n",
      "dense_7 (Dense)              (None, 1)                 257       \n",
      "=================================================================\n",
      "Total params: 1,460,225\n",
      "Trainable params: 0\n",
      "Non-trainable params: 1,460,225\n",
      "_________________________________________________________________\n"
     ]
    }
   ],
   "source": [
    "d.summary()"
   ]
  },
  {
   "cell_type": "code",
   "execution_count": 21,
   "id": "a78e8475",
   "metadata": {},
   "outputs": [],
   "source": [
    "d.trainable=False\n",
    "inputs = Input(shape=(z_dim,))\n",
    "hidden = g(inputs)\n",
    "output = d(hidden)\n",
    "gan = Model(inputs,output)\n",
    "gan.compile(loss='binary_crossentropy',optimizer=adam,metrics=['accuracy'])"
   ]
  },
  {
   "cell_type": "code",
   "execution_count": 34,
   "id": "b7f0d9d7",
   "metadata": {},
   "outputs": [
    {
     "name": "stdout",
     "output_type": "stream",
     "text": [
      "Model: \"model\"\n",
      "_________________________________________________________________\n",
      "Layer (type)                 Output Shape              Param #   \n",
      "=================================================================\n",
      "input_1 (InputLayer)         [(None, 100)]             0         \n",
      "_________________________________________________________________\n",
      "sequential_1 (Sequential)    (None, 784)               1486352   \n",
      "_________________________________________________________________\n",
      "sequential_2 (Sequential)    (None, 1)                 1460225   \n",
      "=================================================================\n",
      "Total params: 2,946,577\n",
      "Trainable params: 1,486,352\n",
      "Non-trainable params: 1,460,225\n",
      "_________________________________________________________________\n"
     ]
    }
   ],
   "source": [
    "gan.summary()"
   ]
  },
  {
   "cell_type": "code",
   "execution_count": 43,
   "id": "4d656f00",
   "metadata": {},
   "outputs": [],
   "source": [
    "# draw plot function\n",
    "def plot_loss(losses):\n",
    "    '''\n",
    "    Args:\n",
    "        losses: tuple of generator and discriminator\n",
    "    '''\n",
    "    d_loss = [v[0] for v in losses['D']]\n",
    "    g_loss = [v[0] for v in losses['G']]\n",
    "    plt.figure(figsize=(10,8))\n",
    "    plt.plot(d_loss,label='Discriminator loss')\n",
    "    plt.plot(g_loss,label='Generator loss')\n",
    "    plt.xlabel('Epochs')\n",
    "    plt.ylabel('Loss')\n",
    "    plt.legend()\n",
    "    plt.show()\n",
    "    \n",
    "# display generated samles\n",
    "def plot_generated(n_ex=10,dim=(1,10),figsize=(12,2)):\n",
    "    '''\n",
    "    Args:\n",
    "        n_ex: number of sample\n",
    "        dim:\n",
    "        figsize:\n",
    "    '''\n",
    "    # random noise\n",
    "    noise=np.random.normal(0,1,size=(n_ex,z_dim))\n",
    "    generated_images = g.predict(noise)\n",
    "    generated_images = generated_images.reshape(n_ex,28,28)\n",
    "    plt.figure(figsize=figsize)\n",
    "    for i in range(n_ex):\n",
    "        plt.subplot(dim[0],dim[1],i+1)\n",
    "        plt.imshow(generated_images[i],interpolation='nearest',cmap='gray_r')\n",
    "        plt.axis('off')\n",
    "    plt.tight_layout()\n",
    "    plt.show()"
   ]
  },
  {
   "cell_type": "code",
   "execution_count": 44,
   "id": "65e6a06c",
   "metadata": {},
   "outputs": [],
   "source": [
    "# Keep loss values of discriminator and generator\n",
    "losses = {\"D\":[],\"G\":[]}"
   ]
  },
  {
   "cell_type": "code",
   "execution_count": 45,
   "id": "91148e39",
   "metadata": {},
   "outputs": [],
   "source": [
    "def train(epochs=1,plt_frq=1,BATCH_SIZE=128):\n",
    "    '''\n",
    "    Args:\n",
    "        epochs: number of epoch\n",
    "        plt_frq: plot generated image frequency\n",
    "        BATCH_SIZE: number of sample per batch\n",
    "    '''\n",
    "    batch_count = int(X_train.shape[0]/BATCH_SIZE)\n",
    "    print('Epochs:',epochs)\n",
    "    print('Batch size:',BATCH_SIZE)\n",
    "    print('Batches per epoch:',batch_count)\n",
    "    \n",
    "    for e in tqdm(range(1,epochs+1)):\n",
    "        if e==1 or e%plt_frq==0:\n",
    "            print('-'*15,'Epoch %d'%e,'-'*15)\n",
    "        for _ in range(batch_count):\n",
    "            # get random real images from MNIST dataset\n",
    "            image_batch = X_train[np.random.randint(0,X_train.shape[0],size=BATCH_SIZE)] #(128,784)\n",
    "            # generate random noise\n",
    "            noise = np.random.normal(0,1,size=(BATCH_SIZE,z_dim)) #(128,100)\n",
    "            # generate images from noise\n",
    "            generated_images = g.predict(noise)\n",
    "            X = np.concatenate((image_batch,generated_images))\n",
    "            # create label, label=1 for image from MNIST, label=0 for image generated by generator\n",
    "            y = np.zeros(2*BATCH_SIZE)\n",
    "            y[:BATCH_SIZE] = 0.9\n",
    "            # train discriminator\n",
    "            d.trainable = True\n",
    "            d_loss=d.train_on_batch(X,y)\n",
    "            # train generator\n",
    "            noise = np.random.normal(0,1,size=(BATCH_SIZE,z_dim))\n",
    "            # set label=0 for image from MNIST, label=1 for image generated by generator\n",
    "            y2=np.ones(BATCH_SIZE)\n",
    "            # when train generator don't update weight of discriminator\n",
    "            d.trainable=False\n",
    "            g_loss = gan.train_on_batch(noise,y2)\n",
    "        # storage loss function\n",
    "        losses['D'].append(d_loss)\n",
    "        losses['G'].append(g_loss)\n",
    "        # plot generated image\n",
    "        if e == 1 or e%plt_frq==0:\n",
    "            plot_generated()\n",
    "    \n",
    "    plot_loss(losses)"
   ]
  },
  {
   "cell_type": "code",
   "execution_count": 46,
   "id": "2147c7cb",
   "metadata": {},
   "outputs": [
    {
     "name": "stderr",
     "output_type": "stream",
     "text": [
      "\r",
      "  0%|          | 0/50 [00:00<?, ?it/s]"
     ]
    },
    {
     "name": "stdout",
     "output_type": "stream",
     "text": [
      "Epochs: 50\n",
      "Batch size: 128\n",
      "Batches per epoch: 468\n",
      "--------------- Epoch 1 ---------------\n"
     ]
    },
    {
     "data": {
      "image/png": "[encoded data removed]",
      "text/plain": [
       "<Figure size 864x144 with 10 Axes>"
      ]
     },
     "metadata": {
      "needs_background": "light"
     },
     "output_type": "display_data"
    },
    {
     "name": "stderr",
     "output_type": "stream",
     "text": [
      " 18%|█▊        | 9/50 [17:14<1:13:42, 107.87s/it]"
     ]
    },
    {
     "name": "stdout",
     "output_type": "stream",
     "text": [
      "--------------- Epoch 10 ---------------\n"
     ]
    },
    {
     "data": {
      "image/png": "[encoded data removed]",
      "text/plain": [
       "<Figure size 864x144 with 10 Axes>"
      ]
     },
     "metadata": {
      "needs_background": "light"
     },
     "output_type": "display_data"
    },
    {
     "name": "stderr",
     "output_type": "stream",
     "text": [
      " 38%|███▊      | 19/50 [34:59<54:59, 106.42s/it]  "
     ]
    },
    {
     "name": "stdout",
     "output_type": "stream",
     "text": [
      "--------------- Epoch 20 ---------------\n"
     ]
    },
    {
     "data": {
      "image/png": "[encoded data removed]",
      "text/plain": [
       "<Figure size 864x144 with 10 Axes>"
      ]
     },
     "metadata": {
      "needs_background": "light"
     },
     "output_type": "display_data"
    },
    {
     "name": "stderr",
     "output_type": "stream",
     "text": [
      " 58%|█████▊    | 29/50 [52:45<37:27, 107.03s/it]"
     ]
    },
    {
     "name": "stdout",
     "output_type": "stream",
     "text": [
      "--------------- Epoch 30 ---------------\n"
     ]
    },
    {
     "data": {
      "image/png": "[encoded data removed]",
      "text/plain": [
       "<Figure size 864x144 with 10 Axes>"
      ]
     },
     "metadata": {
      "needs_background": "light"
     },
     "output_type": "display_data"
    },
    {
     "name": "stderr",
     "output_type": "stream",
     "text": [
      " 78%|███████▊  | 39/50 [1:11:31<20:35, 112.35s/it]"
     ]
    },
    {
     "name": "stdout",
     "output_type": "stream",
     "text": [
      "--------------- Epoch 40 ---------------\n"
     ]
    },
    {
     "data": {
      "image/png": "[encoded data removed]",
      "text/plain": [
       "<Figure size 864x144 with 10 Axes>"
      ]
     },
     "metadata": {
      "needs_background": "light"
     },
     "output_type": "display_data"
    },
    {
     "name": "stderr",
     "output_type": "stream",
     "text": [
      " 98%|█████████▊| 49/50 [1:30:15<01:52, 112.10s/it]"
     ]
    },
    {
     "name": "stdout",
     "output_type": "stream",
     "text": [
      "--------------- Epoch 50 ---------------\n"
     ]
    },
    {
     "data": {
      "image/png": "[encoded data removed]",
      "text/plain": [
       "<Figure size 864x144 with 10 Axes>"
      ]
     },
     "metadata": {
      "needs_background": "light"
     },
     "output_type": "display_data"
    },
    {
     "name": "stderr",
     "output_type": "stream",
     "text": [
      "100%|██████████| 50/50 [1:32:07<00:00, 110.54s/it]\n"
     ]
    },
    {
     "data": {
      "image/png": "[encoded data removed]",
      "text/plain": [
       "<Figure size 720x576 with 1 Axes>"
      ]
     },
     "metadata": {
      "needs_background": "light"
     },
     "output_type": "display_data"
    }
   ],
   "source": [
    "train(epochs=50,plt_frq=10,BATCH_SIZE=128) #train(epochs=200,plt_frq=20,BATCH_SIZE=128) "
   ]
  },
  {
   "cell_type": "markdown",
   "id": "8f08d89e",
   "metadata": {},
   "source": [
    "# DCGAN\n",
    "\n",
    "[notebook](https://github.com/nttuan8/GAN_Tutorial/blob/master/G2/DCGAN.ipynb)"
   ]
  },
  {
   "cell_type": "code",
   "execution_count": null,
   "id": "c765266f",
   "metadata": {},
   "outputs": [],
   "source": []
  },
  {
   "cell_type": "markdown",
   "id": "7e7a94f1",
   "metadata": {},
   "source": [
    "# References\n",
    "\n",
    "[keras optimizer](https://stackoverflow.com/questions/62707558/importerror-cannot-import-name-adam-from-keras-optimizers)\n",
    "\n",
    "[GAN notebook](https://github.com/nttuan8/GAN_Tutorial/blob/master/G1/GAN-MNIST.ipynb)\n",
    "\n",
    "[DCGAN notebook](https://github.com/nttuan8/GAN_Tutorial/blob/master/G2/DCGAN.ipynb)\n",
    "\n",
    "[Bài 0: Giới thiệu series GAN (Generative Adversarial Networks)](https://nttuan8.com/gioi-thieu-series-gan-generative-adversarial-networks/)\n",
    "\n",
    "[Bài 1: Giới thiệu về GAN](https://nttuan8.com/bai-1-gioi-thieu-ve-gan/)\n",
    "\n",
    "[Bài 2: Deep Convolutional Generative Adversarial Network (DCGAN)](https://nttuan8.com/bai-2-deep-convolutional-gan-dcgan/)"
   ]
  }
 ],
 "metadata": {
  "kernelspec": {
   "display_name": "Python 3",
   "language": "python",
   "name": "python3"
  },
  "language_info": {
   "codemirror_mode": {
    "name": "ipython",
    "version": 3
   },
   "file_extension": ".py",
   "mimetype": "text/x-python",
   "name": "python",
   "nbconvert_exporter": "python",
   "pygments_lexer": "ipython3",
   "version": "3.8.8"
  }
 },
 "nbformat": 4,
 "nbformat_minor": 5
}
