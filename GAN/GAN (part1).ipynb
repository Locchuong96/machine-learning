{
 "cells": [
  {
   "cell_type": "markdown",
   "id": "bf2c130c",
   "metadata": {},
   "source": [
    "### Content"
   ]
  },
  {
   "cell_type": "markdown",
   "id": "7e7a94f1",
   "metadata": {},
   "source": [
    "### References\n",
    "\n",
    "[Bài 0: Giới thiệu series GAN (Generative Adversarial Networks)](https://nttuan8.com/gioi-thieu-series-gan-generative-adversarial-networks/)\n",
    "\n",
    "[Bài 1: Giới thiệu về GAN](https://nttuan8.com/bai-1-gioi-thieu-ve-gan/)\n",
    "\n",
    "[Bài 2: Deep Convolutional Generative Adversarial Network (DCGAN)](https://nttuan8.com/bai-2-deep-convolutional-gan-dcgan/)"
   ]
  },
  {
   "cell_type": "code",
   "execution_count": null,
   "id": "7b6a80bb",
   "metadata": {},
   "outputs": [],
   "source": []
  }
 ],
 "metadata": {
  "kernelspec": {
   "display_name": "Python 3",
   "language": "python",
   "name": "python3"
  },
  "language_info": {
   "codemirror_mode": {
    "name": "ipython",
    "version": 3
   },
   "file_extension": ".py",
   "mimetype": "text/x-python",
   "name": "python",
   "nbconvert_exporter": "python",
   "pygments_lexer": "ipython3",
   "version": "3.8.8"
  }
 },
 "nbformat": 4,
 "nbformat_minor": 5
}
