{
 "cells": [
  {
   "cell_type": "markdown",
   "id": "52dc5f68",
   "metadata": {},
   "source": [
    "### Content"
   ]
  },
  {
   "cell_type": "markdown",
   "id": "48ca4c43",
   "metadata": {},
   "source": [
    "### Reference\n",
    "\n",
    "[Bài 6: Image to image translation](https://nttuan8.com/bai-6-image-to-image-translation/)\n",
    "\n",
    "[Bài 7: Pix2pix](https://nttuan8.com/bai-7-pix2pix/)\n",
    "\n",
    "[Bài 8: CycleGAN](https://nttuan8.com/bai-8-cyclegan/)\n",
    "\n",
    "[Bài 9: StarGAN](https://nttuan8.com/bai-9-stargan/)\n",
    "\n",
    "[source-code](https://github.com/nttuan8/GAN_Tutorial)"
   ]
  },
  {
   "cell_type": "code",
   "execution_count": null,
   "id": "8fdeb9b1",
   "metadata": {},
   "outputs": [],
   "source": []
  }
 ],
 "metadata": {
  "kernelspec": {
   "display_name": "Python 3",
   "language": "python",
   "name": "python3"
  },
  "language_info": {
   "codemirror_mode": {
    "name": "ipython",
    "version": 3
   },
   "file_extension": ".py",
   "mimetype": "text/x-python",
   "name": "python",
   "nbconvert_exporter": "python",
   "pygments_lexer": "ipython3",
   "version": "3.8.8"
  }
 },
 "nbformat": 4,
 "nbformat_minor": 5
}
