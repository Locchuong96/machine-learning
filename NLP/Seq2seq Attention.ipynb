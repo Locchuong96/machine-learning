{
 "cells": [
  {
   "cell_type": "markdown",
   "id": "a1a6c752",
   "metadata": {},
   "source": [
    "### Content\n",
    "\n",
    "- Seq2seq\n",
    "- Attention"
   ]
  },
  {
   "cell_type": "markdown",
   "id": "dc0cd371",
   "metadata": {},
   "source": [
    "### References\n",
    "\n",
    "[1] [seq2seq and attetion](https://github.com/ChuongLoc/Sequence-to-Sequence-and-Attention-from-scratch-using-Tensorflow/blob/master/Seq2Seq%20and%20Attention.ipynb)\n",
    "\n",
    "[2] [Neural Machine Translation](https://datascience-enthusiast.com/DL/Neural_machine_translation_with_attention.html)\n",
    "\n",
    "[Attention-is-all-you-need](https://github.com/ChuongLoc/Attention-is-all-you-need)"
   ]
  },
  {
   "cell_type": "code",
   "execution_count": null,
   "id": "aca55490",
   "metadata": {},
   "outputs": [],
   "source": []
  }
 ],
 "metadata": {
  "kernelspec": {
   "display_name": "Python 3",
   "language": "python",
   "name": "python3"
  },
  "language_info": {
   "codemirror_mode": {
    "name": "ipython",
    "version": 3
   },
   "file_extension": ".py",
   "mimetype": "text/x-python",
   "name": "python",
   "nbconvert_exporter": "python",
   "pygments_lexer": "ipython3",
   "version": "3.8.8"
  }
 },
 "nbformat": 4,
 "nbformat_minor": 5
}
