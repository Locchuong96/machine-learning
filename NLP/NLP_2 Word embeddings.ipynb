{
 "cells": [
  {
   "cell_type": "markdown",
   "id": "8dfc0243",
   "metadata": {},
   "source": [
    "## Word embeddings\n",
    "\n",
    "Embedding Projector: http://projector.tensorflow.org/"
   ]
  },
  {
   "cell_type": "code",
   "execution_count": null,
   "id": "6c9d81d7",
   "metadata": {},
   "outputs": [],
   "source": [
    "import io \n",
    "import os\n",
    "import re\n",
    "import shutil\n",
    "import string\n",
    "import numpy as np\n",
    "import tensorflow as tf"
   ]
  },
  {
   "cell_type": "markdown",
   "id": "4d0ebaec",
   "metadata": {},
   "source": [
    "## Representing text as numbers\n",
    "Machine learning models take vectors (arrays of numbers) as input. When working with text, the first thing you must do is come up with a strategy to convert strings to numbers (or to \"vectorize\" the text) before feeding it to the model. In this section, you will look at three strategies for doing so.\n",
    "\n",
    "### One-hot encodings:\n",
    "\n",
    "As a first idea, you might \"one-hot\" encode each word in your vocabulary. Consider the sentence \"The cat sat on the mat\". The vocabulary (or unique words) in this sentence is (cat, mat, on, sat, the). To represent each word, you will create a zero vector with length equal to the vocabulary, then place a one in the index that corresponds to the word. This approach is shown in the following diagram.\n",
    "\n",
    "![one-hot](./one-hot.png)\n",
    "\n",
    "To create a vector that contains the encoding of the sentence, you could then concatenate the one-hot vectors for each word.\n",
    "\n",
    "### Encode each word with a unique number:\n",
    "\n",
    "A second approach you might try is to encode each word using a unique number. Continuing the example above, you could assign 1 to \"cat\", 2 to \"mat\", and so on. You could then encode the sentence \"The cat sat on the mat\" as a dense vector like [5, 1, 4, 3, 5, 2]. This approach is efficient. Instead of a sparse vector, you now have a dense one (where all elements are full).\n",
    "\n",
    "There are two downsides to this approach, however:\n",
    "\n",
    "- The integer-encoding is arbitrary (it does not capture any relationship between words).\n",
    "\n",
    "- An integer-encoding can be challenging for a model to interpret. A linear classifier, for example, learns a single weight for each feature. Because there is no relationship between the similarity of any two words and the similarity of their encodings, this feature-weight combination is not meaningful.\n",
    "\n",
    "### Word embeddings:\n",
    "\n",
    "Word embeddings give us a way to use an efficient, dense representation in which similar words have a similar encoding. Importantly, you do not have to specify this encoding by hand. An embedding is a dense vector of floating point values (the length of the vector is a parameter you specify). Instead of specifying the values for the embedding manually, they are trainable parameters (weights learned by the model during training, in the same way a model learns weights for a dense layer). It is common to see word embeddings that are 8-dimensional (for small datasets), up to 1024-dimensions when working with large datasets. A higher dimensional embedding can capture fine-grained relationships between words, but takes more data to learn.\n",
    "\n",
    "![embedding2](./embedding2.png)\n",
    "\n",
    "Above is a diagram for a word embedding. Each word is represented as a 4-dimensional vector of floating point values. Another way to think of an embedding is as \"lookup table\". After these weights have been learned, you can encode each word by looking up the dense vector it corresponds to in the table."
   ]
  },
  {
   "cell_type": "code",
   "execution_count": 24,
   "id": "e15631cd",
   "metadata": {},
   "outputs": [
    {
     "name": "stdout",
     "output_type": "stream",
     "text": [
      "input_array: (32, 10)\n",
      "output_array: (32, 10, 64)\n"
     ]
    }
   ],
   "source": [
    "model = tf.keras.Sequential()\n",
    "model.add(tf.keras.layers.Embedding(input_dim = 1000,output_dim = 64,input_length = 10))\n",
    "'''\n",
    "The model will take as input an iterger matrix of size (batch,input_length),and the largest integer (i.e word index)\n",
    "in the input. should be no larger than 999 (vocabulary size).\n",
    "Now model.output_shape is (None,10,64), where `None` is the batch dimension\n",
    "input_dim : Integer, size of vocabulary, i.e maximum is interger index +1 \n",
    "output_dim : Integer, Dimension of dense embedding\n",
    "input_length: Length of input sequences, when it is constant. This argument is required i\n",
    "f you are going to connect Flatten then Dense layers upstream (without it, the shape of the dense outputs cannot be computed).\n",
    "\n",
    "'''\n",
    "input_array = np.random.randint(1000,size = (32,10)) # (sample_number,input_length)\n",
    "print(f\"input_array: {input_array.shape}\")\n",
    "model.compile('rmsprop','mse')\n",
    "output_array = model.predict(input_array)\n",
    "print(f\"output_array: {output_array.shape}\")"
   ]
  },
  {
   "cell_type": "markdown",
   "id": "47e5e50b",
   "metadata": {},
   "source": [
    "## Download the IMDb Dataset\n",
    "\n",
    "You will use the [Large Movie Review](http://ai.stanford.edu/~amaas/data/sentiment/) Dataset through the tutorial. You will train a sentiment classifier model on this dataset and in the process learn embeddings from scratch. To read more about loading a dataset from scratch, see the [Loading text tutorial](https://www.tensorflow.org/tutorials/load_data/text).\n",
    "\n",
    "Download the dataset using Keras file utility and take a look at the directories."
   ]
  },
  {
   "cell_type": "code",
   "execution_count": 3,
   "id": "be3f2301",
   "metadata": {},
   "outputs": [
    {
     "name": "stdout",
     "output_type": "stream",
     "text": [
      "Downloading data from https://ai.stanford.edu/~amaas/data/sentiment/aclImdb_v1.tar.gz\n",
      "84131840/84125825 [==============================] - 606s 7us/step\n",
      "84140032/84125825 [==============================] - 606s 7us/step\n"
     ]
    },
    {
     "data": {
      "text/plain": [
       "['imdb.vocab', 'imdbEr.txt', 'README', 'test', 'train']"
      ]
     },
     "execution_count": 3,
     "metadata": {},
     "output_type": "execute_result"
    }
   ],
   "source": [
    "url = \"https://ai.stanford.edu/~amaas/data/sentiment/aclImdb_v1.tar.gz\"\n",
    "\n",
    "dataset = tf.keras.utils.get_file(\"aclImdb_v1.tar.gz\",\n",
    "                                  url,\n",
    "                                  untar = True,\n",
    "                                  cache_dir = '.',\n",
    "                                  cache_subdir = ''\n",
    "                                 )\n",
    "\n",
    "dataset_dir = os.path.join(os.path.dirname(dataset),'aclImdb')\n",
    "os.listdir(dataset_dir)"
   ]
  },
  {
   "cell_type": "markdown",
   "id": "3c34cc0f",
   "metadata": {},
   "source": [
    "Take a look at the `train/` directory. It has `pos` and `neg` folders with movie reviews labelled as positive and negative respectively. You will use reviews from `pos` and `neg` folders to train a binary classification model."
   ]
  },
  {
   "cell_type": "code",
   "execution_count": 31,
   "id": "a08197d0",
   "metadata": {},
   "outputs": [
    {
     "data": {
      "text/plain": [
       "['labeledBow.feat',\n",
       " 'neg',\n",
       " 'pos',\n",
       " 'unsupBow.feat',\n",
       " 'urls_neg.txt',\n",
       " 'urls_pos.txt',\n",
       " 'urls_unsup.txt']"
      ]
     },
     "execution_count": 31,
     "metadata": {},
     "output_type": "execute_result"
    }
   ],
   "source": [
    "train_dir = os.path.join(dataset_dir,'train')\n",
    "os.listdir(train_dir)"
   ]
  },
  {
   "cell_type": "markdown",
   "id": "e2c3b3c8",
   "metadata": {},
   "source": [
    "The `train` directory also has additional folders which should be removed before creating training dataset."
   ]
  },
  {
   "cell_type": "code",
   "execution_count": 33,
   "id": "9318ce45",
   "metadata": {},
   "outputs": [],
   "source": [
    "remove_dir = os.path.join(train_dir,'unsup')\n",
    "shutil.rmtree(remove_dir)"
   ]
  },
  {
   "cell_type": "markdown",
   "id": "c05dcc58",
   "metadata": {},
   "source": [
    "Next, create a `tf.data.Dataset` using `tf.keras.utils.text_dataset_from_directory`. You can read more about using this utility in this [text classification tutorial](https://www.tensorflow.org/tutorials/keras/text_classification).\n",
    "\n",
    "Use the train directory to create both train and validation datasets with a split of 20% for validation."
   ]
  },
  {
   "cell_type": "code",
   "execution_count": 35,
   "id": "327df91b",
   "metadata": {},
   "outputs": [
    {
     "name": "stdout",
     "output_type": "stream",
     "text": [
      "Found 25000 files belonging to 2 classes.\n",
      "Using 20000 files for training.\n",
      "Found 25000 files belonging to 2 classes.\n",
      "Using 5000 files for validation.\n"
     ]
    }
   ],
   "source": [
    "batch_size = 1024\n",
    "seed = 123\n",
    "# train\n",
    "train_ds = tf.keras.utils.text_dataset_from_directory('aclImdb/train',\n",
    "                                                       batch_size = batch_size,\n",
    "                                                       validation_split = 0.2,\n",
    "                                                       subset = 'training',\n",
    "                                                       seed = seed\n",
    "                                                        )\n",
    "\n",
    "val_ds = tf.keras.utils.text_dataset_from_directory('aclImdb/test',\n",
    "                                                       batch_size = batch_size,\n",
    "                                                       validation_split = 0.2,\n",
    "                                                       subset = 'validation',\n",
    "                                                       seed = seed\n",
    "                                                        )"
   ]
  },
  {
   "cell_type": "markdown",
   "id": "136438fe",
   "metadata": {},
   "source": [
    "Take a look at a few movie reviews and their labels `(1: positive, 0: negative)` from the train dataset."
   ]
  },
  {
   "cell_type": "code",
   "execution_count": 42,
   "id": "a5631053",
   "metadata": {},
   "outputs": [
    {
     "name": "stdout",
     "output_type": "stream",
     "text": [
      "0  :  b\"Wow. Some movies just leave me speechless. This was undeniably one of those movies. When I left the theatre, not a single word came to my mouth. All I had was an incredible urge to slam my head against the theatre wall to help me forget about the last hour and a half. Unfortunately, it didn't work. Honestly, this movie has nothing to recommend. The humor was at the first grade level, at best, the acting was overly silly, and the plot was astronomically far-fetched. I hearby pledge never to see an other movie starring Chris Kattan or any other cast-member of SNL.\"\n",
      "\n",
      "\n",
      "1  :  b'If any show in the last ten years deserves a 10, it is this rare gem. It allows us to escape back to a time when things were simpler and more fun. Filled with heart and laughs, this show keeps you laughing through the three decades of difference. The furniture was ugly, the clothes were colorful, and the even the drugs were tolerable. The hair was feathered, the music was accompanied by roller-skates, and in the words of Merle Haggard, \"a joint was a bad place to be\". Take a trip back to the greatest time in American history. Fall in love with characters and the feel good essence of the small town where people were nicer to each other. This classic is on television as much as \"Full House\". Don\\'t miss it, and always remember to \"Shake your groove thing!!!\"'\n",
      "\n",
      "\n",
      "1  :  b'Clearly an hilarious movie.<br /><br />It angers me to see the poor ratings given to this piece of comic genius<br /><br />Please look at this for what it is, a funny, ridiculous enjoyable film. Laugh for christ sake!<br /><br />'\n",
      "\n",
      "\n",
      "0  :  b\"Distasteful, cliched thriller has young couple doing cross-country research on America's most infamous murder sites, becoming road partners with a dim-witted young woman and her snarling boyfriend--who is an actual psycho. Arty and alienating, the film's tone alternates between pouty pseudo-irony and silly flamboyance. Handsomely-made perhaps, but ultimately laughable. Brad Pitt's performance as the low-rent killer is godawful. * from ****\"\n",
      "\n",
      "\n",
      "1  :  b\"Scott is right. The best 2 person sword duel ever put on film is in the middle of this movie. The sword fights with multiple fighters are not the best although quite good. However, the fight in the middle is the best even compared to Japanese samurai movies. Chinese swordplay scenes in my opinion have never surpassed the Japanese in terms of entertainment value. Especially in scenes where one guy must battle a group of enemies, Japanese movies excel, example being the Lone Wolf and Cub series. Even though duels in Japanese cinema last only seconds or a minute at the most, the sheer intensity of those moments made them better. But, this is one example where Chinese swordplay surpasses the Japanese. The scene in the middle of this film was a five minute long fight with the most amazing choreography ever. The other fights in this movie are good too but even if they sucked this movie would get a 7 for that one scene. If you haven't seen it, you have to. John Woo is the man.\"\n",
      "\n",
      "\n"
     ]
    }
   ],
   "source": [
    "for text_batch,label_batch in train_ds.take(1):\n",
    "    for i in range(5):\n",
    "        print(label_batch[i].numpy(),\" : \",text_batch.numpy()[i])\n",
    "        print(\"\\n\")"
   ]
  },
  {
   "cell_type": "markdown",
   "id": "8d65f6c8",
   "metadata": {},
   "source": [
    "## Configure the dataset for performance\n",
    "These are two important methods you should use when loading data to make sure that I/O does not become blocking.\n",
    "\n",
    ".cache() keeps data in memory after it's loaded off disk. This will ensure the dataset does not become a bottleneck while training your model. If your dataset is too large to fit into memory, you can also use this method to create a performant on-disk cache, which is more efficient to read than many small files.\n",
    "\n",
    ".prefetch() overlaps data preprocessing and model execution while training.\n",
    "\n",
    "You can learn more about both methods, as well as how to cache data to disk in the [data performance guide](https://www.tensorflow.org/guide/data_performance)."
   ]
  },
  {
   "cell_type": "code",
   "execution_count": 43,
   "id": "1b1ee93e",
   "metadata": {},
   "outputs": [],
   "source": [
    "train_ds = train_ds.cache().prefetch(buffer_size = tf.data.AUTOTUNE)\n",
    "val_ds = val_ds.cache().prefetch(buffer_size = tf.data.AUTOTUNE)"
   ]
  },
  {
   "cell_type": "markdown",
   "id": "522c1473",
   "metadata": {},
   "source": [
    "## Using the Embedding layer\n",
    "\n",
    "Keras makes it easy to use word embeddings. Take a look at the [Embedding](https://www.tensorflow.org/api_docs/python/tf/keras/layers/Embedding) layer.\n",
    "\n",
    "The Embedding layer can be understood as a lookup table that maps from integer indices (which stand for specific words) to dense vectors (their embeddings). The dimensionality (or width) of the embedding is a parameter you can experiment with to see what works well for your problem, much in the same way you would experiment with the number of neurons in a Dense layer."
   ]
  },
  {
   "cell_type": "code",
   "execution_count": 38,
   "id": "b07006d3",
   "metadata": {},
   "outputs": [],
   "source": [
    "# Embed a 1000 word vocabulary into 5 dimensions\n",
    "embedding_layer = tf.keras.layers.Embedding(1000,5)"
   ]
  },
  {
   "cell_type": "markdown",
   "id": "5b5f0dcf",
   "metadata": {},
   "source": [
    "When you create an Embedding layer, the weights for the embedding are randomly initialized (just like any other layer). During training, they are gradually adjusted via backpropagation. Once trained, the learned word embeddings will roughly encode similarities between words (as they were learned for the specific problem your model is trained on).\n",
    "\n",
    "If you pass an integer to an embedding layer, the result replaces each integer with the vector from the embedding table:"
   ]
  },
  {
   "cell_type": "code",
   "execution_count": 39,
   "id": "628a663d",
   "metadata": {},
   "outputs": [
    {
     "name": "stdout",
     "output_type": "stream",
     "text": [
      "(3, 5)\n"
     ]
    },
    {
     "data": {
      "text/plain": [
       "array([[ 0.03370622, -0.04908353, -0.0200971 , -0.0451408 , -0.01668329],\n",
       "       [ 0.01682807, -0.01845165, -0.01166041, -0.00564532,  0.04736647],\n",
       "       [ 0.02346439, -0.04127623, -0.00068667,  0.04478325, -0.00877509]],\n",
       "      dtype=float32)"
      ]
     },
     "execution_count": 39,
     "metadata": {},
     "output_type": "execute_result"
    }
   ],
   "source": [
    "# width = np.random.randint(10)\n",
    "# input = np.random.rand(width)\n",
    "result = embedding_layer(tf.constant([1,2,3]))\n",
    "print(result.shape)\n",
    "result.numpy()"
   ]
  },
  {
   "cell_type": "markdown",
   "id": "044835b5",
   "metadata": {},
   "source": [
    "For text or sequence problems, the Embedding layer takes a 2D tensor of integers, of shape `(samples, sequence_length)`, where each entry is a sequence of integers. It can embed sequences of variable lengths. You could feed into the embedding layer above batches with shapes `(32, 10)` (batch of 32 sequences of length 10) or `(64, 15)` (batch of 64 sequences of length 15).\n",
    "\n",
    "The returned tensor has one more axis than the input, the embedding vectors are aligned along the new last axis. Pass it a `(2, 3)` input batch and the output is `(2, 3, N)`"
   ]
  },
  {
   "cell_type": "code",
   "execution_count": 40,
   "id": "7752fd4e",
   "metadata": {},
   "outputs": [
    {
     "name": "stdout",
     "output_type": "stream",
     "text": [
      "(2, 3, 5)\n",
      "tf.Tensor(\n",
      "[[[-0.02427975  0.01467308  0.00526615 -0.00207376  0.00761747]\n",
      "  [ 0.03370622 -0.04908353 -0.0200971  -0.0451408  -0.01668329]\n",
      "  [ 0.01682807 -0.01845165 -0.01166041 -0.00564532  0.04736647]]\n",
      "\n",
      " [[ 0.02346439 -0.04127623 -0.00068667  0.04478325 -0.00877509]\n",
      "  [ 0.04794813 -0.00600418  0.03465143 -0.03749007 -0.04010221]\n",
      "  [-0.01621849 -0.02563468 -0.03893682 -0.00997553 -0.03375311]]], shape=(2, 3, 5), dtype=float32)\n"
     ]
    }
   ],
   "source": [
    "result = embedding_layer(tf.constant([[0,1,2],[3,4,5]]))\n",
    "print(result.shape)\n",
    "print(result)"
   ]
  },
  {
   "cell_type": "markdown",
   "id": "271806bb",
   "metadata": {},
   "source": [
    "When given a batch of sequences as input, an embedding layer returns a 3D floating point tensor, of shape `(samples, sequence_length, embedding_dimensionality)`. To convert from this sequence of variable length to a fixed representation there are a variety of standard approaches. You could use an RNN, Attention, or pooling layer before passing it to a Dense layer. This tutorial uses pooling because it's the simplest. [The Text Classification with an RNN tutorial](https://www.tensorflow.org/text/tutorials/text_classification_rnn) is a good next step."
   ]
  },
  {
   "cell_type": "code",
   "execution_count": 127,
   "id": "cd53f865",
   "metadata": {},
   "outputs": [
    {
     "name": "stdout",
     "output_type": "stream",
     "text": [
      "tf.Tensor(\n",
      "[b\"If you want an undemanding and reasonably amusing hour or so, then it's OK to watch this. It's not all that bad, really. Yeah, it's got more lapses in logic than I care to describe here and might tax the patience of people - like myself, I have to admit - who are inclined to throw things at the TV on occasion, but it's funny at least. Just because it's not always INTENTIONALLY funny, there's no need to let that get you down.<br /><br />However, if you've read the book - or any of the other books by Brookmyre - then you'd probably best avoid it. I've read them all and when I first watched this film, I despised it. I've trashed it in detail and at great length on another site, in fact. The TV plot bears practically no relevance at all to that of the book and served only to outrage and infuriate many faithful (and admittedly rabid) Brookmyre fans.<br /><br />Best bit of advice..? Watch this, then read the book and only THEN make your comparisons and submit your judgement.\"\n",
      " b\"Dressed to Kill starts off with Kate Miller (Angie Dickinson) having a sexually explicit nightmare, later on that day she visits her psychiatrist Dr. Robert Elliott (Michael Caine) for a session in which she admits to be sexually frustrated & unfulfilled in her current marriage. Kate then visits a museum & picks up a stranger, they go back to his apartment for casual sex, when done Kate is set to leave but is attacked & killed in the buildings elevator by a razor blade wielding blonde woman. Prostitute Liz Blake (Nancy Allen) discovers the gruesome scene & sees the killer but manages to escape. Detective Marino (Dennis Franz) says he suspects Liz as being the killer as there are no other witnesses so Liz teams up with Kate's son Peter (Keith Gordon) to track down the real killer, clear Liz's name & see that justice is done...<br /><br />Written & directed by Brian De Palma I thought Dressed to Kill was a good solid psychological murder mystery. The script is measured & slow at times but it likes to focus on the character's so you really know them, the entire first twenty minutes is just developing Kate as a character before she is suddenly killed off, then the film switches it's attentions to Liz & no one else gets a look in. This way Dressed to Kill is quite absorbing & engaging, unfortunately the character's themselves aren't exactly likable. I found some of the dialogue quite funny at times, especially the dirty talk that Liz spouts occasionally. The killers motives are somewhat plausible but I guess you'd have to be pretty messed up to do anything suggested in Dressed to Kill. It's a good film but it didn't excite me that much & I didn't really find any character to root for or like. The film tacks on a needless & unnecessary twist ending that I didn't really see the point of.<br /><br />Director De Palma directs with style & visual flair, from the art museum sequence to a car chase & as a whole it's impeccably filmed throughout. I'd imagine that every shot in Dressed to Kill had a great deal of thought put into it. I felt the film was a bit flat & uninspired at times though, nothing about it really excited me that much. There is a fair bit of nudity, some sex & rape along with a few bits of gore & violence, Kate's murder by razor blade in the elevator being the highlight, if that's the right word. However, it's by no means as shocking or controversial when viewed today as many would have you believe.<br /><br />With a supposed budget of about $6,500,000 Dressed to Kill has that glossy high production value feel of a Hollywood film. The New York locations are nice, the cinematography is good & as a whole it's extremely well made. I thought the music was inappropriate & was far to loud & intrusive. The acting is OK but despite his top billing I didn't think Caine had that much screen time. Allen was married to director De Palma at the time Dressed to Kill was made, interestingly out of the four films she appeared in made by De Palma in two of them, this & Blow Out (1981), he cast her as a prostitute... A body double was used for Dickinson as she pleasures herself in a shower at the start.<br /><br />Dressed to Kill is a good thriller that is well worth watching but I didn't think it quite lived up to it's lofty reputation. Good but not brilliant.\"\n",
      " b\"I usually enjoy Loretta Young's early movies: her acting back then was light and breezy, and she sure knew how to wear clothes. But this one is just a loser from the word go except for a funny supporting turn by Glenda Farrell. Young is a hatcheck girl who talks her writer-husband (Paul Lukas) into becoming a championship bridge player. It's not the most cinematic of games, and the long, talky middle part in which their marriage falls apart just about kills the film.<br /><br />There's one interesting bit though. As Lukas and Ferdinand Gottschalk start their climactic game, a series of quick shots show airplanes, trains, football games, even a diver in mid-air, freezing in anticipation of the event. It's the earliest use of a freeze frame I've seen in an American film. Wish the rest of it were that inventive-and funny.\"\n",
      " ...\n",
      " b\"Nobody said movies had to be realistic did they? I really liked this movie because I remember when I first saw it in junior high. For all the kids who remember the PMRC and albums before there were warning stickers, it's a cool story for all those kids who were part of the mid to late 80's headbanger crowd.\"\n",
      " b'There were some great moments of reality in there depicting modern day life (not only in Japan, but everywhere). It shows how stifling ones culture can be, and wanting to break out of the mold its created for you.<br /><br />The dancing was just a vehicle for saying \"do what you love even if its against the norm\". Rather Billy Elliot like I would say. I enjoyed that film as well. <br /><br />The humour was well timed, and the touching moments felt so real, you could feel the awkwardness between Sugiyama and his wife, the tantrums in the dance hall. I loved Aoki - him and that wig and his excessiveness on the dance floor made me simply howl!<br /><br />The actors all did a wonderful job, the story was well written. I watched it a second time and caught some little nuances that I missed on the first viewing. Good entertainment!'\n",
      " b'After watching this on the MST3K episode, I have to wonder how many movies this film borrows from. It seems to combine elements of Logans Run, Farenheight 451, Final Sacrifice and at least several others. At one point I was really expecting Cris Makepease to call Lee Majors ROWSDOWER. <br /><br />I wonder if the director has any clue how many holes there are in the plot. like the fact that, even though gas is unavailable, there is plenty of it in abandoned gas stations, and the stations are located close enough together to keep an F1 race car going all the way across the country.'], shape=(1024,), dtype=string)\n"
     ]
    }
   ],
   "source": [
    "# Create a custom standardization function to strip HTML break tags '<br />'\n",
    "def custom_standardization(input_data):\n",
    "    lowercase = tf.string.lower(input_data)\n",
    "    stripped_html = tf.string.regex_replace(lowercase, '<br />',' ')\n",
    "    return tf.strings.regex_replace(stripped_html,'[%s]' % re.escape(string.punctuation),'')\n",
    "\n",
    "# Vocabulary size and number of words in a sequence\n",
    "vocab_size = 10000\n",
    "sequence_length = 100\n",
    "\n",
    "text_ds = train_ds.map(lambda x,y:x)\n",
    "for i in text_ds.take(1):\n",
    "    print(i)"
   ]
  },
  {
   "cell_type": "code",
   "execution_count": 128,
   "id": "39691908",
   "metadata": {},
   "outputs": [
    {
     "name": "stdout",
     "output_type": "stream",
     "text": [
      "shape of data (1024,)\n",
      "237551\n",
      "b'If'\n"
     ]
    }
   ],
   "source": [
    "vocab_data = []\n",
    "print(f\"shape of data {i.shape}\")\n",
    "for j in range(i.shape[0]):\n",
    "    vocab_data += i.numpy()[j].split()\n",
    "print(len(vocab_data))\n",
    "print(vocab_data[0])"
   ]
  },
  {
   "cell_type": "code",
   "execution_count": 129,
   "id": "cbfb18f1",
   "metadata": {},
   "outputs": [],
   "source": [
    "vocab_data_str = [x.decode('utf-8') for x in vocab_data]\n",
    "vocab_data_decode = []\n",
    "for  text in vocab_data_str:\n",
    "    if text not in vocab_data_decode:\n",
    "        vocab_data_decode.append(text)"
   ]
  },
  {
   "cell_type": "code",
   "execution_count": 130,
   "id": "125a6b01",
   "metadata": {},
   "outputs": [
    {
     "data": {
      "text/plain": [
       "35108"
      ]
     },
     "execution_count": 130,
     "metadata": {},
     "output_type": "execute_result"
    }
   ],
   "source": [
    "len(vocab_data_decode)"
   ]
  },
  {
   "cell_type": "code",
   "execution_count": 131,
   "id": "e3238c6d",
   "metadata": {},
   "outputs": [],
   "source": [
    "'''\n",
    "Use the text vectorization layer to normalize, split, and map strings to integers\n",
    "Note that the layer uses the custom standardization defined above,\n",
    "Set maximum_sequence length as all samples are not of the same length\n",
    "'''\n",
    "vectorize_layer = tf.keras.layers.TextVectorization(#standardize=custom_standardization,\n",
    "                                                    max_tokens=len(vocab_data_decode)+2, # Passed vocab size is 35960, max vocab size is 35958?\n",
    "                                                    output_mode='int',\n",
    "                                                    output_sequence_length=sequence_length,\n",
    "                                                    vocabulary = vocab_data_decode                                                       \n",
    ")"
   ]
  },
  {
   "cell_type": "markdown",
   "id": "d688338e",
   "metadata": {},
   "source": [
    "## TextVectorization\n",
    "\n",
    "    \n",
    "    tf.keras.layers.TextVectorization(\n",
    "        max_tokens=None,\n",
    "        standardize='lower_and_strip_punctuation',\n",
    "        split='whitespace',\n",
    "        ngrams=None,\n",
    "        output_mode='int',\n",
    "        output_sequence_length=None,\n",
    "        pad_to_max_tokens=False,\n",
    "        vocabulary=None,\n",
    "        idf_weights=None,\n",
    "        sparse=False,\n",
    "        ragged=False,\n",
    "        **kwargs\n",
    "    )\n"
   ]
  },
  {
   "cell_type": "code",
   "execution_count": 63,
   "id": "9df2ea06",
   "metadata": {},
   "outputs": [
    {
     "data": {
      "text/plain": [
       "array([[2, 1, 4, 0],\n",
       "       [1, 4, 0, 0]], dtype=int64)"
      ]
     },
     "execution_count": 63,
     "metadata": {},
     "output_type": "execute_result"
    }
   ],
   "source": [
    "text_dataset = tf.data.Dataset.from_tensor_slices(['foo','bar','baz'])\n",
    "# Create the layer\n",
    "vectorize_layer = tf.keras.layers.TextVectorization(\n",
    "max_tokens = max_features,\n",
    "output_mode  = 'int',\n",
    "output_sequence_length = max_len\n",
    ")\n",
    "'''\n",
    "Now that the vocab layer has been created, call adapt on the text-only dataset to create the vocabulary,\n",
    "You don't have to batch, but for large datasets this mean are keeping spare copies of the dataset.\n",
    "'''\n",
    "vectorize_layer.adapt(text_dataset.batch(64))\n",
    "# Create the model that uses the vectorize text layer\n",
    "model = tf.keras.models.Sequential()\n",
    "'''\n",
    "Start by creating an explicit input layer, it needs to have a shape of (1,), because we need to guarantee that there is \n",
    "exactly one string input per batch and the dtype needs to be string\n",
    "'''\n",
    "model.add(tf.keras.Input(shape = (1,),dtype = tf.string))\n",
    "'''\n",
    "The first layer in our model is vectorization layer, After this layer, we have a tensor of shape (batch_size, max_len) containing\n",
    "vocab indices\n",
    "'''\n",
    "model.add(vectorize_layer)\n",
    "'''\n",
    "Now let the model can map string to intergers, and you can add an embedding layer to map these integers to learned embeddings\n",
    "'''\n",
    "input_data =[['foo qux bar'],['qux bar']]\n",
    "model.predict(input_data)\n"
   ]
  },
  {
   "cell_type": "code",
   "execution_count": 124,
   "id": "bbe18702",
   "metadata": {},
   "outputs": [
    {
     "data": {
      "text/plain": [
       "['', '[UNK]', 'earth', 'wind', 'and', 'fire']"
      ]
     },
     "execution_count": 124,
     "metadata": {},
     "output_type": "execute_result"
    }
   ],
   "source": [
    "'''\n",
    "This example instantiates TextVectorization layer by passing a list of vocabulary term to layer method\n",
    "'''\n",
    "vocab_data = ['earth','wind','and','fire']\n",
    "max_features = 5000 # Maximum vocab size\n",
    "max_len = 4 # Sequence length to pad the output to\n",
    "'''\n",
    "Create the layer, passing the vocab directly, You can also pass the vocabulary arg a path to a file containing one vocabulary word per line\n",
    "'''\n",
    "vectorize_layer = tf.keras.layers.TextVectorization(max_tokens = max_features,\n",
    "                                                    output_mode = 'int',\n",
    "                                                    output_sequence_length = max_len,\n",
    "                                                    vocabulary = vocab_data\n",
    ")\n",
    "'''\n",
    "Because we are passed the vocabulary directly, we dont need to adapt the layer - the vocabulary is already set,\n",
    "The vocabulary contains the padding token ('') and OOV token (['UNK']) as well as  the passed tokens\n",
    "'''\n",
    "vectorize_layer.get_vocabulary()"
   ]
  },
  {
   "cell_type": "markdown",
   "id": "2d2a02d6",
   "metadata": {},
   "source": [
    "## Create a classification model\n",
    "Use the Keras Sequential API to define the sentiment classification model. In this case it is a \"Continuous bag of words\" style model.\n",
    "\n",
    "- The TextVectorization layer transforms strings into vocabulary indices. You have already initialized vectorize_layer as a TextVectorization layer and built its vocabulary by calling adapt on text_ds. Now vectorize_layer can be used as the first layer of your end-to-end classification model, feeding transformed strings into the Embedding layer.\n",
    "\n",
    "- The Embedding layer takes the integer-encoded vocabulary and looks up the embedding vector for each word-index. These vectors are learned as the model trains. The vectors add a dimension to the output array. The resulting dimensions are: (batch, sequence, embedding).\n",
    "\n",
    "- The GlobalAveragePooling1D layer returns a fixed-length output vector for each example by averaging over the sequence dimension. This allows the model to handle input of variable length, in the simplest way possible.\n",
    "\n",
    "- The fixed-length output vector is piped through a fully-connected (Dense) layer with 16 hidden units.\n",
    "\n",
    "- The last layer is densely connected with a single output node."
   ]
  },
  {
   "cell_type": "code",
   "execution_count": 133,
   "id": "5326315b",
   "metadata": {},
   "outputs": [],
   "source": [
    "embedding_dim = 16\n",
    "\n",
    "model = tf.keras.Sequential([\n",
    "    vectorize_layer,\n",
    "    tf.keras.layers.Embedding(len(vocab_data_decode)+2,embedding_dim,name = 'embedding'),\n",
    "    tf.keras.layers.AveragePooling1D(),\n",
    "    tf.keras.layers.Dense(16,activation = 'relu'),\n",
    "    tf.keras.layers.Dense(1)\n",
    "])"
   ]
  },
  {
   "cell_type": "code",
   "execution_count": 137,
   "id": "aaf1b080",
   "metadata": {},
   "outputs": [],
   "source": [
    "model.compile(optimizer = 'adam',\n",
    "             loss = tf.keras.losses.BinaryCrossentropy(),\n",
    "             metrics = ['accuracy'])"
   ]
  },
  {
   "cell_type": "code",
   "execution_count": 138,
   "id": "cb9f3998",
   "metadata": {},
   "outputs": [],
   "source": [
    "# Create tensorboard callback\n",
    "tensorboard_callback = tf.keras.callbacks.TensorBoard(log_dir = 'logs')"
   ]
  },
  {
   "cell_type": "code",
   "execution_count": 140,
   "id": "ea8b27ff",
   "metadata": {},
   "outputs": [
    {
     "name": "stdout",
     "output_type": "stream",
     "text": [
      "Epoch 1/15\n",
      "20/20 [==============================] - 96s 5s/step - loss: 1.6066 - accuracy: 0.5028 - val_loss: 1.3084 - val_accuracy: 0.4886\n",
      "Epoch 2/15\n",
      "20/20 [==============================] - 7s 353ms/step - loss: 1.2004 - accuracy: 0.5028 - val_loss: 1.1573 - val_accuracy: 0.4886\n",
      "Epoch 3/15\n",
      "20/20 [==============================] - 7s 354ms/step - loss: 1.0828 - accuracy: 0.5028 - val_loss: 1.0573 - val_accuracy: 0.4886\n",
      "Epoch 4/15\n",
      "20/20 [==============================] - 7s 365ms/step - loss: 0.9950 - accuracy: 0.5028 - val_loss: 0.9752 - val_accuracy: 0.4886\n",
      "Epoch 5/15\n",
      "20/20 [==============================] - 7s 362ms/step - loss: 0.9218 - accuracy: 0.5028 - val_loss: 0.9059 - val_accuracy: 0.4886\n",
      "Epoch 6/15\n",
      "20/20 [==============================] - 7s 368ms/step - loss: 0.8606 - accuracy: 0.5028 - val_loss: 0.8486 - val_accuracy: 0.4886\n",
      "Epoch 7/15\n",
      "20/20 [==============================] - 7s 358ms/step - loss: 0.8107 - accuracy: 0.5028 - val_loss: 0.8025 - val_accuracy: 0.4886\n",
      "Epoch 8/15\n",
      "20/20 [==============================] - 7s 363ms/step - loss: 0.7714 - accuracy: 0.5060 - val_loss: 0.7673 - val_accuracy: 0.4939\n",
      "Epoch 9/15\n",
      "20/20 [==============================] - 7s 374ms/step - loss: 0.7420 - accuracy: 0.5075 - val_loss: 0.7419 - val_accuracy: 0.4952\n",
      "Epoch 10/15\n",
      "20/20 [==============================] - 7s 342ms/step - loss: 0.7211 - accuracy: 0.5102 - val_loss: 0.7241 - val_accuracy: 0.4996\n",
      "Epoch 11/15\n",
      "20/20 [==============================] - 7s 366ms/step - loss: 0.7065 - accuracy: 0.5156 - val_loss: 0.7121 - val_accuracy: 0.5069\n",
      "Epoch 12/15\n",
      "20/20 [==============================] - 7s 372ms/step - loss: 0.6967 - accuracy: 0.5240 - val_loss: 0.7043 - val_accuracy: 0.5173\n",
      "Epoch 13/15\n",
      "20/20 [==============================] - 7s 344ms/step - loss: 0.6900 - accuracy: 0.5339 - val_loss: 0.6992 - val_accuracy: 0.5278\n",
      "Epoch 14/15\n",
      "20/20 [==============================] - 7s 339ms/step - loss: 0.6854 - accuracy: 0.5416 - val_loss: 0.6958 - val_accuracy: 0.5347\n",
      "Epoch 15/15\n",
      "20/20 [==============================] - 7s 340ms/step - loss: 0.6820 - accuracy: 0.5470 - val_loss: 0.6935 - val_accuracy: 0.5388\n"
     ]
    }
   ],
   "source": [
    "history = model.fit(train_ds,\n",
    "         validation_data = val_ds,\n",
    "         epochs = 15,\n",
    "         callbacks = [tensorboard_callback])"
   ]
  },
  {
   "cell_type": "code",
   "execution_count": 141,
   "id": "7f407e54",
   "metadata": {},
   "outputs": [
    {
     "name": "stdout",
     "output_type": "stream",
     "text": [
      "Model: \"sequential_7\"\n",
      "_________________________________________________________________\n",
      "Layer (type)                 Output Shape              Param #   \n",
      "=================================================================\n",
      "text_vectorization_37 (TextV (None, 100)               0         \n",
      "_________________________________________________________________\n",
      "embedding (Embedding)        (None, 100, 16)           561760    \n",
      "_________________________________________________________________\n",
      "average_pooling1d_1 (Average (None, 50, 16)            0         \n",
      "_________________________________________________________________\n",
      "dense_2 (Dense)              (None, 50, 16)            272       \n",
      "_________________________________________________________________\n",
      "dense_3 (Dense)              (None, 50, 1)             17        \n",
      "=================================================================\n",
      "Total params: 562,049\n",
      "Trainable params: 562,049\n",
      "Non-trainable params: 0\n",
      "_________________________________________________________________\n"
     ]
    }
   ],
   "source": [
    "# summary your model\n",
    "model.summary()"
   ]
  },
  {
   "cell_type": "code",
   "execution_count": null,
   "id": "823101df",
   "metadata": {},
   "outputs": [],
   "source": [
    "# View tensorboard callback on google colab\n",
    "%load_ext tensorboard\n",
    "%tensorboard --logdir logs"
   ]
  },
  {
   "cell_type": "code",
   "execution_count": 142,
   "id": "6d8cdd37",
   "metadata": {},
   "outputs": [],
   "source": [
    "import helper_functions as hp"
   ]
  },
  {
   "cell_type": "code",
   "execution_count": 143,
   "id": "2279d4f5",
   "metadata": {},
   "outputs": [
    {
     "data": {
      "image/png": "[encoded data removed]",
      "text/plain": [
       "<Figure size 432x288 with 1 Axes>"
      ]
     },
     "metadata": {
      "needs_background": "light"
     },
     "output_type": "display_data"
    },
    {
     "data": {
      "image/png": "[encoded data removed]",
      "text/plain": [
       "<Figure size 432x288 with 1 Axes>"
      ]
     },
     "metadata": {
      "needs_background": "light"
     },
     "output_type": "display_data"
    }
   ],
   "source": [
    "hp.plot_loss_curves(history)"
   ]
  },
  {
   "cell_type": "markdown",
   "id": "99f8a350",
   "metadata": {},
   "source": [
    "## Retrieve the trained word embeddings and save them to disk\n",
    "Next, retrieve the word embeddings learned during training. The embeddings are weights of the Embedding layer in the model. The weights matrix is of shape `(vocab_size, embedding_dimension)`.\n",
    "\n",
    "Obtain the weights from the model using `get_layer()` and `get_weights()`. The get_vocabulary() function provides the vocabulary to build a metadata file with one token per line."
   ]
  },
  {
   "cell_type": "code",
   "execution_count": 146,
   "id": "c0f473d8",
   "metadata": {},
   "outputs": [],
   "source": [
    "weights = model.get_layer('embedding').get_weights()[0]\n",
    "vocab = vectorize_layer.get_vocabulary()"
   ]
  },
  {
   "cell_type": "markdown",
   "id": "340b5a67",
   "metadata": {},
   "source": [
    "Write the weights to disk. To use the Embedding Projector, you will upload two files in tab separated format: a file of vectors (containing the embedding), and a file of meta data (containing the words)."
   ]
  },
  {
   "cell_type": "code",
   "execution_count": 150,
   "id": "e1891d58",
   "metadata": {},
   "outputs": [],
   "source": [
    "out_v = io.open('vectors.tsv','w',encoding = 'utf-8')\n",
    "out_m = io.open('metadata.tsv','w',encoding = 'utf-8')\n",
    "for index,word in enumerate(vocab):\n",
    "    if index == 0:\n",
    "        continue # skip 0, it's padding\n",
    "    vec = weights[index]\n",
    "    out_v.write('\\t'.join([str(x) for x in vec]) + \"\\n\")\n",
    "    out_m.write(word + '\\n')\n",
    "out_v.close()\n",
    "out_m.close()"
   ]
  },
  {
   "cell_type": "markdown",
   "id": "5ce5113c",
   "metadata": {},
   "source": [
    "## Visualize the embeddings\n",
    "To visualize the embeddings, upload them to the embedding projector.\n",
    "\n",
    "Open the Embedding Projector (this can also run in a local TensorBoard instance).\n",
    "\n",
    "Click on \"Load data\".\n",
    "\n",
    "Upload the two files you created above: vecs.tsv and meta.tsv.\n",
    "\n",
    "The embeddings you have trained will now be displayed. You can search for words to find their closest neighbors. For example, try searching for \"beautiful\". You may see neighbors like \"wonderful\"."
   ]
  },
  {
   "cell_type": "markdown",
   "id": "0f3d1c71",
   "metadata": {},
   "source": [
    "## Reference\n",
    "\n",
    "https://www.tensorflow.org/api_docs/python/tf/keras/layers/TextVectorization\n",
    "\n",
    "https://www.tensorflow.org/api_docs/python/tf/keras/layers/Embedding\n",
    "\n",
    "https://www.tensorflow.org/tutorials/load_data/text\n",
    "\n",
    "https://www.tensorflow.org/tutorials/keras/text_classification\n",
    "\n",
    "https://www.tensorflow.org/text/tutorials/text_classification_rnn"
   ]
  },
  {
   "cell_type": "code",
   "execution_count": null,
   "id": "ff6a0105",
   "metadata": {},
   "outputs": [],
   "source": []
  }
 ],
 "metadata": {
  "kernelspec": {
   "display_name": "Python 3",
   "language": "python",
   "name": "python3"
  },
  "language_info": {
   "codemirror_mode": {
    "name": "ipython",
    "version": 3
   },
   "file_extension": ".py",
   "mimetype": "text/x-python",
   "name": "python",
   "nbconvert_exporter": "python",
   "pygments_lexer": "ipython3",
   "version": "3.8.8"
  }
 },
 "nbformat": 4,
 "nbformat_minor": 5
}
