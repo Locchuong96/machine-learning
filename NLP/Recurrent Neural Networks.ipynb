{
 "cells": [
  {
   "cell_type": "markdown",
   "id": "2c02ffea",
   "metadata": {},
   "source": [
    "### Content\n",
    "\n",
    "Lecture Outline\n",
    "\n",
    "- Introduction\n",
    "- [Sequence modeling](#Sequence-modeling)\n",
    "- [Neurons with recurrence](#[Neurons-with-recurrence)\n",
    "- Recurrent neural networks\n",
    "- RNN intuition\n",
    "- Unfolding RNNs- RNNs from scratch- Design criteria for sequential modelling- Word prediction example\n",
    "- Backpropagation through time\n",
    "- Gradient issues\n",
    "- Long short term memory (LSTM)\n",
    "- RNN applications\n",
    "- Attention\n",
    "- Summary"
   ]
  },
  {
   "cell_type": "code",
   "execution_count": null,
   "id": "9e8008b0",
   "metadata": {},
   "outputs": [],
   "source": []
  },
  {
   "cell_type": "markdown",
   "id": "6778252b",
   "metadata": {},
   "source": [
    "### References\n",
    "\n",
    "[MIT 6.S191 (2021): Recurrent Neural Networks](https://www.youtube.com/watch?v=qjrad0V0uJE)\n",
    "\n",
    "[Building your Recurrent Neural Network - Step by Step](https://datascience-enthusiast.com/DL/Building_a_Recurrent_Neural_Network-Step_by_Step_v1.html)"
   ]
  }
 ],
 "metadata": {
  "kernelspec": {
   "display_name": "Python 3",
   "language": "python",
   "name": "python3"
  },
  "language_info": {
   "codemirror_mode": {
    "name": "ipython",
    "version": 3
   },
   "file_extension": ".py",
   "mimetype": "text/x-python",
   "name": "python",
   "nbconvert_exporter": "python",
   "pygments_lexer": "ipython3",
   "version": "3.8.8"
  }
 },
 "nbformat": 4,
 "nbformat_minor": 5
}
