{
 "cells": [
  {
   "cell_type": "markdown",
   "id": "2c02ffea",
   "metadata": {},
   "source": [
    "### Content"
   ]
  },
  {
   "cell_type": "markdown",
   "id": "077b651c",
   "metadata": {},
   "source": [
    "### Recurrent neural networks\n",
    "\n",
    "Input Vector (n,1): $x$ \n",
    "\n",
    "Update hidden state (m,1): $h_{t}$: $tanh(W^{T}_{hh}*h_{t-1} + W^{T}_{xh}*x_{t})$\n",
    "\n",
    "with $W^{T}_{hh}$ (m,m) and $W^{T}_{xh}$ (n,1)\n",
    "\n",
    "Output Vector $y_{t} = W^{T}_{hy} h_{t}$ with $W^{T}_{hy}$ (d,m)\n",
    "\n",
    "Loss $L  = \\sum{L_{i}}$\n",
    "\n",
    "### Design criteria for sequential modelling\n",
    "\n",
    "**Sequence Modeling: Design Criteria**\n",
    "\n",
    "To model sequences, we need to:\n",
    "\n",
    "1. Handle **variable-length** sequences\n",
    "\n",
    "2. Track **long-term** dependencies\n",
    "\n",
    "3. Maintain information about **order**\n",
    "\n",
    "4. **Share parameters** across the sequence\n",
    "\n",
    "### RNNs from scratch\n",
    "\n",
    "RNN implementation in tensorflow `tf.keras.layers.SimpleRNN(rnn_units)`"
   ]
  },
  {
   "cell_type": "markdown",
   "id": "6778252b",
   "metadata": {},
   "source": [
    "### References\n",
    "\n",
    "[1] [The Unreasonable Effectiveness of Recurrent Neural Networks](http://karpathy.github.io/2015/05/21/rnn-effectiveness/)\n",
    "\n",
    "[2] [Building your Recurrent Neural Network - Step by Step](https://datascience-enthusiast.com/DL/Building_a_Recurrent_Neural_Network-Step_by_Step_v1.html)\n",
    "\n",
    "[3][](https://datascience-enthusiast.com/DL/Emojify.html)\n",
    "\n",
    "[Stack Overflow answer to calculate the number of parameters in an LSTM cell](https://stackoverflow.com/questions/38080035/how-to-calculate-the-number-of-parameters-of-an-lstm-network)\n",
    "\n",
    "[Calculating number of parameters in a LSTM unit and layer](https://medium.com/@priyadarshi.cse/calculating-number-of-parameters-in-a-lstm-unit-layer-7e491978e1e4)"
   ]
  },
  {
   "cell_type": "code",
   "execution_count": null,
   "id": "9cadc2f6",
   "metadata": {},
   "outputs": [],
   "source": []
  }
 ],
 "metadata": {
  "kernelspec": {
   "display_name": "Python 3",
   "language": "python",
   "name": "python3"
  },
  "language_info": {
   "codemirror_mode": {
    "name": "ipython",
    "version": 3
   },
   "file_extension": ".py",
   "mimetype": "text/x-python",
   "name": "python",
   "nbconvert_exporter": "python",
   "pygments_lexer": "ipython3",
   "version": "3.8.8"
  }
 },
 "nbformat": 4,
 "nbformat_minor": 5
}
