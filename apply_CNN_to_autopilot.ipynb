{
  "cells": [
    {
      "cell_type": "markdown",
      "metadata": {
        "id": "view-in-github",
        "colab_type": "text"
      },
      "source": [
        "<a href=\"https://colab.research.google.com/github/Locchuong96/Machine-Learning/blob/main/apply_CNN_to_autopilot.ipynb\" target=\"_parent\"><img src=\"https://colab.research.google.com/assets/colab-badge.svg\" alt=\"Open In Colab\"/></a>"
      ]
    },
    {
      "cell_type": "markdown",
      "metadata": {
        "id": "x5YZJnLXHtLo"
      },
      "source": [
        "https://github.com/udacity/CarND-Behavioral-Cloning-P3"
      ]
    },
    {
      "cell_type": "markdown",
      "metadata": {
        "id": "Fwc5yD-Zpqzx"
      },
      "source": [
        "### train the steering with input is center image"
      ]
    },
    {
      "cell_type": "code",
      "execution_count": 2,
      "metadata": {
        "colab": {
          "base_uri": "https://localhost:8080/"
        },
        "id": "xpySTJcL06qH",
        "outputId": "e95552f4-21e7-462c-f045-f106a2f743fa"
      },
      "outputs": [
        {
          "output_type": "stream",
          "name": "stdout",
          "text": [
            "Drive already mounted at /content/drive; to attempt to forcibly remount, call drive.mount(\"/content/drive\", force_remount=True).\n"
          ]
        }
      ],
      "source": [
        "from google.colab import drive\n",
        "drive.mount('/content/drive')"
      ]
    },
    {
      "cell_type": "code",
      "execution_count": null,
      "metadata": {
        "colab": {
          "base_uri": "https://localhost:8080/"
        },
        "id": "2son3TOD1DLX",
        "outputId": "83b809c3-0f64-4300-f540-aa9c84777cd6"
      },
      "outputs": [
        {
          "name": "stdout",
          "output_type": "stream",
          "text": [
            "Archive:  /content/drive/MyDrive/train_data.zip\n",
            "replace /content/drive/MyDrive/train_data/driving_log.csv? [y]es, [n]o, [A]ll, [N]one, [r]ename: n\n",
            "replace /content/drive/MyDrive/train_data/IMG/center_2022_03_06_17_12_32_776.jpg? [y]es, [n]o, [A]ll, [N]one, [r]ename: "
          ]
        }
      ],
      "source": [
        "# Unzip the data\n",
        "!unzip /content/drive/MyDrive/train_data.zip -d /content/drive/MyDrive/train_data"
      ]
    },
    {
      "cell_type": "code",
      "execution_count": 1,
      "metadata": {
        "id": "1FYIGqOYpziP"
      },
      "outputs": [],
      "source": [
        "import pandas as pd \n",
        "import numpy as np \n",
        "import tensorflow as tf \n",
        "import matplotlib.pyplot as plt "
      ]
    },
    {
      "cell_type": "code",
      "execution_count": 3,
      "metadata": {
        "colab": {
          "base_uri": "https://localhost:8080/",
          "height": 270
        },
        "id": "wjE_lMcrqBj-",
        "outputId": "52d5bd54-83c1-4901-b6b5-f7b111e6f70a"
      },
      "outputs": [
        {
          "output_type": "execute_result",
          "data": {
            "text/html": [
              "\n",
              "  <div id=\"df-06e44be1-8a22-4810-a70a-6e6460f8ec91\">\n",
              "    <div class=\"colab-df-container\">\n",
              "      <div>\n",
              "<style scoped>\n",
              "    .dataframe tbody tr th:only-of-type {\n",
              "        vertical-align: middle;\n",
              "    }\n",
              "\n",
              "    .dataframe tbody tr th {\n",
              "        vertical-align: top;\n",
              "    }\n",
              "\n",
              "    .dataframe thead th {\n",
              "        text-align: right;\n",
              "    }\n",
              "</style>\n",
              "<table border=\"1\" class=\"dataframe\">\n",
              "  <thead>\n",
              "    <tr style=\"text-align: right;\">\n",
              "      <th></th>\n",
              "      <th>center</th>\n",
              "      <th>left</th>\n",
              "      <th>right</th>\n",
              "      <th>steering</th>\n",
              "      <th>throttle</th>\n",
              "      <th>reverse</th>\n",
              "      <th>speed</th>\n",
              "    </tr>\n",
              "  </thead>\n",
              "  <tbody>\n",
              "    <tr>\n",
              "      <th>0</th>\n",
              "      <td>D:\\ML\\beta_simulator_windows\\train_data\\IMG\\ce...</td>\n",
              "      <td>D:\\ML\\beta_simulator_windows\\train_data\\IMG\\le...</td>\n",
              "      <td>D:\\ML\\beta_simulator_windows\\train_data\\IMG\\ri...</td>\n",
              "      <td>0.0</td>\n",
              "      <td>0.0</td>\n",
              "      <td>0</td>\n",
              "      <td>0.000008</td>\n",
              "    </tr>\n",
              "    <tr>\n",
              "      <th>1</th>\n",
              "      <td>D:\\ML\\beta_simulator_windows\\train_data\\IMG\\ce...</td>\n",
              "      <td>D:\\ML\\beta_simulator_windows\\train_data\\IMG\\le...</td>\n",
              "      <td>D:\\ML\\beta_simulator_windows\\train_data\\IMG\\ri...</td>\n",
              "      <td>0.0</td>\n",
              "      <td>0.0</td>\n",
              "      <td>0</td>\n",
              "      <td>0.000009</td>\n",
              "    </tr>\n",
              "    <tr>\n",
              "      <th>2</th>\n",
              "      <td>D:\\ML\\beta_simulator_windows\\train_data\\IMG\\ce...</td>\n",
              "      <td>D:\\ML\\beta_simulator_windows\\train_data\\IMG\\le...</td>\n",
              "      <td>D:\\ML\\beta_simulator_windows\\train_data\\IMG\\ri...</td>\n",
              "      <td>0.0</td>\n",
              "      <td>0.0</td>\n",
              "      <td>0</td>\n",
              "      <td>0.000010</td>\n",
              "    </tr>\n",
              "    <tr>\n",
              "      <th>3</th>\n",
              "      <td>D:\\ML\\beta_simulator_windows\\train_data\\IMG\\ce...</td>\n",
              "      <td>D:\\ML\\beta_simulator_windows\\train_data\\IMG\\le...</td>\n",
              "      <td>D:\\ML\\beta_simulator_windows\\train_data\\IMG\\ri...</td>\n",
              "      <td>0.0</td>\n",
              "      <td>0.0</td>\n",
              "      <td>0</td>\n",
              "      <td>0.000012</td>\n",
              "    </tr>\n",
              "    <tr>\n",
              "      <th>4</th>\n",
              "      <td>D:\\ML\\beta_simulator_windows\\train_data\\IMG\\ce...</td>\n",
              "      <td>D:\\ML\\beta_simulator_windows\\train_data\\IMG\\le...</td>\n",
              "      <td>D:\\ML\\beta_simulator_windows\\train_data\\IMG\\ri...</td>\n",
              "      <td>0.0</td>\n",
              "      <td>0.0</td>\n",
              "      <td>0</td>\n",
              "      <td>0.000013</td>\n",
              "    </tr>\n",
              "  </tbody>\n",
              "</table>\n",
              "</div>\n",
              "      <button class=\"colab-df-convert\" onclick=\"convertToInteractive('df-06e44be1-8a22-4810-a70a-6e6460f8ec91')\"\n",
              "              title=\"Convert this dataframe to an interactive table.\"\n",
              "              style=\"display:none;\">\n",
              "        \n",
              "  <svg xmlns=\"http://www.w3.org/2000/svg\" height=\"24px\"viewBox=\"0 0 24 24\"\n",
              "       width=\"24px\">\n",
              "    <path d=\"M0 0h24v24H0V0z\" fill=\"none\"/>\n",
              "    <path d=\"M18.56 5.44l.94 2.06.94-2.06 2.06-.94-2.06-.94-.94-2.06-.94 2.06-2.06.94zm-11 1L8.5 8.5l.94-2.06 2.06-.94-2.06-.94L8.5 2.5l-.94 2.06-2.06.94zm10 10l.94 2.06.94-2.06 2.06-.94-2.06-.94-.94-2.06-.94 2.06-2.06.94z\"/><path d=\"M17.41 7.96l-1.37-1.37c-.4-.4-.92-.59-1.43-.59-.52 0-1.04.2-1.43.59L10.3 9.45l-7.72 7.72c-.78.78-.78 2.05 0 2.83L4 21.41c.39.39.9.59 1.41.59.51 0 1.02-.2 1.41-.59l7.78-7.78 2.81-2.81c.8-.78.8-2.07 0-2.86zM5.41 20L4 18.59l7.72-7.72 1.47 1.35L5.41 20z\"/>\n",
              "  </svg>\n",
              "      </button>\n",
              "      \n",
              "  <style>\n",
              "    .colab-df-container {\n",
              "      display:flex;\n",
              "      flex-wrap:wrap;\n",
              "      gap: 12px;\n",
              "    }\n",
              "\n",
              "    .colab-df-convert {\n",
              "      background-color: #E8F0FE;\n",
              "      border: none;\n",
              "      border-radius: 50%;\n",
              "      cursor: pointer;\n",
              "      display: none;\n",
              "      fill: #1967D2;\n",
              "      height: 32px;\n",
              "      padding: 0 0 0 0;\n",
              "      width: 32px;\n",
              "    }\n",
              "\n",
              "    .colab-df-convert:hover {\n",
              "      background-color: #E2EBFA;\n",
              "      box-shadow: 0px 1px 2px rgba(60, 64, 67, 0.3), 0px 1px 3px 1px rgba(60, 64, 67, 0.15);\n",
              "      fill: #174EA6;\n",
              "    }\n",
              "\n",
              "    [theme=dark] .colab-df-convert {\n",
              "      background-color: #3B4455;\n",
              "      fill: #D2E3FC;\n",
              "    }\n",
              "\n",
              "    [theme=dark] .colab-df-convert:hover {\n",
              "      background-color: #434B5C;\n",
              "      box-shadow: 0px 1px 3px 1px rgba(0, 0, 0, 0.15);\n",
              "      filter: drop-shadow(0px 1px 2px rgba(0, 0, 0, 0.3));\n",
              "      fill: #FFFFFF;\n",
              "    }\n",
              "  </style>\n",
              "\n",
              "      <script>\n",
              "        const buttonEl =\n",
              "          document.querySelector('#df-06e44be1-8a22-4810-a70a-6e6460f8ec91 button.colab-df-convert');\n",
              "        buttonEl.style.display =\n",
              "          google.colab.kernel.accessAllowed ? 'block' : 'none';\n",
              "\n",
              "        async function convertToInteractive(key) {\n",
              "          const element = document.querySelector('#df-06e44be1-8a22-4810-a70a-6e6460f8ec91');\n",
              "          const dataTable =\n",
              "            await google.colab.kernel.invokeFunction('convertToInteractive',\n",
              "                                                     [key], {});\n",
              "          if (!dataTable) return;\n",
              "\n",
              "          const docLinkHtml = 'Like what you see? Visit the ' +\n",
              "            '<a target=\"_blank\" href=https://colab.research.google.com/notebooks/data_table.ipynb>data table notebook</a>'\n",
              "            + ' to learn more about interactive tables.';\n",
              "          element.innerHTML = '';\n",
              "          dataTable['output_type'] = 'display_data';\n",
              "          await google.colab.output.renderOutput(dataTable, element);\n",
              "          const docLink = document.createElement('div');\n",
              "          docLink.innerHTML = docLinkHtml;\n",
              "          element.appendChild(docLink);\n",
              "        }\n",
              "      </script>\n",
              "    </div>\n",
              "  </div>\n",
              "  "
            ],
            "text/plain": [
              "                                              center  \\\n",
              "0  D:\\ML\\beta_simulator_windows\\train_data\\IMG\\ce...   \n",
              "1  D:\\ML\\beta_simulator_windows\\train_data\\IMG\\ce...   \n",
              "2  D:\\ML\\beta_simulator_windows\\train_data\\IMG\\ce...   \n",
              "3  D:\\ML\\beta_simulator_windows\\train_data\\IMG\\ce...   \n",
              "4  D:\\ML\\beta_simulator_windows\\train_data\\IMG\\ce...   \n",
              "\n",
              "                                                left  \\\n",
              "0  D:\\ML\\beta_simulator_windows\\train_data\\IMG\\le...   \n",
              "1  D:\\ML\\beta_simulator_windows\\train_data\\IMG\\le...   \n",
              "2  D:\\ML\\beta_simulator_windows\\train_data\\IMG\\le...   \n",
              "3  D:\\ML\\beta_simulator_windows\\train_data\\IMG\\le...   \n",
              "4  D:\\ML\\beta_simulator_windows\\train_data\\IMG\\le...   \n",
              "\n",
              "                                               right  steering  throttle  \\\n",
              "0  D:\\ML\\beta_simulator_windows\\train_data\\IMG\\ri...       0.0       0.0   \n",
              "1  D:\\ML\\beta_simulator_windows\\train_data\\IMG\\ri...       0.0       0.0   \n",
              "2  D:\\ML\\beta_simulator_windows\\train_data\\IMG\\ri...       0.0       0.0   \n",
              "3  D:\\ML\\beta_simulator_windows\\train_data\\IMG\\ri...       0.0       0.0   \n",
              "4  D:\\ML\\beta_simulator_windows\\train_data\\IMG\\ri...       0.0       0.0   \n",
              "\n",
              "   reverse     speed  \n",
              "0        0  0.000008  \n",
              "1        0  0.000009  \n",
              "2        0  0.000010  \n",
              "3        0  0.000012  \n",
              "4        0  0.000013  "
            ]
          },
          "metadata": {},
          "execution_count": 3
        }
      ],
      "source": [
        "# Get the dataframe\n",
        "df = pd.read_csv('/content/drive/MyDrive/train_data/driving_log.csv',names = ['center','left','right','steering','throttle','reverse','speed'])\n",
        "df.head()"
      ]
    },
    {
      "cell_type": "code",
      "execution_count": 4,
      "metadata": {
        "colab": {
          "base_uri": "https://localhost:8080/"
        },
        "id": "sM6fILZ9qKZO",
        "outputId": "b6d8ef81-fc25-4ebd-9d51-9b198a0286ce"
      },
      "outputs": [
        {
          "output_type": "stream",
          "name": "stdout",
          "text": [
            "We have 3298 center images\n"
          ]
        }
      ],
      "source": [
        "# Get the directories of image \n",
        "X_dir = df['center'].values\n",
        "X_dir = list(X_dir)\n",
        "print(f'We have {len(X_dir)} center images')"
      ]
    },
    {
      "cell_type": "code",
      "execution_count": 5,
      "metadata": {
        "colab": {
          "base_uri": "https://localhost:8080/",
          "height": 35
        },
        "id": "kP3y21i7tW0J",
        "outputId": "80a059c8-156b-4260-b730-7968de409f60"
      },
      "outputs": [
        {
          "output_type": "execute_result",
          "data": {
            "application/vnd.google.colaboratory.intrinsic+json": {
              "type": "string"
            },
            "text/plain": [
              "'/content/drive/MyDrive/train_data/IMG/center_2022_03_06_17_12_32_776.jpg'"
            ]
          },
          "metadata": {},
          "execution_count": 5
        }
      ],
      "source": [
        "path = '/content/drive/MyDrive/train_data/IMG/' + X_dir[0].split('\\\\')[-1]\n",
        "path"
      ]
    },
    {
      "cell_type": "code",
      "execution_count": 6,
      "metadata": {
        "colab": {
          "base_uri": "https://localhost:8080/"
        },
        "id": "yGGgOy8Tt6XH",
        "outputId": "377f3e76-a751-41ec-d5c3-3615000edee1"
      },
      "outputs": [
        {
          "output_type": "execute_result",
          "data": {
            "text/plain": [
              "['/content/drive/MyDrive/train_data/IMG/center_2022_03_06_17_12_32_776.jpg',\n",
              " '/content/drive/MyDrive/train_data/IMG/center_2022_03_06_17_12_32_855.jpg',\n",
              " '/content/drive/MyDrive/train_data/IMG/center_2022_03_06_17_12_32_945.jpg',\n",
              " '/content/drive/MyDrive/train_data/IMG/center_2022_03_06_17_12_33_019.jpg',\n",
              " '/content/drive/MyDrive/train_data/IMG/center_2022_03_06_17_12_33_096.jpg',\n",
              " '/content/drive/MyDrive/train_data/IMG/center_2022_03_06_17_12_33_211.jpg',\n",
              " '/content/drive/MyDrive/train_data/IMG/center_2022_03_06_17_12_33_318.jpg',\n",
              " '/content/drive/MyDrive/train_data/IMG/center_2022_03_06_17_12_33_429.jpg',\n",
              " '/content/drive/MyDrive/train_data/IMG/center_2022_03_06_17_12_33_516.jpg',\n",
              " '/content/drive/MyDrive/train_data/IMG/center_2022_03_06_17_12_33_588.jpg',\n",
              " '/content/drive/MyDrive/train_data/IMG/center_2022_03_06_17_12_33_679.jpg',\n",
              " '/content/drive/MyDrive/train_data/IMG/center_2022_03_06_17_12_33_771.jpg',\n",
              " '/content/drive/MyDrive/train_data/IMG/center_2022_03_06_17_12_33_867.jpg',\n",
              " '/content/drive/MyDrive/train_data/IMG/center_2022_03_06_17_12_33_969.jpg',\n",
              " '/content/drive/MyDrive/train_data/IMG/center_2022_03_06_17_12_34_060.jpg',\n",
              " '/content/drive/MyDrive/train_data/IMG/center_2022_03_06_17_12_34_150.jpg',\n",
              " '/content/drive/MyDrive/train_data/IMG/center_2022_03_06_17_12_34_238.jpg',\n",
              " '/content/drive/MyDrive/train_data/IMG/center_2022_03_06_17_12_34_333.jpg',\n",
              " '/content/drive/MyDrive/train_data/IMG/center_2022_03_06_17_12_34_426.jpg',\n",
              " '/content/drive/MyDrive/train_data/IMG/center_2022_03_06_17_12_34_522.jpg',\n",
              " '/content/drive/MyDrive/train_data/IMG/center_2022_03_06_17_12_34_590.jpg',\n",
              " '/content/drive/MyDrive/train_data/IMG/center_2022_03_06_17_12_34_657.jpg',\n",
              " '/content/drive/MyDrive/train_data/IMG/center_2022_03_06_17_12_34_742.jpg',\n",
              " '/content/drive/MyDrive/train_data/IMG/center_2022_03_06_17_12_34_840.jpg',\n",
              " '/content/drive/MyDrive/train_data/IMG/center_2022_03_06_17_12_34_934.jpg',\n",
              " '/content/drive/MyDrive/train_data/IMG/center_2022_03_06_17_12_35_001.jpg',\n",
              " '/content/drive/MyDrive/train_data/IMG/center_2022_03_06_17_12_35_071.jpg',\n",
              " '/content/drive/MyDrive/train_data/IMG/center_2022_03_06_17_12_35_157.jpg',\n",
              " '/content/drive/MyDrive/train_data/IMG/center_2022_03_06_17_12_35_234.jpg',\n",
              " '/content/drive/MyDrive/train_data/IMG/center_2022_03_06_17_12_35_304.jpg',\n",
              " '/content/drive/MyDrive/train_data/IMG/center_2022_03_06_17_12_35_373.jpg',\n",
              " '/content/drive/MyDrive/train_data/IMG/center_2022_03_06_17_12_35_452.jpg',\n",
              " '/content/drive/MyDrive/train_data/IMG/center_2022_03_06_17_12_35_522.jpg',\n",
              " '/content/drive/MyDrive/train_data/IMG/center_2022_03_06_17_12_35_590.jpg',\n",
              " '/content/drive/MyDrive/train_data/IMG/center_2022_03_06_17_12_35_661.jpg',\n",
              " '/content/drive/MyDrive/train_data/IMG/center_2022_03_06_17_12_35_729.jpg',\n",
              " '/content/drive/MyDrive/train_data/IMG/center_2022_03_06_17_12_35_799.jpg',\n",
              " '/content/drive/MyDrive/train_data/IMG/center_2022_03_06_17_12_35_872.jpg',\n",
              " '/content/drive/MyDrive/train_data/IMG/center_2022_03_06_17_12_35_944.jpg',\n",
              " '/content/drive/MyDrive/train_data/IMG/center_2022_03_06_17_12_36_016.jpg',\n",
              " '/content/drive/MyDrive/train_data/IMG/center_2022_03_06_17_12_36_080.jpg',\n",
              " '/content/drive/MyDrive/train_data/IMG/center_2022_03_06_17_12_36_144.jpg',\n",
              " '/content/drive/MyDrive/train_data/IMG/center_2022_03_06_17_12_36_225.jpg',\n",
              " '/content/drive/MyDrive/train_data/IMG/center_2022_03_06_17_12_36_292.jpg',\n",
              " '/content/drive/MyDrive/train_data/IMG/center_2022_03_06_17_12_36_375.jpg',\n",
              " '/content/drive/MyDrive/train_data/IMG/center_2022_03_06_17_12_36_461.jpg',\n",
              " '/content/drive/MyDrive/train_data/IMG/center_2022_03_06_17_12_36_530.jpg',\n",
              " '/content/drive/MyDrive/train_data/IMG/center_2022_03_06_17_12_36_614.jpg',\n",
              " '/content/drive/MyDrive/train_data/IMG/center_2022_03_06_17_12_36_702.jpg',\n",
              " '/content/drive/MyDrive/train_data/IMG/center_2022_03_06_17_12_36_795.jpg',\n",
              " '/content/drive/MyDrive/train_data/IMG/center_2022_03_06_17_12_36_878.jpg',\n",
              " '/content/drive/MyDrive/train_data/IMG/center_2022_03_06_17_12_36_965.jpg',\n",
              " '/content/drive/MyDrive/train_data/IMG/center_2022_03_06_17_12_37_036.jpg',\n",
              " '/content/drive/MyDrive/train_data/IMG/center_2022_03_06_17_12_37_119.jpg',\n",
              " '/content/drive/MyDrive/train_data/IMG/center_2022_03_06_17_12_37_225.jpg',\n",
              " '/content/drive/MyDrive/train_data/IMG/center_2022_03_06_17_12_37_334.jpg',\n",
              " '/content/drive/MyDrive/train_data/IMG/center_2022_03_06_17_12_37_461.jpg',\n",
              " '/content/drive/MyDrive/train_data/IMG/center_2022_03_06_17_12_37_540.jpg',\n",
              " '/content/drive/MyDrive/train_data/IMG/center_2022_03_06_17_12_37_603.jpg',\n",
              " '/content/drive/MyDrive/train_data/IMG/center_2022_03_06_17_12_37_674.jpg',\n",
              " '/content/drive/MyDrive/train_data/IMG/center_2022_03_06_17_12_38_175.jpg',\n",
              " '/content/drive/MyDrive/train_data/IMG/center_2022_03_06_17_12_38_294.jpg',\n",
              " '/content/drive/MyDrive/train_data/IMG/center_2022_03_06_17_12_38_404.jpg',\n",
              " '/content/drive/MyDrive/train_data/IMG/center_2022_03_06_17_12_38_503.jpg',\n",
              " '/content/drive/MyDrive/train_data/IMG/center_2022_03_06_17_12_38_597.jpg',\n",
              " '/content/drive/MyDrive/train_data/IMG/center_2022_03_06_17_12_38_677.jpg',\n",
              " '/content/drive/MyDrive/train_data/IMG/center_2022_03_06_17_12_38_764.jpg',\n",
              " '/content/drive/MyDrive/train_data/IMG/center_2022_03_06_17_12_38_858.jpg',\n",
              " '/content/drive/MyDrive/train_data/IMG/center_2022_03_06_17_12_38_948.jpg',\n",
              " '/content/drive/MyDrive/train_data/IMG/center_2022_03_06_17_12_39_041.jpg',\n",
              " '/content/drive/MyDrive/train_data/IMG/center_2022_03_06_17_12_39_128.jpg',\n",
              " '/content/drive/MyDrive/train_data/IMG/center_2022_03_06_17_12_39_226.jpg',\n",
              " '/content/drive/MyDrive/train_data/IMG/center_2022_03_06_17_12_39_296.jpg',\n",
              " '/content/drive/MyDrive/train_data/IMG/center_2022_03_06_17_12_39_386.jpg',\n",
              " '/content/drive/MyDrive/train_data/IMG/center_2022_03_06_17_12_39_495.jpg',\n",
              " '/content/drive/MyDrive/train_data/IMG/center_2022_03_06_17_12_39_578.jpg',\n",
              " '/content/drive/MyDrive/train_data/IMG/center_2022_03_06_17_12_39_674.jpg',\n",
              " '/content/drive/MyDrive/train_data/IMG/center_2022_03_06_17_12_39_749.jpg',\n",
              " '/content/drive/MyDrive/train_data/IMG/center_2022_03_06_17_12_39_841.jpg',\n",
              " '/content/drive/MyDrive/train_data/IMG/center_2022_03_06_17_12_39_914.jpg',\n",
              " '/content/drive/MyDrive/train_data/IMG/center_2022_03_06_17_12_39_986.jpg',\n",
              " '/content/drive/MyDrive/train_data/IMG/center_2022_03_06_17_12_40_075.jpg',\n",
              " '/content/drive/MyDrive/train_data/IMG/center_2022_03_06_17_12_40_156.jpg',\n",
              " '/content/drive/MyDrive/train_data/IMG/center_2022_03_06_17_12_40_236.jpg',\n",
              " '/content/drive/MyDrive/train_data/IMG/center_2022_03_06_17_12_40_307.jpg',\n",
              " '/content/drive/MyDrive/train_data/IMG/center_2022_03_06_17_12_40_387.jpg',\n",
              " '/content/drive/MyDrive/train_data/IMG/center_2022_03_06_17_12_40_469.jpg',\n",
              " '/content/drive/MyDrive/train_data/IMG/center_2022_03_06_17_12_40_553.jpg',\n",
              " '/content/drive/MyDrive/train_data/IMG/center_2022_03_06_17_12_40_635.jpg',\n",
              " '/content/drive/MyDrive/train_data/IMG/center_2022_03_06_17_12_40_722.jpg',\n",
              " '/content/drive/MyDrive/train_data/IMG/center_2022_03_06_17_12_40_802.jpg',\n",
              " '/content/drive/MyDrive/train_data/IMG/center_2022_03_06_17_12_40_888.jpg',\n",
              " '/content/drive/MyDrive/train_data/IMG/center_2022_03_06_17_12_40_964.jpg',\n",
              " '/content/drive/MyDrive/train_data/IMG/center_2022_03_06_17_12_41_038.jpg',\n",
              " '/content/drive/MyDrive/train_data/IMG/center_2022_03_06_17_12_41_120.jpg',\n",
              " '/content/drive/MyDrive/train_data/IMG/center_2022_03_06_17_12_41_187.jpg',\n",
              " '/content/drive/MyDrive/train_data/IMG/center_2022_03_06_17_12_41_271.jpg',\n",
              " '/content/drive/MyDrive/train_data/IMG/center_2022_03_06_17_12_41_350.jpg',\n",
              " '/content/drive/MyDrive/train_data/IMG/center_2022_03_06_17_12_41_428.jpg',\n",
              " '/content/drive/MyDrive/train_data/IMG/center_2022_03_06_17_12_41_511.jpg',\n",
              " '/content/drive/MyDrive/train_data/IMG/center_2022_03_06_17_12_41_582.jpg',\n",
              " '/content/drive/MyDrive/train_data/IMG/center_2022_03_06_17_12_41_653.jpg',\n",
              " '/content/drive/MyDrive/train_data/IMG/center_2022_03_06_17_12_41_722.jpg',\n",
              " '/content/drive/MyDrive/train_data/IMG/center_2022_03_06_17_12_41_796.jpg',\n",
              " '/content/drive/MyDrive/train_data/IMG/center_2022_03_06_17_12_41_868.jpg',\n",
              " '/content/drive/MyDrive/train_data/IMG/center_2022_03_06_17_12_41_943.jpg',\n",
              " '/content/drive/MyDrive/train_data/IMG/center_2022_03_06_17_12_42_020.jpg',\n",
              " '/content/drive/MyDrive/train_data/IMG/center_2022_03_06_17_12_42_096.jpg',\n",
              " '/content/drive/MyDrive/train_data/IMG/center_2022_03_06_17_12_42_171.jpg',\n",
              " '/content/drive/MyDrive/train_data/IMG/center_2022_03_06_17_12_42_248.jpg',\n",
              " '/content/drive/MyDrive/train_data/IMG/center_2022_03_06_17_12_42_324.jpg',\n",
              " '/content/drive/MyDrive/train_data/IMG/center_2022_03_06_17_12_42_398.jpg',\n",
              " '/content/drive/MyDrive/train_data/IMG/center_2022_03_06_17_12_42_474.jpg',\n",
              " '/content/drive/MyDrive/train_data/IMG/center_2022_03_06_17_12_42_553.jpg',\n",
              " '/content/drive/MyDrive/train_data/IMG/center_2022_03_06_17_12_42_629.jpg',\n",
              " '/content/drive/MyDrive/train_data/IMG/center_2022_03_06_17_12_42_704.jpg',\n",
              " '/content/drive/MyDrive/train_data/IMG/center_2022_03_06_17_12_42_780.jpg',\n",
              " '/content/drive/MyDrive/train_data/IMG/center_2022_03_06_17_12_42_847.jpg',\n",
              " '/content/drive/MyDrive/train_data/IMG/center_2022_03_06_17_12_42_936.jpg',\n",
              " '/content/drive/MyDrive/train_data/IMG/center_2022_03_06_17_12_43_006.jpg',\n",
              " '/content/drive/MyDrive/train_data/IMG/center_2022_03_06_17_12_43_089.jpg',\n",
              " '/content/drive/MyDrive/train_data/IMG/center_2022_03_06_17_12_43_169.jpg',\n",
              " '/content/drive/MyDrive/train_data/IMG/center_2022_03_06_17_12_43_236.jpg',\n",
              " '/content/drive/MyDrive/train_data/IMG/center_2022_03_06_17_12_43_320.jpg',\n",
              " '/content/drive/MyDrive/train_data/IMG/center_2022_03_06_17_12_43_404.jpg',\n",
              " '/content/drive/MyDrive/train_data/IMG/center_2022_03_06_17_12_43_477.jpg',\n",
              " '/content/drive/MyDrive/train_data/IMG/center_2022_03_06_17_12_43_607.jpg',\n",
              " '/content/drive/MyDrive/train_data/IMG/center_2022_03_06_17_12_43_727.jpg',\n",
              " '/content/drive/MyDrive/train_data/IMG/center_2022_03_06_17_12_43_823.jpg',\n",
              " '/content/drive/MyDrive/train_data/IMG/center_2022_03_06_17_12_43_900.jpg',\n",
              " '/content/drive/MyDrive/train_data/IMG/center_2022_03_06_17_12_43_964.jpg',\n",
              " '/content/drive/MyDrive/train_data/IMG/center_2022_03_06_17_12_44_034.jpg',\n",
              " '/content/drive/MyDrive/train_data/IMG/center_2022_03_06_17_12_44_107.jpg',\n",
              " '/content/drive/MyDrive/train_data/IMG/center_2022_03_06_17_12_44_184.jpg',\n",
              " '/content/drive/MyDrive/train_data/IMG/center_2022_03_06_17_12_44_268.jpg',\n",
              " '/content/drive/MyDrive/train_data/IMG/center_2022_03_06_17_12_44_354.jpg',\n",
              " '/content/drive/MyDrive/train_data/IMG/center_2022_03_06_17_12_44_422.jpg',\n",
              " '/content/drive/MyDrive/train_data/IMG/center_2022_03_06_17_12_44_504.jpg',\n",
              " '/content/drive/MyDrive/train_data/IMG/center_2022_03_06_17_12_44_588.jpg',\n",
              " '/content/drive/MyDrive/train_data/IMG/center_2022_03_06_17_12_44_675.jpg',\n",
              " '/content/drive/MyDrive/train_data/IMG/center_2022_03_06_17_12_44_742.jpg',\n",
              " '/content/drive/MyDrive/train_data/IMG/center_2022_03_06_17_12_44_824.jpg',\n",
              " '/content/drive/MyDrive/train_data/IMG/center_2022_03_06_17_12_44_906.jpg',\n",
              " '/content/drive/MyDrive/train_data/IMG/center_2022_03_06_17_12_44_972.jpg',\n",
              " '/content/drive/MyDrive/train_data/IMG/center_2022_03_06_17_12_45_044.jpg',\n",
              " '/content/drive/MyDrive/train_data/IMG/center_2022_03_06_17_12_45_127.jpg',\n",
              " '/content/drive/MyDrive/train_data/IMG/center_2022_03_06_17_12_45_194.jpg',\n",
              " '/content/drive/MyDrive/train_data/IMG/center_2022_03_06_17_12_45_276.jpg',\n",
              " '/content/drive/MyDrive/train_data/IMG/center_2022_03_06_17_12_45_362.jpg',\n",
              " '/content/drive/MyDrive/train_data/IMG/center_2022_03_06_17_12_45_429.jpg',\n",
              " '/content/drive/MyDrive/train_data/IMG/center_2022_03_06_17_12_45_512.jpg',\n",
              " '/content/drive/MyDrive/train_data/IMG/center_2022_03_06_17_12_45_590.jpg',\n",
              " '/content/drive/MyDrive/train_data/IMG/center_2022_03_06_17_12_45_676.jpg',\n",
              " '/content/drive/MyDrive/train_data/IMG/center_2022_03_06_17_12_45_756.jpg',\n",
              " '/content/drive/MyDrive/train_data/IMG/center_2022_03_06_17_12_45_827.jpg',\n",
              " '/content/drive/MyDrive/train_data/IMG/center_2022_03_06_17_12_45_900.jpg',\n",
              " '/content/drive/MyDrive/train_data/IMG/center_2022_03_06_17_12_45_973.jpg',\n",
              " '/content/drive/MyDrive/train_data/IMG/center_2022_03_06_17_12_46_049.jpg',\n",
              " '/content/drive/MyDrive/train_data/IMG/center_2022_03_06_17_12_46_131.jpg',\n",
              " '/content/drive/MyDrive/train_data/IMG/center_2022_03_06_17_12_46_202.jpg',\n",
              " '/content/drive/MyDrive/train_data/IMG/center_2022_03_06_17_12_46_273.jpg',\n",
              " '/content/drive/MyDrive/train_data/IMG/center_2022_03_06_17_12_46_343.jpg',\n",
              " '/content/drive/MyDrive/train_data/IMG/center_2022_03_06_17_12_46_418.jpg',\n",
              " '/content/drive/MyDrive/train_data/IMG/center_2022_03_06_17_12_46_486.jpg',\n",
              " '/content/drive/MyDrive/train_data/IMG/center_2022_03_06_17_12_46_556.jpg',\n",
              " '/content/drive/MyDrive/train_data/IMG/center_2022_03_06_17_12_46_643.jpg',\n",
              " '/content/drive/MyDrive/train_data/IMG/center_2022_03_06_17_12_46_731.jpg',\n",
              " '/content/drive/MyDrive/train_data/IMG/center_2022_03_06_17_12_46_802.jpg',\n",
              " '/content/drive/MyDrive/train_data/IMG/center_2022_03_06_17_12_46_892.jpg',\n",
              " '/content/drive/MyDrive/train_data/IMG/center_2022_03_06_17_12_46_946.jpg',\n",
              " '/content/drive/MyDrive/train_data/IMG/center_2022_03_06_17_12_47_031.jpg',\n",
              " '/content/drive/MyDrive/train_data/IMG/center_2022_03_06_17_12_47_114.jpg',\n",
              " '/content/drive/MyDrive/train_data/IMG/center_2022_03_06_17_12_47_198.jpg',\n",
              " '/content/drive/MyDrive/train_data/IMG/center_2022_03_06_17_12_47_282.jpg',\n",
              " '/content/drive/MyDrive/train_data/IMG/center_2022_03_06_17_12_47_396.jpg',\n",
              " '/content/drive/MyDrive/train_data/IMG/center_2022_03_06_17_12_47_494.jpg',\n",
              " '/content/drive/MyDrive/train_data/IMG/center_2022_03_06_17_12_47_589.jpg',\n",
              " '/content/drive/MyDrive/train_data/IMG/center_2022_03_06_17_12_47_695.jpg',\n",
              " '/content/drive/MyDrive/train_data/IMG/center_2022_03_06_17_12_47_803.jpg',\n",
              " '/content/drive/MyDrive/train_data/IMG/center_2022_03_06_17_12_47_891.jpg',\n",
              " '/content/drive/MyDrive/train_data/IMG/center_2022_03_06_17_12_47_967.jpg',\n",
              " '/content/drive/MyDrive/train_data/IMG/center_2022_03_06_17_12_48_040.jpg',\n",
              " '/content/drive/MyDrive/train_data/IMG/center_2022_03_06_17_12_48_122.jpg',\n",
              " '/content/drive/MyDrive/train_data/IMG/center_2022_03_06_17_12_48_202.jpg',\n",
              " '/content/drive/MyDrive/train_data/IMG/center_2022_03_06_17_12_48_286.jpg',\n",
              " '/content/drive/MyDrive/train_data/IMG/center_2022_03_06_17_12_48_373.jpg',\n",
              " '/content/drive/MyDrive/train_data/IMG/center_2022_03_06_17_12_48_458.jpg',\n",
              " '/content/drive/MyDrive/train_data/IMG/center_2022_03_06_17_12_48_542.jpg',\n",
              " '/content/drive/MyDrive/train_data/IMG/center_2022_03_06_17_12_48_624.jpg',\n",
              " '/content/drive/MyDrive/train_data/IMG/center_2022_03_06_17_12_48_707.jpg',\n",
              " '/content/drive/MyDrive/train_data/IMG/center_2022_03_06_17_12_48_796.jpg',\n",
              " '/content/drive/MyDrive/train_data/IMG/center_2022_03_06_17_12_48_874.jpg',\n",
              " '/content/drive/MyDrive/train_data/IMG/center_2022_03_06_17_12_48_956.jpg',\n",
              " '/content/drive/MyDrive/train_data/IMG/center_2022_03_06_17_12_49_035.jpg',\n",
              " '/content/drive/MyDrive/train_data/IMG/center_2022_03_06_17_12_49_115.jpg',\n",
              " '/content/drive/MyDrive/train_data/IMG/center_2022_03_06_17_12_49_184.jpg',\n",
              " '/content/drive/MyDrive/train_data/IMG/center_2022_03_06_17_12_49_256.jpg',\n",
              " '/content/drive/MyDrive/train_data/IMG/center_2022_03_06_17_12_49_334.jpg',\n",
              " '/content/drive/MyDrive/train_data/IMG/center_2022_03_06_17_12_49_403.jpg',\n",
              " '/content/drive/MyDrive/train_data/IMG/center_2022_03_06_17_12_49_470.jpg',\n",
              " '/content/drive/MyDrive/train_data/IMG/center_2022_03_06_17_12_49_538.jpg',\n",
              " '/content/drive/MyDrive/train_data/IMG/center_2022_03_06_17_12_49_609.jpg',\n",
              " '/content/drive/MyDrive/train_data/IMG/center_2022_03_06_17_12_49_679.jpg',\n",
              " '/content/drive/MyDrive/train_data/IMG/center_2022_03_06_17_12_49_766.jpg',\n",
              " '/content/drive/MyDrive/train_data/IMG/center_2022_03_06_17_12_49_836.jpg',\n",
              " '/content/drive/MyDrive/train_data/IMG/center_2022_03_06_17_12_49_912.jpg',\n",
              " '/content/drive/MyDrive/train_data/IMG/center_2022_03_06_17_12_49_994.jpg',\n",
              " '/content/drive/MyDrive/train_data/IMG/center_2022_03_06_17_12_50_074.jpg',\n",
              " '/content/drive/MyDrive/train_data/IMG/center_2022_03_06_17_12_50_160.jpg',\n",
              " '/content/drive/MyDrive/train_data/IMG/center_2022_03_06_17_12_50_245.jpg',\n",
              " '/content/drive/MyDrive/train_data/IMG/center_2022_03_06_17_12_50_313.jpg',\n",
              " '/content/drive/MyDrive/train_data/IMG/center_2022_03_06_17_12_50_398.jpg',\n",
              " '/content/drive/MyDrive/train_data/IMG/center_2022_03_06_17_12_50_479.jpg',\n",
              " '/content/drive/MyDrive/train_data/IMG/center_2022_03_06_17_12_50_557.jpg',\n",
              " '/content/drive/MyDrive/train_data/IMG/center_2022_03_06_17_12_50_636.jpg',\n",
              " '/content/drive/MyDrive/train_data/IMG/center_2022_03_06_17_12_50_715.jpg',\n",
              " '/content/drive/MyDrive/train_data/IMG/center_2022_03_06_17_12_50_798.jpg',\n",
              " '/content/drive/MyDrive/train_data/IMG/center_2022_03_06_17_12_50_866.jpg',\n",
              " '/content/drive/MyDrive/train_data/IMG/center_2022_03_06_17_12_50_944.jpg',\n",
              " '/content/drive/MyDrive/train_data/IMG/center_2022_03_06_17_12_51_015.jpg',\n",
              " '/content/drive/MyDrive/train_data/IMG/center_2022_03_06_17_12_51_087.jpg',\n",
              " '/content/drive/MyDrive/train_data/IMG/center_2022_03_06_17_12_51_172.jpg',\n",
              " '/content/drive/MyDrive/train_data/IMG/center_2022_03_06_17_12_51_243.jpg',\n",
              " '/content/drive/MyDrive/train_data/IMG/center_2022_03_06_17_12_51_323.jpg',\n",
              " '/content/drive/MyDrive/train_data/IMG/center_2022_03_06_17_12_51_398.jpg',\n",
              " '/content/drive/MyDrive/train_data/IMG/center_2022_03_06_17_12_51_468.jpg',\n",
              " '/content/drive/MyDrive/train_data/IMG/center_2022_03_06_17_12_51_561.jpg',\n",
              " '/content/drive/MyDrive/train_data/IMG/center_2022_03_06_17_12_51_627.jpg',\n",
              " '/content/drive/MyDrive/train_data/IMG/center_2022_03_06_17_12_51_699.jpg',\n",
              " '/content/drive/MyDrive/train_data/IMG/center_2022_03_06_17_12_51_788.jpg',\n",
              " '/content/drive/MyDrive/train_data/IMG/center_2022_03_06_17_12_51_847.jpg',\n",
              " '/content/drive/MyDrive/train_data/IMG/center_2022_03_06_17_12_51_943.jpg',\n",
              " '/content/drive/MyDrive/train_data/IMG/center_2022_03_06_17_12_52_032.jpg',\n",
              " '/content/drive/MyDrive/train_data/IMG/center_2022_03_06_17_12_52_106.jpg',\n",
              " '/content/drive/MyDrive/train_data/IMG/center_2022_03_06_17_12_52_233.jpg',\n",
              " '/content/drive/MyDrive/train_data/IMG/center_2022_03_06_17_12_52_410.jpg',\n",
              " '/content/drive/MyDrive/train_data/IMG/center_2022_03_06_17_12_52_544.jpg',\n",
              " '/content/drive/MyDrive/train_data/IMG/center_2022_03_06_17_12_52_664.jpg',\n",
              " '/content/drive/MyDrive/train_data/IMG/center_2022_03_06_17_12_52_824.jpg',\n",
              " '/content/drive/MyDrive/train_data/IMG/center_2022_03_06_17_12_52_916.jpg',\n",
              " '/content/drive/MyDrive/train_data/IMG/center_2022_03_06_17_12_52_990.jpg',\n",
              " '/content/drive/MyDrive/train_data/IMG/center_2022_03_06_17_12_53_071.jpg',\n",
              " '/content/drive/MyDrive/train_data/IMG/center_2022_03_06_17_12_53_171.jpg',\n",
              " '/content/drive/MyDrive/train_data/IMG/center_2022_03_06_17_12_53_249.jpg',\n",
              " '/content/drive/MyDrive/train_data/IMG/center_2022_03_06_17_12_53_322.jpg',\n",
              " '/content/drive/MyDrive/train_data/IMG/center_2022_03_06_17_12_53_395.jpg',\n",
              " '/content/drive/MyDrive/train_data/IMG/center_2022_03_06_17_12_53_468.jpg',\n",
              " '/content/drive/MyDrive/train_data/IMG/center_2022_03_06_17_12_53_550.jpg',\n",
              " '/content/drive/MyDrive/train_data/IMG/center_2022_03_06_17_12_53_625.jpg',\n",
              " '/content/drive/MyDrive/train_data/IMG/center_2022_03_06_17_12_53_692.jpg',\n",
              " '/content/drive/MyDrive/train_data/IMG/center_2022_03_06_17_12_53_759.jpg',\n",
              " '/content/drive/MyDrive/train_data/IMG/center_2022_03_06_17_12_53_831.jpg',\n",
              " '/content/drive/MyDrive/train_data/IMG/center_2022_03_06_17_12_53_910.jpg',\n",
              " '/content/drive/MyDrive/train_data/IMG/center_2022_03_06_17_12_53_986.jpg',\n",
              " '/content/drive/MyDrive/train_data/IMG/center_2022_03_06_17_12_54_062.jpg',\n",
              " '/content/drive/MyDrive/train_data/IMG/center_2022_03_06_17_12_54_136.jpg',\n",
              " '/content/drive/MyDrive/train_data/IMG/center_2022_03_06_17_12_54_202.jpg',\n",
              " '/content/drive/MyDrive/train_data/IMG/center_2022_03_06_17_12_54_286.jpg',\n",
              " '/content/drive/MyDrive/train_data/IMG/center_2022_03_06_17_12_54_360.jpg',\n",
              " '/content/drive/MyDrive/train_data/IMG/center_2022_03_06_17_12_54_443.jpg',\n",
              " '/content/drive/MyDrive/train_data/IMG/center_2022_03_06_17_12_54_518.jpg',\n",
              " '/content/drive/MyDrive/train_data/IMG/center_2022_03_06_17_12_54_596.jpg',\n",
              " '/content/drive/MyDrive/train_data/IMG/center_2022_03_06_17_12_54_668.jpg',\n",
              " '/content/drive/MyDrive/train_data/IMG/center_2022_03_06_17_12_54_741.jpg',\n",
              " '/content/drive/MyDrive/train_data/IMG/center_2022_03_06_17_12_54_806.jpg',\n",
              " '/content/drive/MyDrive/train_data/IMG/center_2022_03_06_17_12_54_876.jpg',\n",
              " '/content/drive/MyDrive/train_data/IMG/center_2022_03_06_17_12_54_945.jpg',\n",
              " '/content/drive/MyDrive/train_data/IMG/center_2022_03_06_17_12_55_017.jpg',\n",
              " '/content/drive/MyDrive/train_data/IMG/center_2022_03_06_17_12_55_086.jpg',\n",
              " '/content/drive/MyDrive/train_data/IMG/center_2022_03_06_17_12_55_158.jpg',\n",
              " '/content/drive/MyDrive/train_data/IMG/center_2022_03_06_17_12_55_234.jpg',\n",
              " '/content/drive/MyDrive/train_data/IMG/center_2022_03_06_17_12_55_324.jpg',\n",
              " '/content/drive/MyDrive/train_data/IMG/center_2022_03_06_17_12_55_407.jpg',\n",
              " '/content/drive/MyDrive/train_data/IMG/center_2022_03_06_17_12_55_489.jpg',\n",
              " '/content/drive/MyDrive/train_data/IMG/center_2022_03_06_17_12_55_562.jpg',\n",
              " '/content/drive/MyDrive/train_data/IMG/center_2022_03_06_17_12_55_643.jpg',\n",
              " '/content/drive/MyDrive/train_data/IMG/center_2022_03_06_17_12_55_719.jpg',\n",
              " '/content/drive/MyDrive/train_data/IMG/center_2022_03_06_17_12_55_770.jpg',\n",
              " '/content/drive/MyDrive/train_data/IMG/center_2022_03_06_17_12_55_912.jpg',\n",
              " '/content/drive/MyDrive/train_data/IMG/center_2022_03_06_17_12_55_996.jpg',\n",
              " '/content/drive/MyDrive/train_data/IMG/center_2022_03_06_17_12_56_077.jpg',\n",
              " '/content/drive/MyDrive/train_data/IMG/center_2022_03_06_17_12_56_161.jpg',\n",
              " '/content/drive/MyDrive/train_data/IMG/center_2022_03_06_17_12_56_231.jpg',\n",
              " '/content/drive/MyDrive/train_data/IMG/center_2022_03_06_17_12_56_316.jpg',\n",
              " '/content/drive/MyDrive/train_data/IMG/center_2022_03_06_17_12_56_428.jpg',\n",
              " '/content/drive/MyDrive/train_data/IMG/center_2022_03_06_17_12_56_507.jpg',\n",
              " '/content/drive/MyDrive/train_data/IMG/center_2022_03_06_17_12_56_573.jpg',\n",
              " '/content/drive/MyDrive/train_data/IMG/center_2022_03_06_17_12_56_711.jpg',\n",
              " '/content/drive/MyDrive/train_data/IMG/center_2022_03_06_17_12_56_758.jpg',\n",
              " '/content/drive/MyDrive/train_data/IMG/center_2022_03_06_17_12_56_846.jpg',\n",
              " '/content/drive/MyDrive/train_data/IMG/center_2022_03_06_17_12_56_920.jpg',\n",
              " '/content/drive/MyDrive/train_data/IMG/center_2022_03_06_17_12_57_002.jpg',\n",
              " '/content/drive/MyDrive/train_data/IMG/center_2022_03_06_17_12_57_073.jpg',\n",
              " '/content/drive/MyDrive/train_data/IMG/center_2022_03_06_17_12_57_149.jpg',\n",
              " '/content/drive/MyDrive/train_data/IMG/center_2022_03_06_17_12_57_227.jpg',\n",
              " '/content/drive/MyDrive/train_data/IMG/center_2022_03_06_17_12_57_326.jpg',\n",
              " '/content/drive/MyDrive/train_data/IMG/center_2022_03_06_17_12_57_421.jpg',\n",
              " '/content/drive/MyDrive/train_data/IMG/center_2022_03_06_17_12_57_513.jpg',\n",
              " '/content/drive/MyDrive/train_data/IMG/center_2022_03_06_17_12_57_588.jpg',\n",
              " '/content/drive/MyDrive/train_data/IMG/center_2022_03_06_17_12_57_676.jpg',\n",
              " '/content/drive/MyDrive/train_data/IMG/center_2022_03_06_17_12_57_753.jpg',\n",
              " '/content/drive/MyDrive/train_data/IMG/center_2022_03_06_17_12_57_833.jpg',\n",
              " '/content/drive/MyDrive/train_data/IMG/center_2022_03_06_17_12_57_923.jpg',\n",
              " '/content/drive/MyDrive/train_data/IMG/center_2022_03_06_17_12_58_018.jpg',\n",
              " '/content/drive/MyDrive/train_data/IMG/center_2022_03_06_17_12_58_086.jpg',\n",
              " '/content/drive/MyDrive/train_data/IMG/center_2022_03_06_17_12_58_165.jpg',\n",
              " '/content/drive/MyDrive/train_data/IMG/center_2022_03_06_17_12_58_242.jpg',\n",
              " '/content/drive/MyDrive/train_data/IMG/center_2022_03_06_17_12_58_318.jpg',\n",
              " '/content/drive/MyDrive/train_data/IMG/center_2022_03_06_17_12_58_390.jpg',\n",
              " '/content/drive/MyDrive/train_data/IMG/center_2022_03_06_17_12_58_460.jpg',\n",
              " '/content/drive/MyDrive/train_data/IMG/center_2022_03_06_17_12_58_553.jpg',\n",
              " '/content/drive/MyDrive/train_data/IMG/center_2022_03_06_17_12_58_625.jpg',\n",
              " '/content/drive/MyDrive/train_data/IMG/center_2022_03_06_17_12_58_716.jpg',\n",
              " '/content/drive/MyDrive/train_data/IMG/center_2022_03_06_17_12_58_845.jpg',\n",
              " '/content/drive/MyDrive/train_data/IMG/center_2022_03_06_17_12_58_928.jpg',\n",
              " '/content/drive/MyDrive/train_data/IMG/center_2022_03_06_17_12_59_017.jpg',\n",
              " '/content/drive/MyDrive/train_data/IMG/center_2022_03_06_17_12_59_114.jpg',\n",
              " '/content/drive/MyDrive/train_data/IMG/center_2022_03_06_17_12_59_198.jpg',\n",
              " '/content/drive/MyDrive/train_data/IMG/center_2022_03_06_17_12_59_287.jpg',\n",
              " '/content/drive/MyDrive/train_data/IMG/center_2022_03_06_17_12_59_369.jpg',\n",
              " '/content/drive/MyDrive/train_data/IMG/center_2022_03_06_17_12_59_452.jpg',\n",
              " '/content/drive/MyDrive/train_data/IMG/center_2022_03_06_17_12_59_531.jpg',\n",
              " '/content/drive/MyDrive/train_data/IMG/center_2022_03_06_17_12_59_609.jpg',\n",
              " '/content/drive/MyDrive/train_data/IMG/center_2022_03_06_17_12_59_687.jpg',\n",
              " '/content/drive/MyDrive/train_data/IMG/center_2022_03_06_17_12_59_762.jpg',\n",
              " '/content/drive/MyDrive/train_data/IMG/center_2022_03_06_17_12_59_837.jpg',\n",
              " '/content/drive/MyDrive/train_data/IMG/center_2022_03_06_17_12_59_915.jpg',\n",
              " '/content/drive/MyDrive/train_data/IMG/center_2022_03_06_17_12_59_996.jpg',\n",
              " '/content/drive/MyDrive/train_data/IMG/center_2022_03_06_17_13_00_079.jpg',\n",
              " '/content/drive/MyDrive/train_data/IMG/center_2022_03_06_17_13_00_148.jpg',\n",
              " '/content/drive/MyDrive/train_data/IMG/center_2022_03_06_17_13_00_231.jpg',\n",
              " '/content/drive/MyDrive/train_data/IMG/center_2022_03_06_17_13_00_308.jpg',\n",
              " '/content/drive/MyDrive/train_data/IMG/center_2022_03_06_17_13_00_388.jpg',\n",
              " '/content/drive/MyDrive/train_data/IMG/center_2022_03_06_17_13_00_463.jpg',\n",
              " '/content/drive/MyDrive/train_data/IMG/center_2022_03_06_17_13_00_548.jpg',\n",
              " '/content/drive/MyDrive/train_data/IMG/center_2022_03_06_17_13_00_619.jpg',\n",
              " '/content/drive/MyDrive/train_data/IMG/center_2022_03_06_17_13_00_689.jpg',\n",
              " '/content/drive/MyDrive/train_data/IMG/center_2022_03_06_17_13_00_761.jpg',\n",
              " '/content/drive/MyDrive/train_data/IMG/center_2022_03_06_17_13_00_839.jpg',\n",
              " '/content/drive/MyDrive/train_data/IMG/center_2022_03_06_17_13_00_910.jpg',\n",
              " '/content/drive/MyDrive/train_data/IMG/center_2022_03_06_17_13_00_983.jpg',\n",
              " '/content/drive/MyDrive/train_data/IMG/center_2022_03_06_17_13_01_056.jpg',\n",
              " '/content/drive/MyDrive/train_data/IMG/center_2022_03_06_17_13_01_139.jpg',\n",
              " '/content/drive/MyDrive/train_data/IMG/center_2022_03_06_17_13_01_219.jpg',\n",
              " '/content/drive/MyDrive/train_data/IMG/center_2022_03_06_17_13_01_295.jpg',\n",
              " '/content/drive/MyDrive/train_data/IMG/center_2022_03_06_17_13_01_375.jpg',\n",
              " '/content/drive/MyDrive/train_data/IMG/center_2022_03_06_17_13_01_453.jpg',\n",
              " '/content/drive/MyDrive/train_data/IMG/center_2022_03_06_17_13_01_538.jpg',\n",
              " '/content/drive/MyDrive/train_data/IMG/center_2022_03_06_17_13_01_616.jpg',\n",
              " '/content/drive/MyDrive/train_data/IMG/center_2022_03_06_17_13_01_682.jpg',\n",
              " '/content/drive/MyDrive/train_data/IMG/center_2022_03_06_17_13_01_756.jpg',\n",
              " '/content/drive/MyDrive/train_data/IMG/center_2022_03_06_17_13_01_844.jpg',\n",
              " '/content/drive/MyDrive/train_data/IMG/center_2022_03_06_17_13_01_927.jpg',\n",
              " '/content/drive/MyDrive/train_data/IMG/center_2022_03_06_17_13_02_001.jpg',\n",
              " '/content/drive/MyDrive/train_data/IMG/center_2022_03_06_17_13_02_076.jpg',\n",
              " '/content/drive/MyDrive/train_data/IMG/center_2022_03_06_17_13_02_156.jpg',\n",
              " '/content/drive/MyDrive/train_data/IMG/center_2022_03_06_17_13_02_230.jpg',\n",
              " '/content/drive/MyDrive/train_data/IMG/center_2022_03_06_17_13_02_306.jpg',\n",
              " '/content/drive/MyDrive/train_data/IMG/center_2022_03_06_17_13_02_384.jpg',\n",
              " '/content/drive/MyDrive/train_data/IMG/center_2022_03_06_17_13_02_463.jpg',\n",
              " '/content/drive/MyDrive/train_data/IMG/center_2022_03_06_17_13_02_537.jpg',\n",
              " '/content/drive/MyDrive/train_data/IMG/center_2022_03_06_17_13_02_614.jpg',\n",
              " '/content/drive/MyDrive/train_data/IMG/center_2022_03_06_17_13_02_704.jpg',\n",
              " '/content/drive/MyDrive/train_data/IMG/center_2022_03_06_17_13_02_789.jpg',\n",
              " '/content/drive/MyDrive/train_data/IMG/center_2022_03_06_17_13_02_908.jpg',\n",
              " '/content/drive/MyDrive/train_data/IMG/center_2022_03_06_17_13_02_981.jpg',\n",
              " '/content/drive/MyDrive/train_data/IMG/center_2022_03_06_17_13_03_062.jpg',\n",
              " '/content/drive/MyDrive/train_data/IMG/center_2022_03_06_17_13_03_176.jpg',\n",
              " '/content/drive/MyDrive/train_data/IMG/center_2022_03_06_17_13_03_260.jpg',\n",
              " '/content/drive/MyDrive/train_data/IMG/center_2022_03_06_17_13_03_326.jpg',\n",
              " '/content/drive/MyDrive/train_data/IMG/center_2022_03_06_17_13_03_396.jpg',\n",
              " '/content/drive/MyDrive/train_data/IMG/center_2022_03_06_17_13_03_470.jpg',\n",
              " '/content/drive/MyDrive/train_data/IMG/center_2022_03_06_17_13_03_543.jpg',\n",
              " '/content/drive/MyDrive/train_data/IMG/center_2022_03_06_17_13_03_620.jpg',\n",
              " '/content/drive/MyDrive/train_data/IMG/center_2022_03_06_17_13_03_690.jpg',\n",
              " '/content/drive/MyDrive/train_data/IMG/center_2022_03_06_17_13_03_777.jpg',\n",
              " '/content/drive/MyDrive/train_data/IMG/center_2022_03_06_17_13_03_874.jpg',\n",
              " '/content/drive/MyDrive/train_data/IMG/center_2022_03_06_17_13_03_998.jpg',\n",
              " '/content/drive/MyDrive/train_data/IMG/center_2022_03_06_17_13_04_085.jpg',\n",
              " '/content/drive/MyDrive/train_data/IMG/center_2022_03_06_17_13_04_188.jpg',\n",
              " '/content/drive/MyDrive/train_data/IMG/center_2022_03_06_17_13_04_280.jpg',\n",
              " '/content/drive/MyDrive/train_data/IMG/center_2022_03_06_17_13_04_376.jpg',\n",
              " '/content/drive/MyDrive/train_data/IMG/center_2022_03_06_17_13_04_470.jpg',\n",
              " '/content/drive/MyDrive/train_data/IMG/center_2022_03_06_17_13_04_572.jpg',\n",
              " '/content/drive/MyDrive/train_data/IMG/center_2022_03_06_17_13_04_653.jpg',\n",
              " '/content/drive/MyDrive/train_data/IMG/center_2022_03_06_17_13_04_728.jpg',\n",
              " '/content/drive/MyDrive/train_data/IMG/center_2022_03_06_17_13_04_821.jpg',\n",
              " '/content/drive/MyDrive/train_data/IMG/center_2022_03_06_17_13_04_917.jpg',\n",
              " '/content/drive/MyDrive/train_data/IMG/center_2022_03_06_17_13_04_985.jpg',\n",
              " '/content/drive/MyDrive/train_data/IMG/center_2022_03_06_17_13_05_053.jpg',\n",
              " '/content/drive/MyDrive/train_data/IMG/center_2022_03_06_17_13_05_162.jpg',\n",
              " '/content/drive/MyDrive/train_data/IMG/center_2022_03_06_17_13_05_237.jpg',\n",
              " '/content/drive/MyDrive/train_data/IMG/center_2022_03_06_17_13_05_325.jpg',\n",
              " '/content/drive/MyDrive/train_data/IMG/center_2022_03_06_17_13_05_410.jpg',\n",
              " '/content/drive/MyDrive/train_data/IMG/center_2022_03_06_17_13_05_482.jpg',\n",
              " '/content/drive/MyDrive/train_data/IMG/center_2022_03_06_17_13_05_557.jpg',\n",
              " '/content/drive/MyDrive/train_data/IMG/center_2022_03_06_17_13_05_621.jpg',\n",
              " '/content/drive/MyDrive/train_data/IMG/center_2022_03_06_17_13_05_697.jpg',\n",
              " '/content/drive/MyDrive/train_data/IMG/center_2022_03_06_17_13_05_768.jpg',\n",
              " '/content/drive/MyDrive/train_data/IMG/center_2022_03_06_17_13_05_852.jpg',\n",
              " '/content/drive/MyDrive/train_data/IMG/center_2022_03_06_17_13_05_932.jpg',\n",
              " '/content/drive/MyDrive/train_data/IMG/center_2022_03_06_17_13_06_016.jpg',\n",
              " '/content/drive/MyDrive/train_data/IMG/center_2022_03_06_17_13_06_093.jpg',\n",
              " '/content/drive/MyDrive/train_data/IMG/center_2022_03_06_17_13_06_179.jpg',\n",
              " '/content/drive/MyDrive/train_data/IMG/center_2022_03_06_17_13_06_257.jpg',\n",
              " '/content/drive/MyDrive/train_data/IMG/center_2022_03_06_17_13_06_336.jpg',\n",
              " '/content/drive/MyDrive/train_data/IMG/center_2022_03_06_17_13_06_409.jpg',\n",
              " '/content/drive/MyDrive/train_data/IMG/center_2022_03_06_17_13_06_477.jpg',\n",
              " '/content/drive/MyDrive/train_data/IMG/center_2022_03_06_17_13_06_551.jpg',\n",
              " '/content/drive/MyDrive/train_data/IMG/center_2022_03_06_17_13_06_624.jpg',\n",
              " '/content/drive/MyDrive/train_data/IMG/center_2022_03_06_17_13_06_691.jpg',\n",
              " '/content/drive/MyDrive/train_data/IMG/center_2022_03_06_17_13_06_768.jpg',\n",
              " '/content/drive/MyDrive/train_data/IMG/center_2022_03_06_17_13_06_839.jpg',\n",
              " '/content/drive/MyDrive/train_data/IMG/center_2022_03_06_17_13_06_910.jpg',\n",
              " '/content/drive/MyDrive/train_data/IMG/center_2022_03_06_17_13_06_982.jpg',\n",
              " '/content/drive/MyDrive/train_data/IMG/center_2022_03_06_17_13_07_055.jpg',\n",
              " '/content/drive/MyDrive/train_data/IMG/center_2022_03_06_17_13_07_128.jpg',\n",
              " '/content/drive/MyDrive/train_data/IMG/center_2022_03_06_17_13_07_199.jpg',\n",
              " '/content/drive/MyDrive/train_data/IMG/center_2022_03_06_17_13_07_270.jpg',\n",
              " '/content/drive/MyDrive/train_data/IMG/center_2022_03_06_17_13_07_343.jpg',\n",
              " '/content/drive/MyDrive/train_data/IMG/center_2022_03_06_17_13_07_417.jpg',\n",
              " '/content/drive/MyDrive/train_data/IMG/center_2022_03_06_17_13_07_489.jpg',\n",
              " '/content/drive/MyDrive/train_data/IMG/center_2022_03_06_17_13_07_558.jpg',\n",
              " '/content/drive/MyDrive/train_data/IMG/center_2022_03_06_17_13_07_635.jpg',\n",
              " '/content/drive/MyDrive/train_data/IMG/center_2022_03_06_17_13_07_709.jpg',\n",
              " '/content/drive/MyDrive/train_data/IMG/center_2022_03_06_17_13_07_781.jpg',\n",
              " '/content/drive/MyDrive/train_data/IMG/center_2022_03_06_17_13_07_856.jpg',\n",
              " '/content/drive/MyDrive/train_data/IMG/center_2022_03_06_17_13_07_926.jpg',\n",
              " '/content/drive/MyDrive/train_data/IMG/center_2022_03_06_17_13_07_997.jpg',\n",
              " '/content/drive/MyDrive/train_data/IMG/center_2022_03_06_17_13_08_072.jpg',\n",
              " '/content/drive/MyDrive/train_data/IMG/center_2022_03_06_17_13_08_146.jpg',\n",
              " '/content/drive/MyDrive/train_data/IMG/center_2022_03_06_17_13_08_229.jpg',\n",
              " '/content/drive/MyDrive/train_data/IMG/center_2022_03_06_17_13_08_307.jpg',\n",
              " '/content/drive/MyDrive/train_data/IMG/center_2022_03_06_17_13_08_388.jpg',\n",
              " '/content/drive/MyDrive/train_data/IMG/center_2022_03_06_17_13_08_467.jpg',\n",
              " '/content/drive/MyDrive/train_data/IMG/center_2022_03_06_17_13_08_548.jpg',\n",
              " '/content/drive/MyDrive/train_data/IMG/center_2022_03_06_17_13_08_607.jpg',\n",
              " '/content/drive/MyDrive/train_data/IMG/center_2022_03_06_17_13_08_695.jpg',\n",
              " '/content/drive/MyDrive/train_data/IMG/center_2022_03_06_17_13_08_763.jpg',\n",
              " '/content/drive/MyDrive/train_data/IMG/center_2022_03_06_17_13_08_850.jpg',\n",
              " '/content/drive/MyDrive/train_data/IMG/center_2022_03_06_17_13_08_919.jpg',\n",
              " '/content/drive/MyDrive/train_data/IMG/center_2022_03_06_17_13_08_989.jpg',\n",
              " '/content/drive/MyDrive/train_data/IMG/center_2022_03_06_17_13_09_056.jpg',\n",
              " '/content/drive/MyDrive/train_data/IMG/center_2022_03_06_17_13_09_133.jpg',\n",
              " '/content/drive/MyDrive/train_data/IMG/center_2022_03_06_17_13_09_208.jpg',\n",
              " '/content/drive/MyDrive/train_data/IMG/center_2022_03_06_17_13_09_281.jpg',\n",
              " '/content/drive/MyDrive/train_data/IMG/center_2022_03_06_17_13_09_354.jpg',\n",
              " '/content/drive/MyDrive/train_data/IMG/center_2022_03_06_17_13_09_425.jpg',\n",
              " '/content/drive/MyDrive/train_data/IMG/center_2022_03_06_17_13_09_505.jpg',\n",
              " '/content/drive/MyDrive/train_data/IMG/center_2022_03_06_17_13_09_588.jpg',\n",
              " '/content/drive/MyDrive/train_data/IMG/center_2022_03_06_17_13_09_668.jpg',\n",
              " '/content/drive/MyDrive/train_data/IMG/center_2022_03_06_17_13_09_747.jpg',\n",
              " '/content/drive/MyDrive/train_data/IMG/center_2022_03_06_17_13_09_836.jpg',\n",
              " '/content/drive/MyDrive/train_data/IMG/center_2022_03_06_17_13_09_915.jpg',\n",
              " '/content/drive/MyDrive/train_data/IMG/center_2022_03_06_17_13_09_994.jpg',\n",
              " '/content/drive/MyDrive/train_data/IMG/center_2022_03_06_17_13_10_082.jpg',\n",
              " '/content/drive/MyDrive/train_data/IMG/center_2022_03_06_17_13_10_162.jpg',\n",
              " '/content/drive/MyDrive/train_data/IMG/center_2022_03_06_17_13_10_241.jpg',\n",
              " '/content/drive/MyDrive/train_data/IMG/center_2022_03_06_17_13_10_326.jpg',\n",
              " '/content/drive/MyDrive/train_data/IMG/center_2022_03_06_17_13_10_403.jpg',\n",
              " '/content/drive/MyDrive/train_data/IMG/center_2022_03_06_17_13_10_492.jpg',\n",
              " '/content/drive/MyDrive/train_data/IMG/center_2022_03_06_17_13_10_570.jpg',\n",
              " '/content/drive/MyDrive/train_data/IMG/center_2022_03_06_17_13_10_701.jpg',\n",
              " '/content/drive/MyDrive/train_data/IMG/center_2022_03_06_17_13_10_769.jpg',\n",
              " '/content/drive/MyDrive/train_data/IMG/center_2022_03_06_17_13_10_839.jpg',\n",
              " '/content/drive/MyDrive/train_data/IMG/center_2022_03_06_17_13_10_909.jpg',\n",
              " '/content/drive/MyDrive/train_data/IMG/center_2022_03_06_17_13_10_979.jpg',\n",
              " '/content/drive/MyDrive/train_data/IMG/center_2022_03_06_17_13_11_056.jpg',\n",
              " '/content/drive/MyDrive/train_data/IMG/center_2022_03_06_17_13_11_143.jpg',\n",
              " '/content/drive/MyDrive/train_data/IMG/center_2022_03_06_17_13_11_223.jpg',\n",
              " '/content/drive/MyDrive/train_data/IMG/center_2022_03_06_17_13_11_296.jpg',\n",
              " '/content/drive/MyDrive/train_data/IMG/center_2022_03_06_17_13_11_367.jpg',\n",
              " '/content/drive/MyDrive/train_data/IMG/center_2022_03_06_17_13_11_442.jpg',\n",
              " '/content/drive/MyDrive/train_data/IMG/center_2022_03_06_17_13_11_561.jpg',\n",
              " '/content/drive/MyDrive/train_data/IMG/center_2022_03_06_17_13_11_658.jpg',\n",
              " '/content/drive/MyDrive/train_data/IMG/center_2022_03_06_17_13_11_736.jpg',\n",
              " '/content/drive/MyDrive/train_data/IMG/center_2022_03_06_17_13_11_828.jpg',\n",
              " '/content/drive/MyDrive/train_data/IMG/center_2022_03_06_17_13_11_916.jpg',\n",
              " '/content/drive/MyDrive/train_data/IMG/center_2022_03_06_17_13_12_002.jpg',\n",
              " '/content/drive/MyDrive/train_data/IMG/center_2022_03_06_17_13_12_086.jpg',\n",
              " '/content/drive/MyDrive/train_data/IMG/center_2022_03_06_17_13_12_172.jpg',\n",
              " '/content/drive/MyDrive/train_data/IMG/center_2022_03_06_17_13_12_253.jpg',\n",
              " '/content/drive/MyDrive/train_data/IMG/center_2022_03_06_17_13_12_359.jpg',\n",
              " '/content/drive/MyDrive/train_data/IMG/center_2022_03_06_17_13_12_407.jpg',\n",
              " '/content/drive/MyDrive/train_data/IMG/center_2022_03_06_17_13_12_488.jpg',\n",
              " '/content/drive/MyDrive/train_data/IMG/center_2022_03_06_17_13_12_579.jpg',\n",
              " '/content/drive/MyDrive/train_data/IMG/center_2022_03_06_17_13_12_650.jpg',\n",
              " '/content/drive/MyDrive/train_data/IMG/center_2022_03_06_17_13_12_740.jpg',\n",
              " '/content/drive/MyDrive/train_data/IMG/center_2022_03_06_17_13_12_807.jpg',\n",
              " '/content/drive/MyDrive/train_data/IMG/center_2022_03_06_17_13_12_886.jpg',\n",
              " '/content/drive/MyDrive/train_data/IMG/center_2022_03_06_17_13_12_962.jpg',\n",
              " '/content/drive/MyDrive/train_data/IMG/center_2022_03_06_17_13_13_040.jpg',\n",
              " '/content/drive/MyDrive/train_data/IMG/center_2022_03_06_17_13_13_117.jpg',\n",
              " '/content/drive/MyDrive/train_data/IMG/center_2022_03_06_17_13_13_197.jpg',\n",
              " '/content/drive/MyDrive/train_data/IMG/center_2022_03_06_17_13_13_271.jpg',\n",
              " '/content/drive/MyDrive/train_data/IMG/center_2022_03_06_17_13_13_346.jpg',\n",
              " '/content/drive/MyDrive/train_data/IMG/center_2022_03_06_17_13_13_423.jpg',\n",
              " '/content/drive/MyDrive/train_data/IMG/center_2022_03_06_17_13_13_501.jpg',\n",
              " '/content/drive/MyDrive/train_data/IMG/center_2022_03_06_17_13_13_573.jpg',\n",
              " '/content/drive/MyDrive/train_data/IMG/center_2022_03_06_17_13_13_655.jpg',\n",
              " '/content/drive/MyDrive/train_data/IMG/center_2022_03_06_17_13_13_728.jpg',\n",
              " '/content/drive/MyDrive/train_data/IMG/center_2022_03_06_17_13_13_813.jpg',\n",
              " '/content/drive/MyDrive/train_data/IMG/center_2022_03_06_17_13_13_886.jpg',\n",
              " '/content/drive/MyDrive/train_data/IMG/center_2022_03_06_17_13_13_956.jpg',\n",
              " '/content/drive/MyDrive/train_data/IMG/center_2022_03_06_17_13_14_028.jpg',\n",
              " '/content/drive/MyDrive/train_data/IMG/center_2022_03_06_17_13_14_100.jpg',\n",
              " '/content/drive/MyDrive/train_data/IMG/center_2022_03_06_17_13_14_171.jpg',\n",
              " '/content/drive/MyDrive/train_data/IMG/center_2022_03_06_17_13_14_243.jpg',\n",
              " '/content/drive/MyDrive/train_data/IMG/center_2022_03_06_17_13_14_315.jpg',\n",
              " '/content/drive/MyDrive/train_data/IMG/center_2022_03_06_17_13_14_383.jpg',\n",
              " '/content/drive/MyDrive/train_data/IMG/center_2022_03_06_17_13_14_457.jpg',\n",
              " '/content/drive/MyDrive/train_data/IMG/center_2022_03_06_17_13_14_517.jpg',\n",
              " '/content/drive/MyDrive/train_data/IMG/center_2022_03_06_17_13_14_601.jpg',\n",
              " '/content/drive/MyDrive/train_data/IMG/center_2022_03_06_17_13_14_679.jpg',\n",
              " '/content/drive/MyDrive/train_data/IMG/center_2022_03_06_17_13_14_752.jpg',\n",
              " '/content/drive/MyDrive/train_data/IMG/center_2022_03_06_17_13_14_827.jpg',\n",
              " '/content/drive/MyDrive/train_data/IMG/center_2022_03_06_17_13_14_897.jpg',\n",
              " '/content/drive/MyDrive/train_data/IMG/center_2022_03_06_17_13_14_973.jpg',\n",
              " '/content/drive/MyDrive/train_data/IMG/center_2022_03_06_17_13_15_046.jpg',\n",
              " '/content/drive/MyDrive/train_data/IMG/center_2022_03_06_17_13_15_118.jpg',\n",
              " '/content/drive/MyDrive/train_data/IMG/center_2022_03_06_17_13_15_198.jpg',\n",
              " '/content/drive/MyDrive/train_data/IMG/center_2022_03_06_17_13_15_273.jpg',\n",
              " '/content/drive/MyDrive/train_data/IMG/center_2022_03_06_17_13_15_351.jpg',\n",
              " '/content/drive/MyDrive/train_data/IMG/center_2022_03_06_17_13_15_429.jpg',\n",
              " '/content/drive/MyDrive/train_data/IMG/center_2022_03_06_17_13_15_510.jpg',\n",
              " '/content/drive/MyDrive/train_data/IMG/center_2022_03_06_17_13_15_591.jpg',\n",
              " '/content/drive/MyDrive/train_data/IMG/center_2022_03_06_17_13_15_678.jpg',\n",
              " '/content/drive/MyDrive/train_data/IMG/center_2022_03_06_17_13_15_761.jpg',\n",
              " '/content/drive/MyDrive/train_data/IMG/center_2022_03_06_17_13_15_842.jpg',\n",
              " '/content/drive/MyDrive/train_data/IMG/center_2022_03_06_17_13_15_909.jpg',\n",
              " '/content/drive/MyDrive/train_data/IMG/center_2022_03_06_17_13_15_993.jpg',\n",
              " '/content/drive/MyDrive/train_data/IMG/center_2022_03_06_17_13_16_063.jpg',\n",
              " '/content/drive/MyDrive/train_data/IMG/center_2022_03_06_17_13_16_146.jpg',\n",
              " '/content/drive/MyDrive/train_data/IMG/center_2022_03_06_17_13_16_213.jpg',\n",
              " '/content/drive/MyDrive/train_data/IMG/center_2022_03_06_17_13_16_303.jpg',\n",
              " '/content/drive/MyDrive/train_data/IMG/center_2022_03_06_17_13_16_383.jpg',\n",
              " '/content/drive/MyDrive/train_data/IMG/center_2022_03_06_17_13_16_463.jpg',\n",
              " '/content/drive/MyDrive/train_data/IMG/center_2022_03_06_17_13_16_533.jpg',\n",
              " '/content/drive/MyDrive/train_data/IMG/center_2022_03_06_17_13_16_608.jpg',\n",
              " '/content/drive/MyDrive/train_data/IMG/center_2022_03_06_17_13_16_685.jpg',\n",
              " '/content/drive/MyDrive/train_data/IMG/center_2022_03_06_17_13_16_776.jpg',\n",
              " '/content/drive/MyDrive/train_data/IMG/center_2022_03_06_17_13_16_855.jpg',\n",
              " '/content/drive/MyDrive/train_data/IMG/center_2022_03_06_17_13_16_943.jpg',\n",
              " '/content/drive/MyDrive/train_data/IMG/center_2022_03_06_17_13_17_033.jpg',\n",
              " '/content/drive/MyDrive/train_data/IMG/center_2022_03_06_17_13_17_126.jpg',\n",
              " '/content/drive/MyDrive/train_data/IMG/center_2022_03_06_17_13_17_208.jpg',\n",
              " '/content/drive/MyDrive/train_data/IMG/center_2022_03_06_17_13_17_292.jpg',\n",
              " '/content/drive/MyDrive/train_data/IMG/center_2022_03_06_17_13_17_382.jpg',\n",
              " '/content/drive/MyDrive/train_data/IMG/center_2022_03_06_17_13_17_494.jpg',\n",
              " '/content/drive/MyDrive/train_data/IMG/center_2022_03_06_17_13_17_584.jpg',\n",
              " '/content/drive/MyDrive/train_data/IMG/center_2022_03_06_17_13_17_663.jpg',\n",
              " '/content/drive/MyDrive/train_data/IMG/center_2022_03_06_17_13_17_746.jpg',\n",
              " '/content/drive/MyDrive/train_data/IMG/center_2022_03_06_17_13_17_826.jpg',\n",
              " '/content/drive/MyDrive/train_data/IMG/center_2022_03_06_17_13_17_914.jpg',\n",
              " '/content/drive/MyDrive/train_data/IMG/center_2022_03_06_17_13_17_996.jpg',\n",
              " '/content/drive/MyDrive/train_data/IMG/center_2022_03_06_17_13_18_081.jpg',\n",
              " '/content/drive/MyDrive/train_data/IMG/center_2022_03_06_17_13_18_169.jpg',\n",
              " '/content/drive/MyDrive/train_data/IMG/center_2022_03_06_17_13_18_249.jpg',\n",
              " '/content/drive/MyDrive/train_data/IMG/center_2022_03_06_17_13_18_333.jpg',\n",
              " '/content/drive/MyDrive/train_data/IMG/center_2022_03_06_17_13_18_409.jpg',\n",
              " '/content/drive/MyDrive/train_data/IMG/center_2022_03_06_17_13_18_465.jpg',\n",
              " '/content/drive/MyDrive/train_data/IMG/center_2022_03_06_17_13_18_547.jpg',\n",
              " '/content/drive/MyDrive/train_data/IMG/center_2022_03_06_17_13_18_627.jpg',\n",
              " '/content/drive/MyDrive/train_data/IMG/center_2022_03_06_17_13_18_709.jpg',\n",
              " '/content/drive/MyDrive/train_data/IMG/center_2022_03_06_17_13_18_794.jpg',\n",
              " '/content/drive/MyDrive/train_data/IMG/center_2022_03_06_17_13_18_878.jpg',\n",
              " '/content/drive/MyDrive/train_data/IMG/center_2022_03_06_17_13_18_961.jpg',\n",
              " '/content/drive/MyDrive/train_data/IMG/center_2022_03_06_17_13_19_038.jpg',\n",
              " '/content/drive/MyDrive/train_data/IMG/center_2022_03_06_17_13_19_105.jpg',\n",
              " '/content/drive/MyDrive/train_data/IMG/center_2022_03_06_17_13_19_178.jpg',\n",
              " '/content/drive/MyDrive/train_data/IMG/center_2022_03_06_17_13_19_247.jpg',\n",
              " '/content/drive/MyDrive/train_data/IMG/center_2022_03_06_17_13_19_320.jpg',\n",
              " '/content/drive/MyDrive/train_data/IMG/center_2022_03_06_17_13_19_388.jpg',\n",
              " '/content/drive/MyDrive/train_data/IMG/center_2022_03_06_17_13_19_451.jpg',\n",
              " '/content/drive/MyDrive/train_data/IMG/center_2022_03_06_17_13_19_536.jpg',\n",
              " '/content/drive/MyDrive/train_data/IMG/center_2022_03_06_17_13_19_604.jpg',\n",
              " '/content/drive/MyDrive/train_data/IMG/center_2022_03_06_17_13_19_676.jpg',\n",
              " '/content/drive/MyDrive/train_data/IMG/center_2022_03_06_17_13_19_753.jpg',\n",
              " '/content/drive/MyDrive/train_data/IMG/center_2022_03_06_17_13_19_823.jpg',\n",
              " '/content/drive/MyDrive/train_data/IMG/center_2022_03_06_17_13_19_904.jpg',\n",
              " '/content/drive/MyDrive/train_data/IMG/center_2022_03_06_17_13_19_989.jpg',\n",
              " '/content/drive/MyDrive/train_data/IMG/center_2022_03_06_17_13_20_058.jpg',\n",
              " '/content/drive/MyDrive/train_data/IMG/center_2022_03_06_17_13_20_126.jpg',\n",
              " '/content/drive/MyDrive/train_data/IMG/center_2022_03_06_17_13_20_198.jpg',\n",
              " '/content/drive/MyDrive/train_data/IMG/center_2022_03_06_17_13_20_278.jpg',\n",
              " '/content/drive/MyDrive/train_data/IMG/center_2022_03_06_17_13_20_357.jpg',\n",
              " '/content/drive/MyDrive/train_data/IMG/center_2022_03_06_17_13_20_447.jpg',\n",
              " '/content/drive/MyDrive/train_data/IMG/center_2022_03_06_17_13_20_543.jpg',\n",
              " '/content/drive/MyDrive/train_data/IMG/center_2022_03_06_17_13_20_643.jpg',\n",
              " '/content/drive/MyDrive/train_data/IMG/center_2022_03_06_17_13_20_772.jpg',\n",
              " '/content/drive/MyDrive/train_data/IMG/center_2022_03_06_17_13_20_894.jpg',\n",
              " '/content/drive/MyDrive/train_data/IMG/center_2022_03_06_17_13_21_042.jpg',\n",
              " '/content/drive/MyDrive/train_data/IMG/center_2022_03_06_17_13_21_162.jpg',\n",
              " '/content/drive/MyDrive/train_data/IMG/center_2022_03_06_17_13_21_298.jpg',\n",
              " '/content/drive/MyDrive/train_data/IMG/center_2022_03_06_17_13_21_365.jpg',\n",
              " '/content/drive/MyDrive/train_data/IMG/center_2022_03_06_17_13_21_446.jpg',\n",
              " '/content/drive/MyDrive/train_data/IMG/center_2022_03_06_17_13_21_536.jpg',\n",
              " '/content/drive/MyDrive/train_data/IMG/center_2022_03_06_17_13_21_610.jpg',\n",
              " '/content/drive/MyDrive/train_data/IMG/center_2022_03_06_17_13_21_692.jpg',\n",
              " '/content/drive/MyDrive/train_data/IMG/center_2022_03_06_17_13_21_764.jpg',\n",
              " '/content/drive/MyDrive/train_data/IMG/center_2022_03_06_17_13_21_832.jpg',\n",
              " '/content/drive/MyDrive/train_data/IMG/center_2022_03_06_17_13_21_908.jpg',\n",
              " '/content/drive/MyDrive/train_data/IMG/center_2022_03_06_17_13_22_012.jpg',\n",
              " '/content/drive/MyDrive/train_data/IMG/center_2022_03_06_17_13_22_136.jpg',\n",
              " '/content/drive/MyDrive/train_data/IMG/center_2022_03_06_17_13_22_204.jpg',\n",
              " '/content/drive/MyDrive/train_data/IMG/center_2022_03_06_17_13_22_303.jpg',\n",
              " '/content/drive/MyDrive/train_data/IMG/center_2022_03_06_17_13_22_398.jpg',\n",
              " '/content/drive/MyDrive/train_data/IMG/center_2022_03_06_17_13_22_470.jpg',\n",
              " '/content/drive/MyDrive/train_data/IMG/center_2022_03_06_17_13_22_554.jpg',\n",
              " '/content/drive/MyDrive/train_data/IMG/center_2022_03_06_17_13_22_639.jpg',\n",
              " '/content/drive/MyDrive/train_data/IMG/center_2022_03_06_17_13_22_713.jpg',\n",
              " '/content/drive/MyDrive/train_data/IMG/center_2022_03_06_17_13_22_792.jpg',\n",
              " '/content/drive/MyDrive/train_data/IMG/center_2022_03_06_17_13_22_879.jpg',\n",
              " '/content/drive/MyDrive/train_data/IMG/center_2022_03_06_17_13_22_969.jpg',\n",
              " '/content/drive/MyDrive/train_data/IMG/center_2022_03_06_17_13_23_039.jpg',\n",
              " '/content/drive/MyDrive/train_data/IMG/center_2022_03_06_17_13_23_109.jpg',\n",
              " '/content/drive/MyDrive/train_data/IMG/center_2022_03_06_17_13_23_196.jpg',\n",
              " '/content/drive/MyDrive/train_data/IMG/center_2022_03_06_17_13_23_267.jpg',\n",
              " '/content/drive/MyDrive/train_data/IMG/center_2022_03_06_17_13_23_355.jpg',\n",
              " '/content/drive/MyDrive/train_data/IMG/center_2022_03_06_17_13_23_417.jpg',\n",
              " '/content/drive/MyDrive/train_data/IMG/center_2022_03_06_17_13_23_491.jpg',\n",
              " '/content/drive/MyDrive/train_data/IMG/center_2022_03_06_17_13_23_567.jpg',\n",
              " '/content/drive/MyDrive/train_data/IMG/center_2022_03_06_17_13_23_642.jpg',\n",
              " '/content/drive/MyDrive/train_data/IMG/center_2022_03_06_17_13_23_724.jpg',\n",
              " '/content/drive/MyDrive/train_data/IMG/center_2022_03_06_17_13_23_793.jpg',\n",
              " '/content/drive/MyDrive/train_data/IMG/center_2022_03_06_17_13_23_871.jpg',\n",
              " '/content/drive/MyDrive/train_data/IMG/center_2022_03_06_17_13_23_938.jpg',\n",
              " '/content/drive/MyDrive/train_data/IMG/center_2022_03_06_17_13_24_020.jpg',\n",
              " '/content/drive/MyDrive/train_data/IMG/center_2022_03_06_17_13_24_096.jpg',\n",
              " '/content/drive/MyDrive/train_data/IMG/center_2022_03_06_17_13_24_184.jpg',\n",
              " '/content/drive/MyDrive/train_data/IMG/center_2022_03_06_17_13_24_258.jpg',\n",
              " '/content/drive/MyDrive/train_data/IMG/center_2022_03_06_17_13_24_331.jpg',\n",
              " '/content/drive/MyDrive/train_data/IMG/center_2022_03_06_17_13_24_405.jpg',\n",
              " '/content/drive/MyDrive/train_data/IMG/center_2022_03_06_17_13_24_481.jpg',\n",
              " '/content/drive/MyDrive/train_data/IMG/center_2022_03_06_17_13_24_560.jpg',\n",
              " '/content/drive/MyDrive/train_data/IMG/center_2022_03_06_17_13_24_639.jpg',\n",
              " '/content/drive/MyDrive/train_data/IMG/center_2022_03_06_17_13_24_720.jpg',\n",
              " '/content/drive/MyDrive/train_data/IMG/center_2022_03_06_17_13_24_803.jpg',\n",
              " '/content/drive/MyDrive/train_data/IMG/center_2022_03_06_17_13_24_884.jpg',\n",
              " '/content/drive/MyDrive/train_data/IMG/center_2022_03_06_17_13_24_957.jpg',\n",
              " '/content/drive/MyDrive/train_data/IMG/center_2022_03_06_17_13_25_033.jpg',\n",
              " '/content/drive/MyDrive/train_data/IMG/center_2022_03_06_17_13_25_115.jpg',\n",
              " '/content/drive/MyDrive/train_data/IMG/center_2022_03_06_17_13_25_199.jpg',\n",
              " '/content/drive/MyDrive/train_data/IMG/center_2022_03_06_17_13_25_268.jpg',\n",
              " '/content/drive/MyDrive/train_data/IMG/center_2022_03_06_17_13_25_350.jpg',\n",
              " '/content/drive/MyDrive/train_data/IMG/center_2022_03_06_17_13_25_415.jpg',\n",
              " '/content/drive/MyDrive/train_data/IMG/center_2022_03_06_17_13_25_504.jpg',\n",
              " '/content/drive/MyDrive/train_data/IMG/center_2022_03_06_17_13_25_586.jpg',\n",
              " '/content/drive/MyDrive/train_data/IMG/center_2022_03_06_17_13_25_660.jpg',\n",
              " '/content/drive/MyDrive/train_data/IMG/center_2022_03_06_17_13_25_739.jpg',\n",
              " '/content/drive/MyDrive/train_data/IMG/center_2022_03_06_17_13_25_810.jpg',\n",
              " '/content/drive/MyDrive/train_data/IMG/center_2022_03_06_17_13_25_892.jpg',\n",
              " '/content/drive/MyDrive/train_data/IMG/center_2022_03_06_17_13_25_961.jpg',\n",
              " '/content/drive/MyDrive/train_data/IMG/center_2022_03_06_17_13_26_034.jpg',\n",
              " '/content/drive/MyDrive/train_data/IMG/center_2022_03_06_17_13_26_110.jpg',\n",
              " '/content/drive/MyDrive/train_data/IMG/center_2022_03_06_17_13_26_180.jpg',\n",
              " '/content/drive/MyDrive/train_data/IMG/center_2022_03_06_17_13_26_249.jpg',\n",
              " '/content/drive/MyDrive/train_data/IMG/center_2022_03_06_17_13_26_336.jpg',\n",
              " '/content/drive/MyDrive/train_data/IMG/center_2022_03_06_17_13_26_421.jpg',\n",
              " '/content/drive/MyDrive/train_data/IMG/center_2022_03_06_17_13_26_510.jpg',\n",
              " '/content/drive/MyDrive/train_data/IMG/center_2022_03_06_17_13_26_639.jpg',\n",
              " '/content/drive/MyDrive/train_data/IMG/center_2022_03_06_17_13_26_741.jpg',\n",
              " '/content/drive/MyDrive/train_data/IMG/center_2022_03_06_17_13_26_871.jpg',\n",
              " '/content/drive/MyDrive/train_data/IMG/center_2022_03_06_17_13_26_979.jpg',\n",
              " '/content/drive/MyDrive/train_data/IMG/center_2022_03_06_17_13_27_052.jpg',\n",
              " '/content/drive/MyDrive/train_data/IMG/center_2022_03_06_17_13_27_174.jpg',\n",
              " '/content/drive/MyDrive/train_data/IMG/center_2022_03_06_17_13_27_294.jpg',\n",
              " '/content/drive/MyDrive/train_data/IMG/center_2022_03_06_17_13_27_356.jpg',\n",
              " '/content/drive/MyDrive/train_data/IMG/center_2022_03_06_17_13_27_445.jpg',\n",
              " '/content/drive/MyDrive/train_data/IMG/center_2022_03_06_17_13_27_525.jpg',\n",
              " '/content/drive/MyDrive/train_data/IMG/center_2022_03_06_17_13_27_600.jpg',\n",
              " '/content/drive/MyDrive/train_data/IMG/center_2022_03_06_17_13_27_678.jpg',\n",
              " '/content/drive/MyDrive/train_data/IMG/center_2022_03_06_17_13_27_784.jpg',\n",
              " '/content/drive/MyDrive/train_data/IMG/center_2022_03_06_17_13_27_862.jpg',\n",
              " '/content/drive/MyDrive/train_data/IMG/center_2022_03_06_17_13_27_996.jpg',\n",
              " '/content/drive/MyDrive/train_data/IMG/center_2022_03_06_17_13_28_102.jpg',\n",
              " '/content/drive/MyDrive/train_data/IMG/center_2022_03_06_17_13_28_195.jpg',\n",
              " '/content/drive/MyDrive/train_data/IMG/center_2022_03_06_17_13_28_275.jpg',\n",
              " '/content/drive/MyDrive/train_data/IMG/center_2022_03_06_17_13_28_358.jpg',\n",
              " '/content/drive/MyDrive/train_data/IMG/center_2022_03_06_17_13_28_431.jpg',\n",
              " '/content/drive/MyDrive/train_data/IMG/center_2022_03_06_17_13_28_499.jpg',\n",
              " '/content/drive/MyDrive/train_data/IMG/center_2022_03_06_17_13_28_598.jpg',\n",
              " '/content/drive/MyDrive/train_data/IMG/center_2022_03_06_17_13_28_670.jpg',\n",
              " '/content/drive/MyDrive/train_data/IMG/center_2022_03_06_17_13_28_738.jpg',\n",
              " '/content/drive/MyDrive/train_data/IMG/center_2022_03_06_17_13_28_828.jpg',\n",
              " '/content/drive/MyDrive/train_data/IMG/center_2022_03_06_17_13_28_912.jpg',\n",
              " '/content/drive/MyDrive/train_data/IMG/center_2022_03_06_17_13_28_992.jpg',\n",
              " '/content/drive/MyDrive/train_data/IMG/center_2022_03_06_17_13_29_074.jpg',\n",
              " '/content/drive/MyDrive/train_data/IMG/center_2022_03_06_17_13_29_160.jpg',\n",
              " '/content/drive/MyDrive/train_data/IMG/center_2022_03_06_17_13_29_238.jpg',\n",
              " '/content/drive/MyDrive/train_data/IMG/center_2022_03_06_17_13_29_316.jpg',\n",
              " '/content/drive/MyDrive/train_data/IMG/center_2022_03_06_17_13_29_394.jpg',\n",
              " '/content/drive/MyDrive/train_data/IMG/center_2022_03_06_17_13_29_463.jpg',\n",
              " '/content/drive/MyDrive/train_data/IMG/center_2022_03_06_17_13_29_540.jpg',\n",
              " '/content/drive/MyDrive/train_data/IMG/center_2022_03_06_17_13_29_615.jpg',\n",
              " '/content/drive/MyDrive/train_data/IMG/center_2022_03_06_17_13_29_695.jpg',\n",
              " '/content/drive/MyDrive/train_data/IMG/center_2022_03_06_17_13_29_770.jpg',\n",
              " '/content/drive/MyDrive/train_data/IMG/center_2022_03_06_17_13_29_852.jpg',\n",
              " '/content/drive/MyDrive/train_data/IMG/center_2022_03_06_17_13_29_936.jpg',\n",
              " '/content/drive/MyDrive/train_data/IMG/center_2022_03_06_17_13_30_019.jpg',\n",
              " '/content/drive/MyDrive/train_data/IMG/center_2022_03_06_17_13_30_103.jpg',\n",
              " '/content/drive/MyDrive/train_data/IMG/center_2022_03_06_17_13_30_181.jpg',\n",
              " '/content/drive/MyDrive/train_data/IMG/center_2022_03_06_17_13_30_271.jpg',\n",
              " '/content/drive/MyDrive/train_data/IMG/center_2022_03_06_17_13_30_342.jpg',\n",
              " '/content/drive/MyDrive/train_data/IMG/center_2022_03_06_17_13_30_417.jpg',\n",
              " '/content/drive/MyDrive/train_data/IMG/center_2022_03_06_17_13_30_486.jpg',\n",
              " '/content/drive/MyDrive/train_data/IMG/center_2022_03_06_17_13_30_555.jpg',\n",
              " '/content/drive/MyDrive/train_data/IMG/center_2022_03_06_17_13_30_622.jpg',\n",
              " '/content/drive/MyDrive/train_data/IMG/center_2022_03_06_17_13_30_709.jpg',\n",
              " '/content/drive/MyDrive/train_data/IMG/center_2022_03_06_17_13_30_779.jpg',\n",
              " '/content/drive/MyDrive/train_data/IMG/center_2022_03_06_17_13_30_859.jpg',\n",
              " '/content/drive/MyDrive/train_data/IMG/center_2022_03_06_17_13_30_931.jpg',\n",
              " '/content/drive/MyDrive/train_data/IMG/center_2022_03_06_17_13_31_006.jpg',\n",
              " '/content/drive/MyDrive/train_data/IMG/center_2022_03_06_17_13_31_083.jpg',\n",
              " '/content/drive/MyDrive/train_data/IMG/center_2022_03_06_17_13_31_152.jpg',\n",
              " '/content/drive/MyDrive/train_data/IMG/center_2022_03_06_17_13_31_229.jpg',\n",
              " '/content/drive/MyDrive/train_data/IMG/center_2022_03_06_17_13_31_302.jpg',\n",
              " '/content/drive/MyDrive/train_data/IMG/center_2022_03_06_17_13_31_389.jpg',\n",
              " '/content/drive/MyDrive/train_data/IMG/center_2022_03_06_17_13_31_455.jpg',\n",
              " '/content/drive/MyDrive/train_data/IMG/center_2022_03_06_17_13_31_576.jpg',\n",
              " '/content/drive/MyDrive/train_data/IMG/center_2022_03_06_17_13_31_691.jpg',\n",
              " '/content/drive/MyDrive/train_data/IMG/center_2022_03_06_17_13_31_794.jpg',\n",
              " '/content/drive/MyDrive/train_data/IMG/center_2022_03_06_17_13_31_861.jpg',\n",
              " '/content/drive/MyDrive/train_data/IMG/center_2022_03_06_17_13_31_938.jpg',\n",
              " '/content/drive/MyDrive/train_data/IMG/center_2022_03_06_17_13_32_032.jpg',\n",
              " '/content/drive/MyDrive/train_data/IMG/center_2022_03_06_17_13_32_138.jpg',\n",
              " '/content/drive/MyDrive/train_data/IMG/center_2022_03_06_17_13_32_241.jpg',\n",
              " '/content/drive/MyDrive/train_data/IMG/center_2022_03_06_17_13_32_318.jpg',\n",
              " '/content/drive/MyDrive/train_data/IMG/center_2022_03_06_17_13_32_413.jpg',\n",
              " '/content/drive/MyDrive/train_data/IMG/center_2022_03_06_17_13_32_490.jpg',\n",
              " '/content/drive/MyDrive/train_data/IMG/center_2022_03_06_17_13_32_589.jpg',\n",
              " '/content/drive/MyDrive/train_data/IMG/center_2022_03_06_17_13_32_661.jpg',\n",
              " '/content/drive/MyDrive/train_data/IMG/center_2022_03_06_17_13_32_737.jpg',\n",
              " '/content/drive/MyDrive/train_data/IMG/center_2022_03_06_17_13_32_836.jpg',\n",
              " '/content/drive/MyDrive/train_data/IMG/center_2022_03_06_17_13_32_968.jpg',\n",
              " '/content/drive/MyDrive/train_data/IMG/center_2022_03_06_17_13_33_061.jpg',\n",
              " '/content/drive/MyDrive/train_data/IMG/center_2022_03_06_17_13_33_135.jpg',\n",
              " '/content/drive/MyDrive/train_data/IMG/center_2022_03_06_17_13_33_233.jpg',\n",
              " '/content/drive/MyDrive/train_data/IMG/center_2022_03_06_17_13_33_360.jpg',\n",
              " '/content/drive/MyDrive/train_data/IMG/center_2022_03_06_17_13_33_429.jpg',\n",
              " '/content/drive/MyDrive/train_data/IMG/center_2022_03_06_17_13_33_495.jpg',\n",
              " '/content/drive/MyDrive/train_data/IMG/center_2022_03_06_17_13_33_588.jpg',\n",
              " '/content/drive/MyDrive/train_data/IMG/center_2022_03_06_17_13_33_681.jpg',\n",
              " '/content/drive/MyDrive/train_data/IMG/center_2022_03_06_17_13_33_750.jpg',\n",
              " '/content/drive/MyDrive/train_data/IMG/center_2022_03_06_17_13_33_834.jpg',\n",
              " '/content/drive/MyDrive/train_data/IMG/center_2022_03_06_17_13_33_900.jpg',\n",
              " '/content/drive/MyDrive/train_data/IMG/center_2022_03_06_17_13_33_991.jpg',\n",
              " '/content/drive/MyDrive/train_data/IMG/center_2022_03_06_17_13_34_070.jpg',\n",
              " '/content/drive/MyDrive/train_data/IMG/center_2022_03_06_17_13_34_176.jpg',\n",
              " '/content/drive/MyDrive/train_data/IMG/center_2022_03_06_17_13_34_272.jpg',\n",
              " '/content/drive/MyDrive/train_data/IMG/center_2022_03_06_17_13_34_351.jpg',\n",
              " '/content/drive/MyDrive/train_data/IMG/center_2022_03_06_17_13_34_422.jpg',\n",
              " '/content/drive/MyDrive/train_data/IMG/center_2022_03_06_17_13_34_514.jpg',\n",
              " '/content/drive/MyDrive/train_data/IMG/center_2022_03_06_17_13_34_597.jpg',\n",
              " '/content/drive/MyDrive/train_data/IMG/center_2022_03_06_17_13_34_680.jpg',\n",
              " '/content/drive/MyDrive/train_data/IMG/center_2022_03_06_17_13_34_762.jpg',\n",
              " '/content/drive/MyDrive/train_data/IMG/center_2022_03_06_17_13_34_846.jpg',\n",
              " '/content/drive/MyDrive/train_data/IMG/center_2022_03_06_17_13_34_930.jpg',\n",
              " '/content/drive/MyDrive/train_data/IMG/center_2022_03_06_17_13_35_009.jpg',\n",
              " '/content/drive/MyDrive/train_data/IMG/center_2022_03_06_17_13_35_096.jpg',\n",
              " '/content/drive/MyDrive/train_data/IMG/center_2022_03_06_17_13_35_164.jpg',\n",
              " '/content/drive/MyDrive/train_data/IMG/center_2022_03_06_17_13_35_247.jpg',\n",
              " '/content/drive/MyDrive/train_data/IMG/center_2022_03_06_17_13_35_332.jpg',\n",
              " '/content/drive/MyDrive/train_data/IMG/center_2022_03_06_17_13_35_404.jpg',\n",
              " '/content/drive/MyDrive/train_data/IMG/center_2022_03_06_17_13_35_496.jpg',\n",
              " '/content/drive/MyDrive/train_data/IMG/center_2022_03_06_17_13_35_585.jpg',\n",
              " '/content/drive/MyDrive/train_data/IMG/center_2022_03_06_17_13_35_672.jpg',\n",
              " '/content/drive/MyDrive/train_data/IMG/center_2022_03_06_17_13_35_745.jpg',\n",
              " '/content/drive/MyDrive/train_data/IMG/center_2022_03_06_17_13_35_813.jpg',\n",
              " '/content/drive/MyDrive/train_data/IMG/center_2022_03_06_17_13_35_917.jpg',\n",
              " '/content/drive/MyDrive/train_data/IMG/center_2022_03_06_17_13_35_998.jpg',\n",
              " '/content/drive/MyDrive/train_data/IMG/center_2022_03_06_17_13_36_071.jpg',\n",
              " '/content/drive/MyDrive/train_data/IMG/center_2022_03_06_17_13_36_139.jpg',\n",
              " '/content/drive/MyDrive/train_data/IMG/center_2022_03_06_17_13_36_209.jpg',\n",
              " '/content/drive/MyDrive/train_data/IMG/center_2022_03_06_17_13_36_284.jpg',\n",
              " '/content/drive/MyDrive/train_data/IMG/center_2022_03_06_17_13_36_367.jpg',\n",
              " '/content/drive/MyDrive/train_data/IMG/center_2022_03_06_17_13_36_455.jpg',\n",
              " '/content/drive/MyDrive/train_data/IMG/center_2022_03_06_17_13_36_538.jpg',\n",
              " '/content/drive/MyDrive/train_data/IMG/center_2022_03_06_17_13_36_616.jpg',\n",
              " '/content/drive/MyDrive/train_data/IMG/center_2022_03_06_17_13_36_690.jpg',\n",
              " '/content/drive/MyDrive/train_data/IMG/center_2022_03_06_17_13_36_766.jpg',\n",
              " '/content/drive/MyDrive/train_data/IMG/center_2022_03_06_17_13_36_839.jpg',\n",
              " '/content/drive/MyDrive/train_data/IMG/center_2022_03_06_17_13_36_916.jpg',\n",
              " '/content/drive/MyDrive/train_data/IMG/center_2022_03_06_17_13_36_998.jpg',\n",
              " '/content/drive/MyDrive/train_data/IMG/center_2022_03_06_17_13_37_076.jpg',\n",
              " '/content/drive/MyDrive/train_data/IMG/center_2022_03_06_17_13_37_143.jpg',\n",
              " '/content/drive/MyDrive/train_data/IMG/center_2022_03_06_17_13_37_218.jpg',\n",
              " '/content/drive/MyDrive/train_data/IMG/center_2022_03_06_17_13_37_305.jpg',\n",
              " '/content/drive/MyDrive/train_data/IMG/center_2022_03_06_17_13_37_392.jpg',\n",
              " '/content/drive/MyDrive/train_data/IMG/center_2022_03_06_17_13_37_471.jpg',\n",
              " '/content/drive/MyDrive/train_data/IMG/center_2022_03_06_17_13_37_578.jpg',\n",
              " '/content/drive/MyDrive/train_data/IMG/center_2022_03_06_17_13_37_673.jpg',\n",
              " '/content/drive/MyDrive/train_data/IMG/center_2022_03_06_17_13_37_756.jpg',\n",
              " '/content/drive/MyDrive/train_data/IMG/center_2022_03_06_17_13_37_855.jpg',\n",
              " '/content/drive/MyDrive/train_data/IMG/center_2022_03_06_17_13_37_948.jpg',\n",
              " '/content/drive/MyDrive/train_data/IMG/center_2022_03_06_17_13_38_049.jpg',\n",
              " '/content/drive/MyDrive/train_data/IMG/center_2022_03_06_17_13_38_144.jpg',\n",
              " '/content/drive/MyDrive/train_data/IMG/center_2022_03_06_17_13_38_230.jpg',\n",
              " '/content/drive/MyDrive/train_data/IMG/center_2022_03_06_17_13_38_304.jpg',\n",
              " '/content/drive/MyDrive/train_data/IMG/center_2022_03_06_17_13_38_393.jpg',\n",
              " '/content/drive/MyDrive/train_data/IMG/center_2022_03_06_17_13_38_486.jpg',\n",
              " '/content/drive/MyDrive/train_data/IMG/center_2022_03_06_17_13_38_560.jpg',\n",
              " '/content/drive/MyDrive/train_data/IMG/center_2022_03_06_17_13_38_655.jpg',\n",
              " '/content/drive/MyDrive/train_data/IMG/center_2022_03_06_17_13_38_728.jpg',\n",
              " '/content/drive/MyDrive/train_data/IMG/center_2022_03_06_17_13_38_814.jpg',\n",
              " '/content/drive/MyDrive/train_data/IMG/center_2022_03_06_17_13_38_887.jpg',\n",
              " '/content/drive/MyDrive/train_data/IMG/center_2022_03_06_17_13_38_986.jpg',\n",
              " '/content/drive/MyDrive/train_data/IMG/center_2022_03_06_17_13_39_083.jpg',\n",
              " '/content/drive/MyDrive/train_data/IMG/center_2022_03_06_17_13_39_174.jpg',\n",
              " '/content/drive/MyDrive/train_data/IMG/center_2022_03_06_17_13_39_242.jpg',\n",
              " '/content/drive/MyDrive/train_data/IMG/center_2022_03_06_17_13_39_324.jpg',\n",
              " '/content/drive/MyDrive/train_data/IMG/center_2022_03_06_17_13_39_398.jpg',\n",
              " '/content/drive/MyDrive/train_data/IMG/center_2022_03_06_17_13_39_475.jpg',\n",
              " '/content/drive/MyDrive/train_data/IMG/center_2022_03_06_17_13_39_560.jpg',\n",
              " '/content/drive/MyDrive/train_data/IMG/center_2022_03_06_17_13_39_628.jpg',\n",
              " '/content/drive/MyDrive/train_data/IMG/center_2022_03_06_17_13_39_702.jpg',\n",
              " '/content/drive/MyDrive/train_data/IMG/center_2022_03_06_17_13_39_784.jpg',\n",
              " '/content/drive/MyDrive/train_data/IMG/center_2022_03_06_17_13_39_864.jpg',\n",
              " '/content/drive/MyDrive/train_data/IMG/center_2022_03_06_17_13_39_949.jpg',\n",
              " '/content/drive/MyDrive/train_data/IMG/center_2022_03_06_17_13_40_020.jpg',\n",
              " '/content/drive/MyDrive/train_data/IMG/center_2022_03_06_17_13_40_090.jpg',\n",
              " '/content/drive/MyDrive/train_data/IMG/center_2022_03_06_17_13_40_180.jpg',\n",
              " '/content/drive/MyDrive/train_data/IMG/center_2022_03_06_17_13_40_263.jpg',\n",
              " '/content/drive/MyDrive/train_data/IMG/center_2022_03_06_17_13_40_335.jpg',\n",
              " '/content/drive/MyDrive/train_data/IMG/center_2022_03_06_17_13_40_414.jpg',\n",
              " '/content/drive/MyDrive/train_data/IMG/center_2022_03_06_17_13_40_491.jpg',\n",
              " '/content/drive/MyDrive/train_data/IMG/center_2022_03_06_17_13_40_567.jpg',\n",
              " '/content/drive/MyDrive/train_data/IMG/center_2022_03_06_17_13_40_641.jpg',\n",
              " '/content/drive/MyDrive/train_data/IMG/center_2022_03_06_17_13_40_713.jpg',\n",
              " '/content/drive/MyDrive/train_data/IMG/center_2022_03_06_17_13_40_795.jpg',\n",
              " '/content/drive/MyDrive/train_data/IMG/center_2022_03_06_17_13_40_877.jpg',\n",
              " '/content/drive/MyDrive/train_data/IMG/center_2022_03_06_17_13_40_959.jpg',\n",
              " '/content/drive/MyDrive/train_data/IMG/center_2022_03_06_17_13_41_049.jpg',\n",
              " '/content/drive/MyDrive/train_data/IMG/center_2022_03_06_17_13_41_133.jpg',\n",
              " '/content/drive/MyDrive/train_data/IMG/center_2022_03_06_17_13_41_194.jpg',\n",
              " '/content/drive/MyDrive/train_data/IMG/center_2022_03_06_17_13_41_288.jpg',\n",
              " '/content/drive/MyDrive/train_data/IMG/center_2022_03_06_17_13_41_357.jpg',\n",
              " '/content/drive/MyDrive/train_data/IMG/center_2022_03_06_17_13_41_464.jpg',\n",
              " '/content/drive/MyDrive/train_data/IMG/center_2022_03_06_17_13_41_579.jpg',\n",
              " '/content/drive/MyDrive/train_data/IMG/center_2022_03_06_17_13_41_693.jpg',\n",
              " '/content/drive/MyDrive/train_data/IMG/center_2022_03_06_17_13_41_813.jpg',\n",
              " '/content/drive/MyDrive/train_data/IMG/center_2022_03_06_17_13_41_918.jpg',\n",
              " '/content/drive/MyDrive/train_data/IMG/center_2022_03_06_17_13_42_030.jpg',\n",
              " '/content/drive/MyDrive/train_data/IMG/center_2022_03_06_17_13_42_131.jpg',\n",
              " '/content/drive/MyDrive/train_data/IMG/center_2022_03_06_17_13_42_220.jpg',\n",
              " '/content/drive/MyDrive/train_data/IMG/center_2022_03_06_17_13_42_295.jpg',\n",
              " '/content/drive/MyDrive/train_data/IMG/center_2022_03_06_17_13_42_370.jpg',\n",
              " '/content/drive/MyDrive/train_data/IMG/center_2022_03_06_17_13_42_453.jpg',\n",
              " '/content/drive/MyDrive/train_data/IMG/center_2022_03_06_17_13_42_537.jpg',\n",
              " '/content/drive/MyDrive/train_data/IMG/center_2022_03_06_17_13_42_618.jpg',\n",
              " '/content/drive/MyDrive/train_data/IMG/center_2022_03_06_17_13_42_688.jpg',\n",
              " '/content/drive/MyDrive/train_data/IMG/center_2022_03_06_17_13_42_774.jpg',\n",
              " '/content/drive/MyDrive/train_data/IMG/center_2022_03_06_17_13_42_846.jpg',\n",
              " '/content/drive/MyDrive/train_data/IMG/center_2022_03_06_17_13_42_924.jpg',\n",
              " '/content/drive/MyDrive/train_data/IMG/center_2022_03_06_17_13_42_996.jpg',\n",
              " '/content/drive/MyDrive/train_data/IMG/center_2022_03_06_17_13_43_068.jpg',\n",
              " '/content/drive/MyDrive/train_data/IMG/center_2022_03_06_17_13_43_145.jpg',\n",
              " '/content/drive/MyDrive/train_data/IMG/center_2022_03_06_17_13_43_219.jpg',\n",
              " '/content/drive/MyDrive/train_data/IMG/center_2022_03_06_17_13_43_292.jpg',\n",
              " '/content/drive/MyDrive/train_data/IMG/center_2022_03_06_17_13_43_367.jpg',\n",
              " '/content/drive/MyDrive/train_data/IMG/center_2022_03_06_17_13_43_436.jpg',\n",
              " '/content/drive/MyDrive/train_data/IMG/center_2022_03_06_17_13_43_518.jpg',\n",
              " '/content/drive/MyDrive/train_data/IMG/center_2022_03_06_17_13_43_601.jpg',\n",
              " '/content/drive/MyDrive/train_data/IMG/center_2022_03_06_17_13_43_679.jpg',\n",
              " '/content/drive/MyDrive/train_data/IMG/center_2022_03_06_17_13_43_760.jpg',\n",
              " '/content/drive/MyDrive/train_data/IMG/center_2022_03_06_17_13_43_833.jpg',\n",
              " '/content/drive/MyDrive/train_data/IMG/center_2022_03_06_17_13_43_918.jpg',\n",
              " '/content/drive/MyDrive/train_data/IMG/center_2022_03_06_17_13_43_997.jpg',\n",
              " '/content/drive/MyDrive/train_data/IMG/center_2022_03_06_17_13_44_080.jpg',\n",
              " '/content/drive/MyDrive/train_data/IMG/center_2022_03_06_17_13_44_163.jpg',\n",
              " '/content/drive/MyDrive/train_data/IMG/center_2022_03_06_17_13_44_248.jpg',\n",
              " '/content/drive/MyDrive/train_data/IMG/center_2022_03_06_17_13_44_328.jpg',\n",
              " '/content/drive/MyDrive/train_data/IMG/center_2022_03_06_17_13_44_403.jpg',\n",
              " '/content/drive/MyDrive/train_data/IMG/center_2022_03_06_17_13_44_481.jpg',\n",
              " '/content/drive/MyDrive/train_data/IMG/center_2022_03_06_17_13_44_555.jpg',\n",
              " '/content/drive/MyDrive/train_data/IMG/center_2022_03_06_17_13_44_629.jpg',\n",
              " '/content/drive/MyDrive/train_data/IMG/center_2022_03_06_17_13_44_701.jpg',\n",
              " '/content/drive/MyDrive/train_data/IMG/center_2022_03_06_17_13_44_782.jpg',\n",
              " '/content/drive/MyDrive/train_data/IMG/center_2022_03_06_17_13_44_857.jpg',\n",
              " '/content/drive/MyDrive/train_data/IMG/center_2022_03_06_17_13_44_935.jpg',\n",
              " '/content/drive/MyDrive/train_data/IMG/center_2022_03_06_17_13_45_014.jpg',\n",
              " '/content/drive/MyDrive/train_data/IMG/center_2022_03_06_17_13_45_092.jpg',\n",
              " '/content/drive/MyDrive/train_data/IMG/center_2022_03_06_17_13_45_171.jpg',\n",
              " '/content/drive/MyDrive/train_data/IMG/center_2022_03_06_17_13_45_257.jpg',\n",
              " '/content/drive/MyDrive/train_data/IMG/center_2022_03_06_17_13_45_341.jpg',\n",
              " '/content/drive/MyDrive/train_data/IMG/center_2022_03_06_17_13_45_408.jpg',\n",
              " '/content/drive/MyDrive/train_data/IMG/center_2022_03_06_17_13_45_487.jpg',\n",
              " '/content/drive/MyDrive/train_data/IMG/center_2022_03_06_17_13_45_568.jpg',\n",
              " '/content/drive/MyDrive/train_data/IMG/center_2022_03_06_17_13_45_649.jpg',\n",
              " '/content/drive/MyDrive/train_data/IMG/center_2022_03_06_17_13_45_726.jpg',\n",
              " '/content/drive/MyDrive/train_data/IMG/center_2022_03_06_17_13_45_804.jpg',\n",
              " '/content/drive/MyDrive/train_data/IMG/center_2022_03_06_17_13_45_885.jpg',\n",
              " '/content/drive/MyDrive/train_data/IMG/center_2022_03_06_17_13_45_965.jpg',\n",
              " '/content/drive/MyDrive/train_data/IMG/center_2022_03_06_17_13_46_043.jpg',\n",
              " '/content/drive/MyDrive/train_data/IMG/center_2022_03_06_17_13_46_122.jpg',\n",
              " '/content/drive/MyDrive/train_data/IMG/center_2022_03_06_17_13_46_184.jpg',\n",
              " '/content/drive/MyDrive/train_data/IMG/center_2022_03_06_17_13_46_269.jpg',\n",
              " '/content/drive/MyDrive/train_data/IMG/center_2022_03_06_17_13_46_354.jpg',\n",
              " '/content/drive/MyDrive/train_data/IMG/center_2022_03_06_17_13_46_436.jpg',\n",
              " '/content/drive/MyDrive/train_data/IMG/center_2022_03_06_17_13_46_518.jpg',\n",
              " '/content/drive/MyDrive/train_data/IMG/center_2022_03_06_17_13_46_603.jpg',\n",
              " '/content/drive/MyDrive/train_data/IMG/center_2022_03_06_17_13_46_685.jpg',\n",
              " '/content/drive/MyDrive/train_data/IMG/center_2022_03_06_17_13_46_774.jpg',\n",
              " '/content/drive/MyDrive/train_data/IMG/center_2022_03_06_17_13_46_856.jpg',\n",
              " '/content/drive/MyDrive/train_data/IMG/center_2022_03_06_17_13_46_935.jpg',\n",
              " '/content/drive/MyDrive/train_data/IMG/center_2022_03_06_17_13_47_020.jpg',\n",
              " '/content/drive/MyDrive/train_data/IMG/center_2022_03_06_17_13_47_099.jpg',\n",
              " '/content/drive/MyDrive/train_data/IMG/center_2022_03_06_17_13_47_166.jpg',\n",
              " '/content/drive/MyDrive/train_data/IMG/center_2022_03_06_17_13_47_233.jpg',\n",
              " '/content/drive/MyDrive/train_data/IMG/center_2022_03_06_17_13_47_306.jpg',\n",
              " '/content/drive/MyDrive/train_data/IMG/center_2022_03_06_17_13_47_375.jpg',\n",
              " '/content/drive/MyDrive/train_data/IMG/center_2022_03_06_17_13_47_443.jpg',\n",
              " '/content/drive/MyDrive/train_data/IMG/center_2022_03_06_17_13_47_528.jpg',\n",
              " '/content/drive/MyDrive/train_data/IMG/center_2022_03_06_17_13_47_613.jpg',\n",
              " '/content/drive/MyDrive/train_data/IMG/center_2022_03_06_17_13_47_683.jpg',\n",
              " '/content/drive/MyDrive/train_data/IMG/center_2022_03_06_17_13_47_750.jpg',\n",
              " '/content/drive/MyDrive/train_data/IMG/center_2022_03_06_17_13_47_835.jpg',\n",
              " '/content/drive/MyDrive/train_data/IMG/center_2022_03_06_17_13_47_914.jpg',\n",
              " '/content/drive/MyDrive/train_data/IMG/center_2022_03_06_17_13_47_984.jpg',\n",
              " '/content/drive/MyDrive/train_data/IMG/center_2022_03_06_17_13_48_064.jpg',\n",
              " '/content/drive/MyDrive/train_data/IMG/center_2022_03_06_17_13_48_128.jpg',\n",
              " '/content/drive/MyDrive/train_data/IMG/center_2022_03_06_17_13_48_207.jpg',\n",
              " '/content/drive/MyDrive/train_data/IMG/center_2022_03_06_17_13_48_282.jpg',\n",
              " '/content/drive/MyDrive/train_data/IMG/center_2022_03_06_17_13_48_355.jpg',\n",
              " '/content/drive/MyDrive/train_data/IMG/center_2022_03_06_17_13_48_428.jpg',\n",
              " '/content/drive/MyDrive/train_data/IMG/center_2022_03_06_17_13_48_498.jpg',\n",
              " '/content/drive/MyDrive/train_data/IMG/center_2022_03_06_17_13_48_579.jpg',\n",
              " '/content/drive/MyDrive/train_data/IMG/center_2022_03_06_17_13_48_655.jpg',\n",
              " '/content/drive/MyDrive/train_data/IMG/center_2022_03_06_17_13_48_735.jpg',\n",
              " '/content/drive/MyDrive/train_data/IMG/center_2022_03_06_17_13_48_830.jpg',\n",
              " '/content/drive/MyDrive/train_data/IMG/center_2022_03_06_17_13_48_940.jpg',\n",
              " '/content/drive/MyDrive/train_data/IMG/center_2022_03_06_17_13_49_015.jpg',\n",
              " '/content/drive/MyDrive/train_data/IMG/center_2022_03_06_17_13_49_091.jpg',\n",
              " '/content/drive/MyDrive/train_data/IMG/center_2022_03_06_17_13_49_166.jpg',\n",
              " '/content/drive/MyDrive/train_data/IMG/center_2022_03_06_17_13_49_255.jpg',\n",
              " '/content/drive/MyDrive/train_data/IMG/center_2022_03_06_17_13_49_332.jpg',\n",
              " '/content/drive/MyDrive/train_data/IMG/center_2022_03_06_17_13_49_399.jpg',\n",
              " '/content/drive/MyDrive/train_data/IMG/center_2022_03_06_17_13_49_475.jpg',\n",
              " '/content/drive/MyDrive/train_data/IMG/center_2022_03_06_17_13_49_546.jpg',\n",
              " '/content/drive/MyDrive/train_data/IMG/center_2022_03_06_17_13_49_615.jpg',\n",
              " '/content/drive/MyDrive/train_data/IMG/center_2022_03_06_17_13_49_694.jpg',\n",
              " '/content/drive/MyDrive/train_data/IMG/center_2022_03_06_17_13_49_767.jpg',\n",
              " '/content/drive/MyDrive/train_data/IMG/center_2022_03_06_17_13_49_842.jpg',\n",
              " '/content/drive/MyDrive/train_data/IMG/center_2022_03_06_17_13_49_920.jpg',\n",
              " '/content/drive/MyDrive/train_data/IMG/center_2022_03_06_17_13_49_998.jpg',\n",
              " '/content/drive/MyDrive/train_data/IMG/center_2022_03_06_17_13_50_077.jpg',\n",
              " '/content/drive/MyDrive/train_data/IMG/center_2022_03_06_17_13_50_153.jpg',\n",
              " '/content/drive/MyDrive/train_data/IMG/center_2022_03_06_17_13_50_223.jpg',\n",
              " '/content/drive/MyDrive/train_data/IMG/center_2022_03_06_17_13_50_302.jpg',\n",
              " '/content/drive/MyDrive/train_data/IMG/center_2022_03_06_17_13_50_382.jpg',\n",
              " '/content/drive/MyDrive/train_data/IMG/center_2022_03_06_17_13_50_455.jpg',\n",
              " '/content/drive/MyDrive/train_data/IMG/center_2022_03_06_17_13_50_534.jpg',\n",
              " '/content/drive/MyDrive/train_data/IMG/center_2022_03_06_17_13_50_632.jpg',\n",
              " '/content/drive/MyDrive/train_data/IMG/center_2022_03_06_17_13_50_724.jpg',\n",
              " '/content/drive/MyDrive/train_data/IMG/center_2022_03_06_17_13_50_825.jpg',\n",
              " '/content/drive/MyDrive/train_data/IMG/center_2022_03_06_17_13_50_915.jpg',\n",
              " '/content/drive/MyDrive/train_data/IMG/center_2022_03_06_17_13_50_988.jpg',\n",
              " '/content/drive/MyDrive/train_data/IMG/center_2022_03_06_17_13_51_082.jpg',\n",
              " '/content/drive/MyDrive/train_data/IMG/center_2022_03_06_17_13_51_161.jpg',\n",
              " '/content/drive/MyDrive/train_data/IMG/center_2022_03_06_17_13_51_244.jpg',\n",
              " '/content/drive/MyDrive/train_data/IMG/center_2022_03_06_17_13_51_322.jpg',\n",
              " '/content/drive/MyDrive/train_data/IMG/center_2022_03_06_17_13_51_406.jpg',\n",
              " '/content/drive/MyDrive/train_data/IMG/center_2022_03_06_17_13_51_502.jpg',\n",
              " '/content/drive/MyDrive/train_data/IMG/center_2022_03_06_17_13_51_598.jpg',\n",
              " '/content/drive/MyDrive/train_data/IMG/center_2022_03_06_17_13_51_706.jpg',\n",
              " '/content/drive/MyDrive/train_data/IMG/center_2022_03_06_17_13_51_798.jpg',\n",
              " '/content/drive/MyDrive/train_data/IMG/center_2022_03_06_17_13_51_884.jpg',\n",
              " '/content/drive/MyDrive/train_data/IMG/center_2022_03_06_17_13_51_983.jpg',\n",
              " '/content/drive/MyDrive/train_data/IMG/center_2022_03_06_17_13_52_082.jpg',\n",
              " '/content/drive/MyDrive/train_data/IMG/center_2022_03_06_17_13_52_154.jpg',\n",
              " '/content/drive/MyDrive/train_data/IMG/center_2022_03_06_17_13_52_223.jpg',\n",
              " '/content/drive/MyDrive/train_data/IMG/center_2022_03_06_17_13_52_292.jpg',\n",
              " '/content/drive/MyDrive/train_data/IMG/center_2022_03_06_17_13_52_368.jpg',\n",
              " '/content/drive/MyDrive/train_data/IMG/center_2022_03_06_17_13_52_464.jpg',\n",
              " '/content/drive/MyDrive/train_data/IMG/center_2022_03_06_17_13_52_549.jpg',\n",
              " '/content/drive/MyDrive/train_data/IMG/center_2022_03_06_17_13_52_658.jpg',\n",
              " '/content/drive/MyDrive/train_data/IMG/center_2022_03_06_17_13_52_754.jpg',\n",
              " '/content/drive/MyDrive/train_data/IMG/center_2022_03_06_17_13_52_853.jpg',\n",
              " '/content/drive/MyDrive/train_data/IMG/center_2022_03_06_17_13_52_969.jpg',\n",
              " '/content/drive/MyDrive/train_data/IMG/center_2022_03_06_17_13_53_084.jpg',\n",
              " '/content/drive/MyDrive/train_data/IMG/center_2022_03_06_17_13_53_164.jpg',\n",
              " '/content/drive/MyDrive/train_data/IMG/center_2022_03_06_17_13_53_249.jpg',\n",
              " '/content/drive/MyDrive/train_data/IMG/center_2022_03_06_17_13_53_320.jpg',\n",
              " '/content/drive/MyDrive/train_data/IMG/center_2022_03_06_17_13_53_394.jpg',\n",
              " '/content/drive/MyDrive/train_data/IMG/center_2022_03_06_17_13_53_456.jpg',\n",
              " '/content/drive/MyDrive/train_data/IMG/center_2022_03_06_17_13_53_546.jpg',\n",
              " '/content/drive/MyDrive/train_data/IMG/center_2022_03_06_17_13_53_638.jpg',\n",
              " '/content/drive/MyDrive/train_data/IMG/center_2022_03_06_17_13_54_026.jpg',\n",
              " '/content/drive/MyDrive/train_data/IMG/center_2022_03_06_17_13_54_079.jpg',\n",
              " '/content/drive/MyDrive/train_data/IMG/center_2022_03_06_17_13_54_132.jpg',\n",
              " '/content/drive/MyDrive/train_data/IMG/center_2022_03_06_17_13_54_214.jpg',\n",
              " '/content/drive/MyDrive/train_data/IMG/center_2022_03_06_17_13_54_281.jpg',\n",
              " '/content/drive/MyDrive/train_data/IMG/center_2022_03_06_17_13_54_354.jpg',\n",
              " '/content/drive/MyDrive/train_data/IMG/center_2022_03_06_17_13_54_423.jpg',\n",
              " '/content/drive/MyDrive/train_data/IMG/center_2022_03_06_17_13_54_508.jpg',\n",
              " '/content/drive/MyDrive/train_data/IMG/center_2022_03_06_17_13_54_583.jpg',\n",
              " '/content/drive/MyDrive/train_data/IMG/center_2022_03_06_17_13_54_658.jpg',\n",
              " '/content/drive/MyDrive/train_data/IMG/center_2022_03_06_17_13_54_729.jpg',\n",
              " '/content/drive/MyDrive/train_data/IMG/center_2022_03_06_17_13_54_810.jpg',\n",
              " '/content/drive/MyDrive/train_data/IMG/center_2022_03_06_17_13_54_895.jpg',\n",
              " ...]"
            ]
          },
          "metadata": {},
          "execution_count": 6
        }
      ],
      "source": [
        "paths = [ '/content/drive/MyDrive/train_data/IMG/' + x.split('\\\\')[-1] for x in X_dir]\n",
        "paths"
      ]
    },
    {
      "cell_type": "code",
      "execution_count": 7,
      "metadata": {
        "id": "egPu_nJyqirJ"
      },
      "outputs": [],
      "source": [
        "# Load and display the image\n",
        "def load_and_prep_image(filename,image_shape = 224):\n",
        "  '''\n",
        "  load image from the path , turn it into tensor and display it\n",
        "  Arguments:\n",
        "  filename --- the file's path\n",
        "  image_shape --- the shape of image\n",
        "  Return:\n",
        "  img --- image tensor\n",
        "  '''\n",
        "  # Read image from path\n",
        "  img = tf.io.read_file(filename)\n",
        "  # Decode it into tensor\n",
        "  img = tf.image.decode_image(img,channels = 3)\n",
        "  # Resize the image to the same size we train\n",
        "  img = tf.image.resize(img,size = [image_shape,image_shape])\n",
        "  # Normalization the img\n",
        "  img = img *1./255\n",
        "  return img"
      ]
    },
    {
      "cell_type": "code",
      "execution_count": 8,
      "metadata": {
        "colab": {
          "base_uri": "https://localhost:8080/",
          "height": 298
        },
        "id": "2zQca9Zos5ny",
        "outputId": "0cc0019e-0fd5-4430-cea0-23fc5ccc8454"
      },
      "outputs": [
        {
          "output_type": "execute_result",
          "data": {
            "text/plain": [
              "Text(0.5, 1.0, 'center_2022_03_06_17_12_32_776.jpg')"
            ]
          },
          "metadata": {},
          "execution_count": 8
        },
        {
          "output_type": "display_data",
          "data": {
            "image/png": "[encoded data removed]",
            "text/plain": [
              "<Figure size 432x288 with 1 Axes>"
            ]
          },
          "metadata": {
            "needs_background": "light"
          }
        }
      ],
      "source": [
        "img = load_and_prep_image(paths[0],image_shape = 224)\n",
        "plt.imshow(img)\n",
        "plt.title(paths[0].split('/')[-1])"
      ]
    },
    {
      "cell_type": "code",
      "execution_count": 9,
      "metadata": {
        "colab": {
          "base_uri": "https://localhost:8080/"
        },
        "id": "rGSQDQ1JvbkQ",
        "outputId": "65c54388-095a-41db-bb08-f77368deccad"
      },
      "outputs": [
        {
          "output_type": "execute_result",
          "data": {
            "text/plain": [
              "TensorShape([1, 224, 224, 3])"
            ]
          },
          "metadata": {},
          "execution_count": 9
        }
      ],
      "source": [
        "img = tf.expand_dims(img,axis = 0)\n",
        "img.shape"
      ]
    },
    {
      "cell_type": "code",
      "execution_count": 10,
      "metadata": {
        "colab": {
          "base_uri": "https://localhost:8080/"
        },
        "id": "QuvWwuP8ve6H",
        "outputId": "66f3ae4b-f0df-41cf-a270-62b3197becad"
      },
      "outputs": [
        {
          "output_type": "execute_result",
          "data": {
            "text/plain": [
              "TensorShape([2, 224, 224, 3])"
            ]
          },
          "metadata": {},
          "execution_count": 10
        }
      ],
      "source": [
        "img = tf.concat([img,\n",
        "                 tf.expand_dims(load_and_prep_image(paths[1],image_shape = 224),axis = 0)],\n",
        "                axis =0)\n",
        "img.shape"
      ]
    },
    {
      "cell_type": "code",
      "execution_count": 11,
      "metadata": {
        "colab": {
          "base_uri": "https://localhost:8080/"
        },
        "id": "l5oNOkp3w6W7",
        "outputId": "861ad964-9ce6-4b09-c5b7-977becee75a0"
      },
      "outputs": [
        {
          "output_type": "stream",
          "name": "stdout",
          "text": [
            "(1, 224, 224, 3)\n"
          ]
        }
      ],
      "source": [
        "# Create the first img in dataset\n",
        "X = tf.expand_dims(load_and_prep_image(paths[0],image_shape = 224),axis = 0)\n",
        "print(X.shape)"
      ]
    },
    {
      "cell_type": "code",
      "execution_count": 12,
      "metadata": {
        "id": "KqZz4CuvwFH5",
        "colab": {
          "base_uri": "https://localhost:8080/"
        },
        "outputId": "df12d4c3-7854-4254-f53a-e59e7fa33ad8"
      },
      "outputs": [
        {
          "output_type": "stream",
          "name": "stderr",
          "text": [
            "100%|██████████| 3297/3297 [13:34<00:00,  4.05it/s]"
          ]
        },
        {
          "output_type": "stream",
          "name": "stdout",
          "text": [
            "number of image: 3298\n",
            "X.shape: (3298, 224, 224, 3)\n"
          ]
        },
        {
          "output_type": "stream",
          "name": "stderr",
          "text": [
            "\n"
          ]
        }
      ],
      "source": [
        "from tqdm import tqdm, trange\n",
        "\n",
        "for i in tqdm(range(1,len(paths))):\n",
        "  X = tf.concat([X,tf.expand_dims(load_and_prep_image(paths[i],image_shape = 224),axis = 0)],axis =0)\n",
        "  \n",
        "print(f'number of image: {len(paths)}')\n",
        "print(f'X.shape: {X.shape}')"
      ]
    },
    {
      "cell_type": "code",
      "execution_count": 13,
      "metadata": {
        "id": "D8i5CM5NxjpY",
        "colab": {
          "base_uri": "https://localhost:8080/"
        },
        "outputId": "8a85a6a4-704d-4c31-e990-537175fe6ee4"
      },
      "outputs": [
        {
          "output_type": "stream",
          "name": "stdout",
          "text": [
            "[====================] 100%"
          ]
        }
      ],
      "source": [
        "import sys\n",
        "from time import sleep\n",
        "for i in range(21):\n",
        "  sys.stdout.write('\\r')\n",
        "  # the exact ouput you are looking for:\n",
        "  sys.stdout.write('[%-20s] %d%%' % ('='*i,5*i))\n",
        "  sys.stdout.flush()\n",
        "  sleep(0.25)"
      ]
    },
    {
      "cell_type": "code",
      "execution_count": 14,
      "metadata": {
        "id": "CT94syKB54Ym",
        "colab": {
          "base_uri": "https://localhost:8080/"
        },
        "outputId": "0345465f-2acf-4aaa-c93b-f77182931146"
      },
      "outputs": [
        {
          "output_type": "stream",
          "name": "stderr",
          "text": [
            "100%|██████████| 3297/3297 [00:34<00:00, 96.82it/s]\n"
          ]
        }
      ],
      "source": [
        "from tqdm import tqdm, trange\n",
        "import time\n",
        "for i in tqdm(range(1,len(paths))):\n",
        "  #print(i)\n",
        "  sleep(0.01)"
      ]
    },
    {
      "cell_type": "code",
      "execution_count": 15,
      "metadata": {
        "id": "GFvacscc8Pa6",
        "colab": {
          "base_uri": "https://localhost:8080/"
        },
        "outputId": "41927541-99c0-4bf8-a56d-290f6e768da7"
      },
      "outputs": [
        {
          "output_type": "execute_result",
          "data": {
            "text/plain": [
              "(3298,)"
            ]
          },
          "metadata": {},
          "execution_count": 15
        }
      ],
      "source": [
        "y = df['steering'].values\n",
        "#y = tf.constant(y,dtype = tf.float32)\n",
        "# y = y.reshape(-1,1)\n",
        "y.shape\n",
        "# y = tf.constant(y)\n",
        "# y.shape"
      ]
    },
    {
      "cell_type": "code",
      "execution_count": 16,
      "metadata": {
        "id": "fuycUz2BCGMM",
        "colab": {
          "base_uri": "https://localhost:8080/",
          "height": 298
        },
        "outputId": "21c065fd-1442-4be3-90e0-d849d6bf72e3"
      },
      "outputs": [
        {
          "output_type": "execute_result",
          "data": {
            "text/plain": [
              "Text(0.5, 1.0, 'hist-steering')"
            ]
          },
          "metadata": {},
          "execution_count": 16
        },
        {
          "output_type": "display_data",
          "data": {
            "image/png": "[encoded data removed]",
            "text/plain": [
              "<Figure size 432x288 with 1 Axes>"
            ]
          },
          "metadata": {
            "needs_background": "light"
          }
        }
      ],
      "source": [
        "plt.hist(y)\n",
        "plt.title('hist-steering')"
      ]
    },
    {
      "cell_type": "code",
      "execution_count": 17,
      "metadata": {
        "id": "xAgSQR7UCOa2",
        "colab": {
          "base_uri": "https://localhost:8080/",
          "height": 298
        },
        "outputId": "30f3d777-19bc-407b-f4d5-67fc7094e132"
      },
      "outputs": [
        {
          "output_type": "execute_result",
          "data": {
            "text/plain": [
              "Text(0.5, 1.0, 'plot-steering')"
            ]
          },
          "metadata": {},
          "execution_count": 17
        },
        {
          "output_type": "display_data",
          "data": {
            "image/png": "[encoded data removed]",
            "text/plain": [
              "<Figure size 432x288 with 1 Axes>"
            ]
          },
          "metadata": {
            "needs_background": "light"
          }
        }
      ],
      "source": [
        "plt.plot(y)\n",
        "plt.title('plot-steering')"
      ]
    },
    {
      "cell_type": "code",
      "execution_count": 18,
      "metadata": {
        "id": "70TGhvD5JSa9"
      },
      "outputs": [],
      "source": [
        "X_32 = tf.cast(X,tf.float32)"
      ]
    },
    {
      "cell_type": "code",
      "execution_count": 19,
      "metadata": {
        "id": "3JNz3OYIC5Zk",
        "colab": {
          "base_uri": "https://localhost:8080/"
        },
        "outputId": "48057524-cb40-4bac-923f-e9b7cbc5b10e"
      },
      "outputs": [
        {
          "output_type": "stream",
          "name": "stdout",
          "text": [
            "split at value 1979\n"
          ]
        }
      ],
      "source": [
        "sl = round(0.6 * len(paths))\n",
        "print(f\"split at value {sl}\")\n",
        "X_train = X[:sl]\n",
        "X_test = X[sl:]\n",
        "y_train = y[:sl]\n",
        "y_test = y[sl:]"
      ]
    },
    {
      "cell_type": "code",
      "execution_count": 20,
      "metadata": {
        "id": "VZ8rPFSZHRP1",
        "colab": {
          "base_uri": "https://localhost:8080/"
        },
        "outputId": "dc0d7efa-df8c-43d2-a694-bec6cddde912"
      },
      "outputs": [
        {
          "output_type": "stream",
          "name": "stdout",
          "text": [
            "X_train.shape (1979, 224, 224, 3)\n",
            "y_train.shape (1979,)\n",
            "X_test.shape (1319, 224, 224, 3)\n",
            "y_test.shape (1319,)\n"
          ]
        }
      ],
      "source": [
        "print(f'X_train.shape {X_train.shape}')\n",
        "print(f'y_train.shape {y_train.shape}')\n",
        "print(f'X_test.shape {X_test.shape}')\n",
        "print(f'y_test.shape {y_test.shape}')"
      ]
    },
    {
      "cell_type": "code",
      "execution_count": 21,
      "metadata": {
        "id": "XPVJqA_IFTIv",
        "colab": {
          "base_uri": "https://localhost:8080/"
        },
        "outputId": "b15bf652-a42b-4233-a013-d2549970ff1b"
      },
      "outputs": [
        {
          "output_type": "execute_result",
          "data": {
            "text/plain": [
              "tf.float32"
            ]
          },
          "metadata": {},
          "execution_count": 21
        }
      ],
      "source": [
        "X[0].dtype"
      ]
    },
    {
      "cell_type": "code",
      "execution_count": 22,
      "metadata": {
        "id": "DDaAQj9REvOU",
        "colab": {
          "base_uri": "https://localhost:8080/"
        },
        "outputId": "686b4621-57c7-4639-9439-910dd0c83307"
      },
      "outputs": [
        {
          "output_type": "stream",
          "name": "stdout",
          "text": [
            "Model: \"sequential\"\n",
            "_________________________________________________________________\n",
            " Layer (type)                Output Shape              Param #   \n",
            "=================================================================\n",
            " conv2d (Conv2D)             (None, 222, 222, 10)      280       \n",
            "                                                                 \n",
            " conv2d_1 (Conv2D)           (None, 220, 220, 10)      910       \n",
            "                                                                 \n",
            " max_pooling2d (MaxPooling2D  (None, 110, 110, 10)     0         \n",
            " )                                                               \n",
            "                                                                 \n",
            " conv2d_2 (Conv2D)           (None, 108, 108, 10)      910       \n",
            "                                                                 \n",
            " conv2d_3 (Conv2D)           (None, 106, 106, 10)      910       \n",
            "                                                                 \n",
            " max_pooling2d_1 (MaxPooling  (None, 53, 53, 10)       0         \n",
            " 2D)                                                             \n",
            "                                                                 \n",
            " conv2d_4 (Conv2D)           (None, 51, 51, 10)        910       \n",
            "                                                                 \n",
            " conv2d_5 (Conv2D)           (None, 49, 49, 10)        910       \n",
            "                                                                 \n",
            " max_pooling2d_2 (MaxPooling  (None, 24, 24, 10)       0         \n",
            " 2D)                                                             \n",
            "                                                                 \n",
            " conv2d_6 (Conv2D)           (None, 22, 22, 10)        910       \n",
            "                                                                 \n",
            " conv2d_7 (Conv2D)           (None, 20, 20, 10)        910       \n",
            "                                                                 \n",
            " max_pooling2d_3 (MaxPooling  (None, 10, 10, 10)       0         \n",
            " 2D)                                                             \n",
            "                                                                 \n",
            " flatten (Flatten)           (None, 1000)              0         \n",
            "                                                                 \n",
            " dense (Dense)               (None, 128)               128128    \n",
            "                                                                 \n",
            " dense_1 (Dense)             (None, 1)                 129       \n",
            "                                                                 \n",
            "=================================================================\n",
            "Total params: 134,907\n",
            "Trainable params: 134,907\n",
            "Non-trainable params: 0\n",
            "_________________________________________________________________\n"
          ]
        }
      ],
      "source": [
        "model  = tf.keras.Sequential([\n",
        "                              tf.keras.layers.Conv2D(filters = 10,\n",
        "                                                     kernel_size = (3,3),\n",
        "                                                     activation = 'elu',\n",
        "                                                     input_shape = (224,224,3)\n",
        "                                                      ),\n",
        "                              tf.keras.layers.Conv2D(filters = 10,\n",
        "                                                     kernel_size = (3,3),\n",
        "                                                     activation = 'elu'\n",
        "                                                      ),\n",
        "                              tf.keras.layers.MaxPool2D(pool_size = (2,2)),\n",
        "                              tf.keras.layers.Conv2D(filters = 10,\n",
        "                                                     kernel_size = (3,3),\n",
        "                                                     activation = 'elu'\n",
        "                                                      ),\n",
        "                              tf.keras.layers.Conv2D(filters = 10,\n",
        "                                                     kernel_size = (3,3),\n",
        "                                                     activation = 'elu'\n",
        "                                                      ),\n",
        "                              tf.keras.layers.MaxPool2D(pool_size = (2,2)),\n",
        "                              tf.keras.layers.Conv2D(filters = 10,\n",
        "                                                     kernel_size = (3,3),\n",
        "                                                     activation = 'elu'\n",
        "                                                      ),\n",
        "                              tf.keras.layers.Conv2D(filters = 10,\n",
        "                                                     kernel_size = (3,3),\n",
        "                                                     activation = 'elu'\n",
        "                                                      ),\n",
        "                              tf.keras.layers.MaxPool2D(pool_size = (2,2)),\n",
        "                              tf.keras.layers.Conv2D(filters = 10,\n",
        "                                                     kernel_size = (3,3),\n",
        "                                                     activation = 'elu'\n",
        "                                                      ),\n",
        "                              tf.keras.layers.Conv2D(filters = 10,\n",
        "                                                     kernel_size = (3,3),\n",
        "                                                     activation = 'elu'\n",
        "                                                      ),\n",
        "                              tf.keras.layers.MaxPool2D(pool_size = (2,2)),\n",
        "                              tf.keras.layers.Flatten(),\n",
        "                              tf.keras.layers.Dense(128,activation = 'elu'),\n",
        "                              tf.keras.layers.Dense(1)\n",
        "])\n",
        "model.summary()"
      ]
    },
    {
      "cell_type": "code",
      "execution_count": 23,
      "metadata": {
        "id": "460issfTGa3x"
      },
      "outputs": [],
      "source": [
        "model.compile(loss = tf.keras.losses.mean_squared_error,\n",
        "              optimizer = tf.keras.optimizers.Adam(),\n",
        "              metrics  =['accuracy']\n",
        "              )"
      ]
    },
    {
      "cell_type": "code",
      "execution_count": 24,
      "metadata": {
        "id": "ORi3JhJYQWF4"
      },
      "outputs": [],
      "source": [
        "# Early stopping\n",
        "checkpoint = tf.keras.callbacks.ModelCheckpoint('models/model-{epoch:03d}.h5',\n",
        "                                               monitor = 'val_loss',\n",
        "                                               verbose = 0,\n",
        "                                               save_best_only = True,\n",
        "                                               mode = 'auto')"
      ]
    },
    {
      "cell_type": "code",
      "execution_count": 26,
      "metadata": {
        "id": "XK7-doG1Gu17",
        "colab": {
          "base_uri": "https://localhost:8080/"
        },
        "outputId": "aa718a84-5cc6-49d7-8b09-2e4ab22e8749"
      },
      "outputs": [
        {
          "output_type": "stream",
          "name": "stdout",
          "text": [
            "Epoch 1/5\n",
            "62/62 [==============================] - 176s 3s/step - loss: 0.0380 - accuracy: 0.8464 - val_loss: 0.0510 - val_accuracy: 0.8446\n",
            "Epoch 2/5\n",
            "62/62 [==============================] - 168s 3s/step - loss: 0.0286 - accuracy: 0.8464 - val_loss: 0.0437 - val_accuracy: 0.8446\n",
            "Epoch 3/5\n",
            "62/62 [==============================] - 169s 3s/step - loss: 0.0270 - accuracy: 0.8464 - val_loss: 0.0428 - val_accuracy: 0.8446\n",
            "Epoch 4/5\n",
            "62/62 [==============================] - 161s 3s/step - loss: 0.0252 - accuracy: 0.8464 - val_loss: 0.0486 - val_accuracy: 0.8446\n",
            "Epoch 5/5\n",
            "62/62 [==============================] - 161s 3s/step - loss: 0.0230 - accuracy: 0.8464 - val_loss: 0.0401 - val_accuracy: 0.8446\n"
          ]
        }
      ],
      "source": [
        "history = model.fit(X_train,y_train,\n",
        "                    epochs = 5,\n",
        "                    validation_data = (X_test,y_test),\n",
        "                    validation_steps = len(y_test),\n",
        "                    callbacks = [checkpoint],\n",
        "                    verbose = 1\n",
        "                    )"
      ]
    },
    {
      "cell_type": "code",
      "execution_count": 27,
      "metadata": {
        "id": "EpxXR59VHDf1",
        "colab": {
          "base_uri": "https://localhost:8080/"
        },
        "outputId": "d8da50a4-faea-49e1-96b0-e9153524d750"
      },
      "outputs": [
        {
          "output_type": "stream",
          "name": "stdout",
          "text": [
            "42/42 [==============================] - 27s 642ms/step - loss: 0.0401 - accuracy: 0.8446\n"
          ]
        },
        {
          "output_type": "execute_result",
          "data": {
            "text/plain": [
              "[0.04011119157075882, 0.8445792198181152]"
            ]
          },
          "metadata": {},
          "execution_count": 27
        }
      ],
      "source": [
        "# Evaluate model\n",
        "model.evaluate(X_test,y_test,verbose = 1)"
      ]
    },
    {
      "cell_type": "code",
      "execution_count": 28,
      "metadata": {
        "id": "lcbzS31NJo0O"
      },
      "outputs": [],
      "source": [
        "def plot_loss_curves(history):\n",
        "  '''\n",
        "  Plot seperatly the loss and the accuracy\n",
        "  '''\n",
        "  loss = history.history['loss']\n",
        "  val_loss = history.history['val_loss']\n",
        "  accuracy = history.history['accuracy']\n",
        "  val_accuracy = history.history['val_accuracy']\n",
        "  epochs = range(len(loss))\n",
        "  # Plot loss curve\n",
        "  plt.plot(epochs,loss,label = 'loss')\n",
        "  plt.plot(epochs,val_loss,label = 'val_loss')\n",
        "  plt.title('Loss')\n",
        "  plt.legend()\n",
        "  # Plot accuracy curve\n",
        "  plt.figure()\n",
        "  plt.plot(epochs,accuracy,label = 'accuracy')\n",
        "  plt.plot(epochs,val_accuracy,label = 'val_accuracy')\n",
        "  plt.legend()\n",
        "  plt.title('val_accuracy')\n"
      ]
    },
    {
      "cell_type": "code",
      "execution_count": 29,
      "metadata": {
        "id": "DWibI8kAK033",
        "colab": {
          "base_uri": "https://localhost:8080/",
          "height": 545
        },
        "outputId": "e6d12e10-395a-4285-f58f-22ae303a8277"
      },
      "outputs": [
        {
          "output_type": "display_data",
          "data": {
            "image/png": "[encoded data removed]",
            "text/plain": [
              "<Figure size 432x288 with 1 Axes>"
            ]
          },
          "metadata": {
            "needs_background": "light"
          }
        },
        {
          "output_type": "display_data",
          "data": {
            "image/png": "[encoded data removed]",
            "text/plain": [
              "<Figure size 432x288 with 1 Axes>"
            ]
          },
          "metadata": {
            "needs_background": "light"
          }
        }
      ],
      "source": [
        "plot_loss_curves(history)"
      ]
    },
    {
      "cell_type": "code",
      "execution_count": 30,
      "metadata": {
        "id": "Ptdjzu3CLF36"
      },
      "outputs": [],
      "source": [
        "# Save your model\n",
        "model.save('model5.h5')"
      ]
    },
    {
      "cell_type": "code",
      "execution_count": null,
      "metadata": {
        "id": "lTCAyex9QRyW"
      },
      "outputs": [],
      "source": [
        ""
      ]
    }
  ],
  "metadata": {
    "colab": {
      "collapsed_sections": [],
      "name": "apply_CNN_to_autopilot.ipynb",
      "provenance": [],
      "authorship_tag": "ABX9TyNJpMoxhVjs8R+0kgqmqz9r",
      "include_colab_link": true
    },
    "kernelspec": {
      "display_name": "Python 3",
      "name": "python3"
    },
    "language_info": {
      "name": "python"
    }
  },
  "nbformat": 4,
  "nbformat_minor": 0
}